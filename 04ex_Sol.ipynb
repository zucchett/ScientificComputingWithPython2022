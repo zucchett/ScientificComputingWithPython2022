{
 "cells": [
  {
   "cell_type": "markdown",
   "metadata": {},
   "source": [
    "1\\. **Reductions**\n",
    "\n",
    "Find the total mean, and the mean for each row and column of the following matrix:\n",
    "\n",
    "```python\n",
    "m = np.arange(12).reshape((3,4))\n",
    "```"
   ]
  },
  {
   "cell_type": "code",
   "execution_count": 2,
   "metadata": {},
   "outputs": [],
   "source": [
    "import numpy as np # import naming convention"
   ]
  },
  {
   "cell_type": "code",
   "execution_count": 9,
   "metadata": {},
   "outputs": [
    {
     "name": "stdout",
     "output_type": "stream",
     "text": [
      "[[ 0  1  2  3]\n",
      " [ 4  5  6  7]\n",
      " [ 8  9 10 11]]\n",
      "total mean: 5.5\n",
      "mean for each row: [1.5 5.5 9.5]\n",
      "mean for each column: [4. 5. 6. 7.]\n"
     ]
    }
   ],
   "source": [
    "\n",
    "m = np.arange(12).reshape((3,4))\n",
    "\n",
    "print(m)\n",
    "\n",
    "print(\"total mean:\", np.mean(m))\n",
    "print(\"mean for each row:\", m.mean(axis=1))\n",
    "print(\"mean for each column:\", m.mean(axis=0))"
   ]
  },
  {
   "cell_type": "markdown",
   "metadata": {},
   "source": [
    "2\\. **Outer product**\n",
    "\n",
    "Find the outer product of the following vectors:\n",
    "\n",
    "```python\n",
    "u = np.array([1, 3, 5, 7])\n",
    "v = np.array([2, 4, 6, 8])\n",
    "```\n",
    "\n",
    "Use different methods to do this:\n",
    "\n",
    "   1. Using the function `outer` in numpy\n",
    "   2. Using a nested `for` loop or a list comprehension\n",
    "   3. Using numpy broadcasting operations"
   ]
  },
  {
   "cell_type": "code",
   "execution_count": 24,
   "metadata": {},
   "outputs": [
    {
     "name": "stdout",
     "output_type": "stream",
     "text": [
      "Using the function outer in numpy \n",
      " [[ 2  4  6  8]\n",
      " [ 6 12 18 24]\n",
      " [10 20 30 40]\n",
      " [14 28 42 56]]\n",
      "Using a nested for loop or a list comprehension \n",
      " [[ 2.  4.  6.  8.]\n",
      " [ 6. 12. 18. 24.]\n",
      " [10. 20. 30. 40.]\n",
      " [14. 28. 42. 56.]]\n",
      "Using numpy broadcasting operations \n",
      " [[ 2.  4.  6.  8.]\n",
      " [ 6. 12. 18. 24.]\n",
      " [10. 20. 30. 40.]\n",
      " [14. 28. 42. 56.]]\n"
     ]
    }
   ],
   "source": [
    "u = np.array([1, 3, 5, 7])\n",
    "v = np.array([2, 4, 6, 8])\n",
    "\n",
    "Outerproduct=np.outer(u, v)\n",
    "print('Using the function outer in numpy','\\n',Outerproduct)\n",
    "\n",
    "Outerproduct=np.zeros((4,4))\n",
    "for i in range(len(u)):\n",
    "    for j in range(len(v)):\n",
    "        Outerproduct[i,j]=u[i]*v[j]\n",
    "\n",
    "print('Using a nested for loop or a list comprehension','\\n',Outerproduct)\n",
    "\n",
    "u_transpose = np.tile(np.array(u), (4, 1)).T\n",
    "outer_product = u_transpose * v\n",
    "\n",
    "print('Using numpy broadcasting operations','\\n',Outerproduct)"
   ]
  },
  {
   "cell_type": "markdown",
   "metadata": {},
   "source": [
    "3\\. **Matrix masking**\n",
    "\n",
    "Create a 10 by 6 matrix of float random numbers, distributed between 0 and 3 according to a flat distribution.\n",
    "\n",
    "After creating the matrix, set all entries $< 0.3$ to zero using a mask."
   ]
  },
  {
   "cell_type": "code",
   "execution_count": 36,
   "metadata": {},
   "outputs": [
    {
     "name": "stdout",
     "output_type": "stream",
     "text": [
      "[2.76458494 0.28102318 1.0502028  2.97711887 2.65944019 2.67852396\n",
      " 2.68443269 2.56694574 2.79294969 0.45139262 0.83430191 0.53719178\n",
      " 0.64217667 2.47942003 1.20563419 2.00597833 0.6551912  2.92797448\n",
      " 2.10007543 1.27464329 1.68805036 0.14505651 1.24160315 1.97215403\n",
      " 1.34776996 1.31234675 2.13888246 2.80359014 2.10479976 1.88846225\n",
      " 2.44329047 0.98516807 0.44626937 0.22785728 0.24205829 2.89473412\n",
      " 2.06005661 1.04724806 1.75495064 1.45775698 0.89513926 0.11299018\n",
      " 0.08362903 0.05686156 1.48551171 1.70991696 2.55459065 1.69944102\n",
      " 2.32339752 0.63646155 2.62572644 2.61256861 0.76365042 1.37456104\n",
      " 2.11920137 2.25657669 2.296471   2.81434538 1.56454718 2.41737609] \n",
      "\n",
      "[[2.76458494 0.28102318 1.0502028  2.97711887 2.65944019 2.67852396]\n",
      " [2.68443269 2.56694574 2.79294969 0.45139262 0.83430191 0.53719178]\n",
      " [0.64217667 2.47942003 1.20563419 2.00597833 0.6551912  2.92797448]\n",
      " [2.10007543 1.27464329 1.68805036 0.14505651 1.24160315 1.97215403]\n",
      " [1.34776996 1.31234675 2.13888246 2.80359014 2.10479976 1.88846225]\n",
      " [2.44329047 0.98516807 0.44626937 0.22785728 0.24205829 2.89473412]\n",
      " [2.06005661 1.04724806 1.75495064 1.45775698 0.89513926 0.11299018]\n",
      " [0.08362903 0.05686156 1.48551171 1.70991696 2.55459065 1.69944102]\n",
      " [2.32339752 0.63646155 2.62572644 2.61256861 0.76365042 1.37456104]\n",
      " [2.11920137 2.25657669 2.296471   2.81434538 1.56454718 2.41737609]] \n",
      "\n",
      "the mask: [[False  True False False False False]\n",
      " [False False False False False False]\n",
      " [False False False False False False]\n",
      " [False False False  True False False]\n",
      " [False False False False False False]\n",
      " [False False False  True  True False]\n",
      " [False False False False False  True]\n",
      " [ True  True False False False False]\n",
      " [False False False False False False]\n",
      " [False False False False False False]] \n",
      "\n",
      "[[2.76458494 0.         1.0502028  2.97711887 2.65944019 2.67852396]\n",
      " [2.68443269 2.56694574 2.79294969 0.45139262 0.83430191 0.53719178]\n",
      " [0.64217667 2.47942003 1.20563419 2.00597833 0.6551912  2.92797448]\n",
      " [2.10007543 1.27464329 1.68805036 0.         1.24160315 1.97215403]\n",
      " [1.34776996 1.31234675 2.13888246 2.80359014 2.10479976 1.88846225]\n",
      " [2.44329047 0.98516807 0.44626937 0.         0.         2.89473412]\n",
      " [2.06005661 1.04724806 1.75495064 1.45775698 0.89513926 0.        ]\n",
      " [0.         0.         1.48551171 1.70991696 2.55459065 1.69944102]\n",
      " [2.32339752 0.63646155 2.62572644 2.61256861 0.76365042 1.37456104]\n",
      " [2.11920137 2.25657669 2.296471   2.81434538 1.56454718 2.41737609]] \n",
      "\n"
     ]
    }
   ],
   "source": [
    "import numpy.random as npr\n",
    "a = np.random.uniform(0, 3, 60)\n",
    "\n",
    "print(a,'\\n')\n",
    "\n",
    "matrix = np.reshape(a, (10, 6))\n",
    "print(matrix,'\\n')\n",
    "\n",
    "mask = (matrix < 0.3)\n",
    "print(\"the mask:\", mask, '\\n')\n",
    "\n",
    "matrix[matrix < 0.3] = 0\n",
    "print(matrix,'\\n')\n",
    "\n"
   ]
  },
  {
   "cell_type": "markdown",
   "metadata": {},
   "source": [
    "4\\. **Trigonometric functions**\n",
    "\n",
    "Use `np.linspace` to create an array of 100 numbers between $0$ and $2\\pi$ (inclusive).\n",
    "\n",
    "  * Extract every 10th element using the slice notation\n",
    "  * Reverse the array using the slice notation\n",
    "  * Extract elements where the absolute difference between the `sin` and `cos` functions evaluated for that element is $< 0.1$\n",
    "  * **Optional**: make a plot showing the sin and cos functions and indicate where they are close"
   ]
  },
  {
   "cell_type": "code",
   "execution_count": 37,
   "metadata": {},
   "outputs": [
    {
     "name": "stdout",
     "output_type": "stream",
     "text": [
      "[0.         0.06346652 0.12693304 0.19039955 0.25386607 0.31733259\n",
      " 0.38079911 0.44426563 0.50773215 0.57119866 0.63466518 0.6981317\n",
      " 0.76159822 0.82506474 0.88853126 0.95199777 1.01546429 1.07893081\n",
      " 1.14239733 1.20586385 1.26933037 1.33279688 1.3962634  1.45972992\n",
      " 1.52319644 1.58666296 1.65012947 1.71359599 1.77706251 1.84052903\n",
      " 1.90399555 1.96746207 2.03092858 2.0943951  2.15786162 2.22132814\n",
      " 2.28479466 2.34826118 2.41172769 2.47519421 2.53866073 2.60212725\n",
      " 2.66559377 2.72906028 2.7925268  2.85599332 2.91945984 2.98292636\n",
      " 3.04639288 3.10985939 3.17332591 3.23679243 3.30025895 3.36372547\n",
      " 3.42719199 3.4906585  3.55412502 3.61759154 3.68105806 3.74452458\n",
      " 3.8079911  3.87145761 3.93492413 3.99839065 4.06185717 4.12532369\n",
      " 4.1887902  4.25225672 4.31572324 4.37918976 4.44265628 4.5061228\n",
      " 4.56958931 4.63305583 4.69652235 4.75998887 4.82345539 4.88692191\n",
      " 4.95038842 5.01385494 5.07732146 5.14078798 5.2042545  5.26772102\n",
      " 5.33118753 5.39465405 5.45812057 5.52158709 5.58505361 5.64852012\n",
      " 5.71198664 5.77545316 5.83891968 5.9023862  5.96585272 6.02931923\n",
      " 6.09278575 6.15625227 6.21971879 6.28318531] \n",
      "\n",
      "Every 10th element: \n",
      " [0.         0.63466518 1.26933037 1.90399555 2.53866073 3.17332591\n",
      " 3.8079911  4.44265628 5.07732146 5.71198664] \n",
      "\n",
      "Reverse the array:\n",
      " [6.28318531 6.21971879 6.15625227 6.09278575 6.02931923 5.96585272\n",
      " 5.9023862  5.83891968 5.77545316 5.71198664 5.64852012 5.58505361\n",
      " 5.52158709 5.45812057 5.39465405 5.33118753 5.26772102 5.2042545\n",
      " 5.14078798 5.07732146 5.01385494 4.95038842 4.88692191 4.82345539\n",
      " 4.75998887 4.69652235 4.63305583 4.56958931 4.5061228  4.44265628\n",
      " 4.37918976 4.31572324 4.25225672 4.1887902  4.12532369 4.06185717\n",
      " 3.99839065 3.93492413 3.87145761 3.8079911  3.74452458 3.68105806\n",
      " 3.61759154 3.55412502 3.4906585  3.42719199 3.36372547 3.30025895\n",
      " 3.23679243 3.17332591 3.10985939 3.04639288 2.98292636 2.91945984\n",
      " 2.85599332 2.7925268  2.72906028 2.66559377 2.60212725 2.53866073\n",
      " 2.47519421 2.41172769 2.34826118 2.28479466 2.22132814 2.15786162\n",
      " 2.0943951  2.03092858 1.96746207 1.90399555 1.84052903 1.77706251\n",
      " 1.71359599 1.65012947 1.58666296 1.52319644 1.45972992 1.3962634\n",
      " 1.33279688 1.26933037 1.20586385 1.14239733 1.07893081 1.01546429\n",
      " 0.95199777 0.88853126 0.82506474 0.76159822 0.6981317  0.63466518\n",
      " 0.57119866 0.50773215 0.44426563 0.38079911 0.31733259 0.25386607\n",
      " 0.19039955 0.12693304 0.06346652 0.        ] \n",
      "\n",
      "Extract elements:\n",
      " [0.76159822 0.82506474 3.87145761 3.93492413] \n",
      "\n"
     ]
    },
    {
     "data": {
      "image/png": "[encoded data removed]",
      "text/plain": [
       "<Figure size 432x288 with 1 Axes>"
      ]
     },
     "metadata": {
      "needs_background": "light"
     },
     "output_type": "display_data"
    }
   ],
   "source": [
    "import math\n",
    "from math import pi\n",
    "import matplotlib.pyplot as plt\n",
    "\n",
    "a4 = np.linspace(0,pi*2,num=100)\n",
    "print(a4,'\\n')\n",
    "\n",
    "print(\"Every 10th element: \\n\", a4[::10],'\\n')\n",
    "\n",
    "print(\"Reverse the array:\\n\", a4[::-1],'\\n')\n",
    "\n",
    "print(\"Extract elements:\\n\", np.array([i for i in a4 if abs(math.sin(i)-math.cos(i))<0.1]),'\\n')\n",
    "\n",
    "\n",
    "%matplotlib inline \n",
    "plt.plot(a4, np.sin(a4), a4, np.cos(a4));"
   ]
  },
  {
   "cell_type": "markdown",
   "metadata": {},
   "source": [
    "5\\. **Matrices**\n",
    "\n",
    "Create a matrix that shows the 10 by 10 multiplication table.\n",
    "\n",
    " * Find the trace of the matrix\n",
    " * Extract the anti-diagonal matrix (this should be ```array([10, 18, 24, 28, 30, 30, 28, 24, 18, 10])```)\n",
    " * Extract the diagonal offset by 1 upwards (this should be ```array([ 2,  6, 12, 20, 30, 42, 56, 72, 90])```)"
   ]
  },
  {
   "cell_type": "code",
   "execution_count": 38,
   "metadata": {},
   "outputs": [
    {
     "name": "stdout",
     "output_type": "stream",
     "text": [
      "[[  1   2   3   4   5   6   7   8   9  10]\n",
      " [  2   4   6   8  10  12  14  16  18  20]\n",
      " [  3   6   9  12  15  18  21  24  27  30]\n",
      " [  4   8  12  16  20  24  28  32  36  40]\n",
      " [  5  10  15  20  25  30  35  40  45  50]\n",
      " [  6  12  18  24  30  36  42  48  54  60]\n",
      " [  7  14  21  28  35  42  49  56  63  70]\n",
      " [  8  16  24  32  40  48  56  64  72  80]\n",
      " [  9  18  27  36  45  54  63  72  81  90]\n",
      " [ 10  20  30  40  50  60  70  80  90 100]] \n",
      "\n",
      "The trace of the matrix: 385 \n",
      "\n",
      "the anti-diagonal matrix: [10 18 24 28 30 30 28 24 18 10] \n",
      "\n",
      "the diagonal offset by 1 upwards matrix: [ 2  6 12 20 30 42 56 72 90] \n",
      "\n"
     ]
    }
   ],
   "source": [
    "multiplication_10x10 = np.array([x*y for x in range(1, 11) for y in range(1, 11)]).reshape(10, 10)\n",
    "\n",
    "print(multiplication_10x10,'\\n')\n",
    "\n",
    "print('The trace of the matrix:',multiplication_10x10.trace(),'\\n')\n",
    "\n",
    "anti_diagonal = multiplication_10x10.ravel()[9:-1:9]\n",
    "print('the anti-diagonal matrix:', anti_diagonal,'\\n')\n",
    "\n",
    "diagonal_offset_1 = multiplication_10x10.ravel()[1:-1:11]\n",
    "print('the diagonal offset by 1 upwards matrix:', diagonal_offset_1,'\\n')\n"
   ]
  },
  {
   "cell_type": "markdown",
   "metadata": {},
   "source": [
    "6\\. **Broadcasting**\n",
    "\n",
    "Use broadcasting to create a grid of distances.\n",
    "\n",
    "Route 66 crosses the following cities in the US: Chicago, Springfield, Saint-Louis, Tulsa, Oklahoma City, Amarillo, Santa Fe, Albuquerque, Flagstaff, Los Angeles.\n",
    "\n",
    "The corresponding positions in miles are: 0, 198, 303, 736, 871, 1175, 1475, 1544, 1913, 2448\n",
    "\n",
    "  * Build a 2D grid of distances among each city along Route 66\n",
    "  * Convert the distances in km"
   ]
  },
  {
   "cell_type": "code",
   "execution_count": 39,
   "metadata": {},
   "outputs": [
    {
     "name": "stdout",
     "output_type": "stream",
     "text": [
      "The grid of distances in miles is:\n",
      "[[    0   198   303   736   871  1175  1475  1544  1913  2448]\n",
      " [ -198     0   105   538   673   977  1277  1346  1715  2250]\n",
      " [ -303  -105     0   433   568   872  1172  1241  1610  2145]\n",
      " [ -736  -538  -433     0   135   439   739   808  1177  1712]\n",
      " [ -871  -673  -568  -135     0   304   604   673  1042  1577]\n",
      " [-1175  -977  -872  -439  -304     0   300   369   738  1273]\n",
      " [-1475 -1277 -1172  -739  -604  -300     0    69   438   973]\n",
      " [-1544 -1346 -1241  -808  -673  -369   -69     0   369   904]\n",
      " [-1913 -1715 -1610 -1177 -1042  -738  -438  -369     0   535]\n",
      " [-2448 -2250 -2145 -1712 -1577 -1273  -973  -904  -535     0]] \n",
      "\n",
      "The grid of distances in kilometers is:\n",
      "None\n",
      "[[    0.      318.582   487.527  1184.224  1401.439  1890.575  2373.275\n",
      "   2484.296  3078.017  3938.832]\n",
      " [ -318.582     0.      168.945   865.642  1082.857  1571.993  2054.693\n",
      "   2165.714  2759.435  3620.25 ]\n",
      " [ -487.527  -168.945     0.      696.697   913.912  1403.048  1885.748\n",
      "   1996.769  2590.49   3451.305]\n",
      " [-1184.224  -865.642  -696.697     0.      217.215   706.351  1189.051\n",
      "   1300.072  1893.793  2754.608]\n",
      " [-1401.439 -1082.857  -913.912  -217.215     0.      489.136   971.836\n",
      "   1082.857  1676.578  2537.393]\n",
      " [-1890.575 -1571.993 -1403.048  -706.351  -489.136     0.      482.7\n",
      "    593.721  1187.442  2048.257]\n",
      " [-2373.275 -2054.693 -1885.748 -1189.051  -971.836  -482.7       0.\n",
      "    111.021   704.742  1565.557]\n",
      " [-2484.296 -2165.714 -1996.769 -1300.072 -1082.857  -593.721  -111.021\n",
      "      0.      593.721  1454.536]\n",
      " [-3078.017 -2759.435 -2590.49  -1893.793 -1676.578 -1187.442  -704.742\n",
      "   -593.721     0.      860.815]\n",
      " [-3938.832 -3620.25  -3451.305 -2754.608 -2537.393 -2048.257 -1565.557\n",
      "  -1454.536  -860.815     0.   ]]\n"
     ]
    }
   ],
   "source": [
    "Route_66=np.array([0, 198, 303, 736, 871, 1175, 1475, 1544, 1913, 2448])\n",
    "distance=(Route_66-np.reshape(Route_66,(len(Route_66),1)))\n",
    "print('The grid of distances in miles is:')\n",
    "print(distance,'\\n')\n",
    "distance_KM=distance*1.609\n",
    "print(print('The grid of distances in kilometers is:'))\n",
    "print(distance_KM)"
   ]
  },
  {
   "cell_type": "markdown",
   "metadata": {},
   "source": [
    "7\\. **Prime numbers sieve**\n",
    "\n",
    "Compute the prime numbers in the 0-N (start with N=99) range with a sieve (mask).\n",
    "\n",
    "  * Constract a shape (N,) boolean array, which is the mask\n",
    "  * Identify the multiples of each number starting from 2 and set accordingly the corresponding mask element\n",
    "  * Apply the mask to obtain an array of ordered prime numbers\n",
    "  * Check the performances (with `timeit`); how does it scale with N?\n",
    "  * Implement the optimization suggested in the [sieve of Eratosthenes](https://en.wikipedia.org/wiki/Sieve_of_Eratosthenes)"
   ]
  },
  {
   "cell_type": "code",
   "execution_count": null,
   "metadata": {},
   "outputs": [],
   "source": []
  },
  {
   "cell_type": "markdown",
   "metadata": {},
   "source": [
    "8\\. **Diffusion using random walk**\n",
    "\n",
    "Consider a simple random walk process: at each step in time, a walker jumps right or left (+1 or -1) with equal probability. The goal is to find the typical distance from the origin of many random walkers after a given amount of time.\n",
    "\n",
    "*Hint*: create a 2D array where each row represents a walker, and each column represents a time step.\n",
    "\n",
    "  * Take 1000 walkers and let them walk for 200 steps\n",
    "  * Use `randint` to create a 2D array of size $walkers \\times steps$ with values -1 or 1\n",
    "  * Calculate the walking distances for each walker (e.g. by summing the elements in each row)\n",
    "  * Take the square of the previously-obtained array (element-wise)\n",
    "  * Compute the mean of the squared distances at each step (i.e. the mean along the columns)\n",
    "  * **Optional**: plot the average distances ($\\sqrt(distance^2)$) as a function of time (step)"
   ]
  },
  {
   "cell_type": "code",
   "execution_count": null,
   "metadata": {},
   "outputs": [],
   "source": []
  }
 ],
 "metadata": {
  "kernelspec": {
   "display_name": "Python 3",
   "language": "python",
   "name": "python3"
  },
  "language_info": {
   "codemirror_mode": {
    "name": "ipython",
    "version": 3
   },
   "file_extension": ".py",
   "mimetype": "text/x-python",
   "name": "python",
   "nbconvert_exporter": "python",
   "pygments_lexer": "ipython3",
   "version": "3.8.8"
  }
 },
 "nbformat": 4,
 "nbformat_minor": 2
}
