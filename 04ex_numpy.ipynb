{
  "nbformat": 4,
  "nbformat_minor": 0,
  "metadata": {
    "colab": {
      "provenance": []
    },
    "kernelspec": {
      "name": "python3",
      "display_name": "Python 3"
    },
    "language_info": {
      "name": "python"
    }
  },
  "cells": [
    {
      "cell_type": "code",
      "execution_count": null,
      "metadata": {
        "id": "M6_kMxp3cGUV"
      },
      "outputs": [],
      "source": [
        "import  numpy as np"
      ]
    },
    {
      "cell_type": "markdown",
      "source": [
        "ex1\n",
        "total mean :"
      ],
      "metadata": {
        "id": "1hETZT9UcbdR"
      }
    },
    {
      "cell_type": "code",
      "source": [
        "m = np.arange(12).reshape((3,4))\n",
        "print(m)"
      ],
      "metadata": {
        "colab": {
          "base_uri": "https://localhost:8080/"
        },
        "id": "KGYsmE0-cTVx",
        "outputId": "560cdeab-d8b0-45a9-b2de-7e43164c4b18"
      },
      "execution_count": null,
      "outputs": [
        {
          "output_type": "stream",
          "name": "stdout",
          "text": [
            "[[ 0  1  2  3]\n",
            " [ 4  5  6  7]\n",
            " [ 8  9 10 11]]\n"
          ]
        }
      ]
    },
    {
      "cell_type": "code",
      "source": [
        "t=m.shape[0]*m.shape[1]\n",
        "t"
      ],
      "metadata": {
        "colab": {
          "base_uri": "https://localhost:8080/"
        },
        "id": "twE4_5DqdmG6",
        "outputId": "a298bcdd-d41c-46e5-c8d2-f2015ebd90a1"
      },
      "execution_count": null,
      "outputs": [
        {
          "output_type": "execute_result",
          "data": {
            "text/plain": [
              "12"
            ]
          },
          "metadata": {},
          "execution_count": 3
        }
      ]
    },
    {
      "cell_type": "code",
      "source": [
        "a=m.sum()\n",
        "total_mean=a/t\n",
        "print(f' total mean is {total_mean}')"
      ],
      "metadata": {
        "colab": {
          "base_uri": "https://localhost:8080/"
        },
        "id": "R2jRVOiccTam",
        "outputId": "12e43fda-15dc-42aa-9c12-53f23fd50a54"
      },
      "execution_count": null,
      "outputs": [
        {
          "output_type": "stream",
          "name": "stdout",
          "text": [
            " total mean is 5.5\n"
          ]
        }
      ]
    },
    {
      "cell_type": "markdown",
      "source": [
        "calculate mean for each column:"
      ],
      "metadata": {
        "id": "7WMyvqIBebBx"
      }
    },
    {
      "cell_type": "code",
      "source": [
        "m"
      ],
      "metadata": {
        "colab": {
          "base_uri": "https://localhost:8080/"
        },
        "id": "c6G7OvVJe7jN",
        "outputId": "d62a757a-3658-41a7-f808-e48a3f943d26"
      },
      "execution_count": null,
      "outputs": [
        {
          "output_type": "execute_result",
          "data": {
            "text/plain": [
              "array([[ 0,  1,  2,  3],\n",
              "       [ 4,  5,  6,  7],\n",
              "       [ 8,  9, 10, 11]])"
            ]
          },
          "metadata": {},
          "execution_count": 5
        }
      ]
    },
    {
      "cell_type": "code",
      "source": [
        "#just show the columns in new form and use that to calclate the mean for each column\n",
        "for i in range(m.shape[1]):\n",
        "  print(m[:,i])"
      ],
      "metadata": {
        "colab": {
          "base_uri": "https://localhost:8080/"
        },
        "id": "_5bargHmefxB",
        "outputId": "018d0667-a3b1-4d1c-c638-0f1a1e649ee3"
      },
      "execution_count": null,
      "outputs": [
        {
          "output_type": "stream",
          "name": "stdout",
          "text": [
            "[0 4 8]\n",
            "[1 5 9]\n",
            "[ 2  6 10]\n",
            "[ 3  7 11]\n"
          ]
        }
      ]
    },
    {
      "cell_type": "code",
      "source": [
        "for i in range(m.shape[1]):\n",
        "  print((m[:,i].sum())/m.shape[0])"
      ],
      "metadata": {
        "colab": {
          "base_uri": "https://localhost:8080/"
        },
        "id": "xOyHlWlvfIoQ",
        "outputId": "65627793-5459-4bcc-9dc7-cb9575cfb93a"
      },
      "execution_count": null,
      "outputs": [
        {
          "output_type": "stream",
          "name": "stdout",
          "text": [
            "4.0\n",
            "5.0\n",
            "6.0\n",
            "7.0\n"
          ]
        }
      ]
    },
    {
      "cell_type": "markdown",
      "source": [
        "calculate mean for each row:\n"
      ],
      "metadata": {
        "id": "gVo0f9MJfbiW"
      }
    },
    {
      "cell_type": "code",
      "source": [
        "#just show the roes in new form and use that to calclate the mean for each row.\n",
        "\n",
        "for i in range(m.shape[0]):\n",
        "  print(m[i,:])"
      ],
      "metadata": {
        "colab": {
          "base_uri": "https://localhost:8080/"
        },
        "id": "lhB9yvO9gAcc",
        "outputId": "7b2858eb-cc8b-4f35-ada9-baca397f76bf"
      },
      "execution_count": null,
      "outputs": [
        {
          "output_type": "stream",
          "name": "stdout",
          "text": [
            "[0 1 2 3]\n",
            "[4 5 6 7]\n",
            "[ 8  9 10 11]\n"
          ]
        }
      ]
    },
    {
      "cell_type": "code",
      "source": [
        "for i in range(m.shape[0]):\n",
        "  print((m[i,:].sum())/m.shape[1])"
      ],
      "metadata": {
        "colab": {
          "base_uri": "https://localhost:8080/"
        },
        "id": "qSmocmRhgJ8e",
        "outputId": "3651f6fc-dc5e-4441-8d90-baa974177aa5"
      },
      "execution_count": null,
      "outputs": [
        {
          "output_type": "stream",
          "name": "stdout",
          "text": [
            "1.5\n",
            "5.5\n",
            "9.5\n"
          ]
        }
      ]
    },
    {
      "cell_type": "markdown",
      "source": [
        "ex 2:\n",
        "Find the outer product of the following vectors:\n"
      ],
      "metadata": {
        "id": "A9B-rACXgV5_"
      }
    },
    {
      "cell_type": "code",
      "source": [
        "u = np.array([1, 3, 5, 7])\n",
        "v = np.array([2, 4, 6, 8])"
      ],
      "metadata": {
        "id": "dUf0TfTIgaY5"
      },
      "execution_count": null,
      "outputs": []
    },
    {
      "cell_type": "markdown",
      "source": [
        "Using the function outer in numpy:\n"
      ],
      "metadata": {
        "id": "CDk4Gh9bgjxp"
      }
    },
    {
      "cell_type": "code",
      "source": [
        "outer_product=np.outer(u,v)\n",
        "print(outer_product)"
      ],
      "metadata": {
        "colab": {
          "base_uri": "https://localhost:8080/"
        },
        "id": "vGAd40zghCv-",
        "outputId": "ce771d98-fd84-4df1-f8dc-48d596cd0f8a"
      },
      "execution_count": null,
      "outputs": [
        {
          "output_type": "stream",
          "name": "stdout",
          "text": [
            "[[ 2  4  6  8]\n",
            " [ 6 12 18 24]\n",
            " [10 20 30 40]\n",
            " [14 28 42 56]]\n"
          ]
        }
      ]
    },
    {
      "cell_type": "markdown",
      "source": [
        "Using a nested for loop:"
      ],
      "metadata": {
        "id": "KebUJEZ-imrp"
      }
    },
    {
      "cell_type": "code",
      "source": [
        "u.shape[0]"
      ],
      "metadata": {
        "colab": {
          "base_uri": "https://localhost:8080/"
        },
        "id": "G6o79k8PjEl8",
        "outputId": "f89255b5-2097-420f-a395-6f12b66785f1"
      },
      "execution_count": null,
      "outputs": [
        {
          "output_type": "execute_result",
          "data": {
            "text/plain": [
              "4"
            ]
          },
          "metadata": {},
          "execution_count": 12
        }
      ]
    },
    {
      "cell_type": "code",
      "source": [
        "outerproduct=np.ones((u.shape[0],v.shape[0]))\n",
        "for i in range(u.shape[0]):\n",
        "  #print('dhh',u[i])\n",
        "  for j in range(v.shape[0]):\n",
        "    #print(v[j])\n",
        "    outerproduct[i][j]=int(u[i]*v[j])\n",
        "print(outerproduct)\n",
        "\n"
      ],
      "metadata": {
        "colab": {
          "base_uri": "https://localhost:8080/"
        },
        "id": "5JZLBgCPioBw",
        "outputId": "3114d3bd-827b-4a1a-861d-3ed2b59eea64"
      },
      "execution_count": null,
      "outputs": [
        {
          "output_type": "stream",
          "name": "stdout",
          "text": [
            "[[ 2.  4.  6.  8.]\n",
            " [ 6. 12. 18. 24.]\n",
            " [10. 20. 30. 40.]\n",
            " [14. 28. 42. 56.]]\n"
          ]
        }
      ]
    },
    {
      "cell_type": "markdown",
      "source": [
        "Using numpy broadcasting operations:\n"
      ],
      "metadata": {
        "id": "N5kZVMIGoTt7"
      }
    },
    {
      "cell_type": "code",
      "source": [
        "print(u.shape)"
      ],
      "metadata": {
        "id": "VxQ2Ae5moU5F",
        "outputId": "720a5895-1703-47b3-c7f7-72f68f448f7b",
        "colab": {
          "base_uri": "https://localhost:8080/"
        }
      },
      "execution_count": null,
      "outputs": [
        {
          "output_type": "stream",
          "name": "stdout",
          "text": [
            "(4,)\n"
          ]
        }
      ]
    },
    {
      "cell_type": "code",
      "source": [
        "t=v.reshape((1,4))\n",
        "t"
      ],
      "metadata": {
        "id": "CrHE_RJFo_uQ",
        "outputId": "515679dd-39bf-42f3-8c44-60696c79c625",
        "colab": {
          "base_uri": "https://localhost:8080/"
        }
      },
      "execution_count": null,
      "outputs": [
        {
          "output_type": "execute_result",
          "data": {
            "text/plain": [
              "array([[2, 4, 6, 8]])"
            ]
          },
          "metadata": {},
          "execution_count": 15
        }
      ]
    },
    {
      "cell_type": "code",
      "source": [
        "U=u.reshape((4,1))\n",
        "U"
      ],
      "metadata": {
        "id": "0NhOYb-vrItT",
        "outputId": "f5549b30-2fcd-45c3-c5c2-1926b3f941a1",
        "colab": {
          "base_uri": "https://localhost:8080/"
        }
      },
      "execution_count": null,
      "outputs": [
        {
          "output_type": "execute_result",
          "data": {
            "text/plain": [
              "array([[1],\n",
              "       [3],\n",
              "       [5],\n",
              "       [7]])"
            ]
          },
          "metadata": {},
          "execution_count": 16
        }
      ]
    },
    {
      "cell_type": "code",
      "source": [
        "pp=t*U\n",
        "print(pp)"
      ],
      "metadata": {
        "id": "BzEKOQvtpggF",
        "outputId": "50b32647-1739-4923-cd5e-41c514480fa7",
        "colab": {
          "base_uri": "https://localhost:8080/"
        }
      },
      "execution_count": null,
      "outputs": [
        {
          "output_type": "stream",
          "name": "stdout",
          "text": [
            "[[ 2  4  6  8]\n",
            " [ 6 12 18 24]\n",
            " [10 20 30 40]\n",
            " [14 28 42 56]]\n"
          ]
        }
      ]
    },
    {
      "cell_type": "markdown",
      "source": [
        "ex 3\n",
        " Matrix masking\n",
        "\n"
      ],
      "metadata": {
        "id": "YoK2H3_-_9JN"
      }
    },
    {
      "cell_type": "code",
      "source": [
        "matrix=np.random.uniform(0,3,(6,10))\n",
        "my_mask=(matrix<0.3)\n",
        "print(my_mask)\n",
        "t=matrix[my_mask]=0\n",
        "print('---------------------------')\n",
        "print(matrix)"
      ],
      "metadata": {
        "id": "ekhQyPlr__7C",
        "outputId": "831e8e8c-5ee6-459e-809c-c25941990818",
        "colab": {
          "base_uri": "https://localhost:8080/"
        }
      },
      "execution_count": null,
      "outputs": [
        {
          "output_type": "stream",
          "name": "stdout",
          "text": [
            "[[False False False False False  True False False False False]\n",
            " [False False  True False False False  True False False  True]\n",
            " [False False  True  True False False False False False  True]\n",
            " [False False False False False False False False False False]\n",
            " [False False False False  True False False False False False]\n",
            " [False False False False False False False False False False]]\n",
            "---------------------------\n",
            "[[1.39134764 2.73437419 1.28327943 0.74992109 0.34334824 0.\n",
            "  1.4855762  2.01947032 2.54980425 2.46949901]\n",
            " [0.59349436 0.82743504 0.         2.5685099  1.27815089 2.47186013\n",
            "  0.         2.11593107 1.234671   0.        ]\n",
            " [2.29499198 1.93960597 0.         0.         0.96072653 1.77735392\n",
            "  1.56966137 2.08359847 2.69466493 0.        ]\n",
            " [2.62533524 1.04067169 1.85613024 1.87067818 1.80314279 2.2197081\n",
            "  2.75632111 1.06834417 0.56133639 0.40150725]\n",
            " [2.66146827 2.92172991 0.50354821 2.8964032  0.         0.69790058\n",
            "  2.66976578 0.74543118 1.3790133  2.86712917]\n",
            " [2.05057704 1.82392086 0.76174942 0.61569047 2.36996499 2.5300741\n",
            "  0.88163346 1.23549442 1.68666884 1.05283494]]\n"
          ]
        }
      ]
    },
    {
      "cell_type": "markdown",
      "source": [
        "ex 4\n",
        "Trigonometric functions"
      ],
      "metadata": {
        "id": "z07KfFQiEW6l"
      }
    },
    {
      "cell_type": "code",
      "source": [
        "import math\n",
        "x=np.linspace(0,2*math.pi,100)\n",
        "x.shape"
      ],
      "metadata": {
        "id": "SK6jG5dSE7Nw",
        "outputId": "9ee7068b-bd7e-42bf-d645-a1d3d05f3fc8",
        "colab": {
          "base_uri": "https://localhost:8080/"
        }
      },
      "execution_count": null,
      "outputs": [
        {
          "output_type": "execute_result",
          "data": {
            "text/plain": [
              "(100,)"
            ]
          },
          "metadata": {},
          "execution_count": 19
        }
      ]
    },
    {
      "cell_type": "markdown",
      "source": [
        "Extract every 10th element using the slice notation"
      ],
      "metadata": {
        "id": "wQuMsUWDFWUO"
      }
    },
    {
      "cell_type": "code",
      "source": [
        "#with for loop\n",
        "mylist=[next]\n",
        "i=0\n",
        "while i<x.shape[0]:\n",
        "  mylist.append(x[i])\n",
        "  i+=10\n",
        "print(mylist)\n"
      ],
      "metadata": {
        "id": "N9lzE9WsFW08",
        "outputId": "fef2e6c8-ab3b-4731-ac24-53b56228c7fa",
        "colab": {
          "base_uri": "https://localhost:8080/"
        }
      },
      "execution_count": null,
      "outputs": [
        {
          "output_type": "stream",
          "name": "stdout",
          "text": [
            "[<built-in function next>, 0.0, 0.6346651825433925, 1.269330365086785, 1.9039955476301778, 2.53866073017357, 3.173325912716963, 3.8079910952603555, 4.442656277803748, 5.07732146034714, 5.711986642890533]\n"
          ]
        }
      ]
    },
    {
      "cell_type": "markdown",
      "source": [
        "Extract every 10th element using the slice notation\n"
      ],
      "metadata": {
        "id": "31Odql9DIQTy"
      }
    },
    {
      "cell_type": "code",
      "source": [
        "secondlist=[]\n",
        "secondlist=x[::10]\n",
        "print(f'every 10th elemt in x {secondlist}')"
      ],
      "metadata": {
        "id": "ryycDo7RG-Bq",
        "outputId": "b576883f-9c42-4458-c66a-4c23ea1d7db4",
        "colab": {
          "base_uri": "https://localhost:8080/"
        }
      },
      "execution_count": null,
      "outputs": [
        {
          "output_type": "stream",
          "name": "stdout",
          "text": [
            "every 10th elemt in x [0.         0.63466518 1.26933037 1.90399555 2.53866073 3.17332591\n",
            " 3.8079911  4.44265628 5.07732146 5.71198664]\n"
          ]
        }
      ]
    },
    {
      "cell_type": "markdown",
      "source": [
        "Reverse the array using the slice notation\n"
      ],
      "metadata": {
        "id": "YSMOv-HKJ_iO"
      }
    },
    {
      "cell_type": "code",
      "source": [
        "reverse=x[::-1]\n",
        "print(f'reverse of the array x :/n {reverse}')"
      ],
      "metadata": {
        "id": "HtdexEMEKAJl",
        "outputId": "9d574dc9-6dab-46b9-dda0-886c672829e6",
        "colab": {
          "base_uri": "https://localhost:8080/"
        }
      },
      "execution_count": null,
      "outputs": [
        {
          "output_type": "stream",
          "name": "stdout",
          "text": [
            "reverse of the array x :/n [6.28318531 6.21971879 6.15625227 6.09278575 6.02931923 5.96585272\n",
            " 5.9023862  5.83891968 5.77545316 5.71198664 5.64852012 5.58505361\n",
            " 5.52158709 5.45812057 5.39465405 5.33118753 5.26772102 5.2042545\n",
            " 5.14078798 5.07732146 5.01385494 4.95038842 4.88692191 4.82345539\n",
            " 4.75998887 4.69652235 4.63305583 4.56958931 4.5061228  4.44265628\n",
            " 4.37918976 4.31572324 4.25225672 4.1887902  4.12532369 4.06185717\n",
            " 3.99839065 3.93492413 3.87145761 3.8079911  3.74452458 3.68105806\n",
            " 3.61759154 3.55412502 3.4906585  3.42719199 3.36372547 3.30025895\n",
            " 3.23679243 3.17332591 3.10985939 3.04639288 2.98292636 2.91945984\n",
            " 2.85599332 2.7925268  2.72906028 2.66559377 2.60212725 2.53866073\n",
            " 2.47519421 2.41172769 2.34826118 2.28479466 2.22132814 2.15786162\n",
            " 2.0943951  2.03092858 1.96746207 1.90399555 1.84052903 1.77706251\n",
            " 1.71359599 1.65012947 1.58666296 1.52319644 1.45972992 1.3962634\n",
            " 1.33279688 1.26933037 1.20586385 1.14239733 1.07893081 1.01546429\n",
            " 0.95199777 0.88853126 0.82506474 0.76159822 0.6981317  0.63466518\n",
            " 0.57119866 0.50773215 0.44426563 0.38079911 0.31733259 0.25386607\n",
            " 0.19039955 0.12693304 0.06346652 0.        ]\n"
          ]
        }
      ]
    },
    {
      "cell_type": "markdown",
      "source": [
        "Extract elements where the absolute difference between the sin and cos functions evaluated for that element is <0.1"
      ],
      "metadata": {
        "id": "EvKRf97cKcKT"
      }
    },
    {
      "cell_type": "code",
      "source": [
        "mask2=x[abs(np.sin(x)-np.cos(x))<0.1]\n",
        "print([abs(np.sin(x)-np.cos(x))<0.1])\n",
        "print(\"\\r\\n\")\n",
        "print(x[abs(np.sin(x)-np.cos(x))<0.1])\n",
        "\n"
      ],
      "metadata": {
        "id": "6aayGDAbKfA3",
        "outputId": "13bcdae2-81ad-4250-e1b0-304180a4c635",
        "colab": {
          "base_uri": "https://localhost:8080/"
        }
      },
      "execution_count": null,
      "outputs": [
        {
          "output_type": "stream",
          "name": "stdout",
          "text": [
            "[array([False, False, False, False, False, False, False, False, False,\n",
            "       False, False, False,  True,  True, False, False, False, False,\n",
            "       False, False, False, False, False, False, False, False, False,\n",
            "       False, False, False, False, False, False, False, False, False,\n",
            "       False, False, False, False, False, False, False, False, False,\n",
            "       False, False, False, False, False, False, False, False, False,\n",
            "       False, False, False, False, False, False, False,  True,  True,\n",
            "       False, False, False, False, False, False, False, False, False,\n",
            "       False, False, False, False, False, False, False, False, False,\n",
            "       False, False, False, False, False, False, False, False, False,\n",
            "       False, False, False, False, False, False, False, False, False,\n",
            "       False])]\n",
            "\r\n",
            "\n",
            "[0.76159822 0.82506474 3.87145761 3.93492413]\n"
          ]
        }
      ]
    },
    {
      "cell_type": "markdown",
      "source": [
        "ex 5\n",
        "Create a matrix that shows the 10 by 10 multiplication table. "
      ],
      "metadata": {
        "id": "lqpoMaAONacv"
      }
    },
    {
      "cell_type": "code",
      "source": [
        "def mult_table(n):\n",
        "    rng = np.arange(1, n+1)\n",
        "    return rng * rng[:, None]\n",
        "t=mult_table(10)\n",
        "print(t)"
      ],
      "metadata": {
        "id": "VYqR8oNLPj83",
        "outputId": "151b3bb8-784e-4499-dbad-4a02ae60a3b9",
        "colab": {
          "base_uri": "https://localhost:8080/"
        }
      },
      "execution_count": null,
      "outputs": [
        {
          "output_type": "stream",
          "name": "stdout",
          "text": [
            "[[  1   2   3   4   5   6   7   8   9  10]\n",
            " [  2   4   6   8  10  12  14  16  18  20]\n",
            " [  3   6   9  12  15  18  21  24  27  30]\n",
            " [  4   8  12  16  20  24  28  32  36  40]\n",
            " [  5  10  15  20  25  30  35  40  45  50]\n",
            " [  6  12  18  24  30  36  42  48  54  60]\n",
            " [  7  14  21  28  35  42  49  56  63  70]\n",
            " [  8  16  24  32  40  48  56  64  72  80]\n",
            " [  9  18  27  36  45  54  63  72  81  90]\n",
            " [ 10  20  30  40  50  60  70  80  90 100]]\n"
          ]
        }
      ]
    },
    {
      "cell_type": "code",
      "source": [
        "trace=np.trace(t)\n",
        "print(f'the trace of 10 by 10 multiplication table is : {trace}')"
      ],
      "metadata": {
        "id": "B4wlwysCQYr8",
        "outputId": "55109724-0768-44e6-e2f7-4585bcd2d02f",
        "colab": {
          "base_uri": "https://localhost:8080/"
        }
      },
      "execution_count": null,
      "outputs": [
        {
          "output_type": "stream",
          "name": "stdout",
          "text": [
            "the trace of 10 by 10 multiplication table is : 385\n"
          ]
        }
      ]
    },
    {
      "cell_type": "markdown",
      "source": [
        "Extract the anti-diagonal matrix (this should be array([10, 18, 24, 28, 30, 30, 28, 24, 18, 10]))\n",
        "\n"
      ],
      "metadata": {
        "id": "5PpBdEONRIAb"
      }
    },
    {
      "cell_type": "code",
      "source": [
        "anti=np.flipud(t)\n",
        "antidiagonal=np.diagonal(anti)\n",
        "print(f'the trace of 10 by 10 multiplication table is : {antidiagonal}')"
      ],
      "metadata": {
        "id": "nep4E2cuRJ7G",
        "outputId": "3934b3fb-d58c-42df-a724-d3e0f831d4a3",
        "colab": {
          "base_uri": "https://localhost:8080/"
        }
      },
      "execution_count": null,
      "outputs": [
        {
          "output_type": "stream",
          "name": "stdout",
          "text": [
            "the trace of 10 by 10 multiplication table is : [10 18 24 28 30 30 28 24 18 10]\n"
          ]
        }
      ]
    },
    {
      "cell_type": "markdown",
      "source": [
        "Extract the diagonal offset by 1 upwards (this should be array([ 2, 6, 12, 20, 30, 42, 56, 72, 90]))\n"
      ],
      "metadata": {
        "id": "Dii2YALjSXRb"
      }
    },
    {
      "cell_type": "code",
      "source": [
        "offset=np.diagonal(t,offset=1)\n",
        "print(f'the trace of 10 by 10 multiplication table is : {offset}')"
      ],
      "metadata": {
        "id": "X_9p2hyPSX3x",
        "outputId": "4d3b19b2-c469-4fda-9959-8bd970b1ded9",
        "colab": {
          "base_uri": "https://localhost:8080/"
        }
      },
      "execution_count": null,
      "outputs": [
        {
          "output_type": "stream",
          "name": "stdout",
          "text": [
            "the trace of 10 by 10 multiplication table is : [ 2  6 12 20 30 42 56 72 90]\n"
          ]
        }
      ]
    },
    {
      "cell_type": "markdown",
      "source": [
        "ex 6\n",
        "Broadcasting"
      ],
      "metadata": {
        "id": "8X6axoe_TMT-"
      }
    },
    {
      "cell_type": "code",
      "source": [
        "#gird with nested for\n",
        "grid=np.zeros((10,10))\n",
        "positions=np.array([0, 198, 303, 736, 871, 1175, 1475, 1544, 1913, 2448])\n",
        "for i in range(grid.shape[0]):\n",
        "  for j in range(grid.shape[1]):\n",
        "    grid[i][j]=abs(positions[i]-positions[j])\n",
        "print(grid)\n",
        "print(grid.shape)"
      ],
      "metadata": {
        "id": "vlWwAg54TN4y",
        "outputId": "a89709a7-e9db-4a75-9c06-b25a5f92f92c",
        "colab": {
          "base_uri": "https://localhost:8080/"
        }
      },
      "execution_count": null,
      "outputs": [
        {
          "output_type": "stream",
          "name": "stdout",
          "text": [
            "[[   0.  198.  303.  736.  871. 1175. 1475. 1544. 1913. 2448.]\n",
            " [ 198.    0.  105.  538.  673.  977. 1277. 1346. 1715. 2250.]\n",
            " [ 303.  105.    0.  433.  568.  872. 1172. 1241. 1610. 2145.]\n",
            " [ 736.  538.  433.    0.  135.  439.  739.  808. 1177. 1712.]\n",
            " [ 871.  673.  568.  135.    0.  304.  604.  673. 1042. 1577.]\n",
            " [1175.  977.  872.  439.  304.    0.  300.  369.  738. 1273.]\n",
            " [1475. 1277. 1172.  739.  604.  300.    0.   69.  438.  973.]\n",
            " [1544. 1346. 1241.  808.  673.  369.   69.    0.  369.  904.]\n",
            " [1913. 1715. 1610. 1177. 1042.  738.  438.  369.    0.  535.]\n",
            " [2448. 2250. 2145. 1712. 1577. 1273.  973.  904.  535.    0.]]\n",
            "(10, 10)\n"
          ]
        }
      ]
    },
    {
      "cell_type": "markdown",
      "source": [
        "with boradcasting:"
      ],
      "metadata": {
        "id": "vu3h3Q3Mcny4"
      }
    },
    {
      "cell_type": "code",
      "source": [
        "f1=np.array([[0, 198, 303, 736, 871, 1175, 1475, 1544, 1913, 2448]])\n",
        "f2=np.array([[0, 198, 303, 736, 871, 1175, 1475, 1544, 1913, 2448]])\n",
        "f3=f2.reshape((10,1))\n",
        "print(f3)"
      ],
      "metadata": {
        "id": "UGGaYI_BcprT",
        "outputId": "acfa3ec5-18c5-4922-8282-ae083ea576c4",
        "colab": {
          "base_uri": "https://localhost:8080/"
        }
      },
      "execution_count": null,
      "outputs": [
        {
          "output_type": "stream",
          "name": "stdout",
          "text": [
            "[[   0]\n",
            " [ 198]\n",
            " [ 303]\n",
            " [ 736]\n",
            " [ 871]\n",
            " [1175]\n",
            " [1475]\n",
            " [1544]\n",
            " [1913]\n",
            " [2448]]\n"
          ]
        }
      ]
    },
    {
      "cell_type": "code",
      "source": [
        "final=abs(f3-f2)\n",
        "print(final)"
      ],
      "metadata": {
        "id": "l9OWQa0jdFmv",
        "outputId": "47185dab-9959-464b-fece-120b09e33add",
        "colab": {
          "base_uri": "https://localhost:8080/"
        }
      },
      "execution_count": null,
      "outputs": [
        {
          "output_type": "stream",
          "name": "stdout",
          "text": [
            "[[   0  198  303  736  871 1175 1475 1544 1913 2448]\n",
            " [ 198    0  105  538  673  977 1277 1346 1715 2250]\n",
            " [ 303  105    0  433  568  872 1172 1241 1610 2145]\n",
            " [ 736  538  433    0  135  439  739  808 1177 1712]\n",
            " [ 871  673  568  135    0  304  604  673 1042 1577]\n",
            " [1175  977  872  439  304    0  300  369  738 1273]\n",
            " [1475 1277 1172  739  604  300    0   69  438  973]\n",
            " [1544 1346 1241  808  673  369   69    0  369  904]\n",
            " [1913 1715 1610 1177 1042  738  438  369    0  535]\n",
            " [2448 2250 2145 1712 1577 1273  973  904  535    0]]\n"
          ]
        }
      ]
    },
    {
      "cell_type": "code",
      "source": [
        "#conver mile to km\n",
        "km_distance=final*1.60934\n",
        "print(km_distance)\n",
        "print(km_distance.shape)"
      ],
      "metadata": {
        "id": "fbu5m5vReG8k",
        "outputId": "78e72ec4-c767-402e-e556-456daae423de",
        "colab": {
          "base_uri": "https://localhost:8080/"
        }
      },
      "execution_count": null,
      "outputs": [
        {
          "output_type": "stream",
          "name": "stdout",
          "text": [
            "[[   0.       318.64932  487.63002 1184.47424 1401.73514 1890.9745\n",
            "  2373.7765  2484.82096 3078.66742 3939.66432]\n",
            " [ 318.64932    0.       168.9807   865.82492 1083.08582 1572.32518\n",
            "  2055.12718 2166.17164 2760.0181  3621.015  ]\n",
            " [ 487.63002  168.9807     0.       696.84422  914.10512 1403.34448\n",
            "  1886.14648 1997.19094 2591.0374  3452.0343 ]\n",
            " [1184.47424  865.82492  696.84422    0.       217.2609   706.50026\n",
            "  1189.30226 1300.34672 1894.19318 2755.19008]\n",
            " [1401.73514 1083.08582  914.10512  217.2609     0.       489.23936\n",
            "   972.04136 1083.08582 1676.93228 2537.92918]\n",
            " [1890.9745  1572.32518 1403.34448  706.50026  489.23936    0.\n",
            "   482.802    593.84646 1187.69292 2048.68982]\n",
            " [2373.7765  2055.12718 1886.14648 1189.30226  972.04136  482.802\n",
            "     0.       111.04446  704.89092 1565.88782]\n",
            " [2484.82096 2166.17164 1997.19094 1300.34672 1083.08582  593.84646\n",
            "   111.04446    0.       593.84646 1454.84336]\n",
            " [3078.66742 2760.0181  2591.0374  1894.19318 1676.93228 1187.69292\n",
            "   704.89092  593.84646    0.       860.9969 ]\n",
            " [3939.66432 3621.015   3452.0343  2755.19008 2537.92918 2048.68982\n",
            "  1565.88782 1454.84336  860.9969     0.     ]]\n",
            "(10, 10)\n"
          ]
        }
      ]
    },
    {
      "cell_type": "markdown",
      "source": [
        "ex 7\n",
        " Prime numbers sieve\n",
        " each True values in the prime array is correspondig to a prime number "
      ],
      "metadata": {
        "id": "myJc_DCheaCW"
      }
    },
    {
      "cell_type": "markdown",
      "source": [
        "consider the first prime number=2\n",
        "by changing the p value in code you can set it to 1."
      ],
      "metadata": {
        "id": "vpEm1Vkxgq7v"
      }
    },
    {
      "cell_type": "code",
      "source": [
        "def SieveOfEratosthenes(num):\n",
        "#Constract a shape (N,) boolean array, which is the mask\n",
        "    prime = np.array([True for i in range(num+1)])\n",
        "    p = 2\n",
        "    while (p * p <= num):\n",
        "        if (prime[p] == True):\n",
        "  \n",
        "#Identify the multiples of each number starting from 2 and set accordingly the corresponding mask element\n",
        "            for i in range(p * p, num+1, p):\n",
        "                prime[i] = False\n",
        "        p += 1\n",
        "  \n",
        "#Apply the mask to obtain an array of ordered prime numbers\n",
        "    for p in range(2, num+1):\n",
        "        if prime[p]:\n",
        "            print(p)\n",
        "    print(prime)\n",
        "  \n",
        "  \n",
        "\n",
        "num = 100\n",
        "SieveOfEratosthenes(num)"
      ],
      "metadata": {
        "id": "7HSzKq1xgLdl",
        "outputId": "613537b4-91e0-4aa3-a496-9f0f6a621870",
        "colab": {
          "base_uri": "https://localhost:8080/"
        }
      },
      "execution_count": null,
      "outputs": [
        {
          "output_type": "stream",
          "name": "stdout",
          "text": [
            "2\n",
            "3\n",
            "5\n",
            "7\n",
            "11\n",
            "13\n",
            "17\n",
            "19\n",
            "23\n",
            "29\n",
            "31\n",
            "37\n",
            "41\n",
            "43\n",
            "47\n",
            "53\n",
            "59\n",
            "61\n",
            "67\n",
            "71\n",
            "73\n",
            "79\n",
            "83\n",
            "89\n",
            "97\n",
            "[ True  True  True  True False  True False  True False False False  True\n",
            " False  True False False False  True False  True False False False  True\n",
            " False False False False False  True False  True False False False False\n",
            " False  True False False False  True False  True False False False  True\n",
            " False False False False False  True False False False False False  True\n",
            " False  True False False False False False  True False False False  True\n",
            " False  True False False False False False  True False False False  True\n",
            " False False False False False  True False False False False False False\n",
            " False  True False False False]\n"
          ]
        }
      ]
    },
    {
      "cell_type": "markdown",
      "source": [
        "**Check the performances (with timeit); how does it scale with N?**\n",
        "with increasing N the time also increases from 8 microsecont to 33 ms"
      ],
      "metadata": {
        "id": "ThABhlt3Br3A"
      }
    },
    {
      "cell_type": "code",
      "source": [
        "#previous function without pritn method for just compare the time\n",
        "def new_SieveOfEratosthenes(num):\n",
        "#Constract a shape (N,) boolean array, which is the mask\n",
        "    prime = np.array([True for i in range(num+1)])\n",
        "    p = 2\n",
        "    while (p * p <= num):\n",
        "        if (prime[p] == True):\n",
        "  \n",
        "#Identify the multiples of each number starting from 2 and set accordingly the corresponding mask element\n",
        "            for i in range(p * p, num+1, p):\n",
        "                prime[i] = False\n",
        "        p += 1\n",
        "\n",
        "#Apply the mask to obtain an array of ordered prime numbers\n",
        "print('for N=10')\n",
        "%timeit [new_SieveOfEratosthenes(10)]\n",
        "print('for N=100')\n",
        "\n",
        "%timeit [new_SieveOfEratosthenes(100)]\n",
        "print('for N=10000')\n",
        "\n",
        "%timeit [new_SieveOfEratosthenes(10000)]"
      ],
      "metadata": {
        "id": "OLOR53kM8jnq",
        "outputId": "5f9980a8-94d7-4eee-e5df-98f99400c592",
        "colab": {
          "base_uri": "https://localhost:8080/"
        }
      },
      "execution_count": null,
      "outputs": [
        {
          "output_type": "stream",
          "name": "stdout",
          "text": [
            "for N=10\n",
            "5.88 µs ± 183 ns per loop (mean ± std. dev. of 7 runs, 100000 loops each)\n",
            "for N=100\n",
            "31.3 µs ± 793 ns per loop (mean ± std. dev. of 7 runs, 10000 loops each)\n",
            "for N=10000\n",
            "3.05 ms ± 154 µs per loop (mean ± std. dev. of 7 runs, 100 loops each)\n"
          ]
        }
      ]
    },
    {
      "cell_type": "markdown",
      "source": [
        "ex 8\n",
        "Diffusion using random walk"
      ],
      "metadata": {
        "id": "Mgw2T7JDEgki"
      }
    },
    {
      "cell_type": "markdown",
      "source": [
        "Take 1000 walkers and let them walk for 200 steps\n",
        "Use randint to create a 2D array of size  with values -1 or 1"
      ],
      "metadata": {
        "id": "RVGcZfqmbs-V"
      }
    },
    {
      "cell_type": "code",
      "source": [
        "def my_func(waker,time):\n",
        "  sum=[]\n",
        "  distance=[]\n",
        "  table=np.zeros((waker,time))\n",
        "  for i in range(table.shape[0]):\n",
        "    t=np.random.randint(-1,1,time)\n",
        "    #create mask to convert 0 to 1 because we want 2 values(-1,1)\n",
        "    t[t==0]=1\n",
        "    for j in range(t.shape[0]):\n",
        "      table[i][j]=t[j]\n",
        "  print(table)\n",
        "  for i in range(table.shape[0]):\n",
        "    sum.append(table[i].sum())\n",
        "  #print('he walking distances for each walker')\n",
        "  return(sum)\n"
      ],
      "metadata": {
        "id": "ZHrUGz6SIwu1"
      },
      "execution_count": null,
      "outputs": []
    },
    {
      "cell_type": "code",
      "source": [
        "my_func(10,5)"
      ],
      "metadata": {
        "id": "Ej0LfL_jN2iL",
        "outputId": "884d26b4-2292-4e45-811a-0d674b08bf04",
        "colab": {
          "base_uri": "https://localhost:8080/"
        }
      },
      "execution_count": null,
      "outputs": [
        {
          "output_type": "stream",
          "name": "stdout",
          "text": [
            "[[-1.  1. -1.  1.  1.]\n",
            " [-1.  1.  1. -1.  1.]\n",
            " [ 1. -1.  1. -1.  1.]\n",
            " [-1. -1. -1.  1.  1.]\n",
            " [ 1.  1. -1. -1. -1.]\n",
            " [ 1. -1. -1. -1.  1.]\n",
            " [ 1.  1. -1. -1.  1.]\n",
            " [-1.  1. -1. -1.  1.]\n",
            " [-1. -1.  1. -1.  1.]\n",
            " [ 1.  1.  1.  1.  1.]]\n"
          ]
        },
        {
          "output_type": "execute_result",
          "data": {
            "text/plain": [
              "[1.0, 1.0, 1.0, -1.0, -1.0, -1.0, 1.0, -1.0, -1.0, 5.0]"
            ]
          },
          "metadata": {},
          "execution_count": 213
        }
      ]
    },
    {
      "cell_type": "markdown",
      "source": [
        "Take the square of the previously-obtained array (element-wise)\n"
      ],
      "metadata": {
        "id": "wp1FJ2HjbmHp"
      }
    },
    {
      "cell_type": "code",
      "source": [
        "sqrt_list=(np.array(my_func(10,5))**2)\n",
        "print(sqrt_list)\n"
      ],
      "metadata": {
        "id": "_70Kehf1bnJz",
        "outputId": "8a689243-7921-4593-def2-d67e165b7062",
        "colab": {
          "base_uri": "https://localhost:8080/"
        }
      },
      "execution_count": null,
      "outputs": [
        {
          "output_type": "stream",
          "name": "stdout",
          "text": [
            "[[-1.  1.  1.  1.  1.]\n",
            " [-1. -1.  1. -1.  1.]\n",
            " [-1. -1. -1.  1.  1.]\n",
            " [-1. -1. -1. -1. -1.]\n",
            " [-1.  1.  1.  1. -1.]\n",
            " [ 1.  1. -1. -1.  1.]\n",
            " [-1.  1.  1.  1.  1.]\n",
            " [ 1. -1.  1. -1.  1.]\n",
            " [-1.  1.  1.  1.  1.]\n",
            " [-1.  1. -1.  1. -1.]]\n",
            "[ 9.  1.  1. 25.  1.  1.  9.  1.  9.  1.]\n"
          ]
        }
      ]
    },
    {
      "cell_type": "code",
      "source": [
        "#second approach\n",
        "r=np.square(my_func(10,5))\n",
        "print(r)"
      ],
      "metadata": {
        "id": "SV57ip35qsHB",
        "outputId": "9c0d5035-0e7e-4919-c13d-5a49755c67e5",
        "colab": {
          "base_uri": "https://localhost:8080/"
        }
      },
      "execution_count": null,
      "outputs": [
        {
          "output_type": "stream",
          "name": "stdout",
          "text": [
            "[[-1.  1.  1. -1.  1.]\n",
            " [-1. -1.  1. -1. -1.]\n",
            " [ 1.  1.  1.  1.  1.]\n",
            " [-1. -1. -1.  1.  1.]\n",
            " [-1.  1.  1. -1. -1.]\n",
            " [-1.  1.  1. -1. -1.]\n",
            " [-1. -1.  1.  1.  1.]\n",
            " [ 1.  1.  1. -1.  1.]\n",
            " [-1. -1. -1. -1.  1.]\n",
            " [-1.  1. -1. -1.  1.]]\n",
            "[ 1.  9. 25.  1.  1.  1.  1.  9.  9.  1.]\n"
          ]
        }
      ]
    },
    {
      "cell_type": "markdown",
      "source": [
        "ompute the mean of the squared distances at each step (i.e. the mean along the columns)"
      ],
      "metadata": {
        "id": "aEGDcY4fp18H"
      }
    },
    {
      "cell_type": "code",
      "source": [
        "def mean(waker,time):\n",
        "  mean=[]\n",
        "  table=np.zeros((waker,time))\n",
        "  for i in range(table.shape[0]):\n",
        "    t=np.random.randint(-1,1,time)\n",
        "    #create mask to convert 0 to 1 because we want 2 values(-1,1)\n",
        "    t[t==0]=1\n",
        "    for j in range(t.shape[0]):\n",
        "      table[i][j]=t[j]\n",
        "  #print(table)\n",
        "  for i in range(table.shape[1]):\n",
        "    #print(table[:,i])\n",
        "    mean.append(table[:,i].sum())\n",
        "  return np.array(mean)/table.shape[0]"
      ],
      "metadata": {
        "id": "ijXc14ghp2lY"
      },
      "execution_count": null,
      "outputs": []
    },
    {
      "cell_type": "code",
      "source": [
        "mean(10,3)"
      ],
      "metadata": {
        "id": "kbDqwJcCr5sh",
        "outputId": "d47b06ec-f487-4386-84ed-0ff147352b7f",
        "colab": {
          "base_uri": "https://localhost:8080/"
        }
      },
      "execution_count": null,
      "outputs": [
        {
          "output_type": "execute_result",
          "data": {
            "text/plain": [
              "array([ 0. ,  0.4, -0.2])"
            ]
          },
          "metadata": {},
          "execution_count": 38
        }
      ]
    },
    {
      "cell_type": "code",
      "source": [
        "m=np.array([[1,2,3],[5,6,7],[8,9,10]])\n",
        "m"
      ],
      "metadata": {
        "id": "Mhqr13U5s0Mm",
        "outputId": "bb1b152f-5611-4103-d8a8-2ee50b335f0b",
        "colab": {
          "base_uri": "https://localhost:8080/"
        }
      },
      "execution_count": null,
      "outputs": [
        {
          "output_type": "execute_result",
          "data": {
            "text/plain": [
              "array([[ 1,  2,  3],\n",
              "       [ 5,  6,  7],\n",
              "       [ 8,  9, 10]])"
            ]
          },
          "metadata": {},
          "execution_count": 39
        }
      ]
    },
    {
      "cell_type": "code",
      "source": [
        "r=np.mean(mean(10,5),axis=0)\n",
        "print(r)"
      ],
      "metadata": {
        "id": "QiZuoKnBs_Yt",
        "outputId": "7b7a6a1f-56a0-4008-bfc7-392c27c75d80",
        "colab": {
          "base_uri": "https://localhost:8080/"
        }
      },
      "execution_count": null,
      "outputs": [
        {
          "output_type": "stream",
          "name": "stdout",
          "text": [
            "0.16\n"
          ]
        }
      ]
    }
  ]
}