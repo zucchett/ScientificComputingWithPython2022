{
 "cells": [
  {
   "cell_type": "markdown",
   "metadata": {},
   "source": [
    "1\\. **Reductions**\n",
    "\n",
    "Find the total mean, and the mean for each row and column of the following matrix:\n",
    "\n",
    "```python\n",
    "m = np.arange(12).reshape((3,4))\n",
    "```"
   ]
  },
  {
   "cell_type": "code",
   "execution_count": 11,
   "metadata": {},
   "outputs": [
    {
     "name": "stdout",
     "output_type": "stream",
     "text": [
      "[[ 0  1  2  3]\n",
      " [ 4  5  6  7]\n",
      " [ 8  9 10 11]]\n",
      "total mean: 5.5\n",
      "row_mean: [1.5 5.5 9.5]\n",
      "column_mean: [4. 5. 6. 7.]\n"
     ]
    }
   ],
   "source": [
    "import numpy as np\n",
    "\n",
    "m = np.arange(12).reshape((3,4))\n",
    "print(m)\n",
    "\n",
    "total_mean= np.mean(m)\n",
    "row_mean= np.mean(m,axis=1)\n",
    "column_mean= np.mean(m,axis=0)\n",
    "\n",
    "print(\"total mean:\" , total_mean)\n",
    "print(\"row_mean:\", row_mean)\n",
    "print(\"column_mean:\", column_mean)"
   ]
  },
  {
   "cell_type": "markdown",
   "metadata": {},
   "source": [
    "2\\. **Outer product**\n",
    "\n",
    "Find the outer product of the following vectors:\n",
    "\n",
    "```python\n",
    "u = np.array([1, 3, 5, 7])\n",
    "v = np.array([2, 4, 6, 8])\n",
    "```\n",
    "\n",
    "Use different methods to do this:\n",
    "\n",
    "   1. Using the function `outer` in numpy\n",
    "   2. Using a nested `for` loop or a list comprehension\n",
    "   3. Using numpy broadcasting operations"
   ]
  },
  {
   "cell_type": "code",
   "execution_count": 17,
   "metadata": {},
   "outputs": [
    {
     "name": "stdout",
     "output_type": "stream",
     "text": [
      "Using the function outer in numpy:\n",
      " [[ 2  4  6  8]\n",
      " [ 6 12 18 24]\n",
      " [10 20 30 40]\n",
      " [14 28 42 56]]\n",
      "Using a nested for loop or a list comprehension:\n",
      " [2, 4, 6, 8, 6, 12, 18, 24, 10, 20, 30, 40, 14, 28, 42, 56]\n",
      "Using numpy broadcasting operations:\n",
      " [[ 2  4  6  8]\n",
      " [ 6 12 18 24]\n",
      " [10 20 30 40]\n",
      " [14 28 42 56]]\n"
     ]
    }
   ],
   "source": [
    "import numpy as np \n",
    "import numpy.random as npr\n",
    "from numpy import newaxis\n",
    "\n",
    "u = np.array([1, 3, 5, 7])\n",
    "v = np.array([2, 4, 6, 8])\n",
    "\n",
    "outer= np.outer(u, v)\n",
    "print(\"Using the function outer in numpy:\\n\" ,outer)\n",
    "\n",
    "nested=[x* y for x in u for y in v]\n",
    "print(\"Using a nested for loop or a list comprehension:\\n\",nested)\n",
    "\n",
    "broadcast= u[:, np.newaxis] *v\n",
    "\n",
    "print(\"Using numpy broadcasting operations:\\n\",broadcast)\n",
    "\n",
    "\n"
   ]
  },
  {
   "cell_type": "markdown",
   "metadata": {},
   "source": [
    "3\\. **Matrix masking**\n",
    "\n",
    "Create a 10 by 6 matrix of float random numbers, distributed between 0 and 3 according to a flat distribution.\n",
    "\n",
    "After creating the matrix, set all entries $< 0.3$ to zero using a mask."
   ]
  },
  {
   "cell_type": "code",
   "execution_count": 19,
   "metadata": {},
   "outputs": [
    {
     "name": "stdout",
     "output_type": "stream",
     "text": [
      "10 by 6 matrix of float random numbers, distributed between 0 and 3 according to a flat distribution: \n",
      "[[2.11392756 2.19325459 1.69548499 1.53844672 1.99540151 0.43799326]\n",
      " [0.4674248  2.19576122 2.15468717 0.51592603 1.3506018  2.25091444]\n",
      " [2.81704506 2.13710963 2.56019402 0.63070982 1.55652778 0.14951895]\n",
      " [0.08934042 0.57632041 2.9433406  0.97341268 2.76408602 2.52721177]\n",
      " [0.56353982 2.56026946 1.67363931 1.46735736 0.25293664 1.29377884]\n",
      " [2.08412797 1.29408678 0.77254413 2.75993652 1.7819915  0.46854133]\n",
      " [1.30319653 0.62489817 0.73547114 2.05860821 1.08438584 1.87273954]\n",
      " [0.87119876 1.99074855 1.32371311 0.2846208  2.73897977 2.72634417]\n",
      " [0.19215571 0.83032863 0.99635246 0.03875881 2.18165177 0.19872539]\n",
      " [2.17096807 0.29480712 1.76685231 2.52372445 0.70071892 0.20699458]]\n",
      "Mask: \n",
      " [[False False False False False False]\n",
      " [False False False False False False]\n",
      " [False False False False False  True]\n",
      " [ True False False False False False]\n",
      " [False False False False  True False]\n",
      " [False False False False False False]\n",
      " [False False False False False False]\n",
      " [False False False  True False False]\n",
      " [ True False False  True False  True]\n",
      " [False  True False False False  True]]\n",
      "\n",
      " All entries smaller than 3 set to zero using a mask: \n",
      "[[2.11392756 2.19325459 1.69548499 1.53844672 1.99540151 0.43799326]\n",
      " [0.4674248  2.19576122 2.15468717 0.51592603 1.3506018  2.25091444]\n",
      " [2.81704506 2.13710963 2.56019402 0.63070982 1.55652778 0.        ]\n",
      " [0.         0.57632041 2.9433406  0.97341268 2.76408602 2.52721177]\n",
      " [0.56353982 2.56026946 1.67363931 1.46735736 0.         1.29377884]\n",
      " [2.08412797 1.29408678 0.77254413 2.75993652 1.7819915  0.46854133]\n",
      " [1.30319653 0.62489817 0.73547114 2.05860821 1.08438584 1.87273954]\n",
      " [0.87119876 1.99074855 1.32371311 0.         2.73897977 2.72634417]\n",
      " [0.         0.83032863 0.99635246 0.         2.18165177 0.        ]\n",
      " [2.17096807 0.         1.76685231 2.52372445 0.70071892 0.        ]]\n"
     ]
    }
   ],
   "source": [
    "import numpy as np \n",
    "import numpy.random as npr\n",
    "\n",
    "random = 3 * npr.random_sample((10, 6)) - 0\n",
    "print(\"10 by 6 matrix of float random numbers, distributed between 0 and 3 according to a flat distribution: \")\n",
    "print(random)\n",
    "\n",
    "arr = np.array(random)\n",
    "mask = (random < 0.3)\n",
    "print(\"Mask: \\n\", mask)\n",
    "\n",
    "random[random < 0.3] = 0\n",
    "print(\"\\n All entries smaller than 3 set to zero using a mask: \")\n",
    "print(random)"
   ]
  },
  {
   "cell_type": "markdown",
   "metadata": {},
   "source": [
    "4\\. **Trigonometric functions**\n",
    "\n",
    "Use `np.linspace` to create an array of 100 numbers between $0$ and $2\\pi$ (inclusive).\n",
    "\n",
    "  * Extract every 10th element using the slice notation\n",
    "  * Reverse the array using the slice notation\n",
    "  * Extract elements where the absolute difference between the `sin` and `cos` functions evaluated for that element is $< 0.1$\n",
    "  * **Optional**: make a plot showing the sin and cos functions and indicate where they are close"
   ]
  },
  {
   "cell_type": "code",
   "execution_count": 17,
   "metadata": {},
   "outputs": [
    {
     "name": "stdout",
     "output_type": "stream",
     "text": [
      "A linear space containing 100 values between 0 and 2*pi (inclusive):\n",
      " [0.         0.06346652 0.12693304 0.19039955 0.25386607 0.31733259\n",
      " 0.38079911 0.44426563 0.50773215 0.57119866 0.63466518 0.6981317\n",
      " 0.76159822 0.82506474 0.88853126 0.95199777 1.01546429 1.07893081\n",
      " 1.14239733 1.20586385 1.26933037 1.33279688 1.3962634  1.45972992\n",
      " 1.52319644 1.58666296 1.65012947 1.71359599 1.77706251 1.84052903\n",
      " 1.90399555 1.96746207 2.03092858 2.0943951  2.15786162 2.22132814\n",
      " 2.28479466 2.34826118 2.41172769 2.47519421 2.53866073 2.60212725\n",
      " 2.66559377 2.72906028 2.7925268  2.85599332 2.91945984 2.98292636\n",
      " 3.04639288 3.10985939 3.17332591 3.23679243 3.30025895 3.36372547\n",
      " 3.42719199 3.4906585  3.55412502 3.61759154 3.68105806 3.74452458\n",
      " 3.8079911  3.87145761 3.93492413 3.99839065 4.06185717 4.12532369\n",
      " 4.1887902  4.25225672 4.31572324 4.37918976 4.44265628 4.5061228\n",
      " 4.56958931 4.63305583 4.69652235 4.75998887 4.82345539 4.88692191\n",
      " 4.95038842 5.01385494 5.07732146 5.14078798 5.2042545  5.26772102\n",
      " 5.33118753 5.39465405 5.45812057 5.52158709 5.58505361 5.64852012\n",
      " 5.71198664 5.77545316 5.83891968 5.9023862  5.96585272 6.02931923\n",
      " 6.09278575 6.15625227 6.21971879 6.28318531]\n",
      "Each 10th element was extracted using slice notation:\n",
      " [0.         0.63466518 1.26933037 1.90399555 2.53866073 3.17332591\n",
      " 3.8079911  4.44265628 5.07732146 5.71198664]\n",
      "Slice notation was used to reverse the array:\n",
      " [6.28318531 6.21971879 6.15625227 6.09278575 6.02931923 5.96585272\n",
      " 5.9023862  5.83891968 5.77545316 5.71198664 5.64852012 5.58505361\n",
      " 5.52158709 5.45812057 5.39465405 5.33118753 5.26772102 5.2042545\n",
      " 5.14078798 5.07732146 5.01385494 4.95038842 4.88692191 4.82345539\n",
      " 4.75998887 4.69652235 4.63305583 4.56958931 4.5061228  4.44265628\n",
      " 4.37918976 4.31572324 4.25225672 4.1887902  4.12532369 4.06185717\n",
      " 3.99839065 3.93492413 3.87145761 3.8079911  3.74452458 3.68105806\n",
      " 3.61759154 3.55412502 3.4906585  3.42719199 3.36372547 3.30025895\n",
      " 3.23679243 3.17332591 3.10985939 3.04639288 2.98292636 2.91945984\n",
      " 2.85599332 2.7925268  2.72906028 2.66559377 2.60212725 2.53866073\n",
      " 2.47519421 2.41172769 2.34826118 2.28479466 2.22132814 2.15786162\n",
      " 2.0943951  2.03092858 1.96746207 1.90399555 1.84052903 1.77706251\n",
      " 1.71359599 1.65012947 1.58666296 1.52319644 1.45972992 1.3962634\n",
      " 1.33279688 1.26933037 1.20586385 1.14239733 1.07893081 1.01546429\n",
      " 0.95199777 0.88853126 0.82506474 0.76159822 0.6981317  0.63466518\n",
      " 0.57119866 0.50773215 0.44426563 0.38079911 0.31733259 0.25386607\n",
      " 0.19039955 0.12693304 0.06346652 0.        ]\n",
      "Elements where the absolute difference between the sin and cos functions is smaller than 0.1:\n",
      " [0.76159822 0.82506474 3.87145761 3.93492413]\n"
     ]
    },
    {
     "data": {
      "image/png": "[encoded data removed]",
      "text/plain": [
       "<Figure size 640x480 with 1 Axes>"
      ]
     },
     "metadata": {},
     "output_type": "display_data"
    }
   ],
   "source": [
    "import numpy as np\n",
    "import pylab\n",
    "from pylab import *\n",
    "\n",
    "array = np.linspace(0, 2*math.pi, num=100)\n",
    "print(\"A linear space containing 100 values between 0 and 2*pi (inclusive):\\n\", array)\n",
    "print(\"Each 10th element was extracted using slice notation:\\n\", array[::10])\n",
    "print(\"Slice notation was used to reverse the array:\\n\", array[::-1])\n",
    "elements = np.abs(np.sin(array)-np.cos(array)) < 0.1\n",
    "print(\"Elements where the absolute difference between \"\n",
    "      \"the sin and cos functions is smaller than 0.1:\\n\", array[elements])\n",
    "\n",
    "pylab.title(\"Graph showing where sin and cos are close together.\")\n",
    "pylab.plot(array, np.sin(array), array, np.cos(array))\n",
    "pylab.show()"
   ]
  },
  {
   "cell_type": "markdown",
   "metadata": {},
   "source": [
    "5\\. **Matrices**\n",
    "\n",
    "Create a matrix that shows the 10 by 10 multiplication table.\n",
    "\n",
    " * Find the trace of the matrix\n",
    " * Extract the anti-diagonal matrix (this should be ```array([10, 18, 24, 28, 30, 30, 28, 24, 18, 10])```)\n",
    " * Extract the diagonal offset by 1 upwards (this should be ```array([ 2,  6, 12, 20, 30, 42, 56, 72, 90])```)"
   ]
  },
  {
   "cell_type": "code",
   "execution_count": 18,
   "metadata": {},
   "outputs": [
    {
     "name": "stdout",
     "output_type": "stream",
     "text": [
      "10 by 10 multiplication table:\n",
      " [[  1   2   3   4   5   6   7   8   9  10]\n",
      " [  2   4   6   8  10  12  14  16  18  20]\n",
      " [  3   6   9  12  15  18  21  24  27  30]\n",
      " [  4   8  12  16  20  24  28  32  36  40]\n",
      " [  5  10  15  20  25  30  35  40  45  50]\n",
      " [  6  12  18  24  30  36  42  48  54  60]\n",
      " [  7  14  21  28  35  42  49  56  63  70]\n",
      " [  8  16  24  32  40  48  56  64  72  80]\n",
      " [  9  18  27  36  45  54  63  72  81  90]\n",
      " [ 10  20  30  40  50  60  70  80  90 100]]\n",
      "The trace of the matrix: \n",
      "  385\n",
      "The anti-diagonal matrix:\n",
      "  [10 18 24 28 30 30 28 24 18 10]\n",
      "The diagonal offset by 1 upwards:\n",
      "  [ 2  6 12 20 30 42 56 72 90]\n"
     ]
    }
   ],
   "source": [
    "import numpy as np\n",
    "\n",
    "mx = np.arange(1, 11)\n",
    "mul_tab= mx[:, None] * mx[None, :]\n",
    "print(\"10 by 10 multiplication table:\\n\",mul_tab)\n",
    "print(\"The trace of the matrix: \\n \", mul_tab.trace())\n",
    "print(\"The anti-diagonal matrix:\\n \", np.flipud(mul_tab).diagonal())\n",
    "print(\"The diagonal offset by 1 upwards:\\n \", mul_tab.diagonal(offset=1))"
   ]
  },
  {
   "cell_type": "markdown",
   "metadata": {},
   "source": [
    "6\\. **Broadcasting**\n",
    "\n",
    "Use broadcasting to create a grid of distances.\n",
    "\n",
    "Route 66 crosses the following cities in the US: Chicago, Springfield, Saint-Louis, Tulsa, Oklahoma City, Amarillo, Santa Fe, Albuquerque, Flagstaff, Los Angeles.\n",
    "\n",
    "The corresponding positions in miles are: 0, 198, 303, 736, 871, 1175, 1475, 1544, 1913, 2448\n",
    "\n",
    "  * Build a 2D grid of distances among each city along Route 66\n",
    "  * Convert the distances in km"
   ]
  },
  {
   "cell_type": "code",
   "execution_count": 12,
   "metadata": {},
   "outputs": [
    {
     "name": "stdout",
     "output_type": "stream",
     "text": [
      "Distances between each city:\n",
      " [[   0  198  303  736  871 1175 1475 1544 1913 2448]\n",
      " [ 198    0  105  538  673  977 1277 1346 1715 2250]\n",
      " [ 303  105    0  433  568  872 1172 1241 1610 2145]\n",
      " [ 736  538  433    0  135  439  739  808 1177 1712]\n",
      " [ 871  673  568  135    0  304  604  673 1042 1577]\n",
      " [1175  977  872  439  304    0  300  369  738 1273]\n",
      " [1475 1277 1172  739  604  300    0   69  438  973]\n",
      " [1544 1346 1241  808  673  369   69    0  369  904]\n",
      " [1913 1715 1610 1177 1042  738  438  369    0  535]\n",
      " [2448 2250 2145 1712 1577 1273  973  904  535    0]]\n",
      "Converted from miles in: \n",
      " [[   0.          318.65011315  487.63123376 1184.47718826 1401.73862905\n",
      "  1890.97920681 2373.78240855 2484.82714495 3078.67508309 3939.67412619]\n",
      " [ 318.65011315    0.          168.98112061  865.82707512 1083.0885159\n",
      "  1572.32909366 2055.1322954  2166.1770318  2760.02496994 3621.02401304]\n",
      " [ 487.63123376  168.98112061    0.          696.84595451  914.10739529\n",
      "  1403.34797305 1886.15117479 1997.19591119 2591.04384933 3452.04289243]\n",
      " [1184.47718826  865.82707512  696.84595451    0.          217.26144078\n",
      "   706.50201854 1189.30522028 1300.34995668 1894.19789482 2755.19693792]\n",
      " [1401.73862905 1083.0885159   914.10739529  217.26144078    0.\n",
      "   489.24057776  972.0437795  1083.0885159  1676.93645404 2537.93549714]\n",
      " [1890.97920681 1572.32909366 1403.34797305  706.50201854  489.24057776\n",
      "     0.          482.80320174  593.84793814 1187.69587628 2048.69491938]\n",
      " [2373.78240855 2055.1322954  1886.15117479 1189.30522028  972.0437795\n",
      "   482.80320174    0.          111.0447364   704.89267454 1565.89171764]\n",
      " [2484.82714495 2166.1770318  1997.19591119 1300.34995668 1083.0885159\n",
      "   593.84793814  111.0447364     0.          593.84793814 1454.84698124]\n",
      " [3078.67508309 2760.02496994 2591.04384933 1894.19789482 1676.93645404\n",
      "  1187.69587628  704.89267454  593.84793814    0.          860.9990431 ]\n",
      " [3939.67412619 3621.02401304 3452.04289243 2755.19693792 2537.93549714\n",
      "  2048.69491938 1565.89171764 1454.84698124  860.9990431     0.        ]]\n"
     ]
    },
    {
     "data": {
      "image/png": "[encoded data removed]",
      "text/plain": [
       "<Figure size 640x480 with 2 Axes>"
      ]
     },
     "metadata": {},
     "output_type": "display_data"
    }
   ],
   "source": [
    "import numpy as np\n",
    "import matplotlib.pyplot as plt\n",
    "import math\n",
    "\n",
    "miles_pos = np.array([0, 198, 303, 736, 871, 1175, 1475, 1544, 1913, 2448])\n",
    "distance = np.abs(miles_pos - miles_pos[:, np.newaxis])\n",
    "print(\"Distances between each city:\\n\", distance)\n",
    "plt.pcolor(distance)\n",
    "plt.colorbar()\n",
    "print(\"Converted from miles in: \\n\", distance/0.62137119)"
   ]
  },
  {
   "cell_type": "markdown",
   "metadata": {},
   "source": [
    "7\\. **Prime numbers sieve**\n",
    "\n",
    "Compute the prime numbers in the 0-N (start with N=99) range with a sieve (mask).\n",
    "\n",
    "  * Constract a shape (N,) boolean array, which is the mask\n",
    "  * Identify the multiples of each number starting from 2 and set accordingly the corresponding mask element\n",
    "  * Apply the mask to obtain an array of ordered prime numbers\n",
    "  * Check the performances (with `timeit`); how does it scale with N?\n",
    "  * Implement the optimization suggested in the [sieve of Eratosthenes](https://en.wikipedia.org/wiki/Sieve_of_Eratosthenes)"
   ]
  },
  {
   "cell_type": "code",
   "execution_count": 28,
   "metadata": {},
   "outputs": [
    {
     "name": "stdout",
     "output_type": "stream",
     "text": [
      "Enter n: \n",
      "55\n",
      "The prime numbers to 55 :\n",
      "[ 2  3  5  7 11 13 17 19 23 29 31 37 41 43 47 53]\n",
      "None\n",
      "0.0008341000002474175\n"
     ]
    }
   ],
   "source": [
    "import numpy as np\n",
    "import math\n",
    "from math import pow, ceil\n",
    "import timeit\n",
    "\n",
    "def prime(n): \n",
    "    prime_list = []\n",
    "    for i in range(2, n + 1):\n",
    "        prime_list.append(i)\n",
    "    for i in range(2, n + 1):\n",
    "        for j in range(2, i):\n",
    "            mask = (i % j == 0)\n",
    "            if mask:\n",
    "                if i in prime_list:\n",
    "                    prime_list.remove(i)\n",
    "                    \n",
    "    arrayofprimes = np.array(prime_list)\n",
    "    print(arrayofprimes)\n",
    "    \n",
    "n = int(input(\"Enter n: \\n\"))\n",
    "print(\"The prime numbers to \"+str(n),\":\")\n",
    "print(prime(n))\n",
    "print(timeit.timeit('sieve(n)', globals=globals(), number=99))\n",
    "\n"
   ]
  },
  {
   "cell_type": "markdown",
   "metadata": {},
   "source": [
    "8\\. **Diffusion using random walk**\n",
    "\n",
    "Consider a simple random walk process: at each step in time, a walker jumps right or left (+1 or -1) with equal probability. The goal is to find the typical distance from the origin of many random walkers after a given amount of time.\n",
    "\n",
    "*Hint*: create a 2D array where each row represents a walker, and each column represents a time step.\n",
    "\n",
    "  * Take 1000 walkers and let them walk for 200 steps\n",
    "  * Use `randint` to create a 2D array of size $walkers \\times steps$ with values -1 or 1\n",
    "  * Calculate the walking distances for each walker (e.g. by summing the elements in each row)\n",
    "  * Take the square of the previously-obtained array (element-wise)\n",
    "  * Compute the mean of the squared distances at each step (i.e. the mean along the columns)\n",
    "  * **Optional**: plot the average distances ($\\sqrt(distance^2)$) as a function of time (step)"
   ]
  },
  {
   "cell_type": "code",
   "execution_count": null,
   "metadata": {},
   "outputs": [],
   "source": []
  }
 ],
 "metadata": {
  "kernelspec": {
   "display_name": "Python 3 (ipykernel)",
   "language": "python",
   "name": "python3"
  },
  "language_info": {
   "codemirror_mode": {
    "name": "ipython",
    "version": 3
   },
   "file_extension": ".py",
   "mimetype": "text/x-python",
   "name": "python",
   "nbconvert_exporter": "python",
   "pygments_lexer": "ipython3",
   "version": "3.9.13"
  }
 },
 "nbformat": 4,
 "nbformat_minor": 2
}
