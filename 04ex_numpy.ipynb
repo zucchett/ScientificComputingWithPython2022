{
  "nbformat": 4,
  "nbformat_minor": 0,
  "metadata": {
    "colab": {
      "provenance": []
    },
    "kernelspec": {
      "name": "python3",
      "display_name": "Python 3"
    },
    "language_info": {
      "name": "python"
    }
  },
  "cells": [
    {
      "cell_type": "code",
      "execution_count": null,
      "metadata": {
        "id": "hjayO2h-29VS"
      },
      "outputs": [],
      "source": [
        "import numpy as np\n",
        "import numpy.random as npr\n",
        "from numpy import newaxis\n",
        "import math\n",
        "import matplotlib.pyplot as plt\n",
        "from math import pow, ceil\n",
        "import timeit\n",
        "import pylab"
      ]
    },
    {
      "cell_type": "code",
      "source": [
        "#Ex1\n",
        "m = np.arange(12).reshape((3, 4))\n",
        "print(\"Total:\", m.mean())\n",
        "print(\"Row: \", m.mean(1))\n",
        "print(\"Column: \", m.mean(0))"
      ],
      "metadata": {
        "colab": {
          "base_uri": "https://localhost:8080/"
        },
        "id": "SmWhf8ud5UIJ",
        "outputId": "9c928735-71e5-4ec6-a779-bc3ef08d6d60"
      },
      "execution_count": null,
      "outputs": [
        {
          "output_type": "stream",
          "name": "stdout",
          "text": [
            "Total: 5.5\n",
            "Row:  [1.5 5.5 9.5]\n",
            "Column:  [4. 5. 6. 7.]\n"
          ]
        }
      ]
    },
    {
      "cell_type": "code",
      "source": [
        "#Ex2\n",
        "u = np.array([1, 3, 5, 7])\n",
        "v = np.array([2, 4, 6, 8])\n",
        "print(u)\n",
        "print(v)\n",
        "print(\"outer in numpy:\")\n",
        "print(np.outer(u, v))\n",
        "print(\"list comprehension:\")\n",
        "print([i * j for i in u for j in v])\n",
        "print(\"numpy broadcasting operations:\")\n",
        "print(u[:, newaxis] * v)"
      ],
      "metadata": {
        "colab": {
          "base_uri": "https://localhost:8080/"
        },
        "id": "4YfoM8q35yJB",
        "outputId": "7f937a0a-bff8-44f5-d220-da2be68237b1"
      },
      "execution_count": null,
      "outputs": [
        {
          "output_type": "stream",
          "name": "stdout",
          "text": [
            "[1 3 5 7]\n",
            "[2 4 6 8]\n",
            "outer in numpy:\n",
            "[[ 2  4  6  8]\n",
            " [ 6 12 18 24]\n",
            " [10 20 30 40]\n",
            " [14 28 42 56]]\n",
            "list comprehension:\n",
            "[2, 4, 6, 8, 6, 12, 18, 24, 10, 20, 30, 40, 14, 28, 42, 56]\n",
            "numpy broadcasting operations:\n",
            "[[ 2  4  6  8]\n",
            " [ 6 12 18 24]\n",
            " [10 20 30 40]\n",
            " [14 28 42 56]]\n"
          ]
        }
      ]
    },
    {
      "cell_type": "code",
      "source": [
        "#Ex3\n",
        "random = 3 * npr.random_sample((10, 6)) - 0\n",
        "print(\"A float random number matrix of 10 by 6 , distributed between 0 and 3 according to a flat distribution: \")\n",
        "print(random)\n",
        "arr = np.array(random)\n",
        "mask = (random < 0.3)\n",
        "print(\"Mask: \\n\", mask)\n",
        "random[random < 0.3] = 0\n",
        "print(\"\\n Final result: \")\n",
        "print(random)"
      ],
      "metadata": {
        "colab": {
          "base_uri": "https://localhost:8080/"
        },
        "id": "gdm4sYe46gvC",
        "outputId": "9fb6048c-e841-4c7a-e1b2-6b8cb2c7621e"
      },
      "execution_count": null,
      "outputs": [
        {
          "output_type": "stream",
          "name": "stdout",
          "text": [
            "A float random number matrix of 10 by 6 , distributed between 0 and 3 according to a flat distribution: \n",
            "[[2.43851228 0.70746535 2.17791879 2.51052982 1.07325459 1.9548031 ]\n",
            " [2.96350374 2.71285241 1.99879101 1.59351943 0.86631932 0.1576807 ]\n",
            " [1.45812351 1.27798173 2.69824749 1.95718231 2.81747096 1.32357178]\n",
            " [0.82435148 2.81664995 0.3192571  2.20399988 0.45134449 0.84737674]\n",
            " [0.17362581 2.74801463 1.97576312 0.29168031 0.47485227 0.56711416]\n",
            " [2.72608685 1.86512679 0.00765804 1.13728995 2.46426926 1.56538427]\n",
            " [1.08322323 1.55383039 1.02936269 2.99905915 2.52351665 1.39041954]\n",
            " [1.12448048 1.79566799 2.49292742 2.93554257 2.39090746 2.65004878]\n",
            " [1.17159345 1.5410255  1.07837505 0.35149353 0.50495335 0.93209946]\n",
            " [2.14498052 1.77868519 0.6274525  0.36784404 0.52096837 0.78880702]]\n",
            "Mask: \n",
            " [[False False False False False False]\n",
            " [False False False False False  True]\n",
            " [False False False False False False]\n",
            " [False False False False False False]\n",
            " [ True False False  True False False]\n",
            " [False False  True False False False]\n",
            " [False False False False False False]\n",
            " [False False False False False False]\n",
            " [False False False False False False]\n",
            " [False False False False False False]]\n",
            "\n",
            " Final result: \n",
            "[[2.43851228 0.70746535 2.17791879 2.51052982 1.07325459 1.9548031 ]\n",
            " [2.96350374 2.71285241 1.99879101 1.59351943 0.86631932 0.        ]\n",
            " [1.45812351 1.27798173 2.69824749 1.95718231 2.81747096 1.32357178]\n",
            " [0.82435148 2.81664995 0.3192571  2.20399988 0.45134449 0.84737674]\n",
            " [0.         2.74801463 1.97576312 0.         0.47485227 0.56711416]\n",
            " [2.72608685 1.86512679 0.         1.13728995 2.46426926 1.56538427]\n",
            " [1.08322323 1.55383039 1.02936269 2.99905915 2.52351665 1.39041954]\n",
            " [1.12448048 1.79566799 2.49292742 2.93554257 2.39090746 2.65004878]\n",
            " [1.17159345 1.5410255  1.07837505 0.35149353 0.50495335 0.93209946]\n",
            " [2.14498052 1.77868519 0.6274525  0.36784404 0.52096837 0.78880702]]\n"
          ]
        }
      ]
    },
    {
      "cell_type": "code",
      "source": [
        "#Ex4\n",
        "\n",
        "array = np.linspace(0, 2*math.pi, num=100)\n",
        "print(\"The linear space with 100 values between 0 and 2*pi (inclusive):\\n\", array)\n",
        "print(\"\\n Extracted every 10th element using the slice notation:\\n\", array[::10])\n",
        "print(\"\\n Reversed array by the slice notation:\\n\", array[::-1])\n",
        "elements = np.abs(np.sin(array)-np.cos(array)) < 0.1\n",
        "print(\"\\n Elements where the absolute difference between \"\n",
        "      \"the sin and cos functions is smaller than 0.1:\\n\", array[elements])\n",
        "pylab.title(\"The plot\")\n",
        "pylab.plot(array, np.sin(array), array, np.cos(array))\n",
        "pylab.show()"
      ],
      "metadata": {
        "colab": {
          "base_uri": "https://localhost:8080/",
          "height": 1000
        },
        "id": "l1OkIYzi8ZMK",
        "outputId": "3ea6fcc6-516f-4366-db0f-cd3983042447"
      },
      "execution_count": null,
      "outputs": [
        {
          "output_type": "stream",
          "name": "stdout",
          "text": [
            "The linear space with 100 values between 0 and 2*pi (inclusive):\n",
            " [0.         0.06346652 0.12693304 0.19039955 0.25386607 0.31733259\n",
            " 0.38079911 0.44426563 0.50773215 0.57119866 0.63466518 0.6981317\n",
            " 0.76159822 0.82506474 0.88853126 0.95199777 1.01546429 1.07893081\n",
            " 1.14239733 1.20586385 1.26933037 1.33279688 1.3962634  1.45972992\n",
            " 1.52319644 1.58666296 1.65012947 1.71359599 1.77706251 1.84052903\n",
            " 1.90399555 1.96746207 2.03092858 2.0943951  2.15786162 2.22132814\n",
            " 2.28479466 2.34826118 2.41172769 2.47519421 2.53866073 2.60212725\n",
            " 2.66559377 2.72906028 2.7925268  2.85599332 2.91945984 2.98292636\n",
            " 3.04639288 3.10985939 3.17332591 3.23679243 3.30025895 3.36372547\n",
            " 3.42719199 3.4906585  3.55412502 3.61759154 3.68105806 3.74452458\n",
            " 3.8079911  3.87145761 3.93492413 3.99839065 4.06185717 4.12532369\n",
            " 4.1887902  4.25225672 4.31572324 4.37918976 4.44265628 4.5061228\n",
            " 4.56958931 4.63305583 4.69652235 4.75998887 4.82345539 4.88692191\n",
            " 4.95038842 5.01385494 5.07732146 5.14078798 5.2042545  5.26772102\n",
            " 5.33118753 5.39465405 5.45812057 5.52158709 5.58505361 5.64852012\n",
            " 5.71198664 5.77545316 5.83891968 5.9023862  5.96585272 6.02931923\n",
            " 6.09278575 6.15625227 6.21971879 6.28318531]\n",
            "\n",
            " Extracted every 10th element using the slice notation:\n",
            " [0.         0.63466518 1.26933037 1.90399555 2.53866073 3.17332591\n",
            " 3.8079911  4.44265628 5.07732146 5.71198664]\n",
            "\n",
            " Reversed array by the slice notation:\n",
            " [6.28318531 6.21971879 6.15625227 6.09278575 6.02931923 5.96585272\n",
            " 5.9023862  5.83891968 5.77545316 5.71198664 5.64852012 5.58505361\n",
            " 5.52158709 5.45812057 5.39465405 5.33118753 5.26772102 5.2042545\n",
            " 5.14078798 5.07732146 5.01385494 4.95038842 4.88692191 4.82345539\n",
            " 4.75998887 4.69652235 4.63305583 4.56958931 4.5061228  4.44265628\n",
            " 4.37918976 4.31572324 4.25225672 4.1887902  4.12532369 4.06185717\n",
            " 3.99839065 3.93492413 3.87145761 3.8079911  3.74452458 3.68105806\n",
            " 3.61759154 3.55412502 3.4906585  3.42719199 3.36372547 3.30025895\n",
            " 3.23679243 3.17332591 3.10985939 3.04639288 2.98292636 2.91945984\n",
            " 2.85599332 2.7925268  2.72906028 2.66559377 2.60212725 2.53866073\n",
            " 2.47519421 2.41172769 2.34826118 2.28479466 2.22132814 2.15786162\n",
            " 2.0943951  2.03092858 1.96746207 1.90399555 1.84052903 1.77706251\n",
            " 1.71359599 1.65012947 1.58666296 1.52319644 1.45972992 1.3962634\n",
            " 1.33279688 1.26933037 1.20586385 1.14239733 1.07893081 1.01546429\n",
            " 0.95199777 0.88853126 0.82506474 0.76159822 0.6981317  0.63466518\n",
            " 0.57119866 0.50773215 0.44426563 0.38079911 0.31733259 0.25386607\n",
            " 0.19039955 0.12693304 0.06346652 0.        ]\n",
            "\n",
            " Elements where the absolute difference between the sin and cos functions is smaller than 0.1:\n",
            " [0.76159822 0.82506474 3.87145761 3.93492413]\n"
          ]
        },
        {
          "output_type": "display_data",
          "data": {
            "text/plain": [
              "<Figure size 432x288 with 1 Axes>"
            ],
            "image/png": "[encoded data removed]"
          },
          "metadata": {
            "needs_background": "light"
          }
        }
      ]
    },
    {
      "cell_type": "code",
      "source": [
        "#EX5\n",
        "print(\"The table:\")\n",
        "ns = np.arange(1, 11)\n",
        "m = ns[:, None] * ns[None, :]\n",
        "print(m)\n",
        "print(\"\\n The trace: \", m.trace())\n",
        "print(\"\\n The anti-diagonal: \", np.flipud(m).diagonal())\n",
        "print(\"\\n The diagonal offset by 1 upwards: \", m.diagonal(offset=1))"
      ],
      "metadata": {
        "colab": {
          "base_uri": "https://localhost:8080/"
        },
        "id": "wh6LKFNvDLBB",
        "outputId": "6fdd0876-63ff-455b-ba31-40b84492b19e"
      },
      "execution_count": null,
      "outputs": [
        {
          "output_type": "stream",
          "name": "stdout",
          "text": [
            "The table:\n",
            "[[  1   2   3   4   5   6   7   8   9  10]\n",
            " [  2   4   6   8  10  12  14  16  18  20]\n",
            " [  3   6   9  12  15  18  21  24  27  30]\n",
            " [  4   8  12  16  20  24  28  32  36  40]\n",
            " [  5  10  15  20  25  30  35  40  45  50]\n",
            " [  6  12  18  24  30  36  42  48  54  60]\n",
            " [  7  14  21  28  35  42  49  56  63  70]\n",
            " [  8  16  24  32  40  48  56  64  72  80]\n",
            " [  9  18  27  36  45  54  63  72  81  90]\n",
            " [ 10  20  30  40  50  60  70  80  90 100]]\n",
            "\n",
            " The trace:  385\n",
            "\n",
            " The anti-diagonal:  [10 18 24 28 30 30 28 24 18 10]\n",
            "\n",
            " The diagonal offset by 1 upwards:  [ 2  6 12 20 30 42 56 72 90]\n"
          ]
        }
      ]
    },
    {
      "cell_type": "code",
      "source": [
        "#Ex6\n",
        "\n",
        "miles = np.array([0, 198, 303, 736, 871, 1175, 1475, 1544, 1913, 2448])\n",
        "distance = np.abs(miles - miles[:, np.newaxis])\n",
        "print(\"\\n The distance between the cities:\\n\", distance)\n",
        "print(\"\\n Convert to km: \\n\", distance/0.62137119)"
      ],
      "metadata": {
        "colab": {
          "base_uri": "https://localhost:8080/"
        },
        "id": "vpkU6-UUEik_",
        "outputId": "a3048f54-4350-4e90-a79f-15247f36cae4"
      },
      "execution_count": null,
      "outputs": [
        {
          "output_type": "stream",
          "name": "stdout",
          "text": [
            "\n",
            " The distance between the cities:\n",
            " [[   0  198  303  736  871 1175 1475 1544 1913 2448]\n",
            " [ 198    0  105  538  673  977 1277 1346 1715 2250]\n",
            " [ 303  105    0  433  568  872 1172 1241 1610 2145]\n",
            " [ 736  538  433    0  135  439  739  808 1177 1712]\n",
            " [ 871  673  568  135    0  304  604  673 1042 1577]\n",
            " [1175  977  872  439  304    0  300  369  738 1273]\n",
            " [1475 1277 1172  739  604  300    0   69  438  973]\n",
            " [1544 1346 1241  808  673  369   69    0  369  904]\n",
            " [1913 1715 1610 1177 1042  738  438  369    0  535]\n",
            " [2448 2250 2145 1712 1577 1273  973  904  535    0]]\n",
            "\n",
            " Convert to km: \n",
            " [[   0.          318.65011315  487.63123376 1184.47718826 1401.73862905\n",
            "  1890.97920681 2373.78240855 2484.82714495 3078.67508309 3939.67412619]\n",
            " [ 318.65011315    0.          168.98112061  865.82707512 1083.0885159\n",
            "  1572.32909366 2055.1322954  2166.1770318  2760.02496994 3621.02401304]\n",
            " [ 487.63123376  168.98112061    0.          696.84595451  914.10739529\n",
            "  1403.34797305 1886.15117479 1997.19591119 2591.04384933 3452.04289243]\n",
            " [1184.47718826  865.82707512  696.84595451    0.          217.26144078\n",
            "   706.50201854 1189.30522028 1300.34995668 1894.19789482 2755.19693792]\n",
            " [1401.73862905 1083.0885159   914.10739529  217.26144078    0.\n",
            "   489.24057776  972.0437795  1083.0885159  1676.93645404 2537.93549714]\n",
            " [1890.97920681 1572.32909366 1403.34797305  706.50201854  489.24057776\n",
            "     0.          482.80320174  593.84793814 1187.69587628 2048.69491938]\n",
            " [2373.78240855 2055.1322954  1886.15117479 1189.30522028  972.0437795\n",
            "   482.80320174    0.          111.0447364   704.89267454 1565.89171764]\n",
            " [2484.82714495 2166.1770318  1997.19591119 1300.34995668 1083.0885159\n",
            "   593.84793814  111.0447364     0.          593.84793814 1454.84698124]\n",
            " [3078.67508309 2760.02496994 2591.04384933 1894.19789482 1676.93645404\n",
            "  1187.69587628  704.89267454  593.84793814    0.          860.9990431 ]\n",
            " [3939.67412619 3621.02401304 3452.04289243 2755.19693792 2537.93549714\n",
            "  2048.69491938 1565.89171764 1454.84698124  860.9990431     0.        ]]\n"
          ]
        }
      ]
    },
    {
      "cell_type": "code",
      "source": [
        "#EX7\n",
        "\n",
        "starting_time=timeit.default_timer()\n",
        "N=100\n",
        "x=np.full((N,),True)\n",
        "x[0],x[1]=False,False\n",
        "for i in range(2,N):\n",
        "    for j in range(i+1,N):\n",
        "        if j%i==0 and x[j]== True:\n",
        "            x[j]=False\n",
        "\n",
        "y=np.arange(N)\n",
        "print('The numbers between 0 and 100:\\n',y[x])\n",
        "print(\"Difference in the first time :\", timeit.default_timer() - starting_time,'\\n')\n",
        "\n",
        "starting_time=timeit.default_timer()\n",
        "x=np.full((N,),True)\n",
        "x[0],x[1]=False,False\n",
        "\n",
        "for i in range(2,N):\n",
        "    for j in range(i**2,N,i):\n",
        "        if j%i==0 and x[j]== True:\n",
        "            x[j]=False\n",
        "\n",
        "y=np.arange(N)\n",
        "print('The numbers between 0 and 100:\\n',y[x])\n",
        "print(\"Difference when it is optimized:\", timeit.default_timer() - starting_time)"
      ],
      "metadata": {
        "colab": {
          "base_uri": "https://localhost:8080/"
        },
        "id": "jjJzg66gFt9x",
        "outputId": "ec845fb8-52da-48d6-d107-a07c9bd95450"
      },
      "execution_count": null,
      "outputs": [
        {
          "output_type": "stream",
          "name": "stdout",
          "text": [
            "The numbers between 0 and 100:\n",
            " [ 2  3  5  7 11 13 17 19 23 29 31 37 41 43 47 53 59 61 67 71 73 79 83 89\n",
            " 97]\n",
            "Difference in the first time : 0.005929628999979286 \n",
            "\n",
            "The numbers between 0 and 100:\n",
            " [ 2  3  5  7 11 13 17 19 23 29 31 37 41 43 47 53 59 61 67 71 73 79 83 89\n",
            " 97]\n",
            "Difference when it is optimized: 0.003072558999974717\n"
          ]
        }
      ]
    },
    {
      "cell_type": "code",
      "source": [
        "#EX8\n",
        "\n",
        "walkers=1000\n",
        "steps=200\n",
        "x=np.random.randint(0,2,(walkers,steps))\n",
        "x[x==0]=-1\n",
        "\n",
        "distance = x.sum(axis=1)\n",
        "print('The distance for each walker is:\\n',distance)\n",
        "\n",
        "distance_squared=np.square(distance)\n",
        "mean_squared_distances=np.mean( np.cumsum(x, axis=1)**2 , axis=0)\n",
        "print('The distance for each walker is:\\n',mean_squared_distances)"
      ],
      "metadata": {
        "colab": {
          "base_uri": "https://localhost:8080/"
        },
        "id": "tFzXOwPZTJLb",
        "outputId": "3a3d254a-3be1-4c5d-cd76-583754b5ba1e"
      },
      "execution_count": null,
      "outputs": [
        {
          "output_type": "stream",
          "name": "stdout",
          "text": [
            "The distance for each walker is:\n",
            " [-12  20   8  -4  -2  12  -6  10  -8  16 -10  -2   4 -12  10   4 -12 -24\n",
            "  -6   2  -8  -6  -2  24 -14  -2  -6 -12 -24  16  16   6   2 -22   2  20\n",
            "   6   0   0  -4  -2   4  26 -12 -18  12  32 -30   8 -14 -10   0 -28  -8\n",
            "   0   2   0  16  20  14  -2  38 -16 -10  -2  22  14  14   2  -6  -4  -2\n",
            "   2  22  -2  28   2   4  -2  24  18  12 -20  -8 -18  12  -2 -18   6 -16\n",
            "  22   6  32   6  -2  44   4   4 -12  12  -2  -4   8   2   4 -18  16 -14\n",
            "  -6 -18   0   4  -2  -6 -24 -26  20  -8   0   2  12  16  28   2  18   8\n",
            "   8  -4  26   8 -14  14 -20   4  14  -8 -14  12 -12   6  -2  14  18 -20\n",
            "   0  -4  -2   0  22   2  -2   4  -6 -14  -2 -20 -18   0  -4  -2  -4  -6\n",
            "  18 -24 -30  12  28 -10  26  -6  -2 -12 -16   0   0  14 -30  10 -10   2\n",
            "  38  -2 -12  14  -8  18   0   4 -18   0 -14 -14  -2   2 -14   0  22 -16\n",
            "  22   8   0  -2 -26  -6   2   8 -10 -24 -16   0  -6 -14   6  12  12 -16\n",
            "   2   8  20 -22 -10  14  26   0   2  -8   4  12  -8  -8   4 -10  -4 -18\n",
            "   4   4  -6   4  -6 -18 -14  10  -4  20  12  20  14  -2  20  12   8  10\n",
            "  20  -4   4 -16 -10  24  36  -2  24   6   0  -8   0  -6   6  22 -30  10\n",
            "  18 -26 -10  12  12  12  20  20  16  18  12   6   2  14 -32  38  16 -22\n",
            "   8   8  16 -12  -4 -18 -16  -4   8  10  16  10  12  -8   8   6 -18   2\n",
            "   4  -8   2 -10   8  -6  18 -18  -6 -22   6 -10  -6  10 -22 -12  -2 -12\n",
            "  -4  24  -8  22 -38  16   2   0  -6   8 -14 -16   2  30  36 -26  22   6\n",
            " -48   2  20  10  -2  12 -30 -14  12   2  32  12   4 -20   6 -28  -8 -24\n",
            "   8 -10  16  -6  12  -8  -4   2   8   4 -10   6 -18  24 -16   8  16 -12\n",
            " -18   2  24   8  16   6   8   4   4  -2 -18 -10   6  -6  20  14   4  10\n",
            "  14   2   0  26   2  -4 -14 -10 -16  14  -6   4   4  24 -10   4 -10   4\n",
            " -42  18   0  18 -16 -22  12  -4 -20 -14   2  -8  20   4   0  -8 -18  -4\n",
            "   0  -4 -14  20 -24   0  -4 -12 -22  12   6  -4   2  14  -8 -22   6  10\n",
            "   4   0 -20  16 -16  -8  -4   2 -12  16 -16  30  -4  10   2  12   6  20\n",
            "  18   0  18 -10  12  -2   8   6  -6 -12  10  10 -10  -2 -12 -16   2   8\n",
            " -16   8  -4 -16  18  -6   2  14  16   2   2  -6  -4  32  18 -22  12   0\n",
            "  -4   2  24  26  -2  -6  12 -14 -28   2 -12  16  -6  -2  10  16  -6  42\n",
            "  -2   6  -8   2   0  -6 -16  18 -10  14 -12   4   4  -6   6   0  16  34\n",
            "  12 -22   2 -22  -2   8 -16 -18  20   4 -14 -20 -20 -12  14 -26  12   6\n",
            "  30   0   4  20  -8 -24  22  -6  -4  -8 -12  16  -2 -18 -14   2 -10   2\n",
            "  16   8  -8  -6  -2   4  -8 -22   8   2  -2  10  12  -4  -2  -8 -20 -24\n",
            "  -2  28  22 -24  -2  20  -8  16  -6  -6  18 -28   2 -14 -24   6  10   0\n",
            "   2  22  -6 -16  10  -8  10   6  -6 -24 -16   2 -14   8  -8   4   4  14\n",
            " -10   4  12 -10 -12 -14   6   6  10  -2  20  -2 -16   4   0  14  20  -2\n",
            "  -2  16 -10   0   0  -8  -6 -22   0   6  -2  -6 -18  22  -2 -24  -6   8\n",
            " -10 -16  12 -24   2 -10 -10  -6  12   2  14  12   6   0  40  10  -8 -32\n",
            "   4   6  -6   6 -10  14 -24  22  16   8 -22  -6  26  -6  32  -8 -10  14\n",
            "  -6 -20  16   2  -8  22   2  10 -20  -6 -14  -2  10 -14   6   2  20 -14\n",
            "   2   6 -10  10  24  -2  -2  10  -8  24   8 -12   8 -14   2  -4  14  22\n",
            "  22   2   4   6  12   8   0   6   6 -22  14  12  10   2 -18   4  20   2\n",
            "   0 -26   6  14   4   4  -8  14  -8  -6   6 -18 -20  26   0  -2  26 -16\n",
            "   2   0   2   2  -6  10 -12  34  -8  32   4   8  26  -2  16 -16   2 -18\n",
            "   2  -6  14  -2   4  30 -10 -12 -16  -4 -22  -2 -14  -4   0   6   4  20\n",
            "  -4  -2   2   6  24 -12 -16  32  -2   4  14   6 -10  18  -6  14   4  -6\n",
            " -10 -14   8  -2   6  16   0  12   2  18  -6   0  -6  -6 -10  22   8   0\n",
            " -14  12  18  22  -8 -18  -4  -2   0 -30  10 -14   6  12 -10   4  12  18\n",
            "   8 -16   6 -26 -44  18 -20 -26   6  20 -16  30  -6  -6  -2  22 -10 -18\n",
            "   6  14  14   4  24  -8  -2  18  24 -20  10   4  10 -18  22  -2  10   4\n",
            "  -4  12 -12  14  16  -8   6  12  16  18  -6  12   4   6  14  18  -4  14\n",
            "   6 -14  -2   6 -22  -8  -8 -14   0 -18 -16  -4 -16   6 -24   6  -2   0\n",
            "  -2   6 -12 -12  -8  14 -14  -6  20 -28  14  -2   2   0   8   4 -18   2\n",
            "  10  -6  -2  14 -10   6   8  18   0 -14   0   0   2 -10  14 -16   0  -2\n",
            "   4 -12 -18  42  12   8 -24 -22  12  -8   0   0  10 -18  -4  -4  10  -2\n",
            "  -8  -6   6   4   2   0  -2 -22 -14   2]\n",
            "The distance for each walker is:\n",
            " [  1.      1.92    2.928   3.988   5.088   6.12    7.12    8.18    9.104\n",
            "   9.992  11.248  12.248  13.248  13.94   14.76   15.436  16.184  17.284\n",
            "  18.76   19.852  20.72   21.588  22.736  23.392  24.224  25.096  26.104\n",
            "  26.74   27.416  28.152  29.032  29.812  31.064  32.172  33.176  33.252\n",
            "  34.2    34.856  35.656  36.504  37.024  38.4    39.448  41.024  41.96\n",
            "  42.176  43.008  44.796  46.016  47.472  48.712  49.684  50.928  52.028\n",
            "  53.336  53.516  54.288  55.516  56.448  56.964  57.68   59.292  59.584\n",
            "  61.588  62.376  64.144  64.992  65.704  66.896  67.112  68.288  69.184\n",
            "  69.672  70.908  72.096  72.58   73.704  75.     76.52   76.88   78.728\n",
            "  79.488  80.432  81.548  83.312  84.864  86.4    86.804  88.592  89.392\n",
            "  90.176  91.24   92.72   93.32   94.912  96.808  97.936  99.244  99.296\n",
            " 100.572 100.504 101.7   102.192 103.56  106.104 108.744 110.032 110.604\n",
            " 111.536 112.204 113.232 114.264 115.064 116.692 116.448 117.788 119.328\n",
            " 121.448 121.616 122.468 124.352 124.892 125.912 127.12  126.68  127.976\n",
            " 130.12  132.26  133.576 134.48  134.216 136.312 137.416 137.156 138.52\n",
            " 139.628 141.016 142.412 143.128 144.272 145.48  146.032 146.84  149.1\n",
            " 148.304 148.552 150.32  149.472 150.352 151.96  153.608 152.964 154.096\n",
            " 154.4   155.936 157.128 158.368 159.012 159.888 159.992 161.232 162.428\n",
            " 164.064 164.068 164.488 163.432 164.2   164.224 163.416 163.856 163.688\n",
            " 164.588 165.104 167.356 168.032 167.792 168.128 168.472 170.952 171.772\n",
            " 172.2   173.172 174.336 175.912 176.656 176.456 178.408 178.736 180.512\n",
            " 181.152 181.744 182.98  184.608 184.636 187.6   188.808 190.544 191.62\n",
            " 192.632 193.544]\n"
          ]
        }
      ]
    }
  ]
}