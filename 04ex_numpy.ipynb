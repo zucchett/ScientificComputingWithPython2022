{
 "cells": [
  {
   "cell_type": "markdown",
   "metadata": {},
   "source": [
    "1\\. **Reductions**\n",
    "\n",
    "Find the total mean, and the mean for each row and column of the following matrix:\n",
    "\n",
    "```python\n",
    "m = np.arange(12).reshape((3,4))\n",
    "```"
   ]
  },
  {
   "cell_type": "code",
   "execution_count": 1,
   "metadata": {},
   "outputs": [
    {
     "name": "stdout",
     "output_type": "stream",
     "text": [
      "5.5\n",
      "[4. 5. 6. 7.]\n",
      "[1.5 5.5 9.5]\n"
     ]
    }
   ],
   "source": [
    "import numpy as np\n",
    "m = np.arange(12).reshape((3,4))\n",
    "print(m.mean())\n",
    "print(np.mean(m,axis=0))\n",
    "print(np.mean(m,axis=1))"
   ]
  },
  {
   "cell_type": "markdown",
   "metadata": {},
   "source": [
    "2\\. **Outer product**\n",
    "\n",
    "Find the outer product of the following vectors:\n",
    "\n",
    "```python\n",
    "u = np.array([1, 3, 5, 7])\n",
    "v = np.array([2, 4, 6, 8])\n",
    "```\n",
    "\n",
    "Use different methods to do this:\n",
    "\n",
    "   1. Using the function `outer` in numpy\n",
    "   2. Using a nested `for` loop or a list comprehension\n",
    "   3. Using numpy broadcasting operations"
   ]
  },
  {
   "cell_type": "code",
   "execution_count": 2,
   "metadata": {},
   "outputs": [
    {
     "name": "stdout",
     "output_type": "stream",
     "text": [
      "[[ 2  4  6  8]\n",
      " [ 6 12 18 24]\n",
      " [10 20 30 40]\n",
      " [14 28 42 56]]\n",
      "[[ 2.  4.  6.  8.]\n",
      " [ 6. 12. 18. 24.]\n",
      " [10. 20. 30. 40.]\n",
      " [14. 28. 42. 56.]]\n",
      "[[ 2  6 10 14]\n",
      " [ 4 12 20 28]\n",
      " [ 6 18 30 42]\n",
      " [ 8 24 40 56]]\n"
     ]
    }
   ],
   "source": [
    "import numpy as np\n",
    "u = np.array([1, 3, 5, 7])\n",
    "v = np.array([2, 4, 6, 8])\n",
    "print(np.outer(u,v))\n",
    "outer= np.zeros((u.shape[0],v.shape[0]))\n",
    "for i in range(u.shape[0]):\n",
    "    for j in range(v.shape[0]):\n",
    "        outer[i][j]= u[i]*v[j]\n",
    "print(outer)\n",
    "\n",
    "outer_2=u*v.reshape(len(v),1)\n",
    "print(outer_2)"
   ]
  },
  {
   "cell_type": "markdown",
   "metadata": {},
   "source": [
    "3\\. **Matrix masking**\n",
    "\n",
    "Create a 10 by 6 matrix of float random numbers, distributed between 0 and 3 according to a flat distribution.\n",
    "\n",
    "After creating the matrix, set all entries $< 0.3$ to zero using a mask."
   ]
  },
  {
   "cell_type": "code",
   "execution_count": 33,
   "metadata": {},
   "outputs": [
    {
     "name": "stdout",
     "output_type": "stream",
     "text": [
      "[[0.91238549 2.24674433 0.00358415 1.47584285 0.89797093 0.43513589]\n",
      " [1.13694107 2.84583671 0.29352031 2.58443131 1.49194748 1.2693024 ]\n",
      " [0.58468227 0.47924301 1.92288059 1.23623603 1.18877814 2.84964911]\n",
      " [1.6487053  0.45691491 0.42071646 2.69954447 0.26484156 1.37719671]\n",
      " [1.82560362 0.13663838 1.11818    0.89328675 0.93339202 0.47846717]\n",
      " [2.65017328 2.94965785 1.2191365  2.74369792 2.27368649 1.67887276]\n",
      " [1.21998164 1.74130893 2.86271774 0.62675985 0.66291941 0.59853029]\n",
      " [0.15886111 2.4654862  1.50453276 0.60700135 0.13195334 0.71766608]\n",
      " [2.01863443 2.92991932 1.20158474 0.2021369  2.53185106 2.08794517]\n",
      " [0.64755101 0.76748448 2.78220269 0.0318991  1.53741669 2.0499283 ]]\n",
      "[[0.91238549 2.24674433 0.         1.47584285 0.89797093 0.43513589]\n",
      " [1.13694107 2.84583671 0.         2.58443131 1.49194748 1.2693024 ]\n",
      " [0.58468227 0.47924301 1.92288059 1.23623603 1.18877814 2.84964911]\n",
      " [1.6487053  0.45691491 0.42071646 2.69954447 0.         1.37719671]\n",
      " [1.82560362 0.         1.11818    0.89328675 0.93339202 0.47846717]\n",
      " [2.65017328 2.94965785 1.2191365  2.74369792 2.27368649 1.67887276]\n",
      " [1.21998164 1.74130893 2.86271774 0.62675985 0.66291941 0.59853029]\n",
      " [0.         2.4654862  1.50453276 0.60700135 0.         0.71766608]\n",
      " [2.01863443 2.92991932 1.20158474 0.         2.53185106 2.08794517]\n",
      " [0.64755101 0.76748448 2.78220269 0.         1.53741669 2.0499283 ]]\n"
     ]
    }
   ],
   "source": [
    "import numpy as np\n",
    "m=np.random.uniform(0,3,(10,6))\n",
    "print(m)\n",
    "rand_mask= m <0.3\n",
    "m[rand_mask]=0\n",
    "print(m)"
   ]
  },
  {
   "cell_type": "markdown",
   "metadata": {},
   "source": [
    "4\\. **Trigonometric functions**\n",
    "\n",
    "Use `np.linspace` to create an array of 100 numbers between $0$ and $2\\pi$ (inclusive).\n",
    "\n",
    "  * Extract every 10th element using the slice notation\n",
    "  * Reverse the array using the slice notation\n",
    "  * Extract elements where the absolute difference between the `sin` and `cos` functions evaluated for that element is $< 0.1$\n",
    "  * **Optional**: make a plot showing the sin and cos functions and indicate where they are close"
   ]
  },
  {
   "cell_type": "code",
   "execution_count": 1,
   "metadata": {
    "scrolled": true
   },
   "outputs": [
    {
     "name": "stdout",
     "output_type": "stream",
     "text": [
      "Extracting every 10th element:\n",
      "\n",
      "[0.         0.63466518 1.26933037 1.90399555 2.53866073 3.17332591\n",
      " 3.8079911  4.44265628 5.07732146 5.71198664]\n",
      "Reversing the matrix:\n",
      "\n",
      "[6.28318531 6.21971879 6.15625227 6.09278575 6.02931923 5.96585272\n",
      " 5.9023862  5.83891968 5.77545316 5.71198664 5.64852012 5.58505361\n",
      " 5.52158709 5.45812057 5.39465405 5.33118753 5.26772102 5.2042545\n",
      " 5.14078798 5.07732146 5.01385494 4.95038842 4.88692191 4.82345539\n",
      " 4.75998887 4.69652235 4.63305583 4.56958931 4.5061228  4.44265628\n",
      " 4.37918976 4.31572324 4.25225672 4.1887902  4.12532369 4.06185717\n",
      " 3.99839065 3.93492413 3.87145761 3.8079911  3.74452458 3.68105806\n",
      " 3.61759154 3.55412502 3.4906585  3.42719199 3.36372547 3.30025895\n",
      " 3.23679243 3.17332591 3.10985939 3.04639288 2.98292636 2.91945984\n",
      " 2.85599332 2.7925268  2.72906028 2.66559377 2.60212725 2.53866073\n",
      " 2.47519421 2.41172769 2.34826118 2.28479466 2.22132814 2.15786162\n",
      " 2.0943951  2.03092858 1.96746207 1.90399555 1.84052903 1.77706251\n",
      " 1.71359599 1.65012947 1.58666296 1.52319644 1.45972992 1.3962634\n",
      " 1.33279688 1.26933037 1.20586385 1.14239733 1.07893081 1.01546429\n",
      " 0.95199777 0.88853126 0.82506474 0.76159822 0.6981317  0.63466518\n",
      " 0.57119866 0.50773215 0.44426563 0.38079911 0.31733259 0.25386607\n",
      " 0.19039955 0.12693304 0.06346652 0.        ]\n",
      "extracting numbers with my condition:\n",
      "\n",
      "[0.76159822 0.82506474 3.87145761 3.93492413]\n",
      "Additional task\n"
     ]
    },
    {
     "data": {
      "image/png": "[encoded data removed]",
      "text/plain": [
       "<Figure size 432x288 with 1 Axes>"
      ]
     },
     "metadata": {
      "needs_background": "light"
     },
     "output_type": "display_data"
    }
   ],
   "source": [
    "import numpy as np\n",
    "import math\n",
    "import matplotlib.pyplot as plt\n",
    "vect=np.linspace(0,2*math.pi,100)\n",
    "print(\"Extracting every 10th element:\\n\")\n",
    "print(vect[0:100:10]) ##10th element\n",
    "print(\"Reversing the matrix:\\n\")\n",
    "print(vect[::-1]) ##reverse\n",
    "\n",
    "my_mask=(np.absolute((np.sin(vect)-np.cos(vect)))<0.1)\n",
    "new_vect= vect[my_mask]\n",
    "print(\"extracting numbers with my condition:\\n\")\n",
    "print(new_vect) ##the difference\n",
    "\n",
    "print(\"Additional task\")\n",
    "x=plt.plot(np.cos(vect))\n",
    "y=plt.plot(np.sin(vect))\n",
    "plt.show()\n",
    "\n"
   ]
  },
  {
   "cell_type": "markdown",
   "metadata": {},
   "source": [
    "5\\. **Matrices**\n",
    "\n",
    "Create a matrix that shows the 10 by 10 multiplication table.\n",
    "\n",
    " * Find the trace of the matrix\n",
    " * Extract the anti-diagonal matrix (this should be ```array([10, 18, 24, 28, 30, 30, 28, 24, 18, 10])```)\n",
    " * Extract the diagonal offset by 1 upwards (this should be ```array([ 2,  6, 12, 20, 30, 42, 56, 72, 90])```)"
   ]
  },
  {
   "cell_type": "code",
   "execution_count": 2,
   "metadata": {},
   "outputs": [
    {
     "name": "stdout",
     "output_type": "stream",
     "text": [
      "[[  1   2   3   4   5   6   7   8   9  10]\n",
      " [  2   4   6   8  10  12  14  16  18  20]\n",
      " [  3   6   9  12  15  18  21  24  27  30]\n",
      " [  4   8  12  16  20  24  28  32  36  40]\n",
      " [  5  10  15  20  25  30  35  40  45  50]\n",
      " [  6  12  18  24  30  36  42  48  54  60]\n",
      " [  7  14  21  28  35  42  49  56  63  70]\n",
      " [  8  16  24  32  40  48  56  64  72  80]\n",
      " [  9  18  27  36  45  54  63  72  81  90]\n",
      " [ 10  20  30  40  50  60  70  80  90 100]]\n",
      "The trace of the matrix is 385\n",
      "the anti diagonal is [10 18 24 28 30 30 28 24 18 10]\n",
      "the diagonal with offset is [ 2  6 12 20 30 42 56 72 90]\n"
     ]
    }
   ],
   "source": [
    "import numpy as np\n",
    "x=np.arange(1,11)\n",
    "mult=x*x.reshape(len(x),1)\n",
    "print(mult)\n",
    "print(\"The trace of the matrix is\", mult.trace())\n",
    "temp=np.flip(mult, axis=0)\n",
    "anti_diagonal=np.diag(temp)\n",
    "print(\"the anti diagonal is\", anti_diagonal)\n",
    "new_diagonal=np.diag(mult,1)\n",
    "print(\"the diagonal with offset is\",new_diagonal)"
   ]
  },
  {
   "cell_type": "markdown",
   "metadata": {},
   "source": [
    "6\\. **Broadcasting**\n",
    "\n",
    "Use broadcasting to create a grid of distances.\n",
    "\n",
    "Route 66 crosses the following cities in the US: Chicago, Springfield, Saint-Louis, Tulsa, Oklahoma City, Amarillo, Santa Fe, Albuquerque, Flagstaff, Los Angeles.\n",
    "\n",
    "The corresponding positions in miles are: 0, 198, 303, 736, 871, 1175, 1475, 1544, 1913, 2448\n",
    "\n",
    "  * Build a 2D grid of distances among each city along Route 66\n",
    "  * Convert the distances in km"
   ]
  },
  {
   "cell_type": "code",
   "execution_count": 3,
   "metadata": {},
   "outputs": [
    {
     "name": "stdout",
     "output_type": "stream",
     "text": [
      "The grid of distances is:\n",
      " [[   0.     318.582  487.527 1184.224 1401.439 1890.575 2373.275 2484.296\n",
      "  3078.017 3938.832]\n",
      " [ 318.582    0.     168.945  865.642 1082.857 1571.993 2054.693 2165.714\n",
      "  2759.435 3620.25 ]\n",
      " [ 487.527  168.945    0.     696.697  913.912 1403.048 1885.748 1996.769\n",
      "  2590.49  3451.305]\n",
      " [1184.224  865.642  696.697    0.     217.215  706.351 1189.051 1300.072\n",
      "  1893.793 2754.608]\n",
      " [1401.439 1082.857  913.912  217.215    0.     489.136  971.836 1082.857\n",
      "  1676.578 2537.393]\n",
      " [1890.575 1571.993 1403.048  706.351  489.136    0.     482.7    593.721\n",
      "  1187.442 2048.257]\n",
      " [2373.275 2054.693 1885.748 1189.051  971.836  482.7      0.     111.021\n",
      "   704.742 1565.557]\n",
      " [2484.296 2165.714 1996.769 1300.072 1082.857  593.721  111.021    0.\n",
      "   593.721 1454.536]\n",
      " [3078.017 2759.435 2590.49  1893.793 1676.578 1187.442  704.742  593.721\n",
      "     0.     860.815]\n",
      " [3938.832 3620.25  3451.305 2754.608 2537.393 2048.257 1565.557 1454.536\n",
      "   860.815    0.   ]]\n"
     ]
    }
   ],
   "source": [
    "import numpy as np\n",
    "dist= np.array([0, 198, 303, 736, 871, 1175, 1475, 1544, 1913, 2448])\n",
    "dist_2=dist.reshape(len(dist),1)\n",
    "m_distances=np.absolute(dist-dist_2)\n",
    "m_distances=m_distances*1.609\n",
    "print(\"The grid of distances is:\\n\", m_distances)"
   ]
  },
  {
   "cell_type": "markdown",
   "metadata": {},
   "source": [
    "7\\. **Prime numbers sieve**\n",
    "\n",
    "Compute the prime numbers in the 0-N (start with N=99) range with a sieve (mask).\n",
    "\n",
    "  * Constract a shape (N,) boolean array, which is the mask\n",
    "  * Identify the multiples of each number starting from 2 and set accordingly the corresponding mask element\n",
    "  * Apply the mask to obtain an array of ordered prime numbers\n",
    "  * Check the performances (with `timeit`); how does it scale with N?\n",
    "  * Implement the optimization suggested in the [sieve of Eratosthenes](https://en.wikipedia.org/wiki/Sieve_of_Eratosthenes)"
   ]
  },
  {
   "cell_type": "code",
   "execution_count": 22,
   "metadata": {},
   "outputs": [
    {
     "name": "stdout",
     "output_type": "stream",
     "text": [
      "The prime numbers are :\n",
      " [ 0  1  2  3  5  7 11 13 17 19 23 29 31 37 41 43 47 53 59 61 67 71 73 79\n",
      " 83 89 97]\n",
      "The execution of the function for N equal to 100 took 0.0010416600000553444 seconds\n",
      "The execution of the function for N equal to 200 took 0.003467399999863119 seconds\n",
      "The execution of the function for N equal to 400 took 0.017082839000067906 seconds\n"
     ]
    }
   ],
   "source": [
    "import numpy as np\n",
    "import timeit\n",
    "def prime_numbers(N):\n",
    "    numbers=[x for x in range(N+1)]\n",
    "    mask=[]\n",
    "    for i in range (N+1):\n",
    "        prime=True\n",
    "        for x in range (i):\n",
    "            if(x>1 and i%x==0):\n",
    "                prime=False\n",
    "        mask.append(prime)\n",
    "        \n",
    "    numbers=np.array(numbers)\n",
    "    prime_numbers=numbers[mask]\n",
    "    return prime_numbers\n",
    "\n",
    "\n",
    "print(\"The prime numbers are :\\n\",prime_numbers(99))\n",
    "N=100\n",
    "start_time=timeit.default_timer()\n",
    "prime_numbers(N)\n",
    "end_time=timeit.default_timer()\n",
    "execution_time=end_time-start_time\n",
    "print(\"The execution of the function for N equal to\", N, \"took\", execution_time, \"seconds\")\n",
    "N=200\n",
    "start_time=timeit.default_timer()\n",
    "prime_numbers(N)\n",
    "end_time=timeit.default_timer()\n",
    "execution_time=end_time-start_time\n",
    "print(\"The execution of the function for N equal to\", N, \"took\", execution_time, \"seconds\")\n",
    "N=400\n",
    "start_time=timeit.default_timer()\n",
    "prime_numbers(N)\n",
    "end_time=timeit.default_timer()\n",
    "execution_time=end_time-start_time\n",
    "print(\"The execution of the function for N equal to\", N, \"took\", execution_time, \"seconds\") ##not linear\n",
    "\n",
    "\n",
    "\n",
    "    "
   ]
  },
  {
   "cell_type": "markdown",
   "metadata": {},
   "source": [
    "8\\. **Diffusion using random walk**\n",
    "\n",
    "Consider a simple random walk process: at each step in time, a walker jumps right or left (+1 or -1) with equal probability. The goal is to find the typical distance from the origin of many random walkers after a given amount of time.\n",
    "\n",
    "*Hint*: create a 2D array where each row represents a walker, and each column represents a time step.\n",
    "\n",
    "  * Take 1000 walkers and let them walk for 200 steps\n",
    "  * Use `randint` to create a 2D array of size $walkers \\times steps$ with values -1 or 1\n",
    "  * Calculate the walking distances for each walker (e.g. by summing the elements in each row)\n",
    "  * Take the square of the previously-obtained array (element-wise)\n",
    "  * Compute the mean of the squared distances at each step (i.e. the mean along the columns)\n",
    "  * **Optional**: plot the average distances ($\\sqrt(distance^2)$) as a function of time (step)"
   ]
  },
  {
   "cell_type": "code",
   "execution_count": null,
   "metadata": {},
   "outputs": [],
   "source": []
  }
 ],
 "metadata": {
  "kernelspec": {
   "display_name": "Python 3 (ipykernel)",
   "language": "python",
   "name": "python3"
  },
  "language_info": {
   "codemirror_mode": {
    "name": "ipython",
    "version": 3
   },
   "file_extension": ".py",
   "mimetype": "text/x-python",
   "name": "python",
   "nbconvert_exporter": "python",
   "pygments_lexer": "ipython3",
   "version": "3.10.6"
  }
 },
 "nbformat": 4,
 "nbformat_minor": 2
}
