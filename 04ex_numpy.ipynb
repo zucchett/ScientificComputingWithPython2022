{
 "cells": [
  {
   "cell_type": "markdown",
   "metadata": {},
   "source": [
    "1\\. **Reductions**\n",
    "\n",
    "Find the total mean, and the mean for each row and column of the following matrix:\n",
    "\n",
    "```python\n",
    "m = np.arange(12).reshape((3,4))\n",
    "```"
   ]
  },
  {
   "cell_type": "code",
   "execution_count": 2,
   "metadata": {},
   "outputs": [
    {
     "name": "stdout",
     "output_type": "stream",
     "text": [
      "[[ 0  1  2  3]\n",
      " [ 4  5  6  7]\n",
      " [ 8  9 10 11]]\n",
      "Total Mean: 5.5\n",
      "2\n",
      "Mean of row [0 1 2 3] : 1.5\n",
      "Mean of row [4 5 6 7] : 5.5\n",
      "Mean of row [ 8  9 10 11] : 9.5\n",
      "==========\n",
      "Mean of colum [0 4 8] : 4.0\n",
      "Mean of colum [1 5 9] : 5.0\n",
      "Mean of colum [ 2  6 10] : 6.0\n",
      "Mean of colum [ 3  7 11] : 7.0\n"
     ]
    }
   ],
   "source": [
    "import numpy as np\n",
    "m = np.arange(12).reshape((3,4))\n",
    "print(m)\n",
    "print(\"Total Mean:\",np.mean(m))\n",
    "print(m.ndim)\n",
    "for raw in m:\n",
    "    print(f\"Mean of row {raw} :\",raw.mean())\n",
    "mt = m.transpose()\n",
    "print(\"=\"*10)\n",
    "for col in mt:\n",
    "    print(f\"Mean of colum {col} :\",col.mean())\n",
    "# for row in m.ndim\n",
    "# print(np.mean(m,axis=0))"
   ]
  },
  {
   "cell_type": "markdown",
   "metadata": {},
   "source": [
    "2\\. **Outer product**\n",
    "\n",
    "Find the outer product of the following vectors:\n",
    "\n",
    "```python\n",
    "u = np.array([1, 3, 5, 7])\n",
    "v = np.array([2, 4, 6, 8])\n",
    "```\n",
    "\n",
    "Use different methods to do this:\n",
    "\n",
    "   1. Using the function `outer` in numpy\n",
    "   2. Using a nested `for` loop or a list comprehension\n",
    "   3. Using numpy broadcasting operations"
   ]
  },
  {
   "cell_type": "code",
   "execution_count": 3,
   "metadata": {},
   "outputs": [
    {
     "name": "stdout",
     "output_type": "stream",
     "text": [
      "Outer product of 2 arrays with outer np: \n",
      " [[ 2  4  6  8]\n",
      " [ 6 12 18 24]\n",
      " [10 20 30 40]\n",
      " [14 28 42 56]]\n",
      "Outer product of 2 arrays with for loop : \n",
      " [[ 2  4  6  8]\n",
      " [ 6 12 18 24]\n",
      " [10 20 30 40]\n",
      " [14 28 42 56]]\n",
      "Outer product of 2 arrays with broadcasting operations : \n",
      " [[ 2  4  6  8]\n",
      " [ 6 12 18 24]\n",
      " [10 20 30 40]\n",
      " [14 28 42 56]]\n"
     ]
    }
   ],
   "source": [
    "#Outer np\n",
    "u = np.array([1, 3, 5, 7])\n",
    "v = np.array([2, 4, 6, 8])\n",
    "print(\"Outer product of 2 arrays with outer np: \\n\",np.outer(u,v))\n",
    "#For Loop\n",
    "\n",
    "forloop = np.array([i*j for i in u for j in v]).reshape(4,4)\n",
    "print(\"Outer product of 2 arrays with for loop : \\n\",forloop)\n",
    "\n",
    "##Numpy broadcasting operations\n",
    "u = u.reshape(4,1)\n",
    "print(\"Outer product of 2 arrays with broadcasting operations : \\n\",v*u)\n"
   ]
  },
  {
   "cell_type": "markdown",
   "metadata": {},
   "source": [
    "3\\. **Matrix masking**\n",
    "\n",
    "Create a 10 by 6 matrix of float random numbers, distributed between 0 and 3 according to a flat distribution.\n",
    "\n",
    "After creating the matrix, set all entries $< 0.3$ to zero using a mask."
   ]
  },
  {
   "cell_type": "code",
   "execution_count": 4,
   "metadata": {},
   "outputs": [
    {
     "name": "stdout",
     "output_type": "stream",
     "text": [
      "Matrix with random numbers: \n",
      " [[0.52825026 1.33407732 0.86772211 0.82314375 1.72111743 2.51987783]\n",
      " [1.69319092 1.15948755 0.28899847 0.92596094 2.00341605 1.04397071]\n",
      " [2.82528678 2.8518753  1.45158835 2.92089245 0.48366951 0.56224585]\n",
      " [0.99146347 0.97720578 1.00645618 1.29072735 0.73621516 1.44771472]\n",
      " [2.19268348 1.67334129 1.08994559 1.27686808 2.92838586 0.71667809]\n",
      " [0.88363285 0.29594477 1.34963188 0.97882664 2.32645343 0.38322291]\n",
      " [0.60493341 0.25068439 0.78056985 2.4088083  0.73881085 0.23744146]\n",
      " [1.45189098 2.57963225 2.49896793 1.40851509 2.22775663 0.78773323]\n",
      " [1.76104431 2.61278045 0.32687761 2.15037499 0.96185555 0.70366135]\n",
      " [0.89171952 1.14059425 1.74071866 2.59056798 2.51706165 2.77338373]]\n",
      "Matrix with replaced numbers <0.3 to 0 : \n",
      " [[0.52825026 1.33407732 0.86772211 0.82314375 1.72111743 2.51987783]\n",
      " [1.69319092 1.15948755 0.         0.92596094 2.00341605 1.04397071]\n",
      " [2.82528678 2.8518753  1.45158835 2.92089245 0.48366951 0.56224585]\n",
      " [0.99146347 0.97720578 1.00645618 1.29072735 0.73621516 1.44771472]\n",
      " [2.19268348 1.67334129 1.08994559 1.27686808 2.92838586 0.71667809]\n",
      " [0.88363285 0.         1.34963188 0.97882664 2.32645343 0.38322291]\n",
      " [0.60493341 0.         0.78056985 2.4088083  0.73881085 0.        ]\n",
      " [1.45189098 2.57963225 2.49896793 1.40851509 2.22775663 0.78773323]\n",
      " [1.76104431 2.61278045 0.32687761 2.15037499 0.96185555 0.70366135]\n",
      " [0.89171952 1.14059425 1.74071866 2.59056798 2.51706165 2.77338373]]\n"
     ]
    }
   ],
   "source": [
    "\n",
    "matr = 3 * np.random.random_sample((10,6))\n",
    "print(\"Matrix with random numbers: \\n\",matr)\n",
    "mask = (matr < 0.3)\n",
    "matr[mask]=0\n",
    "print(\"Matrix with replaced numbers <0.3 to 0 : \\n\",matr)"
   ]
  },
  {
   "cell_type": "markdown",
   "metadata": {},
   "source": [
    "4\\. **Trigonometric functions**\n",
    "\n",
    "Use `np.linspace` to create an array of 100 numbers between $0$ and $2\\pi$ (inclusive).\n",
    "\n",
    "  * Extract every 10th element using the slice notation\n",
    "  * Reverse the array using the slice notation\n",
    "  * Extract elements where the absolute difference between the `sin` and `cos` functions evaluated for that element is $< 0.1$\n",
    "  * **Optional**: make a plot showing the sin and cos functions and indicate where they are close"
   ]
  },
  {
   "cell_type": "code",
   "execution_count": 5,
   "metadata": {},
   "outputs": [
    {
     "name": "stdout",
     "output_type": "stream",
     "text": [
      "List of points that complete the exercise\n",
      "[3.141592653589793, 2.824260062318097, 2.5069274710464007, 0.6029319234162229, 0.28559933214452665]\n"
     ]
    },
    {
     "data": {
      "image/png": "[encoded data removed]",
      "text/plain": [
       "<Figure size 432x288 with 1 Axes>"
      ]
     },
     "metadata": {
      "needs_background": "light"
     },
     "output_type": "display_data"
    }
   ],
   "source": [
    "import matplotlib.pyplot as plt\n",
    "import numpy as np\n",
    "###1,2,3\n",
    "\n",
    "a = np.linspace(0,np.pi,100,True)\n",
    "# print(a)\n",
    "a = a[9::10]\n",
    "# print(a)\n",
    "a = a[::-1]\n",
    "print(\"List of points that complete the exercise\")\n",
    "print(list(filter(lambda i: abs(np.sin(i))-abs(np.cos(i)) < 0.1,a)))\n",
    "plt.plot(a,[abs(np.sin(i)) for i in a])\n",
    "plt.plot(a,[abs(np.cos(i)) for i in a])\n",
    "plt.plot(a,[abs(np.sin(i))-abs(np.cos(i)) for i in a],'ro')\n",
    "plt.axis([0,np.pi,-1,1])\n",
    "plt.axhline(0.1)\n",
    "plt.show()"
   ]
  },
  {
   "cell_type": "markdown",
   "metadata": {},
   "source": [
    "5\\. **Matrices**\n",
    "\n",
    "Create a matrix that shows the 10 by 10 multiplication table.\n",
    "\n",
    " * Find the trace of the matrix\n",
    " * Extract the anti-diagonal matrix (this should be ```array([10, 18, 24, 28, 30, 30, 28, 24, 18, 10])```)\n",
    " * Extract the diagonal offset by 1 upwards (this should be ```array([ 2,  6, 12, 20, 30, 42, 56, 72, 90])```)"
   ]
  },
  {
   "cell_type": "code",
   "execution_count": 6,
   "metadata": {},
   "outputs": [
    {
     "name": "stdout",
     "output_type": "stream",
     "text": [
      "[[  1   2   3   4   5   6   7   8   9  10]\n",
      " [  2   4   6   8  10  12  14  16  18  20]\n",
      " [  3   6   9  12  15  18  21  24  27  30]\n",
      " [  4   8  12  16  20  24  28  32  36  40]\n",
      " [  5  10  15  20  25  30  35  40  45  50]\n",
      " [  6  12  18  24  30  36  42  48  54  60]\n",
      " [  7  14  21  28  35  42  49  56  63  70]\n",
      " [  8  16  24  32  40  48  56  64  72  80]\n",
      " [  9  18  27  36  45  54  63  72  81  90]\n",
      " [ 10  20  30  40  50  60  70  80  90 100]]\n",
      "Trace of Matrix: 385\n",
      "Anti-diagonal matrix: [10 18 24 28 30 30 28 24 18 10]\n",
      "Diagonal offset by 1: [ 2  6 12 20 30 42 56 72 90]\n"
     ]
    }
   ],
   "source": [
    "import numpy as np\n",
    "a = np.arange(1,11)\n",
    "b = a.reshape(10,1)\n",
    "mul_table = a*b\n",
    "print(mul_table)\n",
    "print(\"Trace of Matrix:\",mul_table.trace())\n",
    "print(\"Anti-diagonal matrix:\",np.fliplr(mul_table).diagonal())\n",
    "print(\"Diagonal offset by 1:\",mul_table.diagonal(offset=1))"
   ]
  },
  {
   "cell_type": "markdown",
   "metadata": {},
   "source": [
    "6\\. **Broadcasting**\n",
    "\n",
    "Use broadcasting to create a grid of distances.\n",
    "\n",
    "Route 66 crosses the following cities in the US: Chicago, Springfield, Saint-Louis, Tulsa, Oklahoma City, Amarillo, Santa Fe, Albuquerque, Flagstaff, Los Angeles.\n",
    "\n",
    "The corresponding positions in miles are: 0, 198, 303, 736, 871, 1175, 1475, 1544, 1913, 2448\n",
    "\n",
    "  * Build a 2D grid of distances among each city along Route 66\n",
    "  * Convert the distances in km"
   ]
  },
  {
   "cell_type": "code",
   "execution_count": 7,
   "metadata": {},
   "outputs": [
    {
     "name": "stdout",
     "output_type": "stream",
     "text": [
      "2D grid of distances: \n",
      " [[   0  198  303  736  871 1175 1475 1544 1913 2448]\n",
      " [ 198    0  105  538  673  977 1277 1346 1715 2250]\n",
      " [ 303  105    0  433  568  872 1172 1241 1610 2145]\n",
      " [ 736  538  433    0  135  439  739  808 1177 1712]\n",
      " [ 871  673  568  135    0  304  604  673 1042 1577]\n",
      " [1175  977  872  439  304    0  300  369  738 1273]\n",
      " [1475 1277 1172  739  604  300    0   69  438  973]\n",
      " [1544 1346 1241  808  673  369   69    0  369  904]\n",
      " [1913 1715 1610 1177 1042  738  438  369    0  535]\n",
      " [2448 2250 2145 1712 1577 1273  973  904  535    0]]\n",
      "Grid on KM: \n",
      " [[   0.       318.64932  487.63002 1184.47424 1401.73514 1890.9745\n",
      "  2373.7765  2484.82096 3078.66742 3939.66432]\n",
      " [ 318.64932    0.       168.9807   865.82492 1083.08582 1572.32518\n",
      "  2055.12718 2166.17164 2760.0181  3621.015  ]\n",
      " [ 487.63002  168.9807     0.       696.84422  914.10512 1403.34448\n",
      "  1886.14648 1997.19094 2591.0374  3452.0343 ]\n",
      " [1184.47424  865.82492  696.84422    0.       217.2609   706.50026\n",
      "  1189.30226 1300.34672 1894.19318 2755.19008]\n",
      " [1401.73514 1083.08582  914.10512  217.2609     0.       489.23936\n",
      "   972.04136 1083.08582 1676.93228 2537.92918]\n",
      " [1890.9745  1572.32518 1403.34448  706.50026  489.23936    0.\n",
      "   482.802    593.84646 1187.69292 2048.68982]\n",
      " [2373.7765  2055.12718 1886.14648 1189.30226  972.04136  482.802\n",
      "     0.       111.04446  704.89092 1565.88782]\n",
      " [2484.82096 2166.17164 1997.19094 1300.34672 1083.08582  593.84646\n",
      "   111.04446    0.       593.84646 1454.84336]\n",
      " [3078.66742 2760.0181  2591.0374  1894.19318 1676.93228 1187.69292\n",
      "   704.89092  593.84646    0.       860.9969 ]\n",
      " [3939.66432 3621.015   3452.0343  2755.19008 2537.92918 2048.68982\n",
      "  1565.88782 1454.84336  860.9969     0.     ]]\n"
     ]
    }
   ],
   "source": [
    "positions = np.array([0, 198, 303, 736, 871, 1175, 1475, 1544, 1913, 2448])\n",
    "distance_array = np.abs(positions - positions[:, np.newaxis])\n",
    "print(\"2D grid of distances: \\n\",distance_array)\n",
    "print(\"Grid on KM: \\n\",distance_array*1.60934)"
   ]
  },
  {
   "cell_type": "markdown",
   "metadata": {},
   "source": [
    "7\\. **Prime numbers sieve**\n",
    "\n",
    "Compute the prime numbers in the 0-N (start with N=99) range with a sieve (mask).\n",
    "\n",
    "  * Constract a shape (N,) boolean array, which is the mask\n",
    "  * Identify the multiples of each number starting from 2 and set accordingly the corresponding mask element\n",
    "  * Apply the mask to obtain an array of ordered prime numbers\n",
    "  * Check the performances (with `timeit`); how does it scale with N?\n",
    "  * Implement the optimization suggested in the [sieve of Eratosthenes](https://en.wikipedia.org/wiki/Sieve_of_Eratosthenes)"
   ]
  },
  {
   "cell_type": "code",
   "execution_count": 8,
   "metadata": {},
   "outputs": [
    {
     "name": "stdout",
     "output_type": "stream",
     "text": [
      "1.43 ms ± 429 µs per loop (mean ± std. dev. of 7 runs, 1,000 loops each)\n",
      "[2, 3, 5, 7, 11, 13, 17, 19, 23, 29, 31, 37, 41, 43, 47, 53, 59, 61, 67, 71, 73, 79, 83, 89, 97]\n",
      "943 ns ± 111 ns per loop (mean ± std. dev. of 7 runs, 1,000,000 loops each)\n"
     ]
    }
   ],
   "source": [
    "N=99\n",
    "\n",
    "import numpy\n",
    "import math\n",
    "\n",
    "%timeit list(filter(lambda num: numpy.array([num % factor for factor in range(2,1+int(math.sqrt(num)))]).all(), range(2,N+1)))\n",
    "print(list(filter(lambda num: numpy.array([num % factor for factor in range(2,1+int(math.sqrt(num)))]).all(), range(2,N+1))))\n",
    "\n",
    "def prime(upto=100000):\n",
    "    return filter(lambda num: (num % numpy.arange(2,1+int(math.sqrt(num)))).all(), range(2,upto+1))\n",
    "\n",
    "%timeit prime(N)"
   ]
  },
  {
   "cell_type": "markdown",
   "metadata": {},
   "source": [
    "8\\. **Diffusion using random walk**\n",
    "\n",
    "Consider a simple random walk process: at each step in time, a walker jumps right or left (+1 or -1) with equal probability. The goal is to find the typical distance from the origin of many random walkers after a given amount of time.\n",
    "\n",
    "*Hint*: create a 2D array where each row represents a walker, and each column represents a time step.\n",
    "\n",
    "  * Take 1000 walkers and let them walk for 200 steps\n",
    "  * Use `randint` to create a 2D array of size $walkers \\times steps$ with values -1 or 1\n",
    "  * Calculate the walking distances for each walker (e.g. by summing the elements in each row)\n",
    "  * Take the square of the previously-obtained array (element-wise)\n",
    "  * Compute the mean of the squared distances at each step (i.e. the mean along the columns)\n",
    "  * **Optional**: plot the average distances ($\\sqrt(distance^2)$) as a function of time (step)"
   ]
  },
  {
   "cell_type": "code",
   "execution_count": 9,
   "metadata": {},
   "outputs": [
    {
     "name": "stdout",
     "output_type": "stream",
     "text": [
      "[  36  289  144   64  225  225  324    4  121   16  144    0    1    9\n",
      "  400    0    1    0  576   36   49    9   49   25   81    1  576  100\n",
      "    1   64   49   16   81   81    9    9    0    1    0    1    1   25\n",
      "    4  225  289  225    0   16  169    4  529    9  225  324   25  256\n",
      "   16  576   49   25   25  100  169   25    1  144    9    9  100  256\n",
      "  100   25   64    4   36   64   36    0   25  225  289  841   49    1\n",
      "    1   25  144   16    1    4   49    4  144  100  529   64   49   25\n",
      "   25    1   49   25    1    0   64  121   81   64  441    1  256  400\n",
      "    1   64    9  121    9    1    0  144   25    1   81  121   49   81\n",
      "  100   81    1    1   64   36  121    9    9  169   25  144   49  256\n",
      "  625  121  100  196   49   16   16    4   81    9   16    1    4   16\n",
      "  225   49    9  169   64  144   81  289    1   36    9   16    1  576\n",
      "  441    4    1  100   64    0  256   16  144   81    9    1  196  169\n",
      "   81  100   16  100   25   16   16  441   25   49   16   25   81   49\n",
      "   25  841    1   16  196   16    9  196   49  400  169    1  169  324\n",
      "   16   36  169   64   16   64   16  121  121    1  100  100  361  144\n",
      "  324  196  169    1  121  196    1    4   36  196  196  256  400   81\n",
      "  441 1024    9   49    9   81  289  441 1296  529  256   25    9  961\n",
      "  400   64   36   36   81   64    4  361  100   16  100   25  121    0\n",
      "   81   64  676  361   36    4  676   49  324   81   25    0   25  256\n",
      "  256    9   25   49  256   25  256   36   49  289   25  100    9    9\n",
      "  121   49  225  289    1   64   81    1    1    4  441    4    0   36\n",
      "    9   49  784    0    0  400    1    1   64    1  225  225    9    9\n",
      "   16  576  144  196    1    4    9   16   36    9   16   36    1   25\n",
      "  100  256    0    0  144    4   16  144  289   25   36    4   16  529\n",
      "    1   81    1   36   64   49   25    4  100   36    9  361   36  169\n",
      "  144   81   36  100  144  100  100    9    4    9   81  121  529   25\n",
      "   64   49   49  256   81  169    1  324  225   81   81  441    9   25\n",
      "   64   64   25   49   64   36    1   16  121    4   81  256   36  169\n",
      "    4    9   16   64    4   64   81   25   16    1  256  361  100    9\n",
      "   25    1  144  196   25    9  100  256    1   36   16 1156  361  196\n",
      "   64    9    4  100  144  196  529    4    0  289  576    4    0   64\n",
      "  361   36    4   16   64  169   16  100    0  196   16    9   81    4\n",
      "    0    9    1    9    0  196   36    9   64   64  121    9  121    9\n",
      "   16   16    9  289    1  100   16   64   49  441  256   64    1  225\n",
      "  289    1    4    0    9  576   64   25    9    4  289    0  100  196\n",
      "    4  225  225    9   25  100    9  144   64   36   49    1   49    1\n",
      "    1    9    0   49    9  324    9   81   64   36  576  625   25    9\n",
      "    0  121   25    9  121  225  100 1089  144    1   81   64    1  441\n",
      "   16  256  289   64   81    9  169  100    1   64    1  361  841  441\n",
      "  144  169  400  196    0    9  169   49    4    9  225 2304   49   36\n",
      "    0  225    0   25  196   49  576   36   49  441    0   25    4  100\n",
      "   81   16    9   64  289    9    0    9   16  225   16   36    9    9\n",
      "   49   81  100  225   49    9  484  144   64   25   36  961   25  169\n",
      "  729   64   64   36  529   49   36   16   36  225   36  225  196   64\n",
      "  100   16  144  169  289    9    1  169    1  441  100   16  144    4\n",
      "   64   25  196    4  256  121    9  441    1   81   25   36    1    1\n",
      "   16   49    4   25    1  144   49    1    0   49   81  225   81   25\n",
      "    1  961    1   64    0  169   81  169    4    1   16  169  400    1\n",
      "    9    0   64  225 1225  100  225   16    0    4    4   25  121  196\n",
      "    4   25   16    4    1   25    1  121   81  196   49    9   25   36\n",
      "  100   49  729  324 1089   16  576  169   64    1    9    1   64   81\n",
      "  900    9  256   16  441  121  361   64  100  144  225  169    4  169\n",
      "  100    1   49   49   25  144   25    1  256  121    9   49    4   36\n",
      "   25   25    4   36   16  196  121   25   81  289  225  256   81  289\n",
      "   64   25   36  169  121  169  441  100   25   36    1   36  256  289\n",
      "  441  841   49   25  324  289   25  121    0   64   49    0  144  169\n",
      "    1    0   64   25    4   16   49   64  121  100   16   81   36    4\n",
      "   36    9    9  225   36  121  625   49  361   16  169    4  121   49\n",
      "    1    1    9   49    4    0  256   16   81   49   81    0  361  484\n",
      "   25   36  841  121  484  169   81    0  289    9  529  100    4   25\n",
      "   81  169   25   49  169  256  784   49  289   81   64  225  256  324\n",
      "  169   49    9    4   16   81  289   36  289    0   16   36   16    9\n",
      "    1  400   36    1  324   81  225   36  961  225    0  169   16  225\n",
      "   36   64    9   36  144   36  225  121  529   36   25    0   81  121\n",
      "   16   49    9  196  484  361    4    9    0  169  169   36    0  784\n",
      "   64  169   49  361  121   16  121   36  196  100   64   49  529  144\n",
      "   25  121   25    0    1  676    9    1   16   36  144   64   49   36\n",
      "  256    1  256   36  196   25   36    9  121    0  400   16    0   16\n",
      "   25    4   16  225   25  289   25   81  196  169   25   16   36    0\n",
      "   49   25  225    1   49    0  144   36  100   36   49  256  144   49\n",
      "   36   25    9   49  256    9]\n",
      "[0.663 0.65  0.663 0.668 0.654 0.643 0.69  0.646 0.687 0.65  0.656 0.697\n",
      " 0.684 0.654 0.683 0.674 0.668 0.675 0.654 0.695 0.7   0.651 0.661 0.656\n",
      " 0.655 0.692 0.67  0.644 0.663 0.671 0.675 0.653 0.648 0.675 0.678 0.647\n",
      " 0.665 0.667 0.649 0.651 0.658 0.653 0.663 0.665 0.642 0.663 0.685 0.681\n",
      " 0.658 0.649 0.649 0.691 0.698 0.672 0.7   0.679 0.68  0.682 0.646 0.672\n",
      " 0.664 0.673 0.656 0.708 0.65  0.655 0.657 0.665 0.647 0.64  0.643 0.661\n",
      " 0.652 0.664 0.678 0.674 0.665 0.658 0.673 0.661 0.686 0.643 0.649 0.662\n",
      " 0.653 0.669 0.662 0.663 0.653 0.672 0.681 0.658 0.665 0.68  0.677 0.639\n",
      " 0.657 0.674 0.675 0.659 0.659 0.663 0.659 0.637 0.654 0.694 0.657 0.68\n",
      " 0.665 0.685 0.668 0.651 0.669 0.67  0.634 0.663 0.673 0.671 0.674 0.698\n",
      " 0.69  0.675 0.655 0.654 0.685 0.684 0.673 0.672 0.668 0.674 0.674 0.68\n",
      " 0.663 0.689 0.661 0.655 0.669 0.688 0.666 0.64  0.646 0.665 0.675 0.672\n",
      " 0.676 0.657 0.648 0.664 0.701 0.667 0.688 0.653 0.683 0.645 0.675 0.684\n",
      " 0.693 0.692 0.667 0.651 0.683 0.686 0.678 0.671 0.674 0.656 0.682 0.661\n",
      " 0.657 0.683 0.66  0.676 0.657 0.655 0.655 0.691 0.642 0.625 0.69  0.68\n",
      " 0.654 0.665 0.696 0.664 0.694 0.677 0.687 0.652 0.642 0.689 0.665 0.686\n",
      " 0.658 0.67  0.647 0.725 0.69  0.645 0.676 0.66 ]\n",
      "[-0.037, -0.067, -0.042, -0.010000000000000002, -0.028, -0.065, -0.069, -0.07500000000000001, -0.07600000000000001, -0.05400000000000001, -0.024000000000000014, -0.007000000000000013, -0.033000000000000015, 0.002999999999999982, -0.020000000000000018, -0.04000000000000002, -0.06400000000000003, -0.04700000000000003, -0.07100000000000004, -0.018000000000000037, 0.007999999999999962, 0.008999999999999963, 0.09599999999999996, 0.05399999999999996, 0.050999999999999955, 0.050999999999999955, 0.04699999999999996, 0.03899999999999996, 0.02599999999999996, 0.006999999999999961, 0.06599999999999996, 0.054999999999999966, -0.007000000000000034, 0.02799999999999997, 0.08199999999999996, 0.08499999999999996, 0.07399999999999997, 0.06899999999999996, 0.08599999999999997, 0.08499999999999996, 0.12299999999999997, 0.10799999999999997, 0.11899999999999997, 0.14599999999999996, 0.13799999999999996, 0.10899999999999996, 0.13599999999999995, 0.10499999999999995, 0.11299999999999996, 0.07999999999999996, 0.06499999999999996, 0.03199999999999996, 0.09399999999999996, 0.08199999999999996, 0.05999999999999996, 0.038999999999999965, 0.028999999999999963, 0.02699999999999996, -0.027000000000000038, -0.05700000000000004, -0.06500000000000003, -0.054000000000000034, -0.06800000000000003, -0.062000000000000034, -0.02000000000000003, -0.03300000000000003, -0.04200000000000003, -0.0030000000000000304, -0.008000000000000031, 0.04599999999999997, 0.05299999999999997, 0.04999999999999997, 0.01399999999999997, 0.03599999999999997, 0.053999999999999965, 0.05799999999999997, 0.06699999999999996, 0.06299999999999996, 0.08599999999999997, 0.06899999999999996, 0.17099999999999996, 0.17999999999999997, 0.16699999999999995, 0.16699999999999995, 0.13599999999999995, 0.11899999999999995, 0.13099999999999995, 0.15199999999999994, 0.12299999999999994, 0.11499999999999994, 0.10399999999999994, 0.10999999999999995, 0.08699999999999994, 0.08699999999999994, 0.10999999999999993, 0.06499999999999993, 0.06399999999999993, 0.06399999999999993, 0.050999999999999934, 0.08599999999999994, 0.05899999999999994, 0.05799999999999994, 0.02699999999999994, 0.06399999999999995, 0.06799999999999995, 0.06799999999999995, 0.024999999999999953, 0.058999999999999955, 0.08799999999999995, 0.07499999999999996, 0.07499999999999996, 0.09399999999999996, 0.10899999999999996, 0.13299999999999995, 0.11899999999999995, 0.17199999999999996, 0.21299999999999997, 0.19199999999999998, 0.19999999999999998, 0.214, 0.214, 0.207, 0.20199999999999999, 0.214, 0.225, 0.245, 0.244, 0.252, 0.274, 0.30000000000000004, 0.28, 0.29600000000000004, 0.31300000000000006, 0.3420000000000001, 0.3750000000000001, 0.3820000000000001, 0.3770000000000001, 0.3810000000000001, 0.3770000000000001, 0.3570000000000001, 0.3330000000000001, 0.31600000000000006, 0.3370000000000001, 0.30500000000000005, 0.29300000000000004, 0.31000000000000005, 0.31000000000000005, 0.3400000000000001, 0.30900000000000005, 0.31600000000000006, 0.29000000000000004, 0.275, 0.262, 0.28700000000000003, 0.272, 0.28400000000000003, 0.29700000000000004, 0.30500000000000005, 0.30400000000000005, 0.277, 0.266, 0.198, 0.15400000000000003, 0.14900000000000002, 0.12500000000000003, 0.16700000000000004, 0.17500000000000004, 0.18800000000000006, 0.17900000000000005, 0.16400000000000003, 0.19200000000000003, 0.15400000000000003, 0.16700000000000004, 0.15200000000000002, 0.171, 0.17600000000000002, 0.17400000000000002, 0.18100000000000002, 0.201, 0.159, 0.185, 0.152, 0.08399999999999999, 0.09799999999999999, 0.09799999999999999, 0.123, 0.146, 0.16999999999999998, 0.15799999999999997, 0.173, 0.118, 0.11199999999999999, 0.12199999999999998, 0.12799999999999997, 0.173, 0.16199999999999998, 0.19399999999999998, 0.19299999999999998, 0.18299999999999997, 0.19899999999999995]\n"
     ]
    },
    {
     "data": {
      "image/png": "[encoded data removed]",
      "text/plain": [
       "<Figure size 432x288 with 1 Axes>"
      ]
     },
     "metadata": {
      "needs_background": "light"
     },
     "output_type": "display_data"
    }
   ],
   "source": [
    "a = np.random.randint(-1,2,(1000,200))\n",
    "distances = a.sum(axis=1)\n",
    "distances = np.square(distances)\n",
    "print(distances)\n",
    "\n",
    "m = np.square(a).mean(axis=0)\n",
    "n = np.mean(a,axis=0)\n",
    "print(m)\n",
    "# plt.plot(np.arange(200),m)\n",
    "tmp = 0\n",
    "fib =[]\n",
    "for i in n:\n",
    "    tmp+=i\n",
    "    fib.append(tmp)\n",
    "\n",
    "\n",
    "print(fib)\n",
    "# plt.plot(np.arange(200),fib)\n",
    "plt.plot(np.arange(200),fib)\n",
    "plt.show()"
   ]
  }
 ],
 "metadata": {
  "kernelspec": {
   "display_name": "Python 3.10.8 64-bit",
   "language": "python",
   "name": "python3"
  },
  "language_info": {
   "codemirror_mode": {
    "name": "ipython",
    "version": 3
   },
   "file_extension": ".py",
   "mimetype": "text/x-python",
   "name": "python",
   "nbconvert_exporter": "python",
   "pygments_lexer": "ipython3",
   "version": "3.10.8"
  },
  "vscode": {
   "interpreter": {
    "hash": "8e75ac1724d7c6ae8c5ebf739458e08ac47472b8e072b2f517732358274ca068"
   }
  }
 },
 "nbformat": 4,
 "nbformat_minor": 2
}
