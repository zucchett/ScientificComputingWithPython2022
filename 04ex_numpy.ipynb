{
 "cells": [
  {
   "cell_type": "code",
   "execution_count": 1,
   "metadata": {},
   "outputs": [],
   "source": [
    "import numpy as np\n",
    "import numpy.random as npr\n",
    "import math\n",
    "import matplotlib.pyplot as plt\n",
    "import timeit"
   ]
  },
  {
   "cell_type": "markdown",
   "metadata": {},
   "source": [
    "1\\. **Reductions**\n",
    "\n",
    "Find the total mean, and the mean for each row and column of the following matrix:\n",
    "\n",
    "```python\n",
    "m = np.arange(12).reshape((3,4))\n",
    "```"
   ]
  },
  {
   "cell_type": "code",
   "execution_count": 2,
   "metadata": {},
   "outputs": [
    {
     "name": "stdout",
     "output_type": "stream",
     "text": [
      "[[ 0  1  2  3]\n",
      " [ 4  5  6  7]\n",
      " [ 8  9 10 11]]\n",
      "Total mean:  5.5\n",
      "Means along columns:  [4. 5. 6. 7.]\n",
      "Means along rows:  [1.5 5.5 9.5]\n"
     ]
    }
   ],
   "source": [
    "m = np.arange(12).reshape((3,4))\n",
    "print(m)\n",
    "print(\"Total mean: \", m.mean())\n",
    "print(\"Means along columns: \", m.mean(axis = 0))\n",
    "print(\"Means along rows: \", m.mean(axis = 1))"
   ]
  },
  {
   "cell_type": "markdown",
   "metadata": {},
   "source": [
    "2\\. **Outer product**\n",
    "\n",
    "Find the outer product of the following vectors:\n",
    "\n",
    "```python\n",
    "u = np.array([1, 3, 5, 7])\n",
    "v = np.array([2, 4, 6, 8])\n",
    "```\n",
    "\n",
    "Use different methods to do this:\n",
    "\n",
    "   1. Using the function `outer` in numpy\n",
    "   2. Using a nested `for` loop or a list comprehension\n",
    "   3. Using numpy broadcasting operations"
   ]
  },
  {
   "cell_type": "code",
   "execution_count": 5,
   "metadata": {},
   "outputs": [
    {
     "name": "stdout",
     "output_type": "stream",
     "text": [
      "Outer product using outer function: \n",
      " [[ 2  4  6  8]\n",
      " [ 6 12 18 24]\n",
      " [10 20 30 40]\n",
      " [14 28 42 56]]\n",
      "Outer product using for loop: \n",
      " [[ 2.  4.  6.  8.]\n",
      " [ 6. 12. 18. 24.]\n",
      " [10. 20. 30. 40.]\n",
      " [14. 28. 42. 56.]]\n",
      "Outer product using list comprehension: \n",
      " [[ 2  4  6  8]\n",
      " [ 6 12 18 24]\n",
      " [10 20 30 40]\n",
      " [14 28 42 56]]\n",
      "Outer product using broadcasting operation: \n",
      " [[ 2  4  6  8]\n",
      " [ 6 12 18 24]\n",
      " [10 20 30 40]\n",
      " [14 28 42 56]]\n"
     ]
    }
   ],
   "source": [
    "u = np.array([1, 3, 5, 7])\n",
    "v = np.array([2, 4, 6, 8])\n",
    "\n",
    "# 1. using outer function\n",
    "op1 = np.outer(u, v)\n",
    "print(\"Outer product using outer function: \\n\", op1)\n",
    "\n",
    "# 2a. using a nested for loop or a list comprehension\n",
    "op2 = np.ones((4, 4))\n",
    "n = u.shape[0]\n",
    "m = v.shape[0]\n",
    "for i in range(n):\n",
    "    for j in range(m):\n",
    "        op2[i][j] = u[i]*v[j]\n",
    "print(\"Outer product using for loop: \\n\", op2)\n",
    "\n",
    "# 2b. using a list comprehension\n",
    "op3 = np.ones((4, 4))\n",
    "op3 = [u[i]*v[j] for i in range(m) for j in range(n)]\n",
    "op3 = np.array(op3).reshape(4, 4)\n",
    "print(\"Outer product using list comprehension: \\n\", op3)\n",
    "\n",
    "# 3. using numpy broadcasting operation\n",
    "op4 = u.reshape((-1,1)) * v\n",
    "print(\"Outer product using broadcasting operation: \\n\", op4)\n"
   ]
  },
  {
   "cell_type": "markdown",
   "metadata": {},
   "source": [
    "3\\. **Matrix masking**\n",
    "\n",
    "Create a 10 by 6 matrix of float random numbers, distributed between 0 and 3 according to a flat distribution.\n",
    "\n",
    "After creating the matrix, set all entries $< 0.3$ to zero using a mask."
   ]
  },
  {
   "cell_type": "code",
   "execution_count": 6,
   "metadata": {},
   "outputs": [
    {
     "name": "stdout",
     "output_type": "stream",
     "text": [
      "10 by 6 matrix: \n",
      " [[0.34431081 1.8445712  0.63659277 1.12177491 2.55709733 0.37847299]\n",
      " [2.2231307  2.51931317 1.2513551  0.13111042 1.7305436  2.94097586]\n",
      " [1.30745162 0.13577466 2.65022363 1.41314807 1.73559026 1.39693804]\n",
      " [1.88568064 0.87172572 0.03345273 2.22355357 0.17877585 0.31562085]\n",
      " [2.30850235 2.7910736  2.61900721 2.64916264 2.36072222 2.05141419]\n",
      " [0.06630959 0.72470587 1.48073657 1.1526311  2.76710951 2.10368843]\n",
      " [1.0973401  1.26464249 1.76601519 0.05594898 2.19249462 2.64962454]\n",
      " [1.85690094 1.2364104  2.65172564 0.27982136 2.73959847 0.76004207]\n",
      " [1.72959689 0.60314313 0.42721264 0.72612146 0.00682177 0.04704373]\n",
      " [0.0338223  0.10734298 1.84162753 1.50233106 0.29230503 0.67544302]]\n",
      "\n",
      "10 by 6 matrix filtered with mask: \n",
      " [[0.34431081 1.8445712  0.63659277 1.12177491 2.55709733 0.37847299]\n",
      " [2.2231307  2.51931317 1.2513551  0.         1.7305436  2.94097586]\n",
      " [1.30745162 0.         2.65022363 1.41314807 1.73559026 1.39693804]\n",
      " [1.88568064 0.87172572 0.         2.22355357 0.         0.31562085]\n",
      " [2.30850235 2.7910736  2.61900721 2.64916264 2.36072222 2.05141419]\n",
      " [0.         0.72470587 1.48073657 1.1526311  2.76710951 2.10368843]\n",
      " [1.0973401  1.26464249 1.76601519 0.         2.19249462 2.64962454]\n",
      " [1.85690094 1.2364104  2.65172564 0.         2.73959847 0.76004207]\n",
      " [1.72959689 0.60314313 0.42721264 0.72612146 0.         0.        ]\n",
      " [0.         0.         1.84162753 1.50233106 0.         0.67544302]]\n"
     ]
    }
   ],
   "source": [
    "matrix = npr.uniform(low = 0.0, high = 3.0, size=(10, 6))\n",
    "print(\"10 by 6 matrix: \\n\", matrix)\n",
    "mask = (matrix < 0.3)\n",
    "matrix[mask] = 0\n",
    "print(\"\\n10 by 6 matrix filtered with mask: \\n\", matrix)"
   ]
  },
  {
   "cell_type": "markdown",
   "metadata": {},
   "source": [
    "4\\. **Trigonometric functions**\n",
    "\n",
    "Use `np.linspace` to create an array of 100 numbers between $0$ and $2\\pi$ (inclusive).\n",
    "\n",
    "  * Extract every 10th element using the slice notation\n",
    "  * Reverse the array using the slice notation\n",
    "  * Extract elements where the absolute difference between the `sin` and `cos` functions evaluated for that element is $< 0.1$\n",
    "  * **Optional**: make a plot showing the sin and cos functions and indicate where they are close"
   ]
  },
  {
   "cell_type": "code",
   "execution_count": 7,
   "metadata": {},
   "outputs": [
    {
     "name": "stdout",
     "output_type": "stream",
     "text": [
      "Array of 100 numbers between [0, 2pi]:\n",
      " [0.         0.06346652 0.12693304 0.19039955 0.25386607 0.31733259\n",
      " 0.38079911 0.44426563 0.50773215 0.57119866 0.63466518 0.6981317\n",
      " 0.76159822 0.82506474 0.88853126 0.95199777 1.01546429 1.07893081\n",
      " 1.14239733 1.20586385 1.26933037 1.33279688 1.3962634  1.45972992\n",
      " 1.52319644 1.58666296 1.65012947 1.71359599 1.77706251 1.84052903\n",
      " 1.90399555 1.96746207 2.03092858 2.0943951  2.15786162 2.22132814\n",
      " 2.28479466 2.34826118 2.41172769 2.47519421 2.53866073 2.60212725\n",
      " 2.66559377 2.72906028 2.7925268  2.85599332 2.91945984 2.98292636\n",
      " 3.04639288 3.10985939 3.17332591 3.23679243 3.30025895 3.36372547\n",
      " 3.42719199 3.4906585  3.55412502 3.61759154 3.68105806 3.74452458\n",
      " 3.8079911  3.87145761 3.93492413 3.99839065 4.06185717 4.12532369\n",
      " 4.1887902  4.25225672 4.31572324 4.37918976 4.44265628 4.5061228\n",
      " 4.56958931 4.63305583 4.69652235 4.75998887 4.82345539 4.88692191\n",
      " 4.95038842 5.01385494 5.07732146 5.14078798 5.2042545  5.26772102\n",
      " 5.33118753 5.39465405 5.45812057 5.52158709 5.58505361 5.64852012\n",
      " 5.71198664 5.77545316 5.83891968 5.9023862  5.96585272 6.02931923\n",
      " 6.09278575 6.15625227 6.21971879 6.28318531] \n",
      "\n",
      "Extracting every 10th element: \n",
      " [0.57119866 1.20586385 1.84052903 2.47519421 3.10985939 3.74452458\n",
      " 4.37918976 5.01385494 5.64852012 6.28318531] \n",
      "\n",
      "Array reversed:\n",
      " [6.28318531 6.21971879 6.15625227 6.09278575 6.02931923 5.96585272\n",
      " 5.9023862  5.83891968 5.77545316 5.71198664 5.64852012 5.58505361\n",
      " 5.52158709 5.45812057 5.39465405 5.33118753 5.26772102 5.2042545\n",
      " 5.14078798 5.07732146 5.01385494 4.95038842 4.88692191 4.82345539\n",
      " 4.75998887 4.69652235 4.63305583 4.56958931 4.5061228  4.44265628\n",
      " 4.37918976 4.31572324 4.25225672 4.1887902  4.12532369 4.06185717\n",
      " 3.99839065 3.93492413 3.87145761 3.8079911  3.74452458 3.68105806\n",
      " 3.61759154 3.55412502 3.4906585  3.42719199 3.36372547 3.30025895\n",
      " 3.23679243 3.17332591 3.10985939 3.04639288 2.98292636 2.91945984\n",
      " 2.85599332 2.7925268  2.72906028 2.66559377 2.60212725 2.53866073\n",
      " 2.47519421 2.41172769 2.34826118 2.28479466 2.22132814 2.15786162\n",
      " 2.0943951  2.03092858 1.96746207 1.90399555 1.84052903 1.77706251\n",
      " 1.71359599 1.65012947 1.58666296 1.52319644 1.45972992 1.3962634\n",
      " 1.33279688 1.26933037 1.20586385 1.14239733 1.07893081 1.01546429\n",
      " 0.95199777 0.88853126 0.82506474 0.76159822 0.6981317  0.63466518\n",
      " 0.57119866 0.50773215 0.44426563 0.38079911 0.31733259 0.25386607\n",
      " 0.19039955 0.12693304 0.06346652 0.        ] \n",
      "\n",
      "Elements where |sin-cos|<0.1:\n",
      " [0.7615982190520711, 0.8250647373064104, 3.8714576135146945, 3.934924131769034]\n"
     ]
    },
    {
     "data": {
      "image/png": "[encoded data removed]",
      "text/plain": [
       "<Figure size 432x288 with 1 Axes>"
      ]
     },
     "metadata": {
      "needs_background": "light"
     },
     "output_type": "display_data"
    }
   ],
   "source": [
    "a = np.linspace(0.0, 2*math.pi, 100)\n",
    "print('Array of 100 numbers between [0, 2pi]:\\n', a, '\\n')\n",
    "\n",
    "ar10 = a.reshape(10, 10)[::,9]\n",
    "print(\"Extracting every 10th element: \\n\", ar10, '\\n')\n",
    "\n",
    "a_reversed = a[100::-1]\n",
    "print('Array reversed:\\n', a_reversed, '\\n')\n",
    "\n",
    "listSC = [a[i] for i in range(a.shape[0]) if \n",
    "          (abs(math.sin(a[i]) - math.cos(a[i])) < 0.1)]\n",
    "print(\"Elements where |sin-cos|<0.1:\\n\", listSC)\n",
    "\n",
    "ax = plt.axes()\n",
    "ax.plot(a, np.sin(a), 'b') \n",
    "ax.plot(a, np.cos(a), 'b') \n",
    "xval = np.array(listSC)\n",
    "ax.plot(xval, np.sin(xval), 'or')\n",
    "plt.show()"
   ]
  },
  {
   "cell_type": "markdown",
   "metadata": {},
   "source": [
    "5\\. **Matrices**\n",
    "\n",
    "Create a matrix that shows the 10 by 10 multiplication table.\n",
    "\n",
    " * Find the trace of the matrix\n",
    " * Extract the anti-diagonal matrix (this should be ```array([10, 18, 24, 28, 30, 30, 28, 24, 18, 10])```)\n",
    " * Extract the diagonal offset by 1 upwards (this should be ```array([ 2,  6, 12, 20, 30, 42, 56, 72, 90])```)"
   ]
  },
  {
   "cell_type": "code",
   "execution_count": 8,
   "metadata": {},
   "outputs": [
    {
     "name": "stdout",
     "output_type": "stream",
     "text": [
      "10x10 table: \n",
      " [[  1.   2.   3.   4.   5.   6.   7.   8.   9.  10.]\n",
      " [  2.   4.   6.   8.  10.  12.  14.  16.  18.  20.]\n",
      " [  3.   6.   9.  12.  15.  18.  21.  24.  27.  30.]\n",
      " [  4.   8.  12.  16.  20.  24.  28.  32.  36.  40.]\n",
      " [  5.  10.  15.  20.  25.  30.  35.  40.  45.  50.]\n",
      " [  6.  12.  18.  24.  30.  36.  42.  48.  54.  60.]\n",
      " [  7.  14.  21.  28.  35.  42.  49.  56.  63.  70.]\n",
      " [  8.  16.  24.  32.  40.  48.  56.  64.  72.  80.]\n",
      " [  9.  18.  27.  36.  45.  54.  63.  72.  81.  90.]\n",
      " [ 10.  20.  30.  40.  50.  60.  70.  80.  90. 100.]] \n",
      "\n",
      "Trace of the matrix: 385.0\n",
      "Anti-diagonal: [10. 18. 24. 28. 30. 30. 28. 24. 18. 10.]\n",
      "Diagonal offset by 1 upwards: [ 2.  6. 12. 20. 30. 42. 56. 72. 90.]\n"
     ]
    }
   ],
   "source": [
    "dim = 10\n",
    "matr = np.fromfunction(lambda i, j: (i+1)*(j+1), (dim, dim))\n",
    "print(\"10x10 table: \\n\", matr, '\\n')\n",
    "trace = 0\n",
    "\n",
    "for i in range(dim):\n",
    "    trace += matr[i][i]\n",
    "print(\"Trace of the matrix:\", trace)\n",
    "#or using trace function: print(matr.trace())\n",
    "\n",
    "print(\"Anti-diagonal:\", np.fliplr(matr).diagonal())\n",
    "print(\"Diagonal offset by 1 upwards:\", np.diagonal(matr, offset = 1))"
   ]
  },
  {
   "cell_type": "markdown",
   "metadata": {},
   "source": [
    "6\\. **Broadcasting**\n",
    "\n",
    "Use broadcasting to create a grid of distances.\n",
    "\n",
    "Route 66 crosses the following cities in the US: Chicago, Springfield, Saint-Louis, Tulsa, Oklahoma City, Amarillo, Santa Fe, Albuquerque, Flagstaff, Los Angeles.\n",
    "\n",
    "The corresponding positions in miles are: 0, 198, 303, 736, 871, 1175, 1475, 1544, 1913, 2448\n",
    "\n",
    "  * Build a 2D grid of distances among each city along Route 66\n",
    "  * Convert the distances in km"
   ]
  },
  {
   "cell_type": "code",
   "execution_count": 9,
   "metadata": {},
   "outputs": [
    {
     "name": "stdout",
     "output_type": "stream",
     "text": [
      "Distances between cities in miles:\n",
      " [[   0  198  303  736  871 1175 1475 1544 1913 2448]\n",
      " [   0    0  105  538  673  977 1277 1346 1715 2250]\n",
      " [   0    0    0  433  568  872 1172 1241 1610 2145]\n",
      " [   0    0    0    0  135  439  739  808 1177 1712]\n",
      " [   0    0    0    0    0  304  604  673 1042 1577]\n",
      " [   0    0    0    0    0    0  300  369  738 1273]\n",
      " [   0    0    0    0    0    0    0   69  438  973]\n",
      " [   0    0    0    0    0    0    0    0  369  904]\n",
      " [   0    0    0    0    0    0    0    0    0  535]\n",
      " [   0    0    0    0    0    0    0    0    0    0]] \n",
      "\n",
      "Distances between cities in Km:\n",
      " [[   0.   316.8  484.8 1177.6 1393.6 1880.  2360.  2470.4 3060.8 3916.8]\n",
      " [   0.     0.   168.   860.8 1076.8 1563.2 2043.2 2153.6 2744.  3600. ]\n",
      " [   0.     0.     0.   692.8  908.8 1395.2 1875.2 1985.6 2576.  3432. ]\n",
      " [   0.     0.     0.     0.   216.   702.4 1182.4 1292.8 1883.2 2739.2]\n",
      " [   0.     0.     0.     0.     0.   486.4  966.4 1076.8 1667.2 2523.2]\n",
      " [   0.     0.     0.     0.     0.     0.   480.   590.4 1180.8 2036.8]\n",
      " [   0.     0.     0.     0.     0.     0.     0.   110.4  700.8 1556.8]\n",
      " [   0.     0.     0.     0.     0.     0.     0.     0.   590.4 1446.4]\n",
      " [   0.     0.     0.     0.     0.     0.     0.     0.     0.   856. ]\n",
      " [   0.     0.     0.     0.     0.     0.     0.     0.     0.     0. ]]\n"
     ]
    }
   ],
   "source": [
    "posMiles = np.array([0, 198, 303, 736, 871, 1175, 1475, 1544, 1913, 2448])\n",
    "distancesMiles = np.triu(posMiles - np.tile(posMiles, (10, 1)).T)\n",
    "print('Distances between cities in miles:\\n',distancesMiles , '\\n')\n",
    "distancesKm = 1.6 * distancesMiles\n",
    "print('Distances between cities in Km:\\n', distancesKm)"
   ]
  },
  {
   "cell_type": "markdown",
   "metadata": {},
   "source": [
    "7\\. **Prime numbers sieve**\n",
    "\n",
    "Compute the prime numbers in the 0-N (start with N=99) range with a sieve (mask).\n",
    "\n",
    "  * Constract a shape (N,) boolean array, which is the mask\n",
    "  * Identify the multiples of each number starting from 2 and set accordingly the corresponding mask element\n",
    "  * Apply the mask to obtain an array of ordered prime numbers\n",
    "  * Check the performances (with `timeit`); how does it scale with N?\n",
    "  * Implement the optimization suggested in the [sieve of Eratosthenes](https://en.wikipedia.org/wiki/Sieve_of_Eratosthenes)"
   ]
  },
  {
   "cell_type": "code",
   "execution_count": 10,
   "metadata": {},
   "outputs": [
    {
     "name": "stdout",
     "output_type": "stream",
     "text": [
      "[ 2  3  5  7 11 13 17 19 23 29 31 37 41 43 47 53 59 61 67 71 73 79 83 89\n",
      " 97]\n",
      "[ 2  3  5  7 11 13 17 19 23 29 31 37 41 43 47 53 59 61 67 71 73 79 83 89\n",
      " 97]\n",
      "Execution time 0.3465966999999921\n",
      "Execution time 0.28881950000000245\n"
     ]
    }
   ],
   "source": [
    "def primeNumbers(N):\n",
    "    arr = np.arange(2, N)\n",
    "    msk = (arr % 2 != 0)\n",
    "    msk[0] = True\n",
    "    arr = arr[msk]\n",
    "    msk = msk[msk]\n",
    "    for j in arr[arr > 2]:\n",
    "       # all prime numbers are greater than 1\n",
    "       for i in arr[arr < j]:\n",
    "            if (j % i) == 0:\n",
    "                arr = arr[arr != j]\n",
    "                break\n",
    "    return arr\n",
    "\n",
    "def primeNumbersEratostenes(N):\n",
    "    arr = np.arange(2, N)\n",
    "    msk = (arr % 2 != 0)\n",
    "    #msk[0] = True\n",
    "    arr = arr[msk]\n",
    "    msk = msk[msk]\n",
    "    primes = np.array([2])\n",
    "    while arr.shape[0]:\n",
    "        p = arr[0]\n",
    "        arr = arr[arr % p != 0]\n",
    "        \n",
    "        primes =  np.append(primes, p)\n",
    "\n",
    "    return primes\n",
    "\n",
    "print(primeNumbers(99))\n",
    "print(primeNumbersEratostenes(99))\n",
    "\n",
    "mysetup = \"import numpy as np\"\n",
    "myprimeNumberCode = '''\n",
    "def primeNumbers(N):\n",
    "    arr = np.arange(2, N)\n",
    "    msk = (arr % 2 != 0)\n",
    "    msk[0] = True\n",
    "    arr = arr[msk]\n",
    "    msk = msk[msk]\n",
    "    for j in arr[arr > 2]:\n",
    "       # all prime numbers are greater than 1\n",
    "       for i in arr[arr < j]:\n",
    "            if (j % i) == 0:\n",
    "                arr = arr[arr != j]\n",
    "                break\n",
    "    return arr\n",
    "primeNumbers(99)\n",
    "'''\n",
    "\n",
    "myprimeNumberCodeEratostenes = '''\n",
    "def primeNumbersEratostenes(N):\n",
    "    arr = np.arange(2, N)\n",
    "    msk = (arr % 2 != 0)\n",
    "    #msk[0] = True\n",
    "    arr = arr[msk]\n",
    "    msk = msk[msk]\n",
    "    primes = np.array([2])\n",
    "    while arr.shape[0]:\n",
    "        p = arr[0]\n",
    "        arr = arr[arr % p != 0]\n",
    "        \n",
    "        primes =  np.append(primes, p)\n",
    "\n",
    "    return primes\n",
    "primeNumbersEratostenes(99)\n",
    "'''\n",
    "\n",
    "print(\"Execution time\", timeit.timeit(stmt=myprimeNumberCode, setup = mysetup, number=1000))\n",
    "print(\"Execution time\", timeit.timeit(stmt=myprimeNumberCodeEratostenes, setup = mysetup, number=1000))\n",
    "\n",
    "# primeNumbers is quadratic qith N while the optimization in the sieve of Eratosthenes is linear with N"
   ]
  },
  {
   "cell_type": "markdown",
   "metadata": {},
   "source": [
    "8\\. **Diffusion using random walk**\n",
    "\n",
    "Consider a simple random walk process: at each step in time, a walker jumps right or left (+1 or -1) with equal probability. The goal is to find the typical distance from the origin of many random walkers after a given amount of time.\n",
    "\n",
    "*Hint*: create a 2D array where each row represents a walker, and each column represents a time step.\n",
    "\n",
    "  * Take 1000 walkers and let them walk for 200 steps\n",
    "  * Use `randint` to create a 2D array of size $walkers \\times steps$ with values -1 or 1\n",
    "  * Calculate the walking distances for each walker (e.g. by summing the elements in each row)\n",
    "  * Take the square of the previously-obtained array (element-wise)\n",
    "  * Compute the mean of the squared distances at each step (i.e. the mean along the columns)\n",
    "  * **Optional**: plot the average distances ($\\sqrt(distance^2)$) as a function of time (step)"
   ]
  },
  {
   "cell_type": "code",
   "execution_count": 11,
   "metadata": {},
   "outputs": [
    {
     "data": {
      "image/png": "[encoded data removed]",
      "text/plain": [
       "<Figure size 432x288 with 1 Axes>"
      ]
     },
     "metadata": {
      "needs_background": "light"
     },
     "output_type": "display_data"
    }
   ],
   "source": [
    "walkers = 2 * np.random.randint(2, size=(1000, 200)) - 1\n",
    "walkersDistance = walkers.sum(axis = 1)\n",
    "walkersDistanceSquare = np.square(walkersDistance)\n",
    "walkersDistances = np.cumsum(walkers, axis = 1)\n",
    "walkersDistancesSquared = np.square(walkersDistances)\n",
    "walkersDistancesSquaredMean = walkersDistancesSquared.mean(axis = 0)\n",
    "dist = np.sqrt(walkersDistancesSquaredMean)\n",
    "plt.plot(dist)\n",
    "plt.show()"
   ]
  },
  {
   "cell_type": "code",
   "execution_count": null,
   "metadata": {},
   "outputs": [],
   "source": []
  }
 ],
 "metadata": {
  "kernelspec": {
   "display_name": "Python 3 (ipykernel)",
   "language": "python",
   "name": "python3"
  },
  "language_info": {
   "codemirror_mode": {
    "name": "ipython",
    "version": 3
   },
   "file_extension": ".py",
   "mimetype": "text/x-python",
   "name": "python",
   "nbconvert_exporter": "python",
   "pygments_lexer": "ipython3",
   "version": "3.9.7"
  }
 },
 "nbformat": 4,
 "nbformat_minor": 2
}
