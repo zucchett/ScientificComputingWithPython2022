{
 "cells": [
  {
   "cell_type": "code",
   "execution_count": 1,
   "metadata": {},
   "outputs": [],
   "source": [
    "import numpy as np\n",
    "import numpy.random as npr\n",
    "import math\n",
    "import matplotlib.pyplot as plt\n",
    "from timeit import timeit"
   ]
  },
  {
   "cell_type": "markdown",
   "metadata": {},
   "source": [
    "1\\. **Reductions**\n",
    "\n",
    "Find the total mean, and the mean for each row and column of the following matrix:\n",
    "\n",
    "```python\n",
    "m = np.arange(12).reshape((3,4))\n",
    "```"
   ]
  },
  {
   "cell_type": "code",
   "execution_count": 3,
   "metadata": {},
   "outputs": [
    {
     "name": "stdout",
     "output_type": "stream",
     "text": [
      "The mean of row 0 is:  1.5\n",
      "The mean of row 1 is:  5.5\n",
      "The mean of row 2 is:  9.5\n",
      "\n",
      "The mean of column 0 is:  4.0\n",
      "The mean of column 1 is:  5.0\n",
      "The mean of column 2 is:  6.0\n",
      "The mean of column 3 is:  7.0\n",
      "The total mean of the matrix is: 5.5\n"
     ]
    },
    {
     "data": {
      "text/plain": [
       "array([[ 0,  1,  2,  3],\n",
       "       [ 4,  5,  6,  7],\n",
       "       [ 8,  9, 10, 11]])"
      ]
     },
     "execution_count": 3,
     "metadata": {},
     "output_type": "execute_result"
    }
   ],
   "source": [
    "m = np.arange(12).reshape((3,4))\n",
    "\n",
    "for i in range(m.shape[0]):\n",
    "    print(\"The mean of row\", i, \"is: \", np.mean(m[i,:]))\n",
    "\n",
    "print()    \n",
    "for i in range(m.shape[1]):\n",
    "    print(\"The mean of column\", i, \"is: \", np.mean(m[:,i]))\n",
    "\n",
    "print(\"The total mean of the matrix is:\", np.mean(m))"
   ]
  },
  {
   "cell_type": "markdown",
   "metadata": {},
   "source": [
    "2\\. **Outer product**\n",
    "\n",
    "Find the outer product of the following vectors:\n",
    "\n",
    "```python\n",
    "u = np.array([1, 3, 5, 7])\n",
    "v = np.array([2, 4, 6, 8])\n",
    "```\n",
    "\n",
    "Use different methods to do this:\n",
    "\n",
    "   1. Using the function `outer` in numpy\n",
    "   2. Using a nested `for` loop or a list comprehension\n",
    "   3. Using numpy broadcasting operations"
   ]
  },
  {
   "cell_type": "code",
   "execution_count": 4,
   "metadata": {},
   "outputs": [
    {
     "name": "stdout",
     "output_type": "stream",
     "text": [
      "The outer product using the function outer is: \n",
      " [[ 2  4  6  8]\n",
      " [ 6 12 18 24]\n",
      " [10 20 30 40]\n",
      " [14 28 42 56]]\n",
      "\n",
      "The outer product using the for loop is: \n",
      " [[ 2  4  6  8]\n",
      " [ 6 12 18 24]\n",
      " [10 20 30 40]\n",
      " [14 28 42 56]]\n",
      "\n",
      "The outer product using the list comprehension is: \n",
      " [[ 2  4  6  8]\n",
      " [ 6 12 18 24]\n",
      " [10 20 30 40]\n",
      " [14 28 42 56]] \n",
      "\n",
      "The outer product using broadcasting operations: \n",
      " [[ 2  4  6  8]\n",
      " [ 6 12 18 24]\n",
      " [10 20 30 40]\n",
      " [14 28 42 56]]\n"
     ]
    }
   ],
   "source": [
    "u = np.array([1, 3, 5, 7])\n",
    "v = np.array([2, 4, 6, 8])\n",
    "\n",
    "print(\"The outer product using the function outer is: \\n\", np.outer(u,v))\n",
    "print()\n",
    "\n",
    "l1 = []\n",
    "for i in range(len(u)):\n",
    "    for j in range(len(v)):\n",
    "        l1.append(u[i]*v[j])\n",
    "\n",
    "outer_prod1 = np.array(l1).reshape(len(v), len(u))        \n",
    "print(\"The outer product using the for loop is: \\n\", outer_prod1)\n",
    "print()\n",
    "\n",
    "l2 = [u[i]*v[j] for i in range(len(u)) for j in range(len(v))]\n",
    "\n",
    "outer_prod2 = np.array(l2).reshape(len(v), len(u))        \n",
    "print(\"The outer product using the list comprehension is: \\n\", outer_prod2, \"\\n\")\n",
    "\n",
    "u_vert = u.reshape(len(u), 1)\n",
    "outer_prod3 = u_vert * v\n",
    "print(\"The outer product using broadcasting operations: \\n\", outer_prod3)"
   ]
  },
  {
   "cell_type": "markdown",
   "metadata": {},
   "source": [
    "3\\. **Matrix masking**\n",
    "\n",
    "Create a 10 by 6 matrix of float random numbers, distributed between 0 and 3 according to a flat distribution.\n",
    "\n",
    "After creating the matrix, set all entries $< 0.3$ to zero using a mask."
   ]
  },
  {
   "cell_type": "code",
   "execution_count": 5,
   "metadata": {},
   "outputs": [
    {
     "name": "stdout",
     "output_type": "stream",
     "text": [
      "The matrix with uniform numbers between 0 and 3 is: \n",
      "  [[0.74626773 0.48920035 2.35092977 2.42557017 1.87688528 1.8123409 ]\n",
      " [2.65710571 2.2773524  0.54331517 0.45050795 1.30703811 1.15581766]\n",
      " [1.72712961 0.43827208 2.05977906 1.40641202 1.70999744 1.93710304]\n",
      " [2.17002193 2.04201228 0.54275142 0.35447545 0.72820319 0.02455025]\n",
      " [1.08020549 0.43812524 1.62816917 2.57131031 0.60063649 0.40390038]\n",
      " [0.64078068 2.91946696 2.57498936 1.60135597 1.30337577 0.5615777 ]\n",
      " [0.86482794 1.88150199 1.06711761 2.18836624 1.6709647  2.82716986]\n",
      " [0.4606369  2.68867678 0.53410401 1.78278755 0.12788888 1.96017164]\n",
      " [1.10015865 2.38670932 0.03272114 1.44083112 0.29043039 0.38421883]\n",
      " [2.45767262 1.81015735 2.89762862 2.07960233 2.92637428 1.55189021]] \n",
      "\n",
      "The mask is: \n",
      " [[False False False False False False]\n",
      " [False False False False False False]\n",
      " [False False False False False False]\n",
      " [False False False False False  True]\n",
      " [False False False False False False]\n",
      " [False False False False False False]\n",
      " [False False False False False False]\n",
      " [False False False False  True False]\n",
      " [False False  True False  True False]\n",
      " [False False False False False False]] \n",
      "\n",
      "The modified matrix is: \n",
      " [[0.74626773 0.48920035 2.35092977 2.42557017 1.87688528 1.8123409 ]\n",
      " [2.65710571 2.2773524  0.54331517 0.45050795 1.30703811 1.15581766]\n",
      " [1.72712961 0.43827208 2.05977906 1.40641202 1.70999744 1.93710304]\n",
      " [2.17002193 2.04201228 0.54275142 0.35447545 0.72820319 0.        ]\n",
      " [1.08020549 0.43812524 1.62816917 2.57131031 0.60063649 0.40390038]\n",
      " [0.64078068 2.91946696 2.57498936 1.60135597 1.30337577 0.5615777 ]\n",
      " [0.86482794 1.88150199 1.06711761 2.18836624 1.6709647  2.82716986]\n",
      " [0.4606369  2.68867678 0.53410401 1.78278755 0.         1.96017164]\n",
      " [1.10015865 2.38670932 0.         1.44083112 0.         0.38421883]\n",
      " [2.45767262 1.81015735 2.89762862 2.07960233 2.92637428 1.55189021]] \n",
      "\n"
     ]
    }
   ],
   "source": [
    "npr.seed(456)\n",
    "\n",
    "uniform_matrix = 3 * npr.rand(10, 6)\n",
    "\n",
    "print(\"The matrix with uniform numbers between 0 and 3 is: \\n \", uniform_matrix, \"\\n\")\n",
    "\n",
    "mask = (uniform_matrix < 0.3)\n",
    "\n",
    "print(\"The mask is: \\n\", mask, \"\\n\")\n",
    "\n",
    "uniform_matrix[mask] = 0\n",
    "\n",
    "print(\"The modified matrix is: \\n\", uniform_matrix, \"\\n\")"
   ]
  },
  {
   "cell_type": "markdown",
   "metadata": {},
   "source": [
    "4\\. **Trigonometric functions**\n",
    "\n",
    "Use `np.linspace` to create an array of 100 numbers between $0$ and $2\\pi$ (inclusive).\n",
    "\n",
    "  * Extract every 10th element using the slice notation\n",
    "  * Reverse the array using the slice notation\n",
    "  * Extract elements where the absolute difference between the `sin` and `cos` functions evaluated for that element is $< 0.1$\n",
    "  * **Optional**: make a plot showing the sin and cos functions and indicate where they are close"
   ]
  },
  {
   "cell_type": "code",
   "execution_count": 13,
   "metadata": {},
   "outputs": [
    {
     "name": "stdout",
     "output_type": "stream",
     "text": [
      "The reversed array is: \n",
      " [3.14159265 3.10985939 3.07812614 3.04639288 3.01465962 2.98292636\n",
      " 2.9511931  2.91945984 2.88772658 2.85599332 2.82426006 2.7925268\n",
      " 2.76079354 2.72906028 2.69732703 2.66559377 2.63386051 2.60212725\n",
      " 2.57039399 2.53866073 2.50692747 2.47519421 2.44346095 2.41172769\n",
      " 2.37999443 2.34826118 2.31652792 2.28479466 2.2530614  2.22132814\n",
      " 2.18959488 2.15786162 2.12612836 2.0943951  2.06266184 2.03092858\n",
      " 1.99919533 1.96746207 1.93572881 1.90399555 1.87226229 1.84052903\n",
      " 1.80879577 1.77706251 1.74532925 1.71359599 1.68186273 1.65012947\n",
      " 1.61839622 1.58666296 1.5549297  1.52319644 1.49146318 1.45972992\n",
      " 1.42799666 1.3962634  1.36453014 1.33279688 1.30106362 1.26933037\n",
      " 1.23759711 1.20586385 1.17413059 1.14239733 1.11066407 1.07893081\n",
      " 1.04719755 1.01546429 0.98373103 0.95199777 0.92026451 0.88853126\n",
      " 0.856798   0.82506474 0.79333148 0.76159822 0.72986496 0.6981317\n",
      " 0.66639844 0.63466518 0.60293192 0.57119866 0.53946541 0.50773215\n",
      " 0.47599889 0.44426563 0.41253237 0.38079911 0.34906585 0.31733259\n",
      " 0.28559933 0.25386607 0.22213281 0.19039955 0.1586663  0.12693304\n",
      " 0.09519978 0.06346652 0.03173326 0.        ] \n",
      "\n",
      "The filtered array is: \n",
      " [0.82506474 0.79333148 0.76159822 0.72986496] \n",
      "\n",
      "The range of interest is in between the two vertical lines:\n"
     ]
    },
    {
     "data": {
      "text/plain": [
       "Text(0, 0.5, 'f(y)')"
      ]
     },
     "execution_count": 13,
     "metadata": {},
     "output_type": "execute_result"
    },
    {
     "data": {
      "image/png": "[encoded data removed]",
      "text/plain": [
       "<Figure size 720x504 with 1 Axes>"
      ]
     },
     "metadata": {
      "needs_background": "light"
     },
     "output_type": "display_data"
    }
   ],
   "source": [
    "a = np.linspace(0, math.pi, 100)\n",
    "\n",
    "reverse_a = a[::-1]\n",
    "\n",
    "print(\"The reversed array is: \\n\", reverse_a, \"\\n\")\n",
    "\n",
    "mask = ( abs(np.sin(reverse_a) - np.cos(reverse_a)) < 0.1 )\n",
    "filtered_a = reverse_a[mask]\n",
    "\n",
    "print(\"The filtered array is: \\n\", filtered_a, \"\\n\")\n",
    "\n",
    "print('The range of interest is in between the two vertical lines:')\n",
    "\n",
    "fig, ax = plt.subplots(figsize=(10, 7))\n",
    "\n",
    "ax.plot(reverse_a, np.sin(reverse_a), label='sin')\n",
    "ax.plot(reverse_a, np.cos(reverse_a), label='cos')\n",
    "ax.legend(loc='upper right')\n",
    "ax.axvline(filtered_a[0], color='red')\n",
    "ax.axvline(filtered_a[-1], color='red')\n",
    "ax.set_title('Plot of the sin and cos functions - sin and cos are closed in the interval between the two lines')\n",
    "ax.set_xlabel('x')\n",
    "ax.set_ylabel('f(y)')"
   ]
  },
  {
   "cell_type": "markdown",
   "metadata": {},
   "source": [
    "5\\. **Matrices**\n",
    "\n",
    "Create a matrix that shows the 10 by 10 multiplication table.\n",
    "\n",
    " * Find the trace of the matrix\n",
    " * Extract the anti-diagonal matrix (this should be ```array([10, 18, 24, 28, 30, 30, 28, 24, 18, 10])```)\n",
    " * Extract the diagonal offset by 1 upwards (this should be ```array([ 2,  6, 12, 20, 30, 42, 56, 72, 90])```)"
   ]
  },
  {
   "cell_type": "code",
   "execution_count": 14,
   "metadata": {},
   "outputs": [
    {
     "name": "stdout",
     "output_type": "stream",
     "text": [
      "The 10 by 10 moltiplication table is: \n",
      "  [[  1   2   3   4   5   6   7   8   9  10]\n",
      " [  2   4   6   8  10  12  14  16  18  20]\n",
      " [  3   6   9  12  15  18  21  24  27  30]\n",
      " [  4   8  12  16  20  24  28  32  36  40]\n",
      " [  5  10  15  20  25  30  35  40  45  50]\n",
      " [  6  12  18  24  30  36  42  48  54  60]\n",
      " [  7  14  21  28  35  42  49  56  63  70]\n",
      " [  8  16  24  32  40  48  56  64  72  80]\n",
      " [  9  18  27  36  45  54  63  72  81  90]\n",
      " [ 10  20  30  40  50  60  70  80  90 100]] \n",
      "\n",
      "The trace of the table is:  385 \n",
      "\n",
      "The anti diagonal is: \n",
      " [10 18 24 28 30 30 28 24 18 10] \n",
      "\n",
      "The upper diagonal is: \n",
      " [ 2  6 12 20 30 42 56 72 90] \n",
      "\n"
     ]
    }
   ],
   "source": [
    "x = np.arange(1, 11)\n",
    "y = np.arange(1, 11)\n",
    "\n",
    "table = y.reshape(len(y), 1) * x\n",
    "\n",
    "trace = np.sum(np.diag(table))\n",
    "\n",
    "anti_diag = np.diag(np.fliplr(table))\n",
    "\n",
    "diag_sup = np.diag(table, k=1)\n",
    "\n",
    "print(\"The 10 by 10 moltiplication table is: \\n \", table, \"\\n\")\n",
    "\n",
    "print(\"The trace of the table is: \", trace, \"\\n\")\n",
    "\n",
    "print(\"The anti diagonal is: \\n\", anti_diag, \"\\n\")\n",
    "print(\"The upper diagonal is: \\n\", diag_sup, \"\\n\")"
   ]
  },
  {
   "cell_type": "markdown",
   "metadata": {},
   "source": [
    "6\\. **Broadcasting**\n",
    "\n",
    "Use broadcasting to create a grid of distances.\n",
    "\n",
    "Route 66 crosses the following cities in the US: Chicago, Springfield, Saint-Louis, Tulsa, Oklahoma City, Amarillo, Santa Fe, Albuquerque, Flagstaff, Los Angeles.\n",
    "\n",
    "The corresponding positions in miles are: 0, 198, 303, 736, 871, 1175, 1475, 1544, 1913, 2448\n",
    "\n",
    "  * Build a 2D grid of distances among each city along Route 66\n",
    "  * Convert the distances in km"
   ]
  },
  {
   "cell_type": "code",
   "execution_count": 15,
   "metadata": {},
   "outputs": [
    {
     "name": "stdout",
     "output_type": "stream",
     "text": [
      "The distances in miles are: \n",
      " [[   0  198  303  736  871 1175 1475 1544 1913 2448]\n",
      " [ 198    0  105  538  673  977 1277 1346 1715 2250]\n",
      " [ 303  105    0  433  568  872 1172 1241 1610 2145]\n",
      " [ 736  538  433    0  135  439  739  808 1177 1712]\n",
      " [ 871  673  568  135    0  304  604  673 1042 1577]\n",
      " [1175  977  872  439  304    0  300  369  738 1273]\n",
      " [1475 1277 1172  739  604  300    0   69  438  973]\n",
      " [1544 1346 1241  808  673  369   69    0  369  904]\n",
      " [1913 1715 1610 1177 1042  738  438  369    0  535]\n",
      " [2448 2250 2145 1712 1577 1273  973  904  535    0]] \n",
      "\n",
      "The distances in km are: \n",
      " [[   0.     318.582  487.527 1184.224 1401.439 1890.575 2373.275 2484.296\n",
      "  3078.017 3938.832]\n",
      " [ 318.582    0.     168.945  865.642 1082.857 1571.993 2054.693 2165.714\n",
      "  2759.435 3620.25 ]\n",
      " [ 487.527  168.945    0.     696.697  913.912 1403.048 1885.748 1996.769\n",
      "  2590.49  3451.305]\n",
      " [1184.224  865.642  696.697    0.     217.215  706.351 1189.051 1300.072\n",
      "  1893.793 2754.608]\n",
      " [1401.439 1082.857  913.912  217.215    0.     489.136  971.836 1082.857\n",
      "  1676.578 2537.393]\n",
      " [1890.575 1571.993 1403.048  706.351  489.136    0.     482.7    593.721\n",
      "  1187.442 2048.257]\n",
      " [2373.275 2054.693 1885.748 1189.051  971.836  482.7      0.     111.021\n",
      "   704.742 1565.557]\n",
      " [2484.296 2165.714 1996.769 1300.072 1082.857  593.721  111.021    0.\n",
      "   593.721 1454.536]\n",
      " [3078.017 2759.435 2590.49  1893.793 1676.578 1187.442  704.742  593.721\n",
      "     0.     860.815]\n",
      " [3938.832 3620.25  3451.305 2754.608 2537.393 2048.257 1565.557 1454.536\n",
      "   860.815    0.   ]] \n",
      "\n"
     ]
    }
   ],
   "source": [
    "distances= np.array([0, 198, 303, 736, 871, 1175, 1475, 1544, 1913, 2448])\n",
    "\n",
    "grid_miles = abs( distances - distances.reshape(len(distances), 1) )\n",
    "\n",
    "grid_km = 1.609 * grid_miles\n",
    "\n",
    "print(\"The distances in miles are: \\n\", grid_miles, \"\\n\")\n",
    "\n",
    "print(\"The distances in km are: \\n\", grid_km, \"\\n\")"
   ]
  },
  {
   "cell_type": "markdown",
   "metadata": {},
   "source": [
    "7\\. **Prime numbers sieve**\n",
    "\n",
    "Compute the prime numbers in the 0-N (start with N=99) range with a sieve (mask).\n",
    "\n",
    "  * Constract a shape (N,) boolean array, which is the mask\n",
    "  * Identify the multiples of each number starting from 2 and set accordingly the corresponding mask element\n",
    "  * Apply the mask to obtain an array of ordered prime numbers\n",
    "  * Check the performances (with `timeit`); how does it scale with N?\n",
    "  * Implement the optimization suggested in the [sieve of Eratosthenes](https://en.wikipedia.org/wiki/Sieve_of_Eratosthenes)"
   ]
  },
  {
   "cell_type": "code",
   "execution_count": 17,
   "metadata": {},
   "outputs": [
    {
     "name": "stdout",
     "output_type": "stream",
     "text": [
      "The prime numbers between 0 and 99  obtained with the mask method are: \n",
      "  [ 2  3  5  7 11 13 17 19 23 29 31 37 41 43 47 53 59 61 67 71 73 79 83 89\n",
      " 97] \n",
      "\n",
      "The time employed to calculate them is:  0.0004155999999966298 seconds. \n",
      "\n",
      "When N increases by a factor 10 the time increases by a factor:  10.96 \n",
      "\n",
      "The prime numbers between 0 and 99  obtained with the Eratosthenes sieve are: \n",
      "  [ 2  3  5  7 11 13 17 19 23 29 31 37 41 43 47 53 59 61 67 71 73 79 83 89\n",
      " 97] \n",
      "\n",
      "Using the sieve of Eratosthenes the time is reduced of 5 orders of magnitute \n",
      "\n",
      "Array with the times obtained with the first method: \n",
      " [0.0004155999999966298, 0.0038022999999611784, 0.04914950000011231, 0.5783959000000323, 5.7932872999999745] \n",
      "\n",
      "Array with the times obtained with the method of Eratosthenes: \n",
      " [5.03999999637017e-05, 5.55999999960477e-05, 0.00010640000004968897, 5.8500000022831955e-05, 6.710000002385641e-05]\n"
     ]
    }
   ],
   "source": [
    "def prime_numbers(n):\n",
    "\n",
    "    numbers = np.arange(2, n)\n",
    "    l_mask = []\n",
    "\n",
    "    for i in range(len(numbers)):\n",
    "        j = 2\n",
    "        check = False\n",
    "        while j < 10 and check == False:\n",
    "            if numbers[i] % j == 0 and numbers[i] != j:\n",
    "                l_mask.append(0)\n",
    "                check = True\n",
    "            j = j+1    \n",
    "        if check == False:\n",
    "            l_mask.append(1) \n",
    "        \n",
    "    a_mask = np.array(l_mask, dtype=bool)\n",
    "    prime_n = numbers[a_mask]\n",
    "    \n",
    "    return a_mask, prime_n\n",
    "\n",
    "\n",
    "def Eratosthenes(m):\n",
    "    n = 50\n",
    "    primes_n = np.arange(2, n+1)\n",
    "    mask_p = [True for i in range(2, n+1)]\n",
    "    p = 2\n",
    "    while (p * p <= n):\n",
    "        if (mask_p[p-2] == True):\n",
    "            for i in range(p * p, n+1, p):\n",
    "                mask_p[i-2] = False\n",
    "        p += 1\n",
    "    return primes_n[mask_p]\n",
    "\n",
    "N = 100\n",
    "\n",
    "mask, primes = prime_numbers(N)\n",
    "\n",
    "time_n = []\n",
    "time_erat = []\n",
    "\n",
    "tn = 5\n",
    "for i in range(tn):\n",
    "    n = N*10**(i)\n",
    "    time_n.append(timeit(stmt=\"prime_numbers(n)\", setup='', number=1, globals=globals()))\n",
    "    time_erat.append(timeit(stmt=\"Eratosthenes(n)\", setup='', number=1, globals=globals()))\n",
    "    \n",
    "rate_sum_n = 0\n",
    "rate_sum_erat = 0\n",
    "\n",
    "for i in range(1, tn):\n",
    "    rate_sum_n = rate_sum_n + time_n[i]/time_n[i-1]\n",
    "    rate_sum_erat = rate_sum_erat + time_erat[i]/time_erat[i-1]\n",
    "\n",
    "print(\"The prime numbers between 0 and\",  N-1,  \" obtained with the mask method are: \\n \", primes, \"\\n\")\n",
    "\n",
    "print(\"The time employed to calculate them is: \", time_n[0], \"seconds. \\n\")\n",
    "\n",
    "print(\"When N increases by a factor 10 the time increases by a factor: \", \"%.2f\" % (rate_sum_n/(tn-1)), \"\\n\")\n",
    "\n",
    "print(\"The prime numbers between 0 and\",  N-1,  \" obtained with the Eratosthenes sieve are: \\n \", primes, \"\\n\")\n",
    "\n",
    "print(\"Using the sieve of Eratosthenes the time is reduced of 5 orders of magnitute \\n\")\n",
    "\n",
    "print('Array with the times obtained with the first method, for increasing N: \\n', time_n, '\\n')\n",
    "print('Array with the times obtained with the method of Eratosthenes, for increasing N: \\n', time_erat)"
   ]
  },
  {
   "cell_type": "markdown",
   "metadata": {},
   "source": [
    "8\\. **Diffusion using random walk**\n",
    "\n",
    "Consider a simple random walk process: at each step in time, a walker jumps right or left (+1 or -1) with equal probability. The goal is to find the typical distance from the origin of many random walkers after a given amount of time.\n",
    "\n",
    "*Hint*: create a 2D array where each row represents a walker, and each column represents a time step.\n",
    "\n",
    "  * Take 1000 walkers and let them walk for 200 steps\n",
    "  * Use `randint` to create a 2D array of size $walkers \\times steps$ with values -1 or 1\n",
    "  * Calculate the walking distances for each walker (e.g. by summing the elements in each row)\n",
    "  * Take the square of the previously-obtained array (element-wise)\n",
    "  * Compute the mean of the squared distances at each step (i.e. the mean along the columns)\n",
    "  * **Optional**: plot the average distances ($\\sqrt(distance^2)$) as a function of time (step)"
   ]
  },
  {
   "cell_type": "code",
   "execution_count": 21,
   "metadata": {},
   "outputs": [
    {
     "name": "stdout",
     "output_type": "stream",
     "text": [
      "The mean of the squared distances at each step is: \n",
      " [1.0, 1.976, 2.968, 4.02, 4.8, 5.672, 6.488, 7.364, 8.408, 9.192, 10.312, 11.28, 12.152, 13.316, 14.24, 14.82, 15.416, 16.548, 17.944, 19.244, 20.032, 21.208, 22.192, 22.924, 23.968, 25.124, 26.192, 26.904, 28.0, 29.036, 30.136, 31.26, 32.552, 34.256, 35.544, 36.768, 37.952, 38.74, 39.016, 39.744, 41.08, 42.38, 43.136, 44.724, 45.768, 46.664, 47.56, 48.584, 49.464, 49.7, 51.12, 51.9, 52.832, 53.22, 54.64, 56.096, 57.608, 59.34, 60.712, 62.228, 64.128, 64.936, 64.936, 65.584, 65.848, 66.812, 67.528, 68.288, 69.624, 71.224, 72.328, 73.74, 74.8, 75.572, 76.776, 78.732, 79.496, 80.464, 80.768, 82.008, 83.288, 83.884, 84.544, 85.996, 86.576, 87.376, 89.32, 90.496, 91.28, 92.08, 92.272, 92.7, 93.24, 93.82, 94.776, 95.396, 96.872, 98.668, 97.6, 99.552, 101.336, 103.048, 103.984, 104.22, 105.752, 107.028, 108.328, 109.432, 110.776, 111.204, 112.728, 112.844, 113.24, 113.112, 113.904, 114.628, 116.184, 116.812, 117.376, 117.676, 119.52, 121.64, 122.04, 123.892, 124.536, 126.24, 127.248, 128.636, 129.512, 130.248, 130.272, 131.004, 133.248, 134.252, 136.368, 138.86, 140.112, 139.112, 140.576, 142.416, 142.72, 143.056, 142.968, 144.344, 144.4, 145.292, 146.08, 147.944, 149.544, 151.62, 154.224, 154.88, 157.528, 158.268, 159.344, 160.244, 161.096, 162.732, 162.56, 162.948, 164.216, 164.504, 163.872, 163.824, 163.536, 164.184, 166.328, 168.796, 169.384, 172.0, 173.776, 175.04, 175.104, 174.804, 175.664, 176.872, 175.976, 177.744, 180.16, 181.948, 183.968, 185.564, 185.288, 187.344, 190.208, 189.936, 190.448, 191.284, 192.464, 192.968, 191.824, 191.84, 193.248, 194.252, 194.92, 197.228, 198.456, 199.98, 200.248, 201.724] \n",
      "\n"
     ]
    },
    {
     "data": {
      "text/plain": [
       "Text(0, 0.5, 'Avarage distance')"
      ]
     },
     "execution_count": 21,
     "metadata": {},
     "output_type": "execute_result"
    },
    {
     "data": {
      "image/png": "[encoded data removed]",
      "text/plain": [
       "<Figure size 576x360 with 1 Axes>"
      ]
     },
     "metadata": {
      "needs_background": "light"
     },
     "output_type": "display_data"
    }
   ],
   "source": [
    "npr.seed(123)\n",
    "\n",
    "walkers = 1000\n",
    "steps = 200\n",
    "\n",
    "random_walk = npr.randint(-1, 1, size=(walkers, steps))\n",
    "random_walk[random_walk == 0] = 1\n",
    "\n",
    "distance = []\n",
    "for i in range(random_walk.shape[0]):\n",
    "    distance.append(np.sum(random_walk[i,:]))\n",
    "    \n",
    "walkers_distance = np.array(distance) # array with the walking distances for each walker\n",
    "\n",
    "squared_distances = walkers_distance**2\n",
    "\n",
    "row = []\n",
    "for i in range(walkers):\n",
    "    partial_sum = 0\n",
    "    for j in range(steps):\n",
    "        partial_sum = partial_sum + random_walk[i,j]\n",
    "        row.append(partial_sum**2)\n",
    "\n",
    "squared_distance_single_step = np.array(row).reshape((walkers,steps))\n",
    "\n",
    "media = []\n",
    "for j in range(squared_distance_single_step.shape[1]):\n",
    "    media.append(np.mean(squared_distance_single_step[:,j]))\n",
    "    \n",
    "print(\"The mean of the squared distances at each step is: \\n\", media, \"\\n\")\n",
    "\n",
    "mean_distance = np.sqrt(np.array(media))\n",
    "\n",
    "fig, ax = plt.subplots(figsize=(8, 5))\n",
    "\n",
    "ax.plot(np.linspace(1, steps+1, steps), mean_distance)\n",
    "ax.set_title('Avarage distances as a function of time')\n",
    "ax.set_xlabel('Steps')\n",
    "ax.set_ylabel('Avarage distance')"
   ]
  },
  {
   "cell_type": "code",
   "execution_count": null,
   "metadata": {},
   "outputs": [],
   "source": []
  }
 ],
 "metadata": {
  "kernelspec": {
   "display_name": "Python 3",
   "language": "python",
   "name": "python3"
  },
  "language_info": {
   "codemirror_mode": {
    "name": "ipython",
    "version": 3
   },
   "file_extension": ".py",
   "mimetype": "text/x-python",
   "name": "python",
   "nbconvert_exporter": "python",
   "pygments_lexer": "ipython3",
   "version": "3.8.5"
  }
 },
 "nbformat": 4,
 "nbformat_minor": 2
}
