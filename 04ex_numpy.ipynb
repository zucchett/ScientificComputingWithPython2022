{
 "cells": [
  {
   "cell_type": "markdown",
   "metadata": {},
   "source": [
    "1\\. **Reductions**\n",
    "\n",
    "Find the total mean, and the mean for each row and column of the following matrix:\n",
    "\n",
    "```python\n",
    "m = np.arange(12).reshape((3,4))\n",
    "```"
   ]
  },
  {
   "cell_type": "code",
   "execution_count": 1,
   "metadata": {},
   "outputs": [
    {
     "name": "stdout",
     "output_type": "stream",
     "text": [
      "matrix: \n",
      " [[ 0  1  2  3]\n",
      " [ 4  5  6  7]\n",
      " [ 8  9 10 11]]\n",
      "\n",
      "rows' means:  [4.0, 5.0, 6.0, 7.0]\n",
      "\n",
      "columns' means:  [1.5, 5.5, 9.5]\n",
      "\n",
      "total mean:  5.5\n"
     ]
    }
   ],
   "source": [
    "import numpy as np\n",
    "\n",
    "m = np.arange(12).reshape((3,4))\n",
    "\n",
    "shape_m = m.shape\n",
    "row = []\n",
    "column = []\n",
    "total = 0\n",
    "\n",
    "for i in range(shape_m[1]):\n",
    "    mean_row = 0\n",
    "    for j in range(shape_m[0]):\n",
    "        mean_row = mean_row + m[j][i]\n",
    "    row.append(mean_row/shape_m[0])\n",
    "    total = total + mean_row\n",
    "\n",
    "total = total/(shape_m[0]*shape_m[1])\n",
    "\n",
    "for j in range(shape_m[0]):\n",
    "    mean_column = 0\n",
    "    for i in range(shape_m[1]):\n",
    "        mean_column = mean_column + m[j][i]\n",
    "    column.append(mean_column/shape_m[1])\n",
    "    \n",
    "print(\"matrix: \\n\",m)\n",
    "print(\"\")\n",
    "print(\"rows' means: \",row)\n",
    "print(\"\")\n",
    "print(\"columns' means: \",column)\n",
    "print(\"\")\n",
    "print(\"total mean: \",total)"
   ]
  },
  {
   "cell_type": "markdown",
   "metadata": {},
   "source": [
    "2\\. **Outer product**\n",
    "\n",
    "Find the outer product of the following vectors:\n",
    "\n",
    "```python\n",
    "u = np.array([1, 3, 5, 7])\n",
    "v = np.array([2, 4, 6, 8])\n",
    "```\n",
    "\n",
    "Use different methods to do this:\n",
    "\n",
    "   1. Using the function `outer` in numpy\n",
    "   2. Using a nested `for` loop or a list comprehension\n",
    "   3. Using numpy broadcasting operations"
   ]
  },
  {
   "cell_type": "code",
   "execution_count": 2,
   "metadata": {},
   "outputs": [
    {
     "name": "stdout",
     "output_type": "stream",
     "text": [
      "outer product method 1: \n",
      " [[ 2  4  6  8]\n",
      " [ 6 12 18 24]\n",
      " [10 20 30 40]\n",
      " [14 28 42 56]]\n",
      "\n",
      "outer product method 2: \n",
      " [[ 2.  4.  6.  8.]\n",
      " [ 6. 12. 18. 24.]\n",
      " [10. 20. 30. 40.]\n",
      " [14. 28. 42. 56.]]\n",
      "\n",
      "outer product method 3: \n",
      " [[ 2  4  6  8]\n",
      " [ 6 12 18 24]\n",
      " [10 20 30 40]\n",
      " [14 28 42 56]]\n"
     ]
    }
   ],
   "source": [
    "u = np.array([1, 3, 5, 7])\n",
    "v = np.array([2, 4, 6, 8])\n",
    "\n",
    "#1\n",
    "w = np.outer(u, v)\n",
    "print(\"outer product method 1: \\n\",w)\n",
    "\n",
    "#2\n",
    "w = np.empty([len(u),len(v)])\n",
    "\n",
    "for i in range(len(u)):\n",
    "    for j in range(len(v)):\n",
    "        w[i,j] = u[i]*v[j]\n",
    "\n",
    "print(\"\")    \n",
    "print(\"outer product method 2: \\n\",w)\n",
    "\n",
    "#3\n",
    "w = (np.tile(u, (1, 1)).T)*v\n",
    "\n",
    "print(\"\")    \n",
    "print(\"outer product method 3: \\n\",w)"
   ]
  },
  {
   "cell_type": "markdown",
   "metadata": {},
   "source": [
    "3\\. **Matrix masking**\n",
    "\n",
    "Create a 10 by 6 matrix of float random numbers, distributed between 0 and 3 according to a flat distribution.\n",
    "\n",
    "After creating the matrix, set all entries $< 0.3$ to zero using a mask."
   ]
  },
  {
   "cell_type": "code",
   "execution_count": 3,
   "metadata": {},
   "outputs": [
    {
     "name": "stdout",
     "output_type": "stream",
     "text": [
      "matrix: \n",
      " [[3.45872298 1.9969618  0.59277734 1.09629647 1.09005845 1.23522526]\n",
      " [1.52299611 3.89704816 1.81591827 0.99597477 0.50880485 2.13922828]\n",
      " [0.10294764 1.99545315 2.3681803  2.22248466 2.80415703 3.1662691 ]\n",
      " [0.7505171  1.49168095 3.13892    2.18217897 3.71306347 2.99985997]\n",
      " [3.37482203 1.07729689 1.40220116 0.6547299  1.63440255 2.49273845]\n",
      " [2.26088397 3.16403025 1.59020404 3.77088148 1.86343542 3.27751465]\n",
      " [1.31686795 1.54898174 3.67432299 3.32234367 2.38011129 3.73308257]\n",
      " [0.58500306 1.49666206 3.74172207 2.32134905 1.67031101 3.01997531]\n",
      " [3.01112224 1.04509149 1.4528336  2.59498264 0.38289097 0.16001357]\n",
      " [2.26432394 0.15864776 1.04351655 0.17668413 2.960009   0.62722429]]\n",
      "\n",
      "new matrix: \n",
      " [[3.45872298 1.9969618  0.59277734 1.09629647 1.09005845 1.23522526]\n",
      " [1.52299611 3.89704816 1.81591827 0.99597477 0.50880485 2.13922828]\n",
      " [0.         1.99545315 2.3681803  2.22248466 2.80415703 3.1662691 ]\n",
      " [0.7505171  1.49168095 3.13892    2.18217897 3.71306347 2.99985997]\n",
      " [3.37482203 1.07729689 1.40220116 0.6547299  1.63440255 2.49273845]\n",
      " [2.26088397 3.16403025 1.59020404 3.77088148 1.86343542 3.27751465]\n",
      " [1.31686795 1.54898174 3.67432299 3.32234367 2.38011129 3.73308257]\n",
      " [0.58500306 1.49666206 3.74172207 2.32134905 1.67031101 3.01997531]\n",
      " [3.01112224 1.04509149 1.4528336  2.59498264 0.38289097 0.        ]\n",
      " [2.26432394 0.         1.04351655 0.         2.960009   0.62722429]]\n"
     ]
    }
   ],
   "source": [
    "mat = np.random.uniform(0,4,[10,6])\n",
    "\n",
    "print(\"matrix: \\n\",mat)\n",
    "\n",
    "mask = (mat < 0.3)\n",
    "\n",
    "for i in range(10):\n",
    "    for j in range(6):\n",
    "        if mask[i,j] == True:\n",
    "            mat[i,j] = 0\n",
    "\n",
    "print(\"\")            \n",
    "print(\"new matrix: \\n\",mat)\n"
   ]
  },
  {
   "cell_type": "markdown",
   "metadata": {},
   "source": [
    "4\\. **Trigonometric functions**\n",
    "\n",
    "Use `np.linspace` to create an array of 100 numbers between $0$ and $2\\pi$ (inclusive).\n",
    "\n",
    "  * Extract every 10th element using the slice notation\n",
    "  * Reverse the array using the slice notation\n",
    "  * Extract elements where the absolute difference between the `sin` and `cos` functions evaluated for that element is $< 0.1$\n",
    "  * **Optional**: make a plot showing the sin and cos functions and indicate where they are close"
   ]
  },
  {
   "cell_type": "code",
   "execution_count": 4,
   "metadata": {},
   "outputs": [
    {
     "name": "stdout",
     "output_type": "stream",
     "text": [
      "array: \n",
      " [0.         0.06346652 0.12693304 0.19039955 0.25386607 0.31733259\n",
      " 0.38079911 0.44426563 0.50773215 0.57119866 0.63466518 0.6981317\n",
      " 0.76159822 0.82506474 0.88853126 0.95199777 1.01546429 1.07893081\n",
      " 1.14239733 1.20586385 1.26933037 1.33279688 1.3962634  1.45972992\n",
      " 1.52319644 1.58666296 1.65012947 1.71359599 1.77706251 1.84052903\n",
      " 1.90399555 1.96746207 2.03092858 2.0943951  2.15786162 2.22132814\n",
      " 2.28479466 2.34826118 2.41172769 2.47519421 2.53866073 2.60212725\n",
      " 2.66559377 2.72906028 2.7925268  2.85599332 2.91945984 2.98292636\n",
      " 3.04639288 3.10985939 3.17332591 3.23679243 3.30025895 3.36372547\n",
      " 3.42719199 3.4906585  3.55412502 3.61759154 3.68105806 3.74452458\n",
      " 3.8079911  3.87145761 3.93492413 3.99839065 4.06185717 4.12532369\n",
      " 4.1887902  4.25225672 4.31572324 4.37918976 4.44265628 4.5061228\n",
      " 4.56958931 4.63305583 4.69652235 4.75998887 4.82345539 4.88692191\n",
      " 4.95038842 5.01385494 5.07732146 5.14078798 5.2042545  5.26772102\n",
      " 5.33118753 5.39465405 5.45812057 5.52158709 5.58505361 5.64852012\n",
      " 5.71198664 5.77545316 5.83891968 5.9023862  5.96585272 6.02931923\n",
      " 6.09278575 6.15625227 6.21971879 6.28318531]\n",
      "\n",
      "every 10th element: \n",
      " [0.57119866 1.20586385 1.84052903 2.47519421 3.10985939 3.74452458\n",
      " 4.37918976 5.01385494 5.64852012 6.28318531]\n",
      "\n",
      "reversed array: \n",
      " [6.28318531 6.21971879 6.15625227 6.09278575 6.02931923 5.96585272\n",
      " 5.9023862  5.83891968 5.77545316 5.71198664 5.64852012 5.58505361\n",
      " 5.52158709 5.45812057 5.39465405 5.33118753 5.26772102 5.2042545\n",
      " 5.14078798 5.07732146 5.01385494 4.95038842 4.88692191 4.82345539\n",
      " 4.75998887 4.69652235 4.63305583 4.56958931 4.5061228  4.44265628\n",
      " 4.37918976 4.31572324 4.25225672 4.1887902  4.12532369 4.06185717\n",
      " 3.99839065 3.93492413 3.87145761 3.8079911  3.74452458 3.68105806\n",
      " 3.61759154 3.55412502 3.4906585  3.42719199 3.36372547 3.30025895\n",
      " 3.23679243 3.17332591 3.10985939 3.04639288 2.98292636 2.91945984\n",
      " 2.85599332 2.7925268  2.72906028 2.66559377 2.60212725 2.53866073\n",
      " 2.47519421 2.41172769 2.34826118 2.28479466 2.22132814 2.15786162\n",
      " 2.0943951  2.03092858 1.96746207 1.90399555 1.84052903 1.77706251\n",
      " 1.71359599 1.65012947 1.58666296 1.52319644 1.45972992 1.3962634\n",
      " 1.33279688 1.26933037 1.20586385 1.14239733 1.07893081 1.01546429\n",
      " 0.95199777 0.88853126 0.82506474 0.76159822 0.6981317  0.63466518\n",
      " 0.57119866 0.50773215 0.44426563 0.38079911 0.31733259 0.25386607\n",
      " 0.19039955 0.12693304 0.06346652 0.        ]\n",
      "\n",
      "abs(sin(x)-cos(x)) < 0.1: \n",
      " [0.76159822 0.82506474 3.87145761 3.93492413]\n"
     ]
    },
    {
     "data": {
      "image/png": "[encoded data removed]",
      "text/plain": [
       "<Figure size 640x480 with 1 Axes>"
      ]
     },
     "metadata": {},
     "output_type": "display_data"
    }
   ],
   "source": [
    "from math import *\n",
    "\n",
    "f = np.linspace(0, 2*pi, 100, endpoint=True)\n",
    "print(\"array: \\n\",f)\n",
    "s = f[9::10]\n",
    "print(\"\")\n",
    "print(\"every 10th element: \\n\",s)\n",
    "t = f[::-1]\n",
    "print(\"\")\n",
    "print(\"reversed array: \\n\",t)\n",
    "fth = []\n",
    "\n",
    "y1 = np.sin(f)\n",
    "y2 = np.cos(f)\n",
    "\n",
    "mask = (abs(y1-y2) < 0.1)\n",
    "\n",
    "for k in range(len(mask)):\n",
    "    if mask[k] == True:\n",
    "        fth.append(f[k])\n",
    "        \n",
    "fth = np.array(fth)        \n",
    "print(\"\")\n",
    "print(\"abs(sin(x)-cos(x)) < 0.1: \\n\",fth)\n",
    "\n",
    "import matplotlib.pyplot as plt\n",
    "\n",
    "plt.plot(f,y1,f,y2)\n",
    "plt.xlabel('x values from 0 to 2pi') \n",
    "plt.ylabel('sin(x) and cos(x)')\n",
    "plt.title('plot of sin and cos from 0 to 2pi')\n",
    "plt.legend(['sin(x)', 'cos(x)']) \n",
    "plt.show()"
   ]
  },
  {
   "cell_type": "markdown",
   "metadata": {},
   "source": [
    "5\\. **Matrices**\n",
    "\n",
    "Create a matrix that shows the 10 by 10 multiplication table.\n",
    "\n",
    " * Find the trace of the matrix\n",
    " * Extract the anti-diagonal matrix (this should be ```array([10, 18, 24, 28, 30, 30, 28, 24, 18, 10])```)\n",
    " * Extract the diagonal offset by 1 upwards (this should be ```array([ 2,  6, 12, 20, 30, 42, 56, 72, 90])```)"
   ]
  },
  {
   "cell_type": "code",
   "execution_count": 5,
   "metadata": {},
   "outputs": [
    {
     "name": "stdout",
     "output_type": "stream",
     "text": [
      "matrix: \n",
      " [[  1   2   3   4   5   6   7   8   9  10]\n",
      " [  2   4   6   8  10  12  14  16  18  20]\n",
      " [  3   6   9  12  15  18  21  24  27  30]\n",
      " [  4   8  12  16  20  24  28  32  36  40]\n",
      " [  5  10  15  20  25  30  35  40  45  50]\n",
      " [  6  12  18  24  30  36  42  48  54  60]\n",
      " [  7  14  21  28  35  42  49  56  63  70]\n",
      " [  8  16  24  32  40  48  56  64  72  80]\n",
      " [  9  18  27  36  45  54  63  72  81  90]\n",
      " [ 10  20  30  40  50  60  70  80  90 100]]\n",
      "\n",
      "trace:  385\n",
      "\n",
      "anti-diagonal:  [10 18 24 28 30 30 28 24 18 10]\n",
      "\n",
      "diagonal offset by 1 upwards:  [ 2  6 12 20 30 42 56 72 90]\n"
     ]
    }
   ],
   "source": [
    "ten = np.tile(np.arange(1, 11, 1), (10, 1)).T\n",
    "tenxten = ten * np.arange(1,11)\n",
    "print(\"matrix: \\n\",tenxten)\n",
    "\n",
    "traccia = tenxten.trace()\n",
    "print(\"\")\n",
    "print(\"trace: \",traccia)\n",
    "\n",
    "tenxten_flipped = tenxten[::-1]\n",
    "#print(tenxten_flipped)\n",
    "\n",
    "print(\"\")\n",
    "print(\"anti-diagonal: \",tenxten_flipped.diagonal())\n",
    "\n",
    "tenxten_reduced = tenxten[:,1:]\n",
    "\n",
    "print(\"\")\n",
    "print(\"diagonal offset by 1 upwards: \",tenxten_reduced.diagonal())"
   ]
  },
  {
   "cell_type": "markdown",
   "metadata": {},
   "source": [
    "# 6\\. **Broadcasting**\n",
    "\n",
    "Use broadcasting to create a grid of distances.\n",
    "\n",
    "Route 66 crosses the following cities in the US: Chicago, Springfield, Saint-Louis, Tulsa, Oklahoma City, Amarillo, Santa Fe, Albuquerque, Flagstaff, Los Angeles.\n",
    "\n",
    "The corresponding positions in miles are: 0, 198, 303, 736, 871, 1175, 1475, 1544, 1913, 2448\n",
    "\n",
    "  * Build a 2D grid of distances among each city along Route 66\n",
    "  * Convert the distances in km"
   ]
  },
  {
   "cell_type": "code",
   "execution_count": 6,
   "metadata": {},
   "outputs": [
    {
     "name": "stdout",
     "output_type": "stream",
     "text": [
      "cities position: \n",
      "\n",
      " [[   0    0    0    0    0    0    0    0    0    0]\n",
      " [ 198  198  198  198  198  198  198  198  198  198]\n",
      " [ 303  303  303  303  303  303  303  303  303  303]\n",
      " [ 736  736  736  736  736  736  736  736  736  736]\n",
      " [ 871  871  871  871  871  871  871  871  871  871]\n",
      " [1175 1175 1175 1175 1175 1175 1175 1175 1175 1175]\n",
      " [1475 1475 1475 1475 1475 1475 1475 1475 1475 1475]\n",
      " [1544 1544 1544 1544 1544 1544 1544 1544 1544 1544]\n",
      " [1913 1913 1913 1913 1913 1913 1913 1913 1913 1913]\n",
      " [2448 2448 2448 2448 2448 2448 2448 2448 2448 2448]]\n",
      "\n",
      "cities' distance from each other: \n",
      "\n",
      " [[   0  198  303  736  871 1175 1475 1544 1913 2448]\n",
      " [ 198    0  105  538  673  977 1277 1346 1715 2250]\n",
      " [ 303  105    0  433  568  872 1172 1241 1610 2145]\n",
      " [ 736  538  433    0  135  439  739  808 1177 1712]\n",
      " [ 871  673  568  135    0  304  604  673 1042 1577]\n",
      " [1175  977  872  439  304    0  300  369  738 1273]\n",
      " [1475 1277 1172  739  604  300    0   69  438  973]\n",
      " [1544 1346 1241  808  673  369   69    0  369  904]\n",
      " [1913 1715 1610 1177 1042  738  438  369    0  535]\n",
      " [2448 2250 2145 1712 1577 1273  973  904  535    0]]\n",
      "\n",
      "cities' distance from each other in km: \n",
      "\n",
      " [[   0.   316.8  484.8 1177.6 1393.6 1880.  2360.  2470.4 3060.8 3916.8]\n",
      " [ 316.8    0.   168.   860.8 1076.8 1563.2 2043.2 2153.6 2744.  3600. ]\n",
      " [ 484.8  168.     0.   692.8  908.8 1395.2 1875.2 1985.6 2576.  3432. ]\n",
      " [1177.6  860.8  692.8    0.   216.   702.4 1182.4 1292.8 1883.2 2739.2]\n",
      " [1393.6 1076.8  908.8  216.     0.   486.4  966.4 1076.8 1667.2 2523.2]\n",
      " [1880.  1563.2 1395.2  702.4  486.4    0.   480.   590.4 1180.8 2036.8]\n",
      " [2360.  2043.2 1875.2 1182.4  966.4  480.     0.   110.4  700.8 1556.8]\n",
      " [2470.4 2153.6 1985.6 1292.8 1076.8  590.4  110.4    0.   590.4 1446.4]\n",
      " [3060.8 2744.  2576.  1883.2 1667.2 1180.8  700.8  590.4    0.   856. ]\n",
      " [3916.8 3600.  3432.  2739.2 2523.2 2036.8 1556.8 1446.4  856.     0. ]]\n"
     ]
    }
   ],
   "source": [
    "cities = np.array([0,198,303,736,871,1175,1475,1544,1913,2448])\n",
    "mat_cities = np.tile(cities, (10,1)).T\n",
    "grid_distances = abs(mat_cities-cities)\n",
    "print(\"cities position: \\n\\n\",mat_cities)\n",
    "print(\"\")\n",
    "print(\"cities' distance from each other: \\n\\n\",grid_distances)\n",
    "a = 1.6\n",
    "converted_km = a*grid_distances\n",
    "print(\"\")\n",
    "print(\"cities' distance from each other in km: \\n\\n\",converted_km)"
   ]
  },
  {
   "cell_type": "markdown",
   "metadata": {},
   "source": [
    "7\\. **Prime numbers sieve**\n",
    "\n",
    "Compute the prime numbers in the 0-N (start with N=99) range with a sieve (mask).\n",
    "\n",
    "  * Constract a shape (N,) boolean array, which is the mask\n",
    "  * Identify the multiples of each number starting from 2 and set accordingly the corresponding mask element\n",
    "  * Apply the mask to obtain an array of ordered prime numbers\n",
    "  * Check the performances (with `timeit`); how does it scale with N?\n",
    "  * Implement the optimization suggested in the [sieve of Eratosthenes](https://en.wikipedia.org/wiki/Sieve_of_Eratosthenes)"
   ]
  },
  {
   "cell_type": "code",
   "execution_count": 7,
   "metadata": {},
   "outputs": [
    {
     "name": "stdout",
     "output_type": "stream",
     "text": [
      "prime numbers sieve from 0 to 99:\n",
      "\n",
      " [ 2  3  5  7 11 13 17 19 23 29 31 37 41 43 47 53 59 61 67 71 73 79 83 89\n",
      " 97]\n",
      "\n",
      "time:  0.002747442000099909\n",
      "\n",
      "prime numbers sieve (sieve of Eratosthenes) from 0 to 99:\n",
      "\n",
      " [ 2  3  5  7 11 13 17 19 23 29 31 37 41 43 47 53 59 61 67 71 73 79 83 89\n",
      " 97]\n"
     ]
    }
   ],
   "source": [
    "import timeit\n",
    "import math\n",
    "\n",
    "N = 99\n",
    "\n",
    "beginTime = timeit.default_timer()\n",
    "\n",
    "ar = np.arange(N)\n",
    "\n",
    "mask = ['False','False','True']\n",
    "\n",
    "for i in range(N):\n",
    "    k = 2\n",
    "    while k < ar[i]: \n",
    "        if ar[i] % k == 0:\n",
    "            mask.append('False')\n",
    "            k = ar[i]+1\n",
    "        if k == ar[i]-1:\n",
    "            mask.append('True')\n",
    "        k = k+1    \n",
    "\n",
    "mask = np.array(mask)\n",
    "\n",
    "new_ar = []\n",
    "\n",
    "for i in range(N):\n",
    "    if mask[i] == 'True':\n",
    "        new_ar.append(ar[i])\n",
    "\n",
    "new_ar = np.array(new_ar)\n",
    "\n",
    "endTime = timeit.default_timer()\n",
    "\n",
    "print(\"prime numbers sieve from 0 to 99:\\n\\n\",new_ar)\n",
    "\n",
    "time = endTime - beginTime\n",
    "print(\"\")\n",
    "print(\"time: \",time)\n",
    "\n",
    "#sieve of Eratosthenes\n",
    "\n",
    "prime_list = []\n",
    "potential_prime = []\n",
    "for i in range(2, N):\n",
    "    if i not in potential_prime:\n",
    "        prime_list.append(i)\n",
    "        for j in range(i*i, N, i):\n",
    "            potential_prime.append(j)\n",
    "\n",
    "print(\"\")            \n",
    "print(\"prime numbers sieve (sieve of Eratosthenes) from 0 to 99:\\n\\n\",np.array(prime_list))            "
   ]
  },
  {
   "cell_type": "markdown",
   "metadata": {},
   "source": [
    "8\\. **Diffusion using random walk**\n",
    "\n",
    "Consider a simple random walk process: at each step in time, a walker jumps right or left (+1 or -1) with equal probability. The goal is to find the typical distance from the origin of many random walkers after a given amount of time.\n",
    "\n",
    "*Hint*: create a 2D array where each row represents a walker, and each column represents a time step.\n",
    "\n",
    "  * Take 1000 walkers and let them walk for 200 steps\n",
    "  * Use `randint` to create a 2D array of size $walkers \\times steps$ with values -1 or 1\n",
    "  * Calculate the walking distances for each walker (e.g. by summing the elements in each row)\n",
    "  * Take the square of the previously-obtained array (element-wise)\n",
    "  * Compute the mean of the squared distances at each step (i.e. the mean along the columns)\n",
    "  * **Optional**: plot the average distances ($\\sqrt(distance^2)$) as a function of time (step)"
   ]
  },
  {
   "cell_type": "code",
   "execution_count": 36,
   "metadata": {},
   "outputs": [
    {
     "data": {
      "image/png": "[encoded data removed]",
      "text/plain": [
       "<Figure size 640x480 with 1 Axes>"
      ]
     },
     "metadata": {},
     "output_type": "display_data"
    }
   ],
   "source": [
    "import random\n",
    "\n",
    "walkers = 1000\n",
    "steps = 200\n",
    "\n",
    "arr = np.empty([walkers*steps])\n",
    "\n",
    "for k in range(walkers*steps):\n",
    "    arr[k] = random.randint(0,1)\n",
    "    if arr[k] == 0:\n",
    "        arr[k] = -1\n",
    "    \n",
    "arr = arr.reshape(walkers,steps)\n",
    "arr_1 = []\n",
    "\n",
    "for i in range(walkers):\n",
    "    new_value = 0\n",
    "    for j in range(steps):\n",
    "        new_value = new_value+arr[i,j]\n",
    "        arr_1.append(new_value)\n",
    "\n",
    "arr_1 = np.array(arr_1)        \n",
    "arr_1 = arr_1.reshape(walkers,steps)\n",
    "\n",
    "arr_2 = np.square(arr_1)\n",
    "arr_3 = []\n",
    "\n",
    "for j in range(steps):\n",
    "    mean = 0\n",
    "    for i in range(walkers):\n",
    "        mean = mean + arr_2[i,j]\n",
    "    mean = mean/walkers\n",
    "    arr_3.append(mean)\n",
    "    \n",
    "arr_3 = np.array(arr_3)\n",
    "arr_3 = np.sqrt(arr_3)\n",
    "\n",
    "import matplotlib.pyplot as plt\n",
    "\n",
    "plt.plot(np.arange(0,steps),arr_3)\n",
    "plt.xlabel('time') \n",
    "plt.ylabel('sqr(distanceˆ2)')\n",
    "plt.title('plot average distances')\n",
    "plt.show() \n"
   ]
  }
 ],
 "metadata": {
  "kernelspec": {
   "display_name": "Python 3 (ipykernel)",
   "language": "python",
   "name": "python3"
  },
  "language_info": {
   "codemirror_mode": {
    "name": "ipython",
    "version": 3
   },
   "file_extension": ".py",
   "mimetype": "text/x-python",
   "name": "python",
   "nbconvert_exporter": "python",
   "pygments_lexer": "ipython3",
   "version": "3.10.8"
  }
 },
 "nbformat": 4,
 "nbformat_minor": 2
}
