{
 "cells": [
  {
   "cell_type": "markdown",
   "metadata": {},
   "source": [
    "1\\. **Reductions**\n",
    "\n",
    "Find the total mean, and the mean for each row and column of the following matrix:\n",
    "\n",
    "```python\n",
    "m = np.arange(12).reshape((3,4))\n",
    "```"
   ]
  },
  {
   "cell_type": "code",

   "source": [
    "#1-Reductions\n",
    "\n",
    "import numpy as np\n",
    "\n",
    "m = np.arange(12).reshape((3,4))\n",
    "print(\"The mean of the matrix:\", m.mean())\n",
    "print(\"mean along the columns:\", m.mean(axis=0))\n",
    "print(\"mean along the rows:\", m.mean(axis=1))"
   ]

  },
  {
   "cell_type": "markdown",
   "metadata": {},
   "source": [
    "2\\. **Outer product**\n",
    "\n",
    "Find the outer product of the following vectors:\n",
    "\n",
    "```python\n",
    "u = np.array([1, 3, 5, 7])\n",
    "v = np.array([2, 4, 6, 8])\n",
    "```\n",
    "\n",
    "Use different methods to do this:\n",
    "\n",
    "   1. Using the function `outer` in numpy\n",
    "   2. Using a nested `for` loop or a list comprehension\n",
    "   3. Using numpy broadcasting operations"
   ]
  },
  {
   "cell_type": "code",

   "source": [
    "#2-Outer product\n",
    "\n",
    "u = np.array([1, 3, 5, 7])\n",
    "v = np.array([2, 4, 6, 8])\n",
    "#function outer in numpy\n",
    "\n",
    "print(\"Using outer:\", np.outer(u, v, out=None))\n",
    "#list comprehension\n",
    "\n",
    "m = [i * j for i in u for j in v]\n",
    "print(\"Using list comprehension:\", m)\n",
    "#numpy broadcasting operations\n",
    "\n",
    "print(\"Using broadcasting operations: \", u * v)"
   ]

  },
  {
   "cell_type": "markdown",
   "metadata": {},
   "source": [
    "3\\. **Matrix masking**\n",
    "\n",
    "Create a 10 by 6 matrix of float random numbers, distributed between 0 and 3 according to a flat distribution.\n",
    "\n",
    "After creating the matrix, set all entries $< 0.3$ to zero using a mask."
   ]
  },
  {
   "cell_type": "code",

   "source": [
    "#3-Matrix masking\n",
    "import numpy as np\n",
    "import numpy.ma as ma\n",
    "\n",
    "# Create a 10 by 6 matrix of float random numbers, distributed\n",
    "# between 0 and 3 according to a flat distribution.\n",
    "# After creating the matrix, set all entries  <0.3  to zero using a mask.\n",
    "\n",
    "a = np.round(np.random.rand(10, 6),3)\n",
    "print(\"The first matrix: \\n\", a)\n",
    "a = np.where(a < 0.3, 0, a)\n",
    "print(\"The second matrix: \\n\", a)"
   ]

  },
  {
   "cell_type": "markdown",
   "metadata": {},
   "source": [
    "4\\. **Trigonometric functions**\n",
    "\n",
    "Use `np.linspace` to create an array of 100 numbers between $0$ and $2\\pi$ (inclusive).\n",
    "\n",
    "  * Extract every 10th element using the slice notation\n",
    "  * Reverse the array using the slice notation\n",
    "  * Extract elements where the absolute difference between the `sin` and `cos` functions evaluated for that element is $< 0.1$\n",
    "  * **Optional**: make a plot showing the sin and cos functions and indicate where they are close"
   ]
  },
  {
   "cell_type": "code",

   "source": [
    "#4-Trigonometric functions\n",
    "import numpy as np\n",
    "from numpy import linspace, pi\n",
    "import matplotlib.pyplot as plt\n",
    "import pylab\n",
    "\n",
    "a = np.linspace(0, 2*pi)\n",
    "print(\"Original array: \\n\", a)\n",
    "\n",
    "#Getting every 10th element using the slice notation\n",
    "\n",
    "print(\"\\nEvery 10th element in the array: \")\n",
    "b = a[0::10]\n",
    "print(b)\n",
    "\n",
    "print(\"Reverse the array with the slice notation: \")\n",
    "c = b[::-1]\n",
    "print(c)\n",
    "\n",
    "#Extract elements where the absolute difference between \n",
    "#the sin and cos functions evaluated for that element is  <0.1\n",
    "\n",
    "print(\"sin: \\n\", np.sin(a))\n",
    "print(\"cos \\n\", np.cos(a))\n",
    "print(\"\\n The values for which : | np.sin(a) - np.cos(a) < 0.1 | \\n\")\n",
    "c = a[abs((np.sin(a) - np.cos(a)) < 0.1)]\n",
    "print(c)\n",
    "\n",
    "#Make a plot showing the sin and cos functions and indicate where they are close\n",
    "pylab.title(\"Plot showing the sin and cos functions and indicate where they are close\")\n",
    "pylab.plot(a, np.sin(a), a, np.cos(a))\n",
    "pylab.show()"
   ]

  },
  {
   "cell_type": "markdown",
   "metadata": {},
   "source": [
    "5\\. **Matrices**\n",
    "\n",
    "Create a matrix that shows the 10 by 10 multiplication table.\n",
    "\n",
    " * Find the trace of the matrix\n",
    " * Extract the anti-diagonal matrix (this should be ```array([10, 18, 24, 28, 30, 30, 28, 24, 18, 10])```)\n",
    " * Extract the diagonal offset by 1 upwards (this should be ```array([ 2,  6, 12, 20, 30, 42, 56, 72, 90])```)"
   ]
  },
  {

   "source": [
    "#5-Matrices\n",
    "\n",
    "import numpy as np\n",
    "\n",
    "def mult_table(n):\n",
    "    m = np.arange(1, n+1)\n",
    "    return m * m[:, None]\n",
    "\n",
    "print(mult_table(10))\n",
    "\n",
    "#find the trace of the matrix\n",
    "\n",
    "print(\"The trace of the matrix:\")\n",
    "a = np.trace(mult_table(10))\n",
    "print(a)\n",
    "\n",
    "#extract the anti-diagonal matrix\n",
    "\n",
    "print(\"Anti-diagonal of the matrix:\\n\")\n",
    "a = np.flipud(mult_table(10)).diagonal()\n",
    "print(a)\n",
    "\n",
    "#Extract the diagonal offset by 1 upwards\n",
    "\n",
    "print(\"Diagonal offset of the matrix:\")\n",
    "np.diagonal(mult_table(10), offset = 1)"
   ]

 
   "source": [
    "6\\. **Broadcasting**\n",
    "\n",
    "Use broadcasting to create a grid of distances.\n",
    "\n",
    "Route 66 crosses the following cities in the US: Chicago, Springfield, Saint-Louis, Tulsa, Oklahoma City, Amarillo, Santa Fe, Albuquerque, Flagstaff, Los Angeles.\n",
    "\n",
    "The corresponding positions in miles are: 0, 198, 303, 736, 871, 1175, 1475, 1544, 1913, 2448\n",
    "\n",
    "  * Build a 2D grid of distances among each city along Route 66\n",
    "  * Convert the distances in km"
   ]
  },
  {
   "cell_type": "code",

   "source": [
    "#6-Broadcasting\n",
    "import numpy as np\n",
    "import matplotlib.pyplot as plt\n",
    "\n",
    "positions = np.array([0, 198, 303, 736, 871, 1175, 1475, 1544, 1913, 2448])\n",
    "dist_cities = np.abs(positions - positions[:, np.newaxis])\n",
    "print(\"Distances among the cities are:\\n\", dist_cities)\n",
    "plt.pcolor(dist_cities)\n",
    "plt.colorbar()\n",
    "print(\"The conversion from miles in km: \\n\", dist_cities/0.62137119)"
   ]


   "source": [
    "7\\. **Prime numbers sieve**\n",
    "\n",
    "Compute the prime numbers in the 0-N (start with N=99) range with a sieve (mask).\n",
    "\n",
    "  * Constract a shape (N,) boolean array, which is the mask\n",
    "  * Identify the multiples of each number starting from 2 and set accordingly the corresponding mask element\n",
    "  * Apply the mask to obtain an array of ordered prime numbers\n",
    "  * Check the performances (with `timeit`); how does it scale with N?\n",
    "  * Implement the optimization suggested in the [sieve of Eratosthenes](https://en.wikipedia.org/wiki/Sieve_of_Eratosthenes)"
   ]
  },
  {
   "cell_type": "code",

   "source": [
    "#7-Prime numbers sieve\n",
    "\n",
    "import math\n",
    "from math import pow, ceil\n",
    "import timeit\n",
    "\n",
    "def nr_sieve(nr):                   \n",
    "    N = [True for i in range(nr+1)]\n",
    "    N[1] = False\n",
    "    primes = []\n",
    "    for i in range(2, ceil(pow(nr, 0.5))+1):\n",
    "        if N[i]:\n",
    "            for j in range(i*i, nr+1, i):\n",
    "                N[j] = False\n",
    "    for i in range(2, nr+1):\n",
    "        if N[i]:\n",
    "           primes.append(i)\n",
    "    return primes\n",
    "\n",
    "nr = int(input(\"Please enter a number: \\n\"))\n",
    "print(nr_sieve(nr))\n",
    "print(timeit.timeit('nr_sieve(nr)', globals=globals(), number=99))\n",
    "#As it is seen, time increases, as we increase N."
   ]

  },
  {
   "cell_type": "markdown",
   "metadata": {},
   "source": [
    "8\\. **Diffusion using random walk**\n",
    "\n",
    "Consider a simple random walk process: at each step in time, a walker jumps right or left (+1 or -1) with equal probability. The goal is to find the typical distance from the origin of many random walkers after a given amount of time.\n",
    "\n",
    "*Hint*: create a 2D array where each row represents a walker, and each column represents a time step.\n",
    "\n",
    "  * Take 1000 walkers and let them walk for 200 steps\n",
    "  * Use `randint` to create a 2D array of size $walkers \\times steps$ with values -1 or 1\n",
    "  * Calculate the walking distances for each walker (e.g. by summing the elements in each row)\n",
    "  * Take the square of the previously-obtained array (element-wise)\n",
    "  * Compute the mean of the squared distances at each step (i.e. the mean along the columns)\n",
    "  * **Optional**: plot the average distances ($\\sqrt(distance^2)$) as a function of time (step)"
   ]
  },
  {
   "cell_type": "code",

   "source": [
    "#8-Diffusion using random walk\n",
    "\n",
    "from pylab import *\n",
    "\n",
    "a = 2 * randint(0, 2, size=(1000, 200))-1\n",
    "print(a)\n",
    "walking_dist = a.sum(1)\n",
    "print(\"The walking distance for each walker: \\n\", a.sum(1))\n",
    "walking_dist_sqr = np.square(walking_dist)\n",
    "print(\"The sqaure of the walking distance array: \\n\", walking_dist_sqr)\n",
    "mean_dist_sqr = []\n",
    "mean = 0\n",
    "for i in walking_dist_sqr:\n",
    "    mean += i\n",
    "    mean_dist_sqr.append(np.mean(mean))\n",
    "print(mean_dist_sqr)\n",
    "distances = np.sqrt(walking_dist_sqr)\n",
    "m = np.arange(0, len(distances))\n",
    "plt.plot(m, distances)\n",
    "plt.show()\n"
   ]
  },
  {
   "cell_type": "code",

 "metadata": {
  "kernelspec": {

  }
 },
 "nbformat": 4,
 "nbformat_minor": 2
}
