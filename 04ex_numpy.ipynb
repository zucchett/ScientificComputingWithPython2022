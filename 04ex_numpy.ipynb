{
  "nbformat": 4,
  "nbformat_minor": 0,
  "metadata": {
    "colab": {
      "provenance": []
    },
    "kernelspec": {
      "name": "python3",
      "display_name": "Python 3"
    },
    "language_info": {
      "name": "python"
    }
  },
  "cells": [
    {
      "cell_type": "code",
      "source": [
        "# import naming convention\n",
        "\n",
        "import numpy as np\n",
        "from numpy import newaxis\n",
        "import pylab\n",
        "from pylab import *\n",
        "import timeit\n",
        "import numpy.random as npr\n",
        "import matplotlib.pyplot as plt\n",
        "import math\n",
        "from math import pow, ceil\n"
      ],
      "metadata": {
        "id": "Cb9J65Lcj7Kp"
      },
      "execution_count": null,
      "outputs": []
    },
    {
      "cell_type": "code",
      "source": [
        "#NUMBER 1: REDUCTION EXERCISE\n",
        "\n",
        "m = np.arange(12).reshape((3, 4))\n",
        "print(\"Overall:\", m.mean())\n",
        "print(\"Row: \", m.mean(0))\n",
        "print(\"Column: \", m.mean(1))\n"
      ],
      "metadata": {
        "colab": {
          "base_uri": "https://localhost:8080/"
        },
        "id": "NyjGp3PkkHQ3",
        "outputId": "91c12728-a1ee-411f-9f00-3634d5f77574"
      },
      "execution_count": null,
      "outputs": [
        {
          "output_type": "stream",
          "name": "stdout",
          "text": [
            "Overall: 5.5\n",
            "Row:  [4. 5. 6. 7.]\n",
            "Column:  [1.5 5.5 9.5]\n"
          ]
        }
      ]
    },
    {
      "cell_type": "code",
      "source": [
        "#NUMBER 2: OUTER PRODUCT EXERCISE\n",
        "\n",
        "\n",
        "u = np.array([1, 3, 5, 7])\n",
        "v = np.array([2, 4, 6, 8])\n",
        "print(u)\n",
        "print(v)\n",
        "print(\"Using the function outer in numpy:\")\n",
        "print(np.outer(u, v))\n",
        "print(\"Using list or loop comprehension:\")\n",
        "print([m * n for m in u for n in v])\n",
        "print(\"Using numpy broadcasting operations:\")\n",
        "print(u[:, newaxis] * v)\n"
      ],
      "metadata": {
        "colab": {
          "base_uri": "https://localhost:8080/"
        },
        "id": "vobvLCTZikA2",
        "outputId": "9a3a1e79-7c76-4434-a734-3441324279dd"
      },
      "execution_count": null,
      "outputs": [
        {
          "output_type": "stream",
          "name": "stdout",
          "text": [
            "[1 3 5 7]\n",
            "[2 4 6 8]\n",
            "Using the function outer in numpy:\n",
            "[[ 2  4  6  8]\n",
            " [ 6 12 18 24]\n",
            " [10 20 30 40]\n",
            " [14 28 42 56]]\n",
            "Using list or loop comprehension:\n",
            "[2, 4, 6, 8, 6, 12, 18, 24, 10, 20, 30, 40, 14, 28, 42, 56]\n",
            "Using numpy broadcasting operations:\n",
            "[[ 2  4  6  8]\n",
            " [ 6 12 18 24]\n",
            " [10 20 30 40]\n",
            " [14 28 42 56]]\n"
          ]
        }
      ]
    },
    {
      "cell_type": "code",
      "source": [
        "#NUMBER 3: MATRIX MASKING EXERCISE\n",
        "\n",
        "\n",
        "matrix = 3 * npr.random_sample((10, 6)) - 0\n",
        "print(\"10 * 6 Matrix of float random numbers, distributed between 0 and 3: \")\n",
        "print(matrix)\n",
        "arr = np.array(matrix)\n",
        "mask = (matrix < 0.3)\n",
        "print(\"Mask: \\n\", mask)\n",
        "matrix[matrix < 0.3] = 0\n",
        "print(\"\\n All entries smaller than 3 set to zero using a mask: \")\n",
        "print(matrix)\n"
      ],
      "metadata": {
        "colab": {
          "base_uri": "https://localhost:8080/"
        },
        "id": "vsamsITmiynz",
        "outputId": "717e9732-02b8-4215-e237-88ac18298755"
      },
      "execution_count": null,
      "outputs": [
        {
          "output_type": "stream",
          "name": "stdout",
          "text": [
            "10 * 6 Matrix of float random numbers, distributed between 0 and 3: \n",
            "[[2.28409945 2.23378606 1.46360799 2.6982867  2.4445607  0.30999339]\n",
            " [1.58316246 0.1532732  0.4556529  1.88391885 1.78978793 0.67566189]\n",
            " [0.91553378 1.75573747 0.57074762 0.86614804 2.11531248 2.55459348]\n",
            " [0.4404014  0.39469702 2.94260512 0.4323417  2.57507488 2.30982589]\n",
            " [2.07802873 0.30716372 0.50472092 1.58471899 0.89239895 1.99692047]\n",
            " [2.58528142 0.30430012 2.65973169 1.83025092 0.75761791 0.86921965]\n",
            " [0.07583117 1.46696999 2.47087276 1.62710489 2.74389609 2.3503492 ]\n",
            " [2.17555371 0.71228478 0.56872481 0.02827533 1.16113466 1.88434497]\n",
            " [1.65789045 0.11032821 1.22617224 1.92458448 0.80077849 1.29107886]\n",
            " [1.09772518 0.57059986 2.7065895  1.7800947  1.75277651 2.85491782]]\n",
            "Mask: \n",
            " [[False False False False False False]\n",
            " [False  True False False False False]\n",
            " [False False False False False False]\n",
            " [False False False False False False]\n",
            " [False False False False False False]\n",
            " [False False False False False False]\n",
            " [ True False False False False False]\n",
            " [False False False  True False False]\n",
            " [False  True False False False False]\n",
            " [False False False False False False]]\n",
            "\n",
            " All entries smaller than 3 set to zero using a mask: \n",
            "[[2.28409945 2.23378606 1.46360799 2.6982867  2.4445607  0.30999339]\n",
            " [1.58316246 0.         0.4556529  1.88391885 1.78978793 0.67566189]\n",
            " [0.91553378 1.75573747 0.57074762 0.86614804 2.11531248 2.55459348]\n",
            " [0.4404014  0.39469702 2.94260512 0.4323417  2.57507488 2.30982589]\n",
            " [2.07802873 0.30716372 0.50472092 1.58471899 0.89239895 1.99692047]\n",
            " [2.58528142 0.30430012 2.65973169 1.83025092 0.75761791 0.86921965]\n",
            " [0.         1.46696999 2.47087276 1.62710489 2.74389609 2.3503492 ]\n",
            " [2.17555371 0.71228478 0.56872481 0.         1.16113466 1.88434497]\n",
            " [1.65789045 0.         1.22617224 1.92458448 0.80077849 1.29107886]\n",
            " [1.09772518 0.57059986 2.7065895  1.7800947  1.75277651 2.85491782]]\n"
          ]
        }
      ]
    },
    {
      "cell_type": "code",
      "source": [
        "#NUMBER 4: TRIGONOMETRIC FUNCTIONS EXERCISE\n",
        "\n",
        "array = np.linspace(0, 2*math.pi, num=100)\n",
        "print(\"A linear space containing 100 values between 0 and 2*pi (inclusive):\\n\", array)\n",
        "print(\"\\n Each 10th element was extracted using slice notation:\\n\", array[::10])\n",
        "print(\"\\n Slice notation was used to reverse the array:\\n\", array[::-1])\n",
        "elements = np.abs(np.sin(array)-np.cos(array)) < 0.1\n",
        "print(\"\\n Elements where the absolute difference between \"\n",
        "      \"the sin and cos functions is smaller than 0.1:\\n\", array[elements])\n",
        "pylab.title(\"Graph showing where sin and cos are close together.\")\n",
        "pylab.plot(array, np.sin(array), array, np.cos(array))\n",
        "pylab.show()\n"
      ],
      "metadata": {
        "colab": {
          "base_uri": "https://localhost:8080/",
          "height": 1000
        },
        "id": "HyMGto5-kpGf",
        "outputId": "64b21792-75be-4fe5-aab0-ed8f42c3ab79"
      },
      "execution_count": null,
      "outputs": [
        {
          "output_type": "stream",
          "name": "stdout",
          "text": [
            "A linear space containing 100 values between 0 and 2*pi (inclusive):\n",
            " [0.         0.06346652 0.12693304 0.19039955 0.25386607 0.31733259\n",
            " 0.38079911 0.44426563 0.50773215 0.57119866 0.63466518 0.6981317\n",
            " 0.76159822 0.82506474 0.88853126 0.95199777 1.01546429 1.07893081\n",
            " 1.14239733 1.20586385 1.26933037 1.33279688 1.3962634  1.45972992\n",
            " 1.52319644 1.58666296 1.65012947 1.71359599 1.77706251 1.84052903\n",
            " 1.90399555 1.96746207 2.03092858 2.0943951  2.15786162 2.22132814\n",
            " 2.28479466 2.34826118 2.41172769 2.47519421 2.53866073 2.60212725\n",
            " 2.66559377 2.72906028 2.7925268  2.85599332 2.91945984 2.98292636\n",
            " 3.04639288 3.10985939 3.17332591 3.23679243 3.30025895 3.36372547\n",
            " 3.42719199 3.4906585  3.55412502 3.61759154 3.68105806 3.74452458\n",
            " 3.8079911  3.87145761 3.93492413 3.99839065 4.06185717 4.12532369\n",
            " 4.1887902  4.25225672 4.31572324 4.37918976 4.44265628 4.5061228\n",
            " 4.56958931 4.63305583 4.69652235 4.75998887 4.82345539 4.88692191\n",
            " 4.95038842 5.01385494 5.07732146 5.14078798 5.2042545  5.26772102\n",
            " 5.33118753 5.39465405 5.45812057 5.52158709 5.58505361 5.64852012\n",
            " 5.71198664 5.77545316 5.83891968 5.9023862  5.96585272 6.02931923\n",
            " 6.09278575 6.15625227 6.21971879 6.28318531]\n",
            "\n",
            " Each 10th element was extracted using slice notation:\n",
            " [0.         0.63466518 1.26933037 1.90399555 2.53866073 3.17332591\n",
            " 3.8079911  4.44265628 5.07732146 5.71198664]\n",
            "\n",
            " Slice notation was used to reverse the array:\n",
            " [6.28318531 6.21971879 6.15625227 6.09278575 6.02931923 5.96585272\n",
            " 5.9023862  5.83891968 5.77545316 5.71198664 5.64852012 5.58505361\n",
            " 5.52158709 5.45812057 5.39465405 5.33118753 5.26772102 5.2042545\n",
            " 5.14078798 5.07732146 5.01385494 4.95038842 4.88692191 4.82345539\n",
            " 4.75998887 4.69652235 4.63305583 4.56958931 4.5061228  4.44265628\n",
            " 4.37918976 4.31572324 4.25225672 4.1887902  4.12532369 4.06185717\n",
            " 3.99839065 3.93492413 3.87145761 3.8079911  3.74452458 3.68105806\n",
            " 3.61759154 3.55412502 3.4906585  3.42719199 3.36372547 3.30025895\n",
            " 3.23679243 3.17332591 3.10985939 3.04639288 2.98292636 2.91945984\n",
            " 2.85599332 2.7925268  2.72906028 2.66559377 2.60212725 2.53866073\n",
            " 2.47519421 2.41172769 2.34826118 2.28479466 2.22132814 2.15786162\n",
            " 2.0943951  2.03092858 1.96746207 1.90399555 1.84052903 1.77706251\n",
            " 1.71359599 1.65012947 1.58666296 1.52319644 1.45972992 1.3962634\n",
            " 1.33279688 1.26933037 1.20586385 1.14239733 1.07893081 1.01546429\n",
            " 0.95199777 0.88853126 0.82506474 0.76159822 0.6981317  0.63466518\n",
            " 0.57119866 0.50773215 0.44426563 0.38079911 0.31733259 0.25386607\n",
            " 0.19039955 0.12693304 0.06346652 0.        ]\n",
            "\n",
            " Elements where the absolute difference between the sin and cos functions is smaller than 0.1:\n",
            " [0.76159822 0.82506474 3.87145761 3.93492413]\n"
          ]
        },
        {
          "output_type": "display_data",
          "data": {
            "text/plain": [
              "<Figure size 432x288 with 1 Axes>"
            ],
            "image/png": "[encoded data removed]"
          },
          "metadata": {
            "needs_background": "light"
          }
        }
      ]
    },
    {
      "cell_type": "code",
      "source": [
        "#NUMBER 5: MATRICES EXERCISE\n",
        "\n",
        "print(\"10 * 10 matrix multiplication table:\")\n",
        "mt = np.arange(1, 11)\n",
        "m = mt[:, None] * mt[None, :]\n",
        "print(m)\n",
        "print(\"\\n The trace of the matrix: \", m.trace())\n",
        "print(\"\\n The anti-diagonal matrix: \", np.flipud(m).diagonal())\n",
        "print(\"\\n The diagonal offset by 1 upwards: \", m.diagonal(offset=1))\n"
      ],
      "metadata": {
        "colab": {
          "base_uri": "https://localhost:8080/"
        },
        "id": "_9fLtGjjlFHl",
        "outputId": "0d907129-5563-4fce-a549-5a1b87da39ca"
      },
      "execution_count": null,
      "outputs": [
        {
          "output_type": "stream",
          "name": "stdout",
          "text": [
            "10 * 10 matrix multiplication table:\n",
            "[[  1   2   3   4   5   6   7   8   9  10]\n",
            " [  2   4   6   8  10  12  14  16  18  20]\n",
            " [  3   6   9  12  15  18  21  24  27  30]\n",
            " [  4   8  12  16  20  24  28  32  36  40]\n",
            " [  5  10  15  20  25  30  35  40  45  50]\n",
            " [  6  12  18  24  30  36  42  48  54  60]\n",
            " [  7  14  21  28  35  42  49  56  63  70]\n",
            " [  8  16  24  32  40  48  56  64  72  80]\n",
            " [  9  18  27  36  45  54  63  72  81  90]\n",
            " [ 10  20  30  40  50  60  70  80  90 100]]\n",
            "\n",
            " The trace of the matrix:  385\n",
            "\n",
            " The anti-diagonal matrix:  [10 18 24 28 30 30 28 24 18 10]\n",
            "\n",
            " The diagonal offset by 1 upwards:  [ 2  6 12 20 30 42 56 72 90]\n"
          ]
        }
      ]
    },
    {
      "cell_type": "code",
      "source": [
        "#NUMBER 6: BROADCASTING EXERCISE\n",
        "\n",
        "positions = np.array([0, 198, 303, 736, 871, 1175, 1475, 1544, 1913, 2448])\n",
        "distance = np.abs(positions - positions[:, np.newaxis])\n",
        "print(\"\\n Distances between each city:\\n\", distance)\n",
        "plt.pcolor(distance)\n",
        "plt.colorbar()\n",
        "print(\"\\n This is converted from miles in: \\n\", distance/0.62137119)\n"
      ],
      "metadata": {
        "colab": {
          "base_uri": "https://localhost:8080/",
          "height": 859
        },
        "id": "DoylW4P8lQ2Q",
        "outputId": "8f2ee203-3259-4f62-daa3-72c2343a1eb6"
      },
      "execution_count": null,
      "outputs": [
        {
          "output_type": "stream",
          "name": "stdout",
          "text": [
            "\n",
            " Distances between each city:\n",
            " [[   0  198  303  736  871 1175 1475 1544 1913 2448]\n",
            " [ 198    0  105  538  673  977 1277 1346 1715 2250]\n",
            " [ 303  105    0  433  568  872 1172 1241 1610 2145]\n",
            " [ 736  538  433    0  135  439  739  808 1177 1712]\n",
            " [ 871  673  568  135    0  304  604  673 1042 1577]\n",
            " [1175  977  872  439  304    0  300  369  738 1273]\n",
            " [1475 1277 1172  739  604  300    0   69  438  973]\n",
            " [1544 1346 1241  808  673  369   69    0  369  904]\n",
            " [1913 1715 1610 1177 1042  738  438  369    0  535]\n",
            " [2448 2250 2145 1712 1577 1273  973  904  535    0]]\n",
            "\n",
            " This is converted from miles in: \n",
            " [[   0.          318.65011315  487.63123376 1184.47718826 1401.73862905\n",
            "  1890.97920681 2373.78240855 2484.82714495 3078.67508309 3939.67412619]\n",
            " [ 318.65011315    0.          168.98112061  865.82707512 1083.0885159\n",
            "  1572.32909366 2055.1322954  2166.1770318  2760.02496994 3621.02401304]\n",
            " [ 487.63123376  168.98112061    0.          696.84595451  914.10739529\n",
            "  1403.34797305 1886.15117479 1997.19591119 2591.04384933 3452.04289243]\n",
            " [1184.47718826  865.82707512  696.84595451    0.          217.26144078\n",
            "   706.50201854 1189.30522028 1300.34995668 1894.19789482 2755.19693792]\n",
            " [1401.73862905 1083.0885159   914.10739529  217.26144078    0.\n",
            "   489.24057776  972.0437795  1083.0885159  1676.93645404 2537.93549714]\n",
            " [1890.97920681 1572.32909366 1403.34797305  706.50201854  489.24057776\n",
            "     0.          482.80320174  593.84793814 1187.69587628 2048.69491938]\n",
            " [2373.78240855 2055.1322954  1886.15117479 1189.30522028  972.0437795\n",
            "   482.80320174    0.          111.0447364   704.89267454 1565.89171764]\n",
            " [2484.82714495 2166.1770318  1997.19591119 1300.34995668 1083.0885159\n",
            "   593.84793814  111.0447364     0.          593.84793814 1454.84698124]\n",
            " [3078.67508309 2760.02496994 2591.04384933 1894.19789482 1676.93645404\n",
            "  1187.69587628  704.89267454  593.84793814    0.          860.9990431 ]\n",
            " [3939.67412619 3621.02401304 3452.04289243 2755.19693792 2537.93549714\n",
            "  2048.69491938 1565.89171764 1454.84698124  860.9990431     0.        ]]\n"
          ]
        },
        {
          "output_type": "display_data",
          "data": {
            "text/plain": [
              "<Figure size 432x288 with 2 Axes>"
            ],
            "image/png": "[encoded data removed]"
          },
          "metadata": {
            "needs_background": "light"
          }
        }
      ]
    },
    {
      "cell_type": "code",
      "source": [
        "#NUMBER 7: PRIME NUMBERS SIEVE EXERCISE\n",
        "\n",
        "def sieve(n):\n",
        "    N = [True for i in range(n+1)]\n",
        "    N[1] = False\n",
        "    primes = []\n",
        "    for i in range(2, ceil(pow(n, 0.5))+1):\n",
        "        if N[i]:\n",
        "            for j in range(i*i, n+1, i):\n",
        "                N[j] = False\n",
        "    for i in range(2, n+1):\n",
        "        if N[i]:\n",
        "           primes.append(i)\n",
        "    return primes\n",
        "\n",
        "n = int(input(\"Enter N: \\n\"))\n",
        "print(sieve(n))\n",
        "print(timeit.timeit('sieve(n)', globals=globals(), number=99))\n",
        "\n"
      ],
      "metadata": {
        "colab": {
          "base_uri": "https://localhost:8080/"
        },
        "id": "3VA2fTVAlZjU",
        "outputId": "d559972f-d645-4897-a022-fcb5d1f1e8e1"
      },
      "execution_count": null,
      "outputs": [
        {
          "output_type": "stream",
          "name": "stdout",
          "text": [
            "Enter N: \n",
            "25\n",
            "[2, 3, 5, 7, 11, 13, 17, 19, 23]\n",
            "0.0005849499993928475\n"
          ]
        }
      ]
    },
    {
      "cell_type": "code",
      "source": [
        "#NUMBER 8: DIFFUSION USING RANDOM WALK EXERCISE\n",
        "\n",
        "m = 2 * randint(0, 2, size=(1000, 200))-1\n",
        "print(m)\n",
        "\n",
        "w_d = m.sum(1)\n",
        "print(\"\\n\", m.sum(1))\n",
        "\n",
        "w_d_s = np.square(w_d)\n",
        "print(\"\\n\", w_d_s)\n",
        "\n",
        "m_d_s = []\n",
        "mean = 0\n",
        "for i in w_d_s:\n",
        "    mean += i\n",
        "    m_d_s.append(np.mean(mean))\n",
        "print(m_d_s)\n",
        "\n",
        "distances = np.sqrt(w_d_s)\n",
        "m = np.arange(0, len(distances))\n",
        "plt.plot(m, distances)\n",
        "plt.show()\n"
      ],
      "metadata": {
        "colab": {
          "base_uri": "https://localhost:8080/",
          "height": 1000
        },
        "id": "Szp5H9nDliSQ",
        "outputId": "9120637b-75b2-4c4a-dcfe-4504a6e3bfb5"
      },
      "execution_count": null,
      "outputs": [
        {
          "output_type": "stream",
          "name": "stdout",
          "text": [
            "[[ 1 -1 -1 ...  1  1 -1]\n",
            " [ 1 -1 -1 ...  1  1 -1]\n",
            " [ 1  1  1 ...  1  1  1]\n",
            " ...\n",
            " [-1  1 -1 ... -1 -1 -1]\n",
            " [ 1 -1  1 ... -1  1 -1]\n",
            " [ 1 -1 -1 ...  1 -1  1]]\n",
            "\n",
            " [  4   2  -8 -14  -8  24 -12  28  16   2 -16  -6 -10  24   4   2  14   6\n",
            "  -2  -8  -2   0 -18   4 -16  -8  12 -22   4 -22  18  12 -12 -12 -14   2\n",
            "  10  14  22   0   6  18 -42  -2  -6   2 -10  14  14  -2 -10 -16   0  40\n",
            "   2   0  20   8  -6 -14 -18  -4   2  10   2  -2  -2   6  -4   8  14   0\n",
            "  -4   6  -6   6  20   4 -16  -2  18  18  20  -8   6  -8 -26  20 -16  -6\n",
            " -12  -6   2  -8   0 -18 -28  10  14  20 -12   0  10   2 -20 -18   2  16\n",
            "  -6   6   2   0  -6   4  -2  -2   2  16  -4  10   2 -14   2   2  22 -12\n",
            " -10  12  36 -32  16 -10   8  -2 -24   8 -16  -6 -16 -10   6 -20   4  18\n",
            " -18  12  -6   8   6  20 -20  12  14  18  -8   8   8 -12  20  10  -8   0\n",
            " -18   6 -16 -52  24 -18  26   6   0   4 -12  28  10 -12   2  10   4  14\n",
            "  12 -16   2   2 -32 -20  16   8   2  -8   0  10  14   0  10 -14   2 -28\n",
            " -20 -22   6 -12  10  14   6 -14  -8   2  -8   0   8  28 -10 -10   2  10\n",
            "  16  -4  12   2 -16  16   6  20   0  -4 -10  16  -6 -12 -12  -4   0  -8\n",
            "  -6 -12   4   6   0  -2   0   8   4  -8 -12  10   6   2 -12   6  14 -12\n",
            "  12 -16  -4   2  24   8   4 -18  24  14  12   8 -20  28  18  -8  24  -2\n",
            "  -6  -2 -16  26 -16   4   2  10  -8   0   6 -14  -8   0  -6 -12  -4  20\n",
            " -14   0  -8  -4  -2   6   8  -2  10 -24   6   6   6  10  -2  12 -10 -10\n",
            " -14   4   8  10 -12 -16   6  -8 -14  18 -28   2  -8  16 -22   4   4  -2\n",
            "  -6  12  -4   0  16  10 -12  18  -4  14 -12 -10 -10 -14  10 -12  16  10\n",
            "  -8 -14   6   8  -6  12 -18  12 -30 -10 -14  16  16   2 -12  20  40 -22\n",
            "  -2  -8 -18   8  -6  -8 -14   0  -8  -6  12  14   2   6  -2   4   6 -34\n",
            "  14  -2  14 -18  -8   6 -10 -18   2  14  16  10  16   6  14  -2   4 -14\n",
            "  30 -10  -6 -16  18  18   6  20   2  26 -12 -14   2 -32 -22   8  12  -4\n",
            "  -6   4 -16   4 -10  12 -20  -2 -18 -10  18  -4 -16  20  -6  20  26  -6\n",
            "   4   2  -4  12 -36  26  -8  16  12   4 -12   8   8   0 -20  -2  -8 -12\n",
            "  -6  30 -14 -12  22   8  -6   0 -16  20  14   8  -6   8 -10  10  -4 -28\n",
            "  20   4   8  -6  -6  -2   8   2   2   6  12  28   4  -4 -10 -14   6  -2\n",
            "   0 -30  42  -8 -16   4  -6  -4 -18  -6   2 -14 -24   2 -20 -10 -28  20\n",
            "   4  16  -6   8 -22  -6 -26 -16  16   6  -4 -14 -12   0   2   2  32   0\n",
            " -12  -6 -12 -22  12   8 -12 -12   2 -36  -2  18 -26 -14  -2  -2   2   6\n",
            "  18  -2  -8  -6 -10  -6  16  18  -6 -10   6  10  -2 -28   8  14   0   8\n",
            " -20   6 -16  -6  -4  -2  18 -22   2 -12   2   2  12  28 -16 -12   8 -28\n",
            "  14  -2  30   6  22  16 -12 -18   0   8  -2   0  12   2   2  44 -14  18\n",
            "  -2  16   8  24  20  20  -6 -10 -30 -10  -4  14  12  10   4 -26 -22   0\n",
            "   4 -22 -10  -4  10  -6 -12  18 -18  -2 -18 -14  10 -10  -6  -4  -4 -12\n",
            "  24   2 -14  -8 -12   4   4  16  -2  24 -20 -20   8  -4   0  -2  14  10\n",
            "  -4 -16 -16  -6  -6  38   2  -4   8  16 -12   2  -6 -12 -12  10   2   4\n",
            "   0  -6 -10 -10  -2  -4 -12 -10 -14   8 -20  12   6  -4   0 -26 -14 -12\n",
            "  -6  14  -4 -30 -16 -20   8   4  18   4  -2  10 -16  24 -20 -28 -18  14\n",
            "  14   8  -4  -2  -4 -24  24   8  10   4   8   2  16   2  -2  -2 -28  22\n",
            "   4 -22  12  22   2  10   6  22  -8  14   4 -28 -14 -16 -12 -18  -4 -12\n",
            "  -6   2   2  26  30   4 -34   0   8  -6   2 -30 -14  -4  -6 -12   0   8\n",
            "  -2  14  -2  16 -24   2  16   8 -12 -16 -14   2  22  14   8  40  -8  -6\n",
            "  10   2  14  12 -10   4   0   8  -4   0 -14 -14  -8   8  14  -2   4  -4\n",
            "  18  14  -2  10  -2  -8  16  -6   6   4  -6   4 -32 -10   2 -18  18  20\n",
            " -12  14 -10 -12  10   0   8 -10   0 -10  -4   2 -22   0  14  14  -8  14\n",
            "   6  -4 -10  -8   4  -2  16  16   8  -2   6  24  18   0  20  -4  -8  -4\n",
            "   4   0  -2   8  -4 -32 -14   0  12  18  10  -6   8 -28  14   4   4  28\n",
            "   6  -6  14  -2   6   0  -4  22   6  -6  26 -40  -8  24  -8  -4   4 -20\n",
            " -10  16  14  14  24 -18 -14 -36 -32   4 -20 -20 -12 -18  32   2 -26  -2\n",
            " -12  -2  14  -8  16 -28  -6  12  12 -12 -16  -4   0   0  22 -10   4   6\n",
            " -32   8 -16   6  -4 -26  14 -28  10 -36 -26  12 -10 -10  -4   4  -4 -34\n",
            "   0 -10  -2 -22  10 -14 -22 -10   2   4 -10  12  -2   0   8  -4  14  22\n",
            "  10 -34 -16 -24   0  16 -18  20  -2  -6  -8   0  -6 -10 -10  -4   2  -2\n",
            "  -6 -34  18 -22  12  -8 -12   6 -10   6  -6 -24   0 -12   6   8  16  22\n",
            "  -6 -44  26  12   4   8 -18  -8 -14  -4]\n",
            "\n",
            " [  16    4   64  196   64  576  144  784  256    4  256   36  100  576\n",
            "   16    4  196   36    4   64    4    0  324   16  256   64  144  484\n",
            "   16  484  324  144  144  144  196    4  100  196  484    0   36  324\n",
            " 1764    4   36    4  100  196  196    4  100  256    0 1600    4    0\n",
            "  400   64   36  196  324   16    4  100    4    4    4   36   16   64\n",
            "  196    0   16   36   36   36  400   16  256    4  324  324  400   64\n",
            "   36   64  676  400  256   36  144   36    4   64    0  324  784  100\n",
            "  196  400  144    0  100    4  400  324    4  256   36   36    4    0\n",
            "   36   16    4    4    4  256   16  100    4  196    4    4  484  144\n",
            "  100  144 1296 1024  256  100   64    4  576   64  256   36  256  100\n",
            "   36  400   16  324  324  144   36   64   36  400  400  144  196  324\n",
            "   64   64   64  144  400  100   64    0  324   36  256 2704  576  324\n",
            "  676   36    0   16  144  784  100  144    4  100   16  196  144  256\n",
            "    4    4 1024  400  256   64    4   64    0  100  196    0  100  196\n",
            "    4  784  400  484   36  144  100  196   36  196   64    4   64    0\n",
            "   64  784  100  100    4  100  256   16  144    4  256  256   36  400\n",
            "    0   16  100  256   36  144  144   16    0   64   36  144   16   36\n",
            "    0    4    0   64   16   64  144  100   36    4  144   36  196  144\n",
            "  144  256   16    4  576   64   16  324  576  196  144   64  400  784\n",
            "  324   64  576    4   36    4  256  676  256   16    4  100   64    0\n",
            "   36  196   64    0   36  144   16  400  196    0   64   16    4   36\n",
            "   64    4  100  576   36   36   36  100    4  144  100  100  196   16\n",
            "   64  100  144  256   36   64  196  324  784    4   64  256  484   16\n",
            "   16    4   36  144   16    0  256  100  144  324   16  196  144  100\n",
            "  100  196  100  144  256  100   64  196   36   64   36  144  324  144\n",
            "  900  100  196  256  256    4  144  400 1600  484    4   64  324   64\n",
            "   36   64  196    0   64   36  144  196    4   36    4   16   36 1156\n",
            "  196    4  196  324   64   36  100  324    4  196  256  100  256   36\n",
            "  196    4   16  196  900  100   36  256  324  324   36  400    4  676\n",
            "  144  196    4 1024  484   64  144   16   36   16  256   16  100  144\n",
            "  400    4  324  100  324   16  256  400   36  400  676   36   16    4\n",
            "   16  144 1296  676   64  256  144   16  144   64   64    0  400    4\n",
            "   64  144   36  900  196  144  484   64   36    0  256  400  196   64\n",
            "   36   64  100  100   16  784  400   16   64   36   36    4   64    4\n",
            "    4   36  144  784   16   16  100  196   36    4    0  900 1764   64\n",
            "  256   16   36   16  324   36    4  196  576    4  400  100  784  400\n",
            "   16  256   36   64  484   36  676  256  256   36   16  196  144    0\n",
            "    4    4 1024    0  144   36  144  484  144   64  144  144    4 1296\n",
            "    4  324  676  196    4    4    4   36  324    4   64   36  100   36\n",
            "  256  324   36  100   36  100    4  784   64  196    0   64  400   36\n",
            "  256   36   16    4  324  484    4  144    4    4  144  784  256  144\n",
            "   64  784  196    4  900   36  484  256  144  324    0   64    4    0\n",
            "  144    4    4 1936  196  324    4  256   64  576  400  400   36  100\n",
            "  900  100   16  196  144  100   16  676  484    0   16  484  100   16\n",
            "  100   36  144  324  324    4  324  196  100  100   36   16   16  144\n",
            "  576    4  196   64  144   16   16  256    4  576  400  400   64   16\n",
            "    0    4  196  100   16  256  256   36   36 1444    4   16   64  256\n",
            "  144    4   36  144  144  100    4   16    0   36  100  100    4   16\n",
            "  144  100  196   64  400  144   36   16    0  676  196  144   36  196\n",
            "   16  900  256  400   64   16  324   16    4  100  256  576  400  784\n",
            "  324  196  196   64   16    4   16  576  576   64  100   16   64    4\n",
            "  256    4    4    4  784  484   16  484  144  484    4  100   36  484\n",
            "   64  196   16  784  196  256  144  324   16  144   36    4    4  676\n",
            "  900   16 1156    0   64   36    4  900  196   16   36  144    0   64\n",
            "    4  196    4  256  576    4  256   64  144  256  196    4  484  196\n",
            "   64 1600   64   36  100    4  196  144  100   16    0   64   16    0\n",
            "  196  196   64   64  196    4   16   16  324  196    4  100    4   64\n",
            "  256   36   36   16   36   16 1024  100    4  324  324  400  144  196\n",
            "  100  144  100    0   64  100    0  100   16    4  484    0  196  196\n",
            "   64  196   36   16  100   64   16    4  256  256   64    4   36  576\n",
            "  324    0  400   16   64   16   16    0    4   64   16 1024  196    0\n",
            "  144  324  100   36   64  784  196   16   16  784   36   36  196    4\n",
            "   36    0   16  484   36   36  676 1600   64  576   64   16   16  400\n",
            "  100  256  196  196  576  324  196 1296 1024   16  400  400  144  324\n",
            " 1024    4  676    4  144    4  196   64  256  784   36  144  144  144\n",
            "  256   16    0    0  484  100   16   36 1024   64  256   36   16  676\n",
            "  196  784  100 1296  676  144  100  100   16   16   16 1156    0  100\n",
            "    4  484  100  196  484  100    4   16  100  144    4    0   64   16\n",
            "  196  484  100 1156  256  576    0  256  324  400    4   36   64    0\n",
            "   36  100  100   16    4    4   36 1156  324  484  144   64  144   36\n",
            "  100   36   36  576    0  144   36   64  256  484   36 1936  676  144\n",
            "   16   64  324   64  196   16]\n",
            "[16.0, 20.0, 84.0, 280.0, 344.0, 920.0, 1064.0, 1848.0, 2104.0, 2108.0, 2364.0, 2400.0, 2500.0, 3076.0, 3092.0, 3096.0, 3292.0, 3328.0, 3332.0, 3396.0, 3400.0, 3400.0, 3724.0, 3740.0, 3996.0, 4060.0, 4204.0, 4688.0, 4704.0, 5188.0, 5512.0, 5656.0, 5800.0, 5944.0, 6140.0, 6144.0, 6244.0, 6440.0, 6924.0, 6924.0, 6960.0, 7284.0, 9048.0, 9052.0, 9088.0, 9092.0, 9192.0, 9388.0, 9584.0, 9588.0, 9688.0, 9944.0, 9944.0, 11544.0, 11548.0, 11548.0, 11948.0, 12012.0, 12048.0, 12244.0, 12568.0, 12584.0, 12588.0, 12688.0, 12692.0, 12696.0, 12700.0, 12736.0, 12752.0, 12816.0, 13012.0, 13012.0, 13028.0, 13064.0, 13100.0, 13136.0, 13536.0, 13552.0, 13808.0, 13812.0, 14136.0, 14460.0, 14860.0, 14924.0, 14960.0, 15024.0, 15700.0, 16100.0, 16356.0, 16392.0, 16536.0, 16572.0, 16576.0, 16640.0, 16640.0, 16964.0, 17748.0, 17848.0, 18044.0, 18444.0, 18588.0, 18588.0, 18688.0, 18692.0, 19092.0, 19416.0, 19420.0, 19676.0, 19712.0, 19748.0, 19752.0, 19752.0, 19788.0, 19804.0, 19808.0, 19812.0, 19816.0, 20072.0, 20088.0, 20188.0, 20192.0, 20388.0, 20392.0, 20396.0, 20880.0, 21024.0, 21124.0, 21268.0, 22564.0, 23588.0, 23844.0, 23944.0, 24008.0, 24012.0, 24588.0, 24652.0, 24908.0, 24944.0, 25200.0, 25300.0, 25336.0, 25736.0, 25752.0, 26076.0, 26400.0, 26544.0, 26580.0, 26644.0, 26680.0, 27080.0, 27480.0, 27624.0, 27820.0, 28144.0, 28208.0, 28272.0, 28336.0, 28480.0, 28880.0, 28980.0, 29044.0, 29044.0, 29368.0, 29404.0, 29660.0, 32364.0, 32940.0, 33264.0, 33940.0, 33976.0, 33976.0, 33992.0, 34136.0, 34920.0, 35020.0, 35164.0, 35168.0, 35268.0, 35284.0, 35480.0, 35624.0, 35880.0, 35884.0, 35888.0, 36912.0, 37312.0, 37568.0, 37632.0, 37636.0, 37700.0, 37700.0, 37800.0, 37996.0, 37996.0, 38096.0, 38292.0, 38296.0, 39080.0, 39480.0, 39964.0, 40000.0, 40144.0, 40244.0, 40440.0, 40476.0, 40672.0, 40736.0, 40740.0, 40804.0, 40804.0, 40868.0, 41652.0, 41752.0, 41852.0, 41856.0, 41956.0, 42212.0, 42228.0, 42372.0, 42376.0, 42632.0, 42888.0, 42924.0, 43324.0, 43324.0, 43340.0, 43440.0, 43696.0, 43732.0, 43876.0, 44020.0, 44036.0, 44036.0, 44100.0, 44136.0, 44280.0, 44296.0, 44332.0, 44332.0, 44336.0, 44336.0, 44400.0, 44416.0, 44480.0, 44624.0, 44724.0, 44760.0, 44764.0, 44908.0, 44944.0, 45140.0, 45284.0, 45428.0, 45684.0, 45700.0, 45704.0, 46280.0, 46344.0, 46360.0, 46684.0, 47260.0, 47456.0, 47600.0, 47664.0, 48064.0, 48848.0, 49172.0, 49236.0, 49812.0, 49816.0, 49852.0, 49856.0, 50112.0, 50788.0, 51044.0, 51060.0, 51064.0, 51164.0, 51228.0, 51228.0, 51264.0, 51460.0, 51524.0, 51524.0, 51560.0, 51704.0, 51720.0, 52120.0, 52316.0, 52316.0, 52380.0, 52396.0, 52400.0, 52436.0, 52500.0, 52504.0, 52604.0, 53180.0, 53216.0, 53252.0, 53288.0, 53388.0, 53392.0, 53536.0, 53636.0, 53736.0, 53932.0, 53948.0, 54012.0, 54112.0, 54256.0, 54512.0, 54548.0, 54612.0, 54808.0, 55132.0, 55916.0, 55920.0, 55984.0, 56240.0, 56724.0, 56740.0, 56756.0, 56760.0, 56796.0, 56940.0, 56956.0, 56956.0, 57212.0, 57312.0, 57456.0, 57780.0, 57796.0, 57992.0, 58136.0, 58236.0, 58336.0, 58532.0, 58632.0, 58776.0, 59032.0, 59132.0, 59196.0, 59392.0, 59428.0, 59492.0, 59528.0, 59672.0, 59996.0, 60140.0, 61040.0, 61140.0, 61336.0, 61592.0, 61848.0, 61852.0, 61996.0, 62396.0, 63996.0, 64480.0, 64484.0, 64548.0, 64872.0, 64936.0, 64972.0, 65036.0, 65232.0, 65232.0, 65296.0, 65332.0, 65476.0, 65672.0, 65676.0, 65712.0, 65716.0, 65732.0, 65768.0, 66924.0, 67120.0, 67124.0, 67320.0, 67644.0, 67708.0, 67744.0, 67844.0, 68168.0, 68172.0, 68368.0, 68624.0, 68724.0, 68980.0, 69016.0, 69212.0, 69216.0, 69232.0, 69428.0, 70328.0, 70428.0, 70464.0, 70720.0, 71044.0, 71368.0, 71404.0, 71804.0, 71808.0, 72484.0, 72628.0, 72824.0, 72828.0, 73852.0, 74336.0, 74400.0, 74544.0, 74560.0, 74596.0, 74612.0, 74868.0, 74884.0, 74984.0, 75128.0, 75528.0, 75532.0, 75856.0, 75956.0, 76280.0, 76296.0, 76552.0, 76952.0, 76988.0, 77388.0, 78064.0, 78100.0, 78116.0, 78120.0, 78136.0, 78280.0, 79576.0, 80252.0, 80316.0, 80572.0, 80716.0, 80732.0, 80876.0, 80940.0, 81004.0, 81004.0, 81404.0, 81408.0, 81472.0, 81616.0, 81652.0, 82552.0, 82748.0, 82892.0, 83376.0, 83440.0, 83476.0, 83476.0, 83732.0, 84132.0, 84328.0, 84392.0, 84428.0, 84492.0, 84592.0, 84692.0, 84708.0, 85492.0, 85892.0, 85908.0, 85972.0, 86008.0, 86044.0, 86048.0, 86112.0, 86116.0, 86120.0, 86156.0, 86300.0, 87084.0, 87100.0, 87116.0, 87216.0, 87412.0, 87448.0, 87452.0, 87452.0, 88352.0, 90116.0, 90180.0, 90436.0, 90452.0, 90488.0, 90504.0, 90828.0, 90864.0, 90868.0, 91064.0, 91640.0, 91644.0, 92044.0, 92144.0, 92928.0, 93328.0, 93344.0, 93600.0, 93636.0, 93700.0, 94184.0, 94220.0, 94896.0, 95152.0, 95408.0, 95444.0, 95460.0, 95656.0, 95800.0, 95800.0, 95804.0, 95808.0, 96832.0, 96832.0, 96976.0, 97012.0, 97156.0, 97640.0, 97784.0, 97848.0, 97992.0, 98136.0, 98140.0, 99436.0, 99440.0, 99764.0, 100440.0, 100636.0, 100640.0, 100644.0, 100648.0, 100684.0, 101008.0, 101012.0, 101076.0, 101112.0, 101212.0, 101248.0, 101504.0, 101828.0, 101864.0, 101964.0, 102000.0, 102100.0, 102104.0, 102888.0, 102952.0, 103148.0, 103148.0, 103212.0, 103612.0, 103648.0, 103904.0, 103940.0, 103956.0, 103960.0, 104284.0, 104768.0, 104772.0, 104916.0, 104920.0, 104924.0, 105068.0, 105852.0, 106108.0, 106252.0, 106316.0, 107100.0, 107296.0, 107300.0, 108200.0, 108236.0, 108720.0, 108976.0, 109120.0, 109444.0, 109444.0, 109508.0, 109512.0, 109512.0, 109656.0, 109660.0, 109664.0, 111600.0, 111796.0, 112120.0, 112124.0, 112380.0, 112444.0, 113020.0, 113420.0, 113820.0, 113856.0, 113956.0, 114856.0, 114956.0, 114972.0, 115168.0, 115312.0, 115412.0, 115428.0, 116104.0, 116588.0, 116588.0, 116604.0, 117088.0, 117188.0, 117204.0, 117304.0, 117340.0, 117484.0, 117808.0, 118132.0, 118136.0, 118460.0, 118656.0, 118756.0, 118856.0, 118892.0, 118908.0, 118924.0, 119068.0, 119644.0, 119648.0, 119844.0, 119908.0, 120052.0, 120068.0, 120084.0, 120340.0, 120344.0, 120920.0, 121320.0, 121720.0, 121784.0, 121800.0, 121800.0, 121804.0, 122000.0, 122100.0, 122116.0, 122372.0, 122628.0, 122664.0, 122700.0, 124144.0, 124148.0, 124164.0, 124228.0, 124484.0, 124628.0, 124632.0, 124668.0, 124812.0, 124956.0, 125056.0, 125060.0, 125076.0, 125076.0, 125112.0, 125212.0, 125312.0, 125316.0, 125332.0, 125476.0, 125576.0, 125772.0, 125836.0, 126236.0, 126380.0, 126416.0, 126432.0, 126432.0, 127108.0, 127304.0, 127448.0, 127484.0, 127680.0, 127696.0, 128596.0, 128852.0, 129252.0, 129316.0, 129332.0, 129656.0, 129672.0, 129676.0, 129776.0, 130032.0, 130608.0, 131008.0, 131792.0, 132116.0, 132312.0, 132508.0, 132572.0, 132588.0, 132592.0, 132608.0, 133184.0, 133760.0, 133824.0, 133924.0, 133940.0, 134004.0, 134008.0, 134264.0, 134268.0, 134272.0, 134276.0, 135060.0, 135544.0, 135560.0, 136044.0, 136188.0, 136672.0, 136676.0, 136776.0, 136812.0, 137296.0, 137360.0, 137556.0, 137572.0, 138356.0, 138552.0, 138808.0, 138952.0, 139276.0, 139292.0, 139436.0, 139472.0, 139476.0, 139480.0, 140156.0, 141056.0, 141072.0, 142228.0, 142228.0, 142292.0, 142328.0, 142332.0, 143232.0, 143428.0, 143444.0, 143480.0, 143624.0, 143624.0, 143688.0, 143692.0, 143888.0, 143892.0, 144148.0, 144724.0, 144728.0, 144984.0, 145048.0, 145192.0, 145448.0, 145644.0, 145648.0, 146132.0, 146328.0, 146392.0, 147992.0, 148056.0, 148092.0, 148192.0, 148196.0, 148392.0, 148536.0, 148636.0, 148652.0, 148652.0, 148716.0, 148732.0, 148732.0, 148928.0, 149124.0, 149188.0, 149252.0, 149448.0, 149452.0, 149468.0, 149484.0, 149808.0, 150004.0, 150008.0, 150108.0, 150112.0, 150176.0, 150432.0, 150468.0, 150504.0, 150520.0, 150556.0, 150572.0, 151596.0, 151696.0, 151700.0, 152024.0, 152348.0, 152748.0, 152892.0, 153088.0, 153188.0, 153332.0, 153432.0, 153432.0, 153496.0, 153596.0, 153596.0, 153696.0, 153712.0, 153716.0, 154200.0, 154200.0, 154396.0, 154592.0, 154656.0, 154852.0, 154888.0, 154904.0, 155004.0, 155068.0, 155084.0, 155088.0, 155344.0, 155600.0, 155664.0, 155668.0, 155704.0, 156280.0, 156604.0, 156604.0, 157004.0, 157020.0, 157084.0, 157100.0, 157116.0, 157116.0, 157120.0, 157184.0, 157200.0, 158224.0, 158420.0, 158420.0, 158564.0, 158888.0, 158988.0, 159024.0, 159088.0, 159872.0, 160068.0, 160084.0, 160100.0, 160884.0, 160920.0, 160956.0, 161152.0, 161156.0, 161192.0, 161192.0, 161208.0, 161692.0, 161728.0, 161764.0, 162440.0, 164040.0, 164104.0, 164680.0, 164744.0, 164760.0, 164776.0, 165176.0, 165276.0, 165532.0, 165728.0, 165924.0, 166500.0, 166824.0, 167020.0, 168316.0, 169340.0, 169356.0, 169756.0, 170156.0, 170300.0, 170624.0, 171648.0, 171652.0, 172328.0, 172332.0, 172476.0, 172480.0, 172676.0, 172740.0, 172996.0, 173780.0, 173816.0, 173960.0, 174104.0, 174248.0, 174504.0, 174520.0, 174520.0, 174520.0, 175004.0, 175104.0, 175120.0, 175156.0, 176180.0, 176244.0, 176500.0, 176536.0, 176552.0, 177228.0, 177424.0, 178208.0, 178308.0, 179604.0, 180280.0, 180424.0, 180524.0, 180624.0, 180640.0, 180656.0, 180672.0, 181828.0, 181828.0, 181928.0, 181932.0, 182416.0, 182516.0, 182712.0, 183196.0, 183296.0, 183300.0, 183316.0, 183416.0, 183560.0, 183564.0, 183564.0, 183628.0, 183644.0, 183840.0, 184324.0, 184424.0, 185580.0, 185836.0, 186412.0, 186412.0, 186668.0, 186992.0, 187392.0, 187396.0, 187432.0, 187496.0, 187496.0, 187532.0, 187632.0, 187732.0, 187748.0, 187752.0, 187756.0, 187792.0, 188948.0, 189272.0, 189756.0, 189900.0, 189964.0, 190108.0, 190144.0, 190244.0, 190280.0, 190316.0, 190892.0, 190892.0, 191036.0, 191072.0, 191136.0, 191392.0, 191876.0, 191912.0, 193848.0, 194524.0, 194668.0, 194684.0, 194748.0, 195072.0, 195136.0, 195332.0, 195348.0]\n"
          ]
        },
        {
          "output_type": "display_data",
          "data": {
            "text/plain": [
              "<Figure size 432x288 with 1 Axes>"
            ],
            "image/png": "[encoded data removed]"
          },
          "metadata": {
            "needs_background": "light"
          }
        }
      ]
    }
  ]
}