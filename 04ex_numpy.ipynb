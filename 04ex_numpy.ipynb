{
 "cells": [
  {
   "cell_type": "markdown",
   "metadata": {},
   "source": [
    "1\\. **Reductions**\n",
    "\n",
    "Find the total mean, and the mean for each row and column of the following matrix:\n",
    "\n",
    "```python\n",
    "m = np.arange(12).reshape((3,4))\n",
    "```"
   ]
  },
  {
   "cell_type": "code",
   "execution_count": 1,
   "metadata": {},
   "outputs": [
    {
     "name": "stdout",
     "output_type": "stream",
     "text": [
      "[[ 0  1  2  3]\n",
      " [ 4  5  6  7]\n",
      " [ 8  9 10 11]] \n",
      "\n",
      "The total mean is:  5.5\n",
      "The mean along each row is:  [1.5 5.5 9.5]\n",
      "The mean along each column is:  [4. 5. 6. 7.]\n"
     ]
    }
   ],
   "source": [
    "import numpy as np\n",
    "\n",
    "m = np.arange(12).reshape((3,4))\n",
    "print(m, '\\n')\n",
    "\n",
    "print(\"The total mean is: \", m.mean()) #ndarray.mean() considers by default the flattened array\n",
    "\n",
    "#the axis parameter indicates what axis you're summing over: when you consider the sum of the entries of a row, you're fixing\n",
    "#the row 'i' and summing over the entries of the column 'j'\n",
    "\n",
    "print(\"The mean along each row is: \", m.mean(axis = 1)) #fix the row and sum over column (axis = 1 is the column dimension)\n",
    "print(\"The mean along each column is: \", m.mean(axis = 0))\n",
    "    "
   ]
  },
  {
   "cell_type": "markdown",
   "metadata": {},
   "source": [
    "2\\. **Outer product**\n",
    "\n",
    "Find the outer product of the following vectors:\n",
    "\n",
    "```python\n",
    "u = np.array([1, 3, 5, 7])\n",
    "v = np.array([2, 4, 6, 8])\n",
    "```\n",
    "\n",
    "Use different methods to do this:\n",
    "\n",
    "   1. Using the function `outer` in numpy\n",
    "   2. Using a nested `for` loop or a list comprehension\n",
    "   3. Using numpy broadcasting operations"
   ]
  },
  {
   "cell_type": "code",
   "execution_count": 2,
   "metadata": {},
   "outputs": [
    {
     "name": "stdout",
     "output_type": "stream",
     "text": [
      "#1. Using the function outer in numpy: \n",
      " [[ 2  4  6  8]\n",
      " [ 6 12 18 24]\n",
      " [10 20 30 40]\n",
      " [14 28 42 56]] \n",
      "\n",
      "#2. Using a nested for loop or a list comprehension: \n",
      " [[ 2  4  6  8]\n",
      " [ 6 12 18 24]\n",
      " [10 20 30 40]\n",
      " [14 28 42 56]] \n",
      "\n",
      "#3. Using numpy broadcasting operations: \n",
      " [[ 2  4  6  8]\n",
      " [ 6 12 18 24]\n",
      " [10 20 30 40]\n",
      " [14 28 42 56]]\n"
     ]
    }
   ],
   "source": [
    "import numpy as np\n",
    "\n",
    "u = np.array([1, 3, 5, 7])\n",
    "v = np.array([2, 4, 6, 8])\n",
    "\n",
    "print(\"#1. Using the function outer in numpy: \\n\",np.outer(u, v), '\\n') #in this order, the opposite order gives the transposed\n",
    "\n",
    "u_outer_v = np.array([u[i]*v for i in range(len(u))])\n",
    "print(\"#2. Using a nested for loop or a list comprehension: \\n\", u_outer_v, '\\n')\n",
    "\n",
    "u_matrix = u[:, np.newaxis] #add a new dimension to u, then use broadcasting multiplication bw this matrix and the v array\n",
    "u_outbroad_v = u_matrix*v\n",
    "print(\"#3. Using numpy broadcasting operations: \\n\", u_outbroad_v)"
   ]
  },
  {
   "cell_type": "markdown",
   "metadata": {},
   "source": [
    "3\\. **Matrix masking**\n",
    "\n",
    "Create a 10 by 6 matrix of float random numbers, distributed between 0 and 3 according to a flat distribution.\n",
    "\n",
    "After creating the matrix, set all entries $< 0.3$ to zero using a mask."
   ]
  },
  {
   "cell_type": "code",
   "execution_count": 3,
   "metadata": {},
   "outputs": [
    {
     "name": "stdout",
     "output_type": "stream",
     "text": [
      "The matrix is \n",
      " [[2.22694764 1.17426232 1.74350919 2.92234281 0.50081119 0.2662868 ]\n",
      " [1.32224306 1.29738818 1.71084267 2.17348267 1.0520918  1.05894798]\n",
      " [1.50837145 0.65475444 1.72681673 1.18578299 1.85563042 1.81844645]\n",
      " [1.0988586  2.10661344 2.94599009 1.49737331 2.01241671 0.9534935 ]\n",
      " [2.18238703 0.35728332 1.172515   2.40549674 0.4603085  2.32963467]\n",
      " [0.28391478 2.26570833 1.24306311 1.50809119 2.3877937  1.73707762]\n",
      " [0.06091289 0.12617069 1.57549022 2.60019524 0.74133905 1.67554504]\n",
      " [0.00550224 0.74608043 1.60046046 2.35072393 2.80175309 2.76025828]\n",
      " [1.9775049  1.49906813 0.11482083 1.46554746 2.95680632 1.83584328]\n",
      " [2.41299995 0.61949089 1.94527087 0.89586632 0.00619181 1.83296235]] \n",
      "\n",
      "After setting the entries <0.3  to zero the matrix is \n",
      " [[2.22694764 1.17426232 1.74350919 2.92234281 0.50081119 0.        ]\n",
      " [1.32224306 1.29738818 1.71084267 2.17348267 1.0520918  1.05894798]\n",
      " [1.50837145 0.65475444 1.72681673 1.18578299 1.85563042 1.81844645]\n",
      " [1.0988586  2.10661344 2.94599009 1.49737331 2.01241671 0.9534935 ]\n",
      " [2.18238703 0.35728332 1.172515   2.40549674 0.4603085  2.32963467]\n",
      " [0.         2.26570833 1.24306311 1.50809119 2.3877937  1.73707762]\n",
      " [0.         0.         1.57549022 2.60019524 0.74133905 1.67554504]\n",
      " [0.         0.74608043 1.60046046 2.35072393 2.80175309 2.76025828]\n",
      " [1.9775049  1.49906813 0.         1.46554746 2.95680632 1.83584328]\n",
      " [2.41299995 0.61949089 1.94527087 0.89586632 0.         1.83296235]]\n"
     ]
    }
   ],
   "source": [
    "import numpy as np\n",
    "import numpy.random as npr\n",
    "\n",
    "matrix = 3*npr.rand(10, 6) #create the matrix\n",
    "print(\"The matrix is \\n\", matrix, '\\n')\n",
    "\n",
    "mask = (matrix < 0.3) #create the mask\n",
    "matrix[mask] = 0 #set the entries indexed by the mask to zero\n",
    "\n",
    "print(\"After setting the entries <0.3  to zero the matrix is \\n\", matrix) #show the result"
   ]
  },
  {
   "cell_type": "markdown",
   "metadata": {},
   "source": [
    "4\\. **Trigonometric functions**\n",
    "\n",
    "Use `np.linspace` to create an array of 100 numbers between $0$ and $2\\pi$ (inclusive).\n",
    "\n",
    "  * Extract every 10th element using the slice notation\n",
    "  * Reverse the array using the slice notation\n",
    "  * Extract elements where the absolute difference between the `sin` and `cos` functions evaluated for that element is $< 0.1$\n",
    "  * **Optional**: make a plot showing the sin and cos functions and indicate where they are close"
   ]
  },
  {
   "cell_type": "code",
   "execution_count": 86,
   "metadata": {},
   "outputs": [
    {
     "name": "stdout",
     "output_type": "stream",
     "text": [
      "Array of 100 numbers between  0  and  2𝜋\n",
      "  [0.         0.06346652 0.12693304 0.19039955 0.25386607 0.31733259\n",
      " 0.38079911 0.44426563 0.50773215 0.57119866 0.63466518 0.6981317\n",
      " 0.76159822 0.82506474 0.88853126 0.95199777 1.01546429 1.07893081\n",
      " 1.14239733 1.20586385 1.26933037 1.33279688 1.3962634  1.45972992\n",
      " 1.52319644 1.58666296 1.65012947 1.71359599 1.77706251 1.84052903\n",
      " 1.90399555 1.96746207 2.03092858 2.0943951  2.15786162 2.22132814\n",
      " 2.28479466 2.34826118 2.41172769 2.47519421 2.53866073 2.60212725\n",
      " 2.66559377 2.72906028 2.7925268  2.85599332 2.91945984 2.98292636\n",
      " 3.04639288 3.10985939 3.17332591 3.23679243 3.30025895 3.36372547\n",
      " 3.42719199 3.4906585  3.55412502 3.61759154 3.68105806 3.74452458\n",
      " 3.8079911  3.87145761 3.93492413 3.99839065 4.06185717 4.12532369\n",
      " 4.1887902  4.25225672 4.31572324 4.37918976 4.44265628 4.5061228\n",
      " 4.56958931 4.63305583 4.69652235 4.75998887 4.82345539 4.88692191\n",
      " 4.95038842 5.01385494 5.07732146 5.14078798 5.2042545  5.26772102\n",
      " 5.33118753 5.39465405 5.45812057 5.52158709 5.58505361 5.64852012\n",
      " 5.71198664 5.77545316 5.83891968 5.9023862  5.96585272 6.02931923\n",
      " 6.09278575 6.15625227 6.21971879 6.28318531] \n",
      "\n",
      "Every tenth element \n",
      " [0.57119866 1.20586385 1.84052903 2.47519421 3.10985939 3.74452458\n",
      " 4.37918976 5.01385494 5.64852012 6.28318531] \n",
      "\n",
      "Reversed array \n",
      " [6.28318531 6.21971879 6.15625227 6.09278575 6.02931923 5.96585272\n",
      " 5.9023862  5.83891968 5.77545316 5.71198664 5.64852012 5.58505361\n",
      " 5.52158709 5.45812057 5.39465405 5.33118753 5.26772102 5.2042545\n",
      " 5.14078798 5.07732146 5.01385494 4.95038842 4.88692191 4.82345539\n",
      " 4.75998887 4.69652235 4.63305583 4.56958931 4.5061228  4.44265628\n",
      " 4.37918976 4.31572324 4.25225672 4.1887902  4.12532369 4.06185717\n",
      " 3.99839065 3.93492413 3.87145761 3.8079911  3.74452458 3.68105806\n",
      " 3.61759154 3.55412502 3.4906585  3.42719199 3.36372547 3.30025895\n",
      " 3.23679243 3.17332591 3.10985939 3.04639288 2.98292636 2.91945984\n",
      " 2.85599332 2.7925268  2.72906028 2.66559377 2.60212725 2.53866073\n",
      " 2.47519421 2.41172769 2.34826118 2.28479466 2.22132814 2.15786162\n",
      " 2.0943951  2.03092858 1.96746207 1.90399555 1.84052903 1.77706251\n",
      " 1.71359599 1.65012947 1.58666296 1.52319644 1.45972992 1.3962634\n",
      " 1.33279688 1.26933037 1.20586385 1.14239733 1.07893081 1.01546429\n",
      " 0.95199777 0.88853126 0.82506474 0.76159822 0.6981317  0.63466518\n",
      " 0.57119866 0.50773215 0.44426563 0.38079911 0.31733259 0.25386607\n",
      " 0.19039955 0.12693304 0.06346652 0.        ] \n",
      "\n",
      "|sin(x)-cos(x)|<0.1 in \n",
      " [0.76159822 0.82506474 3.87145761 3.93492413] \n",
      "\n"
     ]
    },
    {
     "data": {
      "text/plain": [
       "<matplotlib.lines.Line2D at 0x148d016cbb0>"
      ]
     },
     "execution_count": 86,
     "metadata": {},
     "output_type": "execute_result"
    },
    {
     "data": {
      "image/png": "[encoded data removed]",
      "text/plain": [
       "<Figure size 576x360 with 1 Axes>"
      ]
     },
     "metadata": {
      "needs_background": "light"
     },
     "output_type": "display_data"
    }
   ],
   "source": [
    "import numpy as np\n",
    "import math\n",
    "import matplotlib.pyplot as plt\n",
    "\n",
    "lattice = np.linspace(0, 2*math.pi, 100) #create the array\n",
    "print(\"Array of 100 numbers between  0  and  2𝜋\\n \", lattice, '\\n')\n",
    "\n",
    "tenth = lattice[9::10] #extract every 10th element using the slice notation\n",
    "print(\"Every tenth element \\n\", tenth, '\\n')\n",
    "\n",
    "reverse = lattice[::-1] #reverse the array using the slice notation\n",
    "print(\"Reversed array \\n\", reverse, '\\n')\n",
    "\n",
    "sin = np.vectorize(math.sin)\n",
    "cos = np.vectorize(math.cos)\n",
    "mask = (abs(sin(lattice)-cos(lattice)) < 0.1) #Extract elements where the absolute difference between the sin and cos functions evaluated for that element is  <0.1\n",
    "print(\"|sin(x)-cos(x)|<0.1 in \\n\", lattice[mask], '\\n')\n",
    "\n",
    "#plt.plot(lattice, abs(sin(lattice)-cos(lattice)), 'b')\n",
    "#plt.plot(lattice, np.full(100, 0.1), 'r')\n",
    "\n",
    "fig = plt.figure(figsize=(8, 5))\n",
    "plt.xlabel(\"x\")\n",
    "plt.ylabel(\"y\")\n",
    "ax = plt.plot(lattice, sin(lattice), 'r', label = 'sin')\n",
    "plt.plot(lattice, cos(lattice), 'b', label = 'cos')\n",
    "plt.legend(loc = 'lower left')\n",
    "plt.axvline(0.717, linestyle = 'dashed')\n",
    "plt.axvline(0.855, linestyle = 'dashed')\n",
    "plt.axvline(3.861, linestyle = 'dashed')\n",
    "plt.axvline(3.993, linestyle = 'dashed')"
   ]
  },
  {
   "cell_type": "markdown",
   "metadata": {},
   "source": [
    "5\\. **Matrices**\n",
    "\n",
    "Create a matrix that shows the 10 by 10 multiplication table.\n",
    "\n",
    " * Find the trace of the matrix\n",
    " * Extract the anti-diagonal matrix (this should be ```array([10, 18, 24, 28, 30, 30, 28, 24, 18, 10])```)\n",
    " * Extract the diagonal offset by 1 upwards (this should be ```array([ 2,  6, 12, 20, 30, 42, 56, 72, 90])```)"
   ]
  },
  {
   "cell_type": "code",
   "execution_count": 7,
   "metadata": {},
   "outputs": [
    {
     "name": "stdout",
     "output_type": "stream",
     "text": [
      "Multiplication table:\n",
      " [[  1   2   3   4   5   6   7   8   9  10]\n",
      " [  2   4   6   8  10  12  14  16  18  20]\n",
      " [  3   6   9  12  15  18  21  24  27  30]\n",
      " [  4   8  12  16  20  24  28  32  36  40]\n",
      " [  5  10  15  20  25  30  35  40  45  50]\n",
      " [  6  12  18  24  30  36  42  48  54  60]\n",
      " [  7  14  21  28  35  42  49  56  63  70]\n",
      " [  8  16  24  32  40  48  56  64  72  80]\n",
      " [  9  18  27  36  45  54  63  72  81  90]\n",
      " [ 10  20  30  40  50  60  70  80  90 100]] \n",
      "\n",
      "The trace of the matrix is  385 \n",
      "\n",
      "The anti-diagonal matrix is \n",
      " [[ 0  0  0  0  0  0  0  0  0 10]\n",
      " [ 0  0  0  0  0  0  0  0 18  0]\n",
      " [ 0  0  0  0  0  0  0 24  0  0]\n",
      " [ 0  0  0  0  0  0 28  0  0  0]\n",
      " [ 0  0  0  0  0 30  0  0  0  0]\n",
      " [ 0  0  0  0 30  0  0  0  0  0]\n",
      " [ 0  0  0 28  0  0  0  0  0  0]\n",
      " [ 0  0 24  0  0  0  0  0  0  0]\n",
      " [ 0 18  0  0  0  0  0  0  0  0]\n",
      " [10  0  0  0  0  0  0  0  0  0]] \n",
      "\n",
      "The diagonal offset by 1 upwards is \n",
      " [ 2  6 12 20 30 42 56 72 90]\n"
     ]
    }
   ],
   "source": [
    "import numpy as np\n",
    "\n",
    "row = np.arange(1,11)\n",
    "column = np.arange(1,11)\n",
    "multiplication_table = np.outer(row, column)\n",
    "print(\"Multiplication table:\\n\", multiplication_table, '\\n')\n",
    "\n",
    "print(\"The trace of the matrix is \", np.trace(multiplication_table), '\\n')\n",
    "print(\"The anti-diagonal matrix is \\n\", np.fliplr(np.diag(np.fliplr(multiplication_table).diagonal())), '\\n')\n",
    "print(\"The diagonal offset by 1 upwards is \\n\", np.diag(multiplication_table, k = 1))"
   ]
  },
  {
   "cell_type": "markdown",
   "metadata": {},
   "source": [
    "6\\. **Broadcasting**\n",
    "\n",
    "Use broadcasting to create a grid of distances.\n",
    "\n",
    "Route 66 crosses the following cities in the US: Chicago, Springfield, Saint-Louis, Tulsa, Oklahoma City, Amarillo, Santa Fe, Albuquerque, Flagstaff, Los Angeles.\n",
    "\n",
    "The corresponding positions in miles are: 0, 198, 303, 736, 871, 1175, 1475, 1544, 1913, 2448\n",
    "\n",
    "  * Build a 2D grid of distances among each city along Route 66\n",
    "  * Convert the distances in km"
   ]
  },
  {
   "cell_type": "code",
   "execution_count": 8,
   "metadata": {},
   "outputs": [
    {
     "name": "stdout",
     "output_type": "stream",
     "text": [
      "Positions in miles are \n",
      " [   0  198  303  736  871 1175 1475 1544 1913 2448] \n",
      "\n",
      "The grid of distances (in miles) is \n",
      " [[   0  198  303  736  871 1175 1475 1544 1913 2448]\n",
      " [ 198    0  105  538  673  977 1277 1346 1715 2250]\n",
      " [ 303  105    0  433  568  872 1172 1241 1610 2145]\n",
      " [ 736  538  433    0  135  439  739  808 1177 1712]\n",
      " [ 871  673  568  135    0  304  604  673 1042 1577]\n",
      " [1175  977  872  439  304    0  300  369  738 1273]\n",
      " [1475 1277 1172  739  604  300    0   69  438  973]\n",
      " [1544 1346 1241  808  673  369   69    0  369  904]\n",
      " [1913 1715 1610 1177 1042  738  438  369    0  535]\n",
      " [2448 2250 2145 1712 1577 1273  973  904  535    0]] \n",
      "\n",
      "The grid of distances (in km) is \n",
      " [[   0.   316.8  484.8 1177.6 1393.6 1880.  2360.  2470.4 3060.8 3916.8]\n",
      " [ 316.8    0.   168.   860.8 1076.8 1563.2 2043.2 2153.6 2744.  3600. ]\n",
      " [ 484.8  168.     0.   692.8  908.8 1395.2 1875.2 1985.6 2576.  3432. ]\n",
      " [1177.6  860.8  692.8    0.   216.   702.4 1182.4 1292.8 1883.2 2739.2]\n",
      " [1393.6 1076.8  908.8  216.     0.   486.4  966.4 1076.8 1667.2 2523.2]\n",
      " [1880.  1563.2 1395.2  702.4  486.4    0.   480.   590.4 1180.8 2036.8]\n",
      " [2360.  2043.2 1875.2 1182.4  966.4  480.     0.   110.4  700.8 1556.8]\n",
      " [2470.4 2153.6 1985.6 1292.8 1076.8  590.4  110.4    0.   590.4 1446.4]\n",
      " [3060.8 2744.  2576.  1883.2 1667.2 1180.8  700.8  590.4    0.   856. ]\n",
      " [3916.8 3600.  3432.  2739.2 2523.2 2036.8 1556.8 1446.4  856.     0. ]] \n",
      "\n"
     ]
    }
   ],
   "source": [
    "import numpy as np\n",
    "\n",
    "route_66 = np.array([0, 198, 303, 736, 871, 1175, 1475, 1544, 1913, 2448])\n",
    "print(\"Positions in miles are \\n\", route_66, '\\n')\n",
    "\n",
    "r = route_66[:, np.newaxis]\n",
    "distance = abs(route_66 - r)\n",
    "print(\"The grid of distances (in miles) is \\n\", distance, '\\n')\n",
    "conversion = np.vectorize(lambda x : x*1.6)\n",
    "print(\"The grid of distances (in km) is \\n\", conversion(distance), '\\n')"
   ]
  },
  {
   "cell_type": "markdown",
   "metadata": {},
   "source": [
    "7\\. **Prime numbers sieve**\n",
    "\n",
    "Compute the prime numbers in the 0-N (start with N=99) range with a sieve (mask).\n",
    "\n",
    "  * Constract a shape (N,) boolean array, which is the mask\n",
    "  * Identify the multiples of each number starting from 2 and set accordingly the corresponding mask element\n",
    "  * Apply the mask to obtain an array of ordered prime numbers\n",
    "  * Check the performances (with `timeit`); how does it scale with N?\n",
    "  * Implement the optimization suggested in the [sieve of Eratosthenes](https://en.wikipedia.org/wiki/Sieve_of_Eratosthenes)"
   ]
  },
  {
   "cell_type": "code",
   "execution_count": 27,
   "metadata": {
    "scrolled": true
   },
   "outputs": [
    {
     "name": "stdout",
     "output_type": "stream",
     "text": [
      "For N=99\n",
      "The prime numbers in [0, 99 ] are \n",
      " [ 1  2  3  5  7 11 13 17 19 23 29 31 37 41 43 47 53 59 61 67 71 73 79 83\n",
      " 89 97]\n",
      "This operation took 0.0029730999999628693 s\n",
      "[1.24300000e-04 1.12120000e-03 1.17067000e-02 8.68850000e-02\n",
      " 8.32060500e-01 8.06816420e+00 8.17035686e+01] \n",
      "\n",
      "The plot shows an exponential growth in semilog scale, therefore the time scales (in first approximation) linearly with N\n"
     ]
    },
    {
     "data": {
      "image/png": "[encoded data removed]",
      "text/plain": [
       "<Figure size 432x288 with 1 Axes>"
      ]
     },
     "metadata": {
      "needs_background": "light"
     },
     "output_type": "display_data"
    }
   ],
   "source": [
    "import numpy as np\n",
    "from matplotlib import pyplot as plt\n",
    "import timeit\n",
    "\n",
    "start = timeit.default_timer()\n",
    "N = 99\n",
    "print(\"For N=99\")\n",
    "l = np.arange(N+1)\n",
    " \n",
    "for i in range(2, N+1):\n",
    "    mask = (l % i == 0) & (l != i)\n",
    "    l[mask] = 0\n",
    "prime = l[l != 0]\n",
    "print(\"The prime numbers in [0,\", N, \"] are \\n\",prime)\n",
    "print(\"This operation took\", timeit.default_timer() - start, \"s\")\n",
    "\n",
    "N_array = np.array([10, 100, 1000, 10000, 100000, 1000000, 10000000])\n",
    "times = []\n",
    "for j in range (1, 8):\n",
    "    start = timeit.default_timer()\n",
    "    for i in range(2, 10**j):\n",
    "        mask = (l % i == 0) & (l != i)\n",
    "        l[mask] = 0\n",
    "    prime = l[l != 0]\n",
    "    times.append(timeit.default_timer() - start)\n",
    "times_array = np.array(times)\n",
    "print(times_array, '\\n')\n",
    "\n",
    "plt.xscale('log')\n",
    "plt.xlabel(\"N\")\n",
    "plt.ylabel(\"time [s]\")\n",
    "plt.plot(N_array, times_array, 'bo')\n",
    "print(\"The plot shows an exponential growth in semilog scale, therefore the time scales (in first approximation) linearly with N\")"
   ]
  },
  {
   "cell_type": "markdown",
   "metadata": {},
   "source": [
    "8\\. **Diffusion using random walk**\n",
    "\n",
    "Consider a simple random walk process: at each step in time, a walker jumps right or left (+1 or -1) with equal probability. The goal is to find the typical distance from the origin of many random walkers after a given amount of time.\n",
    "\n",
    "*Hint*: create a 2D array where each row represents a walker, and each column represents a time step.\n",
    "\n",
    "  * Take 1000 walkers and let them walk for 200 steps\n",
    "  * Use `randint` to create a 2D array of size $walkers \\times steps$ with values -1 or 1\n",
    "  * Calculate the walking distances for each walker (e.g. by summing the elements in each row)\n",
    "  * Take the square of the previously-obtained array (element-wise)\n",
    "  * Compute the mean of the squared distances at each step (i.e. the mean along the columns)\n",
    "  * **Optional**: plot the average distances ($\\sqrt(distance^2)$) as a function of time (step)"
   ]
  },
  {
   "cell_type": "code",
   "execution_count": 90,
   "metadata": {},
   "outputs": [
    {
     "name": "stdout",
     "output_type": "stream",
     "text": [
      "The distances covered by the 1000 walkers are \n",
      " [ 14   0  12 -10  -4   6  -8  10  12   6   8   2  14  16   2 -20 -18 -10\n",
      " -36   8  -8  30   6   4  -2  12 -18  -6  20   0   6 -24   6   4  -8  16\n",
      "  -8   4  16  -2  -6  24  -4   4  -6  -2   8   2 -10  10  24  -6 -16  -4\n",
      "  10  -4  16  14  10 -26 -16   4   0  -4 -14  18 -12   6  10   0 -18  10\n",
      " -12  18   4 -10  24  12  22 -12 -10  -4   6  20   2 -28   8  30   6   2\n",
      "  -2  18 -18  -8 -12   2  12  22   2  10  -4 -12  12  10   2 -14  -4  -8\n",
      "  -4  12   8   4  26   0 -14  -6  -8  24  36   8 -16  10 -14 -30  12 -10\n",
      "  18  -6   0  24  -4 -10 -22  24  -8  -6 -14  14  14  34  12  18  -6   0\n",
      "   8   8   0 -10  -4   0   8 -24   8   8 -28  10  -4 -18 -10  10  12 -10\n",
      "  18  -2   8  -8  -2   6 -16  -8  12   6 -38   2  -4 -20  -6 -38  12  -2\n",
      "  -2 -18  -2  -8 -12  26 -10  -8  20 -26 -10  26 -16  18  24   0  20  -6\n",
      " -10   8  28 -10   6  26  16  14  -4   0   2 -10  10 -20  26  16   2  -4\n",
      "   4  -8 -32   0  12   8 -16  -6  -8 -12 -34 -18  -4   4 -24 -20  12   0\n",
      "  -6  14  -2  16  26  -6   2 -18   2 -28 -16 -18  -8  28 -20  22  -6  12\n",
      "  22 -22  10   4  -4  12   0 -14  20  -2   2  10  -6  12  12 -28   4  32\n",
      "   8  -4   4   0  -6  24   6  18  18   4 -16   2  12   2  -6 -16   2  10\n",
      "   8 -36  -4  -2  -4  -2  -4   4 -12 -14 -14  -2  24  -8  12 -10   0   6\n",
      "  -6  14   0  18  -4  -6  10  -8  -4  -4 -14  16  30 -12 -22   2  46 -18\n",
      "   0 -26 -10  12  12  24 -18 -34  32  -4  12  -6  14  -2   2   0   2   2\n",
      " -12  16  28  12  14  28  -8  -6  -8  32  16 -18  -4  14  18 -28  16  18\n",
      "   8 -22  16   0  12  -2  14  -2  -4  -4  -6   0   4 -16  42  32   6   8\n",
      "  -4   4   8 -14 -14   4  -8  10  -6  -4 -16  -2  -2  -6   4 -18  -2  18\n",
      "  22   0   2   8  -8  -2   4  16  16 -22   0 -20  10   8  18   4  34  -8\n",
      "   6 -14  -8 -12 -18 -32  -4   6  -8   4 -20   2  -8 -16 -28   2  -8 -12\n",
      "   2 -10 -14 -16  10  -6 -12  -2   8   4  -2  18  -2 -10   2   8  -2  18\n",
      " -28 -14 -18   8   0  18  -6   0 -12   2  12 -26  38  14  34  -2  -4  20\n",
      "  16  22   6   2  -6   6  18   6   0 -12   8 -26  10 -12  10  10  -6  -4\n",
      "  -6  20   2 -10  -6  12   6 -20   8  -8   6   6 -12 -14 -16 -26   8 -14\n",
      " -12  -4 -14  12 -28   4  10   2   0 -30  -6  18  -6   6  12  20  -4  -6\n",
      "  18  24 -12 -14   4   8 -24   0   8   4   8   8   4  14   0   2  14   2\n",
      "  16  10  -4   8 -18  34   0  24  16   6  -6 -12 -34   6 -10   2  28  -8\n",
      "  14   2 -22  10 -10  -6 -20  -4 -14  10  12  -2  -2 -12  16 -12 -10  36\n",
      " -26  -8  10   8   4  10  20   8 -20 -16  16 -26  -4   2  -2   4  -4   4\n",
      "  -2   2  28  14 -38 -12   2  -2  -4  18   8   8  -6 -20   2  22  -6 -16\n",
      "  24  24   4  16 -12 -26  20 -12   0  -2   0   8   2 -22 -10  24  -4  -4\n",
      "   4  20 -16  -4  18   0 -26 -10  -8 -22 -18  10   2  -4  -8  18   0 -10\n",
      "  14   4  -8 -24 -12   2  -6 -34   6   0  12 -26  12   2  10 -28  -6 -18\n",
      "  24  16  34 -12 -24  12  -8  16 -18   8 -22  -4 -10  12 -22   6  -6  18\n",
      " -20  -2  26  10   4   4 -12  14 -12  -2   4 -18  -6  16   6  10 -12  16\n",
      "   4   4 -14   4  -2 -12  14  -4   2  -6  10  12 -24 -24   6  -2  24  -6\n",
      "   0   8   8   4  -4 -14  26   4  18  10  10  -8   2   0 -18   6  12   2\n",
      "  -8  -2  14 -16   0   8   4  14   8  24   2   8   8 -32  24  -6  10   6\n",
      " -14  18   4   0 -18 -16 -46   4  18  16  24   0   4 -24  10  20  30 -20\n",
      "  18  -2  18  12  12  -6  -6  22   6  22   0  -2  -2  -2  -6  -2 -26  14\n",
      "  22 -20   4 -10 -12   6  14  -8   6 -18  16  -6   6   6  10   8  -8  16\n",
      " -10   8 -20   2  10 -38  10   4 -18   0 -22  10 -20  36 -34   6 -22  -6\n",
      "   0 -10  -2  -6  -6 -32 -10 -22  28 -16 -18  32  24 -18  -6  -8  -6   4\n",
      " -12   0  16  22  18 -16  18   8   4 -14 -10   6  -4   4   0   8  -8 -16\n",
      " -10 -26  -4  -6 -12 -14   4 -28 -10 -18  16   0   2  12  22  10   4 -22\n",
      " -22   2 -14  -6 -10 -10 -14   0  16  -8   2  -2   0 -10 -16 -10  -6   4\n",
      "  12  12  -4 -18  -4 -18  -2  12 -12 -14   6 -34   8  -4  12  12 -12  34\n",
      "  16  14  -4  10  -6  -4  12   4  14   8  -2  20  18 -20   0  14  24   0\n",
      " -16  -4 -28  -8 -18   2 -10 -24 -30  20   6 -18  22 -26 -20   0 -18  -2\n",
      "   4 -14   8 -14  16  -2  12  -2  10  28  10  -2  30  -6   0 -22   6  14\n",
      "  14  -4  16  42   8  -2 -16  18  14  12   0  -4  -2   0  12 -26  24  26\n",
      " -10  24   6  16  -2  12 -10  14  -2  -6] \n",
      "\n",
      "The squared distances covered by the 1000 walkers are \n",
      " [ 196    0  144  100   16   36   64  100  144   36   64    4  196  256\n",
      "    4  400  324  100 1296   64   64  900   36   16    4  144  324   36\n",
      "  400    0   36  576   36   16   64  256   64   16  256    4   36  576\n",
      "   16   16   36    4   64    4  100  100  576   36  256   16  100   16\n",
      "  256  196  100  676  256   16    0   16  196  324  144   36  100    0\n",
      "  324  100  144  324   16  100  576  144  484  144  100   16   36  400\n",
      "    4  784   64  900   36    4    4  324  324   64  144    4  144  484\n",
      "    4  100   16  144  144  100    4  196   16   64   16  144   64   16\n",
      "  676    0  196   36   64  576 1296   64  256  100  196  900  144  100\n",
      "  324   36    0  576   16  100  484  576   64   36  196  196  196 1156\n",
      "  144  324   36    0   64   64    0  100   16    0   64  576   64   64\n",
      "  784  100   16  324  100  100  144  100  324    4   64   64    4   36\n",
      "  256   64  144   36 1444    4   16  400   36 1444  144    4    4  324\n",
      "    4   64  144  676  100   64  400  676  100  676  256  324  576    0\n",
      "  400   36  100   64  784  100   36  676  256  196   16    0    4  100\n",
      "  100  400  676  256    4   16   16   64 1024    0  144   64  256   36\n",
      "   64  144 1156  324   16   16  576  400  144    0   36  196    4  256\n",
      "  676   36    4  324    4  784  256  324   64  784  400  484   36  144\n",
      "  484  484  100   16   16  144    0  196  400    4    4  100   36  144\n",
      "  144  784   16 1024   64   16   16    0   36  576   36  324  324   16\n",
      "  256    4  144    4   36  256    4  100   64 1296   16    4   16    4\n",
      "   16   16  144  196  196    4  576   64  144  100    0   36   36  196\n",
      "    0  324   16   36  100   64   16   16  196  256  900  144  484    4\n",
      " 2116  324    0  676  100  144  144  576  324 1156 1024   16  144   36\n",
      "  196    4    4    0    4    4  144  256  784  144  196  784   64   36\n",
      "   64 1024  256  324   16  196  324  784  256  324   64  484  256    0\n",
      "  144    4  196    4   16   16   36    0   16  256 1764 1024   36   64\n",
      "   16   16   64  196  196   16   64  100   36   16  256    4    4   36\n",
      "   16  324    4  324  484    0    4   64   64    4   16  256  256  484\n",
      "    0  400  100   64  324   16 1156   64   36  196   64  144  324 1024\n",
      "   16   36   64   16  400    4   64  256  784    4   64  144    4  100\n",
      "  196  256  100   36  144    4   64   16    4  324    4  100    4   64\n",
      "    4  324  784  196  324   64    0  324   36    0  144    4  144  676\n",
      " 1444  196 1156    4   16  400  256  484   36    4   36   36  324   36\n",
      "    0  144   64  676  100  144  100  100   36   16   36  400    4  100\n",
      "   36  144   36  400   64   64   36   36  144  196  256  676   64  196\n",
      "  144   16  196  144  784   16  100    4    0  900   36  324   36   36\n",
      "  144  400   16   36  324  576  144  196   16   64  576    0   64   16\n",
      "   64   64   16  196    0    4  196    4  256  100   16   64  324 1156\n",
      "    0  576  256   36   36  144 1156   36  100    4  784   64  196    4\n",
      "  484  100  100   36  400   16  196  100  144    4    4  144  256  144\n",
      "  100 1296  676   64  100   64   16  100  400   64  400  256  256  676\n",
      "   16    4    4   16   16   16    4    4  784  196 1444  144    4    4\n",
      "   16  324   64   64   36  400    4  484   36  256  576  576   16  256\n",
      "  144  676  400  144    0    4    0   64    4  484  100  576   16   16\n",
      "   16  400  256   16  324    0  676  100   64  484  324  100    4   16\n",
      "   64  324    0  100  196   16   64  576  144    4   36 1156   36    0\n",
      "  144  676  144    4  100  784   36  324  576  256 1156  144  576  144\n",
      "   64  256  324   64  484   16  100  144  484   36   36  324  400    4\n",
      "  676  100   16   16  144  196  144    4   16  324   36  256   36  100\n",
      "  144  256   16   16  196   16    4  144  196   16    4   36  100  144\n",
      "  576  576   36    4  576   36    0   64   64   16   16  196  676   16\n",
      "  324  100  100   64    4    0  324   36  144    4   64    4  196  256\n",
      "    0   64   16  196   64  576    4   64   64 1024  576   36  100   36\n",
      "  196  324   16    0  324  256 2116   16  324  256  576    0   16  576\n",
      "  100  400  900  400  324    4  324  144  144   36   36  484   36  484\n",
      "    0    4    4    4   36    4  676  196  484  400   16  100  144   36\n",
      "  196   64   36  324  256   36   36   36  100   64   64  256  100   64\n",
      "  400    4  100 1444  100   16  324    0  484  100  400 1296 1156   36\n",
      "  484   36    0  100    4   36   36 1024  100  484  784  256  324 1024\n",
      "  576  324   36   64   36   16  144    0  256  484  324  256  324   64\n",
      "   16  196  100   36   16   16    0   64   64  256  100  676   16   36\n",
      "  144  196   16  784  100  324  256    0    4  144  484  100   16  484\n",
      "  484    4  196   36  100  100  196    0  256   64    4    4    0  100\n",
      "  256  100   36   16  144  144   16  324   16  324    4  144  144  196\n",
      "   36 1156   64   16  144  144  144 1156  256  196   16  100   36   16\n",
      "  144   16  196   64    4  400  324  400    0  196  576    0  256   16\n",
      "  784   64  324    4  100  576  900  400   36  324  484  676  400    0\n",
      "  324    4   16  196   64  196  256    4  144    4  100  784  100    4\n",
      "  900   36    0  484   36  196  196   16  256 1764   64    4  256  324\n",
      "  196  144    0   16    4    0  144  676  576  676  100  576   36  256\n",
      "    4  144  100  196    4   36] \n",
      "\n"
     ]
    },
    {
     "name": "stdout",
     "output_type": "stream",
     "text": [
      "Mean of the squared distances at each step (position[i] = mean (along walkers) of squared distance (distance up to step i)\n",
      "\n",
      " [0.0, 0.0, 1.0, 2.1, 3.216, 4.16, 5.024, 5.884, 6.72, 7.908, 8.784, 9.58, 10.424, 11.224, 12.136, 13.16, 14.328, 15.184, 16.328, 17.88, 18.072, 18.664, 19.416, 20.692, 21.696, 22.524, 23.832, 24.76, 25.992, 27.616, 28.72, 29.548, 30.808, 32.288, 33.328, 34.132, 35.424, 36.404, 37.552, 38.784, 39.336, 40.088, 41.464, 42.468, 43.328, 44.592, 46.464, 46.98, 47.64, 48.784, 50.096, 51.768, 53.336, 55.248, 55.84, 56.56, 57.76, 58.652, 59.392, 59.992, 61.336, 61.88, 63.368, 63.996, 65.424, 67.016, 67.936, 68.868, 69.76, 71.36, 72.152, 72.98, 75.264, 76.144, 78.072, 79.008, 79.728, 80.652, 81.856, 81.7, 83.224, 83.92, 84.368, 84.496, 86.224, 87.216, 88.736, 89.252, 90.136, 90.968, 91.848, 93.128, 94.744, 96.244, 97.864, 98.928, 99.464, 100.996, 101.8, 102.916, 104.112, 104.508, 105.24, 106.068, 107.192, 108.288, 108.816, 110.24, 111.864, 113.54, 114.368, 115.072, 116.112, 116.292, 117.136, 118.636, 120.456, 120.784, 122.216, 124.2, 126.224, 127.156, 128.592, 130.208, 131.128, 132.664, 133.616, 135.864, 136.232, 136.2, 137.688, 138.964, 138.192, 138.884, 140.04, 142.428, 142.672, 141.856, 143.16, 145.74, 146.024, 147.004, 150.136, 151.052, 152.216, 152.952, 154.8, 156.288, 158.296, 158.512, 159.648, 160.584, 162.6, 163.892, 165.512, 166.316, 166.76, 166.848, 168.56, 169.872, 170.904, 171.472, 173.712, 173.052, 172.856, 173.712, 176.136, 178.1, 179.416, 180.272, 181.8, 182.14, 182.68, 183.524, 184.752, 184.56, 184.944, 186.488, 187.072, 187.524, 189.584, 191.128, 192.768, 194.092, 196.192, 198.188, 199.088, 200.04, 199.616, 201.724, 202.712, 204.596, 206.376, 206.616, 207.184, 208.02, 207.944, 207.664, 208.416, 210.98]\n"
     ]
    },
    {
     "data": {
      "text/plain": [
       "[<matplotlib.lines.Line2D at 0x148d0bca190>]"
      ]
     },
     "execution_count": 90,
     "metadata": {},
     "output_type": "execute_result"
    },
    {
     "data": {
      "image/png": "[encoded data removed]",
      "text/plain": [
       "<Figure size 576x360 with 1 Axes>"
      ]
     },
     "metadata": {
      "needs_background": "light"
     },
     "output_type": "display_data"
    }
   ],
   "source": [
    "import numpy as np\n",
    "import math\n",
    "import numpy.random as npr\n",
    "\n",
    "step = np.array([-1, 1])\n",
    "matrix = npr.choice(step, size = (1000, 200)) #create the 2d array (walkers, steps)\n",
    "\n",
    "distance = np.sum(matrix, axis = 1) #calculate the walking distances\n",
    "d_squared = distance*distance\n",
    "print(\"The distances covered by the 1000 walkers are \\n\", distance, \"\\n\")\n",
    "print(\"The squared distances covered by the 1000 walkers are \\n\", d_squared, \"\\n\")\n",
    "\n",
    "\n",
    "mean_sqd = []\n",
    "for j in range(0, 200):\n",
    "    mds = []\n",
    "    index = range(1, j)\n",
    "    for i in range(0,1000):\n",
    "        s = matrix[(i, index)].sum()\n",
    "        mds.append(s*s)\n",
    "    M = np.array(mds)\n",
    "    mean_sqd.append(M.mean())\n",
    "print(\"Mean of the squared distances at each step (position[i] = mean (along walkers) of squared distance (distance up to step i)\\n\\n\",mean_sqd)\n",
    "\n",
    "sqrt = np.vectorize(math.sqrt)\n",
    "mean_distance = sqrt(mean_sqd)\n",
    "\n",
    "fig = plt.figure(figsize=(8, 5))\n",
    "plt.xlabel(\"steps\")\n",
    "plt.ylabel(\"average distance\")\n",
    "plt.plot(range(200), mean_distance, 'ko')"
   ]
  },
  {
   "cell_type": "code",
   "execution_count": null,
   "metadata": {},
   "outputs": [],
   "source": []
  },
  {
   "cell_type": "code",
   "execution_count": null,
   "metadata": {},
   "outputs": [],
   "source": []
  }
 ],
 "metadata": {
  "kernelspec": {
   "display_name": "Python 3 (ipykernel)",
   "language": "python",
   "name": "python3"
  },
  "language_info": {
   "codemirror_mode": {
    "name": "ipython",
    "version": 3
   },
   "file_extension": ".py",
   "mimetype": "text/x-python",
   "name": "python",
   "nbconvert_exporter": "python",
   "pygments_lexer": "ipython3",
   "version": "3.9.12"
  }
 },
 "nbformat": 4,
 "nbformat_minor": 2
}
