{
 "cells": [
  {
   "cell_type": "markdown",
   "metadata": {},
   "source": [
    "1\\. **Reductions**\n",
    "\n",
    "Find the total mean, and the mean for each row and column of the following matrix:\n",
    "\n",
    "```python\n",
    "m = np.arange(12).reshape((3,4))\n",
    "```"
   ]
  },
  {
   "cell_type": "code",
   "execution_count": 1,
   "metadata": {},
   "outputs": [
    {
     "name": "stdout",
     "output_type": "stream",
     "text": [
      "[[ 0  1  2  3]\n",
      " [ 4  5  6  7]\n",
      " [ 8  9 10 11]]\n",
      "Total mean: 5.5\n",
      "The mean for each column:  [4. 5. 6. 7.]\n",
      "The mean for each row:  [1.5 5.5 9.5]\n"
     ]
    }
   ],
   "source": [
    "import numpy as np\n",
    "\n",
    "m = np.arange(12).reshape((3,4))\n",
    "print(m)\n",
    "\n",
    "print(\"Total mean:\", m.mean())\n",
    "\n",
    "print(\"The mean for each column: \",m.mean(axis=0))\n",
    "\n",
    "print(\"The mean for each row: \",m.mean(axis=1))"
   ]
  },
  {
   "cell_type": "markdown",
   "metadata": {},
   "source": [
    "2\\. **Outer product**\n",
    "\n",
    "Find the outer product of the following vectors:\n",
    "\n",
    "```python\n",
    "u = np.array([1, 3, 5, 7])\n",
    "v = np.array([2, 4, 6, 8])\n",
    "```\n",
    "\n",
    "Use different methods to do this:\n",
    "\n",
    "   1. Using the function `outer` in numpy\n",
    "   2. Using a nested `for` loop or a list comprehension\n",
    "   3. Using numpy broadcasting operations"
   ]
  },
  {
   "cell_type": "code",
   "execution_count": 2,
   "metadata": {},
   "outputs": [
    {
     "name": "stdout",
     "output_type": "stream",
     "text": [
      "outer product of u and v according to function outer in numpy is:\n",
      " [[ 2  4  6  8]\n",
      " [ 6 12 18 24]\n",
      " [10 20 30 40]\n",
      " [14 28 42 56]]\n",
      "outer product of u and v according to list comprehension is:\n",
      " [[2, 4, 6, 8], [6, 12, 18, 24], [10, 20, 30, 40], [14, 28, 42, 56]]\n",
      "outer product of u and v according to broadcasting operations is:\n",
      " [[ 2  4  6  8]\n",
      " [ 6 12 18 24]\n",
      " [10 20 30 40]\n",
      " [14 28 42 56]]\n"
     ]
    }
   ],
   "source": [
    "#1. Using the function outer in numpy\n",
    "\n",
    "import numpy as np\n",
    "u = np.array([1, 3, 5, 7])\n",
    "v = np.array([2, 4, 6, 8])\n",
    "\n",
    "ans1 = np.outer(u, v)\n",
    "\n",
    "print(\"outer product of u and v according to function outer in numpy is:\\n\", ans1)\n",
    "\n",
    "#2. Using a nested for loop or a list comprehension\n",
    "\n",
    "ans2 = ([[i * j for j in v] for i in u])\n",
    "print(\"outer product of u and v according to list comprehension is:\\n\", ans2)\n",
    "\n",
    "#3. Using numpy broadcasting operations\n",
    "\n",
    "ans3 = u[:,None] * v[None,:]\n",
    "print(\"outer product of u and v according to broadcasting operations is:\\n\", ans3)\n"
   ]
  },
  {
   "cell_type": "markdown",
   "metadata": {},
   "source": [
    "3\\. **Matrix masking**\n",
    "\n",
    "Create a 10 by 6 matrix of float random numbers, distributed between 0 and 3 according to a flat distribution.\n",
    "\n",
    "After creating the matrix, set all entries $< 0.3$ to zero using a mask."
   ]
  },
  {
   "cell_type": "code",
   "execution_count": 3,
   "metadata": {},
   "outputs": [
    {
     "name": "stdout",
     "output_type": "stream",
     "text": [
      "a 10 by 6 matrix of float random numbers: \n",
      " [[2.00296665 1.26123984 2.90307621 2.8699589  2.57101208 1.67878035]\n",
      " [1.66746816 2.96228864 0.39096704 1.81622976 0.32546047 0.73570683]\n",
      " [0.05055295 2.05372619 2.40064019 2.12389737 2.22700032 2.6208533 ]\n",
      " [1.09887932 1.45765335 0.96637354 2.0251837  0.0335607  1.55127894]\n",
      " [1.06791833 2.35983065 0.43950396 2.80981603 2.53058348 0.59883499]\n",
      " [2.01207071 2.6060173  1.83973619 1.80570445 0.57483688 0.64250249]\n",
      " [0.75141215 0.79803428 0.80102956 2.64891929 1.46215177 0.68449524]\n",
      " [1.37382804 2.7100821  0.13179676 2.3906613  0.01445867 2.56206724]\n",
      " [2.41382015 2.52705602 2.73475739 2.68706628 2.29242938 2.59625262]\n",
      " [1.5918497  2.76020984 1.58071166 2.39163051 2.21356995 2.14171796]]\n",
      "[[2.00296665 1.26123984 2.90307621 2.8699589  2.57101208 1.67878035]\n",
      " [1.66746816 2.96228864 0.39096704 1.81622976 0.32546047 0.73570683]\n",
      " [0.         0.         0.         0.         0.         0.        ]\n",
      " [0.         0.         0.         0.         0.         0.        ]\n",
      " [1.06791833 2.35983065 0.43950396 2.80981603 2.53058348 0.59883499]\n",
      " [2.01207071 2.6060173  1.83973619 1.80570445 0.57483688 0.64250249]\n",
      " [0.75141215 0.79803428 0.80102956 2.64891929 1.46215177 0.68449524]\n",
      " [0.         0.         0.         0.         0.         0.        ]\n",
      " [2.41382015 2.52705602 2.73475739 2.68706628 2.29242938 2.59625262]\n",
      " [1.5918497  2.76020984 1.58071166 2.39163051 2.21356995 2.14171796]]\n"
     ]
    }
   ],
   "source": [
    "import numpy.ma as ma\n",
    "arr = np.random.uniform(0,3,(10,6))\n",
    "print(\"a 10 by 6 matrix of float random numbers: \\n\", arr)\n",
    "\n",
    "arr[(arr < 0.3).any(axis=1), :] = 0\n",
    "print(arr)"
   ]
  },
  {
   "cell_type": "markdown",
   "metadata": {},
   "source": [
    "4\\. **Trigonometric functions**\n",
    "\n",
    "Use `np.linspace` to create an array of 100 numbers between $0$ and $2\\pi$ (inclusive).\n",
    "\n",
    "  * Extract every 10th element using the slice notation\n",
    "  * Reverse the array using the slice notation\n",
    "  * Extract elements where the absolute difference between the `sin` and `cos` functions evaluated for that element is $< 0.1$\n",
    "  * **Optional**: make a plot showing the sin and cos functions and indicate where they are close"
   ]
  },
  {
   "cell_type": "code",
   "execution_count": 4,
   "metadata": {},
   "outputs": [
    {
     "name": "stdout",
     "output_type": "stream",
     "text": [
      "Array of 100 numbers between 0 and 2*pi: \n",
      " [0.         0.06346652 0.12693304 0.19039955 0.25386607 0.31733259\n",
      " 0.38079911 0.44426563 0.50773215 0.57119866 0.63466518 0.6981317\n",
      " 0.76159822 0.82506474 0.88853126 0.95199777 1.01546429 1.07893081\n",
      " 1.14239733 1.20586385 1.26933037 1.33279688 1.3962634  1.45972992\n",
      " 1.52319644 1.58666296 1.65012947 1.71359599 1.77706251 1.84052903\n",
      " 1.90399555 1.96746207 2.03092858 2.0943951  2.15786162 2.22132814\n",
      " 2.28479466 2.34826118 2.41172769 2.47519421 2.53866073 2.60212725\n",
      " 2.66559377 2.72906028 2.7925268  2.85599332 2.91945984 2.98292636\n",
      " 3.04639288 3.10985939 3.17332591 3.23679243 3.30025895 3.36372547\n",
      " 3.42719199 3.4906585  3.55412502 3.61759154 3.68105806 3.74452458\n",
      " 3.8079911  3.87145761 3.93492413 3.99839065 4.06185717 4.12532369\n",
      " 4.1887902  4.25225672 4.31572324 4.37918976 4.44265628 4.5061228\n",
      " 4.56958931 4.63305583 4.69652235 4.75998887 4.82345539 4.88692191\n",
      " 4.95038842 5.01385494 5.07732146 5.14078798 5.2042545  5.26772102\n",
      " 5.33118753 5.39465405 5.45812057 5.52158709 5.58505361 5.64852012\n",
      " 5.71198664 5.77545316 5.83891968 5.9023862  5.96585272 6.02931923\n",
      " 6.09278575 6.15625227 6.21971879 6.28318531]\n",
      "Every 10th element using the slice notation: \n",
      " [0.63466518 1.26933037 1.90399555 2.53866073 3.17332591 3.8079911\n",
      " 4.44265628 5.07732146 5.71198664]\n",
      "Reversed array using the slice notation: \n",
      " [6.28318531 6.21971879 6.15625227 6.09278575 6.02931923 5.96585272\n",
      " 5.9023862  5.83891968 5.77545316 5.71198664 5.64852012 5.58505361\n",
      " 5.52158709 5.45812057 5.39465405 5.33118753 5.26772102 5.2042545\n",
      " 5.14078798 5.07732146 5.01385494 4.95038842 4.88692191 4.82345539\n",
      " 4.75998887 4.69652235 4.63305583 4.56958931 4.5061228  4.44265628\n",
      " 4.37918976 4.31572324 4.25225672 4.1887902  4.12532369 4.06185717\n",
      " 3.99839065 3.93492413 3.87145761 3.8079911  3.74452458 3.68105806\n",
      " 3.61759154 3.55412502 3.4906585  3.42719199 3.36372547 3.30025895\n",
      " 3.23679243 3.17332591 3.10985939 3.04639288 2.98292636 2.91945984\n",
      " 2.85599332 2.7925268  2.72906028 2.66559377 2.60212725 2.53866073\n",
      " 2.47519421 2.41172769 2.34826118 2.28479466 2.22132814 2.15786162\n",
      " 2.0943951  2.03092858 1.96746207 1.90399555 1.84052903 1.77706251\n",
      " 1.71359599 1.65012947 1.58666296 1.52319644 1.45972992 1.3962634\n",
      " 1.33279688 1.26933037 1.20586385 1.14239733 1.07893081 1.01546429\n",
      " 0.95199777 0.88853126 0.82506474 0.76159822 0.6981317  0.63466518\n",
      " 0.57119866 0.50773215 0.44426563 0.38079911 0.31733259 0.25386607\n",
      " 0.19039955 0.12693304 0.06346652 0.        ]\n",
      "Elements where the absolute difference between the sin and cos functions evaluated for that element is  <0.1: \n",
      " [0.76159822 0.82506474 3.87145761 3.93492413]\n"
     ]
    },
    {
     "data": {
      "image/png": "[encoded data removed]",
      "text/plain": [
       "<Figure size 432x288 with 1 Axes>"
      ]
     },
     "metadata": {
      "needs_background": "light"
     },
     "output_type": "display_data"
    }
   ],
   "source": [
    "import numpy as np \n",
    "import matplotlib.pyplot as plt\n",
    "pi = np.pi\n",
    "array = np.linspace(0, 2*pi, 100)\n",
    "print(\"Array of 100 numbers between 0 and 2*pi: \\n\", array)\n",
    "print(\"Every 10th element using the slice notation: \\n\", array[10::10])\n",
    "print(\"Reversed array using the slice notation: \\n\", array[::-1])\n",
    "id = np.abs(np.sin(array)-np.cos(array)) < 0.1\n",
    "print(\"Elements where the absolute difference between the sin and cos functions evaluated for that element is  <0.1: \\n\", array[id])\n",
    "plt.scatter(array[id], np.sin(array[id]))\n",
    "plt.plot(array, np.sin(array), array, np.cos(array));"
   ]
  },
  {
   "cell_type": "markdown",
   "metadata": {},
   "source": [
    "5\\. **Matrices**\n",
    "\n",
    "Create a matrix that shows the 10 by 10 multiplication table.\n",
    "\n",
    " * Find the trace of the matrix\n",
    " * Extract the anti-diagonal matrix (this should be ```array([10, 18, 24, 28, 30, 30, 28, 24, 18, 10])```)\n",
    " * Extract the diagonal offset by 1 upwards (this should be ```array([ 2,  6, 12, 20, 30, 42, 56, 72, 90])```)"
   ]
  },
  {
   "cell_type": "code",
   "execution_count": 5,
   "metadata": {},
   "outputs": [
    {
     "name": "stdout",
     "output_type": "stream",
     "text": [
      "[[  1   2   3   4   5   6   7   8   9  10]\n",
      " [  2   4   6   8  10  12  14  16  18  20]\n",
      " [  3   6   9  12  15  18  21  24  27  30]\n",
      " [  4   8  12  16  20  24  28  32  36  40]\n",
      " [  5  10  15  20  25  30  35  40  45  50]\n",
      " [  6  12  18  24  30  36  42  48  54  60]\n",
      " [  7  14  21  28  35  42  49  56  63  70]\n",
      " [  8  16  24  32  40  48  56  64  72  80]\n",
      " [  9  18  27  36  45  54  63  72  81  90]\n",
      " [ 10  20  30  40  50  60  70  80  90 100]]\n",
      "The trace of the matrix: \n",
      " 385\n",
      "Anti-diagonal matrix: \n",
      " [10 18 24 28 30 30 28 24 18 10]\n",
      "Diagonal matrix: \n",
      " [ 2  6 12 20 30 42 56 72 90]\n"
     ]
    }
   ],
   "source": [
    "n = np.arange(1, 11)\n",
    "m = n[:, None] * n[None, :]\n",
    "print(m)\n",
    "print(\"The trace of the matrix: \\n\", m.trace())\n",
    "print(\"Anti-diagonal matrix: \\n\", np.flipud(m).diagonal())\n",
    "print(\"Diagonal matrix: \\n\", m.diagonal(offset=1))\n"
   ]
  },
  {
   "cell_type": "markdown",
   "metadata": {},
   "source": [
    "6\\. **Broadcasting**\n",
    "\n",
    "Use broadcasting to create a grid of distances.\n",
    "\n",
    "Route 66 crosses the following cities in the US: Chicago, Springfield, Saint-Louis, Tulsa, Oklahoma City, Amarillo, Santa Fe, Albuquerque, Flagstaff, Los Angeles.\n",
    "\n",
    "The corresponding positions in miles are: 0, 198, 303, 736, 871, 1175, 1475, 1544, 1913, 2448\n",
    "\n",
    "  * Build a 2D grid of distances among each city along Route 66\n",
    "  * Convert the distances in km"
   ]
  },
  {
   "cell_type": "code",
   "execution_count": 6,
   "metadata": {},
   "outputs": [
    {
     "name": "stdout",
     "output_type": "stream",
     "text": [
      "[[   0  198  303  736  871 1175 1475 1544 1913 2448]\n",
      " [ 198    0  105  538  673  977 1277 1346 1715 2250]\n",
      " [ 303  105    0  433  568  872 1172 1241 1610 2145]\n",
      " [ 736  538  433    0  135  439  739  808 1177 1712]\n",
      " [ 871  673  568  135    0  304  604  673 1042 1577]\n",
      " [1175  977  872  439  304    0  300  369  738 1273]\n",
      " [1475 1277 1172  739  604  300    0   69  438  973]\n",
      " [1544 1346 1241  808  673  369   69    0  369  904]\n",
      " [1913 1715 1610 1177 1042  738  438  369    0  535]\n",
      " [2448 2250 2145 1712 1577 1273  973  904  535    0]]\n",
      "Distances in km: \n",
      " [array([[   0.      ,  318.650112,  487.631232, 1184.477184, 1401.738624,\n",
      "        1890.9792  , 2373.7824  , 2484.827136, 3078.675072, 3939.674112],\n",
      "       [ 318.650112,    0.      ,  168.98112 ,  865.827072, 1083.088512,\n",
      "        1572.329088, 2055.132288, 2166.177024, 2760.02496 , 3621.024   ],\n",
      "       [ 487.631232,  168.98112 ,    0.      ,  696.845952,  914.107392,\n",
      "        1403.347968, 1886.151168, 1997.195904, 2591.04384 , 3452.04288 ],\n",
      "       [1184.477184,  865.827072,  696.845952,    0.      ,  217.26144 ,\n",
      "         706.502016, 1189.305216, 1300.349952, 1894.197888, 2755.196928],\n",
      "       [1401.738624, 1083.088512,  914.107392,  217.26144 ,    0.      ,\n",
      "         489.240576,  972.043776, 1083.088512, 1676.936448, 2537.935488],\n",
      "       [1890.9792  , 1572.329088, 1403.347968,  706.502016,  489.240576,\n",
      "           0.      ,  482.8032  ,  593.847936, 1187.695872, 2048.694912],\n",
      "       [2373.7824  , 2055.132288, 1886.151168, 1189.305216,  972.043776,\n",
      "         482.8032  ,    0.      ,  111.044736,  704.892672, 1565.891712],\n",
      "       [2484.827136, 2166.177024, 1997.195904, 1300.349952, 1083.088512,\n",
      "         593.847936,  111.044736,    0.      ,  593.847936, 1454.846976],\n",
      "       [3078.675072, 2760.02496 , 2591.04384 , 1894.197888, 1676.936448,\n",
      "        1187.695872,  704.892672,  593.847936,    0.      ,  860.99904 ],\n",
      "       [3939.674112, 3621.024   , 3452.04288 , 2755.196928, 2537.935488,\n",
      "        2048.694912, 1565.891712, 1454.846976,  860.99904 ,    0.      ]])]\n"
     ]
    }
   ],
   "source": [
    "m = np.array([0, 198, 303, 736, 871, 1175, 1475, 1544, 1913, 2448])\n",
    "distance_array = np.abs(m - m[:, np.newaxis])\n",
    "print(distance_array)\n",
    "#1 mile=1.609344 km\n",
    "meter = [distance_array * 1.609344]\n",
    "print(\"Distances in km: \\n\", meter)"
   ]
  },
  {
   "cell_type": "markdown",
   "metadata": {},
   "source": [
    "7\\. **Prime numbers sieve**\n",
    "\n",
    "Compute the prime numbers in the 0-N (start with N=99) range with a sieve (mask).\n",
    "\n",
    "  * Constract a shape (N,) boolean array, which is the mask\n",
    "  * Identify the multiples of each number starting from 2 and set accordingly the corresponding mask element\n",
    "  * Apply the mask to obtain an array of ordered prime numbers\n",
    "  * Check the performances (with `timeit`); how does it scale with N?\n",
    "  * Implement the optimization suggested in the [sieve of Eratosthenes](https://en.wikipedia.org/wiki/Sieve_of_Eratosthenes)"
   ]
  },
  {
   "cell_type": "code",
   "execution_count": 7,
   "metadata": {},
   "outputs": [
    {
     "name": "stdout",
     "output_type": "stream",
     "text": [
      "[False False  True  True False  True False  True False False False  True\n",
      " False  True False False False  True False  True False False False  True\n",
      " False False False False False  True False  True False False False False\n",
      " False  True False False False  True False  True False False False  True\n",
      " False False False False False  True False False False False False  True\n",
      " False  True False False False False False  True False False False  True\n",
      " False  True False False False False False  True False False False  True\n",
      " False False False False False  True False False False False False False\n",
      " False  True False False]\n",
      "38.1 ns ± 3.95 ns per loop (mean ± std. dev. of 7 runs, 10,000,000 loops each)\n",
      "2\n",
      "3\n",
      "5\n",
      "7\n",
      "11\n",
      "13\n",
      "17\n",
      "19\n",
      "23\n",
      "29\n",
      "31\n",
      "37\n",
      "41\n",
      "43\n",
      "47\n",
      "53\n",
      "59\n",
      "61\n",
      "67\n",
      "71\n",
      "73\n",
      "79\n",
      "83\n",
      "89\n",
      "97\n",
      "101\n",
      "103\n",
      "107\n",
      "109\n",
      "113\n",
      "127\n",
      "131\n",
      "137\n",
      "139\n",
      "149\n",
      "151\n",
      "157\n",
      "163\n",
      "167\n",
      "173\n",
      "179\n",
      "181\n",
      "191\n",
      "193\n",
      "197\n",
      "199\n",
      "None\n"
     ]
    }
   ],
   "source": [
    "import timeit\n",
    "prime = np.ones((100,), dtype=bool)\n",
    "prime[:2] = 0\n",
    "\n",
    "max = int(np.sqrt(len(prime)))\n",
    "for j in range(2, max):\n",
    "    prime[2*j::j] = False\n",
    "print(prime)\n",
    "%timeit prime\n",
    "\n",
    "#N and timeit are directly proportional. If N is increased, timeit also increases according to the N.\n",
    "\n",
    "def prime_eratosthenes(n):\n",
    "    prime_list = []\n",
    "    for i in range(2, n+1):\n",
    "        if i not in prime_list:\n",
    "            print (i)\n",
    "            for j in range(i*i, n+1, i):\n",
    "                prime_list.append(j)\n",
    "\n",
    "print(prime_eratosthenes(200))"
   ]
  },
  {
   "cell_type": "markdown",
   "metadata": {},
   "source": [
    "8\\. **Diffusion using random walk**\n",
    "\n",
    "Consider a simple random walk process: at each step in time, a walker jumps right or left (+1 or -1) with equal probability. The goal is to find the typical distance from the origin of many random walkers after a given amount of time.\n",
    "\n",
    "*Hint*: create a 2D array where each row represents a walker, and each column represents a time step.\n",
    "\n",
    "  * Take 1000 walkers and let them walk for 200 steps\n",
    "  * Use `randint` to create a 2D array of size $walkers \\times steps$ with values -1 or 1\n",
    "  * Calculate the walking distances for each walker (e.g. by summing the elements in each row)\n",
    "  * Take the square of the previously-obtained array (element-wise)\n",
    "  * Compute the mean of the squared distances at each step (i.e. the mean along the columns)\n",
    "  * **Optional**: plot the average distances ($\\sqrt(distance^2)$) as a function of time (step)"
   ]
  },
  {
   "cell_type": "code",
   "execution_count": 8,
   "metadata": {},
   "outputs": [
    {
     "name": "stdout",
     "output_type": "stream",
     "text": [
      "Walktab: \n",
      " [[-1 -1  1 ...  1  1  1]\n",
      " [-1 -1 -1 ...  1  1 -1]\n",
      " [ 1  1 -1 ...  1 -1  1]\n",
      " ...\n",
      " [ 1  1  1 ... -1 -1  1]\n",
      " [ 1 -1 -1 ...  1  1  1]\n",
      " [-1  1  1 ...  1 -1 -1]]\n",
      "Steps sum: \n",
      " [[ -1  -2  -1 ...   6   7   8]\n",
      " [ -1  -2  -3 ...  10  11  10]\n",
      " [  1   2   1 ...  10   9  10]\n",
      " ...\n",
      " [  1   2   3 ...   0  -1   0]\n",
      " [  1   0  -1 ... -14 -13 -12]\n",
      " [ -1   0   1 ...  24  23  22]]\n",
      "Square of steps sum: \n",
      " [[  1   4   1 ...  36  49  64]\n",
      " [  1   4   9 ... 100 121 100]\n",
      " [  1   4   1 ... 100  81 100]\n",
      " ...\n",
      " [  1   4   9 ...   0   1   0]\n",
      " [  1   0   1 ... 196 169 144]\n",
      " [  1   0   1 ... 576 529 484]]\n",
      "Mean of of the squared distances at each step: \n",
      " [  1.      2.132   3.12    4.208   5.272   6.38    7.408   8.232   9.168\n",
      "  10.476  11.952  12.864  13.808  14.504  15.32   16.46   18.04   19.336\n",
      "  20.12   21.228  21.8    22.316  23.792  24.724  26.056  26.588  28.112\n",
      "  29.588  30.664  31.36   31.88   32.652  33.64   34.596  36.2    37.26\n",
      "  37.936  39.008  39.832  40.588  41.168  42.036  43.848  45.4    47.184\n",
      "  48.108  49.392  50.044  51.176  51.632  52.6    52.788  53.64   53.708\n",
      "  53.688  55.     56.176  57.72   58.792  59.232  60.784  61.428  62.176\n",
      "  62.696  64.408  66.032  67.496  68.792  69.696  69.604  70.52   71.324\n",
      "  72.904  73.46   74.576  74.88   75.904  76.284  77.736  78.496  79.2\n",
      "  80.412  81.536  82.228  83.672  84.708  86.208  88.728  89.88   89.904\n",
      "  90.928  91.436  93.12   93.836  93.784  95.904  96.104  96.232  97.64\n",
      "  98.748  99.744 100.984 102.08  103.74  104.152 106.172 107.256 107.464\n",
      " 108.648 109.128 110.856 111.848 112.72  113.596 114.104 115.676 116.448\n",
      " 116.924 117.32  118.376 119.384 120.608 120.968 123.144 124.104 124.6\n",
      " 125.6   125.516 126.088 126.956 127.368 128.636 130.192 131.396 133.56\n",
      " 134.208 135.8   137.048 139.248 140.424 141.296 141.356 141.88  143.66\n",
      " 144.6   145.476 147.456 148.544 151.688 153.524 154.68  154.68  155.888\n",
      " 157.18  158.944 160.184 161.64  161.204 162.096 164.068 165.464 166.52\n",
      " 166.464 168.9   169.256 170.668 171.976 172.136 173.264 174.104 175.312\n",
      " 175.876 178.776 180.592 181.904 181.552 183.264 184.556 184.8   185.712\n",
      " 187.12  188.424 189.68  191.808 192.16  192.068 193.32  194.    194.232\n",
      " 194.864 195.68  197.28  198.992 200.124 201.104 202.068 203.    203.652\n",
      " 205.496 206.792]\n"
     ]
    },
    {
     "data": {
      "text/plain": [
       "Text(0, 0.5, 'Average Distance')"
      ]
     },
     "execution_count": 8,
     "metadata": {},
     "output_type": "execute_result"
    },
    {
     "data": {
      "image/png": "[encoded data removed]",
      "text/plain": [
       "<Figure size 432x288 with 1 Axes>"
      ]
     },
     "metadata": {
      "needs_background": "light"
     },
     "output_type": "display_data"
    }
   ],
   "source": [
    "walkers = 1000\n",
    "steps = 200\n",
    "walktab = np.random.randint(low=0, high=2, size=(1000,200))\n",
    "walktab[walktab==0]=-1\n",
    "print(\"Walktab: \\n\",walktab)\n",
    "\n",
    "distances = walktab.cumsum(axis=1)\n",
    "print(\"Steps sum: \\n\",distances)\n",
    "\n",
    "sqr = np.square(distances)\n",
    "print(\"Square of steps sum: \\n\", sqr)\n",
    "\n",
    "arrmean=np.mean(sqr,axis=0)\n",
    "print(\"Mean of of the squared distances at each step: \\n\", arrmean)\n",
    "\n",
    "\n",
    "sqrrt = np.sqrt(arrmean)\n",
    "plt.plot(np.arange(1,201),sqrrt)\n",
    "plt.title('The average distances as a function of time')\n",
    "plt.xlabel('Time(steps)')\n",
    "plt.ylabel('Average Distance')"
   ]
  }
 ],
 "metadata": {
  "kernelspec": {
   "display_name": "Python 3 (ipykernel)",
   "language": "python",
   "name": "python3"
  },
  "language_info": {
   "codemirror_mode": {
    "name": "ipython",
    "version": 3
   },
   "file_extension": ".py",
   "mimetype": "text/x-python",
   "name": "python",
   "nbconvert_exporter": "python",
   "pygments_lexer": "ipython3",
   "version": "3.9.12"
  }
 },
 "nbformat": 4,
 "nbformat_minor": 2
}
