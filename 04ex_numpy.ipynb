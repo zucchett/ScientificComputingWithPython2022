{
 "cells": [
  {
   "cell_type": "markdown",
   "metadata": {},
   "source": [
    "1\\. **Reductions**\n",
    "\n",
    "Find the total mean, and the mean for each row and column of the following matrix:\n",
    "\n",
    "```python\n",
    "m = np.arange(12).reshape((3,4))\n",
    "```"
   ]
  },
  {
   "cell_type": "code",
   "execution_count": 1,
   "metadata": {},
   "outputs": [
    {
     "name": "stdout",
     "output_type": "stream",
     "text": [
      "[[ 0  1  2  3]\n",
      " [ 4  5  6  7]\n",
      " [ 8  9 10 11]]\n",
      "5.5\n",
      "[4. 5. 6. 7.]\n",
      "[1.5 5.5 9.5]\n"
     ]
    }
   ],
   "source": [
    "import numpy as np\n",
    "m = np.arange(12).reshape((3,4))\n",
    "print(m)\n",
    "print(np.mean(m)) #mean of the whole matrix\n",
    "print(np.mean(m, axis=0)) #mean of each row\n",
    "print(np.mean(m, axis=1)) #mean of each column"
   ]
  },
  {
   "cell_type": "markdown",
   "metadata": {},
   "source": [
    "2\\. **Outer product**\n",
    "\n",
    "Find the outer product of the following vectors:\n",
    "\n",
    "```python\n",
    "u = np.array([1, 3, 5, 7])\n",
    "v = np.array([2, 4, 6, 8])\n",
    "```\n",
    "\n",
    "Use different methods to do this:\n",
    "\n",
    "   1. Using the function `outer` in numpy\n",
    "   2. Using a nested `for` loop or a list comprehension\n",
    "   3. Using numpy broadcasting operations"
   ]
  },
  {
   "cell_type": "code",
   "execution_count": 2,
   "metadata": {},
   "outputs": [
    {
     "name": "stdout",
     "output_type": "stream",
     "text": [
      "[[ 2  4  6  8]\n",
      " [ 6 12 18 24]\n",
      " [10 20 30 40]\n",
      " [14 28 42 56]]\n",
      "[[ 2  4  6  8]\n",
      " [ 6 12 18 24]\n",
      " [10 20 30 40]\n",
      " [14 28 42 56]]\n",
      "[[ 2  4  6  8]\n",
      " [ 6 12 18 24]\n",
      " [10 20 30 40]\n",
      " [14 28 42 56]]\n",
      "[[ 2  4  6  8]\n",
      " [ 6 12 18 24]\n",
      " [10 20 30 40]\n",
      " [14 28 42 56]]\n"
     ]
    }
   ],
   "source": [
    "u = np.array([1, 3, 5, 7])\n",
    "v = np.array([2, 4, 6, 8])\n",
    "\n",
    "print(np.outer(u,v))\n",
    "\n",
    "print(np.array([u[i]*v[j] for i in range(len(u)) for j in range(len(v))]).reshape(len(u),len(v)))\n",
    "\n",
    "outer_product = np.empty((len(u), len(v)), dtype=int)\n",
    "for i in range(len(u)):\n",
    "    for j in range(len(v)):\n",
    "        outer_product[i, j] = u[i]*v[j]\n",
    "print(outer_product)\n",
    "\n",
    "print(u[:, np.newaxis] * v)"
   ]
  },
  {
   "cell_type": "markdown",
   "metadata": {},
   "source": [
    "3\\. **Matrix masking**\n",
    "\n",
    "Create a 10 by 6 matrix of float random numbers, distributed between 0 and 3 according to a flat distribution.\n",
    "\n",
    "After creating the matrix, set all entries $< 0.3$ to zero using a mask."
   ]
  },
  {
   "cell_type": "code",
   "execution_count": 3,
   "metadata": {},
   "outputs": [
    {
     "name": "stdout",
     "output_type": "stream",
     "text": [
      "[[1.33696715 0.77354461 2.89621507 1.27739046 0.11426446 1.95069816]\n",
      " [2.25243474 1.60346759 1.23414635 0.85957762 0.84520777 2.50635304]\n",
      " [0.20740019 1.89076062 2.40975738 0.15354789 0.41006796 0.38929593]\n",
      " [1.71930318 0.68710566 1.42853692 2.77689109 1.48850673 1.4275283 ]\n",
      " [0.71890662 2.97293665 0.19613824 0.82230405 0.61630602 0.44301232]\n",
      " [1.77528968 2.07170108 2.609868   2.96368899 1.17238549 1.88857602]\n",
      " [1.89670773 1.52730757 0.41041628 1.43147368 0.45913564 2.22559349]\n",
      " [1.54121974 1.36814731 1.50833659 2.64971576 2.10634387 2.90710137]\n",
      " [2.35353501 1.13644407 1.61345714 1.11670271 1.79379937 0.47233162]\n",
      " [0.93356164 2.36182276 1.93065313 0.46427099 1.5856836  0.72636943]]\n",
      "Masked n:\n",
      "[[1.33696715 0.77354461 2.89621507 1.27739046 0.         1.95069816]\n",
      " [2.25243474 1.60346759 1.23414635 0.85957762 0.84520777 2.50635304]\n",
      " [0.         1.89076062 2.40975738 0.         0.41006796 0.38929593]\n",
      " [1.71930318 0.68710566 1.42853692 2.77689109 1.48850673 1.4275283 ]\n",
      " [0.71890662 2.97293665 0.         0.82230405 0.61630602 0.44301232]\n",
      " [1.77528968 2.07170108 2.609868   2.96368899 1.17238549 1.88857602]\n",
      " [1.89670773 1.52730757 0.41041628 1.43147368 0.45913564 2.22559349]\n",
      " [1.54121974 1.36814731 1.50833659 2.64971576 2.10634387 2.90710137]\n",
      " [2.35353501 1.13644407 1.61345714 1.11670271 1.79379937 0.47233162]\n",
      " [0.93356164 2.36182276 1.93065313 0.46427099 1.5856836  0.72636943]]\n"
     ]
    }
   ],
   "source": [
    "import numpy.random as npr\n",
    "n = npr.rand(10, 6)*(3)\n",
    "print(n)\n",
    "print('Masked n:')\n",
    "n[n < 0.3] = 0\n",
    "print(n)"
   ]
  },
  {
   "cell_type": "markdown",
   "metadata": {},
   "source": [
    "4\\. **Trigonometric functions**\n",
    "\n",
    "Use `np.linspace` to create an array of 100 numbers between $0$ and $2\\pi$ (inclusive).\n",
    "\n",
    "  * Extract every 10th element using the slice notation\n",
    "  * Reverse the array using the slice notation\n",
    "  * Extract elements where the absolute difference between the `sin` and `cos` functions evaluated for that element is $< 0.1$\n",
    "  * **Optional**: make a plot showing the sin and cos functions and indicate where they are close"
   ]
  },
  {
   "cell_type": "code",
   "execution_count": 4,
   "metadata": {},
   "outputs": [
    {
     "name": "stdout",
     "output_type": "stream",
     "text": [
      "Created array: \n",
      "  [0.         0.06346652 0.12693304 0.19039955 0.25386607 0.31733259\n",
      " 0.38079911 0.44426563 0.50773215 0.57119866 0.63466518 0.6981317\n",
      " 0.76159822 0.82506474 0.88853126 0.95199777 1.01546429 1.07893081\n",
      " 1.14239733 1.20586385 1.26933037 1.33279688 1.3962634  1.45972992\n",
      " 1.52319644 1.58666296 1.65012947 1.71359599 1.77706251 1.84052903\n",
      " 1.90399555 1.96746207 2.03092858 2.0943951  2.15786162 2.22132814\n",
      " 2.28479466 2.34826118 2.41172769 2.47519421 2.53866073 2.60212725\n",
      " 2.66559377 2.72906028 2.7925268  2.85599332 2.91945984 2.98292636\n",
      " 3.04639288 3.10985939 3.17332591 3.23679243 3.30025895 3.36372547\n",
      " 3.42719199 3.4906585  3.55412502 3.61759154 3.68105806 3.74452458\n",
      " 3.8079911  3.87145761 3.93492413 3.99839065 4.06185717 4.12532369\n",
      " 4.1887902  4.25225672 4.31572324 4.37918976 4.44265628 4.5061228\n",
      " 4.56958931 4.63305583 4.69652235 4.75998887 4.82345539 4.88692191\n",
      " 4.95038842 5.01385494 5.07732146 5.14078798 5.2042545  5.26772102\n",
      " 5.33118753 5.39465405 5.45812057 5.52158709 5.58505361 5.64852012\n",
      " 5.71198664 5.77545316 5.83891968 5.9023862  5.96585272 6.02931923\n",
      " 6.09278575 6.15625227 6.21971879 6.28318531]\n",
      "Sliced array: \n",
      "  [0.57119866 1.20586385 1.84052903 2.47519421 3.10985939 3.74452458\n",
      " 4.37918976 5.01385494 5.64852012 6.28318531]\n",
      "Reversed array: \n",
      "  [6.28318531 5.64852012 5.01385494 4.37918976 3.74452458 3.10985939\n",
      " 2.47519421 1.84052903 1.20586385 0.57119866]\n",
      "Sincos array: \n",
      "  [0.7615982190520711, 0.8250647373064104, 3.8714576135146945, 3.934924131769034]\n"
     ]
    },
    {
     "data": {
      "image/png": "[encoded data removed]",
      "text/plain": [
       "<Figure size 432x288 with 1 Axes>"
      ]
     },
     "metadata": {
      "needs_background": "light"
     },
     "output_type": "display_data"
    }
   ],
   "source": [
    "import math\n",
    "import matplotlib.pyplot as plt\n",
    "\n",
    "new_m = np.linspace(0, 2*math.pi, 100)\n",
    "print(\"Created array: \\n \",new_m)\n",
    "sliced_m = new_m[9::10]\n",
    "print(\"Sliced array: \\n \",sliced_m)\n",
    "reversed_m = sliced_m[::-1]\n",
    "print(\"Reversed array: \\n \",reversed_m)\n",
    "\n",
    "sincos_m = []\n",
    "for i in range(len(new_m)):\n",
    "    if abs((np.sin(new_m[i]) - np.cos(new_m[i]))) < 0.1:\n",
    "        sincos_m.append(new_m[i])\n",
    "print(\"Sincos array: \\n \",sincos_m)\n",
    "\n",
    "y = np.sin(new_m)\n",
    "z = np.cos(new_m)\n",
    "h = np.sin(sincos_m)\n",
    "plt.plot(new_m,y,new_m,z)\n",
    "plt.scatter(sincos_m,h, color='orange', s=40, marker='o')\n",
    "plt.show()"
   ]
  },
  {
   "cell_type": "markdown",
   "metadata": {},
   "source": [
    "5\\. **Matrices**\n",
    "\n",
    "Create a matrix that shows the 10 by 10 multiplication table.\n",
    "\n",
    " * Find the trace of the matrix\n",
    " * Extract the anti-diagonal matrix (this should be ```array([10, 18, 24, 28, 30, 30, 28, 24, 18, 10])```)\n",
    " * Extract the diagonal offset by 1 upwards (this should be ```array([ 2,  6, 12, 20, 30, 42, 56, 72, 90])```)"
   ]
  },
  {
   "cell_type": "code",
   "execution_count": 5,
   "metadata": {},
   "outputs": [
    {
     "name": "stdout",
     "output_type": "stream",
     "text": [
      "[[  1   2   3   4   5   6   7   8   9  10]\n",
      " [  2   4   6   8  10  12  14  16  18  20]\n",
      " [  3   6   9  12  15  18  21  24  27  30]\n",
      " [  4   8  12  16  20  24  28  32  36  40]\n",
      " [  5  10  15  20  25  30  35  40  45  50]\n",
      " [  6  12  18  24  30  36  42  48  54  60]\n",
      " [  7  14  21  28  35  42  49  56  63  70]\n",
      " [  8  16  24  32  40  48  56  64  72  80]\n",
      " [  9  18  27  36  45  54  63  72  81  90]\n",
      " [ 10  20  30  40  50  60  70  80  90 100]]\n",
      "385\n",
      "[10 18 24 28 30 30 28 24 18 10]\n",
      "[ 2  6 12 20 30 42 56 72 90]\n"
     ]
    }
   ],
   "source": [
    "u1 = np.arange(1,11)\n",
    "v1 = np.arange(1,11)\n",
    "multiplication_table = np.outer(u1,v1)\n",
    "print(multiplication_table)\n",
    "print(multiplication_table.trace())\n",
    "print(np.fliplr(multiplication_table).diagonal())\n",
    "print(np.diag(multiplication_table, 1))"
   ]
  },
  {
   "cell_type": "markdown",
   "metadata": {},
   "source": [
    "6\\. **Broadcasting**\n",
    "\n",
    "Use broadcasting to create a grid of distances.\n",
    "\n",
    "Route 66 crosses the following cities in the US: Chicago, Springfield, Saint-Louis, Tulsa, Oklahoma City, Amarillo, Santa Fe, Albuquerque, Flagstaff, Los Angeles.\n",
    "\n",
    "The corresponding positions in miles are: 0, 198, 303, 736, 871, 1175, 1475, 1544, 1913, 2448\n",
    "\n",
    "  * Build a 2D grid of distances among each city along Route 66\n",
    "  * Convert the distances in km"
   ]
  },
  {
   "cell_type": "code",
   "execution_count": 6,
   "metadata": {},
   "outputs": [
    {
     "name": "stdout",
     "output_type": "stream",
     "text": [
      "[[   0  198  303  736  871 1175 1475 1544 1913 2448]\n",
      " [ 198    0  105  538  673  977 1277 1346 1715 2250]\n",
      " [ 303  105    0  433  568  872 1172 1241 1610 2145]\n",
      " [ 736  538  433    0  135  439  739  808 1177 1712]\n",
      " [ 871  673  568  135    0  304  604  673 1042 1577]\n",
      " [1175  977  872  439  304    0  300  369  738 1273]\n",
      " [1475 1277 1172  739  604  300    0   69  438  973]\n",
      " [1544 1346 1241  808  673  369   69    0  369  904]\n",
      " [1913 1715 1610 1177 1042  738  438  369    0  535]\n",
      " [2448 2250 2145 1712 1577 1273  973  904  535    0]]\n",
      "[[   0.       318.66516  487.65426 1184.53312 1401.80482 1891.0685\n",
      "  2373.8945  2484.94448 3078.82046 3939.86016]\n",
      " [ 318.66516    0.       168.9891   865.86796 1083.13966 1572.40334\n",
      "  2055.22934 2166.27932 2760.1553  3621.195  ]\n",
      " [ 487.65426  168.9891     0.       696.87886  914.15056 1403.41424\n",
      "  1886.24024 1997.29022 2591.1662  3452.2059 ]\n",
      " [1184.53312  865.86796  696.87886    0.       217.2717   706.53538\n",
      "  1189.36138 1300.41136 1894.28734 2755.32704]\n",
      " [1401.80482 1083.13966  914.15056  217.2717     0.       489.26368\n",
      "   972.08968 1083.13966 1677.01564 2538.05534]\n",
      " [1891.0685  1572.40334 1403.41424  706.53538  489.26368    0.\n",
      "   482.826    593.87598 1187.75196 2048.79166]\n",
      " [2373.8945  2055.22934 1886.24024 1189.36138  972.08968  482.826\n",
      "     0.       111.04998  704.92596 1565.96566]\n",
      " [2484.94448 2166.27932 1997.29022 1300.41136 1083.13966  593.87598\n",
      "   111.04998    0.       593.87598 1454.91568]\n",
      " [3078.82046 2760.1553  2591.1662  1894.28734 1677.01564 1187.75196\n",
      "   704.92596  593.87598    0.       861.0397 ]\n",
      " [3939.86016 3621.195   3452.2059  2755.32704 2538.05534 2048.79166\n",
      "  1565.96566 1454.91568  861.0397     0.     ]]\n"
     ]
    }
   ],
   "source": [
    "mil = np.array([0, 198, 303, 736, 871, 1175, 1475, 1544, 1913, 2448])\n",
    "dist_mil = np.abs(mil - mil[:, np.newaxis])\n",
    "print(dist_mil)\n",
    "km = 1.60942\n",
    "dist_km = km * dist_mil\n",
    "print(dist_km)"
   ]
  },
  {
   "cell_type": "markdown",
   "metadata": {},
   "source": [
    "7\\. **Prime numbers sieve**\n",
    "\n",
    "Compute the prime numbers in the 0-N (start with N=99) range with a sieve (mask).\n",
    "\n",
    "  * Constract a shape (N,) boolean array, which is the mask\n",
    "  * Identify the multiples of each number starting from 2 and set accordingly the corresponding mask element\n",
    "  * Apply the mask to obtain an array of ordered prime numbers\n",
    "  * Check the performances (with `timeit`); how does it scale with N?\n",
    "  * Implement the optimization suggested in the [sieve of Eratosthenes](https://en.wikipedia.org/wiki/Sieve_of_Eratosthenes)"
   ]
  },
  {
   "cell_type": "code",
   "execution_count": 7,
   "metadata": {},
   "outputs": [
    {
     "name": "stdout",
     "output_type": "stream",
     "text": [
      "[ 2  3  5  7 11 13 17 19 23 29 31 37 41 43 47 53 59 61 67 71 73 79 83 89\n",
      " 97]\n",
      "60.6 µs ± 145 ns per loop (mean ± std. dev. of 7 runs, 10,000 loops each)\n",
      "[ 2  3  5  7 11 13 17 19 23 29 31 37 41 43 47 53 59 61 67 71 73 79 83 89\n",
      " 97]\n",
      "31.2 µs ± 68.7 ns per loop (mean ± std. dev. of 7 runs, 10,000 loops each)\n"
     ]
    }
   ],
   "source": [
    "def sieve(N):\n",
    "    mask = np.ones(N, dtype=bool)\n",
    "    mask[:2] = False\n",
    "    for i in range(2, N):\n",
    "        mask[2*i::i] = False\n",
    "    return np.arange(N)[mask]\n",
    "N=100\n",
    "print(sieve(N))\n",
    "#%timeit sieve(N)\n",
    "\n",
    "def sieve_er(N):\n",
    "    mask = np.ones(N, dtype=bool)\n",
    "    mask[:2] = False\n",
    "    p = 2\n",
    "    while (p * p <= N):\n",
    "        if (mask[p] == True):\n",
    "            for i in range(p * p, N, p):\n",
    "                mask[i] = False\n",
    "        p += 1\n",
    "    return np.arange(N)[mask]\n",
    "print(sieve_er(N))\n",
    "\n",
    "#%timeit sieve_er(N)\n"
   ]
  },
  {
   "cell_type": "markdown",
   "metadata": {},
   "source": [
    "8\\. **Diffusion using random walk**\n",
    "\n",
    "Consider a simple random walk process: at each step in time, a walker jumps right or left (+1 or -1) with equal probability. The goal is to find the typical distance from the origin of many random walkers after a given amount of time.\n",
    "\n",
    "*Hint*: create a 2D array where each row represents a walker, and each column represents a time step.\n",
    "\n",
    "  * Take 1000 walkers and let them walk for 200 steps\n",
    "  * Use `randint` to create a 2D array of size $walkers \\times steps$ with values -1 or 1\n",
    "  * Calculate the walking distances for each walker (e.g. by summing the elements in each row)\n",
    "  * Take the square of the previously-obtained array (element-wise)\n",
    "  * Compute the mean of the squared distances at each step (i.e. the mean along the columns)\n",
    "  * **Optional**: plot the average distances ($\\sqrt(distance^2)$) as a function of time (step)"
   ]
  },
  {
   "cell_type": "code",
   "execution_count": 8,
   "metadata": {},
   "outputs": [
    {
     "name": "stdout",
     "output_type": "stream",
     "text": [
      "[-24 -14   4   2  10   4  -8  18   4  -2   8  18   2  36   0   0  14  -4\n",
      " -12 -20  22   0  12 -12  12  -6 -18   2   0 -16 -22 -28   0   8   0   0\n",
      "   0  -4   2   2 -12  -6 -12 -18  20   0  -6  12   4  -4   6  16  12 -26\n",
      "  20 -14   0   6   0 -12  10 -16   4 -18  -4  16   6 -18  -2  18 -22  14\n",
      "  16   2   4   2 -28   2  -2   0 -32 -16   2  -2 -16  -6  -2  -4   8  -4\n",
      "   4 -10 -26   8  20  -8  12 -24   4   2   6 -20  12 -12  -4 -14 -10   4\n",
      "  24   0  -8 -14  -2   4 -12 -14 -14  12   2 -12   0   4  16  20  -6  22\n",
      " -10 -20   0   4  20  22  -4 -14  12 -24   4   0 -24  -6  -4  16  32   6\n",
      "   2 -18 -16   6   2  -8   0 -14  -2  24 -22  14   8 -12  -6   2  -6  -6\n",
      "  16 -14 -12  14 -10 -14 -10   0  10   8  20  -6   2   4 -14  24 -12  34\n",
      " -10  -6 -30  -2   4   8 -12  10 -10 -18 -20 -22 -14   8   4  16   0  20\n",
      " -28  16 -10  10  -4   0   4  16   8 -18  10 -10 -14 -12 -12  16  -6 -24\n",
      "   2   6  10  -2 -16   8  -8  -4  -2  18 -10 -20  24  20 -18   0 -12  10\n",
      " -14  26  24   0  12   6  -6 -10   6 -24  -4  24  -8 -16  10   8   4   6\n",
      "   6  16  -2 -14 -24   0 -18  -2  14  -2   4 -26 -18 -18   6 -10  10  16\n",
      "  22  34   0  10 -12   8  -6  -2  14   8 -16  -8   6  -2  -4   6   2 -14\n",
      "  14  16  18   2  10 -18 -16  12  -8   0  12  14  36  -6  12  26   6  -8\n",
      "  -4   2  14  -2   6  32   0 -22   2  30 -10   2  -4  12  -2 -16  24  26\n",
      " -12 -24  24  14 -12 -14 -20   4 -28  28  28   6   6 -18 -10 -14   8  18\n",
      " -12 -12 -10   6  -6  20  10  18 -10   4  10 -24  24   6 -18 -12  16  28\n",
      " -16  14  10 -24  16 -26  -6   2  26  -2  -6  10   2  18   2  22  14 -22\n",
      "   8   8 -16  -8  18 -20  -2   6  10 -12  10  16  30   4 -12  -6  16 -12\n",
      " -24  10   2  42 -32   8 -20 -22 -24 -16 -18 -32  -2  30   8   6  30  -6\n",
      "  10  -8  14  26 -18  16  16 -16  40 -10 -10  16 -10 -18  22 -26   8   4\n",
      "  10  24  12  -2   2   4 -10 -12 -34 -14 -14   0 -14 -16   8   0   8  36\n",
      "  26 -14 -14  24 -24  14   2  38  -4  14  20  10   8  -6  -2  12  10   4\n",
      " -20   6  24   2  22  18   0 -10  24 -10   0  10  10 -10  16   4  -2  -8\n",
      "   8 -18   2  26   2   6  12   6 -30  16 -16 -10   4  34  26  10 -24  26\n",
      "   4   2  -2   2   8  -8  14 -12  18   6 -10 -18  -4  -4   2  -8  14  -6\n",
      "   6 -28  -4   4 -18 -22 -20  -4  -4  -8  12  10  10  10 -20  16  18  16\n",
      "  10   6  10 -18  18  -8   0 -12 -10   6  -2   6   6  -6   4  -6 -12  -6\n",
      "  -6   2 -18   6  14   2 -26 -18  16 -22   4  -8   4 -24   6   8  18   6\n",
      "  12  -4   2  20  -4   6   2  -6   4  20  -4   4   8  -2  -6 -10  10  -6\n",
      " -18  -4  34  10 -24 -14   8  22 -10 -24   2  18 -20   6  -4 -32  -6 -12\n",
      " -20   8  22  12 -30  -4 -22  26  14  10  12  22   0 -32 -16   2   0  18\n",
      "   2  12   4 -20 -14  32 -10 -14  14   6 -16 -22  -2   8 -14  -2  20   2\n",
      "   0 -16 -22  -6   0 -10 -42  -8 -16   0   8  10  10  10  10   8  12   2\n",
      " -18  10  16  16   6  -2  14 -14 -12 -12  16 -16  -6  30  -2  -4   6   2\n",
      " -16  16 -26  -8  -6  16 -16  -6 -14   0  -2  14  32  -4   2 -10 -24  -2\n",
      "   4  -2   4   0  -4  14  16  10   0  -4  14  10  -2 -32  10  12  -8   6\n",
      "   8   4   2  18   2 -16   4   0 -12 -18   0  -8 -16 -22  30   8  22  -6\n",
      " -20 -30 -18   2 -10 -22  10  -6   6  12   6   8 -16  20 -10  20   6   8\n",
      " -12 -14  -4  10 -10  14   8  -4 -16  14  -4  18   4  24  -4 -12   8  -2\n",
      "   2  18  14  16 -12 -24   8  -6  -2  -6   8  12 -36  10 -12   2  -6  12\n",
      "   0   4 -16 -10  -6  12 -26 -10  -6 -18 -28   4 -18   4   0  -8   2   6\n",
      "  16 -12 -18  -4 -22  10  10  -2 -16   0 -28  -2  10  -8   6 -24  20 -14\n",
      "  14 -24  22  -2 -24   6   8 -12   2  -4  14  34  10  16  18  -4   6 -10\n",
      "  18  14 -14 -14  44  16  -4 -10   4 -14  20   0 -10   0  16  -2  20  -6\n",
      " -14   8 -28   0  10   2  -8 -12 -12  12   2  22   2  26 -16   4 -22   8\n",
      " -20  14  -4  -2  24  -8   8 -18   8   6  -4  10  26  18  -6   6  -4  26\n",
      "   2   2 -16  12  -6 -26 -22  -4 -16  14  16 -12   4  24  -6  -2  -6   6\n",
      "  -4   4  -2  -4   8 -14  -6   8 -14   4   6  -4  10 -20 -20  -6  30  -6\n",
      "  12   0   2  20 -34 -26 -14   6  -8  10 -18  24 -18   8  -4  22  14  14\n",
      " -10  -6   8   4 -32 -12   2   0  20 -10 -18  -2 -14  -8 -36 -10 -24 -34\n",
      "  -8   6  18   6 -30 -22  -4  -6 -24  18  -2  34  18  -4  22   2  -4 -34\n",
      "  12  18  -6   6   0   0   8 -16  18  26]\n",
      "[[ -1   0  -1 ... -24 -23 -24]\n",
      " [  1   0  -1 ... -12 -13 -14]\n",
      " [ -1   0   1 ...   6   5   4]\n",
      " ...\n",
      " [  1   0  -1 ... -18 -17 -16]\n",
      " [  1   0   1 ...  20  19  18]\n",
      " [  1   2   1 ...  28  27  26]]\n",
      "[[  1   0   1 ... 576 529 576]\n",
      " [  1   0   1 ... 144 169 196]\n",
      " [  1   0   1 ...  36  25  16]\n",
      " ...\n",
      " [  1   0   1 ... 324 289 256]\n",
      " [  1   0   1 ... 400 361 324]\n",
      " [  1   4   1 ... 784 729 676]]\n",
      "[  1.      2.064   3.048   4.148   5.216   6.2     7.056   7.972   8.704\n",
      "   9.52   10.656  11.688  12.352  13.34   14.248  15.372  16.632  18.352\n",
      "  19.152  20.292  20.992  21.876  23.56   24.948  25.584  26.572  27.6\n",
      "  28.524  29.896  30.696  31.888  32.448  33.048  34.364  35.376  36.088\n",
      "  36.912  37.772  38.776  40.428  40.96   41.336  41.536  42.096  43.08\n",
      "  44.588  45.736  47.152  48.472  49.64   50.424  51.58   51.712  53.552\n",
      "  55.464  57.16   57.608  58.168  60.     61.828  62.664  63.928  65.248\n",
      "  65.912  66.488  67.404  69.904  70.784  71.296  72.088  73.616  74.836\n",
      "  76.32   77.148  78.288  79.464  80.376  82.412  83.392  84.52   85.664\n",
      "  87.052  87.256  88.26   89.448  90.576  91.568  93.204  94.728  96.508\n",
      "  97.912  98.188  98.976  99.908 101.312 103.048 104.2   105.796 107.064\n",
      " 107.768 108.112 109.016 109.728 110.096 111.424 112.136 113.584 114.488\n",
      " 115.176 116.576 118.104 120.02  121.496 121.592 122.784 121.768 122.96\n",
      " 123.752 124.464 125.564 127.192 129.78  129.696 130.336 131.176 131.1\n",
      " 131.944 133.224 134.48  135.344 135.72  136.344 137.    138.568 140.008\n",
      " 139.74  141.544 141.82  142.488 143.404 144.464 145.996 147.952 148.424\n",
      " 148.536 149.856 150.952 150.736 151.24  151.68  153.344 154.532 155.784\n",
      " 157.632 157.92  159.452 159.912 160.96  161.68  163.708 165.48  166.616\n",
      " 167.128 167.42  167.072 167.728 169.136 170.796 172.72  173.968 176.888\n",
      " 177.316 176.696 176.976 177.776 179.576 181.56  184.208 186.    188.832\n",
      " 190.712 190.816 192.672 193.908 195.832 196.776 198.256 198.02  199.624\n",
      " 200.156 200.936 201.572 203.08  204.164 205.664 206.492 208.016 209.476\n",
      " 209.768 211.032]\n"
     ]
    }
   ],
   "source": [
    "walk = npr.randint(0, 2, size=(1000*200, 1))\n",
    "for i in range(len(walk)):\n",
    "    if walk[i] == 0:\n",
    "        walk[i] = -1\n",
    "walk = walk.reshape(1000,200)\n",
    "end_distances = walk.sum(axis=1) #list of distances at the last step\n",
    "distances_step = walk.cumsum(axis=1) #matrix of distances at each step\n",
    "print(end_distances)\n",
    "print(distances_step)\n",
    "\n",
    "distances_squared = np.square(distances_step)\n",
    "print(distances_squared)\n",
    "print(distances_squared.mean(axis=0))"
   ]
  }
 ],
 "metadata": {
  "kernelspec": {
   "display_name": "Python 3 (ipykernel)",
   "language": "python",
   "name": "python3"
  },
  "language_info": {
   "codemirror_mode": {
    "name": "ipython",
    "version": 3
   },
   "file_extension": ".py",
   "mimetype": "text/x-python",
   "name": "python",
   "nbconvert_exporter": "python",
   "pygments_lexer": "ipython3",
   "version": "3.9.12"
  }
 },
 "nbformat": 4,
 "nbformat_minor": 2
}
