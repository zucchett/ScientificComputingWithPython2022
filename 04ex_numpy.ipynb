{
 "cells": [
  {
   "cell_type": "markdown",
   "metadata": {},
   "source": [
    "1\\. **Reductions**\n",
    "\n",
    "Find the total mean, and the mean for each row and column of the following matrix:\n",
    "\n",
    "```python\n",
    "m = np.arange(12).reshape((3,4))\n",
    "```"
   ]
  },
  {
   "cell_type": "code",
   "execution_count": null,
   "metadata": {},
   "outputs": [],
   "source": [
    "import numpy as np\n",
    "m = np.arange(12).reshape((3,4))\n",
    "print (m, '\\n')\n",
    "\n",
    "a = m.mean(axis=0)\n",
    "print (\"mean along the columns:\", a)\n",
    "b = m.mean(axis=1)\n",
    "print(\"mean along the raws:\", b)\n",
    "print(\"the total mean:\", a.mean())"
   ]
  },
  {
   "cell_type": "markdown",
   "metadata": {},
   "source": [
    "2\\. **Outer product**\n",
    "\n",
    "Find the outer product of the following vectors:\n",
    "\n",
    "```python\n",
    "u = np.array([1, 3, 5, 7])\n",
    "v = np.array([2, 4, 6, 8])\n",
    "```\n",
    "\n",
    "Use different methods to do this:\n",
    "\n",
    "   1. Using the function `outer` in numpy\n",
    "   2. Using a nested `for` loop or a list comprehension\n",
    "   3. Using numpy broadcasting operations"
   ]
  },
  {
   "cell_type": "code",
   "execution_count": null,
   "metadata": {},
   "outputs": [],
   "source": [
    "import numpy.random as npr\n",
    "u = np.array([1, 3, 5, 7])\n",
    "v = np.array([2, 4, 6, 8])\n",
    "print ('Using the function outer in numpy:')\n",
    "res = np.outer(u,v)\n",
    "print (res, '\\n')\n",
    "matrixarray=[]\n",
    "print ('Using a nested for loop:')\n",
    "result=0\n",
    "for i in (u):\n",
    "    for j in (v):\n",
    "        result = i*j\n",
    "        matrixarray.append(result)\n",
    "    \n",
    "print(np.reshape(matrixarray,(4,4)),'\\n')\n",
    "\n",
    "print ('Using numpy broadcasting operations:')\n",
    "\n",
    "print(u[:,None] * v[None,:])"
   ]
  },
  {
   "cell_type": "markdown",
   "metadata": {},
   "source": [
    "3\\. **Matrix masking**\n",
    "\n",
    "Create a 10 by 6 matrix of float random numbers, distributed between 0 and 3 according to a flat distribution.\n",
    "\n",
    "After creating the matrix, set all entries $< 0.3$ to zero using a mask."
   ]
  },
  {
   "cell_type": "code",
   "execution_count": null,
   "metadata": {},
   "outputs": [],
   "source": [
    "matrix_random = npr.randn(10, 6)\n",
    "abs_matrix = abs(matrix_random)\n",
    "print (abs_matrix)\n",
    "mask = (abs_matrix > 0.3)\n",
    "print(\"mask:\", mask, '\\n')\n",
    "abs_matrix[abs_matrix > 0.3] = 0\n",
    "print(abs_matrix)"
   ]
  },
  {
   "cell_type": "markdown",
   "metadata": {},
   "source": [
    "4\\. **Trigonometric functions**\n",
    "\n",
    "Use `np.linspace` to create an array of 100 numbers between $0$ and $2\\pi$ (inclusive).\n",
    "\n",
    "  * Extract every 10th element using the slice notation\n",
    "  * Reverse the array using the slice notation\n",
    "  * Extract elements where the absolute difference between the `sin` and `cos` functions evaluated for that element is $< 0.1$\n",
    "  * **Optional**: make a plot showing the sin and cos functions and indicate where they are close"
   ]
  },
  {
   "cell_type": "code",
   "execution_count": null,
   "metadata": {},
   "outputs": [],
   "source": [
    "x = np.linspace(0, 2 * np.pi, 100)\n",
    "print (x, '\\n')\n",
    "print (x[::10], '\\n')\n",
    "print (x[::-1], '\\n')\n",
    "abs_dif = np.abs(np.sin(x)-np.cos(x)) < 0.1\n",
    "print (x[abs_dif])\n",
    "\n",
    "import matplotlib.pyplot as plt\n",
    "plt.scatter(x[abs_dif], np.sin(x[abs_dif]))\n",
    "plt.plot(x, np.sin(x), x, np.cos(x));"
   ]
  },
  {
   "cell_type": "markdown",
   "metadata": {},
   "source": [
    "5\\. **Matrices**\n",
    "\n",
    "Create a matrix that shows the 10 by 10 multiplication table.\n",
    "\n",
    " * Find the trace of the matrix\n",
    " * Extract the anti-diagonal matrix (this should be ```array([10, 18, 24, 28, 30, 30, 28, 24, 18, 10])```)\n",
    " * Extract the diagonal offset by 1 upwards (this should be ```array([ 2,  6, 12, 20, 30, 42, 56, 72, 90])```)"
   ]
  },
  {
   "cell_type": "code",
   "execution_count": null,
   "metadata": {},
   "outputs": [],
   "source": [
    "matrix5 = np.arange(1, 11)\n",
    "mat = matrix5[:, None] * matrix5[None, :]\n",
    "print (mat, \"\\n\")\n",
    "print (\"trace of the matrix:\", mat.trace(), \"\\n\")\n",
    "print (\"anti-diagonal matrix:\", np.flipud(mat).diagonal(), \"\\n\")\n",
    "print (\"diagonal offset by 1 upwards:\", mat.diagonal(offset=1))"
   ]
  },
  {
   "cell_type": "markdown",
   "metadata": {},
   "source": [
    "6\\. **Broadcasting**\n",
    "\n",
    "Use broadcasting to create a grid of distances.\n",
    "\n",
    "Route 66 crosses the following cities in the US: Chicago, Springfield, Saint-Louis, Tulsa, Oklahoma City, Amarillo, Santa Fe, Albuquerque, Flagstaff, Los Angeles.\n",
    "\n",
    "The corresponding positions in miles are: 0, 198, 303, 736, 871, 1175, 1475, 1544, 1913, 2448\n",
    "\n",
    "  * Build a 2D grid of distances among each city along Route 66\n",
    "  * Convert the distances in km"
   ]
  },
  {
   "cell_type": "code",
   "execution_count": null,
   "metadata": {},
   "outputs": [],
   "source": [
    "mileposts = np.array([0, 198, 303, 736, 871, 1175, 1475, 1544, 1913, 2448])\n",
    "distance_array = np.abs(mileposts - mileposts[:, np.newaxis])\n",
    "print (distance_array)\n",
    "\n",
    "#convert miles to km \n",
    "ratio = 1.60934\n",
    "km = distance_array * ratio\n",
    "print('\\n', \"killometers:\", '\\n', km, '\\n')\n",
    "np.set_printoptions(precision=2, floatmode='fixed')"
   ]
  },
  {
   "cell_type": "markdown",
   "metadata": {},
   "source": [
    "7\\. **Prime numbers sieve**\n",
    "\n",
    "Compute the prime numbers in the 0-N (start with N=99) range with a sieve (mask).\n",
    "\n",
    "  * Constract a shape (N,) boolean array, which is the mask\n",
    "  * Identify the multiples of each number starting from 2 and set accordingly the corresponding mask element\n",
    "  * Apply the mask to obtain an array of ordered prime numbers\n",
    "  * Check the performances (with `timeit`); how does it scale with N?\n",
    "  * Implement the optimization suggested in the [sieve of Eratosthenes](https://en.wikipedia.org/wiki/Sieve_of_Eratosthenes)"
   ]
  },
  {
   "cell_type": "code",
   "execution_count": null,
   "metadata": {},
   "outputs": [],
   "source": [
    "def sieve(N):\n",
    "    mask = np.ones(N, dtype=bool)\n",
    "    mask[:2] = False\n",
    "    for i in range(2, N):\n",
    "        mask[2*i::i] = False\n",
    "    return np.arange(N)[mask]\n",
    "N=100\n",
    "print(sieve(N))\n",
    "%timeit sieve(N)\n",
    "\n",
    "def sieve2(N):\n",
    "    mask = np.ones(N, dtype=bool)\n",
    "    mask[:2] = False\n",
    "    p = 2\n",
    "    while (p * p <= N):\n",
    "        if (mask[p] == True):\n",
    "            for i in range(p * p, N, p):\n",
    "                mask[i] = False\n",
    "        p += 1\n",
    "    return np.arange(N)[mask]\n",
    "print(sieve2(N))\n",
    "\n",
    "%timeit sieve2(N)"
   ]
  },
  {
   "cell_type": "markdown",
   "metadata": {},
   "source": [
    "8\\. **Diffusion using random walk**\n",
    "\n",
    "Consider a simple random walk process: at each step in time, a walker jumps right or left (+1 or -1) with equal probability. The goal is to find the typical distance from the origin of many random walkers after a given amount of time.\n",
    "\n",
    "*Hint*: create a 2D array where each row represents a walker, and each column represents a time step.\n",
    "\n",
    "  * Take 1000 walkers and let them walk for 200 steps\n",
    "  * Use `randint` to create a 2D array of size $walkers \\times steps$ with values -1 or 1\n",
    "  * Calculate the walking distances for each walker (e.g. by summing the elements in each row)\n",
    "  * Take the square of the previously-obtained array (element-wise)\n",
    "  * Compute the mean of the squared distances at each step (i.e. the mean along the columns)\n",
    "  * **Optional**: plot the average distances ($\\sqrt(distance^2)$) as a function of time (step)"
   ]
  },
  {
   "cell_type": "code",
   "execution_count": null,
   "metadata": {},
   "outputs": [],
   "source": [
    "walk = npr.randint(0, 2, size=(1000*200, 1))\n",
    "for i in range(len(walk)):\n",
    "    if walk[i] == 0:\n",
    "        walk[i] = -1\n",
    "walk = walk.reshape(1000,200)\n",
    "end_distances = walk.sum(axis=1) #list of distances at the last step\n",
    "distances_step = walk.cumsum(axis=1) #matrix of distances at each step\n",
    "print(end_distances)\n",
    "print(distances_step)\n",
    "\n",
    "distances_squared = np.square(distances_step)\n",
    "print(distances_squared)\n",
    "print(distances_squared.mean(axis=0))"
   ]
  }
 ],
 "metadata": {
  "kernelspec": {
   "display_name": "Python 3 (ipykernel)",
   "language": "python",
   "name": "python3"
  },
  "language_info": {
   "codemirror_mode": {
    "name": "ipython",
    "version": 3
   },
   "file_extension": ".py",
   "mimetype": "text/x-python",
   "name": "python",
   "nbconvert_exporter": "python",
   "pygments_lexer": "ipython3",
   "version": "3.9.13"
  }
 },
 "nbformat": 4,
 "nbformat_minor": 2
}
