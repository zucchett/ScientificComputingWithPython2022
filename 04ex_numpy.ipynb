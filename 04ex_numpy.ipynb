{
 "cells": [
  {
   "cell_type": "markdown",
   "metadata": {},
   "source": [
    "1\\. **Reductions**\n",
    "\n",
    "Find the total mean, and the mean for each row and column of the following matrix:\n",
    "\n",
    "```python\n",
    "m = np.arange(12).reshape((3,4))\n",
    "```"
   ]
  },
  {
   "cell_type": "code",
   "execution_count": 3,
   "metadata": {},
   "outputs": [
    {
     "name": "stdout",
     "output_type": "stream",
     "text": [
      "[[ 0  1  2  3]\n",
      " [ 4  5  6  7]\n",
      " [ 8  9 10 11]]\n",
      "total mean:  5.5\n",
      "row mean:  [1.5 5.5 9.5]\n",
      "column mean:  [4. 5. 6. 7.]\n"
     ]
    }
   ],
   "source": [
    "import pandas as pd\n",
    "import numpy as np\n",
    "\n",
    "m = np.arange(12).reshape((3,4))\n",
    "print(m)\n",
    "\n",
    "mean = np.mean(m)\n",
    "\n",
    "# mean for columns and rows\n",
    "mean_column = np.mean(m, axis=0)\n",
    "mean_row = np.mean(m, axis=1)\n",
    "\n",
    "print('total mean: ',mean)\n",
    "print('row mean: ', mean_row)\n",
    "print('column mean: ',mean_column)"
   ]
  },
  {
   "cell_type": "markdown",
   "metadata": {},
   "source": [
    "2\\. **Outer product**\n",
    "\n",
    "Find the outer product of the following vectors:\n",
    "\n",
    "```python\n",
    "u = np.array([1, 3, 5, 7])\n",
    "v = np.array([2, 4, 6, 8])\n",
    "```\n",
    "\n",
    "Use different methods to do this:\n",
    "\n",
    "   1. Using the function `outer` in numpy\n",
    "   2. Using a nested `for` loop or a list comprehension\n",
    "   3. Using numpy broadcasting operations"
   ]
  },
  {
   "cell_type": "code",
   "execution_count": 9,
   "metadata": {},
   "outputs": [
    {
     "name": "stdout",
     "output_type": "stream",
     "text": [
      "result for 1\n",
      "[[ 2  4  6  8]\n",
      " [ 6 12 18 24]\n",
      " [10 20 30 40]\n",
      " [14 28 42 56]]\n",
      "result for 2\n",
      "[[2, 4, 6, 8], [6, 12, 18, 24], [10, 20, 30, 40], [14, 28, 42, 56]]\n",
      "result for 3\n",
      "[[ 2  4  6  8]\n",
      " [ 6 12 18 24]\n",
      " [10 20 30 40]\n",
      " [14 28 42 56]]\n"
     ]
    }
   ],
   "source": [
    "u = np.array([1, 3, 5, 7])\n",
    "v = np.array([2, 4, 6, 8])\n",
    "\n",
    "# 1 - outer\n",
    "\n",
    "result1 = np.outer(u,v)\n",
    "print('result for 1')\n",
    "print( result1 )\n",
    "\n",
    "#2 for loop\n",
    "\n",
    "result2 = []\n",
    "for i in range(len(u)):\n",
    "    row = []\n",
    "    for j in range(len(v)):\n",
    "        row.append(u[i] * v[j])\n",
    "    result2.append(row)\n",
    "\n",
    "print('result for 2')\n",
    "print( result2 )\n",
    "\n",
    "\n",
    "#3 broadcasting\n",
    "\n",
    "u_v = u * v.reshape(4,1)\n",
    "print('result for 3')\n",
    "result3 = u_v.transpose()\n",
    "print(result3)"
   ]
  },
  {
   "cell_type": "markdown",
   "metadata": {},
   "source": [
    "3\\. **Matrix masking**\n",
    "\n",
    "Create a 10 by 6 matrix of float random numbers, distributed between 0 and 3 according to a flat distribution.\n",
    "\n",
    "After creating the matrix, set all entries $< 0.3$ to zero using a mask."
   ]
  },
  {
   "cell_type": "code",
   "execution_count": 13,
   "metadata": {},
   "outputs": [
    {
     "name": "stdout",
     "output_type": "stream",
     "text": [
      "[[0.         0.05555556 0.11111111 0.16666667 0.22222222 0.27777778\n",
      "  0.33333333 0.38888889 0.44444444 0.5       ]\n",
      " [0.5        0.55555556 0.61111111 0.66666667 0.72222222 0.77777778\n",
      "  0.83333333 0.88888889 0.94444444 1.        ]\n",
      " [1.         1.05555556 1.11111111 1.16666667 1.22222222 1.27777778\n",
      "  1.33333333 1.38888889 1.44444444 1.5       ]\n",
      " [1.5        1.55555556 1.61111111 1.66666667 1.72222222 1.77777778\n",
      "  1.83333333 1.88888889 1.94444444 2.        ]\n",
      " [2.         2.05555556 2.11111111 2.16666667 2.22222222 2.27777778\n",
      "  2.33333333 2.38888889 2.44444444 2.5       ]\n",
      " [2.5        2.55555556 2.61111111 2.66666667 2.72222222 2.77777778\n",
      "  2.83333333 2.88888889 2.94444444 3.        ]]\n",
      "[[0.         0.         0.         0.16666667 0.22222222 0.27777778\n",
      "  0.33333333 0.38888889 0.44444444 0.5       ]\n",
      " [0.         0.         0.         0.66666667 0.72222222 0.77777778\n",
      "  0.83333333 0.88888889 0.94444444 1.        ]\n",
      " [0.         0.         0.         1.16666667 1.22222222 1.27777778\n",
      "  1.33333333 1.38888889 1.44444444 1.5       ]\n",
      " [0.         0.         0.         1.66666667 1.72222222 1.77777778\n",
      "  1.83333333 1.88888889 1.94444444 2.        ]\n",
      " [0.         0.         0.         2.16666667 2.22222222 2.27777778\n",
      "  2.33333333 2.38888889 2.44444444 2.5       ]\n",
      " [0.         0.         0.         2.66666667 2.72222222 2.77777778\n",
      "  2.83333333 2.88888889 2.94444444 3.        ]]\n"
     ]
    }
   ],
   "source": [
    "start = np.linspace(0, 0.5,10)\n",
    "end = np.linspace(2.5, 3,10)\n",
    "\n",
    "matrix = np.linspace(start,end,6)\n",
    "print(matrix)\n",
    "\n",
    "for i in range(0,3):\n",
    "    matrix[:,i] = [0]\n",
    "\n",
    "print('result after mask')\n",
    "print(matrix)"
   ]
  },
  {
   "cell_type": "markdown",
   "metadata": {},
   "source": [
    "4\\. **Trigonometric functions**\n",
    "\n",
    "Use `np.linspace` to create an array of 100 numbers between $0$ and $2\\pi$ (inclusive).\n",
    "\n",
    "  * Extract every 10th element using the slice notation\n",
    "  * Reverse the array using the slice notation\n",
    "  * Extract elements where the absolute difference between the `sin` and `cos` functions evaluated for that element is $< 0.1$\n",
    "  * **Optional**: make a plot showing the sin and cos functions and indicate where they are close"
   ]
  },
  {
   "cell_type": "code",
   "execution_count": 8,
   "metadata": {},
   "outputs": [
    {
     "name": "stdout",
     "output_type": "stream",
     "text": [
      "[0.         0.06346652 0.12693304 0.19039955 0.25386607 0.31733259\n",
      " 0.38079911 0.44426563 0.50773215 0.57119866 0.63466518 0.6981317\n",
      " 0.76159822 0.82506474 0.88853126 0.95199777 1.01546429 1.07893081\n",
      " 1.14239733 1.20586385 1.26933037 1.33279688 1.3962634  1.45972992\n",
      " 1.52319644 1.58666296 1.65012947 1.71359599 1.77706251 1.84052903\n",
      " 1.90399555 1.96746207 2.03092858 2.0943951  2.15786162 2.22132814\n",
      " 2.28479466 2.34826118 2.41172769 2.47519421 2.53866073 2.60212725\n",
      " 2.66559377 2.72906028 2.7925268  2.85599332 2.91945984 2.98292636\n",
      " 3.04639288 3.10985939 3.17332591 3.23679243 3.30025895 3.36372547\n",
      " 3.42719199 3.4906585  3.55412502 3.61759154 3.68105806 3.74452458\n",
      " 3.8079911  3.87145761 3.93492413 3.99839065 4.06185717 4.12532369\n",
      " 4.1887902  4.25225672 4.31572324 4.37918976 4.44265628 4.5061228\n",
      " 4.56958931 4.63305583 4.69652235 4.75998887 4.82345539 4.88692191\n",
      " 4.95038842 5.01385494 5.07732146 5.14078798 5.2042545  5.26772102\n",
      " 5.33118753 5.39465405 5.45812057 5.52158709 5.58505361 5.64852012\n",
      " 5.71198664 5.77545316 5.83891968 5.9023862  5.96585272 6.02931923\n",
      " 6.09278575 6.15625227 6.21971879 6.28318531]\n",
      "After every 10th element is extracted\n",
      "[0.63466518 1.26933037 1.90399555 2.53866073 3.17332591 3.8079911\n",
      " 4.44265628 5.07732146 5.71198664]\n",
      "Reverse array\n",
      "[5.71198664 5.07732146 4.44265628 3.8079911  3.17332591 2.53866073\n",
      " 1.90399555 1.26933037 0.63466518]\n",
      "Extracted elements that |sin-cos| < 0.1\n",
      "[]\n"
     ]
    }
   ],
   "source": [
    "import math\n",
    "import matplotlib.pyplot as plt\n",
    "\n",
    "arr = np.linspace(0,2*math.pi,100)\n",
    "print(arr)\n",
    "\n",
    "result1 = arr[::10] # extracts every 10th element\n",
    "result1 = result1[1::]\n",
    "print('After every 10th element is extracted')\n",
    "print(result1)\n",
    "\n",
    "\n",
    "result2 = result1[::-1] # reverse the array\n",
    "print('Reverse array')\n",
    "print(result2)\n",
    "\n",
    "\n",
    "elements = np.abs(np.sin(arr)-np.cos(arr)) < 0.1\n",
    "print('Extracted elements that |sin-cos| < 0.1')\n",
    "result3 = arr[elements]\n",
    "print(result3)\n",
    "\n",
    "#Optional\n"
   ]
  },
  {
   "cell_type": "markdown",
   "metadata": {},
   "source": [
    "5\\. **Matrices**\n",
    "\n",
    "Create a matrix that shows the 10 by 10 multiplication table.\n",
    "\n",
    " * Find the trace of the matrix\n",
    " * Extract the anti-diagonal matrix (this should be ```array([10, 18, 24, 28, 30, 30, 28, 24, 18, 10])```)\n",
    " * Extract the diagonal offset by 1 upwards (this should be ```array([ 2,  6, 12, 20, 30, 42, 56, 72, 90])```)"
   ]
  },
  {
   "cell_type": "code",
   "execution_count": 19,
   "metadata": {},
   "outputs": [
    {
     "name": "stdout",
     "output_type": "stream",
     "text": [
      "[[  1   2   3   4   5   6   7   8   9  10]\n",
      " [  2   4   6   8  10  12  14  16  18  20]\n",
      " [  3   6   9  12  15  18  21  24  27  30]\n",
      " [  4   8  12  16  20  24  28  32  36  40]\n",
      " [  5  10  15  20  25  30  35  40  45  50]\n",
      " [  6  12  18  24  30  36  42  48  54  60]\n",
      " [  7  14  21  28  35  42  49  56  63  70]\n",
      " [  8  16  24  32  40  48  56  64  72  80]\n",
      " [  9  18  27  36  45  54  63  72  81  90]\n",
      " [ 10  20  30  40  50  60  70  80  90 100]]\n",
      "Trace:  385\n",
      "Anti-diagonal : [10 18 24 28 30 30 28 24 18 10]\n",
      "Diagonal offset:  [ 2  6 12 20 30 42 56 72 90]\n"
     ]
    }
   ],
   "source": [
    "arr1 = range(1,11) \n",
    "arr2 = range(1,11)\n",
    "\n",
    "# Create matrix by using\n",
    "mult_table = [[i*j for j in arr1] for i in arr2]\n",
    "matrix = np.array(mult_table)\n",
    "print(matrix)\n",
    "print(\"Trace: \",np.trace(matrix))\n",
    "\n",
    "#Extract the anti-diagonal matrix\n",
    "result = np.fliplr(matrix).diagonal()\n",
    "print(\"Anti-diagonal :\", result)\n",
    "\n",
    "#Extract the diagonal offset by 1 upwards\n",
    "print(\"Diagonal offset: \" ,np.diagonal(matrix,1))"
   ]
  },
  {
   "cell_type": "markdown",
   "metadata": {},
   "source": [
    "6\\. **Broadcasting**\n",
    "\n",
    "Use broadcasting to create a grid of distances.\n",
    "\n",
    "Route 66 crosses the following cities in the US: Chicago, Springfield, Saint-Louis, Tulsa, Oklahoma City, Amarillo, Santa Fe, Albuquerque, Flagstaff, Los Angeles.\n",
    "\n",
    "The corresponding positions in miles are: 0, 198, 303, 736, 871, 1175, 1475, 1544, 1913, 2448\n",
    "\n",
    "  * Build a 2D grid of distances among each city along Route 66\n",
    "  * Convert the distances in km"
   ]
  },
  {
   "cell_type": "code",
   "execution_count": 20,
   "metadata": {},
   "outputs": [
    {
     "name": "stdout",
     "output_type": "stream",
     "text": [
      "in miles: [   0  198  303  736  871 1175 1475 1544 1913 2448]\n",
      "distances: \n",
      " [[   0  198  303  736  871 1175 1475 1544 1913 2448]\n",
      " [ 198    0  105  538  673  977 1277 1346 1715 2250]\n",
      " [ 303  105    0  433  568  872 1172 1241 1610 2145]\n",
      " [ 736  538  433    0  135  439  739  808 1177 1712]\n",
      " [ 871  673  568  135    0  304  604  673 1042 1577]\n",
      " [1175  977  872  439  304    0  300  369  738 1273]\n",
      " [1475 1277 1172  739  604  300    0   69  438  973]\n",
      " [1544 1346 1241  808  673  369   69    0  369  904]\n",
      " [1913 1715 1610 1177 1042  738  438  369    0  535]\n",
      " [2448 2250 2145 1712 1577 1273  973  904  535    0]]\n",
      "distance array in km: \n",
      " [[   0.        318.650112  487.631232 1184.477184 1401.738624 1890.9792\n",
      "  2373.7824   2484.827136 3078.675072 3939.674112]\n",
      " [ 318.650112    0.        168.98112   865.827072 1083.088512 1572.329088\n",
      "  2055.132288 2166.177024 2760.02496  3621.024   ]\n",
      " [ 487.631232  168.98112     0.        696.845952  914.107392 1403.347968\n",
      "  1886.151168 1997.195904 2591.04384  3452.04288 ]\n",
      " [1184.477184  865.827072  696.845952    0.        217.26144   706.502016\n",
      "  1189.305216 1300.349952 1894.197888 2755.196928]\n",
      " [1401.738624 1083.088512  914.107392  217.26144     0.        489.240576\n",
      "   972.043776 1083.088512 1676.936448 2537.935488]\n",
      " [1890.9792   1572.329088 1403.347968  706.502016  489.240576    0.\n",
      "   482.8032    593.847936 1187.695872 2048.694912]\n",
      " [2373.7824   2055.132288 1886.151168 1189.305216  972.043776  482.8032\n",
      "     0.        111.044736  704.892672 1565.891712]\n",
      " [2484.827136 2166.177024 1997.195904 1300.349952 1083.088512  593.847936\n",
      "   111.044736    0.        593.847936 1454.846976]\n",
      " [3078.675072 2760.02496  2591.04384  1894.197888 1676.936448 1187.695872\n",
      "   704.892672  593.847936    0.        860.99904 ]\n",
      " [3939.674112 3621.024    3452.04288  2755.196928 2537.935488 2048.694912\n",
      "  1565.891712 1454.846976  860.99904     0.      ]]\n"
     ]
    }
   ],
   "source": [
    "position = np.array([0, 198, 303, 736, 871, 1175, 1475, 1544, 1913, 2448])\n",
    "print(\"position:\", position)\n",
    "distance = np.abs(position-position[:, np.newaxis])\n",
    "print(\"distances:\",\"\\n\",distance)\n",
    "\n",
    "distance_km = distance * 1.609\n",
    "print(\"distances in km:\")\n",
    "print(distance_km)"
   ]
  },
  {
   "cell_type": "markdown",
   "metadata": {},
   "source": [
    "7\\. **Prime numbers sieve**\n",
    "\n",
    "Compute the prime numbers in the 0-N (start with N=99) range with a sieve (mask).\n",
    "\n",
    "  * Constract a shape (N,) boolean array, which is the mask\n",
    "  * Identify the multiples of each number starting from 2 and set accordingly the corresponding mask element\n",
    "  * Apply the mask to obtain an array of ordered prime numbers\n",
    "  * Check the performances (with `timeit`); how does it scale with N?\n",
    "  * Implement the optimization suggested in the [sieve of Eratosthenes](https://en.wikipedia.org/wiki/Sieve_of_Eratosthenes)"
   ]
  },
  {
   "cell_type": "code",
   "execution_count": 1,
   "metadata": {},
   "outputs": [
    {
     "name": "stdout",
     "output_type": "stream",
     "text": [
      "[2, 3, 5, 7, 11, 13, 17, 19, 23, 29, 31, 37, 41, 43, 47, 53, 59, 61, 67, 71, 73, 79, 83, 89, 97, 101, 103, 107, 109, 113, 127, 131, 137, 139, 149, 151, 157, 163, 167, 173, 179, 181, 191, 193, 197, 199, 211, 223, 227, 229, 233, 239, 241, 251, 257, 263, 269, 271, 277, 281, 283, 293, 307, 311, 313, 317, 331, 337, 347, 349, 353, 359, 367, 373, 379, 383, 389, 397, 401, 409, 419, 421, 431, 433, 439, 443, 449, 457, 461, 463, 467, 479, 487, 491, 499, 503, 509, 521, 523, 541, 547, 557, 563, 569, 571, 577, 587, 593, 599, 601, 607, 613, 617, 619, 631, 641, 643, 647, 653, 659, 661, 673, 677, 683, 691, 701, 709, 719, 727, 733, 739, 743, 751, 757, 761, 769, 773, 787, 797, 809, 811, 821, 823, 827, 829, 839, 853, 857, 859, 863, 877, 881, 883, 887, 907, 911, 919, 929, 937, 941, 947, 953, 967, 971, 977, 983, 991, 997]\n",
      "The time difference is : 0.00118830000000969\n"
     ]
    }
   ],
   "source": [
    "import timeit\n",
    "\n",
    "# Sieve of Erathosthenes\n",
    "def SieveOfEratosthenes(n):\n",
    "    prime_num = []\n",
    "    prime = [True for i in range(n + 1)]\n",
    "\n",
    "    prime[0]= False\n",
    "    prime[1]= False\n",
    "    p = 2\n",
    "\n",
    "    while (p * p <= n):\n",
    "        if (prime[p] == True):\n",
    "            for i in range(p ** 2, n + 1, p):\n",
    "                prime[i] = False\n",
    "        p += 1\n",
    "        \n",
    "    for p in range(n + 1):\n",
    "        if prime[p] == True:\n",
    "            prime_num.append(p)\n",
    "    return prime_num\n",
    "            \n",
    "\n",
    "# measure the time\n",
    "starttime = timeit.default_timer()\n",
    "print(SieveOfEratosthenes(1000))\n",
    "endtime = timeit.default_timer()\n",
    "print(\"The time difference is :\", endtime - starttime)"
   ]
  },
  {
   "cell_type": "markdown",
   "metadata": {},
   "source": [
    "8\\. **Diffusion using random walk**\n",
    "\n",
    "Consider a simple random walk process: at each step in time, a walker jumps right or left (+1 or -1) with equal probability. The goal is to find the typical distance from the origin of many random walkers after a given amount of time.\n",
    "\n",
    "*Hint*: create a 2D array where each row represents a walker, and each column represents a time step.\n",
    "\n",
    "  * Take 1000 walkers and let them walk for 200 steps\n",
    "  * Use `randint` to create a 2D array of size $walkers \\times steps$ with values -1 or 1\n",
    "  * Calculate the walking distances for each walker (e.g. by summing the elements in each row)\n",
    "  * Take the square of the previously-obtained array (element-wise)\n",
    "  * Compute the mean of the squared distances at each step (i.e. the mean along the columns)\n",
    "  * **Optional**: plot the average distances ($\\sqrt(distance^2)$) as a function of time (step)"
   ]
  },
  {
   "cell_type": "code",
   "execution_count": null,
   "metadata": {},
   "outputs": [],
   "source": []
  }
 ],
 "metadata": {
  "kernelspec": {
   "display_name": "Python 3.9.13 ('base')",
   "language": "python",
   "name": "python3"
  },
  "language_info": {
   "codemirror_mode": {
    "name": "ipython",
    "version": 3
   },
   "file_extension": ".py",
   "mimetype": "text/x-python",
   "name": "python",
   "nbconvert_exporter": "python",
   "pygments_lexer": "ipython3",
   "version": "3.9.13"
  },
  "vscode": {
   "interpreter": {
    "hash": "58ba5e45f866b7c5c7add4a55fa0887164febb2d45940b3dd8d4636eca268bb5"
   }
  }
 },
 "nbformat": 4,
 "nbformat_minor": 2
}
