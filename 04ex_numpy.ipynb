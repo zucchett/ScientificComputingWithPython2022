{
 "cells": [
  {
   "cell_type": "markdown",
   "metadata": {},
   "source": [
    "1\\. **Reductions**\n",
    "\n",
    "Find the total mean, and the mean for each row and column of the following matrix:\n",
    "\n",
    "```python\n",
    "m = np.arange(12).reshape((3,4))\n",
    "```"
   ]
  },
  {
   "cell_type": "code",
   "execution_count": 53,
   "metadata": {},
   "outputs": [
    {
     "name": "stdout",
     "output_type": "stream",
     "text": [
      "Total mean: 5.5\n",
      "columns mean: [4. 5. 6. 7.]\n",
      "rows mean: [1.5 5.5 9.5]\n"
     ]
    }
   ],
   "source": [
    "import numpy as np\n",
    "m = np.arange(12).reshape((3,4))\n",
    "print(\"Total mean:\" , m.mean())\n",
    "cm= np.mean(m,axis=0)\n",
    "rm= np.mean(m,axis=1)\n",
    "print(\"columns mean:\",cm)\n",
    "print(\"rows mean:\",rm)\n",
    "    "
   ]
  },
  {
   "cell_type": "markdown",
   "metadata": {},
   "source": [
    "2\\. **Outer product**\n",
    "\n",
    "Find the outer product of the following vectors:\n",
    "\n",
    "```python\n",
    "u = np.array([1, 3, 5, 7])\n",
    "v = np.array([2, 4, 6, 8])\n",
    "```\n",
    "\n",
    "Use different methods to do this:\n",
    "\n",
    "   1. Using the function `outer` in numpy\n",
    "   2. Using a nested `for` loop or a list comprehension\n",
    "   3. Using numpy broadcasting operations"
   ]
  },
  {
   "cell_type": "code",
   "execution_count": 55,
   "metadata": {},
   "outputs": [
    {
     "name": "stdout",
     "output_type": "stream",
     "text": [
      "1:\n",
      " [[ 2  4  6  8]\n",
      " [ 6 12 18 24]\n",
      " [10 20 30 40]\n",
      " [14 28 42 56]] \n",
      "\n",
      "\n",
      "3:\n",
      " [[ 2  4  6  8]\n",
      " [ 6 12 18 24]\n",
      " [10 20 30 40]\n",
      " [14 28 42 56]]\n"
     ]
    }
   ],
   "source": [
    "#1\n",
    "u = np.array([1, 3, 5, 7])\n",
    "v = np.array([2, 4, 6, 8])\n",
    "out=np.outer(u,v)\n",
    "print ('1:\\n',out,'\\n\\n')\n",
    "#3\n",
    "\n",
    "u_v =u * v.reshape(4,1)\n",
    "print('3:\\n',u_v.T)\n",
    "\n"
   ]
  },
  {
   "cell_type": "markdown",
   "metadata": {},
   "source": [
    "3\\. **Matrix masking**\n",
    "\n",
    "Create a 10 by 6 matrix of float random numbers, distributed between 0 and 3 according to a flat distribution.\n",
    "\n",
    "After creating the matrix, set all entries $< 0.3$ to zero using a mask."
   ]
  },
  {
   "cell_type": "code",
   "execution_count": 52,
   "metadata": {},
   "outputs": [
    {
     "name": "stdout",
     "output_type": "stream",
     "text": [
      "random 10*6 matrix is:\n",
      "\n",
      " [[0.97465237 1.07830262 1.70698308 1.91266656 1.20016839 1.4824436 ]\n",
      " [1.86272459 1.74696461 2.12643313 0.10533255 0.75191367 2.54682211]\n",
      " [2.81741002 2.1061774  1.85023157 2.19490968 2.30567257 1.72100956]\n",
      " [2.088571   2.29009606 2.89110029 2.20745302 2.29835619 1.06133315]\n",
      " [1.08168643 2.77092259 2.39385422 1.0717632  1.83863768 0.16501889]\n",
      " [0.86382777 0.73423547 0.6300527  0.45253608 2.09041394 0.17160325]\n",
      " [0.56459734 2.28074496 2.55697246 0.70884556 2.18703875 1.12630141]\n",
      " [0.45654404 0.13670751 0.2240465  0.56205452 1.97454721 0.03209925]\n",
      " [1.43102836 1.31589158 2.80898028 1.32441877 2.85204709 0.08441458]\n",
      " [2.54692056 2.35690611 2.24496771 1.69378169 0.6137007  2.37778083]] \n",
      "\n",
      "\n",
      "after masking:\n",
      "\n",
      " [[0.97465237 1.07830262 1.70698308 1.91266656 1.20016839 1.4824436 ]\n",
      " [1.86272459 1.74696461 2.12643313 0.         0.75191367 2.54682211]\n",
      " [2.81741002 2.1061774  1.85023157 2.19490968 2.30567257 1.72100956]\n",
      " [2.088571   2.29009606 2.89110029 2.20745302 2.29835619 1.06133315]\n",
      " [1.08168643 2.77092259 2.39385422 1.0717632  1.83863768 0.        ]\n",
      " [0.86382777 0.73423547 0.6300527  0.45253608 2.09041394 0.        ]\n",
      " [0.56459734 2.28074496 2.55697246 0.70884556 2.18703875 1.12630141]\n",
      " [0.45654404 0.         0.         0.56205452 1.97454721 0.        ]\n",
      " [1.43102836 1.31589158 2.80898028 1.32441877 2.85204709 0.        ]\n",
      " [2.54692056 2.35690611 2.24496771 1.69378169 0.6137007  2.37778083]]\n"
     ]
    }
   ],
   "source": [
    "\n",
    "w=3*np.random.rand(10,6)\n",
    "print('random 10*6 matrix is:\\n\\n',w,'\\n\\n')\n",
    "w[w<0.3]=0\n",
    "print ('after masking:\\n\\n',w)"
   ]
  },
  {
   "cell_type": "markdown",
   "metadata": {},
   "source": [
    "4\\. **Trigonometric functions**\n",
    "\n",
    "Use `np.linspace` to create an array of 100 numbers between $0$ and $2\\pi$ (inclusive).\n",
    "\n",
    "  * Extract every 10th element using the slice notation\n",
    "  * Reverse the array using the slice notation\n",
    "  * Extract elements where the absolute difference between the `sin` and `cos` functions evaluated for that element is $< 0.1$\n",
    "  * **Optional**: make a plot showing the sin and cos functions and indicate where they are close"
   ]
  },
  {
   "cell_type": "code",
   "execution_count": 80,
   "metadata": {},
   "outputs": [
    {
     "name": "stdout",
     "output_type": "stream",
     "text": [
      "array is: \n",
      " [0.         0.06346652 0.12693304 0.19039955 0.25386607 0.31733259\n",
      " 0.38079911 0.44426563 0.50773215 0.57119866 0.63466518 0.6981317\n",
      " 0.76159822 0.82506474 0.88853126 0.95199777 1.01546429 1.07893081\n",
      " 1.14239733 1.20586385 1.26933037 1.33279688 1.3962634  1.45972992\n",
      " 1.52319644 1.58666296 1.65012947 1.71359599 1.77706251 1.84052903\n",
      " 1.90399555 1.96746207 2.03092858 2.0943951  2.15786162 2.22132814\n",
      " 2.28479466 2.34826118 2.41172769 2.47519421 2.53866073 2.60212725\n",
      " 2.66559377 2.72906028 2.7925268  2.85599332 2.91945984 2.98292636\n",
      " 3.04639288 3.10985939 3.17332591 3.23679243 3.30025895 3.36372547\n",
      " 3.42719199 3.4906585  3.55412502 3.61759154 3.68105806 3.74452458\n",
      " 3.8079911  3.87145761 3.93492413 3.99839065 4.06185717 4.12532369\n",
      " 4.1887902  4.25225672 4.31572324 4.37918976 4.44265628 4.5061228\n",
      " 4.56958931 4.63305583 4.69652235 4.75998887 4.82345539 4.88692191\n",
      " 4.95038842 5.01385494 5.07732146 5.14078798 5.2042545  5.26772102\n",
      " 5.33118753 5.39465405 5.45812057 5.52158709 5.58505361 5.64852012\n",
      " 5.71198664 5.77545316 5.83891968 5.9023862  5.96585272 6.02931923\n",
      " 6.09278575 6.15625227 6.21971879 6.28318531] \n",
      "\n",
      "\n",
      "Extract every 10th element:\n",
      " [0.         0.63466518 1.26933037 1.90399555 2.53866073 3.17332591\n",
      " 3.8079911  4.44265628 5.07732146 5.71198664] \n",
      "\n",
      "\n",
      "Reverse the array:\n",
      " [6.28318531 6.21971879 6.15625227 6.09278575 6.02931923 5.96585272\n",
      " 5.9023862  5.83891968 5.77545316 5.71198664 5.64852012 5.58505361\n",
      " 5.52158709 5.45812057 5.39465405 5.33118753 5.26772102 5.2042545\n",
      " 5.14078798 5.07732146 5.01385494 4.95038842 4.88692191 4.82345539\n",
      " 4.75998887 4.69652235 4.63305583 4.56958931 4.5061228  4.44265628\n",
      " 4.37918976 4.31572324 4.25225672 4.1887902  4.12532369 4.06185717\n",
      " 3.99839065 3.93492413 3.87145761 3.8079911  3.74452458 3.68105806\n",
      " 3.61759154 3.55412502 3.4906585  3.42719199 3.36372547 3.30025895\n",
      " 3.23679243 3.17332591 3.10985939 3.04639288 2.98292636 2.91945984\n",
      " 2.85599332 2.7925268  2.72906028 2.66559377 2.60212725 2.53866073\n",
      " 2.47519421 2.41172769 2.34826118 2.28479466 2.22132814 2.15786162\n",
      " 2.0943951  2.03092858 1.96746207 1.90399555 1.84052903 1.77706251\n",
      " 1.71359599 1.65012947 1.58666296 1.52319644 1.45972992 1.3962634\n",
      " 1.33279688 1.26933037 1.20586385 1.14239733 1.07893081 1.01546429\n",
      " 0.95199777 0.88853126 0.82506474 0.76159822 0.6981317  0.63466518\n",
      " 0.57119866 0.50773215 0.44426563 0.38079911 0.31733259 0.25386607\n",
      " 0.19039955 0.12693304 0.06346652 0.        ] \n",
      "\n",
      "\n",
      "absolute difference between the sin and cos functions evaluated for that element is  <0.1:\n",
      " [0.76159822 0.82506474 3.87145761 3.93492413]\n"
     ]
    }
   ],
   "source": [
    "import math\n",
    "w=math.pi\n",
    "h=np.linspace(0, 2*w, 100)\n",
    "print('array is: \\n',h,'\\n\\n')\n",
    "print ('Extract every 10th element:\\n',h[::10],'\\n\\n')\n",
    "print ('Reverse the array:\\n',h[::-1],'\\n\\n')\n",
    "mask=abs(np.cos(h)-np.sin(h))<0.1\n",
    "print ('absolute difference between the sin and cos functions evaluated for that element is  <0.1:\\n',h[mask])\n"
   ]
  },
  {
   "cell_type": "markdown",
   "metadata": {},
   "source": [
    "5\\. **Matrices**\n",
    "\n",
    "Create a matrix that shows the 10 by 10 multiplication table.\n",
    "\n",
    " * Find the trace of the matrix\n",
    " * Extract the anti-diagonal matrix (this should be ```array([10, 18, 24, 28, 30, 30, 28, 24, 18, 10])```)\n",
    " * Extract the diagonal offset by 1 upwards (this should be ```array([ 2,  6, 12, 20, 30, 42, 56, 72, 90])```)"
   ]
  },
  {
   "cell_type": "code",
   "execution_count": 96,
   "metadata": {},
   "outputs": [
    {
     "name": "stdout",
     "output_type": "stream",
     "text": [
      "a matrix that shows the 10 by 10 multiplication table.\n",
      " [[  1   2   3   4   5   6   7   8   9  10]\n",
      " [  2   4   6   8  10  12  14  16  18  20]\n",
      " [  3   6   9  12  15  18  21  24  27  30]\n",
      " [  4   8  12  16  20  24  28  32  36  40]\n",
      " [  5  10  15  20  25  30  35  40  45  50]\n",
      " [  6  12  18  24  30  36  42  48  54  60]\n",
      " [  7  14  21  28  35  42  49  56  63  70]\n",
      " [  8  16  24  32  40  48  56  64  72  80]\n",
      " [  9  18  27  36  45  54  63  72  81  90]\n",
      " [ 10  20  30  40  50  60  70  80  90 100]] \n",
      "\n",
      "\n",
      "the trace of the matrix: \n",
      " 385 \n",
      "\n",
      "\n",
      "anti-diagonal matrix:\n",
      " [10 18 24 28 30 30 28 24 18 10] \n",
      "\n",
      "\n",
      "the diagonal offset by 1 upwards :\n",
      " [ 2  6 12 20 30 42 56 72 90]\n"
     ]
    }
   ],
   "source": [
    "x = range(1,11)\n",
    "y = range(1,11)\n",
    "\n",
    "matrice = np.array([[i*j for j in x] for i in y])\n",
    "print (\"a matrix that shows the 10 by 10 multiplication table.\\n\",matrice,'\\n\\n')\n",
    "print ('the trace of the matrix: \\n',np.trace(matrice),'\\n\\n')\n",
    "print ('anti-diagonal matrix:\\n',np.fliplr(matrice).diagonal(),'\\n\\n')\n",
    "print ('the diagonal offset by 1 upwards :\\n',np.diagonal(matrice,1))"
   ]
  },
  {
   "cell_type": "markdown",
   "metadata": {},
   "source": [
    "6\\. **Broadcasting**\n",
    "\n",
    "Use broadcasting to create a grid of distances.\n",
    "\n",
    "Route 66 crosses the following cities in the US: Chicago, Springfield, Saint-Louis, Tulsa, Oklahoma City, Amarillo, Santa Fe, Albuquerque, Flagstaff, Los Angeles.\n",
    "\n",
    "The corresponding positions in miles are: 0, 198, 303, 736, 871, 1175, 1475, 1544, 1913, 2448\n",
    "\n",
    "  * Build a 2D grid of distances among each city along Route 66\n",
    "  * Convert the distances in km"
   ]
  },
  {
   "cell_type": "code",
   "execution_count": 101,
   "metadata": {},
   "outputs": [
    {
     "name": "stdout",
     "output_type": "stream",
     "text": [
      "distances: \n",
      " [[   0  198  303  736  871 1175 1475 1544 1913 2448]\n",
      " [ 198    0  105  538  673  977 1277 1346 1715 2250]\n",
      " [ 303  105    0  433  568  872 1172 1241 1610 2145]\n",
      " [ 736  538  433    0  135  439  739  808 1177 1712]\n",
      " [ 871  673  568  135    0  304  604  673 1042 1577]\n",
      " [1175  977  872  439  304    0  300  369  738 1273]\n",
      " [1475 1277 1172  739  604  300    0   69  438  973]\n",
      " [1544 1346 1241  808  673  369   69    0  369  904]\n",
      " [1913 1715 1610 1177 1042  738  438  369    0  535]\n",
      " [2448 2250 2145 1712 1577 1273  973  904  535    0]] \n",
      "\n",
      "\n",
      "distance array in km: \n",
      " [[   0.    318.65  487.63 1184.48 1401.74 1890.98 2373.78 2484.83 3078.68\n",
      "  3939.67]\n",
      " [ 318.65    0.    168.98  865.83 1083.09 1572.33 2055.13 2166.18 2760.02\n",
      "  3621.02]\n",
      " [ 487.63  168.98    0.    696.85  914.11 1403.35 1886.15 1997.2  2591.04\n",
      "  3452.04]\n",
      " [1184.48  865.83  696.85    0.    217.26  706.5  1189.31 1300.35 1894.2\n",
      "  2755.2 ]\n",
      " [1401.74 1083.09  914.11  217.26    0.    489.24  972.04 1083.09 1676.94\n",
      "  2537.94]\n",
      " [1890.98 1572.33 1403.35  706.5   489.24    0.    482.8   593.85 1187.7\n",
      "  2048.69]\n",
      " [2373.78 2055.13 1886.15 1189.31  972.04  482.8     0.    111.04  704.89\n",
      "  1565.89]\n",
      " [2484.83 2166.18 1997.2  1300.35 1083.09  593.85  111.04    0.    593.85\n",
      "  1454.85]\n",
      " [3078.68 2760.02 2591.04 1894.2  1676.94 1187.7   704.89  593.85    0.\n",
      "   861.  ]\n",
      " [3939.67 3621.02 3452.04 2755.2  2537.94 2048.69 1565.89 1454.85  861.\n",
      "     0.  ]]\n"
     ]
    }
   ],
   "source": [
    "import numpy as np\n",
    "pos=np.array([0, 198, 303, 736, 871, 1175, 1475, 1544, 1913, 2448])\n",
    "d= np.abs(pos-pos[:, np.newaxis])\n",
    "print(\"distances:\",\"\\n\",d,'\\n\\n')\n",
    "d_km = d*1.609344\n",
    "print(\"distance array in km:\",\"\\n\" ,d_km.round(2))"
   ]
  },
  {
   "cell_type": "markdown",
   "metadata": {},
   "source": [
    "7\\. **Prime numbers sieve**\n",
    "\n",
    "Compute the prime numbers in the 0-N (start with N=99) range with a sieve (mask).\n",
    "\n",
    "  * Constract a shape (N,) boolean array, which is the mask\n",
    "  * Identify the multiples of each number starting from 2 and set accordingly the corresponding mask element\n",
    "  * Apply the mask to obtain an array of ordered prime numbers\n",
    "  * Check the performances (with `timeit`); how does it scale with N?\n",
    "  * Implement the optimization suggested in the [sieve of Eratosthenes](https://en.wikipedia.org/wiki/Sieve_of_Eratosthenes)"
   ]
  },
  {
   "cell_type": "code",
   "execution_count": null,
   "metadata": {},
   "outputs": [],
   "source": [
    "import timeit\n",
    "\n",
    "def Sieve(n):\n",
    "    prime = [True for i in range(n + 1)]\n",
    "    p = 2\n",
    "    while (p * p <= n):\n",
    "        if (prime[p] == True):   \n",
    "            for i in range(p ** 2, n + 1, p):\n",
    "                prime[i] = False\n",
    "        p += 1\n",
    "    prime[0]= False\n",
    "    prime[1]= False\n",
    "    for p in range(n + 1):\n",
    "        if prime[p]:\n",
    "            print (p) \n",
    "            \n",
    "#The performance increase with greater N.\n",
    "starttime = timeit.default_timer()\n",
    "SieveOfEratosthenes(2000)\n",
    "print(\"The time\", timeit.default_timer() - starttime)"
   ]
  },
  {
   "cell_type": "markdown",
   "metadata": {},
   "source": [
    "8\\. **Diffusion using random walk**\n",
    "\n",
    "Consider a simple random walk process: at each step in time, a walker jumps right or left (+1 or -1) with equal probability. The goal is to find the typical distance from the origin of many random walkers after a given amount of time.\n",
    "\n",
    "*Hint*: create a 2D array where each row represents a walker, and each column represents a time step.\n",
    "\n",
    "  * Take 1000 walkers and let them walk for 200 steps\n",
    "  * Use `randint` to create a 2D array of size $walkers \\times steps$ with values -1 or 1\n",
    "  * Calculate the walking distances for each walker (e.g. by summing the elements in each row)\n",
    "  * Take the square of the previously-obtained array (element-wise)\n",
    "  * Compute the mean of the squared distances at each step (i.e. the mean along the columns)\n",
    "  * **Optional**: plot the average distances ($\\sqrt(distance^2)$) as a function of time (step)"
   ]
  },
  {
   "cell_type": "code",
   "execution_count": null,
   "metadata": {},
   "outputs": [],
   "source": [
    "u = 2 * np.random.randint(0, 2, size=(1000, 200))-1\n",
    "print(u)\n",
    "walking_distance = u.sum(1)\n",
    "print(\"\\n Walking distance for each walker:\\n\", u.sum(1))\n",
    "walking_distances_square = np.square(walking_distance)\n",
    "print(\"\\n\", walking_distances_square)\n",
    "mean_distance_square = []\n",
    "mean = 0\n",
    "for i in walking_distances_square:\n",
    "    mean += i\n",
    "    mean_distance_square.append(np.mean(mean))\n",
    "print(\"Mean:\\n\" , mean_distance_square)"
   ]
  }
 ],
 "metadata": {
  "kernelspec": {
   "display_name": "Python 3 (ipykernel)",
   "language": "python",
   "name": "python3"
  },
  "language_info": {
   "codemirror_mode": {
    "name": "ipython",
    "version": 3
   },
   "file_extension": ".py",
   "mimetype": "text/x-python",
   "name": "python",
   "nbconvert_exporter": "python",
   "pygments_lexer": "ipython3",
   "version": "3.9.12"
  }
 },
 "nbformat": 4,
 "nbformat_minor": 2
}
