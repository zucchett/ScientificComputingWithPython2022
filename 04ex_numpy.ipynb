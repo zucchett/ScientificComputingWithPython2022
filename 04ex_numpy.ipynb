{
 "cells": [
  {
   "cell_type": "markdown",
   "metadata": {},
   "source": [
    "1\\. **Reductions**\n",
    "\n",
    "Find the total mean, and the mean for each row and column of the following matrix:\n",
    "\n",
    "```python\n",
    "m = np.arange(12).reshape((3,4))\n",
    "```"
   ]
  },
  {
   "cell_type": "code",
   "execution_count": 1,
   "metadata": {},
   "outputs": [
    {
     "name": "stdout",
     "output_type": "stream",
     "text": [
      "Row means are as follows:\n",
      "[1.5 5.5 9.5]\n",
      "Column means are as follows:\n",
      "[4. 5. 6. 7.]\n",
      "Total mean is 5.5\n"
     ]
    }
   ],
   "source": [
    "import numpy as np\n",
    "m = np.arange(12).reshape((3,4))\n",
    "rows = np.zeros(m.shape[0])\n",
    "cols = np.zeros(m.shape[1])\n",
    "\n",
    "row_index = 0\n",
    "col_index = 0\n",
    "\n",
    "for x in m:\n",
    "    for y in x:\n",
    "        rows[row_index] += y\n",
    "        cols[col_index] += y\n",
    "        col_index +=1\n",
    "    col_index = 0\n",
    "    row_index += 1\n",
    "\n",
    "row_means = rows / m.shape[1]\n",
    "col_means = cols / m.shape[0]\n",
    "\n",
    "print(\"Row means are as follows:\\n{}\".format(row_means))\n",
    "print(\"Column means are as follows:\\n{}\".format(col_means))\n",
    "total_mean = np.sum(rows) / (m.shape[0]*m.shape[1])\n",
    "print(\"Total mean is {}\".format(total_mean))\n"
   ]
  },
  {
   "cell_type": "markdown",
   "metadata": {},
   "source": [
    "2\\. **Outer product**\n",
    "\n",
    "Find the outer product of the following vectors:\n",
    "\n",
    "```python\n",
    "u = np.array([1, 3, 5, 7])\n",
    "v = np.array([2, 4, 6, 8])\n",
    "```\n",
    "\n",
    "Use different methods to do this:\n",
    "\n",
    "   1. Using the function `outer` in numpy\n",
    "   2. Using a nested `for` loop or a list comprehension\n",
    "   3. Using numpy broadcasting operations"
   ]
  },
  {
   "cell_type": "code",
   "execution_count": 2,
   "metadata": {},
   "outputs": [
    {
     "data": {
      "text/plain": [
       "array([1, 3, 5, 7])"
      ]
     },
     "execution_count": 2,
     "metadata": {},
     "output_type": "execute_result"
    }
   ],
   "source": [
    "# Given arrays\n",
    "u = np.array([1, 3, 5, 7])\n",
    "v = np.array([2, 4, 6, 8])\n",
    "\n",
    "# First way, using \"outer\"\n",
    "result_1 = np.outer(u,v)\n",
    "\n",
    "# Using for loop\n",
    "result_2 = np.zeros((4,4))\n",
    "for x_index, x in enumerate(u):\n",
    "    for y_index, y in enumerate(v):\n",
    "        result_2[x_index][y_index] = u[x_index]*v[y_index]\n",
    "\n",
    "# Using broadcasting\n",
    "temp1, temp2 = np.ndarray.flatten(u), np.ndarray.flatten(v)\n",
    "temp1\n"
   ]
  },
  {
   "cell_type": "markdown",
   "metadata": {},
   "source": [
    "3\\. **Matrix masking**\n",
    "\n",
    "Create a 10 by 6 matrix of float random numbers, distributed between 0 and 3 according to a flat distribution.\n",
    "\n",
    "After creating the matrix, set all entries $< 0.3$ to zero using a mask."
   ]
  },
  {
   "cell_type": "code",
   "execution_count": 3,
   "metadata": {},
   "outputs": [
    {
     "name": "stdout",
     "output_type": "stream",
     "text": [
      "The Original Matrix\n",
      "[[2.  0.9 2.2 2.8 0.2 0.9]\n",
      " [1.4 2.5 2.6 1.2 0.4 2.7]\n",
      " [2.5 0.8 2.1 2.6 0.3 0.8]\n",
      " [2.6 0.1 1.3 2.9 1.7 0.1]\n",
      " [1.7 1.  0.2 2.  0.4 0.7]\n",
      " [2.6 2.7 1.6 0.6 2.8 0.4]\n",
      " [1.9 0.4 2.5 1.5 2.3 2.9]\n",
      " [0.3 2.9 2.4 1.1 1.9 0.7]\n",
      " [0.4 1.6 2.8 2.6 1.1 1.2]\n",
      " [1.4 1.  0.1 1.7 1.  1. ]]\n",
      "\n",
      "The Filtered Matrix\n",
      "[[2.  0.9 2.2 2.8 0.  0.9]\n",
      " [1.4 2.5 2.6 1.2 0.4 2.7]\n",
      " [2.5 0.8 2.1 2.6 0.3 0.8]\n",
      " [2.6 0.  1.3 2.9 1.7 0. ]\n",
      " [1.7 1.  0.  2.  0.4 0.7]\n",
      " [2.6 2.7 1.6 0.6 2.8 0.4]\n",
      " [1.9 0.4 2.5 1.5 2.3 2.9]\n",
      " [0.3 2.9 2.4 1.1 1.9 0.7]\n",
      " [0.4 1.6 2.8 2.6 1.1 1.2]\n",
      " [1.4 1.  0.  1.7 1.  1. ]]\n"
     ]
    }
   ],
   "source": [
    "# Create a random 2D matrix with floating point entries\n",
    "m = np.random.choice(np.arange(0.0,3.0,dtype=float,step=0.1),size=(10,6),)\n",
    "\n",
    "print(\"The Original Matrix\")\n",
    "print(m)\n",
    "\n",
    "# Create a maask with the given constraint\n",
    "mask = ( m < 0.3)\n",
    "# Set the satisfying entries to zero\n",
    "m[mask] = 0\n",
    "\n",
    "print(\"\\nThe Filtered Matrix\")\n",
    "print(m)"
   ]
  },
  {
   "cell_type": "markdown",
   "metadata": {},
   "source": [
    "4\\. **Trigonometric functions**\n",
    "\n",
    "Use `np.linspace` to create an array of 100 numbers between $0$ and $2\\pi$ (inclusive).\n",
    "\n",
    "  * Extract every 10th element using the slice notation\n",
    "  * Reverse the array using the slice notation\n",
    "  * Extract elements where the absolute difference between the `sin` and `cos` functions evaluated for that element is $< 0.1$\n",
    "  * **Optional**: make a plot showing the sin and cos functions and indicate where they are close"
   ]
  },
  {
   "cell_type": "code",
   "execution_count": 4,
   "metadata": {},
   "outputs": [
    {
     "name": "stdout",
     "output_type": "stream",
     "text": [
      "\n",
      "Taking every tenth element:\n",
      "[0.57119866 1.20586385 1.84052903 2.47519421 3.10985939 3.74452458\n",
      " 4.37918976 5.01385494 5.64852012 6.28318531]\n",
      "Reversed array is:\n",
      "[6.28318531 6.21971879 6.15625227 6.09278575 6.02931923 5.96585272\n",
      " 5.9023862  5.83891968 5.77545316 5.71198664 5.64852012 5.58505361\n",
      " 5.52158709 5.45812057 5.39465405 5.33118753 5.26772102 5.2042545\n",
      " 5.14078798 5.07732146 5.01385494 4.95038842 4.88692191 4.82345539\n",
      " 4.75998887 4.69652235 4.63305583 4.56958931 4.5061228  4.44265628\n",
      " 4.37918976 4.31572324 4.25225672 4.1887902  4.12532369 4.06185717\n",
      " 3.99839065 3.93492413 3.87145761 3.8079911  3.74452458 3.68105806\n",
      " 3.61759154 3.55412502 3.4906585  3.42719199 3.36372547 3.30025895\n",
      " 3.23679243 3.17332591 3.10985939 3.04639288 2.98292636 2.91945984\n",
      " 2.85599332 2.7925268  2.72906028 2.66559377 2.60212725 2.53866073\n",
      " 2.47519421 2.41172769 2.34826118 2.28479466 2.22132814 2.15786162\n",
      " 2.0943951  2.03092858 1.96746207 1.90399555 1.84052903 1.77706251\n",
      " 1.71359599 1.65012947 1.58666296 1.52319644 1.45972992 1.3962634\n",
      " 1.33279688 1.26933037 1.20586385 1.14239733 1.07893081 1.01546429\n",
      " 0.95199777 0.88853126 0.82506474 0.76159822 0.6981317  0.63466518\n",
      " 0.57119866 0.50773215 0.44426563 0.38079911 0.31733259 0.25386607\n",
      " 0.19039955 0.12693304 0.06346652 0.        ]\n",
      "Extracted elements are:\n",
      "[12 13 61 62]\n"
     ]
    }
   ],
   "source": [
    "import math\n",
    "import matplotlib.pyplot as plt\n",
    "\n",
    "m = np.linspace(start=0, stop=2*math.pi, num=100)\n",
    "\n",
    "# Starting from the tenth element and taking steps of ten to iterate the array\n",
    "every_ten = m[9::10]\n",
    "print(\"\\nTaking every tenth element:\")\n",
    "print(every_ten)\n",
    "\n",
    "# Iterating every element by takin a negative step each time, reversing the array\n",
    "reversed_array = m[::-1]\n",
    "print(\"Reversed array is:\")\n",
    "print(reversed_array)\n",
    "\n",
    "# Checking for the given constraint on the whole array m, taking the elements that satisfy the condition\n",
    "extracted_elements = np.where(np.absolute(np.sin(m)-np.cos(m))<0.1)[0]\n",
    "print(\"Extracted elements are:\")\n",
    "print(extracted_elements)\n"
   ]
  },
  {
   "cell_type": "code",
   "execution_count": 5,
   "metadata": {},
   "outputs": [
    {
     "data": {
      "text/plain": [
       "<matplotlib.legend.Legend at 0x106f32e00>"
      ]
     },
     "execution_count": 5,
     "metadata": {},
     "output_type": "execute_result"
    },
    {
     "data": {
      "image/png": "[encoded data removed]",
      "text/plain": [
       "<Figure size 640x480 with 1 Axes>"
      ]
     },
     "metadata": {},
     "output_type": "display_data"
    }
   ],
   "source": [
    "y = np.sin(m)\n",
    "z = np.cos(m)\n",
    "\n",
    "intersection = []\n",
    "for x in m:\n",
    "    if abs(math.sin(x) - math.cos(x)) < 0.1:\n",
    "        intersection.append((math.sin(x) + math.cos(x)) / 2)\n",
    "    else:\n",
    "        intersection.append(None)\n",
    "\n",
    "\n",
    "plt.plot(m,y, label=\"sine\")\n",
    "plt.plot(m,z, label=\"cosine\")\n",
    "plt.plot(m,intersection, label=\"close parts\")\n",
    "plt.legend(loc=\"lower left\")"
   ]
  },
  {
   "cell_type": "markdown",
   "metadata": {},
   "source": [
    "5\\. **Matrices**\n",
    "\n",
    "Create a matrix that shows the 10 by 10 multiplication table.\n",
    "\n",
    " * Find the trace of the matrix\n",
    " * Extract the anti-diagonal matrix (this should be ```array([10, 18, 24, 28, 30, 30, 28, 24, 18, 10])```)\n",
    " * Extract the diagonal offset by 1 upwards (this should be ```array([ 2,  6, 12, 20, 30, 42, 56, 72, 90])```)"
   ]
  },
  {
   "cell_type": "code",
   "execution_count": 6,
   "metadata": {},
   "outputs": [
    {
     "name": "stdout",
     "output_type": "stream",
     "text": [
      "The original matrix is\n",
      " [[  1   2   3   4   5   6   7   8   9  10]\n",
      " [  2   4   6   8  10  12  14  16  18  20]\n",
      " [  3   6   9  12  15  18  21  24  27  30]\n",
      " [  4   8  12  16  20  24  28  32  36  40]\n",
      " [  5  10  15  20  25  30  35  40  45  50]\n",
      " [  6  12  18  24  30  36  42  48  54  60]\n",
      " [  7  14  21  28  35  42  49  56  63  70]\n",
      " [  8  16  24  32  40  48  56  64  72  80]\n",
      " [  9  18  27  36  45  54  63  72  81  90]\n",
      " [ 10  20  30  40  50  60  70  80  90 100]]\n",
      "\n",
      "Trace of the matrix is: 385\n",
      "\n",
      "Anti-diagonal of the matrix is:\n",
      " [10 18 24 28 30 30 28 24 18 10]\n",
      "\n",
      "Shifted new diagonal is:\n",
      " [ 2  6 12 20 30 42 56 72 90 10]\n"
     ]
    }
   ],
   "source": [
    "# Create a multiplication table by using the outer product\n",
    "m = np.outer(np.arange(1,11),np.arange(1,11))\n",
    "print(\"The original matrix is\\n\",m)\n",
    "\n",
    "# The trace is the sum of the elements on the primary diagonal\n",
    "# We could also use np.trace()\n",
    "trace = np.sum(m.diagonal())\n",
    "print(\"\\nTrace of the matrix is:\",trace)\n",
    "\n",
    "# Anti diagonal can be found by reversing the matrix and getting the diagonal\n",
    "anti_diagonal = np.fliplr(m).diagonal()\n",
    "print(\"\\nAnti-diagonal of the matrix is:\\n\",anti_diagonal)\n",
    "\n",
    "# We shift all the elemnts 10 units backwards compared to their original positions\n",
    "shifted = np.roll(m,-10)\n",
    "new_diagonal = shifted.diagonal()\n",
    "print(\"\\nShifted new diagonal is:\\n\",new_diagonal)\n"
   ]
  },
  {
   "cell_type": "markdown",
   "metadata": {},
   "source": [
    "6\\. **Broadcasting**\n",
    "\n",
    "Use broadcasting to create a grid of distances.\n",
    "\n",
    "Route 66 crosses the following cities in the US: Chicago, Springfield, Saint-Louis, Tulsa, Oklahoma City, Amarillo, Santa Fe, Albuquerque, Flagstaff, Los Angeles.\n",
    "\n",
    "The corresponding positions in miles are: 0, 198, 303, 736, 871, 1175, 1475, 1544, 1913, 2448\n",
    "\n",
    "  * Build a 2D grid of distances among each city along Route 66\n",
    "  * Convert the distances in km"
   ]
  },
  {
   "cell_type": "code",
   "execution_count": 7,
   "metadata": {},
   "outputs": [
    {
     "name": "stdout",
     "output_type": "stream",
     "text": [
      "Distances in miles\n",
      " [[   0  198  303  736  871 1175 1475 1544 1913 2448]\n",
      " [ 198  396  501  934 1069 1373 1673 1742 2111 2646]\n",
      " [ 303  501  606 1039 1174 1478 1778 1847 2216 2751]\n",
      " [ 736  934 1039 1472 1607 1911 2211 2280 2649 3184]\n",
      " [ 871 1069 1174 1607 1742 2046 2346 2415 2784 3319]\n",
      " [1175 1373 1478 1911 2046 2350 2650 2719 3088 3623]\n",
      " [1475 1673 1778 2211 2346 2650 2950 3019 3388 3923]\n",
      " [1544 1742 1847 2280 2415 2719 3019 3088 3457 3992]\n",
      " [1913 2111 2216 2649 2784 3088 3388 3457 3826 4361]\n",
      " [2448 2646 2751 3184 3319 3623 3923 3992 4361 4896]]\n",
      "\n",
      "Distances in kilometers\n",
      " [[   0.   316.8  484.8 1177.6 1393.6 1880.  2360.  2470.4 3060.8 3916.8]\n",
      " [ 316.8  633.6  801.6 1494.4 1710.4 2196.8 2676.8 2787.2 3377.6 4233.6]\n",
      " [ 484.8  801.6  969.6 1662.4 1878.4 2364.8 2844.8 2955.2 3545.6 4401.6]\n",
      " [1177.6 1494.4 1662.4 2355.2 2571.2 3057.6 3537.6 3648.  4238.4 5094.4]\n",
      " [1393.6 1710.4 1878.4 2571.2 2787.2 3273.6 3753.6 3864.  4454.4 5310.4]\n",
      " [1880.  2196.8 2364.8 3057.6 3273.6 3760.  4240.  4350.4 4940.8 5796.8]\n",
      " [2360.  2676.8 2844.8 3537.6 3753.6 4240.  4720.  4830.4 5420.8 6276.8]\n",
      " [2470.4 2787.2 2955.2 3648.  3864.  4350.4 4830.4 4940.8 5531.2 6387.2]\n",
      " [3060.8 3377.6 3545.6 4238.4 4454.4 4940.8 5420.8 5531.2 6121.6 6977.6]\n",
      " [3916.8 4233.6 4401.6 5094.4 5310.4 5796.8 6276.8 6387.2 6977.6 7833.6]]\n"
     ]
    }
   ],
   "source": [
    "x = [0, 198, 303, 736, 871, 1175, 1475, 1544, 1913, 2448]\n",
    "\n",
    "# Make a matrix made by the outer addition of the distance values\n",
    "distances = np.add.outer(x,x)\n",
    "print(\"Distances in miles\\n\",distances)\n",
    "\n",
    "# Taking mile/km as 1.6 constant\n",
    "km_per_mile = 1.6\n",
    "distances=distances*km_per_mile\n",
    "print(\"\\nDistances in kilometers\\n\",distances)"
   ]
  },
  {
   "cell_type": "markdown",
   "metadata": {},
   "source": [
    "7\\. **Prime numbers sieve**\n",
    "\n",
    "Compute the prime numbers in the 0-N (start with N=99) range with a sieve (mask).\n",
    "\n",
    "  * Constract a shape (N,) boolean array, which is the mask\n",
    "  * Identify the multiples of each number starting from 2 and set accordingly the corresponding mask element\n",
    "  * Apply the mask to obtain an array of ordered prime numbers\n",
    "  * Check the performances (with `timeit`); how does it scale with N?\n",
    "  * Implement the optimization suggested in the [sieve of Eratosthenes](https://en.wikipedia.org/wiki/Sieve_of_Eratosthenes)"
   ]
  },
  {
   "cell_type": "code",
   "execution_count": 8,
   "metadata": {},
   "outputs": [
    {
     "name": "stdout",
     "output_type": "stream",
     "text": [
      "The original numbers are\n",
      " [ 1  2  3  4  5  6  7  8  9 10 11 12 13 14 15 16 17 18 19 20 21 22 23 24\n",
      " 25 26 27 28 29 30 31 32 33 34 35 36 37 38 39 40 41 42 43 44 45 46 47 48\n",
      " 49 50 51 52 53 54 55 56 57 58 59 60 61 62 63 64 65 66 67 68 69 70 71 72\n",
      " 73 74 75 76 77 78 79 80 81 82 83 84 85 86 87 88 89 90 91 92 93 94 95 96\n",
      " 97 98 99]\n",
      "The prime numbers in the given range are\n",
      " [ 1  2  3  5  7 11 13 17 19 23 29 31 37 41 43 47 53 59 61 67 71 73 79 83\n",
      " 89 97]\n",
      "Timing for N=99\n",
      "25.5 µs ± 1.03 µs per loop (mean ± std. dev. of 7 runs, 10,000 loops each)\n",
      "Timing for N=999\n",
      "471 µs ± 2.24 µs per loop (mean ± std. dev. of 7 runs, 1,000 loops each)\n",
      "Timing for N=9999\n",
      "6.99 ms ± 64.8 µs per loop (mean ± std. dev. of 7 runs, 100 loops each)\n"
     ]
    }
   ],
   "source": [
    "N = 99\n",
    "mask = np.ones((N,),dtype=bool)\n",
    "\n",
    "# Identifying non-prime numbers\n",
    "for number in range(2,N):\n",
    "    multiple = 2\n",
    "    while number * multiple <= N:\n",
    "        mask[number*multiple-1] = False\n",
    "        multiple += 1\n",
    "\n",
    "# Create the numbers in the given range\n",
    "numbers = np.arange(1,N+1)\n",
    "print(\"The original numbers are\\n\",numbers)\n",
    "\n",
    "# Apply the mask to get only the prime numbers\n",
    "primes = numbers[mask]\n",
    "print(\"The prime numbers in the given range are\\n\",primes)\n",
    "\n",
    "# The above code in a method, wtihout the print statements for time testing\n",
    "def get_primes(N):\n",
    "    mask = np.ones((N,),dtype=bool)\n",
    "\n",
    "    # Identifying non-prime numbers\n",
    "    for number in range(2,N+1):\n",
    "        multiple = 2\n",
    "        while number * multiple < N:\n",
    "            mask[number*multiple-1] = False\n",
    "            multiple += 1\n",
    "\n",
    "    # Flag number 1 as false as it is not a prime number\n",
    "    mask[0] = False\n",
    "\n",
    "    # Create the numbers in the given range\n",
    "    numbers = np.arange(1,N+1)\n",
    "\n",
    "    # Apply the mask to get only the prime numbers\n",
    "    primes = numbers[mask]\n",
    "    return primes\n",
    "\n",
    "print(\"Timing for N=99\")\n",
    "%timeit get_primes(99)\n",
    "\n",
    "print(\"Timing for N=999\")\n",
    "%timeit get_primes(999)\n",
    "\n",
    "print(\"Timing for N=9999\")\n",
    "%timeit get_primes(9999)\n",
    "\n",
    "# The timing increase exponentially as N increases. In theory it should be on the scale O(N^2) since\n",
    "# for each element we are basically iterating each multiple until N, therefore N*N = N*2"
   ]
  },
  {
   "cell_type": "code",
   "execution_count": 9,
   "metadata": {},
   "outputs": [
    {
     "name": "stdout",
     "output_type": "stream",
     "text": [
      "Timing for N=99\n",
      "59.3 µs ± 533 ns per loop (mean ± std. dev. of 7 runs, 10,000 loops each)\n",
      "Timing for N=999\n",
      "747 µs ± 5.14 µs per loop (mean ± std. dev. of 7 runs, 1,000 loops each)\n",
      "Timing for N=9999\n",
      "8.82 ms ± 30.2 µs per loop (mean ± std. dev. of 7 runs, 100 loops each)\n"
     ]
    }
   ],
   "source": [
    "def sieve_primes(N):\n",
    "    mask = np.ones((N,),dtype=bool)\n",
    "\n",
    "    number = 2\n",
    "    while(number<math.sqrt(N)):\n",
    "        if mask[number-1] == True:\n",
    "            j = 0\n",
    "            while pow(number,2)+j*number < N+1:\n",
    "                mask[pow(number,2)+j*number-1] = False\n",
    "                j += 1\n",
    "        number +=1\n",
    "\n",
    "    # Flag number 1 as false as it is not a prime number\n",
    "    mask[0] = False\n",
    "\n",
    "    # Create the numbers in the given range\n",
    "    numbers = np.arange(1,N+1)\n",
    "\n",
    "    # Apply the mask to get only the prime numbers\n",
    "    primes = numbers[mask]\n",
    "    return primes\n",
    "\n",
    "print(\"Timing for N=99\")\n",
    "%timeit sieve_primes(99)\n",
    "\n",
    "print(\"Timing for N=999\")\n",
    "%timeit sieve_primes(999)\n",
    "\n",
    "print(\"Timing for N=9999\")\n",
    "%timeit sieve_primes(9999)"
   ]
  },
  {
   "cell_type": "markdown",
   "metadata": {},
   "source": [
    "8\\. **Diffusion using random walk**\n",
    "\n",
    "Consider a simple random walk process: at each step in time, a walker jumps right or left (+1 or -1) with equal probability. The goal is to find the typical distance from the origin of many random walkers after a given amount of time.\n",
    "\n",
    "*Hint*: create a 2D array where each row represents a walker, and each column represents a time step.\n",
    "\n",
    "  * Take 1000 walkers and let them walk for 200 steps\n",
    "  * Use `randint` to create a 2D array of size $walkers \\times steps$ with values -1 or 1\n",
    "  * Calculate the walking distances for each walker (e.g. by summing the elements in each row)\n",
    "  * Take the square of the previously-obtained array (element-wise)\n",
    "  * Compute the mean of the squared distances at each step (i.e. the mean along the columns)\n",
    "  * **Optional**: plot the average distances ($\\sqrt(distance^2)$) as a function of time (step)"
   ]
  },
  {
   "cell_type": "code",
   "execution_count": 10,
   "metadata": {},
   "outputs": [
    {
     "name": "stdout",
     "output_type": "stream",
     "text": [
      "[-0.002 -0.086  0.032  0.006 -0.01   0.01  -0.06   0.024 -0.066 -0.006\n",
      " -0.016  0.012 -0.086  0.044  0.004  0.02   0.012 -0.03   0.038 -0.018\n",
      "  0.014  0.008 -0.036  0.02   0.02   0.024  0.04  -0.008  0.008 -0.056\n",
      " -0.022  0.028  0.    -0.026  0.062  0.016 -0.028  0.     0.016 -0.024\n",
      "  0.034  0.016 -0.008 -0.07  -0.032  0.064 -0.006 -0.034 -0.002  0.008\n",
      " -0.058  0.004 -0.01   0.004 -0.022  0.05  -0.02  -0.016  0.034 -0.044\n",
      " -0.014 -0.022  0.016 -0.028 -0.05  -0.042 -0.054  0.    -0.036  0.036\n",
      " -0.012  0.032 -0.044  0.012  0.004  0.012 -0.01   0.03   0.034 -0.008\n",
      " -0.002 -0.012  0.048  0.044 -0.036  0.016 -0.046  0.014 -0.006  0.022\n",
      " -0.002 -0.022 -0.098 -0.022 -0.036 -0.024  0.012  0.    -0.028  0.05\n",
      " -0.018 -0.01  -0.04   0.04   0.04   0.008 -0.018  0.02   0.008  0.016\n",
      "  0.078  0.008 -0.006  0.016 -0.04   0.    -0.028  0.     0.024  0.062\n",
      " -0.002 -0.074 -0.004 -0.052  0.046  0.01   0.038 -0.062 -0.02  -0.032\n",
      " -0.018  0.04   0.038 -0.03   0.032  0.052  0.022 -0.002  0.006  0.\n",
      " -0.03   0.006 -0.054  0.036 -0.02   0.008  0.072  0.008 -0.036  0.002\n",
      " -0.052  0.02  -0.004 -0.054  0.028  0.072 -0.02  -0.06  -0.014 -0.002\n",
      " -0.012  0.02   0.012 -0.012 -0.008  0.04   0.048  0.012  0.036  0.012\n",
      "  0.004 -0.06  -0.018  0.038  0.044  0.002 -0.006 -0.022  0.02   0.056\n",
      "  0.006 -0.026 -0.028 -0.03  -0.004 -0.014 -0.032 -0.034  0.058  0.056\n",
      "  0.012 -0.012  0.04   0.054  0.014  0.024 -0.046 -0.034  0.052 -0.026]\n"
     ]
    }
   ],
   "source": [
    "import numpy as np\n",
    "walkers_count = 1000\n",
    "steps_count = 200\n",
    "\n",
    "walk_directions = np.random.choice([-1,1],size=walkers_count*steps_count).reshape(walkers_count,steps_count)\n",
    "\n",
    "# Summing each row\n",
    "walking_distances = walk_directions.sum(axis=1)\n",
    "\n",
    "# Taking the squares of the distances for each element\n",
    "squared_distances = np.square(walking_distances)\n",
    "\n",
    "# Mean along the columns\n",
    "column_means = walk_directions.sum(axis=0) / walkers_count\n",
    "\n",
    "print(column_means)"
   ]
  }
 ],
 "metadata": {
  "kernelspec": {
   "display_name": "Python 3.10.6 64-bit",
   "language": "python",
   "name": "python3"
  },
  "language_info": {
   "codemirror_mode": {
    "name": "ipython",
    "version": 3
   },
   "file_extension": ".py",
   "mimetype": "text/x-python",
   "name": "python",
   "nbconvert_exporter": "python",
   "pygments_lexer": "ipython3",
   "version": "3.10.8"
  },
  "vscode": {
   "interpreter": {
    "hash": "b0fa6594d8f4cbf19f97940f81e996739fb7646882a419484c72d19e05852a7e"
   }
  }
 },
 "nbformat": 4,
 "nbformat_minor": 2
}
