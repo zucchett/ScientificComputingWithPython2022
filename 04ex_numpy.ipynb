{
 "cells": [
  {
   "cell_type": "markdown",
   "metadata": {},
   "source": [
    "1\\. **Reductions**\n",
    "\n",
    "Find the total mean, and the mean for each row and column of the following matrix:\n",
    "\n",
    "```python\n",
    "m = np.arange(12).reshape((3,4))\n",
    "```"
   ]
  },
  {
   "cell_type": "code",
   "execution_count": 1,
   "metadata": {},
   "outputs": [
    {
     "name": "stdout",
     "output_type": "stream",
     "text": [
      "The mean of the matrix: 5.5\n",
      "mean along the columns: [4. 5. 6. 7.]\n",
      "mean along the rows: [1.5 5.5 9.5]\n"
     ]
    }
   ],
   "source": [
    "#1-Reductions\n",
    "\n",
    "import numpy as np\n",
    "\n",
    "m = np.arange(12).reshape((3,4))\n",
    "print(\"The mean of the matrix:\", m.mean())\n",
    "print(\"mean along the columns:\", m.mean(axis=0))\n",
    "print(\"mean along the rows:\", m.mean(axis=1))"
   ]
  },
  {
   "cell_type": "markdown",
   "metadata": {},
   "source": [
    "2\\. **Outer product**\n",
    "\n",
    "Find the outer product of the following vectors:\n",
    "\n",
    "```python\n",
    "u = np.array([1, 3, 5, 7])\n",
    "v = np.array([2, 4, 6, 8])\n",
    "```\n",
    "\n",
    "Use different methods to do this:\n",
    "\n",
    "   1. Using the function `outer` in numpy\n",
    "   2. Using a nested `for` loop or a list comprehension\n",
    "   3. Using numpy broadcasting operations"
   ]
  },
  {
   "cell_type": "code",
   "execution_count": 2,
   "metadata": {},
   "outputs": [
    {
     "name": "stdout",
     "output_type": "stream",
     "text": [
      "Using outer: [[ 2  4  6  8]\n",
      " [ 6 12 18 24]\n",
      " [10 20 30 40]\n",
      " [14 28 42 56]]\n",
      "Using list comprehension: [2, 4, 6, 8, 6, 12, 18, 24, 10, 20, 30, 40, 14, 28, 42, 56]\n",
      "Using broadcasting operations:  [ 2 12 30 56]\n"
     ]
    }
   ],
   "source": [
    "#2-Outer product\n",
    "\n",
    "u = np.array([1, 3, 5, 7])\n",
    "v = np.array([2, 4, 6, 8])\n",
    "#function outer in numpy\n",
    "\n",
    "print(\"Using outer:\", np.outer(u, v, out=None))\n",
    "#list comprehension\n",
    "\n",
    "m = [i * j for i in u for j in v]\n",
    "print(\"Using list comprehension:\", m)\n",
    "#numpy broadcasting operations\n",
    "\n",
    "print(\"Using broadcasting operations: \", u * v)"
   ]
  },
  {
   "cell_type": "markdown",
   "metadata": {},
   "source": [
    "3\\. **Matrix masking**\n",
    "\n",
    "Create a 10 by 6 matrix of float random numbers, distributed between 0 and 3 according to a flat distribution.\n",
    "\n",
    "After creating the matrix, set all entries $< 0.3$ to zero using a mask."
   ]
  },
  {
   "cell_type": "code",
   "execution_count": 26,
   "metadata": {},
   "outputs": [
    {
     "name": "stdout",
     "output_type": "stream",
     "text": [
      "The first matrix: \n",
      " [[0.777 0.198 0.494 0.372 0.004 0.853]\n",
      " [0.831 0.66  0.475 0.683 0.538 0.102]\n",
      " [0.507 0.084 0.07  0.527 0.991 0.802]\n",
      " [0.04  0.951 0.812 0.904 0.914 0.119]\n",
      " [0.91  0.574 0.51  0.483 0.243 0.293]\n",
      " [0.483 0.669 0.361 0.807 0.151 0.332]\n",
      " [0.761 0.513 0.805 0.822 0.496 0.274]\n",
      " [0.045 0.569 0.158 0.387 0.528 0.266]\n",
      " [0.422 0.157 0.866 0.118 0.706 0.403]\n",
      " [0.933 0.361 0.306 0.45  0.996 0.068]]\n",
      "The second matrix: \n",
      " [[0.777 0.    0.494 0.372 0.    0.853]\n",
      " [0.831 0.66  0.475 0.683 0.538 0.   ]\n",
      " [0.507 0.    0.    0.527 0.991 0.802]\n",
      " [0.    0.951 0.812 0.904 0.914 0.   ]\n",
      " [0.91  0.574 0.51  0.483 0.    0.   ]\n",
      " [0.483 0.669 0.361 0.807 0.    0.332]\n",
      " [0.761 0.513 0.805 0.822 0.496 0.   ]\n",
      " [0.    0.569 0.    0.387 0.528 0.   ]\n",
      " [0.422 0.    0.866 0.    0.706 0.403]\n",
      " [0.933 0.361 0.306 0.45  0.996 0.   ]]\n"
     ]
    }
   ],
   "source": [
    "#3-Matrix masking\n",
    "import numpy as np\n",
    "import numpy.ma as ma\n",
    "\n",
    "# Create a 10 by 6 matrix of float random numbers, distributed\n",
    "# between 0 and 3 according to a flat distribution.\n",
    "# After creating the matrix, set all entries  <0.3  to zero using a mask.\n",
    "\n",
    "a = np.round(np.random.rand(10, 6),3)\n",
    "print(\"The first matrix: \\n\", a)\n",
    "a = np.where(a < 0.3, 0, a)\n",
    "print(\"The second matrix: \\n\", a)"
   ]
  },
  {
   "cell_type": "markdown",
   "metadata": {},
   "source": [
    "4\\. **Trigonometric functions**\n",
    "\n",
    "Use `np.linspace` to create an array of 100 numbers between $0$ and $2\\pi$ (inclusive).\n",
    "\n",
    "  * Extract every 10th element using the slice notation\n",
    "  * Reverse the array using the slice notation\n",
    "  * Extract elements where the absolute difference between the `sin` and `cos` functions evaluated for that element is $< 0.1$\n",
    "  * **Optional**: make a plot showing the sin and cos functions and indicate where they are close"
   ]
  },
  {
   "cell_type": "code",
   "execution_count": 16,
   "metadata": {},
   "outputs": [
    {
     "name": "stdout",
     "output_type": "stream",
     "text": [
      "Original array: \n",
      " [0.         0.12822827 0.25645654 0.38468481 0.51291309 0.64114136\n",
      " 0.76936963 0.8975979  1.02582617 1.15405444 1.28228272 1.41051099\n",
      " 1.53873926 1.66696753 1.7951958  1.92342407 2.05165235 2.17988062\n",
      " 2.30810889 2.43633716 2.56456543 2.6927937  2.82102197 2.94925025\n",
      " 3.07747852 3.20570679 3.33393506 3.46216333 3.5903916  3.71861988\n",
      " 3.84684815 3.97507642 4.10330469 4.23153296 4.35976123 4.48798951\n",
      " 4.61621778 4.74444605 4.87267432 5.00090259 5.12913086 5.25735913\n",
      " 5.38558741 5.51381568 5.64204395 5.77027222 5.89850049 6.02672876\n",
      " 6.15495704 6.28318531]\n",
      "\n",
      "Every 10th element in the array: \n",
      "[0.         1.28228272 2.56456543 3.84684815 5.12913086]\n",
      "Reverse the array with the slice notation: \n",
      "[5.12913086 3.84684815 2.56456543 1.28228272 0.        ]\n",
      "sin: \n",
      " [ 0.00000000e+00  1.27877162e-01  2.53654584e-01  3.75267005e-01\n",
      "  4.90717552e-01  5.98110530e-01  6.95682551e-01  7.81831482e-01\n",
      "  8.55142763e-01  9.14412623e-01  9.58667853e-01  9.87181783e-01\n",
      "  9.99486216e-01  9.95379113e-01  9.74927912e-01  9.38468422e-01\n",
      "  8.86599306e-01  8.20172255e-01  7.40277997e-01  6.48228395e-01\n",
      "  5.45534901e-01  4.33883739e-01  3.15108218e-01  1.91158629e-01\n",
      "  6.40702200e-02 -6.40702200e-02 -1.91158629e-01 -3.15108218e-01\n",
      " -4.33883739e-01 -5.45534901e-01 -6.48228395e-01 -7.40277997e-01\n",
      " -8.20172255e-01 -8.86599306e-01 -9.38468422e-01 -9.74927912e-01\n",
      " -9.95379113e-01 -9.99486216e-01 -9.87181783e-01 -9.58667853e-01\n",
      " -9.14412623e-01 -8.55142763e-01 -7.81831482e-01 -6.95682551e-01\n",
      " -5.98110530e-01 -4.90717552e-01 -3.75267005e-01 -2.53654584e-01\n",
      " -1.27877162e-01 -2.44929360e-16]\n",
      "cos \n",
      " [ 1.          0.99179001  0.96729486  0.92691676  0.8713187   0.80141362\n",
      "  0.71834935  0.6234898   0.51839257  0.40478334  0.28452759  0.1595999\n",
      "  0.03205158 -0.09602303 -0.22252093 -0.34536505 -0.46253829 -0.57211666\n",
      " -0.67230089 -0.76144596 -0.8380881  -0.90096887 -0.94905575 -0.98155916\n",
      " -0.99794539 -0.99794539 -0.98155916 -0.94905575 -0.90096887 -0.8380881\n",
      " -0.76144596 -0.67230089 -0.57211666 -0.46253829 -0.34536505 -0.22252093\n",
      " -0.09602303  0.03205158  0.1595999   0.28452759  0.40478334  0.51839257\n",
      "  0.6234898   0.71834935  0.80141362  0.8713187   0.92691676  0.96729486\n",
      "  0.99179001  1.        ]\n",
      "\n",
      " The values for which : | np.sin(a) - np.cos(a) < 0.1 | \n",
      "\n",
      "[0.         0.12822827 0.25645654 0.38468481 0.51291309 0.64114136\n",
      " 0.76936963 3.97507642 4.10330469 4.23153296 4.35976123 4.48798951\n",
      " 4.61621778 4.74444605 4.87267432 5.00090259 5.12913086 5.25735913\n",
      " 5.38558741 5.51381568 5.64204395 5.77027222 5.89850049 6.02672876\n",
      " 6.15495704 6.28318531]\n"
     ]
    },
    {
     "data": {
      "image/png": "[encoded data removed]",
      "text/plain": [
       "<Figure size 432x288 with 1 Axes>"
      ]
     },
     "metadata": {
      "needs_background": "light"
     },
     "output_type": "display_data"
    }
   ],
   "source": [
    "#4-Trigonometric functions\n",
    "import numpy as np\n",
    "from numpy import linspace, pi\n",
    "import matplotlib.pyplot as plt\n",
    "import pylab\n",
    "\n",
    "a = np.linspace(0, 2*pi)\n",
    "print(\"Original array: \\n\", a)\n",
    "\n",
    "#Getting every 10th element using the slice notation\n",
    "\n",
    "print(\"\\nEvery 10th element in the array: \")\n",
    "b = a[0::10]\n",
    "print(b)\n",
    "\n",
    "print(\"Reverse the array with the slice notation: \")\n",
    "c = b[::-1]\n",
    "print(c)\n",
    "\n",
    "#Extract elements where the absolute difference between \n",
    "#the sin and cos functions evaluated for that element is  <0.1\n",
    "\n",
    "print(\"sin: \\n\", np.sin(a))\n",
    "print(\"cos \\n\", np.cos(a))\n",
    "print(\"\\n The values for which : | np.sin(a) - np.cos(a) < 0.1 | \\n\")\n",
    "c = a[abs((np.sin(a) - np.cos(a)) < 0.1)]\n",
    "print(c)\n",
    "\n",
    "#Make a plot showing the sin and cos functions and indicate where they are close\n",
    "pylab.title(\"Plot showing the sin and cos functions and indicate where they are close\")\n",
    "pylab.plot(a, np.sin(a), a, np.cos(a))\n",
    "pylab.show()"
   ]
  },
  {
   "cell_type": "markdown",
   "metadata": {},
   "source": [
    "5\\. **Matrices**\n",
    "\n",
    "Create a matrix that shows the 10 by 10 multiplication table.\n",
    "\n",
    " * Find the trace of the matrix\n",
    " * Extract the anti-diagonal matrix (this should be ```array([10, 18, 24, 28, 30, 30, 28, 24, 18, 10])```)\n",
    " * Extract the diagonal offset by 1 upwards (this should be ```array([ 2,  6, 12, 20, 30, 42, 56, 72, 90])```)"
   ]
  },
  {
   "cell_type": "code",
   "execution_count": 62,
   "metadata": {},
   "outputs": [
    {
     "name": "stdout",
     "output_type": "stream",
     "text": [
      "[[  1   2   3   4   5   6   7   8   9  10]\n",
      " [  2   4   6   8  10  12  14  16  18  20]\n",
      " [  3   6   9  12  15  18  21  24  27  30]\n",
      " [  4   8  12  16  20  24  28  32  36  40]\n",
      " [  5  10  15  20  25  30  35  40  45  50]\n",
      " [  6  12  18  24  30  36  42  48  54  60]\n",
      " [  7  14  21  28  35  42  49  56  63  70]\n",
      " [  8  16  24  32  40  48  56  64  72  80]\n",
      " [  9  18  27  36  45  54  63  72  81  90]\n",
      " [ 10  20  30  40  50  60  70  80  90 100]]\n",
      "The trace of the matrix:\n",
      "385\n",
      "Anti-diagonal of the matrix:\n",
      "\n",
      "[10 18 24 28 30 30 28 24 18 10]\n",
      "Diagonal offset of the matrix:\n"
     ]
    },
    {
     "data": {
      "text/plain": [
       "array([ 2,  6, 12, 20, 30, 42, 56, 72, 90])"
      ]
     },
     "execution_count": 62,
     "metadata": {},
     "output_type": "execute_result"
    }
   ],
   "source": [
    "#5-Matrices\n",
    "\n",
    "import numpy as np\n",
    "\n",
    "def mult_table(n):\n",
    "    m = np.arange(1, n+1)\n",
    "    return m * m[:, None]\n",
    "\n",
    "print(mult_table(10))\n",
    "\n",
    "#find the trace of the matrix\n",
    "\n",
    "print(\"The trace of the matrix:\")\n",
    "a = np.trace(mult_table(10))\n",
    "print(a)\n",
    "\n",
    "#extract the anti-diagonal matrix\n",
    "\n",
    "print(\"Anti-diagonal of the matrix:\\n\")\n",
    "a = np.flipud(mult_table(10)).diagonal()\n",
    "print(a)\n",
    "\n",
    "#Extract the diagonal offset by 1 upwards\n",
    "\n",
    "print(\"Diagonal offset of the matrix:\")\n",
    "np.diagonal(mult_table(10), offset = 1)"
   ]
  },
  {
   "cell_type": "markdown",
   "metadata": {},
   "source": [
    "6\\. **Broadcasting**\n",
    "\n",
    "Use broadcasting to create a grid of distances.\n",
    "\n",
    "Route 66 crosses the following cities in the US: Chicago, Springfield, Saint-Louis, Tulsa, Oklahoma City, Amarillo, Santa Fe, Albuquerque, Flagstaff, Los Angeles.\n",
    "\n",
    "The corresponding positions in miles are: 0, 198, 303, 736, 871, 1175, 1475, 1544, 1913, 2448\n",
    "\n",
    "  * Build a 2D grid of distances among each city along Route 66\n",
    "  * Convert the distances in km"
   ]
  },
  {
   "cell_type": "code",
   "execution_count": 2,
   "metadata": {},
   "outputs": [
    {
     "name": "stdout",
     "output_type": "stream",
     "text": [
      "Distances among the cities are:\n",
      " [[   0  198  303  736  871 1175 1475 1544 1913 2448]\n",
      " [ 198    0  105  538  673  977 1277 1346 1715 2250]\n",
      " [ 303  105    0  433  568  872 1172 1241 1610 2145]\n",
      " [ 736  538  433    0  135  439  739  808 1177 1712]\n",
      " [ 871  673  568  135    0  304  604  673 1042 1577]\n",
      " [1175  977  872  439  304    0  300  369  738 1273]\n",
      " [1475 1277 1172  739  604  300    0   69  438  973]\n",
      " [1544 1346 1241  808  673  369   69    0  369  904]\n",
      " [1913 1715 1610 1177 1042  738  438  369    0  535]\n",
      " [2448 2250 2145 1712 1577 1273  973  904  535    0]]\n",
      "The conversion from miles in km: \n",
      " [[   0.          318.65011315  487.63123376 1184.47718826 1401.73862905\n",
      "  1890.97920681 2373.78240855 2484.82714495 3078.67508309 3939.67412619]\n",
      " [ 318.65011315    0.          168.98112061  865.82707512 1083.0885159\n",
      "  1572.32909366 2055.1322954  2166.1770318  2760.02496994 3621.02401304]\n",
      " [ 487.63123376  168.98112061    0.          696.84595451  914.10739529\n",
      "  1403.34797305 1886.15117479 1997.19591119 2591.04384933 3452.04289243]\n",
      " [1184.47718826  865.82707512  696.84595451    0.          217.26144078\n",
      "   706.50201854 1189.30522028 1300.34995668 1894.19789482 2755.19693792]\n",
      " [1401.73862905 1083.0885159   914.10739529  217.26144078    0.\n",
      "   489.24057776  972.0437795  1083.0885159  1676.93645404 2537.93549714]\n",
      " [1890.97920681 1572.32909366 1403.34797305  706.50201854  489.24057776\n",
      "     0.          482.80320174  593.84793814 1187.69587628 2048.69491938]\n",
      " [2373.78240855 2055.1322954  1886.15117479 1189.30522028  972.0437795\n",
      "   482.80320174    0.          111.0447364   704.89267454 1565.89171764]\n",
      " [2484.82714495 2166.1770318  1997.19591119 1300.34995668 1083.0885159\n",
      "   593.84793814  111.0447364     0.          593.84793814 1454.84698124]\n",
      " [3078.67508309 2760.02496994 2591.04384933 1894.19789482 1676.93645404\n",
      "  1187.69587628  704.89267454  593.84793814    0.          860.9990431 ]\n",
      " [3939.67412619 3621.02401304 3452.04289243 2755.19693792 2537.93549714\n",
      "  2048.69491938 1565.89171764 1454.84698124  860.9990431     0.        ]]\n"
     ]
    },
    {
     "data": {
      "image/png": "[encoded data removed]",
      "text/plain": [
       "<Figure size 432x288 with 2 Axes>"
      ]
     },
     "metadata": {
      "needs_background": "light"
     },
     "output_type": "display_data"
    }
   ],
   "source": [
    "#6-Broadcasting\n",
    "import numpy as np\n",
    "import matplotlib.pyplot as plt\n",
    "\n",
    "positions = np.array([0, 198, 303, 736, 871, 1175, 1475, 1544, 1913, 2448])\n",
    "dist_cities = np.abs(positions - positions[:, np.newaxis])\n",
    "print(\"Distances among the cities are:\\n\", dist_cities)\n",
    "plt.pcolor(dist_cities)\n",
    "plt.colorbar()\n",
    "print(\"The conversion from miles in km: \\n\", dist_cities/0.62137119)"
   ]
  },
  {
   "cell_type": "markdown",
   "metadata": {},
   "source": [
    "7\\. **Prime numbers sieve**\n",
    "\n",
    "Compute the prime numbers in the 0-N (start with N=99) range with a sieve (mask).\n",
    "\n",
    "  * Constract a shape (N,) boolean array, which is the mask\n",
    "  * Identify the multiples of each number starting from 2 and set accordingly the corresponding mask element\n",
    "  * Apply the mask to obtain an array of ordered prime numbers\n",
    "  * Check the performances (with `timeit`); how does it scale with N?\n",
    "  * Implement the optimization suggested in the [sieve of Eratosthenes](https://en.wikipedia.org/wiki/Sieve_of_Eratosthenes)"
   ]
  },
  {
   "cell_type": "code",
   "execution_count": 10,
   "metadata": {},
   "outputs": [
    {
     "name": "stdout",
     "output_type": "stream",
     "text": [
      "Please enter a number: \n",
      "10\n",
      "[2, 3, 5, 7]\n",
      "0.001492099996539764\n"
     ]
    }
   ],
   "source": [
    "#7-Prime numbers sieve\n",
    "\n",
    "import math\n",
    "from math import pow, ceil\n",
    "import timeit\n",
    "\n",
    "def nr_sieve(nr):                   \n",
    "    N = [True for i in range(nr+1)]\n",
    "    N[1] = False\n",
    "    primes = []\n",
    "    for i in range(2, ceil(pow(nr, 0.5))+1):\n",
    "        if N[i]:\n",
    "            for j in range(i*i, nr+1, i):\n",
    "                N[j] = False\n",
    "    for i in range(2, nr+1):\n",
    "        if N[i]:\n",
    "           primes.append(i)\n",
    "    return primes\n",
    "\n",
    "nr = int(input(\"Please enter a number: \\n\"))\n",
    "print(nr_sieve(nr))\n",
    "print(timeit.timeit('nr_sieve(nr)', globals=globals(), number=99))\n",
    "#As it is seen, time increases, as we increase N."
   ]
  },
  {
   "cell_type": "markdown",
   "metadata": {},
   "source": [
    "8\\. **Diffusion using random walk**\n",
    "\n",
    "Consider a simple random walk process: at each step in time, a walker jumps right or left (+1 or -1) with equal probability. The goal is to find the typical distance from the origin of many random walkers after a given amount of time.\n",
    "\n",
    "*Hint*: create a 2D array where each row represents a walker, and each column represents a time step.\n",
    "\n",
    "  * Take 1000 walkers and let them walk for 200 steps\n",
    "  * Use `randint` to create a 2D array of size $walkers \\times steps$ with values -1 or 1\n",
    "  * Calculate the walking distances for each walker (e.g. by summing the elements in each row)\n",
    "  * Take the square of the previously-obtained array (element-wise)\n",
    "  * Compute the mean of the squared distances at each step (i.e. the mean along the columns)\n",
    "  * **Optional**: plot the average distances ($\\sqrt(distance^2)$) as a function of time (step)"
   ]
  },
  {
   "cell_type": "code",
   "execution_count": 12,
   "metadata": {},
   "outputs": [
    {
     "name": "stdout",
     "output_type": "stream",
     "text": [
      "[[ 1  1 -1 ...  1  1  1]\n",
      " [ 1 -1 -1 ...  1  1  1]\n",
      " [ 1 -1  1 ...  1  1  1]\n",
      " ...\n",
      " [ 1  1  1 ... -1 -1  1]\n",
      " [-1 -1 -1 ... -1 -1 -1]\n",
      " [ 1  1  1 ...  1  1 -1]]\n",
      "The walking distance for each walker: \n",
      " [  0   6   6 -16 -14  20  -6 -22  12  12   0  12  10  22 -14  -2 -14 -12\n",
      "   0  16 -10 -16  18   4  22   2 -14   2   0  38 -18   2  20   0  -6  20\n",
      "   4 -18   6  -2   4  10  14  18  -2  16   4  -6 -10  -4   2   2   0   8\n",
      "  12 -12 -10 -10  -8 -10   8  -4  10   2  -6  -4 -14   6 -12   4 -14  12\n",
      " -14  36   4   4 -36  16 -22  10 -18  -8 -34 -10  36  18  -2   6  -4  -4\n",
      " -10  -4   2   2  10  40 -16   2   4  22  -2  18  -2  18  -6  -2  -8   2\n",
      "  -8   8   8  28  18   8  12 -24 -20  10  -4 -18   8   6   6  -2  34  14\n",
      " -10 -44   4   4 -16  -6   0   6  -6  10 -22  20 -14 -32   8 -10 -24 -12\n",
      " -22  -2  14   2   0 -10 -18   4 -10 -24 -18   0  12 -18 -12  14 -10 -16\n",
      "  -6   4  16  34   2   8  16   6   0   8  -8 -42   4  10   2  -2  26 -18\n",
      "  20  22 -10  -8   0   2  20  16   4 -20  10 -44 -14 -12 -22   2  -2  28\n",
      "   2   6  38  -2  26 -10  14 -22  38   0  12 -12 -10   8  16   6  -6  24\n",
      "  -6 -18   4   8  18 -14   4 -14 -20   6  16 -10 -10  -4   4  10   0   2\n",
      "   4   0  18 -34   0   8   4  -8  -8  10  -4  12 -10   0   4  -2 -12   0\n",
      " -10 -10  30   0  -6  -8 -28  -4 -16 -20  18  12  20  10 -14  16   0 -14\n",
      "   8 -18 -14   0  18   0  12  24   2  24   6  22  16  20  22  12 -20 -10\n",
      "   4 -10   2  20  -2 -12   0   2  -8 -18  10   6   6  24   4  10   2 -22\n",
      "  10  30  -4  -8  -2 -10  14  14  20 -20 -12   6 -18 -16 -14 -14  28   0\n",
      " -18  -6   0  -6 -18 -30   4  10  20   0  22 -34   8  14 -16 -16 -14 -22\n",
      "  -6  12  20  10   4  14  10  -8  -4   0 -10   2 -14 -28  -6  -8  22   0\n",
      " -12  -2  12  -6   8  -6  10   4 -18  -6  30  24  28  -6   0   0   8 -20\n",
      "  24   2   8  34   6   2 -10  12   4  -4 -10   4  12 -12 -10 -20  -8 -10\n",
      "   4  -6  -8  12  36   4 -26 -12 -12  -4  -2  22  26 -10 -28   8 -12  20\n",
      " -16 -32   8  10   0   2 -20   8  -8  -2  -8 -28   6  -8  18   0   2  12\n",
      "   2 -14   4 -10  -6   2  -2  -6  32  -2   0   2   6 -16 -18   4 -12  -6\n",
      " -12   2   0   0  16 -14 -10  -6  16 -16   4  12  22  -6  -2  10 -32 -20\n",
      "   0   2 -10  10 -38 -16  22   2 -10 -10   6  12  -4   6   4   4  14  30\n",
      " -10  28 -20  -2  -8  10   6   8  -4   2 -16  12   4  -6   4  -8 -14  14\n",
      "   8  14  22  -6   4  -6 -12  -4  10 -12  -4  14  20  14 -16   6 -18   6\n",
      "  -4  -4 -10  40  24  24 -10 -22  22  14   4   8  -4  18  -2  -8   8   6\n",
      "  10 -12  -2 -30  -6  20  20   2 -20  22 -16  -8   4 -20 -14 -32   0  10\n",
      "  -6  -4   0  -2  20   8   2   2  -2   2   0  -4 -10 -12   8  24 -26  14\n",
      "  24  10  20  18  -4  16  20   0  -8  28 -10 -12  28  -8  -6   6  -8   2\n",
      "  -6  -6   8  14  22   6 -12 -12  -6   0   0   4  12   2 -22   4  24  16\n",
      "  22   4   4  -4   4  14  34   4   6   8  24   6  10   0  -2  10  -8  -2\n",
      "  -4 -12  12 -12 -30  12  26   4   8  16  10 -32  18  10  12   8  24 -24\n",
      "   4   8  26  10  18  -6 -12  -4 -10  -4   4  20   8 -18   4  36  -2   6\n",
      "  18  12  -2 -18  -2 -16  10   8  16  -8  14  22  20  14   0  10 -26   8\n",
      "   4 -12  12  22   4 -22  -6  20   0 -10  -4  -8  -8 -30  26 -30 -10  -6\n",
      "  -8  16  12 -12   2  10 -14  24  -4  -2  -6 -12  -6   8 -14  -2  -2 -24\n",
      " -28  -4 -24 -10   0  -2 -34   8  28  36  16   4   2  -6  -4 -12 -12  -2\n",
      "   2  -2   6  20   8 -30   4  -2  -2   2  -2 -26 -12   2   4  18  12 -24\n",
      "  -6 -16  -8  12  -8 -10  12  36 -22   6  -4 -12  -6  -8   8 -12 -20   2\n",
      " -12   0   4  22   6  32  12  -4   0  14  10   2  14  10   4  14  26 -30\n",
      " -12 -14 -24  -8  34  -2   0   6  36  28  22  20 -30 -20  -2   0  12   8\n",
      "  18  18  34  -2   8  -2  -2  12  20 -18  10  -2   2 -10   4  -2  -4   4\n",
      " -10   6 -10 -10 -10  -6  30  -8  14   2   4  -6 -22 -18  14 -12   0  -6\n",
      " -18   0 -16 -10 -16 -38 -14  22   8   0 -12  -8  -2  -2  -4   0  -2  22\n",
      "  14  -6  -2  -6  -4  12 -32  24   6   6 -22   8   4 -18 -10  -6  -2  12\n",
      "  20 -12 -16   2   8  22 -14   2   2  12 -20 -24  -8   8  12  14   8  12\n",
      " -12  12   2 -16 -10  14   4  -4 -10  14  -6 -14 -14  -6 -20  10 -12   2\n",
      "  -8  -6 -14 -24 -20 -10 -18  -6  18  18  28  18   4  20   0  -2  10  -8\n",
      " -26   4   2 -16  12 -10 -10 -14  24  22  12 -10  24 -14  -6  10 -12 -14\n",
      "   6  -8   2  10  26 -14 -14   4   4   8  16  10 -16  20  10   8 -14   2\n",
      " -28  12 -26  -6   0   0 -20 -18   2 -16   4   4   6 -10  10 -12  -4 -18\n",
      "  -8   4  12   0 -16 -14   0  10 -40  14]\n",
      "The sqaure of the walking distance array: \n",
      " [   0   36   36  256  196  400   36  484  144  144    0  144  100  484\n",
      "  196    4  196  144    0  256  100  256  324   16  484    4  196    4\n",
      "    0 1444  324    4  400    0   36  400   16  324   36    4   16  100\n",
      "  196  324    4  256   16   36  100   16    4    4    0   64  144  144\n",
      "  100  100   64  100   64   16  100    4   36   16  196   36  144   16\n",
      "  196  144  196 1296   16   16 1296  256  484  100  324   64 1156  100\n",
      " 1296  324    4   36   16   16  100   16    4    4  100 1600  256    4\n",
      "   16  484    4  324    4  324   36    4   64    4   64   64   64  784\n",
      "  324   64  144  576  400  100   16  324   64   36   36    4 1156  196\n",
      "  100 1936   16   16  256   36    0   36   36  100  484  400  196 1024\n",
      "   64  100  576  144  484    4  196    4    0  100  324   16  100  576\n",
      "  324    0  144  324  144  196  100  256   36   16  256 1156    4   64\n",
      "  256   36    0   64   64 1764   16  100    4    4  676  324  400  484\n",
      "  100   64    0    4  400  256   16  400  100 1936  196  144  484    4\n",
      "    4  784    4   36 1444    4  676  100  196  484 1444    0  144  144\n",
      "  100   64  256   36   36  576   36  324   16   64  324  196   16  196\n",
      "  400   36  256  100  100   16   16  100    0    4   16    0  324 1156\n",
      "    0   64   16   64   64  100   16  144  100    0   16    4  144    0\n",
      "  100  100  900    0   36   64  784   16  256  400  324  144  400  100\n",
      "  196  256    0  196   64  324  196    0  324    0  144  576    4  576\n",
      "   36  484  256  400  484  144  400  100   16  100    4  400    4  144\n",
      "    0    4   64  324  100   36   36  576   16  100    4  484  100  900\n",
      "   16   64    4  100  196  196  400  400  144   36  324  256  196  196\n",
      "  784    0  324   36    0   36  324  900   16  100  400    0  484 1156\n",
      "   64  196  256  256  196  484   36  144  400  100   16  196  100   64\n",
      "   16    0  100    4  196  784   36   64  484    0  144    4  144   36\n",
      "   64   36  100   16  324   36  900  576  784   36    0    0   64  400\n",
      "  576    4   64 1156   36    4  100  144   16   16  100   16  144  144\n",
      "  100  400   64  100   16   36   64  144 1296   16  676  144  144   16\n",
      "    4  484  676  100  784   64  144  400  256 1024   64  100    0    4\n",
      "  400   64   64    4   64  784   36   64  324    0    4  144    4  196\n",
      "   16  100   36    4    4   36 1024    4    0    4   36  256  324   16\n",
      "  144   36  144    4    0    0  256  196  100   36  256  256   16  144\n",
      "  484   36    4  100 1024  400    0    4  100  100 1444  256  484    4\n",
      "  100  100   36  144   16   36   16   16  196  900  100  784  400    4\n",
      "   64  100   36   64   16    4  256  144   16   36   16   64  196  196\n",
      "   64  196  484   36   16   36  144   16  100  144   16  196  400  196\n",
      "  256   36  324   36   16   16  100 1600  576  576  100  484  484  196\n",
      "   16   64   16  324    4   64   64   36  100  144    4  900   36  400\n",
      "  400    4  400  484  256   64   16  400  196 1024    0  100   36   16\n",
      "    0    4  400   64    4    4    4    4    0   16  100  144   64  576\n",
      "  676  196  576  100  400  324   16  256  400    0   64  784  100  144\n",
      "  784   64   36   36   64    4   36   36   64  196  484   36  144  144\n",
      "   36    0    0   16  144    4  484   16  576  256  484   16   16   16\n",
      "   16  196 1156   16   36   64  576   36  100    0    4  100   64    4\n",
      "   16  144  144  144  900  144  676   16   64  256  100 1024  324  100\n",
      "  144   64  576  576   16   64  676  100  324   36  144   16  100   16\n",
      "   16  400   64  324   16 1296    4   36  324  144    4  324    4  256\n",
      "  100   64  256   64  196  484  400  196    0  100  676   64   16  144\n",
      "  144  484   16  484   36  400    0  100   16   64   64  900  676  900\n",
      "  100   36   64  256  144  144    4  100  196  576   16    4   36  144\n",
      "   36   64  196    4    4  576  784   16  576  100    0    4 1156   64\n",
      "  784 1296  256   16    4   36   16  144  144    4    4    4   36  400\n",
      "   64  900   16    4    4    4    4  676  144    4   16  324  144  576\n",
      "   36  256   64  144   64  100  144 1296  484   36   16  144   36   64\n",
      "   64  144  400    4  144    0   16  484   36 1024  144   16    0  196\n",
      "  100    4  196  100   16  196  676  900  144  196  576   64 1156    4\n",
      "    0   36 1296  784  484  400  900  400    4    0  144   64  324  324\n",
      " 1156    4   64    4    4  144  400  324  100    4    4  100   16    4\n",
      "   16   16  100   36  100  100  100   36  900   64  196    4   16   36\n",
      "  484  324  196  144    0   36  324    0  256  100  256 1444  196  484\n",
      "   64    0  144   64    4    4   16    0    4  484  196   36    4   36\n",
      "   16  144 1024  576   36   36  484   64   16  324  100   36    4  144\n",
      "  400  144  256    4   64  484  196    4    4  144  400  576   64   64\n",
      "  144  196   64  144  144  144    4  256  100  196   16   16  100  196\n",
      "   36  196  196   36  400  100  144    4   64   36  196  576  400  100\n",
      "  324   36  324  324  784  324   16  400    0    4  100   64  676   16\n",
      "    4  256  144  100  100  196  576  484  144  100  576  196   36  100\n",
      "  144  196   36   64    4  100  676  196  196   16   16   64  256  100\n",
      "  256  400  100   64  196    4  784  144  676   36    0    0  400  324\n",
      "    4  256   16   16   36  100  100  144   16  324   64   16  144    0\n",
      "  256  196    0  100 1600  196]\n",
      "[0.0, 36.0, 72.0, 328.0, 524.0, 924.0, 960.0, 1444.0, 1588.0, 1732.0, 1732.0, 1876.0, 1976.0, 2460.0, 2656.0, 2660.0, 2856.0, 3000.0, 3000.0, 3256.0, 3356.0, 3612.0, 3936.0, 3952.0, 4436.0, 4440.0, 4636.0, 4640.0, 4640.0, 6084.0, 6408.0, 6412.0, 6812.0, 6812.0, 6848.0, 7248.0, 7264.0, 7588.0, 7624.0, 7628.0, 7644.0, 7744.0, 7940.0, 8264.0, 8268.0, 8524.0, 8540.0, 8576.0, 8676.0, 8692.0, 8696.0, 8700.0, 8700.0, 8764.0, 8908.0, 9052.0, 9152.0, 9252.0, 9316.0, 9416.0, 9480.0, 9496.0, 9596.0, 9600.0, 9636.0, 9652.0, 9848.0, 9884.0, 10028.0, 10044.0, 10240.0, 10384.0, 10580.0, 11876.0, 11892.0, 11908.0, 13204.0, 13460.0, 13944.0, 14044.0, 14368.0, 14432.0, 15588.0, 15688.0, 16984.0, 17308.0, 17312.0, 17348.0, 17364.0, 17380.0, 17480.0, 17496.0, 17500.0, 17504.0, 17604.0, 19204.0, 19460.0, 19464.0, 19480.0, 19964.0, 19968.0, 20292.0, 20296.0, 20620.0, 20656.0, 20660.0, 20724.0, 20728.0, 20792.0, 20856.0, 20920.0, 21704.0, 22028.0, 22092.0, 22236.0, 22812.0, 23212.0, 23312.0, 23328.0, 23652.0, 23716.0, 23752.0, 23788.0, 23792.0, 24948.0, 25144.0, 25244.0, 27180.0, 27196.0, 27212.0, 27468.0, 27504.0, 27504.0, 27540.0, 27576.0, 27676.0, 28160.0, 28560.0, 28756.0, 29780.0, 29844.0, 29944.0, 30520.0, 30664.0, 31148.0, 31152.0, 31348.0, 31352.0, 31352.0, 31452.0, 31776.0, 31792.0, 31892.0, 32468.0, 32792.0, 32792.0, 32936.0, 33260.0, 33404.0, 33600.0, 33700.0, 33956.0, 33992.0, 34008.0, 34264.0, 35420.0, 35424.0, 35488.0, 35744.0, 35780.0, 35780.0, 35844.0, 35908.0, 37672.0, 37688.0, 37788.0, 37792.0, 37796.0, 38472.0, 38796.0, 39196.0, 39680.0, 39780.0, 39844.0, 39844.0, 39848.0, 40248.0, 40504.0, 40520.0, 40920.0, 41020.0, 42956.0, 43152.0, 43296.0, 43780.0, 43784.0, 43788.0, 44572.0, 44576.0, 44612.0, 46056.0, 46060.0, 46736.0, 46836.0, 47032.0, 47516.0, 48960.0, 48960.0, 49104.0, 49248.0, 49348.0, 49412.0, 49668.0, 49704.0, 49740.0, 50316.0, 50352.0, 50676.0, 50692.0, 50756.0, 51080.0, 51276.0, 51292.0, 51488.0, 51888.0, 51924.0, 52180.0, 52280.0, 52380.0, 52396.0, 52412.0, 52512.0, 52512.0, 52516.0, 52532.0, 52532.0, 52856.0, 54012.0, 54012.0, 54076.0, 54092.0, 54156.0, 54220.0, 54320.0, 54336.0, 54480.0, 54580.0, 54580.0, 54596.0, 54600.0, 54744.0, 54744.0, 54844.0, 54944.0, 55844.0, 55844.0, 55880.0, 55944.0, 56728.0, 56744.0, 57000.0, 57400.0, 57724.0, 57868.0, 58268.0, 58368.0, 58564.0, 58820.0, 58820.0, 59016.0, 59080.0, 59404.0, 59600.0, 59600.0, 59924.0, 59924.0, 60068.0, 60644.0, 60648.0, 61224.0, 61260.0, 61744.0, 62000.0, 62400.0, 62884.0, 63028.0, 63428.0, 63528.0, 63544.0, 63644.0, 63648.0, 64048.0, 64052.0, 64196.0, 64196.0, 64200.0, 64264.0, 64588.0, 64688.0, 64724.0, 64760.0, 65336.0, 65352.0, 65452.0, 65456.0, 65940.0, 66040.0, 66940.0, 66956.0, 67020.0, 67024.0, 67124.0, 67320.0, 67516.0, 67916.0, 68316.0, 68460.0, 68496.0, 68820.0, 69076.0, 69272.0, 69468.0, 70252.0, 70252.0, 70576.0, 70612.0, 70612.0, 70648.0, 70972.0, 71872.0, 71888.0, 71988.0, 72388.0, 72388.0, 72872.0, 74028.0, 74092.0, 74288.0, 74544.0, 74800.0, 74996.0, 75480.0, 75516.0, 75660.0, 76060.0, 76160.0, 76176.0, 76372.0, 76472.0, 76536.0, 76552.0, 76552.0, 76652.0, 76656.0, 76852.0, 77636.0, 77672.0, 77736.0, 78220.0, 78220.0, 78364.0, 78368.0, 78512.0, 78548.0, 78612.0, 78648.0, 78748.0, 78764.0, 79088.0, 79124.0, 80024.0, 80600.0, 81384.0, 81420.0, 81420.0, 81420.0, 81484.0, 81884.0, 82460.0, 82464.0, 82528.0, 83684.0, 83720.0, 83724.0, 83824.0, 83968.0, 83984.0, 84000.0, 84100.0, 84116.0, 84260.0, 84404.0, 84504.0, 84904.0, 84968.0, 85068.0, 85084.0, 85120.0, 85184.0, 85328.0, 86624.0, 86640.0, 87316.0, 87460.0, 87604.0, 87620.0, 87624.0, 88108.0, 88784.0, 88884.0, 89668.0, 89732.0, 89876.0, 90276.0, 90532.0, 91556.0, 91620.0, 91720.0, 91720.0, 91724.0, 92124.0, 92188.0, 92252.0, 92256.0, 92320.0, 93104.0, 93140.0, 93204.0, 93528.0, 93528.0, 93532.0, 93676.0, 93680.0, 93876.0, 93892.0, 93992.0, 94028.0, 94032.0, 94036.0, 94072.0, 95096.0, 95100.0, 95100.0, 95104.0, 95140.0, 95396.0, 95720.0, 95736.0, 95880.0, 95916.0, 96060.0, 96064.0, 96064.0, 96064.0, 96320.0, 96516.0, 96616.0, 96652.0, 96908.0, 97164.0, 97180.0, 97324.0, 97808.0, 97844.0, 97848.0, 97948.0, 98972.0, 99372.0, 99372.0, 99376.0, 99476.0, 99576.0, 101020.0, 101276.0, 101760.0, 101764.0, 101864.0, 101964.0, 102000.0, 102144.0, 102160.0, 102196.0, 102212.0, 102228.0, 102424.0, 103324.0, 103424.0, 104208.0, 104608.0, 104612.0, 104676.0, 104776.0, 104812.0, 104876.0, 104892.0, 104896.0, 105152.0, 105296.0, 105312.0, 105348.0, 105364.0, 105428.0, 105624.0, 105820.0, 105884.0, 106080.0, 106564.0, 106600.0, 106616.0, 106652.0, 106796.0, 106812.0, 106912.0, 107056.0, 107072.0, 107268.0, 107668.0, 107864.0, 108120.0, 108156.0, 108480.0, 108516.0, 108532.0, 108548.0, 108648.0, 110248.0, 110824.0, 111400.0, 111500.0, 111984.0, 112468.0, 112664.0, 112680.0, 112744.0, 112760.0, 113084.0, 113088.0, 113152.0, 113216.0, 113252.0, 113352.0, 113496.0, 113500.0, 114400.0, 114436.0, 114836.0, 115236.0, 115240.0, 115640.0, 116124.0, 116380.0, 116444.0, 116460.0, 116860.0, 117056.0, 118080.0, 118080.0, 118180.0, 118216.0, 118232.0, 118232.0, 118236.0, 118636.0, 118700.0, 118704.0, 118708.0, 118712.0, 118716.0, 118716.0, 118732.0, 118832.0, 118976.0, 119040.0, 119616.0, 120292.0, 120488.0, 121064.0, 121164.0, 121564.0, 121888.0, 121904.0, 122160.0, 122560.0, 122560.0, 122624.0, 123408.0, 123508.0, 123652.0, 124436.0, 124500.0, 124536.0, 124572.0, 124636.0, 124640.0, 124676.0, 124712.0, 124776.0, 124972.0, 125456.0, 125492.0, 125636.0, 125780.0, 125816.0, 125816.0, 125816.0, 125832.0, 125976.0, 125980.0, 126464.0, 126480.0, 127056.0, 127312.0, 127796.0, 127812.0, 127828.0, 127844.0, 127860.0, 128056.0, 129212.0, 129228.0, 129264.0, 129328.0, 129904.0, 129940.0, 130040.0, 130040.0, 130044.0, 130144.0, 130208.0, 130212.0, 130228.0, 130372.0, 130516.0, 130660.0, 131560.0, 131704.0, 132380.0, 132396.0, 132460.0, 132716.0, 132816.0, 133840.0, 134164.0, 134264.0, 134408.0, 134472.0, 135048.0, 135624.0, 135640.0, 135704.0, 136380.0, 136480.0, 136804.0, 136840.0, 136984.0, 137000.0, 137100.0, 137116.0, 137132.0, 137532.0, 137596.0, 137920.0, 137936.0, 139232.0, 139236.0, 139272.0, 139596.0, 139740.0, 139744.0, 140068.0, 140072.0, 140328.0, 140428.0, 140492.0, 140748.0, 140812.0, 141008.0, 141492.0, 141892.0, 142088.0, 142088.0, 142188.0, 142864.0, 142928.0, 142944.0, 143088.0, 143232.0, 143716.0, 143732.0, 144216.0, 144252.0, 144652.0, 144652.0, 144752.0, 144768.0, 144832.0, 144896.0, 145796.0, 146472.0, 147372.0, 147472.0, 147508.0, 147572.0, 147828.0, 147972.0, 148116.0, 148120.0, 148220.0, 148416.0, 148992.0, 149008.0, 149012.0, 149048.0, 149192.0, 149228.0, 149292.0, 149488.0, 149492.0, 149496.0, 150072.0, 150856.0, 150872.0, 151448.0, 151548.0, 151548.0, 151552.0, 152708.0, 152772.0, 153556.0, 154852.0, 155108.0, 155124.0, 155128.0, 155164.0, 155180.0, 155324.0, 155468.0, 155472.0, 155476.0, 155480.0, 155516.0, 155916.0, 155980.0, 156880.0, 156896.0, 156900.0, 156904.0, 156908.0, 156912.0, 157588.0, 157732.0, 157736.0, 157752.0, 158076.0, 158220.0, 158796.0, 158832.0, 159088.0, 159152.0, 159296.0, 159360.0, 159460.0, 159604.0, 160900.0, 161384.0, 161420.0, 161436.0, 161580.0, 161616.0, 161680.0, 161744.0, 161888.0, 162288.0, 162292.0, 162436.0, 162436.0, 162452.0, 162936.0, 162972.0, 163996.0, 164140.0, 164156.0, 164156.0, 164352.0, 164452.0, 164456.0, 164652.0, 164752.0, 164768.0, 164964.0, 165640.0, 166540.0, 166684.0, 166880.0, 167456.0, 167520.0, 168676.0, 168680.0, 168680.0, 168716.0, 170012.0, 170796.0, 171280.0, 171680.0, 172580.0, 172980.0, 172984.0, 172984.0, 173128.0, 173192.0, 173516.0, 173840.0, 174996.0, 175000.0, 175064.0, 175068.0, 175072.0, 175216.0, 175616.0, 175940.0, 176040.0, 176044.0, 176048.0, 176148.0, 176164.0, 176168.0, 176184.0, 176200.0, 176300.0, 176336.0, 176436.0, 176536.0, 176636.0, 176672.0, 177572.0, 177636.0, 177832.0, 177836.0, 177852.0, 177888.0, 178372.0, 178696.0, 178892.0, 179036.0, 179036.0, 179072.0, 179396.0, 179396.0, 179652.0, 179752.0, 180008.0, 181452.0, 181648.0, 182132.0, 182196.0, 182196.0, 182340.0, 182404.0, 182408.0, 182412.0, 182428.0, 182428.0, 182432.0, 182916.0, 183112.0, 183148.0, 183152.0, 183188.0, 183204.0, 183348.0, 184372.0, 184948.0, 184984.0, 185020.0, 185504.0, 185568.0, 185584.0, 185908.0, 186008.0, 186044.0, 186048.0, 186192.0, 186592.0, 186736.0, 186992.0, 186996.0, 187060.0, 187544.0, 187740.0, 187744.0, 187748.0, 187892.0, 188292.0, 188868.0, 188932.0, 188996.0, 189140.0, 189336.0, 189400.0, 189544.0, 189688.0, 189832.0, 189836.0, 190092.0, 190192.0, 190388.0, 190404.0, 190420.0, 190520.0, 190716.0, 190752.0, 190948.0, 191144.0, 191180.0, 191580.0, 191680.0, 191824.0, 191828.0, 191892.0, 191928.0, 192124.0, 192700.0, 193100.0, 193200.0, 193524.0, 193560.0, 193884.0, 194208.0, 194992.0, 195316.0, 195332.0, 195732.0, 195732.0, 195736.0, 195836.0, 195900.0, 196576.0, 196592.0, 196596.0, 196852.0, 196996.0, 197096.0, 197196.0, 197392.0, 197968.0, 198452.0, 198596.0, 198696.0, 199272.0, 199468.0, 199504.0, 199604.0, 199748.0, 199944.0, 199980.0, 200044.0, 200048.0, 200148.0, 200824.0, 201020.0, 201216.0, 201232.0, 201248.0, 201312.0, 201568.0, 201668.0, 201924.0, 202324.0, 202424.0, 202488.0, 202684.0, 202688.0, 203472.0, 203616.0, 204292.0, 204328.0, 204328.0, 204328.0, 204728.0, 205052.0, 205056.0, 205312.0, 205328.0, 205344.0, 205380.0, 205480.0, 205580.0, 205724.0, 205740.0, 206064.0, 206128.0, 206144.0, 206288.0, 206288.0, 206544.0, 206740.0, 206740.0, 206840.0, 208440.0, 208636.0]\n"
     ]
    },
    {
     "data": {
      "image/png": "[encoded data removed]",
      "text/plain": [
       "<Figure size 432x288 with 1 Axes>"
      ]
     },
     "metadata": {
      "needs_background": "light"
     },
     "output_type": "display_data"
    }
   ],
   "source": [
    "#8-Diffusion using random walk\n",
    "\n",
    "from pylab import *\n",
    "\n",
    "a = 2 * randint(0, 2, size=(1000, 200))-1\n",
    "print(a)\n",
    "walking_dist = a.sum(1)\n",
    "print(\"The walking distance for each walker: \\n\", a.sum(1))\n",
    "walking_dist_sqr = np.square(walking_dist)\n",
    "print(\"The sqaure of the walking distance array: \\n\", walking_dist_sqr)\n",
    "mean_dist_sqr = []\n",
    "mean = 0\n",
    "for i in walking_dist_sqr:\n",
    "    mean += i\n",
    "    mean_dist_sqr.append(np.mean(mean))\n",
    "print(mean_dist_sqr)\n",
    "distances = np.sqrt(walking_dist_sqr)\n",
    "m = np.arange(0, len(distances))\n",
    "plt.plot(m, distances)\n",
    "plt.show()\n"
   ]
  },
  {
   "cell_type": "code",
   "execution_count": null,
   "metadata": {},
   "outputs": [],
   "source": []
  }
 ],
 "metadata": {
  "kernelspec": {
   "display_name": "Python 3 (ipykernel)",
   "language": "python",
   "name": "python3"
  },
  "language_info": {
   "codemirror_mode": {
    "name": "ipython",
    "version": 3
   },
   "file_extension": ".py",
   "mimetype": "text/x-python",
   "name": "python",
   "nbconvert_exporter": "python",
   "pygments_lexer": "ipython3",
   "version": "3.9.12"
  }
 },
 "nbformat": 4,
 "nbformat_minor": 2
}
