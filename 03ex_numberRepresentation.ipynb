{
 "cells": [
  {
   "cell_type": "markdown",
   "metadata": {},
   "source": [
    "You can solve these exercises in the room or at home. For this week, exercises have to be solved by creating a dedicated `.py` file (or files) called `03ex_numberRepresentation.py`.\n",
    "\n",
    "In case you need multiple files, name them `03ex_numberRepresentation_es01.py`, `03ex_numberRepresentation_es02.py` and so on. In this case, it's convenient to create a dedicated directory, to be named `03ex_numberRepresentation`. \n",
    "\n",
    "The exercises need to run without errors with `python3`."
   ]
  },
  {
   "cell_type": "markdown",
   "metadata": {},
   "source": [
    "1\\. **Number representation**\n",
    "\n",
    "Write a function that converts numbers among the bin, dec, and hex representations (bin<->dec<->hex).\n",
    "Determine the input type in the function, and pass another argument to choose the output representation."
   ]
  },
  {
   "cell_type": "code",
   "execution_count": 23,
   "metadata": {},
   "outputs": [
    {
     "name": "stdout",
     "output_type": "stream",
     "text": [
      "Decimal to hex 0xb\n",
      "Hex to binary 0b1011\n",
      "binary to decimal 11\n"
     ]
    }
   ],
   "source": [
    "from lib2to3.pytree import convert\n",
    "from unicodedata import decimal\n",
    "\n",
    "\n",
    "def convertNumber(number,  output: type):\n",
    "    number = str(number)\n",
    "    input_base = None\n",
    "\n",
    "    if 'x' in number:\n",
    "        input_base = 16\n",
    "    elif 'b' in number:\n",
    "        input_base = 2\n",
    "    else:\n",
    "        input_base = 10\n",
    "\n",
    "    return output(int(number,input_base))\n",
    "\n",
    "print(\"Decimal to Hex\", convertNumber(11, hex))\n",
    "print(\"Hex to Binary\", convertNumber(hex(11), bin))\n",
    "print(\"Binary to Decimal\", convertNumber(bin(11), int))"
   ]
  },
  {
   "cell_type": "markdown",
   "metadata": {},
   "source": [
    "2\\. **32-bit floating point number**\n",
    "\n",
    "Write a function that converts a 32 bit binary string (for example, `110000101011000000000000`) into a single precision floating point in decimal representation. Interpret the various bits as sign, fractional part of the mantissa and exponent, according to the IEEE 754 reccommendations."
   ]
  },
  {
   "cell_type": "code",
   "execution_count": 56,
   "metadata": {},
   "outputs": [
    {
     "data": {
      "text/plain": [
       "6.75"
      ]
     },
     "execution_count": 56,
     "metadata": {},
     "output_type": "execute_result"
    }
   ],
   "source": [
    "def convertBinaryToFloating(number):\n",
    "    sign = int(number[0])\n",
    "    exponent_part = number[1:9]\n",
    "    fraction = number[9:]\n",
    "\n",
    "    # Exponent calculation\n",
    "    integer = int(exponent_part,2)\n",
    "    exponent = integer - ( pow(2, len(exponent_part)-1) -1 )\n",
    "\n",
    "    # Mantissa calculation\n",
    "    significand = 1\n",
    "    for index, bit in enumerate(fraction):\n",
    "        if bit == '1':\n",
    "            significand += pow(2, -1*(index+1))\n",
    "\n",
    "    # Apply the formula\n",
    "    result = pow(-1,sign) * pow(2,exponent) * significand\n",
    "    return result\n",
    "\n",
    "convertBinaryToFloating(\"01000000110110000000000000000000\")"
   ]
  },
  {
   "cell_type": "markdown",
   "metadata": {},
   "source": [
    "3\\. **Underflow and overflow**\n",
    "\n",
    "Write a program to determine the underflow and overflow limits (within a factor of 2) for floating point numbers on your computer. \n",
    "\n",
    "*Hint*: define two variables initialized to 1, and halve/double them for a sufficient amount of times to exceed the under/over-flow limits."
   ]
  },
  {
   "cell_type": "code",
   "execution_count": null,
   "metadata": {},
   "outputs": [],
   "source": [
    "import numpy as np\n",
    "\n",
    "def under_over_flow():\n",
    "    underflow_value = 1.0\n",
    "    overflow_value = 1.0\n",
    "    limit = pow(2,20)\n",
    "\n",
    "    underflow_trial_count = 0\n",
    "\n",
    "    while(underflow_value > 0.0):\n",
    "        underflow_value /= 2\n",
    "        underflow_trial_count += 1\n",
    "        # print(underflow_value, underflow_trial_count)\n",
    "\n",
    "    overflow_temp_value = 0\n",
    "    overflow_trial_count = 0\n",
    "    while(overflow_value >= overflow_temp_value and overflow_trial_count < limit):\n",
    "        overflow_temp_value = 2 * overflow_value\n",
    "        if np.sign(overflow_value) != np.sign(overflow_temp_value):\n",
    "            break\n",
    "        overflow_trial_count += 1\n",
    "        overflow_value *= 2.0  \n",
    "    \n",
    "    return underflow_trial_count, overflow_trial_count\n",
    "\n",
    "under_over_flow()"
   ]
  },
  {
   "cell_type": "markdown",
   "metadata": {},
   "source": [
    "4\\. **Machine precision**\n",
    "\n",
    "Similarly to the previous exercise, write a program to determine the machine precision for floating point numbers.\n",
    "\n",
    "*Hint*: define a new variable by adding an increasingly smaller value and check when the addition starts to have no effect on the number."
   ]
  },
  {
   "cell_type": "code",
   "execution_count": 8,
   "metadata": {},
   "outputs": [
    {
     "data": {
      "text/plain": [
       "(15, 1.1111111111111112)"
      ]
     },
     "execution_count": 8,
     "metadata": {},
     "output_type": "execute_result"
    }
   ],
   "source": [
    "def machine_precision():\n",
    "    floating_number = 1.0\n",
    "    trial_count = 0\n",
    "    limit = 10000\n",
    "\n",
    "    while(trial_count < limit):\n",
    "        temp = pow(10,-1*(trial_count+1))\n",
    "        temp_sum = floating_number + temp\n",
    "        if temp_sum == floating_number:\n",
    "            break\n",
    "        floating_number = temp_sum\n",
    "        trial_count += 1\n",
    "    return trial_count, floating_number\n",
    "\n",
    "machine_precision()"
   ]
  },
  {
   "cell_type": "markdown",
   "metadata": {},
   "source": [
    "5\\. **Quadratic solution**\n",
    "\n",
    "Write a function that takes in input three parameters $a$, $b$ and $c$ and prints out the two solutions to the quadratic equation $ax^2+bx+c=0$ using the standard formula:\n",
    "$$\n",
    "x=\\frac{-b\\pm\\sqrt{b^2-4ac}}{2a}\n",
    "$$\n",
    "\n",
    "(a) use the function to compute the solution for $a=0.001$, $b=1000$ and $c=0.001$\n",
    "\n",
    "(b) re-express the standard solution formula by multiplying the numerator and the denominator by $-b\\mp\\sqrt{b^2-4ac}$ and again find the solution for $a=0.001$, $b=1000$ and $c=0.001$. How does it compare with what has been previously obtained, and why? (add the answer to a Python comment)\n",
    "\n",
    "(c) write a function that computes the roots of a quadratic equation accurately in all cases"
   ]
  },
  {
   "cell_type": "code",
   "execution_count": 15,
   "metadata": {},
   "outputs": [
    {
     "name": "stdout",
     "output_type": "stream",
     "text": [
      "Standard quadratic formula\n",
      "Solution x1=-9.999894245993346e-07,\n",
      "Solution x2=-999999.999999\n",
      "\n",
      "Updated quadratic formula\n",
      "Solution x1=-9.999894245993346e-07,\n",
      "Solution x2=-999999.9999990001\n"
     ]
    }
   ],
   "source": [
    "from math import sqrt\n",
    "\n",
    "def discriminant(a,b,c):\n",
    "    return sqrt(pow(b,2) - 4*a*c)\n",
    "\n",
    "def quadratic(a,b,c):\n",
    "    print(\"Standard quadratic formula\")\n",
    "    sol_1 = (-1*b + discriminant(a,b,c) ) / (2*a)\n",
    "    sol_2 = (-1*b - discriminant(a,b,c) ) / (2*a)\n",
    "\n",
    "    print(\"Solution x1={},\\nSolution x2={}\".format(sol_1, sol_2))\n",
    "\n",
    "# Part A\n",
    "quadratic(a=0.001, b=1000, c=0.001)\n",
    "\n",
    "# Part B\n",
    "def quadratic_updated(a,b,c):\n",
    "    print(\"\\nUpdated quadratic formula\")\n",
    "    sol_1 = (-1*b + discriminant(a,b,c) ) * (-1*b - discriminant(a,b,c)) / ( (2*a) * (-1*b - discriminant(a,b,c)))\n",
    "    sol_2 = (-1*b - discriminant(a,b,c) ) * (-1*b + discriminant(a,b,c)) / ( (2*a) * (-1*b + discriminant(a,b,c)))\n",
    "    \n",
    "    print(\"Solution x1={},\\nSolution x2={}\".format(sol_1, sol_2))\n",
    "\n",
    "quadratic_updated(a=0.001, b=1000, c=0.001)\n",
    "\n",
    "# ANSWER, PART B:\n",
    "# I have observed that the precision of my solution increased as \n",
    "# my second solution has more significant figures after the decimal point"
   ]
  },
  {
   "cell_type": "markdown",
   "metadata": {},
   "source": [
    "6\\. **The derivative**\n",
    "\n",
    "Write a program that implements the function $f(x)=x(x−1)$\n",
    "\n",
    "(a) Calculate the derivative of the function at the point $x = 1$ using the derivative definition:\n",
    "\n",
    "$$\n",
    "\\frac{{\\rm d}f}{{\\rm d}x} = \\lim_{\\delta\\to0} \\frac{f(x+\\delta)-f(x)}{\\delta}\n",
    "$$\n",
    "\n",
    "with $\\delta = 10^{−2}$. Calculate the true value of the same derivative analytically and compare it with the answer your program gives. The two will not agree perfectly. Why?\n",
    "\n",
    "(b) Repeat the calculation for $\\delta = 10^{−4}, 10^{−6}, 10^{−8}, 10^{−10}, 10^{−12}$ and $10^{−14}$. How does the accuracy scale with $\\delta$?"
   ]
  },
  {
   "cell_type": "code",
   "execution_count": 2,
   "metadata": {},
   "outputs": [
    {
     "name": "stdout",
     "output_type": "stream",
     "text": [
      "3.009999999999957\n",
      "3.0100000000000016\n"
     ]
    }
   ],
   "source": [
    "def f(x):\n",
    "    return x*(x-1)\n",
    "\n",
    "def derivative(function, value):\n",
    "    constant = pow(10,-2)\n",
    "    numerator = function(value + constant) - function(value)\n",
    "    denominator = constant\n",
    "    result = numerator / denominator\n",
    "    return result\n",
    "\n",
    "def analytical():\n",
    "    temp = ( (2.01 * 1.01) - 2*1 ) / 0.01\n",
    "    return temp\n",
    "\n",
    "print(derivative(f,2))\n",
    "print(analytical())\n"
   ]
  },
  {
   "cell_type": "markdown",
   "metadata": {},
   "source": [
    "7\\. **Integral of a semicircle**\n",
    "\n",
    "Consider the integral of the semicircle of radius 1:\n",
    "$$\n",
    "I=\\int_{-1}^{1} \\sqrt(1-x^2) {\\rm d}x\n",
    "$$\n",
    "which is known to be $I=\\frac{\\pi}{2}=1.57079632679...$.\n",
    "\n",
    "Alternatively we can use the Riemann definition of the integral:\n",
    "$$\n",
    "I=\\lim_{N\\to\\infty} \\sum_{k=1}^{N} h y_k \n",
    "$$\n",
    "\n",
    "with $h=2/N$ the width of each of the $N$ slices the domain is divided into and where\n",
    "$y_k$ is the value of the function at the $k-$th slice.\n",
    "\n",
    "(a) Write a program to compute the integral with $N=100$. How does the result compare to the true value?\n",
    "\n",
    "(b) How much can $N$ be increased if the computation needs to be run in less than a second? What is the gain in running it for 1 minute? Use `timeit` to measure the time."
   ]
  }
 ],
 "metadata": {
  "kernelspec": {
   "display_name": "Python 3.10.6 64-bit",
   "language": "python",
   "name": "python3"
  },
  "language_info": {
   "codemirror_mode": {
    "name": "ipython",
    "version": 3
   },
   "file_extension": ".py",
   "mimetype": "text/x-python",
   "name": "python",
   "nbconvert_exporter": "python",
   "pygments_lexer": "ipython3",
   "version": "3.10.6"
  },
  "vscode": {
   "interpreter": {
    "hash": "b0fa6594d8f4cbf19f97940f81e996739fb7646882a419484c72d19e05852a7e"
   }
  }
 },
 "nbformat": 4,
 "nbformat_minor": 2
}
