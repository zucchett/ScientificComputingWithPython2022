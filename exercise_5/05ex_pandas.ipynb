{
 "cells": [
  {
   "cell_type": "markdown",
   "metadata": {
    "pycharm": {
     "name": "#%% md\n"
    }
   },
   "source": [
    "1\\. **Pandas DataFrame**\n",
    "\n",
    "This exercise consists in analyzing a dataset containg timing information from a series of Time-to-Digital-Converters (TDC) implemented in a pair of FPGAs. Each measurement (i.e. each row of the input file) consists of a flag that specifies the type of message ('HEAD', which in this case is always 1), two addresses of the TDC providing the signal ('FPGA' and 'TDC_CHANNEL'), and the timing information ('ORBIT_CNT', 'BX_COUNTER', and 'TDC_MEAS'). Each TDC count corresponds to 25/30 ns, whereas a unit of BX_COUNTER corresponds to 25 ns, and the ORBIT_CNT is increased every `x` BX_COUNTER. This allows to store the time in a similar way to hours, minutes and seconds."
   ]
  },
  {
   "cell_type": "code",
   "execution_count": 33,
   "metadata": {
    "pycharm": {
     "name": "#%%\n"
    }
   },
   "outputs": [],
   "source": [
    "# If haven't downloaded it yet, please get the data file with wget\n",
    "#!wget https://www.dropbox.com/s/xvjzaxzz3ysphme/data_000637.txt -P ./data/"
   ]
  },
  {
   "cell_type": "markdown",
   "metadata": {
    "pycharm": {
     "name": "#%% md\n"
    }
   },
   "source": [
    "1\\. Create a Pandas DataFrame reading N rows of the `data/data_000637.txt` dataset. Choose N to be smaller than or equal to the maximum number of rows and larger that 10k (check the documentation)."
   ]
  },
  {
   "cell_type": "code",
   "execution_count": 1,
   "metadata": {
    "pycharm": {
     "name": "#%%\n"
    }
   },
   "outputs": [
    {
     "name": "stdout",
     "output_type": "stream",
     "text": [
      "      HEAD  FPGA  TDC_CHANNEL   ORBIT_CNT  BX_COUNTER  TDC_MEAS\n",
      "0        1     0          123  3869200167        2374        26\n",
      "1        1     0          124  3869200167        2374        27\n",
      "2        1     0           63  3869200167        2553        28\n",
      "3        1     0           64  3869200167        2558        19\n",
      "4        1     0           64  3869200167        2760        25\n",
      "...    ...   ...          ...         ...         ...       ...\n",
      "9995     1     0           61  3869200267         696        11\n",
      "9996     1     0           60  3869200267         701         5\n",
      "9997     1     0           59  3869200267         707        23\n",
      "9998     1     0           63  3869200267         706        15\n",
      "9999     1     0           49  3869200267         777        13\n",
      "\n",
      "[10000 rows x 6 columns]\n"
     ]
    }
   ],
   "source": [
    "import pandas as pd\n",
    "\n",
    "file_name = \"data/data_000637.txt\"\n",
    "N=10000 \n",
    "#we use a pandas function to read the cvs file\n",
    "data= pd.read_csv(file_name,nrows=N)\n",
    "print(data)"
   ]
  },
  {
   "cell_type": "markdown",
   "metadata": {
    "pycharm": {
     "name": "#%% md\n"
    }
   },
   "source": [
    "2\\. Estimate the number of BX in a ORBIT (the value `x`).\n",
    "\n",
    "*Hint*: check when the BX counter reaches the maximum value before being reset to 0."
   ]
  },
  {
   "cell_type": "code",
   "execution_count": 3,
   "metadata": {
    "pycharm": {
     "name": "#%%\n"
    }
   },
   "outputs": [
    {
     "name": "stdout",
     "output_type": "stream",
     "text": [
      "The maximum value of the BX_COUNTER is: 3563\n"
     ]
    }
   ],
   "source": [
    "x=data[\"BX_COUNTER\"].max()\n",
    "print(\"The maximum value of the BX_COUNTER is:\", x)"
   ]
  },
  {
   "cell_type": "markdown",
   "metadata": {
    "pycharm": {
     "name": "#%% md\n"
    }
   },
   "source": [
    "3\\. Create a new column with the absolute time in ns (as a combination of the other three columns with timing information) since the beginning of the data acquisition, and convert the new column to a Time Series."
   ]
  },
  {
   "cell_type": "code",
   "execution_count": 5,
   "metadata": {
    "pycharm": {
     "name": "#%%\n"
    }
   },
   "outputs": [
    {
     "name": "stdout",
     "output_type": "stream",
     "text": [
      "The dataset with the new column is:\n",
      "       HEAD  FPGA  TDC_CHANNEL   ORBIT_CNT  BX_COUNTER  TDC_MEAS      ABS_TIME\n",
      "0        1     0          123  3869200167        2374        26  3.446490e+14\n",
      "1        1     0          124  3869200167        2374        27  3.446490e+14\n",
      "2        1     0           63  3869200167        2553        28  3.446490e+14\n",
      "3        1     0           64  3869200167        2558        19  3.446490e+14\n",
      "4        1     0           64  3869200167        2760        25  3.446490e+14\n",
      "...    ...   ...          ...         ...         ...       ...           ...\n",
      "9995     1     0           61  3869200267         696        11  3.446490e+14\n",
      "9996     1     0           60  3869200267         701         5  3.446490e+14\n",
      "9997     1     0           59  3869200267         707        23  3.446490e+14\n",
      "9998     1     0           63  3869200267         706        15  3.446490e+14\n",
      "9999     1     0           49  3869200267         777        13  3.446490e+14\n",
      "\n",
      "[10000 rows x 7 columns]\n",
      "The time series are:\n",
      " 0      1970-01-04 23:44:09.004934896\n",
      "1      1970-01-04 23:44:09.004934897\n",
      "2      1970-01-04 23:44:09.004939373\n",
      "3      1970-01-04 23:44:09.004939490\n",
      "4      1970-01-04 23:44:09.004944545\n",
      "                    ...             \n",
      "9995   1970-01-04 23:44:09.013800434\n",
      "9996   1970-01-04 23:44:09.013800554\n",
      "9997   1970-01-04 23:44:09.013800719\n",
      "9998   1970-01-04 23:44:09.013800687\n",
      "9999   1970-01-04 23:44:09.013802460\n",
      "Name: ABS_TIME, Length: 10000, dtype: datetime64[ns]\n"
     ]
    }
   ],
   "source": [
    "import datetime\n",
    "\n",
    "abs_times=[]\n",
    "for i, row in data.iterrows():\n",
    "    time= (row[\"TDC_MEAS\"]*25/30+ row[\"BX_COUNTER\"]*25+ row[\"ORBIT_CNT\"]*x*25)\n",
    "    \n",
    "    #add the element to the abs_time list\n",
    "    abs_times.append(time)\n",
    "    \n",
    "#create new column in the dataset\n",
    "data[\"ABS_TIME\"]=abs_times\n",
    "print(\"The dataset with the new column is:\\n\",data)\n",
    "\n",
    "#new column as a time series with the absolute time in ns \n",
    "time_series=pd.to_datetime(data[\"ABS_TIME\"], unit=\"ns\")\n",
    "print(\"The time series are:\\n\", time_series)"
   ]
  },
  {
   "cell_type": "markdown",
   "metadata": {
    "pycharm": {
     "name": "#%% md\n"
    }
   },
   "source": [
    "4\\. Find out the duration of the data taking in hours, minutes and seconds, by using the features of the Time Series. Perform this check reading the whole dataset."
   ]
  },
  {
   "cell_type": "code",
   "execution_count": 6,
   "metadata": {
    "pycharm": {
     "name": "#%%\n"
    }
   },
   "outputs": [
    {
     "name": "stdout",
     "output_type": "stream",
     "text": [
      "The duration of the data taking is:\n",
      "    HEAD  FPGA  TDC_CHANNEL   ORBIT_CNT  BX_COUNTER  TDC_MEAS  \\\n",
      "0     1     0          123  3869200167        2374        26   \n",
      "1     1     0          124  3869200167        2374        27   \n",
      "2     1     0           63  3869200167        2553        28   \n",
      "3     1     0           64  3869200167        2558        19   \n",
      "4     1     0           64  3869200167        2760        25   \n",
      "5     1     0           63  3869200167        2762         4   \n",
      "6     1     0           61  3869200167        2772        14   \n",
      "7     1     0          139  3869200167        2776         0   \n",
      "8     1     0           62  3869200167        2774        21   \n",
      "9     1     0           60  3869200167        2788         7   \n",
      "\n",
      "                   ABS_TIME  \n",
      "0 3 days 23:44:09.004934896  \n",
      "1 3 days 23:44:09.004934897  \n",
      "2 3 days 23:44:09.004939373  \n",
      "3 3 days 23:44:09.004939490  \n",
      "4 3 days 23:44:09.004944545  \n",
      "5 3 days 23:44:09.004944578  \n",
      "6 3 days 23:44:09.004944836  \n",
      "7 3 days 23:44:09.004944925  \n",
      "8 3 days 23:44:09.004944892  \n",
      "9 3 days 23:44:09.004945230  \n"
     ]
    }
   ],
   "source": [
    "data= pd.read_csv(file_name)\n",
    "abs_times=[]\n",
    "for i,row in data.iterrows():\n",
    "    time= (row[\"TDC_MEAS\"]*25/30+ row[\"BX_COUNTER\"]*25+ row[\"ORBIT_CNT\"]*x*25)\n",
    "    abs_times.append(time)\n",
    "    \n",
    "#duration of the data taking    \n",
    "data['ABS_TIME'] = pd.to_timedelta(abs_times)\n",
    "\n",
    "#the duration for the first 10 entries\n",
    "print(\"The duration of the data taking is:\\n\",data.head(10))\n"
   ]
  },
  {
   "cell_type": "markdown",
   "metadata": {
    "pycharm": {
     "name": "#%% md\n"
    }
   },
   "source": [
    "5\\. Use the `.groupby()` method to find out the noisy channels, i.e. the TDC channels with most counts (print to screen the top 3 and the corresponding counts)"
   ]
  },
  {
   "cell_type": "code",
   "execution_count": 8,
   "metadata": {
    "pycharm": {
     "name": "#%%\n"
    }
   },
   "outputs": [
    {
     "name": "stdout",
     "output_type": "stream",
     "text": [
      "The noisy channels are:\n",
      "                HEAD    FPGA  ORBIT_CNT  BX_COUNTER  TDC_MEAS  ABS_TIME\n",
      "TDC_CHANNEL                                                           \n",
      "139          108059  108059     108059      108059    108059    108059\n",
      "64            66020   66020      66020       66020     66020     66020\n",
      "63            64642   64642      64642       64642     64642     64642\n"
     ]
    }
   ],
   "source": [
    "count=data.groupby(\"TDC_CHANNEL\").count() \n",
    "#The top 3 with the most counts\n",
    "noisy=count.sort_values(by=\"HEAD\",ascending=False).iloc[:3]\n",
    "print(\"The noisy channels are:\\n\", noisy)"
   ]
  },
  {
   "cell_type": "markdown",
   "metadata": {
    "pycharm": {
     "name": "#%% md\n"
    }
   },
   "source": [
    "6\\. Count the number of non-empty orbits (i.e. the number of orbits with at least one hit)."
   ]
  },
  {
   "cell_type": "code",
   "execution_count": 9,
   "metadata": {
    "pycharm": {
     "name": "#%%\n"
    }
   },
   "outputs": [
    {
     "name": "stdout",
     "output_type": "stream",
     "text": [
      "The non empty orbits are:\n",
      " 11001\n"
     ]
    }
   ],
   "source": [
    "print(\"The non empty orbits are:\\n\",len(data.groupby(\"ORBIT_CNT\").count()))\n"
   ]
  },
  {
   "cell_type": "markdown",
   "metadata": {
    "pycharm": {
     "name": "#%% md\n"
    }
   },
   "source": [
    "7\\. Count the number of unique orbits with at least one measurement from TDC_CHANNEL=139."
   ]
  },
  {
   "cell_type": "code",
   "execution_count": 10,
   "metadata": {
    "pycharm": {
     "name": "#%%\n"
    }
   },
   "outputs": [
    {
     "data": {
      "text/plain": [
       "10976"
      ]
     },
     "execution_count": 10,
     "metadata": {},
     "output_type": "execute_result"
    }
   ],
   "source": [
    "data[data['TDC_CHANNEL']==139].ORBIT_CNT.nunique()"
   ]
  },
  {
   "cell_type": "markdown",
   "metadata": {
    "pycharm": {
     "name": "#%% md\n"
    }
   },
   "source": [
    "8\\. Create two Series (one for each FPGA) that have the TDC channel as index, and the number of counts for the corresponding TDC channel as values."
   ]
  },
  {
   "cell_type": "code",
   "execution_count": 13,
   "metadata": {
    "pycharm": {
     "name": "#%%\n"
    }
   },
   "outputs": [
    {
     "name": "stdout",
     "output_type": "stream",
     "text": [
      "The FPGA identified with 0:\n",
      " 139    75617\n",
      "64     64581\n",
      "63     63724\n",
      "61     48699\n",
      "62     48275\n",
      "       ...  \n",
      "130       33\n",
      "137       32\n",
      "30         4\n",
      "129        2\n",
      "39         1\n",
      "Name: TDC_CHANNEL, Length: 124, dtype: int64\n",
      "==========================\n",
      "The FPGA identified with 1:\n",
      " 2      32669\n",
      "139    32442\n",
      "1      28438\n",
      "4      26403\n",
      "3      21970\n",
      "       ...  \n",
      "9         80\n",
      "130       38\n",
      "138       36\n",
      "137       36\n",
      "129       35\n",
      "Name: TDC_CHANNEL, Length: 132, dtype: int64\n"
     ]
    }
   ],
   "source": [
    "fpga_0 = pd.Series(data[data['FPGA']==0]['TDC_CHANNEL'].value_counts())\n",
    "#select the  FPGA with number 1\n",
    "fpga_1 = pd.Series(data[data['FPGA']==1]['TDC_CHANNEL'].value_counts()) \n",
    "print(\"The FPGA identified with 0:\\n\", fpga_0)\n",
    "print(\"==========================\")\n",
    "print(\"The FPGA identified with 1:\\n\", fpga_1)"
   ]
  },
  {
   "cell_type": "markdown",
   "metadata": {
    "pycharm": {
     "name": "#%% md\n"
    }
   },
   "source": [
    "9\\. **Optional:** Create two histograms (one for each FPGA) that show the number of counts for each TDC channel."
   ]
  },
  {
   "cell_type": "code",
   "execution_count": 14,
   "metadata": {
    "pycharm": {
     "name": "#%%\n"
    }
   },
   "outputs": [
    {
     "data": {
      "text/plain": [
       "Text(0, 0.5, 'Count')"
      ]
     },
     "execution_count": 14,
     "metadata": {},
     "output_type": "execute_result"
    },
    {
     "data": {
      "image/png": "[encoded data removed]",
      "text/plain": [
       "<Figure size 432x288 with 2 Axes>"
      ]
     },
     "metadata": {
      "needs_background": "light"
     },
     "output_type": "display_data"
    }
   ],
   "source": [
    "import matplotlib.pyplot as plt\n",
    "\n",
    "fig, (ax1, ax2, ) = plt.subplots(1, 2,)\n",
    "\n",
    "ax1.hist(fpga_0)\n",
    "ax1.set_title('FPGA_0')\n",
    "ax1.set_xlabel('TDC channel')\n",
    "ax1.set_ylabel('Count')\n",
    "\n",
    "ax2.hist(fpga_1)\n",
    "ax2.set_title('FPGA_1')\n",
    "ax2.set_xlabel('TDC channel')\n",
    "ax2.set_ylabel('Count')"
   ]
  },
  {
   "cell_type": "code",
   "execution_count": 42,
   "metadata": {
    "collapsed": false,
    "pycharm": {
     "name": "#%%\n"
    }
   },
   "outputs": [],
   "source": []
  }
 ],
 "metadata": {
  "kernelspec": {
   "display_name": "Python 3.9.12 ('base')",
   "language": "python",
   "name": "python3"
  },
  "language_info": {
   "codemirror_mode": {
    "name": "ipython",
    "version": 3
   },
   "file_extension": ".py",
   "mimetype": "text/x-python",
   "name": "python",
   "nbconvert_exporter": "python",
   "pygments_lexer": "ipython3",
   "version": "3.9.12"
  },
  "vscode": {
   "interpreter": {
    "hash": "ffccf19f5bea3c345c854d505af45eafe6890432f50bcc58a653a75b25e4385b"
   }
  }
 },
 "nbformat": 4,
 "nbformat_minor": 2
}
