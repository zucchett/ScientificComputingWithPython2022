{
 "cells": [
  {
   "cell_type": "markdown",
   "metadata": {},
   "source": [
    "1\\. **Reductions**\n",
    "\n",
    "Find the total mean, and the mean for each row and column of the following matrix:\n",
    "\n",
    "```python\n",
    "m = np.arange(12).reshape((3,4))\n",
    "```"
   ]
  },
  {
   "cell_type": "code",
   "execution_count": 6,
   "metadata": {},
   "outputs": [
    {
     "name": "stdout",
     "output_type": "stream",
     "text": [
      "5.5\n",
      "[4. 5. 6. 7.]\n",
      "[1.5 5.5 9.5]\n"
     ]
    }
   ],
   "source": [
    "import numpy as np\n",
    "m = np.arange(12).reshape((3,4))\n",
    "# print(m)\n",
    "print(m.mean())\n",
    "print(m.mean(0))\n",
    "print(m.mean(1))"
   ]
  },
  {
   "cell_type": "markdown",
   "metadata": {},
   "source": [
    "2\\. **Outer product**\n",
    "\n",
    "Find the outer product of the following vectors:\n",
    "\n",
    "```python\n",
    "u = np.array([1, 3, 5, 7])\n",
    "v = np.array([2, 4, 6, 8])\n",
    "```\n",
    "\n",
    "Use different methods to do this:\n",
    "\n",
    "   1. Using the function `outer` in numpy\n",
    "   2. Using a nested `for` loop or a list comprehension\n",
    "   3. Using numpy broadcasting operations"
   ]
  },
  {
   "cell_type": "code",
   "execution_count": 7,
   "metadata": {},
   "outputs": [
    {
     "name": "stdout",
     "output_type": "stream",
     "text": [
      "[[ 2  4  6  8]\n",
      " [ 6 12 18 24]\n",
      " [10 20 30 40]\n",
      " [14 28 42 56]]\n"
     ]
    }
   ],
   "source": [
    "#1\n",
    "import numpy as np\n",
    "u = np.array([1, 3, 5, 7])\n",
    "v = np.array([2, 4, 6, 8])\n",
    "a = np.outer(u,v)\n",
    "print(a)"
   ]
  },
  {
   "cell_type": "code",
   "execution_count": 8,
   "metadata": {},
   "outputs": [
    {
     "name": "stdout",
     "output_type": "stream",
     "text": [
      "[[ 2  4  6  8]\n",
      " [ 6 12 18 24]\n",
      " [10 20 30 40]\n",
      " [14 28 42 56]]\n"
     ]
    }
   ],
   "source": [
    "#2\n",
    "import numpy as np\n",
    "u = np.array([1, 3, 5, 7])\n",
    "v = np.array([2, 4, 6, 8])\n",
    "list_vector = []\n",
    "for i in u:\n",
    "    list_temp = []\n",
    "    for j in v:\n",
    "        list_temp.append(i*j)\n",
    "    list_vector.append(list_temp)\n",
    "    \n",
    "list_comp_deneme = []\n",
    "vector = np.array(list_vector)\n",
    "print(vector)"
   ]
  },
  {
   "cell_type": "code",
   "execution_count": 9,
   "metadata": {},
   "outputs": [
    {
     "name": "stdout",
     "output_type": "stream",
     "text": [
      "[[ 2  4  6  8]\n",
      " [ 6 12 18 24]\n",
      " [10 20 30 40]\n",
      " [14 28 42 56]]\n"
     ]
    }
   ],
   "source": [
    "#3\n",
    "import numpy as np\n",
    "u = np.array([1, 3, 5, 7])\n",
    "v = np.array([2, 4, 6, 8])\n",
    "a = np.tile(u,(4,1)).T\n",
    "b = np.tile(v,(4,1))\n",
    "# print(a)\n",
    "print(a*b)\n"
   ]
  },
  {
   "cell_type": "markdown",
   "metadata": {},
   "source": [
    "3\\. **Matrix masking**\n",
    "\n",
    "Create a 10 by 6 matrix of float random numbers, distributed between 0 and 3 according to a flat distribution.\n",
    "\n",
    "After creating the matrix, set all entries $< 0.3$ to zero using a mask."
   ]
  },
  {
   "cell_type": "code",
   "execution_count": 10,
   "metadata": {},
   "outputs": [
    {
     "name": "stdout",
     "output_type": "stream",
     "text": [
      "[[1.39293837 0.858418   0.         1.65394431 2.15840691 0.84621292]\n",
      " [2.9422926  2.05448922 0.9618638  1.17635255 0.34317802 2.18714912]\n",
      " [1.31571673 0.         0.79608851 2.21398622 0.54747519 0.        ]\n",
      " [1.06310275 1.06365517 0.63440096 1.69886359 0.72445532 1.22204702]\n",
      " [2.16733015 0.96887674 0.36178866 0.45652646 0.58742809 1.26195225]\n",
      " [0.         0.86740235 0.86172553 0.4936851  1.27749087 0.62452245]\n",
      " [1.27905392 0.89338916 1.88832004 0.50183668 1.87185886 0.        ]\n",
      " [0.31728548 1.24447864 0.86630916 0.7513661  0.96606853 0.98555979]\n",
      " [0.51948512 0.61289453 0.         0.8263408  0.60306013 1.09013601]\n",
      " [0.34276383 0.30412079 0.41702221 2.0439023  2.62637053 1.02084467]]\n"
     ]
    }
   ],
   "source": [
    "import numpy.random as npr\n",
    "import numpy as np\n",
    "npr.seed(123)\n",
    "a = npr.rand(10,6)\n",
    "random = npr.randint(1,4,size=(10,6))\n",
    "a = random*a\n",
    "mask = (a<0.3)\n",
    "a[mask]=0\n",
    "print(a)"
   ]
  },
  {
   "cell_type": "markdown",
   "metadata": {},
   "source": [
    "4\\. **Trigonometric functions**\n",
    "\n",
    "Use `np.linspace` to create an array of 100 numbers between $0$ and $2\\pi$ (inclusive).\n",
    "\n",
    "  * Extract every 10th element using the slice notation\n",
    "  * Reverse the array using the slice notation\n",
    "  * Extract elements where the absolute difference between the `sin` and `cos` functions evaluated for that element is $< 0.1$\n",
    "  * **Optional**: make a plot showing the sin and cos functions and indicate where they are close"
   ]
  },
  {
   "cell_type": "code",
   "execution_count": 11,
   "metadata": {},
   "outputs": [
    {
     "name": "stdout",
     "output_type": "stream",
     "text": [
      "[5.71198664 3.8079911  3.17332591 2.53866073 0.63466518]\n"
     ]
    },
    {
     "data": {
      "image/png": "[encoded data removed]",
      "text/plain": [
       "<Figure size 432x288 with 1 Axes>"
      ]
     },
     "metadata": {
      "needs_background": "light"
     },
     "output_type": "display_data"
    }
   ],
   "source": [
    "import math\n",
    "import matplotlib.pyplot as plt\n",
    "import numpy as np\n",
    "array = np.linspace(0,2*np.pi,100)\n",
    "counter = 1\n",
    "# temp_list= []\n",
    "deneme_list=[]\n",
    "# for i in a:\n",
    "#     if counter%10 == 0 and counter<100:\n",
    "#         b =a[counter]\n",
    "#         temp_list.append(b)\n",
    "#     counter = counter + 1\n",
    "deneme_list = array\n",
    "deneme_list = deneme_list[::10] \n",
    "deneme_list = deneme_list[1:]\n",
    "\n",
    "# print(deneme_list,\"\\n-----------\")\n",
    "\n",
    "deneme_list =deneme_list[::-1]\n",
    "# print(deneme_list,\"\\n-----------\")\n",
    "\n",
    "elements = []\n",
    "elements_sin = []\n",
    "elements_cos = []\n",
    "for i in deneme_list:\n",
    "    if abs(np.sin(i)) - abs(np.cos(i)) < 0.1:\n",
    "        elements_sin.append(np.sin(i))\n",
    "        elements_cos.append(np.cos(i))\n",
    "        elements.append(i)\n",
    "elements = np.array(elements)\n",
    "print(elements)\n",
    "\n",
    "\n",
    "plt.plot(elements,elements_sin,color='r',label='sin')\n",
    "plt.plot(elements,elements_cos,color='g',label='cos')\n",
    "plt.xlabel(\"number\")\n",
    "plt.ylabel(\"absolute value\")\n",
    "plt.show()\n",
    "# elements = []\n",
    "# for i in deneme_list:\n",
    "#     if np.absolute(np.sin(i)) - np.absolute(np.cos(i)) < 0.1:\n",
    "#         print(abs(np.sin(i)))\n",
    "#         print(abs(np.cos(i)))\n",
    "#         elements.append(i)\n",
    "# elements = np.array(elements)\n",
    "# print(elements)\n",
    "\n"
   ]
  },
  {
   "cell_type": "markdown",
   "metadata": {},
   "source": [
    "5\\. **Matrices**\n",
    "\n",
    "Create a matrix that shows the 10 by 10 multiplication table.\n",
    "\n",
    " * Find the trace of the matrix\n",
    " * Extract the anti-diagonal matrix (this should be ```array([10, 18, 24, 28, 30, 30, 28, 24, 18, 10])```)\n",
    " * Extract the diagonal offset by 1 upwards (this should be ```array([ 2,  6, 12, 20, 30, 42, 56, 72, 90])```)"
   ]
  },
  {
   "cell_type": "code",
   "execution_count": 12,
   "metadata": {},
   "outputs": [
    {
     "name": "stdout",
     "output_type": "stream",
     "text": [
      "[[  1   2   3   4   5   6   7   8   9  10]\n",
      " [  2   4   6   8  10  12  14  16  18  20]\n",
      " [  3   6   9  12  15  18  21  24  27  30]\n",
      " [  4   8  12  16  20  24  28  32  36  40]\n",
      " [  5  10  15  20  25  30  35  40  45  50]\n",
      " [  6  12  18  24  30  36  42  48  54  60]\n",
      " [  7  14  21  28  35  42  49  56  63  70]\n",
      " [  8  16  24  32  40  48  56  64  72  80]\n",
      " [  9  18  27  36  45  54  63  72  81  90]\n",
      " [ 10  20  30  40  50  60  70  80  90 100]] table\n",
      "385 trace\n",
      "[10 18 24 28 30 30 28 24 18 10] anti-diagonal\n",
      "[ 2  6 12 20 30 42 56 72 90]\n"
     ]
    }
   ],
   "source": [
    "import numpy as np\n",
    "m = np.arange(1,11)\n",
    "m=m*m[:,np.newaxis]\n",
    "\n",
    "print(m,\"table\")\n",
    "m_trace = np.trace(m)\n",
    "print(m_trace,\"trace\")\n",
    "diagonal = np.fliplr(m)\n",
    "print(np.diag(diagonal),\"anti-diagonal\")\n",
    "diagonal_offset = np.diag(m,1)\n",
    "print(diagonal_offset)\n",
    "\n",
    "\n"
   ]
  },
  {
   "cell_type": "markdown",
   "metadata": {},
   "source": [
    "6\\. **Broadcasting**\n",
    "\n",
    "Use broadcasting to create a grid of distances.\n",
    "\n",
    "Route 66 crosses the following cities in the US: Chicago, Springfield, Saint-Louis, Tulsa, Oklahoma City, Amarillo, Santa Fe, Albuquerque, Flagstaff, Los Angeles.\n",
    "\n",
    "The corresponding positions in miles are: 0, 198, 303, 736, 871, 1175, 1475, 1544, 1913, 2448\n",
    "\n",
    "  * Build a 2D grid of distances among each city along Route 66\n",
    "  * Convert the distances in km"
   ]
  },
  {
   "cell_type": "code",
   "execution_count": 13,
   "metadata": {},
   "outputs": [
    {
     "name": "stdout",
     "output_type": "stream",
     "text": [
      "[[   0  198  303  736  871 1175 1475 1544 1913 2448]\n",
      " [ 198    0  105  538  673  977 1277 1346 1715 2250]\n",
      " [ 303  105    0  433  568  872 1172 1241 1610 2145]\n",
      " [ 736  538  433    0  135  439  739  808 1177 1712]\n",
      " [ 871  673  568  135    0  304  604  673 1042 1577]\n",
      " [1175  977  872  439  304    0  300  369  738 1273]\n",
      " [1475 1277 1172  739  604  300    0   69  438  973]\n",
      " [1544 1346 1241  808  673  369   69    0  369  904]\n",
      " [1913 1715 1610 1177 1042  738  438  369    0  535]\n",
      " [2448 2250 2145 1712 1577 1273  973  904  535    0]] \n",
      "---------------------------\n",
      "[[   0.        318.650112  487.631232 1184.477184 1401.738624 1890.9792\n",
      "  2373.7824   2484.827136 3078.675072 3939.674112]\n",
      " [ 318.650112    0.        168.98112   865.827072 1083.088512 1572.329088\n",
      "  2055.132288 2166.177024 2760.02496  3621.024   ]\n",
      " [ 487.631232  168.98112     0.        696.845952  914.107392 1403.347968\n",
      "  1886.151168 1997.195904 2591.04384  3452.04288 ]\n",
      " [1184.477184  865.827072  696.845952    0.        217.26144   706.502016\n",
      "  1189.305216 1300.349952 1894.197888 2755.196928]\n",
      " [1401.738624 1083.088512  914.107392  217.26144     0.        489.240576\n",
      "   972.043776 1083.088512 1676.936448 2537.935488]\n",
      " [1890.9792   1572.329088 1403.347968  706.502016  489.240576    0.\n",
      "   482.8032    593.847936 1187.695872 2048.694912]\n",
      " [2373.7824   2055.132288 1886.151168 1189.305216  972.043776  482.8032\n",
      "     0.        111.044736  704.892672 1565.891712]\n",
      " [2484.827136 2166.177024 1997.195904 1300.349952 1083.088512  593.847936\n",
      "   111.044736    0.        593.847936 1454.846976]\n",
      " [3078.675072 2760.02496  2591.04384  1894.197888 1676.936448 1187.695872\n",
      "   704.892672  593.847936    0.        860.99904 ]\n",
      " [3939.674112 3621.024    3452.04288  2755.196928 2537.935488 2048.694912\n",
      "  1565.891712 1454.846976  860.99904     0.      ]]\n"
     ]
    }
   ],
   "source": [
    "import numpy as np\n",
    "miles = np.array([0, 198, 303, 736, 871, 1175, 1475, 1544, 1913, 2448])\n",
    "\n",
    "route_66 = np.abs(miles - miles[:,np.newaxis])\n",
    "print(route_66,\"\\n---------------------------\")\n",
    "route_66 = route_66*1.609344\n",
    "print(route_66)\n"
   ]
  },
  {
   "cell_type": "markdown",
   "metadata": {},
   "source": [
    "7\\. **Prime numbers sieve**\n",
    "\n",
    "Compute the prime numbers in the 0-N (start with N=99) range with a sieve (mask).\n",
    "\n",
    "  * Constract a shape (N,) boolean array, which is the mask\n",
    "  * Identify the multiples of each number starting from 2 and set accordingly the corresponding mask element\n",
    "  * Apply the mask to obtain an array of ordered prime numbers\n",
    "  * Check the performances (with `timeit`); how does it scale with N?\n",
    "  * Implement the optimization suggested in the [sieve of Eratosthenes](https://en.wikipedia.org/wiki/Sieve_of_Eratosthenes)"
   ]
  },
  {
   "cell_type": "code",
   "execution_count": null,
   "metadata": {},
   "outputs": [],
   "source": []
  },
  {
   "cell_type": "code",
   "execution_count": 14,
   "metadata": {},
   "outputs": [
    {
     "name": "stdout",
     "output_type": "stream",
     "text": [
      "[ 2  3  5  7 11 13 17 19 23 29 31 37 41 43 47 53 59 61 67 71 73 79 83 89\n",
      " 97]\n"
     ]
    }
   ],
   "source": [
    "#without %Timeit\n",
    "import numpy as np\n",
    "prime_range = np.arange(0,100)\n",
    "prime_range_mask = list(np.ones(100,dtype=bool))\n",
    "for index in range (2,len(prime_range_mask)):\n",
    "    prime_range_mask[0] = False\n",
    "    prime_range_mask[1] = False\n",
    "    if prime_range[index] > 2:\n",
    "        # check for factors\n",
    "        index_multiplier = 2\n",
    "        for i in range(2, prime_range[index]):\n",
    "            if (prime_range[index] % i) == 0:\n",
    "                prime_range_mask[index] = False\n",
    "#                 print(prime_range_mask[index],prime_range[index])\n",
    "            else:\n",
    "                while index*index_multiplier <100:\n",
    "                    prime_range_mask[index*index_multiplier]=False\n",
    "                    index_multiplier = index_multiplier +1\n",
    "                break\n",
    "print(prime_range[prime_range_mask])"
   ]
  },
  {
   "cell_type": "code",
   "execution_count": 15,
   "metadata": {},
   "outputs": [
    {
     "name": "stdout",
     "output_type": "stream",
     "text": [
      "[ 2  3  5  7 11 13 17 19 23 29 31 37 41 43 47 53 59 61 67 71 73 79 83 89\n",
      " 97]\n",
      "243 µs ± 11.2 µs per loop (mean ± std. dev. of 7 runs, 1,000 loops each)\n"
     ]
    }
   ],
   "source": [
    "#with %Timeit\n",
    "import numpy as np\n",
    "def prime():\n",
    "    prime_range = np.arange(0,100)\n",
    "    prime_range_mask = list(np.ones(100,dtype=bool))\n",
    "    for index in range (2,len(prime_range_mask)):\n",
    "        prime_range_mask[0] = False\n",
    "        prime_range_mask[1] = False\n",
    "        if prime_range[index] > 2:\n",
    "            # check for factors\n",
    "            index_multiplier = 2\n",
    "            for i in range(2, prime_range[index]):\n",
    "                if (prime_range[index] % i) == 0:\n",
    "                    prime_range_mask[index] = False\n",
    "    #                 print(prime_range_mask[index],prime_range[index])\n",
    "                else:\n",
    "                    while index*index_multiplier <100:\n",
    "                        prime_range_mask[index*index_multiplier]=False\n",
    "                        index_multiplier = index_multiplier +1\n",
    "                    break\n",
    "    return prime_range_mask\n",
    "prime_range_mask = prime()\n",
    "prime_range = np.arange(0,100) \n",
    "print(prime_range[prime_range_mask])\n",
    "%timeit prime()"
   ]
  },
  {
   "cell_type": "code",
   "execution_count": 16,
   "metadata": {},
   "outputs": [
    {
     "ename": "SyntaxError",
     "evalue": "unexpected character after line continuation character (1744696073.py, line 1)",
     "output_type": "error",
     "traceback": [
      "\u001b[1;36m  Input \u001b[1;32mIn [16]\u001b[1;36m\u001b[0m\n\u001b[1;33m    8\\. **Diffusion using random walk**\u001b[0m\n\u001b[1;37m      ^\u001b[0m\n\u001b[1;31mSyntaxError\u001b[0m\u001b[1;31m:\u001b[0m unexpected character after line continuation character\n"
     ]
    }
   ],
   "source": [
    "8\\. **Diffusion using random walk**\n",
    "\n",
    "Consider a simple random walk process: at each step in time, a walker jumps right or left (+1 or -1) with equal probability. The goal is to find the typical distance from the origin of many random walkers after a given amount of time.\n",
    "\n",
    "*Hint*: create a 2D array where each row represents a walker, and each column represents a time step.\n",
    "\n",
    "  * Take 1000 walkers and let them walk for 200 steps\n",
    "  * Use `randint` to create a 2D array of size $walkers \\times steps$ with values -1 or 1\n",
    "  * Calculate the walking distances for each walker (e.g. by summing the elements in each row)\n",
    "  * Take the square of the previously-obtained array (element-wise)\n",
    "  * Compute the mean of the squared distances at each step (i.e. the mean along the columns)\n",
    "  * **Optional**: plot the average distances ($\\sqrt(distance^2)$) as a function of time (step)"
   ]
  },
  {
   "cell_type": "code",
   "execution_count": 17,
   "metadata": {},
   "outputs": [
    {
     "name": "stdout",
     "output_type": "stream",
     "text": [
      "200\n",
      "[[  1   0  -1 ...  76  75  76]\n",
      " [ -1   0   1 ... -10  -9 -10]\n",
      " [ -1   0   1 ... -46 -45 -46]\n",
      " ...\n",
      " [ -1   0   1 ...  -4  -5  -4]\n",
      " [ -1  -2  -3 ... -24 -25 -24]\n",
      " [  1   2   1 ...  -6  -5  -4]]\n",
      "[1442.472  253.14   733.184  664.324  484.012   71.156   72.784  217.048\n",
      "  175.868  234.044   36.004  167.164   25.028  379.984  415.52   388.66\n",
      "  232.556   77.744  333.86   435.964  612.488  927.724  415.72  1180.516\n",
      " 1173.956  115.324  277.124 2192.832  255.12   207.58   445.996 1551.248\n",
      " 1110.324  150.58  1308.64   116.916  322.724  259.172  503.596  195.628\n",
      "   61.    1258.204 1190.656  438.064  187.432  520.192  426.936 1900.508\n",
      "   84.032  342.284  115.408 1110.144   96.     711.452  694.424 1589.048\n",
      "  196.156 1709.848 1791.788  218.28   175.996  426.652  115.88   151.816\n",
      "  146.472 1423.568  235.4    667.992   33.016  136.668   60.228 1714.86\n",
      "  937.18   387.284  220.66   280.832  219.66   153.696  260.204  449.996\n",
      " 1084.584  648.42   416.936   66.516  152.38   454.736   86.512  226.756\n",
      "  304.988  119.132  120.956   95.656  329.264  126.348  605.904  314.484\n",
      "  288.     230.58   162.592  976.208  797.308  174.712  102.968  163.52\n",
      "  536.584  534.488  198.336  648.572   81.704 4336.616   67.564   39.412\n",
      "  825.084  466.976 1446.06   304.988  251.784  384.668   96.016  902.316\n",
      "   54.552  139.584  902.14   438.796 1817.808   72.552   98.416 1390.568\n",
      "  941.296  229.352  624.624  326.036 1692.164  183.768  319.032  791.308\n",
      " 1119.136  167.7    991.432   44.172   64.096  283.608  692.736  714.86\n",
      "  326.86   266.208  184.524 1583.608  635.912 2224.792  761.364  249.796\n",
      "  122.104  522.256   65.14   180.764  321.476   76.724 1074.96    50.972\n",
      "   85.452  335.18   364.912  249.444  300.324  483.456  105.02  1037.928\n",
      " 1000.712 1279.564  942.128   55.796   74.04   169.34    57.976  126.788\n",
      "   68.76   281.084   86.216  930.276  838.736 1938.952  411.452   70.976\n",
      "   66.94    45.632  285.224  823.92    71.524   98.288   57.896  148.628\n",
      " 1559.036 1231.316  394.604  687.684  143.448  125.752  221.78   177.988]\n"
     ]
    },
    {
     "data": {
      "image/png": "[encoded data removed]",
      "text/plain": [
       "<Figure size 432x288 with 1 Axes>"
      ]
     },
     "metadata": {
      "needs_background": "light"
     },
     "output_type": "display_data"
    }
   ],
   "source": [
    "import numpy.random as npr\n",
    "import numpy as np\n",
    "list_main = []\n",
    "walkers = (2 * npr.randint(0,2,size=(200,1000)))-1\n",
    "count=0\n",
    "# print (len(walkers))\n",
    "for i in walkers:\n",
    "    list_temp = []\n",
    "    for j in range(len(i)):\n",
    "        if j > 0:\n",
    "            count = count + i[j]\n",
    "            list_temp.append(count)\n",
    "        else:\n",
    "            count = i[0]\n",
    "            list_temp.append(i[j])\n",
    "    list_main.append(list_temp)\n",
    "print(len(list_main))\n",
    "\n",
    "b = np.array(list_main)\n",
    "print(b)\n",
    "\n",
    "square = b*b\n",
    "print(np.mean(square,axis=1))\n",
    "# print(np.mean(b,axis=0))\n",
    "# print(b)\n",
    "\n",
    "from matplotlib import pyplot as plt \n",
    "plt.plot(np.mean(square,axis=1))\n",
    "plt.show()\n",
    "\n",
    "  "
   ]
  },
  {
   "cell_type": "code",
   "execution_count": null,
   "metadata": {},
   "outputs": [],
   "source": []
  }
 ],
 "metadata": {
  "kernelspec": {
   "display_name": "Python 3 (ipykernel)",
   "language": "python",
   "name": "python3"
  },
  "language_info": {
   "codemirror_mode": {
    "name": "ipython",
    "version": 3
   },
   "file_extension": ".py",
   "mimetype": "text/x-python",
   "name": "python",
   "nbconvert_exporter": "python",
   "pygments_lexer": "ipython3",
   "version": "3.9.12"
  }
 },
 "nbformat": 4,
 "nbformat_minor": 2
}
