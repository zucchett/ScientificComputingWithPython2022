{
 "cells": [
  {
   "cell_type": "markdown",
   "metadata": {},
   "source": [
    "# Exercise 5. Pandas\n",
    "\n",
    "### Tone Alsvik Finstad"
   ]
  },
  {
   "cell_type": "markdown",
   "metadata": {},
   "source": [
    "This exercise consists in analyzing a dataset containg timing information from a series of Time-to-Digital-Converters (TDC) implemented in a pair of FPGAs. Each measurement (i.e. each row of the input file) consists of a flag that specifies the type of message ('HEAD', which in this case is always 1), two addresses of the TDC providing the signal ('FPGA' and 'TDC_CHANNEL'), and the timing information ('ORBIT_CNT', 'BX_COUNTER', and 'TDC_MEAS'). Each TDC count corresponds to 25/30 ns, whereas a unit of BX_COUNTER corresponds to 25 ns, and the ORBIT_CNT is increased every x BX_COUNTER. This allows to store the time in a similar way to hours, minutes and seconds."
   ]
  },
  {
   "cell_type": "code",
   "execution_count": 1,
   "metadata": {},
   "outputs": [],
   "source": [
    "import numpy as np\n",
    "import pandas as pd"
   ]
  },
  {
   "cell_type": "markdown",
   "metadata": {},
   "source": [
    "### 1. Create a dataframe\n",
    "\n",
    "\n",
    "Create a Pandas DataFrame reading N rows of the `data/data_000637.txt` dataset. Choose N to be smaller than or equal to the maximum number of rows and larger that 10k (check the documentation)."
   ]
  },
  {
   "cell_type": "code",
   "execution_count": 12,
   "metadata": {},
   "outputs": [
    {
     "data": {
      "text/html": [
       "<div>\n",
       "<style scoped>\n",
       "    .dataframe tbody tr th:only-of-type {\n",
       "        vertical-align: middle;\n",
       "    }\n",
       "\n",
       "    .dataframe tbody tr th {\n",
       "        vertical-align: top;\n",
       "    }\n",
       "\n",
       "    .dataframe thead th {\n",
       "        text-align: right;\n",
       "    }\n",
       "</style>\n",
       "<table border=\"1\" class=\"dataframe\">\n",
       "  <thead>\n",
       "    <tr style=\"text-align: right;\">\n",
       "      <th></th>\n",
       "      <th>HEAD</th>\n",
       "      <th>FPGA</th>\n",
       "      <th>TDC_CHANNEL</th>\n",
       "      <th>ORBIT_CNT</th>\n",
       "      <th>BX_COUNTER</th>\n",
       "      <th>TDC_MEAS</th>\n",
       "    </tr>\n",
       "  </thead>\n",
       "  <tbody>\n",
       "    <tr>\n",
       "      <td>0</td>\n",
       "      <td>1</td>\n",
       "      <td>0</td>\n",
       "      <td>123</td>\n",
       "      <td>3869200167</td>\n",
       "      <td>2374</td>\n",
       "      <td>26</td>\n",
       "    </tr>\n",
       "    <tr>\n",
       "      <td>1</td>\n",
       "      <td>1</td>\n",
       "      <td>0</td>\n",
       "      <td>124</td>\n",
       "      <td>3869200167</td>\n",
       "      <td>2374</td>\n",
       "      <td>27</td>\n",
       "    </tr>\n",
       "    <tr>\n",
       "      <td>2</td>\n",
       "      <td>1</td>\n",
       "      <td>0</td>\n",
       "      <td>63</td>\n",
       "      <td>3869200167</td>\n",
       "      <td>2553</td>\n",
       "      <td>28</td>\n",
       "    </tr>\n",
       "    <tr>\n",
       "      <td>3</td>\n",
       "      <td>1</td>\n",
       "      <td>0</td>\n",
       "      <td>64</td>\n",
       "      <td>3869200167</td>\n",
       "      <td>2558</td>\n",
       "      <td>19</td>\n",
       "    </tr>\n",
       "    <tr>\n",
       "      <td>4</td>\n",
       "      <td>1</td>\n",
       "      <td>0</td>\n",
       "      <td>64</td>\n",
       "      <td>3869200167</td>\n",
       "      <td>2760</td>\n",
       "      <td>25</td>\n",
       "    </tr>\n",
       "    <tr>\n",
       "      <td>...</td>\n",
       "      <td>...</td>\n",
       "      <td>...</td>\n",
       "      <td>...</td>\n",
       "      <td>...</td>\n",
       "      <td>...</td>\n",
       "      <td>...</td>\n",
       "    </tr>\n",
       "    <tr>\n",
       "      <td>9995</td>\n",
       "      <td>1</td>\n",
       "      <td>0</td>\n",
       "      <td>61</td>\n",
       "      <td>3869200267</td>\n",
       "      <td>696</td>\n",
       "      <td>11</td>\n",
       "    </tr>\n",
       "    <tr>\n",
       "      <td>9996</td>\n",
       "      <td>1</td>\n",
       "      <td>0</td>\n",
       "      <td>60</td>\n",
       "      <td>3869200267</td>\n",
       "      <td>701</td>\n",
       "      <td>5</td>\n",
       "    </tr>\n",
       "    <tr>\n",
       "      <td>9997</td>\n",
       "      <td>1</td>\n",
       "      <td>0</td>\n",
       "      <td>59</td>\n",
       "      <td>3869200267</td>\n",
       "      <td>707</td>\n",
       "      <td>23</td>\n",
       "    </tr>\n",
       "    <tr>\n",
       "      <td>9998</td>\n",
       "      <td>1</td>\n",
       "      <td>0</td>\n",
       "      <td>63</td>\n",
       "      <td>3869200267</td>\n",
       "      <td>706</td>\n",
       "      <td>15</td>\n",
       "    </tr>\n",
       "    <tr>\n",
       "      <td>9999</td>\n",
       "      <td>1</td>\n",
       "      <td>0</td>\n",
       "      <td>49</td>\n",
       "      <td>3869200267</td>\n",
       "      <td>777</td>\n",
       "      <td>13</td>\n",
       "    </tr>\n",
       "  </tbody>\n",
       "</table>\n",
       "<p>10000 rows × 6 columns</p>\n",
       "</div>"
      ],
      "text/plain": [
       "      HEAD  FPGA  TDC_CHANNEL   ORBIT_CNT  BX_COUNTER  TDC_MEAS\n",
       "0        1     0          123  3869200167        2374        26\n",
       "1        1     0          124  3869200167        2374        27\n",
       "2        1     0           63  3869200167        2553        28\n",
       "3        1     0           64  3869200167        2558        19\n",
       "4        1     0           64  3869200167        2760        25\n",
       "...    ...   ...          ...         ...         ...       ...\n",
       "9995     1     0           61  3869200267         696        11\n",
       "9996     1     0           60  3869200267         701         5\n",
       "9997     1     0           59  3869200267         707        23\n",
       "9998     1     0           63  3869200267         706        15\n",
       "9999     1     0           49  3869200267         777        13\n",
       "\n",
       "[10000 rows x 6 columns]"
      ]
     },
     "execution_count": 12,
     "metadata": {},
     "output_type": "execute_result"
    }
   ],
   "source": [
    "file_name = \"./data/data_000637.txt\"\n",
    "data = pd.read_csv(file_name)\n",
    "\n",
    "def get_dataframe(N):\n",
    "    return data[:N]\n",
    "data_N=get_dataframe(10000)\n",
    "data_N"
   ]
  },
  {
   "cell_type": "markdown",
   "metadata": {},
   "source": [
    "### 2. Estimate the number of BX in a ORBIT (the value `x`).\n",
    "\n",
    "*Hint*: check when the BX counter reaches the maximum value before being reset to 0.\n",
    "\n"
   ]
  },
  {
   "cell_type": "code",
   "execution_count": 115,
   "metadata": {},
   "outputs": [
    {
     "name": "stdout",
     "output_type": "stream",
     "text": [
      "The number of  BX in a ORBIT is 3564\n"
     ]
    }
   ],
   "source": [
    "import matplotlib.pyplot as plt\n",
    "BX=data[\"BX_COUNTER\"]\n",
    "BX_max=data[\"BX_COUNTER\"].max()\n",
    "    \n",
    "print(f\"The number of  BX in a ORBIT is {BX_max + 1}\") #add one because we count from 0"
   ]
  },
  {
   "cell_type": "markdown",
   "metadata": {},
   "source": [
    "### 3. Create column with absolute time\n",
    "\n",
    "Create a new column with the absolute time in ns (as a combination of the other three columns with timing information) since the beginning of the data acquisition, and convert the new column to a Time Series.\n",
    "\n",
    "\n"
   ]
  },
  {
   "cell_type": "code",
   "execution_count": 55,
   "metadata": {},
   "outputs": [
    {
     "data": {
      "text/html": [
       "<div>\n",
       "<style scoped>\n",
       "    .dataframe tbody tr th:only-of-type {\n",
       "        vertical-align: middle;\n",
       "    }\n",
       "\n",
       "    .dataframe tbody tr th {\n",
       "        vertical-align: top;\n",
       "    }\n",
       "\n",
       "    .dataframe thead th {\n",
       "        text-align: right;\n",
       "    }\n",
       "</style>\n",
       "<table border=\"1\" class=\"dataframe\">\n",
       "  <thead>\n",
       "    <tr style=\"text-align: right;\">\n",
       "      <th></th>\n",
       "      <th>HEAD</th>\n",
       "      <th>FPGA</th>\n",
       "      <th>TDC_CHANNEL</th>\n",
       "      <th>ORBIT_CNT</th>\n",
       "      <th>BX_COUNTER</th>\n",
       "      <th>TDC_MEAS</th>\n",
       "      <th>Abs_time (ns)</th>\n",
       "    </tr>\n",
       "  </thead>\n",
       "  <tbody>\n",
       "    <tr>\n",
       "      <td>0</td>\n",
       "      <td>1</td>\n",
       "      <td>0</td>\n",
       "      <td>123</td>\n",
       "      <td>3869200167</td>\n",
       "      <td>2374</td>\n",
       "      <td>26</td>\n",
       "      <td>3.446490e+14</td>\n",
       "    </tr>\n",
       "    <tr>\n",
       "      <td>1</td>\n",
       "      <td>1</td>\n",
       "      <td>0</td>\n",
       "      <td>124</td>\n",
       "      <td>3869200167</td>\n",
       "      <td>2374</td>\n",
       "      <td>27</td>\n",
       "      <td>3.446490e+14</td>\n",
       "    </tr>\n",
       "    <tr>\n",
       "      <td>2</td>\n",
       "      <td>1</td>\n",
       "      <td>0</td>\n",
       "      <td>63</td>\n",
       "      <td>3869200167</td>\n",
       "      <td>2553</td>\n",
       "      <td>28</td>\n",
       "      <td>3.446490e+14</td>\n",
       "    </tr>\n",
       "    <tr>\n",
       "      <td>3</td>\n",
       "      <td>1</td>\n",
       "      <td>0</td>\n",
       "      <td>64</td>\n",
       "      <td>3869200167</td>\n",
       "      <td>2558</td>\n",
       "      <td>19</td>\n",
       "      <td>3.446490e+14</td>\n",
       "    </tr>\n",
       "    <tr>\n",
       "      <td>4</td>\n",
       "      <td>1</td>\n",
       "      <td>0</td>\n",
       "      <td>64</td>\n",
       "      <td>3869200167</td>\n",
       "      <td>2760</td>\n",
       "      <td>25</td>\n",
       "      <td>3.446490e+14</td>\n",
       "    </tr>\n",
       "    <tr>\n",
       "      <td>...</td>\n",
       "      <td>...</td>\n",
       "      <td>...</td>\n",
       "      <td>...</td>\n",
       "      <td>...</td>\n",
       "      <td>...</td>\n",
       "      <td>...</td>\n",
       "      <td>...</td>\n",
       "    </tr>\n",
       "    <tr>\n",
       "      <td>1310715</td>\n",
       "      <td>1</td>\n",
       "      <td>0</td>\n",
       "      <td>62</td>\n",
       "      <td>3869211171</td>\n",
       "      <td>762</td>\n",
       "      <td>14</td>\n",
       "      <td>3.446500e+14</td>\n",
       "    </tr>\n",
       "    <tr>\n",
       "      <td>1310716</td>\n",
       "      <td>1</td>\n",
       "      <td>1</td>\n",
       "      <td>4</td>\n",
       "      <td>3869211171</td>\n",
       "      <td>763</td>\n",
       "      <td>11</td>\n",
       "      <td>3.446500e+14</td>\n",
       "    </tr>\n",
       "    <tr>\n",
       "      <td>1310717</td>\n",
       "      <td>1</td>\n",
       "      <td>0</td>\n",
       "      <td>64</td>\n",
       "      <td>3869211171</td>\n",
       "      <td>764</td>\n",
       "      <td>0</td>\n",
       "      <td>3.446500e+14</td>\n",
       "    </tr>\n",
       "    <tr>\n",
       "      <td>1310718</td>\n",
       "      <td>1</td>\n",
       "      <td>0</td>\n",
       "      <td>139</td>\n",
       "      <td>3869211171</td>\n",
       "      <td>769</td>\n",
       "      <td>0</td>\n",
       "      <td>3.446500e+14</td>\n",
       "    </tr>\n",
       "    <tr>\n",
       "      <td>1310719</td>\n",
       "      <td>1</td>\n",
       "      <td>0</td>\n",
       "      <td>61</td>\n",
       "      <td>3869211171</td>\n",
       "      <td>762</td>\n",
       "      <td>18</td>\n",
       "      <td>3.446500e+14</td>\n",
       "    </tr>\n",
       "  </tbody>\n",
       "</table>\n",
       "<p>1310720 rows × 7 columns</p>\n",
       "</div>"
      ],
      "text/plain": [
       "         HEAD  FPGA  TDC_CHANNEL   ORBIT_CNT  BX_COUNTER  TDC_MEAS  \\\n",
       "0           1     0          123  3869200167        2374        26   \n",
       "1           1     0          124  3869200167        2374        27   \n",
       "2           1     0           63  3869200167        2553        28   \n",
       "3           1     0           64  3869200167        2558        19   \n",
       "4           1     0           64  3869200167        2760        25   \n",
       "...       ...   ...          ...         ...         ...       ...   \n",
       "1310715     1     0           62  3869211171         762        14   \n",
       "1310716     1     1            4  3869211171         763        11   \n",
       "1310717     1     0           64  3869211171         764         0   \n",
       "1310718     1     0          139  3869211171         769         0   \n",
       "1310719     1     0           61  3869211171         762        18   \n",
       "\n",
       "         Abs_time (ns)  \n",
       "0         3.446490e+14  \n",
       "1         3.446490e+14  \n",
       "2         3.446490e+14  \n",
       "3         3.446490e+14  \n",
       "4         3.446490e+14  \n",
       "...                ...  \n",
       "1310715   3.446500e+14  \n",
       "1310716   3.446500e+14  \n",
       "1310717   3.446500e+14  \n",
       "1310718   3.446500e+14  \n",
       "1310719   3.446500e+14  \n",
       "\n",
       "[1310720 rows x 7 columns]"
      ]
     },
     "execution_count": 55,
     "metadata": {},
     "output_type": "execute_result"
    }
   ],
   "source": [
    "data[\"Abs_time (ns)\"]=(25/30)*data[\"TDC_MEAS\"]+25*data[\"BX_COUNTER\"]+25*BX_max*data[\"ORBIT_CNT\"]\n",
    "data"
   ]
  },
  {
   "cell_type": "markdown",
   "metadata": {},
   "source": [
    "### 4. Find duration of the data \n",
    "\n",
    "\n",
    "Find out the duration of the data taking in hours, minutes and seconds, by using the features of the Time Series. Perform this check reading the whole dataset.\n",
    "\n",
    "\n"
   ]
  },
  {
   "cell_type": "code",
   "execution_count": 114,
   "metadata": {},
   "outputs": [
    {
     "name": "stdout",
     "output_type": "stream",
     "text": [
      "0 days 00:00:00.980140\n",
      "Time in ns: 980140993.3125\n"
     ]
    }
   ],
   "source": [
    "time=data.at[1310719,\"Abs_time (ns)\"]-data.at[0,\"Abs_time (ns)\"]\n",
    "print(pd.Timedelta(f\"{time}ns\"))\n",
    "print(f\"Time in ns: {time}\")"
   ]
  },
  {
   "cell_type": "markdown",
   "metadata": {},
   "source": [
    "### 5. Find noisy channels\n",
    "\n",
    "\n",
    "Use the .groupby() method to find out the noisy channels, i.e. the TDC channels with most counts (print to screen the top 3 and the corresponding counts)\n",
    "\n",
    "\n"
   ]
  },
  {
   "cell_type": "code",
   "execution_count": 117,
   "metadata": {},
   "outputs": [
    {
     "data": {
      "text/html": [
       "<div>\n",
       "<style scoped>\n",
       "    .dataframe tbody tr th:only-of-type {\n",
       "        vertical-align: middle;\n",
       "    }\n",
       "\n",
       "    .dataframe tbody tr th {\n",
       "        vertical-align: top;\n",
       "    }\n",
       "\n",
       "    .dataframe thead th {\n",
       "        text-align: right;\n",
       "    }\n",
       "</style>\n",
       "<table border=\"1\" class=\"dataframe\">\n",
       "  <thead>\n",
       "    <tr style=\"text-align: right;\">\n",
       "      <th></th>\n",
       "      <th>HEAD</th>\n",
       "      <th>FPGA</th>\n",
       "      <th>ORBIT_CNT</th>\n",
       "      <th>BX_COUNTER</th>\n",
       "      <th>TDC_MEAS</th>\n",
       "      <th>Abs_time (ns)</th>\n",
       "    </tr>\n",
       "    <tr>\n",
       "      <th>TDC_CHANNEL</th>\n",
       "      <th></th>\n",
       "      <th></th>\n",
       "      <th></th>\n",
       "      <th></th>\n",
       "      <th></th>\n",
       "      <th></th>\n",
       "    </tr>\n",
       "  </thead>\n",
       "  <tbody>\n",
       "    <tr>\n",
       "      <td>139</td>\n",
       "      <td>108059</td>\n",
       "      <td>108059</td>\n",
       "      <td>108059</td>\n",
       "      <td>108059</td>\n",
       "      <td>108059</td>\n",
       "      <td>108059</td>\n",
       "    </tr>\n",
       "    <tr>\n",
       "      <td>64</td>\n",
       "      <td>66020</td>\n",
       "      <td>66020</td>\n",
       "      <td>66020</td>\n",
       "      <td>66020</td>\n",
       "      <td>66020</td>\n",
       "      <td>66020</td>\n",
       "    </tr>\n",
       "    <tr>\n",
       "      <td>63</td>\n",
       "      <td>64642</td>\n",
       "      <td>64642</td>\n",
       "      <td>64642</td>\n",
       "      <td>64642</td>\n",
       "      <td>64642</td>\n",
       "      <td>64642</td>\n",
       "    </tr>\n",
       "  </tbody>\n",
       "</table>\n",
       "</div>"
      ],
      "text/plain": [
       "               HEAD    FPGA  ORBIT_CNT  BX_COUNTER  TDC_MEAS  Abs_time (ns)\n",
       "TDC_CHANNEL                                                                \n",
       "139          108059  108059     108059      108059    108059         108059\n",
       "64            66020   66020      66020       66020     66020          66020\n",
       "63            64642   64642      64642       64642     64642          64642"
      ]
     },
     "execution_count": 117,
     "metadata": {},
     "output_type": "execute_result"
    }
   ],
   "source": [
    "data.groupby([\"TDC_CHANNEL\"]).count().sort_values([\"ORBIT_CNT\"],ascending=False)[:3]"
   ]
  },
  {
   "cell_type": "markdown",
   "metadata": {},
   "source": [
    "The most noisy channels are 139, 64 and 63"
   ]
  },
  {
   "cell_type": "markdown",
   "metadata": {},
   "source": [
    "### 6. Count non-empty orbits\n",
    "\n",
    "\n",
    "Count the number of non-empty orbits (i.e. the number of orbits with at least one hit).\n",
    "\n"
   ]
  },
  {
   "cell_type": "code",
   "execution_count": 122,
   "metadata": {},
   "outputs": [
    {
     "name": "stdout",
     "output_type": "stream",
     "text": [
      "Non-empty orbits:  {3869200167, 3869200168, 3869200169, 3869200170, 3869200171, 3869200172, 3869200173, 3869200174, 3869200175, 3869200176, 3869200177, 3869200178, 3869200179, 3869200180, 3869200181, 3869200182, 3869200183, 3869200184, 3869200185, 3869200186, 3869200187, 3869200188, 3869200189, 3869200190, 3869200191, 3869200192, 3869200193, 3869200194, 3869200195, 3869200196, 3869200197, 3869200198, 3869200199, 3869200200, 3869200201, 3869200202, 3869200203, 3869200204, 3869200205, 3869200206, 3869200207, 3869200208, 3869200209, 3869200210, 3869200211, 3869200212, 3869200213, 3869200214, 3869200215, 3869200216, 3869200217, 3869200218, 3869200219, 3869200220, 3869200221, 3869200222, 3869200223, 3869200224, 3869200225, 3869200226, 3869200227, 3869200228, 3869200229, 3869200230, 3869200231, 3869200232, 3869200233, 3869200234, 3869200235, 3869200236, 3869200237, 3869200238, 3869200239, 3869200240, 3869200241, 3869200242, 3869200243, 3869200244, 3869200245, 3869200246, 3869200247, 3869200248, 3869200249, 3869200250, 3869200251, 3869200252, 3869200253, 3869200254, 3869200255, 3869200256, 3869200257, 3869200258, 3869200259, 3869200260, 3869200261, 3869200262, 3869200263, 3869200264, 3869200265, 3869200266, 3869200267}\n",
      "The number of non-empty orbits:  101\n"
     ]
    }
   ],
   "source": [
    "print(\"Non-empty orbits: \",set(data_N[\"ORBIT_CNT\"]))\n",
    "print(f\"The number of non-empty orbits: \",len(set(data_N[\"ORBIT_CNT\"])))"
   ]
  },
  {
   "cell_type": "markdown",
   "metadata": {},
   "source": [
    "### 7. Count unique orbits\n",
    "\n",
    "Count the number of unique orbits with at least one measurement from TDC_CHANNEL=139.\n",
    "\n"
   ]
  },
  {
   "cell_type": "code",
   "execution_count": 123,
   "metadata": {},
   "outputs": [
    {
     "name": "stdout",
     "output_type": "stream",
     "text": [
      "860\n",
      "Unique orbits:  {3869200167, 3869200168, 3869200169, 3869200170, 3869200171, 3869200172, 3869200173, 3869200174, 3869200175, 3869200176, 3869200177, 3869200178, 3869200179, 3869200180, 3869200181, 3869200182, 3869200183, 3869200184, 3869200185, 3869200186, 3869200187, 3869200188, 3869200189, 3869200190, 3869200191, 3869200192, 3869200193, 3869200194, 3869200195, 3869200196, 3869200197, 3869200198, 3869200199, 3869200200, 3869200201, 3869200202, 3869200203, 3869200204, 3869200205, 3869200206, 3869200207, 3869200208, 3869200209, 3869200210, 3869200211, 3869200212, 3869200213, 3869200214, 3869200215, 3869200216, 3869200217, 3869200218, 3869200219, 3869200220, 3869200221, 3869200222, 3869200223, 3869200224, 3869200225, 3869200226, 3869200227, 3869200228, 3869200229, 3869200230, 3869200231, 3869200232, 3869200233, 3869200234, 3869200235, 3869200236, 3869200237, 3869200238, 3869200239, 3869200240, 3869200241, 3869200242, 3869200243, 3869200244, 3869200245, 3869200246, 3869200247, 3869200248, 3869200249, 3869200250, 3869200251, 3869200252, 3869200253, 3869200254, 3869200255, 3869200256, 3869200257, 3869200258, 3869200259, 3869200260, 3869200261, 3869200262, 3869200263, 3869200264, 3869200265, 3869200266, 3869200267}\n",
      "Number of unique orbits:  101\n"
     ]
    }
   ],
   "source": [
    "df_139=data_N[data_N[\"TDC_CHANNEL\"]==139]\n",
    "print(len(df_139))\n",
    "\n",
    "print(\"Unique orbits: \",set(df_139[\"ORBIT_CNT\"]))\n",
    "print(\"Number of unique orbits: \",len(set(df_139[\"ORBIT_CNT\"])))\n",
    "\n"
   ]
  },
  {
   "cell_type": "markdown",
   "metadata": {},
   "source": [
    "### 8. Create two Series \n",
    "\n",
    "\n",
    "Create two Series (one for each FPGA) that have the TDC channel as index, and the number of counts for the corresponding TDC channel as values.\n",
    "\n",
    "\n"
   ]
  },
  {
   "cell_type": "code",
   "execution_count": 104,
   "metadata": {},
   "outputs": [
    {
     "name": "stdout",
     "output_type": "stream",
     "text": [
      "7015\n",
      "2985\n",
      "TDC_CHANNEL\n",
      "1      237\n",
      "2      250\n",
      "3      193\n",
      "4      200\n",
      "5      128\n",
      "      ... \n",
      "125      2\n",
      "126      1\n",
      "127     10\n",
      "128     11\n",
      "139    261\n",
      "Name: HEAD, Length: 115, dtype: int64\n",
      "TDC_CHANNEL\n",
      "1      237\n",
      "2      250\n",
      "3      193\n",
      "4      200\n",
      "5      128\n",
      "      ... \n",
      "125      2\n",
      "126      1\n",
      "127     10\n",
      "128     11\n",
      "139    261\n",
      "Name: HEAD, Length: 115, dtype: int64\n"
     ]
    }
   ],
   "source": [
    "df_0=data_N[data_N[\"FPGA\"]==0]\n",
    "print(len(df_0))\n",
    "df_1=data_N[data_N[\"FPGA\"]==1]\n",
    "print(len(df_1))\n",
    "\n",
    "serie_0=pd.Series(df_0.groupby([\"TDC_CHANNEL\"]).count()[\"HEAD\"],index=df_0.groupby([\"TDC_CHANNEL\"]).count().index)\n",
    "print(serie_1)\n",
    "serie_1=pd.Series(df_1.groupby([\"TDC_CHANNEL\"]).count()[\"HEAD\"],index=df_1.groupby([\"TDC_CHANNEL\"]).count().index)\n",
    "print(serie_1)\n"
   ]
  },
  {
   "cell_type": "markdown",
   "metadata": {},
   "source": [
    "### 9. Optional: Create two histograms\n",
    "\n",
    "\n",
    "Create two histograms (one for each FPGA) that show the number of counts for each TDC channel."
   ]
  },
  {
   "cell_type": "code",
   "execution_count": 110,
   "metadata": {},
   "outputs": [
    {
     "data": {
      "image/png": "[encoded data removed]",
      "text/plain": [
       "<Figure size 432x288 with 1 Axes>"
      ]
     },
     "metadata": {
      "needs_background": "light"
     },
     "output_type": "display_data"
    },
    {
     "data": {
      "image/png": "[encoded data removed]",
      "text/plain": [
       "<Figure size 432x288 with 1 Axes>"
      ]
     },
     "metadata": {
      "needs_background": "light"
     },
     "output_type": "display_data"
    }
   ],
   "source": [
    "plt.hist(serie_0, bins=len(serie_0))\n",
    "plt.show()\n",
    "plt.hist(serie_1, bins=len(serie_1))\n",
    "plt.show()"
   ]
  }
 ],
 "metadata": {
  "kernelspec": {
   "display_name": "Python 3",
   "language": "python",
   "name": "python3"
  },
  "language_info": {
   "codemirror_mode": {
    "name": "ipython",
    "version": 3
   },
   "file_extension": ".py",
   "mimetype": "text/x-python",
   "name": "python",
   "nbconvert_exporter": "python",
   "pygments_lexer": "ipython3",
   "version": "3.7.4"
  }
 },
 "nbformat": 4,
 "nbformat_minor": 2
}
