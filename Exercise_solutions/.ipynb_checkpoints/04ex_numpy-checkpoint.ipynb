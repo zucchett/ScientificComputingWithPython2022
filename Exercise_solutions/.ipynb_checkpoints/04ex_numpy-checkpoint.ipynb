{
 "cells": [
  {
   "cell_type": "markdown",
   "metadata": {},
   "source": [
    "# Exercise 4: Numpy"
   ]
  },
  {
   "cell_type": "markdown",
   "metadata": {},
   "source": [
    "### Tone Alsvik Finstad"
   ]
  },
  {
   "cell_type": "code",
   "execution_count": 1,
   "metadata": {},
   "outputs": [],
   "source": [
    "import numpy as np\n",
    "import matplotlib.pyplot as plt"
   ]
  },
  {
   "cell_type": "markdown",
   "metadata": {},
   "source": [
    "### 1. Reductions\n",
    "\n",
    "Find the total mean, and the mean for each row and column of the matrix."
   ]
  },
  {
   "cell_type": "code",
   "execution_count": 2,
   "metadata": {},
   "outputs": [
    {
     "name": "stdout",
     "output_type": "stream",
     "text": [
      "Total mean: 5.5\n",
      "First row mean: 1.5\n",
      "Second row mean: 5.5\n",
      "Third row mean: 9.5\n",
      "First column mean: 4.0\n",
      "Second column mean: 5.0\n",
      "Third column mean: 6.0\n"
     ]
    }
   ],
   "source": [
    "m = np.arange(12).reshape((3,4))\n",
    "print(f\"Total mean: {np.mean(m)}\")\n",
    "\n",
    "row_avg=np.mean(m,axis=1)\n",
    "    \n",
    "print(f\"First row mean: {row_avg[0]}\")\n",
    "print(f\"Second row mean: {row_avg[1]}\")\n",
    "print(f\"Third row mean: {row_avg[2]}\")\n",
    "\n",
    "column_avg=np.mean(m,axis=0)\n",
    "print(f\"First column mean: {column_avg[0]}\")\n",
    "print(f\"Second column mean: {column_avg[1]}\")\n",
    "print(f\"Third column mean: {column_avg[2]}\")"
   ]
  },
  {
   "cell_type": "markdown",
   "metadata": {},
   "source": [
    "### 2. Outer product\n",
    "\n",
    "Find the outer product of the following vectors:\n",
    "\n",
    "```python\n",
    "u = np.array([1, 3, 5, 7])\n",
    "v = np.array([2, 4, 6, 8])\n",
    "```\n",
    "\n",
    "Use different methods to do this:\n",
    "\n",
    "   1. Using the function `outer` in numpy\n",
    "   2. Using a nested `for` loop or a list comprehension\n",
    "   3. Using numpy broadcasting operations"
   ]
  },
  {
   "cell_type": "code",
   "execution_count": 3,
   "metadata": {},
   "outputs": [
    {
     "name": "stdout",
     "output_type": "stream",
     "text": [
      "[[ 2  4  6  8]\n",
      " [ 6 12 18 24]\n",
      " [10 20 30 40]\n",
      " [14 28 42 56]]\n",
      "[[ 2  4  6  8]\n",
      " [ 6 12 18 24]\n",
      " [10 20 30 40]\n",
      " [14 28 42 56]]\n",
      "[[ 2  4  6  8]\n",
      " [ 6 12 18 24]\n",
      " [10 20 30 40]\n",
      " [14 28 42 56]]\n"
     ]
    }
   ],
   "source": [
    "#method 1\n",
    "u = np.array([1, 3, 5, 7])\n",
    "v = np.array([2, 4, 6, 8])\n",
    "\n",
    "a=np.outer(u,v)\n",
    "print(a)\n",
    "\n",
    "#method 2\n",
    "b=[]\n",
    "for u_elem in u:\n",
    "    row=[]\n",
    "    for v_elem in v:\n",
    "        row.append(u_elem*v_elem)\n",
    "    b.append(row)\n",
    "print(np.array(b).reshape(4,4))\n",
    "     \n",
    "#method 3\n",
    "\n",
    "c=u[:, np.newaxis] * v\n",
    "print(c)"
   ]
  },
  {
   "cell_type": "markdown",
   "metadata": {},
   "source": [
    "### 3. Matrix masking\n",
    "\n",
    "\n",
    "Create a 10 by 6 matrix of float random numbers, distributed between 0 and 3 according to a flat distribution.\n",
    "\n",
    "After creating the matrix, set all entries  <0.3  to zero using a mask."
   ]
  },
  {
   "cell_type": "code",
   "execution_count": 4,
   "metadata": {},
   "outputs": [
    {
     "name": "stdout",
     "output_type": "stream",
     "text": [
      "Original array:\n",
      "[[2.5214479  0.64158936 1.82440143 2.15793403 1.67935817 1.20535038]\n",
      " [2.07028524 1.71327477 1.70898704 0.37325506 1.14552976 0.33392529]\n",
      " [2.61442536 0.63749242 2.12516336 0.48711571 2.4453436  1.92807519]\n",
      " [1.58506591 0.36054081 1.50456465 1.74897057 2.20261762 2.75501372]\n",
      " [0.50754437 1.59270399 0.86156598 0.46737596 2.72164218 2.58864849]\n",
      " [0.40837265 0.81770414 2.63334047 0.78406923 1.92663744 0.01832002]\n",
      " [2.24937175 1.20727854 1.54100614 0.01861729 2.7810161  2.37568427]\n",
      " [2.0030992  0.06488222 0.9899724  2.76025095 1.7535258  2.51149103]\n",
      " [2.90160112 0.0370259  0.53827215 1.42792727 1.61931577 0.88648625]\n",
      " [2.41342443 2.31965702 1.0050779  1.5689746  0.71018953 0.46226004]]\n",
      "Modified array:\n",
      "[[2.5214479  0.64158936 1.82440143 2.15793403 1.67935817 1.20535038]\n",
      " [2.07028524 1.71327477 1.70898704 0.37325506 1.14552976 0.33392529]\n",
      " [2.61442536 0.63749242 2.12516336 0.48711571 2.4453436  1.92807519]\n",
      " [1.58506591 0.36054081 1.50456465 1.74897057 2.20261762 2.75501372]\n",
      " [0.50754437 1.59270399 0.86156598 0.46737596 2.72164218 2.58864849]\n",
      " [0.40837265 0.81770414 2.63334047 0.78406923 1.92663744 0.        ]\n",
      " [2.24937175 1.20727854 1.54100614 0.         2.7810161  2.37568427]\n",
      " [2.0030992  0.         0.9899724  2.76025095 1.7535258  2.51149103]\n",
      " [2.90160112 0.         0.53827215 1.42792727 1.61931577 0.88648625]\n",
      " [2.41342443 2.31965702 1.0050779  1.5689746  0.71018953 0.46226004]]\n"
     ]
    }
   ],
   "source": [
    "a = np.random.uniform(0, 3, 60).reshape((10,6))\n",
    "print(f\"Original array:\\n{a}\")\n",
    "a[a < 0.3] = 0\n",
    "print(f\"Modified array:\\n{a}\")"
   ]
  },
  {
   "cell_type": "markdown",
   "metadata": {},
   "source": [
    "### 4. Trigonometric functions\n",
    "\n",
    "Use `np.linspace` to create an array of 100 numbers between $0$ and $2\\pi$ (inclusive).\n",
    "\n",
    "  * Extract every 10th element using the slice notation\n",
    "  * Reverse the array using the slice notation\n",
    "  * Extract elements where the absolute difference between the `sin` and `cos` functions evaluated for that element is $< 0.1$\n",
    "  * **Optional**: make a plot showing the sin and cos functions and indicate where they are close"
   ]
  },
  {
   "cell_type": "code",
   "execution_count": 5,
   "metadata": {},
   "outputs": [
    {
     "name": "stdout",
     "output_type": "stream",
     "text": [
      "Original array:  [0.         0.06346652 0.12693304 0.19039955 0.25386607 0.31733259\n",
      " 0.38079911 0.44426563 0.50773215 0.57119866 0.63466518 0.6981317\n",
      " 0.76159822 0.82506474 0.88853126 0.95199777 1.01546429 1.07893081\n",
      " 1.14239733 1.20586385 1.26933037 1.33279688 1.3962634  1.45972992\n",
      " 1.52319644 1.58666296 1.65012947 1.71359599 1.77706251 1.84052903\n",
      " 1.90399555 1.96746207 2.03092858 2.0943951  2.15786162 2.22132814\n",
      " 2.28479466 2.34826118 2.41172769 2.47519421 2.53866073 2.60212725\n",
      " 2.66559377 2.72906028 2.7925268  2.85599332 2.91945984 2.98292636\n",
      " 3.04639288 3.10985939 3.17332591 3.23679243 3.30025895 3.36372547\n",
      " 3.42719199 3.4906585  3.55412502 3.61759154 3.68105806 3.74452458\n",
      " 3.8079911  3.87145761 3.93492413 3.99839065 4.06185717 4.12532369\n",
      " 4.1887902  4.25225672 4.31572324 4.37918976 4.44265628 4.5061228\n",
      " 4.56958931 4.63305583 4.69652235 4.75998887 4.82345539 4.88692191\n",
      " 4.95038842 5.01385494 5.07732146 5.14078798 5.2042545  5.26772102\n",
      " 5.33118753 5.39465405 5.45812057 5.52158709 5.58505361 5.64852012\n",
      " 5.71198664 5.77545316 5.83891968 5.9023862  5.96585272 6.02931923\n",
      " 6.09278575 6.15625227 6.21971879 6.28318531]\n",
      "Every 10th element:  [0.         0.63466518 1.26933037 1.90399555 2.53866073 3.17332591\n",
      " 3.8079911  4.44265628 5.07732146 5.71198664]\n",
      "Reversed array:  [6.28318531 6.21971879 6.15625227 6.09278575 6.02931923 5.96585272\n",
      " 5.9023862  5.83891968 5.77545316 5.71198664 5.64852012 5.58505361\n",
      " 5.52158709 5.45812057 5.39465405 5.33118753 5.26772102 5.2042545\n",
      " 5.14078798 5.07732146 5.01385494 4.95038842 4.88692191 4.82345539\n",
      " 4.75998887 4.69652235 4.63305583 4.56958931 4.5061228  4.44265628\n",
      " 4.37918976 4.31572324 4.25225672 4.1887902  4.12532369 4.06185717\n",
      " 3.99839065 3.93492413 3.87145761 3.8079911  3.74452458 3.68105806\n",
      " 3.61759154 3.55412502 3.4906585  3.42719199 3.36372547 3.30025895\n",
      " 3.23679243 3.17332591 3.10985939 3.04639288 2.98292636 2.91945984\n",
      " 2.85599332 2.7925268  2.72906028 2.66559377 2.60212725 2.53866073\n",
      " 2.47519421 2.41172769 2.34826118 2.28479466 2.22132814 2.15786162\n",
      " 2.0943951  2.03092858 1.96746207 1.90399555 1.84052903 1.77706251\n",
      " 1.71359599 1.65012947 1.58666296 1.52319644 1.45972992 1.3962634\n",
      " 1.33279688 1.26933037 1.20586385 1.14239733 1.07893081 1.01546429\n",
      " 0.95199777 0.88853126 0.82506474 0.76159822 0.6981317  0.63466518\n",
      " 0.57119866 0.50773215 0.44426563 0.38079911 0.31733259 0.25386607\n",
      " 0.19039955 0.12693304 0.06346652 0.        ]\n",
      "Filtered array:  [0.76159822 0.82506474 3.87145761 3.93492413]\n"
     ]
    },
    {
     "data": {
      "image/png": "[encoded data removed]",
      "text/plain": [
       "<Figure size 432x288 with 1 Axes>"
      ]
     },
     "metadata": {
      "needs_background": "light"
     },
     "output_type": "display_data"
    }
   ],
   "source": [
    "#Create an array\n",
    "b=np.linspace(0,2*np.pi,100)  #Linspace has default to include the end of the interval\n",
    "print(\"Original array: \",b)\n",
    "\n",
    "#Extracted every 10th element\n",
    "c = b[::10]  \n",
    "print(\"Every 10th element: \",c)\n",
    "\n",
    "#reversed the array\n",
    "b_rev=b[::-1]\n",
    "print(\"Reversed array: \",b_rev)\n",
    "\n",
    "#Extract elements where the absolute difference between the sin and cos functions is  <0.1\n",
    "filtered_b=b[np.abs(np.sin(b)-np.cos(b))<0.1]\n",
    "print(\"Filtered array: \",filtered_b)\n",
    "\n",
    "#Plot to show where sin and cos are close\n",
    "plt.plot(b, np.sin(b), label=\"sin\")\n",
    "plt.plot(b, np.cos(b), label=\"cos\")\n",
    "plt.legend()\n",
    "plt.show()\n",
    "\n",
    "#See that the points where the functions cross corresponds with the extracted values. "
   ]
  },
  {
   "cell_type": "markdown",
   "metadata": {},
   "source": [
    "### 5. Matrices\n",
    "\n",
    "Create a matrix that shows the 10 by 10 multiplication table.\n",
    "\n",
    " * Find the trace of the matrix\n",
    " * Extract the anti-diagonal matrix (this should be ```array([10, 18, 24, 28, 30, 30, 28, 24, 18, 10])```)\n",
    " * Extract the diagonal offset by 1 upwards (this should be ```array([ 2,  6, 12, 20, 30, 42, 56, 72, 90])```)"
   ]
  },
  {
   "cell_type": "code",
   "execution_count": 6,
   "metadata": {},
   "outputs": [
    {
     "name": "stdout",
     "output_type": "stream",
     "text": [
      "Original matrix:  [[  1   2   3   4   5   6   7   8   9  10]\n",
      " [  2   4   6   8  10  12  14  16  18  20]\n",
      " [  3   6   9  12  15  18  21  24  27  30]\n",
      " [  4   8  12  16  20  24  28  32  36  40]\n",
      " [  5  10  15  20  25  30  35  40  45  50]\n",
      " [  6  12  18  24  30  36  42  48  54  60]\n",
      " [  7  14  21  28  35  42  49  56  63  70]\n",
      " [  8  16  24  32  40  48  56  64  72  80]\n",
      " [  9  18  27  36  45  54  63  72  81  90]\n",
      " [ 10  20  30  40  50  60  70  80  90 100]]\n",
      "Trace of the matrix:  385\n",
      "The anti-diagonal of the matrix:  [10 18 24 28 30 30 28 24 18 10]\n",
      "The diagonal offset by 1 upwards:  [ 2  6 12 20 30 42 56 72 90]\n"
     ]
    }
   ],
   "source": [
    "#Create a matrix\n",
    "a=np.arange(1,11,1)\n",
    "c=np.outer(a,a)\n",
    "print(\"Original matrix: \",c)\n",
    "\n",
    "#Trace of the matrix\n",
    "print(\"Trace of the matrix: \",np.trace(c))\n",
    "\n",
    "#Anti-diagonal matrix\n",
    "anti_diag=np.fliplr(c).diagonal()  # Horizontal flip before getting the diagonal\n",
    "print(\"The anti-diagonal of the matrix: \",anti_diag)\n",
    "\n",
    "#Diagonal offset by 1 upwards\n",
    "diag_off=np.diag(c,k=1)\n",
    "print(\"The diagonal offset by 1 upwards: \",diag_off)"
   ]
  },
  {
   "cell_type": "markdown",
   "metadata": {},
   "source": [
    "### 6. Broadcasting\n",
    "\n",
    "Use broadcasting to create a grid of distances.\n",
    "\n",
    "Route 66 crosses the following cities in the US: Chicago, Springfield, Saint-Louis, Tulsa, Oklahoma City, Amarillo, Santa Fe, Albuquerque, Flagstaff, Los Angeles.\n",
    "\n",
    "The corresponding positions in miles are: 0, 198, 303, 736, 871, 1175, 1475, 1544, 1913, 2448\n",
    "\n",
    "  * Build a 2D grid of distances among each city along Route 66\n",
    "  * Convert the distances in km"
   ]
  },
  {
   "cell_type": "code",
   "execution_count": 7,
   "metadata": {},
   "outputs": [
    {
     "name": "stdout",
     "output_type": "stream",
     "text": [
      "[[   0  198  303  736  871 1175 1475 1544 1913 2448]\n",
      " [ 198    0  105  538  673  977 1277 1346 1715 2250]\n",
      " [ 303  105    0  433  568  872 1172 1241 1610 2145]\n",
      " [ 736  538  433    0  135  439  739  808 1177 1712]\n",
      " [ 871  673  568  135    0  304  604  673 1042 1577]\n",
      " [1175  977  872  439  304    0  300  369  738 1273]\n",
      " [1475 1277 1172  739  604  300    0   69  438  973]\n",
      " [1544 1346 1241  808  673  369   69    0  369  904]\n",
      " [1913 1715 1610 1177 1042  738  438  369    0  535]\n",
      " [2448 2250 2145 1712 1577 1273  973  904  535    0]]\n",
      "[[   0.   318.7  487.6 1184.5 1401.7 1891.  2373.8 2484.8 3078.7 3939.7]\n",
      " [ 318.7    0.   169.   865.8 1083.1 1572.3 2055.1 2166.2 2760.  3621. ]\n",
      " [ 487.6  169.     0.   696.8  914.1 1403.3 1886.2 1997.2 2591.  3452. ]\n",
      " [1184.5  865.8  696.8    0.   217.3  706.5 1189.3 1300.3 1894.2 2755.2]\n",
      " [1401.7 1083.1  914.1  217.3    0.   489.2  972.  1083.1 1676.9 2537.9]\n",
      " [1891.  1572.3 1403.3  706.5  489.2    0.   482.8  593.8 1187.7 2048.7]\n",
      " [2373.8 2055.1 1886.2 1189.3  972.   482.8    0.   111.   704.9 1565.9]\n",
      " [2484.8 2166.2 1997.2 1300.3 1083.1  593.8  111.     0.   593.8 1454.8]\n",
      " [3078.7 2760.  2591.  1894.2 1676.9 1187.7  704.9  593.8    0.   861. ]\n",
      " [3939.7 3621.  3452.  2755.2 2537.9 2048.7 1565.9 1454.8  861.     0. ]]\n"
     ]
    }
   ],
   "source": [
    "route_66=np.array([0,198, 303, 736, 871, 1175, 1475, 1544, 1913, 2448])\n",
    "a = np.tile(route_66, (10, 1)).T\n",
    "grid=np.abs(a-route_66)\n",
    "print(grid) \n",
    "\n",
    "#convert to km:\n",
    "grid_km=np.round(grid*1.609344,decimals=1)\n",
    "print(grid_km)"
   ]
  },
  {
   "cell_type": "markdown",
   "metadata": {},
   "source": [
    "### 7. Prime numbers sieve\n",
    "\n",
    "Compute the prime numbers in the 0-N (start with N=99) range with a sieve (mask).\n",
    "\n",
    "  * Constract a shape (N,) boolean array, which is the mask\n",
    "  * Identify the multiples of each number starting from 2 and set accordingly the corresponding mask element\n",
    "  * Apply the mask to obtain an array of ordered prime numbers\n",
    "  * Check the performances (with `timeit`); how does it scale with N?\n",
    "  * Implement the optimization suggested in the [sieve of Eratosthenes](https://en.wikipedia.org/wiki/Sieve_of_Eratosthenes)"
   ]
  },
  {
   "cell_type": "code",
   "execution_count": 8,
   "metadata": {},
   "outputs": [
    {
     "name": "stdout",
     "output_type": "stream",
     "text": [
      "[ 0  1  2  3  5  7 11 13 17 19 23 29 31 37 41 43 47 53 59 61 67 71 73 79\n",
      " 83 89 97]\n",
      "9.26 µs ± 419 ns per loop (mean ± std. dev. of 7 runs, 100000 loops each)\n",
      "12 µs ± 319 ns per loop (mean ± std. dev. of 7 runs, 100000 loops each)\n",
      "16.7 µs ± 413 ns per loop (mean ± std. dev. of 7 runs, 100000 loops each)\n",
      "22.7 µs ± 585 ns per loop (mean ± std. dev. of 7 runs, 10000 loops each)\n",
      "27.6 µs ± 2.39 µs per loop (mean ± std. dev. of 7 runs, 10000 loops each)\n"
     ]
    }
   ],
   "source": [
    "import timeit\n",
    "def prime_numbers(N):\n",
    "    mask=np.array([True]*(N+1))\n",
    "    num=np.arange(0,N+1).astype(\"int\")\n",
    "    for i in range(2,int((N)**(1/2))+1):\n",
    "        ind=np.arange(2*i,N+1,i).astype(\"int\")\n",
    "        mask[ind]=False\n",
    "    return num[mask]\n",
    "\n",
    "\n",
    "print(prime_numbers(99)) #NOE ER FEIL\n",
    "\n",
    "%timeit prime_numbers(10)\n",
    "%timeit prime_numbers(20)\n",
    "%timeit prime_numbers(40)\n",
    "%timeit prime_numbers(80)\n",
    "%timeit prime_numbers(99)"
   ]
  },
  {
   "cell_type": "markdown",
   "metadata": {},
   "source": [
    "The performance seems to scale proportionally with N, when N doubles, the time doubles as well."
   ]
  },
  {
   "cell_type": "markdown",
   "metadata": {},
   "source": [
    "To find all the prime numbers less than or equal to a given integer n by Eratosthenes' method:\n",
    "\n",
    "1. Create a list of consecutive integers from 2 through n: (2, 3, 4, ..., n).\n",
    "2. Initially, let p equal 2, the smallest prime number.\n",
    "3. Enumerate the multiples of p by counting in increments of p from 2p to n, and mark them in the list (these will be 2p, 3p, 4p, ...; the p itself should not be marked).\n",
    "4. Find the smallest number in the list greater than p that is not marked. If there was no such number, stop. Otherwise, let p now equal this new number (which is the next prime), and repeat from step 3.\n",
    "5. When the algorithm terminates, the numbers remaining not marked in the list are all the primes below n."
   ]
  },
  {
   "cell_type": "code",
   "execution_count": 9,
   "metadata": {},
   "outputs": [
    {
     "name": "stdout",
     "output_type": "stream",
     "text": [
      "9.03 µs ± 80.4 ns per loop (mean ± std. dev. of 7 runs, 100000 loops each)\n",
      "13.6 µs ± 511 ns per loop (mean ± std. dev. of 7 runs, 100000 loops each)\n",
      "19.7 µs ± 885 ns per loop (mean ± std. dev. of 7 runs, 100000 loops each)\n",
      "26.6 µs ± 985 ns per loop (mean ± std. dev. of 7 runs, 10000 loops each)\n",
      "29.8 µs ± 3.06 µs per loop (mean ± std. dev. of 7 runs, 10000 loops each)\n"
     ]
    }
   ],
   "source": [
    "def prime_numbers_Eratosthenes(N):\n",
    "    mask=np.array([True]*(N+1))\n",
    "    num=np.arange(0,N+1).astype(\"int\")\n",
    "    \n",
    "    for i in range(2,int((N)**(1/2))):\n",
    "        if mask[i]==True:\n",
    "            ind=np.arange(2*i,N+1,i).astype(\"int\")\n",
    "            mask[ind]=False\n",
    "    return num[mask]\n",
    "\n",
    "\n",
    "%timeit prime_numbers_Eratosthenes(10)\n",
    "%timeit prime_numbers_Eratosthenes(20)\n",
    "%timeit prime_numbers_Eratosthenes(40)\n",
    "%timeit prime_numbers_Eratosthenes(80)\n",
    "%timeit prime_numbers_Eratosthenes(99)"
   ]
  },
  {
   "cell_type": "markdown",
   "metadata": {},
   "source": [
    "Small improvement, but since I already used parts of the method in the first solution, it isn't a big improvement. "
   ]
  },
  {
   "cell_type": "markdown",
   "metadata": {},
   "source": [
    "### 8. Diffusion using random walk\n",
    "\n",
    "Consider a simple random walk process: at each step in time, a walker jumps right or left (+1 or -1) with equal probability. The goal is to find the typical distance from the origin of many random walkers after a given amount of time.\n",
    "\n",
    "*Hint*: create a 2D array where each row represents a walker, and each column represents a time step.\n",
    "\n",
    "  * Take 1000 walkers and let them walk for 200 steps\n",
    "  * Use `randint` to create a 2D array of size $walkers \\times steps$ with values -1 or 1\n",
    "  * Calculate the walking distances for each walker (e.g. by summing the elements in each row)\n",
    "  * Take the square of the previously-obtained array (element-wise)\n",
    "  * Compute the mean of the squared distances at each step (i.e. the mean along the columns)\n",
    "  * **Optional**: plot the average distances ($\\sqrt(distance^2)$) as a function of time (step)"
   ]
  },
  {
   "cell_type": "code",
   "execution_count": 10,
   "metadata": {},
   "outputs": [
    {
     "name": "stdout",
     "output_type": "stream",
     "text": [
      "[ 1.          1.4366628   1.69941166  1.98090888  2.25743217  2.423221\n",
      "  2.57526698  2.68477187  2.86496073  3.04171005  3.18370853  3.37342556\n",
      "  3.53270435  3.65184885  3.83040468  3.96787097  4.04474968  4.13424721\n",
      "  4.25581955  4.36760804  4.48464045  4.59347363  4.67846129  4.75099989\n",
      "  4.83404592  4.93882577  4.9614514   5.07030571  5.19230199  5.24442561\n",
      "  5.36507223  5.40629263  5.53389555  5.60142839  5.65756131  5.78273292\n",
      "  5.86719695  5.96757907  6.00533097  6.06663004  6.1331884   6.17284375\n",
      "  6.23923072  6.2934887   6.34602238  6.39280846  6.43179602  6.52104286\n",
      "  6.58604585  6.6395783   6.74151318  6.83871333  6.86556625  6.94982014\n",
      "  6.99199542  7.07248188  7.18609769  7.26746173  7.31300212  7.41053304\n",
      "  7.47422237  7.55592483  7.64617551  7.73692445  7.77431669  7.80871308\n",
      "  7.84907638  7.93775787  7.9819797   8.04512275  8.13879598  8.17067929\n",
      "  8.23261805  8.2907177   8.38856364  8.46876614  8.5200939   8.57438044\n",
      "  8.62507971  8.68953393  8.71733904  8.76150672  8.81226418  8.83606247\n",
      "  8.93263679  8.9581248   9.0071083   9.03747752  9.10428471  9.17387595\n",
      "  9.18825337  9.23904757  9.30505239  9.37208621  9.44288092  9.51230782\n",
      "  9.5724605   9.61082723  9.66105584  9.69474084  9.78120647  9.85738302\n",
      "  9.94142847 10.00299955 10.06777036 10.11039069 10.12679614 10.10682937\n",
      " 10.12916581 10.20137246 10.23406078 10.3183332  10.37227073 10.41902107\n",
      " 10.46518036 10.53413499 10.58716204 10.59207251 10.62111105 10.66001876\n",
      " 10.65870536 10.70962184 10.73908748 10.78536045 10.81702362 10.87235025\n",
      " 10.91860797 10.94641494 10.94897255 10.98981347 11.00472626 11.06218785\n",
      " 11.13768378 11.16816905 11.21712976 11.22158634 11.19678525 11.21712976\n",
      " 11.27510532 11.24828876 11.30061945 11.33578405 11.37470879 11.36767346\n",
      " 11.34548368 11.40140342 11.43433426 11.44342606 11.49260632 11.51520734\n",
      " 11.53637725 11.60913433 11.65126603 11.64250832 11.7330303  11.7636729\n",
      " 11.83925673 11.86406338 11.91335385 11.91738226 11.94118922 11.99483222\n",
      " 12.01732083 12.07178529 12.07874166 12.13754506 12.12468556 12.17834143\n",
      " 12.19967213 12.29959349 12.35637487 12.3298013  12.39128726 12.38692859\n",
      " 12.43221621 12.50455917 12.51942491 12.55961783 12.59809509 12.60253943\n",
      " 12.63708827 12.65227252 12.70464482 12.70889452 12.74237027 12.7527252\n",
      " 12.82466374 12.89046159 12.92346703 12.95191106 13.02397789 13.06981255\n",
      " 13.16783961 13.19120919 13.24598052 13.30894436 13.39163918 13.40238785\n",
      " 13.46788773 13.43934522]\n"
     ]
    },
    {
     "data": {
      "image/png": "[encoded data removed]",
      "text/plain": [
       "<Figure size 432x288 with 1 Axes>"
      ]
     },
     "metadata": {
      "needs_background": "light"
     },
     "output_type": "display_data"
    }
   ],
   "source": [
    "import random\n",
    "walkers=np.random.randint(0,2,1000*200).reshape(1000,200)\n",
    "b=[-1,1]\n",
    "for i in range(1000):\n",
    "    for j in range(200):\n",
    "        walkers[i,j]=b[walkers[i,j]]   \n",
    "\n",
    "#Walking distance for each walker:\n",
    "row_sum=[]\n",
    "for i in range(200):\n",
    "    row_sum.append(np.sum(walkers[:,:i+1],axis=1))\n",
    "row_sum=np.array(row_sum)  #Ever time-step is now a row\n",
    "\n",
    "\n",
    "#Taking the square of the array element-wise\n",
    "sum_squared=row_sum**2\n",
    "\n",
    "mean_squared=np.mean(sum_squared,axis=1)\n",
    "rms=np.sqrt(mean_squared)\n",
    "print(rms)\n",
    "plt.plot(rms)\n",
    "plt.title(\"Average distance as a function of time\")\n",
    "plt.xlabel(\"Time/step\")\n",
    "plt.ylabel(\"RMS distance\")\n",
    "plt.show()"
   ]
  }
 ],
 "metadata": {
  "kernelspec": {
   "display_name": "Python 3",
   "language": "python",
   "name": "python3"
  },
  "language_info": {
   "codemirror_mode": {
    "name": "ipython",
    "version": 3
   },
   "file_extension": ".py",
   "mimetype": "text/x-python",
   "name": "python",
   "nbconvert_exporter": "python",
   "pygments_lexer": "ipython3",
   "version": "3.7.4"
  }
 },
 "nbformat": 4,
 "nbformat_minor": 2
}
