{
 "cells": [
  {
   "cell_type": "code",
   "execution_count": 1,
   "metadata": {},
   "outputs": [],
   "source": [
    "import pandas as pd\n",
    "import datetime as dt\n",
    "import seaborn as sns"
   ]
  },
  {
   "cell_type": "markdown",
   "metadata": {},
   "source": [
    "1\\. **Pandas DataFrame**\n",
    "\n",
    "This exercise consists in analyzing a dataset containg timing information from a series of Time-to-Digital-Converters (TDC) implemented in a pair of FPGAs. Each measurement (i.e. each row of the input file) consists of a flag that specifies the type of message ('HEAD', which in this case is always 1), two addresses of the TDC providing the signal ('FPGA' and 'TDC_CHANNEL'), and the timing information ('ORBIT_CNT', 'BX_COUNTER', and 'TDC_MEAS'). Each TDC count corresponds to 25/30 ns, whereas a unit of BX_COUNTER corresponds to 25 ns, and the ORBIT_CNT is increased every `x` BX_COUNTER. This allows to store the time in a similar way to hours, minutes and seconds."
   ]
  },
  {
   "cell_type": "code",
   "execution_count": 2,
   "metadata": {},
   "outputs": [],
   "source": [
    "# If haven't downloaded it yet, please get the data file with wget\n",
    "#!wget https://www.dropbox.com/s/xvjzaxzz3ysphme/data_000637.txt -P ./data/"
   ]
  },
  {
   "cell_type": "markdown",
   "metadata": {},
   "source": [
    "1\\. Create a Pandas DataFrame reading N rows of the `data/data_000637.txt` dataset. Choose N to be smaller than or equal to the maximum number of rows and larger that 10k (check the documentation)."
   ]
  },
  {
   "cell_type": "code",
   "execution_count": 3,
   "metadata": {
    "scrolled": true
   },
   "outputs": [
    {
     "name": "stdout",
     "output_type": "stream",
     "text": [
      "       HEAD  FPGA  TDC_CHANNEL   ORBIT_CNT  BX_COUNTER  TDC_MEAS\n",
      "0         1     0          123  3869200167        2374        26\n",
      "1         1     0          124  3869200167        2374        27\n",
      "2         1     0           63  3869200167        2553        28\n",
      "3         1     0           64  3869200167        2558        19\n",
      "4         1     0           64  3869200167        2760        25\n",
      "...     ...   ...          ...         ...         ...       ...\n",
      "38995     1     0           63  3869200555        1252        11\n",
      "38996     1     0           64  3869200555        1251        28\n",
      "38997     1     0           57  3869200555        1872        19\n",
      "38998     1     0           58  3869200555        1873        22\n",
      "38999     1     0           60  3869200555        1885        13\n",
      "\n",
      "[39000 rows x 6 columns]\n"
     ]
    }
   ],
   "source": [
    "data= pd.read_csv('data/data_000637.txt',nrows=39000)\n",
    "print(data)"
   ]
  },
  {
   "cell_type": "markdown",
   "metadata": {},
   "source": [
    "2\\. Estimate the number of BX in a ORBIT (the value `x`).\n",
    "\n",
    "*Hint*: check when the BX counter reaches the maximum value before being reset to 0."
   ]
  },
  {
   "cell_type": "code",
   "execution_count": 4,
   "metadata": {},
   "outputs": [
    {
     "name": "stdout",
     "output_type": "stream",
     "text": [
      "Estimated number of BX in a ORBIT:  3564\n"
     ]
    }
   ],
   "source": [
    "bc=max(data[\"BX_COUNTER\"])+1\n",
    "print(\"Estimated number of BX in a ORBIT: \",bc)"
   ]
  },
  {
   "cell_type": "markdown",
   "metadata": {},
   "source": [
    "3\\. Create a new column with the absolute time in ns (as a combination of the other three columns with timing information) since the beginning of the data acquisition, and convert the new column to a Time Series."
   ]
  },
  {
   "cell_type": "code",
   "execution_count": 5,
   "metadata": {},
   "outputs": [
    {
     "data": {
      "text/html": [
       "<div>\n",
       "<style scoped>\n",
       "    .dataframe tbody tr th:only-of-type {\n",
       "        vertical-align: middle;\n",
       "    }\n",
       "\n",
       "    .dataframe tbody tr th {\n",
       "        vertical-align: top;\n",
       "    }\n",
       "\n",
       "    .dataframe thead th {\n",
       "        text-align: right;\n",
       "    }\n",
       "</style>\n",
       "<table border=\"1\" class=\"dataframe\">\n",
       "  <thead>\n",
       "    <tr style=\"text-align: right;\">\n",
       "      <th></th>\n",
       "      <th>HEAD</th>\n",
       "      <th>FPGA</th>\n",
       "      <th>TDC_CHANNEL</th>\n",
       "      <th>ORBIT_CNT</th>\n",
       "      <th>BX_COUNTER</th>\n",
       "      <th>TDC_MEAS</th>\n",
       "      <th>as nanosec</th>\n",
       "      <th>as time</th>\n",
       "    </tr>\n",
       "  </thead>\n",
       "  <tbody>\n",
       "    <tr>\n",
       "      <th>0</th>\n",
       "      <td>1</td>\n",
       "      <td>0</td>\n",
       "      <td>123</td>\n",
       "      <td>3869200167</td>\n",
       "      <td>2374</td>\n",
       "      <td>26</td>\n",
       "      <td>0.000000e+00</td>\n",
       "      <td>2022-12-02 21:20:48.392845056</td>\n",
       "    </tr>\n",
       "    <tr>\n",
       "      <th>1</th>\n",
       "      <td>1</td>\n",
       "      <td>0</td>\n",
       "      <td>124</td>\n",
       "      <td>3869200167</td>\n",
       "      <td>2374</td>\n",
       "      <td>27</td>\n",
       "      <td>8.125000e-01</td>\n",
       "      <td>2022-12-02 21:20:48.392845056</td>\n",
       "    </tr>\n",
       "    <tr>\n",
       "      <th>2</th>\n",
       "      <td>1</td>\n",
       "      <td>0</td>\n",
       "      <td>63</td>\n",
       "      <td>3869200167</td>\n",
       "      <td>2553</td>\n",
       "      <td>28</td>\n",
       "      <td>4.425000e+03</td>\n",
       "      <td>2022-12-02 21:20:48.392849408</td>\n",
       "    </tr>\n",
       "    <tr>\n",
       "      <th>3</th>\n",
       "      <td>1</td>\n",
       "      <td>0</td>\n",
       "      <td>64</td>\n",
       "      <td>3869200167</td>\n",
       "      <td>2558</td>\n",
       "      <td>19</td>\n",
       "      <td>4.550812e+03</td>\n",
       "      <td>2022-12-02 21:20:48.392849664</td>\n",
       "    </tr>\n",
       "    <tr>\n",
       "      <th>4</th>\n",
       "      <td>1</td>\n",
       "      <td>0</td>\n",
       "      <td>64</td>\n",
       "      <td>3869200167</td>\n",
       "      <td>2760</td>\n",
       "      <td>25</td>\n",
       "      <td>9.600812e+03</td>\n",
       "      <td>2022-12-02 21:20:48.392854784</td>\n",
       "    </tr>\n",
       "    <tr>\n",
       "      <th>...</th>\n",
       "      <td>...</td>\n",
       "      <td>...</td>\n",
       "      <td>...</td>\n",
       "      <td>...</td>\n",
       "      <td>...</td>\n",
       "      <td>...</td>\n",
       "      <td>...</td>\n",
       "      <td>...</td>\n",
       "    </tr>\n",
       "    <tr>\n",
       "      <th>38995</th>\n",
       "      <td>1</td>\n",
       "      <td>0</td>\n",
       "      <td>63</td>\n",
       "      <td>3869200555</td>\n",
       "      <td>1252</td>\n",
       "      <td>11</td>\n",
       "      <td>3.454270e+07</td>\n",
       "      <td>2022-12-02 21:20:48.427387648</td>\n",
       "    </tr>\n",
       "    <tr>\n",
       "      <th>38996</th>\n",
       "      <td>1</td>\n",
       "      <td>0</td>\n",
       "      <td>64</td>\n",
       "      <td>3869200555</td>\n",
       "      <td>1251</td>\n",
       "      <td>28</td>\n",
       "      <td>3.454268e+07</td>\n",
       "      <td>2022-12-02 21:20:48.427387648</td>\n",
       "    </tr>\n",
       "    <tr>\n",
       "      <th>38997</th>\n",
       "      <td>1</td>\n",
       "      <td>0</td>\n",
       "      <td>57</td>\n",
       "      <td>3869200555</td>\n",
       "      <td>1872</td>\n",
       "      <td>19</td>\n",
       "      <td>3.455820e+07</td>\n",
       "      <td>2022-12-02 21:20:48.427403264</td>\n",
       "    </tr>\n",
       "    <tr>\n",
       "      <th>38998</th>\n",
       "      <td>1</td>\n",
       "      <td>0</td>\n",
       "      <td>58</td>\n",
       "      <td>3869200555</td>\n",
       "      <td>1873</td>\n",
       "      <td>22</td>\n",
       "      <td>3.455822e+07</td>\n",
       "      <td>2022-12-02 21:20:48.427403264</td>\n",
       "    </tr>\n",
       "    <tr>\n",
       "      <th>38999</th>\n",
       "      <td>1</td>\n",
       "      <td>0</td>\n",
       "      <td>60</td>\n",
       "      <td>3869200555</td>\n",
       "      <td>1885</td>\n",
       "      <td>13</td>\n",
       "      <td>3.455852e+07</td>\n",
       "      <td>2022-12-02 21:20:48.427403520</td>\n",
       "    </tr>\n",
       "  </tbody>\n",
       "</table>\n",
       "<p>39000 rows × 8 columns</p>\n",
       "</div>"
      ],
      "text/plain": [
       "       HEAD  FPGA  TDC_CHANNEL   ORBIT_CNT  BX_COUNTER  TDC_MEAS  \\\n",
       "0         1     0          123  3869200167        2374        26   \n",
       "1         1     0          124  3869200167        2374        27   \n",
       "2         1     0           63  3869200167        2553        28   \n",
       "3         1     0           64  3869200167        2558        19   \n",
       "4         1     0           64  3869200167        2760        25   \n",
       "...     ...   ...          ...         ...         ...       ...   \n",
       "38995     1     0           63  3869200555        1252        11   \n",
       "38996     1     0           64  3869200555        1251        28   \n",
       "38997     1     0           57  3869200555        1872        19   \n",
       "38998     1     0           58  3869200555        1873        22   \n",
       "38999     1     0           60  3869200555        1885        13   \n",
       "\n",
       "         as nanosec                       as time  \n",
       "0      0.000000e+00 2022-12-02 21:20:48.392845056  \n",
       "1      8.125000e-01 2022-12-02 21:20:48.392845056  \n",
       "2      4.425000e+03 2022-12-02 21:20:48.392849408  \n",
       "3      4.550812e+03 2022-12-02 21:20:48.392849664  \n",
       "4      9.600812e+03 2022-12-02 21:20:48.392854784  \n",
       "...             ...                           ...  \n",
       "38995  3.454270e+07 2022-12-02 21:20:48.427387648  \n",
       "38996  3.454268e+07 2022-12-02 21:20:48.427387648  \n",
       "38997  3.455820e+07 2022-12-02 21:20:48.427403264  \n",
       "38998  3.455822e+07 2022-12-02 21:20:48.427403264  \n",
       "38999  3.455852e+07 2022-12-02 21:20:48.427403520  \n",
       "\n",
       "[39000 rows x 8 columns]"
      ]
     },
     "metadata": {},
     "output_type": "display_data"
    }
   ],
   "source": [
    "tstamp = pd.Timestamp(dt.datetime.now())\n",
    "zero=data['TDC_CHANNEL'].loc[data.index[0]]*(25/30)+data['BX_COUNTER'].loc[data.index[0]]*25+data['ORBIT_CNT'].loc[data.index[0]]*25*bc #initial value\n",
    "data[\"as nanosec\"]=(data[\"TDC_CHANNEL\"]*(25/30)+data[\"BX_COUNTER\"]*25+data[\"ORBIT_CNT\"]*bc*25)-zero #time for each row\n",
    "data[\"as time\"]= pd.to_datetime(data[\"as nanosec\"]+tstamp.value,unit='ns') #nanosec to time formula \n",
    "\n",
    "display(data)\n"
   ]
  },
  {
   "cell_type": "markdown",
   "metadata": {},
   "source": [
    "4\\. Find out the duration of the data taking in hours, minutes and seconds, by using the features of the Time Series. Perform this check reading the whole dataset."
   ]
  },
  {
   "cell_type": "code",
   "execution_count": 6,
   "metadata": {},
   "outputs": [
    {
     "name": "stdout",
     "output_type": "stream",
     "text": [
      "Begin time: 2022-12-02 21:20:48.437815\n",
      "End time: 2022-12-02 21:20:48.439814\n",
      "Elapsed time: 0:00:00.001999\n"
     ]
    }
   ],
   "source": [
    "itime = dt.datetime.now()\n",
    "print(\"Begin time:\", itime)\n",
    "\n",
    "time =  data['TDC_MEAS'] *(25/30) + data['BX_COUNTER'] * 25 + data['ORBIT_CNT']*bc*25\n",
    "ftime = dt.datetime.now()\n",
    "print(\"End time:\", ftime)\n",
    "print(\"Elapsed time:\", ftime - itime)"
   ]
  },
  {
   "cell_type": "markdown",
   "metadata": {},
   "source": [
    "5\\. Use the `.groupby()` method to find out the noisy channels, i.e. the TDC channels with most counts (print to screen the top 3 and the corresponding counts)"
   ]
  },
  {
   "cell_type": "code",
   "execution_count": 7,
   "metadata": {},
   "outputs": [
    {
     "name": "stdout",
     "output_type": "stream",
     "text": [
      "             HEAD  FPGA       ORBIT_CNT  BX_COUNTER  TDC_MEAS    as nanosec\n",
      "TDC_CHANNEL                                                                \n",
      "127            38    38    147029613622       72569       656  6.478507e+08\n",
      "128            40    40    154768013961       75522       541  6.482513e+08\n",
      "139          3244   975  12551685966102     5768083         0  5.558166e+10\n"
     ]
    },
    {
     "name": "stderr",
     "output_type": "stream",
     "text": [
      "C:\\Users\\dehak\\AppData\\Local\\Temp\\ipykernel_16900\\3859452177.py:1: FutureWarning: The default value of numeric_only in DataFrameGroupBy.sum is deprecated. In a future version, numeric_only will default to False. Either specify numeric_only or select only columns which should be valid for the function.\n",
      "  annen=data.groupby('TDC_CHANNEL',sort=True).sum()\n"
     ]
    }
   ],
   "source": [
    "annen=data.groupby('TDC_CHANNEL',sort=True).sum()\n",
    "print(annen.iloc[-3:])"
   ]
  },
  {
   "cell_type": "markdown",
   "metadata": {},
   "source": [
    "6\\. Count the number of non-empty orbits (i.e. the number of orbits with at least one hit)."
   ]
  },
  {
   "cell_type": "code",
   "execution_count": 8,
   "metadata": {},
   "outputs": [
    {
     "name": "stdout",
     "output_type": "stream",
     "text": [
      "Non-empty orbits length: 389\n"
     ]
    }
   ],
   "source": [
    "non_empty_orbits = data.groupby('ORBIT_CNT').size()\n",
    "print(\"Non-empty orbits length:\", len(non_empty_orbits)) "
   ]
  },
  {
   "cell_type": "markdown",
   "metadata": {},
   "source": [
    "7\\. Count the number of unique orbits with at least one measurement from TDC_CHANNEL=139."
   ]
  },
  {
   "cell_type": "code",
   "execution_count": 9,
   "metadata": {},
   "outputs": [
    {
     "name": "stdout",
     "output_type": "stream",
     "text": [
      "TDC_CHANNEL 139 orbits length:  389\n"
     ]
    }
   ],
   "source": [
    "channel_139_orbits = data[data['TDC_CHANNEL'] == 139].groupby('ORBIT_CNT').size()\n",
    "print(\"TDC_CHANNEL 139 orbits length: \", len(channel_139_orbits))\n"
   ]
  },
  {
   "cell_type": "markdown",
   "metadata": {},
   "source": [
    "8\\. Create two Series (one for each FPGA) that have the TDC channel as index, and the number of counts for the corresponding TDC channel as values."
   ]
  },
  {
   "cell_type": "code",
   "execution_count": 10,
   "metadata": {},
   "outputs": [
    {
     "data": {
      "text/plain": [
       "TDC_CHANNEL\n",
       "139    975\n",
       "2      943\n",
       "1      849\n",
       "4      773\n",
       "3      682\n",
       "      ... \n",
       "84       2\n",
       "82       1\n",
       "86       1\n",
       "91       1\n",
       "94       1\n",
       "Length: 128, dtype: int64"
      ]
     },
     "metadata": {},
     "output_type": "display_data"
    },
    {
     "data": {
      "text/plain": [
       "TDC_CHANNEL\n",
       "139    2269\n",
       "64     1927\n",
       "63     1901\n",
       "61     1442\n",
       "62     1409\n",
       "       ... \n",
       "103      15\n",
       "106      14\n",
       "109      12\n",
       "101       8\n",
       "67        4\n",
       "Length: 118, dtype: int64"
      ]
     },
     "metadata": {},
     "output_type": "display_data"
    }
   ],
   "source": [
    "display(data[data['FPGA']==1].value_counts('TDC_CHANNEL'))\n",
    "display(data[data['FPGA']==0].value_counts('TDC_CHANNEL'))"
   ]
  },
  {
   "cell_type": "markdown",
   "metadata": {},
   "source": [
    "9\\. **Optional:** Create two histograms (one for each FPGA) that show the number of counts for each TDC channel."
   ]
  },
  {
   "cell_type": "code",
   "execution_count": 11,
   "metadata": {},
   "outputs": [
    {
     "data": {
      "text/plain": [
       "<AxesSubplot: xlabel='TDC_CHANNEL', ylabel='Count'>"
      ]
     },
     "execution_count": 11,
     "metadata": {},
     "output_type": "execute_result"
    },
    {
     "data": {
      "image/png": "[encoded data removed]",
      "text/plain": [
       "<Figure size 640x480 with 1 Axes>"
      ]
     },
     "metadata": {},
     "output_type": "display_data"
    }
   ],
   "source": [
    "sns.histplot(data=data, x='TDC_CHANNEL', hue='FPGA')"
   ]
  },
  {
   "cell_type": "code",
   "execution_count": null,
   "metadata": {},
   "outputs": [],
   "source": []
  }
 ],
 "metadata": {
  "kernelspec": {
   "display_name": "Python 3 (ipykernel)",
   "language": "python",
   "name": "python3"
  },
  "language_info": {
   "codemirror_mode": {
    "name": "ipython",
    "version": 3
   },
   "file_extension": ".py",
   "mimetype": "text/x-python",
   "name": "python",
   "nbconvert_exporter": "python",
   "pygments_lexer": "ipython3",
   "version": "3.10.6"
  }
 },
 "nbformat": 4,
 "nbformat_minor": 2
}
