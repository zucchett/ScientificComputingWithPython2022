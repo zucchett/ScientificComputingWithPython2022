{
 "cells": [
  {
   "cell_type": "markdown",
   "metadata": {},
   "source": [
    "You can solve these exercises in the room or at home. For this week, exercises have to be solved by creating a dedicated `.py` file (or files) called `03ex_numberRepresentation.py`.\n",
    "\n",
    "In case you need multiple files, name them `03ex_numberRepresentation_es01.py`, `03ex_numberRepresentation_es02.py` and so on. In this case, it's convenient to create a dedicated directory, to be named `03ex_numberRepresentation`. \n",
    "\n",
    "The exercises need to run without errors with `python3`."
   ]
  },
  {
   "cell_type": "markdown",
   "metadata": {},
   "source": [
    "1\\. **Number representation**\n",
    "\n",
    "Write a function that converts numbers among the bin, dec, and hex representations (bin<->dec<->hex).\n",
    "Determine the input type in the function, and pass another argument to choose the output representation."
   ]
  },
  {
   "cell_type": "code",
   "execution_count": 6,
   "metadata": {},
   "outputs": [
    {
     "name": "stdout",
     "output_type": "stream",
     "text": [
      "('0b1000101100', 556, '0x22c')\n",
      "('0b11000011010101010', 100010, '0x186aa')\n",
      "('0b1000101100', 556, '0x22c')\n"
     ]
    }
   ],
   "source": [
    "def b_d_h(i1):\n",
    "    if int(i1):\n",
    "        integer = int(i1)   \n",
    "    if bin(i1):\n",
    "        binary = bin(i1)    \n",
    "    if hex(i1):\n",
    "        hexadecimal = hex(i1)\n",
    "    return (binary,integer,hexadecimal)\n",
    "\n",
    "\n",
    "print(b_d_h(556))\n",
    "print(b_d_h(100010))\n",
    "print(b_d_h(0x22c))"
   ]
  },
  {
   "cell_type": "markdown",
   "metadata": {},
   "source": [
    "2\\. **32-bit floating point number**\n",
    "\n",
    "Write a function that converts a 32 bit binary string (for example, `110000101011000000000000`) into a single precision floating point in decimal representation. Interpret the various bits as sign, fractional part of the mantissa and exponent, according to the IEEE 754 reccommendations."
   ]
  },
  {
   "cell_type": "code",
   "execution_count": 13,
   "metadata": {},
   "outputs": [
    {
     "data": {
      "text/plain": [
       "(0, '10000000', '00000000000000000000000')"
      ]
     },
     "execution_count": 13,
     "metadata": {},
     "output_type": "execute_result"
    }
   ],
   "source": [
    "def b_to_d(binpart):\n",
    "    binary= str()\n",
    "    while (binpart==True):\n",
    "        binpart= binpart*2\n",
    "        if binpart>= 1:\n",
    "            intpart= 1\n",
    "            binpart-= 1\n",
    "        else:\n",
    "            intpart = 0\n",
    "\n",
    "        binary += str(intpart)\n",
    "    return binary\n",
    "\n",
    "def floatingp(n):\n",
    "    sign = 0\n",
    "    if(n < 0):\n",
    "        signbit = 1\n",
    "    n= abs(n)\n",
    "    int_str= bin(int(n))[2:]\n",
    "    fraction_str= b_to_d(n - int(n))\n",
    "    ind= int_str.index('1')\n",
    "    exp_str= bin((len(int_str) - ind - 1) + 127)[2:]\n",
    "    \n",
    "    mantissa= int_str[ind + 1 : ] + fraction_str\n",
    "    mantissa= mantissa + ('0' * (23 - len(mantissa)))\n",
    "\n",
    "\n",
    "    return sign, exp_str, mantissa\n",
    "\n",
    "floatingp(-2.250000)"
   ]
  },
  {
   "cell_type": "markdown",
   "metadata": {},
   "source": [
    "3\\. **Underflow and overflow**\n",
    "\n",
    "Write a program to determine the underflow and overflow limits (within a factor of 2) for floating point numbers on your computer. \n",
    "\n",
    "*Hint*: define two variables initialized to 1, and halve/double them for a sufficient amount of times to exceed the under/over-flow limits."
   ]
  },
  {
   "cell_type": "code",
   "execution_count": 20,
   "metadata": {},
   "outputs": [
    {
     "name": "stdout",
     "output_type": "stream",
     "text": [
      "sys.float_info(max=1.7976931348623157e+308, max_exp=1024, max_10_exp=308, min=2.2250738585072014e-308, min_exp=-1021, min_10_exp=-307, dig=15, mant_dig=53, epsilon=2.220446049250313e-16, radix=2, rounds=1)\n"
     ]
    },
    {
     "name": "stderr",
     "output_type": "stream",
     "text": [
      "<ipython-input-20-40c9a9431a70>:6: RuntimeWarning: overflow encountered in long_scalars\n",
      "  a[0]+1\n"
     ]
    },
    {
     "data": {
      "text/plain": [
       "-2147483648"
      ]
     },
     "execution_count": 20,
     "metadata": {},
     "output_type": "execute_result"
    }
   ],
   "source": [
    "\n",
    "import sys\n",
    "import numpy as np\n",
    "print(sys.float_info)\n",
    "a = np.array([2**31-1], dtype=int)\n",
    "    \n",
    "a[0]+1\n",
    "\n"
   ]
  },
  {
   "cell_type": "markdown",
   "metadata": {},
   "source": [
    "4\\. **Machine precision**\n",
    "\n",
    "Similarly to the previous exercise, write a program to determine the machine precision for floating point numbers.\n",
    "\n",
    "*Hint*: define a new variable by adding an increasingly smaller value and check when the addition starts to have no effect on the number."
   ]
  },
  {
   "cell_type": "code",
   "execution_count": 33,
   "metadata": {},
   "outputs": [
    {
     "name": "stdout",
     "output_type": "stream",
     "text": [
      "1.1102230246251565e-16\n",
      "3.0\n"
     ]
    }
   ],
   "source": [
    "small_variable = 1.\n",
    "big_variable = 1.\n",
    "while small_variable + big_variable > big_variable:\n",
    "    #gets smaller and smaller till it doesnt\n",
    "    big_variable+=small_variable\n",
    "    small_variable=small_variable/2\n",
    "    \n",
    "print(small_variable)\n",
    "print(big_variable)\n",
    "\n",
    "#Addition has no effect on the number when it is 1e-16 or smaller"
   ]
  },
  {
   "cell_type": "markdown",
   "metadata": {},
   "source": [
    "5\\. **Quadratic solution**\n",
    "\n",
    "Write a function that takes in input three parameters $a$, $b$ and $c$ and prints out the two solutions to the quadratic equation $ax^2+bx+c=0$ using the standard formula:\n",
    "$$\n",
    "x=\\frac{-b\\pm\\sqrt{b^2-4ac}}{2a}\n",
    "$$\n",
    "\n",
    "(a) use the function to compute the solution for $a=0.001$, $b=1000$ and $c=0.001$\n",
    "\n",
    "(b) re-express the standard solution formula by multiplying the numerator and the denominator by $-b\\mp\\sqrt{b^2-4ac}$ and again find the solution for $a=0.001$, $b=1000$ and $c=0.001$. How does it compare with what has been previously obtained, and why? (add the answer to a Python comment)\n",
    "\n",
    "(c) write a function that computes the roots of a quadratic equation accurately in all cases"
   ]
  },
  {
   "cell_type": "code",
   "execution_count": 21,
   "metadata": {},
   "outputs": [
    {
     "name": "stdout",
     "output_type": "stream",
     "text": [
      "No Real number solutions. Try complex function\n",
      "((-0.076-0.23499787233079367j), (-0.076+0.23499787233079367j))\n"
     ]
    }
   ],
   "source": [
    "import math\n",
    "import cmath\n",
    "\n",
    "def solution(a,b,c):\n",
    "    dis = b * b - 4 * a * c    \n",
    "    ans1 = (-b-math.sqrt(dis))/(2 * a)\n",
    "    ans2 = (-b + math.sqrt(dis))/(2 * a)\n",
    "    return (ans1,ans2)\n",
    "\n",
    "def solution_v2(a,b,c):\n",
    "    dis = b * b - 4 * a * c     \n",
    "    ans1 = (-b-cmath.sqrt(dis))/(2*a)\n",
    "    ans2 = (-b+cmath.sqrt(dis))/(2*a)\n",
    "    return (ans1,ans2)\n",
    "try:\n",
    "    print(solution(1000,152,61))\n",
    "except:\n",
    "    print(\"No Real number solutions. Try complex function\")\n",
    "\n",
    "print(solution_v2(1000,152,61))\n",
    "\n"
   ]
  },
  {
   "cell_type": "markdown",
   "metadata": {},
   "source": [
    "6\\. **The derivative**\n",
    "\n",
    "Write a program that implements the function $f(x)=x(x−1)$\n",
    "\n",
    "(a) Calculate the derivative of the function at the point $x = 1$ using the derivative definition:\n",
    "\n",
    "$$\n",
    "\\frac{{\\rm d}f}{{\\rm d}x} = \\lim_{\\delta\\to0} \\frac{f(x+\\delta)-f(x)}{\\delta}\n",
    "$$\n",
    "\n",
    "with $\\delta = 10^{−2}$. Calculate the true value of the same derivative analytically and compare it with the answer your program gives. The two will not agree perfectly. Why?\n",
    "\n",
    "(b) Repeat the calculation for $\\delta = 10^{−4}, 10^{−6}, 10^{−8}, 10^{−10}, 10^{−12}$ and $10^{−14}$. How does the accuracy scale with $\\delta$?"
   ]
  },
  {
   "cell_type": "code",
   "execution_count": 29,
   "metadata": {},
   "outputs": [
    {
     "name": "stdout",
     "output_type": "stream",
     "text": [
      "1.010000000000001\n",
      "-2 1.010000000000001\n",
      "-4 1.0000999999998899\n",
      "-6 1.0000009999177333\n",
      "-8 1.0000000039225287\n",
      "-10 1.000000082840371\n",
      "-12 1.0000889005833413\n",
      "-14 0.9992007221626509\n"
     ]
    }
   ],
   "source": [
    "def f(x):\n",
    "    return x*(x-1)\n",
    "\n",
    "print(str((f(1+10**-2)-f(1))/10**-2))\n",
    "\n",
    "for i in range(-2,-16,-2):\n",
    "    print((i), str((f(1+10**i)-f(1))/10**i))\n",
    "#the accuracy is low after 10**(-8), values doesnot change a lot anymore \n"
   ]
  },
  {
   "cell_type": "markdown",
   "metadata": {},
   "source": [
    "7\\. **Integral of a semicircle**\n",
    "\n",
    "Consider the integral of the semicircle of radius 1:\n",
    "$$\n",
    "I=\\int_{-1}^{1} \\sqrt(1-x^2) {\\rm d}x\n",
    "$$\n",
    "which is known to be $I=\\frac{\\pi}{2}=1.57079632679...$.\n",
    "\n",
    "Alternatively we can use the Riemann definition of the integral:\n",
    "$$\n",
    "I=\\lim_{N\\to\\infty} \\sum_{k=1}^{N} h y_k \n",
    "$$\n",
    "\n",
    "with $h=2/N$ the width of each of the $N$ slices the domain is divided into and where\n",
    "$y_k$ is the value of the function at the $k-$th slice.\n",
    "\n",
    "(a) Write a program to compute the integral with $N=100$. How does the result compare to the true value?\n",
    "\n",
    "(b) How much can $N$ be increased if the computation needs to be run in less than a second? What is the gain in running it for 1 minute? Use `timeit` to measure the time."
   ]
  },
  {
   "cell_type": "code",
   "execution_count": 32,
   "metadata": {},
   "outputs": [
    {
     "name": "stdout",
     "output_type": "stream",
     "text": [
      "integral of the semicircle radius 1:  1.570796326742361\n",
      "Correct Result:  1.5707963267948966\n",
      "The computation time 0.11741709999978411  seconds\n"
     ]
    }
   ],
   "source": [
    "import math\n",
    "import timeit\n",
    "\n",
    "def semicircle(x):\n",
    "    return math.sqrt(2*x - x*x)\n",
    "\n",
    "def semicircleIntegral(N):\n",
    "    I = 0\n",
    "    for k in range(N):\n",
    "        I += (2/N)*semicircle(2*k/N)\n",
    "    return I \n",
    "\n",
    "N = 10000000\n",
    "print('integral of the semicircle radius 1: ', semicircleIntegral(N))\n",
    "print('Correct Result: ', math.pi/2)\n",
    "\n",
    "t = timeit.timeit(stmt = 'lambda N:semicircleIntegral(N)')\n",
    "print('The computation time', str(t), ' seconds')"
   ]
  },
  {
   "cell_type": "code",
   "execution_count": null,
   "metadata": {},
   "outputs": [],
   "source": []
  }
 ],
 "metadata": {
  "kernelspec": {
   "display_name": "Python 3",
   "language": "python",
   "name": "python3"
  },
  "language_info": {
   "codemirror_mode": {
    "name": "ipython",
    "version": 3
   },
   "file_extension": ".py",
   "mimetype": "text/x-python",
   "name": "python",
   "nbconvert_exporter": "python",
   "pygments_lexer": "ipython3",
   "version": "3.8.8"
  }
 },
 "nbformat": 4,
 "nbformat_minor": 2
}
