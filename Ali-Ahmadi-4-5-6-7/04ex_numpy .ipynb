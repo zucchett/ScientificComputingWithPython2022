{
  "cells": [
    {
      "cell_type": "markdown",
      "metadata": {
        "id": "EBYnPvhPVMSp"
      },
      "source": [
        "1\\. Find the total mean, and the mean for each row and column of the following matrix:\n",
        "\n",
        "```python\n",
        "m = np.arange(12).reshape((3,4))\n",
        "```"
      ]
    },
    {
      "cell_type": "code",
      "execution_count": 1,
      "metadata": {
        "colab": {
          "base_uri": "https://localhost:8080/"
        },
        "id": "GE-f-7HYVMSt",
        "outputId": "798de960-379a-4687-ae67-eac27756ef8e"
      },
      "outputs": [
        {
          "output_type": "execute_result",
          "data": {
            "text/plain": [
              "array([[ 0,  1,  2,  3],\n",
              "       [ 4,  5,  6,  7],\n",
              "       [ 8,  9, 10, 11]])"
            ]
          },
          "metadata": {},
          "execution_count": 1
        }
      ],
      "source": [
        "import numpy as np\n",
        "m = np.arange(12).reshape((3,4)) #creates 3x4 matrix\n",
        "m"
      ]
    },
    {
      "cell_type": "code",
      "execution_count": 2,
      "metadata": {
        "id": "lFNqt2XKVMSw",
        "outputId": "9bb93817-f77b-479a-c9ee-8c40e24a3db4",
        "colab": {
          "base_uri": "https://localhost:8080/"
        }
      },
      "outputs": [
        {
          "output_type": "stream",
          "name": "stdout",
          "text": [
            "Total mean: 5.5\n",
            "Row1 mean: 1.5\n",
            "Row2 mean: 1.5\n",
            "Row3 mean: 1.5\n",
            "Column1 mean: 4.0\n",
            "Column2 mean: 5.0\n",
            "Column3 mean: 6.0\n",
            "Column4 mean: 7.0\n"
          ]
        }
      ],
      "source": [
        "total_mea = np.mean(m) #mean() function finds the mean value of matrix elements\n",
        "\n",
        "#did this to every row\n",
        "row1 = np.mean(m[0])\n",
        "row2 = np.mean(m[0])\n",
        "row3 = np.mean(m[0])\n",
        "\n",
        "\n",
        "#then for every column\n",
        "col1 = np.mean(m[:,0])\n",
        "col2 = np.mean(m[:,1])\n",
        "col3 = np.mean(m[:,2])\n",
        "col4 = np.mean(m[:,3])\n",
        "\n",
        "print(\"Total mean: \"+str(total_mea))\n",
        "print(\"Row1 mean: \"+str(row1))\n",
        "print(\"Row2 mean: \"+str(row2))\n",
        "print(\"Row3 mean: \"+str(row3))\n",
        "print(\"Column1 mean: \"+str(col1))\n",
        "print(\"Column2 mean: \"+str(col2))\n",
        "print(\"Column3 mean: \"+str(col3))\n",
        "print(\"Column4 mean: \"+str(col4))"
      ]
    },
    {
      "cell_type": "markdown",
      "metadata": {
        "id": "eqkBAghRVMSy"
      },
      "source": [
        "2\\. Find the outer product of the following vectors:\n",
        "\n",
        "```python\n",
        "u = np.array([1, 3, 5, 7])\n",
        "v = np.array([2, 4, 6, 8])\n",
        "```\n",
        "\n",
        "Use different methods to do this:\n",
        "\n",
        "   1. Using the function `outer` in numpy\n",
        "   2. Using a nested `for` loop or a list comprehension\n",
        "   3. Using numpy broadcasting operations"
      ]
    },
    {
      "cell_type": "code",
      "execution_count": 3,
      "metadata": {
        "colab": {
          "base_uri": "https://localhost:8080/"
        },
        "id": "faJojzrhVMSz",
        "outputId": "6afdd4b6-8c99-45fc-d800-2a46f35067e6"
      },
      "outputs": [
        {
          "output_type": "stream",
          "name": "stdout",
          "text": [
            "1. Using outer function in numpy: \n",
            "[[ 2  4  6  8]\n",
            " [ 6 12 18 24]\n",
            " [10 20 30 40]\n",
            " [14 28 42 56]]\n",
            "2. Using nested for loop: \n",
            "[[ 2  4  6  8]\n",
            " [ 6 12 18 24]\n",
            " [10 20 30 40]\n",
            " [14 28 42 56]]\n",
            "3. Using list comprehension: \n",
            "[[ 2  4  6  8]\n",
            " [ 6 12 18 24]\n",
            " [10 20 30 40]\n",
            " [14 28 42 56]]\n",
            "4. Using numpy broadcasting operations \n",
            "[[ 2  6 10 14]\n",
            " [ 4 12 20 28]\n",
            " [ 6 18 30 42]\n",
            " [ 8 24 40 56]]\n"
          ]
        }
      ],
      "source": [
        "u = np.array([1, 3, 5, 7])\n",
        "v = np.array([2, 4, 6, 8])\n",
        "\n",
        "#1\n",
        "num_out = np.outer(u,v)\n",
        "\n",
        "print(\"1. Using outer function in numpy: \\n\"+str(num_out))\n",
        "\n",
        "\n",
        "#2\n",
        "mul = []  #blank array\n",
        "for element_u in u: \n",
        "    mul2 = [] #blank array 2\n",
        "    for element_v in v:\n",
        "        mul2.append(element_u*element_v) #for every element in u and v we will append it to mul2 list\n",
        "                                        #after every row append it to the mul list\n",
        "    mul.append(mul2)\n",
        "mul = np.array(mul)\n",
        "\n",
        "\n",
        "print(\"2. Using nested for loop: \\n\"+str(mul))\n",
        "#3 \n",
        "\n",
        "list_comp = np.array([items_u*items_v for items_u in u for items_v in v]).reshape(4,4) #i had to reshape it\n",
        "\n",
        "print(\"3. Using list comprehension: \\n\"+str(list_comp))\n",
        "\n",
        "#4 broadcasting opearations\n",
        "\n",
        "print(\"4. Using numpy broadcasting operations \\n\"+str(u*v.reshape(4,1)))\n"
      ]
    },
    {
      "cell_type": "markdown",
      "metadata": {
        "id": "JlMRcMHqVMS0"
      },
      "source": [
        "3. Matrix masking\n",
        "\n",
        "Create a 10 by 6 matrix of float random numbers, distributed between 0 and 3 according to a flat distribution.\n",
        "\n",
        "After creating the matrix, set all entries<0.3  to zero using a mask.\n",
        "\n",
        "\n"
      ]
    },
    {
      "cell_type": "code",
      "execution_count": 5,
      "metadata": {
        "id": "9adq3od1VMS0",
        "outputId": "3537256f-cb4b-4be9-cafc-29a1a75e36c1",
        "colab": {
          "base_uri": "https://localhost:8080/"
        }
      },
      "outputs": [
        {
          "output_type": "stream",
          "name": "stdout",
          "text": [
            "Matrix : \n",
            "[0.0, 0.0, 0.0, 0.0, 0.0, 0.0, 0.3050847457627119, 0.35593220338983056, 0.4067796610169492, 0.4576271186440678, 0.5084745762711864, 0.5593220338983051, 0.6101694915254238, 0.6610169491525424, 0.7118644067796611, 0.7627118644067797, 0.8135593220338984, 0.864406779661017, 0.9152542372881356, 0.9661016949152543, 1.0, 1.0, 1.0, 1.0, 1.0, 1.0, 1.3220338983050848, 1.3728813559322035, 1.4237288135593222, 1.4745762711864407, 1.5254237288135595, 1.576271186440678, 1.6271186440677967, 1.6779661016949154, 1.728813559322034, 1.7796610169491527, 1.8305084745762712, 1.88135593220339, 1.9322033898305087, 1.9830508474576272, 2.0, 2.0, 2.0, 2.0, 2.0, 2.0, 2.3389830508474576, 2.3898305084745766, 2.440677966101695, 2.4915254237288136, 2.5423728813559325, 2.593220338983051, 2.6440677966101696, 2.6949152542372885, 2.745762711864407, 2.7966101694915255, 2.8474576271186445, 2.898305084745763, 2.9491525423728815, 3.0]\n"
          ]
        }
      ],
      "source": [
        "#print(np.linspace(start = 0, stop = 3, num=60, endpoint=True, retstep=True, dtype=None, axis=0,step = 0.1).reshape(10,6))\n",
        "arr1 = np.linspace(start = 0, stop = 3, num=60, endpoint=True, retstep=False, dtype=None, axis=0)\n",
        "arr2 = [arr1[i]-arr1[i]%1 for i in range(len(arr1)) if arr1[i]%1<0.3] #filtered 0.3\n",
        "arr3 = [arr1[i] for i in range(len(arr1)) if arr1[i]%1>0.3] #rest of the matrix\n",
        "master_arr = list(arr2)+list(arr3) #summed them together\n",
        "master_arr = sorted(np.array(master_arr)) #sorted the values\n",
        "print(\"Matrix : \\n\"+str(master_arr))"
      ]
    },
    {
      "cell_type": "markdown",
      "metadata": {
        "id": "jqWmfL5yVMS1"
      },
      "source": [
        "4\\. Use `np.linspace` to create an array of 100 numbers between 0 and 2π (inclusive).\n",
        "\n",
        "  * Extract every 10th element using the slice notation\n",
        "  * Reverse the array using the slice notation\n",
        "  * Extract elements where the absolute difference between the sin and cos functions evaluated for that element is $< 0.1$\n",
        "  * **Optional**: make a plot showing the sin and cos functions and indicate where they are close"
      ]
    },
    {
      "cell_type": "code",
      "execution_count": 6,
      "metadata": {
        "colab": {
          "base_uri": "https://localhost:8080/"
        },
        "id": "FhJd_wxzVMS2",
        "outputId": "58fe9707-5398-4ff1-c47d-8f816655eca3"
      },
      "outputs": [
        {
          "output_type": "stream",
          "name": "stdout",
          "text": [
            "Reverse the array using the slice notation \n",
            "[6.28318531 6.21971879 6.15625227 6.09278575 6.02931923 5.96585272\n",
            " 5.9023862  5.83891968 5.77545316 5.71198664 5.64852012 5.58505361\n",
            " 5.52158709 5.45812057 5.39465405 5.33118753 5.26772102 5.2042545\n",
            " 5.14078798 5.07732146 5.01385494 4.95038842 4.88692191 4.82345539\n",
            " 4.75998887 4.69652235 4.63305583 4.56958931 4.5061228  4.44265628\n",
            " 4.37918976 4.31572324 4.25225672 4.1887902  4.12532369 4.06185717\n",
            " 3.99839065 3.93492413 3.87145761 3.8079911  3.74452458 3.68105806\n",
            " 3.61759154 3.55412502 3.4906585  3.42719199 3.36372547 3.30025895\n",
            " 3.23679243 3.17332591 3.10985939 3.04639288 2.98292636 2.91945984\n",
            " 2.85599332 2.7925268  2.72906028 2.66559377 2.60212725 2.53866073\n",
            " 2.47519421 2.41172769 2.34826118 2.28479466 2.22132814 2.15786162\n",
            " 2.0943951  2.03092858 1.96746207 1.90399555 1.84052903 1.77706251\n",
            " 1.71359599 1.65012947 1.58666296 1.52319644 1.45972992 1.3962634\n",
            " 1.33279688 1.26933037 1.20586385 1.14239733 1.07893081 1.01546429\n",
            " 0.95199777 0.88853126 0.82506474 0.76159822 0.6981317  0.63466518\n",
            " 0.57119866 0.50773215 0.44426563 0.38079911 0.31733259 0.25386607\n",
            " 0.19039955 0.12693304 0.06346652 0.        ]\n",
            "Extract every 10th element using the slice notation \n",
            "[0.         0.63466518 1.26933037 1.90399555 2.53866073 3.17332591\n",
            " 3.8079911  4.44265628 5.07732146 5.71198664]\n",
            "Extracted elements absolute difference between the sin and cos functions evaluated for that element is  <0.1: \n",
            "{0.7615982190520711, 0.8250647373064104, 3.934924131769034, 3.8714576135146945}\n"
          ]
        }
      ],
      "source": [
        "arr1 = np.linspace(start = 0, stop = np.pi*2, num=100, endpoint=True, retstep=False, dtype=None, axis=0)\n",
        "arr_reversed = arr1[::-1]\n",
        "print(\"Reverse the array using the slice notation \\n\" +str(arr_reversed))\n",
        "arr_10th = arr1[::10]\n",
        "print(\"Extract every 10th element using the slice notation \\n\"+str(arr_10th))\n",
        "\n",
        "#used where function to make the condition\n",
        "arr_sin_cos = np.where(np.absolute(np.sin(arr1)-np.cos(arr1))<0.1,arr1,None)\n",
        "\n",
        "arr_sin_cos = set(arr_sin_cos) #make it set to get rid of Nones that where created\n",
        "arr_sin_cos.remove(None) #then removed the None\n",
        "print(\"Extracted elements absolute difference between the sin and cos functions evaluated for that element is  <0.1: \\n\"+ str(arr_sin_cos))"
      ]
    },
    {
      "cell_type": "code",
      "execution_count": null,
      "metadata": {
        "id": "VaRUfeqNVMS2"
      },
      "outputs": [],
      "source": []
    },
    {
      "cell_type": "markdown",
      "metadata": {
        "id": "8kDSrft9VMS3"
      },
      "source": [
        "5\\. Create a matrix that shows the 10 by 10 multiplication table.\n",
        "\n",
        " * Find the trace of the matrix\n",
        " * Extract the anti-diagonal matrix (this should be ```array([10, 18, 24, 28, 30, 30, 28, 24, 18, 10])```)\n",
        " * Extract the diagonal offset by 1 upwards (this should be ```array([ 2,  6, 12, 20, 30, 42, 56, 72, 90])```)"
      ]
    },
    {
      "cell_type": "code",
      "execution_count": 7,
      "metadata": {
        "colab": {
          "base_uri": "https://localhost:8080/"
        },
        "id": "-1kfu32WVMS3",
        "outputId": "f0354a26-d2e1-4882-8c00-d32b9a3cecb5"
      },
      "outputs": [
        {
          "output_type": "stream",
          "name": "stdout",
          "text": [
            "10x10 matrix: \n",
            "[[  1   2   3   4   5   6   7   8   9  10]\n",
            " [  2   4   6   8  10  12  14  16  18  20]\n",
            " [  3   6   9  12  15  18  21  24  27  30]\n",
            " [  4   8  12  16  20  24  28  32  36  40]\n",
            " [  5  10  15  20  25  30  35  40  45  50]\n",
            " [  6  12  18  24  30  36  42  48  54  60]\n",
            " [  7  14  21  28  35  42  49  56  63  70]\n",
            " [  8  16  24  32  40  48  56  64  72  80]\n",
            " [  9  18  27  36  45  54  63  72  81  90]\n",
            " [ 10  20  30  40  50  60  70  80  90 100]]\n",
            "Anti-Diagonal Matrix: \n",
            "[10 18 24 28 30 30 28 24 18 10]\n",
            "diagonal offset by 1 upwards Matrix: \n",
            "[2, 6, 12, 20, 30, 42, 56, 72, 90]\n"
          ]
        }
      ],
      "source": [
        "ten_by_ten = np.arange(1,11)\n",
        "ten_by_ten = ten_by_ten*ten_by_ten[:,None]\n",
        "\n",
        "print(\"10x10 matrix: \\n\"+str(ten_by_ten))\n",
        "trace = np.trace(ten_by_ten) #first trace\n",
        "\n",
        "\n",
        "\n",
        "flipped = np.fliplr(ten_by_ten) #flipped it\n",
        "\n",
        "anti_diag = np.diag(flipped) \n",
        "print(\"Anti-Diagonal Matrix: \\n\"+str(anti_diag))\n",
        "\n",
        "one_upwards = [ten_by_ten[i][i-1] for i in range(1,len(ten_by_ten))] #created a list comph for this\n",
        "print(\"diagonal offset by 1 upwards Matrix: \\n\"+str(one_upwards))\n"
      ]
    },
    {
      "cell_type": "markdown",
      "metadata": {
        "id": "bC_4WDaVVMS4"
      },
      "source": [
        "6\\. Use broadcasting to create a grid of distances.\n",
        "\n",
        "Route 66 crosses the following cities in the US: Chicago, Springfield, Saint-Louis, Tulsa, Oklahoma City, Amarillo, Santa Fe, Albuquerque, Flagstaff, Los Angeles\n",
        "The corresponding positions in miles are: 0, 198, 303, 736, 871, 1175, 1475, 1544, 1913, 2448\n",
        "\n",
        "  * Build a 2D grid of distances among each city along Route 66\n",
        "  * Convert the distances in km"
      ]
    },
    {
      "cell_type": "code",
      "execution_count": 8,
      "metadata": {
        "id": "0FTxcnTMVMS4",
        "outputId": "cbc070da-629c-4b91-ad2b-90aa5ea57d70",
        "colab": {
          "base_uri": "https://localhost:8080/"
        }
      },
      "outputs": [
        {
          "output_type": "stream",
          "name": "stdout",
          "text": [
            "2D grid:\n"
          ]
        },
        {
          "output_type": "execute_result",
          "data": {
            "text/plain": [
              "array([   0,  198,  303,  736,  871, 1175, 1475, 1544, 1913, 2448,    0,\n",
              "        198,  303,  736,  871, 1175, 1475, 1544, 1913, 2448,    0,  198,\n",
              "        303,  736,  871, 1175, 1475, 1544, 1913, 2448,    0,  198,  303,\n",
              "        736,  871, 1175, 1475, 1544, 1913, 2448,    0,  198,  303,  736,\n",
              "        871, 1175, 1475, 1544, 1913, 2448,    0,  198,  303,  736,  871,\n",
              "       1175, 1475, 1544, 1913, 2448,    0,  198,  303,  736,  871, 1175,\n",
              "       1475, 1544, 1913, 2448,    0,  198,  303,  736,  871, 1175, 1475,\n",
              "       1544, 1913, 2448,    0,  198,  303,  736,  871, 1175, 1475, 1544,\n",
              "       1913, 2448,    0,  198,  303,  736,  871, 1175, 1475, 1544, 1913,\n",
              "       2448])"
            ]
          },
          "metadata": {},
          "execution_count": 8
        }
      ],
      "source": [
        "cities = [ \"Chicago\", \"Springfield\", \"Saint-Louis\", \"Tulsa\", \"Oklahoma City\", \"Amarillo\",\"Santa Fe\", \"Albuquerque\", \"Flagstaff\", \"Los Angeles\"]\n",
        "distances = [0, 198, 303, 736, 871, 1175, 1475, 1544, 1913, 2448]\n",
        "grid = np.tile(distances,len(distances)) #create tile over it for distance map\n",
        "\n",
        "print(\"2D grid:\")\n",
        "grid"
      ]
    },
    {
      "cell_type": "code",
      "execution_count": 9,
      "metadata": {
        "id": "JZ7lHFrQVMS4",
        "outputId": "8b0b6399-10cb-4813-fef5-3e8f55c5a764",
        "colab": {
          "base_uri": "https://localhost:8080/"
        }
      },
      "outputs": [
        {
          "output_type": "stream",
          "name": "stdout",
          "text": [
            "Km Grid:\n"
          ]
        },
        {
          "output_type": "execute_result",
          "data": {
            "text/plain": [
              "array([   0.      ,  318.650112,  487.631232, 1184.477184, 1401.738624,\n",
              "       1890.9792  , 2373.7824  , 2484.827136, 3078.675072, 3939.674112,\n",
              "          0.      ,  318.650112,  487.631232, 1184.477184, 1401.738624,\n",
              "       1890.9792  , 2373.7824  , 2484.827136, 3078.675072, 3939.674112,\n",
              "          0.      ,  318.650112,  487.631232, 1184.477184, 1401.738624,\n",
              "       1890.9792  , 2373.7824  , 2484.827136, 3078.675072, 3939.674112,\n",
              "          0.      ,  318.650112,  487.631232, 1184.477184, 1401.738624,\n",
              "       1890.9792  , 2373.7824  , 2484.827136, 3078.675072, 3939.674112,\n",
              "          0.      ,  318.650112,  487.631232, 1184.477184, 1401.738624,\n",
              "       1890.9792  , 2373.7824  , 2484.827136, 3078.675072, 3939.674112,\n",
              "          0.      ,  318.650112,  487.631232, 1184.477184, 1401.738624,\n",
              "       1890.9792  , 2373.7824  , 2484.827136, 3078.675072, 3939.674112,\n",
              "          0.      ,  318.650112,  487.631232, 1184.477184, 1401.738624,\n",
              "       1890.9792  , 2373.7824  , 2484.827136, 3078.675072, 3939.674112,\n",
              "          0.      ,  318.650112,  487.631232, 1184.477184, 1401.738624,\n",
              "       1890.9792  , 2373.7824  , 2484.827136, 3078.675072, 3939.674112,\n",
              "          0.      ,  318.650112,  487.631232, 1184.477184, 1401.738624,\n",
              "       1890.9792  , 2373.7824  , 2484.827136, 3078.675072, 3939.674112,\n",
              "          0.      ,  318.650112,  487.631232, 1184.477184, 1401.738624,\n",
              "       1890.9792  , 2373.7824  , 2484.827136, 3078.675072, 3939.674112])"
            ]
          },
          "metadata": {},
          "execution_count": 9
        }
      ],
      "source": [
        "# 1 mile = 1.609344 km\n",
        "\n",
        "\n",
        "f = lambda x: x * 1.609344  #created lambda function \n",
        "\n",
        "print(\"Km Grid:\")\n",
        "km_grid = np.array([i*1.609344 for i in grid]).reshape(grid.shape)\n",
        "km_grid"
      ]
    },
    {
      "cell_type": "markdown",
      "metadata": {
        "id": "9Y6o3NSgVMS4"
      },
      "source": [
        "7. Prime numbers sieve\n",
        "\n",
        "Compute the prime numbers in the 0-N (start with N=99) range with a sieve (mask).\n",
        "\n",
        "Constract a shape (N,) boolean array, which is the mask\n",
        "Identify the multiples of each number starting from 2 and set accordingly the corresponding mask element\n",
        "Apply the mask to obtain an array of ordered prime numbers\n",
        "Check the performances (with timeit); how does it scale with N?\n",
        "Implement the optimization suggested in the sieve of Eratosthenes"
      ]
    },
    {
      "cell_type": "code",
      "execution_count": 13,
      "metadata": {
        "id": "mUrb7U8OVMS5"
      },
      "outputs": [],
      "source": [
        "def prime_computer(N):\n",
        "    \n",
        "    tmp = np.ones(N, dtype=bool) #created all boolean array\n",
        "    tmp[0] = tmp[1] = False #no need to look for 0 and 1 we are going to start from 2\n",
        "    for i in range(2, N):\n",
        "        # We could use a lower upper bound for this loop, but I don't want to bother with\n",
        "        # getting the rounding right on the sqrt handling.\n",
        "        if tmp[i]: #for every element\n",
        "            tmp[i*i::i] = False #if something has a divived make it false and all their multiples\n",
        "    return np.flatnonzero(tmp)\n",
        "        "
      ]
    },
    {
      "cell_type": "code",
      "execution_count": 11,
      "metadata": {
        "id": "ZsEflmLzVMS5",
        "outputId": "814a9d58-8451-4002-d4d4-d481e8a2b4a8",
        "colab": {
          "base_uri": "https://localhost:8080/"
        }
      },
      "outputs": [
        {
          "output_type": "stream",
          "name": "stdout",
          "text": [
            "N=100 time(sec): 0.0002794489998905192\n",
            "[ 2  3  5  7 11 13 17 19 23 29 31 37 41 43 47 53 59 61 67 71 73 79 83 89\n",
            " 97]\n"
          ]
        }
      ],
      "source": [
        "import timeit\n",
        "\n",
        "start_time = timeit.default_timer()\n",
        "prime_computer(100)\n",
        "print(\"N=100 time(sec): \"+str(timeit.default_timer() - start_time))\n",
        "print(prime_computer(100))"
      ]
    },
    {
      "cell_type": "code",
      "execution_count": 14,
      "metadata": {
        "id": "mtfN3Q9TVMS5",
        "outputId": "2a8a43ab-4129-4137-d55d-096a0a5d7d35",
        "colab": {
          "base_uri": "https://localhost:8080/"
        }
      },
      "outputs": [
        {
          "output_type": "stream",
          "name": "stdout",
          "text": [
            "N=1000000 time(sec): 0.10437519499987502\n",
            "[     2      3      5 ... 999961 999979 999983]\n"
          ]
        }
      ],
      "source": [
        "start_time = timeit.default_timer()\n",
        "prime_computer(1000000)\n",
        "print(\"N=1000000 time(sec): \"+str(timeit.default_timer() - start_time))\n",
        "print(prime_computer(1000000))"
      ]
    },
    {
      "cell_type": "markdown",
      "source": [
        "8. Diffusion using random walk\n",
        "\n",
        "Consider a simple random walk process: at each step in time, a walker jumps right or left (+1 or -1) with equal probability. The goal is to find the typical distance from the origin of many random walkers after a given amount of time.\n",
        "\n",
        "Hint: create a 2D array where each row represents a walker, and each column represents a time step.\n",
        "\n",
        "Take 1000 walkers and let them walk for 200 steps\n",
        "Use randint to create a 2D array of size  with values -1 or 1\n",
        "Calculate the walking distances for each walker (e.g. by summing the elements in each row)\n",
        "Take the square of the previously-obtained array (element-wise)\n",
        "Compute the mean of the squared distances at each step (i.e. the mean along the columns)\n",
        "Optional: plot the average distances () as a function of time (step)"
      ],
      "metadata": {
        "id": "jM_-eFqVjbTA"
      }
    }
  ],
  "metadata": {
    "kernelspec": {
      "display_name": "Python 3 (ipykernel)",
      "language": "python",
      "name": "python3"
    },
    "language_info": {
      "codemirror_mode": {
        "name": "ipython",
        "version": 3
      },
      "file_extension": ".py",
      "mimetype": "text/x-python",
      "name": "python",
      "nbconvert_exporter": "python",
      "pygments_lexer": "ipython3",
      "version": "3.9.7"
    },
    "colab": {
      "provenance": []
    }
  },
  "nbformat": 4,
  "nbformat_minor": 0
}