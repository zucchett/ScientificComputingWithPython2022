{
 "cells": [
  {
   "cell_type": "markdown",
   "metadata": {},
   "source": [
    "# 04-ex"
   ]
  },
  {
   "cell_type": "markdown",
   "metadata": {},
   "source": [
    "1. Reductions\n",
    "\n",
    "Find the total mean, and the mean for each row and column of the following matrix:\n",
    "\n",
    "m = np.arange(12).reshape((3,4))\n",
    "\n"
   ]
  },
  {
   "cell_type": "code",
   "execution_count": 1,
   "metadata": {},
   "outputs": [
    {
     "data": {
      "text/plain": [
       "array([[ 0,  1,  2,  3],\n",
       "       [ 4,  5,  6,  7],\n",
       "       [ 8,  9, 10, 11]])"
      ]
     },
     "execution_count": 1,
     "metadata": {},
     "output_type": "execute_result"
    }
   ],
   "source": [
    "import numpy as np\n",
    "m = np.arange(12).reshape((3,4))\n",
    "m"
   ]
  },
  {
   "cell_type": "code",
   "execution_count": 3,
   "metadata": {},
   "outputs": [
    {
     "name": "stdout",
     "output_type": "stream",
     "text": [
      "Total mean: 5.5\n",
      "Row1 mean: 1.5\n",
      "Row2 mean: 1.5\n",
      "Row3 mean: 1.5\n",
      "Column1 mean: 4.0\n",
      "Column2 mean: 5.0\n",
      "Column3 mean: 6.0\n",
      "Column4 mean: 7.0\n"
     ]
    }
   ],
   "source": [
    "total_mea = np.mean(m)\n",
    "\n",
    "#did this to every row\n",
    "row1 = np.mean(m[0])\n",
    "row2 = np.mean(m[0])\n",
    "row3 = np.mean(m[0])\n",
    "\n",
    "\n",
    "#and for every column\n",
    "col1 = np.mean(m[:,0])\n",
    "col2 = np.mean(m[:,1])\n",
    "col3 = np.mean(m[:,2])\n",
    "col4 = np.mean(m[:,3])\n",
    "\n",
    "print(\"Total mean: \"+str(total_mea))\n",
    "print(\"Row1 mean: \"+str(row1))\n",
    "print(\"Row2 mean: \"+str(row2))\n",
    "print(\"Row3 mean: \"+str(row3))\n",
    "print(\"Column1 mean: \"+str(col1))\n",
    "print(\"Column2 mean: \"+str(col2))\n",
    "print(\"Column3 mean: \"+str(col3))\n",
    "print(\"Column4 mean: \"+str(col4))"
   ]
  },
  {
   "cell_type": "markdown",
   "metadata": {},
   "source": [
    "2\\. **Outer product**\n",
    "\n",
    "Find the outer product of the following vectors:\n",
    "\n",
    "```python\n",
    "u = np.array([1, 3, 5, 7])\n",
    "v = np.array([2, 4, 6, 8])\n",
    "```\n",
    "\n",
    "Use different methods to do this:\n",
    "\n",
    "   1. Using the function `outer` in numpy\n",
    "   2. Using a nested `for` loop or a list comprehension\n",
    "   3. Using numpy broadcasting operations"
   ]
  },
  {
   "cell_type": "code",
   "execution_count": 4,
   "metadata": {},
   "outputs": [
    {
     "name": "stdout",
     "output_type": "stream",
     "text": [
      "1. Using the function outer in numpy: \n",
      "[[ 2  4  6  8]\n",
      " [ 6 12 18 24]\n",
      " [10 20 30 40]\n",
      " [14 28 42 56]]\n",
      "2. Using a nested for loop: \n",
      "[[ 2  4  6  8]\n",
      " [ 6 12 18 24]\n",
      " [10 20 30 40]\n",
      " [14 28 42 56]]\n",
      "3. Using a list comprehension: \n",
      "[[ 2  4  6  8]\n",
      " [ 6 12 18 24]\n",
      " [10 20 30 40]\n",
      " [14 28 42 56]]\n",
      "4. Using numpy broadcasting operations \n",
      "[[ 2  6 10 14]\n",
      " [ 4 12 20 28]\n",
      " [ 6 18 30 42]\n",
      " [ 8 24 40 56]]\n"
     ]
    }
   ],
   "source": [
    "u = np.array([1, 3, 5, 7])\n",
    "v = np.array([2, 4, 6, 8])\n",
    "\n",
    "#1\n",
    "num_out = np.outer(u,v)\n",
    "\n",
    "print(\"1. Using the function outer in numpy: \\n\"+str(num_out))\n",
    "\n",
    "\n",
    "#2\n",
    "mul = []  \n",
    "for element_u in u: \n",
    "    mul2 = [] \n",
    "    for element_v in v:\n",
    "        mul2.append(element_u*element_v) \n",
    "    mul.append(mul2)\n",
    "mul = np.array(mul)\n",
    "\n",
    "\n",
    "print(\"2. Using a nested for loop: \\n\"+str(mul))\n",
    "#3 \n",
    "\n",
    "list_comp = np.array([items_u*items_v for items_u in u for items_v in v]).reshape(4,4) #I had to reshape it\n",
    "\n",
    "print(\"3. Using a list comprehension: \\n\"+str(list_comp))\n",
    "\n",
    "#4\n",
    "\n",
    "print(\"4. Using numpy broadcasting operations \\n\"+str(u*v.reshape(4,1)))\n"
   ]
  },
  {
   "cell_type": "markdown",
   "metadata": {},
   "source": [
    "3\\. **Matrix masking**\n",
    "\n",
    "Create a 10 by 6 matrix of float random numbers, distributed between 0 and 3 according to a flat distribution.\n",
    "\n",
    "After creating the matrix, set all entries $< 0.3$ to zero using a mask."
   ]
  },
  {
   "cell_type": "code",
   "execution_count": 2,
   "metadata": {},
   "outputs": [
    {
     "name": "stdout",
     "output_type": "stream",
     "text": [
      "[[0.49693753 2.84049614 0.89944048 1.61790711 0.90226374 1.86300704]\n",
      " [0.08795128 2.241662   2.58181591 0.40242573 0.289146   1.85710126]\n",
      " [0.26799748 2.8995027  0.59422747 0.38495511 0.03274657 0.83738643]\n",
      " [0.68882438 1.56139699 2.48028461 0.95756899 0.79676468 0.88929947]\n",
      " [0.15227417 2.72431981 2.57639085 1.6901189  0.41102968 0.11752062]\n",
      " [2.03240578 2.05512515 2.22530194 1.73497518 1.29178579 1.13992833]\n",
      " [0.93435836 0.15644082 0.56976389 1.16603323 1.31601077 0.42102856]\n",
      " [2.33203074 2.52738095 0.9667389  0.42478089 0.87002534 0.61504154]\n",
      " [0.84060957 1.96238655 1.1283999  0.33052573 1.52534432 2.13061576]\n",
      " [2.87196707 2.0023544  1.20076255 2.67009784 0.89357531 2.38201557]]\n",
      "[[1. 1. 1. 1. 1. 1.]\n",
      " [0. 1. 1. 1. 0. 1.]\n",
      " [0. 1. 1. 1. 0. 1.]\n",
      " [1. 1. 1. 1. 1. 1.]\n",
      " [0. 1. 1. 1. 1. 0.]\n",
      " [1. 1. 1. 1. 1. 1.]\n",
      " [1. 0. 1. 1. 1. 1.]\n",
      " [1. 1. 1. 1. 1. 1.]\n",
      " [1. 1. 1. 1. 1. 1.]\n",
      " [1. 1. 1. 1. 1. 1.]]\n"
     ]
    }
   ],
   "source": [
    "a = np.random.rand(10,6) * 3\n",
    "print(a)\n",
    "\n",
    "for row in a:\n",
    "    for ind, ele in enumerate(row):\n",
    "        row[ind] = 1 if ele>0.3 else 0\n",
    "print(a)"
   ]
  },
  {
   "cell_type": "code",
   "execution_count": null,
   "metadata": {},
   "outputs": [],
   "source": []
  },
  {
   "cell_type": "markdown",
   "metadata": {},
   "source": [
    "4\\. **Trigonometric functions**\n",
    "\n",
    "Use `np.linspace` to create an array of 100 numbers between $0$ and $2\\pi$ (inclusive).\n",
    "\n",
    "  * Extract every 10th element using the slice notation\n",
    "  * Reverse the array using the slice notation\n",
    "  * Extract elements where the absolute difference between the `sin` and `cos` functions evaluated for that element is $< 0.1$\n",
    "  * **Optional**: make a plot showing the sin and cos functions and indicate where they are close"
   ]
  },
  {
   "cell_type": "code",
   "execution_count": 5,
   "metadata": {},
   "outputs": [
    {
     "name": "stdout",
     "output_type": "stream",
     "text": [
      "Reverse the array using the slice notation \n",
      "[6.28318531 6.21971879 6.15625227 6.09278575 6.02931923 5.96585272\n",
      " 5.9023862  5.83891968 5.77545316 5.71198664 5.64852012 5.58505361\n",
      " 5.52158709 5.45812057 5.39465405 5.33118753 5.26772102 5.2042545\n",
      " 5.14078798 5.07732146 5.01385494 4.95038842 4.88692191 4.82345539\n",
      " 4.75998887 4.69652235 4.63305583 4.56958931 4.5061228  4.44265628\n",
      " 4.37918976 4.31572324 4.25225672 4.1887902  4.12532369 4.06185717\n",
      " 3.99839065 3.93492413 3.87145761 3.8079911  3.74452458 3.68105806\n",
      " 3.61759154 3.55412502 3.4906585  3.42719199 3.36372547 3.30025895\n",
      " 3.23679243 3.17332591 3.10985939 3.04639288 2.98292636 2.91945984\n",
      " 2.85599332 2.7925268  2.72906028 2.66559377 2.60212725 2.53866073\n",
      " 2.47519421 2.41172769 2.34826118 2.28479466 2.22132814 2.15786162\n",
      " 2.0943951  2.03092858 1.96746207 1.90399555 1.84052903 1.77706251\n",
      " 1.71359599 1.65012947 1.58666296 1.52319644 1.45972992 1.3962634\n",
      " 1.33279688 1.26933037 1.20586385 1.14239733 1.07893081 1.01546429\n",
      " 0.95199777 0.88853126 0.82506474 0.76159822 0.6981317  0.63466518\n",
      " 0.57119866 0.50773215 0.44426563 0.38079911 0.31733259 0.25386607\n",
      " 0.19039955 0.12693304 0.06346652 0.        ]\n",
      "Extract every 10th element using the slice notation \n",
      "[0.         0.63466518 1.26933037 1.90399555 2.53866073 3.17332591\n",
      " 3.8079911  4.44265628 5.07732146 5.71198664]\n",
      "Extracted elements absolute difference between the sin and cos functions evaluated for that element is  <0.1: \n",
      "{0.7615982190520711, 0.8250647373064104, 3.934924131769034, 3.8714576135146945}\n"
     ]
    }
   ],
   "source": [
    "arr1 = np.linspace(start = 0, stop = np.pi*2, num=100, endpoint=True, retstep=False, dtype=None, axis=0)\n",
    "arr_reversed = arr1[::-1]\n",
    "print(\"Reverse the array using the slice notation \\n\" +str(arr_reversed))\n",
    "arr_10th = arr1[::10]\n",
    "print(\"Extract every 10th element using the slice notation \\n\"+str(arr_10th))\n",
    "\n",
    "arr_sin_cos = np.where(np.absolute(np.sin(arr1)-np.cos(arr1))<0.1,arr1,None)\n",
    "\n",
    "arr_sin_cos = set(arr_sin_cos)\n",
    "arr_sin_cos.remove(None)\n",
    "print(\"Extracted elements absolute difference between the sin and cos functions evaluated for that element is  <0.1: \\n\"+ str(arr_sin_cos))"
   ]
  },
  {
   "cell_type": "markdown",
   "metadata": {},
   "source": [
    "5\\. **Matrices**\n",
    "\n",
    "Create a matrix that shows the 10 by 10 multiplication table.\n",
    "\n",
    " * Find the trace of the matrix\n",
    " * Extract the anti-diagonal matrix (this should be ```array([10, 18, 24, 28, 30, 30, 28, 24, 18, 10])```)\n",
    " * Extract the diagonal offset by 1 upwards (this should be ```array([ 2,  6, 12, 20, 30, 42, 56, 72, 90])```)"
   ]
  },
  {
   "cell_type": "code",
   "execution_count": 6,
   "metadata": {},
   "outputs": [
    {
     "name": "stdout",
     "output_type": "stream",
     "text": [
      "10x10 matrix: \n",
      "[[  1   2   3   4   5   6   7   8   9  10]\n",
      " [  2   4   6   8  10  12  14  16  18  20]\n",
      " [  3   6   9  12  15  18  21  24  27  30]\n",
      " [  4   8  12  16  20  24  28  32  36  40]\n",
      " [  5  10  15  20  25  30  35  40  45  50]\n",
      " [  6  12  18  24  30  36  42  48  54  60]\n",
      " [  7  14  21  28  35  42  49  56  63  70]\n",
      " [  8  16  24  32  40  48  56  64  72  80]\n",
      " [  9  18  27  36  45  54  63  72  81  90]\n",
      " [ 10  20  30  40  50  60  70  80  90 100]]\n",
      "Anti-Diagonal Matrix: \n",
      "[10 18 24 28 30 30 28 24 18 10]\n",
      "diagonal offset by 1 upwards Matrix: \n",
      "[2, 6, 12, 20, 30, 42, 56, 72, 90]\n"
     ]
    }
   ],
   "source": [
    "ten_by_ten = np.arange(1,11)\n",
    "ten_by_ten = ten_by_ten*ten_by_ten[:,None]\n",
    "\n",
    "print(\"10x10 matrix: \\n\"+str(ten_by_ten))\n",
    "trace = np.trace(ten_by_ten)\n",
    "\n",
    "\n",
    "\n",
    "flipped = np.fliplr(ten_by_ten) #flipped it\n",
    "\n",
    "anti_diag = np.diag(flipped) \n",
    "print(\"Anti-Diagonal Matrix: \\n\"+str(anti_diag))\n",
    "\n",
    "one_upwards = [ten_by_ten[i][i-1] for i in range(1,len(ten_by_ten))]\n",
    "print(\"diagonal offset by 1 upwards Matrix: \\n\"+str(one_upwards))"
   ]
  },
  {
   "cell_type": "markdown",
   "metadata": {},
   "source": [
    "6\\. **Broadcasting**\n",
    "\n",
    "Use broadcasting to create a grid of distances.\n",
    "\n",
    "Route 66 crosses the following cities in the US: Chicago, Springfield, Saint-Louis, Tulsa, Oklahoma City, Amarillo, Santa Fe, Albuquerque, Flagstaff, Los Angeles.\n",
    "\n",
    "The corresponding positions in miles are: 0, 198, 303, 736, 871, 1175, 1475, 1544, 1913, 2448\n",
    "\n",
    "  * Build a 2D grid of distances among each city along Route 66\n",
    "  * Convert the distances in km"
   ]
  },
  {
   "cell_type": "code",
   "execution_count": 7,
   "metadata": {},
   "outputs": [
    {
     "name": "stdout",
     "output_type": "stream",
     "text": [
      "2D grid:\n"
     ]
    },
    {
     "data": {
      "text/plain": [
       "array([   0,  198,  303,  736,  871, 1175, 1475, 1544, 1913, 2448,    0,\n",
       "        198,  303,  736,  871, 1175, 1475, 1544, 1913, 2448,    0,  198,\n",
       "        303,  736,  871, 1175, 1475, 1544, 1913, 2448,    0,  198,  303,\n",
       "        736,  871, 1175, 1475, 1544, 1913, 2448,    0,  198,  303,  736,\n",
       "        871, 1175, 1475, 1544, 1913, 2448,    0,  198,  303,  736,  871,\n",
       "       1175, 1475, 1544, 1913, 2448,    0,  198,  303,  736,  871, 1175,\n",
       "       1475, 1544, 1913, 2448,    0,  198,  303,  736,  871, 1175, 1475,\n",
       "       1544, 1913, 2448,    0,  198,  303,  736,  871, 1175, 1475, 1544,\n",
       "       1913, 2448,    0,  198,  303,  736,  871, 1175, 1475, 1544, 1913,\n",
       "       2448])"
      ]
     },
     "execution_count": 7,
     "metadata": {},
     "output_type": "execute_result"
    }
   ],
   "source": [
    "cities = [ \"Chicago\", \"Springfield\", \"Saint-Louis\", \"Tulsa\", \"Oklahoma City\", \"Amarillo\",\"Santa Fe\", \"Albuquerque\", \"Flagstaff\", \"Los Angeles\"]\n",
    "distances = [0, 198, 303, 736, 871, 1175, 1475, 1544, 1913, 2448]\n",
    "grid = np.tile(distances,len(distances))\n",
    "\n",
    "print(\"2D grid:\")\n",
    "grid"
   ]
  },
  {
   "cell_type": "code",
   "execution_count": 8,
   "metadata": {},
   "outputs": [
    {
     "name": "stdout",
     "output_type": "stream",
     "text": [
      "Km Grid:\n"
     ]
    },
    {
     "data": {
      "text/plain": [
       "array([   0.      ,  318.650112,  487.631232, 1184.477184, 1401.738624,\n",
       "       1890.9792  , 2373.7824  , 2484.827136, 3078.675072, 3939.674112,\n",
       "          0.      ,  318.650112,  487.631232, 1184.477184, 1401.738624,\n",
       "       1890.9792  , 2373.7824  , 2484.827136, 3078.675072, 3939.674112,\n",
       "          0.      ,  318.650112,  487.631232, 1184.477184, 1401.738624,\n",
       "       1890.9792  , 2373.7824  , 2484.827136, 3078.675072, 3939.674112,\n",
       "          0.      ,  318.650112,  487.631232, 1184.477184, 1401.738624,\n",
       "       1890.9792  , 2373.7824  , 2484.827136, 3078.675072, 3939.674112,\n",
       "          0.      ,  318.650112,  487.631232, 1184.477184, 1401.738624,\n",
       "       1890.9792  , 2373.7824  , 2484.827136, 3078.675072, 3939.674112,\n",
       "          0.      ,  318.650112,  487.631232, 1184.477184, 1401.738624,\n",
       "       1890.9792  , 2373.7824  , 2484.827136, 3078.675072, 3939.674112,\n",
       "          0.      ,  318.650112,  487.631232, 1184.477184, 1401.738624,\n",
       "       1890.9792  , 2373.7824  , 2484.827136, 3078.675072, 3939.674112,\n",
       "          0.      ,  318.650112,  487.631232, 1184.477184, 1401.738624,\n",
       "       1890.9792  , 2373.7824  , 2484.827136, 3078.675072, 3939.674112,\n",
       "          0.      ,  318.650112,  487.631232, 1184.477184, 1401.738624,\n",
       "       1890.9792  , 2373.7824  , 2484.827136, 3078.675072, 3939.674112,\n",
       "          0.      ,  318.650112,  487.631232, 1184.477184, 1401.738624,\n",
       "       1890.9792  , 2373.7824  , 2484.827136, 3078.675072, 3939.674112])"
      ]
     },
     "execution_count": 8,
     "metadata": {},
     "output_type": "execute_result"
    }
   ],
   "source": [
    "# 1 mile = 1.609344 km\n",
    "\n",
    "\n",
    "f = lambda x: x * 1.609344\n",
    "\n",
    "print(\"Km Grid:\")\n",
    "km_grid = np.array([i*1.609344 for i in grid]).reshape(grid.shape)\n",
    "km_grid"
   ]
  },
  {
   "cell_type": "code",
   "execution_count": null,
   "metadata": {},
   "outputs": [],
   "source": []
  },
  {
   "cell_type": "markdown",
   "metadata": {},
   "source": [
    "7\\. **Prime numbers sieve**\n",
    "\n",
    "Compute the prime numbers in the 0-N (start with N=99) range with a sieve (mask).\n",
    "\n",
    "  * Constract a shape (N,) boolean array, which is the mask\n",
    "  * Identify the multiples of each number starting from 2 and set accordingly the corresponding mask element\n",
    "  * Apply the mask to obtain an array of ordered prime numbers\n",
    "  * Check the performances (with `timeit`); how does it scale with N?\n",
    "  * Implement the optimization suggested in the [sieve of Eratosthenes](https://en.wikipedia.org/wiki/Sieve_of_Eratosthenes)"
   ]
  },
  {
   "cell_type": "code",
   "execution_count": 9,
   "metadata": {},
   "outputs": [],
   "source": [
    "def prime_computer(N):\n",
    "    \n",
    "    tmp = np.ones(N, dtype=bool)\n",
    "    tmp[0] = tmp[1] = False\n",
    "    for i in range(2, N):\n",
    "        if tmp[i]: \n",
    "            tmp[i*i::i] = False\n",
    "    return np.flatnonzero(tmp)"
   ]
  },
  {
   "cell_type": "code",
   "execution_count": 10,
   "metadata": {},
   "outputs": [
    {
     "name": "stdout",
     "output_type": "stream",
     "text": [
      "N=100 time(sec): 0.0001510459997007274\n",
      "[ 2  3  5  7 11 13 17 19 23 29 31 37 41 43 47 53 59 61 67 71 73 79 83 89\n",
      " 97]\n"
     ]
    }
   ],
   "source": [
    "import timeit\n",
    "\n",
    "start_time = timeit.default_timer()\n",
    "prime_computer(100)\n",
    "print(\"N=100 time(sec): \"+str(timeit.default_timer() - start_time))\n",
    "print(prime_computer(100))"
   ]
  },
  {
   "cell_type": "code",
   "execution_count": 11,
   "metadata": {},
   "outputs": [
    {
     "name": "stdout",
     "output_type": "stream",
     "text": [
      "N=1000000 time(sec): 0.14733143100011148\n",
      "[     2      3      5 ... 999961 999979 999983]\n"
     ]
    }
   ],
   "source": [
    "start_time = timeit.default_timer()\n",
    "prime_computer(1000000)\n",
    "print(\"N=1000000 time(sec): \"+str(timeit.default_timer() - start_time))\n",
    "print(prime_computer(1000000))"
   ]
  },
  {
   "cell_type": "markdown",
   "metadata": {},
   "source": [
    "8\\. **Diffusion using random walk**\n",
    "\n",
    "Consider a simple random walk process: at each step in time, a walker jumps right or left (+1 or -1) with equal probability. The goal is to find the typical distance from the origin of many random walkers after a given amount of time.\n",
    "\n",
    "*Hint*: create a 2D array where each row represents a walker, and each column represents a time step.\n",
    "\n",
    "  * Take 1000 walkers and let them walk for 200 steps\n",
    "  * Use `randint` to create a 2D array of size $walkers \\times steps$ with values -1 or 1\n",
    "  * Calculate the walking distances for each walker (e.g. by summing the elements in each row)\n",
    "  * Take the square of the previously-obtained array (element-wise)\n",
    "  * Compute the mean of the squared distances at each step (i.e. the mean along the columns)\n",
    "  * **Optional**: plot the average distances ($\\sqrt(distance^2)$) as a function of time (step)"
   ]
  },
  {
   "cell_type": "code",
   "execution_count": null,
   "metadata": {},
   "outputs": [],
   "source": []
  }
 ],
 "metadata": {
  "kernelspec": {
   "display_name": "Python 3 (ipykernel)",
   "language": "python",
   "name": "python3"
  },
  "language_info": {
   "codemirror_mode": {
    "name": "ipython",
    "version": 3
   },
   "file_extension": ".py",
   "mimetype": "text/x-python",
   "name": "python",
   "nbconvert_exporter": "python",
   "pygments_lexer": "ipython3",
   "version": "3.9.12"
  }
 },
 "nbformat": 4,
 "nbformat_minor": 2
}
