{
 "cells": [
  {
   "cell_type": "markdown",
   "metadata": {},
   "source": [
    "# Exercise 4 - hannafalch_nastby"
   ]
  },
  {
   "cell_type": "code",
   "execution_count": 2,
   "metadata": {},
   "outputs": [],
   "source": [
    "import numpy as np\n",
    "import matplotlib.pyplot as plt"
   ]
  },
  {
   "cell_type": "markdown",
   "metadata": {},
   "source": [
    "### 1. Reductions\n",
    "\n",
    "Find the total mean, and the mean for each row and column of the following matrix:\n",
    "\n",
    "```python\n",
    "m = np.arange(12).reshape((3,4))\n",
    "```"
   ]
  },
  {
   "cell_type": "code",
   "execution_count": 3,
   "metadata": {},
   "outputs": [
    {
     "name": "stdout",
     "output_type": "stream",
     "text": [
      "[[ 0  1  2  3]\n",
      " [ 4  5  6  7]\n",
      " [ 8  9 10 11]]\n",
      "The mean of row 1 is: 1.5\n",
      "The mean of row 2 is: 5.5\n",
      "The mean of row 3 is: 9.5\n",
      "The mean of the total matrix is: 5.5\n"
     ]
    }
   ],
   "source": [
    "m = np.arange(12).reshape((3,4))\n",
    "print(m)\n",
    "for i in range(len(m[:,0])):\n",
    "    print(f\"The mean of row {i+1} is: {np.mean(m[i,:])}\")\n",
    "    \n",
    "print(f\"The mean of the total matrix is: {np.mean(m)}\")"
   ]
  },
  {
   "cell_type": "markdown",
   "metadata": {},
   "source": [
    "### 2. Outer product\n",
    "\n",
    "Find the outer product of the following vectors:\n",
    "\n",
    "```python\n",
    "u = np.array([1, 3, 5, 7])\n",
    "v = np.array([2, 4, 6, 8])\n",
    "```\n",
    "\n",
    "Use different methods to do this:\n",
    "\n",
    "   1. Using the function `outer` in numpy\n",
    "   2. Using a nested `for` loop or a list comprehension\n",
    "   3. Using numpy broadcasting operations"
   ]
  },
  {
   "cell_type": "code",
   "execution_count": 6,
   "metadata": {},
   "outputs": [
    {
     "name": "stdout",
     "output_type": "stream",
     "text": [
      "The outer product is:  [[ 2  4  6  8]\n",
      " [ 6 12 18 24]\n",
      " [10 20 30 40]\n",
      " [14 28 42 56]]\n"
     ]
    }
   ],
   "source": [
    "u = np.array([1, 3, 5, 7])\n",
    "v = np.array([2, 4, 6, 8])\n",
    "\n",
    "#   1. Using the function `outer` in numpy\n",
    "print(\"The outer product is: \", np.outer(u, v))\n"
   ]
  },
  {
   "cell_type": "code",
   "execution_count": 28,
   "metadata": {},
   "outputs": [
    {
     "name": "stdout",
     "output_type": "stream",
     "text": [
      "The outer product, using for loops, is:  [[ 2.  4.  6.  8.]\n",
      " [ 6. 12. 18. 24.]\n",
      " [10. 20. 30. 40.]\n",
      " [14. 28. 42. 56.]]\n",
      "The outer product using nested list comprehension:  [[2, 6, 10, 14], [4, 12, 20, 28], [6, 18, 30, 42], [8, 24, 40, 56]]\n"
     ]
    }
   ],
   "source": [
    "#   2. Using a nested `for` loop or a list comprehension\n",
    "out2 = np.zeros((4,4))\n",
    "for i in range(len(u)):\n",
    "    for j in range(len(v)):\n",
    "        out2[i][j] = u[i]*v[j]\n",
    "\n",
    "print(f\"The outer product, using for loops: \", out2)\n",
    " \n",
    "out3 = [[u[x]*v[y] for x in range(len(u))] for y in range(len(v))]\n",
    "print(f\"The outer product using nested list comprehension: \", out3)"
   ]
  },
  {
   "cell_type": "code",
   "execution_count": 37,
   "metadata": {},
   "outputs": [
    {
     "name": "stdout",
     "output_type": "stream",
     "text": [
      "The outer product using broadcasting:  [[ 2  4  6  8]\n",
      " [ 6 12 18 24]\n",
      " [10 20 30 40]\n",
      " [14 28 42 56]]\n"
     ]
    }
   ],
   "source": [
    "#   3. Using numpy broadcasting operations\n",
    "out4 = np.tile(u,4).reshape(4, 4).T * v\n",
    "print(f\"The outer product using broadcasting: \", out4)"
   ]
  },
  {
   "cell_type": "markdown",
   "metadata": {},
   "source": [
    "### 3. Matrix masking\n",
    "Create a 10 by 6 matrix of float random numbers, distributed between 0 and 3 according to a flat distribution.\n",
    "\n",
    "After creating the matrix, set all entries $< 0.3$ to zero using a mask."
   ]
  },
  {
   "cell_type": "code",
   "execution_count": 74,
   "metadata": {},
   "outputs": [
    {
     "name": "stdout",
     "output_type": "stream",
     "text": [
      "The original matrix:\n",
      "[[2.20012072 1.723203   2.25144279 1.06763143 2.14259007 1.01974451]\n",
      " [0.42490545 2.99721392 0.5571537  2.67890786 1.22679268 2.59532795]\n",
      " [2.10016991 2.713857   0.31174238 2.13856699 0.47037056 2.57439357]\n",
      " [2.97877839 1.01936944 2.11672281 1.6023106  1.94263437 0.11667199]\n",
      " [0.03115255 1.0909326  0.70045628 0.2616004  2.63776774 1.83702217]\n",
      " [1.8151192  1.97292235 1.23426933 2.36568304 0.99325272 2.75098322]\n",
      " [0.87230809 0.85627008 1.10425643 2.17639025 0.34981195 2.18724015]\n",
      " [2.89431726 1.55911232 2.96650428 2.22168946 0.14260788 0.29915189]\n",
      " [0.94060503 0.52260188 1.77249612 2.80111028 0.05058859 2.34031433]\n",
      " [2.21846046 2.14831794 2.89437543 2.19538506 1.77077975 0.15054206]]\n",
      "The filtered matrix\n",
      "[[2.20012072 1.723203   2.25144279 1.06763143 2.14259007 1.01974451]\n",
      " [0.42490545 2.99721392 0.5571537  2.67890786 1.22679268 2.59532795]\n",
      " [2.10016991 2.713857   0.31174238 2.13856699 0.47037056 2.57439357]\n",
      " [2.97877839 1.01936944 2.11672281 1.6023106  1.94263437 0.        ]\n",
      " [0.         1.0909326  0.70045628 0.         2.63776774 1.83702217]\n",
      " [1.8151192  1.97292235 1.23426933 2.36568304 0.99325272 2.75098322]\n",
      " [0.87230809 0.85627008 1.10425643 2.17639025 0.34981195 2.18724015]\n",
      " [2.89431726 1.55911232 2.96650428 2.22168946 0.         0.        ]\n",
      " [0.94060503 0.52260188 1.77249612 2.80111028 0.         2.34031433]\n",
      " [2.21846046 2.14831794 2.89437543 2.19538506 1.77077975 0.        ]]\n"
     ]
    }
   ],
   "source": [
    "mat = np.random.uniform(0, 3, size=(10, 6))\n",
    "print(\"The original matrix:\")\n",
    "print(mat)\n",
    "\n",
    "mask = (mat < 0.3)\n",
    "mat[mask] = 0\n",
    "print(\"The filtered matrix:\")\n",
    "print(mat)\n"
   ]
  },
  {
   "cell_type": "markdown",
   "metadata": {},
   "source": [
    "### 4. Trigonometric functions\n",
    "\n",
    "\n",
    "Use `np.linspace` to create an array of 100 numbers between $0$ and $2\\pi$ (inclusive).\n",
    "\n",
    "  * Extract every 10th element using the slice notation\n",
    "  * Reverse the array using the slice notation\n",
    "  * Extract elements where the absolute difference between the `sin` and `cos` functions evaluated for that element is $< 0.1$\n",
    "  * **Optional**: make a plot showing the sin and cos functions and indicate where they are close"
   ]
  },
  {
   "cell_type": "code",
   "execution_count": 104,
   "metadata": {},
   "outputs": [
    {
     "name": "stdout",
     "output_type": "stream",
     "text": [
      "The array created: \n",
      "[0.         0.06346652 0.12693304 0.19039955 0.25386607 0.31733259\n",
      " 0.38079911 0.44426563 0.50773215 0.57119866 0.63466518 0.6981317\n",
      " 0.76159822 0.82506474 0.88853126 0.95199777 1.01546429 1.07893081\n",
      " 1.14239733 1.20586385 1.26933037 1.33279688 1.3962634  1.45972992\n",
      " 1.52319644 1.58666296 1.65012947 1.71359599 1.77706251 1.84052903\n",
      " 1.90399555 1.96746207 2.03092858 2.0943951  2.15786162 2.22132814\n",
      " 2.28479466 2.34826118 2.41172769 2.47519421 2.53866073 2.60212725\n",
      " 2.66559377 2.72906028 2.7925268  2.85599332 2.91945984 2.98292636\n",
      " 3.04639288 3.10985939 3.17332591 3.23679243 3.30025895 3.36372547\n",
      " 3.42719199 3.4906585  3.55412502 3.61759154 3.68105806 3.74452458\n",
      " 3.8079911  3.87145761 3.93492413 3.99839065 4.06185717 4.12532369\n",
      " 4.1887902  4.25225672 4.31572324 4.37918976 4.44265628 4.5061228\n",
      " 4.56958931 4.63305583 4.69652235 4.75998887 4.82345539 4.88692191\n",
      " 4.95038842 5.01385494 5.07732146 5.14078798 5.2042545  5.26772102\n",
      " 5.33118753 5.39465405 5.45812057 5.52158709 5.58505361 5.64852012\n",
      " 5.71198664 5.77545316 5.83891968 5.9023862  5.96585272 6.02931923\n",
      " 6.09278575 6.15625227 6.21971879 6.28318531]\n",
      "Every 10th element in the array: \n",
      "[0.         0.63466518 1.26933037 1.90399555 2.53866073 3.17332591\n",
      " 3.8079911  4.44265628 5.07732146 5.71198664]\n",
      "The array reversed: \n",
      "[6.28318531 6.21971879 6.15625227 6.09278575 6.02931923 5.96585272\n",
      " 5.9023862  5.83891968 5.77545316 5.71198664 5.64852012 5.58505361\n",
      " 5.52158709 5.45812057 5.39465405 5.33118753 5.26772102 5.2042545\n",
      " 5.14078798 5.07732146 5.01385494 4.95038842 4.88692191 4.82345539\n",
      " 4.75998887 4.69652235 4.63305583 4.56958931 4.5061228  4.44265628\n",
      " 4.37918976 4.31572324 4.25225672 4.1887902  4.12532369 4.06185717\n",
      " 3.99839065 3.93492413 3.87145761 3.8079911  3.74452458 3.68105806\n",
      " 3.61759154 3.55412502 3.4906585  3.42719199 3.36372547 3.30025895\n",
      " 3.23679243 3.17332591 3.10985939 3.04639288 2.98292636 2.91945984\n",
      " 2.85599332 2.7925268  2.72906028 2.66559377 2.60212725 2.53866073\n",
      " 2.47519421 2.41172769 2.34826118 2.28479466 2.22132814 2.15786162\n",
      " 2.0943951  2.03092858 1.96746207 1.90399555 1.84052903 1.77706251\n",
      " 1.71359599 1.65012947 1.58666296 1.52319644 1.45972992 1.3962634\n",
      " 1.33279688 1.26933037 1.20586385 1.14239733 1.07893081 1.01546429\n",
      " 0.95199777 0.88853126 0.82506474 0.76159822 0.6981317  0.63466518\n",
      " 0.57119866 0.50773215 0.44426563 0.38079911 0.31733259 0.25386607\n",
      " 0.19039955 0.12693304 0.06346652 0.        ]\n",
      "The extracted elements: \n",
      "[0.76159822 0.82506474 3.87145761 3.93492413]\n"
     ]
    }
   ],
   "source": [
    "trigArr = np.linspace(0, 2*np.pi, 100)\n",
    "print(\"The array created: \")\n",
    "print(trigArr)\n",
    "#  * Extract every 10th element using the slice notation\n",
    "slic = trigArr[0:-1:10]\n",
    "print(\"Every 10th element in the array: \")\n",
    "print(slic)\n",
    "\n",
    "#  * Reverse the array using the slice notation\n",
    "rev = trigArr[::-1]\n",
    "print(\"The array reversed: \")\n",
    "print(rev)\n",
    "\n",
    "#  * Extract elements where the absolute difference between the `sin` and `cos` functions evaluated for that element is $< 0.1$\n",
    "mask = (abs(np.sin(trigArr) - np.cos(trigArr)) < 0.1)\n",
    "print(\"The extracted elements: \")\n",
    "print(trigArr[mask])\n"
   ]
  },
  {
   "cell_type": "code",
   "execution_count": 101,
   "metadata": {},
   "outputs": [
    {
     "data": {
      "image/png": "[encoded data removed]",
      "text/plain": [
       "<Figure size 432x288 with 1 Axes>"
      ]
     },
     "metadata": {
      "needs_background": "light"
     },
     "output_type": "display_data"
    }
   ],
   "source": [
    "import matplotlib.pyplot as plt\n",
    "diff = abs(np.sin(trigArr) - np.cos(trigArr))\n",
    "plt.plot(diff, label = \"The absolute difference between sin and cos\")\n",
    "plt.plot(mask, label = \"The areas where the condition is fullfilled\")\n",
    "plt.legend()\n",
    "plt.show()"
   ]
  },
  {
   "cell_type": "markdown",
   "metadata": {},
   "source": [
    "### 5. Matrices\n",
    "\n",
    "Create a matrix that shows the 10 by 10 multiplication table.\n",
    "\n",
    " * Find the trace of the matrix\n",
    " * Extract the anti-diagonal matrix (this should be ```array([10, 18, 24, 28, 30, 30, 28, 24, 18, 10])```)\n",
    " * Extract the diagonal offset by 1 upwards (this should be ```array([ 2,  6, 12, 20, 30, 42, 56, 72, 90])```)"
   ]
  },
  {
   "cell_type": "code",
   "execution_count": 7,
   "metadata": {},
   "outputs": [
    {
     "name": "stdout",
     "output_type": "stream",
     "text": [
      "[[  1   2   3   4   5   6   7   8   9  10]\n",
      " [  2   4   6   8  10  12  14  16  18  20]\n",
      " [  3   6   9  12  15  18  21  24  27  30]\n",
      " [  4   8  12  16  20  24  28  32  36  40]\n",
      " [  5  10  15  20  25  30  35  40  45  50]\n",
      " [  6  12  18  24  30  36  42  48  54  60]\n",
      " [  7  14  21  28  35  42  49  56  63  70]\n",
      " [  8  16  24  32  40  48  56  64  72  80]\n",
      " [  9  18  27  36  45  54  63  72  81  90]\n",
      " [ 10  20  30  40  50  60  70  80  90 100]]\n",
      "The trace is:  385\n",
      "The anti-diagonal is:  [10 18 24 28 30 30 28 24 18 10]\n",
      "The diagonal offset by 1 upwards is:  [ 2  6 12 20 30 42 56 72 90]\n"
     ]
    }
   ],
   "source": [
    "mat = np.array([[x * y for x in range(1,11)] for y in range(1,11)])\n",
    "print(mat)\n",
    "print(\"The trace is: \", np.trace(mat))\n",
    "\n",
    "print(\"The anti-diagonal is: \", np.fliplr(mat).diagonal())\n",
    "print(\"The diagonal offset by 1 upwards is: \", np.diagonal(mat,1))"
   ]
  },
  {
   "cell_type": "markdown",
   "metadata": {},
   "source": [
    "### 6. Broadcasting\n",
    "\n",
    "Use broadcasting to create a grid of distances.\n",
    "\n",
    "Route 66 crosses the following cities in the US: Chicago, Springfield, Saint-Louis, Tulsa, Oklahoma City, Amarillo, Santa Fe, Albuquerque, Flagstaff, Los Angeles.\n",
    "\n",
    "The corresponding positions in miles are: 0, 198, 303, 736, 871, 1175, 1475, 1544, 1913, 2448\n",
    "\n",
    "  * Build a 2D grid of distances among each city along Route 66\n",
    "  * Convert the distances in km"
   ]
  },
  {
   "cell_type": "code",
   "execution_count": 4,
   "metadata": {},
   "outputs": [
    {
     "data": {
      "image/png": "[encoded data removed]",
      "text/plain": [
       "<Figure size 432x288 with 1 Axes>"
      ]
     },
     "metadata": {
      "needs_background": "light"
     },
     "output_type": "display_data"
    }
   ],
   "source": [
    "cities = ['Chicago', 'Springfield', 'Saint-Louis', 'Tulsa', 'Oklahoma City', 'Amarillo', 'Santa Fe', 'Albuquerque', 'Flagstaff', 'Los Angeles']\n",
    "positions = [0, 198, 303, 736, 871, 1175, 1475, 1544, 1913, 2448]\n",
    "plt.plot(positions)\n",
    "#for city, pos, i, in zip(cities, positions, range(len(positions))):\n",
    "#    plt.annotate(city, xy = (pos, i-1.3), xytext = (pos,i))\n",
    "#plt.legend()\n",
    "\n",
    "#plt.annotate(cities[0], xy = zip(positions[0], 0), xytext = (positions[0]+0.05, 0))\n",
    "#plt.annotate(cities[1], xy = zip(positions[1], 1), xytext = (positions[1]+0.05, 1))\n",
    "\n",
    "plt.show()"
   ]
  },
  {
   "cell_type": "code",
   "execution_count": 7,
   "metadata": {},
   "outputs": [
    {
     "name": "stdout",
     "output_type": "stream",
     "text": [
      "[[   0  198  303  736  871 1175 1475 1544 1913 2448]\n",
      " [ 198    0  105  538  673  977 1277 1346 1715 2250]\n",
      " [ 303  105    0  433  568  872 1172 1241 1610 2145]\n",
      " [ 736  538  433    0  135  439  739  808 1177 1712]\n",
      " [ 871  673  568  135    0  304  604  673 1042 1577]\n",
      " [1175  977  872  439  304    0  300  369  738 1273]\n",
      " [1475 1277 1172  739  604  300    0   69  438  973]\n",
      " [1544 1346 1241  808  673  369   69    0  369  904]\n",
      " [1913 1715 1610 1177 1042  738  438  369    0  535]\n",
      " [2448 2250 2145 1712 1577 1273  973  904  535    0]]\n"
     ]
    }
   ],
   "source": [
    "mat = np.array([[abs(x - y) for x in positions] for y in positions])\n",
    "print(mat)\n"
   ]
  },
  {
   "cell_type": "markdown",
   "metadata": {},
   "source": [
    "### 7. Prime numbers sieve\n",
    "\n",
    "Compute the prime numbers in the 0-N (start with N=99) range with a sieve (mask).\n",
    "\n",
    "  * Constract a shape (N,) boolean array, which is the mask\n",
    "  * Identify the multiples of each number starting from 2 and set accordingly the corresponding mask element\n",
    "  * Apply the mask to obtain an array of ordered prime numbers\n",
    "  * Check the performances (with `timeit`); how does it scale with N?\n",
    "  * Implement the optimization suggested in the [sieve of Eratosthenes](https://en.wikipedia.org/wiki/Sieve_of_Eratosthenes)"
   ]
  },
  {
   "cell_type": "code",
   "execution_count": 42,
   "metadata": {},
   "outputs": [
    {
     "name": "stdout",
     "output_type": "stream",
     "text": [
      "[ 0  1  2  3  5  7 11 13 17 19 23 29 31 37 41 43 47 53 59 61 67 71 73 79\n",
      " 83 89 97]\n",
      "54.4 µs ± 445 ns per loop (mean ± std. dev. of 7 runs, 10000 loops each)\n",
      "With N equals:  50\n",
      "205 µs ± 6.79 µs per loop (mean ± std. dev. of 7 runs, 10000 loops each)\n",
      "With N equals:  100\n",
      "445 µs ± 11.5 µs per loop (mean ± std. dev. of 7 runs, 1000 loops each)\n",
      "With N equals:  150\n",
      "761 µs ± 5.65 µs per loop (mean ± std. dev. of 7 runs, 1000 loops each)\n",
      "With N equals:  200\n",
      "1.2 ms ± 58.1 µs per loop (mean ± std. dev. of 7 runs, 1000 loops each)\n",
      "With N equals:  250\n",
      "1.98 ms ± 77.8 µs per loop (mean ± std. dev. of 7 runs, 100 loops each)\n",
      "With N equals:  300\n",
      "2.69 ms ± 142 µs per loop (mean ± std. dev. of 7 runs, 100 loops each)\n",
      "With N equals:  350\n",
      "3.6 ms ± 158 µs per loop (mean ± std. dev. of 7 runs, 100 loops each)\n",
      "With N equals:  400\n",
      "4.55 ms ± 175 µs per loop (mean ± std. dev. of 7 runs, 100 loops each)\n",
      "With N equals:  450\n"
     ]
    }
   ],
   "source": [
    "def primesMask(N):\n",
    "    boolArray = np.ones(N+1, dtype=bool)\n",
    "    for i in range(2, int(N/2)):\n",
    "        for j in range(2, int(N/2)):\n",
    "            if (i*j) < N+1:\n",
    "                #print(i*j)\n",
    "                boolArray[i*j] = 0\n",
    "                \n",
    "    arr = np.arange(0, N + 1 ,1)\n",
    "    #print(arr)\n",
    "    return arr[boolArray]\n",
    "    #return boolArray\n",
    "    \n",
    "print(primesMask(99))\n",
    "\n",
    "import timeit\n",
    "N = 50\n",
    "timeList = []\n",
    "while N < 500:\n",
    "    %timeit timePrime = primesMask(N)\n",
    "    #timeList.append(timePrime)\n",
    "    print(\"With N equals: \", N)\n",
    "    N += 50\n",
    "#timeList = [%timeit primesMask(i) for i in range(50, 300, 50)]\n",
    "#timeList = timeit.repeat(stmt=primesMask(N), repeat = 4)\n",
    "#print(timeList)"
   ]
  },
  {
   "cell_type": "code",
   "execution_count": 43,
   "metadata": {},
   "outputs": [
    {
     "data": {
      "image/png": "[encoded data removed]",
      "text/plain": [
       "<Figure size 432x288 with 1 Axes>"
      ]
     },
     "metadata": {
      "needs_background": "light"
     },
     "output_type": "display_data"
    }
   ],
   "source": [
    "timeArr = [0.0544, 0.205, 0.445, 0.761, 1.2, 1.98, 2.69, 3.6, 4.55]\n",
    "plt.plot(timeArr)\n",
    "plt.show()\n",
    "# The performance becomes a bit better over time, but is approximateliy linear with N"
   ]
  },
  {
   "cell_type": "markdown",
   "metadata": {},
   "source": [
    "### 8. Diffusion using random walk\n",
    "\n",
    "Consider a simple random walk process: at each step in time, a walker jumps right or left (+1 or -1) with equal probability. The goal is to find the typical distance from the origin of many random walkers after a given amount of time.\n",
    "\n",
    "*Hint*: create a 2D array where each row represents a walker, and each column represents a time step.\n",
    "\n",
    "  * Take 1000 walkers and let them walk for 200 steps\n",
    "  * Use `randint` to create a 2D array of size $walkers \\times steps$ with values -1 or 1\n",
    "  * Calculate the walking distances for each walker (e.g. by summing the elements in each row)\n",
    "  * Take the square of the previously-obtained array (element-wise)\n",
    "  * Compute the mean of the squared distances at each step (i.e. the mean along the columns)\n",
    "  * **Optional**: plot the average distances ($\\sqrt(distance^2)$) as a function of time (step)"
   ]
  },
  {
   "cell_type": "code",
   "execution_count": 20,
   "metadata": {},
   "outputs": [
    {
     "data": {
      "image/png": "[encoded data removed]",
      "text/plain": [
       "<Figure size 432x288 with 1 Axes>"
      ]
     },
     "metadata": {
      "needs_background": "light"
     },
     "output_type": "display_data"
    }
   ],
   "source": [
    "import random\n",
    "\n",
    "walkers = np.random.randint(0,2,1000*200).reshape(1000, 200)\n",
    "b = [-1, 1]\n",
    "for i in range(1000):\n",
    "    for j in range(200):\n",
    "        walkers[i,j] = b[walkers[i,j]]\n",
    "        \n",
    "#print(walkers)\n",
    "\n",
    "rowList = []\n",
    "for i in range(200):\n",
    "    rowList.append(np.sum(walkers[:, :i+1], axis=1))\n",
    "rowList= np.array(rowList)\n",
    "#print(rowList)\n",
    "\n",
    "squared = rowList**2\n",
    "#print(squared)\n",
    "\n",
    "meanSquared = np.mean(squared, axis=1)\n",
    "#print(meanSquared)\n",
    "\n",
    "rms = np.sqrt(meanSquared)\n",
    "plt.plot(rms)\n",
    "plt.title('Average distances')\n",
    "plt.xlabel('Time(step)')\n",
    "plt.ylabel('RMS distance')\n",
    "plt.show()"
   ]
  },
  {
   "cell_type": "code",
   "execution_count": null,
   "metadata": {},
   "outputs": [],
   "source": []
  }
 ],
 "metadata": {
  "kernelspec": {
   "display_name": "Python 3",
   "language": "python",
   "name": "python3"
  },
  "language_info": {
   "codemirror_mode": {
    "name": "ipython",
    "version": 3
   },
   "file_extension": ".py",
   "mimetype": "text/x-python",
   "name": "python",
   "nbconvert_exporter": "python",
   "pygments_lexer": "ipython3",
   "version": "3.7.4"
  }
 },
 "nbformat": 4,
 "nbformat_minor": 2
}
