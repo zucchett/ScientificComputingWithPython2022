{
  "cells": [
    {
      "cell_type": "markdown",
      "source": [
        "ex1"
      ],
      "metadata": {
        "id": "pGVI_tt8vYUS"
      }
    },
    {
      "cell_type": "code",
      "execution_count": 3,
      "metadata": {
        "colab": {
          "base_uri": "https://localhost:8080/"
        },
        "id": "5SoiF-0dvOlh",
        "outputId": "e9707bda-8641-4cd1-dcf5-19ac6fa8fc0c"
      },
      "outputs": [
        {
          "output_type": "stream",
          "name": "stdout",
          "text": [
            "5.5\n",
            "[4. 5. 6. 7.]\n",
            "[1.5 5.5 9.5]\n"
          ]
        }
      ],
      "source": [
        "import numpy as np\n",
        "m = np.arange(12).reshape((3,4))\n",
        "print(m.mean())\n",
        "cm = np.mean(m,axis=0)\n",
        "rm = np.mean(m,axis=1)\n",
        "print(cm)\n",
        "print(rm)"
      ]
    },
    {
      "cell_type": "markdown",
      "metadata": {
        "id": "tWIio3wJvOli"
      },
      "source": [
        "2\\. **Outer product**\n",
        "\n",
        "Find the outer product of the following vectors:\n",
        "\n",
        "```python\n",
        "u = np.array([1, 3, 5, 7])\n",
        "v = np.array([2, 4, 6, 8])\n",
        "```\n",
        "\n",
        "Use different methods to do this:\n",
        "\n",
        "   1. Using the function `outer` in numpy\n",
        "   2. Using a nested `for` loop or a list comprehension\n",
        "   3. Using numpy broadcasting operations"
      ]
    },
    {
      "cell_type": "code",
      "execution_count": 4,
      "metadata": {
        "colab": {
          "base_uri": "https://localhost:8080/"
        },
        "id": "rZhpHwZ3vOli",
        "outputId": "012dcc1b-deb5-4408-b851-0276a741a795"
      },
      "outputs": [
        {
          "output_type": "stream",
          "name": "stdout",
          "text": [
            "[[ 2  4  6  8]\n",
            " [ 6 12 18 24]\n",
            " [10 20 30 40]\n",
            " [14 28 42 56]] \n",
            "\n",
            "[[2, 4, 6, 8], [6, 12, 18, 24], [10, 20, 30, 40], [14, 28, 42, 56]]\n"
          ]
        }
      ],
      "source": [
        "u = np.array([1, 3, 5, 7])\n",
        "v = np.array([2, 4, 6, 8])\n",
        "\n",
        "#1 Using the function outer in numpy\n",
        "result = np.outer(u,v)\n",
        "print(result,\"\\n\")\n",
        "#2 Using a nested for loop\n",
        "mylist = []\n",
        "for i in u:\n",
        "    row = []\n",
        "    for j in v:\n",
        "        row.append(i * j)\n",
        "    mylist.append(row)\n",
        "print(mylist)"
      ]
    },
    {
      "cell_type": "markdown",
      "metadata": {
        "id": "tQMlu7IjvOli"
      },
      "source": [
        "3\\. **Matrix masking**\n",
        "\n",
        "Create a 10 by 6 matrix of float random numbers, distributed between 0 and 3 according to a flat distribution.\n",
        "\n",
        "After creating the matrix, set all entries $< 0.3$ to zero using a mask."
      ]
    },
    {
      "cell_type": "code",
      "execution_count": 5,
      "metadata": {
        "colab": {
          "base_uri": "https://localhost:8080/"
        },
        "id": "jLC6ztpEvOlj",
        "outputId": "7780f165-9e00-4be0-ef3b-6e1a763573f5"
      },
      "outputs": [
        {
          "output_type": "stream",
          "name": "stdout",
          "text": [
            "10 by 6 matrix of float random numbers: \n",
            "[[0.02157594 1.01658792 0.65711162 0.19754389 2.52576026 1.80418704]\n",
            " [2.23003643 1.69746681 1.02029403 0.02131649 2.64062397 1.91909231]\n",
            " [1.16837635 2.46602234 2.50964595 2.2369713  0.80232343 2.5395869 ]\n",
            " [1.67026099 2.36991749 1.92331444 1.33291562 0.89610552 1.10696222]\n",
            " [0.88124888 1.73228707 0.5301483  1.13643763 2.06685456 2.15538946]\n",
            " [2.0343008  0.77173328 2.80034979 2.25302455 2.90315071 0.98157157]\n",
            " [1.13797059 0.5715967  0.21696937 0.98900612 2.0455349  1.60868906]\n",
            " [2.67018639 0.71416591 0.15958212 2.48324497 0.76729495 1.30720964]\n",
            " [1.57019859 2.99548698 1.17214245 0.68757663 0.16864544 0.26436259]\n",
            " [0.38461387 2.9446851  2.9590577  2.56758788 2.66561269 2.29280185]]\n",
            "[[0.         1.01658792 0.65711162 0.         2.52576026 1.80418704]\n",
            " [2.23003643 1.69746681 1.02029403 0.         2.64062397 1.91909231]\n",
            " [1.16837635 2.46602234 2.50964595 2.2369713  0.80232343 2.5395869 ]\n",
            " [1.67026099 2.36991749 1.92331444 1.33291562 0.89610552 1.10696222]\n",
            " [0.88124888 1.73228707 0.5301483  1.13643763 2.06685456 2.15538946]\n",
            " [2.0343008  0.77173328 2.80034979 2.25302455 2.90315071 0.98157157]\n",
            " [1.13797059 0.5715967  0.         0.98900612 2.0455349  1.60868906]\n",
            " [2.67018639 0.71416591 0.         2.48324497 0.76729495 1.30720964]\n",
            " [1.57019859 2.99548698 1.17214245 0.68757663 0.         0.        ]\n",
            " [0.38461387 2.9446851  2.9590577  2.56758788 2.66561269 2.29280185]]\n"
          ]
        }
      ],
      "source": [
        "import numpy.random as npr\n",
        "random = 3 * npr.random_sample((10, 6)) - 0\n",
        "print(\"10 by 6 matrix of float random numbers: \")\n",
        "print(random)\n",
        "h = np.array(random)\n",
        "filter = (random < 0.3)\n",
        "random[random < 0.3] = 0\n",
        "print(random)"
      ]
    },
    {
      "cell_type": "markdown",
      "metadata": {
        "id": "bFXUGVOcvOlj"
      },
      "source": [
        "4\\. **Trigonometric functions**\n",
        "\n",
        "Use `np.linspace` to create an array of 100 numbers between $0$ and $2\\pi$ (inclusive).\n",
        "\n",
        "  * Extract every 10th element using the slice notation\n",
        "  * Reverse the array using the slice notation\n",
        "  * Extract elements where the absolute difference between the `sin` and `cos` functions evaluated for that element is $< 0.1$\n",
        "  * **Optional**: make a plot showing the sin and cos functions and indicate where they are close"
      ]
    },
    {
      "cell_type": "code",
      "execution_count": 8,
      "metadata": {
        "colab": {
          "base_uri": "https://localhost:8080/"
        },
        "id": "E3xzYHz1vOlj",
        "outputId": "872264f0-6868-49bb-b2dc-9a2dcc0b7dcd"
      },
      "outputs": [
        {
          "output_type": "stream",
          "name": "stdout",
          "text": [
            "[0.         0.06346652 0.12693304 0.19039955 0.25386607 0.31733259\n",
            " 0.38079911 0.44426563 0.50773215 0.57119866 0.63466518 0.6981317\n",
            " 0.76159822 0.82506474 0.88853126 0.95199777 1.01546429 1.07893081\n",
            " 1.14239733 1.20586385 1.26933037 1.33279688 1.3962634  1.45972992\n",
            " 1.52319644 1.58666296 1.65012947 1.71359599 1.77706251 1.84052903\n",
            " 1.90399555 1.96746207 2.03092858 2.0943951  2.15786162 2.22132814\n",
            " 2.28479466 2.34826118 2.41172769 2.47519421 2.53866073 2.60212725\n",
            " 2.66559377 2.72906028 2.7925268  2.85599332 2.91945984 2.98292636\n",
            " 3.04639288 3.10985939 3.17332591 3.23679243 3.30025895 3.36372547\n",
            " 3.42719199 3.4906585  3.55412502 3.61759154 3.68105806 3.74452458\n",
            " 3.8079911  3.87145761 3.93492413 3.99839065 4.06185717 4.12532369\n",
            " 4.1887902  4.25225672 4.31572324 4.37918976 4.44265628 4.5061228\n",
            " 4.56958931 4.63305583 4.69652235 4.75998887 4.82345539 4.88692191\n",
            " 4.95038842 5.01385494 5.07732146 5.14078798 5.2042545  5.26772102\n",
            " 5.33118753 5.39465405 5.45812057 5.52158709 5.58505361 5.64852012\n",
            " 5.71198664 5.77545316 5.83891968 5.9023862  5.96585272 6.02931923\n",
            " 6.09278575 6.15625227 6.21971879 6.28318531]\n",
            "\bth\n",
            " [0.         0.63466518 1.26933037 1.90399555 2.53866073 3.17332591\n",
            " 3.8079911  4.44265628 5.07732146 5.71198664]\n",
            "reverse\n",
            " [5.71198664 5.07732146 4.44265628 3.8079911  3.17332591 2.53866073\n",
            " 1.90399555 1.26933037 0.63466518 0.        ]\n",
            "final \n",
            " [0.76159822 0.82506474 3.87145761 3.93492413]\n"
          ]
        }
      ],
      "source": [
        "import math\n",
        "import matplotlib.pyplot as plt\n",
        "\n",
        "array1 = np.linspace(0,2*math.pi,100)\n",
        "print(array1)\n",
        "\n",
        "new_array = array1[::10]\n",
        "print(\"\\10th\\n\",new_array)\n",
        "\n",
        "reverse_new_array =new_array[::-1] \n",
        "print(\"reverse\\n\",reverse_new_array)\n",
        "\n",
        "mask= np.abs(np.sin(array1)-np.cos(array1)) < 0.1\n",
        "print(\"final\",\"\\n\",array1[mask])\n",
        "\n"
      ]
    },
    {
      "cell_type": "markdown",
      "metadata": {
        "id": "mOb-nTeQvOlj"
      },
      "source": [
        "5\\. **Matrices**\n",
        "\n",
        "Create a matrix that shows the 10 by 10 multiplication table.\n",
        "\n",
        " * Find the trace of the matrix\n",
        " * Extract the anti-diagonal matrix (this should be ```array([10, 18, 24, 28, 30, 30, 28, 24, 18, 10])```)\n",
        " * Extract the diagonal offset by 1 upwards (this should be ```array([ 2,  6, 12, 20, 30, 42, 56, 72, 90])```)"
      ]
    },
    {
      "cell_type": "code",
      "source": [
        "import numpy as np\n",
        "arr=[]\n",
        "rows, cols=11,11\n",
        "for i in range(1,rows):\n",
        "    col = []\n",
        "    for j in range(1,cols):\n",
        "        col.append(i*j)\n",
        "    arr.append(col)\n",
        "m = np.array(arr)\n",
        "print(m)\n",
        "#Find the trace of the matrix\n",
        "print(\"\\nTrace of matrix:\",np.trace(m))\n",
        "x = np.fliplr(m).diagonal()\n",
        "print(\"Anti-diagonal matrix:\",x)\n",
        "#Extract the diagonal offset by 1 upwards\n",
        "print(\"Diagonal offset by 1 upwards:\",np.diagonal(m,1))"
      ],
      "metadata": {
        "colab": {
          "base_uri": "https://localhost:8080/"
        },
        "id": "IFSXV_rc1Sk1",
        "outputId": "39b47a8c-3232-4731-f30b-ae1ab61a1703"
      },
      "execution_count": 19,
      "outputs": [
        {
          "output_type": "stream",
          "name": "stdout",
          "text": [
            "[[  1   2   3   4   5   6   7   8   9  10]\n",
            " [  2   4   6   8  10  12  14  16  18  20]\n",
            " [  3   6   9  12  15  18  21  24  27  30]\n",
            " [  4   8  12  16  20  24  28  32  36  40]\n",
            " [  5  10  15  20  25  30  35  40  45  50]\n",
            " [  6  12  18  24  30  36  42  48  54  60]\n",
            " [  7  14  21  28  35  42  49  56  63  70]\n",
            " [  8  16  24  32  40  48  56  64  72  80]\n",
            " [  9  18  27  36  45  54  63  72  81  90]\n",
            " [ 10  20  30  40  50  60  70  80  90 100]]\n",
            "\n",
            "Trace of matrix: 385\n",
            "Anti-diagonal matrix: [10 18 24 28 30 30 28 24 18 10]\n",
            "Diagonal offset by 1 upwards: [ 2  6 12 20 30 42 56 72 90]\n"
          ]
        }
      ]
    },
    {
      "cell_type": "markdown",
      "metadata": {
        "id": "cPGVnNYOvOlk"
      },
      "source": [
        "6\\. **Broadcasting**\n",
        "\n",
        "Use broadcasting to create a grid of distances.\n",
        "\n",
        "Route 66 crosses the following cities in the US: Chicago, Springfield, Saint-Louis, Tulsa, Oklahoma City, Amarillo, Santa Fe, Albuquerque, Flagstaff, Los Angeles.\n",
        "\n",
        "The corresponding positions in miles are: 0, 198, 303, 736, 871, 1175, 1475, 1544, 1913, 2448\n",
        "\n",
        "  * Build a 2D grid of distances among each city along Route 66\n",
        "  * Convert the distances in km"
      ]
    },
    {
      "cell_type": "code",
      "execution_count": null,
      "metadata": {
        "id": "PuIgP1W7vOlk",
        "outputId": "73360fdc-5978-4edd-bb4d-bf80cc7c5f28"
      },
      "outputs": [
        {
          "name": "stdout",
          "output_type": "stream",
          "text": [
            "in miles: [   0  198  303  736  871 1175 1475 1544 1913 2448]\n",
            "distances: \n",
            " [[   0  198  303  736  871 1175 1475 1544 1913 2448]\n",
            " [ 198    0  105  538  673  977 1277 1346 1715 2250]\n",
            " [ 303  105    0  433  568  872 1172 1241 1610 2145]\n",
            " [ 736  538  433    0  135  439  739  808 1177 1712]\n",
            " [ 871  673  568  135    0  304  604  673 1042 1577]\n",
            " [1175  977  872  439  304    0  300  369  738 1273]\n",
            " [1475 1277 1172  739  604  300    0   69  438  973]\n",
            " [1544 1346 1241  808  673  369   69    0  369  904]\n",
            " [1913 1715 1610 1177 1042  738  438  369    0  535]\n",
            " [2448 2250 2145 1712 1577 1273  973  904  535    0]]\n",
            "distance array in km: \n",
            " [[   0.    318.65  487.63 1184.48 1401.74 1890.98 2373.78 2484.83 3078.68\n",
            "  3939.67]\n",
            " [ 318.65    0.    168.98  865.83 1083.09 1572.33 2055.13 2166.18 2760.02\n",
            "  3621.02]\n",
            " [ 487.63  168.98    0.    696.85  914.11 1403.35 1886.15 1997.2  2591.04\n",
            "  3452.04]\n",
            " [1184.48  865.83  696.85    0.    217.26  706.5  1189.31 1300.35 1894.2\n",
            "  2755.2 ]\n",
            " [1401.74 1083.09  914.11  217.26    0.    489.24  972.04 1083.09 1676.94\n",
            "  2537.94]\n",
            " [1890.98 1572.33 1403.35  706.5   489.24    0.    482.8   593.85 1187.7\n",
            "  2048.69]\n",
            " [2373.78 2055.13 1886.15 1189.31  972.04  482.8     0.    111.04  704.89\n",
            "  1565.89]\n",
            " [2484.83 2166.18 1997.2  1300.35 1083.09  593.85  111.04    0.    593.85\n",
            "  1454.85]\n",
            " [3078.68 2760.02 2591.04 1894.2  1676.94 1187.7   704.89  593.85    0.\n",
            "   861.  ]\n",
            " [3939.67 3621.02 3452.04 2755.2  2537.94 2048.69 1565.89 1454.85  861.\n",
            "     0.  ]]\n"
          ]
        }
      ],
      "source": [
        "import matplotlib.pyplot as plt\n",
        "import numpy as np\n",
        "mile=np.array([0, 198, 303, 736, 871, 1175, 1475, 1544, 1913, 2448])\n",
        "print(\"in miles:\",mile)\n",
        "d= np.abs(mile-mile[:, np.newaxis])\n",
        "print(\"distances:\",\"\\n\",d)\n",
        "d_km = d*1.609344\n",
        "print(\"distance array in km:\",\"\\n\" ,d_km.round(2))"
      ]
    },
    {
      "cell_type": "markdown",
      "metadata": {
        "id": "pyK62TFtvOlk"
      },
      "source": [
        "7\\. **Prime numbers sieve**\n",
        "\n",
        "Compute the prime numbers in the 0-N (start with N=99) range with a sieve (mask).\n",
        "\n",
        "  * Constract a shape (N,) boolean array, which is the mask\n",
        "  * Identify the multiples of each number starting from 2 and set accordingly the corresponding mask element\n",
        "  * Apply the mask to obtain an array of ordered prime numbers\n",
        "  * Check the performances (with `timeit`); how does it scale with N?\n",
        "  * Implement the optimization suggested in the [sieve of Eratosthenes](https://en.wikipedia.org/wiki/Sieve_of_Eratosthenes)"
      ]
    },
    {
      "cell_type": "code",
      "execution_count": null,
      "metadata": {
        "id": "P3dKkFcLvOlk",
        "outputId": "40a2b6b2-9233-4329-abf2-e6eac014cc2d"
      },
      "outputs": [
        {
          "name": "stdout",
          "output_type": "stream",
          "text": [
            "2\n",
            "3\n",
            "5\n",
            "7\n",
            "11\n",
            "13\n",
            "17\n",
            "19\n",
            "23\n",
            "29\n",
            "31\n",
            "37\n",
            "41\n",
            "43\n",
            "47\n",
            "53\n",
            "59\n",
            "61\n",
            "67\n",
            "71\n",
            "73\n",
            "79\n",
            "83\n",
            "89\n",
            "97\n",
            "101\n",
            "103\n",
            "107\n",
            "109\n",
            "113\n",
            "127\n",
            "131\n",
            "137\n",
            "139\n",
            "149\n",
            "151\n",
            "157\n",
            "163\n",
            "167\n",
            "173\n",
            "179\n",
            "181\n",
            "191\n",
            "193\n",
            "197\n",
            "199\n",
            "211\n",
            "223\n",
            "227\n",
            "229\n",
            "233\n",
            "239\n",
            "241\n",
            "251\n",
            "257\n",
            "263\n",
            "269\n",
            "271\n",
            "277\n",
            "281\n",
            "283\n",
            "293\n",
            "307\n",
            "311\n",
            "313\n",
            "317\n",
            "331\n",
            "337\n",
            "347\n",
            "349\n",
            "353\n",
            "359\n",
            "367\n",
            "373\n",
            "379\n",
            "383\n",
            "389\n",
            "397\n",
            "401\n",
            "409\n",
            "419\n",
            "421\n",
            "431\n",
            "433\n",
            "439\n",
            "443\n",
            "449\n",
            "457\n",
            "461\n",
            "463\n",
            "467\n",
            "479\n",
            "487\n",
            "491\n",
            "499\n",
            "503\n",
            "509\n",
            "521\n",
            "523\n",
            "541\n",
            "547\n",
            "557\n",
            "563\n",
            "569\n",
            "571\n",
            "577\n",
            "587\n",
            "593\n",
            "599\n",
            "601\n",
            "607\n",
            "613\n",
            "617\n",
            "619\n",
            "631\n",
            "641\n",
            "643\n",
            "647\n",
            "653\n",
            "659\n",
            "661\n",
            "673\n",
            "677\n",
            "683\n",
            "691\n",
            "701\n",
            "709\n",
            "719\n",
            "727\n",
            "733\n",
            "739\n",
            "743\n",
            "751\n",
            "757\n",
            "761\n",
            "769\n",
            "773\n",
            "787\n",
            "797\n",
            "809\n",
            "811\n",
            "821\n",
            "823\n",
            "827\n",
            "829\n",
            "839\n",
            "853\n",
            "857\n",
            "859\n",
            "863\n",
            "877\n",
            "881\n",
            "883\n",
            "887\n",
            "907\n",
            "911\n",
            "919\n",
            "929\n",
            "937\n",
            "941\n",
            "947\n",
            "953\n",
            "967\n",
            "971\n",
            "977\n",
            "983\n",
            "991\n",
            "997\n",
            "The time difference is : 0.0011187090130988508\n"
          ]
        }
      ],
      "source": [
        "import timeit\n",
        "\n",
        "def SieveOfEratosthenes(n):\n",
        "    prime = [True for i in range(n + 1)]\n",
        "    p = 2\n",
        "    while (p * p <= n):\n",
        "        if (prime[p] == True):   \n",
        "            for i in range(p ** 2, n + 1, p):\n",
        "                prime[i] = False\n",
        "        p += 1\n",
        "    prime[0]= False\n",
        "    prime[1]= False\n",
        "    for j in range(n + 1):\n",
        "        if prime[j]:\n",
        "            print (j) \n",
        "            \n",
        "#The performance of the program decreases when N increases and the time increases.\n",
        "starttime = timeit.default_timer()\n",
        "SieveOfEratosthenes(1000)\n",
        "print(\"The time is:\", timeit.default_timer() - starttime)"
      ]
    }
  ],
  "metadata": {
    "kernelspec": {
      "display_name": "Python 3 (ipykernel)",
      "language": "python",
      "name": "python3"
    },
    "language_info": {
      "codemirror_mode": {
        "name": "ipython",
        "version": 3
      },
      "file_extension": ".py",
      "mimetype": "text/x-python",
      "name": "python",
      "nbconvert_exporter": "python",
      "pygments_lexer": "ipython3",
      "version": "3.10.6"
    },
    "colab": {
      "provenance": []
    }
  },
  "nbformat": 4,
  "nbformat_minor": 0
}