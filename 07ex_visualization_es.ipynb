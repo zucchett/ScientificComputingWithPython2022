{
  "nbformat": 4,
  "nbformat_minor": 0,
  "metadata": {
    "colab": {
      "provenance": []
    },
    "kernelspec": {
      "name": "python3",
      "display_name": "Python 3"
    },
    "language_info": {
      "name": "python"
    }
  },
  "cells": [
    {
      "cell_type": "code",
      "execution_count": null,
      "metadata": {
        "id": "k8Oj2YjnwnZ6"
      },
      "outputs": [],
      "source": [
        "#task 1\n",
        "import pandas as pd\n",
        "import matplotlib.pyplot as plt\n",
        "!wget https://www.dropbox.com/s/aamg1apjhclecka/regression_generated.csv\n",
        "df = pd.read_csv(\"regression_generated.csv\")\n",
        "comb = (\n",
        "    (\"features_1\", \"features_2\"),\n",
        "    (\"features_2\", \"features_3\"),\n",
        "    (\"features_3\", \"features_1\"),\n",
        ")\n",
        "for c_1, c_2 in comb:\n",
        "\n",
        "\n",
        "    plt.scatter(df[c_1], df[c_2])\n",
        "    plt.show()\n",
        "    df[[c_1,c_2]].plot() \n",
        "    plt.show()"
      ]
    },
    {
      "cell_type": "code",
      "source": [
        "#task 2\n",
        "\n",
        "from IPython.display import Image\n",
        "Image('images/two_categories_scatter_plot.png')\n",
        "#First distribution\n",
        "mean = (5, 6)\n",
        "cov = [[3, 0], [0, 7]]\n",
        "cat1=np.random.multivariate_normal(mean, cov, 200)\n",
        "x=[]\n",
        "y=[]\n",
        "for el in cat1:\n",
        "    x.append(el[0])\n",
        "    y.append(el[1])\n",
        "plt.scatter(x, y,edgecolor = 'yellow', color = 'green')\n",
        "\n",
        "#Second distribution\n",
        "mean = (8, 10)\n",
        "cov = [[1,0], [0, 8]]\n",
        "cat2=np.random.multivariate_normal(mean, cov, 200)\n",
        "\n",
        "x=[]\n",
        "y=[]\n",
        "for el in cat2:\n",
        "    x.append(el[0])\n",
        "    y.append(el[1])\n",
        "plt.scatter(x, y, edgecolor = 'pink', color = 'gray')\n",
        "plt.show()"
      ],
      "metadata": {
        "id": "iSJ6c1DgxkRV"
      },
      "execution_count": null,
      "outputs": []
    },
    {
      "cell_type": "code",
      "source": [
        "#task 3\n",
        "import numpy as np\n",
        "import seaborn as sns \n",
        "import pickle\n",
        "!wget https://www.dropbox.com/s/3uqleyc3wyz52tr/residuals_261.pkl -P data/\n",
        "temp = np.load(\"/content/data/residuals_261.pkl\", allow_pickle=True,).item()\n",
        "\n",
        "df = pd.DataFrame(temp)\n",
        "df = df[abs(df['residuals'])<2]\n",
        "sns.set(style='white',color_codes=True) \n",
        "g = sns.jointplot(x = df['distances'], y = df['residuals'], \n",
        "              joint_kws={'line_kws':{'color':'yellow', 'label':'linear regression'}}, \n",
        "              marginal_kws={'color':'darkblue'}, kind='reg')\n",
        "\n",
        "g.fig.set_size_inches(20,20)\n",
        "plt.sca(g.ax_joint)\n",
        "nbin=15\n",
        "his , b= np.histogram(df['distances'],nbin,range=(0,20))\n",
        "x=  0.5*(b[1:] + b[:-1])\n",
        "y=np.array([df.loc[(df['distances'] >=b[i]) & (df['distances'] <=b[i+1])]['residuals'].mean() for i in range(nbin)])\n",
        "err_y=np.array([df.loc[(df['distances'] >b[i]) & (df['distances'] <b[i+1])]['residuals'].std() for i in range(nbin)])\n",
        "plt.errorbar(x,y,yerr=err_y, label='Profile Plot',linewidth=1.5,color='purple',marker='o')\n",
        "g.ax_joint.legend()\n"
      ],
      "metadata": {
        "id": "VhyJ5SWD1ix2"
      },
      "execution_count": null,
      "outputs": []
    },
    {
      "cell_type": "code",
      "source": [
        "#task 4\n",
        "\n",
        "import scipy\n",
        "gridsize = (2, 2)\n",
        "fig = plt.figure(figsize=(12, 8))\n",
        "x1 = plt.subplot2grid(gridsize, (0, 0))\n",
        "x2 = plt.subplot2grid(gridsize, (0, 1))\n",
        "\n",
        "x = np.random.normal(loc=8, scale=3, size=80)\n",
        "h, bins, patches = x1.hist(x, bins=20, range=(0, +10), density=True, cumulative=False,edgecolor='black',alpha=0.5)\n",
        "x1.set_ylabel('Occurence')\n",
        "x1.set_title('variable distributed')\n",
        "x1.set_yticks(h)\n",
        "yerror = np.sqrt(bins[0])\n",
        "print(yerror)\n",
        "error = np.array((bins[:-1] + bins[1:]) / 2)\n",
        "x1.errorbar(error,h, yerr=yerror, color='red',label='Error')\n",
        "\n",
        "\n",
        "std = 1.06*x.std() * x.size**(-1/5)\n",
        "gaussians=[]\n",
        "space = np.linspace(np.min(x), np.max(x), 80)\n",
        "for i in x:\n",
        "    norm = scipy.stats.norm(i, std)\n",
        "    gaussians.append(norm.pdf(space))\n",
        "    x2.plot(space, gaussians[-1])\n",
        "x2.set_title(\"Gaussian of x \")\n",
        "\n",
        "area = scipy.integrate.trapz(np.sum(gaussians, axis=0), space)\n",
        "norm = np.sum(gaussians, axis=0)/area\n",
        "x1.plot(space, norm, color=\"black\", label=\"KDE\")\n",
        "x1.legend()"
      ],
      "metadata": {
        "id": "a-G7e05x3Rm5"
      },
      "execution_count": null,
      "outputs": []
    }
  ]
}