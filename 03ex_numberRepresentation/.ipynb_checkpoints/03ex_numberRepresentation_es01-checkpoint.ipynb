{
 "cells": [
  {
   "cell_type": "code",
   "execution_count": 12,
   "id": "1e58398f",
   "metadata": {},
   "outputs": [
    {
     "name": "stdout",
     "output_type": "stream",
     "text": [
      "enter the number to convert start with 0b if it is binary oe 0x if it is hexa0b110\n",
      "enter decimal, binary or hexhex\n",
      "0x6\n"
     ]
    }
   ],
   "source": [
    "def converter (x, y) :\n",
    "  #  x=int(x,base=16)\n",
    "    if x[1]==\"b\"and y==\"decimal\" :\n",
    "        \n",
    "        x = int(x,2)  \n",
    "        print(x)\n",
    "        \n",
    "    elif x[1]==\"x\" and y==\"decimal\" :\n",
    "          x = int(x,16)\n",
    "          print(int(x))\n",
    "        \n",
    "    elif x[1]==\"x\" and y==\"binary\":\n",
    "         x=int(x,16)\n",
    "         print(bin(x))\n",
    "    \n",
    "    elif x[1]==\"b\" and y==\"hex\":\n",
    "         x=int(x,2)\n",
    "         print(hex(x))\n",
    "    \n",
    "    elif y == \"binary\" :\n",
    "         x=int(x)\n",
    "         print(bin(x))\n",
    "    \n",
    "    \n",
    "    elif y==\"hex\":\n",
    "        x=int(x,2)\n",
    "        print(hex(x))\n",
    "\n",
    "x = input(\"enter the number to convert start with 0b if it is binary oe 0x if it is hexa\")\n",
    "y = input(\"enter decimal, binary or hex\")\n",
    "converter(x,y)\n",
    "    "
   ]
  },
  {
   "cell_type": "code",
   "execution_count": 7,
   "id": "b918d7d5",
   "metadata": {},
   "outputs": [
    {
     "data": {
      "text/plain": [
       "str"
      ]
     },
     "execution_count": 7,
     "metadata": {},
     "output_type": "execute_result"
    }
   ],
   "source": [
    "x=hex(255)\n",
    "type(x)"
   ]
  },
  {
   "cell_type": "code",
   "execution_count": null,
   "id": "00319f14",
   "metadata": {},
   "outputs": [],
   "source": []
  },
  {
   "cell_type": "code",
   "execution_count": 36,
   "id": "9ee022ba",
   "metadata": {},
   "outputs": [
    {
     "data": {
      "text/plain": [
       "258"
      ]
     },
     "execution_count": 36,
     "metadata": {},
     "output_type": "execute_result"
    }
   ],
   "source": [
    "258"
   ]
  },
  {
   "cell_type": "code",
   "execution_count": null,
   "id": "85f9ee8e",
   "metadata": {},
   "outputs": [],
   "source": []
  },
  {
   "cell_type": "code",
   "execution_count": null,
   "id": "c6f14415",
   "metadata": {},
   "outputs": [],
   "source": []
  }
 ],
 "metadata": {
  "kernelspec": {
   "display_name": "Python 3 (ipykernel)",
   "language": "python",
   "name": "python3"
  },
  "language_info": {
   "codemirror_mode": {
    "name": "ipython",
    "version": 3
   },
   "file_extension": ".py",
   "mimetype": "text/x-python",
   "name": "python",
   "nbconvert_exporter": "python",
   "pygments_lexer": "ipython3",
   "version": "3.9.12"
  }
 },
 "nbformat": 4,
 "nbformat_minor": 5
}
