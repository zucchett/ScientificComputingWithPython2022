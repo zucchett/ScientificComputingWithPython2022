{
 "cells": [
  {
   "cell_type": "code",
   "execution_count": 2,
   "id": "3aec91c5",
   "metadata": {},
   "outputs": [
    {
     "name": "stdout",
     "output_type": "stream",
     "text": [
      "enter value of x\n",
      "5\n",
      "enter value of y\n",
      "8\n",
      "the values of variables after swaping are :\n",
      "x: 8   y: 5\n"
     ]
    }
   ],
   "source": [
    "print(\"enter value of x\")\n",
    "x=input()\n",
    "print(\"enter value of y\")\n",
    "y=input()\n",
    "print(\"the values of variables after swaping are :\")\n",
    "x,y=y,x\n",
    "print(\"x:\",x,\"  y:\",y)"
   ]
  },
  {
   "cell_type": "code",
   "execution_count": null,
   "id": "0c3b1094",
   "metadata": {},
   "outputs": [],
   "source": []
  }
 ],
 "metadata": {
  "kernelspec": {
   "display_name": "Python 3 (ipykernel)",
   "language": "python",
   "name": "python3"
  },
  "language_info": {
   "codemirror_mode": {
    "name": "ipython",
    "version": 3
   },
   "file_extension": ".py",
   "mimetype": "text/x-python",
   "name": "python",
   "nbconvert_exporter": "python",
   "pygments_lexer": "ipython3",
   "version": "3.9.12"
  }
 },
 "nbformat": 4,
 "nbformat_minor": 5
}
