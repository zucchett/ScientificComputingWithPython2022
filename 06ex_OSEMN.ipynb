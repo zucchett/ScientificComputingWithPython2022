{
  "nbformat": 4,
  "nbformat_minor": 0,
  "metadata": {
    "colab": {
      "provenance": []
    },
    "kernelspec": {
      "name": "python3",
      "display_name": "Python 3"
    },
    "language_info": {
      "name": "python"
    }
  },
  "cells": [
    {
      "cell_type": "code",
      "execution_count": null,
      "metadata": {
        "id": "qBr3T0Gh-oSY"
      },
      "outputs": [],
      "source": [
        "import pandas as pd\n",
        "import numpy as np\n",
        "\n",
        "import random\n",
        "import json\n",
        "import pandas as pd"
      ]
    },
    {
      "cell_type": "code",
      "source": [
        "#EX1\n",
        "\n",
        "\n",
        "list = []\n",
        "for i in range(0, 40):\n",
        "    num = random.randint(0, 10)\n",
        "    list.append(num)\n",
        "with open('data_int.txt', 'w') as file:\n",
        "    file.write('\\n'.join(str(number) for number in list))\n",
        "\n",
        "!cat data_int.txt\n",
        "\n",
        "matrix = np.random.rand(5, 5)\n",
        "fl = np.matrix(matrix)\n",
        "with open('data_float.txt', 'w') as file:\n",
        "    for row in fl:\n",
        "        np.savetxt(file, row)\n",
        "\n",
        "!cat data_float.txt\n",
        "\n",
        "import csv\n",
        "\n",
        "with open('data_float.txt', 'r') as file:\n",
        "    load = (line.strip() for line in file)\n",
        "    lines = (line.split(\",\") for line in load if line)\n",
        "    with open('data_float.csv', 'w') as out_file:\n",
        "        writer = csv.writer(out_file)\n",
        "        writer.writerow(('SUBJECT', 'INTRODUCTION'))\n",
        "        writer.writerows(lines)"
      ],
      "metadata": {
        "colab": {
          "base_uri": "https://localhost:8080/"
        },
        "id": "XTQ_w-oEBskD",
        "outputId": "85f00909-1531-46a0-8484-bd3e5f2b70f2"
      },
      "execution_count": null,
      "outputs": [
        {
          "output_type": "stream",
          "name": "stdout",
          "text": [
            "0\n",
            "8\n",
            "4\n",
            "4\n",
            "10\n",
            "4\n",
            "3\n",
            "1\n",
            "8\n",
            "5\n",
            "1\n",
            "9\n",
            "0\n",
            "5\n",
            "3\n",
            "1\n",
            "1\n",
            "8\n",
            "10\n",
            "1\n",
            "10\n",
            "1\n",
            "3\n",
            "5\n",
            "10\n",
            "5\n",
            "9\n",
            "2\n",
            "5\n",
            "1\n",
            "3\n",
            "6\n",
            "9\n",
            "4\n",
            "1\n",
            "9\n",
            "2\n",
            "5\n",
            "9\n",
            "14.509556392082700871e-01 8.034648623568247938e-01 2.552924171890978977e-01 7.169536699137345481e-01 8.047678354048215521e-02\n",
            "1.970280692372291531e-01 7.938187754479114622e-01 9.611198858865445116e-01 6.138150167767703058e-01 4.789797537447367803e-01\n",
            "8.257163845627719656e-01 9.409408531621776817e-02 6.048587633156840004e-01 1.472185022182266323e-01 5.735804542282330054e-01\n",
            "2.849097145617089932e-01 6.398386665873047052e-01 7.708149762079837819e-01 4.539801915206811422e-01 9.530358056391681210e-01\n",
            "2.607147438439453291e-01 4.438817477581969984e-01 8.070619821976593444e-01 5.773787999012102157e-01 6.528338731465851419e-01\n"
          ]
        }
      ]
    },
    {
      "cell_type": "code",
      "source": [
        "#EX2\n",
        "\n",
        "\n",
        "data = json.load(open('user_data.json'))\n",
        "filter = [x for x in data if x['CreditCardType'] == 'American Express']\n",
        "result = json.dumps(filter)\n",
        "print(result)\n",
        "\n",
        "new = pd.DataFrame(eval(result))\n",
        "new.to_csv('user_data.csv', index=False,header=True)\n"
      ],
      "metadata": {
        "colab": {
          "base_uri": "https://localhost:8080/"
        },
        "id": "uNZ_uAFvC00a",
        "outputId": "8bb995e2-1a9a-4aa9-cd2d-7b600778b26b"
      },
      "execution_count": null,
      "outputs": [
        {
          "output_type": "stream",
          "name": "stdout",
          "text": [
            "[{\"ID\": \"2\", \"JobTitle\": \"Investment  Advisor\", \"EmailAddress\": \"Clint_Thorpe5003@bulaffy.com\", \"FirstNameLastName\": \"Clint Thorpe\", \"CreditCard\": \"7083-8766-0251-2345\", \"CreditCardType\": \"American Express\"}, {\"ID\": \"12\", \"JobTitle\": \"Retail Trainee\", \"EmailAddress\": \"Phillip_Carpenter9505@famism.biz\", \"FirstNameLastName\": \"Phillip Carpenter\", \"CreditCard\": \"3657-0088-0820-5247\", \"CreditCardType\": \"American Express\"}, {\"ID\": \"28\", \"JobTitle\": \"Project Manager\", \"EmailAddress\": \"Russel_Graves1378@extex.org\", \"FirstNameLastName\": \"Russel Graves\", \"CreditCard\": \"6718-4818-8011-6024\", \"CreditCardType\": \"American Express\"}, {\"ID\": \"39\", \"JobTitle\": \"Stockbroker\", \"EmailAddress\": \"Leanne_Newton1268@typill.biz\", \"FirstNameLastName\": \"Leanne Newton\", \"CreditCard\": \"5438-0816-4166-4847\", \"CreditCardType\": \"American Express\"}, {\"ID\": \"57\", \"JobTitle\": \"Budget Analyst\", \"EmailAddress\": \"Tony_Giles1960@iatim.tech\", \"FirstNameLastName\": \"Tony Giles\", \"CreditCard\": \"8130-3425-7573-7745\", \"CreditCardType\": \"American Express\"}, {\"ID\": \"62\", \"JobTitle\": \"CNC Operator\", \"EmailAddress\": \"Owen_Allcott5125@bauros.biz\", \"FirstNameLastName\": \"Owen Allcott\", \"CreditCard\": \"4156-0107-7210-2630\", \"CreditCardType\": \"American Express\"}, {\"ID\": \"68\", \"JobTitle\": \"Project Manager\", \"EmailAddress\": \"Liam_Lynn3280@kideod.biz\", \"FirstNameLastName\": \"Liam Lynn\", \"CreditCard\": \"7152-3247-6053-2233\", \"CreditCardType\": \"American Express\"}, {\"ID\": \"74\", \"JobTitle\": \"Dentist\", \"EmailAddress\": \"Regina_Woodcock5820@yahoo.com\", \"FirstNameLastName\": \"Regina Woodcock\", \"CreditCard\": \"0208-1753-3870-8002\", \"CreditCardType\": \"American Express\"}, {\"ID\": \"81\", \"JobTitle\": \"HR Specialist\", \"EmailAddress\": \"Carter_Wallace9614@atink.com\", \"FirstNameLastName\": \"Carter Wallace\", \"CreditCard\": \"4256-7201-6717-4322\", \"CreditCardType\": \"American Express\"}, {\"ID\": \"92\", \"JobTitle\": \"Staffing Consultant\", \"EmailAddress\": \"Maia_Stark2797@jiman.org\", \"FirstNameLastName\": \"Maia Stark\", \"CreditCard\": \"3851-1403-1734-6321\", \"CreditCardType\": \"American Express\"}, {\"ID\": \"97\", \"JobTitle\": \"Stockbroker\", \"EmailAddress\": \"Ciara_Lomax982@bauros.biz\", \"FirstNameLastName\": \"Ciara Lomax\", \"CreditCard\": \"3702-3440-2472-5424\", \"CreditCardType\": \"American Express\"}, {\"ID\": \"116\", \"JobTitle\": \"Staffing Consultant\", \"EmailAddress\": \"Isabel_Ellwood1475@fuliss.net\", \"FirstNameLastName\": \"Isabel Ellwood\", \"CreditCard\": \"3738-0882-0066-6683\", \"CreditCardType\": \"American Express\"}, {\"ID\": \"148\", \"JobTitle\": \"CNC Operator\", \"EmailAddress\": \"Abdul_Townend2202@infotech44.tech\", \"FirstNameLastName\": \"Abdul Townend\", \"CreditCard\": \"4224-1226-3557-3448\", \"CreditCardType\": \"American Express\"}, {\"ID\": \"150\", \"JobTitle\": \"Fabricator\", \"EmailAddress\": \"Caleb_Poulton1735@atink.com\", \"FirstNameLastName\": \"Caleb Poulton\", \"CreditCard\": \"8203-6875-5225-0341\", \"CreditCardType\": \"American Express\"}, {\"ID\": \"151\", \"JobTitle\": \"Restaurant Manager\", \"EmailAddress\": \"Ronald_Lewis6777@deavo.com\", \"FirstNameLastName\": \"Ronald Lewis\", \"CreditCard\": \"7212-0155-5014-8471\", \"CreditCardType\": \"American Express\"}, {\"ID\": \"154\", \"JobTitle\": \"Bellman\", \"EmailAddress\": \"Faith_Seymour3829@twace.org\", \"FirstNameLastName\": \"Faith Seymour\", \"CreditCard\": \"4170-5186-6887-6558\", \"CreditCardType\": \"American Express\"}, {\"ID\": \"169\", \"JobTitle\": \"Assistant Buyer\", \"EmailAddress\": \"Anthony_Hancock9083@qater.org\", \"FirstNameLastName\": \"Anthony Hancock\", \"CreditCard\": \"0832-3357-6010-6550\", \"CreditCardType\": \"American Express\"}, {\"ID\": \"176\", \"JobTitle\": \"Healthcare Specialist\", \"EmailAddress\": \"Isabella_Willson5478@nanoff.biz\", \"FirstNameLastName\": \"Isabella Willson\", \"CreditCard\": \"5177-4868-4623-0384\", \"CreditCardType\": \"American Express\"}, {\"ID\": \"182\", \"JobTitle\": \"Pharmacist\", \"EmailAddress\": \"Stephanie_Darcy3298@bauros.biz\", \"FirstNameLastName\": \"Stephanie Darcy\", \"CreditCard\": \"0264-4020-5106-5576\", \"CreditCardType\": \"American Express\"}, {\"ID\": \"199\", \"JobTitle\": \"Investment  Advisor\", \"EmailAddress\": \"Ryan_Kennedy5565@corti.com\", \"FirstNameLastName\": \"Ryan Kennedy\", \"CreditCard\": \"3166-6287-6242-7207\", \"CreditCardType\": \"American Express\"}]\n"
          ]
        }
      ]
    },
    {
      "cell_type": "code",
      "source": [
        "#EX3\n",
        "\n",
        "\n",
        "file = pd.read_csv(\"mushrooms_categorized.csv\")\n",
        "avg = file.groupby('class') \n",
        "print(avg.mean())\n",
        "\n",
        "avg.mean().reset_index().to_json('mushrooms_categorized.json')\n",
        "\n"
      ],
      "metadata": {
        "colab": {
          "base_uri": "https://localhost:8080/"
        },
        "id": "vUhLWcV_EugS",
        "outputId": "203188e3-904d-44a7-a04e-0dd1aae44b03"
      },
      "execution_count": null,
      "outputs": [
        {
          "output_type": "stream",
          "name": "stdout",
          "text": [
            "       cap-shape  cap-surface  cap-color   bruises      odor  gill-attachment  \\\n",
            "class                                                                           \n",
            "0       3.266160     1.615970   4.581749  0.653992  4.334601         0.954373   \n",
            "1       3.436159     2.055158   4.421859  0.159346  3.940756         0.995403   \n",
            "\n",
            "       gill-spacing  gill-size  gill-color  stalk-shape  ...  \\\n",
            "class                                                    ...   \n",
            "0          0.285171   0.068441    6.622624     0.615970  ...   \n",
            "1          0.028601   0.567926    2.863636     0.514811  ...   \n",
            "\n",
            "       stalk-surface-below-ring  stalk-color-above-ring  \\\n",
            "class                                                     \n",
            "0                      1.798479                6.098859   \n",
            "1                      1.394280                5.512768   \n",
            "\n",
            "       stalk-color-below-ring  veil-type  veil-color  ring-number  ring-type  \\\n",
            "class                                                                          \n",
            "0                    6.064639        0.0    1.931559     1.125475   3.007605   \n",
            "1                    5.504597        0.0    2.002043     1.009193   1.522983   \n",
            "\n",
            "       spore-print-color  population   habitat  \n",
            "class                                           \n",
            "0               3.201521    3.283270  1.148289  \n",
            "1               4.021450    4.031665  1.895812  \n",
            "\n",
            "[2 rows x 22 columns]\n"
          ]
        }
      ]
    },
    {
      "cell_type": "code",
      "source": [
        "#EX4\n",
        "\n",
        "file = \"credit_card.dat\"\n",
        "print(\"Credit card: \\n\")\n",
        "\n",
        "with open(file, 'r') as file:\n",
        "    for line in file:\n",
        "        print(''.join([chr(int(line[i:i+6],2)) for i in range(0, len(line), 6)]))"
      ],
      "metadata": {
        "colab": {
          "base_uri": "https://localhost:8080/"
        },
        "id": "wABsxR9EGr8s",
        "outputId": "e5f44e99-54ab-47d2-e4a5-e89c6f1fc2c8"
      },
      "execution_count": null,
      "outputs": [
        {
          "output_type": "stream",
          "name": "stdout",
          "text": [
            "Credit card: \n",
            "\n",
            "7648 5673 3775 2271\n",
            "\n",
            "3257 8247 3354 2266\n",
            "\n",
            "2722 0001 4011 6652\n",
            "\n",
            "0661 3063 3742 3150\n",
            "\n",
            "0432 1608 1462 4742\n",
            "\n",
            "5827 2027 8785 7303\n",
            "\n",
            "5774 8528 2087 1117\n",
            "\n",
            "8140 1210 6352 2845\n",
            "\n",
            "5764 1133 7301 7100\n",
            "\n",
            "6456 1737 4126 6726\n",
            "\n",
            "1228 8631 7382 0000\n",
            "\n",
            "7051 0160 5374 3166\n",
            "\n",
            "0618 3587 1630 6376\n",
            "\n",
            "1545 5454 7444 5636\n",
            "\n",
            "6735 3116 3202 6834\n",
            "\n",
            "7287 5011 1547 8413\n",
            "\n",
            "7033 2607 3328 4200\n",
            "\n",
            "2568 5244 1874 5024\n",
            "\n",
            "1684 2253 7570 7118\n",
            "\n",
            "0672 2576 0575 6631\n",
            "\n",
            "6332 8353 8787 1340\n",
            "\n",
            "1813 3361 1175 4211\n",
            "\n",
            "2477 6450 8840 2368\n",
            "\n",
            "5512 3505 2563 1326\n",
            "\n",
            "3083 7882 0621 0025\n",
            "\n",
            "4521 5148 8045 0334\n",
            "\n",
            "7563 3654 8713 5787\n",
            "\n",
            "8324 2664 0476 5561\n",
            "\n",
            "0565 2504 7168 3510\n",
            "\n",
            "5107 5507 1767 0738\n",
            "\n",
            "2462 1821 2448 1443\n",
            "\n",
            "2788 0638 6861 6554\n",
            "\n",
            "5851 5873 5474 0547\n",
            "\n",
            "0670 1004 4013 2655\n",
            "\n",
            "5874 5506 3048 0806\n",
            "\n",
            "2805 5401 8462 1260\n",
            "\n",
            "5083 8406 6310 1862\n",
            "\n",
            "1076 1445 3013 2266\n",
            "\n",
            "8440 4804 4844 5277\n",
            "\n",
            "4758 6141 0686 1387\n",
            "\n",
            "7586 0675 0315 2568\n",
            "\n",
            "2544 1258 7432 5165\n",
            "\n",
            "3474 5023 4434 5626\n",
            "\n",
            "1410 0270 0434 5086\n",
            "\n",
            "7315 4446 1104 4215\n",
            "\n",
            "0224 7742 8300 0266\n",
            "\n",
            "0170 2700 3145 0640\n",
            "\n",
            "2006 2437 8054 1600\n",
            "\n",
            "8142 4055 1776 0026\n",
            "\n",
            "3026 7380 1241 1084\n",
            "\n",
            "\n",
            "\n"
          ]
        }
      ]
    },
    {
      "cell_type": "code",
      "source": [
        "#EX5\n",
        "\n",
        "from IPython.display import Image\n",
        "Image(\"images/data_format.png\")\n",
        "import struct\n",
        "\n",
        "data = pd.read_csv('data_000637.txt', nrows = 10)\n",
        "print(data)\n",
        "\n",
        "file = 'binary_file.dat'\n",
        "with open(file, 'wb') as binary_file:\n",
        "    for line in data.values: \n",
        "        word = (line[5] << 0 ) \n",
        "        word += (line[4] << 5 ) \n",
        "        word += (line[3] << 17) \n",
        "        word += (line[2] << 49) \n",
        "        word += (line[1] << 58)\n",
        "        word += (line[0] << 62)\n",
        "        \n",
        "        binary_file.write(struct.pack('<q', word))\n",
        "\n",
        "data1 = {}\n",
        "columns = ['HEAD', 'FPGA', 'CHANNEL', 'ORBIT_CNT', 'BX_CNT', 'TDC_MEAS']\n",
        "df = pd.DataFrame({}, columns=columns)\n",
        "\n",
        "with open('binary_file.dat', 'rb') as file:\n",
        "    file_content = file.read()\n",
        "    counter = 0\n",
        "    word_size = 8  \n",
        "    for i in range(0, len(file_content), word_size):\n",
        "        counter += 1\n",
        "        if counter > 10: break\n",
        "        word = struct.unpack('<q', file_content[i : i + word_size])[0] \n",
        "        head     = (word >> 62) & 0x3\n",
        "        fpga     = (word >> 58) & 0xF\n",
        "        tdc_chan = (word >> 49) & 0x1FF\n",
        "        orb_cnt  = (word >> 17) & 0xFFFFFFFF\n",
        "        bx       = (word >> 5 ) & 0xFFF\n",
        "        tdc_meas = (word >> 0 ) & 0x1F\n",
        "        entries = {'HEAD' : head, 'FPGA' : fpga, 'CHANNEL' : tdc_chan, 'ORBIT_CNT' : orb_cnt, 'BX_CNT' : bx, 'TDC_MEAS' : tdc_meas}\n",
        "        dataframe = df.append(entries, ignore_index=True)\n",
        "print(dataframe)\n",
        "\n",
        "import os\n",
        "\n",
        "path = r'data_000637.txt'\n",
        "size = os.path.getsize(path)\n",
        "print(f'{path} SIZE ARE', size, 'BYTES')\n",
        "\n",
        "path1 = r'binary_file.dat'\n",
        "size = os.path.getsize(path1)\n",
        "print(f'{path1} SIZE ARE', size, 'BYTES')\n",
        "print(f'DIFFERENCES ARE', ((os.path.getsize(path))-(os.path.getsize(path1))), 'BYTES')\n"
      ],
      "metadata": {
        "colab": {
          "base_uri": "https://localhost:8080/"
        },
        "id": "EVM73O4EUJN5",
        "outputId": "1f4bc1e8-9231-4197-88b8-3722c53e627b"
      },
      "execution_count": null,
      "outputs": [
        {
          "output_type": "stream",
          "name": "stdout",
          "text": [
            "   HEAD  FPGA  TDC_CHANNEL   ORBIT_CNT  BX_COUNTER  TDC_MEAS\n",
            "0     1     0          123  3869200167        2374        26\n",
            "1     1     0          124  3869200167        2374        27\n",
            "2     1     0           63  3869200167        2553        28\n",
            "3     1     0           64  3869200167        2558        19\n",
            "4     1     0           64  3869200167        2760        25\n",
            "5     1     0           63  3869200167        2762         4\n",
            "6     1     0           61  3869200167        2772        14\n",
            "7     1     0          139  3869200167        2776         0\n",
            "8     1     0           62  3869200167        2774        21\n",
            "9     1     0           60  3869200167        2788         7\n",
            "  HEAD FPGA CHANNEL   ORBIT_CNT BX_CNT TDC_MEAS\n",
            "0    1    0      60  3869200167   2788        7\n",
            "data_000637.txt SIZE ARE 33179236 BYTES\n",
            "binary_file.dat SIZE ARE 80 BYTES\n",
            "DIFFERENCES ARE 33179156 BYTES\n"
          ]
        }
      ]
    }
  ]
}