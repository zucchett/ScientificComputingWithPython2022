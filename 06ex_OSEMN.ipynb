{
 "cells": [
  {
   "cell_type": "code",
   "execution_count": 1,
   "metadata": {},
   "outputs": [],
   "source": [
    "import pandas as pd\n",
    "import numpy as np"
   ]
  },
  {
   "cell_type": "markdown",
   "metadata": {},
   "source": [
    "1\\. **Text files**\n",
    "\n",
    "Perform the following operations on plain `txt` files:\n",
    "\n",
    "+ create a list of integrer numbers and then save it to a text file named `data_int.txt`. Run the `cat` command to print the content of the file.\n",
    "+ create a matrix of 5x5 floats and then save it to a text file named `data_float.txt`. Use the `cat` command to print the content of the file.\n",
    "+ load the `txt` file of the previous point and convert it to a `csv` file by hand."
   ]
  },
  {
   "cell_type": "code",
   "execution_count": 2,
   "metadata": {},
   "outputs": [
    {
     "name": "stdout",
     "output_type": "stream",
     "text": [
      "[997 277 601 238 896 306 152  98 431 404 153 454 410 502 316 303 462 579\n",
      " 952 121]\n",
      "[[ 59.28630088 291.84574411 990.08070287  47.61890808 997.17189692]\n",
      " [293.28246219 797.38848848 176.7906323  455.33899868 441.7334972 ]\n",
      " [621.2955568  275.46490744 706.83825475 507.87892923 799.23030343]\n",
      " [983.8311946  520.90808073 434.74031458 721.13251013 422.74239745]\n",
      " [760.46631497 333.65457628 972.47172328   6.77603126 921.48653241]]\n"
     ]
    }
   ],
   "source": [
    "import csv\n",
    "my_list=np.random.randint(low=0,high=1000,size=20) ##creating an array of 20 cells with values from 0 to 1000\n",
    "out_1=\"data_int.txt\" \n",
    "with open(out_1, \"w\") as out_file:\n",
    "    out_file.write(np.array2string(my_list)+\"\\n\") ##writing the list into the file\n",
    "!cat data_int.txt\n",
    "\n",
    "matrix=np.random.rand(5,5)*1000 ## the matrix has the higher value of 1000 as the previous array\n",
    "out_2=\"data_float.txt\"\n",
    "with open(out_2, \"w\") as out_file:\n",
    "    out_file.write(np.array2string(matrix)+\"\\n\") ##same procedure as before\n",
    "!cat data_float.txt\n",
    "\n",
    "out_csv = \"all_data.csv\"\n",
    "\n",
    "with open(out_1,\"r\") as input_file:  ##here we can choose which file to transfer into a csv\n",
    "    with open(out_csv, \"w\") as output_file:\n",
    "        w=csv.writer(output_file)\n",
    "        for line in csv.reader(input_file, delimiter=\" \"): ##the delimiter is a blank space\n",
    "            while(\" \" in line):\n",
    "                line.remove(\" \") ##remove that\n",
    "            for (i,j) in zip(line,range(0,len(line))): \n",
    "                line[j]=i.replace(\"[\",\"\").replace(\"]\",\"\") ##remove the square brackets and replace them with empty char\n",
    "            w.writerow(line)\n",
    "            \n",
    "            \n",
    "\n",
    "                \n",
    "    \n",
    "    \n"
   ]
  },
  {
   "cell_type": "markdown",
   "metadata": {},
   "source": [
    "2\\. **JSON files**\n",
    "\n",
    "Load the file *user_data.json*, which can be found at:\n",
    "\n",
    "- https://www.dropbox.com/s/sz5klcdpckc39hd/user_data.json\n",
    "\n",
    "and filter the data by the \"CreditCardType\" when it equals to \"American Express\". Than save the data to a new CSV file."
   ]
  },
  {
   "cell_type": "code",
   "execution_count": 3,
   "metadata": {},
   "outputs": [],
   "source": [
    "#!wget https://www.dropbox.com/s/sz5klcdpckc39hd/user_data.json"
   ]
  },
  {
   "cell_type": "code",
   "execution_count": 4,
   "metadata": {},
   "outputs": [],
   "source": [
    "import json\n",
    "dataset = json.load(open(\"user_data.json\"))\n",
    "american_ex=[x for x in dataset if x[\"CreditCardType\"] == \"American Express\"] ##filter by credit card type\n",
    "fieldnames = ['ID', 'JobTitle', 'EmailAddress', 'FirstNameLastName','CreditCard','CreditCardType'] ##list of all field names\n",
    "with open(\"output_credit_card.csv\", \"w\",newline=\"\") as file:\n",
    "    w = csv.DictWriter(file, fieldnames=fieldnames) ##write into a csv\n",
    "    w.writeheader()\n",
    "    w.writerows(american_ex)\n"
   ]
  },
  {
   "cell_type": "markdown",
   "metadata": {},
   "source": [
    "3\\. **CSV files with Pandas**\n",
    "\n",
    "Load the file from this url:\n",
    "\n",
    "- https://www.dropbox.com/s/kgshemfgk22iy79/mushrooms_categorized.csv\n",
    "\n",
    "with Pandas. \n",
    "\n",
    "+ explore and print the DataFrame\n",
    "+ calculate, using `groupby()`, the average value of each feature, separately for each class\n",
    "+ save the file in a JSON format."
   ]
  },
  {
   "cell_type": "code",
   "execution_count": 5,
   "metadata": {},
   "outputs": [],
   "source": [
    "#!wget https://www.dropbox.com/s/kgshemfgk22iy79/mushrooms_categorized.csv"
   ]
  },
  {
   "cell_type": "code",
   "execution_count": 6,
   "metadata": {},
   "outputs": [
    {
     "name": "stdout",
     "output_type": "stream",
     "text": [
      "The mean of the features for each class are:\n",
      "        cap-shape  cap-surface  cap-color   bruises      odor  gill-attachment  \\\n",
      "class                                                                           \n",
      "0       3.266160     1.615970   4.581749  0.653992  4.334601         0.954373   \n",
      "1       3.436159     2.055158   4.421859  0.159346  3.940756         0.995403   \n",
      "\n",
      "       gill-spacing  gill-size  gill-color  stalk-shape  ...  \\\n",
      "class                                                    ...   \n",
      "0          0.285171   0.068441    6.622624     0.615970  ...   \n",
      "1          0.028601   0.567926    2.863636     0.514811  ...   \n",
      "\n",
      "       stalk-surface-below-ring  stalk-color-above-ring  \\\n",
      "class                                                     \n",
      "0                      1.798479                6.098859   \n",
      "1                      1.394280                5.512768   \n",
      "\n",
      "       stalk-color-below-ring  veil-type  veil-color  ring-number  ring-type  \\\n",
      "class                                                                          \n",
      "0                    6.064639        0.0    1.931559     1.125475   3.007605   \n",
      "1                    5.504597        0.0    2.002043     1.009193   1.522983   \n",
      "\n",
      "       spore-print-color  population   habitat  \n",
      "class                                           \n",
      "0               3.201521    3.283270  1.148289  \n",
      "1               4.021450    4.031665  1.895812  \n",
      "\n",
      "[2 rows x 22 columns]\n"
     ]
    }
   ],
   "source": [
    "dataset = pd.read_csv(\"mushrooms_categorized.csv\")\n",
    "feature_mean=dataset.groupby(\"class\").mean() ##using groupby to compute the mean for each class\n",
    "print(\"The mean of the features for each class are:\\n\", feature_mean)\n",
    "import json\n",
    "feature_mean.to_json(\"mushrooms_categorized.json\",orient=\"index\") ##saving the file into a .json\n",
    "\n",
    "\n"
   ]
  },
  {
   "cell_type": "markdown",
   "metadata": {},
   "source": [
    "4\\. **Reading the credit card numbers**\n",
    "\n",
    "Get the binary file named *credit_card.dat* from this address:\n",
    "\n",
    "- https://www.dropbox.com/s/8m0syw2tkul3dap/credit_card.dat\n",
    "\n",
    "and convert the data into the real credit card number, knowing that:\n",
    "- each line corresponds to a credit card number, which consists of 16 characters (which are numbers in the 0-9 range) divided in 4 blocks, with a whitespace between each block\n",
    "- each character is written using a 6 bit binary representation (including the whitespace)\n",
    "- the final 4 bits of each line are a padding used to determine the end of the line, and can be ignored\n",
    "\n",
    "*Hint*: convert the binary numbers to the decimal representation first, and then use the `chr()` function to convert the latter to a char"
   ]
  },
  {
   "cell_type": "code",
   "execution_count": 7,
   "metadata": {},
   "outputs": [],
   "source": [
    "#!wget https://www.dropbox.com/s/8m0syw2tkul3dap/credit_card.dat"
   ]
  },
  {
   "cell_type": "code",
   "execution_count": 8,
   "metadata": {},
   "outputs": [
    {
     "name": "stdout",
     "output_type": "stream",
     "text": [
      "7648 5673 3775 2271\n",
      "\n",
      "3257 8247 3354 2266\n",
      "\n",
      "2722 0001 4011 6652\n",
      "\n",
      "0661 3063 3742 3150\n",
      "\n",
      "0432 1608 1462 4742\n",
      "\n",
      "5827 2027 8785 7303\n",
      "\n",
      "5774 8528 2087 1117\n",
      "\n",
      "8140 1210 6352 2845\n",
      "\n",
      "5764 1133 7301 7100\n",
      "\n",
      "6456 1737 4126 6726\n",
      "\n",
      "1228 8631 7382 0000\n",
      "\n",
      "7051 0160 5374 3166\n",
      "\n",
      "0618 3587 1630 6376\n",
      "\n",
      "1545 5454 7444 5636\n",
      "\n",
      "6735 3116 3202 6834\n",
      "\n",
      "7287 5011 1547 8413\n",
      "\n",
      "7033 2607 3328 4200\n",
      "\n",
      "2568 5244 1874 5024\n",
      "\n",
      "1684 2253 7570 7118\n",
      "\n",
      "0672 2576 0575 6631\n",
      "\n",
      "6332 8353 8787 1340\n",
      "\n",
      "1813 3361 1175 4211\n",
      "\n",
      "2477 6450 8840 2368\n",
      "\n",
      "5512 3505 2563 1326\n",
      "\n",
      "3083 7882 0621 0025\n",
      "\n",
      "4521 5148 8045 0334\n",
      "\n",
      "7563 3654 8713 5787\n",
      "\n",
      "8324 2664 0476 5561\n",
      "\n",
      "0565 2504 7168 3510\n",
      "\n",
      "5107 5507 1767 0738\n",
      "\n",
      "2462 1821 2448 1443\n",
      "\n",
      "2788 0638 6861 6554\n",
      "\n",
      "5851 5873 5474 0547\n",
      "\n",
      "0670 1004 4013 2655\n",
      "\n",
      "5874 5506 3048 0806\n",
      "\n",
      "2805 5401 8462 1260\n",
      "\n",
      "5083 8406 6310 1862\n",
      "\n",
      "1076 1445 3013 2266\n",
      "\n",
      "8440 4804 4844 5277\n",
      "\n",
      "4758 6141 0686 1387\n",
      "\n",
      "7586 0675 0315 2568\n",
      "\n",
      "2544 1258 7432 5165\n",
      "\n",
      "3474 5023 4434 5626\n",
      "\n",
      "1410 0270 0434 5086\n",
      "\n",
      "7315 4446 1104 4215\n",
      "\n",
      "0224 7742 8300 0266\n",
      "\n",
      "0170 2700 3145 0640\n",
      "\n",
      "2006 2437 8054 1600\n",
      "\n",
      "8142 4055 1776 0026\n",
      "\n",
      "3026 7380 1241 1084\n",
      "\n",
      "\n",
      "\n"
     ]
    }
   ],
   "source": [
    "with open(\"credit_card.dat\",\"rb\") as f: \n",
    "    file_lines= f.readlines() ##reading the lines\n",
    "    for line in file_lines:\n",
    "        my_line=line.decode().replace(\"\\n\",\"\") ##avoiding \\n\n",
    "        card_num=\"\" ##empty string\n",
    "        for i in range(0,len(my_line),6):\n",
    "            char_card=my_line[i:i+6]\n",
    "            number=int(char_card,2) \n",
    "            card_num=card_num+str(chr(number)) ##procedure suggested in the hint\n",
    "        print(card_num) ## printing then the result,\n",
    "                                    "
   ]
  },
  {
   "cell_type": "markdown",
   "metadata": {},
   "source": [
    "5\\. **Write data to a binary file**\n",
    "\n",
    "a) Start from the `data/data_000637.txt` file that we have used during the previous lectures, and convert it to a binary file according to the format defined below:"
   ]
  },
  {
   "cell_type": "code",
   "execution_count": 10,
   "metadata": {},
   "outputs": [],
   "source": [
    "#from IPython.display import Image\n",
    "#Image(\"images/data_format.png\")"
   ]
  },
  {
   "cell_type": "markdown",
   "metadata": {},
   "source": [
    "*Hints*:\n",
    "- Read the first 10 lines using Pandas\n",
    "- Iterate over the DataFrame rows\n",
    "- For every row, ``pack'' the values (features) into a single 64-bit word, according to the format specified above. Use bit-wise shifts and operators to do so.\n",
    "- Write each 64-bit word to a binary file. You can use `struct` in this way:\n",
    "```\n",
    "binary_file.write( struct.pack('<q', word) )\n",
    "```\n",
    "where `word` is the 64-bit word.\n",
    "- Close the file after completing the loop.\n",
    "\n",
    "b) Check that the binary file is correctly written by reading it with the code used in the lecture `06_OSEMN.ipynb`, and verify that the content of the `txt` and binary files is consistent.\n",
    "\n",
    "c) What is the difference of the size on disk between equivalent `txt` and binary files?"
   ]
  },
  {
   "cell_type": "code",
   "execution_count": 12,
   "metadata": {},
   "outputs": [],
   "source": [
    "import struct\n",
    "file= \"./data/data_000637.txt\" ##name of the data file\n",
    "\n",
    "\n",
    "dataset = pd.read_csv(file, nrows=10) #reading first 10 rows\n",
    "\n",
    "\n",
    "output= \"binary_file.dat\" \n",
    "\n",
    "with open(output, 'wb') as bin_file: ##using wb as parameter in order to write in binary\n",
    "    for line in dataset.values : \n",
    "        word = (line[5] << 0 ) \n",
    "        word = word+ (line[4] << 5 )\n",
    "        word = word+(line[3] << 17) \n",
    "        word = word+(line[2] << 49)  ##standard specified in the image\n",
    "        word = word+(line[1] << 58)\n",
    "        word = word+(line[0] << 62)\n",
    "\n",
    "    bin_file.write( struct.pack(\"<q\", word) ) ##hint\n",
    "\n",
    "## the .dat file is smaller than the .txt file"
   ]
  },
  {
   "cell_type": "code",
   "execution_count": null,
   "metadata": {},
   "outputs": [],
   "source": []
  }
 ],
 "metadata": {
  "kernelspec": {
   "display_name": "Python 3 (ipykernel)",
   "language": "python",
   "name": "python3"
  },
  "language_info": {
   "codemirror_mode": {
    "name": "ipython",
    "version": 3
   },
   "file_extension": ".py",
   "mimetype": "text/x-python",
   "name": "python",
   "nbconvert_exporter": "python",
   "pygments_lexer": "ipython3",
   "version": "3.10.6"
  }
 },
 "nbformat": 4,
 "nbformat_minor": 2
}
