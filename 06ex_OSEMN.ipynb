{
  "cells": [
    {
      "cell_type": "code",
      "execution_count": 4,
      "metadata": {
        "id": "iuLSOI41IpQp"
      },
      "outputs": [],
      "source": [
        "import pandas as pd\n",
        "import numpy as np\n",
        "import os"
      ]
    },
    {
      "cell_type": "markdown",
      "metadata": {
        "id": "9lVvZAH5IpQs"
      },
      "source": [
        "1\\. **Text files**\n",
        "\n",
        "Perform the following operations on plain `txt` files:\n",
        "\n",
        "+ create a list of integrer numbers and then save it to a text file named `data_int.txt`. Run the `cat` command to print the content of the file.\n",
        "+ create a matrix of 5x5 floats and then save it to a text file named `data_float.txt`. Use the `cat` command to print the content of the file.\n",
        "+ load the `txt` file of the previous point and convert it to a `csv` file by hand."
      ]
    },
    {
      "cell_type": "code",
      "execution_count": 2,
      "metadata": {
        "colab": {
          "base_uri": "https://localhost:8080/"
        },
        "id": "cbv6I4JrIpQt",
        "outputId": "52c30a28-47f9-43eb-9f45-e4d2abe039bd"
      },
      "outputs": [
        {
          "output_type": "stream",
          "name": "stdout",
          "text": [
            "[0, 1, 2, 3, 4, 5, 6, 7, 8, 9]"
          ]
        }
      ],
      "source": [
        "a=[x for x in range(10)]\n",
        "file_name='./data_int.txt'\n",
        "\n",
        "with open(file_name,'w') as f:\n",
        "    f.write(str(a))\n",
        "\n",
        "!cat data_int.txt"
      ]
    },
    {
      "cell_type": "code",
      "source": [
        "b=np.arange((25),dtype=float).reshape(5,5)\n",
        "file_name='./data_float.txt'\n",
        "with open(file_name,'w') as f:\n",
        "  for i in range(5):\n",
        "    for j in range(5):\n",
        "      f.write(str(b[i,j])+' ')\n",
        "    f.write('\\n')\n",
        "!cat data_float.txt"
      ],
      "metadata": {
        "colab": {
          "base_uri": "https://localhost:8080/"
        },
        "id": "BJLWULw7LnzK",
        "outputId": "4046b8a6-ae9c-49cb-f153-90da1304ea3a"
      },
      "execution_count": 5,
      "outputs": [
        {
          "output_type": "stream",
          "name": "stdout",
          "text": [
            "0.0 1.0 2.0 3.0 4.0 \n",
            "5.0 6.0 7.0 8.0 9.0 \n",
            "10.0 11.0 12.0 13.0 14.0 \n",
            "15.0 16.0 17.0 18.0 19.0 \n",
            "20.0 21.0 22.0 23.0 24.0 \n"
          ]
        }
      ]
    },
    {
      "cell_type": "code",
      "source": [
        "matrix_5_5=np.loadtxt(file_name)\n",
        "\n",
        "file_name='./data_float.csv'\n",
        "with open(file_name,'w') as f:\n",
        "  for i in range(5):\n",
        "    for j in range(5):\n",
        "      f.write(str(matrix_5_5[i,j])+',')\n",
        "    f.write('\\n')\n",
        "  \n",
        "!cat data_float.csv"
      ],
      "metadata": {
        "colab": {
          "base_uri": "https://localhost:8080/"
        },
        "id": "10wcrRrCKwgl",
        "outputId": "5572dd43-6940-49de-cdd0-ca13b2ab05a6"
      },
      "execution_count": 6,
      "outputs": [
        {
          "output_type": "stream",
          "name": "stdout",
          "text": [
            "0.0,1.0,2.0,3.0,4.0,\n",
            "5.0,6.0,7.0,8.0,9.0,\n",
            "10.0,11.0,12.0,13.0,14.0,\n",
            "15.0,16.0,17.0,18.0,19.0,\n",
            "20.0,21.0,22.0,23.0,24.0,\n"
          ]
        }
      ]
    },
    {
      "cell_type": "markdown",
      "metadata": {
        "id": "m0SrSSwYIpQu"
      },
      "source": [
        "2\\. **JSON files**\n",
        "\n",
        "Load the file *user_data.json*, which can be found at:\n",
        "\n",
        "- https://www.dropbox.com/s/sz5klcdpckc39hd/user_data.json\n",
        "\n",
        "and filter the data by the \"CreditCardType\" when it equals to \"American Express\". Than save the data to a new CSV file."
      ]
    },
    {
      "cell_type": "code",
      "execution_count": 7,
      "metadata": {
        "colab": {
          "base_uri": "https://localhost:8080/"
        },
        "id": "TqOM23vtIpQu",
        "outputId": "6d7b48fe-c072-40f7-acc0-8d4442d044ce"
      },
      "outputs": [
        {
          "output_type": "stream",
          "name": "stdout",
          "text": [
            "--2022-12-01 10:00:38--  https://www.dropbox.com/s/sz5klcdpckc39hd/user_data.json\n",
            "Resolving www.dropbox.com (www.dropbox.com)... 162.125.5.18, 2620:100:601f:18::a27d:912\n",
            "Connecting to www.dropbox.com (www.dropbox.com)|162.125.5.18|:443... connected.\n",
            "HTTP request sent, awaiting response... 302 Found\n",
            "Location: /s/raw/sz5klcdpckc39hd/user_data.json [following]\n",
            "--2022-12-01 10:00:38--  https://www.dropbox.com/s/raw/sz5klcdpckc39hd/user_data.json\n",
            "Reusing existing connection to www.dropbox.com:443.\n",
            "HTTP request sent, awaiting response... 302 Found\n",
            "Location: https://uc0059b436631722778864b3cdb3.dl.dropboxusercontent.com/cd/0/inline/BxyoU3w8UvEwb0RCMDS6hBaqGS0sN5zMSCt1xsO9wCByXMKEpvzOzSYtyrbCYThbVDbnc_3aqQXDTQRpBlLKJ6JjyOWXnlAKhKqq6uENWfVbjZR60FOMlEwc9ldE5bvIYhY5Du45PXdiZNWcRdY7Yy70sWEvO08TE6I6jl-T8jZ7Bw/file# [following]\n",
            "--2022-12-01 10:00:39--  https://uc0059b436631722778864b3cdb3.dl.dropboxusercontent.com/cd/0/inline/BxyoU3w8UvEwb0RCMDS6hBaqGS0sN5zMSCt1xsO9wCByXMKEpvzOzSYtyrbCYThbVDbnc_3aqQXDTQRpBlLKJ6JjyOWXnlAKhKqq6uENWfVbjZR60FOMlEwc9ldE5bvIYhY5Du45PXdiZNWcRdY7Yy70sWEvO08TE6I6jl-T8jZ7Bw/file\n",
            "Resolving uc0059b436631722778864b3cdb3.dl.dropboxusercontent.com (uc0059b436631722778864b3cdb3.dl.dropboxusercontent.com)... 162.125.5.15, 2620:100:601d:15::a27d:50f\n",
            "Connecting to uc0059b436631722778864b3cdb3.dl.dropboxusercontent.com (uc0059b436631722778864b3cdb3.dl.dropboxusercontent.com)|162.125.5.15|:443... connected.\n",
            "HTTP request sent, awaiting response... 200 OK\n",
            "Length: 40417 (39K) [text/plain]\n",
            "Saving to: ‘user_data.json’\n",
            "\n",
            "user_data.json      100%[===================>]  39.47K  --.-KB/s    in 0.02s   \n",
            "\n",
            "2022-12-01 10:00:39 (1.79 MB/s) - ‘user_data.json’ saved [40417/40417]\n",
            "\n"
          ]
        }
      ],
      "source": [
        "!wget https://www.dropbox.com/s/sz5klcdpckc39hd/user_data.json"
      ]
    },
    {
      "cell_type": "code",
      "source": [
        "import json \n",
        "data = json.load(open('./user_data.json'))\n",
        "print(data)"
      ],
      "metadata": {
        "colab": {
          "base_uri": "https://localhost:8080/"
        },
        "id": "FvG_rSdHRk_1",
        "outputId": "43eb8194-a45b-492e-c735-a6c0b2b32c35"
      },
      "execution_count": 8,
      "outputs": [
        {
          "output_type": "stream",
          "name": "stdout",
          "text": [
            "[{'ID': '1', 'JobTitle': 'Project Manager', 'EmailAddress': 'Remy_Crawford1065@typill.biz', 'FirstNameLastName': 'Remy Crawford', 'CreditCard': '6205-7258-7671-0612', 'CreditCardType': 'Capital One'}, {'ID': '2', 'JobTitle': 'Investment  Advisor', 'EmailAddress': 'Clint_Thorpe5003@bulaffy.com', 'FirstNameLastName': 'Clint Thorpe', 'CreditCard': '7083-8766-0251-2345', 'CreditCardType': 'American Express'}, {'ID': '3', 'JobTitle': 'Cook', 'EmailAddress': 'Russel_Hooper9403@bulaffy.com', 'FirstNameLastName': 'Russel Hooper', 'CreditCard': '6378-4461-8535-5847', 'CreditCardType': 'Discover'}, {'ID': '4', 'JobTitle': 'Business Broker', 'EmailAddress': 'Benjamin_Rowan6280@gembat.biz', 'FirstNameLastName': 'Benjamin Rowan', 'CreditCard': '5781-7635-1428-7414', 'CreditCardType': 'Discover'}, {'ID': '5', 'JobTitle': 'Loan Officer', 'EmailAddress': 'Matt_Lloyd3241@guentu.biz', 'FirstNameLastName': 'Matt Lloyd', 'CreditCard': '5771-8416-2736-1700', 'CreditCardType': 'Citibank'}, {'ID': '6', 'JobTitle': 'Cash Manager', 'EmailAddress': 'Domenic_Bell1507@brety.org', 'FirstNameLastName': 'Domenic Bell', 'CreditCard': '8025-0056-4707-1245', 'CreditCardType': 'MasterCard'}, {'ID': '7', 'JobTitle': 'Business Broker', 'EmailAddress': 'Harry_Kennedy245@gmail.com', 'FirstNameLastName': 'Harry Kennedy', 'CreditCard': '1422-4235-8541-1784', 'CreditCardType': 'MasterCard'}, {'ID': '8', 'JobTitle': 'Stockbroker', 'EmailAddress': 'Christy_Emerson9521@supunk.biz', 'FirstNameLastName': 'Christy Emerson', 'CreditCard': '4763-6567-5460-0768', 'CreditCardType': 'Discover'}, {'ID': '9', 'JobTitle': 'Associate Professor', 'EmailAddress': 'Elly_Wright4017@jiman.org', 'FirstNameLastName': 'Elly Wright', 'CreditCard': '8364-4075-7278-4845', 'CreditCardType': 'Maestro'}, {'ID': '10', 'JobTitle': 'Treasurer', 'EmailAddress': 'Rufus_Lyon2653@twace.org', 'FirstNameLastName': 'Rufus Lyon', 'CreditCard': '8512-0806-3001-7570', 'CreditCardType': 'Bank of America'}, {'ID': '11', 'JobTitle': 'Production Painter', 'EmailAddress': 'Morgan_Young1920@acrit.org', 'FirstNameLastName': 'Morgan Young', 'CreditCard': '0031-6632-2223-4501', 'CreditCardType': 'MasterCard'}, {'ID': '12', 'JobTitle': 'Retail Trainee', 'EmailAddress': 'Phillip_Carpenter9505@famism.biz', 'FirstNameLastName': 'Phillip Carpenter', 'CreditCard': '3657-0088-0820-5247', 'CreditCardType': 'American Express'}, {'ID': '13', 'JobTitle': 'Treasurer', 'EmailAddress': 'Ilona_Notman2221@grannar.com', 'FirstNameLastName': 'Ilona Notman', 'CreditCard': '6701-8641-8334-1664', 'CreditCardType': 'MasterCard'}, {'ID': '14', 'JobTitle': 'Food Technologist', 'EmailAddress': 'Laila_Ballard1579@twace.org', 'FirstNameLastName': 'Laila Ballard', 'CreditCard': '2610-4883-2454-8247', 'CreditCardType': 'Maestro'}, {'ID': '15', 'JobTitle': 'Mobile Developer', 'EmailAddress': 'Alexander_Radcliffe8448@gompie.com', 'FirstNameLastName': 'Alexander Radcliffe', 'CreditCard': '8500-5740-2860-5071', 'CreditCardType': 'Discover'}, {'ID': '16', 'JobTitle': 'Insurance Broker', 'EmailAddress': 'Lindsay_Speed8496@jiman.org', 'FirstNameLastName': 'Lindsay Speed', 'CreditCard': '8447-1205-1550-3637', 'CreditCardType': 'Citibank'}, {'ID': '17', 'JobTitle': 'Systems Administrator', 'EmailAddress': 'Logan_Umney9124@womeona.net', 'FirstNameLastName': 'Logan Umney', 'CreditCard': '2858-5205-5402-8268', 'CreditCardType': 'Maestro'}, {'ID': '18', 'JobTitle': 'Accountant', 'EmailAddress': 'Kamila_Stanley8141@vetan.org', 'FirstNameLastName': 'Kamila Stanley', 'CreditCard': '8045-1052-8885-1824', 'CreditCardType': 'Maestro'}, {'ID': '19', 'JobTitle': 'Production Painter', 'EmailAddress': 'Tania_Huggins911@fuliss.net', 'FirstNameLastName': 'Tania Huggins', 'CreditCard': '3730-0802-5148-6556', 'CreditCardType': 'Chase'}, {'ID': '20', 'JobTitle': 'Cook', 'EmailAddress': 'Domenic_Carter252@extex.org', 'FirstNameLastName': 'Domenic Carter', 'CreditCard': '2820-8547-1064-4183', 'CreditCardType': 'Discover'}, {'ID': '21', 'JobTitle': 'Audiologist', 'EmailAddress': 'Liv_Lane5399@bretoux.com', 'FirstNameLastName': 'Liv Lane', 'CreditCard': '5721-1200-6352-0432', 'CreditCardType': 'Visa'}, {'ID': '22', 'JobTitle': 'Staffing Consultant', 'EmailAddress': 'Gina_Overson5363@nimogy.biz', 'FirstNameLastName': 'Gina Overson', 'CreditCard': '2871-4456-3450-7544', 'CreditCardType': 'Citibank'}, {'ID': '23', 'JobTitle': 'Physician', 'EmailAddress': 'Tyson_Franks27@hourpy.biz', 'FirstNameLastName': 'Tyson Franks', 'CreditCard': '5222-3537-0581-5663', 'CreditCardType': 'UnionPay'}, {'ID': '24', 'JobTitle': 'Bookkeeper', 'EmailAddress': 'Rufus_Bentley4108@fuliss.net', 'FirstNameLastName': 'Rufus Bentley', 'CreditCard': '8138-0636-0065-7816', 'CreditCardType': 'UnionPay'}, {'ID': '25', 'JobTitle': 'Physician', 'EmailAddress': 'Jacqueline_Osmond1980@infotech44.tech', 'FirstNameLastName': 'Jacqueline Osmond', 'CreditCard': '1678-8088-8372-1615', 'CreditCardType': 'Discover'}, {'ID': '26', 'JobTitle': 'Banker', 'EmailAddress': 'Tania_Quinn6931@cispeto.com', 'FirstNameLastName': 'Tania Quinn', 'CreditCard': '8686-2013-7133-0063', 'CreditCardType': 'Discover'}, {'ID': '27', 'JobTitle': 'Fabricator', 'EmailAddress': 'Isabel_Redden1090@sheye.org', 'FirstNameLastName': 'Isabel Redden', 'CreditCard': '4857-0176-0370-6874', 'CreditCardType': 'Visa'}, {'ID': '28', 'JobTitle': 'Project Manager', 'EmailAddress': 'Russel_Graves1378@extex.org', 'FirstNameLastName': 'Russel Graves', 'CreditCard': '6718-4818-8011-6024', 'CreditCardType': 'American Express'}, {'ID': '29', 'JobTitle': 'Design Engineer', 'EmailAddress': 'Nicholas_Sylvester802@liret.org', 'FirstNameLastName': 'Nicholas Sylvester', 'CreditCard': '1305-6121-0676-2107', 'CreditCardType': 'UnionPay'}, {'ID': '30', 'JobTitle': 'Cashier', 'EmailAddress': 'Winnie_Gray7029@deavo.com', 'FirstNameLastName': 'Winnie Gray', 'CreditCard': '2153-6618-7375-1260', 'CreditCardType': 'Bank of America'}, {'ID': '31', 'JobTitle': 'Doctor', 'EmailAddress': 'Chelsea_Lucas5667@fuliss.net', 'FirstNameLastName': 'Chelsea Lucas', 'CreditCard': '3731-5883-8065-7803', 'CreditCardType': 'Capital One'}, {'ID': '32', 'JobTitle': 'HR Coordinator', 'EmailAddress': 'Analise_Weasley434@elnee.tech', 'FirstNameLastName': 'Analise Weasley', 'CreditCard': '8036-8876-3464-7777', 'CreditCardType': 'Maestro'}, {'ID': '33', 'JobTitle': 'Electrician', 'EmailAddress': 'Daphne_Rose2866@liret.org', 'FirstNameLastName': 'Daphne Rose', 'CreditCard': '2613-0861-0335-2612', 'CreditCardType': 'Citibank'}, {'ID': '34', 'JobTitle': 'Ambulatory Nurse', 'EmailAddress': 'Alan_Coll689@twace.org', 'FirstNameLastName': 'Alan Coll', 'CreditCard': '2358-6417-0170-6815', 'CreditCardType': 'Chase'}, {'ID': '35', 'JobTitle': 'Fabricator', 'EmailAddress': 'Agnes_Jennson1104@nickia.com', 'FirstNameLastName': 'Agnes Jennson', 'CreditCard': '4653-3251-8811-5468', 'CreditCardType': 'Citibank'}, {'ID': '36', 'JobTitle': 'Mobile Developer', 'EmailAddress': 'Daron_Tyrrell3117@corti.com', 'FirstNameLastName': 'Daron Tyrrell', 'CreditCard': '4602-3063-5462-4380', 'CreditCardType': 'Bank of America'}, {'ID': '37', 'JobTitle': 'CNC Operator', 'EmailAddress': 'Mary_Woodley2673@gembat.biz', 'FirstNameLastName': 'Mary Woodley', 'CreditCard': '2553-7085-1762-8352', 'CreditCardType': 'Wells Fargo'}, {'ID': '38', 'JobTitle': 'Web Developer', 'EmailAddress': 'Melania_Lee2367@mafthy.com', 'FirstNameLastName': 'Melania Lee', 'CreditCard': '6088-8850-2705-3210', 'CreditCardType': 'MasterCard'}, {'ID': '39', 'JobTitle': 'Stockbroker', 'EmailAddress': 'Leanne_Newton1268@typill.biz', 'FirstNameLastName': 'Leanne Newton', 'CreditCard': '5438-0816-4166-4847', 'CreditCardType': 'American Express'}, {'ID': '40', 'JobTitle': 'Global Logistics Supervisor', 'EmailAddress': 'Henry_Oatway7245@bretoux.com', 'FirstNameLastName': 'Henry Oatway', 'CreditCard': '4065-6643-8160-8868', 'CreditCardType': 'Chase'}, {'ID': '41', 'JobTitle': 'Web Developer', 'EmailAddress': 'Nathan_Kirby4985@naiker.biz', 'FirstNameLastName': 'Nathan Kirby', 'CreditCard': '2670-6447-2566-1346', 'CreditCardType': 'Discover'}, {'ID': '42', 'JobTitle': 'Audiologist', 'EmailAddress': 'Caitlyn_Harris6055@tonsy.org', 'FirstNameLastName': 'Caitlyn Harris', 'CreditCard': '4131-3838-8715-7116', 'CreditCardType': 'Visa'}, {'ID': '43', 'JobTitle': 'Audiologist', 'EmailAddress': 'Ramon_Hunt6049@kideod.biz', 'FirstNameLastName': 'Ramon Hunt', 'CreditCard': '8225-4542-2136-6615', 'CreditCardType': 'Bank of America'}, {'ID': '44', 'JobTitle': 'IT Support Staff', 'EmailAddress': 'Kendra_Rowe9597@tonsy.org', 'FirstNameLastName': 'Kendra Rowe', 'CreditCard': '7537-4711-1276-5640', 'CreditCardType': 'UnionPay'}, {'ID': '45', 'JobTitle': 'Chef Manager', 'EmailAddress': 'Rowan_Shea1292@dionrab.com', 'FirstNameLastName': 'Rowan Shea', 'CreditCard': '4757-2183-5374-1642', 'CreditCardType': 'Visa'}, {'ID': '46', 'JobTitle': 'Doctor', 'EmailAddress': 'Ilona_Cox36@eirey.tech', 'FirstNameLastName': 'Ilona Cox', 'CreditCard': '0881-8168-5805-4286', 'CreditCardType': 'Wells Fargo'}, {'ID': '47', 'JobTitle': 'IT Support Staff', 'EmailAddress': 'Marissa_Amstead9020@atink.com', 'FirstNameLastName': 'Marissa Amstead', 'CreditCard': '1055-6387-0584-7138', 'CreditCardType': 'Discover'}, {'ID': '48', 'JobTitle': 'Investment  Advisor', 'EmailAddress': 'Rebecca_Grey8444@typill.biz', 'FirstNameLastName': 'Rebecca Grey', 'CreditCard': '7715-7017-0032-3427', 'CreditCardType': 'Bank of America'}, {'ID': '49', 'JobTitle': 'CNC Operator', 'EmailAddress': 'Owen_Haines4054@bungar.biz', 'FirstNameLastName': 'Owen Haines', 'CreditCard': '8865-2460-2370-7520', 'CreditCardType': 'Discover'}, {'ID': '50', 'JobTitle': 'Associate Professor', 'EmailAddress': 'Selena_Steer3451@bulaffy.com', 'FirstNameLastName': 'Selena Steer', 'CreditCard': '4067-5448-8705-3230', 'CreditCardType': 'Wells Fargo'}, {'ID': '51', 'JobTitle': 'Investment  Advisor', 'EmailAddress': 'Johnny_Hobbs6802@eirey.tech', 'FirstNameLastName': 'Johnny Hobbs', 'CreditCard': '1087-2434-3728-0607', 'CreditCardType': 'MasterCard'}, {'ID': '52', 'JobTitle': 'Cash Manager', 'EmailAddress': 'Hank_Lane5980@eirey.tech', 'FirstNameLastName': 'Hank Lane', 'CreditCard': '1506-8130-7417-4010', 'CreditCardType': 'Wells Fargo'}, {'ID': '53', 'JobTitle': 'Biologist', 'EmailAddress': 'David_Olson6310@liret.org', 'FirstNameLastName': 'David Olson', 'CreditCard': '5703-0573-0581-8012', 'CreditCardType': 'UnionPay'}, {'ID': '54', 'JobTitle': 'Production Painter', 'EmailAddress': 'Nina_Owen9489@gompie.com', 'FirstNameLastName': 'Nina Owen', 'CreditCard': '0207-1503-5346-5238', 'CreditCardType': 'Citibank'}, {'ID': '55', 'JobTitle': 'Clerk', 'EmailAddress': 'Matt_Adams3562@ovock.tech', 'FirstNameLastName': 'Matt Adams', 'CreditCard': '7254-2550-1362-1454', 'CreditCardType': 'Discover'}, {'ID': '56', 'JobTitle': 'Laboratory Technician', 'EmailAddress': 'Wade_Summers6636@brety.org', 'FirstNameLastName': 'Wade Summers', 'CreditCard': '1142-5310-6655-4588', 'CreditCardType': 'Visa'}, {'ID': '57', 'JobTitle': 'Budget Analyst', 'EmailAddress': 'Tony_Giles1960@iatim.tech', 'FirstNameLastName': 'Tony Giles', 'CreditCard': '8130-3425-7573-7745', 'CreditCardType': 'American Express'}, {'ID': '58', 'JobTitle': 'Systems Administrator', 'EmailAddress': 'Marvin_Gunn6317@corti.com', 'FirstNameLastName': 'Marvin Gunn', 'CreditCard': '5241-8630-7873-8114', 'CreditCardType': 'MasterCard'}, {'ID': '59', 'JobTitle': 'Paramedic', 'EmailAddress': 'Wade_Osman7248@sveldo.biz', 'FirstNameLastName': 'Wade Osman', 'CreditCard': '3554-3376-8561-1512', 'CreditCardType': 'Discover'}, {'ID': '60', 'JobTitle': 'Systems Administrator', 'EmailAddress': 'Nick_Andrews7603@deavo.com', 'FirstNameLastName': 'Nick Andrews', 'CreditCard': '8335-4304-1050-6575', 'CreditCardType': 'Citibank'}, {'ID': '61', 'JobTitle': 'Doctor', 'EmailAddress': 'Julius_Hudson3301@infotech44.tech', 'FirstNameLastName': 'Julius Hudson', 'CreditCard': '7622-3780-1820-8033', 'CreditCardType': 'Chase'}, {'ID': '62', 'JobTitle': 'CNC Operator', 'EmailAddress': 'Owen_Allcott5125@bauros.biz', 'FirstNameLastName': 'Owen Allcott', 'CreditCard': '4156-0107-7210-2630', 'CreditCardType': 'American Express'}, {'ID': '63', 'JobTitle': 'Systems Administrator', 'EmailAddress': 'Liliana_Carter7208@jiman.org', 'FirstNameLastName': 'Liliana Carter', 'CreditCard': '4002-5265-4505-1161', 'CreditCardType': 'MasterCard'}, {'ID': '64', 'JobTitle': 'Bookkeeper', 'EmailAddress': 'Marvin_Veale1904@vetan.org', 'FirstNameLastName': 'Marvin Veale', 'CreditCard': '2821-3462-2303-0744', 'CreditCardType': 'Capital One'}, {'ID': '65', 'JobTitle': 'Fabricator', 'EmailAddress': 'Caleb_Cassidy438@extex.org', 'FirstNameLastName': 'Caleb Cassidy', 'CreditCard': '1744-5780-8468-7044', 'CreditCardType': 'Capital One'}, {'ID': '66', 'JobTitle': 'Mobile Developer', 'EmailAddress': 'Mya_King2505@deavo.com', 'FirstNameLastName': 'Mya King', 'CreditCard': '2786-2161-3447-4455', 'CreditCardType': 'Capital One'}, {'ID': '67', 'JobTitle': 'Assistant Buyer', 'EmailAddress': 'Abbey_Flanders597@supunk.biz', 'FirstNameLastName': 'Abbey Flanders', 'CreditCard': '8125-3062-6276-1406', 'CreditCardType': 'UnionPay'}, {'ID': '68', 'JobTitle': 'Project Manager', 'EmailAddress': 'Liam_Lynn3280@kideod.biz', 'FirstNameLastName': 'Liam Lynn', 'CreditCard': '7152-3247-6053-2233', 'CreditCardType': 'American Express'}, {'ID': '69', 'JobTitle': 'Electrician', 'EmailAddress': 'Erick_Wellington505@irrepsy.com', 'FirstNameLastName': 'Erick Wellington', 'CreditCard': '7875-7615-4748-2157', 'CreditCardType': 'Chase'}, {'ID': '70', 'JobTitle': 'Global Logistics Supervisor', 'EmailAddress': 'Jamie_Gray9867@yahoo.com', 'FirstNameLastName': 'Jamie Gray', 'CreditCard': '5256-2237-5830-4507', 'CreditCardType': 'Capital One'}, {'ID': '71', 'JobTitle': 'Lecturer', 'EmailAddress': 'Logan_Michael1305@nickia.com', 'FirstNameLastName': 'Logan Michael', 'CreditCard': '5763-1350-7520-3532', 'CreditCardType': 'Citibank'}, {'ID': '72', 'JobTitle': 'Audiologist', 'EmailAddress': 'Nick_Morris6523@atink.com', 'FirstNameLastName': 'Nick Morris', 'CreditCard': '6450-1322-4742-5753', 'CreditCardType': 'Citibank'}, {'ID': '73', 'JobTitle': 'Biologist', 'EmailAddress': 'Zara_Kelly8902@eirey.tech', 'FirstNameLastName': 'Zara Kelly', 'CreditCard': '6764-1038-8026-1613', 'CreditCardType': 'Chase'}, {'ID': '74', 'JobTitle': 'Dentist', 'EmailAddress': 'Regina_Woodcock5820@yahoo.com', 'FirstNameLastName': 'Regina Woodcock', 'CreditCard': '0208-1753-3870-8002', 'CreditCardType': 'American Express'}, {'ID': '75', 'JobTitle': 'Clerk', 'EmailAddress': 'Logan_Anderson8354@muall.tech', 'FirstNameLastName': 'Logan Anderson', 'CreditCard': '2788-5607-2366-3240', 'CreditCardType': 'Chase'}, {'ID': '76', 'JobTitle': 'Web Developer', 'EmailAddress': 'Charlize_Benfield1039@bauros.biz', 'FirstNameLastName': 'Charlize Benfield', 'CreditCard': '8814-2858-7221-3376', 'CreditCardType': 'Visa'}, {'ID': '77', 'JobTitle': 'Web Developer', 'EmailAddress': 'Barney_Riley6813@vetan.org', 'FirstNameLastName': 'Barney Riley', 'CreditCard': '8632-3080-6254-5510', 'CreditCardType': 'Citibank'}, {'ID': '78', 'JobTitle': 'Business Broker', 'EmailAddress': 'Rick_Edwards9166@corti.com', 'FirstNameLastName': 'Rick Edwards', 'CreditCard': '6747-0304-6147-0185', 'CreditCardType': 'MasterCard'}, {'ID': '79', 'JobTitle': 'Lecturer', 'EmailAddress': 'Remy_Vaughan8074@twipet.com', 'FirstNameLastName': 'Remy Vaughan', 'CreditCard': '6617-5671-7115-1004', 'CreditCardType': 'Capital One'}, {'ID': '80', 'JobTitle': 'Insurance Broker', 'EmailAddress': 'Mavis_Flanders4645@iatim.tech', 'FirstNameLastName': 'Mavis Flanders', 'CreditCard': '4843-2145-7055-2347', 'CreditCardType': 'Chase'}, {'ID': '81', 'JobTitle': 'HR Specialist', 'EmailAddress': 'Carter_Wallace9614@atink.com', 'FirstNameLastName': 'Carter Wallace', 'CreditCard': '4256-7201-6717-4322', 'CreditCardType': 'American Express'}, {'ID': '82', 'JobTitle': 'Cook', 'EmailAddress': 'Vera_Avery8052@womeona.net', 'FirstNameLastName': 'Vera Avery', 'CreditCard': '1764-7042-1226-5002', 'CreditCardType': 'Bank of America'}, {'ID': '83', 'JobTitle': 'Stockbroker', 'EmailAddress': 'Alexander_Huggins7943@deons.tech', 'FirstNameLastName': 'Alexander Huggins', 'CreditCard': '2460-4583-8540-8766', 'CreditCardType': 'Citibank'}, {'ID': '84', 'JobTitle': 'Cook', 'EmailAddress': 'Alma_Everett4997@acrit.org', 'FirstNameLastName': 'Alma Everett', 'CreditCard': '8330-6356-2615-0201', 'CreditCardType': 'Capital One'}, {'ID': '85', 'JobTitle': 'Global Logistics Supervisor', 'EmailAddress': 'Marvin_Reid7926@bretoux.com', 'FirstNameLastName': 'Marvin Reid', 'CreditCard': '3234-3554-1806-3082', 'CreditCardType': 'MasterCard'}, {'ID': '86', 'JobTitle': 'Staffing Consultant', 'EmailAddress': 'Brooklyn_Duvall6367@nimogy.biz', 'FirstNameLastName': 'Brooklyn Duvall', 'CreditCard': '5356-3431-8588-5071', 'CreditCardType': 'Wells Fargo'}, {'ID': '87', 'JobTitle': 'Electrician', 'EmailAddress': 'Chad_Mullins9299@twipet.com', 'FirstNameLastName': 'Chad Mullins', 'CreditCard': '7818-7020-6066-0813', 'CreditCardType': 'Wells Fargo'}, {'ID': '88', 'JobTitle': 'Project Manager', 'EmailAddress': 'Lucy_Latham3334@bretoux.com', 'FirstNameLastName': 'Lucy Latham', 'CreditCard': '7684-0613-7625-8222', 'CreditCardType': 'Wells Fargo'}, {'ID': '89', 'JobTitle': 'Inspector', 'EmailAddress': 'Dorothy_Gordon7252@guentu.biz', 'FirstNameLastName': 'Dorothy Gordon', 'CreditCard': '3582-4375-3185-8087', 'CreditCardType': 'Capital One'}, {'ID': '90', 'JobTitle': 'Systems Administrator', 'EmailAddress': 'David_Ring7929@mafthy.com', 'FirstNameLastName': 'David Ring', 'CreditCard': '7855-7234-8266-8574', 'CreditCardType': 'Maestro'}, {'ID': '91', 'JobTitle': 'Insurance Broker', 'EmailAddress': 'Mason_Lee7893@gmail.com', 'FirstNameLastName': 'Mason Lee', 'CreditCard': '3041-7301-0303-3203', 'CreditCardType': 'UnionPay'}, {'ID': '92', 'JobTitle': 'Staffing Consultant', 'EmailAddress': 'Maia_Stark2797@jiman.org', 'FirstNameLastName': 'Maia Stark', 'CreditCard': '3851-1403-1734-6321', 'CreditCardType': 'American Express'}, {'ID': '93', 'JobTitle': 'Retail Trainee', 'EmailAddress': 'John_Richardson7481@iatim.tech', 'FirstNameLastName': 'John Richardson', 'CreditCard': '3771-4034-8432-8335', 'CreditCardType': 'Maestro'}, {'ID': '94', 'JobTitle': 'Bellman', 'EmailAddress': 'Ryan_Stewart9634@infotech44.tech', 'FirstNameLastName': 'Ryan Stewart', 'CreditCard': '7018-1875-7414-6004', 'CreditCardType': 'Wells Fargo'}, {'ID': '95', 'JobTitle': 'Baker', 'EmailAddress': 'Barney_Ebbs3496@deons.tech', 'FirstNameLastName': 'Barney Ebbs', 'CreditCard': '5114-5536-7367-8526', 'CreditCardType': 'UnionPay'}, {'ID': '96', 'JobTitle': 'Design Engineer', 'EmailAddress': 'Anthony_Welsch9633@jiman.org', 'FirstNameLastName': 'Anthony Welsch', 'CreditCard': '7137-8037-2575-2550', 'CreditCardType': 'Bank of America'}, {'ID': '97', 'JobTitle': 'Stockbroker', 'EmailAddress': 'Ciara_Lomax982@bauros.biz', 'FirstNameLastName': 'Ciara Lomax', 'CreditCard': '3702-3440-2472-5424', 'CreditCardType': 'American Express'}, {'ID': '98', 'JobTitle': 'Webmaster', 'EmailAddress': 'Roger_Walsh3414@fuliss.net', 'FirstNameLastName': 'Roger Walsh', 'CreditCard': '1715-0341-7800-4452', 'CreditCardType': 'Chase'}, {'ID': '99', 'JobTitle': 'Bookkeeper', 'EmailAddress': 'Benny_Verdon7869@acrit.org', 'FirstNameLastName': 'Benny Verdon', 'CreditCard': '0568-6710-4464-2882', 'CreditCardType': 'MasterCard'}, {'ID': '100', 'JobTitle': 'IT Support Staff', 'EmailAddress': 'Logan_Booth1361@bulaffy.com', 'FirstNameLastName': 'Logan Booth', 'CreditCard': '8763-8068-8511-7223', 'CreditCardType': 'UnionPay'}, {'ID': '101', 'JobTitle': 'Investment  Advisor', 'EmailAddress': 'Harry_Hall4872@cispeto.com', 'FirstNameLastName': 'Harry Hall', 'CreditCard': '2022-8687-3282-0601', 'CreditCardType': 'MasterCard'}, {'ID': '102', 'JobTitle': 'Ambulatory Nurse', 'EmailAddress': 'Michael_Jeffery206@deavo.com', 'FirstNameLastName': 'Michael Jeffery', 'CreditCard': '4570-7035-5853-4117', 'CreditCardType': 'Chase'}, {'ID': '103', 'JobTitle': 'Executive Director', 'EmailAddress': 'Kimberly_Wright1384@tonsy.org', 'FirstNameLastName': 'Kimberly Wright', 'CreditCard': '0268-6867-0612-4832', 'CreditCardType': 'MasterCard'}, {'ID': '104', 'JobTitle': 'Software Engineer', 'EmailAddress': 'Andrea_Hobson8456@mafthy.com', 'FirstNameLastName': 'Andrea Hobson', 'CreditCard': '1441-4347-5278-2825', 'CreditCardType': 'Chase'}, {'ID': '105', 'JobTitle': 'Insurance Broker', 'EmailAddress': 'Jayden_Gibbons5308@hourpy.biz', 'FirstNameLastName': 'Jayden Gibbons', 'CreditCard': '7510-0024-0464-3248', 'CreditCardType': 'Visa'}, {'ID': '106', 'JobTitle': 'Service Supervisor', 'EmailAddress': 'Alan_Beal5846@iatim.tech', 'FirstNameLastName': 'Alan Beal', 'CreditCard': '7535-3620-6524-1418', 'CreditCardType': 'Discover'}, {'ID': '107', 'JobTitle': 'Cook', 'EmailAddress': 'Mark_Oswald337@joiniaa.com', 'FirstNameLastName': 'Mark Oswald', 'CreditCard': '3370-4228-0125-5362', 'CreditCardType': 'Discover'}, {'ID': '108', 'JobTitle': 'Web Developer', 'EmailAddress': 'Alan_Tate8854@sveldo.biz', 'FirstNameLastName': 'Alan Tate', 'CreditCard': '4102-5681-2372-1043', 'CreditCardType': 'Citibank'}, {'ID': '109', 'JobTitle': 'Accountant', 'EmailAddress': 'Cristal_Norris7765@hourpy.biz', 'FirstNameLastName': 'Cristal Norris', 'CreditCard': '8138-2758-7125-4730', 'CreditCardType': 'Chase'}, {'ID': '110', 'JobTitle': 'Ambulatory Nurse', 'EmailAddress': 'Anthony_Partridge5764@guentu.biz', 'FirstNameLastName': 'Anthony Partridge', 'CreditCard': '2211-3350-1371-8600', 'CreditCardType': 'Capital One'}, {'ID': '111', 'JobTitle': 'Business Broker', 'EmailAddress': 'Tony_Veale2744@nimogy.biz', 'FirstNameLastName': 'Tony Veale', 'CreditCard': '3731-3227-5681-4825', 'CreditCardType': 'Discover'}, {'ID': '112', 'JobTitle': 'Chef Manager', 'EmailAddress': 'Rachael_Bayliss8221@naiker.biz', 'FirstNameLastName': 'Rachael Bayliss', 'CreditCard': '3744-2118-4378-6106', 'CreditCardType': 'Wells Fargo'}, {'ID': '113', 'JobTitle': 'Health Educator', 'EmailAddress': 'Eden_Thorne532@kideod.biz', 'FirstNameLastName': 'Eden Thorne', 'CreditCard': '3265-8384-2428-8103', 'CreditCardType': 'Capital One'}, {'ID': '114', 'JobTitle': 'Auditor', 'EmailAddress': 'Chuck_Thomas3048@naiker.biz', 'FirstNameLastName': 'Chuck Thomas', 'CreditCard': '4020-7353-3107-4716', 'CreditCardType': 'Chase'}, {'ID': '115', 'JobTitle': 'Fabricator', 'EmailAddress': 'Manuel_Shelton5599@famism.biz', 'FirstNameLastName': 'Manuel Shelton', 'CreditCard': '6334-3032-8386-7575', 'CreditCardType': 'Visa'}, {'ID': '116', 'JobTitle': 'Staffing Consultant', 'EmailAddress': 'Isabel_Ellwood1475@fuliss.net', 'FirstNameLastName': 'Isabel Ellwood', 'CreditCard': '3738-0882-0066-6683', 'CreditCardType': 'American Express'}, {'ID': '117', 'JobTitle': 'Doctor', 'EmailAddress': 'Jacob_Milner9300@fuliss.net', 'FirstNameLastName': 'Jacob Milner', 'CreditCard': '5534-6374-5803-4411', 'CreditCardType': 'Visa'}, {'ID': '118', 'JobTitle': 'Lecturer', 'EmailAddress': 'Marilyn_Grant438@vetan.org', 'FirstNameLastName': 'Marilyn Grant', 'CreditCard': '3108-1341-3737-2503', 'CreditCardType': 'Chase'}, {'ID': '119', 'JobTitle': 'Food Technologist', 'EmailAddress': 'Callie_Reynolds1898@grannar.com', 'FirstNameLastName': 'Callie Reynolds', 'CreditCard': '7243-0302-5344-3286', 'CreditCardType': 'Visa'}, {'ID': '120', 'JobTitle': 'Budget Analyst', 'EmailAddress': 'Lexi_Rogan8851@joiniaa.com', 'FirstNameLastName': 'Lexi Rogan', 'CreditCard': '7488-2874-7165-7631', 'CreditCardType': 'Wells Fargo'}, {'ID': '121', 'JobTitle': 'Cash Manager', 'EmailAddress': 'Judith_Kaur9513@deavo.com', 'FirstNameLastName': 'Judith Kaur', 'CreditCard': '2265-6237-6225-1144', 'CreditCardType': 'Wells Fargo'}, {'ID': '122', 'JobTitle': 'Executive Director', 'EmailAddress': 'Denis_Weston6437@infotech44.tech', 'FirstNameLastName': 'Denis Weston', 'CreditCard': '6205-6711-0573-1040', 'CreditCardType': 'Bank of America'}, {'ID': '123', 'JobTitle': 'Banker', 'EmailAddress': 'Tony_Edwards6996@gembat.biz', 'FirstNameLastName': 'Tony Edwards', 'CreditCard': '7603-3178-8011-7801', 'CreditCardType': 'UnionPay'}, {'ID': '124', 'JobTitle': 'IT Support Staff', 'EmailAddress': 'Denis_Bentley1511@vetan.org', 'FirstNameLastName': 'Denis Bentley', 'CreditCard': '4684-5383-1016-1401', 'CreditCardType': 'MasterCard'}, {'ID': '125', 'JobTitle': 'IT Support Staff', 'EmailAddress': 'Cameron_Allen2322@ovock.tech', 'FirstNameLastName': 'Cameron Allen', 'CreditCard': '3261-0630-6165-7023', 'CreditCardType': 'Bank of America'}, {'ID': '126', 'JobTitle': 'Auditor', 'EmailAddress': 'Jack_Mccall3362@bulaffy.com', 'FirstNameLastName': 'Jack Mccall', 'CreditCard': '7865-7311-2187-3707', 'CreditCardType': 'Discover'}, {'ID': '127', 'JobTitle': 'Cash Manager', 'EmailAddress': 'Oliver_Lunt569@bretoux.com', 'FirstNameLastName': 'Oliver Lunt', 'CreditCard': '6220-0412-0351-2651', 'CreditCardType': 'Bank of America'}, {'ID': '128', 'JobTitle': 'Web Developer', 'EmailAddress': 'Jolene_Reynolds9508@famism.biz', 'FirstNameLastName': 'Jolene Reynolds', 'CreditCard': '3575-2480-2565-5217', 'CreditCardType': 'Visa'}, {'ID': '129', 'JobTitle': 'Clerk', 'EmailAddress': 'Harvey_Nash6502@jiman.org', 'FirstNameLastName': 'Harvey Nash', 'CreditCard': '7027-3400-8045-7441', 'CreditCardType': 'Citibank'}, {'ID': '130', 'JobTitle': 'Production Painter', 'EmailAddress': 'Aleksandra_Andersson9641@mafthy.com', 'FirstNameLastName': 'Aleksandra Andersson', 'CreditCard': '6088-3346-1220-2748', 'CreditCardType': 'Citibank'}, {'ID': '131', 'JobTitle': 'Business Broker', 'EmailAddress': 'Gwenyth_Hunt534@bauros.biz', 'FirstNameLastName': 'Gwenyth Hunt', 'CreditCard': '0652-5250-5713-3882', 'CreditCardType': 'Bank of America'}, {'ID': '132', 'JobTitle': 'Insurance Broker', 'EmailAddress': 'Chadwick_Blackburn9324@dionrab.com', 'FirstNameLastName': 'Chadwick Blackburn', 'CreditCard': '5083-3141-5835-2074', 'CreditCardType': 'Visa'}, {'ID': '133', 'JobTitle': 'Web Developer', 'EmailAddress': 'Eileen_Burnley3255@guentu.biz', 'FirstNameLastName': 'Eileen Burnley', 'CreditCard': '1133-6788-1871-7473', 'CreditCardType': 'Wells Fargo'}, {'ID': '134', 'JobTitle': 'Chef Manager', 'EmailAddress': 'Rufus_Farmer3047@tonsy.org', 'FirstNameLastName': 'Rufus Farmer', 'CreditCard': '4144-7680-8354-5514', 'CreditCardType': 'Citibank'}, {'ID': '135', 'JobTitle': 'Steward', 'EmailAddress': 'Jocelyn_Moran8514@bretoux.com', 'FirstNameLastName': 'Jocelyn Moran', 'CreditCard': '3847-6831-3858-5087', 'CreditCardType': 'Citibank'}, {'ID': '136', 'JobTitle': 'Healthcare Specialist', 'EmailAddress': 'Nicholas_Pearson3012@eirey.tech', 'FirstNameLastName': 'Nicholas Pearson', 'CreditCard': '2374-1618-7465-7727', 'CreditCardType': 'UnionPay'}, {'ID': '137', 'JobTitle': 'Bookkeeper', 'EmailAddress': 'Julius_Preston5894@iatim.tech', 'FirstNameLastName': 'Julius Preston', 'CreditCard': '3323-6545-0018-5863', 'CreditCardType': 'Capital One'}, {'ID': '138', 'JobTitle': 'Associate Professor', 'EmailAddress': 'Aleksandra_Logan7526@brety.org', 'FirstNameLastName': 'Aleksandra Logan', 'CreditCard': '0210-5386-8713-6525', 'CreditCardType': 'Maestro'}, {'ID': '139', 'JobTitle': 'Front Desk Coordinator', 'EmailAddress': 'Beatrice_Willis8490@sveldo.biz', 'FirstNameLastName': 'Beatrice Willis', 'CreditCard': '8466-7417-4022-7367', 'CreditCardType': 'UnionPay'}, {'ID': '140', 'JobTitle': 'Banker', 'EmailAddress': 'Jules_Poulton1014@muall.tech', 'FirstNameLastName': 'Jules Poulton', 'CreditCard': '1354-4035-7543-1021', 'CreditCardType': 'Visa'}, {'ID': '141', 'JobTitle': 'Budget Analyst', 'EmailAddress': 'Cedrick_Griffiths4021@zorer.org', 'FirstNameLastName': 'Cedrick Griffiths', 'CreditCard': '4777-5571-8472-2714', 'CreditCardType': 'Citibank'}, {'ID': '142', 'JobTitle': 'Call Center Representative', 'EmailAddress': 'Daniel_Dann7047@twace.org', 'FirstNameLastName': 'Daniel Dann', 'CreditCard': '5585-0072-1257-8811', 'CreditCardType': 'UnionPay'}, {'ID': '143', 'JobTitle': 'Insurance Broker', 'EmailAddress': 'Rebecca_Lynch4293@bungar.biz', 'FirstNameLastName': 'Rebecca Lynch', 'CreditCard': '6021-5882-2782-6475', 'CreditCardType': 'Citibank'}, {'ID': '144', 'JobTitle': 'Inspector', 'EmailAddress': 'Tyler_Yoman3293@nickia.com', 'FirstNameLastName': 'Tyler Yoman', 'CreditCard': '0771-3657-3436-8114', 'CreditCardType': 'Maestro'}, {'ID': '145', 'JobTitle': 'Healthcare Specialist', 'EmailAddress': 'Karla_Wren3859@sveldo.biz', 'FirstNameLastName': 'Karla Wren', 'CreditCard': '4082-6776-8720-6821', 'CreditCardType': 'Bank of America'}, {'ID': '146', 'JobTitle': 'Audiologist', 'EmailAddress': 'Rosemary_Stevenson6023@gmail.com', 'FirstNameLastName': 'Rosemary Stevenson', 'CreditCard': '2663-5881-1874-4487', 'CreditCardType': 'Bank of America'}, {'ID': '147', 'JobTitle': 'Investment  Advisor', 'EmailAddress': 'Johnny_Beal529@hourpy.biz', 'FirstNameLastName': 'Johnny Beal', 'CreditCard': '0617-0040-7635-6685', 'CreditCardType': 'Chase'}, {'ID': '148', 'JobTitle': 'CNC Operator', 'EmailAddress': 'Abdul_Townend2202@infotech44.tech', 'FirstNameLastName': 'Abdul Townend', 'CreditCard': '4224-1226-3557-3448', 'CreditCardType': 'American Express'}, {'ID': '149', 'JobTitle': 'Budget Analyst', 'EmailAddress': 'Mark_Slater7583@vetan.org', 'FirstNameLastName': 'Mark Slater', 'CreditCard': '2285-4660-3635-6676', 'CreditCardType': 'UnionPay'}, {'ID': '150', 'JobTitle': 'Fabricator', 'EmailAddress': 'Caleb_Poulton1735@atink.com', 'FirstNameLastName': 'Caleb Poulton', 'CreditCard': '8203-6875-5225-0341', 'CreditCardType': 'American Express'}, {'ID': '151', 'JobTitle': 'Restaurant Manager', 'EmailAddress': 'Ronald_Lewis6777@deavo.com', 'FirstNameLastName': 'Ronald Lewis', 'CreditCard': '7212-0155-5014-8471', 'CreditCardType': 'American Express'}, {'ID': '152', 'JobTitle': 'Health Educator', 'EmailAddress': 'Sienna_Buckley3263@nanoff.biz', 'FirstNameLastName': 'Sienna Buckley', 'CreditCard': '6200-1344-2606-3532', 'CreditCardType': 'Citibank'}, {'ID': '153', 'JobTitle': 'Pharmacist', 'EmailAddress': 'Logan_Phillips5510@vetan.org', 'FirstNameLastName': 'Logan Phillips', 'CreditCard': '3621-3464-0520-1551', 'CreditCardType': 'Capital One'}, {'ID': '154', 'JobTitle': 'Bellman', 'EmailAddress': 'Faith_Seymour3829@twace.org', 'FirstNameLastName': 'Faith Seymour', 'CreditCard': '4170-5186-6887-6558', 'CreditCardType': 'American Express'}, {'ID': '155', 'JobTitle': 'Audiologist', 'EmailAddress': 'Eileen_Styles7729@ovock.tech', 'FirstNameLastName': 'Eileen Styles', 'CreditCard': '1814-5623-0272-5240', 'CreditCardType': 'Discover'}, {'ID': '156', 'JobTitle': 'Production Painter', 'EmailAddress': 'Nick_Chappell5282@ovock.tech', 'FirstNameLastName': 'Nick Chappell', 'CreditCard': '5654-0733-8503-3875', 'CreditCardType': 'UnionPay'}, {'ID': '157', 'JobTitle': 'Restaurant Manager', 'EmailAddress': 'Hanna_Eastwood4725@nanoff.biz', 'FirstNameLastName': 'Hanna Eastwood', 'CreditCard': '5231-8507-2436-4627', 'CreditCardType': 'Wells Fargo'}, {'ID': '158', 'JobTitle': 'Cash Manager', 'EmailAddress': 'Allison_Savage7188@joiniaa.com', 'FirstNameLastName': 'Allison Savage', 'CreditCard': '8327-8283-3324-4474', 'CreditCardType': 'Visa'}, {'ID': '159', 'JobTitle': 'Designer', 'EmailAddress': 'Noemi_Ulyatt6551@mafthy.com', 'FirstNameLastName': 'Noemi Ulyatt', 'CreditCard': '8011-6740-2184-1656', 'CreditCardType': 'Wells Fargo'}, {'ID': '160', 'JobTitle': 'Retail Trainee', 'EmailAddress': 'Davina_Moss147@ovock.tech', 'FirstNameLastName': 'Davina Moss', 'CreditCard': '6602-8511-4711-1077', 'CreditCardType': 'Visa'}, {'ID': '161', 'JobTitle': 'Audiologist', 'EmailAddress': 'Morgan_Little7676@typill.biz', 'FirstNameLastName': 'Morgan Little', 'CreditCard': '1011-1176-7187-1062', 'CreditCardType': 'Chase'}, {'ID': '162', 'JobTitle': 'Bellman', 'EmailAddress': 'Norah_Thorpe1830@qater.org', 'FirstNameLastName': 'Norah Thorpe', 'CreditCard': '7524-3631-7658-0764', 'CreditCardType': 'Capital One'}, {'ID': '163', 'JobTitle': 'Service Supervisor', 'EmailAddress': 'Daron_Jefferson1096@bretoux.com', 'FirstNameLastName': 'Daron Jefferson', 'CreditCard': '4261-5408-8465-7465', 'CreditCardType': 'Bank of America'}, {'ID': '164', 'JobTitle': 'Lecturer', 'EmailAddress': 'Henry_Fox3843@acrit.org', 'FirstNameLastName': 'Henry Fox', 'CreditCard': '2034-6817-2581-7854', 'CreditCardType': 'MasterCard'}, {'ID': '165', 'JobTitle': 'Loan Officer', 'EmailAddress': 'Doug_Herbert6079@atink.com', 'FirstNameLastName': 'Doug Herbert', 'CreditCard': '0516-7446-0481-3621', 'CreditCardType': 'Chase'}, {'ID': '166', 'JobTitle': 'Call Center Representative', 'EmailAddress': 'Michael_Kennedy8633@hourpy.biz', 'FirstNameLastName': 'Michael Kennedy', 'CreditCard': '1351-5812-2585-6133', 'CreditCardType': 'Discover'}, {'ID': '167', 'JobTitle': 'Software Engineer', 'EmailAddress': 'Stephanie_Potts1575@iatim.tech', 'FirstNameLastName': 'Stephanie Potts', 'CreditCard': '4875-3126-8688-0732', 'CreditCardType': 'Wells Fargo'}, {'ID': '168', 'JobTitle': 'Lecturer', 'EmailAddress': 'Maia_Gray2116@acrit.org', 'FirstNameLastName': 'Maia Gray', 'CreditCard': '7366-7652-3158-7363', 'CreditCardType': 'MasterCard'}, {'ID': '169', 'JobTitle': 'Assistant Buyer', 'EmailAddress': 'Anthony_Hancock9083@qater.org', 'FirstNameLastName': 'Anthony Hancock', 'CreditCard': '0832-3357-6010-6550', 'CreditCardType': 'American Express'}, {'ID': '170', 'JobTitle': 'Pharmacist', 'EmailAddress': 'Grace_Carter6572@nanoff.biz', 'FirstNameLastName': 'Grace Carter', 'CreditCard': '8086-5543-2884-3417', 'CreditCardType': 'Wells Fargo'}, {'ID': '171', 'JobTitle': 'Bellman', 'EmailAddress': 'Liliana_Kelly1630@naiker.biz', 'FirstNameLastName': 'Liliana Kelly', 'CreditCard': '5844-6786-8086-5682', 'CreditCardType': 'Wells Fargo'}, {'ID': '172', 'JobTitle': 'Laboratory Technician', 'EmailAddress': 'Boris_Edley2953@womeona.net', 'FirstNameLastName': 'Boris Edley', 'CreditCard': '7416-4687-4854-8766', 'CreditCardType': 'Wells Fargo'}, {'ID': '173', 'JobTitle': 'Pharmacist', 'EmailAddress': 'Sebastian_Ingram5921@womeona.net', 'FirstNameLastName': 'Sebastian Ingram', 'CreditCard': '8261-2885-8176-0870', 'CreditCardType': 'MasterCard'}, {'ID': '174', 'JobTitle': 'Chef Manager', 'EmailAddress': 'Francesca_Dixon8335@deons.tech', 'FirstNameLastName': 'Francesca Dixon', 'CreditCard': '1626-7806-5478-4472', 'CreditCardType': 'Bank of America'}, {'ID': '175', 'JobTitle': 'Dentist', 'EmailAddress': 'Hannah_Ellison9896@bungar.biz', 'FirstNameLastName': 'Hannah Ellison', 'CreditCard': '5447-5484-2108-2381', 'CreditCardType': 'Citibank'}, {'ID': '176', 'JobTitle': 'Healthcare Specialist', 'EmailAddress': 'Isabella_Willson5478@nanoff.biz', 'FirstNameLastName': 'Isabella Willson', 'CreditCard': '5177-4868-4623-0384', 'CreditCardType': 'American Express'}, {'ID': '177', 'JobTitle': 'Staffing Consultant', 'EmailAddress': 'Bree_Parker1037@mafthy.com', 'FirstNameLastName': 'Bree Parker', 'CreditCard': '5241-1587-3365-2660', 'CreditCardType': 'Citibank'}, {'ID': '178', 'JobTitle': 'Paramedic', 'EmailAddress': 'Adina_Boyle8787@kideod.biz', 'FirstNameLastName': 'Adina Boyle', 'CreditCard': '3648-3118-4266-6708', 'CreditCardType': 'Chase'}, {'ID': '179', 'JobTitle': 'HR Specialist', 'EmailAddress': 'Goldie_Steer3872@iatim.tech', 'FirstNameLastName': 'Goldie Steer', 'CreditCard': '7475-7075-2864-6048', 'CreditCardType': 'Capital One'}, {'ID': '180', 'JobTitle': 'Assistant Buyer', 'EmailAddress': 'Kieth_Emmett4167@nickia.com', 'FirstNameLastName': 'Kieth Emmett', 'CreditCard': '7405-2442-5778-0324', 'CreditCardType': 'Discover'}, {'ID': '181', 'JobTitle': 'Mobile Developer', 'EmailAddress': 'Elijah_Asher6273@gmail.com', 'FirstNameLastName': 'Elijah Asher', 'CreditCard': '0542-0666-7242-3345', 'CreditCardType': 'Citibank'}, {'ID': '182', 'JobTitle': 'Pharmacist', 'EmailAddress': 'Stephanie_Darcy3298@bauros.biz', 'FirstNameLastName': 'Stephanie Darcy', 'CreditCard': '0264-4020-5106-5576', 'CreditCardType': 'American Express'}, {'ID': '183', 'JobTitle': 'Front Desk Coordinator', 'EmailAddress': 'Catherine_Uttridge7292@zorer.org', 'FirstNameLastName': 'Catherine Uttridge', 'CreditCard': '6434-6657-2788-7035', 'CreditCardType': 'Visa'}, {'ID': '184', 'JobTitle': 'Doctor', 'EmailAddress': 'Kurt_Wellington7802@corti.com', 'FirstNameLastName': 'Kurt Wellington', 'CreditCard': '6160-3164-0571-6633', 'CreditCardType': 'UnionPay'}, {'ID': '185', 'JobTitle': 'Web Developer', 'EmailAddress': 'Tony_Rose5831@tonsy.org', 'FirstNameLastName': 'Tony Rose', 'CreditCard': '1560-5872-1473-1501', 'CreditCardType': 'Discover'}, {'ID': '186', 'JobTitle': 'Food Technologist', 'EmailAddress': 'Rocco_Redwood583@iatim.tech', 'FirstNameLastName': 'Rocco Redwood', 'CreditCard': '8834-0805-2035-3324', 'CreditCardType': 'Capital One'}, {'ID': '187', 'JobTitle': 'Bookkeeper', 'EmailAddress': 'Joy_Walsh1627@brety.org', 'FirstNameLastName': 'Joy Walsh', 'CreditCard': '1586-3878-2222-0582', 'CreditCardType': 'Maestro'}, {'ID': '188', 'JobTitle': 'Pharmacist', 'EmailAddress': 'Wade_Holmes7255@twipet.com', 'FirstNameLastName': 'Wade Holmes', 'CreditCard': '4728-4782-3285-0100', 'CreditCardType': 'Capital One'}, {'ID': '189', 'JobTitle': 'Treasurer', 'EmailAddress': 'Chester_James7934@corti.com', 'FirstNameLastName': 'Chester James', 'CreditCard': '0424-4527-1238-2584', 'CreditCardType': 'Wells Fargo'}, {'ID': '190', 'JobTitle': 'Accountant', 'EmailAddress': 'Ivy_Driscoll8949@grannar.com', 'FirstNameLastName': 'Ivy Driscoll', 'CreditCard': '7882-8612-1056-4741', 'CreditCardType': 'Visa'}, {'ID': '191', 'JobTitle': 'Loan Officer', 'EmailAddress': 'Gabriel_Flett5372@atink.com', 'FirstNameLastName': 'Gabriel Flett', 'CreditCard': '5535-1852-5140-5740', 'CreditCardType': 'UnionPay'}, {'ID': '192', 'JobTitle': 'Assistant Buyer', 'EmailAddress': 'Oliver_Knight4399@fuliss.net', 'FirstNameLastName': 'Oliver Knight', 'CreditCard': '7330-2356-8252-0807', 'CreditCardType': 'Chase'}, {'ID': '193', 'JobTitle': 'IT Support Staff', 'EmailAddress': 'Eden_Crawford5855@acrit.org', 'FirstNameLastName': 'Eden Crawford', 'CreditCard': '4483-2474-2212-3628', 'CreditCardType': 'Capital One'}, {'ID': '194', 'JobTitle': 'Mobile Developer', 'EmailAddress': 'Maia_Archer6553@qater.org', 'FirstNameLastName': 'Maia Archer', 'CreditCard': '5456-1380-4338-6641', 'CreditCardType': 'Wells Fargo'}, {'ID': '195', 'JobTitle': 'Project Manager', 'EmailAddress': 'Nicholas_Stubbs3276@vetan.org', 'FirstNameLastName': 'Nicholas Stubbs', 'CreditCard': '1414-2546-6072-2757', 'CreditCardType': 'Citibank'}, {'ID': '196', 'JobTitle': 'Loan Officer', 'EmailAddress': 'Wade_Khan6086@twipet.com', 'FirstNameLastName': 'Wade Khan', 'CreditCard': '1363-2250-6020-4481', 'CreditCardType': 'Capital One'}, {'ID': '197', 'JobTitle': 'Cook', 'EmailAddress': 'Ally_Rose8531@twace.org', 'FirstNameLastName': 'Ally Rose', 'CreditCard': '6056-7620-3676-2804', 'CreditCardType': 'Maestro'}, {'ID': '198', 'JobTitle': 'Machine Operator', 'EmailAddress': 'Harvey_Moore7505@extex.org', 'FirstNameLastName': 'Harvey Moore', 'CreditCard': '4353-7464-5078-5485', 'CreditCardType': 'UnionPay'}, {'ID': '199', 'JobTitle': 'Investment  Advisor', 'EmailAddress': 'Ryan_Kennedy5565@corti.com', 'FirstNameLastName': 'Ryan Kennedy', 'CreditCard': '3166-6287-6242-7207', 'CreditCardType': 'American Express'}, {'ID': '200', 'JobTitle': 'Stockbroker', 'EmailAddress': 'Michaela_Murphy8359@ovock.tech', 'FirstNameLastName': 'Michaela Murphy', 'CreditCard': '4783-1022-5267-5557', 'CreditCardType': 'Discover'}]\n"
          ]
        }
      ]
    },
    {
      "cell_type": "code",
      "source": [
        "l=[]\n",
        "for dic in data:\n",
        "  if dic[\"CreditCardType\"]==\"American Express\":\n",
        "    l.append(dic)\n",
        "\n",
        "df=pd.DataFrame(l)\n",
        "df.to_csv('./user_data.csv')"
      ],
      "metadata": {
        "id": "QDSRTH22RU1N"
      },
      "execution_count": 9,
      "outputs": []
    },
    {
      "cell_type": "markdown",
      "metadata": {
        "id": "cLmIwWRIIpQu"
      },
      "source": [
        "3\\. **CSV files with Pandas**\n",
        "\n",
        "Load the file from this url:\n",
        "\n",
        "- https://www.dropbox.com/s/kgshemfgk22iy79/mushrooms_categorized.csv\n",
        "\n",
        "with Pandas. \n",
        "\n",
        "+ explore and print the DataFrame\n",
        "+ calculate, using `groupby()`, the average value of each feature, separately for each class\n",
        "+ save the file in a JSON format."
      ]
    },
    {
      "cell_type": "code",
      "source": [
        "!wget https://www.dropbox.com/s/kgshemfgk22iy79/mushrooms_categorized.csv"
      ],
      "metadata": {
        "colab": {
          "base_uri": "https://localhost:8080/"
        },
        "id": "D2yRJbGDRT_C",
        "outputId": "e4bef913-2565-4634-c561-a8f839181c27"
      },
      "execution_count": 10,
      "outputs": [
        {
          "output_type": "stream",
          "name": "stdout",
          "text": [
            "--2022-12-01 10:01:41--  https://www.dropbox.com/s/kgshemfgk22iy79/mushrooms_categorized.csv\n",
            "Resolving www.dropbox.com (www.dropbox.com)... 162.125.5.18, 2620:100:601b:18::a27d:812\n",
            "Connecting to www.dropbox.com (www.dropbox.com)|162.125.5.18|:443... connected.\n",
            "HTTP request sent, awaiting response... 302 Found\n",
            "Location: /s/raw/kgshemfgk22iy79/mushrooms_categorized.csv [following]\n",
            "--2022-12-01 10:01:41--  https://www.dropbox.com/s/raw/kgshemfgk22iy79/mushrooms_categorized.csv\n",
            "Reusing existing connection to www.dropbox.com:443.\n",
            "HTTP request sent, awaiting response... 302 Found\n",
            "Location: https://uca6bbac38fba308a5aaec72c162.dl.dropboxusercontent.com/cd/0/inline/Bxxh5KrTQxQXnxHZKECwCcBjWUay_ru6EL054S54GygQNUIzCdGNbPHrGc5Pf6ap8RfsWJb9-zPQB_cBaO5B9S8kbOS1FYMaaz5Qa0gAAV670B_Zndy6Kr38DPsFpQ3p86Vw7rwyV5Q5MUFzxpdgl96lmt9EXi6sqYPhxHJwqE7_PA/file# [following]\n",
            "--2022-12-01 10:01:42--  https://uca6bbac38fba308a5aaec72c162.dl.dropboxusercontent.com/cd/0/inline/Bxxh5KrTQxQXnxHZKECwCcBjWUay_ru6EL054S54GygQNUIzCdGNbPHrGc5Pf6ap8RfsWJb9-zPQB_cBaO5B9S8kbOS1FYMaaz5Qa0gAAV670B_Zndy6Kr38DPsFpQ3p86Vw7rwyV5Q5MUFzxpdgl96lmt9EXi6sqYPhxHJwqE7_PA/file\n",
            "Resolving uca6bbac38fba308a5aaec72c162.dl.dropboxusercontent.com (uca6bbac38fba308a5aaec72c162.dl.dropboxusercontent.com)... 162.125.8.15, 2620:100:601f:15::a27d:90f\n",
            "Connecting to uca6bbac38fba308a5aaec72c162.dl.dropboxusercontent.com (uca6bbac38fba308a5aaec72c162.dl.dropboxusercontent.com)|162.125.8.15|:443... connected.\n",
            "HTTP request sent, awaiting response... 200 OK\n",
            "Length: 375292 (366K) [text/plain]\n",
            "Saving to: ‘mushrooms_categorized.csv’\n",
            "\n",
            "mushrooms_categoriz 100%[===================>] 366.50K  --.-KB/s    in 0.1s    \n",
            "\n",
            "2022-12-01 10:01:42 (2.84 MB/s) - ‘mushrooms_categorized.csv’ saved [375292/375292]\n",
            "\n"
          ]
        }
      ]
    },
    {
      "cell_type": "code",
      "execution_count": 11,
      "metadata": {
        "colab": {
          "base_uri": "https://localhost:8080/",
          "height": 352
        },
        "id": "Zc6p6OAWIpQv",
        "outputId": "9ce1dbf7-fcff-40ae-9c6d-d19773b3eae4"
      },
      "outputs": [
        {
          "output_type": "execute_result",
          "data": {
            "text/plain": [
              "   class  cap-shape  cap-surface  cap-color  bruises  odor  gill-attachment  \\\n",
              "0      1          5            2          4        1     6                1   \n",
              "1      0          5            2          9        1     0                1   \n",
              "2      0          0            2          8        1     3                1   \n",
              "3      1          5            3          8        1     6                1   \n",
              "4      0          5            2          3        0     5                1   \n",
              "\n",
              "   gill-spacing  gill-size  gill-color  ...  stalk-surface-below-ring  \\\n",
              "0             0          1           4  ...                         2   \n",
              "1             0          0           4  ...                         2   \n",
              "2             0          0           5  ...                         2   \n",
              "3             0          1           5  ...                         2   \n",
              "4             1          0           4  ...                         2   \n",
              "\n",
              "   stalk-color-above-ring  stalk-color-below-ring  veil-type  veil-color  \\\n",
              "0                       7                       7          0           2   \n",
              "1                       7                       7          0           2   \n",
              "2                       7                       7          0           2   \n",
              "3                       7                       7          0           2   \n",
              "4                       7                       7          0           2   \n",
              "\n",
              "   ring-number  ring-type  spore-print-color  population  habitat  \n",
              "0            1          4                  2           3        5  \n",
              "1            1          4                  3           2        1  \n",
              "2            1          4                  3           2        3  \n",
              "3            1          4                  2           3        5  \n",
              "4            1          0                  3           0        1  \n",
              "\n",
              "[5 rows x 23 columns]"
            ],
            "text/html": [
              "\n",
              "  <div id=\"df-3e7fe93a-9d28-4fab-8729-4c46d20c92ff\">\n",
              "    <div class=\"colab-df-container\">\n",
              "      <div>\n",
              "<style scoped>\n",
              "    .dataframe tbody tr th:only-of-type {\n",
              "        vertical-align: middle;\n",
              "    }\n",
              "\n",
              "    .dataframe tbody tr th {\n",
              "        vertical-align: top;\n",
              "    }\n",
              "\n",
              "    .dataframe thead th {\n",
              "        text-align: right;\n",
              "    }\n",
              "</style>\n",
              "<table border=\"1\" class=\"dataframe\">\n",
              "  <thead>\n",
              "    <tr style=\"text-align: right;\">\n",
              "      <th></th>\n",
              "      <th>class</th>\n",
              "      <th>cap-shape</th>\n",
              "      <th>cap-surface</th>\n",
              "      <th>cap-color</th>\n",
              "      <th>bruises</th>\n",
              "      <th>odor</th>\n",
              "      <th>gill-attachment</th>\n",
              "      <th>gill-spacing</th>\n",
              "      <th>gill-size</th>\n",
              "      <th>gill-color</th>\n",
              "      <th>...</th>\n",
              "      <th>stalk-surface-below-ring</th>\n",
              "      <th>stalk-color-above-ring</th>\n",
              "      <th>stalk-color-below-ring</th>\n",
              "      <th>veil-type</th>\n",
              "      <th>veil-color</th>\n",
              "      <th>ring-number</th>\n",
              "      <th>ring-type</th>\n",
              "      <th>spore-print-color</th>\n",
              "      <th>population</th>\n",
              "      <th>habitat</th>\n",
              "    </tr>\n",
              "  </thead>\n",
              "  <tbody>\n",
              "    <tr>\n",
              "      <th>0</th>\n",
              "      <td>1</td>\n",
              "      <td>5</td>\n",
              "      <td>2</td>\n",
              "      <td>4</td>\n",
              "      <td>1</td>\n",
              "      <td>6</td>\n",
              "      <td>1</td>\n",
              "      <td>0</td>\n",
              "      <td>1</td>\n",
              "      <td>4</td>\n",
              "      <td>...</td>\n",
              "      <td>2</td>\n",
              "      <td>7</td>\n",
              "      <td>7</td>\n",
              "      <td>0</td>\n",
              "      <td>2</td>\n",
              "      <td>1</td>\n",
              "      <td>4</td>\n",
              "      <td>2</td>\n",
              "      <td>3</td>\n",
              "      <td>5</td>\n",
              "    </tr>\n",
              "    <tr>\n",
              "      <th>1</th>\n",
              "      <td>0</td>\n",
              "      <td>5</td>\n",
              "      <td>2</td>\n",
              "      <td>9</td>\n",
              "      <td>1</td>\n",
              "      <td>0</td>\n",
              "      <td>1</td>\n",
              "      <td>0</td>\n",
              "      <td>0</td>\n",
              "      <td>4</td>\n",
              "      <td>...</td>\n",
              "      <td>2</td>\n",
              "      <td>7</td>\n",
              "      <td>7</td>\n",
              "      <td>0</td>\n",
              "      <td>2</td>\n",
              "      <td>1</td>\n",
              "      <td>4</td>\n",
              "      <td>3</td>\n",
              "      <td>2</td>\n",
              "      <td>1</td>\n",
              "    </tr>\n",
              "    <tr>\n",
              "      <th>2</th>\n",
              "      <td>0</td>\n",
              "      <td>0</td>\n",
              "      <td>2</td>\n",
              "      <td>8</td>\n",
              "      <td>1</td>\n",
              "      <td>3</td>\n",
              "      <td>1</td>\n",
              "      <td>0</td>\n",
              "      <td>0</td>\n",
              "      <td>5</td>\n",
              "      <td>...</td>\n",
              "      <td>2</td>\n",
              "      <td>7</td>\n",
              "      <td>7</td>\n",
              "      <td>0</td>\n",
              "      <td>2</td>\n",
              "      <td>1</td>\n",
              "      <td>4</td>\n",
              "      <td>3</td>\n",
              "      <td>2</td>\n",
              "      <td>3</td>\n",
              "    </tr>\n",
              "    <tr>\n",
              "      <th>3</th>\n",
              "      <td>1</td>\n",
              "      <td>5</td>\n",
              "      <td>3</td>\n",
              "      <td>8</td>\n",
              "      <td>1</td>\n",
              "      <td>6</td>\n",
              "      <td>1</td>\n",
              "      <td>0</td>\n",
              "      <td>1</td>\n",
              "      <td>5</td>\n",
              "      <td>...</td>\n",
              "      <td>2</td>\n",
              "      <td>7</td>\n",
              "      <td>7</td>\n",
              "      <td>0</td>\n",
              "      <td>2</td>\n",
              "      <td>1</td>\n",
              "      <td>4</td>\n",
              "      <td>2</td>\n",
              "      <td>3</td>\n",
              "      <td>5</td>\n",
              "    </tr>\n",
              "    <tr>\n",
              "      <th>4</th>\n",
              "      <td>0</td>\n",
              "      <td>5</td>\n",
              "      <td>2</td>\n",
              "      <td>3</td>\n",
              "      <td>0</td>\n",
              "      <td>5</td>\n",
              "      <td>1</td>\n",
              "      <td>1</td>\n",
              "      <td>0</td>\n",
              "      <td>4</td>\n",
              "      <td>...</td>\n",
              "      <td>2</td>\n",
              "      <td>7</td>\n",
              "      <td>7</td>\n",
              "      <td>0</td>\n",
              "      <td>2</td>\n",
              "      <td>1</td>\n",
              "      <td>0</td>\n",
              "      <td>3</td>\n",
              "      <td>0</td>\n",
              "      <td>1</td>\n",
              "    </tr>\n",
              "  </tbody>\n",
              "</table>\n",
              "<p>5 rows × 23 columns</p>\n",
              "</div>\n",
              "      <button class=\"colab-df-convert\" onclick=\"convertToInteractive('df-3e7fe93a-9d28-4fab-8729-4c46d20c92ff')\"\n",
              "              title=\"Convert this dataframe to an interactive table.\"\n",
              "              style=\"display:none;\">\n",
              "        \n",
              "  <svg xmlns=\"http://www.w3.org/2000/svg\" height=\"24px\"viewBox=\"0 0 24 24\"\n",
              "       width=\"24px\">\n",
              "    <path d=\"M0 0h24v24H0V0z\" fill=\"none\"/>\n",
              "    <path d=\"M18.56 5.44l.94 2.06.94-2.06 2.06-.94-2.06-.94-.94-2.06-.94 2.06-2.06.94zm-11 1L8.5 8.5l.94-2.06 2.06-.94-2.06-.94L8.5 2.5l-.94 2.06-2.06.94zm10 10l.94 2.06.94-2.06 2.06-.94-2.06-.94-.94-2.06-.94 2.06-2.06.94z\"/><path d=\"M17.41 7.96l-1.37-1.37c-.4-.4-.92-.59-1.43-.59-.52 0-1.04.2-1.43.59L10.3 9.45l-7.72 7.72c-.78.78-.78 2.05 0 2.83L4 21.41c.39.39.9.59 1.41.59.51 0 1.02-.2 1.41-.59l7.78-7.78 2.81-2.81c.8-.78.8-2.07 0-2.86zM5.41 20L4 18.59l7.72-7.72 1.47 1.35L5.41 20z\"/>\n",
              "  </svg>\n",
              "      </button>\n",
              "      \n",
              "  <style>\n",
              "    .colab-df-container {\n",
              "      display:flex;\n",
              "      flex-wrap:wrap;\n",
              "      gap: 12px;\n",
              "    }\n",
              "\n",
              "    .colab-df-convert {\n",
              "      background-color: #E8F0FE;\n",
              "      border: none;\n",
              "      border-radius: 50%;\n",
              "      cursor: pointer;\n",
              "      display: none;\n",
              "      fill: #1967D2;\n",
              "      height: 32px;\n",
              "      padding: 0 0 0 0;\n",
              "      width: 32px;\n",
              "    }\n",
              "\n",
              "    .colab-df-convert:hover {\n",
              "      background-color: #E2EBFA;\n",
              "      box-shadow: 0px 1px 2px rgba(60, 64, 67, 0.3), 0px 1px 3px 1px rgba(60, 64, 67, 0.15);\n",
              "      fill: #174EA6;\n",
              "    }\n",
              "\n",
              "    [theme=dark] .colab-df-convert {\n",
              "      background-color: #3B4455;\n",
              "      fill: #D2E3FC;\n",
              "    }\n",
              "\n",
              "    [theme=dark] .colab-df-convert:hover {\n",
              "      background-color: #434B5C;\n",
              "      box-shadow: 0px 1px 3px 1px rgba(0, 0, 0, 0.15);\n",
              "      filter: drop-shadow(0px 1px 2px rgba(0, 0, 0, 0.3));\n",
              "      fill: #FFFFFF;\n",
              "    }\n",
              "  </style>\n",
              "\n",
              "      <script>\n",
              "        const buttonEl =\n",
              "          document.querySelector('#df-3e7fe93a-9d28-4fab-8729-4c46d20c92ff button.colab-df-convert');\n",
              "        buttonEl.style.display =\n",
              "          google.colab.kernel.accessAllowed ? 'block' : 'none';\n",
              "\n",
              "        async function convertToInteractive(key) {\n",
              "          const element = document.querySelector('#df-3e7fe93a-9d28-4fab-8729-4c46d20c92ff');\n",
              "          const dataTable =\n",
              "            await google.colab.kernel.invokeFunction('convertToInteractive',\n",
              "                                                     [key], {});\n",
              "          if (!dataTable) return;\n",
              "\n",
              "          const docLinkHtml = 'Like what you see? Visit the ' +\n",
              "            '<a target=\"_blank\" href=https://colab.research.google.com/notebooks/data_table.ipynb>data table notebook</a>'\n",
              "            + ' to learn more about interactive tables.';\n",
              "          element.innerHTML = '';\n",
              "          dataTable['output_type'] = 'display_data';\n",
              "          await google.colab.output.renderOutput(dataTable, element);\n",
              "          const docLink = document.createElement('div');\n",
              "          docLink.innerHTML = docLinkHtml;\n",
              "          element.appendChild(docLink);\n",
              "        }\n",
              "      </script>\n",
              "    </div>\n",
              "  </div>\n",
              "  "
            ]
          },
          "metadata": {},
          "execution_count": 11
        }
      ],
      "source": [
        "df=pd.read_csv('mushrooms_categorized.csv')\n",
        "df.head()"
      ]
    },
    {
      "cell_type": "code",
      "source": [
        "df1=df.groupby(['class']).mean()\n",
        "df1"
      ],
      "metadata": {
        "colab": {
          "base_uri": "https://localhost:8080/",
          "height": 289
        },
        "id": "k3eca8V-VQhi",
        "outputId": "9339a9a0-0fcf-4398-c098-32c97821d851"
      },
      "execution_count": 13,
      "outputs": [
        {
          "output_type": "execute_result",
          "data": {
            "text/plain": [
              "       cap-shape  cap-surface  cap-color   bruises      odor  gill-attachment  \\\n",
              "class                                                                           \n",
              "0       3.266160     1.615970   4.581749  0.653992  4.334601         0.954373   \n",
              "1       3.436159     2.055158   4.421859  0.159346  3.940756         0.995403   \n",
              "\n",
              "       gill-spacing  gill-size  gill-color  stalk-shape  ...  \\\n",
              "class                                                    ...   \n",
              "0          0.285171   0.068441    6.622624     0.615970  ...   \n",
              "1          0.028601   0.567926    2.863636     0.514811  ...   \n",
              "\n",
              "       stalk-surface-below-ring  stalk-color-above-ring  \\\n",
              "class                                                     \n",
              "0                      1.798479                6.098859   \n",
              "1                      1.394280                5.512768   \n",
              "\n",
              "       stalk-color-below-ring  veil-type  veil-color  ring-number  ring-type  \\\n",
              "class                                                                          \n",
              "0                    6.064639        0.0    1.931559     1.125475   3.007605   \n",
              "1                    5.504597        0.0    2.002043     1.009193   1.522983   \n",
              "\n",
              "       spore-print-color  population   habitat  \n",
              "class                                           \n",
              "0               3.201521    3.283270  1.148289  \n",
              "1               4.021450    4.031665  1.895812  \n",
              "\n",
              "[2 rows x 22 columns]"
            ],
            "text/html": [
              "\n",
              "  <div id=\"df-c1cd55f8-2db8-4277-a58e-3a5a6e7efacc\">\n",
              "    <div class=\"colab-df-container\">\n",
              "      <div>\n",
              "<style scoped>\n",
              "    .dataframe tbody tr th:only-of-type {\n",
              "        vertical-align: middle;\n",
              "    }\n",
              "\n",
              "    .dataframe tbody tr th {\n",
              "        vertical-align: top;\n",
              "    }\n",
              "\n",
              "    .dataframe thead th {\n",
              "        text-align: right;\n",
              "    }\n",
              "</style>\n",
              "<table border=\"1\" class=\"dataframe\">\n",
              "  <thead>\n",
              "    <tr style=\"text-align: right;\">\n",
              "      <th></th>\n",
              "      <th>cap-shape</th>\n",
              "      <th>cap-surface</th>\n",
              "      <th>cap-color</th>\n",
              "      <th>bruises</th>\n",
              "      <th>odor</th>\n",
              "      <th>gill-attachment</th>\n",
              "      <th>gill-spacing</th>\n",
              "      <th>gill-size</th>\n",
              "      <th>gill-color</th>\n",
              "      <th>stalk-shape</th>\n",
              "      <th>...</th>\n",
              "      <th>stalk-surface-below-ring</th>\n",
              "      <th>stalk-color-above-ring</th>\n",
              "      <th>stalk-color-below-ring</th>\n",
              "      <th>veil-type</th>\n",
              "      <th>veil-color</th>\n",
              "      <th>ring-number</th>\n",
              "      <th>ring-type</th>\n",
              "      <th>spore-print-color</th>\n",
              "      <th>population</th>\n",
              "      <th>habitat</th>\n",
              "    </tr>\n",
              "    <tr>\n",
              "      <th>class</th>\n",
              "      <th></th>\n",
              "      <th></th>\n",
              "      <th></th>\n",
              "      <th></th>\n",
              "      <th></th>\n",
              "      <th></th>\n",
              "      <th></th>\n",
              "      <th></th>\n",
              "      <th></th>\n",
              "      <th></th>\n",
              "      <th></th>\n",
              "      <th></th>\n",
              "      <th></th>\n",
              "      <th></th>\n",
              "      <th></th>\n",
              "      <th></th>\n",
              "      <th></th>\n",
              "      <th></th>\n",
              "      <th></th>\n",
              "      <th></th>\n",
              "      <th></th>\n",
              "    </tr>\n",
              "  </thead>\n",
              "  <tbody>\n",
              "    <tr>\n",
              "      <th>0</th>\n",
              "      <td>3.266160</td>\n",
              "      <td>1.615970</td>\n",
              "      <td>4.581749</td>\n",
              "      <td>0.653992</td>\n",
              "      <td>4.334601</td>\n",
              "      <td>0.954373</td>\n",
              "      <td>0.285171</td>\n",
              "      <td>0.068441</td>\n",
              "      <td>6.622624</td>\n",
              "      <td>0.615970</td>\n",
              "      <td>...</td>\n",
              "      <td>1.798479</td>\n",
              "      <td>6.098859</td>\n",
              "      <td>6.064639</td>\n",
              "      <td>0.0</td>\n",
              "      <td>1.931559</td>\n",
              "      <td>1.125475</td>\n",
              "      <td>3.007605</td>\n",
              "      <td>3.201521</td>\n",
              "      <td>3.283270</td>\n",
              "      <td>1.148289</td>\n",
              "    </tr>\n",
              "    <tr>\n",
              "      <th>1</th>\n",
              "      <td>3.436159</td>\n",
              "      <td>2.055158</td>\n",
              "      <td>4.421859</td>\n",
              "      <td>0.159346</td>\n",
              "      <td>3.940756</td>\n",
              "      <td>0.995403</td>\n",
              "      <td>0.028601</td>\n",
              "      <td>0.567926</td>\n",
              "      <td>2.863636</td>\n",
              "      <td>0.514811</td>\n",
              "      <td>...</td>\n",
              "      <td>1.394280</td>\n",
              "      <td>5.512768</td>\n",
              "      <td>5.504597</td>\n",
              "      <td>0.0</td>\n",
              "      <td>2.002043</td>\n",
              "      <td>1.009193</td>\n",
              "      <td>1.522983</td>\n",
              "      <td>4.021450</td>\n",
              "      <td>4.031665</td>\n",
              "      <td>1.895812</td>\n",
              "    </tr>\n",
              "  </tbody>\n",
              "</table>\n",
              "<p>2 rows × 22 columns</p>\n",
              "</div>\n",
              "      <button class=\"colab-df-convert\" onclick=\"convertToInteractive('df-c1cd55f8-2db8-4277-a58e-3a5a6e7efacc')\"\n",
              "              title=\"Convert this dataframe to an interactive table.\"\n",
              "              style=\"display:none;\">\n",
              "        \n",
              "  <svg xmlns=\"http://www.w3.org/2000/svg\" height=\"24px\"viewBox=\"0 0 24 24\"\n",
              "       width=\"24px\">\n",
              "    <path d=\"M0 0h24v24H0V0z\" fill=\"none\"/>\n",
              "    <path d=\"M18.56 5.44l.94 2.06.94-2.06 2.06-.94-2.06-.94-.94-2.06-.94 2.06-2.06.94zm-11 1L8.5 8.5l.94-2.06 2.06-.94-2.06-.94L8.5 2.5l-.94 2.06-2.06.94zm10 10l.94 2.06.94-2.06 2.06-.94-2.06-.94-.94-2.06-.94 2.06-2.06.94z\"/><path d=\"M17.41 7.96l-1.37-1.37c-.4-.4-.92-.59-1.43-.59-.52 0-1.04.2-1.43.59L10.3 9.45l-7.72 7.72c-.78.78-.78 2.05 0 2.83L4 21.41c.39.39.9.59 1.41.59.51 0 1.02-.2 1.41-.59l7.78-7.78 2.81-2.81c.8-.78.8-2.07 0-2.86zM5.41 20L4 18.59l7.72-7.72 1.47 1.35L5.41 20z\"/>\n",
              "  </svg>\n",
              "      </button>\n",
              "      \n",
              "  <style>\n",
              "    .colab-df-container {\n",
              "      display:flex;\n",
              "      flex-wrap:wrap;\n",
              "      gap: 12px;\n",
              "    }\n",
              "\n",
              "    .colab-df-convert {\n",
              "      background-color: #E8F0FE;\n",
              "      border: none;\n",
              "      border-radius: 50%;\n",
              "      cursor: pointer;\n",
              "      display: none;\n",
              "      fill: #1967D2;\n",
              "      height: 32px;\n",
              "      padding: 0 0 0 0;\n",
              "      width: 32px;\n",
              "    }\n",
              "\n",
              "    .colab-df-convert:hover {\n",
              "      background-color: #E2EBFA;\n",
              "      box-shadow: 0px 1px 2px rgba(60, 64, 67, 0.3), 0px 1px 3px 1px rgba(60, 64, 67, 0.15);\n",
              "      fill: #174EA6;\n",
              "    }\n",
              "\n",
              "    [theme=dark] .colab-df-convert {\n",
              "      background-color: #3B4455;\n",
              "      fill: #D2E3FC;\n",
              "    }\n",
              "\n",
              "    [theme=dark] .colab-df-convert:hover {\n",
              "      background-color: #434B5C;\n",
              "      box-shadow: 0px 1px 3px 1px rgba(0, 0, 0, 0.15);\n",
              "      filter: drop-shadow(0px 1px 2px rgba(0, 0, 0, 0.3));\n",
              "      fill: #FFFFFF;\n",
              "    }\n",
              "  </style>\n",
              "\n",
              "      <script>\n",
              "        const buttonEl =\n",
              "          document.querySelector('#df-c1cd55f8-2db8-4277-a58e-3a5a6e7efacc button.colab-df-convert');\n",
              "        buttonEl.style.display =\n",
              "          google.colab.kernel.accessAllowed ? 'block' : 'none';\n",
              "\n",
              "        async function convertToInteractive(key) {\n",
              "          const element = document.querySelector('#df-c1cd55f8-2db8-4277-a58e-3a5a6e7efacc');\n",
              "          const dataTable =\n",
              "            await google.colab.kernel.invokeFunction('convertToInteractive',\n",
              "                                                     [key], {});\n",
              "          if (!dataTable) return;\n",
              "\n",
              "          const docLinkHtml = 'Like what you see? Visit the ' +\n",
              "            '<a target=\"_blank\" href=https://colab.research.google.com/notebooks/data_table.ipynb>data table notebook</a>'\n",
              "            + ' to learn more about interactive tables.';\n",
              "          element.innerHTML = '';\n",
              "          dataTable['output_type'] = 'display_data';\n",
              "          await google.colab.output.renderOutput(dataTable, element);\n",
              "          const docLink = document.createElement('div');\n",
              "          docLink.innerHTML = docLinkHtml;\n",
              "          element.appendChild(docLink);\n",
              "        }\n",
              "      </script>\n",
              "    </div>\n",
              "  </div>\n",
              "  "
            ]
          },
          "metadata": {},
          "execution_count": 13
        }
      ]
    },
    {
      "cell_type": "code",
      "source": [
        "df1.to_json('mushrooms_categorized_means.json')\n",
        "!cat mushrooms_categorized_means.json"
      ],
      "metadata": {
        "colab": {
          "base_uri": "https://localhost:8080/"
        },
        "id": "o7JccDYkV-3o",
        "outputId": "8b8ceaf7-91f3-457b-8422-857de442a8de"
      },
      "execution_count": 14,
      "outputs": [
        {
          "output_type": "stream",
          "name": "stdout",
          "text": [
            "{\"cap-shape\":{\"0\":3.2661596958,\"1\":3.4361593463},\"cap-surface\":{\"0\":1.6159695817,\"1\":2.0551583248},\"cap-color\":{\"0\":4.5817490494,\"1\":4.4218590398},\"bruises\":{\"0\":0.6539923954,\"1\":0.1593462717},\"odor\":{\"0\":4.3346007605,\"1\":3.9407558733},\"gill-attachment\":{\"0\":0.9543726236,\"1\":0.9954034729},\"gill-spacing\":{\"0\":0.2851711027,\"1\":0.0286006129},\"gill-size\":{\"0\":0.0684410646,\"1\":0.5679264556},\"gill-color\":{\"0\":6.6226235741,\"1\":2.8636363636},\"stalk-shape\":{\"0\":0.6159695817,\"1\":0.5148110317},\"stalk-root\":{\"0\":1.4980988593,\"1\":0.6925434116},\"stalk-surface-above-ring\":{\"0\":1.7756653992,\"1\":1.3595505618},\"stalk-surface-below-ring\":{\"0\":1.7984790875,\"1\":1.3942798774},\"stalk-color-above-ring\":{\"0\":6.0988593156,\"1\":5.5127681307},\"stalk-color-below-ring\":{\"0\":6.0646387833,\"1\":5.5045965271},\"veil-type\":{\"0\":0.0,\"1\":0.0},\"veil-color\":{\"0\":1.9315589354,\"1\":2.0020429009},\"ring-number\":{\"0\":1.1254752852,\"1\":1.0091930541},\"ring-type\":{\"0\":3.0076045627,\"1\":1.5229826353},\"spore-print-color\":{\"0\":3.2015209125,\"1\":4.0214504597},\"population\":{\"0\":3.283269962,\"1\":4.0316649642},\"habitat\":{\"0\":1.1482889734,\"1\":1.8958120531}}"
          ]
        }
      ]
    },
    {
      "cell_type": "markdown",
      "metadata": {
        "id": "bHf_69xsIpQv"
      },
      "source": [
        "4\\. **Reading the credit card numbers**\n",
        "\n",
        "Get the binary file named *credit_card.dat* from this address:\n",
        "\n",
        "- https://www.dropbox.com/s/8m0syw2tkul3dap/credit_card.dat\n",
        "\n",
        "and convert the data into the real credit card number, knowing that:\n",
        "- each line corresponds to a credit card number, which consists of 16 characters (which are numbers in the 0-9 range) divided in 4 blocks, with a whitespace between each block\n",
        "- each character is written using a 6 bit binary representation (including the whitespace)\n",
        "- the final 4 bits of each line are a padding used to determine the end of the line, and can be ignored\n",
        "\n",
        "*Hint*: convert the binary numbers to the decimal representation first, and then use the `chr()` function to convert the latter to a char"
      ]
    },
    {
      "cell_type": "code",
      "execution_count": 15,
      "metadata": {
        "colab": {
          "base_uri": "https://localhost:8080/"
        },
        "id": "iewvF4nVIpQw",
        "outputId": "a2fa66ae-a52c-4900-bf4a-66b848e49ccc"
      },
      "outputs": [
        {
          "output_type": "stream",
          "name": "stdout",
          "text": [
            "--2022-12-01 10:02:59--  https://www.dropbox.com/s/8m0syw2tkul3dap/credit_card.dat\n",
            "Resolving www.dropbox.com (www.dropbox.com)... 162.125.5.18, 2620:100:601d:18::a27d:512\n",
            "Connecting to www.dropbox.com (www.dropbox.com)|162.125.5.18|:443... connected.\n",
            "HTTP request sent, awaiting response... 302 Found\n",
            "Location: /s/raw/8m0syw2tkul3dap/credit_card.dat [following]\n",
            "--2022-12-01 10:03:00--  https://www.dropbox.com/s/raw/8m0syw2tkul3dap/credit_card.dat\n",
            "Reusing existing connection to www.dropbox.com:443.\n",
            "HTTP request sent, awaiting response... 302 Found\n",
            "Location: https://uc1054f764be0cf7350850822281.dl.dropboxusercontent.com/cd/0/inline/BxyCZgDsycsPjMgtGYYwKagpj9WxSI7H4R7rJadmGZPBz1zNwZtMtAHGdQIBf-XESEXk_jklTyv1Zqq21EOXkQnT51mtywvGVHaLRHUNSkomvXfQvgXb00YXD_ZdDStwUtptyO_YADkSjEC4bCVPy6_IP23oyAXXOfgc6AJ5hw4fNg/file# [following]\n",
            "--2022-12-01 10:03:00--  https://uc1054f764be0cf7350850822281.dl.dropboxusercontent.com/cd/0/inline/BxyCZgDsycsPjMgtGYYwKagpj9WxSI7H4R7rJadmGZPBz1zNwZtMtAHGdQIBf-XESEXk_jklTyv1Zqq21EOXkQnT51mtywvGVHaLRHUNSkomvXfQvgXb00YXD_ZdDStwUtptyO_YADkSjEC4bCVPy6_IP23oyAXXOfgc6AJ5hw4fNg/file\n",
            "Resolving uc1054f764be0cf7350850822281.dl.dropboxusercontent.com (uc1054f764be0cf7350850822281.dl.dropboxusercontent.com)... 162.125.5.15, 2620:100:601d:15::a27d:50f\n",
            "Connecting to uc1054f764be0cf7350850822281.dl.dropboxusercontent.com (uc1054f764be0cf7350850822281.dl.dropboxusercontent.com)|162.125.5.15|:443... connected.\n",
            "HTTP request sent, awaiting response... 302 Found\n",
            "Location: /cd/0/inline2/BxzpTkVZpESElWVdXU0iot0Yp4TrJ0q7UbFOIfLz2PMa64QTQuybADOORr2C0O0qlznnRNGpXty2bodxUUJjL3_uoXMjzxfzKTN_yEXEYFyn5_dxtkcDStE-E9HWJcWi8NFXoD7GOe0sEH9sK0XeM1DIV3Wvfn_AeNHKTgJoLo3AXJ3ufjnyaQFo4BhA37jWLBXfR9pm_W66P617LfvAtPsJ0frwRKlojRL0Vk5dzdeb87iJHewa0AiYtNw7ei3WSnEvgqQM6YC8COWJe7aQnUnkESYM2Z-VH8ZWCn3SIPQbhpOlyqNUA97-mr2-jgdIYHlrscpPz_M2jKbUhlkTPjkYBm2FfGQIkzFT7n2V5S5lvffC39oKj-hI-vMDHNj9wY7NlYLyI6XdWEtKSxPzx86rKBcx8Yx8r63ygFErZwL_cw/file [following]\n",
            "--2022-12-01 10:03:00--  https://uc1054f764be0cf7350850822281.dl.dropboxusercontent.com/cd/0/inline2/BxzpTkVZpESElWVdXU0iot0Yp4TrJ0q7UbFOIfLz2PMa64QTQuybADOORr2C0O0qlznnRNGpXty2bodxUUJjL3_uoXMjzxfzKTN_yEXEYFyn5_dxtkcDStE-E9HWJcWi8NFXoD7GOe0sEH9sK0XeM1DIV3Wvfn_AeNHKTgJoLo3AXJ3ufjnyaQFo4BhA37jWLBXfR9pm_W66P617LfvAtPsJ0frwRKlojRL0Vk5dzdeb87iJHewa0AiYtNw7ei3WSnEvgqQM6YC8COWJe7aQnUnkESYM2Z-VH8ZWCn3SIPQbhpOlyqNUA97-mr2-jgdIYHlrscpPz_M2jKbUhlkTPjkYBm2FfGQIkzFT7n2V5S5lvffC39oKj-hI-vMDHNj9wY7NlYLyI6XdWEtKSxPzx86rKBcx8Yx8r63ygFErZwL_cw/file\n",
            "Reusing existing connection to uc1054f764be0cf7350850822281.dl.dropboxusercontent.com:443.\n",
            "HTTP request sent, awaiting response... 200 OK\n",
            "Length: 5955 (5.8K) [application/x-ns-proxy-autoconfig]\n",
            "Saving to: ‘credit_card.dat’\n",
            "\n",
            "credit_card.dat     100%[===================>]   5.82K  --.-KB/s    in 0s      \n",
            "\n",
            "2022-12-01 10:03:00 (588 MB/s) - ‘credit_card.dat’ saved [5955/5955]\n",
            "\n"
          ]
        }
      ],
      "source": [
        "!wget https://www.dropbox.com/s/8m0syw2tkul3dap/credit_card.dat"
      ]
    },
    {
      "cell_type": "code",
      "source": [
        "Credit_cards=[]\n",
        "with open('./credit_card.dat', 'r') as file:\n",
        "  for line in file:\n",
        "    s=''\n",
        "    for i in range(0,len(line),6):\n",
        "      s+=chr(int(line[i:i+6],2))\n",
        "    Credit_cards.append(s[:-1])\n",
        "\n",
        "print('List of credit cards:',Credit_cards)\n"
      ],
      "metadata": {
        "colab": {
          "base_uri": "https://localhost:8080/"
        },
        "id": "306A6XiJWlKK",
        "outputId": "b1b3048c-d8cf-4eab-9ce4-c563c369779f"
      },
      "execution_count": 16,
      "outputs": [
        {
          "output_type": "stream",
          "name": "stdout",
          "text": [
            "List of credit cards: ['7648 5673 3775 2271', '3257 8247 3354 2266', '2722 0001 4011 6652', '0661 3063 3742 3150', '0432 1608 1462 4742', '5827 2027 8785 7303', '5774 8528 2087 1117', '8140 1210 6352 2845', '5764 1133 7301 7100', '6456 1737 4126 6726', '1228 8631 7382 0000', '7051 0160 5374 3166', '0618 3587 1630 6376', '1545 5454 7444 5636', '6735 3116 3202 6834', '7287 5011 1547 8413', '7033 2607 3328 4200', '2568 5244 1874 5024', '1684 2253 7570 7118', '0672 2576 0575 6631', '6332 8353 8787 1340', '1813 3361 1175 4211', '2477 6450 8840 2368', '5512 3505 2563 1326', '3083 7882 0621 0025', '4521 5148 8045 0334', '7563 3654 8713 5787', '8324 2664 0476 5561', '0565 2504 7168 3510', '5107 5507 1767 0738', '2462 1821 2448 1443', '2788 0638 6861 6554', '5851 5873 5474 0547', '0670 1004 4013 2655', '5874 5506 3048 0806', '2805 5401 8462 1260', '5083 8406 6310 1862', '1076 1445 3013 2266', '8440 4804 4844 5277', '4758 6141 0686 1387', '7586 0675 0315 2568', '2544 1258 7432 5165', '3474 5023 4434 5626', '1410 0270 0434 5086', '7315 4446 1104 4215', '0224 7742 8300 0266', '0170 2700 3145 0640', '2006 2437 8054 1600', '8142 4055 1776 0026', '3026 7380 1241 1084', '']\n"
          ]
        }
      ]
    },
    {
      "cell_type": "markdown",
      "metadata": {
        "id": "oWhTiTQPIpQw"
      },
      "source": [
        "5\\. **Write data to a binary file**\n",
        "\n",
        "a) Start from the `data/data_000637.txt` file that we have used during the previous lectures, and convert it to a binary file according to the format defined below:"
      ]
    },
    {
      "cell_type": "code",
      "execution_count": 18,
      "metadata": {
        "id": "ZucdxcUvIpQw"
      },
      "outputs": [],
      "source": [
        "#from IPython.display import Image\n",
        "#Image(\"images/data_format.png\")"
      ]
    },
    {
      "cell_type": "markdown",
      "metadata": {
        "id": "1tliunCPIpQx"
      },
      "source": [
        "*Hints*:\n",
        "- Read the first 10 lines using Pandas\n",
        "- Iterate over the DataFrame rows\n",
        "- For every row, ``pack'' the values (features) into a single 64-bit word, according to the format specified above. Use bit-wise shifts and operators to do so.\n",
        "- Write each 64-bit word to a binary file. You can use `struct` in this way:\n",
        "```\n",
        "binary_file.write( struct.pack('<q', word) )\n",
        "```\n",
        "where `word` is the 64-bit word.\n",
        "- Close the file after completing the loop.\n"
      ]
    },
    {
      "cell_type": "code",
      "execution_count": 19,
      "metadata": {
        "colab": {
          "base_uri": "https://localhost:8080/"
        },
        "id": "pbNTDAyUIpQx",
        "outputId": "708d1c52-582b-448b-fd99-276c5a9c50b2"
      },
      "outputs": [
        {
          "output_type": "stream",
          "name": "stdout",
          "text": [
            "--2022-12-01 10:03:45--  https://www.dropbox.com/s/ga9wi6b40cakgae/data_000637.txt\n",
            "Resolving www.dropbox.com (www.dropbox.com)... 162.125.5.18, 2620:100:601d:18::a27d:512\n",
            "Connecting to www.dropbox.com (www.dropbox.com)|162.125.5.18|:443... connected.\n",
            "HTTP request sent, awaiting response... 302 Found\n",
            "Location: /s/raw/ga9wi6b40cakgae/data_000637.txt [following]\n",
            "--2022-12-01 10:03:45--  https://www.dropbox.com/s/raw/ga9wi6b40cakgae/data_000637.txt\n",
            "Reusing existing connection to www.dropbox.com:443.\n",
            "HTTP request sent, awaiting response... 302 Found\n",
            "Location: https://ucfffde37b5ee9c39d3493458bf2.dl.dropboxusercontent.com/cd/0/inline/BxxRY97jSKegvGAJOxIMbM9B60ANg1ItKW4_9g8udgUeCGNDFcK-MOfdHgbFTF8bYNTf_UxC7UhYo5uZb34JQP4PXRUb1H092aItyDuWn1Fng16OVTFO6vBfz4er-PovGzzEyL-HF3uxjVsLYbRI4MWksWVDDEv5oemi5tnW0kqiEA/file# [following]\n",
            "--2022-12-01 10:03:45--  https://ucfffde37b5ee9c39d3493458bf2.dl.dropboxusercontent.com/cd/0/inline/BxxRY97jSKegvGAJOxIMbM9B60ANg1ItKW4_9g8udgUeCGNDFcK-MOfdHgbFTF8bYNTf_UxC7UhYo5uZb34JQP4PXRUb1H092aItyDuWn1Fng16OVTFO6vBfz4er-PovGzzEyL-HF3uxjVsLYbRI4MWksWVDDEv5oemi5tnW0kqiEA/file\n",
            "Resolving ucfffde37b5ee9c39d3493458bf2.dl.dropboxusercontent.com (ucfffde37b5ee9c39d3493458bf2.dl.dropboxusercontent.com)... 162.125.5.15, 2620:100:601d:15::a27d:50f\n",
            "Connecting to ucfffde37b5ee9c39d3493458bf2.dl.dropboxusercontent.com (ucfffde37b5ee9c39d3493458bf2.dl.dropboxusercontent.com)|162.125.5.15|:443... connected.\n",
            "HTTP request sent, awaiting response... 200 OK\n",
            "Length: 33179236 (32M) [text/plain]\n",
            "Saving to: ‘data_000637.txt’\n",
            "\n",
            "data_000637.txt     100%[===================>]  31.64M  72.0MB/s    in 0.4s    \n",
            "\n",
            "2022-12-01 10:03:46 (72.0 MB/s) - ‘data_000637.txt’ saved [33179236/33179236]\n",
            "\n"
          ]
        }
      ],
      "source": [
        "!wget https://www.dropbox.com/s/ga9wi6b40cakgae/data_000637.txt"
      ]
    },
    {
      "cell_type": "code",
      "source": [
        "data1=pd.read_csv('./data_000637.txt',nrows=10)\n",
        "data1"
      ],
      "metadata": {
        "colab": {
          "base_uri": "https://localhost:8080/",
          "height": 363
        },
        "id": "TAWF6nJkeBnG",
        "outputId": "45d48490-b173-48cb-b548-bd5229afee4e"
      },
      "execution_count": 24,
      "outputs": [
        {
          "output_type": "execute_result",
          "data": {
            "text/plain": [
              "   HEAD  FPGA  TDC_CHANNEL   ORBIT_CNT  BX_COUNTER  TDC_MEAS\n",
              "0     1     0          123  3869200167        2374        26\n",
              "1     1     0          124  3869200167        2374        27\n",
              "2     1     0           63  3869200167        2553        28\n",
              "3     1     0           64  3869200167        2558        19\n",
              "4     1     0           64  3869200167        2760        25\n",
              "5     1     0           63  3869200167        2762         4\n",
              "6     1     0           61  3869200167        2772        14\n",
              "7     1     0          139  3869200167        2776         0\n",
              "8     1     0           62  3869200167        2774        21\n",
              "9     1     0           60  3869200167        2788         7"
            ],
            "text/html": [
              "\n",
              "  <div id=\"df-1e12abe2-4a2b-4b50-babf-665c58d1ace1\">\n",
              "    <div class=\"colab-df-container\">\n",
              "      <div>\n",
              "<style scoped>\n",
              "    .dataframe tbody tr th:only-of-type {\n",
              "        vertical-align: middle;\n",
              "    }\n",
              "\n",
              "    .dataframe tbody tr th {\n",
              "        vertical-align: top;\n",
              "    }\n",
              "\n",
              "    .dataframe thead th {\n",
              "        text-align: right;\n",
              "    }\n",
              "</style>\n",
              "<table border=\"1\" class=\"dataframe\">\n",
              "  <thead>\n",
              "    <tr style=\"text-align: right;\">\n",
              "      <th></th>\n",
              "      <th>HEAD</th>\n",
              "      <th>FPGA</th>\n",
              "      <th>TDC_CHANNEL</th>\n",
              "      <th>ORBIT_CNT</th>\n",
              "      <th>BX_COUNTER</th>\n",
              "      <th>TDC_MEAS</th>\n",
              "    </tr>\n",
              "  </thead>\n",
              "  <tbody>\n",
              "    <tr>\n",
              "      <th>0</th>\n",
              "      <td>1</td>\n",
              "      <td>0</td>\n",
              "      <td>123</td>\n",
              "      <td>3869200167</td>\n",
              "      <td>2374</td>\n",
              "      <td>26</td>\n",
              "    </tr>\n",
              "    <tr>\n",
              "      <th>1</th>\n",
              "      <td>1</td>\n",
              "      <td>0</td>\n",
              "      <td>124</td>\n",
              "      <td>3869200167</td>\n",
              "      <td>2374</td>\n",
              "      <td>27</td>\n",
              "    </tr>\n",
              "    <tr>\n",
              "      <th>2</th>\n",
              "      <td>1</td>\n",
              "      <td>0</td>\n",
              "      <td>63</td>\n",
              "      <td>3869200167</td>\n",
              "      <td>2553</td>\n",
              "      <td>28</td>\n",
              "    </tr>\n",
              "    <tr>\n",
              "      <th>3</th>\n",
              "      <td>1</td>\n",
              "      <td>0</td>\n",
              "      <td>64</td>\n",
              "      <td>3869200167</td>\n",
              "      <td>2558</td>\n",
              "      <td>19</td>\n",
              "    </tr>\n",
              "    <tr>\n",
              "      <th>4</th>\n",
              "      <td>1</td>\n",
              "      <td>0</td>\n",
              "      <td>64</td>\n",
              "      <td>3869200167</td>\n",
              "      <td>2760</td>\n",
              "      <td>25</td>\n",
              "    </tr>\n",
              "    <tr>\n",
              "      <th>5</th>\n",
              "      <td>1</td>\n",
              "      <td>0</td>\n",
              "      <td>63</td>\n",
              "      <td>3869200167</td>\n",
              "      <td>2762</td>\n",
              "      <td>4</td>\n",
              "    </tr>\n",
              "    <tr>\n",
              "      <th>6</th>\n",
              "      <td>1</td>\n",
              "      <td>0</td>\n",
              "      <td>61</td>\n",
              "      <td>3869200167</td>\n",
              "      <td>2772</td>\n",
              "      <td>14</td>\n",
              "    </tr>\n",
              "    <tr>\n",
              "      <th>7</th>\n",
              "      <td>1</td>\n",
              "      <td>0</td>\n",
              "      <td>139</td>\n",
              "      <td>3869200167</td>\n",
              "      <td>2776</td>\n",
              "      <td>0</td>\n",
              "    </tr>\n",
              "    <tr>\n",
              "      <th>8</th>\n",
              "      <td>1</td>\n",
              "      <td>0</td>\n",
              "      <td>62</td>\n",
              "      <td>3869200167</td>\n",
              "      <td>2774</td>\n",
              "      <td>21</td>\n",
              "    </tr>\n",
              "    <tr>\n",
              "      <th>9</th>\n",
              "      <td>1</td>\n",
              "      <td>0</td>\n",
              "      <td>60</td>\n",
              "      <td>3869200167</td>\n",
              "      <td>2788</td>\n",
              "      <td>7</td>\n",
              "    </tr>\n",
              "  </tbody>\n",
              "</table>\n",
              "</div>\n",
              "      <button class=\"colab-df-convert\" onclick=\"convertToInteractive('df-1e12abe2-4a2b-4b50-babf-665c58d1ace1')\"\n",
              "              title=\"Convert this dataframe to an interactive table.\"\n",
              "              style=\"display:none;\">\n",
              "        \n",
              "  <svg xmlns=\"http://www.w3.org/2000/svg\" height=\"24px\"viewBox=\"0 0 24 24\"\n",
              "       width=\"24px\">\n",
              "    <path d=\"M0 0h24v24H0V0z\" fill=\"none\"/>\n",
              "    <path d=\"M18.56 5.44l.94 2.06.94-2.06 2.06-.94-2.06-.94-.94-2.06-.94 2.06-2.06.94zm-11 1L8.5 8.5l.94-2.06 2.06-.94-2.06-.94L8.5 2.5l-.94 2.06-2.06.94zm10 10l.94 2.06.94-2.06 2.06-.94-2.06-.94-.94-2.06-.94 2.06-2.06.94z\"/><path d=\"M17.41 7.96l-1.37-1.37c-.4-.4-.92-.59-1.43-.59-.52 0-1.04.2-1.43.59L10.3 9.45l-7.72 7.72c-.78.78-.78 2.05 0 2.83L4 21.41c.39.39.9.59 1.41.59.51 0 1.02-.2 1.41-.59l7.78-7.78 2.81-2.81c.8-.78.8-2.07 0-2.86zM5.41 20L4 18.59l7.72-7.72 1.47 1.35L5.41 20z\"/>\n",
              "  </svg>\n",
              "      </button>\n",
              "      \n",
              "  <style>\n",
              "    .colab-df-container {\n",
              "      display:flex;\n",
              "      flex-wrap:wrap;\n",
              "      gap: 12px;\n",
              "    }\n",
              "\n",
              "    .colab-df-convert {\n",
              "      background-color: #E8F0FE;\n",
              "      border: none;\n",
              "      border-radius: 50%;\n",
              "      cursor: pointer;\n",
              "      display: none;\n",
              "      fill: #1967D2;\n",
              "      height: 32px;\n",
              "      padding: 0 0 0 0;\n",
              "      width: 32px;\n",
              "    }\n",
              "\n",
              "    .colab-df-convert:hover {\n",
              "      background-color: #E2EBFA;\n",
              "      box-shadow: 0px 1px 2px rgba(60, 64, 67, 0.3), 0px 1px 3px 1px rgba(60, 64, 67, 0.15);\n",
              "      fill: #174EA6;\n",
              "    }\n",
              "\n",
              "    [theme=dark] .colab-df-convert {\n",
              "      background-color: #3B4455;\n",
              "      fill: #D2E3FC;\n",
              "    }\n",
              "\n",
              "    [theme=dark] .colab-df-convert:hover {\n",
              "      background-color: #434B5C;\n",
              "      box-shadow: 0px 1px 3px 1px rgba(0, 0, 0, 0.15);\n",
              "      filter: drop-shadow(0px 1px 2px rgba(0, 0, 0, 0.3));\n",
              "      fill: #FFFFFF;\n",
              "    }\n",
              "  </style>\n",
              "\n",
              "      <script>\n",
              "        const buttonEl =\n",
              "          document.querySelector('#df-1e12abe2-4a2b-4b50-babf-665c58d1ace1 button.colab-df-convert');\n",
              "        buttonEl.style.display =\n",
              "          google.colab.kernel.accessAllowed ? 'block' : 'none';\n",
              "\n",
              "        async function convertToInteractive(key) {\n",
              "          const element = document.querySelector('#df-1e12abe2-4a2b-4b50-babf-665c58d1ace1');\n",
              "          const dataTable =\n",
              "            await google.colab.kernel.invokeFunction('convertToInteractive',\n",
              "                                                     [key], {});\n",
              "          if (!dataTable) return;\n",
              "\n",
              "          const docLinkHtml = 'Like what you see? Visit the ' +\n",
              "            '<a target=\"_blank\" href=https://colab.research.google.com/notebooks/data_table.ipynb>data table notebook</a>'\n",
              "            + ' to learn more about interactive tables.';\n",
              "          element.innerHTML = '';\n",
              "          dataTable['output_type'] = 'display_data';\n",
              "          await google.colab.output.renderOutput(dataTable, element);\n",
              "          const docLink = document.createElement('div');\n",
              "          docLink.innerHTML = docLinkHtml;\n",
              "          element.appendChild(docLink);\n",
              "        }\n",
              "      </script>\n",
              "    </div>\n",
              "  </div>\n",
              "  "
            ]
          },
          "metadata": {},
          "execution_count": 24
        }
      ]
    },
    {
      "cell_type": "code",
      "source": [
        "import struct\n",
        "file_name = \"data_000637.dat\"\n",
        "\n",
        "with open(file_name, 'wb') as binary_file:\n",
        "  for line in data1.values: \n",
        "    word = (line[5] << 0 ) \n",
        "    word += (line[4] << 5 ) \n",
        "    word += (line[3] << 17) \n",
        "    word += (line[2] << 49) \n",
        "    word += (line[1] << 58)\n",
        "    word += (line[0] << 62)\n",
        "\n",
        "    binary_file.write( struct.pack('<q', word))\n",
        "binary_file.close()"
      ],
      "metadata": {
        "id": "MqH7-4mBeRT8"
      },
      "execution_count": 26,
      "outputs": []
    },
    {
      "cell_type": "markdown",
      "source": [
        "\n",
        "b) Check that the binary file is correctly written by reading it with the code used in the lecture `06_OSEMN.ipynb`, and verify that the content of the `txt` and binary files is consistent.\n"
      ],
      "metadata": {
        "id": "ab91z1GHOrNL"
      }
    },
    {
      "cell_type": "code",
      "source": [
        "import  time\n",
        "\n",
        "data = {}\n",
        "columns = ['HEAD', 'FPGA', 'CHANNEL', 'ORBIT_CNT', 'BX_CNT', 'TDC_MEAS']\n",
        "df = pd.DataFrame({}, columns=columns)\n",
        "\n",
        "with open('./data_000637.dat', 'rb') as file:\n",
        "    file_content = file.read()\n",
        "    word_counter = 0\n",
        "    word_size = 8 # size of the word in bytes\n",
        "    for i in range(0, len(file_content), word_size):\n",
        "        word_counter += 1\n",
        "        if word_counter > 10: break\n",
        "        word = struct.unpack('<q', file_content[i : i + word_size])[0] # get an 8-byte word\n",
        "        head     = (word >> 62) & 0x3\n",
        "        fpga     = (word >> 58) & 0xF\n",
        "        tdc_chan = (word >> 49) & 0x1FF\n",
        "        orb_cnt  = (word >> 17) & 0xFFFFFFFF\n",
        "        bx       = (word >> 5 ) & 0xFFF\n",
        "        tdc_meas = (word >> 0 ) & 0x1F\n",
        "        #if i == 0: print ('{0}\\t{1}\\t{2}\\t{3}\\t{4}\\t{5}'.format('HEAD', 'FPGA', 'CHANNEL', 'ORBIT_CNT', 'BX_CNT', 'TDC_MEAS'))\n",
        "        #print('{0}\\t{1}\\t{2}\\t{3}\\t{4}\\t{5}'.format(head, fpga, tdc_chan, orb_cnt, bx, tdc_meas))\n",
        "        entry = {'HEAD' : head, 'FPGA' : fpga, 'CHANNEL' : tdc_chan, 'ORBIT_CNT' : orb_cnt, 'BX_CNT' : bx, 'TDC_MEAS' : tdc_meas}\n",
        "        df = df.append(entry, ignore_index=True)\n",
        "\n",
        "df"
      ],
      "metadata": {
        "colab": {
          "base_uri": "https://localhost:8080/",
          "height": 363
        },
        "id": "sgV8shZq-frw",
        "outputId": "66aca55e-f0b7-401e-a0d2-eb96357417c2"
      },
      "execution_count": 27,
      "outputs": [
        {
          "output_type": "execute_result",
          "data": {
            "text/plain": [
              "  HEAD FPGA CHANNEL   ORBIT_CNT BX_CNT TDC_MEAS\n",
              "0    1    0     123  3869200167   2374       26\n",
              "1    1    0     124  3869200167   2374       27\n",
              "2    1    0      63  3869200167   2553       28\n",
              "3    1    0      64  3869200167   2558       19\n",
              "4    1    0      64  3869200167   2760       25\n",
              "5    1    0      63  3869200167   2762        4\n",
              "6    1    0      61  3869200167   2772       14\n",
              "7    1    0     139  3869200167   2776        0\n",
              "8    1    0      62  3869200167   2774       21\n",
              "9    1    0      60  3869200167   2788        7"
            ],
            "text/html": [
              "\n",
              "  <div id=\"df-c14b2d0a-1239-4a70-9b0d-699fd8bc761c\">\n",
              "    <div class=\"colab-df-container\">\n",
              "      <div>\n",
              "<style scoped>\n",
              "    .dataframe tbody tr th:only-of-type {\n",
              "        vertical-align: middle;\n",
              "    }\n",
              "\n",
              "    .dataframe tbody tr th {\n",
              "        vertical-align: top;\n",
              "    }\n",
              "\n",
              "    .dataframe thead th {\n",
              "        text-align: right;\n",
              "    }\n",
              "</style>\n",
              "<table border=\"1\" class=\"dataframe\">\n",
              "  <thead>\n",
              "    <tr style=\"text-align: right;\">\n",
              "      <th></th>\n",
              "      <th>HEAD</th>\n",
              "      <th>FPGA</th>\n",
              "      <th>CHANNEL</th>\n",
              "      <th>ORBIT_CNT</th>\n",
              "      <th>BX_CNT</th>\n",
              "      <th>TDC_MEAS</th>\n",
              "    </tr>\n",
              "  </thead>\n",
              "  <tbody>\n",
              "    <tr>\n",
              "      <th>0</th>\n",
              "      <td>1</td>\n",
              "      <td>0</td>\n",
              "      <td>123</td>\n",
              "      <td>3869200167</td>\n",
              "      <td>2374</td>\n",
              "      <td>26</td>\n",
              "    </tr>\n",
              "    <tr>\n",
              "      <th>1</th>\n",
              "      <td>1</td>\n",
              "      <td>0</td>\n",
              "      <td>124</td>\n",
              "      <td>3869200167</td>\n",
              "      <td>2374</td>\n",
              "      <td>27</td>\n",
              "    </tr>\n",
              "    <tr>\n",
              "      <th>2</th>\n",
              "      <td>1</td>\n",
              "      <td>0</td>\n",
              "      <td>63</td>\n",
              "      <td>3869200167</td>\n",
              "      <td>2553</td>\n",
              "      <td>28</td>\n",
              "    </tr>\n",
              "    <tr>\n",
              "      <th>3</th>\n",
              "      <td>1</td>\n",
              "      <td>0</td>\n",
              "      <td>64</td>\n",
              "      <td>3869200167</td>\n",
              "      <td>2558</td>\n",
              "      <td>19</td>\n",
              "    </tr>\n",
              "    <tr>\n",
              "      <th>4</th>\n",
              "      <td>1</td>\n",
              "      <td>0</td>\n",
              "      <td>64</td>\n",
              "      <td>3869200167</td>\n",
              "      <td>2760</td>\n",
              "      <td>25</td>\n",
              "    </tr>\n",
              "    <tr>\n",
              "      <th>5</th>\n",
              "      <td>1</td>\n",
              "      <td>0</td>\n",
              "      <td>63</td>\n",
              "      <td>3869200167</td>\n",
              "      <td>2762</td>\n",
              "      <td>4</td>\n",
              "    </tr>\n",
              "    <tr>\n",
              "      <th>6</th>\n",
              "      <td>1</td>\n",
              "      <td>0</td>\n",
              "      <td>61</td>\n",
              "      <td>3869200167</td>\n",
              "      <td>2772</td>\n",
              "      <td>14</td>\n",
              "    </tr>\n",
              "    <tr>\n",
              "      <th>7</th>\n",
              "      <td>1</td>\n",
              "      <td>0</td>\n",
              "      <td>139</td>\n",
              "      <td>3869200167</td>\n",
              "      <td>2776</td>\n",
              "      <td>0</td>\n",
              "    </tr>\n",
              "    <tr>\n",
              "      <th>8</th>\n",
              "      <td>1</td>\n",
              "      <td>0</td>\n",
              "      <td>62</td>\n",
              "      <td>3869200167</td>\n",
              "      <td>2774</td>\n",
              "      <td>21</td>\n",
              "    </tr>\n",
              "    <tr>\n",
              "      <th>9</th>\n",
              "      <td>1</td>\n",
              "      <td>0</td>\n",
              "      <td>60</td>\n",
              "      <td>3869200167</td>\n",
              "      <td>2788</td>\n",
              "      <td>7</td>\n",
              "    </tr>\n",
              "  </tbody>\n",
              "</table>\n",
              "</div>\n",
              "      <button class=\"colab-df-convert\" onclick=\"convertToInteractive('df-c14b2d0a-1239-4a70-9b0d-699fd8bc761c')\"\n",
              "              title=\"Convert this dataframe to an interactive table.\"\n",
              "              style=\"display:none;\">\n",
              "        \n",
              "  <svg xmlns=\"http://www.w3.org/2000/svg\" height=\"24px\"viewBox=\"0 0 24 24\"\n",
              "       width=\"24px\">\n",
              "    <path d=\"M0 0h24v24H0V0z\" fill=\"none\"/>\n",
              "    <path d=\"M18.56 5.44l.94 2.06.94-2.06 2.06-.94-2.06-.94-.94-2.06-.94 2.06-2.06.94zm-11 1L8.5 8.5l.94-2.06 2.06-.94-2.06-.94L8.5 2.5l-.94 2.06-2.06.94zm10 10l.94 2.06.94-2.06 2.06-.94-2.06-.94-.94-2.06-.94 2.06-2.06.94z\"/><path d=\"M17.41 7.96l-1.37-1.37c-.4-.4-.92-.59-1.43-.59-.52 0-1.04.2-1.43.59L10.3 9.45l-7.72 7.72c-.78.78-.78 2.05 0 2.83L4 21.41c.39.39.9.59 1.41.59.51 0 1.02-.2 1.41-.59l7.78-7.78 2.81-2.81c.8-.78.8-2.07 0-2.86zM5.41 20L4 18.59l7.72-7.72 1.47 1.35L5.41 20z\"/>\n",
              "  </svg>\n",
              "      </button>\n",
              "      \n",
              "  <style>\n",
              "    .colab-df-container {\n",
              "      display:flex;\n",
              "      flex-wrap:wrap;\n",
              "      gap: 12px;\n",
              "    }\n",
              "\n",
              "    .colab-df-convert {\n",
              "      background-color: #E8F0FE;\n",
              "      border: none;\n",
              "      border-radius: 50%;\n",
              "      cursor: pointer;\n",
              "      display: none;\n",
              "      fill: #1967D2;\n",
              "      height: 32px;\n",
              "      padding: 0 0 0 0;\n",
              "      width: 32px;\n",
              "    }\n",
              "\n",
              "    .colab-df-convert:hover {\n",
              "      background-color: #E2EBFA;\n",
              "      box-shadow: 0px 1px 2px rgba(60, 64, 67, 0.3), 0px 1px 3px 1px rgba(60, 64, 67, 0.15);\n",
              "      fill: #174EA6;\n",
              "    }\n",
              "\n",
              "    [theme=dark] .colab-df-convert {\n",
              "      background-color: #3B4455;\n",
              "      fill: #D2E3FC;\n",
              "    }\n",
              "\n",
              "    [theme=dark] .colab-df-convert:hover {\n",
              "      background-color: #434B5C;\n",
              "      box-shadow: 0px 1px 3px 1px rgba(0, 0, 0, 0.15);\n",
              "      filter: drop-shadow(0px 1px 2px rgba(0, 0, 0, 0.3));\n",
              "      fill: #FFFFFF;\n",
              "    }\n",
              "  </style>\n",
              "\n",
              "      <script>\n",
              "        const buttonEl =\n",
              "          document.querySelector('#df-c14b2d0a-1239-4a70-9b0d-699fd8bc761c button.colab-df-convert');\n",
              "        buttonEl.style.display =\n",
              "          google.colab.kernel.accessAllowed ? 'block' : 'none';\n",
              "\n",
              "        async function convertToInteractive(key) {\n",
              "          const element = document.querySelector('#df-c14b2d0a-1239-4a70-9b0d-699fd8bc761c');\n",
              "          const dataTable =\n",
              "            await google.colab.kernel.invokeFunction('convertToInteractive',\n",
              "                                                     [key], {});\n",
              "          if (!dataTable) return;\n",
              "\n",
              "          const docLinkHtml = 'Like what you see? Visit the ' +\n",
              "            '<a target=\"_blank\" href=https://colab.research.google.com/notebooks/data_table.ipynb>data table notebook</a>'\n",
              "            + ' to learn more about interactive tables.';\n",
              "          element.innerHTML = '';\n",
              "          dataTable['output_type'] = 'display_data';\n",
              "          await google.colab.output.renderOutput(dataTable, element);\n",
              "          const docLink = document.createElement('div');\n",
              "          docLink.innerHTML = docLinkHtml;\n",
              "          element.appendChild(docLink);\n",
              "        }\n",
              "      </script>\n",
              "    </div>\n",
              "  </div>\n",
              "  "
            ]
          },
          "metadata": {},
          "execution_count": 27
        }
      ]
    },
    {
      "cell_type": "markdown",
      "source": [
        "The content of the txt and binary files is consistent."
      ],
      "metadata": {
        "id": "Faq4HJsONQ0N"
      }
    },
    {
      "cell_type": "markdown",
      "source": [
        "\n",
        "c) What is the difference of the size on disk between equivalent `txt` and binary files?"
      ],
      "metadata": {
        "id": "79xCEpmWOtT_"
      }
    },
    {
      "cell_type": "code",
      "source": [
        "data1.iloc[0:10,:].to_csv('./data_000637_1.txt')"
      ],
      "metadata": {
        "id": "JPrnToPqOuwY"
      },
      "execution_count": 28,
      "outputs": []
    },
    {
      "cell_type": "code",
      "source": [
        "size_txt=os.path.getsize(\"./data_000637_1.txt\") #os.path.getsize() returns the size of the file in bytes\n",
        "size_bin=os.path.getsize(\"./data_000637.dat\")"
      ],
      "metadata": {
        "id": "UppqUKz8Mquv"
      },
      "execution_count": 29,
      "outputs": []
    },
    {
      "cell_type": "code",
      "source": [
        "print('The size of the text file is:',size_txt)\n",
        "print('The size of the binary file is:',size_bin)"
      ],
      "metadata": {
        "colab": {
          "base_uri": "https://localhost:8080/"
        },
        "id": "lZnKxCDgRqhO",
        "outputId": "507356f4-5d6f-430d-c998-bc51616cdbcd"
      },
      "execution_count": 30,
      "outputs": [
        {
          "output_type": "stream",
          "name": "stdout",
          "text": [
            "The size of the text file is: 333\n",
            "The size of the binary file is: 80\n"
          ]
        }
      ]
    },
    {
      "cell_type": "markdown",
      "source": [
        "The text file is much larger than the binary file and that's because in the text file, text, character, numbers are stored one character per byte i.e. 32667 occupies 5 bytes even though it occupies 2 bytes in memory.\n",
        "However, in binary file, data is stored in binary format and each data would occupy the same number of bytes on disks as it occupies in memory."
      ],
      "metadata": {
        "id": "Qh04klOQTtyx"
      }
    }
  ],
  "metadata": {
    "kernelspec": {
      "display_name": "Python 3",
      "language": "python",
      "name": "python3"
    },
    "language_info": {
      "codemirror_mode": {
        "name": "ipython",
        "version": 3
      },
      "file_extension": ".py",
      "mimetype": "text/x-python",
      "name": "python",
      "nbconvert_exporter": "python",
      "pygments_lexer": "ipython3",
      "version": "3.8.5"
    },
    "colab": {
      "provenance": []
    }
  },
  "nbformat": 4,
  "nbformat_minor": 0
}