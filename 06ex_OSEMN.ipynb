{
  "nbformat": 4,
  "nbformat_minor": 0,
  "metadata": {
    "colab": {
      "provenance": []
    },
    "kernelspec": {
      "name": "python3",
      "display_name": "Python 3"
    },
    "language_info": {
      "name": "python"
    }
  },
  "cells": [
    {
      "cell_type": "code",
      "execution_count": 1,
      "metadata": {
        "id": "bHGdEJYp7b6Z"
      },
      "outputs": [],
      "source": [
        "import numpy as np\n",
        "import pandas as pd\n",
        "import csv\n",
        "import struct\n",
        "import os\n",
        "import math"
      ]
    },
    {
      "cell_type": "markdown",
      "source": [
        "1. Text files"
      ],
      "metadata": {
        "id": "30UYoi-p8oJR"
      }
    },
    {
      "cell_type": "markdown",
      "source": [
        "create a list of integrer numbers and then save it to a text file named data_int.txt. Run the cat command to print the content of the file."
      ],
      "metadata": {
        "id": "I7mPli6H8vK_"
      }
    },
    {
      "cell_type": "code",
      "source": [
        "list1=[1,2,3,4,5]\n",
        "with open(\"data_int.txt\",'w',encoding = 'utf-8') as f:\n",
        "  for i in list1:\n",
        "    f.write(f'{i}\\n')\n",
        "\n",
        "\n"
      ],
      "metadata": {
        "id": "X7g1pPsZ80nI"
      },
      "execution_count": 4,
      "outputs": []
    },
    {
      "cell_type": "code",
      "source": [
        "!cat data_int.txt"
      ],
      "metadata": {
        "id": "EI67BtkPlxVd",
        "outputId": "d77f9938-0a46-480c-df3a-dc8c548e571a",
        "colab": {
          "base_uri": "https://localhost:8080/"
        }
      },
      "execution_count": 5,
      "outputs": [
        {
          "output_type": "stream",
          "name": "stdout",
          "text": [
            "1\n",
            "2\n",
            "3\n",
            "4\n",
            "5\n"
          ]
        }
      ]
    },
    {
      "cell_type": "markdown",
      "source": [
        "create a matrix of 5x5 floats and then save it to a text file named data_float.txt. Use the cat command to print the content of the file."
      ],
      "metadata": {
        "id": "yPwk3lzX9jLj"
      }
    },
    {
      "cell_type": "code",
      "source": [
        "matrix=np.arange(25).reshape((5,5))\n",
        "print(matrix)"
      ],
      "metadata": {
        "colab": {
          "base_uri": "https://localhost:8080/"
        },
        "id": "AlQ_CWLu9jva",
        "outputId": "b1d6ff6a-23c7-4a4b-ce30-c61e9e2632de"
      },
      "execution_count": 6,
      "outputs": [
        {
          "output_type": "stream",
          "name": "stdout",
          "text": [
            "[[ 0  1  2  3  4]\n",
            " [ 5  6  7  8  9]\n",
            " [10 11 12 13 14]\n",
            " [15 16 17 18 19]\n",
            " [20 21 22 23 24]]\n"
          ]
        }
      ]
    },
    {
      "cell_type": "markdown",
      "source": [
        "create a matrix of 5x5 floats and then save it to a text file named data_float.txt. Use the cat command to print the content of the file."
      ],
      "metadata": {
        "id": "VB8NTd-6APtW"
      }
    },
    {
      "cell_type": "code",
      "source": [
        "list2=[]\n",
        "matrix2=np.array\n",
        "for i in range(25):\n",
        "  list2.append(np.random.uniform(0,24))\n",
        "#print(list2)\n",
        "matrix2=np.array([list2]).reshape((5,5))\n",
        "#print(m)\n",
        "print(matrix2.shape)\n",
        "with open(\"data_float.txt\",'w',encoding = 'utf-8') as f:\n",
        "  for i in matrix2:\n",
        "    f.write(f'{i},\\n')\n",
        "\n",
        "!cat data_float.txt"
      ],
      "metadata": {
        "colab": {
          "base_uri": "https://localhost:8080/"
        },
        "id": "bl__6st9AO8n",
        "outputId": "4e6b3bc7-5b35-468f-faa2-f3eaa506e9dd"
      },
      "execution_count": 7,
      "outputs": [
        {
          "output_type": "stream",
          "name": "stdout",
          "text": [
            "(5, 5)\n",
            "[ 2.63194878  3.22187741  6.44429157 16.34052743  0.3075666 ],\n",
            "[14.33359305 22.24618459 11.57318891 12.35361894 18.53187323],\n",
            "[17.75046376 17.62976728  5.78945322  2.3994347  12.52679327],\n",
            "[ 3.53212911 12.27329807  3.01228431  7.73456931 23.40566281],\n",
            "[ 3.03611807  0.43508923 14.0971289   4.45023328 17.16471203],\n"
          ]
        }
      ]
    },
    {
      "cell_type": "markdown",
      "source": [
        "load the txt file of the previous point and convert it to a csv file by hand.\n"
      ],
      "metadata": {
        "id": "CS7_p1A2EK1k"
      }
    },
    {
      "cell_type": "code",
      "source": [
        "with open('data_float.txt', 'r',encoding = 'utf-8') as f1:\n",
        "  with open('data_float.csv', 'w',newline='')as f2:\n",
        "    writer = csv.writer(f2)\n",
        "    for line in csv.reader(f1, delimiter=\"'\"):\n",
        "      writer.writerow([f'{line}'])\n",
        "      #print('l',line)\n",
        "!cat data_float.csv    "
      ],
      "metadata": {
        "colab": {
          "base_uri": "https://localhost:8080/"
        },
        "id": "j6o-gXCcELJD",
        "outputId": "2443a190-23ac-4ae4-821d-ee1c08745ccd"
      },
      "execution_count": 8,
      "outputs": [
        {
          "output_type": "stream",
          "name": "stdout",
          "text": [
            "\"['[ 2.63194878  3.22187741  6.44429157 16.34052743  0.3075666 ],']\"\r\n",
            "\"['[14.33359305 22.24618459 11.57318891 12.35361894 18.53187323],']\"\r\n",
            "\"['[17.75046376 17.62976728  5.78945322  2.3994347  12.52679327],']\"\r\n",
            "\"['[ 3.53212911 12.27329807  3.01228431  7.73456931 23.40566281],']\"\r\n",
            "\"['[ 3.03611807  0.43508923 14.0971289   4.45023328 17.16471203],']\"\r\n"
          ]
        }
      ]
    },
    {
      "cell_type": "markdown",
      "source": [
        "2. JSON files\n",
        "\n",
        "Load the file user_data.json, which can be found at:\n",
        "\n"
      ],
      "metadata": {
        "id": "-0grZkmupuXu"
      }
    },
    {
      "cell_type": "code",
      "source": [
        "!wget https://www.dropbox.com/s/sz5klcdpckc39hd/user_data.json"
      ],
      "metadata": {
        "colab": {
          "base_uri": "https://localhost:8080/"
        },
        "id": "kVE91TPfpyoO",
        "outputId": "4ca74c1c-d78b-481d-bc63-4c6700c12350"
      },
      "execution_count": 9,
      "outputs": [
        {
          "output_type": "stream",
          "name": "stdout",
          "text": [
            "--2022-12-01 07:57:35--  https://www.dropbox.com/s/sz5klcdpckc39hd/user_data.json\n",
            "Resolving www.dropbox.com (www.dropbox.com)... 162.125.6.18, 2620:100:601c:18::a27d:612\n",
            "Connecting to www.dropbox.com (www.dropbox.com)|162.125.6.18|:443... connected.\n",
            "HTTP request sent, awaiting response... 302 Found\n",
            "Location: /s/raw/sz5klcdpckc39hd/user_data.json [following]\n",
            "--2022-12-01 07:57:35--  https://www.dropbox.com/s/raw/sz5klcdpckc39hd/user_data.json\n",
            "Reusing existing connection to www.dropbox.com:443.\n",
            "HTTP request sent, awaiting response... 302 Found\n",
            "Location: https://uce6c5fafe3078277cfadaacc6fe.dl.dropboxusercontent.com/cd/0/inline/BxyXr2rxkLStCVnHEtqpTV9DrYlagJ6_K7S76g2wXg5j9zNyx3s_TQXyv3cpD6ck5Dy9anWYgpXG_9CW3BVKeqGV706g9cowm1SEMBUwO2r6YLLwiqvMi_GWVzjZOTqhhLg69eLIJhmyMnuztHAin0qH9u89HzbUuAuU-kePBMScIg/file# [following]\n",
            "--2022-12-01 07:57:36--  https://uce6c5fafe3078277cfadaacc6fe.dl.dropboxusercontent.com/cd/0/inline/BxyXr2rxkLStCVnHEtqpTV9DrYlagJ6_K7S76g2wXg5j9zNyx3s_TQXyv3cpD6ck5Dy9anWYgpXG_9CW3BVKeqGV706g9cowm1SEMBUwO2r6YLLwiqvMi_GWVzjZOTqhhLg69eLIJhmyMnuztHAin0qH9u89HzbUuAuU-kePBMScIg/file\n",
            "Resolving uce6c5fafe3078277cfadaacc6fe.dl.dropboxusercontent.com (uce6c5fafe3078277cfadaacc6fe.dl.dropboxusercontent.com)... 162.125.2.15, 2620:100:6019:15::a27d:40f\n",
            "Connecting to uce6c5fafe3078277cfadaacc6fe.dl.dropboxusercontent.com (uce6c5fafe3078277cfadaacc6fe.dl.dropboxusercontent.com)|162.125.2.15|:443... connected.\n",
            "HTTP request sent, awaiting response... 200 OK\n",
            "Length: 40417 (39K) [text/plain]\n",
            "Saving to: ‘user_data.json’\n",
            "\n",
            "user_data.json      100%[===================>]  39.47K  --.-KB/s    in 0.08s   \n",
            "\n",
            "2022-12-01 07:57:36 (522 KB/s) - ‘user_data.json’ saved [40417/40417]\n",
            "\n"
          ]
        }
      ]
    },
    {
      "cell_type": "code",
      "source": [
        "import json # import the JSON module\n",
        "dataset = json.load(open('user_data.json'))\n",
        "print(dataset)"
      ],
      "metadata": {
        "colab": {
          "base_uri": "https://localhost:8080/"
        },
        "id": "4SibIT-CuKD4",
        "outputId": "7047af83-671c-41b0-a538-3d9036a04019"
      },
      "execution_count": 10,
      "outputs": [
        {
          "output_type": "stream",
          "name": "stdout",
          "text": [
            "[{'ID': '1', 'JobTitle': 'Project Manager', 'EmailAddress': 'Remy_Crawford1065@typill.biz', 'FirstNameLastName': 'Remy Crawford', 'CreditCard': '6205-7258-7671-0612', 'CreditCardType': 'Capital One'}, {'ID': '2', 'JobTitle': 'Investment  Advisor', 'EmailAddress': 'Clint_Thorpe5003@bulaffy.com', 'FirstNameLastName': 'Clint Thorpe', 'CreditCard': '7083-8766-0251-2345', 'CreditCardType': 'American Express'}, {'ID': '3', 'JobTitle': 'Cook', 'EmailAddress': 'Russel_Hooper9403@bulaffy.com', 'FirstNameLastName': 'Russel Hooper', 'CreditCard': '6378-4461-8535-5847', 'CreditCardType': 'Discover'}, {'ID': '4', 'JobTitle': 'Business Broker', 'EmailAddress': 'Benjamin_Rowan6280@gembat.biz', 'FirstNameLastName': 'Benjamin Rowan', 'CreditCard': '5781-7635-1428-7414', 'CreditCardType': 'Discover'}, {'ID': '5', 'JobTitle': 'Loan Officer', 'EmailAddress': 'Matt_Lloyd3241@guentu.biz', 'FirstNameLastName': 'Matt Lloyd', 'CreditCard': '5771-8416-2736-1700', 'CreditCardType': 'Citibank'}, {'ID': '6', 'JobTitle': 'Cash Manager', 'EmailAddress': 'Domenic_Bell1507@brety.org', 'FirstNameLastName': 'Domenic Bell', 'CreditCard': '8025-0056-4707-1245', 'CreditCardType': 'MasterCard'}, {'ID': '7', 'JobTitle': 'Business Broker', 'EmailAddress': 'Harry_Kennedy245@gmail.com', 'FirstNameLastName': 'Harry Kennedy', 'CreditCard': '1422-4235-8541-1784', 'CreditCardType': 'MasterCard'}, {'ID': '8', 'JobTitle': 'Stockbroker', 'EmailAddress': 'Christy_Emerson9521@supunk.biz', 'FirstNameLastName': 'Christy Emerson', 'CreditCard': '4763-6567-5460-0768', 'CreditCardType': 'Discover'}, {'ID': '9', 'JobTitle': 'Associate Professor', 'EmailAddress': 'Elly_Wright4017@jiman.org', 'FirstNameLastName': 'Elly Wright', 'CreditCard': '8364-4075-7278-4845', 'CreditCardType': 'Maestro'}, {'ID': '10', 'JobTitle': 'Treasurer', 'EmailAddress': 'Rufus_Lyon2653@twace.org', 'FirstNameLastName': 'Rufus Lyon', 'CreditCard': '8512-0806-3001-7570', 'CreditCardType': 'Bank of America'}, {'ID': '11', 'JobTitle': 'Production Painter', 'EmailAddress': 'Morgan_Young1920@acrit.org', 'FirstNameLastName': 'Morgan Young', 'CreditCard': '0031-6632-2223-4501', 'CreditCardType': 'MasterCard'}, {'ID': '12', 'JobTitle': 'Retail Trainee', 'EmailAddress': 'Phillip_Carpenter9505@famism.biz', 'FirstNameLastName': 'Phillip Carpenter', 'CreditCard': '3657-0088-0820-5247', 'CreditCardType': 'American Express'}, {'ID': '13', 'JobTitle': 'Treasurer', 'EmailAddress': 'Ilona_Notman2221@grannar.com', 'FirstNameLastName': 'Ilona Notman', 'CreditCard': '6701-8641-8334-1664', 'CreditCardType': 'MasterCard'}, {'ID': '14', 'JobTitle': 'Food Technologist', 'EmailAddress': 'Laila_Ballard1579@twace.org', 'FirstNameLastName': 'Laila Ballard', 'CreditCard': '2610-4883-2454-8247', 'CreditCardType': 'Maestro'}, {'ID': '15', 'JobTitle': 'Mobile Developer', 'EmailAddress': 'Alexander_Radcliffe8448@gompie.com', 'FirstNameLastName': 'Alexander Radcliffe', 'CreditCard': '8500-5740-2860-5071', 'CreditCardType': 'Discover'}, {'ID': '16', 'JobTitle': 'Insurance Broker', 'EmailAddress': 'Lindsay_Speed8496@jiman.org', 'FirstNameLastName': 'Lindsay Speed', 'CreditCard': '8447-1205-1550-3637', 'CreditCardType': 'Citibank'}, {'ID': '17', 'JobTitle': 'Systems Administrator', 'EmailAddress': 'Logan_Umney9124@womeona.net', 'FirstNameLastName': 'Logan Umney', 'CreditCard': '2858-5205-5402-8268', 'CreditCardType': 'Maestro'}, {'ID': '18', 'JobTitle': 'Accountant', 'EmailAddress': 'Kamila_Stanley8141@vetan.org', 'FirstNameLastName': 'Kamila Stanley', 'CreditCard': '8045-1052-8885-1824', 'CreditCardType': 'Maestro'}, {'ID': '19', 'JobTitle': 'Production Painter', 'EmailAddress': 'Tania_Huggins911@fuliss.net', 'FirstNameLastName': 'Tania Huggins', 'CreditCard': '3730-0802-5148-6556', 'CreditCardType': 'Chase'}, {'ID': '20', 'JobTitle': 'Cook', 'EmailAddress': 'Domenic_Carter252@extex.org', 'FirstNameLastName': 'Domenic Carter', 'CreditCard': '2820-8547-1064-4183', 'CreditCardType': 'Discover'}, {'ID': '21', 'JobTitle': 'Audiologist', 'EmailAddress': 'Liv_Lane5399@bretoux.com', 'FirstNameLastName': 'Liv Lane', 'CreditCard': '5721-1200-6352-0432', 'CreditCardType': 'Visa'}, {'ID': '22', 'JobTitle': 'Staffing Consultant', 'EmailAddress': 'Gina_Overson5363@nimogy.biz', 'FirstNameLastName': 'Gina Overson', 'CreditCard': '2871-4456-3450-7544', 'CreditCardType': 'Citibank'}, {'ID': '23', 'JobTitle': 'Physician', 'EmailAddress': 'Tyson_Franks27@hourpy.biz', 'FirstNameLastName': 'Tyson Franks', 'CreditCard': '5222-3537-0581-5663', 'CreditCardType': 'UnionPay'}, {'ID': '24', 'JobTitle': 'Bookkeeper', 'EmailAddress': 'Rufus_Bentley4108@fuliss.net', 'FirstNameLastName': 'Rufus Bentley', 'CreditCard': '8138-0636-0065-7816', 'CreditCardType': 'UnionPay'}, {'ID': '25', 'JobTitle': 'Physician', 'EmailAddress': 'Jacqueline_Osmond1980@infotech44.tech', 'FirstNameLastName': 'Jacqueline Osmond', 'CreditCard': '1678-8088-8372-1615', 'CreditCardType': 'Discover'}, {'ID': '26', 'JobTitle': 'Banker', 'EmailAddress': 'Tania_Quinn6931@cispeto.com', 'FirstNameLastName': 'Tania Quinn', 'CreditCard': '8686-2013-7133-0063', 'CreditCardType': 'Discover'}, {'ID': '27', 'JobTitle': 'Fabricator', 'EmailAddress': 'Isabel_Redden1090@sheye.org', 'FirstNameLastName': 'Isabel Redden', 'CreditCard': '4857-0176-0370-6874', 'CreditCardType': 'Visa'}, {'ID': '28', 'JobTitle': 'Project Manager', 'EmailAddress': 'Russel_Graves1378@extex.org', 'FirstNameLastName': 'Russel Graves', 'CreditCard': '6718-4818-8011-6024', 'CreditCardType': 'American Express'}, {'ID': '29', 'JobTitle': 'Design Engineer', 'EmailAddress': 'Nicholas_Sylvester802@liret.org', 'FirstNameLastName': 'Nicholas Sylvester', 'CreditCard': '1305-6121-0676-2107', 'CreditCardType': 'UnionPay'}, {'ID': '30', 'JobTitle': 'Cashier', 'EmailAddress': 'Winnie_Gray7029@deavo.com', 'FirstNameLastName': 'Winnie Gray', 'CreditCard': '2153-6618-7375-1260', 'CreditCardType': 'Bank of America'}, {'ID': '31', 'JobTitle': 'Doctor', 'EmailAddress': 'Chelsea_Lucas5667@fuliss.net', 'FirstNameLastName': 'Chelsea Lucas', 'CreditCard': '3731-5883-8065-7803', 'CreditCardType': 'Capital One'}, {'ID': '32', 'JobTitle': 'HR Coordinator', 'EmailAddress': 'Analise_Weasley434@elnee.tech', 'FirstNameLastName': 'Analise Weasley', 'CreditCard': '8036-8876-3464-7777', 'CreditCardType': 'Maestro'}, {'ID': '33', 'JobTitle': 'Electrician', 'EmailAddress': 'Daphne_Rose2866@liret.org', 'FirstNameLastName': 'Daphne Rose', 'CreditCard': '2613-0861-0335-2612', 'CreditCardType': 'Citibank'}, {'ID': '34', 'JobTitle': 'Ambulatory Nurse', 'EmailAddress': 'Alan_Coll689@twace.org', 'FirstNameLastName': 'Alan Coll', 'CreditCard': '2358-6417-0170-6815', 'CreditCardType': 'Chase'}, {'ID': '35', 'JobTitle': 'Fabricator', 'EmailAddress': 'Agnes_Jennson1104@nickia.com', 'FirstNameLastName': 'Agnes Jennson', 'CreditCard': '4653-3251-8811-5468', 'CreditCardType': 'Citibank'}, {'ID': '36', 'JobTitle': 'Mobile Developer', 'EmailAddress': 'Daron_Tyrrell3117@corti.com', 'FirstNameLastName': 'Daron Tyrrell', 'CreditCard': '4602-3063-5462-4380', 'CreditCardType': 'Bank of America'}, {'ID': '37', 'JobTitle': 'CNC Operator', 'EmailAddress': 'Mary_Woodley2673@gembat.biz', 'FirstNameLastName': 'Mary Woodley', 'CreditCard': '2553-7085-1762-8352', 'CreditCardType': 'Wells Fargo'}, {'ID': '38', 'JobTitle': 'Web Developer', 'EmailAddress': 'Melania_Lee2367@mafthy.com', 'FirstNameLastName': 'Melania Lee', 'CreditCard': '6088-8850-2705-3210', 'CreditCardType': 'MasterCard'}, {'ID': '39', 'JobTitle': 'Stockbroker', 'EmailAddress': 'Leanne_Newton1268@typill.biz', 'FirstNameLastName': 'Leanne Newton', 'CreditCard': '5438-0816-4166-4847', 'CreditCardType': 'American Express'}, {'ID': '40', 'JobTitle': 'Global Logistics Supervisor', 'EmailAddress': 'Henry_Oatway7245@bretoux.com', 'FirstNameLastName': 'Henry Oatway', 'CreditCard': '4065-6643-8160-8868', 'CreditCardType': 'Chase'}, {'ID': '41', 'JobTitle': 'Web Developer', 'EmailAddress': 'Nathan_Kirby4985@naiker.biz', 'FirstNameLastName': 'Nathan Kirby', 'CreditCard': '2670-6447-2566-1346', 'CreditCardType': 'Discover'}, {'ID': '42', 'JobTitle': 'Audiologist', 'EmailAddress': 'Caitlyn_Harris6055@tonsy.org', 'FirstNameLastName': 'Caitlyn Harris', 'CreditCard': '4131-3838-8715-7116', 'CreditCardType': 'Visa'}, {'ID': '43', 'JobTitle': 'Audiologist', 'EmailAddress': 'Ramon_Hunt6049@kideod.biz', 'FirstNameLastName': 'Ramon Hunt', 'CreditCard': '8225-4542-2136-6615', 'CreditCardType': 'Bank of America'}, {'ID': '44', 'JobTitle': 'IT Support Staff', 'EmailAddress': 'Kendra_Rowe9597@tonsy.org', 'FirstNameLastName': 'Kendra Rowe', 'CreditCard': '7537-4711-1276-5640', 'CreditCardType': 'UnionPay'}, {'ID': '45', 'JobTitle': 'Chef Manager', 'EmailAddress': 'Rowan_Shea1292@dionrab.com', 'FirstNameLastName': 'Rowan Shea', 'CreditCard': '4757-2183-5374-1642', 'CreditCardType': 'Visa'}, {'ID': '46', 'JobTitle': 'Doctor', 'EmailAddress': 'Ilona_Cox36@eirey.tech', 'FirstNameLastName': 'Ilona Cox', 'CreditCard': '0881-8168-5805-4286', 'CreditCardType': 'Wells Fargo'}, {'ID': '47', 'JobTitle': 'IT Support Staff', 'EmailAddress': 'Marissa_Amstead9020@atink.com', 'FirstNameLastName': 'Marissa Amstead', 'CreditCard': '1055-6387-0584-7138', 'CreditCardType': 'Discover'}, {'ID': '48', 'JobTitle': 'Investment  Advisor', 'EmailAddress': 'Rebecca_Grey8444@typill.biz', 'FirstNameLastName': 'Rebecca Grey', 'CreditCard': '7715-7017-0032-3427', 'CreditCardType': 'Bank of America'}, {'ID': '49', 'JobTitle': 'CNC Operator', 'EmailAddress': 'Owen_Haines4054@bungar.biz', 'FirstNameLastName': 'Owen Haines', 'CreditCard': '8865-2460-2370-7520', 'CreditCardType': 'Discover'}, {'ID': '50', 'JobTitle': 'Associate Professor', 'EmailAddress': 'Selena_Steer3451@bulaffy.com', 'FirstNameLastName': 'Selena Steer', 'CreditCard': '4067-5448-8705-3230', 'CreditCardType': 'Wells Fargo'}, {'ID': '51', 'JobTitle': 'Investment  Advisor', 'EmailAddress': 'Johnny_Hobbs6802@eirey.tech', 'FirstNameLastName': 'Johnny Hobbs', 'CreditCard': '1087-2434-3728-0607', 'CreditCardType': 'MasterCard'}, {'ID': '52', 'JobTitle': 'Cash Manager', 'EmailAddress': 'Hank_Lane5980@eirey.tech', 'FirstNameLastName': 'Hank Lane', 'CreditCard': '1506-8130-7417-4010', 'CreditCardType': 'Wells Fargo'}, {'ID': '53', 'JobTitle': 'Biologist', 'EmailAddress': 'David_Olson6310@liret.org', 'FirstNameLastName': 'David Olson', 'CreditCard': '5703-0573-0581-8012', 'CreditCardType': 'UnionPay'}, {'ID': '54', 'JobTitle': 'Production Painter', 'EmailAddress': 'Nina_Owen9489@gompie.com', 'FirstNameLastName': 'Nina Owen', 'CreditCard': '0207-1503-5346-5238', 'CreditCardType': 'Citibank'}, {'ID': '55', 'JobTitle': 'Clerk', 'EmailAddress': 'Matt_Adams3562@ovock.tech', 'FirstNameLastName': 'Matt Adams', 'CreditCard': '7254-2550-1362-1454', 'CreditCardType': 'Discover'}, {'ID': '56', 'JobTitle': 'Laboratory Technician', 'EmailAddress': 'Wade_Summers6636@brety.org', 'FirstNameLastName': 'Wade Summers', 'CreditCard': '1142-5310-6655-4588', 'CreditCardType': 'Visa'}, {'ID': '57', 'JobTitle': 'Budget Analyst', 'EmailAddress': 'Tony_Giles1960@iatim.tech', 'FirstNameLastName': 'Tony Giles', 'CreditCard': '8130-3425-7573-7745', 'CreditCardType': 'American Express'}, {'ID': '58', 'JobTitle': 'Systems Administrator', 'EmailAddress': 'Marvin_Gunn6317@corti.com', 'FirstNameLastName': 'Marvin Gunn', 'CreditCard': '5241-8630-7873-8114', 'CreditCardType': 'MasterCard'}, {'ID': '59', 'JobTitle': 'Paramedic', 'EmailAddress': 'Wade_Osman7248@sveldo.biz', 'FirstNameLastName': 'Wade Osman', 'CreditCard': '3554-3376-8561-1512', 'CreditCardType': 'Discover'}, {'ID': '60', 'JobTitle': 'Systems Administrator', 'EmailAddress': 'Nick_Andrews7603@deavo.com', 'FirstNameLastName': 'Nick Andrews', 'CreditCard': '8335-4304-1050-6575', 'CreditCardType': 'Citibank'}, {'ID': '61', 'JobTitle': 'Doctor', 'EmailAddress': 'Julius_Hudson3301@infotech44.tech', 'FirstNameLastName': 'Julius Hudson', 'CreditCard': '7622-3780-1820-8033', 'CreditCardType': 'Chase'}, {'ID': '62', 'JobTitle': 'CNC Operator', 'EmailAddress': 'Owen_Allcott5125@bauros.biz', 'FirstNameLastName': 'Owen Allcott', 'CreditCard': '4156-0107-7210-2630', 'CreditCardType': 'American Express'}, {'ID': '63', 'JobTitle': 'Systems Administrator', 'EmailAddress': 'Liliana_Carter7208@jiman.org', 'FirstNameLastName': 'Liliana Carter', 'CreditCard': '4002-5265-4505-1161', 'CreditCardType': 'MasterCard'}, {'ID': '64', 'JobTitle': 'Bookkeeper', 'EmailAddress': 'Marvin_Veale1904@vetan.org', 'FirstNameLastName': 'Marvin Veale', 'CreditCard': '2821-3462-2303-0744', 'CreditCardType': 'Capital One'}, {'ID': '65', 'JobTitle': 'Fabricator', 'EmailAddress': 'Caleb_Cassidy438@extex.org', 'FirstNameLastName': 'Caleb Cassidy', 'CreditCard': '1744-5780-8468-7044', 'CreditCardType': 'Capital One'}, {'ID': '66', 'JobTitle': 'Mobile Developer', 'EmailAddress': 'Mya_King2505@deavo.com', 'FirstNameLastName': 'Mya King', 'CreditCard': '2786-2161-3447-4455', 'CreditCardType': 'Capital One'}, {'ID': '67', 'JobTitle': 'Assistant Buyer', 'EmailAddress': 'Abbey_Flanders597@supunk.biz', 'FirstNameLastName': 'Abbey Flanders', 'CreditCard': '8125-3062-6276-1406', 'CreditCardType': 'UnionPay'}, {'ID': '68', 'JobTitle': 'Project Manager', 'EmailAddress': 'Liam_Lynn3280@kideod.biz', 'FirstNameLastName': 'Liam Lynn', 'CreditCard': '7152-3247-6053-2233', 'CreditCardType': 'American Express'}, {'ID': '69', 'JobTitle': 'Electrician', 'EmailAddress': 'Erick_Wellington505@irrepsy.com', 'FirstNameLastName': 'Erick Wellington', 'CreditCard': '7875-7615-4748-2157', 'CreditCardType': 'Chase'}, {'ID': '70', 'JobTitle': 'Global Logistics Supervisor', 'EmailAddress': 'Jamie_Gray9867@yahoo.com', 'FirstNameLastName': 'Jamie Gray', 'CreditCard': '5256-2237-5830-4507', 'CreditCardType': 'Capital One'}, {'ID': '71', 'JobTitle': 'Lecturer', 'EmailAddress': 'Logan_Michael1305@nickia.com', 'FirstNameLastName': 'Logan Michael', 'CreditCard': '5763-1350-7520-3532', 'CreditCardType': 'Citibank'}, {'ID': '72', 'JobTitle': 'Audiologist', 'EmailAddress': 'Nick_Morris6523@atink.com', 'FirstNameLastName': 'Nick Morris', 'CreditCard': '6450-1322-4742-5753', 'CreditCardType': 'Citibank'}, {'ID': '73', 'JobTitle': 'Biologist', 'EmailAddress': 'Zara_Kelly8902@eirey.tech', 'FirstNameLastName': 'Zara Kelly', 'CreditCard': '6764-1038-8026-1613', 'CreditCardType': 'Chase'}, {'ID': '74', 'JobTitle': 'Dentist', 'EmailAddress': 'Regina_Woodcock5820@yahoo.com', 'FirstNameLastName': 'Regina Woodcock', 'CreditCard': '0208-1753-3870-8002', 'CreditCardType': 'American Express'}, {'ID': '75', 'JobTitle': 'Clerk', 'EmailAddress': 'Logan_Anderson8354@muall.tech', 'FirstNameLastName': 'Logan Anderson', 'CreditCard': '2788-5607-2366-3240', 'CreditCardType': 'Chase'}, {'ID': '76', 'JobTitle': 'Web Developer', 'EmailAddress': 'Charlize_Benfield1039@bauros.biz', 'FirstNameLastName': 'Charlize Benfield', 'CreditCard': '8814-2858-7221-3376', 'CreditCardType': 'Visa'}, {'ID': '77', 'JobTitle': 'Web Developer', 'EmailAddress': 'Barney_Riley6813@vetan.org', 'FirstNameLastName': 'Barney Riley', 'CreditCard': '8632-3080-6254-5510', 'CreditCardType': 'Citibank'}, {'ID': '78', 'JobTitle': 'Business Broker', 'EmailAddress': 'Rick_Edwards9166@corti.com', 'FirstNameLastName': 'Rick Edwards', 'CreditCard': '6747-0304-6147-0185', 'CreditCardType': 'MasterCard'}, {'ID': '79', 'JobTitle': 'Lecturer', 'EmailAddress': 'Remy_Vaughan8074@twipet.com', 'FirstNameLastName': 'Remy Vaughan', 'CreditCard': '6617-5671-7115-1004', 'CreditCardType': 'Capital One'}, {'ID': '80', 'JobTitle': 'Insurance Broker', 'EmailAddress': 'Mavis_Flanders4645@iatim.tech', 'FirstNameLastName': 'Mavis Flanders', 'CreditCard': '4843-2145-7055-2347', 'CreditCardType': 'Chase'}, {'ID': '81', 'JobTitle': 'HR Specialist', 'EmailAddress': 'Carter_Wallace9614@atink.com', 'FirstNameLastName': 'Carter Wallace', 'CreditCard': '4256-7201-6717-4322', 'CreditCardType': 'American Express'}, {'ID': '82', 'JobTitle': 'Cook', 'EmailAddress': 'Vera_Avery8052@womeona.net', 'FirstNameLastName': 'Vera Avery', 'CreditCard': '1764-7042-1226-5002', 'CreditCardType': 'Bank of America'}, {'ID': '83', 'JobTitle': 'Stockbroker', 'EmailAddress': 'Alexander_Huggins7943@deons.tech', 'FirstNameLastName': 'Alexander Huggins', 'CreditCard': '2460-4583-8540-8766', 'CreditCardType': 'Citibank'}, {'ID': '84', 'JobTitle': 'Cook', 'EmailAddress': 'Alma_Everett4997@acrit.org', 'FirstNameLastName': 'Alma Everett', 'CreditCard': '8330-6356-2615-0201', 'CreditCardType': 'Capital One'}, {'ID': '85', 'JobTitle': 'Global Logistics Supervisor', 'EmailAddress': 'Marvin_Reid7926@bretoux.com', 'FirstNameLastName': 'Marvin Reid', 'CreditCard': '3234-3554-1806-3082', 'CreditCardType': 'MasterCard'}, {'ID': '86', 'JobTitle': 'Staffing Consultant', 'EmailAddress': 'Brooklyn_Duvall6367@nimogy.biz', 'FirstNameLastName': 'Brooklyn Duvall', 'CreditCard': '5356-3431-8588-5071', 'CreditCardType': 'Wells Fargo'}, {'ID': '87', 'JobTitle': 'Electrician', 'EmailAddress': 'Chad_Mullins9299@twipet.com', 'FirstNameLastName': 'Chad Mullins', 'CreditCard': '7818-7020-6066-0813', 'CreditCardType': 'Wells Fargo'}, {'ID': '88', 'JobTitle': 'Project Manager', 'EmailAddress': 'Lucy_Latham3334@bretoux.com', 'FirstNameLastName': 'Lucy Latham', 'CreditCard': '7684-0613-7625-8222', 'CreditCardType': 'Wells Fargo'}, {'ID': '89', 'JobTitle': 'Inspector', 'EmailAddress': 'Dorothy_Gordon7252@guentu.biz', 'FirstNameLastName': 'Dorothy Gordon', 'CreditCard': '3582-4375-3185-8087', 'CreditCardType': 'Capital One'}, {'ID': '90', 'JobTitle': 'Systems Administrator', 'EmailAddress': 'David_Ring7929@mafthy.com', 'FirstNameLastName': 'David Ring', 'CreditCard': '7855-7234-8266-8574', 'CreditCardType': 'Maestro'}, {'ID': '91', 'JobTitle': 'Insurance Broker', 'EmailAddress': 'Mason_Lee7893@gmail.com', 'FirstNameLastName': 'Mason Lee', 'CreditCard': '3041-7301-0303-3203', 'CreditCardType': 'UnionPay'}, {'ID': '92', 'JobTitle': 'Staffing Consultant', 'EmailAddress': 'Maia_Stark2797@jiman.org', 'FirstNameLastName': 'Maia Stark', 'CreditCard': '3851-1403-1734-6321', 'CreditCardType': 'American Express'}, {'ID': '93', 'JobTitle': 'Retail Trainee', 'EmailAddress': 'John_Richardson7481@iatim.tech', 'FirstNameLastName': 'John Richardson', 'CreditCard': '3771-4034-8432-8335', 'CreditCardType': 'Maestro'}, {'ID': '94', 'JobTitle': 'Bellman', 'EmailAddress': 'Ryan_Stewart9634@infotech44.tech', 'FirstNameLastName': 'Ryan Stewart', 'CreditCard': '7018-1875-7414-6004', 'CreditCardType': 'Wells Fargo'}, {'ID': '95', 'JobTitle': 'Baker', 'EmailAddress': 'Barney_Ebbs3496@deons.tech', 'FirstNameLastName': 'Barney Ebbs', 'CreditCard': '5114-5536-7367-8526', 'CreditCardType': 'UnionPay'}, {'ID': '96', 'JobTitle': 'Design Engineer', 'EmailAddress': 'Anthony_Welsch9633@jiman.org', 'FirstNameLastName': 'Anthony Welsch', 'CreditCard': '7137-8037-2575-2550', 'CreditCardType': 'Bank of America'}, {'ID': '97', 'JobTitle': 'Stockbroker', 'EmailAddress': 'Ciara_Lomax982@bauros.biz', 'FirstNameLastName': 'Ciara Lomax', 'CreditCard': '3702-3440-2472-5424', 'CreditCardType': 'American Express'}, {'ID': '98', 'JobTitle': 'Webmaster', 'EmailAddress': 'Roger_Walsh3414@fuliss.net', 'FirstNameLastName': 'Roger Walsh', 'CreditCard': '1715-0341-7800-4452', 'CreditCardType': 'Chase'}, {'ID': '99', 'JobTitle': 'Bookkeeper', 'EmailAddress': 'Benny_Verdon7869@acrit.org', 'FirstNameLastName': 'Benny Verdon', 'CreditCard': '0568-6710-4464-2882', 'CreditCardType': 'MasterCard'}, {'ID': '100', 'JobTitle': 'IT Support Staff', 'EmailAddress': 'Logan_Booth1361@bulaffy.com', 'FirstNameLastName': 'Logan Booth', 'CreditCard': '8763-8068-8511-7223', 'CreditCardType': 'UnionPay'}, {'ID': '101', 'JobTitle': 'Investment  Advisor', 'EmailAddress': 'Harry_Hall4872@cispeto.com', 'FirstNameLastName': 'Harry Hall', 'CreditCard': '2022-8687-3282-0601', 'CreditCardType': 'MasterCard'}, {'ID': '102', 'JobTitle': 'Ambulatory Nurse', 'EmailAddress': 'Michael_Jeffery206@deavo.com', 'FirstNameLastName': 'Michael Jeffery', 'CreditCard': '4570-7035-5853-4117', 'CreditCardType': 'Chase'}, {'ID': '103', 'JobTitle': 'Executive Director', 'EmailAddress': 'Kimberly_Wright1384@tonsy.org', 'FirstNameLastName': 'Kimberly Wright', 'CreditCard': '0268-6867-0612-4832', 'CreditCardType': 'MasterCard'}, {'ID': '104', 'JobTitle': 'Software Engineer', 'EmailAddress': 'Andrea_Hobson8456@mafthy.com', 'FirstNameLastName': 'Andrea Hobson', 'CreditCard': '1441-4347-5278-2825', 'CreditCardType': 'Chase'}, {'ID': '105', 'JobTitle': 'Insurance Broker', 'EmailAddress': 'Jayden_Gibbons5308@hourpy.biz', 'FirstNameLastName': 'Jayden Gibbons', 'CreditCard': '7510-0024-0464-3248', 'CreditCardType': 'Visa'}, {'ID': '106', 'JobTitle': 'Service Supervisor', 'EmailAddress': 'Alan_Beal5846@iatim.tech', 'FirstNameLastName': 'Alan Beal', 'CreditCard': '7535-3620-6524-1418', 'CreditCardType': 'Discover'}, {'ID': '107', 'JobTitle': 'Cook', 'EmailAddress': 'Mark_Oswald337@joiniaa.com', 'FirstNameLastName': 'Mark Oswald', 'CreditCard': '3370-4228-0125-5362', 'CreditCardType': 'Discover'}, {'ID': '108', 'JobTitle': 'Web Developer', 'EmailAddress': 'Alan_Tate8854@sveldo.biz', 'FirstNameLastName': 'Alan Tate', 'CreditCard': '4102-5681-2372-1043', 'CreditCardType': 'Citibank'}, {'ID': '109', 'JobTitle': 'Accountant', 'EmailAddress': 'Cristal_Norris7765@hourpy.biz', 'FirstNameLastName': 'Cristal Norris', 'CreditCard': '8138-2758-7125-4730', 'CreditCardType': 'Chase'}, {'ID': '110', 'JobTitle': 'Ambulatory Nurse', 'EmailAddress': 'Anthony_Partridge5764@guentu.biz', 'FirstNameLastName': 'Anthony Partridge', 'CreditCard': '2211-3350-1371-8600', 'CreditCardType': 'Capital One'}, {'ID': '111', 'JobTitle': 'Business Broker', 'EmailAddress': 'Tony_Veale2744@nimogy.biz', 'FirstNameLastName': 'Tony Veale', 'CreditCard': '3731-3227-5681-4825', 'CreditCardType': 'Discover'}, {'ID': '112', 'JobTitle': 'Chef Manager', 'EmailAddress': 'Rachael_Bayliss8221@naiker.biz', 'FirstNameLastName': 'Rachael Bayliss', 'CreditCard': '3744-2118-4378-6106', 'CreditCardType': 'Wells Fargo'}, {'ID': '113', 'JobTitle': 'Health Educator', 'EmailAddress': 'Eden_Thorne532@kideod.biz', 'FirstNameLastName': 'Eden Thorne', 'CreditCard': '3265-8384-2428-8103', 'CreditCardType': 'Capital One'}, {'ID': '114', 'JobTitle': 'Auditor', 'EmailAddress': 'Chuck_Thomas3048@naiker.biz', 'FirstNameLastName': 'Chuck Thomas', 'CreditCard': '4020-7353-3107-4716', 'CreditCardType': 'Chase'}, {'ID': '115', 'JobTitle': 'Fabricator', 'EmailAddress': 'Manuel_Shelton5599@famism.biz', 'FirstNameLastName': 'Manuel Shelton', 'CreditCard': '6334-3032-8386-7575', 'CreditCardType': 'Visa'}, {'ID': '116', 'JobTitle': 'Staffing Consultant', 'EmailAddress': 'Isabel_Ellwood1475@fuliss.net', 'FirstNameLastName': 'Isabel Ellwood', 'CreditCard': '3738-0882-0066-6683', 'CreditCardType': 'American Express'}, {'ID': '117', 'JobTitle': 'Doctor', 'EmailAddress': 'Jacob_Milner9300@fuliss.net', 'FirstNameLastName': 'Jacob Milner', 'CreditCard': '5534-6374-5803-4411', 'CreditCardType': 'Visa'}, {'ID': '118', 'JobTitle': 'Lecturer', 'EmailAddress': 'Marilyn_Grant438@vetan.org', 'FirstNameLastName': 'Marilyn Grant', 'CreditCard': '3108-1341-3737-2503', 'CreditCardType': 'Chase'}, {'ID': '119', 'JobTitle': 'Food Technologist', 'EmailAddress': 'Callie_Reynolds1898@grannar.com', 'FirstNameLastName': 'Callie Reynolds', 'CreditCard': '7243-0302-5344-3286', 'CreditCardType': 'Visa'}, {'ID': '120', 'JobTitle': 'Budget Analyst', 'EmailAddress': 'Lexi_Rogan8851@joiniaa.com', 'FirstNameLastName': 'Lexi Rogan', 'CreditCard': '7488-2874-7165-7631', 'CreditCardType': 'Wells Fargo'}, {'ID': '121', 'JobTitle': 'Cash Manager', 'EmailAddress': 'Judith_Kaur9513@deavo.com', 'FirstNameLastName': 'Judith Kaur', 'CreditCard': '2265-6237-6225-1144', 'CreditCardType': 'Wells Fargo'}, {'ID': '122', 'JobTitle': 'Executive Director', 'EmailAddress': 'Denis_Weston6437@infotech44.tech', 'FirstNameLastName': 'Denis Weston', 'CreditCard': '6205-6711-0573-1040', 'CreditCardType': 'Bank of America'}, {'ID': '123', 'JobTitle': 'Banker', 'EmailAddress': 'Tony_Edwards6996@gembat.biz', 'FirstNameLastName': 'Tony Edwards', 'CreditCard': '7603-3178-8011-7801', 'CreditCardType': 'UnionPay'}, {'ID': '124', 'JobTitle': 'IT Support Staff', 'EmailAddress': 'Denis_Bentley1511@vetan.org', 'FirstNameLastName': 'Denis Bentley', 'CreditCard': '4684-5383-1016-1401', 'CreditCardType': 'MasterCard'}, {'ID': '125', 'JobTitle': 'IT Support Staff', 'EmailAddress': 'Cameron_Allen2322@ovock.tech', 'FirstNameLastName': 'Cameron Allen', 'CreditCard': '3261-0630-6165-7023', 'CreditCardType': 'Bank of America'}, {'ID': '126', 'JobTitle': 'Auditor', 'EmailAddress': 'Jack_Mccall3362@bulaffy.com', 'FirstNameLastName': 'Jack Mccall', 'CreditCard': '7865-7311-2187-3707', 'CreditCardType': 'Discover'}, {'ID': '127', 'JobTitle': 'Cash Manager', 'EmailAddress': 'Oliver_Lunt569@bretoux.com', 'FirstNameLastName': 'Oliver Lunt', 'CreditCard': '6220-0412-0351-2651', 'CreditCardType': 'Bank of America'}, {'ID': '128', 'JobTitle': 'Web Developer', 'EmailAddress': 'Jolene_Reynolds9508@famism.biz', 'FirstNameLastName': 'Jolene Reynolds', 'CreditCard': '3575-2480-2565-5217', 'CreditCardType': 'Visa'}, {'ID': '129', 'JobTitle': 'Clerk', 'EmailAddress': 'Harvey_Nash6502@jiman.org', 'FirstNameLastName': 'Harvey Nash', 'CreditCard': '7027-3400-8045-7441', 'CreditCardType': 'Citibank'}, {'ID': '130', 'JobTitle': 'Production Painter', 'EmailAddress': 'Aleksandra_Andersson9641@mafthy.com', 'FirstNameLastName': 'Aleksandra Andersson', 'CreditCard': '6088-3346-1220-2748', 'CreditCardType': 'Citibank'}, {'ID': '131', 'JobTitle': 'Business Broker', 'EmailAddress': 'Gwenyth_Hunt534@bauros.biz', 'FirstNameLastName': 'Gwenyth Hunt', 'CreditCard': '0652-5250-5713-3882', 'CreditCardType': 'Bank of America'}, {'ID': '132', 'JobTitle': 'Insurance Broker', 'EmailAddress': 'Chadwick_Blackburn9324@dionrab.com', 'FirstNameLastName': 'Chadwick Blackburn', 'CreditCard': '5083-3141-5835-2074', 'CreditCardType': 'Visa'}, {'ID': '133', 'JobTitle': 'Web Developer', 'EmailAddress': 'Eileen_Burnley3255@guentu.biz', 'FirstNameLastName': 'Eileen Burnley', 'CreditCard': '1133-6788-1871-7473', 'CreditCardType': 'Wells Fargo'}, {'ID': '134', 'JobTitle': 'Chef Manager', 'EmailAddress': 'Rufus_Farmer3047@tonsy.org', 'FirstNameLastName': 'Rufus Farmer', 'CreditCard': '4144-7680-8354-5514', 'CreditCardType': 'Citibank'}, {'ID': '135', 'JobTitle': 'Steward', 'EmailAddress': 'Jocelyn_Moran8514@bretoux.com', 'FirstNameLastName': 'Jocelyn Moran', 'CreditCard': '3847-6831-3858-5087', 'CreditCardType': 'Citibank'}, {'ID': '136', 'JobTitle': 'Healthcare Specialist', 'EmailAddress': 'Nicholas_Pearson3012@eirey.tech', 'FirstNameLastName': 'Nicholas Pearson', 'CreditCard': '2374-1618-7465-7727', 'CreditCardType': 'UnionPay'}, {'ID': '137', 'JobTitle': 'Bookkeeper', 'EmailAddress': 'Julius_Preston5894@iatim.tech', 'FirstNameLastName': 'Julius Preston', 'CreditCard': '3323-6545-0018-5863', 'CreditCardType': 'Capital One'}, {'ID': '138', 'JobTitle': 'Associate Professor', 'EmailAddress': 'Aleksandra_Logan7526@brety.org', 'FirstNameLastName': 'Aleksandra Logan', 'CreditCard': '0210-5386-8713-6525', 'CreditCardType': 'Maestro'}, {'ID': '139', 'JobTitle': 'Front Desk Coordinator', 'EmailAddress': 'Beatrice_Willis8490@sveldo.biz', 'FirstNameLastName': 'Beatrice Willis', 'CreditCard': '8466-7417-4022-7367', 'CreditCardType': 'UnionPay'}, {'ID': '140', 'JobTitle': 'Banker', 'EmailAddress': 'Jules_Poulton1014@muall.tech', 'FirstNameLastName': 'Jules Poulton', 'CreditCard': '1354-4035-7543-1021', 'CreditCardType': 'Visa'}, {'ID': '141', 'JobTitle': 'Budget Analyst', 'EmailAddress': 'Cedrick_Griffiths4021@zorer.org', 'FirstNameLastName': 'Cedrick Griffiths', 'CreditCard': '4777-5571-8472-2714', 'CreditCardType': 'Citibank'}, {'ID': '142', 'JobTitle': 'Call Center Representative', 'EmailAddress': 'Daniel_Dann7047@twace.org', 'FirstNameLastName': 'Daniel Dann', 'CreditCard': '5585-0072-1257-8811', 'CreditCardType': 'UnionPay'}, {'ID': '143', 'JobTitle': 'Insurance Broker', 'EmailAddress': 'Rebecca_Lynch4293@bungar.biz', 'FirstNameLastName': 'Rebecca Lynch', 'CreditCard': '6021-5882-2782-6475', 'CreditCardType': 'Citibank'}, {'ID': '144', 'JobTitle': 'Inspector', 'EmailAddress': 'Tyler_Yoman3293@nickia.com', 'FirstNameLastName': 'Tyler Yoman', 'CreditCard': '0771-3657-3436-8114', 'CreditCardType': 'Maestro'}, {'ID': '145', 'JobTitle': 'Healthcare Specialist', 'EmailAddress': 'Karla_Wren3859@sveldo.biz', 'FirstNameLastName': 'Karla Wren', 'CreditCard': '4082-6776-8720-6821', 'CreditCardType': 'Bank of America'}, {'ID': '146', 'JobTitle': 'Audiologist', 'EmailAddress': 'Rosemary_Stevenson6023@gmail.com', 'FirstNameLastName': 'Rosemary Stevenson', 'CreditCard': '2663-5881-1874-4487', 'CreditCardType': 'Bank of America'}, {'ID': '147', 'JobTitle': 'Investment  Advisor', 'EmailAddress': 'Johnny_Beal529@hourpy.biz', 'FirstNameLastName': 'Johnny Beal', 'CreditCard': '0617-0040-7635-6685', 'CreditCardType': 'Chase'}, {'ID': '148', 'JobTitle': 'CNC Operator', 'EmailAddress': 'Abdul_Townend2202@infotech44.tech', 'FirstNameLastName': 'Abdul Townend', 'CreditCard': '4224-1226-3557-3448', 'CreditCardType': 'American Express'}, {'ID': '149', 'JobTitle': 'Budget Analyst', 'EmailAddress': 'Mark_Slater7583@vetan.org', 'FirstNameLastName': 'Mark Slater', 'CreditCard': '2285-4660-3635-6676', 'CreditCardType': 'UnionPay'}, {'ID': '150', 'JobTitle': 'Fabricator', 'EmailAddress': 'Caleb_Poulton1735@atink.com', 'FirstNameLastName': 'Caleb Poulton', 'CreditCard': '8203-6875-5225-0341', 'CreditCardType': 'American Express'}, {'ID': '151', 'JobTitle': 'Restaurant Manager', 'EmailAddress': 'Ronald_Lewis6777@deavo.com', 'FirstNameLastName': 'Ronald Lewis', 'CreditCard': '7212-0155-5014-8471', 'CreditCardType': 'American Express'}, {'ID': '152', 'JobTitle': 'Health Educator', 'EmailAddress': 'Sienna_Buckley3263@nanoff.biz', 'FirstNameLastName': 'Sienna Buckley', 'CreditCard': '6200-1344-2606-3532', 'CreditCardType': 'Citibank'}, {'ID': '153', 'JobTitle': 'Pharmacist', 'EmailAddress': 'Logan_Phillips5510@vetan.org', 'FirstNameLastName': 'Logan Phillips', 'CreditCard': '3621-3464-0520-1551', 'CreditCardType': 'Capital One'}, {'ID': '154', 'JobTitle': 'Bellman', 'EmailAddress': 'Faith_Seymour3829@twace.org', 'FirstNameLastName': 'Faith Seymour', 'CreditCard': '4170-5186-6887-6558', 'CreditCardType': 'American Express'}, {'ID': '155', 'JobTitle': 'Audiologist', 'EmailAddress': 'Eileen_Styles7729@ovock.tech', 'FirstNameLastName': 'Eileen Styles', 'CreditCard': '1814-5623-0272-5240', 'CreditCardType': 'Discover'}, {'ID': '156', 'JobTitle': 'Production Painter', 'EmailAddress': 'Nick_Chappell5282@ovock.tech', 'FirstNameLastName': 'Nick Chappell', 'CreditCard': '5654-0733-8503-3875', 'CreditCardType': 'UnionPay'}, {'ID': '157', 'JobTitle': 'Restaurant Manager', 'EmailAddress': 'Hanna_Eastwood4725@nanoff.biz', 'FirstNameLastName': 'Hanna Eastwood', 'CreditCard': '5231-8507-2436-4627', 'CreditCardType': 'Wells Fargo'}, {'ID': '158', 'JobTitle': 'Cash Manager', 'EmailAddress': 'Allison_Savage7188@joiniaa.com', 'FirstNameLastName': 'Allison Savage', 'CreditCard': '8327-8283-3324-4474', 'CreditCardType': 'Visa'}, {'ID': '159', 'JobTitle': 'Designer', 'EmailAddress': 'Noemi_Ulyatt6551@mafthy.com', 'FirstNameLastName': 'Noemi Ulyatt', 'CreditCard': '8011-6740-2184-1656', 'CreditCardType': 'Wells Fargo'}, {'ID': '160', 'JobTitle': 'Retail Trainee', 'EmailAddress': 'Davina_Moss147@ovock.tech', 'FirstNameLastName': 'Davina Moss', 'CreditCard': '6602-8511-4711-1077', 'CreditCardType': 'Visa'}, {'ID': '161', 'JobTitle': 'Audiologist', 'EmailAddress': 'Morgan_Little7676@typill.biz', 'FirstNameLastName': 'Morgan Little', 'CreditCard': '1011-1176-7187-1062', 'CreditCardType': 'Chase'}, {'ID': '162', 'JobTitle': 'Bellman', 'EmailAddress': 'Norah_Thorpe1830@qater.org', 'FirstNameLastName': 'Norah Thorpe', 'CreditCard': '7524-3631-7658-0764', 'CreditCardType': 'Capital One'}, {'ID': '163', 'JobTitle': 'Service Supervisor', 'EmailAddress': 'Daron_Jefferson1096@bretoux.com', 'FirstNameLastName': 'Daron Jefferson', 'CreditCard': '4261-5408-8465-7465', 'CreditCardType': 'Bank of America'}, {'ID': '164', 'JobTitle': 'Lecturer', 'EmailAddress': 'Henry_Fox3843@acrit.org', 'FirstNameLastName': 'Henry Fox', 'CreditCard': '2034-6817-2581-7854', 'CreditCardType': 'MasterCard'}, {'ID': '165', 'JobTitle': 'Loan Officer', 'EmailAddress': 'Doug_Herbert6079@atink.com', 'FirstNameLastName': 'Doug Herbert', 'CreditCard': '0516-7446-0481-3621', 'CreditCardType': 'Chase'}, {'ID': '166', 'JobTitle': 'Call Center Representative', 'EmailAddress': 'Michael_Kennedy8633@hourpy.biz', 'FirstNameLastName': 'Michael Kennedy', 'CreditCard': '1351-5812-2585-6133', 'CreditCardType': 'Discover'}, {'ID': '167', 'JobTitle': 'Software Engineer', 'EmailAddress': 'Stephanie_Potts1575@iatim.tech', 'FirstNameLastName': 'Stephanie Potts', 'CreditCard': '4875-3126-8688-0732', 'CreditCardType': 'Wells Fargo'}, {'ID': '168', 'JobTitle': 'Lecturer', 'EmailAddress': 'Maia_Gray2116@acrit.org', 'FirstNameLastName': 'Maia Gray', 'CreditCard': '7366-7652-3158-7363', 'CreditCardType': 'MasterCard'}, {'ID': '169', 'JobTitle': 'Assistant Buyer', 'EmailAddress': 'Anthony_Hancock9083@qater.org', 'FirstNameLastName': 'Anthony Hancock', 'CreditCard': '0832-3357-6010-6550', 'CreditCardType': 'American Express'}, {'ID': '170', 'JobTitle': 'Pharmacist', 'EmailAddress': 'Grace_Carter6572@nanoff.biz', 'FirstNameLastName': 'Grace Carter', 'CreditCard': '8086-5543-2884-3417', 'CreditCardType': 'Wells Fargo'}, {'ID': '171', 'JobTitle': 'Bellman', 'EmailAddress': 'Liliana_Kelly1630@naiker.biz', 'FirstNameLastName': 'Liliana Kelly', 'CreditCard': '5844-6786-8086-5682', 'CreditCardType': 'Wells Fargo'}, {'ID': '172', 'JobTitle': 'Laboratory Technician', 'EmailAddress': 'Boris_Edley2953@womeona.net', 'FirstNameLastName': 'Boris Edley', 'CreditCard': '7416-4687-4854-8766', 'CreditCardType': 'Wells Fargo'}, {'ID': '173', 'JobTitle': 'Pharmacist', 'EmailAddress': 'Sebastian_Ingram5921@womeona.net', 'FirstNameLastName': 'Sebastian Ingram', 'CreditCard': '8261-2885-8176-0870', 'CreditCardType': 'MasterCard'}, {'ID': '174', 'JobTitle': 'Chef Manager', 'EmailAddress': 'Francesca_Dixon8335@deons.tech', 'FirstNameLastName': 'Francesca Dixon', 'CreditCard': '1626-7806-5478-4472', 'CreditCardType': 'Bank of America'}, {'ID': '175', 'JobTitle': 'Dentist', 'EmailAddress': 'Hannah_Ellison9896@bungar.biz', 'FirstNameLastName': 'Hannah Ellison', 'CreditCard': '5447-5484-2108-2381', 'CreditCardType': 'Citibank'}, {'ID': '176', 'JobTitle': 'Healthcare Specialist', 'EmailAddress': 'Isabella_Willson5478@nanoff.biz', 'FirstNameLastName': 'Isabella Willson', 'CreditCard': '5177-4868-4623-0384', 'CreditCardType': 'American Express'}, {'ID': '177', 'JobTitle': 'Staffing Consultant', 'EmailAddress': 'Bree_Parker1037@mafthy.com', 'FirstNameLastName': 'Bree Parker', 'CreditCard': '5241-1587-3365-2660', 'CreditCardType': 'Citibank'}, {'ID': '178', 'JobTitle': 'Paramedic', 'EmailAddress': 'Adina_Boyle8787@kideod.biz', 'FirstNameLastName': 'Adina Boyle', 'CreditCard': '3648-3118-4266-6708', 'CreditCardType': 'Chase'}, {'ID': '179', 'JobTitle': 'HR Specialist', 'EmailAddress': 'Goldie_Steer3872@iatim.tech', 'FirstNameLastName': 'Goldie Steer', 'CreditCard': '7475-7075-2864-6048', 'CreditCardType': 'Capital One'}, {'ID': '180', 'JobTitle': 'Assistant Buyer', 'EmailAddress': 'Kieth_Emmett4167@nickia.com', 'FirstNameLastName': 'Kieth Emmett', 'CreditCard': '7405-2442-5778-0324', 'CreditCardType': 'Discover'}, {'ID': '181', 'JobTitle': 'Mobile Developer', 'EmailAddress': 'Elijah_Asher6273@gmail.com', 'FirstNameLastName': 'Elijah Asher', 'CreditCard': '0542-0666-7242-3345', 'CreditCardType': 'Citibank'}, {'ID': '182', 'JobTitle': 'Pharmacist', 'EmailAddress': 'Stephanie_Darcy3298@bauros.biz', 'FirstNameLastName': 'Stephanie Darcy', 'CreditCard': '0264-4020-5106-5576', 'CreditCardType': 'American Express'}, {'ID': '183', 'JobTitle': 'Front Desk Coordinator', 'EmailAddress': 'Catherine_Uttridge7292@zorer.org', 'FirstNameLastName': 'Catherine Uttridge', 'CreditCard': '6434-6657-2788-7035', 'CreditCardType': 'Visa'}, {'ID': '184', 'JobTitle': 'Doctor', 'EmailAddress': 'Kurt_Wellington7802@corti.com', 'FirstNameLastName': 'Kurt Wellington', 'CreditCard': '6160-3164-0571-6633', 'CreditCardType': 'UnionPay'}, {'ID': '185', 'JobTitle': 'Web Developer', 'EmailAddress': 'Tony_Rose5831@tonsy.org', 'FirstNameLastName': 'Tony Rose', 'CreditCard': '1560-5872-1473-1501', 'CreditCardType': 'Discover'}, {'ID': '186', 'JobTitle': 'Food Technologist', 'EmailAddress': 'Rocco_Redwood583@iatim.tech', 'FirstNameLastName': 'Rocco Redwood', 'CreditCard': '8834-0805-2035-3324', 'CreditCardType': 'Capital One'}, {'ID': '187', 'JobTitle': 'Bookkeeper', 'EmailAddress': 'Joy_Walsh1627@brety.org', 'FirstNameLastName': 'Joy Walsh', 'CreditCard': '1586-3878-2222-0582', 'CreditCardType': 'Maestro'}, {'ID': '188', 'JobTitle': 'Pharmacist', 'EmailAddress': 'Wade_Holmes7255@twipet.com', 'FirstNameLastName': 'Wade Holmes', 'CreditCard': '4728-4782-3285-0100', 'CreditCardType': 'Capital One'}, {'ID': '189', 'JobTitle': 'Treasurer', 'EmailAddress': 'Chester_James7934@corti.com', 'FirstNameLastName': 'Chester James', 'CreditCard': '0424-4527-1238-2584', 'CreditCardType': 'Wells Fargo'}, {'ID': '190', 'JobTitle': 'Accountant', 'EmailAddress': 'Ivy_Driscoll8949@grannar.com', 'FirstNameLastName': 'Ivy Driscoll', 'CreditCard': '7882-8612-1056-4741', 'CreditCardType': 'Visa'}, {'ID': '191', 'JobTitle': 'Loan Officer', 'EmailAddress': 'Gabriel_Flett5372@atink.com', 'FirstNameLastName': 'Gabriel Flett', 'CreditCard': '5535-1852-5140-5740', 'CreditCardType': 'UnionPay'}, {'ID': '192', 'JobTitle': 'Assistant Buyer', 'EmailAddress': 'Oliver_Knight4399@fuliss.net', 'FirstNameLastName': 'Oliver Knight', 'CreditCard': '7330-2356-8252-0807', 'CreditCardType': 'Chase'}, {'ID': '193', 'JobTitle': 'IT Support Staff', 'EmailAddress': 'Eden_Crawford5855@acrit.org', 'FirstNameLastName': 'Eden Crawford', 'CreditCard': '4483-2474-2212-3628', 'CreditCardType': 'Capital One'}, {'ID': '194', 'JobTitle': 'Mobile Developer', 'EmailAddress': 'Maia_Archer6553@qater.org', 'FirstNameLastName': 'Maia Archer', 'CreditCard': '5456-1380-4338-6641', 'CreditCardType': 'Wells Fargo'}, {'ID': '195', 'JobTitle': 'Project Manager', 'EmailAddress': 'Nicholas_Stubbs3276@vetan.org', 'FirstNameLastName': 'Nicholas Stubbs', 'CreditCard': '1414-2546-6072-2757', 'CreditCardType': 'Citibank'}, {'ID': '196', 'JobTitle': 'Loan Officer', 'EmailAddress': 'Wade_Khan6086@twipet.com', 'FirstNameLastName': 'Wade Khan', 'CreditCard': '1363-2250-6020-4481', 'CreditCardType': 'Capital One'}, {'ID': '197', 'JobTitle': 'Cook', 'EmailAddress': 'Ally_Rose8531@twace.org', 'FirstNameLastName': 'Ally Rose', 'CreditCard': '6056-7620-3676-2804', 'CreditCardType': 'Maestro'}, {'ID': '198', 'JobTitle': 'Machine Operator', 'EmailAddress': 'Harvey_Moore7505@extex.org', 'FirstNameLastName': 'Harvey Moore', 'CreditCard': '4353-7464-5078-5485', 'CreditCardType': 'UnionPay'}, {'ID': '199', 'JobTitle': 'Investment  Advisor', 'EmailAddress': 'Ryan_Kennedy5565@corti.com', 'FirstNameLastName': 'Ryan Kennedy', 'CreditCard': '3166-6287-6242-7207', 'CreditCardType': 'American Express'}, {'ID': '200', 'JobTitle': 'Stockbroker', 'EmailAddress': 'Michaela_Murphy8359@ovock.tech', 'FirstNameLastName': 'Michaela Murphy', 'CreditCard': '4783-1022-5267-5557', 'CreditCardType': 'Discover'}]\n"
          ]
        }
      ]
    },
    {
      "cell_type": "markdown",
      "source": [
        "show a sample of that"
      ],
      "metadata": {
        "id": "SAMuEl8yoLsL"
      }
    },
    {
      "cell_type": "code",
      "source": [
        "dataset[1]"
      ],
      "metadata": {
        "colab": {
          "base_uri": "https://localhost:8080/"
        },
        "id": "NoMSL4Ah-aZh",
        "outputId": "dc1674d4-9647-441f-af4c-173be335931d"
      },
      "execution_count": 11,
      "outputs": [
        {
          "output_type": "execute_result",
          "data": {
            "text/plain": [
              "{'ID': '2',\n",
              " 'JobTitle': 'Investment  Advisor',\n",
              " 'EmailAddress': 'Clint_Thorpe5003@bulaffy.com',\n",
              " 'FirstNameLastName': 'Clint Thorpe',\n",
              " 'CreditCard': '7083-8766-0251-2345',\n",
              " 'CreditCardType': 'American Express'}"
            ]
          },
          "metadata": {},
          "execution_count": 11
        }
      ]
    },
    {
      "cell_type": "markdown",
      "source": [
        "and filter the data by the \"CreditCardType\" when it equals to \"American Express\". Than save the data to a new CSV file.\n",
        "\n",
        "**bold text**"
      ],
      "metadata": {
        "id": "6xkvEX6FmZyB"
      }
    },
    {
      "cell_type": "code",
      "source": [
        "#make list and append all the CreditCardType\" when it equals to \"American Express\"\n",
        "list3=[]\n",
        "for i in range(200):\n",
        "  if dataset[i]['CreditCardType']==\"American Express\":\n",
        "    list3.append(dataset[i])\n",
        "print(list3)\n"
      ],
      "metadata": {
        "colab": {
          "base_uri": "https://localhost:8080/"
        },
        "id": "34wPf5ucuaZ3",
        "outputId": "31c72e93-ca2a-4cd0-dcec-4a8e36a8a318"
      },
      "execution_count": 12,
      "outputs": [
        {
          "output_type": "stream",
          "name": "stdout",
          "text": [
            "[{'ID': '2', 'JobTitle': 'Investment  Advisor', 'EmailAddress': 'Clint_Thorpe5003@bulaffy.com', 'FirstNameLastName': 'Clint Thorpe', 'CreditCard': '7083-8766-0251-2345', 'CreditCardType': 'American Express'}, {'ID': '12', 'JobTitle': 'Retail Trainee', 'EmailAddress': 'Phillip_Carpenter9505@famism.biz', 'FirstNameLastName': 'Phillip Carpenter', 'CreditCard': '3657-0088-0820-5247', 'CreditCardType': 'American Express'}, {'ID': '28', 'JobTitle': 'Project Manager', 'EmailAddress': 'Russel_Graves1378@extex.org', 'FirstNameLastName': 'Russel Graves', 'CreditCard': '6718-4818-8011-6024', 'CreditCardType': 'American Express'}, {'ID': '39', 'JobTitle': 'Stockbroker', 'EmailAddress': 'Leanne_Newton1268@typill.biz', 'FirstNameLastName': 'Leanne Newton', 'CreditCard': '5438-0816-4166-4847', 'CreditCardType': 'American Express'}, {'ID': '57', 'JobTitle': 'Budget Analyst', 'EmailAddress': 'Tony_Giles1960@iatim.tech', 'FirstNameLastName': 'Tony Giles', 'CreditCard': '8130-3425-7573-7745', 'CreditCardType': 'American Express'}, {'ID': '62', 'JobTitle': 'CNC Operator', 'EmailAddress': 'Owen_Allcott5125@bauros.biz', 'FirstNameLastName': 'Owen Allcott', 'CreditCard': '4156-0107-7210-2630', 'CreditCardType': 'American Express'}, {'ID': '68', 'JobTitle': 'Project Manager', 'EmailAddress': 'Liam_Lynn3280@kideod.biz', 'FirstNameLastName': 'Liam Lynn', 'CreditCard': '7152-3247-6053-2233', 'CreditCardType': 'American Express'}, {'ID': '74', 'JobTitle': 'Dentist', 'EmailAddress': 'Regina_Woodcock5820@yahoo.com', 'FirstNameLastName': 'Regina Woodcock', 'CreditCard': '0208-1753-3870-8002', 'CreditCardType': 'American Express'}, {'ID': '81', 'JobTitle': 'HR Specialist', 'EmailAddress': 'Carter_Wallace9614@atink.com', 'FirstNameLastName': 'Carter Wallace', 'CreditCard': '4256-7201-6717-4322', 'CreditCardType': 'American Express'}, {'ID': '92', 'JobTitle': 'Staffing Consultant', 'EmailAddress': 'Maia_Stark2797@jiman.org', 'FirstNameLastName': 'Maia Stark', 'CreditCard': '3851-1403-1734-6321', 'CreditCardType': 'American Express'}, {'ID': '97', 'JobTitle': 'Stockbroker', 'EmailAddress': 'Ciara_Lomax982@bauros.biz', 'FirstNameLastName': 'Ciara Lomax', 'CreditCard': '3702-3440-2472-5424', 'CreditCardType': 'American Express'}, {'ID': '116', 'JobTitle': 'Staffing Consultant', 'EmailAddress': 'Isabel_Ellwood1475@fuliss.net', 'FirstNameLastName': 'Isabel Ellwood', 'CreditCard': '3738-0882-0066-6683', 'CreditCardType': 'American Express'}, {'ID': '148', 'JobTitle': 'CNC Operator', 'EmailAddress': 'Abdul_Townend2202@infotech44.tech', 'FirstNameLastName': 'Abdul Townend', 'CreditCard': '4224-1226-3557-3448', 'CreditCardType': 'American Express'}, {'ID': '150', 'JobTitle': 'Fabricator', 'EmailAddress': 'Caleb_Poulton1735@atink.com', 'FirstNameLastName': 'Caleb Poulton', 'CreditCard': '8203-6875-5225-0341', 'CreditCardType': 'American Express'}, {'ID': '151', 'JobTitle': 'Restaurant Manager', 'EmailAddress': 'Ronald_Lewis6777@deavo.com', 'FirstNameLastName': 'Ronald Lewis', 'CreditCard': '7212-0155-5014-8471', 'CreditCardType': 'American Express'}, {'ID': '154', 'JobTitle': 'Bellman', 'EmailAddress': 'Faith_Seymour3829@twace.org', 'FirstNameLastName': 'Faith Seymour', 'CreditCard': '4170-5186-6887-6558', 'CreditCardType': 'American Express'}, {'ID': '169', 'JobTitle': 'Assistant Buyer', 'EmailAddress': 'Anthony_Hancock9083@qater.org', 'FirstNameLastName': 'Anthony Hancock', 'CreditCard': '0832-3357-6010-6550', 'CreditCardType': 'American Express'}, {'ID': '176', 'JobTitle': 'Healthcare Specialist', 'EmailAddress': 'Isabella_Willson5478@nanoff.biz', 'FirstNameLastName': 'Isabella Willson', 'CreditCard': '5177-4868-4623-0384', 'CreditCardType': 'American Express'}, {'ID': '182', 'JobTitle': 'Pharmacist', 'EmailAddress': 'Stephanie_Darcy3298@bauros.biz', 'FirstNameLastName': 'Stephanie Darcy', 'CreditCard': '0264-4020-5106-5576', 'CreditCardType': 'American Express'}, {'ID': '199', 'JobTitle': 'Investment  Advisor', 'EmailAddress': 'Ryan_Kennedy5565@corti.com', 'FirstNameLastName': 'Ryan Kennedy', 'CreditCard': '3166-6287-6242-7207', 'CreditCardType': 'American Express'}]\n"
          ]
        }
      ]
    },
    {
      "cell_type": "code",
      "source": [
        "\n",
        "print(list3[4])"
      ],
      "metadata": {
        "colab": {
          "base_uri": "https://localhost:8080/"
        },
        "id": "JaDpjaVo_1Gn",
        "outputId": "99acfcb7-e1ee-4f24-9ef5-9e15de5889c1"
      },
      "execution_count": 13,
      "outputs": [
        {
          "output_type": "stream",
          "name": "stdout",
          "text": [
            "{'ID': '57', 'JobTitle': 'Budget Analyst', 'EmailAddress': 'Tony_Giles1960@iatim.tech', 'FirstNameLastName': 'Tony Giles', 'CreditCard': '8130-3425-7573-7745', 'CreditCardType': 'American Express'}\n"
          ]
        }
      ]
    },
    {
      "cell_type": "code",
      "source": [
        "out_file = open(\"myfile.json\", \"w\")\n",
        "  \n",
        "json.dump(list3, out_file, indent = 6)\n",
        "  \n",
        "out_file.close()"
      ],
      "metadata": {
        "id": "wicEH5KfWPRh"
      },
      "execution_count": 14,
      "outputs": []
    },
    {
      "cell_type": "code",
      "source": [
        "!cat myfile.json"
      ],
      "metadata": {
        "colab": {
          "base_uri": "https://localhost:8080/"
        },
        "id": "c0luDGifsUQi",
        "outputId": "04449af3-46b2-4a9b-c7f0-71915d00f896"
      },
      "execution_count": 16,
      "outputs": [
        {
          "output_type": "stream",
          "name": "stdout",
          "text": [
            "[\n",
            "      {\n",
            "            \"ID\": \"2\",\n",
            "            \"JobTitle\": \"Investment  Advisor\",\n",
            "            \"EmailAddress\": \"Clint_Thorpe5003@bulaffy.com\",\n",
            "            \"FirstNameLastName\": \"Clint Thorpe\",\n",
            "            \"CreditCard\": \"7083-8766-0251-2345\",\n",
            "            \"CreditCardType\": \"American Express\"\n",
            "      },\n",
            "      {\n",
            "            \"ID\": \"12\",\n",
            "            \"JobTitle\": \"Retail Trainee\",\n",
            "            \"EmailAddress\": \"Phillip_Carpenter9505@famism.biz\",\n",
            "            \"FirstNameLastName\": \"Phillip Carpenter\",\n",
            "            \"CreditCard\": \"3657-0088-0820-5247\",\n",
            "            \"CreditCardType\": \"American Express\"\n",
            "      },\n",
            "      {\n",
            "            \"ID\": \"28\",\n",
            "            \"JobTitle\": \"Project Manager\",\n",
            "            \"EmailAddress\": \"Russel_Graves1378@extex.org\",\n",
            "            \"FirstNameLastName\": \"Russel Graves\",\n",
            "            \"CreditCard\": \"6718-4818-8011-6024\",\n",
            "            \"CreditCardType\": \"American Express\"\n",
            "      },\n",
            "      {\n",
            "            \"ID\": \"39\",\n",
            "            \"JobTitle\": \"Stockbroker\",\n",
            "            \"EmailAddress\": \"Leanne_Newton1268@typill.biz\",\n",
            "            \"FirstNameLastName\": \"Leanne Newton\",\n",
            "            \"CreditCard\": \"5438-0816-4166-4847\",\n",
            "            \"CreditCardType\": \"American Express\"\n",
            "      },\n",
            "      {\n",
            "            \"ID\": \"57\",\n",
            "            \"JobTitle\": \"Budget Analyst\",\n",
            "            \"EmailAddress\": \"Tony_Giles1960@iatim.tech\",\n",
            "            \"FirstNameLastName\": \"Tony Giles\",\n",
            "            \"CreditCard\": \"8130-3425-7573-7745\",\n",
            "            \"CreditCardType\": \"American Express\"\n",
            "      },\n",
            "      {\n",
            "            \"ID\": \"62\",\n",
            "            \"JobTitle\": \"CNC Operator\",\n",
            "            \"EmailAddress\": \"Owen_Allcott5125@bauros.biz\",\n",
            "            \"FirstNameLastName\": \"Owen Allcott\",\n",
            "            \"CreditCard\": \"4156-0107-7210-2630\",\n",
            "            \"CreditCardType\": \"American Express\"\n",
            "      },\n",
            "      {\n",
            "            \"ID\": \"68\",\n",
            "            \"JobTitle\": \"Project Manager\",\n",
            "            \"EmailAddress\": \"Liam_Lynn3280@kideod.biz\",\n",
            "            \"FirstNameLastName\": \"Liam Lynn\",\n",
            "            \"CreditCard\": \"7152-3247-6053-2233\",\n",
            "            \"CreditCardType\": \"American Express\"\n",
            "      },\n",
            "      {\n",
            "            \"ID\": \"74\",\n",
            "            \"JobTitle\": \"Dentist\",\n",
            "            \"EmailAddress\": \"Regina_Woodcock5820@yahoo.com\",\n",
            "            \"FirstNameLastName\": \"Regina Woodcock\",\n",
            "            \"CreditCard\": \"0208-1753-3870-8002\",\n",
            "            \"CreditCardType\": \"American Express\"\n",
            "      },\n",
            "      {\n",
            "            \"ID\": \"81\",\n",
            "            \"JobTitle\": \"HR Specialist\",\n",
            "            \"EmailAddress\": \"Carter_Wallace9614@atink.com\",\n",
            "            \"FirstNameLastName\": \"Carter Wallace\",\n",
            "            \"CreditCard\": \"4256-7201-6717-4322\",\n",
            "            \"CreditCardType\": \"American Express\"\n",
            "      },\n",
            "      {\n",
            "            \"ID\": \"92\",\n",
            "            \"JobTitle\": \"Staffing Consultant\",\n",
            "            \"EmailAddress\": \"Maia_Stark2797@jiman.org\",\n",
            "            \"FirstNameLastName\": \"Maia Stark\",\n",
            "            \"CreditCard\": \"3851-1403-1734-6321\",\n",
            "            \"CreditCardType\": \"American Express\"\n",
            "      },\n",
            "      {\n",
            "            \"ID\": \"97\",\n",
            "            \"JobTitle\": \"Stockbroker\",\n",
            "            \"EmailAddress\": \"Ciara_Lomax982@bauros.biz\",\n",
            "            \"FirstNameLastName\": \"Ciara Lomax\",\n",
            "            \"CreditCard\": \"3702-3440-2472-5424\",\n",
            "            \"CreditCardType\": \"American Express\"\n",
            "      },\n",
            "      {\n",
            "            \"ID\": \"116\",\n",
            "            \"JobTitle\": \"Staffing Consultant\",\n",
            "            \"EmailAddress\": \"Isabel_Ellwood1475@fuliss.net\",\n",
            "            \"FirstNameLastName\": \"Isabel Ellwood\",\n",
            "            \"CreditCard\": \"3738-0882-0066-6683\",\n",
            "            \"CreditCardType\": \"American Express\"\n",
            "      },\n",
            "      {\n",
            "            \"ID\": \"148\",\n",
            "            \"JobTitle\": \"CNC Operator\",\n",
            "            \"EmailAddress\": \"Abdul_Townend2202@infotech44.tech\",\n",
            "            \"FirstNameLastName\": \"Abdul Townend\",\n",
            "            \"CreditCard\": \"4224-1226-3557-3448\",\n",
            "            \"CreditCardType\": \"American Express\"\n",
            "      },\n",
            "      {\n",
            "            \"ID\": \"150\",\n",
            "            \"JobTitle\": \"Fabricator\",\n",
            "            \"EmailAddress\": \"Caleb_Poulton1735@atink.com\",\n",
            "            \"FirstNameLastName\": \"Caleb Poulton\",\n",
            "            \"CreditCard\": \"8203-6875-5225-0341\",\n",
            "            \"CreditCardType\": \"American Express\"\n",
            "      },\n",
            "      {\n",
            "            \"ID\": \"151\",\n",
            "            \"JobTitle\": \"Restaurant Manager\",\n",
            "            \"EmailAddress\": \"Ronald_Lewis6777@deavo.com\",\n",
            "            \"FirstNameLastName\": \"Ronald Lewis\",\n",
            "            \"CreditCard\": \"7212-0155-5014-8471\",\n",
            "            \"CreditCardType\": \"American Express\"\n",
            "      },\n",
            "      {\n",
            "            \"ID\": \"154\",\n",
            "            \"JobTitle\": \"Bellman\",\n",
            "            \"EmailAddress\": \"Faith_Seymour3829@twace.org\",\n",
            "            \"FirstNameLastName\": \"Faith Seymour\",\n",
            "            \"CreditCard\": \"4170-5186-6887-6558\",\n",
            "            \"CreditCardType\": \"American Express\"\n",
            "      },\n",
            "      {\n",
            "            \"ID\": \"169\",\n",
            "            \"JobTitle\": \"Assistant Buyer\",\n",
            "            \"EmailAddress\": \"Anthony_Hancock9083@qater.org\",\n",
            "            \"FirstNameLastName\": \"Anthony Hancock\",\n",
            "            \"CreditCard\": \"0832-3357-6010-6550\",\n",
            "            \"CreditCardType\": \"American Express\"\n",
            "      },\n",
            "      {\n",
            "            \"ID\": \"176\",\n",
            "            \"JobTitle\": \"Healthcare Specialist\",\n",
            "            \"EmailAddress\": \"Isabella_Willson5478@nanoff.biz\",\n",
            "            \"FirstNameLastName\": \"Isabella Willson\",\n",
            "            \"CreditCard\": \"5177-4868-4623-0384\",\n",
            "            \"CreditCardType\": \"American Express\"\n",
            "      },\n",
            "      {\n",
            "            \"ID\": \"182\",\n",
            "            \"JobTitle\": \"Pharmacist\",\n",
            "            \"EmailAddress\": \"Stephanie_Darcy3298@bauros.biz\",\n",
            "            \"FirstNameLastName\": \"Stephanie Darcy\",\n",
            "            \"CreditCard\": \"0264-4020-5106-5576\",\n",
            "            \"CreditCardType\": \"American Express\"\n",
            "      },\n",
            "      {\n",
            "            \"ID\": \"199\",\n",
            "            \"JobTitle\": \"Investment  Advisor\",\n",
            "            \"EmailAddress\": \"Ryan_Kennedy5565@corti.com\",\n",
            "            \"FirstNameLastName\": \"Ryan Kennedy\",\n",
            "            \"CreditCard\": \"3166-6287-6242-7207\",\n",
            "            \"CreditCardType\": \"American Express\"\n",
            "      }\n",
            "]"
          ]
        }
      ]
    },
    {
      "cell_type": "markdown",
      "source": [
        "Than save the data to a new CSV file."
      ],
      "metadata": {
        "id": "2DE-On6G_mLk"
      }
    },
    {
      "cell_type": "markdown",
      "source": [
        "convert the previous json file which CreditCardType\" when it equals to \"American Express\" to the csv file "
      ],
      "metadata": {
        "id": "t18avCmeobb_"
      }
    },
    {
      "cell_type": "markdown",
      "source": [
        "in jupyter it works and newcsv has the data\n",
        "but in colab sometimes it is empty aaccording to loading the data."
      ],
      "metadata": {
        "id": "oJjYnRUKuSBD"
      }
    },
    {
      "cell_type": "code",
      "source": [
        "import json \n",
        "\n",
        "with open('myfile.json') as json_file:\n",
        "    data = json.load(json_file)\n",
        "print(type(data))\n",
        "newData = data\n",
        " \n",
        "# now we will open a file for writing\n",
        "data_file = open('newcsv.csv', 'w')\n",
        " \n",
        "csv_writer = csv.writer(data_file)\n",
        " \n",
        "# Counter variable used for writing\n",
        "# headers to the CSV file\n",
        "count = 0\n",
        " \n",
        "for h in newData:\n",
        "    if count == 0:\n",
        " \n",
        "        # Writing headers of CSV file\n",
        "        header = h.keys()\n",
        "        csv_writer.writerow(header)\n",
        "        count += 1\n",
        "    # Writing data of CSV file\n",
        "    csv_writer.writerow(h.values())"
      ],
      "metadata": {
        "colab": {
          "base_uri": "https://localhost:8080/"
        },
        "id": "B-a_DrDq6GQ_",
        "outputId": "581abc34-f23d-4252-abaf-cd96f0bdd2bc"
      },
      "execution_count": 27,
      "outputs": [
        {
          "output_type": "stream",
          "name": "stdout",
          "text": [
            "<class 'list'>\n"
          ]
        }
      ]
    },
    {
      "cell_type": "code",
      "source": [
        "#the final result for ex 3 is:\n",
        "!cat newcsv.csv"
      ],
      "metadata": {
        "id": "nPNY1buTnRZG"
      },
      "execution_count": 28,
      "outputs": []
    },
    {
      "cell_type": "markdown",
      "source": [
        "3. CSV files with Pandas\n",
        "\n",
        "Load the file from this url:"
      ],
      "metadata": {
        "id": "gTXckzzGnb99"
      }
    },
    {
      "cell_type": "code",
      "source": [
        "!wget https://www.dropbox.com/s/kgshemfgk22iy79/mushrooms_categorized.csv"
      ],
      "metadata": {
        "colab": {
          "base_uri": "https://localhost:8080/"
        },
        "id": "RoxP8CPIneyO",
        "outputId": "d5b7b56d-ed44-4d32-deaa-84ad3aae8a5d"
      },
      "execution_count": 20,
      "outputs": [
        {
          "output_type": "stream",
          "name": "stdout",
          "text": [
            "--2022-12-01 08:01:07--  https://www.dropbox.com/s/kgshemfgk22iy79/mushrooms_categorized.csv\n",
            "Resolving www.dropbox.com (www.dropbox.com)... 162.125.6.18, 2620:100:6019:18::a27d:412\n",
            "Connecting to www.dropbox.com (www.dropbox.com)|162.125.6.18|:443... connected.\n",
            "HTTP request sent, awaiting response... 302 Found\n",
            "Location: /s/raw/kgshemfgk22iy79/mushrooms_categorized.csv [following]\n",
            "--2022-12-01 08:01:07--  https://www.dropbox.com/s/raw/kgshemfgk22iy79/mushrooms_categorized.csv\n",
            "Reusing existing connection to www.dropbox.com:443.\n",
            "HTTP request sent, awaiting response... 302 Found\n",
            "Location: https://ucc3b655fbfe7f3ddf729e36e8e1.dl.dropboxusercontent.com/cd/0/inline/BxyUzAyOZWLST9NyfHfdvzBgW5Oa6blosxwKV-DZgy6UnHH_3SIdwswklRcZSKjjFWOa_xdratrIPBgXG3qIxLB-x4udYN8A5QkFYPFFGsTRG9XjfIv2S1CEuQ_XDdIJZ5LLLsvOs2DE8XOab8fNc1gMSA430VQi4PWSUWiJmmJdPg/file# [following]\n",
            "--2022-12-01 08:01:08--  https://ucc3b655fbfe7f3ddf729e36e8e1.dl.dropboxusercontent.com/cd/0/inline/BxyUzAyOZWLST9NyfHfdvzBgW5Oa6blosxwKV-DZgy6UnHH_3SIdwswklRcZSKjjFWOa_xdratrIPBgXG3qIxLB-x4udYN8A5QkFYPFFGsTRG9XjfIv2S1CEuQ_XDdIJZ5LLLsvOs2DE8XOab8fNc1gMSA430VQi4PWSUWiJmmJdPg/file\n",
            "Resolving ucc3b655fbfe7f3ddf729e36e8e1.dl.dropboxusercontent.com (ucc3b655fbfe7f3ddf729e36e8e1.dl.dropboxusercontent.com)... 162.125.6.15, 2620:100:601c:15::a27d:60f\n",
            "Connecting to ucc3b655fbfe7f3ddf729e36e8e1.dl.dropboxusercontent.com (ucc3b655fbfe7f3ddf729e36e8e1.dl.dropboxusercontent.com)|162.125.6.15|:443... connected.\n",
            "HTTP request sent, awaiting response... 200 OK\n",
            "Length: 375292 (366K) [text/plain]\n",
            "Saving to: ‘mushrooms_categorized.csv’\n",
            "\n",
            "mushrooms_categoriz 100%[===================>] 366.50K  --.-KB/s    in 0.007s  \n",
            "\n",
            "2022-12-01 08:01:08 (51.9 MB/s) - ‘mushrooms_categorized.csv’ saved [375292/375292]\n",
            "\n"
          ]
        }
      ]
    },
    {
      "cell_type": "code",
      "source": [
        "import pandas as pd\n",
        "\n",
        "dataf = pd.read_csv('mushrooms_categorized.csv')\n",
        "print(dataf) \n"
      ],
      "metadata": {
        "colab": {
          "base_uri": "https://localhost:8080/"
        },
        "id": "RdNL7OU7pqhU",
        "outputId": "108a706b-87a8-48a6-fbe6-c259447ce7ea"
      },
      "execution_count": 21,
      "outputs": [
        {
          "output_type": "stream",
          "name": "stdout",
          "text": [
            "      class  cap-shape  cap-surface  cap-color  bruises  odor  \\\n",
            "0         1          5            2          4        1     6   \n",
            "1         0          5            2          9        1     0   \n",
            "2         0          0            2          8        1     3   \n",
            "3         1          5            3          8        1     6   \n",
            "4         0          5            2          3        0     5   \n",
            "...     ...        ...          ...        ...      ...   ...   \n",
            "8119      0          3            2          4        0     5   \n",
            "8120      0          5            2          4        0     5   \n",
            "8121      0          2            2          4        0     5   \n",
            "8122      1          3            3          4        0     8   \n",
            "8123      0          5            2          4        0     5   \n",
            "\n",
            "      gill-attachment  gill-spacing  gill-size  gill-color  ...  \\\n",
            "0                   1             0          1           4  ...   \n",
            "1                   1             0          0           4  ...   \n",
            "2                   1             0          0           5  ...   \n",
            "3                   1             0          1           5  ...   \n",
            "4                   1             1          0           4  ...   \n",
            "...               ...           ...        ...         ...  ...   \n",
            "8119                0             0          0          11  ...   \n",
            "8120                0             0          0          11  ...   \n",
            "8121                0             0          0           5  ...   \n",
            "8122                1             0          1           0  ...   \n",
            "8123                0             0          0          11  ...   \n",
            "\n",
            "      stalk-surface-below-ring  stalk-color-above-ring  \\\n",
            "0                            2                       7   \n",
            "1                            2                       7   \n",
            "2                            2                       7   \n",
            "3                            2                       7   \n",
            "4                            2                       7   \n",
            "...                        ...                     ...   \n",
            "8119                         2                       5   \n",
            "8120                         2                       5   \n",
            "8121                         2                       5   \n",
            "8122                         1                       7   \n",
            "8123                         2                       5   \n",
            "\n",
            "      stalk-color-below-ring  veil-type  veil-color  ring-number  ring-type  \\\n",
            "0                          7          0           2            1          4   \n",
            "1                          7          0           2            1          4   \n",
            "2                          7          0           2            1          4   \n",
            "3                          7          0           2            1          4   \n",
            "4                          7          0           2            1          0   \n",
            "...                      ...        ...         ...          ...        ...   \n",
            "8119                       5          0           1            1          4   \n",
            "8120                       5          0           0            1          4   \n",
            "8121                       5          0           1            1          4   \n",
            "8122                       7          0           2            1          0   \n",
            "8123                       5          0           1            1          4   \n",
            "\n",
            "      spore-print-color  population  habitat  \n",
            "0                     2           3        5  \n",
            "1                     3           2        1  \n",
            "2                     3           2        3  \n",
            "3                     2           3        5  \n",
            "4                     3           0        1  \n",
            "...                 ...         ...      ...  \n",
            "8119                  0           1        2  \n",
            "8120                  0           4        2  \n",
            "8121                  0           1        2  \n",
            "8122                  7           4        2  \n",
            "8123                  4           1        2  \n",
            "\n",
            "[8124 rows x 23 columns]\n"
          ]
        }
      ]
    },
    {
      "cell_type": "code",
      "source": [
        "print(dataf[\"class\"])\n",
        "print(dataf['class'].shape)\n",
        "print(dataf['class'].unique())"
      ],
      "metadata": {
        "colab": {
          "base_uri": "https://localhost:8080/"
        },
        "id": "XkjlLWPIsW5r",
        "outputId": "e7218fd3-7bc2-4d0e-e403-6880608e8612"
      },
      "execution_count": 22,
      "outputs": [
        {
          "output_type": "stream",
          "name": "stdout",
          "text": [
            "0       1\n",
            "1       0\n",
            "2       0\n",
            "3       1\n",
            "4       0\n",
            "       ..\n",
            "8119    0\n",
            "8120    0\n",
            "8121    0\n",
            "8122    1\n",
            "8123    0\n",
            "Name: class, Length: 8124, dtype: int64\n",
            "(8124,)\n",
            "[1 0]\n"
          ]
        }
      ]
    },
    {
      "cell_type": "markdown",
      "source": [
        "so we have just 2 classes in class column , for each one we should run and execute groupby method.\n",
        "\n",
        "**calculate, using groupby(), the average value of each feature, separately for each class**\n"
      ],
      "metadata": {
        "id": "MvW2qWKBtY3S"
      }
    },
    {
      "cell_type": "code",
      "source": [
        "g=dataf.groupby('class').mean()\n",
        "print(g)\n",
        "print(g.shape)"
      ],
      "metadata": {
        "colab": {
          "base_uri": "https://localhost:8080/"
        },
        "id": "R4qqTEV1tmb5",
        "outputId": "7ee1c4f2-d6bc-49b5-f91e-0377b93166be"
      },
      "execution_count": 23,
      "outputs": [
        {
          "output_type": "stream",
          "name": "stdout",
          "text": [
            "       cap-shape  cap-surface  cap-color   bruises      odor  gill-attachment  \\\n",
            "class                                                                           \n",
            "0       3.266160     1.615970   4.581749  0.653992  4.334601         0.954373   \n",
            "1       3.436159     2.055158   4.421859  0.159346  3.940756         0.995403   \n",
            "\n",
            "       gill-spacing  gill-size  gill-color  stalk-shape  ...  \\\n",
            "class                                                    ...   \n",
            "0          0.285171   0.068441    6.622624     0.615970  ...   \n",
            "1          0.028601   0.567926    2.863636     0.514811  ...   \n",
            "\n",
            "       stalk-surface-below-ring  stalk-color-above-ring  \\\n",
            "class                                                     \n",
            "0                      1.798479                6.098859   \n",
            "1                      1.394280                5.512768   \n",
            "\n",
            "       stalk-color-below-ring  veil-type  veil-color  ring-number  ring-type  \\\n",
            "class                                                                          \n",
            "0                    6.064639        0.0    1.931559     1.125475   3.007605   \n",
            "1                    5.504597        0.0    2.002043     1.009193   1.522983   \n",
            "\n",
            "       spore-print-color  population   habitat  \n",
            "class                                           \n",
            "0               3.201521    3.283270  1.148289  \n",
            "1               4.021450    4.031665  1.895812  \n",
            "\n",
            "[2 rows x 22 columns]\n",
            "(2, 22)\n"
          ]
        }
      ]
    },
    {
      "cell_type": "markdown",
      "source": [
        "save the file in a JSON format.\n"
      ],
      "metadata": {
        "id": "11403B8kvxY4"
      }
    },
    {
      "cell_type": "code",
      "source": [
        "g.to_csv('final.csv')"
      ],
      "metadata": {
        "id": "gKLfgQqq5Ngq"
      },
      "execution_count": 24,
      "outputs": []
    },
    {
      "cell_type": "markdown",
      "source": [
        "Function to convert a CSV to JSON\n",
        "Takes the file paths as arguments"
      ],
      "metadata": {
        "id": "j_aOvE6do4yo"
      }
    },
    {
      "cell_type": "code",
      "source": [
        "import csv\n",
        "import json\n",
        " \n",
        " \n",
        "# \n",
        "def csvTojson(csvFilePath, jsonFilePath):\n",
        "     \n",
        "    data = {}\n",
        "     \n",
        "    with open(csvFilePath, encoding='utf-8') as csvf:\n",
        "        csvReader = csv.DictReader(csvf)\n",
        "        for rows in csvReader:\n",
        "            key = rows['class']\n",
        "            data[key] = rows\n",
        " \n",
        "   \n",
        "    with open(jsonFilePath, 'w', encoding='utf-8') as j:\n",
        "        j.write(json.dumps(data, indent=4))\n",
        "         \n",
        "csvFilePath = r'final.csv'\n",
        "jsonFilePath = r'afterGroupbywithClass.json'\n",
        " \n",
        "csvTojson(csvFilePath, jsonFilePath)"
      ],
      "metadata": {
        "id": "a3QpYAOMvw3o"
      },
      "execution_count": 25,
      "outputs": []
    },
    {
      "cell_type": "code",
      "source": [
        "#the final file for ex3 after groupby and savig in json format is:\n",
        "!cat afterGroupbywithClass.json"
      ],
      "metadata": {
        "colab": {
          "base_uri": "https://localhost:8080/"
        },
        "id": "VHx-qTV73Ol_",
        "outputId": "0598a62d-6ad1-4556-ca4f-a292820c7458"
      },
      "execution_count": 26,
      "outputs": [
        {
          "output_type": "stream",
          "name": "stdout",
          "text": [
            "{\n",
            "    \"0\": {\n",
            "        \"class\": \"0\",\n",
            "        \"cap-shape\": \"3.2661596958174903\",\n",
            "        \"cap-surface\": \"1.6159695817490494\",\n",
            "        \"cap-color\": \"4.581749049429658\",\n",
            "        \"bruises\": \"0.6539923954372624\",\n",
            "        \"odor\": \"4.334600760456274\",\n",
            "        \"gill-attachment\": \"0.9543726235741445\",\n",
            "        \"gill-spacing\": \"0.28517110266159695\",\n",
            "        \"gill-size\": \"0.06844106463878327\",\n",
            "        \"gill-color\": \"6.6226235741444865\",\n",
            "        \"stalk-shape\": \"0.6159695817490495\",\n",
            "        \"stalk-root\": \"1.4980988593155893\",\n",
            "        \"stalk-surface-above-ring\": \"1.7756653992395437\",\n",
            "        \"stalk-surface-below-ring\": \"1.7984790874524714\",\n",
            "        \"stalk-color-above-ring\": \"6.098859315589354\",\n",
            "        \"stalk-color-below-ring\": \"6.064638783269962\",\n",
            "        \"veil-type\": \"0.0\",\n",
            "        \"veil-color\": \"1.9315589353612168\",\n",
            "        \"ring-number\": \"1.1254752851711027\",\n",
            "        \"ring-type\": \"3.0076045627376424\",\n",
            "        \"spore-print-color\": \"3.2015209125475286\",\n",
            "        \"population\": \"3.283269961977186\",\n",
            "        \"habitat\": \"1.1482889733840305\"\n",
            "    },\n",
            "    \"1\": {\n",
            "        \"class\": \"1\",\n",
            "        \"cap-shape\": \"3.436159346271706\",\n",
            "        \"cap-surface\": \"2.0551583248212464\",\n",
            "        \"cap-color\": \"4.421859039836568\",\n",
            "        \"bruises\": \"0.15934627170582227\",\n",
            "        \"odor\": \"3.940755873340143\",\n",
            "        \"gill-attachment\": \"0.9954034729315628\",\n",
            "        \"gill-spacing\": \"0.028600612870275793\",\n",
            "        \"gill-size\": \"0.567926455566905\",\n",
            "        \"gill-color\": \"2.8636363636363638\",\n",
            "        \"stalk-shape\": \"0.5148110316649642\",\n",
            "        \"stalk-root\": \"0.6925434116445353\",\n",
            "        \"stalk-surface-above-ring\": \"1.3595505617977528\",\n",
            "        \"stalk-surface-below-ring\": \"1.3942798774259448\",\n",
            "        \"stalk-color-above-ring\": \"5.512768130745659\",\n",
            "        \"stalk-color-below-ring\": \"5.504596527068437\",\n",
            "        \"veil-type\": \"0.0\",\n",
            "        \"veil-color\": \"2.0020429009193053\",\n",
            "        \"ring-number\": \"1.0091930541368743\",\n",
            "        \"ring-type\": \"1.5229826353421858\",\n",
            "        \"spore-print-color\": \"4.021450459652707\",\n",
            "        \"population\": \"4.0316649642492335\",\n",
            "        \"habitat\": \"1.895812053115424\"\n",
            "    }\n",
            "}"
          ]
        }
      ]
    },
    {
      "cell_type": "markdown",
      "source": [
        "4. Reading the credit card numbers\n",
        "Get the binary file named credit_card.dat from this address:\n",
        "\n",
        "https://www.dropbox.com/s/8m0syw2tkul3dap/credit_card.dat\n",
        "and convert the data into the real credit card number, knowing that:"
      ],
      "metadata": {
        "id": "OdV7gMUj7BbD"
      }
    },
    {
      "cell_type": "code",
      "source": [
        "!wget https://www.dropbox.com/s/8m0syw2tkul3dap/credit_card.dat"
      ],
      "metadata": {
        "colab": {
          "base_uri": "https://localhost:8080/"
        },
        "id": "J5RcN-hCKdGz",
        "outputId": "e68ea626-4174-4565-a621-7015a3246162"
      },
      "execution_count": 1,
      "outputs": [
        {
          "output_type": "stream",
          "name": "stdout",
          "text": [
            "--2022-12-01 10:10:18--  https://www.dropbox.com/s/8m0syw2tkul3dap/credit_card.dat\n",
            "Resolving www.dropbox.com (www.dropbox.com)... 162.125.3.18, 2620:100:601b:18::a27d:812\n",
            "Connecting to www.dropbox.com (www.dropbox.com)|162.125.3.18|:443... connected.\n",
            "HTTP request sent, awaiting response... 302 Found\n",
            "Location: /s/raw/8m0syw2tkul3dap/credit_card.dat [following]\n",
            "--2022-12-01 10:10:19--  https://www.dropbox.com/s/raw/8m0syw2tkul3dap/credit_card.dat\n",
            "Reusing existing connection to www.dropbox.com:443.\n",
            "HTTP request sent, awaiting response... 302 Found\n",
            "Location: https://uc233f1057d2810212efc6c81608.dl.dropboxusercontent.com/cd/0/inline/BxyxxWqG6MEiKMyr3KOzLyzLv7RlmMZIq_fiA2Kp0jq0Upa7EoE6vMyyLVz_vST6Yo3mhvFb__mZZA4bQBuTqqDrYjX5yHVQl8uK7lLAK4eyfcQCCoHcgl0UUQqbH2Dz1LB6byvzP_5xLuuB6DhPP7jS40CUqS2ThfbFbDTsLlfDpQ/file# [following]\n",
            "--2022-12-01 10:10:19--  https://uc233f1057d2810212efc6c81608.dl.dropboxusercontent.com/cd/0/inline/BxyxxWqG6MEiKMyr3KOzLyzLv7RlmMZIq_fiA2Kp0jq0Upa7EoE6vMyyLVz_vST6Yo3mhvFb__mZZA4bQBuTqqDrYjX5yHVQl8uK7lLAK4eyfcQCCoHcgl0UUQqbH2Dz1LB6byvzP_5xLuuB6DhPP7jS40CUqS2ThfbFbDTsLlfDpQ/file\n",
            "Resolving uc233f1057d2810212efc6c81608.dl.dropboxusercontent.com (uc233f1057d2810212efc6c81608.dl.dropboxusercontent.com)... 162.125.80.15, 2620:100:601b:15::a27d:80f\n",
            "Connecting to uc233f1057d2810212efc6c81608.dl.dropboxusercontent.com (uc233f1057d2810212efc6c81608.dl.dropboxusercontent.com)|162.125.80.15|:443... connected.\n",
            "HTTP request sent, awaiting response... 302 Found\n",
            "Location: /cd/0/inline2/Bxxfq2Tsx96SaTLe7lpVEPvPnKnY0CDp1Cbq96pp3zk_cGyO_YXvHXvIkcf0OHG6HIGzn73zsbvCJmsbAvjRMwr9bGUBedgTTYRs9owlYlEP0BuXE83KhEKHtTIIYSfiFH7vxNO5w663TeZX0gMS3PPK6r1-E0_amlk0WPQk1weRDtVmaUxgdvA-EU7NTLIZoq9YRjIN0UnIaK6yheEQdprhiEPkT8OFQp7REzp8t31LXKrb7mvLrMizN23LpermZ8GTVvFRJ8Q_yUPbEbVn07NWIJvjBcIyWuwHQT8cQg_Bg9c4C8KDbAEov9_v15s4dBNivBgEkU020JqdoA3XcokHXxb7XOwePSBnYhrJl8hktva__n3w7KEBGxwTS0CAiMmoI6tCVJfTjUCQ6pGj3ty65dAqMRnpjG3qd2hRJGJMRg/file [following]\n",
            "--2022-12-01 10:10:20--  https://uc233f1057d2810212efc6c81608.dl.dropboxusercontent.com/cd/0/inline2/Bxxfq2Tsx96SaTLe7lpVEPvPnKnY0CDp1Cbq96pp3zk_cGyO_YXvHXvIkcf0OHG6HIGzn73zsbvCJmsbAvjRMwr9bGUBedgTTYRs9owlYlEP0BuXE83KhEKHtTIIYSfiFH7vxNO5w663TeZX0gMS3PPK6r1-E0_amlk0WPQk1weRDtVmaUxgdvA-EU7NTLIZoq9YRjIN0UnIaK6yheEQdprhiEPkT8OFQp7REzp8t31LXKrb7mvLrMizN23LpermZ8GTVvFRJ8Q_yUPbEbVn07NWIJvjBcIyWuwHQT8cQg_Bg9c4C8KDbAEov9_v15s4dBNivBgEkU020JqdoA3XcokHXxb7XOwePSBnYhrJl8hktva__n3w7KEBGxwTS0CAiMmoI6tCVJfTjUCQ6pGj3ty65dAqMRnpjG3qd2hRJGJMRg/file\n",
            "Reusing existing connection to uc233f1057d2810212efc6c81608.dl.dropboxusercontent.com:443.\n",
            "HTTP request sent, awaiting response... 200 OK\n",
            "Length: 5955 (5.8K) [application/x-ns-proxy-autoconfig]\n",
            "Saving to: ‘credit_card.dat’\n",
            "\n",
            "credit_card.dat     100%[===================>]   5.82K  --.-KB/s    in 0s      \n",
            "\n",
            "2022-12-01 10:10:20 (537 MB/s) - ‘credit_card.dat’ saved [5955/5955]\n",
            "\n"
          ]
        }
      ]
    },
    {
      "cell_type": "code",
      "source": [
        "with open('credit_card.dat' , 'r') as f:\n",
        "  number = 1\n",
        "  for j in f:\n",
        "    if (number != 51):\n",
        "      print(number, \")\" , ''.join([chr(int(j[i:i+6],2)) for i in range(0, len(j), 6)]))\n",
        "      number =number+1"
      ],
      "metadata": {
        "colab": {
          "base_uri": "https://localhost:8080/"
        },
        "id": "Hq1Z_3HhK6Hx",
        "outputId": "e8b3ac0b-d5ee-440b-e450-5f285bf6d01d"
      },
      "execution_count": 4,
      "outputs": [
        {
          "output_type": "stream",
          "name": "stdout",
          "text": [
            "1 ) 7648 5673 3775 2271\n",
            "\n",
            "2 ) 3257 8247 3354 2266\n",
            "\n",
            "3 ) 2722 0001 4011 6652\n",
            "\n",
            "4 ) 0661 3063 3742 3150\n",
            "\n",
            "5 ) 0432 1608 1462 4742\n",
            "\n",
            "6 ) 5827 2027 8785 7303\n",
            "\n",
            "7 ) 5774 8528 2087 1117\n",
            "\n",
            "8 ) 8140 1210 6352 2845\n",
            "\n",
            "9 ) 5764 1133 7301 7100\n",
            "\n",
            "10 ) 6456 1737 4126 6726\n",
            "\n",
            "11 ) 1228 8631 7382 0000\n",
            "\n",
            "12 ) 7051 0160 5374 3166\n",
            "\n",
            "13 ) 0618 3587 1630 6376\n",
            "\n",
            "14 ) 1545 5454 7444 5636\n",
            "\n",
            "15 ) 6735 3116 3202 6834\n",
            "\n",
            "16 ) 7287 5011 1547 8413\n",
            "\n",
            "17 ) 7033 2607 3328 4200\n",
            "\n",
            "18 ) 2568 5244 1874 5024\n",
            "\n",
            "19 ) 1684 2253 7570 7118\n",
            "\n",
            "20 ) 0672 2576 0575 6631\n",
            "\n",
            "21 ) 6332 8353 8787 1340\n",
            "\n",
            "22 ) 1813 3361 1175 4211\n",
            "\n",
            "23 ) 2477 6450 8840 2368\n",
            "\n",
            "24 ) 5512 3505 2563 1326\n",
            "\n",
            "25 ) 3083 7882 0621 0025\n",
            "\n",
            "26 ) 4521 5148 8045 0334\n",
            "\n",
            "27 ) 7563 3654 8713 5787\n",
            "\n",
            "28 ) 8324 2664 0476 5561\n",
            "\n",
            "29 ) 0565 2504 7168 3510\n",
            "\n",
            "30 ) 5107 5507 1767 0738\n",
            "\n",
            "31 ) 2462 1821 2448 1443\n",
            "\n",
            "32 ) 2788 0638 6861 6554\n",
            "\n",
            "33 ) 5851 5873 5474 0547\n",
            "\n",
            "34 ) 0670 1004 4013 2655\n",
            "\n",
            "35 ) 5874 5506 3048 0806\n",
            "\n",
            "36 ) 2805 5401 8462 1260\n",
            "\n",
            "37 ) 5083 8406 6310 1862\n",
            "\n",
            "38 ) 1076 1445 3013 2266\n",
            "\n",
            "39 ) 8440 4804 4844 5277\n",
            "\n",
            "40 ) 4758 6141 0686 1387\n",
            "\n",
            "41 ) 7586 0675 0315 2568\n",
            "\n",
            "42 ) 2544 1258 7432 5165\n",
            "\n",
            "43 ) 3474 5023 4434 5626\n",
            "\n",
            "44 ) 1410 0270 0434 5086\n",
            "\n",
            "45 ) 7315 4446 1104 4215\n",
            "\n",
            "46 ) 0224 7742 8300 0266\n",
            "\n",
            "47 ) 0170 2700 3145 0640\n",
            "\n",
            "48 ) 2006 2437 8054 1600\n",
            "\n",
            "49 ) 8142 4055 1776 0026\n",
            "\n",
            "50 ) 3026 7380 1241 1084\n",
            "\n"
          ]
        }
      ]
    },
    {
      "cell_type": "markdown",
      "source": [
        "ex5\n",
        "a) Start from the data/data_000637.txt file that we have used during the previous lectures, and convert it to a binary file according to the format defined below:"
      ],
      "metadata": {
        "id": "bfBfTDCKLSnN"
      }
    },
    {
      "cell_type": "code",
      "source": [
        "!wget https://www.dropbox.com/s/ga9wi6b40cakgae/data_000637.txt -P data/   "
      ],
      "metadata": {
        "colab": {
          "base_uri": "https://localhost:8080/"
        },
        "id": "yFQfrkEzLYvC",
        "outputId": "7068dea4-5006-467f-e757-78b39998203d"
      },
      "execution_count": 2,
      "outputs": [
        {
          "output_type": "stream",
          "name": "stdout",
          "text": [
            "--2022-12-01 16:13:29--  https://www.dropbox.com/s/ga9wi6b40cakgae/data_000637.txt\n",
            "Resolving www.dropbox.com (www.dropbox.com)... 162.125.1.18, 2620:100:6017:18::a27d:212\n",
            "Connecting to www.dropbox.com (www.dropbox.com)|162.125.1.18|:443... connected.\n",
            "HTTP request sent, awaiting response... 302 Found\n",
            "Location: /s/raw/ga9wi6b40cakgae/data_000637.txt [following]\n",
            "--2022-12-01 16:13:29--  https://www.dropbox.com/s/raw/ga9wi6b40cakgae/data_000637.txt\n",
            "Reusing existing connection to www.dropbox.com:443.\n",
            "HTTP request sent, awaiting response... 302 Found\n",
            "Location: https://uce30483878391d11f33feeb963e.dl.dropboxusercontent.com/cd/0/inline/Bxzl5PrfoDU_E3QYlVQXclHY1tUgMBb46K1YxUEqUxz9bj-ImHWenFE23KavddmUqjbJf0FHbqoFO4rUrniVT5lKrdt5b2JXjKqodoZsRXW8Yqmn_MJ3683F_hbfefniP12DMzEXMmRI9anbPhS581iT_rt91uMSZMbz-UZaNkXegg/file# [following]\n",
            "--2022-12-01 16:13:30--  https://uce30483878391d11f33feeb963e.dl.dropboxusercontent.com/cd/0/inline/Bxzl5PrfoDU_E3QYlVQXclHY1tUgMBb46K1YxUEqUxz9bj-ImHWenFE23KavddmUqjbJf0FHbqoFO4rUrniVT5lKrdt5b2JXjKqodoZsRXW8Yqmn_MJ3683F_hbfefniP12DMzEXMmRI9anbPhS581iT_rt91uMSZMbz-UZaNkXegg/file\n",
            "Resolving uce30483878391d11f33feeb963e.dl.dropboxusercontent.com (uce30483878391d11f33feeb963e.dl.dropboxusercontent.com)... 162.125.1.15, 2620:100:6021:15::a27d:410f\n",
            "Connecting to uce30483878391d11f33feeb963e.dl.dropboxusercontent.com (uce30483878391d11f33feeb963e.dl.dropboxusercontent.com)|162.125.1.15|:443... connected.\n",
            "HTTP request sent, awaiting response... 200 OK\n",
            "Length: 33179236 (32M) [text/plain]\n",
            "Saving to: ‘data/data_000637.txt’\n",
            "\n",
            "data_000637.txt     100%[===================>]  31.64M   127MB/s    in 0.2s    \n",
            "\n",
            "2022-12-01 16:13:30 (127 MB/s) - ‘data/data_000637.txt’ saved [33179236/33179236]\n",
            "\n"
          ]
        }
      ]
    },
    {
      "cell_type": "code",
      "source": [
        "import numpy as np\n",
        "import pandas as pd\n",
        "import csv\n",
        "import struct\n",
        "import os\n",
        "import math"
      ],
      "metadata": {
        "id": "vPD_P-tRfesX"
      },
      "execution_count": 3,
      "outputs": []
    },
    {
      "cell_type": "code",
      "source": [
        "data = pd.read_csv(\"data/data_000637.txt\" , nrows = 10)\n",
        "with open(\"data_000637.dat\", 'wb') as f:\n",
        "    for i in data.values: \n",
        "        Word =  (i[5] << 0 ) \n",
        "        Word += (i[4] << 5 ) \n",
        "        Word += (i[3] << 17) \n",
        "        Word += (i[2] << 49) \n",
        "        Word += (i[1] << 58)\n",
        "        Word += (i[0] << 62)\n",
        "        f.write(struct.pack('<q', Word))\n",
        "df1 = pd.DataFrame({}, columns = ['HEAD', 'FPGA', 'CHANNEL', 'ORBIT_CNT', 'BX_CNT', 'TDC_MEAS'])\n",
        "#compare with original data\n",
        "print(df1)\n",
        "#print(\"dkjfkdjf\")\n",
        "print(data)"
      ],
      "metadata": {
        "colab": {
          "base_uri": "https://localhost:8080/"
        },
        "id": "vFvYqAAfLp7Z",
        "outputId": "801318e7-6a34-4364-9f15-ed598da2f292"
      },
      "execution_count": 4,
      "outputs": [
        {
          "output_type": "stream",
          "name": "stdout",
          "text": [
            "Empty DataFrame\n",
            "Columns: [HEAD, FPGA, CHANNEL, ORBIT_CNT, BX_CNT, TDC_MEAS]\n",
            "Index: []\n",
            "dkjfkdjf\n",
            "   HEAD  FPGA  TDC_CHANNEL   ORBIT_CNT  BX_COUNTER  TDC_MEAS\n",
            "0     1     0          123  3869200167        2374        26\n",
            "1     1     0          124  3869200167        2374        27\n",
            "2     1     0           63  3869200167        2553        28\n",
            "3     1     0           64  3869200167        2558        19\n",
            "4     1     0           64  3869200167        2760        25\n",
            "5     1     0           63  3869200167        2762         4\n",
            "6     1     0           61  3869200167        2772        14\n",
            "7     1     0          139  3869200167        2776         0\n",
            "8     1     0           62  3869200167        2774        21\n",
            "9     1     0           60  3869200167        2788         7\n"
          ]
        }
      ]
    },
    {
      "cell_type": "code",
      "source": [
        "\n",
        "with open( \"data_000637.dat\" , 'rb') as file:\n",
        "    content = file.read()\n",
        "    Counter = 0\n",
        "    for i in range(0, len(content), 8):\n",
        "        s = 8\n",
        "        Counter += 1\n",
        "        if Counter > 10: \n",
        "          break\n",
        "        w = struct.unpack('<q', content[i : i + s])[0] \n",
        "        head     = (w >> 62) & 0x3\n",
        "        fpga     = (w >> 58) & 0xF\n",
        "        tdc_chan = (w >> 49) & 0x1FF\n",
        "        orb_cnt  = (w >> 17) & 0xFFFFFFFF\n",
        "        bx       = (w >> 5 ) & 0xFFF\n",
        "        tdc_meas = (w >> 0 ) & 0x1F\n",
        "        Columns2 = {'HEAD' : head, 'FPGA' : fpga, 'CHANNEL' : tdc_chan, 'ORBIT_CNT' : orb_cnt, 'BX_CNT' : bx, 'TDC_MEAS' : tdc_meas}\n",
        "        df2 = df1.append(Columns2 , ignore_index=True)\n",
        "\n"
      ],
      "metadata": {
        "id": "rdJMaf_SNGAC"
      },
      "execution_count": 7,
      "outputs": []
    },
    {
      "cell_type": "code",
      "source": [
        "print(df2)\n",
        "Dsize = os.path.getsize(r\"data_000637.dat\")\n",
        "print(\" dat file size:\" , Dsize , \"bytes\")\n",
        "Tsize = os.path.getsize(r\"data/data_000637.txt\")\n",
        "print(\" text file size:\" , Tsize , \"bytes\")\n"
      ],
      "metadata": {
        "colab": {
          "base_uri": "https://localhost:8080/"
        },
        "id": "jSqw4TVjfvdf",
        "outputId": "58222cd8-fdad-4e0c-bdb6-3dabc4d2e792"
      },
      "execution_count": 8,
      "outputs": [
        {
          "output_type": "stream",
          "name": "stdout",
          "text": [
            "  HEAD FPGA CHANNEL   ORBIT_CNT BX_CNT TDC_MEAS\n",
            "0    1    0      60  3869200167   2788        7\n",
            " dat file size: 80 bytes\n",
            " text file size: 33179236 bytes\n"
          ]
        }
      ]
    },
    {
      "cell_type": "markdown",
      "source": [
        "the difference"
      ],
      "metadata": {
        "id": "VOUdWs0xOeDh"
      }
    },
    {
      "cell_type": "code",
      "source": [
        "print(\"\" , abs(Dsize - Tsize))"
      ],
      "metadata": {
        "id": "W7DOSeH8OdPf"
      },
      "execution_count": null,
      "outputs": []
    }
  ]
}