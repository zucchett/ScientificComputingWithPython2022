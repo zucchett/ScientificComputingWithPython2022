{
  "cells": [
    {
      "cell_type": "code",
      "execution_count": null,
      "metadata": {
        "id": "Zn5wwfM0aGuD"
      },
      "outputs": [],
      "source": [
        "import pandas as pd\n",
        "import numpy as np"
      ]
    },
    {
      "cell_type": "markdown",
      "metadata": {
        "id": "1NI8wq-EaGuH"
      },
      "source": [
        "1\\. **Text files**\n",
        "\n",
        "Perform the following operations on plain `txt` files:\n",
        "\n",
        "+ create a list of integrer numbers and then save it to a text file named `data_int.txt`. Run the `cat` command to print the content of the file.\n",
        "+ create a matrix of 5x5 floats and then save it to a text file named `data_float.txt`. Use the `cat` command to print the content of the file.\n",
        "+ load the `txt` file of the previous point and convert it to a `csv` file by hand."
      ]
    },
    {
      "cell_type": "code",
      "execution_count": null,
      "metadata": {
        "colab": {
          "base_uri": "https://localhost:8080/"
        },
        "id": "mCXMuk4HaGuJ",
        "outputId": "309ee7ad-f026-4166-8d2a-740d04783e4a"
      },
      "outputs": [
        {
          "output_type": "stream",
          "name": "stdout",
          "text": [
            "0\n",
            "3\n",
            "3\n",
            "1\n",
            "4\n",
            "8\n",
            "1\n",
            "1\n",
            "7\n",
            "4\n",
            "5\n",
            "10\n",
            "1\n",
            "4\n",
            "1\n",
            "1\n",
            "5\n",
            "4\n",
            "0\n",
            "7\n",
            "10\n",
            "7\n",
            "4\n",
            "8\n",
            "7\n",
            "0\n",
            "9\n",
            "8\n",
            "4\n",
            "9\n",
            "6\n",
            "5\n",
            "2\n",
            "3\n",
            "7\n",
            "0\n",
            "2\n",
            "2\n",
            "5\n",
            "19.636331444919725708e-01 9.990286694623131680e-01 3.072761775443211274e-01 3.803761302170884928e-01 8.499498705544618060e-01\n",
            "5.167099230931980758e-01 4.888283397180477330e-01 6.972649486087798554e-01 2.854996625582820746e-01 1.483605272678591991e-01\n",
            "7.234886472117548761e-01 6.422400037485275215e-01 9.726913402675103626e-01 7.437365279953694897e-01 4.173268643173231318e-01\n",
            "9.277978474526484831e-01 2.640602584579014867e-01 4.983999164206647237e-01 3.943856379037343762e-01 5.417919384626956880e-01\n",
            "9.198405353133458640e-01 2.436412159304727210e-01 2.515540308067512054e-01 3.090378998766878382e-01 2.055030201461456318e-01\n"
          ]
        }
      ],
      "source": [
        "#NUMBER 1: TEXT FILES EXERCISE\n",
        "\n",
        "import random\n",
        "intlist = []\n",
        "for i in range(0, 40):\n",
        "    numbers = random.randint(0, 10)\n",
        "    intlist.append(numbers)\n",
        "with open('data_int.txt', 'w') as file:\n",
        "    file.write('\\n'.join(str(number) for number in intlist))\n",
        "\n",
        "!cat data_int.txt\n",
        "\n",
        "matrix = np.random.rand(5, 5)\n",
        "fl = np.matrix(matrix)\n",
        "with open('data_float.txt', 'w') as file:\n",
        "    for row in fl:\n",
        "        np.savetxt(file, row)\n",
        "\n",
        "!cat data_float.txt\n",
        "\n",
        "import csv\n",
        "\n",
        "with open('data_float.txt', 'r') as file:\n",
        "    load = (line.strip() for line in file)\n",
        "    lines = (line.split(\",\") for line in load if line)\n",
        "    with open('data_float.csv', 'w') as out_file:\n",
        "        writer = csv.writer(out_file)\n",
        "        writer.writerow(('SUBJECT', 'INTRODUCTION'))\n",
        "        writer.writerows(lines)\n"
      ]
    },
    {
      "cell_type": "markdown",
      "metadata": {
        "id": "aBT0EwGVaGuK"
      },
      "source": [
        "2\\. **JSON files**\n",
        "\n",
        "Load the file *user_data.json*, which can be found at:\n",
        "\n",
        "- https://www.dropbox.com/s/sz5klcdpckc39hd/user_data.json\n",
        "\n",
        "and filter the data by the \"CreditCardType\" when it equals to \"American Express\". Than save the data to a new CSV file."
      ]
    },
    {
      "cell_type": "code",
      "execution_count": null,
      "metadata": {
        "colab": {
          "base_uri": "https://localhost:8080/"
        },
        "id": "KvVRuRPlaGuL",
        "outputId": "01641063-3b75-43e1-8164-d6a25187abbf"
      },
      "outputs": [
        {
          "output_type": "stream",
          "name": "stdout",
          "text": [
            "[{\"ID\": \"2\", \"JobTitle\": \"Investment  Advisor\", \"EmailAddress\": \"Clint_Thorpe5003@bulaffy.com\", \"FirstNameLastName\": \"Clint Thorpe\", \"CreditCard\": \"7083-8766-0251-2345\", \"CreditCardType\": \"American Express\"}, {\"ID\": \"12\", \"JobTitle\": \"Retail Trainee\", \"EmailAddress\": \"Phillip_Carpenter9505@famism.biz\", \"FirstNameLastName\": \"Phillip Carpenter\", \"CreditCard\": \"3657-0088-0820-5247\", \"CreditCardType\": \"American Express\"}, {\"ID\": \"28\", \"JobTitle\": \"Project Manager\", \"EmailAddress\": \"Russel_Graves1378@extex.org\", \"FirstNameLastName\": \"Russel Graves\", \"CreditCard\": \"6718-4818-8011-6024\", \"CreditCardType\": \"American Express\"}, {\"ID\": \"39\", \"JobTitle\": \"Stockbroker\", \"EmailAddress\": \"Leanne_Newton1268@typill.biz\", \"FirstNameLastName\": \"Leanne Newton\", \"CreditCard\": \"5438-0816-4166-4847\", \"CreditCardType\": \"American Express\"}, {\"ID\": \"57\", \"JobTitle\": \"Budget Analyst\", \"EmailAddress\": \"Tony_Giles1960@iatim.tech\", \"FirstNameLastName\": \"Tony Giles\", \"CreditCard\": \"8130-3425-7573-7745\", \"CreditCardType\": \"American Express\"}, {\"ID\": \"62\", \"JobTitle\": \"CNC Operator\", \"EmailAddress\": \"Owen_Allcott5125@bauros.biz\", \"FirstNameLastName\": \"Owen Allcott\", \"CreditCard\": \"4156-0107-7210-2630\", \"CreditCardType\": \"American Express\"}, {\"ID\": \"68\", \"JobTitle\": \"Project Manager\", \"EmailAddress\": \"Liam_Lynn3280@kideod.biz\", \"FirstNameLastName\": \"Liam Lynn\", \"CreditCard\": \"7152-3247-6053-2233\", \"CreditCardType\": \"American Express\"}, {\"ID\": \"74\", \"JobTitle\": \"Dentist\", \"EmailAddress\": \"Regina_Woodcock5820@yahoo.com\", \"FirstNameLastName\": \"Regina Woodcock\", \"CreditCard\": \"0208-1753-3870-8002\", \"CreditCardType\": \"American Express\"}, {\"ID\": \"81\", \"JobTitle\": \"HR Specialist\", \"EmailAddress\": \"Carter_Wallace9614@atink.com\", \"FirstNameLastName\": \"Carter Wallace\", \"CreditCard\": \"4256-7201-6717-4322\", \"CreditCardType\": \"American Express\"}, {\"ID\": \"92\", \"JobTitle\": \"Staffing Consultant\", \"EmailAddress\": \"Maia_Stark2797@jiman.org\", \"FirstNameLastName\": \"Maia Stark\", \"CreditCard\": \"3851-1403-1734-6321\", \"CreditCardType\": \"American Express\"}, {\"ID\": \"97\", \"JobTitle\": \"Stockbroker\", \"EmailAddress\": \"Ciara_Lomax982@bauros.biz\", \"FirstNameLastName\": \"Ciara Lomax\", \"CreditCard\": \"3702-3440-2472-5424\", \"CreditCardType\": \"American Express\"}, {\"ID\": \"116\", \"JobTitle\": \"Staffing Consultant\", \"EmailAddress\": \"Isabel_Ellwood1475@fuliss.net\", \"FirstNameLastName\": \"Isabel Ellwood\", \"CreditCard\": \"3738-0882-0066-6683\", \"CreditCardType\": \"American Express\"}, {\"ID\": \"148\", \"JobTitle\": \"CNC Operator\", \"EmailAddress\": \"Abdul_Townend2202@infotech44.tech\", \"FirstNameLastName\": \"Abdul Townend\", \"CreditCard\": \"4224-1226-3557-3448\", \"CreditCardType\": \"American Express\"}, {\"ID\": \"150\", \"JobTitle\": \"Fabricator\", \"EmailAddress\": \"Caleb_Poulton1735@atink.com\", \"FirstNameLastName\": \"Caleb Poulton\", \"CreditCard\": \"8203-6875-5225-0341\", \"CreditCardType\": \"American Express\"}, {\"ID\": \"151\", \"JobTitle\": \"Restaurant Manager\", \"EmailAddress\": \"Ronald_Lewis6777@deavo.com\", \"FirstNameLastName\": \"Ronald Lewis\", \"CreditCard\": \"7212-0155-5014-8471\", \"CreditCardType\": \"American Express\"}, {\"ID\": \"154\", \"JobTitle\": \"Bellman\", \"EmailAddress\": \"Faith_Seymour3829@twace.org\", \"FirstNameLastName\": \"Faith Seymour\", \"CreditCard\": \"4170-5186-6887-6558\", \"CreditCardType\": \"American Express\"}, {\"ID\": \"169\", \"JobTitle\": \"Assistant Buyer\", \"EmailAddress\": \"Anthony_Hancock9083@qater.org\", \"FirstNameLastName\": \"Anthony Hancock\", \"CreditCard\": \"0832-3357-6010-6550\", \"CreditCardType\": \"American Express\"}, {\"ID\": \"176\", \"JobTitle\": \"Healthcare Specialist\", \"EmailAddress\": \"Isabella_Willson5478@nanoff.biz\", \"FirstNameLastName\": \"Isabella Willson\", \"CreditCard\": \"5177-4868-4623-0384\", \"CreditCardType\": \"American Express\"}, {\"ID\": \"182\", \"JobTitle\": \"Pharmacist\", \"EmailAddress\": \"Stephanie_Darcy3298@bauros.biz\", \"FirstNameLastName\": \"Stephanie Darcy\", \"CreditCard\": \"0264-4020-5106-5576\", \"CreditCardType\": \"American Express\"}, {\"ID\": \"199\", \"JobTitle\": \"Investment  Advisor\", \"EmailAddress\": \"Ryan_Kennedy5565@corti.com\", \"FirstNameLastName\": \"Ryan Kennedy\", \"CreditCard\": \"3166-6287-6242-7207\", \"CreditCardType\": \"American Express\"}]\n"
          ]
        }
      ],
      "source": [
        "#NUMBER 2: JSON FILES EXERCISE\n",
        "\n",
        "import json\n",
        "\n",
        "info = json.load(open('user_data.json'))\n",
        "filter_data = [x for x in info if x['CreditCardType'] == 'American Express']\n",
        "output = json.dumps(filter_data)\n",
        "print(output)\n",
        "\n",
        "newformat = pd.DataFrame(eval(output))\n",
        "newformat.to_csv('user_data.csv', index=False,header=True)\n"
      ]
    },
    {
      "cell_type": "markdown",
      "metadata": {
        "id": "XkdlkwutaGuL"
      },
      "source": [
        "3\\. **CSV files with Pandas**\n",
        "\n",
        "Load the file from this url:\n",
        "\n",
        "- https://www.dropbox.com/s/kgshemfgk22iy79/mushrooms_categorized.csv\n",
        "\n",
        "with Pandas. \n",
        "\n",
        "+ explore and print the DataFrame\n",
        "+ calculate, using `groupby()`, the average value of each feature, separately for each class\n",
        "+ save the file in a JSON format."
      ]
    },
    {
      "cell_type": "code",
      "execution_count": null,
      "metadata": {
        "colab": {
          "base_uri": "https://localhost:8080/"
        },
        "id": "GsB8IxY6aGuM",
        "outputId": "c269e9e6-4cc6-4875-9d3b-50d4e823852a"
      },
      "outputs": [
        {
          "output_type": "stream",
          "name": "stdout",
          "text": [
            "       cap-shape  cap-surface  cap-color   bruises      odor  gill-attachment  \\\n",
            "class                                                                           \n",
            "0       3.266160     1.615970   4.581749  0.653992  4.334601         0.954373   \n",
            "1       3.436159     2.055158   4.421859  0.159346  3.940756         0.995403   \n",
            "\n",
            "       gill-spacing  gill-size  gill-color  stalk-shape  ...  \\\n",
            "class                                                    ...   \n",
            "0          0.285171   0.068441    6.622624     0.615970  ...   \n",
            "1          0.028601   0.567926    2.863636     0.514811  ...   \n",
            "\n",
            "       stalk-surface-below-ring  stalk-color-above-ring  \\\n",
            "class                                                     \n",
            "0                      1.798479                6.098859   \n",
            "1                      1.394280                5.512768   \n",
            "\n",
            "       stalk-color-below-ring  veil-type  veil-color  ring-number  ring-type  \\\n",
            "class                                                                          \n",
            "0                    6.064639        0.0    1.931559     1.125475   3.007605   \n",
            "1                    5.504597        0.0    2.002043     1.009193   1.522983   \n",
            "\n",
            "       spore-print-color  population   habitat  \n",
            "class                                           \n",
            "0               3.201521    3.283270  1.148289  \n",
            "1               4.021450    4.031665  1.895812  \n",
            "\n",
            "[2 rows x 22 columns]\n"
          ]
        }
      ],
      "source": [
        "#NUMBER 3: CSV FILES WITH PANDAS EXERCISE\n",
        "\n",
        "import pandas as pd\n",
        "\n",
        "data = pd.read_csv(\"mushrooms_categorized.csv\")\n",
        "calculation = data.groupby('class') \n",
        "print(calculation.mean())\n",
        "\n",
        "calculation.mean().reset_index().to_json('mushrooms_categorized.json')\n"
      ]
    },
    {
      "cell_type": "markdown",
      "metadata": {
        "id": "QN6wvpKTaGuM"
      },
      "source": [
        "4\\. **Reading the credit card numbers**\n",
        "\n",
        "Get the binary file named *credit_card.dat* from this address:\n",
        "\n",
        "- https://www.dropbox.com/s/8m0syw2tkul3dap/credit_card.dat\n",
        "\n",
        "and convert the data into the real credit card number, knowing that:\n",
        "- each line corresponds to a credit card number, which consists of 16 characters (which are numbers in the 0-9 range) divided in 4 blocks, with a whitespace between each block\n",
        "- each character is written using a 6 bit binary representation (including the whitespace)\n",
        "- the final 4 bits of each line are a padding used to determine the end of the line, and can be ignored\n",
        "\n",
        "*Hint*: convert the binary numbers to the decimal representation first, and then use the `chr()` function to convert the latter to a char"
      ]
    },
    {
      "cell_type": "code",
      "execution_count": null,
      "metadata": {
        "colab": {
          "base_uri": "https://localhost:8080/"
        },
        "id": "Zx9gwOpiaGuN",
        "outputId": "7e46788a-5693-4794-b1e1-fab0f6e65196"
      },
      "outputs": [
        {
          "output_type": "stream",
          "name": "stdout",
          "text": [
            "Credit card numbers: \n",
            "\n",
            "7648 5673 3775 2271\n",
            "\n",
            "3257 8247 3354 2266\n",
            "\n",
            "2722 0001 4011 6652\n",
            "\n",
            "0661 3063 3742 3150\n",
            "\n",
            "0432 1608 1462 4742\n",
            "\n",
            "5827 2027 8785 7303\n",
            "\n",
            "5774 8528 2087 1117\n",
            "\n",
            "8140 1210 6352 2845\n",
            "\n",
            "5764 1133 7301 7100\n",
            "\n",
            "6456 1737 4126 6726\n",
            "\n",
            "1228 8631 7382 0000\n",
            "\n",
            "7051 0160 5374 3166\n",
            "\n",
            "0618 3587 1630 6376\n",
            "\n",
            "1545 5454 7444 5636\n",
            "\n",
            "6735 3116 3202 6834\n",
            "\n",
            "7287 5011 1547 8413\n",
            "\n",
            "7033 2607 3328 4200\n",
            "\n",
            "2568 5244 1874 5024\n",
            "\n",
            "1684 2253 7570 7118\n",
            "\n",
            "0672 2576 0575 6631\n",
            "\n",
            "6332 8353 8787 1340\n",
            "\n",
            "1813 3361 1175 4211\n",
            "\n",
            "2477 6450 8840 2368\n",
            "\n",
            "5512 3505 2563 1326\n",
            "\n",
            "3083 7882 0621 0025\n",
            "\n",
            "4521 5148 8045 0334\n",
            "\n",
            "7563 3654 8713 5787\n",
            "\n",
            "8324 2664 0476 5561\n",
            "\n",
            "0565 2504 7168 3510\n",
            "\n",
            "5107 5507 1767 0738\n",
            "\n",
            "2462 1821 2448 1443\n",
            "\n",
            "2788 0638 6861 6554\n",
            "\n",
            "5851 5873 5474 0547\n",
            "\n",
            "0670 1004 4013 2655\n",
            "\n",
            "5874 5506 3048 0806\n",
            "\n",
            "2805 5401 8462 1260\n",
            "\n",
            "5083 8406 6310 1862\n",
            "\n",
            "1076 1445 3013 2266\n",
            "\n",
            "8440 4804 4844 5277\n",
            "\n",
            "4758 6141 0686 1387\n",
            "\n",
            "7586 0675 0315 2568\n",
            "\n",
            "2544 1258 7432 5165\n",
            "\n",
            "3474 5023 4434 5626\n",
            "\n",
            "1410 0270 0434 5086\n",
            "\n",
            "7315 4446 1104 4215\n",
            "\n",
            "0224 7742 8300 0266\n",
            "\n",
            "0170 2700 3145 0640\n",
            "\n",
            "2006 2437 8054 1600\n",
            "\n",
            "8142 4055 1776 0026\n",
            "\n",
            "3026 7380 1241 1084\n",
            "\n",
            "\n",
            "\n"
          ]
        }
      ],
      "source": [
        "#NUMBER 4: READING THE CREDIT CARD NUMBERS EXERCISE\n",
        "\n",
        "binary_file = \"credit_card.dat\"\n",
        "print(\"Credit card numbers: \\n\")\n",
        "\n",
        "with open(binary_file, 'r') as binary_file:\n",
        "    for line in binary_file:\n",
        "        print(''.join([chr(int(line[i:i+6],2)) for i in range(0, len(line), 6)]))\n",
        "      "
      ]
    },
    {
      "cell_type": "markdown",
      "metadata": {
        "id": "IOrysOzJaGuN"
      },
      "source": [
        "5\\. **Write data to a binary file**\n",
        "\n",
        "a) Start from the `data/data_000637.txt` file that we have used during the previous lectures, and convert it to a binary file according to the format defined below:"
      ]
    },
    {
      "cell_type": "code",
      "execution_count": null,
      "metadata": {
        "colab": {
          "base_uri": "https://localhost:8080/"
        },
        "id": "H3KeaRIGaGuO",
        "outputId": "ebf51d39-c256-49da-b1c1-171a6c594897"
      },
      "outputs": [
        {
          "output_type": "stream",
          "name": "stdout",
          "text": [
            "   HEAD  FPGA  TDC_CHANNEL   ORBIT_CNT  BX_COUNTER  TDC_MEAS\n",
            "0     1     0          123  3869200167        2374        26\n",
            "1     1     0          124  3869200167        2374        27\n",
            "2     1     0           63  3869200167        2553        28\n",
            "3     1     0           64  3869200167        2558        19\n",
            "4     1     0           64  3869200167        2760        25\n",
            "5     1     0           63  3869200167        2762         4\n",
            "6     1     0           61  3869200167        2772        14\n",
            "7     1     0          139  3869200167        2776         0\n",
            "8     1     0           62  3869200167        2774        21\n",
            "9     1     0           60  3869200167        2788         7\n",
            "  HEAD FPGA CHANNEL   ORBIT_CNT BX_CNT TDC_MEAS\n",
            "0    1    0      60  3869200167   2788        7\n",
            "data_000637.txt SIZE ARE 33179236 BYTES\n",
            "binary_file.dat SIZE ARE 80 BYTES\n",
            "DIFFERENCES ARE 33179156 BYTES\n"
          ]
        }
      ],
      "source": [
        "#NUMBER 5: WRITE DATA TO A BINARY FILE EXERCISE\n",
        "\n",
        "from IPython.display import Image\n",
        "Image(\"images/data_format.png\")\n",
        "\n",
        "\n",
        "import pandas as pd\n",
        "import struct\n",
        "\n",
        "data_pd = pd.read_csv('data_000637.txt', nrows = 10)\n",
        "print(data_pd)\n",
        "\n",
        "file_name = 'binary_file.dat'\n",
        "with open(file_name, 'wb') as binary_file:\n",
        "    for line in data.values: \n",
        "        word = (line[5] << 0 ) \n",
        "        word += (line[4] << 5 ) \n",
        "        word += (line[3] << 17) \n",
        "        word += (line[2] << 49) \n",
        "        word += (line[1] << 58)\n",
        "        word += (line[0] << 62)\n",
        "        \n",
        "        binary_file.write(struct.pack('<q', word))\n",
        "\n",
        "data1 = {}\n",
        "columns = ['HEAD', 'FPGA', 'CHANNEL', 'ORBIT_CNT', 'BX_CNT', 'TDC_MEAS']\n",
        "df = pd.DataFrame({}, columns=columns)\n",
        "\n",
        "with open('binary_file.dat', 'rb') as file:\n",
        "    file_content = file.read()\n",
        "    counter = 0\n",
        "    word_size = 8  \n",
        "    for i in range(0, len(file_content), word_size):\n",
        "        counter += 1\n",
        "        if counter > 10: break\n",
        "        word = struct.unpack('<q', file_content[i : i + word_size])[0] \n",
        "        head     = (word >> 62) & 0x3\n",
        "        fpga     = (word >> 58) & 0xF\n",
        "        tdc_chan = (word >> 49) & 0x1FF\n",
        "        orb_cnt  = (word >> 17) & 0xFFFFFFFF\n",
        "        bx       = (word >> 5 ) & 0xFFF\n",
        "        tdc_meas = (word >> 0 ) & 0x1F\n",
        "        entries = {'HEAD' : head, 'FPGA' : fpga, 'CHANNEL' : tdc_chan, 'ORBIT_CNT' : orb_cnt, 'BX_CNT' : bx, 'TDC_MEAS' : tdc_meas}\n",
        "        dataframe = df.append(entries, ignore_index=True)\n",
        "print(dataframe)\n",
        "\n",
        "import os\n",
        "\n",
        "path = r'data_000637.txt'\n",
        "size = os.path.getsize(path)\n",
        "print(f'{path} SIZE ARE', size, 'BYTES')\n",
        "\n",
        "path1 = r'binary_file.dat'\n",
        "size = os.path.getsize(path1)\n",
        "print(f'{path1} SIZE ARE', size, 'BYTES')\n",
        "print(f'DIFFERENCES ARE', ((os.path.getsize(path))-(os.path.getsize(path1))), 'BYTES')\n"
      ]
    },
    {
      "cell_type": "markdown",
      "metadata": {
        "id": "C3lZDOPBaGuO"
      },
      "source": [
        "*Hints*:\n",
        "- Read the first 10 lines using Pandas\n",
        "- Iterate over the DataFrame rows\n",
        "- For every row, ``pack'' the values (features) into a single 64-bit word, according to the format specified above. Use bit-wise shifts and operators to do so.\n",
        "- Write each 64-bit word to a binary file. You can use `struct` in this way:\n",
        "```\n",
        "binary_file.write( struct.pack('<q', word) )\n",
        "```\n",
        "where `word` is the 64-bit word.\n",
        "- Close the file after completing the loop.\n",
        "\n",
        "b) Check that the binary file is correctly written by reading it with the code used in the lecture `06_OSEMN.ipynb`, and verify that the content of the `txt` and binary files is consistent.\n",
        "\n",
        "c) What is the difference of the size on disk between equivalent `txt` and binary files?"
      ]
    }
  ],
  "metadata": {
    "kernelspec": {
      "display_name": "Python 3",
      "language": "python",
      "name": "python3"
    },
    "language_info": {
      "codemirror_mode": {
        "name": "ipython",
        "version": 3
      },
      "file_extension": ".py",
      "mimetype": "text/x-python",
      "name": "python",
      "nbconvert_exporter": "python",
      "pygments_lexer": "ipython3",
      "version": "3.8.5"
    },
    "colab": {
      "provenance": []
    }
  },
  "nbformat": 4,
  "nbformat_minor": 0
}