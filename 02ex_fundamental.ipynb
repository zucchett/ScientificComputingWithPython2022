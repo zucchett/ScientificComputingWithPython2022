{
 "cells": [
  {
   "cell_type": "code",
   "execution_count": 4,
   "id": "bd079791",
   "metadata": {},
   "outputs": [
    {
     "name": "stdout",
     "output_type": "stream",
     "text": [
      "Before calling the function: [1, 2, 3] 140296596286144\n",
      "Inside the fuction:          [1, 2, 3] 140296596286144\n",
      "After assignment in fuction: [1, 2, 3, 0, 1, 2, 3, 4] 140296596286272\n",
      "Returned by the function:    [1, 2, 3, 0, 1, 2, 3, 4] 140296596286272\n",
      "After calling the function:  [1, 2, 3] 140296596286144\n"
     ]
    }
   ],
   "source": [
    "#ex series 2\n",
    "#1\n",
    "def no_modify(x):\n",
    "    print(\"Inside the fuction:         \", x, id(x))\n",
    "    x=[1,2,3]\n",
    "    for i in range(5):\n",
    "         x.append(i)\n",
    "    print(\"After assignment in fuction:\", x, id(x))\n",
    "    return x\n",
    "\n",
    "x = [1, 2, 3]\n",
    "print(\"Before calling the function:\", x, id(x))\n",
    "y = no_modify(x)\n",
    "print(\"Returned by the function:   \", y, id(y))\n",
    "print(\"After calling the function: \", x, id(x))"
   ]
  },
  {
   "cell_type": "code",
   "execution_count": 5,
   "id": "9bf36eb4",
   "metadata": {},
   "outputs": [
    {
     "name": "stdout",
     "output_type": "stream",
     "text": [
      "['jack', 'ali', 'ab']\n"
     ]
    }
   ],
   "source": [
    "#2\n",
    "x = ['jack','ali','daniel', 'saraaaaa' , 'ab']\n",
    "n= 4\n",
    "h = list(map(lambda i: x[i] , filter(lambda i: len(x[i]) <= n , range(len(x)))))\n",
    "print(h)\n"
   ]
  },
  {
   "cell_type": "code",
   "execution_count": 6,
   "id": "cf157458",
   "metadata": {},
   "outputs": [
    {
     "name": "stdout",
     "output_type": "stream",
     "text": [
      "[1, 9, 25, 49, 81]\n"
     ]
    }
   ],
   "source": [
    "#3\n",
    "print([z**2 for z in range(10) if z%2 == 1])"
   ]
  },
  {
   "cell_type": "code",
   "execution_count": 7,
   "id": "3b5abfdf",
   "metadata": {},
   "outputs": [
    {
     "name": "stdout",
     "output_type": "stream",
     "text": [
      "[6, 4, 9, 3]\n"
     ]
    }
   ],
   "source": [
    "#4\n",
    "lang = {\"Python\" : 3, \"Java\" : '', \"Cplusplus\" : 'test', \"Php\" : 0.7}\n",
    "\n",
    "l =list(map( lambda x: len(x), lang.keys()))\n",
    "print(l)"
   ]
  },
  {
   "cell_type": "code",
   "execution_count": 9,
   "id": "f4a98575",
   "metadata": {},
   "outputs": [
    {
     "name": "stdout",
     "output_type": "stream",
     "text": [
      "[('Cplusplus', 81), ('Java', 32), ('Php', 45), ('Python', 97)]\n"
     ]
    }
   ],
   "source": [
    "#5\n",
    "language_scores = [('Python', 97), ('Cplusplus', 81), ('Php', 45), ('Java', 32)]\n",
    "print(sorted(language_scores, key=lambda x: x[0]))\n"
   ]
  },
  {
   "cell_type": "code",
   "execution_count": 13,
   "id": "8bffa591",
   "metadata": {},
   "outputs": [
    {
     "name": "stdout",
     "output_type": "stream",
     "text": [
      "729\n"
     ]
    }
   ],
   "source": [
    "#6\n",
    "square = (lambda x: x**2)\n",
    "cube = (lambda x: x**3)\n",
    "p6 = (lambda x : cube(square(x))) \n",
    "print(p6(3))"
   ]
  },
  {
   "cell_type": "code",
   "execution_count": 14,
   "id": "9c74dd26",
   "metadata": {},
   "outputs": [
    {
     "name": "stdout",
     "output_type": "stream",
     "text": [
      "Hello World\n",
      "9\n"
     ]
    }
   ],
   "source": [
    "#7\n",
    "def hello(func):\n",
    "    def wrapper(x):\n",
    "        print(\"Hello World\")\n",
    "        func(x)  \n",
    "    return wrapper\n",
    "@hello\n",
    "def square(x):\n",
    "    print(x*x)\n",
    "square(3)"
   ]
  },
  {
   "cell_type": "code",
   "execution_count": 17,
   "id": "fd09a815",
   "metadata": {},
   "outputs": [
    {
     "name": "stdout",
     "output_type": "stream",
     "text": [
      "[1, 1, 2, 3, 5, 8, 13, 21, 34, 55, 89, 144, 233, 377, 610, 987, 1597, 2584, 4181, 6765]\n"
     ]
    }
   ],
   "source": [
    "#8\n",
    "def f(n):\n",
    "    if n < 2:\n",
    "        return 1\n",
    "    return fib(n-1) + fib(n-2)\n",
    "    \n",
    "print([f(i) for i in range(20)])"
   ]
  },
  {
   "cell_type": "code",
   "execution_count": 23,
   "id": "758d62e4",
   "metadata": {},
   "outputs": [
    {
     "name": "stdout",
     "output_type": "stream",
     "text": [
      "[1, 1, 2, 3, 5, 8, 13, 21, 34, 55, 89, 144, 233, 377, 610, 987, 1597, 2584, 4181, 6765]\n",
      "lopp time : 0.00048295899978256784\n",
      "[1, 1, 2, 3, 5, 8, 13, 21, 34, 55, 89, 144, 233, 377, 610, 987, 1597, 2584, 4181, 6765]\n",
      "recursion time : 0.006934625000212691\n"
     ]
    }
   ],
   "source": [
    "#9\n",
    "import timeit\n",
    "\n",
    "def recursion_fib(n):\n",
    "    if n < 2:\n",
    "        return 1\n",
    "    return recursion_fib(n-1) + recursion_fib(n-2)\n",
    "\n",
    "def while_fib(n):\n",
    "    count , n1 , n2 , l1 = 0 , 0 , 1 , []\n",
    "    while count <= n-1:\n",
    "        nt = n1 + n2\n",
    "        n1 = n2\n",
    "        n2 = nt\n",
    "        count += 1\n",
    "        l1.append(n1)\n",
    "    print(f\"{l1}\")\n",
    "\n",
    "starttime1 = timeit.default_timer()\n",
    "while_fib(20)\n",
    "print(\"lopp time :\" , timeit.default_timer() - starttime1)\n",
    "\n",
    "starttime2 = timeit.default_timer()\n",
    "print([recursion_fib(i) for i in range(20)])\n",
    "print(\"recursion time :\" , timeit.default_timer() - starttime2)\n",
    "\n",
    "# while is faster\n"
   ]
  },
  {
   "cell_type": "code",
   "execution_count": 3,
   "id": "b5dbd20c",
   "metadata": {},
   "outputs": [
    {
     "name": "stdout",
     "output_type": "stream",
     "text": [
      "(5, 2, 8, 3)\n",
      " perimeter  : 18\n",
      " orderedsides : [8, 5, 3, 2]\n"
     ]
    }
   ],
   "source": [
    "#10\n",
    "class polygon:    \n",
    "    x = tuple()\n",
    "    \n",
    "    def __init__(self, components):\n",
    "        self.x = components\n",
    "        print(components)\n",
    "        \n",
    "    def perimeter(self):\n",
    "        \n",
    "        return (sum(self.x))\n",
    "    \n",
    "    def getorderedSides(self,increasing = True or False):\n",
    "        list_1 = []\n",
    "        for i in range(len(self.x)):\n",
    "                list_1.append(self.x[i])\n",
    "        if increasing == True:\n",
    "            list_1.sort()\n",
    "            return (list_1)\n",
    "        if increasing == False:\n",
    "            list_1.sort(reverse= True)\n",
    "            return (list_1)\n",
    "\n",
    "a = polygon((5,2,8,3))\n",
    "\n",
    "print(\" perimeter  :\", a.perimeter()) \n",
    "print(\" orderedsides :\" , a.getorderedSides(increasing= False))"
   ]
  },
  {
   "cell_type": "code",
   "execution_count": 4,
   "id": "588e65cd",
   "metadata": {},
   "outputs": [
    {
     "name": "stdout",
     "output_type": "stream",
     "text": [
      "area  20\n"
     ]
    }
   ],
   "source": [
    "#11\n",
    "import math\n",
    "class polygon:    \n",
    "    x = tuple()\n",
    "    \n",
    "    def __init__(self, components):\n",
    "        self.x = components\n",
    "        print(components) \n",
    "   \n",
    "    def perimeter(self):\n",
    "        s2=0\n",
    "        for i in range(len(self.x)):\n",
    "            s2 += self.x[i] \n",
    "        return (s2)\n",
    "    \n",
    "    def getorderedSides(self,increasing = True):\n",
    "        list_1 = []\n",
    "        for i in range(len(self.x)):\n",
    "            list_1.append(self.x[i])\n",
    "        list_1.sort()\n",
    "        return (list_1)\n",
    "\n",
    "class rectangle(polygon):\n",
    "    def __init__(self, components):\n",
    "        if len(components) == 4:\n",
    "            self.x = components\n",
    "        else:\n",
    "            print(\"Error\")\n",
    "    def area(self):\n",
    "        return (max(self.x) * min(self.x) * 2)\n",
    "\n",
    "\n",
    "\n",
    "\n",
    "a = rectangle((2,5,2,5))\n",
    "\n",
    "print(\"area \" , a.area())  "
   ]
  },
  {
   "cell_type": "code",
   "execution_count": null,
   "id": "66912507",
   "metadata": {},
   "outputs": [],
   "source": []
  }
 ],
 "metadata": {
  "kernelspec": {
   "display_name": "Python 3 (ipykernel)",
   "language": "python",
   "name": "python3"
  },
  "language_info": {
   "codemirror_mode": {
    "name": "ipython",
    "version": 3
   },
   "file_extension": ".py",
   "mimetype": "text/x-python",
   "name": "python",
   "nbconvert_exporter": "python",
   "pygments_lexer": "ipython3",
   "version": "3.9.12"
  }
 },
 "nbformat": 4,
 "nbformat_minor": 5
}
