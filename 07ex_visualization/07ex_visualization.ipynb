{
 "cells": [
  {
   "cell_type": "markdown",
   "metadata": {},
   "source": [
    "1\\. **Spotting correlations**\n",
    "\n",
    "Load the remote file:\n",
    "\n",
    "```bash\n",
    "https://www.dropbox.com/s/aamg1apjhclecka/regression_generated.csv\n",
    "```\n",
    "\n",
    "with Pandas and create scatter plots with all possible combinations of the following features:\n",
    "    \n",
    "  + features_1\n",
    "  + features_2\n",
    "  + features_3\n",
    "  \n",
    "Are these features correlated?"
   ]
  },
  {
   "cell_type": "code",
   "execution_count": null,
   "metadata": {},
   "outputs": [],
   "source": [
    "import pandas as pd\n",
    "import numpy as np\n",
    "import matplotlib.pyplot as plt\n",
    "import math\n",
    "from scipy.stats import norm\n",
    "import scipy\n",
    "dataframe = pd.read_csv('https://www.dropbox.com/s/aamg1apjhclecka/regression_generated.csv?dl=1')\n",
    "\n",
    "plt.scatter(dataframe['features_1'], dataframe['features_2'])\n",
    "plt.xlabel('features_1')\n",
    "plt.ylabel('features_2')\n",
    "plt.show()\n",
    "plt.scatter(dataframe['features_1'], dataframe['features_3'])\n",
    "plt.xlabel('features_1')\n",
    "plt.ylabel('features_3')\n",
    "plt.show()\n",
    "plt.scatter(dataframe['features_2'], dataframe['features_3'])\n",
    "plt.xlabel('features_2')\n",
    "plt.ylabel('features_3')\n",
    "plt.show()"
   ]
  },
  {
   "cell_type": "markdown",
   "metadata": {},
   "source": [
    "2\\. **Color-coded scatter plot**\n",
    "\n",
    "Produce a scatter plot from a dataset with two categories.\n",
    "\n",
    "* Write a function that generates a 2D dataset consisting of 2 categories. Each category should distribute as a 2D gaussian with a given mean and standard deviation. Set different values of the mean and standard deviation between the two samples.\n",
    "* Display the dataset in a scatter plot marking the two categories with different marker colors.\n",
    "\n",
    "An example is given below:"
   ]
  },
  {
   "cell_type": "code",
   "execution_count": null,
   "metadata": {},
   "outputs": [],
   "source": [
    "from IPython.display import Image\n",
    "Image('images/two_categories_scatter_plot.png')"
   ]
  },
  {
   "cell_type": "code",
   "execution_count": null,
   "metadata": {},
   "outputs": [],
   "source": [
    "def gaussian(mean,sta_dev) : \n",
    "    return np.random.normal(mean,sta_dev,200)\n",
    "\n",
    "x1 = gaussian(1,0.5)\n",
    "y1 = gaussian(1,0.5)\n",
    "plt.scatter(x1,y1)\n",
    "\n",
    "x2 = gaussian(0,0.4)\n",
    "y2 = gaussian(0,0.4)\n",
    "plt.scatter(x2,y2)\n",
    "\n",
    "plt.show()"
   ]
  },
  {
   "cell_type": "markdown",
   "metadata": {},
   "source": [
    "3\\. **Profile plot**\n",
    "\n",
    "Produce a profile plot from a scatter plot.\n",
    "* Download the following pickle file:\n",
    "```bash\n",
    "wget https://www.dropbox.com/s/3uqleyc3wyz52tr/residuals_261.pkl -P data/\n",
    "```\n",
    "* Inspect the dataset, you'll find two variables (features)\n",
    "* Convert the content to a Pandas Dataframe\n",
    "* Clean the sample by selecting the entries (rows) with the absolute values of the variable \"residual\" smaller than 2\n",
    "* Plot a Seaborn `jointplot` of \"residuals\" versus \"distances\", and use seaborn to display a linear regression. \n",
    "\n",
    "Comment on the correlation between these variables.\n",
    "\n",
    "* Create manually (without using seaborn) the profile histogram for the \"distance\" variable; choose an appropriate binning.\n",
    "* Obtain 3 numpy arrays:\n",
    "  * `x`, the array of bin centers of the profile histogram of the \"distance\" variable\n",
    "  * `y`, the mean values of the \"residuals\", estimated in slices (bins) of \"distance\"\n",
    "  * `err_y`, the standard deviation of the of the \"residuals\", estimated in slices (bins) of \"distance\"\n",
    "* Plot the profile plot on top of the scatter plot"
   ]
  },
  {
   "cell_type": "code",
   "execution_count": null,
   "metadata": {},
   "outputs": [],
   "source": [
    "import pandas as pd   \n",
    "import numpy as np\n",
    "from scipy import stats\n",
    "import matplotlib.pyplot as plt\n",
    "#load the data into dataframe and conver it to pandas dataframe\n",
    "data=np.load(\"C:/Users/sina tavakoli/Desktop/residuals_261.pkl\",allow_pickle=True).item()\n",
    "data=pd.DataFrame(data)\n",
    "print(data)\n",
    "print(data.info())"
   ]
  },
  {
   "cell_type": "markdown",
   "metadata": {},
   "source": [
    "4\\. **Kernel Density Estimate**\n",
    "\n",
    "Produce a KDE for a given distribution (by hand, not using seaborn):\n",
    "\n",
    "* Fill a numpy array `x` of length N (with $N=\\mathcal{O}(100)$) with a variable normally distributed, with a given mean and standard deviation\n",
    "* Fill an histogram in pyplot taking proper care of the aesthetic:\n",
    "   * use a meaningful number of bins\n",
    "   * set a proper y axis label\n",
    "   * set proper value of y axis major ticks labels (e.g. you want to display only integer labels)\n",
    "   * display the histograms as data points with errors (the error being the poisson uncertainty)\n",
    "* For every element of `x`, create a gaussian with the mean corresponding to the element value and the standard deviation as a parameter that can be tuned. The standard deviation default value should be:\n",
    "$$ 1.06 * x.std() * x.size ^{-\\frac{1}{5}} $$\n",
    "you can use the scipy function `stats.norm()` for that.\n",
    "* In a separate plot (to be placed beside the original histogram), plot all the gaussian functions so obtained\n",
    "* Sum (with `np.sum()`) all the gaussian functions and normalize the result such that the integral matches the integral of the original histogram. For that you could use the `scipy.integrate.trapz()` method. Superimpose the normalized sum of all gaussians to the first histogram.\n"
   ]
  },
  {
   "cell_type": "code",
   "execution_count": null,
   "metadata": {},
   "outputs": [],
   "source": [
    "import scipy\n",
    "import numpy as np\n",
    "import matplotlib.pyplot as plt\n",
    "\n",
    "x=np.random.normal(3,1,110)\n",
    "menStd     = np.sqrt(x)\n",
    "fig = plt.figure(figsize=(10, 6)) \n",
    "#h, bins, _ = plt.hist(x, bins=25, range=(-2,8), density=True, cumulative=False)\n",
    "\n",
    "#plt.bar(bincenters, y, width=width, color='r', yerr=menStd)\n",
    "#plt.show()\n",
    "entries, edges, _ = plt.hist(x, bins=25, range=(-2,8))\n",
    "bin_centers = 0.5 * (edges[:-1] + edges[1:])\n",
    "plt.errorbar(bin_centers, entries, yerr=np.random.poisson(entries,25), fmt='r.')\n",
    "ax = fig.axes[0]\n",
    "ax.set_title('Gaussian distribution')\n",
    "ax.set_xlabel('values')\n",
    "ax.set_ylabel('Entries')\n",
    "fig.tight_layout()\n",
    "plt.show()\n",
    "cum=np.zeros(110)\n",
    "a=[]\n",
    "fig = plt.figure(figsize=(10, 6)) \n",
    "std=1.06*scipy.stats.tstd(x)*(110)**(-0.2)\n",
    "\n",
    "for el in x:\n",
    "    t =np.linspace(-2, 8, 110)\n",
    "    a.append(scipy.stats.norm.pdf(t,el,std) )#sistema std dev\n",
    "    plt.plot(t,a[-1])\n",
    "    \n",
    "ax = fig.axes[0]\n",
    "ax.set_title('Multiple Gaussian distributions')\n",
    "ax.set_xlabel('values')\n",
    "ax.set_ylabel('Entries')\n",
    "plt.show()\n",
    "\n",
    "for val in a:\n",
    "    for el in range(110):\n",
    "        cum[el]=cum[el]+val[el]\n",
    "\n",
    "fig = plt.figure(figsize=(10, 6))\n",
    "h, bins, _ = plt.hist(x, bins=50, range=(-2,8), density=True, cumulative=False)\n",
    "plt.plot(t,cum/110) \n",
    "ax = fig.axes[0]\n",
    "ax.set_title('Sum of gaussians')\n",
    "ax.set_xlabel('values')\n",
    "ax.set_ylabel('Entries')\n",
    "plt.show()"
   ]
  }
 ],
 "metadata": {
  "kernelspec": {
   "display_name": "Python 3.9.1 64-bit",
   "language": "python",
   "name": "python3"
  },
  "language_info": {
   "codemirror_mode": {
    "name": "ipython",
    "version": 3
   },
   "file_extension": ".py",
   "mimetype": "text/x-python",
   "name": "python",
   "nbconvert_exporter": "python",
   "pygments_lexer": "ipython3",
   "version": "3.9.1"
  },
  "vscode": {
   "interpreter": {
    "hash": "82d66711803cd90d2df8927f41b79f4324b010080e429a0bb8838d6093cd1ef3"
   }
  }
 },
 "nbformat": 4,
 "nbformat_minor": 2
}
