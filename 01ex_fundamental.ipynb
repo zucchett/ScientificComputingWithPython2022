{
 "cells": [
  {
   "cell_type": "code",
   "execution_count": 1,
   "id": "e1faae9a",
   "metadata": {},
   "outputs": [
    {
     "name": "stdout",
     "output_type": "stream",
     "text": [
      "1\n",
      "2\n",
      "hello\n",
      "4\n",
      "world\n",
      "hello\n",
      "7\n",
      "8\n",
      "hello\n",
      "world\n",
      "11\n",
      "hello\n",
      "13\n",
      "14\n",
      "hello world\n",
      "16\n",
      "17\n",
      "hello\n",
      "19\n",
      "world\n",
      "hello\n",
      "22\n",
      "23\n",
      "hello\n",
      "world\n",
      "26\n",
      "hello\n",
      "28\n",
      "29\n",
      "hello world\n",
      "31\n",
      "32\n",
      "hello\n",
      "34\n",
      "world\n",
      "hello\n",
      "37\n",
      "38\n",
      "hello\n",
      "world\n",
      "41\n",
      "hello\n",
      "43\n",
      "44\n",
      "hello world\n",
      "46\n",
      "47\n",
      "hello\n",
      "49\n",
      "world\n",
      "hello\n",
      "52\n",
      "53\n",
      "hello\n",
      "world\n",
      "56\n",
      "hello\n",
      "58\n",
      "59\n",
      "hello world\n",
      "61\n",
      "62\n",
      "hello\n",
      "64\n",
      "world\n",
      "hello\n",
      "67\n",
      "68\n",
      "hello\n",
      "world\n",
      "71\n",
      "hello\n",
      "73\n",
      "74\n",
      "hello world\n",
      "76\n",
      "77\n",
      "hello\n",
      "79\n",
      "world\n",
      "hello\n",
      "82\n",
      "83\n",
      "hello\n",
      "world\n",
      "86\n",
      "hello\n",
      "88\n",
      "89\n",
      "hello world\n",
      "91\n",
      "92\n",
      "hello\n",
      "94\n",
      "world\n",
      "hello\n",
      "97\n",
      "98\n",
      "hello\n",
      "world\n"
     ]
    }
   ],
   "source": [
    "#1-a\n",
    "for i in range (1,101):\n",
    "    if i%15==0:\n",
    "        print('hello world')\n",
    "    elif i%3==0:\n",
    "        print ('hello')\n",
    "    elif i%5==0:\n",
    "        print ('world')\n",
    "    else:\n",
    "        print (i)"
   ]
  },
  {
   "cell_type": "code",
   "execution_count": 8,
   "id": "097a9e9b",
   "metadata": {},
   "outputs": [
    {
     "name": "stdout",
     "output_type": "stream",
     "text": [
      "(1, 2, 'python', 4, 'world', 'python', 7, 8, 'python', 'world', 11, 'python', 13, 14, 'python works', 16, 17, 'python', 19, 'world', 'python', 22, 23, 'python', 'world', 26, 'python', 28, 29, 'python works', 31, 32, 'python', 34, 'world', 'python', 37, 38, 'python', 'world', 41, 'python', 43, 44, 'python works', 46, 47, 'python', 49, 'world', 'python', 52, 53, 'python', 'world', 56, 'python', 58, 59, 'python works', 61, 62, 'python', 64, 'world', 'python', 67, 68, 'python', 'world', 71, 'python', 73, 74, 'python works', 76, 77, 'python', 79, 'world', 'python', 82, 83, 'python', 'world', 86, 'python', 88, 89, 'python works', 91, 92, 'python', 94, 'world', 'python', 97, 98, 'python', 'world')\n"
     ]
    }
   ],
   "source": [
    "#1-b\n",
    "my_tuple=()\n",
    "my_list=[]\n",
    "\n",
    "for i in range (1,101):\n",
    "    if i%15==0:\n",
    "        my_list.append('hello world')\n",
    "    elif i%3==0:\n",
    "        my_list.append('hello')\n",
    "    elif i%5==0:\n",
    "        my_list.append('world')\n",
    "    else:\n",
    "        my_list.append(i)\n",
    "\n",
    "for i in range(len(my_list)):\n",
    "    if my_list[i]=='hello world':\n",
    "        my_list[i]='python works'\n",
    "    if my_list[i]=='hello':\n",
    "        my_list[i]='python'\n",
    "    if my_list[i]=='hello world':\n",
    "        my_list[i]='works'\n",
    "my_tuple=tuple(my_list) \n",
    "print (my_tuple)"
   ]
  },
  {
   "cell_type": "code",
   "execution_count": 12,
   "id": "5f05e33a",
   "metadata": {},
   "outputs": [
    {
     "name": "stdout",
     "output_type": "stream",
     "text": [
      "insert x: 10\n",
      "insert y: 20\n",
      "x= 20 and y= 10\n"
     ]
    }
   ],
   "source": [
    "#2\n",
    "x=input('insert x: ')\n",
    "y=input('insert y: ')\n",
    "x,y=y,x\n",
    "print (\"x=\",x,'and','y=',y)\n"
   ]
  },
  {
   "cell_type": "code",
   "execution_count": 16,
   "id": "7234c7c0",
   "metadata": {},
   "outputs": [
    {
     "name": "stdout",
     "output_type": "stream",
     "text": [
      "5.0\n"
     ]
    }
   ],
   "source": [
    "#3\n",
    "def dist(u,v):\n",
    "    distance=((u[0]-v[0])**2+(u[1]-v[1])**2)**.5\n",
    "    print (distance)\n",
    "dist((3,0),(0,4))\n",
    "    "
   ]
  },
  {
   "cell_type": "code",
   "execution_count": 19,
   "id": "5d5ed5d4",
   "metadata": {},
   "outputs": [
    {
     "name": "stdout",
     "output_type": "stream",
     "text": [
      "{'w': 4, 'r': 19, 'i': 12, 't': 19, 'e': 20, ' ': 41, 'a': 7, 'p': 8, 'o': 15, 'g': 1, 'm': 8, 'h': 11, 'n': 10, 's': 7, 'u': 7, 'b': 5, 'f': 10, '1': 2, '0': 2, '.': 3, 'l': 12, 'd': 5, 'v': 2, 'c': 1}\n"
     ]
    }
   ],
   "source": [
    "#4\n",
    "test_string=\"Write a program that prints the numbers from 1 to 100. \\\n",
    "But for multiples of three print Hello instead of the number and for the multiples of five print World. \\\n",
    "For numbers which are multiples of both three and five print HelloWorld.\".lower()\n",
    "my_dict={}\n",
    "for i in test_string:\n",
    "        my_dict[i]=my_dict.get(i,0)+1\n",
    "print (my_dict)\n",
    "        \n"
   ]
  },
  {
   "cell_type": "code",
   "execution_count": 29,
   "id": "c6dacd38",
   "metadata": {},
   "outputs": [
    {
     "name": "stdout",
     "output_type": "stream",
     "text": [
      "[58, 74, 96, 64, 10, 24, 19, 33, 86, 99, 18, 47, 88, 55, 54, 8, 79, 81, 57, 37, 1, 9, 95, 90, 98, 39, 16, 82, 92, 41, 30, 94, 5, 72, 87, 75, 53] 37\n"
     ]
    }
   ],
   "source": [
    "#5\n",
    "l = [36, 45, 58, 3, 74, 96, 64, 45, 31, 10, 24, 19, 33, 86, 99, 18, 63, 70, 85,\n",
    " 85, 63, 47, 56, 42, 70, 84, 88, 55, 20, 54, 8, 56, 51, 79, 81, 57, 37, 91,\n",
    " 1, 84, 84, 36, 66, 9, 89, 50, 42, 91, 50, 95, 90, 98, 39, 16, 82, 31, 92, 41,\n",
    " 45, 30, 66, 70, 34, 85, 94, 5, 3, 36, 72, 91, 84, 34, 87, 75, 53, 51, 20, 89, 51, 20]\n",
    "unique=[]\n",
    "for i in l:\n",
    "    if l.count(i)== 1:\n",
    "        unique.append(i)\n",
    "print (unique,len(unique))"
   ]
  },
  {
   "cell_type": "code",
   "execution_count": 12,
   "id": "eb490b9c",
   "metadata": {},
   "outputs": [
    {
     "name": "stdout",
     "output_type": "stream",
     "text": [
      "hi3.2\n"
     ]
    }
   ],
   "source": [
    "#6\n",
    "in_1= 'hi'\n",
    "in_2= 3.2\n",
    "try:\n",
    "    if type(in_1)==str or type(in_2) == str:\n",
    "        in_1 = str(in_1)\n",
    "        in_2 = str(in_2)\n",
    "    sum = in_1 + in_2\n",
    "    print(sum)\n",
    "\n",
    "except:\n",
    "    print(\"code crash\")\n"
   ]
  },
  {
   "cell_type": "code",
   "execution_count": 13,
   "id": "5c585292",
   "metadata": {},
   "outputs": [
    {
     "name": "stdout",
     "output_type": "stream",
     "text": [
      "result is: [0, 1, 8, 27, 64, 125, 216, 343, 512, 729]\n",
      "\n",
      "List comprehension is: [0, 1, 8, 27, 64, 125, 216, 343, 512, 729]\n"
     ]
    }
   ],
   "source": [
    "#7\n",
    "list_1=[]\n",
    "#1  loop:\n",
    "for x in range(10):\n",
    "    list_1.append(x**3)\n",
    "print(f\"result is: {list_1}\")\n",
    "\n",
    "#2 List comprehension:\n",
    "print(f\"\\nList comprehension is: {[x**3 for x in range(10)]}\")\n",
    "\n"
   ]
  },
  {
   "cell_type": "code",
   "execution_count": 16,
   "id": "2ed9ba05",
   "metadata": {},
   "outputs": [
    {
     "name": "stdout",
     "output_type": "stream",
     "text": [
      "[(0, 0), (0, 1), (0, 2), (0, 3), (1, 0), (1, 1), (1, 2), (1, 3), (2, 0), (2, 1), (2, 2), (2, 3)]\n"
     ]
    }
   ],
   "source": [
    "#8\n",
    "print([(i,j) for i in range(3) for j in range(4)])"
   ]
  },
  {
   "cell_type": "code",
   "execution_count": 17,
   "id": "bfa8f0da",
   "metadata": {},
   "outputs": [
    {
     "name": "stdout",
     "output_type": "stream",
     "text": [
      "[(3, 4, 5), (4, 3, 5), (5, 12, 13), (6, 8, 10), (7, 24, 25), (8, 6, 10), (8, 15, 17), (9, 12, 15), (9, 40, 41), (10, 24, 26), (11, 60, 61), (12, 5, 13), (12, 9, 15), (12, 16, 20), (12, 35, 37), (13, 84, 85), (14, 48, 50), (15, 8, 17), (15, 20, 25), (15, 36, 39), (16, 12, 20), (16, 30, 34), (16, 63, 65), (18, 24, 30), (18, 80, 82), (20, 15, 25), (20, 21, 29), (20, 48, 52), (21, 20, 29), (21, 28, 35), (21, 72, 75), (24, 7, 25), (24, 10, 26), (24, 18, 30), (24, 32, 40), (24, 45, 51), (24, 70, 74), (25, 60, 65), (27, 36, 45), (28, 21, 35), (28, 45, 53), (30, 16, 34), (30, 40, 50), (30, 72, 78), (32, 24, 40), (32, 60, 68), (33, 44, 55), (33, 56, 65), (35, 12, 37), (35, 84, 91), (36, 15, 39), (36, 27, 45), (36, 48, 60), (36, 77, 85), (39, 52, 65), (39, 80, 89), (40, 9, 41), (40, 30, 50), (40, 42, 58), (40, 75, 85), (42, 40, 58), (42, 56, 70), (44, 33, 55), (45, 24, 51), (45, 28, 53), (45, 60, 75), (48, 14, 50), (48, 20, 52), (48, 36, 60), (48, 55, 73), (48, 64, 80), (51, 68, 85), (52, 39, 65), (54, 72, 90), (55, 48, 73), (56, 33, 65), (56, 42, 70), (57, 76, 95), (60, 11, 61), (60, 25, 65), (60, 32, 68), (60, 45, 75), (60, 63, 87), (63, 16, 65), (63, 60, 87), (64, 48, 80), (65, 72, 97), (68, 51, 85), (70, 24, 74), (72, 21, 75), (72, 30, 78), (72, 54, 90), (72, 65, 97), (75, 40, 85), (76, 57, 95), (77, 36, 85), (80, 18, 82), (80, 39, 89), (84, 13, 85), (84, 35, 91)]\n"
     ]
    }
   ],
   "source": [
    "#0\n",
    "print([(a,b,c) for a in range (1,100) for b in range(1,100) for c in range(1,100) if c**2 == b**2 + a**2])"
   ]
  },
  {
   "cell_type": "code",
   "execution_count": 20,
   "id": "0091296e",
   "metadata": {},
   "outputs": [
    {
     "name": "stdout",
     "output_type": "stream",
     "text": [
      "The normalized vector is: \n",
      "[0.4082482904638631, 0.4082482904638631, 0.8164965809277261]\n"
     ]
    }
   ],
   "source": [
    "#10\n",
    "v = (0.25,0.25,0.5)\n",
    "\n",
    "sum =  0\n",
    "for i in v:\n",
    "    sum += i**2\n",
    "dist = sum**0.5\n",
    "print(f\"The normalized vector is: \\n{[i/dist for i in vector]}\")\n"
   ]
  },
  {
   "cell_type": "code",
   "execution_count": 22,
   "id": "e56080ad",
   "metadata": {},
   "outputs": [
    {
     "name": "stdout",
     "output_type": "stream",
     "text": [
      "[1, 1, 2, 3, 5, 8, 13, 21, 34, 55, 89, 144, 233, 377, 610, 987, 1597, 2584, 4181, 6765, 10946]\n"
     ]
    }
   ],
   "source": [
    "#11\n",
    "count , num1 , num2 , list_1 = 0 , 0 , 1 , []\n",
    "while count <= 20:\n",
    "    num_sum = num1 + num2\n",
    "    num1 = num2\n",
    "    num2 = num_sum\n",
    "    count += 1\n",
    "    list_1.append(num1)\n",
    "print(list_1)"
   ]
  },
  {
   "cell_type": "code",
   "execution_count": null,
   "id": "f991dcf2",
   "metadata": {},
   "outputs": [],
   "source": []
  }
 ],
 "metadata": {
  "kernelspec": {
   "display_name": "Python 3 (ipykernel)",
   "language": "python",
   "name": "python3"
  },
  "language_info": {
   "codemirror_mode": {
    "name": "ipython",
    "version": 3
   },
   "file_extension": ".py",
   "mimetype": "text/x-python",
   "name": "python",
   "nbconvert_exporter": "python",
   "pygments_lexer": "ipython3",
   "version": "3.9.12"
  }
 },
 "nbformat": 4,
 "nbformat_minor": 5
}
