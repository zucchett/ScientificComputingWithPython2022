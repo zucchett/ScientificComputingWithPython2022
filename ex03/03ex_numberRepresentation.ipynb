{
 "cells": [
  {
   "cell_type": "markdown",
   "metadata": {},
   "source": [
    "1\\. Write a function that converts numbers among the bin, dec, and hex representations (bin<->dec<->hex)"
   ]
  },
  {
   "cell_type": "code",
   "execution_count": 18,
   "metadata": {},
   "outputs": [
    {
     "name": "stdout",
     "output_type": "stream",
     "text": [
      "('0b11111001111', 1999, '0x7cf')\n",
      "('0b10101110', 174, '0xae')\n"
     ]
    }
   ],
   "source": [
    "def bin_dec_hex(inpu):\n",
    "    if int(inpu):\n",
    "        integer = int(inpu)\n",
    "        \n",
    "    if bin(inpu):\n",
    "        bin_ = bin(inpu) \n",
    "        \n",
    "    if hex(inpu):\n",
    "        hex_ = hex(inpu)\n",
    "        \n",
    "    return (bin_,integer,hex_)\n",
    "\n",
    "#needs just 1 input int hex or dec\n",
    "\n",
    "\n",
    "print(bin_dec_hex(1999))\n",
    "print(bin_dec_hex(0b10101110))"
   ]
  },
  {
   "cell_type": "markdown",
   "metadata": {},
   "source": [
    "2\\. Write a function that converts a 32 bit word into a single precision floating point (i.e. interprets the various bits as sign, mantissa and exponent) and check its validity."
   ]
  },
  {
   "cell_type": "code",
   "execution_count": 3,
   "metadata": {},
   "outputs": [
    {
     "data": {
      "text/plain": [
       "(1, '10000000', '00100000000000000000000')"
      ]
     },
     "execution_count": 3,
     "metadata": {},
     "output_type": "execute_result"
    }
   ],
   "source": [
    "# Function to convert a fraction to binary form.\n",
    "def binaryOfFraction(fraction):\n",
    "\n",
    "    # Declaring an empty variable to store binary bits.\n",
    "    binary = str()\n",
    "    \n",
    "    # Multiplying and subtracting fraction until it becomes Zero.\n",
    "    while (fraction):\n",
    "\n",
    "        # Multiplying fraction by 2.\n",
    "        fraction = fraction*2\n",
    "\n",
    "        # Storing Integer Part of Fraction in int_part.\n",
    "        if (fraction >= 1):\n",
    "            int_part = 1\n",
    "            fraction -= 1\n",
    "        else:\n",
    "            int_part = 0\n",
    "\n",
    "        # Adding int_part to binary after every iteration.\n",
    "        binary += str(int_part)\n",
    "\n",
    "    # Returning the binary string.\n",
    "    return binary\n",
    "\n",
    "# Function to get sign bit, exp bits and mantissa bits, from given real number.\n",
    "def floatingPoint(real_no):\n",
    "\n",
    "# Setting Sign bit 0 as default.\n",
    "    sign_bit = 0\n",
    "\n",
    "# Sign bit will set to 1 if its negative.\n",
    "    if(real_no < 0):\n",
    "        sign_bit = 1\n",
    "\n",
    "# converting it to absolute value because we already know sign value\n",
    "    real_no = abs(real_no)\n",
    "\n",
    "    # converting integer part to binary\n",
    "    int_str = bin(int(real_no))[2:]\n",
    "\n",
    "    # function for converting fraction part of real no to Binary.\n",
    "    fraction_str = binaryOfFraction(real_no - int(real_no))\n",
    "\n",
    "    # Getting the index where it was high for the first\n",
    "    # Time in binary repres\n",
    "    # of Integer part of real no.\n",
    "    ind = int_str.index('1')\n",
    "\n",
    "# The Exponent is the no.\n",
    "# By which we have right\n",
    "# Shifted the decimal and\n",
    "# it is given below.\n",
    "# Also converting it to bias\n",
    "# exp by adding 127.\n",
    "    exp_str = bin((len(int_str) - ind - 1) + 127)[2:]\n",
    "\n",
    "# getting mantissa string\n",
    "# By adding int_str and fraction_str.\n",
    "# the zeroes in MSB of int_str\n",
    "# have no significance so they\n",
    "# are ignored by slicing.\n",
    "    mant_str = int_str[ind + 1 : ] + fraction_str\n",
    "\n",
    "# Adding Zeroes in LSB of\n",
    "# mantissa string so as to make\n",
    "# it's length of 23 bits.\n",
    "    mant_str = mant_str + ('0' * (23 - len(mant_str)))\n",
    "\n",
    "# Returning the sign, Exp\n",
    "# and Mantissa Bit strings.\n",
    "    return sign_bit, exp_str, mant_str\n",
    "\n",
    "floatingPoint(-2.250000)"
   ]
  },
  {
   "cell_type": "markdown",
   "metadata": {},
   "source": [
    "3\\. Write a program to determine the underflow and overflow limits (within a factor of 2) for python on your computer. \n",
    "\n",
    "**Tip**: define two variables initialized to 1 and halve/double them for a sufficient amount of times to exceed the under/over-flow limits  "
   ]
  },
  {
   "cell_type": "code",
   "execution_count": 12,
   "metadata": {},
   "outputs": [
    {
     "name": "stdout",
     "output_type": "stream",
     "text": [
      "sys.float_info(max=1.7976931348623157e+308, max_exp=1024, max_10_exp=308, min=2.2250738585072014e-308, min_exp=-1021, min_10_exp=-307, dig=15, mant_dig=53, epsilon=2.220446049250313e-16, radix=2, rounds=1)\n"
     ]
    }
   ],
   "source": [
    "import sys\n",
    "import numpy as np\n",
    "print(sys.float_info)\n",
    "\n"
   ]
  },
  {
   "cell_type": "code",
   "execution_count": 44,
   "metadata": {},
   "outputs": [
    {
     "name": "stderr",
     "output_type": "stream",
     "text": [
      "<ipython-input-44-41165653438f>:10: RuntimeWarning: overflow encountered in long_scalars\n",
      "  a[0]+1\n"
     ]
    },
    {
     "data": {
      "text/plain": [
       "-2147483648"
      ]
     },
     "execution_count": 44,
     "metadata": {},
     "output_type": "execute_result"
    }
   ],
   "source": [
    "#In python, integers have arbitrary precision \n",
    "#and therefore we can represent an \n",
    "#arbitrarily large range of integers (only limited by memory available).\n",
    "\n",
    "\n",
    "\n",
    "#i use np.array because it use C-style fixed-precision integers\n",
    "a = np.array([2**31-1], dtype=int)\n",
    "    \n",
    "a[0]+1"
   ]
  },
  {
   "cell_type": "markdown",
   "metadata": {},
   "source": [
    "##### 4\\. Write a program to determine the machine precision\n",
    "\n",
    "**Tip**: define a new variable by adding an increasingly smaller value (in the same way as the previous problem) and check when the addition starts to have no effect on the number"
   ]
  },
  {
   "cell_type": "code",
   "execution_count": 54,
   "metadata": {},
   "outputs": [
    {
     "name": "stdout",
     "output_type": "stream",
     "text": [
      "1.1102230246251565e-16\n",
      "3.0\n"
     ]
    }
   ],
   "source": [
    "small_variable = 1.\n",
    "big_variable = 1.\n",
    "while small_variable + big_variable > big_variable:\n",
    "    #gets smaller and smaller till it doesnt\n",
    "    big_variable+=small_variable\n",
    "    small_variable=small_variable/2\n",
    "    \n",
    "print(small_variable)\n",
    "print(big_variable)"
   ]
  },
  {
   "cell_type": "markdown",
   "metadata": {},
   "source": [
    "5\\. Write a function that takes in input three parameters $a$, $b$ and $c$ and prints out the two solutions to the quadratic equation $ax^2+bx+c=0$ using the standard formula:\n",
    "$$\n",
    "x=\\frac{-b\\pm\\sqrt{b^2-4ac}}{2a}\n",
    "$$\n",
    "\n",
    "(a) use the program to compute the solution for $a=0.001$, $b=1000$ and $c=0.001$\n",
    "\n",
    "(b) re-express the standard solution formula by multiplying the numerator and the denominator by $-b\\mp\\sqrt{b^2-4ac}$ and again find the solution for $a=0.001$, $b=1000$ and $c=0.001$. How does it compare with what has been previously obtained, and why?\n",
    "\n",
    "(c) write a function that computes the roots of a quadratic equation accurately in all cases"
   ]
  },
  {
   "cell_type": "code",
   "execution_count": 64,
   "metadata": {},
   "outputs": [
    {
     "name": "stdout",
     "output_type": "stream",
     "text": [
      "Math Domain Error No Real number solutions(Discriminant is negative). Try complex function\n",
      "((-0.076-0.23499787233079367j), (-0.076+0.23499787233079367j))\n"
     ]
    }
   ],
   "source": [
    "import math\n",
    "import cmath\n",
    "\n",
    "def solution(a,b,c):\n",
    "    dis = b * b - 4 * a * c    \n",
    "    ans1 = (-b-math.sqrt(dis))/(2 * a)\n",
    "    ans2 = (-b + math.sqrt(dis))/(2 * a)\n",
    "    return (ans1,ans2)\n",
    "    \n",
    "##A a=0.001; b = 1000; c=0.001\n",
    "\n",
    "#but this one returns a domain error since square root cant be negative.\n",
    "#we need complex numbers to solve every cases\n",
    "#import cmath \n",
    "def solution_v2(a,b,c):\n",
    "    dis = b * b - 4 * a * c     \n",
    "    ans1 = (-b-cmath.sqrt(dis))/(2*a)\n",
    "    ans2 = (-b+cmath.sqrt(dis))/(2*a)\n",
    "    return (ans1,ans2)\n",
    "\n",
    "try:\n",
    "    print(solution(1000,152,61))\n",
    "except:\n",
    "    print(\"Math Domain Error No Real number solutions(Discriminant is negative). Try complex function\")\n",
    "\n",
    "print(solution_v2(1000,152,61))"
   ]
  },
  {
   "cell_type": "code",
   "execution_count": null,
   "metadata": {},
   "outputs": [],
   "source": []
  },
  {
   "cell_type": "markdown",
   "metadata": {},
   "source": [
    "6\\. Write a program that implements the function $f(x)=x(x−1)$\n",
    "\n",
    "(a) Calculate the derivative of the function at the point $x = 1$ using the derivative definition:\n",
    "\n",
    "$$\n",
    "\\frac{{\\rm d}f}{{\\rm d}x} = \\lim_{\\delta\\to0} \\frac{f(x+\\delta)-f(x)}{\\delta}\n",
    "$$\n",
    "\n",
    "with $\\delta = 10^{−2}$. Calculate the true value of the same derivative analytically and compare it with the answer your program gives. The two will not agree perfectly. Why?\n",
    "\n",
    "(b) Repeat the calculation for $\\delta = 10^{−4}, 10^{−6}, 10^{−8}, 10^{−10}, 10^{−12}$ and $10^{−14}$. How does the accuracy scales with $\\delta$?"
   ]
  },
  {
   "cell_type": "code",
   "execution_count": 65,
   "metadata": {},
   "outputs": [
    {
     "name": "stdout",
     "output_type": "stream",
     "text": [
      "derivative definition with 𝛿=10^-2:-----> 1.010000000000001\n"
     ]
    }
   ],
   "source": [
    "#6A\n",
    "def f(x):\n",
    "    return x*(x-1)\n",
    "\n",
    "print(\"derivative definition with 𝛿=10^-2:-----> \"+str((f(1+10**-2)-f(1))/10**-2))\n",
    "\n",
    "#solving this analytically the answer should be 1.0\n",
    "#the answers will not agree because in order make it as close as possible\n",
    "# 𝛿 needs to aproach 0"
   ]
  },
  {
   "cell_type": "code",
   "execution_count": 66,
   "metadata": {},
   "outputs": [
    {
     "name": "stdout",
     "output_type": "stream",
     "text": [
      "For 𝛿=10^-2 :  1.010000000000001\n",
      "For 𝛿=10^-4 :  1.0000999999998899\n",
      "For 𝛿=10^-6 :  1.0000009999177333\n",
      "For 𝛿=10^-8 :  1.0000000039225287\n",
      "For 𝛿=10^-10 :  1.000000082840371\n",
      "For 𝛿=10^-12 :  1.0000889005833413\n",
      "For 𝛿=10^-14 :  0.9992007221626509\n"
     ]
    }
   ],
   "source": [
    "#6B\n",
    "for i in range(-2,-16,-2):\n",
    "    print(f\"For 𝛿=10^{i} :  \"+str((f(1+10**i)-f(1))/10**i))\n",
    "#looks like accuracy scales the most accurate value to 𝛿= 10^-8 \n",
    "# after that accuracy decreases"
   ]
  },
  {
   "cell_type": "markdown",
   "metadata": {},
   "source": [
    "7\\. Consider the integral of the semicircle of radius 1:\n",
    "$$\n",
    "I=\\int_{-1}^{1} \\sqrt(1-x^2) {\\rm d}x\n",
    "$$\n",
    "which is known to be $I=\\frac{\\pi}{2}=1.57079632679...$.\n",
    "\n",
    "Alternatively we can use the Riemann definition of the integral:\n",
    "$$\n",
    "I=\\lim_{N\\to\\infty} \\sum_{k=1}^{N} h y_k \n",
    "$$\n",
    "\n",
    "with $h=2/N$ the width of each of the $N$ slices the domain is divided into and where\n",
    "$y_k$ is the value of the function at the $k-$th slice.\n",
    "\n",
    "(a) Write a program to compute the integral with $N=100$. How does the result compare to the true value?\n",
    "\n",
    "(b) How much can $N$ be increased if the computation needs to be run in less than a second? What is the gain in running it for 1 minute? \n"
   ]
  },
  {
   "cell_type": "code",
   "execution_count": 67,
   "metadata": {},
   "outputs": [],
   "source": [
    "def riemannint(function,a,b,n):\n",
    "    #total val initialized as 0\n",
    "    sumval = 0\n",
    "    #h is the width of each rectangle in the function\n",
    "    #n is the slice number\n",
    "    # a and b is the integral range\n",
    "    \n",
    "    h = (b-a)/n\n",
    "    for i in range(0,n-1):\n",
    "        #for every slice we will compute the total rectangle areas\n",
    "        current_x = a+i*h\n",
    "        #summed up\n",
    "        sumval    = sumval + function(current_x) * h\n",
    "    return sumval\n",
    "\n",
    "def f_circle(x):\n",
    "    #circle equation y is alone\n",
    "    return (1-x**2)**(1/2)\n",
    "\n",
    "a = riemannint(f_circle,-1,1,100)\n"
   ]
  },
  {
   "cell_type": "code",
   "execution_count": 68,
   "metadata": {},
   "outputs": [
    {
     "name": "stdout",
     "output_type": "stream",
     "text": [
      "Difference of 100 sliced val vs. Real value(pi/2) :0.005642020994072627\n"
     ]
    }
   ],
   "source": [
    "##7A\n",
    "\n",
    "import math\n",
    "n_100 = riemannint(f_circle,-1,1,100)\n",
    "print(\"Difference of 100 sliced val vs. Real value(pi/2) :\"+ str(math.pi/2 - n_100))"
   ]
  },
  {
   "cell_type": "code",
   "execution_count": 71,
   "metadata": {},
   "outputs": [],
   "source": [
    "import time\n",
    "from time import process_time, sleep"
   ]
  },
  {
   "cell_type": "code",
   "execution_count": 72,
   "metadata": {},
   "outputs": [
    {
     "name": "stdout",
     "output_type": "stream",
     "text": [
      "Value of Integral: 1.5707958217922566\n",
      "Total time: 1.03125 seconds.\n",
      "Total slices: 51100\n"
     ]
    }
   ],
   "source": [
    "start = process_time() #started the counter\n",
    "end = start + 1 #this is just for the while loop\n",
    "time = 1 #time that you want to iterate\n",
    "n = 100 #initialized slice number\n",
    "while time >= end-start:\n",
    "    timed_val_1_sec = riemannint(f_circle,-1,1,n)\n",
    "    n += 1000\n",
    "    end = process_time()\n",
    "    \n",
    "print(\"Value of Integral: \" + str(timed_val_1_sec))\n",
    "print(\"Total time: \" + str(end-start) +\" seconds.\")\n",
    "print(\"Total slices: \"+str(n))"
   ]
  },
  {
   "cell_type": "code",
   "execution_count": 73,
   "metadata": {},
   "outputs": [
    {
     "name": "stdout",
     "output_type": "stream",
     "text": [
      "Value of Integral: 1.5707963062902868\n",
      "Total time: 60.265625 seconds.\n",
      "Total slices: 425100\n"
     ]
    }
   ],
   "source": [
    "start = process_time() #started the counter\n",
    "end = start + 1 #this is just for the while loop\n",
    "time = 60 #time that you want to iterate\n",
    "n = 100 #initialized slice number\n",
    "while time >= end-start:\n",
    "    timed_val_60_sec = riemannint(f_circle,-1,1,n)\n",
    "    n += 1000\n",
    "    end = process_time()\n",
    "    \n",
    "print(\"Value of Integral: \" + str(timed_val_60_sec))\n",
    "print(\"Total time: \" + str(end-start) +\" seconds.\")\n",
    "print(\"Total slices: \"+str(n))"
   ]
  },
  {
   "cell_type": "code",
   "execution_count": 74,
   "metadata": {},
   "outputs": [
    {
     "name": "stdout",
     "output_type": "stream",
     "text": [
      "Difference time iterated (1 second) vs. Real value(pi/2) :5.050026399278096e-07\n",
      "Difference time iterated (60 second) vs. Real value(pi/2) :2.0504609787863615e-08\n",
      "Accuracy 1 second: %99.99996785053344\n",
      "Accuracy 60 second: %99.99999869463599\n"
     ]
    }
   ],
   "source": [
    "#7B\n",
    "#There is 20 times difference \n",
    "#i can't be sure because the value is already close real value after 1 second of iteration here is the comparison\n",
    "print(\"Difference time iterated (1 second) vs. Real value(pi/2) :\"+ str(math.pi/2 - timed_val_1_sec))\n",
    "print(\"Difference time iterated (60 second) vs. Real value(pi/2) :\"+ str(math.pi/2 - timed_val_60_sec))\n",
    "\n",
    "print(\"Accuracy 1 second: %\" + str(timed_val_1_sec/(math.pi/2)*100))\n",
    "print(\"Accuracy 60 second: %\" + str(timed_val_60_sec/(math.pi/2)*100))"
   ]
  },
  {
   "cell_type": "code",
   "execution_count": null,
   "metadata": {},
   "outputs": [],
   "source": []
  },
  {
   "cell_type": "code",
   "execution_count": null,
   "metadata": {},
   "outputs": [],
   "source": []
  }
 ],
 "metadata": {
  "kernelspec": {
   "display_name": "Python 3 (ipykernel)",
   "language": "python",
   "name": "python3"
  },
  "language_info": {
   "codemirror_mode": {
    "name": "ipython",
    "version": 3
   },
   "file_extension": ".py",
   "mimetype": "text/x-python",
   "name": "python",
   "nbconvert_exporter": "python",
   "pygments_lexer": "ipython3",
   "version": "3.8.8"
  }
 },
 "nbformat": 4,
 "nbformat_minor": 2
}
