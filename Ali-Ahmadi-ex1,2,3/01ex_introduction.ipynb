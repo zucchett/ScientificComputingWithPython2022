{
 "cells": [
  {
   "cell_type": "markdown",
   "metadata": {},
   "source": [
    "You can solve these exercises in the room or at home. For this week, and the next 3 weeks, exercises have to be solved by creating a dedicated `.py` file (or files) called `01ex_introduction.py`.\n",
    "\n",
    "In case you need multiple files, name them `01ex_introduction_es01.py`, `01ex_introduction_es02.py` and so on. \n",
    "\n",
    "The exercises need to run without errors in `python3`."
   ]
  },
  {
   "cell_type": "markdown",
   "metadata": {},
   "source": [
    "1\\. **The HelloWorld replacement**\n",
    "\n",
    "a) Write a program that:\n",
    "- prints the numbers from 1 to 100\n",
    "- but for multiples of three print \"`Hello`\" instead of the number and for the multiples of five print \"`World`\"\n",
    "- for numbers which are multiples of both three and five print \"`HelloWorld`\".\n",
    "\n",
    "b) Put the result in a tuple and substitute \"`Hello`\" with \"`Python`\" and \"`World`\" with \"`Works`\"."
   ]
  },
  {
   "cell_type": "code",
   "execution_count": 1,
   "metadata": {},
   "outputs": [
    {
     "name": "stdout",
     "output_type": "stream",
     "text": [
      "1\n",
      "2\n",
      "Hello\n",
      "4\n",
      "World\n",
      "Hello\n",
      "7\n",
      "8\n",
      "Hello\n",
      "World\n",
      "11\n",
      "Hello\n",
      "13\n",
      "14\n",
      "Hello World\n",
      "16\n",
      "17\n",
      "Hello\n",
      "19\n",
      "World\n",
      "Hello\n",
      "22\n",
      "23\n",
      "Hello\n",
      "World\n",
      "26\n",
      "Hello\n",
      "28\n",
      "29\n",
      "Hello World\n",
      "31\n",
      "32\n",
      "Hello\n",
      "34\n",
      "World\n",
      "Hello\n",
      "37\n",
      "38\n",
      "Hello\n",
      "World\n",
      "41\n",
      "Hello\n",
      "43\n",
      "44\n",
      "Hello World\n",
      "46\n",
      "47\n",
      "Hello\n",
      "49\n",
      "World\n",
      "Hello\n",
      "52\n",
      "53\n",
      "Hello\n",
      "World\n",
      "56\n",
      "Hello\n",
      "58\n",
      "59\n",
      "Hello World\n",
      "61\n",
      "62\n",
      "Hello\n",
      "64\n",
      "World\n",
      "Hello\n",
      "67\n",
      "68\n",
      "Hello\n",
      "World\n",
      "71\n",
      "Hello\n",
      "73\n",
      "74\n",
      "Hello World\n",
      "76\n",
      "77\n",
      "Hello\n",
      "79\n",
      "World\n",
      "Hello\n",
      "82\n",
      "83\n",
      "Hello\n",
      "World\n",
      "86\n",
      "Hello\n",
      "88\n",
      "89\n",
      "Hello World\n",
      "91\n",
      "92\n",
      "Hello\n",
      "94\n",
      "World\n",
      "Hello\n",
      "97\n",
      "98\n",
      "Hello\n",
      "World\n"
     ]
    }
   ],
   "source": [
    "\n",
    "\n",
    "\n",
    "\n",
    "\n",
    "for x in range(1, 101):\n",
    "    if x%15 == 0: \n",
    "       print (\"Hello World\") \n",
    "       \n",
    "\n",
    "    elif x%3 == 0:\n",
    "           print (\"Hello\")\n",
    "           \n",
    "           \n",
    "    elif x%5 == 0:\n",
    "           print (\"World\")\n",
    "           \n",
    "\n",
    "        \n",
    "    else:\n",
    "        print (x) \n",
    "        \n"
   ]
  },
  {
   "cell_type": "code",
   "execution_count": 2,
   "metadata": {},
   "outputs": [
    {
     "name": "stdout",
     "output_type": "stream",
     "text": [
      "1\n",
      "2\n",
      "python\n",
      "4\n",
      "Works\n",
      "python\n",
      "7\n",
      "8\n",
      "python\n",
      "Works\n",
      "11\n",
      "python\n",
      "13\n",
      "14\n",
      "Hello World\n",
      "16\n",
      "17\n",
      "python\n",
      "19\n",
      "Works\n",
      "python\n",
      "22\n",
      "23\n",
      "python\n",
      "Works\n",
      "26\n",
      "python\n",
      "28\n",
      "29\n",
      "Hello World\n",
      "31\n",
      "32\n",
      "python\n",
      "34\n",
      "Works\n",
      "python\n",
      "37\n",
      "38\n",
      "python\n",
      "Works\n",
      "41\n",
      "python\n",
      "43\n",
      "44\n",
      "Hello World\n",
      "46\n",
      "47\n",
      "python\n",
      "49\n",
      "Works\n",
      "python\n",
      "52\n",
      "53\n",
      "python\n",
      "Works\n",
      "56\n",
      "python\n",
      "58\n",
      "59\n",
      "Hello World\n",
      "61\n",
      "62\n",
      "python\n",
      "64\n",
      "Works\n",
      "python\n",
      "67\n",
      "68\n",
      "python\n",
      "Works\n",
      "71\n",
      "python\n",
      "73\n",
      "74\n",
      "Hello World\n",
      "76\n",
      "77\n",
      "python\n",
      "79\n",
      "Works\n",
      "python\n",
      "82\n",
      "83\n",
      "python\n",
      "Works\n",
      "86\n",
      "python\n",
      "88\n",
      "89\n",
      "Hello World\n",
      "91\n",
      "92\n",
      "python\n",
      "94\n",
      "Works\n",
      "python\n",
      "97\n",
      "98\n",
      "python\n",
      "Works\n"
     ]
    }
   ],
   "source": [
    "\n",
    "\n",
    "y = (\"python\", \"Works\", \"Hello World\")\n",
    "\n",
    "\n",
    "for x in range(1, 101):\n",
    "    if x%15 == 0: \n",
    "       print (y[2]) \n",
    "       \n",
    "\n",
    "    elif x%3 == 0:\n",
    "           print (y[0])\n",
    "           \n",
    "           \n",
    "    elif x%5 == 0:\n",
    "           print (y[1])\n",
    "           \n",
    "\n",
    "        \n",
    "    else:\n",
    "        print (x) "
   ]
  },
  {
   "cell_type": "markdown",
   "metadata": {},
   "source": [
    "2\\. **The swap**\n",
    "\n",
    "Write a program that swaps the values of two input variables *x* and *y* from command line (whatever the type).\n",
    "\n",
    "Try to do that without using a temporary variable, exploiting the Python syntax."
   ]
  },
  {
   "cell_type": "code",
   "execution_count": 3,
   "metadata": {},
   "outputs": [
    {
     "name": "stdout",
     "output_type": "stream",
     "text": [
      "After swapping: x =  5 y = 10\n"
     ]
    }
   ],
   "source": [
    "\n",
    "x = 10\n",
    "y = 5\n",
    "\n",
    "x = x+y\n",
    "y = x-y\n",
    "x = x-y \n",
    "\n",
    "print (\"After swapping: x = \", x, \"y =\", y)"
   ]
  },
  {
   "cell_type": "markdown",
   "metadata": {},
   "source": [
    "3\\. **Computing the distance**\n",
    "\n",
    "Write a function that calculates and returns the euclidean distance between two points *u* and *v* in a 2D space, where *u* and *v* are both 2-tuples *(x,y)*.\n",
    "\n",
    "Example: if *u=(3,0)* and *v=(0,4)*, the function should return 5.\n",
    "\n",
    "*Hint:* in order to compute the square root, import the `math` library with `import math` and use `math.sqrt()`."
   ]
  },
  {
   "cell_type": "code",
   "execution_count": 4,
   "metadata": {},
   "outputs": [
    {
     "name": "stdout",
     "output_type": "stream",
     "text": [
      "5.0\n"
     ]
    }
   ],
   "source": [
    "\n",
    "\n",
    "import math\n",
    "u = (3,0)\n",
    "v = (0,4)\n",
    "\n",
    "def main():\n",
    "    distance = math.sqrt(( (u[0]-v[0])**2)+ (u[1]-v[1])**2 )\n",
    "\n",
    "    print (distance)\n",
    "    \n",
    "main()\n",
    "\n"
   ]
  },
  {
   "cell_type": "markdown",
   "metadata": {},
   "source": [
    "4\\. **Counting letters**\n",
    "\n",
    "Write a program that calculates the number of times each character occurs in a given string. Ignore differences in capitalization.\n",
    "\n",
    "The strings are in the cell below."
   ]
  },
  {
   "cell_type": "code",
   "execution_count": 5,
   "metadata": {},
   "outputs": [],
   "source": [
    "s1 = \"Write a program that prints the numbers from 1 to 100. \\\n",
    "But for multiples of three print Hello instead of the number and for the multiples of five print World. \\\n",
    "For numbers which are multiples of both three and five print HelloWorld.\"\n",
    "s2 = \"The quick brown fox jumps over the lazy dog\""
   ]
  },
  {
   "cell_type": "code",
   "execution_count": 6,
   "metadata": {},
   "outputs": [
    {
     "name": "stdout",
     "output_type": "stream",
     "text": [
      "Count of all characters in s1 is  :/n{'W': 3, 'r': 19, 'i': 12, 't': 19, 'e': 20, ' ': 41, 'a': 7, 'p': 8, 'o': 15, 'g': 1, 'm': 8, 'h': 9, 'n': 10, 's': 7, 'u': 7, 'b': 4, 'f': 9, '1': 2, '0': 2, '.': 3, 'B': 1, 'l': 12, 'H': 2, 'd': 5, 'v': 2, 'F': 1, 'w': 1, 'c': 1}\n",
      "Count of all characters in s2 is :\n",
      " {'W': 3, 'r': 21, 'i': 13, 't': 20, 'e': 23, ' ': 49, 'a': 8, 'p': 9, 'o': 19, 'g': 2, 'm': 9, 'h': 11, 'n': 11, 's': 8, 'u': 9, 'b': 5, 'f': 10, '1': 2, '0': 2, '.': 3, 'B': 1, 'l': 13, 'H': 2, 'd': 6, 'v': 3, 'F': 1, 'w': 2, 'c': 2, 'T': 1, 'q': 1, 'k': 1, 'x': 1, 'j': 1, 'z': 1, 'y': 1}\n"
     ]
    }
   ],
   "source": [
    "\n",
    "s1 = \"Write a program that prints the numbers from 1 to 100. \\\n",
    "But for multiples of three print Hello instead of the number and for the multiples of five print World. \\\n",
    "For numbers which are multiples of both three and five print HelloWorld.\"\n",
    "s2 = \"The quick brown fox jumps over the lazy dog\"\n",
    "\n",
    "all_freq = {}\n",
    "  \n",
    "for i in s1:\n",
    "    if i in all_freq:\n",
    "        all_freq[i] += 1\n",
    "    else:\n",
    "        all_freq[i] = 1\n",
    "        \n",
    "print (\"Count of all characters in s1 is  :/n\"\n",
    "                                        +  str(all_freq))\n",
    "\n",
    "for i in s2:\n",
    "    if i in all_freq:\n",
    "        all_freq[i] += 1\n",
    "    else:\n",
    "        all_freq[i] = 1\n",
    "        \n",
    "print (\"Count of all characters in s2 is :\\n \"\n",
    "                                        +  str(all_freq))"
   ]
  },
  {
   "cell_type": "markdown",
   "metadata": {},
   "source": [
    "5\\. **Isolating the unique**\n",
    "\n",
    "Write a program that determines and counts the unique numbers in the list:"
   ]
  },
  {
   "cell_type": "code",
   "execution_count": 7,
   "metadata": {},
   "outputs": [],
   "source": [
    "l = [36, 45, 58, 3, 74, 96, 64, 45, 31, 10, 24, 19, 33, 86, 99, 18, 63, 70, 85,\n",
    " 85, 63, 47, 56, 42, 70, 84, 88, 55, 20, 54, 8, 56, 51, 79, 81, 57, 37, 91,\n",
    " 1, 84, 84, 36, 66, 9, 89, 50, 42, 91, 50, 95, 90, 98, 39, 16, 82, 31, 92, 41,\n",
    " 45, 30, 66, 70, 34, 85, 94, 5, 3, 36, 72, 91, 84, 34, 87, 75, 53, 51, 20, 89, 51, 20]"
   ]
  },
  {
   "cell_type": "markdown",
   "metadata": {},
   "source": [
    "Do the same exploiting only the Python data structures."
   ]
  },
  {
   "cell_type": "code",
   "execution_count": 8,
   "metadata": {},
   "outputs": [
    {
     "name": "stdout",
     "output_type": "stream",
     "text": [
      "54\n"
     ]
    }
   ],
   "source": [
    "\n",
    "l = [36, 45, 58, 3, 74, 96, 64, 45, 31, 10, 24, 19, 33, 86, 99, 18, 63, 70, 85,\n",
    " 85, 63, 47, 56, 42, 70, 84, 88, 55, 20, 54, 8, 56, 51, 79, 81, 57, 37, 91,\n",
    " 1, 84, 84, 36, 66, 9, 89, 50, 42, 91, 50, 95, 90, 98, 39, 16, 82, 31, 92, 41,\n",
    " 45, 30, 66, 70, 34, 85, 94, 5, 3, 36, 72, 91, 84, 34, 87, 75, 53, 51, 20, 89, 51, 20]\n",
    "\n",
    "l1 = []\n",
    "\n",
    "count = 0\n",
    "\n",
    "for i in l:\n",
    "    if i not in l1:\n",
    "        count += 1\n",
    "        l1.append(i)\n",
    "    \n",
    "        \n",
    "print (count)"
   ]
  },
  {
   "cell_type": "markdown",
   "metadata": {},
   "source": [
    "6\\. **Casting**\n",
    "\n",
    "Write a program that:\n",
    "* reads from command line two variables, that can be either `int`, `float`, or `str`.\n",
    "* use the `try`/`except` expressions to perform the addition of these two variables, only if possible\n",
    "* and print the result without making the code crash for all the `int`/`float`/`str` input combinations."
   ]
  },
  {
   "cell_type": "code",
   "execution_count": 9,
   "metadata": {},
   "outputs": [
    {
     "name": "stdout",
     "output_type": "stream",
     "text": [
      "enter the : 5\n",
      "5  is not a number\n"
     ]
    }
   ],
   "source": [
    "x = input(\"enter the : \")\n",
    "\n",
    "\n",
    "try:\n",
    "    z = x + 2\n",
    "    print(z)\n",
    "except:\n",
    "    print(x, \" is not a number\")"
   ]
  },
  {
   "cell_type": "markdown",
   "metadata": {},
   "source": [
    "7\\. **Cubes**\n",
    "\n",
    "Create a list of the cubes of *x* for *x* in *[0, 10]* using:\n",
    "\n",
    "a) a for loop\n",
    "\n",
    "b) a list comprehension"
   ]
  },
  {
   "cell_type": "code",
   "execution_count": 10,
   "metadata": {},
   "outputs": [
    {
     "name": "stdout",
     "output_type": "stream",
     "text": [
      "1\n",
      "8\n",
      "27\n",
      "64\n",
      "125\n",
      "216\n",
      "343\n",
      "512\n",
      "729\n",
      "1000\n"
     ]
    }
   ],
   "source": [
    "for i in range(1,11):\n",
    "    x=i*i*i\n",
    "    print(x)"
   ]
  },
  {
   "cell_type": "code",
   "execution_count": 11,
   "metadata": {},
   "outputs": [
    {
     "name": "stdout",
     "output_type": "stream",
     "text": [
      "0\n",
      "1\n",
      "8\n",
      "27\n",
      "64\n",
      "125\n",
      "216\n",
      "343\n",
      "512\n",
      "729\n",
      "1000\n"
     ]
    }
   ],
   "source": [
    "list1=[0,1,2,3,4,5,6,7,8,9,10]\n",
    "for i in list1:\n",
    "    x=i*i*i\n",
    "    print(x)"
   ]
  },
  {
   "cell_type": "markdown",
   "metadata": {},
   "source": [
    "8\\. **List comprehension**\n",
    "\n",
    "Write, using the list comprehension, a single-line expression that gets the same result as the code in the cell below."
   ]
  },
  {
   "cell_type": "code",
   "execution_count": 12,
   "metadata": {},
   "outputs": [
    {
     "name": "stdout",
     "output_type": "stream",
     "text": [
      "[(0, 0), (0, 1), (0, 2), (0, 3), (1, 0), (1, 1), (1, 2), (1, 3), (2, 0), (2, 1), (2, 2), (2, 3)]\n"
     ]
    }
   ],
   "source": [
    "a = []\n",
    "for i in range(3):\n",
    "    for j in range(4):\n",
    "        a.append((i, j))\n",
    "print(a)"
   ]
  },
  {
   "cell_type": "markdown",
   "metadata": {},
   "source": [
    "9\\. **Nested list comprehension**\n",
    "\n",
    "> A Pythagorean triple is an integer solution to the Pythagorean theorem $a^2+b^2=c^2$. The first Pythagorean triple is (3, 4, 5).\n",
    "\n",
    "Find and put in a tuple all unique Pythagorean triples for the positive integers $a$, $b$ and $c$ with $c < 100$."
   ]
  },
  {
   "cell_type": "code",
   "execution_count": 13,
   "metadata": {},
   "outputs": [
    {
     "data": {
      "text/plain": [
       "[(4, 3, 5),\n",
       " (3, 4, 5),\n",
       " (8, 6, 10),\n",
       " (6, 8, 10),\n",
       " (12, 5, 13),\n",
       " (5, 12, 13),\n",
       " (12, 9, 15),\n",
       " (9, 12, 15),\n",
       " (15, 8, 17),\n",
       " (8, 15, 17),\n",
       " (16, 12, 20),\n",
       " (12, 16, 20),\n",
       " (24, 7, 25),\n",
       " (20, 15, 25),\n",
       " (15, 20, 25),\n",
       " (7, 24, 25),\n",
       " (24, 10, 26),\n",
       " (10, 24, 26),\n",
       " (21, 20, 29),\n",
       " (20, 21, 29),\n",
       " (24, 18, 30),\n",
       " (18, 24, 30),\n",
       " (30, 16, 34),\n",
       " (16, 30, 34),\n",
       " (28, 21, 35),\n",
       " (21, 28, 35),\n",
       " (35, 12, 37),\n",
       " (12, 35, 37),\n",
       " (36, 15, 39),\n",
       " (15, 36, 39),\n",
       " (32, 24, 40),\n",
       " (24, 32, 40),\n",
       " (40, 9, 41),\n",
       " (9, 40, 41),\n",
       " (36, 27, 45),\n",
       " (27, 36, 45),\n",
       " (48, 14, 50),\n",
       " (40, 30, 50),\n",
       " (30, 40, 50),\n",
       " (14, 48, 50),\n",
       " (45, 24, 51),\n",
       " (24, 45, 51),\n",
       " (48, 20, 52),\n",
       " (20, 48, 52),\n",
       " (45, 28, 53),\n",
       " (28, 45, 53),\n",
       " (44, 33, 55),\n",
       " (33, 44, 55),\n",
       " (42, 40, 58),\n",
       " (40, 42, 58),\n",
       " (48, 36, 60),\n",
       " (36, 48, 60),\n",
       " (60, 11, 61),\n",
       " (11, 60, 61),\n",
       " (63, 16, 65),\n",
       " (60, 25, 65),\n",
       " (56, 33, 65),\n",
       " (52, 39, 65),\n",
       " (39, 52, 65),\n",
       " (33, 56, 65),\n",
       " (25, 60, 65),\n",
       " (16, 63, 65),\n",
       " (60, 32, 68),\n",
       " (32, 60, 68),\n",
       " (56, 42, 70),\n",
       " (42, 56, 70),\n",
       " (55, 48, 73),\n",
       " (48, 55, 73),\n",
       " (70, 24, 74),\n",
       " (24, 70, 74),\n",
       " (72, 21, 75),\n",
       " (60, 45, 75),\n",
       " (45, 60, 75),\n",
       " (21, 72, 75),\n",
       " (72, 30, 78),\n",
       " (30, 72, 78),\n",
       " (64, 48, 80),\n",
       " (48, 64, 80),\n",
       " (80, 18, 82),\n",
       " (18, 80, 82),\n",
       " (84, 13, 85),\n",
       " (77, 36, 85),\n",
       " (75, 40, 85),\n",
       " (68, 51, 85),\n",
       " (51, 68, 85),\n",
       " (40, 75, 85),\n",
       " (36, 77, 85),\n",
       " (13, 84, 85),\n",
       " (63, 60, 87),\n",
       " (60, 63, 87),\n",
       " (80, 39, 89),\n",
       " (39, 80, 89),\n",
       " (72, 54, 90),\n",
       " (54, 72, 90),\n",
       " (84, 35, 91),\n",
       " (35, 84, 91),\n",
       " (76, 57, 95),\n",
       " (57, 76, 95),\n",
       " (72, 65, 97),\n",
       " (65, 72, 97),\n",
       " (96, 28, 100),\n",
       " (80, 60, 100),\n",
       " (60, 80, 100),\n",
       " (28, 96, 100)]"
      ]
     },
     "execution_count": 13,
     "metadata": {},
     "output_type": "execute_result"
    }
   ],
   "source": [
    "[(a,b,c) for c in range(1,101) for b in range(1,101) for a in range(1,101) if a**2+b**2==c**2]"
   ]
  },
  {
   "cell_type": "markdown",
   "metadata": {},
   "source": [
    "10\\. **Normalization of a N-dimensional vector**\n",
    "\n",
    "Write a program that takes an N-dimensional vector, e.g. a variable-length tuple of numbers, and normalizes it to one (in such a way that the squared sum of all the entries is equal to 1)."
   ]
  },
  {
   "cell_type": "code",
   "execution_count": 14,
   "metadata": {},
   "outputs": [],
   "source": [
    "tup1=(2,3,4,5,6)\n",
    "max(tup1)\n",
    "def normalize_tup(tup):\n",
    "    tup2=[] \n",
    "    for i in range(len(tup)):\n",
    "        tup2.append(tup[i]/sum(tup)) #i normalized it the total sum of the tuple\n",
    "    return tuple(tup2)\n",
    "        \n"
   ]
  },
  {
   "cell_type": "markdown",
   "metadata": {},
   "source": [
    "11\\. **The Fibonacci sequence**\n",
    "\n",
    "Calculate the first 20 numbers of the [Fibonacci sequence](https://en.wikipedia.org/wiki/Fibonacci_number) using only `for` or `while` loops."
   ]
  },
  {
   "cell_type": "code",
   "execution_count": 15,
   "metadata": {},
   "outputs": [
    {
     "name": "stdout",
     "output_type": "stream",
     "text": [
      "How many sentence? 5\n",
      "Fibonacci sequence:\n",
      "0\n",
      "1\n",
      "1\n",
      "2\n",
      "3\n"
     ]
    }
   ],
   "source": [
    "#while\n",
    "\n",
    "s = int(input(\"How many sentence? \"))\n",
    "\n",
    "\n",
    "n1, n2 = 0, 1\n",
    "c = 0\n",
    "\n",
    "# check if the number of terms is valid\n",
    "if s <= 0:\n",
    "   print(\"Please enter a positive integer\")\n",
    "# if there is only one term, return n1\n",
    "elif s == 1:\n",
    "   print(\"Fibonacci sequence upto\",terms,\":\")\n",
    "   print(n1)\n",
    "# generate fibonacci sequence\n",
    "else:\n",
    "   print(\"Fibonacci sequence:\")\n",
    "   while c < s:\n",
    "       print(n1)\n",
    "       nth = n1 + n2\n",
    "       # update values\n",
    "       n1 = n2\n",
    "       n2 = nth\n",
    "       c += 1"
   ]
  },
  {
   "cell_type": "code",
   "execution_count": 16,
   "metadata": {},
   "outputs": [
    {
     "name": "stdout",
     "output_type": "stream",
     "text": [
      "How many sentence? 5\n",
      "Fibonacci sequence:\n",
      "0\n",
      "1\n",
      "1\n",
      "2\n",
      "3\n"
     ]
    }
   ],
   "source": [
    "#for\n",
    "s = int(input(\"How many sentence? \"))\n",
    "\n",
    "x=0\n",
    "n1, n2 = 0, 1\n",
    "c = 0\n",
    "\n",
    "# check if the number of terms is valid\n",
    "if s <= 0:\n",
    "   print(\"Please enter a positive integer\")\n",
    "# if there is only one term, return n1\n",
    "elif s == 1:\n",
    "   print(\"Fibonacci sequence upto\",terms,\":\")\n",
    "   print(n1)\n",
    "# generate fibonacci sequence\n",
    "else:\n",
    "   print(\"Fibonacci sequence:\")\n",
    "for x in range(s):\n",
    "    if c>s: \n",
    "        break\n",
    "    else:    \n",
    "        print(n1)\n",
    "        nth = n1 + n2\n",
    "        n1 = n2\n",
    "        n2=nth\n",
    "        c+=1\n"
   ]
  },
  {
   "cell_type": "code",
   "execution_count": null,
   "metadata": {},
   "outputs": [],
   "source": []
  }
 ],
 "metadata": {
  "kernelspec": {
   "display_name": "Python 3 (ipykernel)",
   "language": "python",
   "name": "python3"
  },
  "language_info": {
   "codemirror_mode": {
    "name": "ipython",
    "version": 3
   },
   "file_extension": ".py",
   "mimetype": "text/x-python",
   "name": "python",
   "nbconvert_exporter": "python",
   "pygments_lexer": "ipython3",
   "version": "3.9.13"
  }
 },
 "nbformat": 4,
 "nbformat_minor": 4
}
