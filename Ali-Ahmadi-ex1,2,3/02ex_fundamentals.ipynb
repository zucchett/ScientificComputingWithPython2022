{
 "cells": [
  {
   "cell_type": "markdown",
   "metadata": {},
   "source": [
    "You can solve these exercises in the room or at home. For this week, and the next 3 weeks, exercises have to be solved by creating a dedicated `.py` file (or files) called `02ex_fundamentals.py`.\n",
    "\n",
    "In case you need multiple files, name them `02ex_fundamentals_es01.py`, `02ex_fundamentals_es02.py` and so on. In this case, it's convenient to create a dedicated directory, to be named `02ex_fundamentals`. \n",
    "\n",
    "The exercises need to run without errors with `python3`."
   ]
  },
  {
   "cell_type": "markdown",
   "metadata": {},
   "source": [
    "1\\. **Global variables**\n",
    "\n",
    "Convert the function $f$ into a function that doesn't use global variables and that does not modify the original list"
   ]
  },
  {
   "cell_type": "code",
   "execution_count": 9,
   "metadata": {},
   "outputs": [
    {
     "name": "stdout",
     "output_type": "stream",
     "text": [
      "[1, 2, 3, 0, 1, 2, 3, 4]\n",
      "[1, 2, 3, 0, 1, 2, 3, 4]\n"
     ]
    }
   ],
   "source": [
    "x = 5\n",
    "\n",
    "def f(alist):\n",
    "    for i in range(x):\n",
    "        alist.append(i)\n",
    "    return alist\n",
    "\n",
    "alist = [1, 2, 3]\n",
    "ans = f(alist)\n",
    "print(ans)\n",
    "print(alist) # alist has been changed"
   ]
  },
  {
   "cell_type": "code",
   "execution_count": 10,
   "metadata": {},
   "outputs": [
    {
     "name": "stdout",
     "output_type": "stream",
     "text": [
      "[1, 2, 3, 0, 1, 2, 3, 4]\n",
      "[1, 2, 3, 0, 1, 2, 3, 4]\n",
      "[1, 2, 3, 0, 1, 2, 3, 4]\n",
      "[1, 2, 3]\n"
     ]
    }
   ],
   "source": [
    "#Answer\n",
    "\n",
    "x = 5\n",
    "def f(alist):\n",
    "    for i in range(x):\n",
    "         alist.append(i)\n",
    "    return alist\n",
    "\n",
    "alist = [1,2,3]\n",
    "ans = f(alist)\n",
    "print(ans)\n",
    "print(alist) # alist has been changed!\n",
    "\n",
    "def f_2(alist,x_range):\n",
    "    \n",
    "    temp_list=alist.copy() #this will prevent it from changing\n",
    "                        \n",
    "    \n",
    "    for i in range(x_range):\n",
    "        temp_list.append(i)\n",
    "    return temp_list\n",
    "\n",
    "alist = [1,2,3]\n",
    "ans = f_2(alist,5)\n",
    "print(ans)\n",
    "print(alist)"
   ]
  },
  {
   "cell_type": "markdown",
   "metadata": {},
   "source": [
    "2. List comprehension\n",
    "\n",
    "Write the following expression using a list comprehension:\n",
    "\n",
    "ans = list(map(lambda x: x * x, filter(lambda x: x % 2 == 1, range(10)))"
   ]
  },
  {
   "cell_type": "code",
   "execution_count": 11,
   "metadata": {},
   "outputs": [
    {
     "name": "stdout",
     "output_type": "stream",
     "text": [
      "[(0, 0), (0, 1), (0, 2), (0, 3), (1, 0), (1, 1), (1, 2), (1, 3), (2, 0), (2, 1), (2, 2), (2, 3)]\n"
     ]
    }
   ],
   "source": [
    "# First-Soloution\n",
    "ans = []\n",
    "for i in range(3): \n",
    "    for j in range(4):\n",
    "        ans.append((i, j))\n",
    "print(ans)"
   ]
  },
  {
   "cell_type": "markdown",
   "metadata": {},
   "source": [
    "3\\. **Filter list**\n",
    "\n",
    "Using the `filter()` hof, define a function that takes a list of words and an integer `n` as arguments, and returns a list of words that are shorter than `n`."
   ]
  },
  {
   "cell_type": "code",
   "execution_count": 12,
   "metadata": {},
   "outputs": [
    {
     "name": "stdout",
     "output_type": "stream",
     "text": [
      "['bye', 'ciao']\n"
     ]
    }
   ],
   "source": [
    "def filter_list(words, n):\n",
    "    return list(filter(lambda word : len(word)<n, words))\n",
    "\n",
    "print(filter_list([\"goodbye\", \"bye\",\"goodevening\",\"ciao\"],6))\n"
   ]
  },
  {
   "cell_type": "markdown",
   "metadata": {},
   "source": [
    "4\\. **Map dictionary**\n",
    "\n",
    "\n",
    "Consider the following dictionary:\n",
    "\n",
    "`lang = {\"Python\" : 3, \"Java\" : '', \"Cplusplus\" : 'test', \"Php\" : 0.7}`\n",
    "\n",
    "Write a function that takes the above dictionary and uses the `map()` higher order function to return a list that contains the length of the keys of the dictionary."
   ]
  },
  {
   "cell_type": "code",
   "execution_count": 13,
   "metadata": {},
   "outputs": [
    {
     "name": "stdout",
     "output_type": "stream",
     "text": [
      "[6, 4, 9, 3]\n"
     ]
    }
   ],
   "source": [
    "def map_dict(dic):\n",
    "    return list(map(lambda key : len(key), dic.keys()))\n",
    "\n",
    "lang = {\"Python\" : 3, \"Java\" : '', \"Cplusplus\" : 'test', \"Php\" : 0.7}\n",
    "print(map_dict(lang))"
   ]
  },
  {
   "cell_type": "markdown",
   "metadata": {},
   "source": [
    "5\\. **Lambda functions**\n",
    "\n",
    "Write a Python program that sorts the following list of tuples using a lambda function, according to the alphabetical order of the first element of the tuple:\n",
    "\n",
    "`language_scores = [('Python', 97), ('Cplusplus', 81), ('Php', 45), ('Java', 32)]`\n",
    "\n",
    "*Hint*: use the method `sort()` and its argument `key` of the `list` data structure."
   ]
  },
  {
   "cell_type": "code",
   "execution_count": 14,
   "metadata": {},
   "outputs": [
    {
     "name": "stdout",
     "output_type": "stream",
     "text": [
      "[('Cplusplus', 81), ('Java', 32), ('Php', 45), ('Python', 97)]\n"
     ]
    }
   ],
   "source": [
    "language_scores = [('Python', 97), ('Cplusplus', 81), ('Php', 45), ('Java', 32)]\n",
    "\n",
    "#alternative solution:\n",
    "language_scores2 = [('Python', 97), ('Cplusplus', 81), ('Php', 45), ('Java', 32)]\n",
    "language_scores2.sort()\n",
    "print(language_scores2)"
   ]
  },
  {
   "cell_type": "markdown",
   "metadata": {},
   "source": [
    "6\\. **Nested functions**\n",
    "\n",
    "Write two functions: one that returns the square of a number, and one that returns its cube.\n",
    "\n",
    "Then, write a third function that returns the number raised to the 6th power, using only the two previous functions."
   ]
  },
  {
   "cell_type": "code",
   "execution_count": 15,
   "metadata": {},
   "outputs": [
    {
     "name": "stdout",
     "output_type": "stream",
     "text": [
      "64\n"
     ]
    }
   ],
   "source": [
    "def squared(i):\n",
    "    return i**2\n",
    "\n",
    "def cubed(i):\n",
    "    return i**3\n",
    "\n",
    "def power6(i):\n",
    "    return squared(cubed(i))\n",
    "\n",
    "print(power6(2))"
   ]
  },
  {
   "cell_type": "markdown",
   "metadata": {},
   "source": [
    "7\\. **Decorators**\n",
    "\n",
    "Write a decorator named `hello` that makes every wrapped function print “Hello World!” each time the function is called.\n",
    "\n",
    "The wrapped function should look like:\n",
    "\n",
    "```python\n",
    "@hello\n",
    "def square(x):\n",
    "    return x*x\n",
    "```"
   ]
  },
  {
   "cell_type": "code",
   "execution_count": 16,
   "metadata": {},
   "outputs": [
    {
     "name": "stdout",
     "output_type": "stream",
     "text": [
      "Hello\n",
      "40\n",
      "Hello\n",
      "----------\n",
      "Hello\n",
      "25\n",
      "Hello\n"
     ]
    }
   ],
   "source": [
    "def hello(func):\n",
    "    def wrapper(*args, **kwargs):\n",
    "        print(\"Hello\")\n",
    "        func(*args, **kwargs)\n",
    "        print(\"Hello\")\n",
    "    return wrapper\n",
    "\n",
    "@hello\n",
    "def square(x):\n",
    "    print( x**2)\n",
    "    \n",
    "    \n",
    "@hello\n",
    "def do_sth(x,y,z):\n",
    "    print(x*y*z)\n",
    "\n",
    "\n",
    "do_sth(4,2,5)\n",
    "print(\"----------\")\n",
    "\n",
    "square(5)"
   ]
  },
  {
   "cell_type": "markdown",
   "metadata": {},
   "source": [
    "8\\. **The Fibonacci sequence (part 2)**\n",
    "\n",
    "Calculate the first 20 numbers of the [Fibonacci sequence](https://en.wikipedia.org/wiki/Fibonacci_number) using a recursive function."
   ]
  },
  {
   "cell_type": "code",
   "execution_count": 17,
   "metadata": {},
   "outputs": [
    {
     "name": "stdout",
     "output_type": "stream",
     "text": [
      "0\n",
      "1\n",
      "1\n",
      "2\n",
      "3\n",
      "5\n",
      "8\n",
      "13\n",
      "21\n",
      "34\n",
      "55\n",
      "89\n",
      "144\n",
      "233\n",
      "377\n",
      "610\n",
      "987\n",
      "1597\n",
      "2584\n",
      "4181\n",
      "0\n",
      "1\n",
      "1\n",
      "2\n",
      "3\n",
      "5\n",
      "8\n",
      "13\n",
      "21\n",
      "34\n",
      "55\n",
      "89\n",
      "144\n",
      "233\n",
      "377\n",
      "610\n",
      "987\n",
      "1597\n",
      "2584\n",
      "4181\n"
     ]
    }
   ],
   "source": [
    "def recursiveFibonacci(i):\n",
    "    if i == 1:\n",
    "        return 0\n",
    "    elif i == 2:\n",
    "        return 1\n",
    "    else:\n",
    "        return recursiveFibonacci(i-1) + recursiveFibonacci(i-2)\n",
    "\n",
    "\n",
    "for i in range(1,21):\n",
    "    print(recursiveFibonacci(i))\n",
    "\n",
    "\n",
    "\n",
    "\n",
    "def loopFibonacci(i):\n",
    "    if i ==1:\n",
    "        return 0\n",
    "    elif i ==2:\n",
    "        return 1\n",
    "    else:\n",
    "        a,b = 0,1\n",
    "        for j in range(i-2):\n",
    "            a,b = b, a+b\n",
    "        return b\n",
    "\n",
    "for i in range(1,21):\n",
    "    print(loopFibonacci(i))"
   ]
  },
  {
   "cell_type": "markdown",
   "metadata": {},
   "source": [
    "9\\. **The Fibonacci sequence (part 3)**\n",
    "\n",
    "Run both the Fibonacci recursive function from the previous exercise, and the Fibonacci function from 01ex that use only `for` and `while` loops.\n",
    "\n",
    "Measure the execution code of the two functions with `timeit` ([link to the doc](https://docs.python.org/3/library/timeit.html)), for example:\n",
    "\n",
    "`%timeit loopFibonacci(20)`\n",
    "\n",
    "`%timeit recursiveFibonacci(20)`\n",
    "\n",
    "which one is the most efficient implementation? By how much?"
   ]
  },
  {
   "cell_type": "code",
   "execution_count": 18,
   "metadata": {},
   "outputs": [
    {
     "name": "stdout",
     "output_type": "stream",
     "text": [
      "2.8 µs ± 467 ns per loop (mean ± std. dev. of 7 runs, 100000 loops each)\n",
      "3.96 ms ± 517 µs per loop (mean ± std. dev. of 7 runs, 100 loops each)\n"
     ]
    }
   ],
   "source": [
    "get_ipython().run_line_magic('timeit', 'loopFibonacci(20)')\n",
    "get_ipython().run_line_magic('timeit', 'recursiveFibonacci(20)')\n"
   ]
  },
  {
   "cell_type": "markdown",
   "metadata": {},
   "source": [
    "10\\. **Class definition**\n",
    "\n",
    "Define a class `polygon`. The constructor has to take a tuple as input that contains the length of each side. The (unordered) input list does not have to have a fixed length, but should contain at least 3 items.\n",
    "\n",
    "- Create appropriate methods to get and set the length of each side\n",
    "\n",
    "- Create a method `perimeter()` that returns the perimeter of the polygon\n",
    "\n",
    "- Create a method `getOrderedSides(increasing = True)` that returns a tuple containing the length of the sides arranged in increasing or decreasing order, depending on the argument of the method\n",
    "\n",
    "Test the class by creating an instance and calling the `perimeter()` and `getOrderedSides(increasing = True)` methods."
   ]
  },
  {
   "cell_type": "code",
   "execution_count": 19,
   "metadata": {},
   "outputs": [
    {
     "name": "stdout",
     "output_type": "stream",
     "text": [
      "(3, 5, 8)\n",
      "14\n",
      "10\n"
     ]
    }
   ],
   "source": [
    "class polygon:\n",
    "\n",
    "    x = ()\n",
    "\n",
    "    def __init__(self,components):\n",
    "        if len(components) > 2:\n",
    "            self.x = components\n",
    "        else:\n",
    "            print(\"Error: not enough number of sides given\")\n",
    "    def get_side(self,n):\n",
    "        return self.x[n]\n",
    "\n",
    "    def set_side(self,n, val):\n",
    "        x_temp = list(self.x)\n",
    "        if n < len(self.x):\n",
    "            x_temp[n] = val\n",
    "        self.x = tuple(x_temp)\n",
    "\n",
    "    def perimeter(self):\n",
    "        p = 0\n",
    "        for side in self.x:\n",
    "            p+=side\n",
    "        return p\n",
    "\n",
    "    def getOrderedSides(self, increasing = True):\n",
    "        if increasing == True:\n",
    "            return tuple(sorted(self.x))\n",
    "        else:\n",
    "            return tuple(sorted(self.x, reverse=True))\n",
    "a = polygon((3,5,8))\n",
    "#print(a.get_side(2))\n",
    "#a.set_side(2,9)\n",
    "#print(a.get_side(2))\n",
    "#print(a.perimeter())\n",
    "print(a.getOrderedSides(increasing = True))\n",
    "#print(a.getOrderedSides(increasing = False))\n",
    "\n",
    "\n",
    "\n",
    "\n",
    "class rectangle(polygon):\n",
    "    def __init__(self, components):\n",
    "        #Making sure the tuple contains four elements and that pairs/all sides are the same value (also including squares)\n",
    "        if len(components) == 4 and len(set(components)) <=2:\n",
    "            self.x = components\n",
    "        else:\n",
    "            print(\"Error: not following the geometrical properties of a rectangle\")\n",
    "\n",
    "    def area(self):\n",
    "        sides = sorted(self.x)\n",
    "        return sides[0]*sides[-1]\n",
    "\n",
    "\n",
    "b = rectangle((2,5,2,5))\n",
    "print(b.perimeter())\n",
    "print(b.area())"
   ]
  },
  {
   "cell_type": "markdown",
   "metadata": {},
   "source": [
    "11\\. **Class inheritance**\n",
    "\n",
    "Define a class `rectangle` that inherits from `polygon`. Modify the constructor, if necessary, to make sure that the input data is consistent with the geometrical properties of a rectangle.\n",
    "\n",
    "- Create a method `area()` that returns the area of the rectangle.\n",
    "\n",
    "Test the `rectangle` class by creating an instance and passing an appropriate input to the constructor."
   ]
  },
  {
   "cell_type": "code",
   "execution_count": null,
   "metadata": {},
   "outputs": [],
   "source": []
  }
 ],
 "metadata": {
  "kernelspec": {
   "display_name": "Python 3 (ipykernel)",
   "language": "python",
   "name": "python3"
  },
  "language_info": {
   "codemirror_mode": {
    "name": "ipython",
    "version": 3
   },
   "file_extension": ".py",
   "mimetype": "text/x-python",
   "name": "python",
   "nbconvert_exporter": "python",
   "pygments_lexer": "ipython3",
   "version": "3.9.13"
  }
 },
 "nbformat": 4,
 "nbformat_minor": 2
}
