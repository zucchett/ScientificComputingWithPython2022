{
 "cells": [
  {
   "cell_type": "code",
   "execution_count": 1,
   "id": "9e8ef681-e870-4fe2-bf04-f4dc3d0d0027",
   "metadata": {},
   "outputs": [
    {
     "name": "stdout",
     "output_type": "stream",
     "text": [
      "       HEAD  FPGA  TDC_CHANNEL   ORBIT_CNT  BX_COUNTER  TDC_MEAS\n",
      "0         1     0          123  3869200167        2374        26\n",
      "1         1     0          124  3869200167        2374        27\n",
      "2         1     0           63  3869200167        2553        28\n",
      "3         1     0           64  3869200167        2558        19\n",
      "4         1     0           64  3869200167        2760        25\n",
      "...     ...   ...          ...         ...         ...       ...\n",
      "14995     1     1            4  3869200316        3399         9\n",
      "14996     1     1           17  3869200316        3400        15\n",
      "14997     1     1           10  3869200316        3530        16\n",
      "14998     1     1            8  3869200316        3533        18\n",
      "14999     1     0          139  3869200316        3539         0\n",
      "\n",
      "[15000 rows x 6 columns]\n",
      "<class 'pandas.core.frame.DataFrame'>\n",
      "RangeIndex: 15000 entries, 0 to 14999\n",
      "Data columns (total 6 columns):\n",
      " #   Column       Non-Null Count  Dtype\n",
      "---  ------       --------------  -----\n",
      " 0   HEAD         15000 non-null  int64\n",
      " 1   FPGA         15000 non-null  int64\n",
      " 2   TDC_CHANNEL  15000 non-null  int64\n",
      " 3   ORBIT_CNT    15000 non-null  int64\n",
      " 4   BX_COUNTER   15000 non-null  int64\n",
      " 5   TDC_MEAS     15000 non-null  int64\n",
      "dtypes: int64(6)\n",
      "memory usage: 703.2 KB\n",
      "None\n"
     ]
    }
   ],
   "source": [
    "#1. Create a Pandas DataFrame reading N rows of the data/data_000637.txt\n",
    "import pandas as pd\n",
    "import numpy as np\n",
    "\n",
    "data = pd.read_csv('data/data_000637.txt', skiprows=0, nrows= 15000)\n",
    "print(data)\n",
    "print(data.info())\n",
    "#The header is : INDEX  HEAD    TDC_CHANNEL ORBIT_CNT   BX_COUNTER  TDC_MEAS\n"
   ]
  },
  {
   "cell_type": "code",
   "execution_count": 2,
   "id": "638ddd6d-e606-4ad5-a7bd-c19f5b5c23bc",
   "metadata": {},
   "outputs": [
    {
     "name": "stdout",
     "output_type": "stream",
     "text": [
      "The BX_COUNTER column is: \n",
      " 0        2374\n",
      "1        2374\n",
      "2        2553\n",
      "3        2558\n",
      "4        2760\n",
      "         ... \n",
      "14995    3399\n",
      "14996    3400\n",
      "14997    3530\n",
      "14998    3533\n",
      "14999    3539\n",
      "Name: BX_COUNTER, Length: 15000, dtype: int64 \n",
      "\n",
      "(15000,)\n",
      "Estimated number of BX in a ORBIT, solution1: 3564 \n",
      "\n"
     ]
    }
   ],
   "source": [
    "#2. Estimate the number of BX in a ORBIT (the value x)\n",
    "bx=data['BX_COUNTER']\n",
    "print('The BX_COUNTER column is: \\n', bx, '\\n')\n",
    "max1=0\n",
    "print(bx.shape)\n",
    "for i in bx:\n",
    "   if i > max1:\n",
    "    max1 =i\n",
    "estimated_bx= max1+1\n",
    "print('Estimated number of BX in a ORBIT, solution1:', estimated_bx, '\\n')\n"
   ]
  },
  {
   "cell_type": "code",
   "execution_count": 3,
   "id": "521593d5-702d-4bc6-b002-269cd18bf1e4",
   "metadata": {},
   "outputs": [
    {
     "name": "stdout",
     "output_type": "stream",
     "text": [
      "       HEAD  FPGA  TDC_CHANNEL   ORBIT_CNT  BX_COUNTER  TDC_MEAS  \\\n",
      "0         1     0          123  3869200167        2374        26   \n",
      "1         1     0          124  3869200167        2374        27   \n",
      "2         1     0           63  3869200167        2553        28   \n",
      "3         1     0           64  3869200167        2558        19   \n",
      "4         1     0           64  3869200167        2760        25   \n",
      "...     ...   ...          ...         ...         ...       ...   \n",
      "14995     1     1            4  3869200316        3399         9   \n",
      "14996     1     1           17  3869200316        3400        15   \n",
      "14997     1     1           10  3869200316        3530        16   \n",
      "14998     1     1            8  3869200316        3533        18   \n",
      "14999     1     0          139  3869200316        3539         0   \n",
      "\n",
      "                               Time  \n",
      "0     1970-01-04 23:45:45.734939071  \n",
      "1     1970-01-04 23:45:45.734939072  \n",
      "2     1970-01-04 23:45:45.734943548  \n",
      "3     1970-01-04 23:45:45.734943665  \n",
      "4     1970-01-04 23:45:45.734948720  \n",
      "...                             ...  \n",
      "14995 1970-01-04 23:45:45.748240582  \n",
      "14996 1970-01-04 23:45:45.748240612  \n",
      "14997 1970-01-04 23:45:45.748243863  \n",
      "14998 1970-01-04 23:45:45.748243940  \n",
      "14999 1970-01-04 23:45:45.748244075  \n",
      "\n",
      "[15000 rows x 7 columns] \n",
      "\n"
     ]
    }
   ],
   "source": [
    "#3. Create a new column with the absolute time in ns and convert the new column to a Time Series\n",
    "import datetime as dt\n",
    "data['Time'] = data['TDC_MEAS'] * (25/30) + data['BX_COUNTER'] * 25 + data['ORBIT_CNT'] * estimated_bx * 25\n",
    "data['Time'] = pd.to_datetime(data['Time']) #???????\n",
    "print(data, '\\n')\n"
   ]
  },
  {
   "cell_type": "code",
   "execution_count": 6,
   "id": "7cc41cfc-5217-4212-8455-5597d6dd8afe",
   "metadata": {},
   "outputs": [
    {
     "name": "stdout",
     "output_type": "stream",
     "text": [
      "DurationTime:  0:00:00.005162 \n",
      "\n",
      "     A      B  C          D\n",
      "0  foo    one  0  10.000000\n",
      "1  bar    one  1   7.142857\n",
      "2  foo    two  2   4.285714\n",
      "3  bar  three  3   1.428571\n",
      "4  foo    two  4  -1.428571\n",
      "5  bar    two  5  -4.285714\n",
      "6  foo    one  6  -7.142857\n",
      "7  foo  three  7 -10.000000\n"
     ]
    }
   ],
   "source": [
    "#4. Find out the duration of the data\n",
    "startTime= dt.datetime.now()\n",
    "data['Time'] = data['TDC_MEAS'] * (25/30) + data['BX_COUNTER'] * 25 + data['ORBIT_CNT'] * estimated_bx * 25\n",
    "endTime= dt.datetime.now()\n",
    "durationTime= endTime - startTime\n",
    "print('DurationTime: ', durationTime, '\\n')\n",
    "\n",
    "gdf = pd.DataFrame({'A' : ['foo', 'bar', 'foo', 'bar',\n",
    "                          'foo', 'bar', 'foo', 'foo'],\n",
    "                    'B' : ['one', 'one', 'two', 'three',\n",
    "                           'two', 'two', 'one', 'three'],\n",
    "                    'C' : np.arange(8),\n",
    "                    'D' : np.linspace(10, -10, 8)})\n",
    "print(gdf)"
   ]
  },
  {
   "cell_type": "code",
   "execution_count": 7,
   "id": "098113ff-1926-4a06-977c-55674e584d65",
   "metadata": {},
   "outputs": [
    {
     "name": "stdout",
     "output_type": "stream",
     "text": [
      "3 noisy Channels: \n",
      "              HEAD  FPGA      ORBIT_CNT  BX_COUNTER  TDC_MEAS          Time\n",
      "TDC_CHANNEL                                                               \n",
      "63            749     6  2898030982000     1364359     11085  2.582146e+17\n",
      "64            752    17  2909638583165     1394717     10889  2.592488e+17\n",
      "139          1268   389  4906145905369     2247027         0  4.371376e+17 \n",
      "\n"
     ]
    }
   ],
   "source": [
    "#5. Use the .groupby() method to find out the noisy channels\n",
    "groupby_Channel= data.groupby('TDC_CHANNEL').sum().sort_values(by=['HEAD']).iloc[-3:]\n",
    "print(\"3 noisy Channels: \\n\", groupby_Channel, '\\n')\n"
   ]
  },
  {
   "cell_type": "code",
   "execution_count": 8,
   "id": "7fc07b08-6b48-4088-a47b-f8cfb42b7129",
   "metadata": {},
   "outputs": [
    {
     "name": "stdout",
     "output_type": "stream",
     "text": [
      "count of non empty orbit:  15000 \n",
      "\n"
     ]
    }
   ],
   "source": [
    "#6. Count the number of non-empty orbits ????\n",
    "nonemptyOrbit = data[data['ORBIT_CNT']>0].count()\n",
    "print(\"count of non empty orbit: \", nonemptyOrbit['ORBIT_CNT'], '\\n')\n"
   ]
  },
  {
   "cell_type": "code",
   "execution_count": 9,
   "id": "b75016c6-2368-4869-95c4-0832796ffdb9",
   "metadata": {},
   "outputs": [
    {
     "name": "stdout",
     "output_type": "stream",
     "text": [
      "count of unique orbit:  150 \n",
      "\n"
     ]
    }
   ],
   "source": [
    "#7. Count the number of unique orbits with at least one measurement from TDC_CHANNEL=139.\n",
    "tdc = data[data['TDC_CHANNEL'] == 139]\n",
    "#print(tdc)\n",
    "noofunitOrbit= tdc['ORBIT_CNT'].nunique()\n",
    "print(\"count of unique orbit: \", noofunitOrbit, '\\n')"
   ]
  },
  {
   "cell_type": "code",
   "execution_count": 10,
   "id": "4bae7e05-3993-4ba7-b43d-5a92b04fa7d2",
   "metadata": {},
   "outputs": [
    {
     "name": "stdout",
     "output_type": "stream",
     "text": [
      "FPGA 0 TDC_CHANNEL count: \n",
      " 139    879\n",
      "63     743\n",
      "64     735\n",
      "61     555\n",
      "62     529\n",
      "      ... \n",
      "99       5\n",
      "107      5\n",
      "98       5\n",
      "106      4\n",
      "101      3\n",
      "Name: TDC_CHANNEL, Length: 117, dtype: int64\n",
      "FPGA 1 TDC_CHANNEL count: \n",
      " 139    389\n",
      "2      363\n",
      "1      338\n",
      "4      290\n",
      "3      277\n",
      "      ... \n",
      "91       1\n",
      "78       1\n",
      "93       1\n",
      "75       1\n",
      "76       1\n",
      "Name: TDC_CHANNEL, Length: 124, dtype: int64\n"
     ]
    }
   ],
   "source": [
    "#8. Create two Series (one for each FPGA) that have the TDC channel as index, and the number of counts for the corresponding TDC channel as values.\n",
    "FPGA0= data[data['FPGA']==0]\n",
    "FPGA1= data[data['FPGA']==1]\n",
    "FPGA0_TDC_Count = FPGA0['TDC_CHANNEL'].value_counts()\n",
    "FPGA1_TDC_Count = FPGA1['TDC_CHANNEL'].value_counts()\n",
    "print('FPGA 0 TDC_CHANNEL count: \\n', FPGA0_TDC_Count)\n",
    "print('FPGA 1 TDC_CHANNEL count: \\n', FPGA1_TDC_Count)"
   ]
  },
  {
   "cell_type": "code",
   "execution_count": 11,
   "id": "d58d7a10-297d-410c-acb1-693948b4d968",
   "metadata": {},
   "outputs": [
    {
     "data": {
      "text/plain": [
       "<AxesSubplot:title={'center':'FPGA 0'}, xlabel='TDC_CHANNEL'>"
      ]
     },
     "execution_count": 11,
     "metadata": {},
     "output_type": "execute_result"
    },
    {
     "data": {
      "image/png": "[encoded data removed]",
      "text/plain": [
       "<Figure size 432x288 with 1 Axes>"
      ]
     },
     "metadata": {
      "needs_background": "light"
     },
     "output_type": "display_data"
    },
    {
     "data": {
      "image/png": "[encoded data removed]",
      "text/plain": [
       "<Figure size 432x288 with 1 Axes>"
      ]
     },
     "metadata": {
      "needs_background": "light"
     },
     "output_type": "display_data"
    }
   ],
   "source": [
    "#9. Create two histograms that show the number of counts for each TDC channel\n",
    "ax = FPGA0_TDC_Count.plot.hist()\n",
    "fpga_0 = data[data['FPGA']== 0].groupby('TDC_CHANNEL').size().reset_index(name='COUNT')\n",
    "fpga_0.plot(x = 'TDC_CHANNEL', y = 'COUNT', title = \"FPGA 0\")\n",
    "\n"
   ]
  },
  {
   "cell_type": "code",
   "execution_count": null,
   "id": "b2bdfcc2-83fa-48d1-8561-bff36f049d99",
   "metadata": {},
   "outputs": [],
   "source": []
  }
 ],
 "metadata": {
  "kernelspec": {
   "display_name": "Python 3 (ipykernel)",
   "language": "python",
   "name": "python3"
  },
  "language_info": {
   "codemirror_mode": {
    "name": "ipython",
    "version": 3
   },
   "file_extension": ".py",
   "mimetype": "text/x-python",
   "name": "python",
   "nbconvert_exporter": "python",
   "pygments_lexer": "ipython3",
   "version": "3.9.12"
  }
 },
 "nbformat": 4,
 "nbformat_minor": 5
}
