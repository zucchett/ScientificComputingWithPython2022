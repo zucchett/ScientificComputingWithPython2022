{
 "cells": [
  {
   "cell_type": "code",
   "execution_count": 6,
   "id": "6b8071f6",
   "metadata": {},
   "outputs": [
    {
     "name": "stdout",
     "output_type": "stream",
     "text": [
      "Binary Converter\n",
      "Binary: 0b10001101\n",
      "Binary Converter\n",
      "Binary: 0b10011000\n",
      "Decimal Converter\n",
      "Decimal: 125\n",
      "Decimal Converter\n",
      "Decimal: 220\n",
      "Hex Converter\n",
      "Hexadecimal: 0xc\n",
      "Hex Converter\n",
      "Hexadecimal: 0xcd\n"
     ]
    }
   ],
   "source": [
    "#series 3\n",
    "#1\n",
    "def c2b(to_bin):\n",
    "    print(\"Binary Converter\")\n",
    "    bin_to_bin = bin(to_bin)\n",
    "    print(\"Binary:\",bin_to_bin)\n",
    "\n",
    "def c2d(num):\n",
    "    print(\"Decimal Converter\")\n",
    "    bin_num = int(num)\n",
    "    print(\"Decimal:\",bin_num)\n",
    "    \n",
    "def c2h(to_hex):\n",
    "    print(\"Hex Converter\")\n",
    "    to_hex = hex(to_hex)\n",
    "    print(\"Hexadecimal:\",to_hex)\n",
    " \n",
    "to_bin = 0x8d\n",
    "c2b(to_bin)\n",
    "to_bin=152\n",
    "c2b(to_bin)\n",
    "\n",
    "num=0x7d\n",
    "c2d(num)\n",
    "num= 0b11011100\n",
    "c2d(num)\n",
    "\n",
    "to_hex=12\n",
    "c2h(to_hex)\n",
    "to_hex = 0b11001101\n",
    "c2h(to_hex)"
   ]
  },
  {
   "cell_type": "code",
   "execution_count": 9,
   "id": "55247ab9",
   "metadata": {},
   "outputs": [
    {
     "name": "stdout",
     "output_type": "stream",
     "text": [
      "number is -89.84412384033203 after conversion\n"
     ]
    }
   ],
   "source": [
    "#2\n",
    "def abc (n):\n",
    "    sign = n[0]\n",
    "    exponent = n[1:9]\n",
    "    ment = n[9:]\n",
    "\n",
    "    exp = int(exponent, 2) - 127\n",
    "    r_bin = '1' + ment[:exp]\n",
    "    f_bin = ment[exp:]\n",
    "\n",
    "    r = int(r_bin, 2)\n",
    "    f = 0\n",
    "    for i in range(len(f_bin)):\n",
    "        if (f_bin[i] == '1'):\n",
    "            f += 2**(-i-1)\n",
    "\n",
    "    result = r + f\n",
    "    if (sign == '1'):\n",
    "        result = -result\n",
    "\n",
    "    return float(result)\n",
    "\n",
    "num = '110000101011001110110000001100010'\n",
    "print(f\"number is {abc(num)} after conversion\")"
   ]
  },
  {
   "cell_type": "code",
   "execution_count": 12,
   "id": "ef2d83d6",
   "metadata": {},
   "outputs": [
    {
     "name": "stdout",
     "output_type": "stream",
     "text": [
      "over flow: 8.988466e+307\n",
      "underflow: 1.112537e-308\n"
     ]
    }
   ],
   "source": [
    "#3\n",
    "\n",
    "uf = 1\n",
    "of = 1\n",
    "for i in range(1023):\n",
    "    uf = uf / 2\n",
    "    of  = of  * 2\n",
    "scientific_uf=\"{:e}\".format(uf)\n",
    "scientific_of=\"{:e}\".format(of)\n",
    "print(f'over flow: {scientific_of}')\n",
    "print(f'underflow: {scientific_uf}')"
   ]
  },
  {
   "cell_type": "code",
   "execution_count": 14,
   "id": "085856aa",
   "metadata": {},
   "outputs": [
    {
     "name": "stdout",
     "output_type": "stream",
     "text": [
      "time 0\n",
      "2.1\n",
      "time 1\n",
      "2.11\n",
      "time 2\n",
      "2.1109999999999998\n",
      "time 3\n",
      "2.1111\n",
      "time 4\n",
      "2.11111\n",
      "time 5\n",
      "2.111111\n",
      "time 6\n",
      "2.1111111\n",
      "time 7\n",
      "2.11111111\n",
      "time 8\n",
      "2.111111111\n",
      "time 9\n",
      "2.1111111111\n",
      "time 10\n",
      "2.11111111111\n",
      "time 11\n",
      "2.111111111111\n",
      "time 12\n",
      "2.1111111111111\n",
      "time 13\n",
      "2.1111111111111103\n",
      "time 14\n",
      "2.111111111111111\n",
      "time 15\n",
      "2.111111111111111\n",
      "time 16\n",
      "2.111111111111111\n",
      "time 17\n",
      "2.111111111111111\n",
      "time 18\n",
      "2.111111111111111\n",
      "time 19\n",
      "2.111111111111111\n",
      "no differene after 14 times.\n"
     ]
    }
   ],
   "source": [
    "#4\n",
    "v = 2\n",
    "a = 1e-1\n",
    "for i in range(20):\n",
    "    v = v + a\n",
    "    a = a * 1e-1\n",
    "    print(f'time {i}')\n",
    "    print(v)\n",
    "    \n",
    "print(\"no differene after 14 times.\")    "
   ]
  },
  {
   "cell_type": "code",
   "execution_count": 15,
   "id": "aa0ba675",
   "metadata": {},
   "outputs": [
    {
     "name": "stdout",
     "output_type": "stream",
     "text": [
      "\n",
      "Part A\n",
      "The solutions -999999.999999 and -9.999894245993346e-07\n",
      "Part B B\n",
      "The solutions -999999.9999990001 and -9.999894245993346e-07\n",
      "Part C\n",
      "2 roots: -9.999894245993346e-07 and -999999.999999\n",
      "\n"
     ]
    }
   ],
   "source": [
    "#5\n",
    "import math \n",
    "#a)\n",
    "print(\"\\nPart A\")\n",
    "a = 0.001\n",
    "b = 1000\n",
    "c = 0.001\n",
    "d = float((b**2) - (4*a*c)) \n",
    "sol1 = (-b - math.sqrt(d))/(2*a)  \n",
    "sol2 = (-b+math.sqrt(d))/(2*a)  \n",
    "print(f'The solutions {sol1} and {sol2}') \n",
    "#b)\n",
    "print(\"Part B B\")\n",
    "\n",
    "d = float((b**2) - (4*a*c))  \n",
    "factor1 = (-b + math.sqrt(d))\n",
    "factor2 = (-b - math.sqrt(d))\n",
    "sol1 = ((-b - math.sqrt(d)) *factor1) /((2*a) * factor1)  \n",
    "sol2 = ((-b+math.sqrt(d))* factor2)/((2*a) *factor2)\n",
    "\n",
    "print(f'The solutions {sol1} and {sol2}') \n",
    "\n",
    "#c)\n",
    "\n",
    "def ans(a,b,c):\n",
    "    d = float((b**2) - (4*a*c)) \n",
    "    print(\"Part C\")\n",
    "    if d > 0:\n",
    "        roots = 2\n",
    "        x1 = (((-b) + math.sqrt(d))/(2*a))     \n",
    "        x2 = (((-b) - math.sqrt(d))/(2*a))\n",
    "        print(f'2 roots: {x1} and {x2}\\n')\n",
    "    elif d == 0:\n",
    "        roots = 1\n",
    "        x = (-b) / 2*a\n",
    "        print(f\"one root: {x}\\n\")\n",
    "    else:\n",
    "        roots = 0\n",
    "\n",
    "\n",
    "\n",
    "ans(0.001,1000,0.001)"
   ]
  },
  {
   "cell_type": "code",
   "execution_count": 16,
   "id": "2e0c48ba",
   "metadata": {},
   "outputs": [
    {
     "name": "stdout",
     "output_type": "stream",
     "text": [
      "\\Result is: 1.01 \n",
      " \n",
      "Result of the function with h 0.0001  derivative imp. :  1.0001\n",
      "Result of the function with h 1.0000000000000002e-06  derivative imp. :  1.000001\n",
      "Result of the function with h 1.0000000000000002e-08  derivative imp. :  1.0\n",
      "Result of the function with h 1.0000000000000002e-10  derivative imp. :  1.0\n",
      "Result of the function with h 1.0000000000000002e-12  derivative imp. :  1.000089\n",
      "Result of the function with h 1.0000000000000002e-14  derivative imp. :  0.999201\n"
     ]
    }
   ],
   "source": [
    "#6\n",
    "# a)\n",
    "\n",
    "def f(x):\n",
    "    return x*(x-1)\n",
    "\n",
    "def derive(func, val):\n",
    "    delta = 1e-2\n",
    "    top = func(val + delta) - func(val)\n",
    "    bottom = delta\n",
    "    slope = top / bottom\n",
    "    return float(\"%f\" % slope)\n",
    "print(f\"\\Result is: {derive(f,1)} \\n \")\n",
    "\n",
    "# b)\n",
    "def derive2(function, value):\n",
    "    delta = 1e-2\n",
    "    for i in range(0,6):\n",
    "        delta = delta * 1e-2\n",
    "        top = function(value + delta) - function(value)\n",
    "        bottom = delta\n",
    "        slope = top / bottom\n",
    "        print(f\"Result of the function with h {delta}  derivative imp. : \", float(\"%f\" % slope))\n",
    "        \n",
    "derive2(f,1)\n",
    "\n",
    "        "
   ]
  },
  {
   "cell_type": "code",
   "execution_count": null,
   "id": "46bab705",
   "metadata": {},
   "outputs": [
    {
     "name": "stdout",
     "output_type": "stream",
     "text": [
      "1.5691342555492505\n",
      "1.5707963267948966\n",
      "1.5707963266264928\n",
      "1.5707963267948966\n",
      "The time is about 1 second :  1.3197594999999183\n"
     ]
    }
   ],
   "source": [
    "import math\n",
    "import timeit\n",
    "starttime = timeit.default_timer()\n",
    "def func(N):\n",
    "    lim_1 = -1  \n",
    "    lim_2 = 1\n",
    "    h = (lim_2 - lim_1) / N\n",
    "    I = 0 \n",
    "    for k in range(N):\n",
    "        x = lim_1 + h * k\n",
    "        y_k = math.sqrt(1-x**2)\n",
    "        I += h* y_k\n",
    "    print(I)\n",
    "    print(math.pi/2)\n",
    "\n",
    "# a) \n",
    "func(100)\n",
    "\n",
    "# b)\n",
    "starttime1 = timeit.default_timer()\n",
    "func(4600000)\n",
    "print(\"The time is about 1 second : \" , timeit.default_timer() - starttime1)\n",
    "\n",
    "# c)\n",
    "starttime2 = timeit.default_timer()\n",
    "func(280000000)\n",
    "print(\"The time is about 1 minute :\" , timeit.default_timer() - starttime2)\n",
    "\n",
    "\n",
    "\n",
    "\n",
    "\n",
    "\n",
    "\n",
    "\n",
    "\n",
    "\n",
    "\n",
    "\n",
    "\n",
    "\n",
    "\n",
    "\n",
    "\n",
    "\n",
    "\n",
    "\n",
    "\n",
    "\n",
    "\n",
    "\n",
    "\n",
    "\n"
   ]
  },
  {
   "cell_type": "code",
   "execution_count": null,
   "id": "296d1808",
   "metadata": {},
   "outputs": [],
   "source": []
  }
 ],
 "metadata": {
  "kernelspec": {
   "display_name": "Python 3 (ipykernel)",
   "language": "python",
   "name": "python3"
  },
  "language_info": {
   "codemirror_mode": {
    "name": "ipython",
    "version": 3
   },
   "file_extension": ".py",
   "mimetype": "text/x-python",
   "name": "python",
   "nbconvert_exporter": "python",
   "pygments_lexer": "ipython3",
   "version": "3.9.12"
  }
 },
 "nbformat": 4,
 "nbformat_minor": 5
}
