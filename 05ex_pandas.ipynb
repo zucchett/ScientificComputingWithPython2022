{
  "cells": [
    {
      "cell_type": "markdown",
      "metadata": {
        "id": "ThzSs-qQCPti"
      },
      "source": [
        "1\\. **Pandas DataFrame**\n",
        "\n",
        "This exercise consists in analyzing a dataset containg timing information from a series of Time-to-Digital-Converters (TDC) implemented in a pair of FPGAs. Each measurement (i.e. each row of the input file) consists of a flag that specifies the type of message ('HEAD', which in this case is always 1), two addresses of the TDC providing the signal ('FPGA' and 'TDC_CHANNEL'), and the timing information ('ORBIT_CNT', 'BX_COUNTER', and 'TDC_MEAS'). Each TDC count corresponds to 25/30 ns, whereas a unit of BX_COUNTER corresponds to 25 ns, and the ORBIT_CNT is increased every `x` BX_COUNTER. This allows to store the time in a similar way to hours, minutes and seconds."
      ]
    },
    {
      "cell_type": "code",
      "execution_count": 1,
      "metadata": {
        "colab": {
          "base_uri": "https://localhost:8080/"
        },
        "id": "RvtIG0DwCPtk",
        "outputId": "f573efe5-0458-4075-a3a4-ba2fa7780876"
      },
      "outputs": [
        {
          "output_type": "stream",
          "name": "stdout",
          "text": [
            "--2022-12-01 09:34:15--  https://www.dropbox.com/s/xvjzaxzz3ysphme/data_000637.txt\n",
            "Resolving www.dropbox.com (www.dropbox.com)... 162.125.6.18, 2620:100:6019:18::a27d:412\n",
            "Connecting to www.dropbox.com (www.dropbox.com)|162.125.6.18|:443... connected.\n",
            "HTTP request sent, awaiting response... 302 Found\n",
            "Location: /s/raw/xvjzaxzz3ysphme/data_000637.txt [following]\n",
            "--2022-12-01 09:34:15--  https://www.dropbox.com/s/raw/xvjzaxzz3ysphme/data_000637.txt\n",
            "Reusing existing connection to www.dropbox.com:443.\n",
            "HTTP request sent, awaiting response... 302 Found\n",
            "Location: https://uc493581686bdc35bbb96fa9aa1b.dl.dropboxusercontent.com/cd/0/inline/Bxx7rOe__g29UctBXBl_EG_wHvUbRFgQAv-Xxhalym9IwvFMIGvqxeI_HJ0Wv61afo4-ec8IjDnE0rIFbnd8IfwrhFDG8QceyTFXTnGxqneOGgali21WF3yazEVB-_rLHe0PHDS3wqPA3UEsxnrzpBBo8Gwxx_QLYQ3GciP9N61o1Q/file# [following]\n",
            "--2022-12-01 09:34:15--  https://uc493581686bdc35bbb96fa9aa1b.dl.dropboxusercontent.com/cd/0/inline/Bxx7rOe__g29UctBXBl_EG_wHvUbRFgQAv-Xxhalym9IwvFMIGvqxeI_HJ0Wv61afo4-ec8IjDnE0rIFbnd8IfwrhFDG8QceyTFXTnGxqneOGgali21WF3yazEVB-_rLHe0PHDS3wqPA3UEsxnrzpBBo8Gwxx_QLYQ3GciP9N61o1Q/file\n",
            "Resolving uc493581686bdc35bbb96fa9aa1b.dl.dropboxusercontent.com (uc493581686bdc35bbb96fa9aa1b.dl.dropboxusercontent.com)... 162.125.6.15, 2620:100:6019:15::a27d:40f\n",
            "Connecting to uc493581686bdc35bbb96fa9aa1b.dl.dropboxusercontent.com (uc493581686bdc35bbb96fa9aa1b.dl.dropboxusercontent.com)|162.125.6.15|:443... connected.\n",
            "HTTP request sent, awaiting response... 200 OK\n",
            "Length: 33179236 (32M) [text/plain]\n",
            "Saving to: ‘./data/data_000637.txt’\n",
            "\n",
            "data_000637.txt     100%[===================>]  31.64M   124MB/s    in 0.3s    \n",
            "\n",
            "2022-12-01 09:34:16 (124 MB/s) - ‘./data/data_000637.txt’ saved [33179236/33179236]\n",
            "\n"
          ]
        }
      ],
      "source": [
        "# If haven't downloaded it yet, please get the data file with wget\n",
        "!wget https://www.dropbox.com/s/xvjzaxzz3ysphme/data_000637.txt -P ./data/"
      ]
    },
    {
      "cell_type": "markdown",
      "metadata": {
        "id": "1TgR-Dx7CPtl"
      },
      "source": [
        "1\\. Create a Pandas DataFrame reading N rows of the `data/data_000637.txt` dataset. Choose N to be smaller than or equal to the maximum number of rows and larger that 10k (check the documentation)."
      ]
    },
    {
      "cell_type": "code",
      "execution_count": 3,
      "metadata": {
        "colab": {
          "base_uri": "https://localhost:8080/",
          "height": 206
        },
        "id": "A4jz8txXCPtl",
        "outputId": "ece7c839-6ae2-49f4-a483-8333d2d0d8cc"
      },
      "outputs": [
        {
          "output_type": "execute_result",
          "data": {
            "text/plain": [
              "   HEAD  FPGA  TDC_CHANNEL   ORBIT_CNT  BX_COUNTER  TDC_MEAS\n",
              "0     1     0          123  3869200167        2374        26\n",
              "1     1     0          124  3869200167        2374        27\n",
              "2     1     0           63  3869200167        2553        28\n",
              "3     1     0           64  3869200167        2558        19\n",
              "4     1     0           64  3869200167        2760        25"
            ],
            "text/html": [
              "\n",
              "  <div id=\"df-005468c6-a2bc-45fd-b8be-bf51948723a3\">\n",
              "    <div class=\"colab-df-container\">\n",
              "      <div>\n",
              "<style scoped>\n",
              "    .dataframe tbody tr th:only-of-type {\n",
              "        vertical-align: middle;\n",
              "    }\n",
              "\n",
              "    .dataframe tbody tr th {\n",
              "        vertical-align: top;\n",
              "    }\n",
              "\n",
              "    .dataframe thead th {\n",
              "        text-align: right;\n",
              "    }\n",
              "</style>\n",
              "<table border=\"1\" class=\"dataframe\">\n",
              "  <thead>\n",
              "    <tr style=\"text-align: right;\">\n",
              "      <th></th>\n",
              "      <th>HEAD</th>\n",
              "      <th>FPGA</th>\n",
              "      <th>TDC_CHANNEL</th>\n",
              "      <th>ORBIT_CNT</th>\n",
              "      <th>BX_COUNTER</th>\n",
              "      <th>TDC_MEAS</th>\n",
              "    </tr>\n",
              "  </thead>\n",
              "  <tbody>\n",
              "    <tr>\n",
              "      <th>0</th>\n",
              "      <td>1</td>\n",
              "      <td>0</td>\n",
              "      <td>123</td>\n",
              "      <td>3869200167</td>\n",
              "      <td>2374</td>\n",
              "      <td>26</td>\n",
              "    </tr>\n",
              "    <tr>\n",
              "      <th>1</th>\n",
              "      <td>1</td>\n",
              "      <td>0</td>\n",
              "      <td>124</td>\n",
              "      <td>3869200167</td>\n",
              "      <td>2374</td>\n",
              "      <td>27</td>\n",
              "    </tr>\n",
              "    <tr>\n",
              "      <th>2</th>\n",
              "      <td>1</td>\n",
              "      <td>0</td>\n",
              "      <td>63</td>\n",
              "      <td>3869200167</td>\n",
              "      <td>2553</td>\n",
              "      <td>28</td>\n",
              "    </tr>\n",
              "    <tr>\n",
              "      <th>3</th>\n",
              "      <td>1</td>\n",
              "      <td>0</td>\n",
              "      <td>64</td>\n",
              "      <td>3869200167</td>\n",
              "      <td>2558</td>\n",
              "      <td>19</td>\n",
              "    </tr>\n",
              "    <tr>\n",
              "      <th>4</th>\n",
              "      <td>1</td>\n",
              "      <td>0</td>\n",
              "      <td>64</td>\n",
              "      <td>3869200167</td>\n",
              "      <td>2760</td>\n",
              "      <td>25</td>\n",
              "    </tr>\n",
              "  </tbody>\n",
              "</table>\n",
              "</div>\n",
              "      <button class=\"colab-df-convert\" onclick=\"convertToInteractive('df-005468c6-a2bc-45fd-b8be-bf51948723a3')\"\n",
              "              title=\"Convert this dataframe to an interactive table.\"\n",
              "              style=\"display:none;\">\n",
              "        \n",
              "  <svg xmlns=\"http://www.w3.org/2000/svg\" height=\"24px\"viewBox=\"0 0 24 24\"\n",
              "       width=\"24px\">\n",
              "    <path d=\"M0 0h24v24H0V0z\" fill=\"none\"/>\n",
              "    <path d=\"M18.56 5.44l.94 2.06.94-2.06 2.06-.94-2.06-.94-.94-2.06-.94 2.06-2.06.94zm-11 1L8.5 8.5l.94-2.06 2.06-.94-2.06-.94L8.5 2.5l-.94 2.06-2.06.94zm10 10l.94 2.06.94-2.06 2.06-.94-2.06-.94-.94-2.06-.94 2.06-2.06.94z\"/><path d=\"M17.41 7.96l-1.37-1.37c-.4-.4-.92-.59-1.43-.59-.52 0-1.04.2-1.43.59L10.3 9.45l-7.72 7.72c-.78.78-.78 2.05 0 2.83L4 21.41c.39.39.9.59 1.41.59.51 0 1.02-.2 1.41-.59l7.78-7.78 2.81-2.81c.8-.78.8-2.07 0-2.86zM5.41 20L4 18.59l7.72-7.72 1.47 1.35L5.41 20z\"/>\n",
              "  </svg>\n",
              "      </button>\n",
              "      \n",
              "  <style>\n",
              "    .colab-df-container {\n",
              "      display:flex;\n",
              "      flex-wrap:wrap;\n",
              "      gap: 12px;\n",
              "    }\n",
              "\n",
              "    .colab-df-convert {\n",
              "      background-color: #E8F0FE;\n",
              "      border: none;\n",
              "      border-radius: 50%;\n",
              "      cursor: pointer;\n",
              "      display: none;\n",
              "      fill: #1967D2;\n",
              "      height: 32px;\n",
              "      padding: 0 0 0 0;\n",
              "      width: 32px;\n",
              "    }\n",
              "\n",
              "    .colab-df-convert:hover {\n",
              "      background-color: #E2EBFA;\n",
              "      box-shadow: 0px 1px 2px rgba(60, 64, 67, 0.3), 0px 1px 3px 1px rgba(60, 64, 67, 0.15);\n",
              "      fill: #174EA6;\n",
              "    }\n",
              "\n",
              "    [theme=dark] .colab-df-convert {\n",
              "      background-color: #3B4455;\n",
              "      fill: #D2E3FC;\n",
              "    }\n",
              "\n",
              "    [theme=dark] .colab-df-convert:hover {\n",
              "      background-color: #434B5C;\n",
              "      box-shadow: 0px 1px 3px 1px rgba(0, 0, 0, 0.15);\n",
              "      filter: drop-shadow(0px 1px 2px rgba(0, 0, 0, 0.3));\n",
              "      fill: #FFFFFF;\n",
              "    }\n",
              "  </style>\n",
              "\n",
              "      <script>\n",
              "        const buttonEl =\n",
              "          document.querySelector('#df-005468c6-a2bc-45fd-b8be-bf51948723a3 button.colab-df-convert');\n",
              "        buttonEl.style.display =\n",
              "          google.colab.kernel.accessAllowed ? 'block' : 'none';\n",
              "\n",
              "        async function convertToInteractive(key) {\n",
              "          const element = document.querySelector('#df-005468c6-a2bc-45fd-b8be-bf51948723a3');\n",
              "          const dataTable =\n",
              "            await google.colab.kernel.invokeFunction('convertToInteractive',\n",
              "                                                     [key], {});\n",
              "          if (!dataTable) return;\n",
              "\n",
              "          const docLinkHtml = 'Like what you see? Visit the ' +\n",
              "            '<a target=\"_blank\" href=https://colab.research.google.com/notebooks/data_table.ipynb>data table notebook</a>'\n",
              "            + ' to learn more about interactive tables.';\n",
              "          element.innerHTML = '';\n",
              "          dataTable['output_type'] = 'display_data';\n",
              "          await google.colab.output.renderOutput(dataTable, element);\n",
              "          const docLink = document.createElement('div');\n",
              "          docLink.innerHTML = docLinkHtml;\n",
              "          element.appendChild(docLink);\n",
              "        }\n",
              "      </script>\n",
              "    </div>\n",
              "  </div>\n",
              "  "
            ]
          },
          "metadata": {},
          "execution_count": 3
        }
      ],
      "source": [
        "import numpy as np\n",
        "import pandas as pd\n",
        "file_name = \"./data/data_000637.txt\"\n",
        "N=11000\n",
        "data = pd.read_csv(file_name, nrows = N)\n",
        "data.head()"
      ]
    },
    {
      "cell_type": "markdown",
      "metadata": {
        "id": "TG_MXWuyCPtm"
      },
      "source": [
        "2\\. Estimate the number of BX in a ORBIT (the value `x`).\n",
        "\n",
        "*Hint*: check when the BX counter reaches the maximum value before being reset to 0."
      ]
    },
    {
      "cell_type": "code",
      "execution_count": 5,
      "metadata": {
        "colab": {
          "base_uri": "https://localhost:8080/"
        },
        "id": "YY14M2_SCPtm",
        "outputId": "5ce97fbd-25e2-4d4e-8eba-9e96f12c48e6"
      },
      "outputs": [
        {
          "output_type": "stream",
          "name": "stdout",
          "text": [
            "The number of BX in a ORBIT: 3563\n"
          ]
        }
      ],
      "source": [
        "x=data['BX_COUNTER'].max()\n",
        "print('The number of BX in a ORBIT:',x)"
      ]
    },
    {
      "cell_type": "markdown",
      "metadata": {
        "id": "TRSAFTMlCPtm"
      },
      "source": [
        "3\\. Create a new column with the absolute time in ns (as a combination of the other three columns with timing information) since the beginning of the data acquisition, and convert the new column to a Time Series."
      ]
    },
    {
      "cell_type": "code",
      "execution_count": 6,
      "metadata": {
        "colab": {
          "base_uri": "https://localhost:8080/",
          "height": 250
        },
        "id": "FU6vg_NYCPtn",
        "outputId": "6b10630c-21c9-4c78-cefd-8705259178f5"
      },
      "outputs": [
        {
          "output_type": "execute_result",
          "data": {
            "text/plain": [
              "   HEAD  FPGA  TDC_CHANNEL   ORBIT_CNT  BX_COUNTER  TDC_MEAS  \\\n",
              "0     1     0          123  3869200167        2374        26   \n",
              "1     1     0          124  3869200167        2374        27   \n",
              "2     1     0           63  3869200167        2553        28   \n",
              "3     1     0           64  3869200167        2558        19   \n",
              "4     1     0           64  3869200167        2760        25   \n",
              "\n",
              "                      Time_comb  \n",
              "0 1970-01-01 00:00:00.211523421  \n",
              "1 1970-01-01 00:00:00.211523422  \n",
              "2 1970-01-01 00:00:00.227472323  \n",
              "3 1970-01-01 00:00:00.227917815  \n",
              "4 1970-01-01 00:00:00.245916020  "
            ],
            "text/html": [
              "\n",
              "  <div id=\"df-442dbcbe-5149-4f96-b631-45566b8e9127\">\n",
              "    <div class=\"colab-df-container\">\n",
              "      <div>\n",
              "<style scoped>\n",
              "    .dataframe tbody tr th:only-of-type {\n",
              "        vertical-align: middle;\n",
              "    }\n",
              "\n",
              "    .dataframe tbody tr th {\n",
              "        vertical-align: top;\n",
              "    }\n",
              "\n",
              "    .dataframe thead th {\n",
              "        text-align: right;\n",
              "    }\n",
              "</style>\n",
              "<table border=\"1\" class=\"dataframe\">\n",
              "  <thead>\n",
              "    <tr style=\"text-align: right;\">\n",
              "      <th></th>\n",
              "      <th>HEAD</th>\n",
              "      <th>FPGA</th>\n",
              "      <th>TDC_CHANNEL</th>\n",
              "      <th>ORBIT_CNT</th>\n",
              "      <th>BX_COUNTER</th>\n",
              "      <th>TDC_MEAS</th>\n",
              "      <th>Time_comb</th>\n",
              "    </tr>\n",
              "  </thead>\n",
              "  <tbody>\n",
              "    <tr>\n",
              "      <th>0</th>\n",
              "      <td>1</td>\n",
              "      <td>0</td>\n",
              "      <td>123</td>\n",
              "      <td>3869200167</td>\n",
              "      <td>2374</td>\n",
              "      <td>26</td>\n",
              "      <td>1970-01-01 00:00:00.211523421</td>\n",
              "    </tr>\n",
              "    <tr>\n",
              "      <th>1</th>\n",
              "      <td>1</td>\n",
              "      <td>0</td>\n",
              "      <td>124</td>\n",
              "      <td>3869200167</td>\n",
              "      <td>2374</td>\n",
              "      <td>27</td>\n",
              "      <td>1970-01-01 00:00:00.211523422</td>\n",
              "    </tr>\n",
              "    <tr>\n",
              "      <th>2</th>\n",
              "      <td>1</td>\n",
              "      <td>0</td>\n",
              "      <td>63</td>\n",
              "      <td>3869200167</td>\n",
              "      <td>2553</td>\n",
              "      <td>28</td>\n",
              "      <td>1970-01-01 00:00:00.227472323</td>\n",
              "    </tr>\n",
              "    <tr>\n",
              "      <th>3</th>\n",
              "      <td>1</td>\n",
              "      <td>0</td>\n",
              "      <td>64</td>\n",
              "      <td>3869200167</td>\n",
              "      <td>2558</td>\n",
              "      <td>19</td>\n",
              "      <td>1970-01-01 00:00:00.227917815</td>\n",
              "    </tr>\n",
              "    <tr>\n",
              "      <th>4</th>\n",
              "      <td>1</td>\n",
              "      <td>0</td>\n",
              "      <td>64</td>\n",
              "      <td>3869200167</td>\n",
              "      <td>2760</td>\n",
              "      <td>25</td>\n",
              "      <td>1970-01-01 00:00:00.245916020</td>\n",
              "    </tr>\n",
              "  </tbody>\n",
              "</table>\n",
              "</div>\n",
              "      <button class=\"colab-df-convert\" onclick=\"convertToInteractive('df-442dbcbe-5149-4f96-b631-45566b8e9127')\"\n",
              "              title=\"Convert this dataframe to an interactive table.\"\n",
              "              style=\"display:none;\">\n",
              "        \n",
              "  <svg xmlns=\"http://www.w3.org/2000/svg\" height=\"24px\"viewBox=\"0 0 24 24\"\n",
              "       width=\"24px\">\n",
              "    <path d=\"M0 0h24v24H0V0z\" fill=\"none\"/>\n",
              "    <path d=\"M18.56 5.44l.94 2.06.94-2.06 2.06-.94-2.06-.94-.94-2.06-.94 2.06-2.06.94zm-11 1L8.5 8.5l.94-2.06 2.06-.94-2.06-.94L8.5 2.5l-.94 2.06-2.06.94zm10 10l.94 2.06.94-2.06 2.06-.94-2.06-.94-.94-2.06-.94 2.06-2.06.94z\"/><path d=\"M17.41 7.96l-1.37-1.37c-.4-.4-.92-.59-1.43-.59-.52 0-1.04.2-1.43.59L10.3 9.45l-7.72 7.72c-.78.78-.78 2.05 0 2.83L4 21.41c.39.39.9.59 1.41.59.51 0 1.02-.2 1.41-.59l7.78-7.78 2.81-2.81c.8-.78.8-2.07 0-2.86zM5.41 20L4 18.59l7.72-7.72 1.47 1.35L5.41 20z\"/>\n",
              "  </svg>\n",
              "      </button>\n",
              "      \n",
              "  <style>\n",
              "    .colab-df-container {\n",
              "      display:flex;\n",
              "      flex-wrap:wrap;\n",
              "      gap: 12px;\n",
              "    }\n",
              "\n",
              "    .colab-df-convert {\n",
              "      background-color: #E8F0FE;\n",
              "      border: none;\n",
              "      border-radius: 50%;\n",
              "      cursor: pointer;\n",
              "      display: none;\n",
              "      fill: #1967D2;\n",
              "      height: 32px;\n",
              "      padding: 0 0 0 0;\n",
              "      width: 32px;\n",
              "    }\n",
              "\n",
              "    .colab-df-convert:hover {\n",
              "      background-color: #E2EBFA;\n",
              "      box-shadow: 0px 1px 2px rgba(60, 64, 67, 0.3), 0px 1px 3px 1px rgba(60, 64, 67, 0.15);\n",
              "      fill: #174EA6;\n",
              "    }\n",
              "\n",
              "    [theme=dark] .colab-df-convert {\n",
              "      background-color: #3B4455;\n",
              "      fill: #D2E3FC;\n",
              "    }\n",
              "\n",
              "    [theme=dark] .colab-df-convert:hover {\n",
              "      background-color: #434B5C;\n",
              "      box-shadow: 0px 1px 3px 1px rgba(0, 0, 0, 0.15);\n",
              "      filter: drop-shadow(0px 1px 2px rgba(0, 0, 0, 0.3));\n",
              "      fill: #FFFFFF;\n",
              "    }\n",
              "  </style>\n",
              "\n",
              "      <script>\n",
              "        const buttonEl =\n",
              "          document.querySelector('#df-442dbcbe-5149-4f96-b631-45566b8e9127 button.colab-df-convert');\n",
              "        buttonEl.style.display =\n",
              "          google.colab.kernel.accessAllowed ? 'block' : 'none';\n",
              "\n",
              "        async function convertToInteractive(key) {\n",
              "          const element = document.querySelector('#df-442dbcbe-5149-4f96-b631-45566b8e9127');\n",
              "          const dataTable =\n",
              "            await google.colab.kernel.invokeFunction('convertToInteractive',\n",
              "                                                     [key], {});\n",
              "          if (!dataTable) return;\n",
              "\n",
              "          const docLinkHtml = 'Like what you see? Visit the ' +\n",
              "            '<a target=\"_blank\" href=https://colab.research.google.com/notebooks/data_table.ipynb>data table notebook</a>'\n",
              "            + ' to learn more about interactive tables.';\n",
              "          element.innerHTML = '';\n",
              "          dataTable['output_type'] = 'display_data';\n",
              "          await google.colab.output.renderOutput(dataTable, element);\n",
              "          const docLink = document.createElement('div');\n",
              "          docLink.innerHTML = docLinkHtml;\n",
              "          element.appendChild(docLink);\n",
              "        }\n",
              "      </script>\n",
              "    </div>\n",
              "  </div>\n",
              "  "
            ]
          },
          "metadata": {},
          "execution_count": 6
        }
      ],
      "source": [
        "data['Time_comb']=data['BX_COUNTER']*(1+x)*25 + data['TDC_MEAS']*(25/30) \n",
        "data['Time_comb'] = pd.to_datetime(data['Time_comb'])\n",
        "data.head()"
      ]
    },
    {
      "cell_type": "markdown",
      "metadata": {
        "id": "19HhHrwkCPtn"
      },
      "source": [
        "4\\. Find out the duration of the data taking in hours, minutes and seconds, by using the features of the Time Series. Perform this check reading the whole dataset."
      ]
    },
    {
      "cell_type": "code",
      "execution_count": 9,
      "metadata": {
        "colab": {
          "base_uri": "https://localhost:8080/"
        },
        "id": "BQl1Hhz6CPto",
        "outputId": "5afafd37-f68c-45e8-9997-77e8d9761192"
      },
      "outputs": [
        {
          "output_type": "execute_result",
          "data": {
            "text/plain": [
              "Timedelta('0 days 00:00:00.317463324')"
            ]
          },
          "metadata": {},
          "execution_count": 9
        }
      ],
      "source": [
        "duration=data['Time_comb'].max()-data['Time_comb'].min()\n",
        "duration"
      ]
    },
    {
      "cell_type": "markdown",
      "metadata": {
        "id": "xzrxp6X9CPto"
      },
      "source": [
        "5\\. Use the `.groupby()` method to find out the noisy channels, i.e. the TDC channels with most counts (print to screen the top 3 and the corresponding counts)"
      ]
    },
    {
      "cell_type": "code",
      "execution_count": 11,
      "metadata": {
        "colab": {
          "base_uri": "https://localhost:8080/"
        },
        "id": "twmStKjdCPtp",
        "outputId": "2219530f-a336-43ab-aa66-d4e2ac2e4785"
      },
      "outputs": [
        {
          "output_type": "stream",
          "name": "stdout",
          "text": [
            "Top 3 noisy channels       TDC_CHANNEL  max_nbr_channels\n",
            "0             123                29\n",
            "7036           57                29\n",
            "7029            4                29\n"
          ]
        }
      ],
      "source": [
        "data['max_nbr_channels']=data.groupby(['TDC_CHANNEL'])['TDC_MEAS'].transform(np.max)\n",
        "data2=data.sort_values(by=\"max_nbr_channels\", ascending=False)\n",
        "print('Top 3 noisy channels',data2.loc[data2.index[0:3] , ['TDC_CHANNEL','max_nbr_channels']])"
      ]
    },
    {
      "cell_type": "markdown",
      "metadata": {
        "id": "KrMDRGfJCPtp"
      },
      "source": [
        "6\\. Count the number of non-empty orbits (i.e. the number of orbits with at least one hit)."
      ]
    },
    {
      "cell_type": "code",
      "execution_count": 40,
      "metadata": {
        "colab": {
          "base_uri": "https://localhost:8080/"
        },
        "id": "OHoHkrphCPtp",
        "outputId": "e45a4f84-cada-404d-e033-f49984fb1743"
      },
      "outputs": [
        {
          "output_type": "stream",
          "name": "stdout",
          "text": [
            "The number of non-empty orbits is: 111\n"
          ]
        }
      ],
      "source": [
        "df=data.groupby(['ORBIT_CNT']).count()['HEAD']\n",
        "print('The number of non-empty orbits is:',len(df[df!=0]))"
      ]
    },
    {
      "cell_type": "markdown",
      "metadata": {
        "id": "nfatIRoYCPtq"
      },
      "source": [
        "7\\. Count the number of unique orbits with at least one measurement from TDC_CHANNEL=139."
      ]
    },
    {
      "cell_type": "code",
      "execution_count": 13,
      "metadata": {
        "colab": {
          "base_uri": "https://localhost:8080/"
        },
        "id": "bJZP8nCCCPtq",
        "outputId": "e46765a0-5b04-4551-d53f-194bd3328ee4"
      },
      "outputs": [
        {
          "output_type": "stream",
          "name": "stdout",
          "text": [
            "The number of unique orbits with at least one measurement from TDC_CHANNEL=139 is\n"
          ]
        },
        {
          "output_type": "execute_result",
          "data": {
            "text/plain": [
              "111"
            ]
          },
          "metadata": {},
          "execution_count": 13
        }
      ],
      "source": [
        "print('The number of unique orbits with at least one measurement from TDC_CHANNEL=139 is')\n",
        "len(data[ data['TDC_CHANNEL']==139 ]['ORBIT_CNT'].unique())"
      ]
    },
    {
      "cell_type": "markdown",
      "metadata": {
        "id": "sTguKoXvCPtq"
      },
      "source": [
        "8\\. Create two Series (one for each FPGA) that have the TDC channel as index, and the number of counts for the corresponding TDC channel as values."
      ]
    },
    {
      "cell_type": "code",
      "execution_count": 16,
      "metadata": {
        "id": "hHbPyGk4CPtq"
      },
      "outputs": [],
      "source": [
        "series0=pd.Series(data.query('FPGA==0')['TDC_CHANNEL'],index=data.query('FPGA==0')['TDC_MEAS'])\n",
        "series1=pd.Series(data.query('FPGA==1')['TDC_CHANNEL'],index=data.query('FPGA==1')['TDC_MEAS'])"
      ]
    },
    {
      "cell_type": "code",
      "source": [
        "series0"
      ],
      "metadata": {
        "colab": {
          "base_uri": "https://localhost:8080/"
        },
        "id": "cFleXYS3EIhv",
        "outputId": "506d7b1c-587d-4f12-dd71-eec4a3eaead1"
      },
      "execution_count": 19,
      "outputs": [
        {
          "output_type": "execute_result",
          "data": {
            "text/plain": [
              "TDC_MEAS\n",
              "26     59.0\n",
              "27     59.0\n",
              "28     61.0\n",
              "19     53.0\n",
              "25     62.0\n",
              "      ...  \n",
              "0     123.0\n",
              "20      NaN\n",
              "1     124.0\n",
              "29     60.0\n",
              "24     58.0\n",
              "Name: TDC_CHANNEL, Length: 7714, dtype: float64"
            ]
          },
          "metadata": {},
          "execution_count": 19
        }
      ]
    },
    {
      "cell_type": "code",
      "source": [
        "series1"
      ],
      "metadata": {
        "colab": {
          "base_uri": "https://localhost:8080/"
        },
        "id": "DcCGfw3TEMs4",
        "outputId": "bddce7f3-6f2a-43ae-a5b7-4fb017f63ad7"
      },
      "execution_count": 20,
      "outputs": [
        {
          "output_type": "execute_result",
          "data": {
            "text/plain": [
              "TDC_MEAS\n",
              "4      NaN\n",
              "18     5.0\n",
              "0      NaN\n",
              "14     NaN\n",
              "4      NaN\n",
              "      ... \n",
              "6      NaN\n",
              "11     NaN\n",
              "20    10.0\n",
              "0      NaN\n",
              "14     NaN\n",
              "Name: TDC_CHANNEL, Length: 3286, dtype: float64"
            ]
          },
          "metadata": {},
          "execution_count": 20
        }
      ]
    },
    {
      "cell_type": "markdown",
      "metadata": {
        "id": "Dwgzh-OVCPtq"
      },
      "source": [
        "9\\. **Optional:** Create two histograms (one for each FPGA) that show the number of counts for each TDC channel."
      ]
    },
    {
      "cell_type": "code",
      "execution_count": null,
      "metadata": {
        "id": "R1yyy1v_CPtr"
      },
      "outputs": [],
      "source": []
    }
  ],
  "metadata": {
    "kernelspec": {
      "display_name": "Python 3",
      "language": "python",
      "name": "python3"
    },
    "language_info": {
      "codemirror_mode": {
        "name": "ipython",
        "version": 3
      },
      "file_extension": ".py",
      "mimetype": "text/x-python",
      "name": "python",
      "nbconvert_exporter": "python",
      "pygments_lexer": "ipython3",
      "version": "3.8.5"
    },
    "colab": {
      "provenance": []
    }
  },
  "nbformat": 4,
  "nbformat_minor": 0
}