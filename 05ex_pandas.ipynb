{
  "cells": [
    {
      "cell_type": "markdown",
      "metadata": {
        "id": "MAbMJLvkJvWA"
      },
      "source": [
        "1\\. **Pandas DataFrame**\n",
        "\n",
        "This exercise consists in analyzing a dataset containg timing information from a series of Time-to-Digital-Converters (TDC) implemented in a pair of FPGAs. Each measurement (i.e. each row of the input file) consists of a flag that specifies the type of message ('HEAD', which in this case is always 1), two addresses of the TDC providing the signal ('FPGA' and 'TDC_CHANNEL'), and the timing information ('ORBIT_CNT', 'BX_COUNTER', and 'TDC_MEAS'). Each TDC count corresponds to 25/30 ns, whereas a unit of BX_COUNTER corresponds to 25 ns, and the ORBIT_CNT is increased every `x` BX_COUNTER. This allows to store the time in a similar way to hours, minutes and seconds."
      ]
    },
    {
      "cell_type": "code",
      "execution_count": null,
      "metadata": {
        "colab": {
          "base_uri": "https://localhost:8080/"
        },
        "id": "cH3jOhDxJvWQ",
        "outputId": "099a3801-b684-4e62-8f78-388015914aa5"
      },
      "outputs": [
        {
          "output_type": "stream",
          "name": "stdout",
          "text": [
            "--2022-11-19 10:18:07--  https://www.dropbox.com/s/xvjzaxzz3ysphme/data_000637.txt\n",
            "Resolving www.dropbox.com (www.dropbox.com)... 162.125.5.18, 2620:100:601d:18::a27d:512\n",
            "Connecting to www.dropbox.com (www.dropbox.com)|162.125.5.18|:443... connected.\n",
            "HTTP request sent, awaiting response... 302 Found\n",
            "Location: /s/raw/xvjzaxzz3ysphme/data_000637.txt [following]\n",
            "--2022-11-19 10:18:08--  https://www.dropbox.com/s/raw/xvjzaxzz3ysphme/data_000637.txt\n",
            "Reusing existing connection to www.dropbox.com:443.\n",
            "HTTP request sent, awaiting response... 302 Found\n",
            "Location: https://ucde4d7e892075e23536cc66b703.dl.dropboxusercontent.com/cd/0/inline/BxA4Nqts0CbdjWrd1G721vqY6kMJdudu09AvrzC0G73AEjYG1B0hmBWM5Q2yMNTQcbzKfgN6hbejcS7ChQlifgzMY0TP9TREG2uGVg609hx_1L0KObrG1CYD_MlQNwU8wLNPitrAV65RErdOu0-ERO_c6Jc6_jMhiGFCXU8ojYKGmw/file# [following]\n",
            "--2022-11-19 10:18:08--  https://ucde4d7e892075e23536cc66b703.dl.dropboxusercontent.com/cd/0/inline/BxA4Nqts0CbdjWrd1G721vqY6kMJdudu09AvrzC0G73AEjYG1B0hmBWM5Q2yMNTQcbzKfgN6hbejcS7ChQlifgzMY0TP9TREG2uGVg609hx_1L0KObrG1CYD_MlQNwU8wLNPitrAV65RErdOu0-ERO_c6Jc6_jMhiGFCXU8ojYKGmw/file\n",
            "Resolving ucde4d7e892075e23536cc66b703.dl.dropboxusercontent.com (ucde4d7e892075e23536cc66b703.dl.dropboxusercontent.com)... 162.125.5.15, 2620:100:601d:15::a27d:50f\n",
            "Connecting to ucde4d7e892075e23536cc66b703.dl.dropboxusercontent.com (ucde4d7e892075e23536cc66b703.dl.dropboxusercontent.com)|162.125.5.15|:443... connected.\n",
            "HTTP request sent, awaiting response... 200 OK\n",
            "Length: 33179236 (32M) [text/plain]\n",
            "Saving to: ‘./data/data_000637.txt’\n",
            "\n",
            "data_000637.txt     100%[===================>]  31.64M  54.7MB/s    in 0.6s    \n",
            "\n",
            "2022-11-19 10:18:09 (54.7 MB/s) - ‘./data/data_000637.txt’ saved [33179236/33179236]\n",
            "\n"
          ]
        }
      ],
      "source": [
        "# If haven't downloaded it yet, please get the data file with wget\n",
        "!wget https://www.dropbox.com/s/xvjzaxzz3ysphme/data_000637.txt -P ./data/"
      ]
    },
    {
      "cell_type": "markdown",
      "metadata": {
        "id": "6ps_6k55JvWZ"
      },
      "source": [
        "1\\. Create a Pandas DataFrame reading N rows of the `data/data_000637.txt` dataset. Choose N to be smaller than or equal to the maximum number of rows and larger that 10k (check the documentation)."
      ]
    },
    {
      "cell_type": "code",
      "execution_count": null,
      "metadata": {
        "colab": {
          "base_uri": "https://localhost:8080/"
        },
        "id": "JW6OLj4wJvWb",
        "outputId": "8819b91d-ceab-4b4e-b5b7-fd030d8665e4"
      },
      "outputs": [
        {
          "output_type": "stream",
          "name": "stdout",
          "text": [
            "      HEAD  FPGA  TDC_CHANNEL   ORBIT_CNT  BX_COUNTER  TDC_MEAS\n",
            "0        1     0          123  3869200167        2374        26\n",
            "1        1     0          124  3869200167        2374        27\n",
            "2        1     0           63  3869200167        2553        28\n",
            "3        1     0           64  3869200167        2558        19\n",
            "4        1     0           64  3869200167        2760        25\n",
            "...    ...   ...          ...         ...         ...       ...\n",
            "8995     1     0           16  3869200257         966         7\n",
            "8996     1     0           61  3869200257        1144        12\n",
            "8997     1     0           57  3869200257        1145         3\n",
            "8998     1     0           60  3869200257        1145        21\n",
            "8999     1     0          139  3869200257        1153         0\n",
            "\n",
            "[9000 rows x 6 columns]\n"
          ]
        }
      ],
      "source": [
        "import pandas as pd\n",
        "filename= \"./data/data_000637.txt\"\n",
        "n=9000 \n",
        "pandas_dataframe= pd.read_csv(filename,nrows=n)\n",
        "print(pandas_dataframe)\n"
      ]
    },
    {
      "cell_type": "markdown",
      "metadata": {
        "id": "b6ek-ZZrJvWf"
      },
      "source": [
        "2\\. Estimate the number of BX in a ORBIT (the value `x`).\n",
        "\n",
        "*Hint*: check when the BX counter reaches the maximum value before being reset to 0."
      ]
    },
    {
      "cell_type": "code",
      "execution_count": null,
      "metadata": {
        "colab": {
          "base_uri": "https://localhost:8080/"
        },
        "id": "p8WOBFVLJvWh",
        "outputId": "5dd7e413-c339-49a4-ab08-e83baa0980fe"
      },
      "outputs": [
        {
          "output_type": "stream",
          "name": "stdout",
          "text": [
            "MAXIMUM OF BX_COUNTER ==>> 3563\n"
          ]
        }
      ],
      "source": [
        "x=pandas_dataframe[\"BX_COUNTER\"].max()\n",
        "print(\"MAXIMUM OF BX_COUNTER ==>>\",x)\n"
      ]
    },
    {
      "cell_type": "markdown",
      "metadata": {
        "id": "8kccpoegJvWj"
      },
      "source": [
        "3\\. Create a new column with the absolute time in ns (as a combination of the other three columns with timing information) since the beginning of the data acquisition, and convert the new column to a Time Series."
      ]
    },
    {
      "cell_type": "code",
      "execution_count": null,
      "metadata": {
        "colab": {
          "base_uri": "https://localhost:8080/"
        },
        "id": "glvmarh4JvWm",
        "outputId": "f4739607-2c46-451d-8fa4-a914465bcc4c"
      },
      "outputs": [
        {
          "output_type": "stream",
          "name": "stdout",
          "text": [
            "NEW COLUMN ==>>\n",
            "          HEAD  FPGA  TDC_CHANNEL   ORBIT_CNT  BX_COUNTER  TDC_MEAS  \\\n",
            "0           1     0          123  3869200167        2374        26   \n",
            "1           1     0          124  3869200167        2374        27   \n",
            "2           1     0           63  3869200167        2553        28   \n",
            "3           1     0           64  3869200167        2558        19   \n",
            "4           1     0           64  3869200167        2760        25   \n",
            "...       ...   ...          ...         ...         ...       ...   \n",
            "1310715     1     0           62  3869211171         762        14   \n",
            "1310716     1     1            4  3869211171         763        11   \n",
            "1310717     1     0           64  3869211171         764         0   \n",
            "1310718     1     0          139  3869211171         769         0   \n",
            "1310719     1     0           61  3869211171         762        18   \n",
            "\n",
            "                         ABS_TIME   ABS_TIMES  \n",
            "0       0 days 00:00:03.869202567  3869202567  \n",
            "1       0 days 00:00:03.869202568  3869202568  \n",
            "2       0 days 00:00:03.869202748  3869202748  \n",
            "3       0 days 00:00:03.869202744  3869202744  \n",
            "4       0 days 00:00:03.869202952  3869202952  \n",
            "...                           ...         ...  \n",
            "1310715 0 days 00:00:03.869211947  3869211947  \n",
            "1310716 0 days 00:00:03.869211945  3869211945  \n",
            "1310717 0 days 00:00:03.869211935  3869211935  \n",
            "1310718 0 days 00:00:03.869211940  3869211940  \n",
            "1310719 0 days 00:00:03.869211951  3869211951  \n",
            "\n",
            "[1310720 rows x 8 columns]\n",
            "TIME SERIES ==>>\n",
            " 0         1970-01-01 00:00:03.869202567\n",
            "1         1970-01-01 00:00:03.869202568\n",
            "2         1970-01-01 00:00:03.869202748\n",
            "3         1970-01-01 00:00:03.869202744\n",
            "4         1970-01-01 00:00:03.869202952\n",
            "                       ...             \n",
            "1310715   1970-01-01 00:00:03.869211947\n",
            "1310716   1970-01-01 00:00:03.869211945\n",
            "1310717   1970-01-01 00:00:03.869211935\n",
            "1310718   1970-01-01 00:00:03.869211940\n",
            "1310719   1970-01-01 00:00:03.869211951\n",
            "Name: ABS_TIMES, Length: 1310720, dtype: datetime64[ns]\n"
          ]
        }
      ],
      "source": [
        "import datetime\n",
        "\n",
        "absolute_times=[]\n",
        "for a,row in pandas_dataframe.iterrows():\n",
        "    timing= (row[\"TDC_MEAS\"]+ row[\"BX_COUNTER\"]+ row[\"ORBIT_CNT\"])\n",
        "    absolute_times.append(timing)\n",
        "\n",
        "pandas_dataframe[\"ABS_TIMES\"]=absolute_times\n",
        "print(\"NEW COLUMN ==>>\\n\",pandas_dataframe)\n",
        "\n",
        "time_series=pd.to_datetime(pandas_dataframe[\"ABS_TIMES\"], unit=\"ns\")\n",
        "print(\"TIME SERIES ==>>\\n\",time_series)\n"
      ]
    },
    {
      "cell_type": "markdown",
      "metadata": {
        "id": "bgVnXeRMJvWp"
      },
      "source": [
        "4\\. Find out the duration of the data taking in hours, minutes and seconds, by using the features of the Time Series. Perform this check reading the whole dataset."
      ]
    },
    {
      "cell_type": "code",
      "execution_count": null,
      "metadata": {
        "colab": {
          "base_uri": "https://localhost:8080/"
        },
        "id": "wKxIi33zJvWr",
        "outputId": "4b67f156-af70-48fc-dff7-443a61e336ee"
      },
      "outputs": [
        {
          "output_type": "stream",
          "name": "stdout",
          "text": [
            "DURATION ==>>\n",
            "     HEAD  FPGA  TDC_CHANNEL   ORBIT_CNT  BX_COUNTER  TDC_MEAS  \\\n",
            "0      1     0          123  3869200167        2374        26   \n",
            "1      1     0          124  3869200167        2374        27   \n",
            "2      1     0           63  3869200167        2553        28   \n",
            "3      1     0           64  3869200167        2558        19   \n",
            "4      1     0           64  3869200167        2760        25   \n",
            "5      1     0           63  3869200167        2762         4   \n",
            "6      1     0           61  3869200167        2772        14   \n",
            "7      1     0          139  3869200167        2776         0   \n",
            "8      1     0           62  3869200167        2774        21   \n",
            "9      1     0           60  3869200167        2788         7   \n",
            "10     1     1            7  3869200167        2785         4   \n",
            "11     1     0           64  3869200167        2786        19   \n",
            "12     1     1            6  3869200167        2792        18   \n",
            "13     1     0           36  3869200167        2791        23   \n",
            "14     1     0           56  3869200167        2789         3   \n",
            "15     1     1          139  3869200167        2797         0   \n",
            "16     1     1            8  3869200167        2787        14   \n",
            "17     1     0           63  3869200167        2790        10   \n",
            "18     1     1            5  3869200167        2795         4   \n",
            "19     1     0           53  3869200167        2796        26   \n",
            "20     1     1           10  3869200167        2789        14   \n",
            "21     1     0           57  3869200167        2789        10   \n",
            "22     1     0           61  3869200167        2790        23   \n",
            "23     1     0           38  3869200167        2799        15   \n",
            "24     1     0           58  3869200167        2795        19   \n",
            "25     1     0           62  3869200167        2797        14   \n",
            "26     1     0           59  3869200167        2799        14   \n",
            "27     1     0           59  3869200167        3081        21   \n",
            "28     1     0           61  3869200167        3081         1   \n",
            "29     1     0           60  3869200167        3083        20   \n",
            "\n",
            "                    ABS_TIME  \n",
            "0  0 days 00:00:03.869202567  \n",
            "1  0 days 00:00:03.869202568  \n",
            "2  0 days 00:00:03.869202748  \n",
            "3  0 days 00:00:03.869202744  \n",
            "4  0 days 00:00:03.869202952  \n",
            "5  0 days 00:00:03.869202933  \n",
            "6  0 days 00:00:03.869202953  \n",
            "7  0 days 00:00:03.869202943  \n",
            "8  0 days 00:00:03.869202962  \n",
            "9  0 days 00:00:03.869202962  \n",
            "10 0 days 00:00:03.869202956  \n",
            "11 0 days 00:00:03.869202972  \n",
            "12 0 days 00:00:03.869202977  \n",
            "13 0 days 00:00:03.869202981  \n",
            "14 0 days 00:00:03.869202959  \n",
            "15 0 days 00:00:03.869202964  \n",
            "16 0 days 00:00:03.869202968  \n",
            "17 0 days 00:00:03.869202967  \n",
            "18 0 days 00:00:03.869202966  \n",
            "19 0 days 00:00:03.869202989  \n",
            "20 0 days 00:00:03.869202970  \n",
            "21 0 days 00:00:03.869202966  \n",
            "22 0 days 00:00:03.869202980  \n",
            "23 0 days 00:00:03.869202981  \n",
            "24 0 days 00:00:03.869202981  \n",
            "25 0 days 00:00:03.869202978  \n",
            "26 0 days 00:00:03.869202980  \n",
            "27 0 days 00:00:03.869203269  \n",
            "28 0 days 00:00:03.869203249  \n",
            "29 0 days 00:00:03.869203270  \n"
          ]
        }
      ],
      "source": [
        "pandas_dataframe= pd.read_csv(filename)\n",
        "absolute_times=[]\n",
        "for a,row in pandas_dataframe.iterrows():\n",
        "    timing= (row[\"TDC_MEAS\"]+ row[\"BX_COUNTER\"]+ row[\"ORBIT_CNT\"])\n",
        "    absolute_times.append(timing)\n",
        "    \n",
        "pandas_dataframe[\"ABS_TIME\"]= pd.to_timedelta(absolute_times)\n",
        "print(\"DURATION ==>>\\n\",pandas_dataframe.head(30))\n"
      ]
    },
    {
      "cell_type": "markdown",
      "metadata": {
        "id": "J_YPtqJ5JvWt"
      },
      "source": [
        "5\\. Use the `.groupby()` method to find out the noisy channels, i.e. the TDC channels with most counts (print to screen the top 3 and the corresponding counts)"
      ]
    },
    {
      "cell_type": "code",
      "execution_count": null,
      "metadata": {
        "colab": {
          "base_uri": "https://localhost:8080/"
        },
        "id": "D92t1mmuJvWu",
        "outputId": "decb5364-22a1-4f48-c839-488fed6391c1"
      },
      "outputs": [
        {
          "output_type": "stream",
          "name": "stdout",
          "text": [
            "               HEAD    FPGA  ORBIT_CNT  BX_COUNTER  TDC_MEAS  ABS_TIME\n",
            "TDC_CHANNEL                                                           \n",
            "139          108059  108059     108059      108059    108059    108059\n",
            "64            66020   66020      66020       66020     66020     66020\n",
            "63            64642   64642      64642       64642     64642     64642\n"
          ]
        }
      ],
      "source": [
        "counting=pandas_dataframe.groupby(\"TDC_CHANNEL\").count()\n",
        "n=3  \n",
        "noisy_channels=counting.sort_values(by=\"HEAD\",ascending=False).iloc[0:n]\n",
        "print(noisy_channels)\n"
      ]
    },
    {
      "cell_type": "markdown",
      "metadata": {
        "id": "utO9VnI2JvWx"
      },
      "source": [
        "6\\. Count the number of non-empty orbits (i.e. the number of orbits with at least one hit)."
      ]
    },
    {
      "cell_type": "code",
      "execution_count": null,
      "metadata": {
        "colab": {
          "base_uri": "https://localhost:8080/"
        },
        "id": "0aGG6jWNJvWy",
        "outputId": "04eed4b1-e631-4fe4-9c12-3ffdff7c6cce"
      },
      "outputs": [
        {
          "output_type": "stream",
          "name": "stdout",
          "text": [
            "THE NUMBER OF NON-EMPTY ORBITS ARE ==>> 11001\n"
          ]
        }
      ],
      "source": [
        "print(\"THE NUMBER OF NON-EMPTY ORBITS ARE ==>>\",len(pandas_dataframe.groupby(\"ORBIT_CNT\").count()))\n"
      ]
    },
    {
      "cell_type": "markdown",
      "metadata": {
        "id": "EUetvx6LJvWz"
      },
      "source": [
        "7\\. Count the number of unique orbits with at least one measurement from TDC_CHANNEL=139."
      ]
    },
    {
      "cell_type": "code",
      "execution_count": null,
      "metadata": {
        "colab": {
          "base_uri": "https://localhost:8080/"
        },
        "id": "i_mb4dcIJvW0",
        "outputId": "49e26e5e-e05b-4644-f542-cd361edaa15e"
      },
      "outputs": [
        {
          "output_type": "stream",
          "name": "stdout",
          "text": [
            "THE UNIQUE ORBITS WITH AT LEAST ONE MEASURMENT WITH TDC_CHANNEL=139 ARE ==>> 10976\n"
          ]
        }
      ],
      "source": [
        "print(\"THE UNIQUE ORBITS WITH AT LEAST ONE MEASURMENT WITH TDC_CHANNEL=139 ARE ==>>\",len(pandas_dataframe[pandas_dataframe[\"TDC_CHANNEL\"]==139].groupby(\"ORBIT_CNT\").count()))\n"
      ]
    },
    {
      "cell_type": "markdown",
      "metadata": {
        "id": "SZIAOHerJvW1"
      },
      "source": [
        "8\\. Create two Series (one for each FPGA) that have the TDC channel as index, and the number of counts for the corresponding TDC channel as values."
      ]
    },
    {
      "cell_type": "code",
      "execution_count": null,
      "metadata": {
        "colab": {
          "base_uri": "https://localhost:8080/"
        },
        "id": "gaEFpQ7lJvW2",
        "outputId": "ecba2401-24b3-477c-8a77-64260706f1c4"
      },
      "outputs": [
        {
          "output_type": "stream",
          "name": "stdout",
          "text": [
            "THE FPGA1 ==>>\n",
            " 2      32669\n",
            "139    32442\n",
            "1      28438\n",
            "4      26403\n",
            "3      21970\n",
            "       ...  \n",
            "9         80\n",
            "130       38\n",
            "138       36\n",
            "137       36\n",
            "129       35\n",
            "Name: TDC_CHANNEL, Length: 132, dtype: int64\n",
            "THE FPGA2 ==>>\n",
            " Series([], Name: TDC_CHANNEL, dtype: int64)\n"
          ]
        }
      ],
      "source": [
        "\n",
        "FPGA1 = pd.Series(pandas_dataframe[pandas_dataframe['FPGA']==1]['TDC_CHANNEL'].value_counts())\n",
        "print(\"THE FPGA1 ==>>\\n\", FPGA1)\n",
        "\n",
        "FPGA2 = pd.Series(pandas_dataframe[pandas_dataframe['FPGA']==2]['TDC_CHANNEL'].value_counts())\n",
        "print(\"THE FPGA2 ==>>\\n\", FPGA2)"
      ]
    },
    {
      "cell_type": "markdown",
      "metadata": {
        "id": "_jejp46MJvW4"
      },
      "source": [
        "9\\. **Optional:** Create two histograms (one for each FPGA) that show the number of counts for each TDC channel."
      ]
    },
    {
      "cell_type": "code",
      "execution_count": null,
      "metadata": {
        "colab": {
          "base_uri": "https://localhost:8080/",
          "height": 312
        },
        "id": "Z8HnBQd-JvW5",
        "outputId": "aa8b30bb-8955-44f3-9a2b-a77d491aa01a"
      },
      "outputs": [
        {
          "output_type": "execute_result",
          "data": {
            "text/plain": [
              "Text(0, 0.5, 'Count')"
            ]
          },
          "metadata": {},
          "execution_count": 27
        },
        {
          "output_type": "display_data",
          "data": {
            "text/plain": [
              "<Figure size 432x288 with 2 Axes>"
            ],
            "image/png": "[encoded data removed]"
          },
          "metadata": {
            "needs_background": "light"
          }
        }
      ],
      "source": [
        "import matplotlib.pyplot as plt\n",
        "\n",
        "fig, (ax1, ax2, ) = plt.subplots(1, 2,)\n",
        "\n",
        "ax1.hist(FPGA1)\n",
        "ax1.set_title('FPGA1')\n",
        "ax1.set_xlabel('TDC channel')\n",
        "ax1.set_ylabel('Count')\n",
        "\n",
        "ax2.hist(FPGA2)\n",
        "ax2.set_title('FPGA2')\n",
        "ax2.set_xlabel('TDC channel')\n",
        "ax2.set_ylabel('Count')\n",
        "\n"
      ]
    }
  ],
  "metadata": {
    "kernelspec": {
      "display_name": "Python 3 (ipykernel)",
      "language": "python",
      "name": "python3"
    },
    "language_info": {
      "codemirror_mode": {
        "name": "ipython",
        "version": 3
      },
      "file_extension": ".py",
      "mimetype": "text/x-python",
      "name": "python",
      "nbconvert_exporter": "python",
      "pygments_lexer": "ipython3",
      "version": "3.10.6"
    },
    "colab": {
      "provenance": []
    }
  },
  "nbformat": 4,
  "nbformat_minor": 0
}