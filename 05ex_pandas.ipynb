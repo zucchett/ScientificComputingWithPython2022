{
 "cells": [
  {
   "cell_type": "markdown",
   "metadata": {},
   "source": [
    "1. Pandas DataFrame\n",
    "1. Create a Pandas DataFrame reading N rows of the data/data_000637.txt dataset. Choose N to be smaller than or equal to the maximum number of rows and larger that 10k (check the documentation)."
   ]
  },
  {
   "cell_type": "code",
   "execution_count": 1,
   "metadata": {},
   "outputs": [
    {
     "name": "stdout",
     "output_type": "stream",
     "text": [
      "       HEAD  FPGA  TDC_CHANNEL   ORBIT_CNT  BX_COUNTER  TDC_MEAS\n",
      "0         1     0          123  3869200167        2374        26\n",
      "1         1     0          124  3869200167        2374        27\n",
      "2         1     0           63  3869200167        2553        28\n",
      "3         1     0           64  3869200167        2558        19\n",
      "4         1     0           64  3869200167        2760        25\n",
      "...     ...   ...          ...         ...         ...       ...\n",
      "14995     1     1            4  3869200316        3399         9\n",
      "14996     1     1           17  3869200316        3400        15\n",
      "14997     1     1           10  3869200316        3530        16\n",
      "14998     1     1            8  3869200316        3533        18\n",
      "14999     1     0          139  3869200316        3539         0\n",
      "\n",
      "[15000 rows x 6 columns]\n",
      "<class 'pandas.core.frame.DataFrame'>\n",
      "RangeIndex: 15000 entries, 0 to 14999\n",
      "Data columns (total 6 columns):\n",
      " #   Column       Non-Null Count  Dtype\n",
      "---  ------       --------------  -----\n",
      " 0   HEAD         15000 non-null  int64\n",
      " 1   FPGA         15000 non-null  int64\n",
      " 2   TDC_CHANNEL  15000 non-null  int64\n",
      " 3   ORBIT_CNT    15000 non-null  int64\n",
      " 4   BX_COUNTER   15000 non-null  int64\n",
      " 5   TDC_MEAS     15000 non-null  int64\n",
      "dtypes: int64(6)\n",
      "memory usage: 703.2 KB\n",
      "None\n"
     ]
    }
   ],
   "source": [
    "import pandas as pd\n",
    "import numpy as np\n",
    "\n",
    "data = pd.read_csv('data/data_000637.txt', skiprows=0, nrows= 15000)\n",
    "print(data)\n",
    "print(data.info())\n"
   ]
  },
  {
   "cell_type": "markdown",
   "metadata": {},
   "source": [
    "2. Estimate the number of BX in a ORBIT (the value x)."
   ]
  },
  {
   "cell_type": "code",
   "execution_count": 5,
   "metadata": {},
   "outputs": [
    {
     "name": "stdout",
     "output_type": "stream",
     "text": [
      "Estimated number of BX in a ORBIT: 3564\n"
     ]
    }
   ],
   "source": [
    "\n",
    "bx=data['BX_COUNTER']\n",
    "estimated_bx = max(bx) +1\n",
    "print(\"Estimated number of BX in a ORBIT:\", estimated_bx)"
   ]
  },
  {
   "cell_type": "markdown",
   "metadata": {},
   "source": [
    "3. Create a new column with the absolute time in ns (as a combination of the other three columns with timing information) since the beginning of the data acquisition, and convert the new column to a Time Series."
   ]
  },
  {
   "cell_type": "code",
   "execution_count": 6,
   "metadata": {},
   "outputs": [
    {
     "data": {
      "text/html": [
       "<div>\n",
       "<style scoped>\n",
       "    .dataframe tbody tr th:only-of-type {\n",
       "        vertical-align: middle;\n",
       "    }\n",
       "\n",
       "    .dataframe tbody tr th {\n",
       "        vertical-align: top;\n",
       "    }\n",
       "\n",
       "    .dataframe thead th {\n",
       "        text-align: right;\n",
       "    }\n",
       "</style>\n",
       "<table border=\"1\" class=\"dataframe\">\n",
       "  <thead>\n",
       "    <tr style=\"text-align: right;\">\n",
       "      <th></th>\n",
       "      <th>HEAD</th>\n",
       "      <th>FPGA</th>\n",
       "      <th>TDC_CHANNEL</th>\n",
       "      <th>ORBIT_CNT</th>\n",
       "      <th>BX_COUNTER</th>\n",
       "      <th>TDC_MEAS</th>\n",
       "      <th>abs_time</th>\n",
       "    </tr>\n",
       "  </thead>\n",
       "  <tbody>\n",
       "    <tr>\n",
       "      <th>0</th>\n",
       "      <td>1</td>\n",
       "      <td>0</td>\n",
       "      <td>123</td>\n",
       "      <td>3869200167</td>\n",
       "      <td>2374</td>\n",
       "      <td>26</td>\n",
       "      <td>3.447457e+14</td>\n",
       "    </tr>\n",
       "    <tr>\n",
       "      <th>1</th>\n",
       "      <td>1</td>\n",
       "      <td>0</td>\n",
       "      <td>124</td>\n",
       "      <td>3869200167</td>\n",
       "      <td>2374</td>\n",
       "      <td>27</td>\n",
       "      <td>3.447457e+14</td>\n",
       "    </tr>\n",
       "    <tr>\n",
       "      <th>2</th>\n",
       "      <td>1</td>\n",
       "      <td>0</td>\n",
       "      <td>63</td>\n",
       "      <td>3869200167</td>\n",
       "      <td>2553</td>\n",
       "      <td>28</td>\n",
       "      <td>3.447457e+14</td>\n",
       "    </tr>\n",
       "    <tr>\n",
       "      <th>3</th>\n",
       "      <td>1</td>\n",
       "      <td>0</td>\n",
       "      <td>64</td>\n",
       "      <td>3869200167</td>\n",
       "      <td>2558</td>\n",
       "      <td>19</td>\n",
       "      <td>3.447457e+14</td>\n",
       "    </tr>\n",
       "    <tr>\n",
       "      <th>4</th>\n",
       "      <td>1</td>\n",
       "      <td>0</td>\n",
       "      <td>64</td>\n",
       "      <td>3869200167</td>\n",
       "      <td>2760</td>\n",
       "      <td>25</td>\n",
       "      <td>3.447457e+14</td>\n",
       "    </tr>\n",
       "    <tr>\n",
       "      <th>...</th>\n",
       "      <td>...</td>\n",
       "      <td>...</td>\n",
       "      <td>...</td>\n",
       "      <td>...</td>\n",
       "      <td>...</td>\n",
       "      <td>...</td>\n",
       "      <td>...</td>\n",
       "    </tr>\n",
       "    <tr>\n",
       "      <th>14995</th>\n",
       "      <td>1</td>\n",
       "      <td>1</td>\n",
       "      <td>4</td>\n",
       "      <td>3869200316</td>\n",
       "      <td>3399</td>\n",
       "      <td>9</td>\n",
       "      <td>3.447457e+14</td>\n",
       "    </tr>\n",
       "    <tr>\n",
       "      <th>14996</th>\n",
       "      <td>1</td>\n",
       "      <td>1</td>\n",
       "      <td>17</td>\n",
       "      <td>3869200316</td>\n",
       "      <td>3400</td>\n",
       "      <td>15</td>\n",
       "      <td>3.447457e+14</td>\n",
       "    </tr>\n",
       "    <tr>\n",
       "      <th>14997</th>\n",
       "      <td>1</td>\n",
       "      <td>1</td>\n",
       "      <td>10</td>\n",
       "      <td>3869200316</td>\n",
       "      <td>3530</td>\n",
       "      <td>16</td>\n",
       "      <td>3.447457e+14</td>\n",
       "    </tr>\n",
       "    <tr>\n",
       "      <th>14998</th>\n",
       "      <td>1</td>\n",
       "      <td>1</td>\n",
       "      <td>8</td>\n",
       "      <td>3869200316</td>\n",
       "      <td>3533</td>\n",
       "      <td>18</td>\n",
       "      <td>3.447457e+14</td>\n",
       "    </tr>\n",
       "    <tr>\n",
       "      <th>14999</th>\n",
       "      <td>1</td>\n",
       "      <td>0</td>\n",
       "      <td>139</td>\n",
       "      <td>3869200316</td>\n",
       "      <td>3539</td>\n",
       "      <td>0</td>\n",
       "      <td>3.447457e+14</td>\n",
       "    </tr>\n",
       "  </tbody>\n",
       "</table>\n",
       "<p>15000 rows × 7 columns</p>\n",
       "</div>"
      ],
      "text/plain": [
       "       HEAD  FPGA  TDC_CHANNEL   ORBIT_CNT  BX_COUNTER  TDC_MEAS      abs_time\n",
       "0         1     0          123  3869200167        2374        26  3.447457e+14\n",
       "1         1     0          124  3869200167        2374        27  3.447457e+14\n",
       "2         1     0           63  3869200167        2553        28  3.447457e+14\n",
       "3         1     0           64  3869200167        2558        19  3.447457e+14\n",
       "4         1     0           64  3869200167        2760        25  3.447457e+14\n",
       "...     ...   ...          ...         ...         ...       ...           ...\n",
       "14995     1     1            4  3869200316        3399         9  3.447457e+14\n",
       "14996     1     1           17  3869200316        3400        15  3.447457e+14\n",
       "14997     1     1           10  3869200316        3530        16  3.447457e+14\n",
       "14998     1     1            8  3869200316        3533        18  3.447457e+14\n",
       "14999     1     0          139  3869200316        3539         0  3.447457e+14\n",
       "\n",
       "[15000 rows x 7 columns]"
      ]
     },
     "execution_count": 6,
     "metadata": {},
     "output_type": "execute_result"
    }
   ],
   "source": [
    "data[\"abs_time\"] = data['TDC_MEAS'] *(25 / 30) + data['BX_COUNTER'] * 25 +data['ORBIT_CNT']*estimated_bx*25\n",
    "data"
   ]
  },
  {
   "cell_type": "markdown",
   "metadata": {},
   "source": [
    "4. Find out the duration of the data taking in hours, minutes and seconds, by using the features of the Time Series. Perform this check reading the whole dataset."
   ]
  },
  {
   "cell_type": "code",
   "execution_count": 11,
   "metadata": {},
   "outputs": [
    {
     "name": "stdout",
     "output_type": "stream",
     "text": [
      "start: 2022-12-02 18:55:48.441291\n",
      "End: 2022-12-02 18:55:48.448311\n",
      "Time passed: 0:00:00.007020\n"
     ]
    }
   ],
   "source": [
    "import datetime as dt\n",
    "\n",
    "stime = dt.datetime.now()\n",
    "print(\"start:\", stime)\n",
    "\n",
    "\n",
    "time =  data['TDC_MEAS'] *(25/30) + data['BX_COUNTER'] * 25 + data['ORBIT_CNT']*estimated_bx*25\n",
    "\n",
    "etime = dt.datetime.now()\n",
    "print(\"End:\", etime)\n",
    "print(\"Time passed:\", (etime - stime))\n"
   ]
  },
  {
   "cell_type": "markdown",
   "metadata": {},
   "source": [
    "5. Use the .groupby() method to find out the noisy channels, i.e. the TDC channels with most counts (print to screen the top 3 and the corresponding counts)"
   ]
  },
  {
   "cell_type": "code",
   "execution_count": 12,
   "metadata": {},
   "outputs": [
    {
     "name": "stdout",
     "output_type": "stream",
     "text": [
      "3 noisy Channels: \n",
      "              HEAD  FPGA      ORBIT_CNT  BX_COUNTER  TDC_MEAS      abs_time\n",
      "TDC_CHANNEL                                                               \n",
      "63            749     6  2898030982000     1364359     11085  2.582146e+17\n",
      "64            752    17  2909638583165     1394717     10889  2.592488e+17\n",
      "139          1268   389  4906145905369     2247027         0  4.371376e+17 \n",
      "\n"
     ]
    }
   ],
   "source": [
    "groupby_Channel= data.groupby('TDC_CHANNEL').sum().sort_values(by=['HEAD']).iloc[-3:]\n",
    "print(\"3 noisy Channels: \\n\", groupby_Channel, '\\n')"
   ]
  },
  {
   "cell_type": "markdown",
   "metadata": {},
   "source": [
    "6. Count the number of non-empty orbits (i.e. the number of orbits with at least one hit)."
   ]
  },
  {
   "cell_type": "code",
   "execution_count": 14,
   "metadata": {},
   "outputs": [
    {
     "name": "stdout",
     "output_type": "stream",
     "text": [
      "count of non empty orbit:  15000 \n",
      "\n"
     ]
    }
   ],
   "source": [
    "nonemptyOrbit = data[data['ORBIT_CNT']>0].count()\n",
    "print(\"count of non empty orbit: \", nonemptyOrbit['ORBIT_CNT'], '\\n')\n"
   ]
  },
  {
   "cell_type": "markdown",
   "metadata": {},
   "source": [
    "7. Count the number of unique orbits with at least one measurement from TDC_CHANNEL=139."
   ]
  },
  {
   "cell_type": "code",
   "execution_count": 15,
   "metadata": {},
   "outputs": [
    {
     "name": "stdout",
     "output_type": "stream",
     "text": [
      "       HEAD  FPGA  TDC_CHANNEL   ORBIT_CNT  BX_COUNTER  TDC_MEAS      abs_time\n",
      "7         1     0          139  3869200167        2776         0  3.447457e+14\n",
      "15        1     1          139  3869200167        2797         0  3.447457e+14\n",
      "30        1     0          139  3869200167        3085         0  3.447457e+14\n",
      "39        1     0          139  3869200167        3186         0  3.447457e+14\n",
      "48        1     0          139  3869200168          23         0  3.447457e+14\n",
      "...     ...   ...          ...         ...         ...       ...           ...\n",
      "14956     1     0          139  3869200316         285         0  3.447457e+14\n",
      "14970     1     0          139  3869200316        1001         0  3.447457e+14\n",
      "14985     1     0          139  3869200316        3389         0  3.447457e+14\n",
      "14989     1     1          139  3869200316        3398         0  3.447457e+14\n",
      "14999     1     0          139  3869200316        3539         0  3.447457e+14\n",
      "\n",
      "[1268 rows x 7 columns]\n",
      "count of unique orbit:  150 \n",
      "\n"
     ]
    }
   ],
   "source": [
    "tdc = data[data['TDC_CHANNEL'] == 139]\n",
    "print(tdc)\n",
    "noofunitOrbit= tdc['ORBIT_CNT'].nunique()\n",
    "print(\"count of unique orbit: \", noofunitOrbit, '\\n')"
   ]
  },
  {
   "cell_type": "markdown",
   "metadata": {},
   "source": [
    "8. Create two Series (one for each FPGA) that have the TDC channel as index, and the number of counts for the corresponding TDC channel as values."
   ]
  },
  {
   "cell_type": "code",
   "execution_count": 9,
   "metadata": {},
   "outputs": [
    {
     "name": "stdout",
     "output_type": "stream",
     "text": [
      "FPGA 0 TDC_CHANNEL count: \n",
      " 139    879\n",
      "63     743\n",
      "64     735\n",
      "61     555\n",
      "62     529\n",
      "      ... \n",
      "99       5\n",
      "107      5\n",
      "98       5\n",
      "106      4\n",
      "101      3\n",
      "Name: TDC_CHANNEL, Length: 117, dtype: int64\n",
      "FPGA 1 TDC_CHANNEL count: \n",
      " 139    389\n",
      "2      363\n",
      "1      338\n",
      "4      290\n",
      "3      277\n",
      "      ... \n",
      "91       1\n",
      "78       1\n",
      "93       1\n",
      "75       1\n",
      "76       1\n",
      "Name: TDC_CHANNEL, Length: 124, dtype: int64\n"
     ]
    }
   ],
   "source": [
    "FPGA0= data[data['FPGA']==0]\n",
    "FPGA1= data[data['FPGA']==1]\n",
    "FPGA0_TDC_Count = FPGA0['TDC_CHANNEL'].value_counts()\n",
    "FPGA1_TDC_Count = FPGA1['TDC_CHANNEL'].value_counts()\n",
    "print('FPGA 0 TDC_CHANNEL count: \\n', FPGA0_TDC_Count)\n",
    "print('FPGA 1 TDC_CHANNEL count: \\n', FPGA1_TDC_Count)"
   ]
  },
  {
   "cell_type": "markdown",
   "metadata": {},
   "source": [
    "9. Optional: Create two histograms (one for each FPGA) that show the number of counts for each TDC channel.\n",
    "\n"
   ]
  },
  {
   "cell_type": "code",
   "execution_count": 10,
   "metadata": {},
   "outputs": [
    {
     "data": {
      "text/plain": [
       "<AxesSubplot: title={'center': 'FPGA 0'}, xlabel='TDC_CHANNEL'>"
      ]
     },
     "execution_count": 10,
     "metadata": {},
     "output_type": "execute_result"
    },
    {
     "data": {
      "image/png": "[encoded data removed]",
      "text/plain": [
       "<Figure size 640x480 with 1 Axes>"
      ]
     },
     "metadata": {},
     "output_type": "display_data"
    },
    {
     "data": {
      "image/png": "[encoded data removed]",
      "text/plain": [
       "<Figure size 640x480 with 1 Axes>"
      ]
     },
     "metadata": {},
     "output_type": "display_data"
    }
   ],
   "source": [
    "ax = FPGA0_TDC_Count.plot.hist()\n",
    "fpga_0 = data[data['FPGA']== 0].groupby('TDC_CHANNEL').size().reset_index(name='COUNT')\n",
    "fpga_0.plot(x = 'TDC_CHANNEL', y = 'COUNT', title = \"FPGA 0\")"
   ]
  }
 ],
 "metadata": {
  "kernelspec": {
   "display_name": "Python 3.10.8 64-bit (microsoft store)",
   "language": "python",
   "name": "python3"
  },
  "language_info": {
   "codemirror_mode": {
    "name": "ipython",
    "version": 3
   },
   "file_extension": ".py",
   "mimetype": "text/x-python",
   "name": "python",
   "nbconvert_exporter": "python",
   "pygments_lexer": "ipython3",
   "version": "3.10.8"
  },
  "orig_nbformat": 4,
  "vscode": {
   "interpreter": {
    "hash": "8f64b0e58576bdb162f44acf8236cdd1cbe70fb0f8e793756a98400fc86a2f40"
   }
  }
 },
 "nbformat": 4,
 "nbformat_minor": 2
}
