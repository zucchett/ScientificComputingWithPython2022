{
 "cells": [
  {
   "cell_type": "markdown",
   "metadata": {
    "id": "qaMCEyf92RwA"
   },
   "source": [
    "1\\. **Pandas DataFrame**\n",
    "\n",
    "This exercise consists in analyzing a dataset containg timing information from a series of Time-to-Digital-Converters (TDC) implemented in a pair of FPGAs. Each measurement (i.e. each row of the input file) consists of a flag that specifies the type of message ('HEAD', which in this case is always 1), two addresses of the TDC providing the signal ('FPGA' and 'TDC_CHANNEL'), and the timing information ('ORBIT_CNT', 'BX_COUNTER', and 'TDC_MEAS'). Each TDC count corresponds to 25/30 ns, whereas a unit of BX_COUNTER corresponds to 25 ns, and the ORBIT_CNT is increased every `x` BX_COUNTER. This allows to store the time in a similar way to hours, minutes and seconds."
   ]
  },
  {
   "cell_type": "code",
   "execution_count": null,
   "metadata": {
    "pycharm": {
     "is_executing": true
    },
    "id": "pNjYVzmq2RwF"
   },
   "outputs": [],
   "source": [
    "# If haven't downloaded it yet, please get the data file with wget\n",
    "#!wget https://www.dropbox.com/s/xvjzaxzz3ysphme/data_000637.txt -P ./data/"
   ]
  },
  {
   "cell_type": "markdown",
   "metadata": {
    "id": "wRS0n-v12RwH"
   },
   "source": [
    "1\\. Create a Pandas DataFrame reading N rows of the `data/data_000637.txt` dataset. Choose N to be smaller than or equal to the maximum number of rows and larger that 10k (check the documentation)."
   ]
  },
  {
   "cell_type": "code",
   "source": [
    "from google.colab import drive\n",
    "drive.mount('/content/drive/')"
   ],
   "metadata": {
    "colab": {
     "base_uri": "https://localhost:8080/"
    },
    "id": "vOJyePdg3tBQ",
    "executionInfo": {
     "status": "ok",
     "timestamp": 1669976757789,
     "user_tz": -60,
     "elapsed": 1750,
     "user": {
      "displayName": "reza khaleghi",
      "userId": "13098681236577152395"
     }
    },
    "outputId": "ceee59f7-fcda-436f-8b8b-d0101c642233"
   },
   "execution_count": null,
   "outputs": [
    {
     "output_type": "stream",
     "name": "stdout",
     "text": [
      "Drive already mounted at /content/drive/; to attempt to forcibly remount, call drive.mount(\"/content/drive/\", force_remount=True).\n"
     ]
    }
   ]
  },
  {
   "cell_type": "code",
   "execution_count": null,
   "metadata": {
    "pycharm": {
     "is_executing": true
    },
    "colab": {
     "base_uri": "https://localhost:8080/",
     "height": 424
    },
    "id": "pDPI9Ezr2RwJ",
    "executionInfo": {
     "status": "ok",
     "timestamp": 1669976757790,
     "user_tz": -60,
     "elapsed": 17,
     "user": {
      "displayName": "reza khaleghi",
      "userId": "13098681236577152395"
     }
    },
    "outputId": "1fa71fd0-2496-486b-b1fb-587760a43188"
   },
   "outputs": [
    {
     "output_type": "execute_result",
     "data": {
      "text/plain": [
       "       HEAD  FPGA  TDC_CHANNEL   ORBIT_CNT  BX_COUNTER  TDC_MEAS\n",
       "0         1     0          123  3869200167        2374        26\n",
       "1         1     0          124  3869200167        2374        27\n",
       "2         1     0           63  3869200167        2553        28\n",
       "3         1     0           64  3869200167        2558        19\n",
       "4         1     0           64  3869200167        2760        25\n",
       "...     ...   ...          ...         ...         ...       ...\n",
       "98760     1     0           49  3869201149        1670        21\n",
       "98761     1     0          139  3869201149        1678         0\n",
       "98762     1     0          123  3869201149        1676        13\n",
       "98763     1     0           50  3869201149        1672        13\n",
       "98764     1     0           47  3869201149        1678        13\n",
       "\n",
       "[98765 rows x 6 columns]"
      ],
      "text/html": [
       "\n",
       "  <div id=\"df-7d24fa70-39c8-4455-b194-f9b23bd212d2\">\n",
       "    <div class=\"colab-df-container\">\n",
       "      <div>\n",
       "<style scoped>\n",
       "    .dataframe tbody tr th:only-of-type {\n",
       "        vertical-align: middle;\n",
       "    }\n",
       "\n",
       "    .dataframe tbody tr th {\n",
       "        vertical-align: top;\n",
       "    }\n",
       "\n",
       "    .dataframe thead th {\n",
       "        text-align: right;\n",
       "    }\n",
       "</style>\n",
       "<table border=\"1\" class=\"dataframe\">\n",
       "  <thead>\n",
       "    <tr style=\"text-align: right;\">\n",
       "      <th></th>\n",
       "      <th>HEAD</th>\n",
       "      <th>FPGA</th>\n",
       "      <th>TDC_CHANNEL</th>\n",
       "      <th>ORBIT_CNT</th>\n",
       "      <th>BX_COUNTER</th>\n",
       "      <th>TDC_MEAS</th>\n",
       "    </tr>\n",
       "  </thead>\n",
       "  <tbody>\n",
       "    <tr>\n",
       "      <th>0</th>\n",
       "      <td>1</td>\n",
       "      <td>0</td>\n",
       "      <td>123</td>\n",
       "      <td>3869200167</td>\n",
       "      <td>2374</td>\n",
       "      <td>26</td>\n",
       "    </tr>\n",
       "    <tr>\n",
       "      <th>1</th>\n",
       "      <td>1</td>\n",
       "      <td>0</td>\n",
       "      <td>124</td>\n",
       "      <td>3869200167</td>\n",
       "      <td>2374</td>\n",
       "      <td>27</td>\n",
       "    </tr>\n",
       "    <tr>\n",
       "      <th>2</th>\n",
       "      <td>1</td>\n",
       "      <td>0</td>\n",
       "      <td>63</td>\n",
       "      <td>3869200167</td>\n",
       "      <td>2553</td>\n",
       "      <td>28</td>\n",
       "    </tr>\n",
       "    <tr>\n",
       "      <th>3</th>\n",
       "      <td>1</td>\n",
       "      <td>0</td>\n",
       "      <td>64</td>\n",
       "      <td>3869200167</td>\n",
       "      <td>2558</td>\n",
       "      <td>19</td>\n",
       "    </tr>\n",
       "    <tr>\n",
       "      <th>4</th>\n",
       "      <td>1</td>\n",
       "      <td>0</td>\n",
       "      <td>64</td>\n",
       "      <td>3869200167</td>\n",
       "      <td>2760</td>\n",
       "      <td>25</td>\n",
       "    </tr>\n",
       "    <tr>\n",
       "      <th>...</th>\n",
       "      <td>...</td>\n",
       "      <td>...</td>\n",
       "      <td>...</td>\n",
       "      <td>...</td>\n",
       "      <td>...</td>\n",
       "      <td>...</td>\n",
       "    </tr>\n",
       "    <tr>\n",
       "      <th>98760</th>\n",
       "      <td>1</td>\n",
       "      <td>0</td>\n",
       "      <td>49</td>\n",
       "      <td>3869201149</td>\n",
       "      <td>1670</td>\n",
       "      <td>21</td>\n",
       "    </tr>\n",
       "    <tr>\n",
       "      <th>98761</th>\n",
       "      <td>1</td>\n",
       "      <td>0</td>\n",
       "      <td>139</td>\n",
       "      <td>3869201149</td>\n",
       "      <td>1678</td>\n",
       "      <td>0</td>\n",
       "    </tr>\n",
       "    <tr>\n",
       "      <th>98762</th>\n",
       "      <td>1</td>\n",
       "      <td>0</td>\n",
       "      <td>123</td>\n",
       "      <td>3869201149</td>\n",
       "      <td>1676</td>\n",
       "      <td>13</td>\n",
       "    </tr>\n",
       "    <tr>\n",
       "      <th>98763</th>\n",
       "      <td>1</td>\n",
       "      <td>0</td>\n",
       "      <td>50</td>\n",
       "      <td>3869201149</td>\n",
       "      <td>1672</td>\n",
       "      <td>13</td>\n",
       "    </tr>\n",
       "    <tr>\n",
       "      <th>98764</th>\n",
       "      <td>1</td>\n",
       "      <td>0</td>\n",
       "      <td>47</td>\n",
       "      <td>3869201149</td>\n",
       "      <td>1678</td>\n",
       "      <td>13</td>\n",
       "    </tr>\n",
       "  </tbody>\n",
       "</table>\n",
       "<p>98765 rows × 6 columns</p>\n",
       "</div>\n",
       "      <button class=\"colab-df-convert\" onclick=\"convertToInteractive('df-7d24fa70-39c8-4455-b194-f9b23bd212d2')\"\n",
       "              title=\"Convert this dataframe to an interactive table.\"\n",
       "              style=\"display:none;\">\n",
       "        \n",
       "  <svg xmlns=\"http://www.w3.org/2000/svg\" height=\"24px\"viewBox=\"0 0 24 24\"\n",
       "       width=\"24px\">\n",
       "    <path d=\"M0 0h24v24H0V0z\" fill=\"none\"/>\n",
       "    <path d=\"M18.56 5.44l.94 2.06.94-2.06 2.06-.94-2.06-.94-.94-2.06-.94 2.06-2.06.94zm-11 1L8.5 8.5l.94-2.06 2.06-.94-2.06-.94L8.5 2.5l-.94 2.06-2.06.94zm10 10l.94 2.06.94-2.06 2.06-.94-2.06-.94-.94-2.06-.94 2.06-2.06.94z\"/><path d=\"M17.41 7.96l-1.37-1.37c-.4-.4-.92-.59-1.43-.59-.52 0-1.04.2-1.43.59L10.3 9.45l-7.72 7.72c-.78.78-.78 2.05 0 2.83L4 21.41c.39.39.9.59 1.41.59.51 0 1.02-.2 1.41-.59l7.78-7.78 2.81-2.81c.8-.78.8-2.07 0-2.86zM5.41 20L4 18.59l7.72-7.72 1.47 1.35L5.41 20z\"/>\n",
       "  </svg>\n",
       "      </button>\n",
       "      \n",
       "  <style>\n",
       "    .colab-df-container {\n",
       "      display:flex;\n",
       "      flex-wrap:wrap;\n",
       "      gap: 12px;\n",
       "    }\n",
       "\n",
       "    .colab-df-convert {\n",
       "      background-color: #E8F0FE;\n",
       "      border: none;\n",
       "      border-radius: 50%;\n",
       "      cursor: pointer;\n",
       "      display: none;\n",
       "      fill: #1967D2;\n",
       "      height: 32px;\n",
       "      padding: 0 0 0 0;\n",
       "      width: 32px;\n",
       "    }\n",
       "\n",
       "    .colab-df-convert:hover {\n",
       "      background-color: #E2EBFA;\n",
       "      box-shadow: 0px 1px 2px rgba(60, 64, 67, 0.3), 0px 1px 3px 1px rgba(60, 64, 67, 0.15);\n",
       "      fill: #174EA6;\n",
       "    }\n",
       "\n",
       "    [theme=dark] .colab-df-convert {\n",
       "      background-color: #3B4455;\n",
       "      fill: #D2E3FC;\n",
       "    }\n",
       "\n",
       "    [theme=dark] .colab-df-convert:hover {\n",
       "      background-color: #434B5C;\n",
       "      box-shadow: 0px 1px 3px 1px rgba(0, 0, 0, 0.15);\n",
       "      filter: drop-shadow(0px 1px 2px rgba(0, 0, 0, 0.3));\n",
       "      fill: #FFFFFF;\n",
       "    }\n",
       "  </style>\n",
       "\n",
       "      <script>\n",
       "        const buttonEl =\n",
       "          document.querySelector('#df-7d24fa70-39c8-4455-b194-f9b23bd212d2 button.colab-df-convert');\n",
       "        buttonEl.style.display =\n",
       "          google.colab.kernel.accessAllowed ? 'block' : 'none';\n",
       "\n",
       "        async function convertToInteractive(key) {\n",
       "          const element = document.querySelector('#df-7d24fa70-39c8-4455-b194-f9b23bd212d2');\n",
       "          const dataTable =\n",
       "            await google.colab.kernel.invokeFunction('convertToInteractive',\n",
       "                                                     [key], {});\n",
       "          if (!dataTable) return;\n",
       "\n",
       "          const docLinkHtml = 'Like what you see? Visit the ' +\n",
       "            '<a target=\"_blank\" href=https://colab.research.google.com/notebooks/data_table.ipynb>data table notebook</a>'\n",
       "            + ' to learn more about interactive tables.';\n",
       "          element.innerHTML = '';\n",
       "          dataTable['output_type'] = 'display_data';\n",
       "          await google.colab.output.renderOutput(dataTable, element);\n",
       "          const docLink = document.createElement('div');\n",
       "          docLink.innerHTML = docLinkHtml;\n",
       "          element.appendChild(docLink);\n",
       "        }\n",
       "      </script>\n",
       "    </div>\n",
       "  </div>\n",
       "  "
      ]
     },
     "metadata": {},
     "execution_count": 17
    }
   ],
   "source": [
    "import pandas as pd\n",
    "N=98765\n",
    "df = pd.read_csv('/content/drive/MyDrive/Colab Notebooks/data/data_000637.txt', sep=',',nrows=N)\n",
    "df"
   ]
  },
  {
   "cell_type": "code",
   "execution_count": null,
   "outputs": [
    {
     "output_type": "execute_result",
     "data": {
      "text/plain": [
       "          HEAD          FPGA   TDC_CHANNEL     ORBIT_CNT    BX_COUNTER  \\\n",
       "count  98765.0  98765.000000  98765.000000  9.876500e+04  98765.000000   \n",
       "mean       1.0      0.294821     56.048084  3.869201e+09   1791.860325   \n",
       "std        0.0      0.455965     39.126522  2.833404e+02   1025.701326   \n",
       "min        1.0      0.000000      1.000000  3.869200e+09      0.000000   \n",
       "25%        1.0      0.000000     26.000000  3.869200e+09    896.000000   \n",
       "50%        1.0      0.000000     57.000000  3.869201e+09   1791.000000   \n",
       "75%        1.0      1.000000     64.000000  3.869201e+09   2680.000000   \n",
       "max        1.0      1.000000    139.000000  3.869201e+09   3563.000000   \n",
       "\n",
       "           TDC_MEAS  \n",
       "count  98765.000000  \n",
       "mean      13.362142  \n",
       "std        9.189489  \n",
       "min        0.000000  \n",
       "25%        5.000000  \n",
       "50%       13.000000  \n",
       "75%       21.000000  \n",
       "max       29.000000  "
      ],
      "text/html": [
       "\n",
       "  <div id=\"df-da0d9539-3eb8-4614-9b94-0b756c64d543\">\n",
       "    <div class=\"colab-df-container\">\n",
       "      <div>\n",
       "<style scoped>\n",
       "    .dataframe tbody tr th:only-of-type {\n",
       "        vertical-align: middle;\n",
       "    }\n",
       "\n",
       "    .dataframe tbody tr th {\n",
       "        vertical-align: top;\n",
       "    }\n",
       "\n",
       "    .dataframe thead th {\n",
       "        text-align: right;\n",
       "    }\n",
       "</style>\n",
       "<table border=\"1\" class=\"dataframe\">\n",
       "  <thead>\n",
       "    <tr style=\"text-align: right;\">\n",
       "      <th></th>\n",
       "      <th>HEAD</th>\n",
       "      <th>FPGA</th>\n",
       "      <th>TDC_CHANNEL</th>\n",
       "      <th>ORBIT_CNT</th>\n",
       "      <th>BX_COUNTER</th>\n",
       "      <th>TDC_MEAS</th>\n",
       "    </tr>\n",
       "  </thead>\n",
       "  <tbody>\n",
       "    <tr>\n",
       "      <th>count</th>\n",
       "      <td>98765.0</td>\n",
       "      <td>98765.000000</td>\n",
       "      <td>98765.000000</td>\n",
       "      <td>9.876500e+04</td>\n",
       "      <td>98765.000000</td>\n",
       "      <td>98765.000000</td>\n",
       "    </tr>\n",
       "    <tr>\n",
       "      <th>mean</th>\n",
       "      <td>1.0</td>\n",
       "      <td>0.294821</td>\n",
       "      <td>56.048084</td>\n",
       "      <td>3.869201e+09</td>\n",
       "      <td>1791.860325</td>\n",
       "      <td>13.362142</td>\n",
       "    </tr>\n",
       "    <tr>\n",
       "      <th>std</th>\n",
       "      <td>0.0</td>\n",
       "      <td>0.455965</td>\n",
       "      <td>39.126522</td>\n",
       "      <td>2.833404e+02</td>\n",
       "      <td>1025.701326</td>\n",
       "      <td>9.189489</td>\n",
       "    </tr>\n",
       "    <tr>\n",
       "      <th>min</th>\n",
       "      <td>1.0</td>\n",
       "      <td>0.000000</td>\n",
       "      <td>1.000000</td>\n",
       "      <td>3.869200e+09</td>\n",
       "      <td>0.000000</td>\n",
       "      <td>0.000000</td>\n",
       "    </tr>\n",
       "    <tr>\n",
       "      <th>25%</th>\n",
       "      <td>1.0</td>\n",
       "      <td>0.000000</td>\n",
       "      <td>26.000000</td>\n",
       "      <td>3.869200e+09</td>\n",
       "      <td>896.000000</td>\n",
       "      <td>5.000000</td>\n",
       "    </tr>\n",
       "    <tr>\n",
       "      <th>50%</th>\n",
       "      <td>1.0</td>\n",
       "      <td>0.000000</td>\n",
       "      <td>57.000000</td>\n",
       "      <td>3.869201e+09</td>\n",
       "      <td>1791.000000</td>\n",
       "      <td>13.000000</td>\n",
       "    </tr>\n",
       "    <tr>\n",
       "      <th>75%</th>\n",
       "      <td>1.0</td>\n",
       "      <td>1.000000</td>\n",
       "      <td>64.000000</td>\n",
       "      <td>3.869201e+09</td>\n",
       "      <td>2680.000000</td>\n",
       "      <td>21.000000</td>\n",
       "    </tr>\n",
       "    <tr>\n",
       "      <th>max</th>\n",
       "      <td>1.0</td>\n",
       "      <td>1.000000</td>\n",
       "      <td>139.000000</td>\n",
       "      <td>3.869201e+09</td>\n",
       "      <td>3563.000000</td>\n",
       "      <td>29.000000</td>\n",
       "    </tr>\n",
       "  </tbody>\n",
       "</table>\n",
       "</div>\n",
       "      <button class=\"colab-df-convert\" onclick=\"convertToInteractive('df-da0d9539-3eb8-4614-9b94-0b756c64d543')\"\n",
       "              title=\"Convert this dataframe to an interactive table.\"\n",
       "              style=\"display:none;\">\n",
       "        \n",
       "  <svg xmlns=\"http://www.w3.org/2000/svg\" height=\"24px\"viewBox=\"0 0 24 24\"\n",
       "       width=\"24px\">\n",
       "    <path d=\"M0 0h24v24H0V0z\" fill=\"none\"/>\n",
       "    <path d=\"M18.56 5.44l.94 2.06.94-2.06 2.06-.94-2.06-.94-.94-2.06-.94 2.06-2.06.94zm-11 1L8.5 8.5l.94-2.06 2.06-.94-2.06-.94L8.5 2.5l-.94 2.06-2.06.94zm10 10l.94 2.06.94-2.06 2.06-.94-2.06-.94-.94-2.06-.94 2.06-2.06.94z\"/><path d=\"M17.41 7.96l-1.37-1.37c-.4-.4-.92-.59-1.43-.59-.52 0-1.04.2-1.43.59L10.3 9.45l-7.72 7.72c-.78.78-.78 2.05 0 2.83L4 21.41c.39.39.9.59 1.41.59.51 0 1.02-.2 1.41-.59l7.78-7.78 2.81-2.81c.8-.78.8-2.07 0-2.86zM5.41 20L4 18.59l7.72-7.72 1.47 1.35L5.41 20z\"/>\n",
       "  </svg>\n",
       "      </button>\n",
       "      \n",
       "  <style>\n",
       "    .colab-df-container {\n",
       "      display:flex;\n",
       "      flex-wrap:wrap;\n",
       "      gap: 12px;\n",
       "    }\n",
       "\n",
       "    .colab-df-convert {\n",
       "      background-color: #E8F0FE;\n",
       "      border: none;\n",
       "      border-radius: 50%;\n",
       "      cursor: pointer;\n",
       "      display: none;\n",
       "      fill: #1967D2;\n",
       "      height: 32px;\n",
       "      padding: 0 0 0 0;\n",
       "      width: 32px;\n",
       "    }\n",
       "\n",
       "    .colab-df-convert:hover {\n",
       "      background-color: #E2EBFA;\n",
       "      box-shadow: 0px 1px 2px rgba(60, 64, 67, 0.3), 0px 1px 3px 1px rgba(60, 64, 67, 0.15);\n",
       "      fill: #174EA6;\n",
       "    }\n",
       "\n",
       "    [theme=dark] .colab-df-convert {\n",
       "      background-color: #3B4455;\n",
       "      fill: #D2E3FC;\n",
       "    }\n",
       "\n",
       "    [theme=dark] .colab-df-convert:hover {\n",
       "      background-color: #434B5C;\n",
       "      box-shadow: 0px 1px 3px 1px rgba(0, 0, 0, 0.15);\n",
       "      filter: drop-shadow(0px 1px 2px rgba(0, 0, 0, 0.3));\n",
       "      fill: #FFFFFF;\n",
       "    }\n",
       "  </style>\n",
       "\n",
       "      <script>\n",
       "        const buttonEl =\n",
       "          document.querySelector('#df-da0d9539-3eb8-4614-9b94-0b756c64d543 button.colab-df-convert');\n",
       "        buttonEl.style.display =\n",
       "          google.colab.kernel.accessAllowed ? 'block' : 'none';\n",
       "\n",
       "        async function convertToInteractive(key) {\n",
       "          const element = document.querySelector('#df-da0d9539-3eb8-4614-9b94-0b756c64d543');\n",
       "          const dataTable =\n",
       "            await google.colab.kernel.invokeFunction('convertToInteractive',\n",
       "                                                     [key], {});\n",
       "          if (!dataTable) return;\n",
       "\n",
       "          const docLinkHtml = 'Like what you see? Visit the ' +\n",
       "            '<a target=\"_blank\" href=https://colab.research.google.com/notebooks/data_table.ipynb>data table notebook</a>'\n",
       "            + ' to learn more about interactive tables.';\n",
       "          element.innerHTML = '';\n",
       "          dataTable['output_type'] = 'display_data';\n",
       "          await google.colab.output.renderOutput(dataTable, element);\n",
       "          const docLink = document.createElement('div');\n",
       "          docLink.innerHTML = docLinkHtml;\n",
       "          element.appendChild(docLink);\n",
       "        }\n",
       "      </script>\n",
       "    </div>\n",
       "  </div>\n",
       "  "
      ]
     },
     "metadata": {},
     "execution_count": 18
    }
   ],
   "source": [
    "df.describe()"
   ],
   "metadata": {
    "colab": {
     "base_uri": "https://localhost:8080/",
     "height": 300
    },
    "id": "pXFItFMh2RwK",
    "executionInfo": {
     "status": "ok",
     "timestamp": 1669976757791,
     "user_tz": -60,
     "elapsed": 15,
     "user": {
      "displayName": "reza khaleghi",
      "userId": "13098681236577152395"
     }
    },
    "outputId": "eed2f08f-e995-446a-9b52-01e61f62e58d"
   }
  },
  {
   "cell_type": "markdown",
   "metadata": {
    "id": "NPpPP0Yv2RwL"
   },
   "source": [
    "2\\. Estimate the number of BX in a ORBIT (the value `x`).\n",
    "\n",
    "*Hint*: check when the BX counter reaches the maximum value before being reset to 0."
   ]
  },
  {
   "cell_type": "code",
   "execution_count": null,
   "outputs": [
    {
     "output_type": "stream",
     "name": "stdout",
     "text": [
      "The BX counter resets at row:  2894  Value:  0\n",
      "The maximum value before being reset to 0: 3563 \t Row:  2893\n",
      "x = 3563\n"
     ]
    }
   ],
   "source": [
    "for i in range (N):\n",
    "    if df.iloc[i]['BX_COUNTER'] == 0:\n",
    "        print(\"The BX counter resets at row: \", i, \" Value: \", df.iloc[i]['BX_COUNTER'])\n",
    "        print(\"The maximum value before being reset to 0:\", df.iloc[i-1]['BX_COUNTER'], \"\\t Row: \", i-1)\n",
    "        x = df.iloc[i-1]['BX_COUNTER']\n",
    "        break\n",
    "print(\"x =\", x)"
   ],
   "metadata": {
    "colab": {
     "base_uri": "https://localhost:8080/"
    },
    "id": "fe_Hlm6Z2RwM",
    "executionInfo": {
     "status": "ok",
     "timestamp": 1669976758192,
     "user_tz": -60,
     "elapsed": 413,
     "user": {
      "displayName": "reza khaleghi",
      "userId": "13098681236577152395"
     }
    },
    "outputId": "cd8e2658-58f3-467b-ca93-b8c91db474c2"
   }
  },
  {
   "cell_type": "markdown",
   "metadata": {
    "id": "nDUcpyCB2RwN"
   },
   "source": [
    "3\\. Create a new column with the absolute time in ns (as a combination of the other three columns with timing information) since the beginning of the data acquisition, and convert the new column to a Time Series."
   ]
  },
  {
   "cell_type": "code",
   "execution_count": null,
   "metadata": {
    "pycharm": {
     "is_executing": true
    },
    "colab": {
     "base_uri": "https://localhost:8080/",
     "height": 424
    },
    "id": "1z88nRht2RwO",
    "executionInfo": {
     "status": "ok",
     "timestamp": 1669976758193,
     "user_tz": -60,
     "elapsed": 37,
     "user": {
      "displayName": "reza khaleghi",
      "userId": "13098681236577152395"
     }
    },
    "outputId": "d7373e6a-e1a2-498b-f8f5-8bc07a631a26"
   },
   "outputs": [
    {
     "output_type": "execute_result",
     "data": {
      "text/plain": [
       "       HEAD  FPGA  TDC_CHANNEL   ORBIT_CNT  BX_COUNTER  TDC_MEAS  \\\n",
       "0         1     0          123  3869200167        2374        26   \n",
       "1         1     0          124  3869200167        2374        27   \n",
       "2         1     0           63  3869200167        2553        28   \n",
       "3         1     0           64  3869200167        2558        19   \n",
       "4         1     0           64  3869200167        2760        25   \n",
       "...     ...   ...          ...         ...         ...       ...   \n",
       "98760     1     0           49  3869201149        1670        21   \n",
       "98761     1     0          139  3869201149        1678         0   \n",
       "98762     1     0          123  3869201149        1676        13   \n",
       "98763     1     0           50  3869201149        1672        13   \n",
       "98764     1     0           47  3869201149        1678        13   \n",
       "\n",
       "       ABSOLUTE_TIME  \n",
       "0           3.869203  \n",
       "1           3.869203  \n",
       "2           3.869203  \n",
       "3           3.869203  \n",
       "4           3.869203  \n",
       "...              ...  \n",
       "98760       3.869203  \n",
       "98761       3.869203  \n",
       "98762       3.869203  \n",
       "98763       3.869203  \n",
       "98764       3.869203  \n",
       "\n",
       "[98765 rows x 7 columns]"
      ],
      "text/html": [
       "\n",
       "  <div id=\"df-c014543d-d555-4ff6-ba89-1010547a6a77\">\n",
       "    <div class=\"colab-df-container\">\n",
       "      <div>\n",
       "<style scoped>\n",
       "    .dataframe tbody tr th:only-of-type {\n",
       "        vertical-align: middle;\n",
       "    }\n",
       "\n",
       "    .dataframe tbody tr th {\n",
       "        vertical-align: top;\n",
       "    }\n",
       "\n",
       "    .dataframe thead th {\n",
       "        text-align: right;\n",
       "    }\n",
       "</style>\n",
       "<table border=\"1\" class=\"dataframe\">\n",
       "  <thead>\n",
       "    <tr style=\"text-align: right;\">\n",
       "      <th></th>\n",
       "      <th>HEAD</th>\n",
       "      <th>FPGA</th>\n",
       "      <th>TDC_CHANNEL</th>\n",
       "      <th>ORBIT_CNT</th>\n",
       "      <th>BX_COUNTER</th>\n",
       "      <th>TDC_MEAS</th>\n",
       "      <th>ABSOLUTE_TIME</th>\n",
       "    </tr>\n",
       "  </thead>\n",
       "  <tbody>\n",
       "    <tr>\n",
       "      <th>0</th>\n",
       "      <td>1</td>\n",
       "      <td>0</td>\n",
       "      <td>123</td>\n",
       "      <td>3869200167</td>\n",
       "      <td>2374</td>\n",
       "      <td>26</td>\n",
       "      <td>3.869203</td>\n",
       "    </tr>\n",
       "    <tr>\n",
       "      <th>1</th>\n",
       "      <td>1</td>\n",
       "      <td>0</td>\n",
       "      <td>124</td>\n",
       "      <td>3869200167</td>\n",
       "      <td>2374</td>\n",
       "      <td>27</td>\n",
       "      <td>3.869203</td>\n",
       "    </tr>\n",
       "    <tr>\n",
       "      <th>2</th>\n",
       "      <td>1</td>\n",
       "      <td>0</td>\n",
       "      <td>63</td>\n",
       "      <td>3869200167</td>\n",
       "      <td>2553</td>\n",
       "      <td>28</td>\n",
       "      <td>3.869203</td>\n",
       "    </tr>\n",
       "    <tr>\n",
       "      <th>3</th>\n",
       "      <td>1</td>\n",
       "      <td>0</td>\n",
       "      <td>64</td>\n",
       "      <td>3869200167</td>\n",
       "      <td>2558</td>\n",
       "      <td>19</td>\n",
       "      <td>3.869203</td>\n",
       "    </tr>\n",
       "    <tr>\n",
       "      <th>4</th>\n",
       "      <td>1</td>\n",
       "      <td>0</td>\n",
       "      <td>64</td>\n",
       "      <td>3869200167</td>\n",
       "      <td>2760</td>\n",
       "      <td>25</td>\n",
       "      <td>3.869203</td>\n",
       "    </tr>\n",
       "    <tr>\n",
       "      <th>...</th>\n",
       "      <td>...</td>\n",
       "      <td>...</td>\n",
       "      <td>...</td>\n",
       "      <td>...</td>\n",
       "      <td>...</td>\n",
       "      <td>...</td>\n",
       "      <td>...</td>\n",
       "    </tr>\n",
       "    <tr>\n",
       "      <th>98760</th>\n",
       "      <td>1</td>\n",
       "      <td>0</td>\n",
       "      <td>49</td>\n",
       "      <td>3869201149</td>\n",
       "      <td>1670</td>\n",
       "      <td>21</td>\n",
       "      <td>3.869203</td>\n",
       "    </tr>\n",
       "    <tr>\n",
       "      <th>98761</th>\n",
       "      <td>1</td>\n",
       "      <td>0</td>\n",
       "      <td>139</td>\n",
       "      <td>3869201149</td>\n",
       "      <td>1678</td>\n",
       "      <td>0</td>\n",
       "      <td>3.869203</td>\n",
       "    </tr>\n",
       "    <tr>\n",
       "      <th>98762</th>\n",
       "      <td>1</td>\n",
       "      <td>0</td>\n",
       "      <td>123</td>\n",
       "      <td>3869201149</td>\n",
       "      <td>1676</td>\n",
       "      <td>13</td>\n",
       "      <td>3.869203</td>\n",
       "    </tr>\n",
       "    <tr>\n",
       "      <th>98763</th>\n",
       "      <td>1</td>\n",
       "      <td>0</td>\n",
       "      <td>50</td>\n",
       "      <td>3869201149</td>\n",
       "      <td>1672</td>\n",
       "      <td>13</td>\n",
       "      <td>3.869203</td>\n",
       "    </tr>\n",
       "    <tr>\n",
       "      <th>98764</th>\n",
       "      <td>1</td>\n",
       "      <td>0</td>\n",
       "      <td>47</td>\n",
       "      <td>3869201149</td>\n",
       "      <td>1678</td>\n",
       "      <td>13</td>\n",
       "      <td>3.869203</td>\n",
       "    </tr>\n",
       "  </tbody>\n",
       "</table>\n",
       "<p>98765 rows × 7 columns</p>\n",
       "</div>\n",
       "      <button class=\"colab-df-convert\" onclick=\"convertToInteractive('df-c014543d-d555-4ff6-ba89-1010547a6a77')\"\n",
       "              title=\"Convert this dataframe to an interactive table.\"\n",
       "              style=\"display:none;\">\n",
       "        \n",
       "  <svg xmlns=\"http://www.w3.org/2000/svg\" height=\"24px\"viewBox=\"0 0 24 24\"\n",
       "       width=\"24px\">\n",
       "    <path d=\"M0 0h24v24H0V0z\" fill=\"none\"/>\n",
       "    <path d=\"M18.56 5.44l.94 2.06.94-2.06 2.06-.94-2.06-.94-.94-2.06-.94 2.06-2.06.94zm-11 1L8.5 8.5l.94-2.06 2.06-.94-2.06-.94L8.5 2.5l-.94 2.06-2.06.94zm10 10l.94 2.06.94-2.06 2.06-.94-2.06-.94-.94-2.06-.94 2.06-2.06.94z\"/><path d=\"M17.41 7.96l-1.37-1.37c-.4-.4-.92-.59-1.43-.59-.52 0-1.04.2-1.43.59L10.3 9.45l-7.72 7.72c-.78.78-.78 2.05 0 2.83L4 21.41c.39.39.9.59 1.41.59.51 0 1.02-.2 1.41-.59l7.78-7.78 2.81-2.81c.8-.78.8-2.07 0-2.86zM5.41 20L4 18.59l7.72-7.72 1.47 1.35L5.41 20z\"/>\n",
       "  </svg>\n",
       "      </button>\n",
       "      \n",
       "  <style>\n",
       "    .colab-df-container {\n",
       "      display:flex;\n",
       "      flex-wrap:wrap;\n",
       "      gap: 12px;\n",
       "    }\n",
       "\n",
       "    .colab-df-convert {\n",
       "      background-color: #E8F0FE;\n",
       "      border: none;\n",
       "      border-radius: 50%;\n",
       "      cursor: pointer;\n",
       "      display: none;\n",
       "      fill: #1967D2;\n",
       "      height: 32px;\n",
       "      padding: 0 0 0 0;\n",
       "      width: 32px;\n",
       "    }\n",
       "\n",
       "    .colab-df-convert:hover {\n",
       "      background-color: #E2EBFA;\n",
       "      box-shadow: 0px 1px 2px rgba(60, 64, 67, 0.3), 0px 1px 3px 1px rgba(60, 64, 67, 0.15);\n",
       "      fill: #174EA6;\n",
       "    }\n",
       "\n",
       "    [theme=dark] .colab-df-convert {\n",
       "      background-color: #3B4455;\n",
       "      fill: #D2E3FC;\n",
       "    }\n",
       "\n",
       "    [theme=dark] .colab-df-convert:hover {\n",
       "      background-color: #434B5C;\n",
       "      box-shadow: 0px 1px 3px 1px rgba(0, 0, 0, 0.15);\n",
       "      filter: drop-shadow(0px 1px 2px rgba(0, 0, 0, 0.3));\n",
       "      fill: #FFFFFF;\n",
       "    }\n",
       "  </style>\n",
       "\n",
       "      <script>\n",
       "        const buttonEl =\n",
       "          document.querySelector('#df-c014543d-d555-4ff6-ba89-1010547a6a77 button.colab-df-convert');\n",
       "        buttonEl.style.display =\n",
       "          google.colab.kernel.accessAllowed ? 'block' : 'none';\n",
       "\n",
       "        async function convertToInteractive(key) {\n",
       "          const element = document.querySelector('#df-c014543d-d555-4ff6-ba89-1010547a6a77');\n",
       "          const dataTable =\n",
       "            await google.colab.kernel.invokeFunction('convertToInteractive',\n",
       "                                                     [key], {});\n",
       "          if (!dataTable) return;\n",
       "\n",
       "          const docLinkHtml = 'Like what you see? Visit the ' +\n",
       "            '<a target=\"_blank\" href=https://colab.research.google.com/notebooks/data_table.ipynb>data table notebook</a>'\n",
       "            + ' to learn more about interactive tables.';\n",
       "          element.innerHTML = '';\n",
       "          dataTable['output_type'] = 'display_data';\n",
       "          await google.colab.output.renderOutput(dataTable, element);\n",
       "          const docLink = document.createElement('div');\n",
       "          docLink.innerHTML = docLinkHtml;\n",
       "          element.appendChild(docLink);\n",
       "        }\n",
       "      </script>\n",
       "    </div>\n",
       "  </div>\n",
       "  "
      ]
     },
     "metadata": {},
     "execution_count": 20
    }
   ],
   "source": [
    "df = df.assign(ABSOLUTE_TIME=(df['BX_COUNTER'] + df['TDC_MEAS'] +df['ORBIT_CNT']) / 1e+9)\n",
    "df"
   ]
  },
  {
   "cell_type": "markdown",
   "metadata": {
    "id": "QhhBK1Rs2RwP"
   },
   "source": [
    "4\\. Find out the duration of the data taking in hours, minutes and seconds, by using the features of the Time Series. Perform this check reading the whole dataset."
   ]
  },
  {
   "cell_type": "code",
   "execution_count": null,
   "metadata": {
    "colab": {
     "base_uri": "https://localhost:8080/",
     "height": 545
    },
    "id": "jFTFJWFH2RwP",
    "executionInfo": {
     "status": "ok",
     "timestamp": 1669976758195,
     "user_tz": -60,
     "elapsed": 37,
     "user": {
      "displayName": "reza khaleghi",
      "userId": "13098681236577152395"
     }
    },
    "outputId": "9ec4a366-b7b3-494a-80b9-268c773ee5a8"
   },
   "outputs": [
    {
     "output_type": "stream",
     "name": "stdout",
     "text": [
      "The duration of each measurement: 0      NaT\n",
      "1   0 days\n",
      "2   0 days\n",
      "3   0 days\n",
      "4   0 days\n",
      "Name: DURATION_MEASUREMENT, dtype: timedelta64[ns]\n",
      "The duration of the whole data taking: 0 days 00:00:00\n"
     ]
    },
    {
     "output_type": "execute_result",
     "data": {
      "text/plain": [
       "       HEAD  FPGA  TDC_CHANNEL   ORBIT_CNT  BX_COUNTER  TDC_MEAS  \\\n",
       "0         1     0          123  3869200167        2374        26   \n",
       "1         1     0          124  3869200167        2374        27   \n",
       "2         1     0           63  3869200167        2553        28   \n",
       "3         1     0           64  3869200167        2558        19   \n",
       "4         1     0           64  3869200167        2760        25   \n",
       "...     ...   ...          ...         ...         ...       ...   \n",
       "98760     1     0           49  3869201149        1670        21   \n",
       "98761     1     0          139  3869201149        1678         0   \n",
       "98762     1     0          123  3869201149        1676        13   \n",
       "98763     1     0           50  3869201149        1672        13   \n",
       "98764     1     0           47  3869201149        1678        13   \n",
       "\n",
       "       ABSOLUTE_TIME      DURATION_MEASUREMENT  \n",
       "0           3.869203 0 days 00:00:00.000000003  \n",
       "1           3.869203 0 days 00:00:00.000000003  \n",
       "2           3.869203 0 days 00:00:00.000000003  \n",
       "3           3.869203 0 days 00:00:00.000000003  \n",
       "4           3.869203 0 days 00:00:00.000000003  \n",
       "...              ...                       ...  \n",
       "98760       3.869203 0 days 00:00:00.000000003  \n",
       "98761       3.869203 0 days 00:00:00.000000003  \n",
       "98762       3.869203 0 days 00:00:00.000000003  \n",
       "98763       3.869203 0 days 00:00:00.000000003  \n",
       "98764       3.869203 0 days 00:00:00.000000003  \n",
       "\n",
       "[98765 rows x 8 columns]"
      ],
      "text/html": [
       "\n",
       "  <div id=\"df-7769e5d7-d9f4-4332-a68e-0075adaf6b20\">\n",
       "    <div class=\"colab-df-container\">\n",
       "      <div>\n",
       "<style scoped>\n",
       "    .dataframe tbody tr th:only-of-type {\n",
       "        vertical-align: middle;\n",
       "    }\n",
       "\n",
       "    .dataframe tbody tr th {\n",
       "        vertical-align: top;\n",
       "    }\n",
       "\n",
       "    .dataframe thead th {\n",
       "        text-align: right;\n",
       "    }\n",
       "</style>\n",
       "<table border=\"1\" class=\"dataframe\">\n",
       "  <thead>\n",
       "    <tr style=\"text-align: right;\">\n",
       "      <th></th>\n",
       "      <th>HEAD</th>\n",
       "      <th>FPGA</th>\n",
       "      <th>TDC_CHANNEL</th>\n",
       "      <th>ORBIT_CNT</th>\n",
       "      <th>BX_COUNTER</th>\n",
       "      <th>TDC_MEAS</th>\n",
       "      <th>ABSOLUTE_TIME</th>\n",
       "      <th>DURATION_MEASUREMENT</th>\n",
       "    </tr>\n",
       "  </thead>\n",
       "  <tbody>\n",
       "    <tr>\n",
       "      <th>0</th>\n",
       "      <td>1</td>\n",
       "      <td>0</td>\n",
       "      <td>123</td>\n",
       "      <td>3869200167</td>\n",
       "      <td>2374</td>\n",
       "      <td>26</td>\n",
       "      <td>3.869203</td>\n",
       "      <td>0 days 00:00:00.000000003</td>\n",
       "    </tr>\n",
       "    <tr>\n",
       "      <th>1</th>\n",
       "      <td>1</td>\n",
       "      <td>0</td>\n",
       "      <td>124</td>\n",
       "      <td>3869200167</td>\n",
       "      <td>2374</td>\n",
       "      <td>27</td>\n",
       "      <td>3.869203</td>\n",
       "      <td>0 days 00:00:00.000000003</td>\n",
       "    </tr>\n",
       "    <tr>\n",
       "      <th>2</th>\n",
       "      <td>1</td>\n",
       "      <td>0</td>\n",
       "      <td>63</td>\n",
       "      <td>3869200167</td>\n",
       "      <td>2553</td>\n",
       "      <td>28</td>\n",
       "      <td>3.869203</td>\n",
       "      <td>0 days 00:00:00.000000003</td>\n",
       "    </tr>\n",
       "    <tr>\n",
       "      <th>3</th>\n",
       "      <td>1</td>\n",
       "      <td>0</td>\n",
       "      <td>64</td>\n",
       "      <td>3869200167</td>\n",
       "      <td>2558</td>\n",
       "      <td>19</td>\n",
       "      <td>3.869203</td>\n",
       "      <td>0 days 00:00:00.000000003</td>\n",
       "    </tr>\n",
       "    <tr>\n",
       "      <th>4</th>\n",
       "      <td>1</td>\n",
       "      <td>0</td>\n",
       "      <td>64</td>\n",
       "      <td>3869200167</td>\n",
       "      <td>2760</td>\n",
       "      <td>25</td>\n",
       "      <td>3.869203</td>\n",
       "      <td>0 days 00:00:00.000000003</td>\n",
       "    </tr>\n",
       "    <tr>\n",
       "      <th>...</th>\n",
       "      <td>...</td>\n",
       "      <td>...</td>\n",
       "      <td>...</td>\n",
       "      <td>...</td>\n",
       "      <td>...</td>\n",
       "      <td>...</td>\n",
       "      <td>...</td>\n",
       "      <td>...</td>\n",
       "    </tr>\n",
       "    <tr>\n",
       "      <th>98760</th>\n",
       "      <td>1</td>\n",
       "      <td>0</td>\n",
       "      <td>49</td>\n",
       "      <td>3869201149</td>\n",
       "      <td>1670</td>\n",
       "      <td>21</td>\n",
       "      <td>3.869203</td>\n",
       "      <td>0 days 00:00:00.000000003</td>\n",
       "    </tr>\n",
       "    <tr>\n",
       "      <th>98761</th>\n",
       "      <td>1</td>\n",
       "      <td>0</td>\n",
       "      <td>139</td>\n",
       "      <td>3869201149</td>\n",
       "      <td>1678</td>\n",
       "      <td>0</td>\n",
       "      <td>3.869203</td>\n",
       "      <td>0 days 00:00:00.000000003</td>\n",
       "    </tr>\n",
       "    <tr>\n",
       "      <th>98762</th>\n",
       "      <td>1</td>\n",
       "      <td>0</td>\n",
       "      <td>123</td>\n",
       "      <td>3869201149</td>\n",
       "      <td>1676</td>\n",
       "      <td>13</td>\n",
       "      <td>3.869203</td>\n",
       "      <td>0 days 00:00:00.000000003</td>\n",
       "    </tr>\n",
       "    <tr>\n",
       "      <th>98763</th>\n",
       "      <td>1</td>\n",
       "      <td>0</td>\n",
       "      <td>50</td>\n",
       "      <td>3869201149</td>\n",
       "      <td>1672</td>\n",
       "      <td>13</td>\n",
       "      <td>3.869203</td>\n",
       "      <td>0 days 00:00:00.000000003</td>\n",
       "    </tr>\n",
       "    <tr>\n",
       "      <th>98764</th>\n",
       "      <td>1</td>\n",
       "      <td>0</td>\n",
       "      <td>47</td>\n",
       "      <td>3869201149</td>\n",
       "      <td>1678</td>\n",
       "      <td>13</td>\n",
       "      <td>3.869203</td>\n",
       "      <td>0 days 00:00:00.000000003</td>\n",
       "    </tr>\n",
       "  </tbody>\n",
       "</table>\n",
       "<p>98765 rows × 8 columns</p>\n",
       "</div>\n",
       "      <button class=\"colab-df-convert\" onclick=\"convertToInteractive('df-7769e5d7-d9f4-4332-a68e-0075adaf6b20')\"\n",
       "              title=\"Convert this dataframe to an interactive table.\"\n",
       "              style=\"display:none;\">\n",
       "        \n",
       "  <svg xmlns=\"http://www.w3.org/2000/svg\" height=\"24px\"viewBox=\"0 0 24 24\"\n",
       "       width=\"24px\">\n",
       "    <path d=\"M0 0h24v24H0V0z\" fill=\"none\"/>\n",
       "    <path d=\"M18.56 5.44l.94 2.06.94-2.06 2.06-.94-2.06-.94-.94-2.06-.94 2.06-2.06.94zm-11 1L8.5 8.5l.94-2.06 2.06-.94-2.06-.94L8.5 2.5l-.94 2.06-2.06.94zm10 10l.94 2.06.94-2.06 2.06-.94-2.06-.94-.94-2.06-.94 2.06-2.06.94z\"/><path d=\"M17.41 7.96l-1.37-1.37c-.4-.4-.92-.59-1.43-.59-.52 0-1.04.2-1.43.59L10.3 9.45l-7.72 7.72c-.78.78-.78 2.05 0 2.83L4 21.41c.39.39.9.59 1.41.59.51 0 1.02-.2 1.41-.59l7.78-7.78 2.81-2.81c.8-.78.8-2.07 0-2.86zM5.41 20L4 18.59l7.72-7.72 1.47 1.35L5.41 20z\"/>\n",
       "  </svg>\n",
       "      </button>\n",
       "      \n",
       "  <style>\n",
       "    .colab-df-container {\n",
       "      display:flex;\n",
       "      flex-wrap:wrap;\n",
       "      gap: 12px;\n",
       "    }\n",
       "\n",
       "    .colab-df-convert {\n",
       "      background-color: #E8F0FE;\n",
       "      border: none;\n",
       "      border-radius: 50%;\n",
       "      cursor: pointer;\n",
       "      display: none;\n",
       "      fill: #1967D2;\n",
       "      height: 32px;\n",
       "      padding: 0 0 0 0;\n",
       "      width: 32px;\n",
       "    }\n",
       "\n",
       "    .colab-df-convert:hover {\n",
       "      background-color: #E2EBFA;\n",
       "      box-shadow: 0px 1px 2px rgba(60, 64, 67, 0.3), 0px 1px 3px 1px rgba(60, 64, 67, 0.15);\n",
       "      fill: #174EA6;\n",
       "    }\n",
       "\n",
       "    [theme=dark] .colab-df-convert {\n",
       "      background-color: #3B4455;\n",
       "      fill: #D2E3FC;\n",
       "    }\n",
       "\n",
       "    [theme=dark] .colab-df-convert:hover {\n",
       "      background-color: #434B5C;\n",
       "      box-shadow: 0px 1px 3px 1px rgba(0, 0, 0, 0.15);\n",
       "      filter: drop-shadow(0px 1px 2px rgba(0, 0, 0, 0.3));\n",
       "      fill: #FFFFFF;\n",
       "    }\n",
       "  </style>\n",
       "\n",
       "      <script>\n",
       "        const buttonEl =\n",
       "          document.querySelector('#df-7769e5d7-d9f4-4332-a68e-0075adaf6b20 button.colab-df-convert');\n",
       "        buttonEl.style.display =\n",
       "          google.colab.kernel.accessAllowed ? 'block' : 'none';\n",
       "\n",
       "        async function convertToInteractive(key) {\n",
       "          const element = document.querySelector('#df-7769e5d7-d9f4-4332-a68e-0075adaf6b20');\n",
       "          const dataTable =\n",
       "            await google.colab.kernel.invokeFunction('convertToInteractive',\n",
       "                                                     [key], {});\n",
       "          if (!dataTable) return;\n",
       "\n",
       "          const docLinkHtml = 'Like what you see? Visit the ' +\n",
       "            '<a target=\"_blank\" href=https://colab.research.google.com/notebooks/data_table.ipynb>data table notebook</a>'\n",
       "            + ' to learn more about interactive tables.';\n",
       "          element.innerHTML = '';\n",
       "          dataTable['output_type'] = 'display_data';\n",
       "          await google.colab.output.renderOutput(dataTable, element);\n",
       "          const docLink = document.createElement('div');\n",
       "          docLink.innerHTML = docLinkHtml;\n",
       "          element.appendChild(docLink);\n",
       "        }\n",
       "      </script>\n",
       "    </div>\n",
       "  </div>\n",
       "  "
      ]
     },
     "metadata": {},
     "execution_count": 21
    }
   ],
   "source": [
    "df['DURATION_MEASUREMENT'] = pd.to_timedelta(df['ABSOLUTE_TIME'])\n",
    "print(\"The duration of each measurement:\", df['DURATION_MEASUREMENT'][0:5].diff())\n",
    "print(\"The duration of the whole data taking:\", (df['DURATION_MEASUREMENT'].max() - df['DURATION_MEASUREMENT'].min()))\n",
    "df"
   ]
  },
  {
   "cell_type": "markdown",
   "metadata": {
    "id": "7TgZhPmu2RwQ"
   },
   "source": [
    "5\\. Use the `.groupby()` method to find out the noisy channels, i.e. the TDC channels with most counts (print to screen the top 3 and the corresponding counts)"
   ]
  },
  {
   "cell_type": "code",
   "execution_count": null,
   "metadata": {
    "colab": {
     "base_uri": "https://localhost:8080/"
    },
    "id": "_sMDLgL72RwQ",
    "executionInfo": {
     "status": "ok",
     "timestamp": 1669976758196,
     "user_tz": -60,
     "elapsed": 32,
     "user": {
      "displayName": "reza khaleghi",
      "userId": "13098681236577152395"
     }
    },
    "outputId": "a21a6ff6-14ee-413e-dc85-7c97f9fe06c5"
   },
   "outputs": [
    {
     "output_type": "stream",
     "name": "stdout",
     "text": [
      " The top 3 TDC_CHANNELS:  HEAD    \n",
      "1     7     139\n",
      "      15    139\n",
      "      30    139\n",
      "Name: TDC_CHANNEL, dtype: int64\n"
     ]
    }
   ],
   "source": [
    "print(\" The top 3 TDC_CHANNELS: \", df.groupby('HEAD')['TDC_CHANNEL'].nlargest(3))"
   ]
  },
  {
   "cell_type": "markdown",
   "metadata": {
    "id": "XjlBhGXn2RwR"
   },
   "source": [
    "6\\. Count the number of non-empty orbits (i.e. the number of orbits with at least one hit)."
   ]
  },
  {
   "cell_type": "code",
   "execution_count": null,
   "metadata": {
    "colab": {
     "base_uri": "https://localhost:8080/"
    },
    "id": "LLzgrlz22RwR",
    "executionInfo": {
     "status": "ok",
     "timestamp": 1669976758197,
     "user_tz": -60,
     "elapsed": 30,
     "user": {
      "displayName": "reza khaleghi",
      "userId": "13098681236577152395"
     }
    },
    "outputId": "575deb63-5841-48aa-962d-0eaa7eccc434"
   },
   "outputs": [
    {
     "output_type": "stream",
     "name": "stdout",
     "text": [
      "The number of orbits with at least one hit is 983\n"
     ]
    }
   ],
   "source": [
    "count = df.ORBIT_CNT.unique().size\n",
    "print(\"The number of orbits with at least one hit is \" + str(count))"
   ]
  },
  {
   "cell_type": "markdown",
   "metadata": {
    "id": "BOdz9v672RwS"
   },
   "source": [
    "7\\. Count the number of unique orbits with at least one measurement from TDC_CHANNEL=139."
   ]
  },
  {
   "cell_type": "code",
   "execution_count": null,
   "metadata": {
    "colab": {
     "base_uri": "https://localhost:8080/"
    },
    "id": "9kDgRX5q2RwS",
    "executionInfo": {
     "status": "ok",
     "timestamp": 1669976758198,
     "user_tz": -60,
     "elapsed": 29,
     "user": {
      "displayName": "reza khaleghi",
      "userId": "13098681236577152395"
     }
    },
    "outputId": "59d0f7cb-5d18-4192-8450-e1ce8d7e6a90"
   },
   "outputs": [
    {
     "output_type": "stream",
     "name": "stdout",
     "text": [
      "\n",
      "The number of unique orbits with at least one measurement from TDC_CHANNEL = 139 is  982\n"
     ]
    }
   ],
   "source": [
    "unique_orbits = pd.DataFrame(df[df['TDC_CHANNEL'] == 139]).drop_duplicates(subset=['ORBIT_CNT'], inplace=False)\n",
    "print(\"\\nThe number of unique orbits with at least one measurement from TDC_CHANNEL = 139 is \", len(unique_orbits))"
   ]
  },
  {
   "cell_type": "markdown",
   "metadata": {
    "id": "kx5TmbcF2RwT"
   },
   "source": [
    "8\\. Create two Series (one for each FPGA) that have the TDC channel as index, and the number of counts for the corresponding TDC channel as values."
   ]
  },
  {
   "cell_type": "code",
   "execution_count": 27,
   "metadata": {
    "colab": {
     "base_uri": "https://localhost:8080/"
    },
    "id": "AfgER-Yu2RwT",
    "executionInfo": {
     "status": "ok",
     "timestamp": 1669978302454,
     "user_tz": -60,
     "elapsed": 259,
     "user": {
      "displayName": "reza khaleghi",
      "userId": "13098681236577152395"
     }
    },
    "outputId": "0c7ce3a0-408d-4072-e589-230a2b6c9383"
   },
   "outputs": [
    {
     "output_type": "stream",
     "name": "stdout",
     "text": [
      "Series 1: 139    5762\n",
      "64     4859\n",
      "63     4789\n",
      "61     3689\n",
      "62     3618\n",
      "       ... \n",
      "103      24\n",
      "67       11\n",
      "130       2\n",
      "137       2\n",
      "138       2\n",
      "Name: TDC_CHANNEL, Length: 121, dtype: int64\n",
      "Series 2 139    2455\n",
      "2      2416\n",
      "1      2089\n",
      "4      1988\n",
      "3      1650\n",
      "       ... \n",
      "9         9\n",
      "130       4\n",
      "138       2\n",
      "137       2\n",
      "129       2\n",
      "Name: TDC_CHANNEL, Length: 132, dtype: int64\n"
     ]
    }
   ],
   "source": [
    "FPGA_0 = pd.Series(df[df['FPGA'] == 0]['TDC_CHANNEL'].value_counts())\n",
    "FPGA_1 = pd.Series(df[df['FPGA'] == 1]['TDC_CHANNEL'].value_counts())\n",
    "print(\"Series 1:\", FPGA_0)\n",
    "print(\"Series 2\", FPGA_1)"
   ]
  },
  {
   "cell_type": "markdown",
   "metadata": {
    "id": "152mdsqo2RwT"
   },
   "source": [
    "9\\. **Optional:** Create two histograms (one for each FPGA) that show the number of counts for each TDC channel."
   ]
  },
  {
   "cell_type": "code",
   "execution_count": null,
   "metadata": {
    "colab": {
     "base_uri": "https://localhost:8080/",
     "height": 610
    },
    "id": "0v8J3Mnf2RwU",
    "executionInfo": {
     "status": "ok",
     "timestamp": 1669976758604,
     "user_tz": -60,
     "elapsed": 428,
     "user": {
      "displayName": "reza khaleghi",
      "userId": "13098681236577152395"
     }
    },
    "outputId": "550a997c-9135-4b45-dd08-dd3c58c8817d"
   },
   "outputs": [
    {
     "output_type": "display_data",
     "data": {
      "text/plain": [
       "<Figure size 432x288 with 1 Axes>"
      ],
      "image/png": "[encoded data removed]"
     },
     "metadata": {
      "needs_background": "light"
     }
    },
    {
     "output_type": "stream",
     "name": "stdout",
     "text": [
      "\n",
      "\n"
     ]
    },
    {
     "output_type": "display_data",
     "data": {
      "text/plain": [
       "<Figure size 432x288 with 1 Axes>"
      ],
      "image/png": "[encoded data removed]"
     },
     "metadata": {
      "needs_background": "light"
     }
    }
   ],
   "source": [
    "#!/usr/bin/env python\n",
    "import matplotlib.pyplot as plt\n",
    "\n",
    "plt.hist(FPGA_0)\n",
    "plt.title('FPGA 0')\n",
    "plt.xlabel('TDC_CHANNEL')\n",
    "plt.ylabel('Number of counts')\n",
    "plt.show()\n",
    "print(\"\\n\")\n",
    "plt.hist(FPGA_1)\n",
    "plt.title('FPGA 1')\n",
    "plt.xlabel('TDC_CHANNEL')\n",
    "plt.ylabel('Number of counts')\n",
    "plt.show()"
   ]
  }
 ],
 "metadata": {
  "kernelspec": {
   "display_name": "Python 3",
   "language": "python",
   "name": "python3"
  },
  "language_info": {
   "codemirror_mode": {
    "name": "ipython",
    "version": 3
   },
   "file_extension": ".py",
   "mimetype": "text/x-python",
   "name": "python",
   "nbconvert_exporter": "python",
   "pygments_lexer": "ipython3",
   "version": "3.8.5"
  },
  "colab": {
   "provenance": []
  }
 },
 "nbformat": 4,
 "nbformat_minor": 0
}
