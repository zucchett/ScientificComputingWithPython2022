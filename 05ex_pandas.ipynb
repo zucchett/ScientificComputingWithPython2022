{
 "cells": [
  {
   "cell_type": "markdown",
   "metadata": {},
   "source": [
    "1\\. **Pandas DataFrame**\n",
    "\n",
    "This exercise consists in analyzing a dataset containg timing information from a series of Time-to-Digital-Converters (TDC) implemented in a pair of FPGAs. Each measurement (i.e. each row of the input file) consists of a flag that specifies the type of message ('HEAD', which in this case is always 1), two addresses of the TDC providing the signal ('FPGA' and 'TDC_CHANNEL'), and the timing information ('ORBIT_CNT', 'BX_COUNTER', and 'TDC_MEAS'). Each TDC count corresponds to 25/30 ns, whereas a unit of BX_COUNTER corresponds to 25 ns, and the ORBIT_CNT is increased every `x` BX_COUNTER. This allows to store the time in a similar way to hours, minutes and seconds."
   ]
  },
  {
   "cell_type": "code",
   "execution_count": 4,
   "metadata": {},
   "outputs": [
    {
     "name": "stdout",
     "output_type": "stream",
     "text": [
      "--2022-12-02 13:54:23--  https://www.dropbox.com/s/xvjzaxzz3ysphme/data_000637.txt\n",
      "Risoluzione di www.dropbox.com (www.dropbox.com)... 162.125.69.18\n",
      "Connessione a www.dropbox.com (www.dropbox.com)|162.125.69.18|:443... connesso.\n",
      "Richiesta HTTP inviata, in attesa di risposta... 302 Found\n",
      "Posizione: /s/raw/xvjzaxzz3ysphme/data_000637.txt [segue]\n",
      "--2022-12-02 13:54:23--  https://www.dropbox.com/s/raw/xvjzaxzz3ysphme/data_000637.txt\n",
      "Riutilizzo della connessione esistente a www.dropbox.com:443.\n",
      "Richiesta HTTP inviata, in attesa di risposta... 302 Found\n",
      "Posizione: https://uc1f9c230cee25629ccd442ab0a4.dl.dropboxusercontent.com/cd/0/inline/Bx1FqghWyghTi78Jj0p_-Z0-Xw6BFawft6d5d9hOAd9PvRj3eKQ5LYwUTTBJPM7f3A9m6FRxCEXAyHhw0XKBTUVgdGKCDEHacMOqgCMAQRhmN6Hm51xVaurjNc2i9dFGaLWKVUbeA8OAxbydEbAmg4BZ94BjjdCYcRcx08eEsKDr7w/file# [segue]\n",
      "--2022-12-02 13:54:24--  https://uc1f9c230cee25629ccd442ab0a4.dl.dropboxusercontent.com/cd/0/inline/Bx1FqghWyghTi78Jj0p_-Z0-Xw6BFawft6d5d9hOAd9PvRj3eKQ5LYwUTTBJPM7f3A9m6FRxCEXAyHhw0XKBTUVgdGKCDEHacMOqgCMAQRhmN6Hm51xVaurjNc2i9dFGaLWKVUbeA8OAxbydEbAmg4BZ94BjjdCYcRcx08eEsKDr7w/file\n",
      "Risoluzione di uc1f9c230cee25629ccd442ab0a4.dl.dropboxusercontent.com (uc1f9c230cee25629ccd442ab0a4.dl.dropboxusercontent.com)... 162.125.69.15\n",
      "Connessione a uc1f9c230cee25629ccd442ab0a4.dl.dropboxusercontent.com (uc1f9c230cee25629ccd442ab0a4.dl.dropboxusercontent.com)|162.125.69.15|:443... connesso.\n",
      "Richiesta HTTP inviata, in attesa di risposta... 200 OK\n",
      "Lunghezza: 33179236 (32M) [text/plain]\n",
      "Salvataggio in: «./data/data_000637.txt»\n",
      "\n",
      "data_000637.txt     100%[===================>]  31,64M  8,87MB/s    in 3,6s    \n",
      "\n",
      "2022-12-02 13:54:28 (8,90 MB/s) - «./data/data_000637.txt» salvato [33179236/33179236]\n",
      "\n"
     ]
    }
   ],
   "source": [
    "# If haven't downloaded it yet, please get the data file with wget\n",
    "#!wget https://www.dropbox.com/s/xvjzaxzz3ysphme/data_000637.txt -P ./data/"
   ]
  },
  {
   "cell_type": "markdown",
   "metadata": {},
   "source": [
    "1\\. Create a Pandas DataFrame reading N rows of the `data/data_000637.txt` dataset. Choose N to be smaller than or equal to the maximum number of rows and larger that 10k (check the documentation)."
   ]
  },
  {
   "cell_type": "code",
   "execution_count": 5,
   "metadata": {},
   "outputs": [],
   "source": [
    "import pandas as pd\n",
    "import numpy as np"
   ]
  },
  {
   "cell_type": "code",
   "execution_count": 6,
   "metadata": {},
   "outputs": [
    {
     "data": {
      "text/html": [
       "<div>\n",
       "<style scoped>\n",
       "    .dataframe tbody tr th:only-of-type {\n",
       "        vertical-align: middle;\n",
       "    }\n",
       "\n",
       "    .dataframe tbody tr th {\n",
       "        vertical-align: top;\n",
       "    }\n",
       "\n",
       "    .dataframe thead th {\n",
       "        text-align: right;\n",
       "    }\n",
       "</style>\n",
       "<table border=\"1\" class=\"dataframe\">\n",
       "  <thead>\n",
       "    <tr style=\"text-align: right;\">\n",
       "      <th></th>\n",
       "      <th>HEAD</th>\n",
       "      <th>FPGA</th>\n",
       "      <th>TDC_CHANNEL</th>\n",
       "      <th>ORBIT_CNT</th>\n",
       "      <th>BX_COUNTER</th>\n",
       "      <th>TDC_MEAS</th>\n",
       "    </tr>\n",
       "  </thead>\n",
       "  <tbody>\n",
       "    <tr>\n",
       "      <th>0</th>\n",
       "      <td>1</td>\n",
       "      <td>0</td>\n",
       "      <td>123</td>\n",
       "      <td>3869200167</td>\n",
       "      <td>2374</td>\n",
       "      <td>26</td>\n",
       "    </tr>\n",
       "    <tr>\n",
       "      <th>1</th>\n",
       "      <td>1</td>\n",
       "      <td>0</td>\n",
       "      <td>124</td>\n",
       "      <td>3869200167</td>\n",
       "      <td>2374</td>\n",
       "      <td>27</td>\n",
       "    </tr>\n",
       "    <tr>\n",
       "      <th>2</th>\n",
       "      <td>1</td>\n",
       "      <td>0</td>\n",
       "      <td>63</td>\n",
       "      <td>3869200167</td>\n",
       "      <td>2553</td>\n",
       "      <td>28</td>\n",
       "    </tr>\n",
       "    <tr>\n",
       "      <th>3</th>\n",
       "      <td>1</td>\n",
       "      <td>0</td>\n",
       "      <td>64</td>\n",
       "      <td>3869200167</td>\n",
       "      <td>2558</td>\n",
       "      <td>19</td>\n",
       "    </tr>\n",
       "    <tr>\n",
       "      <th>4</th>\n",
       "      <td>1</td>\n",
       "      <td>0</td>\n",
       "      <td>64</td>\n",
       "      <td>3869200167</td>\n",
       "      <td>2760</td>\n",
       "      <td>25</td>\n",
       "    </tr>\n",
       "  </tbody>\n",
       "</table>\n",
       "</div>"
      ],
      "text/plain": [
       "   HEAD  FPGA  TDC_CHANNEL   ORBIT_CNT  BX_COUNTER  TDC_MEAS\n",
       "0     1     0          123  3869200167        2374        26\n",
       "1     1     0          124  3869200167        2374        27\n",
       "2     1     0           63  3869200167        2553        28\n",
       "3     1     0           64  3869200167        2558        19\n",
       "4     1     0           64  3869200167        2760        25"
      ]
     },
     "execution_count": 6,
     "metadata": {},
     "output_type": "execute_result"
    }
   ],
   "source": [
    "N = 1310720\n",
    "data = pd.read_csv('data/data_000637.txt', nrows=N)\n",
    "df = pd.DataFrame(data=data)\n",
    "df.head()"
   ]
  },
  {
   "cell_type": "markdown",
   "metadata": {},
   "source": [
    "2\\. Estimate the number of BX in a ORBIT (the value `x`).\n",
    "\n",
    "*Hint*: check when the BX counter reaches the maximum value before being reset to 0."
   ]
  },
  {
   "cell_type": "code",
   "execution_count": 7,
   "metadata": {},
   "outputs": [
    {
     "name": "stdout",
     "output_type": "stream",
     "text": [
      "number of BX in a ORBIT:  3563\n"
     ]
    }
   ],
   "source": [
    "BX = []\n",
    "\n",
    "for i in range(N-1):\n",
    "    if df.at[i, 'BX_COUNTER'] > df.at[i+1, 'BX_COUNTER'] and df.at[i, 'ORBIT_CNT'] < df.at[i+1, 'ORBIT_CNT']:\n",
    "        if df.at[i+1, 'BX_COUNTER'] == 0:\n",
    "            BX.append(df.at[i, 'BX_COUNTER'])\n",
    "            \n",
    "print(\"number of BX in a ORBIT: \",max(BX))  "
   ]
  },
  {
   "cell_type": "markdown",
   "metadata": {},
   "source": [
    "3\\. Create a new column with the absolute time in ns (as a combination of the other three columns with timing information) since the beginning of the data acquisition, and convert the new column to a Time Series."
   ]
  },
  {
   "cell_type": "code",
   "execution_count": 8,
   "metadata": {},
   "outputs": [
    {
     "name": "stdout",
     "output_type": "stream",
     "text": [
      "begin time: 2022-12-02 13:55:06.530068\n"
     ]
    },
    {
     "data": {
      "text/html": [
       "<div>\n",
       "<style scoped>\n",
       "    .dataframe tbody tr th:only-of-type {\n",
       "        vertical-align: middle;\n",
       "    }\n",
       "\n",
       "    .dataframe tbody tr th {\n",
       "        vertical-align: top;\n",
       "    }\n",
       "\n",
       "    .dataframe thead th {\n",
       "        text-align: right;\n",
       "    }\n",
       "</style>\n",
       "<table border=\"1\" class=\"dataframe\">\n",
       "  <thead>\n",
       "    <tr style=\"text-align: right;\">\n",
       "      <th></th>\n",
       "      <th>HEAD</th>\n",
       "      <th>FPGA</th>\n",
       "      <th>TDC_CHANNEL</th>\n",
       "      <th>ORBIT_CNT</th>\n",
       "      <th>BX_COUNTER</th>\n",
       "      <th>TDC_MEAS</th>\n",
       "      <th>TIME_NS</th>\n",
       "    </tr>\n",
       "  </thead>\n",
       "  <tbody>\n",
       "    <tr>\n",
       "      <th>0</th>\n",
       "      <td>1</td>\n",
       "      <td>0</td>\n",
       "      <td>123</td>\n",
       "      <td>3869200167</td>\n",
       "      <td>2374</td>\n",
       "      <td>26</td>\n",
       "      <td>2022-12-02 13:55:06.530412544</td>\n",
       "    </tr>\n",
       "    <tr>\n",
       "      <th>1</th>\n",
       "      <td>1</td>\n",
       "      <td>0</td>\n",
       "      <td>124</td>\n",
       "      <td>3869200167</td>\n",
       "      <td>2374</td>\n",
       "      <td>27</td>\n",
       "      <td>2022-12-02 13:55:06.530412544</td>\n",
       "    </tr>\n",
       "    <tr>\n",
       "      <th>2</th>\n",
       "      <td>1</td>\n",
       "      <td>0</td>\n",
       "      <td>63</td>\n",
       "      <td>3869200167</td>\n",
       "      <td>2553</td>\n",
       "      <td>28</td>\n",
       "      <td>2022-12-02 13:55:06.530412544</td>\n",
       "    </tr>\n",
       "    <tr>\n",
       "      <th>3</th>\n",
       "      <td>1</td>\n",
       "      <td>0</td>\n",
       "      <td>64</td>\n",
       "      <td>3869200167</td>\n",
       "      <td>2558</td>\n",
       "      <td>19</td>\n",
       "      <td>2022-12-02 13:55:06.530412544</td>\n",
       "    </tr>\n",
       "    <tr>\n",
       "      <th>4</th>\n",
       "      <td>1</td>\n",
       "      <td>0</td>\n",
       "      <td>64</td>\n",
       "      <td>3869200167</td>\n",
       "      <td>2760</td>\n",
       "      <td>25</td>\n",
       "      <td>2022-12-02 13:55:06.530412544</td>\n",
       "    </tr>\n",
       "  </tbody>\n",
       "</table>\n",
       "</div>"
      ],
      "text/plain": [
       "   HEAD  FPGA  TDC_CHANNEL   ORBIT_CNT  BX_COUNTER  TDC_MEAS  \\\n",
       "0     1     0          123  3869200167        2374        26   \n",
       "1     1     0          124  3869200167        2374        27   \n",
       "2     1     0           63  3869200167        2553        28   \n",
       "3     1     0           64  3869200167        2558        19   \n",
       "4     1     0           64  3869200167        2760        25   \n",
       "\n",
       "                        TIME_NS  \n",
       "0 2022-12-02 13:55:06.530412544  \n",
       "1 2022-12-02 13:55:06.530412544  \n",
       "2 2022-12-02 13:55:06.530412544  \n",
       "3 2022-12-02 13:55:06.530412544  \n",
       "4 2022-12-02 13:55:06.530412544  "
      ]
     },
     "execution_count": 8,
     "metadata": {},
     "output_type": "execute_result"
    }
   ],
   "source": [
    "import datetime as dt\n",
    "from datetime import timezone\n",
    "\n",
    "itime = dt.datetime.now()\n",
    "print(\"begin time:\", itime)\n",
    "itime1 = itime.replace(tzinfo=timezone.utc).timestamp()*10**9\n",
    "\n",
    "time_ns = []\n",
    "\n",
    "for i in range(N):\n",
    "    time_ns.append(itime1+(df.at[i, 'ORBIT_CNT']*3563*25+df.at[i, 'BX_COUNTER']*25+df.at[i, 'TDC_MEAS']*25/30)*10**(-9))\n",
    "\n",
    "time_ns = np.array(time_ns)\n",
    "time_ns = pd.Series(time_ns, copy=False)\n",
    "time_ns = pd.to_datetime(time_ns)\n",
    "df['TIME_NS'] = time_ns\n",
    "\n",
    "#ftime = dt.datetime.now()\n",
    "#print(\"End time:\", ftime)\n",
    "#print(\"Elapsed time:\", ftime - itime)\n",
    "\n",
    "df.head()"
   ]
  },
  {
   "cell_type": "markdown",
   "metadata": {},
   "source": [
    "4\\. Find out the duration of the data taking in hours, minutes and seconds, by using the features of the Time Series. Perform this check reading the whole dataset."
   ]
  },
  {
   "cell_type": "code",
   "execution_count": 9,
   "metadata": {},
   "outputs": [
    {
     "data": {
      "text/plain": [
       "0         0 days 00:00:00.000344544\n",
       "1         0 days 00:00:00.000344544\n",
       "2         0 days 00:00:00.000344544\n",
       "3         0 days 00:00:00.000344544\n",
       "4         0 days 00:00:00.000344544\n",
       "                     ...           \n",
       "1310715   0 days 00:00:00.000344544\n",
       "1310716   0 days 00:00:00.000344544\n",
       "1310717   0 days 00:00:00.000344544\n",
       "1310718   0 days 00:00:00.000344544\n",
       "1310719   0 days 00:00:00.000344544\n",
       "Length: 1310720, dtype: timedelta64[ns]"
      ]
     },
     "execution_count": 9,
     "metadata": {},
     "output_type": "execute_result"
    }
   ],
   "source": [
    "tstamp = pd.Timestamp(itime)\n",
    "\n",
    "how_much_time = []\n",
    "\n",
    "for i in range(N):\n",
    "    how_much_time.append(time_ns[i]-tstamp)\n",
    "    \n",
    "how_much_time = np.array(how_much_time)\n",
    "how_much_time = pd.Series(how_much_time, copy=False) \n",
    "\n",
    "how_much_time"
   ]
  },
  {
   "cell_type": "markdown",
   "metadata": {},
   "source": [
    "5\\. Use the `.groupby()` method to find out the noisy channels, i.e. the TDC channels with most counts (print to screen the top 3 and the corresponding counts)"
   ]
  },
  {
   "cell_type": "code",
   "execution_count": 10,
   "metadata": {},
   "outputs": [
    {
     "name": "stdout",
     "output_type": "stream",
     "text": [
      "the noisy channels are, in order:\n",
      " 139 \n",
      " 64 \n",
      " 63\n"
     ]
    }
   ],
   "source": [
    "df1 = df.groupby(\"TDC_CHANNEL\").count()\n",
    "\n",
    "df2 = df1[df1.HEAD == max(df1.HEAD)]\n",
    "df3 = df1[df1.HEAD < max(df1.HEAD)]\n",
    "df4 = df3[df3.HEAD == max(df3.HEAD)]\n",
    "df5 = df3[df3.HEAD < max(df3.HEAD)]\n",
    "df6 = df5[df5.HEAD == max(df5.HEAD)]\n",
    "print(\"the noisy channels are, in order:\\n\",df2.index[0],\"\\n\",df4.index[0],\"\\n\",df6.index[0])\n",
    "#the noisy channels are 139,64,63"
   ]
  },
  {
   "cell_type": "markdown",
   "metadata": {},
   "source": [
    "6\\. Count the number of non-empty orbits (i.e. the number of orbits with at least one hit)."
   ]
  },
  {
   "cell_type": "code",
   "execution_count": 11,
   "metadata": {},
   "outputs": [
    {
     "name": "stdout",
     "output_type": "stream",
     "text": [
      "number of non-empty orbits:  11001\n"
     ]
    }
   ],
   "source": [
    "'''\n",
    "non_empty_ORBITS = 0\n",
    "\n",
    "for i in range(N-1):\n",
    "    if df.at[i, 'BX_COUNTER'] > df.at[i+1, 'BX_COUNTER'] and df.at[i, 'ORBIT_CNT'] < df.at[i+1, 'ORBIT_CNT']:\n",
    "         non_empty_ORBITS += 1\n",
    "\n",
    "print(\"number of non-empty orbits: \",non_empty_ORBITS)\n",
    "'''\n",
    "\n",
    "df7 = df.groupby(\"ORBIT_CNT\", as_index=False).count()\n",
    "print(\"number of non-empty orbits: \",len(df7.index))"
   ]
  },
  {
   "cell_type": "markdown",
   "metadata": {},
   "source": [
    "7\\. Count the number of unique orbits with at least one measurement from TDC_CHANNEL=139."
   ]
  },
  {
   "cell_type": "code",
   "execution_count": 12,
   "metadata": {
    "scrolled": true
   },
   "outputs": [
    {
     "name": "stdout",
     "output_type": "stream",
     "text": [
      "number of unique orbits with at least one measurement from TDC_CHANNEL=139:  10976\n"
     ]
    }
   ],
   "source": [
    "df8 = df.loc[df[\"TDC_CHANNEL\"] == 139]\n",
    "df9 = df8.groupby(\"ORBIT_CNT\",as_index=False).count()\n",
    "\n",
    "print(\"number of unique orbits with at least one measurement from TDC_CHANNEL=139: \",len(df9.index)) "
   ]
  },
  {
   "cell_type": "markdown",
   "metadata": {},
   "source": [
    "8\\. Create two Series (one for each FPGA) that have the TDC channel as index, and the number of counts for the corresponding TDC channel as values."
   ]
  },
  {
   "cell_type": "code",
   "execution_count": 13,
   "metadata": {},
   "outputs": [
    {
     "name": "stdout",
     "output_type": "stream",
     "text": [
      "1    1215\n",
      "2    1602\n",
      "3    1493\n",
      "4    2352\n",
      "5    1432\n",
      "dtype: int64 \n",
      "\n",
      "1    28438\n",
      "2    32669\n",
      "3    21970\n",
      "4    26403\n",
      "5    15003\n",
      "dtype: int64\n"
     ]
    }
   ],
   "source": [
    "df10 = df.loc[df[\"FPGA\"] == 0]   \n",
    "df11 = df.loc[df[\"FPGA\"] == 1]\n",
    "\n",
    "df12 = df10.groupby(\"TDC_CHANNEL\", as_index=False).count()\n",
    "df13 = df11.groupby(\"TDC_CHANNEL\", as_index=False).count()\n",
    "\n",
    "dict2 = {}\n",
    "for i in range(len(df12.index)):\n",
    "    dict2[df12.at[i, \"TDC_CHANNEL\"]] = df12.at[i, \"FPGA\"]\n",
    "\n",
    "dict3 = {}\n",
    "for i in range(len(df13.index)):\n",
    "    dict3[df13.at[i, \"TDC_CHANNEL\"]] = df13.at[i, \"FPGA\"]   \n",
    "\n",
    "Series2 = pd.Series(dict2)\n",
    "Series3 = pd.Series(dict3)\n",
    "print(Series2.head(),\"\\n\")\n",
    "print(Series3.head())"
   ]
  },
  {
   "cell_type": "markdown",
   "metadata": {},
   "source": [
    "9\\. **Optional:** Create two histograms (one for each FPGA) that show the number of counts for each TDC channel."
   ]
  },
  {
   "cell_type": "code",
   "execution_count": null,
   "metadata": {},
   "outputs": [],
   "source": []
  }
 ],
 "metadata": {
  "kernelspec": {
   "display_name": "Python 3 (ipykernel)",
   "language": "python",
   "name": "python3"
  },
  "language_info": {
   "codemirror_mode": {
    "name": "ipython",
    "version": 3
   },
   "file_extension": ".py",
   "mimetype": "text/x-python",
   "name": "python",
   "nbconvert_exporter": "python",
   "pygments_lexer": "ipython3",
   "version": "3.10.8"
  }
 },
 "nbformat": 4,
 "nbformat_minor": 2
}
