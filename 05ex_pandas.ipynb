{
 "cells": [
  {
   "cell_type": "markdown",
   "metadata": {},
   "source": [
    "1\\. **Pandas DataFrame**\n",
    "\n",
    "This exercise consists in analyzing a dataset containg timing information from a series of Time-to-Digital-Converters (TDC) implemented in a pair of FPGAs. Each measurement (i.e. each row of the input file) consists of a flag that specifies the type of message ('HEAD', which in this case is always 1), two addresses of the TDC providing the signal ('FPGA' and 'TDC_CHANNEL'), and the timing information ('ORBIT_CNT', 'BX_COUNTER', and 'TDC_MEAS'). Each TDC count corresponds to 25/30 ns, whereas a unit of BX_COUNTER corresponds to 25 ns, and the ORBIT_CNT is increased every `x` BX_COUNTER. This allows to store the time in a similar way to hours, minutes and seconds."
   ]
  },
  {
   "cell_type": "code",
   "execution_count": 1,
   "metadata": {},
   "outputs": [],
   "source": [
    "# If haven't downloaded it yet, please get the data file with wget\n",
    "# ! wget https://www.dropbox.com/s/xvjzaxzz3ysphme/data_000637.txt -P ./data/\n",
    "# ! pip3 install pandas\n",
    "import pandas as pd"
   ]
  },
  {
   "cell_type": "markdown",
   "metadata": {},
   "source": [
    "1\\. Create a Pandas DataFrame reading N rows of the `data/data_000637.txt` dataset. Choose N to be smaller than or equal to the maximum number of rows and larger that 10k (check the documentation)."
   ]
  },
  {
   "cell_type": "code",
   "execution_count": 2,
   "metadata": {},
   "outputs": [
    {
     "name": "stdout",
     "output_type": "stream",
     "text": [
      "       HEAD  FPGA  TDC_CHANNEL   ORBIT_CNT  BX_COUNTER  TDC_MEAS\n",
      "0         1     0          123  3869200167        2374        26\n",
      "1         1     0          124  3869200167        2374        27\n",
      "2         1     0           63  3869200167        2553        28\n",
      "3         1     0           64  3869200167        2558        19\n",
      "4         1     0           64  3869200167        2760        25\n",
      "...     ...   ...          ...         ...         ...       ...\n",
      "11995     1     0          139  3869200286        3251         0\n",
      "11996     1     0           62  3869200286        3246         4\n",
      "11997     1     0           58  3869200286        3246        11\n",
      "11998     1     0           61  3869200286        3251        17\n",
      "11999     1     0           59  3869200286        3248        16\n",
      "\n",
      "[12000 rows x 6 columns]\n"
     ]
    }
   ],
   "source": [
    "# Part 1.\n",
    "max_N = sum(1 for line in open('data/data_000637.txt'))\n",
    "N = 12000\n",
    "if N <= max_N and N > 10000:\n",
    "    data = pd.read_csv('data/data_000637.txt', nrows=N)\n",
    "    print(data)\n",
    "else:\n",
    "    print(\"Choose a suitable N value\")"
   ]
  },
  {
   "cell_type": "markdown",
   "metadata": {},
   "source": [
    "2\\. Estimate the number of BX in a ORBIT (the value `x`).\n",
    "\n",
    "*Hint*: check when the BX counter reaches the maximum value before being reset to 0."
   ]
  },
  {
   "cell_type": "code",
   "execution_count": 3,
   "metadata": {},
   "outputs": [
    {
     "name": "stdout",
     "output_type": "stream",
     "text": [
      "Estimated number of BX in a ORBIT: 3564\n"
     ]
    }
   ],
   "source": [
    "# Part 2.\n",
    "# Get BX_COUNTER columns\n",
    "data_bx = data['BX_COUNTER']\n",
    "\n",
    "# After the maximum value it should reset to 0\n",
    "estimated_bx = max(data_bx) + 1\n",
    "print(\"Estimated number of BX in a ORBIT:\", estimated_bx)"
   ]
  },
  {
   "cell_type": "markdown",
   "metadata": {},
   "source": [
    "3\\. Create a new column with the absolute time in ns (as a combination of the other three columns with timing information) since the beginning of the data acquisition, and convert the new column to a Time Series."
   ]
  },
  {
   "cell_type": "code",
   "execution_count": 4,
   "metadata": {},
   "outputs": [
    {
     "name": "stdout",
     "output_type": "stream",
     "text": [
      "       HEAD  FPGA  TDC_CHANNEL   ORBIT_CNT  BX_COUNTER  TDC_MEAS   ABS_TIME_NS\n",
      "0         1     0          123  3869200167        2374        26  3.447457e+14\n",
      "1         1     0          124  3869200167        2374        27  3.447457e+14\n",
      "2         1     0           63  3869200167        2553        28  3.447457e+14\n",
      "3         1     0           64  3869200167        2558        19  3.447457e+14\n",
      "4         1     0           64  3869200167        2760        25  3.447457e+14\n",
      "...     ...   ...          ...         ...         ...       ...           ...\n",
      "11995     1     0          139  3869200286        3251         0  3.447457e+14\n",
      "11996     1     0           62  3869200286        3246         4  3.447457e+14\n",
      "11997     1     0           58  3869200286        3246        11  3.447457e+14\n",
      "11998     1     0           61  3869200286        3251        17  3.447457e+14\n",
      "11999     1     0           59  3869200286        3248        16  3.447457e+14\n",
      "\n",
      "[12000 rows x 7 columns]\n"
     ]
    }
   ],
   "source": [
    "# Part 3.\n",
    "# Some defitinions that are given\n",
    "tdc_count = 25 / 30\n",
    "unit_of_bx_counter = 25\n",
    "# Calculating the absolute time in ns\n",
    "data[\"ABS_TIME_NS\"] = data['TDC_MEAS'] * (tdc_count) + data['BX_COUNTER'] * unit_of_bx_counter + data['ORBIT_CNT'] * estimated_bx * unit_of_bx_counter\n",
    "print(data)"
   ]
  },
  {
   "cell_type": "markdown",
   "metadata": {},
   "source": [
    "4\\. Find out the duration of the data taking in hours, minutes and seconds, by using the features of the Time Series. Perform this check reading the whole dataset."
   ]
  },
  {
   "cell_type": "code",
   "execution_count": 5,
   "metadata": {},
   "outputs": [
    {
     "name": "stdout",
     "output_type": "stream",
     "text": [
      "Begin time: 2022-12-02 17:55:27.909378\n",
      "End time: 2022-12-02 17:55:27.910316\n",
      "Elapsed time: 0:00:00.000938\n"
     ]
    }
   ],
   "source": [
    "# Part 4.\n",
    "import datetime as dt\n",
    "\n",
    "# Some given definitions\n",
    "tdc_count = 25 / 30\n",
    "unit_of_bx_counter = 25\n",
    "\n",
    "# Starting the measure the duration\n",
    "begin_time = dt.datetime.now()\n",
    "print(\"Begin time:\", begin_time)\n",
    "\n",
    "# Calculating the time according to the explanation at the beginning of the assignment\n",
    "time =  data['TDC_MEAS'] * (tdc_count) + data['BX_COUNTER'] * unit_of_bx_counter + data['ORBIT_CNT'] * estimated_bx * unit_of_bx_counter\n",
    "\n",
    "end_time = dt.datetime.now()\n",
    "print(\"End time:\", end_time)\n",
    "# Calculating the duration and printing\n",
    "print(\"Elapsed time:\", (end_time - begin_time))"
   ]
  },
  {
   "cell_type": "markdown",
   "metadata": {},
   "source": [
    "5\\. Use the `.groupby()` method to find out the noisy channels, i.e. the TDC channels with most counts (print to screen the top 3 and the corresponding counts)"
   ]
  },
  {
   "cell_type": "code",
   "execution_count": 6,
   "metadata": {},
   "outputs": [
    {
     "name": "stdout",
     "output_type": "stream",
     "text": [
      "             HEAD  FPGA      ORBIT_CNT  BX_COUNTER  TDC_MEAS   ABS_TIME_NS\n",
      "TDC_CHANNEL                                                               \n",
      "63            600     4  2321520136839     1111114      9033  2.068474e+17\n",
      "64            609    15  2356342939847     1136672      8774  2.099502e+17\n",
      "139          1025   315  3965930231950     1815251         0  3.533644e+17\n"
     ]
    }
   ],
   "source": [
    "# Part 5.\n",
    "noisy_channels = data.groupby('TDC_CHANNEL').sum().sort_values(by = ['HEAD']).iloc[-3:]\n",
    "print(noisy_channels)"
   ]
  },
  {
   "cell_type": "markdown",
   "metadata": {},
   "source": [
    "6\\. Count the number of non-empty orbits (i.e. the number of orbits with at least one hit)."
   ]
  },
  {
   "cell_type": "code",
   "execution_count": 7,
   "metadata": {},
   "outputs": [
    {
     "name": "stdout",
     "output_type": "stream",
     "text": [
      "Number of orbits with at least one hit: 120\n"
     ]
    }
   ],
   "source": [
    "# Part 6.\n",
    "non_empty = data['ORBIT_CNT'].nunique()\n",
    "print('Number of orbits with at least one hit:', non_empty)"
   ]
  },
  {
   "cell_type": "markdown",
   "metadata": {},
   "source": [
    "7\\. Count the number of unique orbits with at least one measurement from TDC_CHANNEL=139."
   ]
  },
  {
   "cell_type": "code",
   "execution_count": 8,
   "metadata": {},
   "outputs": [
    {
     "name": "stdout",
     "output_type": "stream",
     "text": [
      "Unique orbits with at least one measurement from TDC_CHANNEL=139 120\n"
     ]
    }
   ],
   "source": [
    "# Part 7.\n",
    "df = data[data['TDC_CHANNEL'] == 139]\n",
    "num_unique = df['ORBIT_CNT'].nunique()\n",
    "print('Unique orbits with at least one measurement from TDC_CHANNEL=139', num_unique)"
   ]
  },
  {
   "cell_type": "markdown",
   "metadata": {},
   "source": [
    "8\\. Create two Series (one for each FPGA) that have the TDC channel as index, and the number of counts for the corresponding TDC channel as values."
   ]
  },
  {
   "cell_type": "code",
   "execution_count": 9,
   "metadata": {},
   "outputs": [
    {
     "name": "stdout",
     "output_type": "stream",
     "text": [
      "First FPGA Serie:\n",
      " 139    710\n",
      "63     596\n",
      "64     594\n",
      "61     448\n",
      "62     423\n",
      "      ... \n",
      "97       4\n",
      "101      3\n",
      "106      3\n",
      "99       2\n",
      "98       2\n",
      "Name: TDC_CHANNEL, Length: 117, dtype: int64\n",
      "Second FPGA Serie:\n",
      " 139    315\n",
      "2      296\n",
      "1      270\n",
      "4      243\n",
      "3      229\n",
      "      ... \n",
      "79       1\n",
      "126      1\n",
      "9        1\n",
      "78       1\n",
      "85       1\n",
      "Name: TDC_CHANNEL, Length: 118, dtype: int64\n"
     ]
    }
   ],
   "source": [
    "# Part 8.\n",
    "# Creating two series (one for each FPGA) that have the TDC channel as index, with the counts of corresponding TDC channel as values\n",
    "fpga_series_1 = pd.Series(data[data['FPGA'] == 0]['TDC_CHANNEL'].value_counts())\n",
    "fpga_series_2 = pd.Series(data[data['FPGA'] == 1]['TDC_CHANNEL'].value_counts())\n",
    "\n",
    "print('First FPGA Serie:\\n', fpga_series_1)\n",
    "print('Second FPGA Serie:\\n', fpga_series_2)"
   ]
  },
  {
   "cell_type": "markdown",
   "metadata": {},
   "source": [
    "9\\. **Optional:** Create two histograms (one for each FPGA) that show the number of counts for each TDC channel."
   ]
  },
  {
   "cell_type": "code",
   "execution_count": null,
   "metadata": {},
   "outputs": [],
   "source": []
  }
 ],
 "metadata": {
  "kernelspec": {
   "display_name": "Python 3.10.8 64-bit",
   "language": "python",
   "name": "python3"
  },
  "language_info": {
   "codemirror_mode": {
    "name": "ipython",
    "version": 3
   },
   "file_extension": ".py",
   "mimetype": "text/x-python",
   "name": "python",
   "nbconvert_exporter": "python",
   "pygments_lexer": "ipython3",
   "version": "3.10.8"
  },
  "vscode": {
   "interpreter": {
    "hash": "b0fa6594d8f4cbf19f97940f81e996739fb7646882a419484c72d19e05852a7e"
   }
  }
 },
 "nbformat": 4,
 "nbformat_minor": 2
}
