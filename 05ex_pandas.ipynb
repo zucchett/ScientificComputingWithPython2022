{
  "nbformat": 4,
  "nbformat_minor": 0,
  "metadata": {
    "colab": {
      "provenance": []
    },
    "kernelspec": {
      "name": "python3",
      "display_name": "Python 3"
    },
    "language_info": {
      "name": "python"
    }
  },
  "cells": [
    {
      "cell_type": "code",
      "execution_count": 2,
      "metadata": {
        "id": "dyKNaC-_zu6w"
      },
      "outputs": [],
      "source": [
        "import numpy as np\n",
        "import pandas as pd\n",
        "import  datetime as dt\n"
      ]
    },
    {
      "cell_type": "code",
      "source": [
        "!wget https://www.dropbox.com/s/xvjzaxzz3ysphme/data_000637.txt -P ./data/"
      ],
      "metadata": {
        "colab": {
          "base_uri": "https://localhost:8080/"
        },
        "id": "BKsiV5h0z8-j",
        "outputId": "4a38d1a7-2312-4dd7-9b23-e912fa5a777b"
      },
      "execution_count": 3,
      "outputs": [
        {
          "output_type": "stream",
          "name": "stdout",
          "text": [
            "--2022-12-01 16:36:35--  https://www.dropbox.com/s/xvjzaxzz3ysphme/data_000637.txt\n",
            "Resolving www.dropbox.com (www.dropbox.com)... 162.125.80.18, 2620:100:6035:18::a27d:5512\n",
            "Connecting to www.dropbox.com (www.dropbox.com)|162.125.80.18|:443... connected.\n",
            "HTTP request sent, awaiting response... 302 Found\n",
            "Location: /s/raw/xvjzaxzz3ysphme/data_000637.txt [following]\n",
            "--2022-12-01 16:36:35--  https://www.dropbox.com/s/raw/xvjzaxzz3ysphme/data_000637.txt\n",
            "Reusing existing connection to www.dropbox.com:443.\n",
            "HTTP request sent, awaiting response... 302 Found\n",
            "Location: https://uc387eaf0f22f30c91e1f55f6e0d.dl.dropboxusercontent.com/cd/0/inline/BxyxvUwwLzYoGjBC-ub-FXp3_kH3B0YUxjffHLpcjE0Q--vUSldl2mnlJL9WoqM12wpEQ5kyUlCKIVXIqYPB-atX7cvM8f9U85d3zYvkgiilKlp8IOK6ktvouN3GZuz_du7oC4nMwI55J2wF-wFd50WitjLEHu-eLjkX4iSyWMLMdw/file# [following]\n",
            "--2022-12-01 16:36:36--  https://uc387eaf0f22f30c91e1f55f6e0d.dl.dropboxusercontent.com/cd/0/inline/BxyxvUwwLzYoGjBC-ub-FXp3_kH3B0YUxjffHLpcjE0Q--vUSldl2mnlJL9WoqM12wpEQ5kyUlCKIVXIqYPB-atX7cvM8f9U85d3zYvkgiilKlp8IOK6ktvouN3GZuz_du7oC4nMwI55J2wF-wFd50WitjLEHu-eLjkX4iSyWMLMdw/file\n",
            "Resolving uc387eaf0f22f30c91e1f55f6e0d.dl.dropboxusercontent.com (uc387eaf0f22f30c91e1f55f6e0d.dl.dropboxusercontent.com)... 162.125.81.15, 2620:100:6031:15::a27d:510f\n",
            "Connecting to uc387eaf0f22f30c91e1f55f6e0d.dl.dropboxusercontent.com (uc387eaf0f22f30c91e1f55f6e0d.dl.dropboxusercontent.com)|162.125.81.15|:443... connected.\n",
            "HTTP request sent, awaiting response... 200 OK\n",
            "Length: 33179236 (32M) [text/plain]\n",
            "Saving to: ‘./data/data_000637.txt’\n",
            "\n",
            "data_000637.txt     100%[===================>]  31.64M  12.8MB/s    in 2.5s    \n",
            "\n",
            "2022-12-01 16:36:39 (12.8 MB/s) - ‘./data/data_000637.txt’ saved [33179236/33179236]\n",
            "\n"
          ]
        }
      ]
    },
    {
      "cell_type": "code",
      "source": [
        "file_name = \"./data/data_000637.txt\"\n",
        "data = pd.read_csv(file_name)\n",
        "data\n"
      ],
      "metadata": {
        "colab": {
          "base_uri": "https://localhost:8080/",
          "height": 424
        },
        "id": "KvyQbHIW1MQ4",
        "outputId": "6c236d47-e1db-4916-cd16-87aa884fd76b"
      },
      "execution_count": 4,
      "outputs": [
        {
          "output_type": "execute_result",
          "data": {
            "text/plain": [
              "         HEAD  FPGA  TDC_CHANNEL   ORBIT_CNT  BX_COUNTER  TDC_MEAS\n",
              "0           1     0          123  3869200167        2374        26\n",
              "1           1     0          124  3869200167        2374        27\n",
              "2           1     0           63  3869200167        2553        28\n",
              "3           1     0           64  3869200167        2558        19\n",
              "4           1     0           64  3869200167        2760        25\n",
              "...       ...   ...          ...         ...         ...       ...\n",
              "1310715     1     0           62  3869211171         762        14\n",
              "1310716     1     1            4  3869211171         763        11\n",
              "1310717     1     0           64  3869211171         764         0\n",
              "1310718     1     0          139  3869211171         769         0\n",
              "1310719     1     0           61  3869211171         762        18\n",
              "\n",
              "[1310720 rows x 6 columns]"
            ],
            "text/html": [
              "\n",
              "  <div id=\"df-cf7c6c20-edaf-4154-878c-6aac1256783e\">\n",
              "    <div class=\"colab-df-container\">\n",
              "      <div>\n",
              "<style scoped>\n",
              "    .dataframe tbody tr th:only-of-type {\n",
              "        vertical-align: middle;\n",
              "    }\n",
              "\n",
              "    .dataframe tbody tr th {\n",
              "        vertical-align: top;\n",
              "    }\n",
              "\n",
              "    .dataframe thead th {\n",
              "        text-align: right;\n",
              "    }\n",
              "</style>\n",
              "<table border=\"1\" class=\"dataframe\">\n",
              "  <thead>\n",
              "    <tr style=\"text-align: right;\">\n",
              "      <th></th>\n",
              "      <th>HEAD</th>\n",
              "      <th>FPGA</th>\n",
              "      <th>TDC_CHANNEL</th>\n",
              "      <th>ORBIT_CNT</th>\n",
              "      <th>BX_COUNTER</th>\n",
              "      <th>TDC_MEAS</th>\n",
              "    </tr>\n",
              "  </thead>\n",
              "  <tbody>\n",
              "    <tr>\n",
              "      <th>0</th>\n",
              "      <td>1</td>\n",
              "      <td>0</td>\n",
              "      <td>123</td>\n",
              "      <td>3869200167</td>\n",
              "      <td>2374</td>\n",
              "      <td>26</td>\n",
              "    </tr>\n",
              "    <tr>\n",
              "      <th>1</th>\n",
              "      <td>1</td>\n",
              "      <td>0</td>\n",
              "      <td>124</td>\n",
              "      <td>3869200167</td>\n",
              "      <td>2374</td>\n",
              "      <td>27</td>\n",
              "    </tr>\n",
              "    <tr>\n",
              "      <th>2</th>\n",
              "      <td>1</td>\n",
              "      <td>0</td>\n",
              "      <td>63</td>\n",
              "      <td>3869200167</td>\n",
              "      <td>2553</td>\n",
              "      <td>28</td>\n",
              "    </tr>\n",
              "    <tr>\n",
              "      <th>3</th>\n",
              "      <td>1</td>\n",
              "      <td>0</td>\n",
              "      <td>64</td>\n",
              "      <td>3869200167</td>\n",
              "      <td>2558</td>\n",
              "      <td>19</td>\n",
              "    </tr>\n",
              "    <tr>\n",
              "      <th>4</th>\n",
              "      <td>1</td>\n",
              "      <td>0</td>\n",
              "      <td>64</td>\n",
              "      <td>3869200167</td>\n",
              "      <td>2760</td>\n",
              "      <td>25</td>\n",
              "    </tr>\n",
              "    <tr>\n",
              "      <th>...</th>\n",
              "      <td>...</td>\n",
              "      <td>...</td>\n",
              "      <td>...</td>\n",
              "      <td>...</td>\n",
              "      <td>...</td>\n",
              "      <td>...</td>\n",
              "    </tr>\n",
              "    <tr>\n",
              "      <th>1310715</th>\n",
              "      <td>1</td>\n",
              "      <td>0</td>\n",
              "      <td>62</td>\n",
              "      <td>3869211171</td>\n",
              "      <td>762</td>\n",
              "      <td>14</td>\n",
              "    </tr>\n",
              "    <tr>\n",
              "      <th>1310716</th>\n",
              "      <td>1</td>\n",
              "      <td>1</td>\n",
              "      <td>4</td>\n",
              "      <td>3869211171</td>\n",
              "      <td>763</td>\n",
              "      <td>11</td>\n",
              "    </tr>\n",
              "    <tr>\n",
              "      <th>1310717</th>\n",
              "      <td>1</td>\n",
              "      <td>0</td>\n",
              "      <td>64</td>\n",
              "      <td>3869211171</td>\n",
              "      <td>764</td>\n",
              "      <td>0</td>\n",
              "    </tr>\n",
              "    <tr>\n",
              "      <th>1310718</th>\n",
              "      <td>1</td>\n",
              "      <td>0</td>\n",
              "      <td>139</td>\n",
              "      <td>3869211171</td>\n",
              "      <td>769</td>\n",
              "      <td>0</td>\n",
              "    </tr>\n",
              "    <tr>\n",
              "      <th>1310719</th>\n",
              "      <td>1</td>\n",
              "      <td>0</td>\n",
              "      <td>61</td>\n",
              "      <td>3869211171</td>\n",
              "      <td>762</td>\n",
              "      <td>18</td>\n",
              "    </tr>\n",
              "  </tbody>\n",
              "</table>\n",
              "<p>1310720 rows × 6 columns</p>\n",
              "</div>\n",
              "      <button class=\"colab-df-convert\" onclick=\"convertToInteractive('df-cf7c6c20-edaf-4154-878c-6aac1256783e')\"\n",
              "              title=\"Convert this dataframe to an interactive table.\"\n",
              "              style=\"display:none;\">\n",
              "        \n",
              "  <svg xmlns=\"http://www.w3.org/2000/svg\" height=\"24px\"viewBox=\"0 0 24 24\"\n",
              "       width=\"24px\">\n",
              "    <path d=\"M0 0h24v24H0V0z\" fill=\"none\"/>\n",
              "    <path d=\"M18.56 5.44l.94 2.06.94-2.06 2.06-.94-2.06-.94-.94-2.06-.94 2.06-2.06.94zm-11 1L8.5 8.5l.94-2.06 2.06-.94-2.06-.94L8.5 2.5l-.94 2.06-2.06.94zm10 10l.94 2.06.94-2.06 2.06-.94-2.06-.94-.94-2.06-.94 2.06-2.06.94z\"/><path d=\"M17.41 7.96l-1.37-1.37c-.4-.4-.92-.59-1.43-.59-.52 0-1.04.2-1.43.59L10.3 9.45l-7.72 7.72c-.78.78-.78 2.05 0 2.83L4 21.41c.39.39.9.59 1.41.59.51 0 1.02-.2 1.41-.59l7.78-7.78 2.81-2.81c.8-.78.8-2.07 0-2.86zM5.41 20L4 18.59l7.72-7.72 1.47 1.35L5.41 20z\"/>\n",
              "  </svg>\n",
              "      </button>\n",
              "      \n",
              "  <style>\n",
              "    .colab-df-container {\n",
              "      display:flex;\n",
              "      flex-wrap:wrap;\n",
              "      gap: 12px;\n",
              "    }\n",
              "\n",
              "    .colab-df-convert {\n",
              "      background-color: #E8F0FE;\n",
              "      border: none;\n",
              "      border-radius: 50%;\n",
              "      cursor: pointer;\n",
              "      display: none;\n",
              "      fill: #1967D2;\n",
              "      height: 32px;\n",
              "      padding: 0 0 0 0;\n",
              "      width: 32px;\n",
              "    }\n",
              "\n",
              "    .colab-df-convert:hover {\n",
              "      background-color: #E2EBFA;\n",
              "      box-shadow: 0px 1px 2px rgba(60, 64, 67, 0.3), 0px 1px 3px 1px rgba(60, 64, 67, 0.15);\n",
              "      fill: #174EA6;\n",
              "    }\n",
              "\n",
              "    [theme=dark] .colab-df-convert {\n",
              "      background-color: #3B4455;\n",
              "      fill: #D2E3FC;\n",
              "    }\n",
              "\n",
              "    [theme=dark] .colab-df-convert:hover {\n",
              "      background-color: #434B5C;\n",
              "      box-shadow: 0px 1px 3px 1px rgba(0, 0, 0, 0.15);\n",
              "      filter: drop-shadow(0px 1px 2px rgba(0, 0, 0, 0.3));\n",
              "      fill: #FFFFFF;\n",
              "    }\n",
              "  </style>\n",
              "\n",
              "      <script>\n",
              "        const buttonEl =\n",
              "          document.querySelector('#df-cf7c6c20-edaf-4154-878c-6aac1256783e button.colab-df-convert');\n",
              "        buttonEl.style.display =\n",
              "          google.colab.kernel.accessAllowed ? 'block' : 'none';\n",
              "\n",
              "        async function convertToInteractive(key) {\n",
              "          const element = document.querySelector('#df-cf7c6c20-edaf-4154-878c-6aac1256783e');\n",
              "          const dataTable =\n",
              "            await google.colab.kernel.invokeFunction('convertToInteractive',\n",
              "                                                     [key], {});\n",
              "          if (!dataTable) return;\n",
              "\n",
              "          const docLinkHtml = 'Like what you see? Visit the ' +\n",
              "            '<a target=\"_blank\" href=https://colab.research.google.com/notebooks/data_table.ipynb>data table notebook</a>'\n",
              "            + ' to learn more about interactive tables.';\n",
              "          element.innerHTML = '';\n",
              "          dataTable['output_type'] = 'display_data';\n",
              "          await google.colab.output.renderOutput(dataTable, element);\n",
              "          const docLink = document.createElement('div');\n",
              "          docLink.innerHTML = docLinkHtml;\n",
              "          element.appendChild(docLink);\n",
              "        }\n",
              "      </script>\n",
              "    </div>\n",
              "  </div>\n",
              "  "
            ]
          },
          "metadata": {},
          "execution_count": 4
        }
      ]
    },
    {
      "cell_type": "markdown",
      "source": [
        "1. Create a Pandas DataFrame reading N rows of the data/data_000637.txt dataset. Choose N to be smaller than or equal to the maximum number of rows and larger that 10k (check the documentation)."
      ],
      "metadata": {
        "id": "pTZsBv2YWNOq"
      }
    },
    {
      "cell_type": "markdown",
      "source": [
        "ex 1\n",
        "the maximum number of rows "
      ],
      "metadata": {
        "id": "GzMhPGZmVIyp"
      }
    },
    {
      "cell_type": "code",
      "source": [
        "print(len(data))\n",
        "print(data.shape)\n",
        "print(data.axes[0])"
      ],
      "metadata": {
        "colab": {
          "base_uri": "https://localhost:8080/"
        },
        "id": "lZKf7AC0Nt2W",
        "outputId": "3cf61914-c617-4c49-a699-f19a8b6c7f79"
      },
      "execution_count": 5,
      "outputs": [
        {
          "output_type": "stream",
          "name": "stdout",
          "text": [
            "1310720\n",
            "(1310720, 6)\n",
            "RangeIndex(start=0, stop=1310720, step=1)\n"
          ]
        }
      ]
    },
    {
      "cell_type": "markdown",
      "source": [
        " we choose n to be smaller than 1310720 and larger than 10000, so we choose 999999"
      ],
      "metadata": {
        "id": "th_q8sr5VNnu"
      }
    },
    {
      "cell_type": "code",
      "source": [
        "df=data.sample(n=999999)\n",
        "df.shape"
      ],
      "metadata": {
        "colab": {
          "base_uri": "https://localhost:8080/"
        },
        "id": "o2woCCzHVvML",
        "outputId": "920591df-d7c0-4245-c783-ebc69391dc76"
      },
      "execution_count": 6,
      "outputs": [
        {
          "output_type": "execute_result",
          "data": {
            "text/plain": [
              "(999999, 6)"
            ]
          },
          "metadata": {},
          "execution_count": 6
        }
      ]
    },
    {
      "cell_type": "markdown",
      "source": [
        "2. Estimate the number of BX in a ORBIT (the value x).\n",
        "Hint: check when the BX counter reaches the maximum value before being reset to 0."
      ],
      "metadata": {
        "id": "_M-rPwVVWWtE"
      }
    },
    {
      "cell_type": "code",
      "source": [
        "max=df[\"BX_COUNTER\"].max()\n",
        "min=df['BX_COUNTER'].min()\n",
        "print(max)\n",
        "print(min)"
      ],
      "metadata": {
        "colab": {
          "base_uri": "https://localhost:8080/"
        },
        "id": "IoNtf2KpWYx8",
        "outputId": "4fe5d117-4a34-4523-ff22-73168ce9a0c5"
      },
      "execution_count": 7,
      "outputs": [
        {
          "output_type": "stream",
          "name": "stdout",
          "text": [
            "3563\n",
            "0\n"
          ]
        }
      ]
    },
    {
      "cell_type": "markdown",
      "source": [
        "so, the maximum number in 'BX_COUNTER' column is 3563 so after that it reaches at minimum which is zero\n",
        "so each orbit is 3653 of BX."
      ],
      "metadata": {
        "id": "TplGWW0o1HB2"
      }
    },
    {
      "cell_type": "markdown",
      "source": [
        "3. Create a new column with the absolute time in ns (as a combination of the other three columns with timing information) since the beginning of the data acquisition, and convert the new column to a Time Series."
      ],
      "metadata": {
        "id": "_r4KNlTb2hYB"
      }
    },
    {
      "cell_type": "code",
      "source": [
        "print(25/30)\n",
        "t=25/30\n",
        "s=25*3563\n",
        "df['newcolumn']=(df['TDC_MEAS']*t)+(df['BX_COUNTER']*25)+(df['ORBIT_CNT']*s)\n",
        "df\n"
      ],
      "metadata": {
        "colab": {
          "base_uri": "https://localhost:8080/",
          "height": 442
        },
        "id": "KF0Oi5E_2kbJ",
        "outputId": "b69aaa25-508b-4939-a2e6-86ae4f68ea43"
      },
      "execution_count": 8,
      "outputs": [
        {
          "output_type": "stream",
          "name": "stdout",
          "text": [
            "0.8333333333333334\n"
          ]
        },
        {
          "output_type": "execute_result",
          "data": {
            "text/plain": [
              "         HEAD  FPGA  TDC_CHANNEL   ORBIT_CNT  BX_COUNTER  TDC_MEAS  \\\n",
              "875299      1     0           64  3869208178        3521        13   \n",
              "1185634     1     0          139  3869210326        3406         0   \n",
              "213385      1     1            3  3869202291        1710        12   \n",
              "195734      1     1            4  3869202114        3000        12   \n",
              "225940      1     0          123  3869202415        2776         4   \n",
              "...       ...   ...          ...         ...         ...       ...   \n",
              "146815      1     0           56  3869201628        2426         9   \n",
              "441810      1     0            2  3869204621        1900        24   \n",
              "14806       1     0           64  3869200315        1339        10   \n",
              "951655      1     0           64  3869208705         641        13   \n",
              "632544      1     1           64  3869206531        2699        11   \n",
              "\n",
              "            newcolumn  \n",
              "875299   3.446497e+14  \n",
              "1185634  3.446499e+14  \n",
              "213385   3.446492e+14  \n",
              "195734   3.446492e+14  \n",
              "225940   3.446492e+14  \n",
              "...               ...  \n",
              "146815   3.446491e+14  \n",
              "441810   3.446494e+14  \n",
              "14806    3.446490e+14  \n",
              "951655   3.446498e+14  \n",
              "632544   3.446496e+14  \n",
              "\n",
              "[999999 rows x 7 columns]"
            ],
            "text/html": [
              "\n",
              "  <div id=\"df-4b973722-6479-4da4-b984-40f8f0bdc1eb\">\n",
              "    <div class=\"colab-df-container\">\n",
              "      <div>\n",
              "<style scoped>\n",
              "    .dataframe tbody tr th:only-of-type {\n",
              "        vertical-align: middle;\n",
              "    }\n",
              "\n",
              "    .dataframe tbody tr th {\n",
              "        vertical-align: top;\n",
              "    }\n",
              "\n",
              "    .dataframe thead th {\n",
              "        text-align: right;\n",
              "    }\n",
              "</style>\n",
              "<table border=\"1\" class=\"dataframe\">\n",
              "  <thead>\n",
              "    <tr style=\"text-align: right;\">\n",
              "      <th></th>\n",
              "      <th>HEAD</th>\n",
              "      <th>FPGA</th>\n",
              "      <th>TDC_CHANNEL</th>\n",
              "      <th>ORBIT_CNT</th>\n",
              "      <th>BX_COUNTER</th>\n",
              "      <th>TDC_MEAS</th>\n",
              "      <th>newcolumn</th>\n",
              "    </tr>\n",
              "  </thead>\n",
              "  <tbody>\n",
              "    <tr>\n",
              "      <th>875299</th>\n",
              "      <td>1</td>\n",
              "      <td>0</td>\n",
              "      <td>64</td>\n",
              "      <td>3869208178</td>\n",
              "      <td>3521</td>\n",
              "      <td>13</td>\n",
              "      <td>3.446497e+14</td>\n",
              "    </tr>\n",
              "    <tr>\n",
              "      <th>1185634</th>\n",
              "      <td>1</td>\n",
              "      <td>0</td>\n",
              "      <td>139</td>\n",
              "      <td>3869210326</td>\n",
              "      <td>3406</td>\n",
              "      <td>0</td>\n",
              "      <td>3.446499e+14</td>\n",
              "    </tr>\n",
              "    <tr>\n",
              "      <th>213385</th>\n",
              "      <td>1</td>\n",
              "      <td>1</td>\n",
              "      <td>3</td>\n",
              "      <td>3869202291</td>\n",
              "      <td>1710</td>\n",
              "      <td>12</td>\n",
              "      <td>3.446492e+14</td>\n",
              "    </tr>\n",
              "    <tr>\n",
              "      <th>195734</th>\n",
              "      <td>1</td>\n",
              "      <td>1</td>\n",
              "      <td>4</td>\n",
              "      <td>3869202114</td>\n",
              "      <td>3000</td>\n",
              "      <td>12</td>\n",
              "      <td>3.446492e+14</td>\n",
              "    </tr>\n",
              "    <tr>\n",
              "      <th>225940</th>\n",
              "      <td>1</td>\n",
              "      <td>0</td>\n",
              "      <td>123</td>\n",
              "      <td>3869202415</td>\n",
              "      <td>2776</td>\n",
              "      <td>4</td>\n",
              "      <td>3.446492e+14</td>\n",
              "    </tr>\n",
              "    <tr>\n",
              "      <th>...</th>\n",
              "      <td>...</td>\n",
              "      <td>...</td>\n",
              "      <td>...</td>\n",
              "      <td>...</td>\n",
              "      <td>...</td>\n",
              "      <td>...</td>\n",
              "      <td>...</td>\n",
              "    </tr>\n",
              "    <tr>\n",
              "      <th>146815</th>\n",
              "      <td>1</td>\n",
              "      <td>0</td>\n",
              "      <td>56</td>\n",
              "      <td>3869201628</td>\n",
              "      <td>2426</td>\n",
              "      <td>9</td>\n",
              "      <td>3.446491e+14</td>\n",
              "    </tr>\n",
              "    <tr>\n",
              "      <th>441810</th>\n",
              "      <td>1</td>\n",
              "      <td>0</td>\n",
              "      <td>2</td>\n",
              "      <td>3869204621</td>\n",
              "      <td>1900</td>\n",
              "      <td>24</td>\n",
              "      <td>3.446494e+14</td>\n",
              "    </tr>\n",
              "    <tr>\n",
              "      <th>14806</th>\n",
              "      <td>1</td>\n",
              "      <td>0</td>\n",
              "      <td>64</td>\n",
              "      <td>3869200315</td>\n",
              "      <td>1339</td>\n",
              "      <td>10</td>\n",
              "      <td>3.446490e+14</td>\n",
              "    </tr>\n",
              "    <tr>\n",
              "      <th>951655</th>\n",
              "      <td>1</td>\n",
              "      <td>0</td>\n",
              "      <td>64</td>\n",
              "      <td>3869208705</td>\n",
              "      <td>641</td>\n",
              "      <td>13</td>\n",
              "      <td>3.446498e+14</td>\n",
              "    </tr>\n",
              "    <tr>\n",
              "      <th>632544</th>\n",
              "      <td>1</td>\n",
              "      <td>1</td>\n",
              "      <td>64</td>\n",
              "      <td>3869206531</td>\n",
              "      <td>2699</td>\n",
              "      <td>11</td>\n",
              "      <td>3.446496e+14</td>\n",
              "    </tr>\n",
              "  </tbody>\n",
              "</table>\n",
              "<p>999999 rows × 7 columns</p>\n",
              "</div>\n",
              "      <button class=\"colab-df-convert\" onclick=\"convertToInteractive('df-4b973722-6479-4da4-b984-40f8f0bdc1eb')\"\n",
              "              title=\"Convert this dataframe to an interactive table.\"\n",
              "              style=\"display:none;\">\n",
              "        \n",
              "  <svg xmlns=\"http://www.w3.org/2000/svg\" height=\"24px\"viewBox=\"0 0 24 24\"\n",
              "       width=\"24px\">\n",
              "    <path d=\"M0 0h24v24H0V0z\" fill=\"none\"/>\n",
              "    <path d=\"M18.56 5.44l.94 2.06.94-2.06 2.06-.94-2.06-.94-.94-2.06-.94 2.06-2.06.94zm-11 1L8.5 8.5l.94-2.06 2.06-.94-2.06-.94L8.5 2.5l-.94 2.06-2.06.94zm10 10l.94 2.06.94-2.06 2.06-.94-2.06-.94-.94-2.06-.94 2.06-2.06.94z\"/><path d=\"M17.41 7.96l-1.37-1.37c-.4-.4-.92-.59-1.43-.59-.52 0-1.04.2-1.43.59L10.3 9.45l-7.72 7.72c-.78.78-.78 2.05 0 2.83L4 21.41c.39.39.9.59 1.41.59.51 0 1.02-.2 1.41-.59l7.78-7.78 2.81-2.81c.8-.78.8-2.07 0-2.86zM5.41 20L4 18.59l7.72-7.72 1.47 1.35L5.41 20z\"/>\n",
              "  </svg>\n",
              "      </button>\n",
              "      \n",
              "  <style>\n",
              "    .colab-df-container {\n",
              "      display:flex;\n",
              "      flex-wrap:wrap;\n",
              "      gap: 12px;\n",
              "    }\n",
              "\n",
              "    .colab-df-convert {\n",
              "      background-color: #E8F0FE;\n",
              "      border: none;\n",
              "      border-radius: 50%;\n",
              "      cursor: pointer;\n",
              "      display: none;\n",
              "      fill: #1967D2;\n",
              "      height: 32px;\n",
              "      padding: 0 0 0 0;\n",
              "      width: 32px;\n",
              "    }\n",
              "\n",
              "    .colab-df-convert:hover {\n",
              "      background-color: #E2EBFA;\n",
              "      box-shadow: 0px 1px 2px rgba(60, 64, 67, 0.3), 0px 1px 3px 1px rgba(60, 64, 67, 0.15);\n",
              "      fill: #174EA6;\n",
              "    }\n",
              "\n",
              "    [theme=dark] .colab-df-convert {\n",
              "      background-color: #3B4455;\n",
              "      fill: #D2E3FC;\n",
              "    }\n",
              "\n",
              "    [theme=dark] .colab-df-convert:hover {\n",
              "      background-color: #434B5C;\n",
              "      box-shadow: 0px 1px 3px 1px rgba(0, 0, 0, 0.15);\n",
              "      filter: drop-shadow(0px 1px 2px rgba(0, 0, 0, 0.3));\n",
              "      fill: #FFFFFF;\n",
              "    }\n",
              "  </style>\n",
              "\n",
              "      <script>\n",
              "        const buttonEl =\n",
              "          document.querySelector('#df-4b973722-6479-4da4-b984-40f8f0bdc1eb button.colab-df-convert');\n",
              "        buttonEl.style.display =\n",
              "          google.colab.kernel.accessAllowed ? 'block' : 'none';\n",
              "\n",
              "        async function convertToInteractive(key) {\n",
              "          const element = document.querySelector('#df-4b973722-6479-4da4-b984-40f8f0bdc1eb');\n",
              "          const dataTable =\n",
              "            await google.colab.kernel.invokeFunction('convertToInteractive',\n",
              "                                                     [key], {});\n",
              "          if (!dataTable) return;\n",
              "\n",
              "          const docLinkHtml = 'Like what you see? Visit the ' +\n",
              "            '<a target=\"_blank\" href=https://colab.research.google.com/notebooks/data_table.ipynb>data table notebook</a>'\n",
              "            + ' to learn more about interactive tables.';\n",
              "          element.innerHTML = '';\n",
              "          dataTable['output_type'] = 'display_data';\n",
              "          await google.colab.output.renderOutput(dataTable, element);\n",
              "          const docLink = document.createElement('div');\n",
              "          docLink.innerHTML = docLinkHtml;\n",
              "          element.appendChild(docLink);\n",
              "        }\n",
              "      </script>\n",
              "    </div>\n",
              "  </div>\n",
              "  "
            ]
          },
          "metadata": {},
          "execution_count": 8
        }
      ]
    },
    {
      "cell_type": "code",
      "source": [
        "# To define a date, the datetime module is very useful\n",
        "import datetime as dt\n",
        "\n",
        "date = dt.date.today()\n",
        "date"
      ],
      "metadata": {
        "colab": {
          "base_uri": "https://localhost:8080/"
        },
        "id": "SjOA4OI45UpQ",
        "outputId": "1a5beaf3-8a42-4589-f6bb-a92ecbaca946"
      },
      "execution_count": 9,
      "outputs": [
        {
          "output_type": "execute_result",
          "data": {
            "text/plain": [
              "datetime.date(2022, 12, 1)"
            ]
          },
          "metadata": {},
          "execution_count": 9
        }
      ]
    },
    {
      "cell_type": "code",
      "source": [
        "# Get the timestamp, which is the nanoseconds from January 1st 1970\n",
        "tstamp = pd.Timestamp(date)\n",
        "#tstamp = pd.Timestamp(dt.datetime(1970, 1, 1, 0, 0, 0, 1))\n",
        "print(\"Timestamp:\", tstamp.value)\n",
        "print(pd.Timestamp(tstamp.value,unit='ns'))"
      ],
      "metadata": {
        "colab": {
          "base_uri": "https://localhost:8080/"
        },
        "id": "lEKWXef15LkH",
        "outputId": "35b72f3a-4d0a-443c-f74c-7512de2c83f8"
      },
      "execution_count": 10,
      "outputs": [
        {
          "output_type": "stream",
          "name": "stdout",
          "text": [
            "Timestamp: 1669852800000000000\n",
            "2022-12-01 00:00:00\n"
          ]
        }
      ]
    },
    {
      "cell_type": "code",
      "source": [
        "def convertns_totimestamp(x):\n",
        "  return pd.Timestamp(x,unit='ns')\n",
        "df['newcolumn']=df['newcolumn'].apply(convertns_totimestamp)\n",
        "print(df.iloc[1,:])\n",
        "print(df.head())"
      ],
      "metadata": {
        "colab": {
          "base_uri": "https://localhost:8080/"
        },
        "id": "_EBj-JLy-8FM",
        "outputId": "ba19eb03-9081-4f33-fa16-e569a4b5da83"
      },
      "execution_count": 35,
      "outputs": [
        {
          "output_type": "stream",
          "name": "stdout",
          "text": [
            "HEAD                                       1\n",
            "FPGA                                       0\n",
            "TDC_CHANNEL                              139\n",
            "ORBIT_CNT                         3869210326\n",
            "BX_COUNTER                              3406\n",
            "TDC_MEAS                                   0\n",
            "newcolumn      1970-01-04 23:44:09.909873600\n",
            "Name: 1185634, dtype: object\n",
            "         HEAD  FPGA  TDC_CHANNEL   ORBIT_CNT  BX_COUNTER  TDC_MEAS  \\\n",
            "875299      1     0           64  3869208178        3521        13   \n",
            "1185634     1     0          139  3869210326        3406         0   \n",
            "213385      1     1            3  3869202291        1710        12   \n",
            "195734      1     1            4  3869202114        3000        12   \n",
            "225940      1     0          123  3869202415        2776         4   \n",
            "\n",
            "                            newcolumn  \n",
            "875299  1970-01-04 23:44:09.718543385  \n",
            "1185634 1970-01-04 23:44:09.909873600  \n",
            "213385  1970-01-04 23:44:09.194113585  \n",
            "195734  1970-01-04 23:44:09.178379560  \n",
            "225940  1970-01-04 23:44:09.205185528  \n"
          ]
        }
      ]
    },
    {
      "cell_type": "markdown",
      "source": [
        "4. Find out the duration of the data taking in hours, minutes and seconds, by using the features of the Time Series. Perform this check reading the whole dataset.\n",
        "\n"
      ],
      "metadata": {
        "id": "fBGcZNQoAOg1"
      }
    },
    {
      "cell_type": "code",
      "source": [
        "df2=df.copy()\n",
        "print(df2.sort_values(by='newcolumn')['newcolumn'])\n",
        "orderColumn=df2.sort_values(by='newcolumn')['newcolumn']\n",
        "#first=df2['newcolumn'][0]\n",
        "#last=df2['newcolumn'][999999]\n",
        "#print('first:',first)\n",
        "#print('last',last)\n",
        "#diff=last-first\n",
        "print(\"df2\")\n",
        "print(orderColumn)\n",
        "print('orderColumn shape :',orderColumn.shape)\n",
        "min=list(orderColumn)[0]\n",
        "max=list(orderColumn)[999998]\n",
        "print('min :',min)\n",
        "print('max :',max)\n",
        "print(\"the difference is :\", max-min)"
      ],
      "metadata": {
        "colab": {
          "base_uri": "https://localhost:8080/"
        },
        "id": "GRJe5bAXAPpt",
        "outputId": "cb8b13e7-b7c7-4b5b-cb8e-f541e7ecbb22"
      },
      "execution_count": 36,
      "outputs": [
        {
          "output_type": "stream",
          "name": "stdout",
          "text": [
            "2         1970-01-04 23:44:09.004939373\n",
            "3         1970-01-04 23:44:09.004939490\n",
            "4         1970-01-04 23:44:09.004944545\n",
            "5         1970-01-04 23:44:09.004944578\n",
            "8         1970-01-04 23:44:09.004944892\n",
            "                       ...             \n",
            "1310714   1970-01-04 23:44:09.985075876\n",
            "1310715   1970-01-04 23:44:09.985075886\n",
            "1310719   1970-01-04 23:44:09.985075890\n",
            "1310716   1970-01-04 23:44:09.985075909\n",
            "1310718   1970-01-04 23:44:09.985076050\n",
            "Name: newcolumn, Length: 999999, dtype: datetime64[ns]\n",
            "df2\n",
            "2         1970-01-04 23:44:09.004939373\n",
            "3         1970-01-04 23:44:09.004939490\n",
            "4         1970-01-04 23:44:09.004944545\n",
            "5         1970-01-04 23:44:09.004944578\n",
            "8         1970-01-04 23:44:09.004944892\n",
            "                       ...             \n",
            "1310714   1970-01-04 23:44:09.985075876\n",
            "1310715   1970-01-04 23:44:09.985075886\n",
            "1310719   1970-01-04 23:44:09.985075890\n",
            "1310716   1970-01-04 23:44:09.985075909\n",
            "1310718   1970-01-04 23:44:09.985076050\n",
            "Name: newcolumn, Length: 999999, dtype: datetime64[ns]\n",
            "orderColumn shape : (999999,)\n",
            "min : 1970-01-04 23:44:09.004939373\n",
            "max : 1970-01-04 23:44:09.985076050\n",
            "the difference is : 0 days 00:00:00.980136677\n"
          ]
        }
      ]
    },
    {
      "cell_type": "markdown",
      "source": [
        "5. Use the .groupby() method to find out the noisy channels, i.e. the TDC channels with most counts (print to screen the top 3 and the corresponding counts)\n",
        "\n"
      ],
      "metadata": {
        "id": "zZtMAAjyxOOX"
      }
    },
    {
      "cell_type": "markdown",
      "source": [
        "first check how different values are in 'TDC-CHANNEL' column are."
      ],
      "metadata": {
        "id": "I9jWCbmI0eCY"
      }
    },
    {
      "cell_type": "code",
      "source": [
        "numberOfUniqueValues=df['TDC_CHANNEL'].unique()\n",
        "print(numberOfUniqueValues)\n",
        "print('the number of unique values are',numberOfUniqueValues.shape[0])"
      ],
      "metadata": {
        "colab": {
          "base_uri": "https://localhost:8080/"
        },
        "id": "8YkBjIBl0nXC",
        "outputId": "b9b62148-f126-4ea0-c537-100e39acf8c5"
      },
      "execution_count": 37,
      "outputs": [
        {
          "output_type": "stream",
          "name": "stdout",
          "text": [
            "[ 64 139   3   4 123  13  16  31   2  58  56  62  63  61  40  29  54  37\n",
            " 121  51   8  60   6  57 124  14 114 104  44  12 120  33  41   7   1  19\n",
            "  84  47  45  66  59  42  73  50  76   5  36  69  46  86 116 112 115 113\n",
            "  28  72  10 122 118  24  15  85 107 119  90  48  38  78  53  20  22  49\n",
            "  68  75  79  32  11  91  30  82  27  26 117 108 101   9  83  17  99  92\n",
            " 110  70  23  74 106  80  18  21  93  98  77 128 125 111  52  87  81  35\n",
            "  65  43  71  96  39 103  34 100  89  25 127  55  94  95 105 102  97  88\n",
            "  67 137 109 126 130 138 129]\n",
            "the number of unique values are 133\n"
          ]
        }
      ]
    },
    {
      "cell_type": "code",
      "source": [
        "noisy_channels=df.groupby('TDC_CHANNEL').count()\n",
        "print(noisy_channels)"
      ],
      "metadata": {
        "colab": {
          "base_uri": "https://localhost:8080/"
        },
        "id": "otw9gG65xQ90",
        "outputId": "7803e962-ce11-46b5-cbba-d996a78a73f8"
      },
      "execution_count": 38,
      "outputs": [
        {
          "output_type": "stream",
          "name": "stdout",
          "text": [
            "              HEAD   FPGA  ORBIT_CNT  BX_COUNTER  TDC_MEAS  newcolumn\n",
            "TDC_CHANNEL                                                          \n",
            "1            22777  22777      22777       22777     22777      22777\n",
            "2            26225  26225      26225       26225     26225      26225\n",
            "3            18011  18011      18011       18011     18011      18011\n",
            "4            21961  21961      21961       21961     21961      21961\n",
            "5            12503  12503      12503       12503     12503      12503\n",
            "...            ...    ...        ...         ...       ...        ...\n",
            "129             31     31         31          31        31         31\n",
            "130             59     59         59          59        59         59\n",
            "137             47     47         47          47        47         47\n",
            "138             58     58         58          58        58         58\n",
            "139          82339  82339      82339       82339     82339      82339\n",
            "\n",
            "[133 rows x 6 columns]\n"
          ]
        }
      ]
    },
    {
      "cell_type": "code",
      "source": [
        "#now we sort the previous table to get the most noisy channel\n",
        "order_noisy=noisy_channels.sort_values(by='HEAD',ascending=False)\n",
        "print(order_noisy)\n",
        "#now we have the count of each TCD_CHANNEL count and we sort them so, the first three rows of the order_noisy table is the solution\n",
        "print(\"rint to screen the top 3 and the corresponding counts \\n\",order_noisy.iloc[:3,:])\n",
        "print(\"the corresponding values for order in TDC_CHANNEL are \\n\\n\",order_noisy.iloc[:3,:].index )"
      ],
      "metadata": {
        "colab": {
          "base_uri": "https://localhost:8080/"
        },
        "id": "qJ828Fakzhd9",
        "outputId": "a70d32a0-65ab-4326-82b2-42dc47c38a4b"
      },
      "execution_count": 39,
      "outputs": [
        {
          "output_type": "stream",
          "name": "stdout",
          "text": [
            "              HEAD   FPGA  ORBIT_CNT  BX_COUNTER  TDC_MEAS  newcolumn\n",
            "TDC_CHANNEL                                                          \n",
            "139          82339  82339      82339       82339     82339      82339\n",
            "64           50478  50478      50478       50478     50478      50478\n",
            "63           49262  49262      49262       49262     49262      49262\n",
            "62           37841  37841      37841       37841     37841      37841\n",
            "61           37794  37794      37794       37794     37794      37794\n",
            "...            ...    ...        ...         ...       ...        ...\n",
            "126            465    465        465         465       465        465\n",
            "130             59     59         59          59        59         59\n",
            "138             58     58         58          58        58         58\n",
            "137             47     47         47          47        47         47\n",
            "129             31     31         31          31        31         31\n",
            "\n",
            "[133 rows x 6 columns]\n",
            "rint to screen the top 3 and the corresponding counts \n",
            "               HEAD   FPGA  ORBIT_CNT  BX_COUNTER  TDC_MEAS  newcolumn\n",
            "TDC_CHANNEL                                                          \n",
            "139          82339  82339      82339       82339     82339      82339\n",
            "64           50478  50478      50478       50478     50478      50478\n",
            "63           49262  49262      49262       49262     49262      49262\n",
            "the corresponding values for order in TDC_CHANNEL are \n",
            "\n",
            " Int64Index([139, 64, 63], dtype='int64', name='TDC_CHANNEL')\n"
          ]
        }
      ]
    },
    {
      "cell_type": "markdown",
      "source": [
        "6.Count the number of non-empty orbits (i.e. the number of orbits with at least one hit)"
      ],
      "metadata": {
        "id": "_hFwTHVT4Fhp"
      }
    },
    {
      "cell_type": "code",
      "source": [
        "c=df['ORBIT_CNT'].unique().size\n",
        "print(c)\n",
        "print(df['ORBIT_CNT'].isnull().sum())\n",
        "print('there is 0 null value so :',c-(df['ORBIT_CNT'].isnull().sum()))"
      ],
      "metadata": {
        "colab": {
          "base_uri": "https://localhost:8080/"
        },
        "id": "g44nR7q14Hw5",
        "outputId": "9d8d926f-6c18-40e6-bd2d-d9ce9c3ec9e8"
      },
      "execution_count": 51,
      "outputs": [
        {
          "output_type": "stream",
          "name": "stdout",
          "text": [
            "11001\n",
            "0\n",
            "there is 0 null value so : 11001\n"
          ]
        }
      ]
    },
    {
      "cell_type": "markdown",
      "source": [
        "7. Count the number of unique orbits with at least one measurement from TDC_CHANNEL=139.\n",
        "\n"
      ],
      "metadata": {
        "id": "CzIcvFP_BVCr"
      }
    },
    {
      "cell_type": "code",
      "source": [
        "query1 = df.query('TDC_CHANNEL==139')\n",
        "print(query1)\n",
        "print(query1.shape)\n",
        "print('unique orbit')\n",
        "uniqeOrbitCount=query1['ORBIT_CNT'].unique().shape\n",
        "print(uniqeOrbitCount)"
      ],
      "metadata": {
        "colab": {
          "base_uri": "https://localhost:8080/"
        },
        "id": "RUSFKD42BWTh",
        "outputId": "45d2fa6c-bcd6-417d-d7ac-9e57849035be"
      },
      "execution_count": 52,
      "outputs": [
        {
          "output_type": "stream",
          "name": "stdout",
          "text": [
            "         HEAD  FPGA  TDC_CHANNEL   ORBIT_CNT  BX_COUNTER  TDC_MEAS  \\\n",
            "1185634     1     0          139  3869210326        3406         0   \n",
            "742852      1     0          139  3869207291        2979         0   \n",
            "1216283     1     0          139  3869210534        2555         0   \n",
            "968983      1     0          139  3869208811         290         0   \n",
            "189250      1     0          139  3869202050        2760         0   \n",
            "...       ...   ...          ...         ...         ...       ...   \n",
            "414217      1     0          139  3869204337        2706         0   \n",
            "337238      1     0          139  3869203544        3040         0   \n",
            "1243093     1     1          139  3869210720        1237         0   \n",
            "681655      1     0          139  3869206856         424         0   \n",
            "1261306     1     0          139  3869210834        1676         0   \n",
            "\n",
            "                            newcolumn  \n",
            "1185634 1970-01-04 23:44:09.909873600  \n",
            "742852  1970-01-04 23:44:09.639520300  \n",
            "1216283 1970-01-04 23:44:09.928379925  \n",
            "968983  1970-01-04 23:44:09.774847075  \n",
            "189250  1970-01-04 23:44:09.172672750  \n",
            "...                               ...  \n",
            "414217  1970-01-04 23:44:09.376385925  \n",
            "337238  1970-01-04 23:44:09.305757800  \n",
            "1243093 1970-01-04 23:44:09.944914925  \n",
            "681655  1970-01-04 23:44:09.600708800  \n",
            "1261306 1970-01-04 23:44:09.955080450  \n",
            "\n",
            "[82339 rows x 7 columns]\n",
            "(82339, 7)\n",
            "unique orbit\n",
            "(10960,)\n"
          ]
        }
      ]
    },
    {
      "cell_type": "markdown",
      "source": [
        "8. Create two Series (one for each FPGA) that have the TDC channel as index, and the number of counts for the corresponding TDC channel as values.\n",
        "\n"
      ],
      "metadata": {
        "id": "Vpk25kOBEcGp"
      }
    },
    {
      "cell_type": "code",
      "source": [
        "h=df.query('FPGA==0')\n",
        "print('the data with FPGA==0')\n",
        "print(h)\n",
        "print(\"now with value_counts we obtain the count of each unique TDC_CHANNEL \")\n",
        "print('with this method it has the TDC_CHANNEL channel as index itself')\n",
        "l=h['TDC_CHANNEL'].value_counts()\n",
        "print(l)\n",
        "print('the index are the TDC_CHANNEL unique values according to the question')\n",
        "#print(l.index)\n",
        "#print(l.index.shape)"
      ],
      "metadata": {
        "colab": {
          "base_uri": "https://localhost:8080/"
        },
        "id": "brmKB3AArgvE",
        "outputId": "ddcfc2e6-453f-4a07-d8ce-2205e68cdd14"
      },
      "execution_count": 62,
      "outputs": [
        {
          "output_type": "stream",
          "name": "stdout",
          "text": [
            "the data with FPGA==0\n",
            "         HEAD  FPGA  TDC_CHANNEL   ORBIT_CNT  BX_COUNTER  TDC_MEAS  \\\n",
            "875299      1     0           64  3869208178        3521        13   \n",
            "1185634     1     0          139  3869210326        3406         0   \n",
            "225940      1     0          123  3869202415        2776         4   \n",
            "1056698     1     0           13  3869209423        2700        18   \n",
            "742852      1     0          139  3869207291        2979         0   \n",
            "...       ...   ...          ...         ...         ...       ...   \n",
            "222325      1     0           51  3869202379        2609        29   \n",
            "146815      1     0           56  3869201628        2426         9   \n",
            "441810      1     0            2  3869204621        1900        24   \n",
            "14806       1     0           64  3869200315        1339        10   \n",
            "951655      1     0           64  3869208705         641        13   \n",
            "\n",
            "                            newcolumn  \n",
            "875299  1970-01-04 23:44:09.718543385  \n",
            "1185634 1970-01-04 23:44:09.909873600  \n",
            "225940  1970-01-04 23:44:09.205185528  \n",
            "1056698 1970-01-04 23:44:09.829421240  \n",
            "742852  1970-01-04 23:44:09.639520300  \n",
            "...                               ...  \n",
            "222325  1970-01-04 23:44:09.201974674  \n",
            "146815  1970-01-04 23:44:09.135074757  \n",
            "441810  1970-01-04 23:44:09.401663095  \n",
            "14806   1970-01-04 23:44:09.018092108  \n",
            "951655  1970-01-04 23:44:09.765413910  \n",
            "\n",
            "[703833 rows x 7 columns]\n",
            "now with value_counts we obtain the count of each unique TDC_CHANNEL \n",
            "with this method it has the TDC_CHANNEL channel as index itself\n",
            "139    57503\n",
            "64     49377\n",
            "63     48572\n",
            "61     37196\n",
            "62     37001\n",
            "       ...  \n",
            "130       26\n",
            "137       23\n",
            "30         3\n",
            "129        2\n",
            "39         1\n",
            "Name: TDC_CHANNEL, Length: 124, dtype: int64\n",
            "the index are the TDC_CHANNEL unique values according to the question\n"
          ]
        }
      ]
    },
    {
      "cell_type": "code",
      "source": [
        "h2=df.query('FPGA==1')\n",
        "print(\"now with value_counts we obtain the count of each unique TDC_CHANNEL \")\n",
        "print('with this method it has the TDC_CHANNEL channel as index itself')\n",
        "l2=h2['TDC_CHANNEL'].value_counts()\n",
        "print(type(l2))\n",
        "print(l2)\n",
        "print('the index are the TDC_CHANNEL unique values according to the question')\n",
        "#print(l2.index)\n",
        "#print(l2.index.shape)"
      ],
      "metadata": {
        "colab": {
          "base_uri": "https://localhost:8080/"
        },
        "id": "2jkYsAi4tEWN",
        "outputId": "61b7ae80-5d83-46ec-8276-defdca2b3871"
      },
      "execution_count": 61,
      "outputs": [
        {
          "output_type": "stream",
          "name": "stdout",
          "text": [
            "now with value_counts we obtain the count of each unique TDC_CHANNEL \n",
            "with this method it has the TDC_CHANNEL channel as index itself\n",
            "<class 'pandas.core.series.Series'>\n",
            "2      24990\n",
            "139    24836\n",
            "1      21855\n",
            "4      20165\n",
            "3      16858\n",
            "       ...  \n",
            "9         61\n",
            "130       33\n",
            "138       31\n",
            "129       29\n",
            "137       24\n",
            "Name: TDC_CHANNEL, Length: 132, dtype: int64\n",
            "the index are the TDC_CHANNEL unique values according to the question\n"
          ]
        }
      ]
    }
  ]
}