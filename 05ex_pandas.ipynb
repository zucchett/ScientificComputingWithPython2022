{
 "cells": [
  {
   "cell_type": "markdown",
   "metadata": {},
   "source": [
    "1\\. **Pandas DataFrame**\n",
    "\n",
    "This exercise consists in analyzing a dataset containg timing information from a series of Time-to-Digital-Converters (TDC) implemented in a pair of FPGAs. Each measurement (i.e. each row of the input file) consists of a flag that specifies the type of message ('HEAD', which in this case is always 1), two addresses of the TDC providing the signal ('FPGA' and 'TDC_CHANNEL'), and the timing information ('ORBIT_CNT', 'BX_COUNTER', and 'TDC_MEAS'). Each TDC count corresponds to 25/30 ns, whereas a unit of BX_COUNTER corresponds to 25 ns, and the ORBIT_CNT is increased every `x` BX_COUNTER. This allows to store the time in a similar way to hours, minutes and seconds."
   ]
  },
  {
   "cell_type": "code",
   "execution_count": 1,
   "metadata": {},
   "outputs": [],
   "source": [
    "# If haven't downloaded it yet, please get the data file with wget\n",
    "#!wget https://www.dropbox.com/s/xvjzaxzz3ysphme/data_000637.txt -P ./data/"
   ]
  },
  {
   "cell_type": "markdown",
   "metadata": {},
   "source": [
    "1\\. Create a Pandas DataFrame reading N rows of the `data/data_000637.txt` dataset. Choose N to be smaller than or equal to the maximum number of rows and larger that 10k (check the documentation)."
   ]
  },
  {
   "cell_type": "code",
   "execution_count": 2,
   "metadata": {},
   "outputs": [
    {
     "data": {
      "text/html": [
       "<div>\n",
       "<style scoped>\n",
       "    .dataframe tbody tr th:only-of-type {\n",
       "        vertical-align: middle;\n",
       "    }\n",
       "\n",
       "    .dataframe tbody tr th {\n",
       "        vertical-align: top;\n",
       "    }\n",
       "\n",
       "    .dataframe thead th {\n",
       "        text-align: right;\n",
       "    }\n",
       "</style>\n",
       "<table border=\"1\" class=\"dataframe\">\n",
       "  <thead>\n",
       "    <tr style=\"text-align: right;\">\n",
       "      <th></th>\n",
       "      <th>HEAD</th>\n",
       "      <th>FPGA</th>\n",
       "      <th>TDC_CHANNEL</th>\n",
       "      <th>ORBIT_CNT</th>\n",
       "      <th>BX_COUNTER</th>\n",
       "      <th>TDC_MEAS</th>\n",
       "    </tr>\n",
       "  </thead>\n",
       "  <tbody>\n",
       "    <tr>\n",
       "      <th>0</th>\n",
       "      <td>1</td>\n",
       "      <td>0</td>\n",
       "      <td>123</td>\n",
       "      <td>3869200167</td>\n",
       "      <td>2374</td>\n",
       "      <td>26</td>\n",
       "    </tr>\n",
       "    <tr>\n",
       "      <th>1</th>\n",
       "      <td>1</td>\n",
       "      <td>0</td>\n",
       "      <td>124</td>\n",
       "      <td>3869200167</td>\n",
       "      <td>2374</td>\n",
       "      <td>27</td>\n",
       "    </tr>\n",
       "    <tr>\n",
       "      <th>2</th>\n",
       "      <td>1</td>\n",
       "      <td>0</td>\n",
       "      <td>63</td>\n",
       "      <td>3869200167</td>\n",
       "      <td>2553</td>\n",
       "      <td>28</td>\n",
       "    </tr>\n",
       "    <tr>\n",
       "      <th>3</th>\n",
       "      <td>1</td>\n",
       "      <td>0</td>\n",
       "      <td>64</td>\n",
       "      <td>3869200167</td>\n",
       "      <td>2558</td>\n",
       "      <td>19</td>\n",
       "    </tr>\n",
       "    <tr>\n",
       "      <th>4</th>\n",
       "      <td>1</td>\n",
       "      <td>0</td>\n",
       "      <td>64</td>\n",
       "      <td>3869200167</td>\n",
       "      <td>2760</td>\n",
       "      <td>25</td>\n",
       "    </tr>\n",
       "    <tr>\n",
       "      <th>...</th>\n",
       "      <td>...</td>\n",
       "      <td>...</td>\n",
       "      <td>...</td>\n",
       "      <td>...</td>\n",
       "      <td>...</td>\n",
       "      <td>...</td>\n",
       "    </tr>\n",
       "    <tr>\n",
       "      <th>999996</th>\n",
       "      <td>1</td>\n",
       "      <td>0</td>\n",
       "      <td>51</td>\n",
       "      <td>3869209011</td>\n",
       "      <td>2561</td>\n",
       "      <td>12</td>\n",
       "    </tr>\n",
       "    <tr>\n",
       "      <th>999997</th>\n",
       "      <td>1</td>\n",
       "      <td>0</td>\n",
       "      <td>61</td>\n",
       "      <td>3869209011</td>\n",
       "      <td>2562</td>\n",
       "      <td>2</td>\n",
       "    </tr>\n",
       "    <tr>\n",
       "      <th>999998</th>\n",
       "      <td>1</td>\n",
       "      <td>0</td>\n",
       "      <td>50</td>\n",
       "      <td>3869209011</td>\n",
       "      <td>2563</td>\n",
       "      <td>4</td>\n",
       "    </tr>\n",
       "    <tr>\n",
       "      <th>999999</th>\n",
       "      <td>1</td>\n",
       "      <td>0</td>\n",
       "      <td>60</td>\n",
       "      <td>3869209011</td>\n",
       "      <td>2688</td>\n",
       "      <td>25</td>\n",
       "    </tr>\n",
       "    <tr>\n",
       "      <th>1000000</th>\n",
       "      <td>1</td>\n",
       "      <td>1</td>\n",
       "      <td>57</td>\n",
       "      <td>3869209011</td>\n",
       "      <td>2849</td>\n",
       "      <td>13</td>\n",
       "    </tr>\n",
       "  </tbody>\n",
       "</table>\n",
       "<p>1000001 rows × 6 columns</p>\n",
       "</div>"
      ],
      "text/plain": [
       "         HEAD  FPGA  TDC_CHANNEL   ORBIT_CNT  BX_COUNTER  TDC_MEAS\n",
       "0           1     0          123  3869200167        2374        26\n",
       "1           1     0          124  3869200167        2374        27\n",
       "2           1     0           63  3869200167        2553        28\n",
       "3           1     0           64  3869200167        2558        19\n",
       "4           1     0           64  3869200167        2760        25\n",
       "...       ...   ...          ...         ...         ...       ...\n",
       "999996      1     0           51  3869209011        2561        12\n",
       "999997      1     0           61  3869209011        2562         2\n",
       "999998      1     0           50  3869209011        2563         4\n",
       "999999      1     0           60  3869209011        2688        25\n",
       "1000000     1     1           57  3869209011        2849        13\n",
       "\n",
       "[1000001 rows x 6 columns]"
      ]
     },
     "execution_count": 2,
     "metadata": {},
     "output_type": "execute_result"
    }
   ],
   "source": [
    "import pandas as pd \n",
    "import numpy as np\n",
    "import datetime as dt\n",
    "#ORBIT_CNT=hours,BX_COUNTER=minutes,TDC_MEAS=seconds\n",
    "\n",
    "file_name = \"./data/data_000637.txt\"\n",
    "data = pd.read_csv(file_name)\n",
    "N=1000000\n",
    "\n",
    "data = data.loc[:N ,:]\n",
    "data\n"
   ]
  },
  {
   "cell_type": "markdown",
   "metadata": {},
   "source": [
    "2\\. Estimate the number of BX in a ORBIT (the value `x`).\n",
    "\n",
    "*Hint*: check when the BX counter reaches the maximum value before being reset to 0."
   ]
  },
  {
   "cell_type": "code",
   "execution_count": 3,
   "metadata": {},
   "outputs": [
    {
     "name": "stdout",
     "output_type": "stream",
     "text": [
      "3564\n"
     ]
    }
   ],
   "source": [
    "column = data[\"BX_COUNTER\"]\n",
    "x = column.max()+1\n",
    "print(x)"
   ]
  },
  {
   "cell_type": "markdown",
   "metadata": {},
   "source": [
    "3\\. Create a new column with the absolute time in ns (as a combination of the other three columns with timing information) since the beginning of the data acquisition, and convert the new column to a Time Series."
   ]
  },
  {
   "cell_type": "code",
   "execution_count": 23,
   "metadata": {},
   "outputs": [
    {
     "name": "stdout",
     "output_type": "stream",
     "text": [
      "NEW COLUMN \n",
      "          HEAD  FPGA  TDC_CHANNEL   ORBIT_CNT  BX_COUNTER  TDC_MEAS   ABS_TIMES\n",
      "0           1     0          123  3869200167        2374        26  3869202567\n",
      "1           1     0          124  3869200167        2374        27  3869202568\n",
      "2           1     0           63  3869200167        2553        28  3869202748\n",
      "3           1     0           64  3869200167        2558        19  3869202744\n",
      "4           1     0           64  3869200167        2760        25  3869202952\n",
      "...       ...   ...          ...         ...         ...       ...         ...\n",
      "1310715     1     0           62  3869211171         762        14  3869211947\n",
      "1310716     1     1            4  3869211171         763        11  3869211945\n",
      "1310717     1     0           64  3869211171         764         0  3869211935\n",
      "1310718     1     0          139  3869211171         769         0  3869211940\n",
      "1310719     1     0           61  3869211171         762        18  3869211951\n",
      "\n",
      "[1310720 rows x 7 columns]\n",
      "TIME SERIES \n",
      " 0         1970-01-01 00:00:03.869202567\n",
      "1         1970-01-01 00:00:03.869202568\n",
      "2         1970-01-01 00:00:03.869202748\n",
      "3         1970-01-01 00:00:03.869202744\n",
      "4         1970-01-01 00:00:03.869202952\n",
      "                       ...             \n",
      "1310715   1970-01-01 00:00:03.869211947\n",
      "1310716   1970-01-01 00:00:03.869211945\n",
      "1310717   1970-01-01 00:00:03.869211935\n",
      "1310718   1970-01-01 00:00:03.869211940\n",
      "1310719   1970-01-01 00:00:03.869211951\n",
      "Name: ABS_TIMES, Length: 1310720, dtype: datetime64[ns]\n"
     ]
    }
   ],
   "source": [
    "import pandas as pd \n",
    "import datetime\n",
    "import datetime as dt\n",
    "\n",
    "file_name = \"./data/data_000637.txt\"\n",
    "pandas_dataframe= pd.read_csv(file_name)\n",
    "\n",
    "absolute_times=[]\n",
    "for a,row in pandas_dataframe.iterrows():\n",
    "    timing= (row[\"TDC_MEAS\"]+ row[\"BX_COUNTER\"]+ row[\"ORBIT_CNT\"])\n",
    "    absolute_times.append(timing)\n",
    "\n",
    "pandas_dataframe[\"ABS_TIMES\"]=absolute_times\n",
    "print(\"NEW COLUMN \\n\",pandas_dataframe)\n",
    "\n",
    "time_series=pd.to_datetime(pandas_dataframe[\"ABS_TIMES\"], unit=\"ns\")\n",
    "print(\"TIME SERIES \\n\",time_series)"
   ]
  },
  {
   "cell_type": "markdown",
   "metadata": {},
   "source": [
    "4\\. Find out the duration of the data taking in hours, minutes and seconds, by using the features of the Time Series. Perform this check reading the whole dataset."
   ]
  },
  {
   "cell_type": "code",
   "execution_count": 19,
   "metadata": {},
   "outputs": [
    {
     "name": "stdout",
     "output_type": "stream",
     "text": [
      "DURATION ==>>\n",
      "     HEAD  FPGA  TDC_CHANNEL   ORBIT_CNT  BX_COUNTER  TDC_MEAS  \\\n",
      "0      1     0          123  3869200167        2374        26   \n",
      "1      1     0          124  3869200167        2374        27   \n",
      "2      1     0           63  3869200167        2553        28   \n",
      "3      1     0           64  3869200167        2558        19   \n",
      "4      1     0           64  3869200167        2760        25   \n",
      "5      1     0           63  3869200167        2762         4   \n",
      "6      1     0           61  3869200167        2772        14   \n",
      "7      1     0          139  3869200167        2776         0   \n",
      "8      1     0           62  3869200167        2774        21   \n",
      "9      1     0           60  3869200167        2788         7   \n",
      "10     1     1            7  3869200167        2785         4   \n",
      "11     1     0           64  3869200167        2786        19   \n",
      "12     1     1            6  3869200167        2792        18   \n",
      "13     1     0           36  3869200167        2791        23   \n",
      "14     1     0           56  3869200167        2789         3   \n",
      "15     1     1          139  3869200167        2797         0   \n",
      "16     1     1            8  3869200167        2787        14   \n",
      "17     1     0           63  3869200167        2790        10   \n",
      "18     1     1            5  3869200167        2795         4   \n",
      "19     1     0           53  3869200167        2796        26   \n",
      "20     1     1           10  3869200167        2789        14   \n",
      "21     1     0           57  3869200167        2789        10   \n",
      "22     1     0           61  3869200167        2790        23   \n",
      "23     1     0           38  3869200167        2799        15   \n",
      "24     1     0           58  3869200167        2795        19   \n",
      "25     1     0           62  3869200167        2797        14   \n",
      "26     1     0           59  3869200167        2799        14   \n",
      "27     1     0           59  3869200167        3081        21   \n",
      "28     1     0           61  3869200167        3081         1   \n",
      "29     1     0           60  3869200167        3083        20   \n",
      "\n",
      "                    ABS_TIME  \n",
      "0  0 days 00:00:03.869202567  \n",
      "1  0 days 00:00:03.869202568  \n",
      "2  0 days 00:00:03.869202748  \n",
      "3  0 days 00:00:03.869202744  \n",
      "4  0 days 00:00:03.869202952  \n",
      "5  0 days 00:00:03.869202933  \n",
      "6  0 days 00:00:03.869202953  \n",
      "7  0 days 00:00:03.869202943  \n",
      "8  0 days 00:00:03.869202962  \n",
      "9  0 days 00:00:03.869202962  \n",
      "10 0 days 00:00:03.869202956  \n",
      "11 0 days 00:00:03.869202972  \n",
      "12 0 days 00:00:03.869202977  \n",
      "13 0 days 00:00:03.869202981  \n",
      "14 0 days 00:00:03.869202959  \n",
      "15 0 days 00:00:03.869202964  \n",
      "16 0 days 00:00:03.869202968  \n",
      "17 0 days 00:00:03.869202967  \n",
      "18 0 days 00:00:03.869202966  \n",
      "19 0 days 00:00:03.869202989  \n",
      "20 0 days 00:00:03.869202970  \n",
      "21 0 days 00:00:03.869202966  \n",
      "22 0 days 00:00:03.869202980  \n",
      "23 0 days 00:00:03.869202981  \n",
      "24 0 days 00:00:03.869202981  \n",
      "25 0 days 00:00:03.869202978  \n",
      "26 0 days 00:00:03.869202980  \n",
      "27 0 days 00:00:03.869203269  \n",
      "28 0 days 00:00:03.869203249  \n",
      "29 0 days 00:00:03.869203270  \n"
     ]
    }
   ],
   "source": [
    "import pandas as pd \n",
    "file_name = \"./data/data_000637.txt\"\n",
    "pandas_dataframe= pd.read_csv(file_name)\n",
    "absolute_times=[]\n",
    "for a,row in pandas_dataframe.iterrows():\n",
    "    timing= (row[\"TDC_MEAS\"]+ row[\"BX_COUNTER\"]+ row[\"ORBIT_CNT\"])\n",
    "    absolute_times.append(timing)\n",
    "\n",
    "pandas_dataframe[\"ABS_TIME\"]= pd.to_timedelta(absolute_times)\n",
    "print(\"DURATION ==>>\\n\",pandas_dataframe.head(30))"
   ]
  },
  {
   "cell_type": "markdown",
   "metadata": {},
   "source": [
    "5\\. Use the `.groupby()` method to find out the noisy channels, i.e. the TDC channels with most counts (print to screen the top 3 and the corresponding counts)"
   ]
  },
  {
   "cell_type": "code",
   "execution_count": 18,
   "metadata": {},
   "outputs": [
    {
     "name": "stdout",
     "output_type": "stream",
     "text": [
      "Int64Index([139, 64, 63], dtype='int64', name='TDC_CHANNEL')\n"
     ]
    }
   ],
   "source": [
    "data_grouped = data.groupby(\"TDC_CHANNEL\").count()\n",
    "data_grouped = data_grouped.sort_values(by=\"HEAD\",ascending=False) \n",
    "print(data_grouped.index[0:3])"
   ]
  },
  {
   "cell_type": "markdown",
   "metadata": {},
   "source": [
    "6\\. Count the number of non-empty orbits (i.e. the number of orbits with at least one hit)."
   ]
  },
  {
   "cell_type": "code",
   "execution_count": 20,
   "metadata": {},
   "outputs": [
    {
     "name": "stdout",
     "output_type": "stream",
     "text": [
      "number of unique orbits: 8841\n"
     ]
    }
   ],
   "source": [
    "print(\"number of unique orbits:\",data[\"ORBIT_CNT\"].unique().shape[0])"
   ]
  },
  {
   "cell_type": "markdown",
   "metadata": {},
   "source": [
    "7\\. Count the number of unique orbits with at least one measurement from TDC_CHANNEL=139."
   ]
  },
  {
   "cell_type": "code",
   "execution_count": 21,
   "metadata": {},
   "outputs": [
    {
     "name": "stdout",
     "output_type": "stream",
     "text": [
      "number of unique orbits with at least one measurement with TDC_CHANNEL=139: 8816\n"
     ]
    }
   ],
   "source": [
    "print(\"number of unique orbits with at least one measurement with TDC_CHANNEL=139:\",data[data[\"TDC_CHANNEL\"]==139][\"ORBIT_CNT\"].unique().shape[0])"
   ]
  },
  {
   "cell_type": "markdown",
   "metadata": {},
   "source": [
    "8\\. Create two Series (one for each FPGA) that have the TDC channel as index, and the number of counts for the corresponding TDC channel as values."
   ]
  },
  {
   "cell_type": "code",
   "execution_count": 22,
   "metadata": {},
   "outputs": [
    {
     "name": "stdout",
     "output_type": "stream",
     "text": [
      "Series 1: 139    57878\n",
      "64     49109\n",
      "63     48604\n",
      "61     37208\n",
      "62     36778\n",
      "       ...  \n",
      "130       24\n",
      "137       23\n",
      "30         3\n",
      "129        2\n",
      "39         1\n",
      "Name: TDC_CHANNEL, Length: 124, dtype: int64\n",
      "\n",
      "Series 2 2      24871\n",
      "139    24799\n",
      "1      21622\n",
      "4      20087\n",
      "3      16725\n",
      "       ...  \n",
      "9         65\n",
      "130       29\n",
      "138       27\n",
      "137       27\n",
      "129       26\n",
      "Name: TDC_CHANNEL, Length: 132, dtype: int64\n"
     ]
    }
   ],
   "source": [
    "FPGA_0 = pd.Series(data[data['FPGA'] == 0]['TDC_CHANNEL'].value_counts())\n",
    "FPGA_1 = pd.Series(data[data['FPGA'] == 1]['TDC_CHANNEL'].value_counts())\n",
    "print(\"Series 1:\", FPGA_0)\n",
    "print(\"\\nSeries 2\", FPGA_1)"
   ]
  },
  {
   "cell_type": "markdown",
   "metadata": {},
   "source": [
    "9\\. **Optional:** Create two histograms (one for each FPGA) that show the number of counts for each TDC channel."
   ]
  },
  {
   "cell_type": "code",
   "execution_count": 15,
   "metadata": {},
   "outputs": [
    {
     "data": {
      "image/png": "[encoded data removed]",
      "text/plain": [
       "<Figure size 640x480 with 1 Axes>"
      ]
     },
     "metadata": {},
     "output_type": "display_data"
    },
    {
     "name": "stdout",
     "output_type": "stream",
     "text": [
      "\n",
      "\n"
     ]
    },
    {
     "data": {
      "image/png": "[encoded data removed]",
      "text/plain": [
       "<Figure size 640x480 with 1 Axes>"
      ]
     },
     "metadata": {},
     "output_type": "display_data"
    }
   ],
   "source": [
    "import matplotlib.pyplot as plt\n",
    "\n",
    "plt.hist(FPGA_0)\n",
    "plt.title('FPGA 0')\n",
    "plt.xlabel('TDC_CHANNEL')\n",
    "plt.ylabel('Number of counts')\n",
    "plt.show()\n",
    "print(\"\\n\")\n",
    "plt.hist(FPGA_1)\n",
    "plt.title('FPGA 1')\n",
    "plt.xlabel('TDC_CHANNEL')\n",
    "plt.ylabel('Number of counts')\n",
    "plt.show()"
   ]
  },
  {
   "cell_type": "code",
   "execution_count": null,
   "metadata": {},
   "outputs": [],
   "source": []
  }
 ],
 "metadata": {
  "kernelspec": {
   "display_name": "Python 3 (ipykernel)",
   "language": "python",
   "name": "python3"
  },
  "language_info": {
   "codemirror_mode": {
    "name": "ipython",
    "version": 3
   },
   "file_extension": ".py",
   "mimetype": "text/x-python",
   "name": "python",
   "nbconvert_exporter": "python",
   "pygments_lexer": "ipython3",
   "version": "3.9.13"
  }
 },
 "nbformat": 4,
 "nbformat_minor": 2
}
