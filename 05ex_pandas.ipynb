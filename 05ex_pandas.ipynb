{
 "cells": [
  {
   "cell_type": "markdown",
   "metadata": {},
   "source": [
    "1\\. **Pandas DataFrame**\n",
    "\n",
    "This exercise consists in analyzing a dataset containg timing information from a series of Time-to-Digital-Converters (TDC) implemented in a pair of FPGAs. Each measurement (i.e. each row of the input file) consists of a flag that specifies the type of message ('HEAD', which in this case is always 1), two addresses of the TDC providing the signal ('FPGA' and 'TDC_CHANNEL'), and the timing information ('ORBIT_CNT', 'BX_COUNTER', and 'TDC_MEAS'). Each TDC count corresponds to 25/30 ns, whereas a unit of BX_COUNTER corresponds to 25 ns, and the ORBIT_CNT is increased every `x` BX_COUNTER. This allows to store the time in a similar way to hours, minutes and seconds."
   ]
  },
  {
   "cell_type": "code",
   "execution_count": 11,
   "metadata": {},
   "outputs": [
    {
     "name": "stdout",
     "output_type": "stream",
     "text": [
      "--2022-11-23 13:24:35--  https://www.dropbox.com/s/xvjzaxzz3ysphme/data_000637.txt\n",
      "Risoluzione di www.dropbox.com (www.dropbox.com)... 162.125.69.18\n",
      "Connessione a www.dropbox.com (www.dropbox.com)|162.125.69.18|:443... connesso.\n",
      "Richiesta HTTP inviata, in attesa di risposta... 302 Found\n",
      "Posizione: /s/raw/xvjzaxzz3ysphme/data_000637.txt [segue]\n",
      "--2022-11-23 13:24:35--  https://www.dropbox.com/s/raw/xvjzaxzz3ysphme/data_000637.txt\n",
      "Riutilizzo della connessione esistente a www.dropbox.com:443.\n",
      "Richiesta HTTP inviata, in attesa di risposta... 302 Found\n",
      "Posizione: https://ucf450284d8c4c7e66fe908da213.dl.dropboxusercontent.com/cd/0/inline/BxSuCBbAt4MUesgLELPpXobZFh06OvO3rEltw-s7dCccNyVrTGk_L5t6BWiKrOuOWtO1d9otDn-qAyC1In5-dah8driCiceuAMcRpQQAN0ypqgR9LiDhhrPtkxrWIKmtUhlxph8PW37p6-HomDznfx-ZmgbqdT5-nb3ggmV9pujVsg/file# [segue]\n",
      "--2022-11-23 13:24:36--  https://ucf450284d8c4c7e66fe908da213.dl.dropboxusercontent.com/cd/0/inline/BxSuCBbAt4MUesgLELPpXobZFh06OvO3rEltw-s7dCccNyVrTGk_L5t6BWiKrOuOWtO1d9otDn-qAyC1In5-dah8driCiceuAMcRpQQAN0ypqgR9LiDhhrPtkxrWIKmtUhlxph8PW37p6-HomDznfx-ZmgbqdT5-nb3ggmV9pujVsg/file\n",
      "Risoluzione di ucf450284d8c4c7e66fe908da213.dl.dropboxusercontent.com (ucf450284d8c4c7e66fe908da213.dl.dropboxusercontent.com)... 162.125.69.15\n",
      "Connessione a ucf450284d8c4c7e66fe908da213.dl.dropboxusercontent.com (ucf450284d8c4c7e66fe908da213.dl.dropboxusercontent.com)|162.125.69.15|:443... connesso.\n",
      "Richiesta HTTP inviata, in attesa di risposta... 200 OK\n",
      "Lunghezza: 33179236 (32M) [text/plain]\n",
      "Salvataggio in: «./data/data_000637.txt.4»\n",
      "\n",
      "data_000637.txt.4   100%[===================>]  31,64M  6,03MB/s    in 5,1s    \n",
      "\n",
      "2022-11-23 13:24:42 (6,18 MB/s) - «./data/data_000637.txt.4» salvato [33179236/33179236]\n",
      "\n"
     ]
    }
   ],
   "source": [
    "# If haven't downloaded it yet, please get the data file with wget\n",
    "!wget https://www.dropbox.com/s/xvjzaxzz3ysphme/data_000637.txt -P ./data/"
   ]
  },
  {
   "cell_type": "markdown",
   "metadata": {},
   "source": [
    "1\\. Create a Pandas DataFrame reading N rows of the `data/data_000637.txt` dataset. Choose N to be smaller than or equal to the maximum number of rows and larger that 10k (check the documentation)."
   ]
  },
  {
   "cell_type": "code",
   "execution_count": 2,
   "metadata": {},
   "outputs": [
    {
     "data": {
      "text/html": [
       "<div>\n",
       "<style scoped>\n",
       "    .dataframe tbody tr th:only-of-type {\n",
       "        vertical-align: middle;\n",
       "    }\n",
       "\n",
       "    .dataframe tbody tr th {\n",
       "        vertical-align: top;\n",
       "    }\n",
       "\n",
       "    .dataframe thead th {\n",
       "        text-align: right;\n",
       "    }\n",
       "</style>\n",
       "<table border=\"1\" class=\"dataframe\">\n",
       "  <thead>\n",
       "    <tr style=\"text-align: right;\">\n",
       "      <th></th>\n",
       "      <th>HEAD</th>\n",
       "      <th>FPGA</th>\n",
       "      <th>TDC_CHANNEL</th>\n",
       "      <th>ORBIT_CNT</th>\n",
       "      <th>BX_COUNTER</th>\n",
       "      <th>TDC_MEAS</th>\n",
       "    </tr>\n",
       "  </thead>\n",
       "  <tbody>\n",
       "    <tr>\n",
       "      <th>0</th>\n",
       "      <td>1</td>\n",
       "      <td>0</td>\n",
       "      <td>123</td>\n",
       "      <td>3869200167</td>\n",
       "      <td>2374</td>\n",
       "      <td>26</td>\n",
       "    </tr>\n",
       "    <tr>\n",
       "      <th>1</th>\n",
       "      <td>1</td>\n",
       "      <td>0</td>\n",
       "      <td>124</td>\n",
       "      <td>3869200167</td>\n",
       "      <td>2374</td>\n",
       "      <td>27</td>\n",
       "    </tr>\n",
       "    <tr>\n",
       "      <th>2</th>\n",
       "      <td>1</td>\n",
       "      <td>0</td>\n",
       "      <td>63</td>\n",
       "      <td>3869200167</td>\n",
       "      <td>2553</td>\n",
       "      <td>28</td>\n",
       "    </tr>\n",
       "    <tr>\n",
       "      <th>3</th>\n",
       "      <td>1</td>\n",
       "      <td>0</td>\n",
       "      <td>64</td>\n",
       "      <td>3869200167</td>\n",
       "      <td>2558</td>\n",
       "      <td>19</td>\n",
       "    </tr>\n",
       "    <tr>\n",
       "      <th>4</th>\n",
       "      <td>1</td>\n",
       "      <td>0</td>\n",
       "      <td>64</td>\n",
       "      <td>3869200167</td>\n",
       "      <td>2760</td>\n",
       "      <td>25</td>\n",
       "    </tr>\n",
       "    <tr>\n",
       "      <th>...</th>\n",
       "      <td>...</td>\n",
       "      <td>...</td>\n",
       "      <td>...</td>\n",
       "      <td>...</td>\n",
       "      <td>...</td>\n",
       "      <td>...</td>\n",
       "    </tr>\n",
       "    <tr>\n",
       "      <th>149118</th>\n",
       "      <td>1</td>\n",
       "      <td>0</td>\n",
       "      <td>29</td>\n",
       "      <td>3869201651</td>\n",
       "      <td>929</td>\n",
       "      <td>26</td>\n",
       "    </tr>\n",
       "    <tr>\n",
       "      <th>149119</th>\n",
       "      <td>1</td>\n",
       "      <td>0</td>\n",
       "      <td>43</td>\n",
       "      <td>3869201651</td>\n",
       "      <td>1987</td>\n",
       "      <td>28</td>\n",
       "    </tr>\n",
       "    <tr>\n",
       "      <th>149120</th>\n",
       "      <td>1</td>\n",
       "      <td>0</td>\n",
       "      <td>46</td>\n",
       "      <td>3869201651</td>\n",
       "      <td>1992</td>\n",
       "      <td>20</td>\n",
       "    </tr>\n",
       "    <tr>\n",
       "      <th>149121</th>\n",
       "      <td>1</td>\n",
       "      <td>0</td>\n",
       "      <td>123</td>\n",
       "      <td>3869201651</td>\n",
       "      <td>1995</td>\n",
       "      <td>21</td>\n",
       "    </tr>\n",
       "    <tr>\n",
       "      <th>149122</th>\n",
       "      <td>1</td>\n",
       "      <td>0</td>\n",
       "      <td>44</td>\n",
       "      <td>3869201651</td>\n",
       "      <td>1998</td>\n",
       "      <td>0</td>\n",
       "    </tr>\n",
       "  </tbody>\n",
       "</table>\n",
       "<p>149123 rows × 6 columns</p>\n",
       "</div>"
      ],
      "text/plain": [
       "        HEAD  FPGA  TDC_CHANNEL   ORBIT_CNT  BX_COUNTER  TDC_MEAS\n",
       "0          1     0          123  3869200167        2374        26\n",
       "1          1     0          124  3869200167        2374        27\n",
       "2          1     0           63  3869200167        2553        28\n",
       "3          1     0           64  3869200167        2558        19\n",
       "4          1     0           64  3869200167        2760        25\n",
       "...      ...   ...          ...         ...         ...       ...\n",
       "149118     1     0           29  3869201651         929        26\n",
       "149119     1     0           43  3869201651        1987        28\n",
       "149120     1     0           46  3869201651        1992        20\n",
       "149121     1     0          123  3869201651        1995        21\n",
       "149122     1     0           44  3869201651        1998         0\n",
       "\n",
       "[149123 rows x 6 columns]"
      ]
     },
     "execution_count": 2,
     "metadata": {},
     "output_type": "execute_result"
    }
   ],
   "source": [
    "import numpy as np\n",
    "import pandas as pd\n",
    "import datetime as dt\n",
    "\n",
    "\n",
    "dataf = pd.read_csv('data/data_000637.txt.2', nrows = np.random.randint(1000,1310721))\n",
    "dataf"
   ]
  },
  {
   "cell_type": "markdown",
   "metadata": {},
   "source": [
    "2\\. Estimate the number of BX in a ORBIT (the value `x`).\n",
    "\n",
    "*Hint*: check when the BX counter reaches the maximum value before being reset to 0."
   ]
  },
  {
   "cell_type": "code",
   "execution_count": 3,
   "metadata": {},
   "outputs": [
    {
     "data": {
      "text/plain": [
       "2922.982972136223"
      ]
     },
     "execution_count": 3,
     "metadata": {},
     "output_type": "execute_result"
    }
   ],
   "source": [
    "x = dataf.groupby('ORBIT_CNT')['BX_COUNTER'].transform(np.max).unique().mean()\n",
    "x"
   ]
  },
  {
   "cell_type": "markdown",
   "metadata": {},
   "source": [
    "3\\. Create a new column with the absolute time in ns (as a combination of the other three columns with timing information) since the beginning of the data acquisition, and convert the new column to a Time Series."
   ]
  },
  {
   "cell_type": "code",
   "execution_count": 10,
   "metadata": {},
   "outputs": [
    {
     "data": {
      "text/html": [
       "<div>\n",
       "<style scoped>\n",
       "    .dataframe tbody tr th:only-of-type {\n",
       "        vertical-align: middle;\n",
       "    }\n",
       "\n",
       "    .dataframe tbody tr th {\n",
       "        vertical-align: top;\n",
       "    }\n",
       "\n",
       "    .dataframe thead th {\n",
       "        text-align: right;\n",
       "    }\n",
       "</style>\n",
       "<table border=\"1\" class=\"dataframe\">\n",
       "  <thead>\n",
       "    <tr style=\"text-align: right;\">\n",
       "      <th></th>\n",
       "      <th>HEAD</th>\n",
       "      <th>FPGA</th>\n",
       "      <th>TDC_CHANNEL</th>\n",
       "      <th>ORBIT_CNT</th>\n",
       "      <th>BX_COUNTER</th>\n",
       "      <th>TDC_MEAS</th>\n",
       "      <th>Absolute Time (ns)</th>\n",
       "      <th>Absolute Time (Datetime)</th>\n",
       "    </tr>\n",
       "  </thead>\n",
       "  <tbody>\n",
       "    <tr>\n",
       "      <th>0</th>\n",
       "      <td>1</td>\n",
       "      <td>0</td>\n",
       "      <td>123</td>\n",
       "      <td>3869200167</td>\n",
       "      <td>2374</td>\n",
       "      <td>26</td>\n",
       "      <td>5.937167e+04</td>\n",
       "      <td>1970-01-01 00:00:00.000059371</td>\n",
       "    </tr>\n",
       "    <tr>\n",
       "      <th>1</th>\n",
       "      <td>1</td>\n",
       "      <td>0</td>\n",
       "      <td>124</td>\n",
       "      <td>3869200167</td>\n",
       "      <td>2374</td>\n",
       "      <td>27</td>\n",
       "      <td>1.187442e+05</td>\n",
       "      <td>1970-01-01 00:00:00.000118744</td>\n",
       "    </tr>\n",
       "    <tr>\n",
       "      <th>2</th>\n",
       "      <td>1</td>\n",
       "      <td>0</td>\n",
       "      <td>63</td>\n",
       "      <td>3869200167</td>\n",
       "      <td>2553</td>\n",
       "      <td>28</td>\n",
       "      <td>1.825925e+05</td>\n",
       "      <td>1970-01-01 00:00:00.000182592</td>\n",
       "    </tr>\n",
       "    <tr>\n",
       "      <th>3</th>\n",
       "      <td>1</td>\n",
       "      <td>0</td>\n",
       "      <td>64</td>\n",
       "      <td>3869200167</td>\n",
       "      <td>2558</td>\n",
       "      <td>19</td>\n",
       "      <td>2.465583e+05</td>\n",
       "      <td>1970-01-01 00:00:00.000246558</td>\n",
       "    </tr>\n",
       "    <tr>\n",
       "      <th>4</th>\n",
       "      <td>1</td>\n",
       "      <td>0</td>\n",
       "      <td>64</td>\n",
       "      <td>3869200167</td>\n",
       "      <td>2760</td>\n",
       "      <td>25</td>\n",
       "      <td>3.155792e+05</td>\n",
       "      <td>1970-01-01 00:00:00.000315579</td>\n",
       "    </tr>\n",
       "    <tr>\n",
       "      <th>...</th>\n",
       "      <td>...</td>\n",
       "      <td>...</td>\n",
       "      <td>...</td>\n",
       "      <td>...</td>\n",
       "      <td>...</td>\n",
       "      <td>...</td>\n",
       "      <td>...</td>\n",
       "      <td>...</td>\n",
       "    </tr>\n",
       "    <tr>\n",
       "      <th>149118</th>\n",
       "      <td>1</td>\n",
       "      <td>0</td>\n",
       "      <td>29</td>\n",
       "      <td>3869201651</td>\n",
       "      <td>929</td>\n",
       "      <td>26</td>\n",
       "      <td>6.671518e+09</td>\n",
       "      <td>1970-01-01 00:00:06.671518380</td>\n",
       "    </tr>\n",
       "    <tr>\n",
       "      <th>149119</th>\n",
       "      <td>1</td>\n",
       "      <td>0</td>\n",
       "      <td>43</td>\n",
       "      <td>3869201651</td>\n",
       "      <td>1987</td>\n",
       "      <td>28</td>\n",
       "      <td>6.671568e+09</td>\n",
       "      <td>1970-01-01 00:00:06.671568079</td>\n",
       "    </tr>\n",
       "    <tr>\n",
       "      <th>149120</th>\n",
       "      <td>1</td>\n",
       "      <td>0</td>\n",
       "      <td>46</td>\n",
       "      <td>3869201651</td>\n",
       "      <td>1992</td>\n",
       "      <td>20</td>\n",
       "      <td>6.671618e+09</td>\n",
       "      <td>1970-01-01 00:00:06.671617895</td>\n",
       "    </tr>\n",
       "    <tr>\n",
       "      <th>149121</th>\n",
       "      <td>1</td>\n",
       "      <td>0</td>\n",
       "      <td>123</td>\n",
       "      <td>3869201651</td>\n",
       "      <td>1995</td>\n",
       "      <td>21</td>\n",
       "      <td>6.671668e+09</td>\n",
       "      <td>1970-01-01 00:00:06.671667788</td>\n",
       "    </tr>\n",
       "    <tr>\n",
       "      <th>149122</th>\n",
       "      <td>1</td>\n",
       "      <td>0</td>\n",
       "      <td>44</td>\n",
       "      <td>3869201651</td>\n",
       "      <td>1998</td>\n",
       "      <td>0</td>\n",
       "      <td>6.671718e+09</td>\n",
       "      <td>1970-01-01 00:00:06.671717738</td>\n",
       "    </tr>\n",
       "  </tbody>\n",
       "</table>\n",
       "<p>149123 rows × 8 columns</p>\n",
       "</div>"
      ],
      "text/plain": [
       "        HEAD  FPGA  TDC_CHANNEL   ORBIT_CNT  BX_COUNTER  TDC_MEAS  \\\n",
       "0          1     0          123  3869200167        2374        26   \n",
       "1          1     0          124  3869200167        2374        27   \n",
       "2          1     0           63  3869200167        2553        28   \n",
       "3          1     0           64  3869200167        2558        19   \n",
       "4          1     0           64  3869200167        2760        25   \n",
       "...      ...   ...          ...         ...         ...       ...   \n",
       "149118     1     0           29  3869201651         929        26   \n",
       "149119     1     0           43  3869201651        1987        28   \n",
       "149120     1     0           46  3869201651        1992        20   \n",
       "149121     1     0          123  3869201651        1995        21   \n",
       "149122     1     0           44  3869201651        1998         0   \n",
       "\n",
       "        Absolute Time (ns)      Absolute Time (Datetime)  \n",
       "0             5.937167e+04 1970-01-01 00:00:00.000059371  \n",
       "1             1.187442e+05 1970-01-01 00:00:00.000118744  \n",
       "2             1.825925e+05 1970-01-01 00:00:00.000182592  \n",
       "3             2.465583e+05 1970-01-01 00:00:00.000246558  \n",
       "4             3.155792e+05 1970-01-01 00:00:00.000315579  \n",
       "...                    ...                           ...  \n",
       "149118        6.671518e+09 1970-01-01 00:00:06.671518380  \n",
       "149119        6.671568e+09 1970-01-01 00:00:06.671568079  \n",
       "149120        6.671618e+09 1970-01-01 00:00:06.671617895  \n",
       "149121        6.671668e+09 1970-01-01 00:00:06.671667788  \n",
       "149122        6.671718e+09 1970-01-01 00:00:06.671717738  \n",
       "\n",
       "[149123 rows x 8 columns]"
      ]
     },
     "execution_count": 10,
     "metadata": {},
     "output_type": "execute_result"
    }
   ],
   "source": [
    "dataf['Absolute Time (ns)'] = (dataf['TDC_MEAS']*(25/30) + dataf['BX_COUNTER']*25).cumsum()\n",
    "dataf['Absolute Time (Datetime)'] = pd.to_datetime(dataf['Absolute Time (ns)'])\n",
    "dataf"
   ]
  },
  {
   "cell_type": "markdown",
   "metadata": {},
   "source": [
    "4\\. Find out the duration of the data taking in hours, minutes and seconds, by using the features of the Time Series. Perform this check reading the whole dataset."
   ]
  },
  {
   "cell_type": "code",
   "execution_count": 44,
   "metadata": {},
   "outputs": [
    {
     "name": "stdout",
     "output_type": "stream",
     "text": [
      "0 days 00:00:06.671658367\n",
      "0.0016666666666666668 0.1 6671.658367\n",
      "0.0018532384352777777 0.11119430611666667 6.671658367\n"
     ]
    }
   ],
   "source": [
    "duration = dataf.iloc[-1,7] - dataf.iloc[0,7]\n",
    "print(duration)\n",
    "(duration_h, duration_m, duration_s) = (((dataf.iloc[-1,7] - dataf.iloc[0,7]).seconds)/3600, ((dataf.iloc[-1,7] - dataf.iloc[0,7]).seconds)/60, ((dataf.iloc[-1,7] - dataf.iloc[0,7]).seconds))\n",
    "\n",
    "\n",
    "(duration_h1, duration_m1, duration_sec1) = ((dataf.iloc[-1,7].value - dataf.iloc[0,7].value)/((10**9)*3600), (dataf.iloc[-1,7].value - dataf.loc[0,'Absolute Time (Datetime)'].value)/((10**9)*60), (dataf.iloc[-1,7].value - dataf.loc[0,'Absolute Time (Datetime)'].value)/(10**9)) \n",
    "\n",
    "\n",
    "print(duration_h, duration_m, duration_sec)\n",
    "print(duration_h1, duration_m1, duration_sec1)"
   ]
  },
  {
   "cell_type": "markdown",
   "metadata": {},
   "source": [
    "5\\. Use the `.groupby()` method to find out the noisy channels, i.e. the TDC channels with most counts (print to screen the top 3 and the corresponding counts)"
   ]
  },
  {
   "cell_type": "code",
   "execution_count": 62,
   "metadata": {},
   "outputs": [
    {
     "name": "stdout",
     "output_type": "stream",
     "text": [
      "FPGA  TDC_CHANNEL\n",
      "0     139            8704\n",
      "      64             7240\n",
      "      63             7163\n",
      "Name: TDC_CHANNEL, dtype: int64\n"
     ]
    }
   ],
   "source": [
    "#counts = dataf.groupby(['FPGA','TDC_CHANNEL'])['TDC_CHANNEL'].count().sort_values(ascending = False) #è una serie\n",
    "#print(counts.head(3))\n",
    "print(dataf.groupby(['FPGA','TDC_CHANNEL'])['TDC_CHANNEL'].count().sort_values(ascending = False).head(3))"
   ]
  },
  {
   "cell_type": "markdown",
   "metadata": {},
   "source": [
    "6\\. Count the number of non-empty orbits (i.e. the number of orbits with at least one hit)."
   ]
  },
  {
   "cell_type": "code",
   "execution_count": 91,
   "metadata": {},
   "outputs": [
    {
     "data": {
      "text/plain": [
       "1483"
      ]
     },
     "execution_count": 91,
     "metadata": {},
     "output_type": "execute_result"
    }
   ],
   "source": [
    "(dataf.groupby('ORBIT_CNT')['ORBIT_CNT'].count() >= 1).count()"
   ]
  },
  {
   "cell_type": "markdown",
   "metadata": {},
   "source": [
    "7\\. Count the number of unique orbits with at least one measurement from TDC_CHANNEL=139."
   ]
  },
  {
   "cell_type": "code",
   "execution_count": 92,
   "metadata": {},
   "outputs": [
    {
     "data": {
      "text/plain": [
       "1481"
      ]
     },
     "execution_count": 92,
     "metadata": {},
     "output_type": "execute_result"
    }
   ],
   "source": [
    "dataf[dataf['TDC_CHANNEL'] == 139]['ORBIT_CNT'].unique().shape[0]"
   ]
  },
  {
   "cell_type": "markdown",
   "metadata": {},
   "source": [
    "8\\. Create two Series (one for each FPGA) that have the TDC channel as index, and the number of counts for the corresponding TDC channel as values."
   ]
  },
  {
   "cell_type": "code",
   "execution_count": 122,
   "metadata": {},
   "outputs": [
    {
     "name": "stdout",
     "output_type": "stream",
     "text": [
      "TDC_CHANNEL\n",
      "1       139\n",
      "2       170\n",
      "3       173\n",
      "4       240\n",
      "5       177\n",
      "       ... \n",
      "129       1\n",
      "130       5\n",
      "137       4\n",
      "138       4\n",
      "139    8704\n",
      "Name: TDC_CHANNEL, Length: 122, dtype: int64 \n",
      "\n",
      "TDC_CHANNEL\n",
      "1      3206\n",
      "2      3685\n",
      "3      2493\n",
      "4      2988\n",
      "5      1699\n",
      "       ... \n",
      "129       4\n",
      "130       6\n",
      "137       4\n",
      "138       4\n",
      "139    3702\n",
      "Name: TDC_CHANNEL, Length: 132, dtype: int64 \n",
      "\n"
     ]
    }
   ],
   "source": [
    "FPGA0 = (dataf[dataf['FPGA']== 0]).groupby('TDC_CHANNEL')['TDC_CHANNEL'].count()\n",
    "FPGA1 = (dataf[dataf['FPGA']==1]).groupby('TDC_CHANNEL')['TDC_CHANNEL'].count()\n",
    "print(FPGA0,'\\n')\n",
    "print(FPGA1,'\\n')"
   ]
  },
  {
   "cell_type": "markdown",
   "metadata": {},
   "source": [
    "9\\. **Optional:** Create two histograms (one for each FPGA) that show the number of counts for each TDC channel."
   ]
  },
  {
   "cell_type": "code",
   "execution_count": null,
   "metadata": {},
   "outputs": [],
   "source": []
  }
 ],
 "metadata": {
  "kernelspec": {
   "display_name": "Python 3 (ipykernel)",
   "language": "python",
   "name": "python3"
  },
  "language_info": {
   "codemirror_mode": {
    "name": "ipython",
    "version": 3
   },
   "file_extension": ".py",
   "mimetype": "text/x-python",
   "name": "python",
   "nbconvert_exporter": "python",
   "pygments_lexer": "ipython3",
   "version": "3.8.6"
  }
 },
 "nbformat": 4,
 "nbformat_minor": 2
}
