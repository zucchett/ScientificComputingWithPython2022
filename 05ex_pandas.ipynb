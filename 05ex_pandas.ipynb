{
 "cells": [
  {
   "cell_type": "markdown",
   "metadata": {},
   "source": [
    "1\\. **Pandas DataFrame**\n",
    "\n",
    "This exercise consists in analyzing a dataset containg timing information from a series of Time-to-Digital-Converters (TDC) implemented in a pair of FPGAs. Each measurement (i.e. each row of the input file) consists of a flag that specifies the type of message ('HEAD', which in this case is always 1), two addresses of the TDC providing the signal ('FPGA' and 'TDC_CHANNEL'), and the timing information ('ORBIT_CNT', 'BX_COUNTER', and 'TDC_MEAS'). Each TDC count corresponds to 25/30 ns, whereas a unit of BX_COUNTER corresponds to 25 ns, and the ORBIT_CNT is increased every `x` BX_COUNTER. This allows to store the time in a similar way to hours, minutes and seconds."
   ]
  },
  {
   "cell_type": "code",
   "execution_count": null,
   "metadata": {},
   "outputs": [],
   "source": [
    "# If haven't downloaded it yet, please get the data file with wget\n",
    "#!wget https://www.dropbox.com/s/xvjzaxzz3ysphme/data_000637.txt -P ./data/"
   ]
  },
  {
   "cell_type": "markdown",
   "metadata": {},
   "source": [
    "1\\. Create a Pandas DataFrame reading N rows of the `data/data_000637.txt` dataset. Choose N to be smaller than or equal to the maximum number of rows and larger that 10k (check the documentation)."
   ]
  },
  {
   "cell_type": "code",
   "execution_count": 1,
   "metadata": {},
   "outputs": [
    {
     "name": "stdout",
     "output_type": "stream",
     "text": [
      "746247\n"
     ]
    }
   ],
   "source": [
    "import pandas as pd\n",
    "import numpy as np\n",
    "\n",
    "N = np.random.randint(10000,len(pd.read_csv(\"data/data_000637.txt\")))\n",
    "data = pd.read_csv(\"data/data_000637.txt\",nrows=N)\n",
    "\n",
    "print(len(data))"
   ]
  },
  {
   "cell_type": "markdown",
   "metadata": {},
   "source": [
    "2\\. Estimate the number of BX in a ORBIT (the value `x`).\n",
    "\n",
    "*Hint*: check when the BX counter reaches the maximum value before being reset to 0."
   ]
  },
  {
   "cell_type": "code",
   "execution_count": 2,
   "metadata": {},
   "outputs": [
    {
     "name": "stdout",
     "output_type": "stream",
     "text": [
      "<class 'pandas.core.frame.DataFrame'>\n",
      "Number of BX in a random ORBIT \n",
      " 82\n"
     ]
    }
   ],
   "source": [
    "print(type(data))\n",
    "import matplotlib.pyplot as plt\n",
    "\n",
    "# data[\"BX_COUNTER\"]\n",
    "ORBITS = list(set(data[\"ORBIT_CNT\"].values)) \n",
    "print(\"Number of BX in a random ORBIT \\n\",len(data[data['ORBIT_CNT']==np.random.choice(ORBITS)]['BX_COUNTER']))\n"
   ]
  },
  {
   "cell_type": "markdown",
   "metadata": {},
   "source": [
    "3\\. Create a new column with the absolute time in ns (as a combination of the other three columns with timing information) since the beginning of the data acquisition, and convert the new column to a Time Series."
   ]
  },
  {
   "cell_type": "code",
   "execution_count": 4,
   "metadata": {},
   "outputs": [
    {
     "name": "stdout",
     "output_type": "stream",
     "text": [
      "        HEAD  FPGA  TDC_CHANNEL   ORBIT_CNT  BX_COUNTER  TDC_MEAS  \\\n",
      "0          1     0          123  3869200167        2374        26   \n",
      "1          1     0          124  3869200167        2374        27   \n",
      "2          1     0           63  3869200167        2553        28   \n",
      "3          1     0           64  3869200167        2558        19   \n",
      "4          1     0           64  3869200167        2760        25   \n",
      "...      ...   ...          ...         ...         ...       ...   \n",
      "746242     1     0           48  3869207324        2282        20   \n",
      "746243     1     1           22  3869207324        2288        27   \n",
      "746244     1     0           64  3869207324        2283        11   \n",
      "746245     1     1            3  3869207324        2284         5   \n",
      "746246     1     0           44  3869207324        2281        24   \n",
      "\n",
      "            ABS_TIME               ABS_TIME_SERIES  \n",
      "0      -9.672994e+10 1969-12-31 23:58:23.270055197  \n",
      "1      -9.672994e+10 1969-12-31 23:58:23.270055198  \n",
      "2      -9.672994e+10 1969-12-31 23:58:23.270059674  \n",
      "3      -9.672994e+10 1969-12-31 23:58:23.270059791  \n",
      "4      -9.672994e+10 1969-12-31 23:58:23.270064846  \n",
      "...              ...                           ...  \n",
      "746242 -9.673013e+10 1969-12-31 23:58:23.269873967  \n",
      "746243 -9.673013e+10 1969-12-31 23:58:23.269874123  \n",
      "746244 -9.673013e+10 1969-12-31 23:58:23.269873985  \n",
      "746245 -9.673013e+10 1969-12-31 23:58:23.269874005  \n",
      "746246 -9.673013e+10 1969-12-31 23:58:23.269873945  \n",
      "\n",
      "[746247 rows x 8 columns]\n"
     ]
    }
   ],
   "source": [
    "def time(orb,bx,tdc,max):\n",
    "    return  (orb*max*25)+ (bx*25) + ((25/30)*tdc)\n",
    "max_BX = -1\n",
    "data['ABS_TIME'] = time(data['ORBIT_CNT'], data['BX_COUNTER'], data['TDC_MEAS'],max_BX)\n",
    "data['ABS_TIME_SERIES'] = pd.to_datetime(data['ABS_TIME'])\n",
    "print(data)\n"
   ]
  },
  {
   "cell_type": "markdown",
   "metadata": {},
   "source": [
    "4\\. Find out the duration of the data taking in hours, minutes and seconds, by using the features of the Time Series. Perform this check reading the whole dataset."
   ]
  },
  {
   "cell_type": "code",
   "execution_count": 5,
   "metadata": {},
   "outputs": [
    {
     "name": "stdout",
     "output_type": "stream",
     "text": [
      "-1 days +23:59:59.999818748\n"
     ]
    }
   ],
   "source": [
    "print(data['ABS_TIME_SERIES'][len(data)-1] - data['ABS_TIME_SERIES'][0])"
   ]
  },
  {
   "cell_type": "markdown",
   "metadata": {},
   "source": [
    "5\\. Use the `.groupby()` method to find out the noisy channels, i.e. the TDC channels with most counts (print to screen the top 3 and the corresponding counts)"
   ]
  },
  {
   "cell_type": "code",
   "execution_count": 6,
   "metadata": {},
   "outputs": [
    {
     "data": {
      "text/plain": [
       "TDC_CHANNEL\n",
       "139    61836\n",
       "64     37396\n",
       "63     36768\n",
       "dtype: int64"
      ]
     },
     "execution_count": 6,
     "metadata": {},
     "output_type": "execute_result"
    }
   ],
   "source": [
    "noisy = data.groupby('TDC_CHANNEL').size().sort_values(ascending=False)\n",
    "noisy.iloc[:3]"
   ]
  },
  {
   "cell_type": "markdown",
   "metadata": {},
   "source": [
    "6\\. Count the number of non-empty orbits (i.e. the number of orbits with at least one hit)."
   ]
  },
  {
   "cell_type": "code",
   "execution_count": 7,
   "metadata": {},
   "outputs": [
    {
     "name": "stdout",
     "output_type": "stream",
     "text": [
      "7154\n"
     ]
    }
   ],
   "source": [
    "col = data.groupby(['ORBIT_CNT']).count()\n",
    "print(len(col))"
   ]
  },
  {
   "cell_type": "markdown",
   "metadata": {},
   "source": [
    "7\\. Count the number of unique orbits with at least one measurement from TDC_CHANNEL=139."
   ]
  },
  {
   "cell_type": "code",
   "execution_count": 8,
   "metadata": {},
   "outputs": [
    {
     "name": "stdout",
     "output_type": "stream",
     "text": [
      "7129\n"
     ]
    }
   ],
   "source": [
    "print(len(list(set(data[data['TDC_CHANNEL']==139]['ORBIT_CNT']))))"
   ]
  },
  {
   "cell_type": "markdown",
   "metadata": {},
   "source": [
    "8\\. Create two Series (one for each FPGA) that have the TDC channel as index, and the number of counts for the corresponding TDC channel as values."
   ]
  },
  {
   "cell_type": "code",
   "execution_count": 9,
   "metadata": {},
   "outputs": [
    {
     "name": "stdout",
     "output_type": "stream",
     "text": [
      "FPGA_0 : TDC_CHANNEL\n",
      "1        696\n",
      "2        886\n",
      "3        867\n",
      "4       1331\n",
      "5        819\n",
      "       ...  \n",
      "129        2\n",
      "130       18\n",
      "137       17\n",
      "138       18\n",
      "139    43335\n",
      "Length: 124, dtype: int64\n",
      "FPGA_1 : TDC_CHANNEL\n",
      "1      16119\n",
      "2      18503\n",
      "3      12487\n",
      "4      14942\n",
      "5       8455\n",
      "       ...  \n",
      "129       19\n",
      "130       22\n",
      "137       20\n",
      "138       20\n",
      "139    18501\n",
      "Length: 132, dtype: int64\n"
     ]
    }
   ],
   "source": [
    "FPGA_0 = data[data['FPGA']==0]\n",
    "FPGA_1 = data[data['FPGA']==1]\n",
    "print(\"FPGA_0 :\",pd.Series(FPGA_0.groupby('TDC_CHANNEL').size()))\n",
    "print(\"FPGA_1 :\",pd.Series(FPGA_1.groupby('TDC_CHANNEL').size()))"
   ]
  },
  {
   "cell_type": "markdown",
   "metadata": {},
   "source": [
    "9\\. **Optional:** Create two histograms (one for each FPGA) that show the number of counts for each TDC channel."
   ]
  },
  {
   "cell_type": "code",
   "execution_count": 10,
   "metadata": {},
   "outputs": [
    {
     "data": {
      "image/png": "[encoded data removed]",
      "text/plain": [
       "<Figure size 432x288 with 1 Axes>"
      ]
     },
     "metadata": {
      "needs_background": "light"
     },
     "output_type": "display_data"
    },
    {
     "data": {
      "image/png": "[encoded data removed]",
      "text/plain": [
       "<Figure size 432x288 with 1 Axes>"
      ]
     },
     "metadata": {
      "needs_background": "light"
     },
     "output_type": "display_data"
    }
   ],
   "source": [
    "histogram_0 = FPGA_0.hist(column = 'TDC_CHANNEL', grid = False, color = 'red')\n",
    "plt.title('FPGA = 0')\n",
    "plt.xlabel('TDC channel')\n",
    "plt.ylabel('Count')\n",
    "histogram_1 = FPGA_1.hist(column = 'TDC_CHANNEL', grid = False, color = 'blue')\n",
    "plt.title('FPGA = 1')\n",
    "plt.xlabel('TDC channel')\n",
    "plt.ylabel('Count')\n",
    "plt.show()\n"
   ]
  }
 ],
 "metadata": {
  "kernelspec": {
   "display_name": "Python 3.10.1 64-bit",
   "language": "python",
   "name": "python3"
  },
  "language_info": {
   "codemirror_mode": {
    "name": "ipython",
    "version": 3
   },
   "file_extension": ".py",
   "mimetype": "text/x-python",
   "name": "python",
   "nbconvert_exporter": "python",
   "pygments_lexer": "ipython3",
   "version": "3.10.1"
  },
  "vscode": {
   "interpreter": {
    "hash": "d28f11b45618a7bd5a6e1d0e55704f4699015ab89f0f7c3e2b8a8e0497fed2b0"
   }
  }
 },
 "nbformat": 4,
 "nbformat_minor": 2
}
