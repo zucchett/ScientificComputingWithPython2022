{
 "cells": [
  {
   "cell_type": "markdown",
   "metadata": {},
   "source": [
    "1\\. **Pandas DataFrame**\n",
    "\n",
    "This exercise consists in analyzing a dataset containg timing information from a series of Time-to-Digital-Converters (TDC) implemented in a pair of FPGAs. Each measurement (i.e. each row of the input file) consists of a flag that specifies the type of message ('HEAD', which in this case is always 1), two addresses of the TDC providing the signal ('FPGA' and 'TDC_CHANNEL'), and the timing information ('ORBIT_CNT', 'BX_COUNTER', and 'TDC_MEAS'). Each TDC count corresponds to 25/30 ns, whereas a unit of BX_COUNTER corresponds to 25 ns, and the ORBIT_CNT is increased every `x` BX_COUNTER. This allows to store the time in a similar way to hours, minutes and seconds."
   ]
  },
  {
   "cell_type": "code",
   "execution_count": 1,
   "metadata": {},
   "outputs": [
    {
     "name": "stdout",
     "output_type": "stream",
     "text": [
      "--2022-11-16 16:06:53--  https://www.dropbox.com/s/xvjzaxzz3ysphme/data_000637.txt\n",
      "Resolving www.dropbox.com (www.dropbox.com)... 162.125.69.18\n",
      "Connecting to www.dropbox.com (www.dropbox.com)|162.125.69.18|:443... connected.\n",
      "HTTP request sent, awaiting response... 302 Found\n",
      "Location: /s/raw/xvjzaxzz3ysphme/data_000637.txt [following]\n",
      "--2022-11-16 16:06:53--  https://www.dropbox.com/s/raw/xvjzaxzz3ysphme/data_000637.txt\n",
      "Reusing existing connection to www.dropbox.com:443.\n",
      "HTTP request sent, awaiting response... 302 Found\n",
      "Location: https://uc60654015e078fee66c0138a9d5.dl.dropboxusercontent.com/cd/0/inline/Bw1Xb1Zrlsnzvs4UAUVeXcfVuUrBeM0CtAI3RR0Gfctsk9bQGWuGDATxUOsxuKL7DU3TH9O6gt5HDsXEuRaK6v1e2WwrzOL7HgNA73m3Upr5JxpnZmXXUzYy06SyVl2LTakecOUJZWgr9-bAam6JJrYmllBjK6TOX-CXnFpK27xsbA/file# [following]\n",
      "--2022-11-16 16:06:54--  https://uc60654015e078fee66c0138a9d5.dl.dropboxusercontent.com/cd/0/inline/Bw1Xb1Zrlsnzvs4UAUVeXcfVuUrBeM0CtAI3RR0Gfctsk9bQGWuGDATxUOsxuKL7DU3TH9O6gt5HDsXEuRaK6v1e2WwrzOL7HgNA73m3Upr5JxpnZmXXUzYy06SyVl2LTakecOUJZWgr9-bAam6JJrYmllBjK6TOX-CXnFpK27xsbA/file\n",
      "Resolving uc60654015e078fee66c0138a9d5.dl.dropboxusercontent.com (uc60654015e078fee66c0138a9d5.dl.dropboxusercontent.com)... 162.125.69.15\n",
      "Connecting to uc60654015e078fee66c0138a9d5.dl.dropboxusercontent.com (uc60654015e078fee66c0138a9d5.dl.dropboxusercontent.com)|162.125.69.15|:443... connected.\n",
      "HTTP request sent, awaiting response... 200 OK\n",
      "Length: 33179236 (32M) [text/plain]\n",
      "Saving to: './data/data_000637.txt.1'\n",
      "\n",
      "data_000637.txt.1   100%[===================>]  31.64M  7.23MB/s    in 4.5s    \n",
      "\n",
      "2022-11-16 16:06:59 (7.09 MB/s) - './data/data_000637.txt.1' saved [33179236/33179236]\n",
      "\n"
     ]
    }
   ],
   "source": [
    "# If haven't downloaded it yet, please get the data file with wget\n",
    "#!wget https://www.dropbox.com/s/xvjzaxzz3ysphme/data_000637.txt -P ./data/"
   ]
  },
  {
   "cell_type": "markdown",
   "metadata": {},
   "source": [
    "1\\. Create a Pandas DataFrame reading N rows of the `data/data_000637.txt` dataset. Choose N to be smaller than or equal to the maximum number of rows and larger that 10k (check the documentation)."
   ]
  },
  {
   "cell_type": "code",
   "execution_count": 1,
   "metadata": {},
   "outputs": [
    {
     "data": {
      "text/html": [
       "<div>\n",
       "<style scoped>\n",
       "    .dataframe tbody tr th:only-of-type {\n",
       "        vertical-align: middle;\n",
       "    }\n",
       "\n",
       "    .dataframe tbody tr th {\n",
       "        vertical-align: top;\n",
       "    }\n",
       "\n",
       "    .dataframe thead th {\n",
       "        text-align: right;\n",
       "    }\n",
       "</style>\n",
       "<table border=\"1\" class=\"dataframe\">\n",
       "  <thead>\n",
       "    <tr style=\"text-align: right;\">\n",
       "      <th></th>\n",
       "      <th>FHEAD</th>\n",
       "      <th>FPGA</th>\n",
       "      <th>TDC_CHANNEL</th>\n",
       "      <th>ORBIT_CNT</th>\n",
       "      <th>BX_COUNTER</th>\n",
       "      <th>TDC_MEAS</th>\n",
       "    </tr>\n",
       "  </thead>\n",
       "  <tbody>\n",
       "    <tr>\n",
       "      <th>0</th>\n",
       "      <td>1</td>\n",
       "      <td>0</td>\n",
       "      <td>123</td>\n",
       "      <td>3869200167</td>\n",
       "      <td>2374</td>\n",
       "      <td>26</td>\n",
       "    </tr>\n",
       "    <tr>\n",
       "      <th>1</th>\n",
       "      <td>1</td>\n",
       "      <td>0</td>\n",
       "      <td>124</td>\n",
       "      <td>3869200167</td>\n",
       "      <td>2374</td>\n",
       "      <td>27</td>\n",
       "    </tr>\n",
       "    <tr>\n",
       "      <th>2</th>\n",
       "      <td>1</td>\n",
       "      <td>0</td>\n",
       "      <td>63</td>\n",
       "      <td>3869200167</td>\n",
       "      <td>2553</td>\n",
       "      <td>28</td>\n",
       "    </tr>\n",
       "    <tr>\n",
       "      <th>3</th>\n",
       "      <td>1</td>\n",
       "      <td>0</td>\n",
       "      <td>64</td>\n",
       "      <td>3869200167</td>\n",
       "      <td>2558</td>\n",
       "      <td>19</td>\n",
       "    </tr>\n",
       "    <tr>\n",
       "      <th>4</th>\n",
       "      <td>1</td>\n",
       "      <td>0</td>\n",
       "      <td>64</td>\n",
       "      <td>3869200167</td>\n",
       "      <td>2760</td>\n",
       "      <td>25</td>\n",
       "    </tr>\n",
       "    <tr>\n",
       "      <th>...</th>\n",
       "      <td>...</td>\n",
       "      <td>...</td>\n",
       "      <td>...</td>\n",
       "      <td>...</td>\n",
       "      <td>...</td>\n",
       "      <td>...</td>\n",
       "    </tr>\n",
       "    <tr>\n",
       "      <th>19995</th>\n",
       "      <td>1</td>\n",
       "      <td>0</td>\n",
       "      <td>27</td>\n",
       "      <td>3869200366</td>\n",
       "      <td>2513</td>\n",
       "      <td>29</td>\n",
       "    </tr>\n",
       "    <tr>\n",
       "      <th>19996</th>\n",
       "      <td>1</td>\n",
       "      <td>0</td>\n",
       "      <td>63</td>\n",
       "      <td>3869200366</td>\n",
       "      <td>2517</td>\n",
       "      <td>6</td>\n",
       "    </tr>\n",
       "    <tr>\n",
       "      <th>19997</th>\n",
       "      <td>1</td>\n",
       "      <td>0</td>\n",
       "      <td>32</td>\n",
       "      <td>3869200366</td>\n",
       "      <td>2519</td>\n",
       "      <td>5</td>\n",
       "    </tr>\n",
       "    <tr>\n",
       "      <th>19998</th>\n",
       "      <td>1</td>\n",
       "      <td>0</td>\n",
       "      <td>17</td>\n",
       "      <td>3869200366</td>\n",
       "      <td>2522</td>\n",
       "      <td>21</td>\n",
       "    </tr>\n",
       "    <tr>\n",
       "      <th>19999</th>\n",
       "      <td>1</td>\n",
       "      <td>0</td>\n",
       "      <td>64</td>\n",
       "      <td>3869200366</td>\n",
       "      <td>2522</td>\n",
       "      <td>0</td>\n",
       "    </tr>\n",
       "  </tbody>\n",
       "</table>\n",
       "<p>20000 rows × 6 columns</p>\n",
       "</div>"
      ],
      "text/plain": [
       "       FHEAD  FPGA  TDC_CHANNEL   ORBIT_CNT  BX_COUNTER  TDC_MEAS\n",
       "0          1     0          123  3869200167        2374        26\n",
       "1          1     0          124  3869200167        2374        27\n",
       "2          1     0           63  3869200167        2553        28\n",
       "3          1     0           64  3869200167        2558        19\n",
       "4          1     0           64  3869200167        2760        25\n",
       "...      ...   ...          ...         ...         ...       ...\n",
       "19995      1     0           27  3869200366        2513        29\n",
       "19996      1     0           63  3869200366        2517         6\n",
       "19997      1     0           32  3869200366        2519         5\n",
       "19998      1     0           17  3869200366        2522        21\n",
       "19999      1     0           64  3869200366        2522         0\n",
       "\n",
       "[20000 rows x 6 columns]"
      ]
     },
     "execution_count": 1,
     "metadata": {},
     "output_type": "execute_result"
    }
   ],
   "source": [
    "import pandas as pd\n",
    "file_name = 'data/data_000637.txt'\n",
    "N = 20000\n",
    "TDC_dataframe = pd.read_csv(file_name,nrows=20000)\n",
    "TDC_dataframe"
   ]
  },
  {
   "cell_type": "markdown",
   "metadata": {},
   "source": [
    "2\\. Estimate the number of BX in a ORBIT (the value `x`).\n",
    "\n",
    "*Hint*: check when the BX counter reaches the maximum value before being reset to 0."
   ]
  },
  {
   "cell_type": "code",
   "execution_count": 2,
   "metadata": {},
   "outputs": [
    {
     "name": "stdout",
     "output_type": "stream",
     "text": [
      "Estimation of BX in a ORBIT(x): 3563\n"
     ]
    }
   ],
   "source": [
    "\"\"\"\n",
    "maxBX_COUNTER = data['BX_COUNTER'][0]\n",
    "for column in data['BX_COUNTER']:\n",
    "    if column != 0:\n",
    "        if column > maxBX_COUNTER:\n",
    "            maxBX_COUNTER = column\n",
    "        else:\n",
    "            maxBX_COUNTER = maxBX_COUNTER\n",
    "    else:\n",
    "          break\n",
    "print(maxBX_COUNTER)\n",
    "\"\"\"\n",
    "maxBX_COUNTER = TDC_dataframe['BX_COUNTER'].max()\n",
    "print(\"Estimation of BX in a ORBIT(x):\" ,maxBX_COUNTER)"
   ]
  },
  {
   "cell_type": "markdown",
   "metadata": {},
   "source": [
    "3\\. Create a new column with the absolute time in ns (as a combination of the other three columns with timing information) since the beginning of the data acquisition, and convert the new column to a Time Series."
   ]
  },
  {
   "cell_type": "code",
   "execution_count": 5,
   "metadata": {},
   "outputs": [
    {
     "name": "stdout",
     "output_type": "stream",
     "text": [
      "After converting the ['ABSLT_TIME'] column to time series we have a DataFrame:\n",
      "\n"
     ]
    },
    {
     "data": {
      "text/html": [
       "<div>\n",
       "<style scoped>\n",
       "    .dataframe tbody tr th:only-of-type {\n",
       "        vertical-align: middle;\n",
       "    }\n",
       "\n",
       "    .dataframe tbody tr th {\n",
       "        vertical-align: top;\n",
       "    }\n",
       "\n",
       "    .dataframe thead th {\n",
       "        text-align: right;\n",
       "    }\n",
       "</style>\n",
       "<table border=\"1\" class=\"dataframe\">\n",
       "  <thead>\n",
       "    <tr style=\"text-align: right;\">\n",
       "      <th></th>\n",
       "      <th>FHEAD</th>\n",
       "      <th>FPGA</th>\n",
       "      <th>TDC_CHANNEL</th>\n",
       "      <th>ORBIT_CNT</th>\n",
       "      <th>BX_COUNTER</th>\n",
       "      <th>TDC_MEAS</th>\n",
       "      <th>ABSLT_TIME</th>\n",
       "      <th>DURATION</th>\n",
       "    </tr>\n",
       "  </thead>\n",
       "  <tbody>\n",
       "    <tr>\n",
       "      <th>0</th>\n",
       "      <td>1</td>\n",
       "      <td>0</td>\n",
       "      <td>123</td>\n",
       "      <td>3869200167</td>\n",
       "      <td>2374</td>\n",
       "      <td>26</td>\n",
       "      <td>1970-01-04 23:45:45.734939071</td>\n",
       "      <td>3 days 23:45:45.734939071</td>\n",
       "    </tr>\n",
       "    <tr>\n",
       "      <th>1</th>\n",
       "      <td>1</td>\n",
       "      <td>0</td>\n",
       "      <td>124</td>\n",
       "      <td>3869200167</td>\n",
       "      <td>2374</td>\n",
       "      <td>27</td>\n",
       "      <td>1970-01-04 23:45:45.734939072</td>\n",
       "      <td>3 days 23:45:45.734939072</td>\n",
       "    </tr>\n",
       "    <tr>\n",
       "      <th>2</th>\n",
       "      <td>1</td>\n",
       "      <td>0</td>\n",
       "      <td>63</td>\n",
       "      <td>3869200167</td>\n",
       "      <td>2553</td>\n",
       "      <td>28</td>\n",
       "      <td>1970-01-04 23:45:45.734943548</td>\n",
       "      <td>3 days 23:45:45.734943548</td>\n",
       "    </tr>\n",
       "    <tr>\n",
       "      <th>3</th>\n",
       "      <td>1</td>\n",
       "      <td>0</td>\n",
       "      <td>64</td>\n",
       "      <td>3869200167</td>\n",
       "      <td>2558</td>\n",
       "      <td>19</td>\n",
       "      <td>1970-01-04 23:45:45.734943665</td>\n",
       "      <td>3 days 23:45:45.734943665</td>\n",
       "    </tr>\n",
       "    <tr>\n",
       "      <th>4</th>\n",
       "      <td>1</td>\n",
       "      <td>0</td>\n",
       "      <td>64</td>\n",
       "      <td>3869200167</td>\n",
       "      <td>2760</td>\n",
       "      <td>25</td>\n",
       "      <td>1970-01-04 23:45:45.734948720</td>\n",
       "      <td>3 days 23:45:45.734948720</td>\n",
       "    </tr>\n",
       "    <tr>\n",
       "      <th>...</th>\n",
       "      <td>...</td>\n",
       "      <td>...</td>\n",
       "      <td>...</td>\n",
       "      <td>...</td>\n",
       "      <td>...</td>\n",
       "      <td>...</td>\n",
       "      <td>...</td>\n",
       "      <td>...</td>\n",
       "    </tr>\n",
       "    <tr>\n",
       "      <th>19995</th>\n",
       "      <td>1</td>\n",
       "      <td>0</td>\n",
       "      <td>27</td>\n",
       "      <td>3869200366</td>\n",
       "      <td>2513</td>\n",
       "      <td>29</td>\n",
       "      <td>1970-01-04 23:45:45.752673449</td>\n",
       "      <td>3 days 23:45:45.752673449</td>\n",
       "    </tr>\n",
       "    <tr>\n",
       "      <th>19996</th>\n",
       "      <td>1</td>\n",
       "      <td>0</td>\n",
       "      <td>63</td>\n",
       "      <td>3869200366</td>\n",
       "      <td>2517</td>\n",
       "      <td>6</td>\n",
       "      <td>1970-01-04 23:45:45.752673530</td>\n",
       "      <td>3 days 23:45:45.752673530</td>\n",
       "    </tr>\n",
       "    <tr>\n",
       "      <th>19997</th>\n",
       "      <td>1</td>\n",
       "      <td>0</td>\n",
       "      <td>32</td>\n",
       "      <td>3869200366</td>\n",
       "      <td>2519</td>\n",
       "      <td>5</td>\n",
       "      <td>1970-01-04 23:45:45.752673579</td>\n",
       "      <td>3 days 23:45:45.752673579</td>\n",
       "    </tr>\n",
       "    <tr>\n",
       "      <th>19998</th>\n",
       "      <td>1</td>\n",
       "      <td>0</td>\n",
       "      <td>17</td>\n",
       "      <td>3869200366</td>\n",
       "      <td>2522</td>\n",
       "      <td>21</td>\n",
       "      <td>1970-01-04 23:45:45.752673667</td>\n",
       "      <td>3 days 23:45:45.752673667</td>\n",
       "    </tr>\n",
       "    <tr>\n",
       "      <th>19999</th>\n",
       "      <td>1</td>\n",
       "      <td>0</td>\n",
       "      <td>64</td>\n",
       "      <td>3869200366</td>\n",
       "      <td>2522</td>\n",
       "      <td>0</td>\n",
       "      <td>1970-01-04 23:45:45.752673650</td>\n",
       "      <td>3 days 23:45:45.752673650</td>\n",
       "    </tr>\n",
       "  </tbody>\n",
       "</table>\n",
       "<p>20000 rows × 8 columns</p>\n",
       "</div>"
      ],
      "text/plain": [
       "       FHEAD  FPGA  TDC_CHANNEL   ORBIT_CNT  BX_COUNTER  TDC_MEAS  \\\n",
       "0          1     0          123  3869200167        2374        26   \n",
       "1          1     0          124  3869200167        2374        27   \n",
       "2          1     0           63  3869200167        2553        28   \n",
       "3          1     0           64  3869200167        2558        19   \n",
       "4          1     0           64  3869200167        2760        25   \n",
       "...      ...   ...          ...         ...         ...       ...   \n",
       "19995      1     0           27  3869200366        2513        29   \n",
       "19996      1     0           63  3869200366        2517         6   \n",
       "19997      1     0           32  3869200366        2519         5   \n",
       "19998      1     0           17  3869200366        2522        21   \n",
       "19999      1     0           64  3869200366        2522         0   \n",
       "\n",
       "                         ABSLT_TIME                  DURATION  \n",
       "0     1970-01-04 23:45:45.734939071 3 days 23:45:45.734939071  \n",
       "1     1970-01-04 23:45:45.734939072 3 days 23:45:45.734939072  \n",
       "2     1970-01-04 23:45:45.734943548 3 days 23:45:45.734943548  \n",
       "3     1970-01-04 23:45:45.734943665 3 days 23:45:45.734943665  \n",
       "4     1970-01-04 23:45:45.734948720 3 days 23:45:45.734948720  \n",
       "...                             ...                       ...  \n",
       "19995 1970-01-04 23:45:45.752673449 3 days 23:45:45.752673449  \n",
       "19996 1970-01-04 23:45:45.752673530 3 days 23:45:45.752673530  \n",
       "19997 1970-01-04 23:45:45.752673579 3 days 23:45:45.752673579  \n",
       "19998 1970-01-04 23:45:45.752673667 3 days 23:45:45.752673667  \n",
       "19999 1970-01-04 23:45:45.752673650 3 days 23:45:45.752673650  \n",
       "\n",
       "[20000 rows x 8 columns]"
      ]
     },
     "execution_count": 5,
     "metadata": {},
     "output_type": "execute_result"
    }
   ],
   "source": [
    "from datetime import datetime as dt\n",
    "orbitCounter = TDC_dataframe[0:len(TDC_dataframe)]['ORBIT_CNT']\n",
    "bxCounter = TDC_dataframe[0:len(TDC_dataframe)]['BX_COUNTER']\n",
    "TDCmeasurements = TDC_dataframe[0:len(TDC_dataframe)]['TDC_MEAS']\n",
    "dateTimeCounter = []\n",
    "for i in range(0,len(orbitCounter)):\n",
    "    nanoseconds = ((orbitCounter[i] * (maxBX_COUNTER + 1) * 25) + (bxCounter[i] * 25) + (TDCmeasurements[i] * (25/30)))\n",
    "    #timestamp = pd.Timestamp(nanoseconds, unit='ns')\n",
    "    #datetime = dt.fromtimestamp(timestamp)\n",
    "    dateTimeCounter.append(nanoseconds)\n",
    "\n",
    "TDC_dataframe['ABSLT_TIME'] = dateTimeCounter\n",
    "TDC_dataframe['DURATION'] = pd.to_timedelta(TDC_dataframe['ABSLT_TIME'])\n",
    "TDC_dataframe['ABSLT_TIME'] = pd.to_datetime(TDC_dataframe['ABSLT_TIME'])\n",
    "\n",
    "#TDC_dataframe['ABSLT_TIME'] = TDC_dataframe['ABSLT_TIME'].astype('datetime64[ns]')\n",
    "print(\"After converting the ['ABSLT_TIME'] column to time series we have a DataFrame:\\n\")\n",
    "TDC_dataframe"
   ]
  },
  {
   "cell_type": "markdown",
   "metadata": {},
   "source": [
    "4\\. Find out the duration of the data taking in hours, minutes and seconds, by using the features of the Time Series. Perform this check reading the whole dataset."
   ]
  },
  {
   "cell_type": "code",
   "execution_count": 6,
   "metadata": {},
   "outputs": [
    {
     "name": "stdout",
     "output_type": "stream",
     "text": [
      "After adding the duration of data retrievement column:\n",
      "\n",
      "       FHEAD  FPGA  TDC_CHANNEL   ORBIT_CNT  BX_COUNTER  TDC_MEAS  \\\n",
      "0          1     0          123  3869200167        2374        26   \n",
      "1          1     0          124  3869200167        2374        27   \n",
      "2          1     0           63  3869200167        2553        28   \n",
      "3          1     0           64  3869200167        2558        19   \n",
      "4          1     0           64  3869200167        2760        25   \n",
      "...      ...   ...          ...         ...         ...       ...   \n",
      "19995      1     0           27  3869200366        2513        29   \n",
      "19996      1     0           63  3869200366        2517         6   \n",
      "19997      1     0           32  3869200366        2519         5   \n",
      "19998      1     0           17  3869200366        2522        21   \n",
      "19999      1     0           64  3869200366        2522         0   \n",
      "\n",
      "                         ABSLT_TIME                  DURATION  \n",
      "0     1970-01-04 23:45:45.734939071 3 days 23:45:45.734939071  \n",
      "1     1970-01-04 23:45:45.734939072 3 days 23:45:45.734939072  \n",
      "2     1970-01-04 23:45:45.734943548 3 days 23:45:45.734943548  \n",
      "3     1970-01-04 23:45:45.734943665 3 days 23:45:45.734943665  \n",
      "4     1970-01-04 23:45:45.734948720 3 days 23:45:45.734948720  \n",
      "...                             ...                       ...  \n",
      "19995 1970-01-04 23:45:45.752673449 3 days 23:45:45.752673449  \n",
      "19996 1970-01-04 23:45:45.752673530 3 days 23:45:45.752673530  \n",
      "19997 1970-01-04 23:45:45.752673579 3 days 23:45:45.752673579  \n",
      "19998 1970-01-04 23:45:45.752673667 3 days 23:45:45.752673667  \n",
      "19999 1970-01-04 23:45:45.752673650 3 days 23:45:45.752673650  \n",
      "\n",
      "[20000 rows x 8 columns]\n",
      "3 days 23:45:45.752673667\n",
      "3 days 23:45:45.734939071\n",
      "Duration difference between start and finish of the signal retrievement: 0 days 00:00:00.017734596\n",
      "0 days 00:00:00.017734596\n"
     ]
    }
   ],
   "source": [
    "print(\"After adding the duration of data retrievement column:\\n\")\n",
    "print(TDC_dataframe)\n",
    "print(TDC_dataframe['DURATION'].max())\n",
    "print(TDC_dataframe['DURATION'].min())\n",
    "print(\"Duration difference between start and finish of the signal retrievement:\",TDC_dataframe['DURATION'].max()-TDC_dataframe['DURATION'].min())\n",
    "duration=TDC_dataframe['ABSLT_TIME'].max()-TDC_dataframe['ABSLT_TIME'].min()\n",
    "print(duration)"
   ]
  },
  {
   "cell_type": "markdown",
   "metadata": {},
   "source": [
    "5\\. Use the `.groupby()` method to find out the noisy channels, i.e. the TDC channels with most counts (print to screen the top 3 and the corresponding counts)"
   ]
  },
  {
   "cell_type": "code",
   "execution_count": 7,
   "metadata": {},
   "outputs": [
    {
     "name": "stdout",
     "output_type": "stream",
     "text": [
      "             FHEAD  FPGA      ORBIT_CNT  BX_COUNTER  TDC_MEAS\n",
      "TDC_CHANNEL                                                  \n",
      "139           1693   522  6550556050500     2991203         0\n",
      "64             996    21  3853723466506     1834885     14512\n",
      "63             969     8  3749255057021     1753201     14389\n"
     ]
    }
   ],
   "source": [
    "groupby = (TDC_dataframe.groupby(['TDC_CHANNEL']).sum()).sort_values(by=['FHEAD'],ascending=False)\n",
    "print(groupby[:3])"
   ]
  },
  {
   "cell_type": "markdown",
   "metadata": {},
   "source": [
    "6\\. Count the number of non-empty orbits (i.e. the number of orbits with at least one hit)."
   ]
  },
  {
   "cell_type": "code",
   "execution_count": 8,
   "metadata": {},
   "outputs": [
    {
     "name": "stdout",
     "output_type": "stream",
     "text": [
      "Nonempty orbit count:  200\n"
     ]
    }
   ],
   "source": [
    "nonEmptyOrbitCount = len(TDC_dataframe.groupby(['ORBIT_CNT']).count())\n",
    "print(\"Nonempty orbit count: \",nonEmptyOrbitCount)"
   ]
  },
  {
   "cell_type": "markdown",
   "metadata": {},
   "source": [
    "7\\. Count the number of unique orbits with at least one measurement from TDC_CHANNEL=139."
   ]
  },
  {
   "cell_type": "code",
   "execution_count": 13,
   "metadata": {},
   "outputs": [
    {
     "name": "stdout",
     "output_type": "stream",
     "text": [
      "Number of unique orbits with at least one measurement from TDC channel 139: 200 \n",
      "\n"
     ]
    }
   ],
   "source": [
    "count = len(TDC_dataframe[TDC_dataframe['TDC_CHANNEL']==139].groupby('ORBIT_CNT').count())\n",
    "print(\"Number of unique orbits with at least one measurement from TDC channel 139:\",str(count),\"\\n\")\n"
   ]
  },
  {
   "cell_type": "markdown",
   "metadata": {},
   "source": [
    "8\\. Create two Series (one for each FPGA) that have the TDC channel as index, and the number of counts for the corresponding TDC channel as values."
   ]
  },
  {
   "cell_type": "code",
   "execution_count": 14,
   "metadata": {},
   "outputs": [
    {
     "name": "stdout",
     "output_type": "stream",
     "text": [
      "139    1171\n",
      "64      975\n",
      "63      961\n",
      "61      726\n",
      "62      711\n",
      "       ... \n",
      "107       6\n",
      "106       6\n",
      "98        5\n",
      "101       3\n",
      "67        2\n",
      "Name: TDC_CHANNEL, Length: 118, dtype: int64\n",
      "139    522\n",
      "2      479\n",
      "1      435\n",
      "4      393\n",
      "3      362\n",
      "      ... \n",
      "78       1\n",
      "86       1\n",
      "93       1\n",
      "76       1\n",
      "91       1\n",
      "Name: TDC_CHANNEL, Length: 125, dtype: int64\n"
     ]
    }
   ],
   "source": [
    "serFPGA0 = pd.Series(TDC_dataframe[TDC_dataframe['FPGA'] == 0]['TDC_CHANNEL'].value_counts())\n",
    "serFPGA1 = pd.Series(TDC_dataframe[TDC_dataframe['FPGA'] == 1]['TDC_CHANNEL'].value_counts())\n",
    "#FPGA1 = pd.Series(TDC_dataframe[TDC_dataframe['FPGA'] == 1]['TDC_CHANNEL'].value_counts(), index=TDC_dataframe['TDC_CHANNEL'])\n",
    "print(serFPGA0)\n",
    "print(serFPGA1)\n"
   ]
  },
  {
   "cell_type": "markdown",
   "metadata": {},
   "source": [
    "9\\. **Optional:** Create two histograms (one for each FPGA) that show the number of counts for each TDC channel."
   ]
  },
  {
   "cell_type": "code",
   "execution_count": 15,
   "metadata": {},
   "outputs": [
    {
     "data": {
      "image/png": "[encoded data removed]",
      "text/plain": [
       "<Figure size 720x432 with 1 Axes>"
      ]
     },
     "metadata": {
      "needs_background": "light"
     },
     "output_type": "display_data"
    },
    {
     "data": {
      "image/png": "[encoded data removed]",
      "text/plain": [
       "<Figure size 720x432 with 1 Axes>"
      ]
     },
     "metadata": {
      "needs_background": "light"
     },
     "output_type": "display_data"
    }
   ],
   "source": [
    "import matplotlib.pyplot as plt\n",
    "\"\"\"\n",
    "serFPGA0DF = TDC_dataframe[TDC_dataframe['FPGA']== 0].groupby('TDC_CHANNEL').size()\n",
    "serFPGA1DF = TDC_dataframe[TDC_dataframe['FPGA']== 1].groupby('TDC_CHANNEL').size()\n",
    "serFPGA0DFChannels = serFPGA0DF.index.values\n",
    "serFPGA1DFChannels = serFPGA1DF.index.values\n",
    "serFPGA0DFChannelsCounts = serFPGA0DF.values\n",
    "serFPGA1DFChannelsCounts = serFPGA1DF.values\n",
    "\"\"\"\n",
    "fig = plt.figure(figsize=(10, 6))\n",
    "bins = len(serFPGA0.index)\n",
    "h, bins, _ = plt.hist(serFPGA0.values, bins=bins) # create and plot the histogram\n",
    "# get the axes from the figure and pick the first (and only) element (beacuse there is only one axes)\n",
    "ax = fig.axes[0]\n",
    "ax.set_title('FPGA0')\n",
    "ax.set_xlabel('Channels')\n",
    "ax.set_ylabel('Counts')\n",
    "fig.tight_layout()\n",
    "\n",
    "fig = plt.figure(figsize=(10, 6))\n",
    "bins = len(serFPGA1.index)\n",
    "h, bins, _ = plt.hist(serFPGA1, bins=bins) # create and plot the histogram\n",
    "# get the axes from the figure and pick the first (and only) element (beacuse there is only one axes)\n",
    "ax = fig.axes[0]\n",
    "ax.set_title('FPGA1')\n",
    "ax.set_xlabel('Channels')\n",
    "ax.set_ylabel('Counts')\n",
    "fig.tight_layout()"
   ]
  },
  {
   "cell_type": "code",
   "execution_count": null,
   "metadata": {},
   "outputs": [],
   "source": []
  }
 ],
 "metadata": {
  "kernelspec": {
   "display_name": "Python 3 (ipykernel)",
   "language": "python",
   "name": "python3"
  },
  "language_info": {
   "codemirror_mode": {
    "name": "ipython",
    "version": 3
   },
   "file_extension": ".py",
   "mimetype": "text/x-python",
   "name": "python",
   "nbconvert_exporter": "python",
   "pygments_lexer": "ipython3",
   "version": "3.9.12"
  }
 },
 "nbformat": 4,
 "nbformat_minor": 4
}
