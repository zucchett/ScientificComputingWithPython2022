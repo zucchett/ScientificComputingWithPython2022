{
 "cells": [
  {
   "cell_type": "markdown",
   "metadata": {},
   "source": [
    "1\\. **Pandas DataFrame**\n",
    "\n",
    "This exercise consists in analyzing a dataset containg timing information from a series of Time-to-Digital-Converters (TDC) implemented in a pair of FPGAs. Each measurement (i.e. each row of the input file) consists of a flag that specifies the type of message ('HEAD', which in this case is always 1), two addresses of the TDC providing the signal ('FPGA' and 'TDC_CHANNEL'), and the timing information ('ORBIT_CNT', 'BX_COUNTER', and 'TDC_MEAS'). Each TDC count corresponds to 25/30 ns, whereas a unit of BX_COUNTER corresponds to 25 ns, and the ORBIT_CNT is increased every `x` BX_COUNTER. This allows to store the time in a similar way to hours, minutes and seconds."
   ]
  },
  {
   "cell_type": "code",
   "execution_count": null,
   "metadata": {},
   "outputs": [],
   "source": [
    "# If haven't downloaded it yet, please get the data file with wget\n",
    "#!wget https://www.dropbox.com/s/xvjzaxzz3ysphme/data_000637.txt -P ./data/"
   ]
  },
  {
   "cell_type": "markdown",
   "metadata": {},
   "source": [
    "1\\. Create a Pandas DataFrame reading N rows of the `data/data_000637.txt` dataset. Choose N to be smaller than or equal to the maximum number of rows and larger that 10k (check the documentation)."
   ]
  },
  {
   "cell_type": "code",
   "execution_count": 3,
   "metadata": {},
   "outputs": [
    {
     "name": "stdout",
     "output_type": "stream",
     "text": [
      "         HEAD  FPGA  TDC_CHANNEL   ORBIT_CNT  BX_COUNTER  TDC_MEAS\n",
      "0           1     0          123  3869200167        2374        26\n",
      "1           1     0          124  3869200167        2374        27\n",
      "2           1     0           63  3869200167        2553        28\n",
      "3           1     0           64  3869200167        2558        19\n",
      "4           1     0           64  3869200167        2760        25\n",
      "...       ...   ...          ...         ...         ...       ...\n",
      "1310715     1     0           62  3869211171         762        14\n",
      "1310716     1     1            4  3869211171         763        11\n",
      "1310717     1     0           64  3869211171         764         0\n",
      "1310718     1     0          139  3869211171         769         0\n",
      "1310719     1     0           61  3869211171         762        18\n",
      "\n",
      "[1310720 rows x 6 columns]\n",
      "1310720\n",
      "<class 'pandas.core.frame.DataFrame'>\n",
      "RangeIndex: 1310720 entries, 0 to 1310719\n",
      "Data columns (total 6 columns):\n",
      " #   Column       Non-Null Count    Dtype\n",
      "---  ------       --------------    -----\n",
      " 0   HEAD         1310720 non-null  int64\n",
      " 1   FPGA         1310720 non-null  int64\n",
      " 2   TDC_CHANNEL  1310720 non-null  int64\n",
      " 3   ORBIT_CNT    1310720 non-null  int64\n",
      " 4   BX_COUNTER   1310720 non-null  int64\n",
      " 5   TDC_MEAS     1310720 non-null  int64\n",
      "dtypes: int64(6)\n",
      "memory usage: 60.0 MB\n",
      "None\n"
     ]
    }
   ],
   "source": [
    "import pandas as pd\n",
    "import numpy as np\n",
    "import matplotlib.pyplot as plt\n",
    "import datetime as dt\n",
    "import json\n",
    "import csv \n",
    "\n",
    "data = pd.read_csv('data/data_000637.txt')\n",
    "print(data)\n",
    "r = data.shape[0]\n",
    "print(r)\n",
    "data.iloc[1000:r]\n",
    "\n",
    "print(data.info()) # new data frame's number of rows = 500000"
   ]
  },
  {
   "cell_type": "markdown",
   "metadata": {},
   "source": [
    "2\\. Estimate the number of BX in a ORBIT (the value `x`).\n",
    "\n",
    "*Hint*: check when the BX counter reaches the maximum value before being reset to 0."
   ]
  },
  {
   "cell_type": "code",
   "execution_count": 5,
   "metadata": {},
   "outputs": [
    {
     "name": "stdout",
     "output_type": "stream",
     "text": [
      "BX value: 3563\n"
     ]
    }
   ],
   "source": [
    "bx = data[\"BX_COUNTER\"]\n",
    "estimated_bx = max(bx)\n",
    "print(\"BX value:\", estimated_bx)"
   ]
  },
  {
   "cell_type": "markdown",
   "metadata": {},
   "source": [
    "3\\. Create a new column with the absolute time in ns (as a combination of the other three columns with timing information) since the beginning of the data acquisition, and convert the new column to a Time Series."
   ]
  },
  {
   "cell_type": "code",
   "execution_count": 27,
   "metadata": {},
   "outputs": [
    {
     "name": "stdout",
     "output_type": "stream",
     "text": [
      "       HEAD  FPGA  TDC_CHANNEL   ORBIT_CNT  BX_COUNTER  TDC_MEAS          time\n",
      "0         1     0          123  3869200167        2374        26  3.446490e+14\n",
      "1         1     0          124  3869200167        2374        27  3.446490e+14\n",
      "2         1     0           63  3869200167        2553        28  3.446490e+14\n",
      "3         1     0           64  3869200167        2558        19  3.446490e+14\n",
      "4         1     0           64  3869200167        2760        25  3.446490e+14\n",
      "...     ...   ...          ...         ...         ...       ...           ...\n",
      "14995     1     1            4  3869200316        3399         9  3.446490e+14\n",
      "14996     1     1           17  3869200316        3400        15  3.446490e+14\n",
      "14997     1     1           10  3869200316        3530        16  3.446490e+14\n",
      "14998     1     1            8  3869200316        3533        18  3.446490e+14\n",
      "14999     1     0          139  3869200316        3539         0  3.446490e+14\n",
      "\n",
      "[15000 rows x 7 columns]\n"
     ]
    }
   ],
   "source": [
    "tdc = data['TDC_MEAS']\n",
    "bx_counter = data['BX_COUNTER']\n",
    "orbit_counter = data['ORBIT_CNT']\n",
    "data[\"time\"] =  (tdc *(25/30)) + (bx_counter * 25) + (orbit_counter * estimated_bx*25)\n",
    "print(data)"
   ]
  },
  {
   "cell_type": "markdown",
   "metadata": {},
   "source": [
    "4\\. Find out the duration of the data taking in hours, minutes and seconds, by using the features of the Time Series. Perform this check reading the whole dataset."
   ]
  },
  {
   "cell_type": "code",
   "execution_count": 13,
   "metadata": {},
   "outputs": [
    {
     "name": "stdout",
     "output_type": "stream",
     "text": [
      "Elapsed time: 0:00:00.647144\n"
     ]
    }
   ],
   "source": [
    "start_time = dt.datetime.now()\n",
    "\n",
    "data = pd.read_csv('data/data_000637.txt')\n",
    "r = data.shape[0]\n",
    "data.iloc[1000:r]\n",
    "#tdc = data['TDC_MEAS']\n",
    "#bx_counter = data['BX_COUNTER']\n",
    "#orbit_counter = data['ORBIT_CNT']\n",
    "#estimated_bx = max(bx_counter)\n",
    "#time =  (tdc *(25/30)) + (bx_counter * 25) + (orbit_counter * estimated_bx*25)\n",
    "\n",
    "end_time = dt.datetime.now()\n",
    "print(\"Elapsed time:\", (end_time - start_time))"
   ]
  },
  {
   "cell_type": "markdown",
   "metadata": {},
   "source": [
    "5\\. Use the `.groupby()` method to find out the noisy channels, i.e. the TDC channels with most counts (print to screen the top 3 and the corresponding counts)"
   ]
  },
  {
   "cell_type": "code",
   "execution_count": 36,
   "metadata": {},
   "outputs": [
    {
     "name": "stdout",
     "output_type": "stream",
     "text": [
      "             HEAD  FPGA      ORBIT_CNT  BX_COUNTER  TDC_MEAS          time\n",
      "TDC_CHANNEL                                                               \n",
      "63            749     6  2898030982000     1364359     11085  2.581421e+17\n",
      "64            752    17  2909638583165     1394717     10889  2.591761e+17\n",
      "139          1268   389  4906145905369     2247027         0  4.370149e+17\n"
     ]
    }
   ],
   "source": [
    "group_data =  data.groupby('TDC_CHANNEL').sum().sort_values(by = ['HEAD'])\n",
    "best_three = group_data.iloc[-3:]\n",
    "print(best_three)"
   ]
  },
  {
   "cell_type": "markdown",
   "metadata": {},
   "source": [
    "6\\. Count the number of non-empty orbits (i.e. the number of orbits with at least one hit)."
   ]
  },
  {
   "cell_type": "code",
   "execution_count": 29,
   "metadata": {},
   "outputs": [
    {
     "name": "stdout",
     "output_type": "stream",
     "text": [
      "the number of nonempty orbits:  11001\n"
     ]
    }
   ],
   "source": [
    "arr = data[ data['ORBIT_CNT'] > 0 ] # find the elements that ORBIT_CNT > 0\n",
    "result = arr.ORBIT_CNT.nunique()\n",
    "print(\"the number of nonempty orbits: \",result)"
   ]
  },
  {
   "cell_type": "markdown",
   "metadata": {},
   "source": [
    "7\\. Count the number of unique orbits with at least one measurement from TDC_CHANNEL=139."
   ]
  },
  {
   "cell_type": "code",
   "execution_count": 41,
   "metadata": {},
   "outputs": [
    {
     "name": "stdout",
     "output_type": "stream",
     "text": [
      "the number of unique orbits with tdc = 139:  150\n"
     ]
    }
   ],
   "source": [
    "result = data[ data['TDC_CHANNEL'] == 139 ] # find the elements with TDC_CHANNEL == 139 \n",
    "result = result.ORBIT_CNT.nunique() #find the unique ones\n",
    "print(\"the number of unique orbits with tdc = 139: \",result)"
   ]
  },
  {
   "cell_type": "markdown",
   "metadata": {},
   "source": [
    "8\\. Create two Series (one for each FPGA) that have the TDC channel as index, and the number of counts for the corresponding TDC channel as values."
   ]
  },
  {
   "cell_type": "code",
   "execution_count": null,
   "metadata": {},
   "outputs": [],
   "source": []
  },
  {
   "cell_type": "markdown",
   "metadata": {},
   "source": [
    "9\\. **Optional:** Create two histograms (one for each FPGA) that show the number of counts for each TDC channel."
   ]
  },
  {
   "cell_type": "code",
   "execution_count": null,
   "metadata": {},
   "outputs": [],
   "source": []
  }
 ],
 "metadata": {
  "kernelspec": {
   "display_name": "Python 3.9.13 ('base')",
   "language": "python",
   "name": "python3"
  },
  "language_info": {
   "codemirror_mode": {
    "name": "ipython",
    "version": 3
   },
   "file_extension": ".py",
   "mimetype": "text/x-python",
   "name": "python",
   "nbconvert_exporter": "python",
   "pygments_lexer": "ipython3",
   "version": "3.9.13"
  },
  "vscode": {
   "interpreter": {
    "hash": "58ba5e45f866b7c5c7add4a55fa0887164febb2d45940b3dd8d4636eca268bb5"
   }
  }
 },
 "nbformat": 4,
 "nbformat_minor": 2
}
