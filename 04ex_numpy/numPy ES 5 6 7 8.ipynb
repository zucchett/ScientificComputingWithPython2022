{
 "cells": [
  {
   "cell_type": "code",
   "execution_count": 5,
   "id": "f869ef6b",
   "metadata": {},
   "outputs": [
    {
     "name": "stdout",
     "output_type": "stream",
     "text": [
      " 10 by 10 multiplication table : \n",
      "  [[  1   2   3   4   5   6   7   8   9  10]\n",
      " [  2   4   6   8  10  12  14  16  18  20]\n",
      " [  3   6   9  12  15  18  21  24  27  30]\n",
      " [  4   8  12  16  20  24  28  32  36  40]\n",
      " [  5  10  15  20  25  30  35  40  45  50]\n",
      " [  6  12  18  24  30  36  42  48  54  60]\n",
      " [  7  14  21  28  35  42  49  56  63  70]\n",
      " [  8  16  24  32  40  48  56  64  72  80]\n",
      " [  9  18  27  36  45  54  63  72  81  90]\n",
      " [ 10  20  30  40  50  60  70  80  90 100]]\n",
      "\n",
      " ------------------------------------------- \n",
      "\n",
      "Matrix trace :  385\n",
      "\n",
      " ------------------------------------------- \n",
      "\n",
      "anti-diagonal :  [10 18 24 28 30 30 28 24 18 10]\n",
      "\n",
      " ------------------------------------------- \n",
      "\n",
      "Extracting the diagonal offset by 1 upwards :  [ 2  6 12 20 30 42 56 72 90]\n"
     ]
    }
   ],
   "source": [
    "#ES5\n",
    "import numpy as np\n",
    "rng = np.arange(1, 11)\n",
    "matrix=rng * rng[:, None]\n",
    "##u = np.outer(np.arange(1,11),np.arange(1,11))\n",
    "\n",
    "print(' 10 by 10 multiplication table : \\n ',matrix)\n",
    "print('\\n ------------------------------------------- \\n')\n",
    "print('Matrix trace : ', matrix.trace() )\n",
    "print('\\n ------------------------------------------- \\n')\n",
    "print('anti-diagonal : ', np.fliplr(matrix).diagonal())\n",
    "print('\\n ------------------------------------------- \\n')\n",
    "print('the diagonal offset by 1 upwards : ', matrix[1:,:].diagonal())\n",
    "\n"
   ]
  },
  {
   "cell_type": "code",
   "execution_count": null,
   "id": "66e0e840",
   "metadata": {},
   "outputs": [],
   "source": []
  },
  {
   "cell_type": "code",
   "execution_count": 10,
   "id": "8869b2d7",
   "metadata": {},
   "outputs": [
    {
     "name": "stdout",
     "output_type": "stream",
     "text": [
      "2D grid of distances among each city along Route 66 : \n",
      " [[   0  198  303  736  871 1175 1475 1544 1913 2448]\n",
      " [ 198    0  105  538  673  977 1277 1346 1715 2250]\n",
      " [ 303  105    0  433  568  872 1172 1241 1610 2145]\n",
      " [ 736  538  433    0  135  439  739  808 1177 1712]\n",
      " [ 871  673  568  135    0  304  604  673 1042 1577]\n",
      " [1175  977  872  439  304    0  300  369  738 1273]\n",
      " [1475 1277 1172  739  604  300    0   69  438  973]\n",
      " [1544 1346 1241  808  673  369   69    0  369  904]\n",
      " [1913 1715 1610 1177 1042  738  438  369    0  535]\n",
      " [2448 2250 2145 1712 1577 1273  973  904  535    0]]\n",
      "\n",
      " ------------------------------------------- \n",
      "\n",
      "2D grid of distances in Km : \n",
      "  [[   0.       318.64932  487.63002 1184.47424 1401.73514 1890.9745\n",
      "  2373.7765  2484.82096 3078.66742 3939.66432]\n",
      " [ 318.64932    0.       168.9807   865.82492 1083.08582 1572.32518\n",
      "  2055.12718 2166.17164 2760.0181  3621.015  ]\n",
      " [ 487.63002  168.9807     0.       696.84422  914.10512 1403.34448\n",
      "  1886.14648 1997.19094 2591.0374  3452.0343 ]\n",
      " [1184.47424  865.82492  696.84422    0.       217.2609   706.50026\n",
      "  1189.30226 1300.34672 1894.19318 2755.19008]\n",
      " [1401.73514 1083.08582  914.10512  217.2609     0.       489.23936\n",
      "   972.04136 1083.08582 1676.93228 2537.92918]\n",
      " [1890.9745  1572.32518 1403.34448  706.50026  489.23936    0.\n",
      "   482.802    593.84646 1187.69292 2048.68982]\n",
      " [2373.7765  2055.12718 1886.14648 1189.30226  972.04136  482.802\n",
      "     0.       111.04446  704.89092 1565.88782]\n",
      " [2484.82096 2166.17164 1997.19094 1300.34672 1083.08582  593.84646\n",
      "   111.04446    0.       593.84646 1454.84336]\n",
      " [3078.66742 2760.0181  2591.0374  1894.19318 1676.93228 1187.69292\n",
      "   704.89092  593.84646    0.       860.9969 ]\n",
      " [3939.66432 3621.015   3452.0343  2755.19008 2537.92918 2048.68982\n",
      "  1565.88782 1454.84336  860.9969     0.     ]]\n"
     ]
    }
   ],
   "source": [
    "#ES6\n",
    "\n",
    "import numpy as np\n",
    "\n",
    "positions = np.array([0, 198, 303, 736, 871, 1175, 1475, 1544, 1913, 2448])\n",
    "\n",
    "distances = np.abs(positions  - positions[:, np.newaxis])\n",
    "KMdistances = distances * 1.60934 \n",
    "\n",
    "print(' grid of distances among each city : \\n',distances)\n",
    "print('\\n ---------------------------- \\n')\n",
    "print('grid of distances in Km : \\n ',KMdistances )"
   ]
  },
  {
   "cell_type": "code",
   "execution_count": null,
   "id": "53f4cc87",
   "metadata": {},
   "outputs": [],
   "source": [
    "#ES7\n",
    "\n",
    "import numpy as np, timeit\n",
    "\n",
    "N = 99\n",
    "\n",
    "def primeNUmbers(N):\n",
    "    mask = np.ones(N+1,  dtype=bool)\n",
    "    for i in range(2,N+1):\n",
    "        mask[i+1:N+1] *= np.invert((np.arange(i+1, N+1) % i == 0))\n",
    "    return np.where(mask)\n",
    "\n",
    "\n",
    "\n",
    "mask = np.ones(N+1,  dtype=bool)\n",
    "i=2\n",
    "while(i*i <=N):\n",
    "    mask[i+1:N+1] *= np.invert((np.arange(i+1, N+1) % i == 0))\n",
    "    i += 1\n",
    "print(np.where(mask)) "
   ]
  },
  {
   "cell_type": "code",
   "execution_count": 13,
   "id": "342b4184",
   "metadata": {},
   "outputs": [
    {
     "data": {
      "text/plain": [
       "Text(0, 0.5, 'average distance')"
      ]
     },
     "execution_count": 13,
     "metadata": {},
     "output_type": "execute_result"
    },
    {
     "data": {
      "image/png": "[encoded data removed]",
      "text/plain": [
       "<Figure size 720x720 with 1 Axes>"
      ]
     },
     "metadata": {
      "needs_background": "light"
     },
     "output_type": "display_data"
    }
   ],
   "source": [
    "#ES8\n",
    "import numpy as np\n",
    "import matplotlib.pyplot as plt\n",
    "walkers = 1000\n",
    "steps = 200\n",
    "# *2 and -1 to make the values  -1 , +1\n",
    "randomwalks = 2* np.random.randint(0,1,(walkers, steps)) - 1 \n",
    "distance = np.cumsum(randomwalks, axis=1)\n",
    "msd = np.mean(distance**2, axis=0)\n",
    "plt.figure(figsize=(10, 10))\n",
    "plt.plot(np.arange(steps), msd)\n",
    "plt.xlabel('time')\n",
    "plt.ylabel('average distance')"
   ]
  },
  {
   "cell_type": "code",
   "execution_count": null,
   "id": "45287b54",
   "metadata": {},
   "outputs": [],
   "source": []
  }
 ],
 "metadata": {
  "kernelspec": {
   "display_name": "Python 3 (ipykernel)",
   "language": "python",
   "name": "python3"
  },
  "language_info": {
   "codemirror_mode": {
    "name": "ipython",
    "version": 3
   },
   "file_extension": ".py",
   "mimetype": "text/x-python",
   "name": "python",
   "nbconvert_exporter": "python",
   "pygments_lexer": "ipython3",
   "version": "3.9.12"
  }
 },
 "nbformat": 4,
 "nbformat_minor": 5
}
