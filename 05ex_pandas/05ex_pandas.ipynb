{
  "cells": [
    {
      "cell_type": "markdown",
      "metadata": {
        "id": "u0gCeGUYVTxs"
      },
      "source": [
        "1\\. **Pandas DataFrame**\n",
        "\n",
        "This exercise consists in analyzing a dataset containg timing information from a series of Time-to-Digital-Converters (TDC) implemented in a pair of FPGAs. Each measurement (i.e. each row of the input file) consists of a flag that specifies the type of message ('HEAD', which in this case is always 1), two addresses of the TDC providing the signal ('FPGA' and 'TDC_CHANNEL'), and the timing information ('ORBIT_CNT', 'BX_COUNTER', and 'TDC_MEAS'). Each TDC count corresponds to 25/30 ns, whereas a unit of BX_COUNTER corresponds to 25 ns, and the ORBIT_CNT is increased every `x` BX_COUNTER. This allows to store the time in a similar way to hours, minutes and seconds."
      ]
    },
    {
      "cell_type": "code",
      "execution_count": 14,
      "metadata": {
        "colab": {
          "base_uri": "https://localhost:8080/"
        },
        "id": "4jSUaxneVTxx",
        "outputId": "9aa497da-127d-477c-9dec-97a2e3ae6ddb"
      },
      "outputs": [
        {
          "output_type": "stream",
          "name": "stdout",
          "text": [
            "--2022-12-02 19:54:42--  https://www.dropbox.com/s/xvjzaxzz3ysphme/data_000637.txt\n",
            "Resolving www.dropbox.com (www.dropbox.com)... 162.125.81.18, 2620:100:6035:18::a27d:5512\n",
            "Connecting to www.dropbox.com (www.dropbox.com)|162.125.81.18|:443... connected.\n",
            "HTTP request sent, awaiting response... 302 Found\n",
            "Location: /s/raw/xvjzaxzz3ysphme/data_000637.txt [following]\n",
            "--2022-12-02 19:54:43--  https://www.dropbox.com/s/raw/xvjzaxzz3ysphme/data_000637.txt\n",
            "Reusing existing connection to www.dropbox.com:443.\n",
            "HTTP request sent, awaiting response... 302 Found\n",
            "Location: https://uc09e3e0d9492539fa70fb08d237.dl.dropboxusercontent.com/cd/0/inline/Bx60XP7K1MLmyrUsMKrEksJygZZcGP-3cF9byA5gNSlgE0hCN8sqMIG4zJ-qDSS37QiKtEmwnx3wYsm8ZH9yb93_8YQj13HLhg-3Dtv3_FO4C_n2bBXvxJ1wslzAsFKLmn6zY3Wi5H7IDoS0QCMZBDobrzlrDaIDlZsYnqyiF_lRWA/file# [following]\n",
            "--2022-12-02 19:54:43--  https://uc09e3e0d9492539fa70fb08d237.dl.dropboxusercontent.com/cd/0/inline/Bx60XP7K1MLmyrUsMKrEksJygZZcGP-3cF9byA5gNSlgE0hCN8sqMIG4zJ-qDSS37QiKtEmwnx3wYsm8ZH9yb93_8YQj13HLhg-3Dtv3_FO4C_n2bBXvxJ1wslzAsFKLmn6zY3Wi5H7IDoS0QCMZBDobrzlrDaIDlZsYnqyiF_lRWA/file\n",
            "Resolving uc09e3e0d9492539fa70fb08d237.dl.dropboxusercontent.com (uc09e3e0d9492539fa70fb08d237.dl.dropboxusercontent.com)... 162.125.81.15, 2620:100:6035:15::a27d:550f\n",
            "Connecting to uc09e3e0d9492539fa70fb08d237.dl.dropboxusercontent.com (uc09e3e0d9492539fa70fb08d237.dl.dropboxusercontent.com)|162.125.81.15|:443... connected.\n",
            "HTTP request sent, awaiting response... 200 OK\n",
            "Length: 33179236 (32M) [text/plain]\n",
            "Saving to: ‘./data/data_000637.txt.1’\n",
            "\n",
            "data_000637.txt.1   100%[===================>]  31.64M  11.7MB/s    in 2.7s    \n",
            "\n",
            "2022-12-02 19:54:47 (11.7 MB/s) - ‘./data/data_000637.txt.1’ saved [33179236/33179236]\n",
            "\n"
          ]
        }
      ],
      "source": [
        "# If haven't downloaded it yet, please get the data file with wget\n",
        "!wget https://www.dropbox.com/s/xvjzaxzz3ysphme/data_000637.txt -P ./data/"
      ]
    },
    {
      "cell_type": "markdown",
      "metadata": {
        "id": "r0PZMbwwVTx0"
      },
      "source": [
        "1\\. Create a Pandas DataFrame reading N rows of the `data/data_000637.txt` dataset. Choose N to be smaller than or equal to the maximum number of rows and larger that 10k (check the documentation)."
      ]
    },
    {
      "cell_type": "code",
      "execution_count": 15,
      "metadata": {
        "id": "1em69S0qVTx2"
      },
      "outputs": [],
      "source": [
        "import pandas as pd\n",
        "import datetime as dt\n",
        "import matplotlib\n",
        "import matplotlib.pyplot as plt\n",
        "matplotlib.style.use('fivethirtyeight') \n"
      ]
    },
    {
      "cell_type": "code",
      "execution_count": 16,
      "metadata": {
        "colab": {
          "base_uri": "https://localhost:8080/",
          "height": 424
        },
        "id": "A4ZmJqDIVTx2",
        "outputId": "cd1d81ac-e348-4fae-89b4-bea02683db65"
      },
      "outputs": [
        {
          "output_type": "execute_result",
          "data": {
            "text/plain": [
              "         HEAD  FPGA  TDC_CHANNEL   ORBIT_CNT  BX_COUNTER  TDC_MEAS\n",
              "0           1     0          123  3869200167        2374        26\n",
              "1           1     0          124  3869200167        2374        27\n",
              "2           1     0           63  3869200167        2553        28\n",
              "3           1     0           64  3869200167        2558        19\n",
              "4           1     0           64  3869200167        2760        25\n",
              "...       ...   ...          ...         ...         ...       ...\n",
              "1310715     1     0           62  3869211171         762        14\n",
              "1310716     1     1            4  3869211171         763        11\n",
              "1310717     1     0           64  3869211171         764         0\n",
              "1310718     1     0          139  3869211171         769         0\n",
              "1310719     1     0           61  3869211171         762        18\n",
              "\n",
              "[1310720 rows x 6 columns]"
            ],
            "text/html": [
              "\n",
              "  <div id=\"df-31800880-26ce-40ea-b9c9-b6849ad30efb\">\n",
              "    <div class=\"colab-df-container\">\n",
              "      <div>\n",
              "<style scoped>\n",
              "    .dataframe tbody tr th:only-of-type {\n",
              "        vertical-align: middle;\n",
              "    }\n",
              "\n",
              "    .dataframe tbody tr th {\n",
              "        vertical-align: top;\n",
              "    }\n",
              "\n",
              "    .dataframe thead th {\n",
              "        text-align: right;\n",
              "    }\n",
              "</style>\n",
              "<table border=\"1\" class=\"dataframe\">\n",
              "  <thead>\n",
              "    <tr style=\"text-align: right;\">\n",
              "      <th></th>\n",
              "      <th>HEAD</th>\n",
              "      <th>FPGA</th>\n",
              "      <th>TDC_CHANNEL</th>\n",
              "      <th>ORBIT_CNT</th>\n",
              "      <th>BX_COUNTER</th>\n",
              "      <th>TDC_MEAS</th>\n",
              "    </tr>\n",
              "  </thead>\n",
              "  <tbody>\n",
              "    <tr>\n",
              "      <th>0</th>\n",
              "      <td>1</td>\n",
              "      <td>0</td>\n",
              "      <td>123</td>\n",
              "      <td>3869200167</td>\n",
              "      <td>2374</td>\n",
              "      <td>26</td>\n",
              "    </tr>\n",
              "    <tr>\n",
              "      <th>1</th>\n",
              "      <td>1</td>\n",
              "      <td>0</td>\n",
              "      <td>124</td>\n",
              "      <td>3869200167</td>\n",
              "      <td>2374</td>\n",
              "      <td>27</td>\n",
              "    </tr>\n",
              "    <tr>\n",
              "      <th>2</th>\n",
              "      <td>1</td>\n",
              "      <td>0</td>\n",
              "      <td>63</td>\n",
              "      <td>3869200167</td>\n",
              "      <td>2553</td>\n",
              "      <td>28</td>\n",
              "    </tr>\n",
              "    <tr>\n",
              "      <th>3</th>\n",
              "      <td>1</td>\n",
              "      <td>0</td>\n",
              "      <td>64</td>\n",
              "      <td>3869200167</td>\n",
              "      <td>2558</td>\n",
              "      <td>19</td>\n",
              "    </tr>\n",
              "    <tr>\n",
              "      <th>4</th>\n",
              "      <td>1</td>\n",
              "      <td>0</td>\n",
              "      <td>64</td>\n",
              "      <td>3869200167</td>\n",
              "      <td>2760</td>\n",
              "      <td>25</td>\n",
              "    </tr>\n",
              "    <tr>\n",
              "      <th>...</th>\n",
              "      <td>...</td>\n",
              "      <td>...</td>\n",
              "      <td>...</td>\n",
              "      <td>...</td>\n",
              "      <td>...</td>\n",
              "      <td>...</td>\n",
              "    </tr>\n",
              "    <tr>\n",
              "      <th>1310715</th>\n",
              "      <td>1</td>\n",
              "      <td>0</td>\n",
              "      <td>62</td>\n",
              "      <td>3869211171</td>\n",
              "      <td>762</td>\n",
              "      <td>14</td>\n",
              "    </tr>\n",
              "    <tr>\n",
              "      <th>1310716</th>\n",
              "      <td>1</td>\n",
              "      <td>1</td>\n",
              "      <td>4</td>\n",
              "      <td>3869211171</td>\n",
              "      <td>763</td>\n",
              "      <td>11</td>\n",
              "    </tr>\n",
              "    <tr>\n",
              "      <th>1310717</th>\n",
              "      <td>1</td>\n",
              "      <td>0</td>\n",
              "      <td>64</td>\n",
              "      <td>3869211171</td>\n",
              "      <td>764</td>\n",
              "      <td>0</td>\n",
              "    </tr>\n",
              "    <tr>\n",
              "      <th>1310718</th>\n",
              "      <td>1</td>\n",
              "      <td>0</td>\n",
              "      <td>139</td>\n",
              "      <td>3869211171</td>\n",
              "      <td>769</td>\n",
              "      <td>0</td>\n",
              "    </tr>\n",
              "    <tr>\n",
              "      <th>1310719</th>\n",
              "      <td>1</td>\n",
              "      <td>0</td>\n",
              "      <td>61</td>\n",
              "      <td>3869211171</td>\n",
              "      <td>762</td>\n",
              "      <td>18</td>\n",
              "    </tr>\n",
              "  </tbody>\n",
              "</table>\n",
              "<p>1310720 rows × 6 columns</p>\n",
              "</div>\n",
              "      <button class=\"colab-df-convert\" onclick=\"convertToInteractive('df-31800880-26ce-40ea-b9c9-b6849ad30efb')\"\n",
              "              title=\"Convert this dataframe to an interactive table.\"\n",
              "              style=\"display:none;\">\n",
              "        \n",
              "  <svg xmlns=\"http://www.w3.org/2000/svg\" height=\"24px\"viewBox=\"0 0 24 24\"\n",
              "       width=\"24px\">\n",
              "    <path d=\"M0 0h24v24H0V0z\" fill=\"none\"/>\n",
              "    <path d=\"M18.56 5.44l.94 2.06.94-2.06 2.06-.94-2.06-.94-.94-2.06-.94 2.06-2.06.94zm-11 1L8.5 8.5l.94-2.06 2.06-.94-2.06-.94L8.5 2.5l-.94 2.06-2.06.94zm10 10l.94 2.06.94-2.06 2.06-.94-2.06-.94-.94-2.06-.94 2.06-2.06.94z\"/><path d=\"M17.41 7.96l-1.37-1.37c-.4-.4-.92-.59-1.43-.59-.52 0-1.04.2-1.43.59L10.3 9.45l-7.72 7.72c-.78.78-.78 2.05 0 2.83L4 21.41c.39.39.9.59 1.41.59.51 0 1.02-.2 1.41-.59l7.78-7.78 2.81-2.81c.8-.78.8-2.07 0-2.86zM5.41 20L4 18.59l7.72-7.72 1.47 1.35L5.41 20z\"/>\n",
              "  </svg>\n",
              "      </button>\n",
              "      \n",
              "  <style>\n",
              "    .colab-df-container {\n",
              "      display:flex;\n",
              "      flex-wrap:wrap;\n",
              "      gap: 12px;\n",
              "    }\n",
              "\n",
              "    .colab-df-convert {\n",
              "      background-color: #E8F0FE;\n",
              "      border: none;\n",
              "      border-radius: 50%;\n",
              "      cursor: pointer;\n",
              "      display: none;\n",
              "      fill: #1967D2;\n",
              "      height: 32px;\n",
              "      padding: 0 0 0 0;\n",
              "      width: 32px;\n",
              "    }\n",
              "\n",
              "    .colab-df-convert:hover {\n",
              "      background-color: #E2EBFA;\n",
              "      box-shadow: 0px 1px 2px rgba(60, 64, 67, 0.3), 0px 1px 3px 1px rgba(60, 64, 67, 0.15);\n",
              "      fill: #174EA6;\n",
              "    }\n",
              "\n",
              "    [theme=dark] .colab-df-convert {\n",
              "      background-color: #3B4455;\n",
              "      fill: #D2E3FC;\n",
              "    }\n",
              "\n",
              "    [theme=dark] .colab-df-convert:hover {\n",
              "      background-color: #434B5C;\n",
              "      box-shadow: 0px 1px 3px 1px rgba(0, 0, 0, 0.15);\n",
              "      filter: drop-shadow(0px 1px 2px rgba(0, 0, 0, 0.3));\n",
              "      fill: #FFFFFF;\n",
              "    }\n",
              "  </style>\n",
              "\n",
              "      <script>\n",
              "        const buttonEl =\n",
              "          document.querySelector('#df-31800880-26ce-40ea-b9c9-b6849ad30efb button.colab-df-convert');\n",
              "        buttonEl.style.display =\n",
              "          google.colab.kernel.accessAllowed ? 'block' : 'none';\n",
              "\n",
              "        async function convertToInteractive(key) {\n",
              "          const element = document.querySelector('#df-31800880-26ce-40ea-b9c9-b6849ad30efb');\n",
              "          const dataTable =\n",
              "            await google.colab.kernel.invokeFunction('convertToInteractive',\n",
              "                                                     [key], {});\n",
              "          if (!dataTable) return;\n",
              "\n",
              "          const docLinkHtml = 'Like what you see? Visit the ' +\n",
              "            '<a target=\"_blank\" href=https://colab.research.google.com/notebooks/data_table.ipynb>data table notebook</a>'\n",
              "            + ' to learn more about interactive tables.';\n",
              "          element.innerHTML = '';\n",
              "          dataTable['output_type'] = 'display_data';\n",
              "          await google.colab.output.renderOutput(dataTable, element);\n",
              "          const docLink = document.createElement('div');\n",
              "          docLink.innerHTML = docLinkHtml;\n",
              "          element.appendChild(docLink);\n",
              "        }\n",
              "      </script>\n",
              "    </div>\n",
              "  </div>\n",
              "  "
            ]
          },
          "metadata": {},
          "execution_count": 16
        }
      ],
      "source": [
        "# Maximum number of rows >= N > 10k \n",
        "N = 1310720\n",
        "data = pd.read_csv('data/data_000637.txt', nrows = N)\n",
        "data"
      ]
    },
    {
      "cell_type": "markdown",
      "metadata": {
        "id": "E4mo8Y1XVTx6"
      },
      "source": [
        "2\\. Estimate the number of BX in a ORBIT (the value `x`).\n",
        "\n",
        "*Hint*: check when the BX counter reaches the maximum value before being reset to 0."
      ]
    },
    {
      "cell_type": "code",
      "execution_count": 17,
      "metadata": {
        "id": "eyb_DSkgVTx7"
      },
      "outputs": [],
      "source": [
        "data['BX_COUNTER_CHANGE'] = data['BX_COUNTER'].diff()\n",
        "data.loc[data.BX_COUNTER_CHANGE >= -100, 'BX_COUNTER_CHANGE'] = 0\n",
        "data.loc[data.BX_COUNTER_CHANGE < -100, 'BX_COUNTER_CHANGE'] = 1"
      ]
    },
    {
      "cell_type": "code",
      "execution_count": 18,
      "metadata": {
        "scrolled": true,
        "colab": {
          "base_uri": "https://localhost:8080/",
          "height": 654
        },
        "id": "dpz7nxxBVTx8",
        "outputId": "003eb3e3-8c0b-460e-ffa5-e7c48c985b7d"
      },
      "outputs": [
        {
          "output_type": "display_data",
          "data": {
            "text/plain": [
              "<Figure size 1440x720 with 3 Axes>"
            ],
            "image/png": "[encoded data removed]"
          },
          "metadata": {}
        }
      ],
      "source": [
        "plt.figure(figsize = (20, 10))\n",
        "\n",
        "plt.subplot(3, 1, 1)\n",
        "plt.plot(data['BX_COUNTER'][0:1500])\n",
        "plt.xlabel('steps')\n",
        "plt.ylabel('BX_COUNTER')\n",
        "\n",
        "plt.subplot(3, 1, 2)\n",
        "plt.plot(data['BX_COUNTER_CHANGE'][0:1500])\n",
        "plt.xlabel('steps')\n",
        "plt.ylabel('BX_COUNTER_CHANGE')\n",
        "\n",
        "plt.subplot(3, 1, 3)\n",
        "plt.plot(data['ORBIT_CNT'][0:1500])\n",
        "plt.xlabel('steps')\n",
        "plt.ylabel('ORBIT_CNT')\n",
        "plt.show()"
      ]
    },
    {
      "cell_type": "markdown",
      "metadata": {
        "id": "G1ghTn8dVTx9"
      },
      "source": [
        "> As we can see the value of ORBIT_CNT increase when the value of bx_counter reach its maximum and drop "
      ]
    },
    {
      "cell_type": "code",
      "execution_count": 19,
      "metadata": {
        "colab": {
          "base_uri": "https://localhost:8080/"
        },
        "id": "9FhfE5hPVTx_",
        "outputId": "fbaf96b6-20d7-49fa-8eb2-2c6566596ef1"
      },
      "outputs": [
        {
          "output_type": "stream",
          "name": "stdout",
          "text": [
            "x is : 3563 ns\n"
          ]
        }
      ],
      "source": [
        "X = data['BX_COUNTER'].max()\n",
        "print( \"x is :\", X , \"ns\")"
      ]
    },
    {
      "cell_type": "markdown",
      "metadata": {
        "id": "wU9Pm_KxVTyA"
      },
      "source": [
        "3\\. Create a new column with the absolute time in ns (as a combination of the other three columns with timing information) since the beginning of the data acquisition, and convert the new column to a Time Series."
      ]
    },
    {
      "cell_type": "code",
      "execution_count": 20,
      "metadata": {
        "colab": {
          "base_uri": "https://localhost:8080/",
          "height": 424
        },
        "id": "dA9Wdbm0VTyB",
        "outputId": "d6ff78bc-b40e-4809-cb29-5d30964db888"
      },
      "outputs": [
        {
          "output_type": "execute_result",
          "data": {
            "text/plain": [
              "         HEAD  FPGA  TDC_CHANNEL   ORBIT_CNT  BX_COUNTER  TDC_MEAS  \\\n",
              "0           1     0          123  3869200167        2374        26   \n",
              "1           1     0          124  3869200167        2374        27   \n",
              "2           1     0           63  3869200167        2553        28   \n",
              "3           1     0           64  3869200167        2558        19   \n",
              "4           1     0           64  3869200167        2760        25   \n",
              "...       ...   ...          ...         ...         ...       ...   \n",
              "1310715     1     0           62  3869211171         762        14   \n",
              "1310716     1     1            4  3869211171         763        11   \n",
              "1310717     1     0           64  3869211171         764         0   \n",
              "1310718     1     0          139  3869211171         769         0   \n",
              "1310719     1     0           61  3869211171         762        18   \n",
              "\n",
              "         BX_COUNTER_CHANGE                       Time_ns  \n",
              "0                      NaN 1970-01-04 23:44:09.004934896  \n",
              "1                      0.0 1970-01-04 23:44:09.004934897  \n",
              "2                      0.0 1970-01-04 23:44:09.004939373  \n",
              "3                      0.0 1970-01-04 23:44:09.004939490  \n",
              "4                      0.0 1970-01-04 23:44:09.004944545  \n",
              "...                    ...                           ...  \n",
              "1310715                0.0 1970-01-04 23:44:09.985075886  \n",
              "1310716                0.0 1970-01-04 23:44:09.985075909  \n",
              "1310717                0.0 1970-01-04 23:44:09.985075925  \n",
              "1310718                0.0 1970-01-04 23:44:09.985076050  \n",
              "1310719                0.0 1970-01-04 23:44:09.985075890  \n",
              "\n",
              "[1310720 rows x 8 columns]"
            ],
            "text/html": [
              "\n",
              "  <div id=\"df-1d6afd3a-c750-44de-a19c-45324f624978\">\n",
              "    <div class=\"colab-df-container\">\n",
              "      <div>\n",
              "<style scoped>\n",
              "    .dataframe tbody tr th:only-of-type {\n",
              "        vertical-align: middle;\n",
              "    }\n",
              "\n",
              "    .dataframe tbody tr th {\n",
              "        vertical-align: top;\n",
              "    }\n",
              "\n",
              "    .dataframe thead th {\n",
              "        text-align: right;\n",
              "    }\n",
              "</style>\n",
              "<table border=\"1\" class=\"dataframe\">\n",
              "  <thead>\n",
              "    <tr style=\"text-align: right;\">\n",
              "      <th></th>\n",
              "      <th>HEAD</th>\n",
              "      <th>FPGA</th>\n",
              "      <th>TDC_CHANNEL</th>\n",
              "      <th>ORBIT_CNT</th>\n",
              "      <th>BX_COUNTER</th>\n",
              "      <th>TDC_MEAS</th>\n",
              "      <th>BX_COUNTER_CHANGE</th>\n",
              "      <th>Time_ns</th>\n",
              "    </tr>\n",
              "  </thead>\n",
              "  <tbody>\n",
              "    <tr>\n",
              "      <th>0</th>\n",
              "      <td>1</td>\n",
              "      <td>0</td>\n",
              "      <td>123</td>\n",
              "      <td>3869200167</td>\n",
              "      <td>2374</td>\n",
              "      <td>26</td>\n",
              "      <td>NaN</td>\n",
              "      <td>1970-01-04 23:44:09.004934896</td>\n",
              "    </tr>\n",
              "    <tr>\n",
              "      <th>1</th>\n",
              "      <td>1</td>\n",
              "      <td>0</td>\n",
              "      <td>124</td>\n",
              "      <td>3869200167</td>\n",
              "      <td>2374</td>\n",
              "      <td>27</td>\n",
              "      <td>0.0</td>\n",
              "      <td>1970-01-04 23:44:09.004934897</td>\n",
              "    </tr>\n",
              "    <tr>\n",
              "      <th>2</th>\n",
              "      <td>1</td>\n",
              "      <td>0</td>\n",
              "      <td>63</td>\n",
              "      <td>3869200167</td>\n",
              "      <td>2553</td>\n",
              "      <td>28</td>\n",
              "      <td>0.0</td>\n",
              "      <td>1970-01-04 23:44:09.004939373</td>\n",
              "    </tr>\n",
              "    <tr>\n",
              "      <th>3</th>\n",
              "      <td>1</td>\n",
              "      <td>0</td>\n",
              "      <td>64</td>\n",
              "      <td>3869200167</td>\n",
              "      <td>2558</td>\n",
              "      <td>19</td>\n",
              "      <td>0.0</td>\n",
              "      <td>1970-01-04 23:44:09.004939490</td>\n",
              "    </tr>\n",
              "    <tr>\n",
              "      <th>4</th>\n",
              "      <td>1</td>\n",
              "      <td>0</td>\n",
              "      <td>64</td>\n",
              "      <td>3869200167</td>\n",
              "      <td>2760</td>\n",
              "      <td>25</td>\n",
              "      <td>0.0</td>\n",
              "      <td>1970-01-04 23:44:09.004944545</td>\n",
              "    </tr>\n",
              "    <tr>\n",
              "      <th>...</th>\n",
              "      <td>...</td>\n",
              "      <td>...</td>\n",
              "      <td>...</td>\n",
              "      <td>...</td>\n",
              "      <td>...</td>\n",
              "      <td>...</td>\n",
              "      <td>...</td>\n",
              "      <td>...</td>\n",
              "    </tr>\n",
              "    <tr>\n",
              "      <th>1310715</th>\n",
              "      <td>1</td>\n",
              "      <td>0</td>\n",
              "      <td>62</td>\n",
              "      <td>3869211171</td>\n",
              "      <td>762</td>\n",
              "      <td>14</td>\n",
              "      <td>0.0</td>\n",
              "      <td>1970-01-04 23:44:09.985075886</td>\n",
              "    </tr>\n",
              "    <tr>\n",
              "      <th>1310716</th>\n",
              "      <td>1</td>\n",
              "      <td>1</td>\n",
              "      <td>4</td>\n",
              "      <td>3869211171</td>\n",
              "      <td>763</td>\n",
              "      <td>11</td>\n",
              "      <td>0.0</td>\n",
              "      <td>1970-01-04 23:44:09.985075909</td>\n",
              "    </tr>\n",
              "    <tr>\n",
              "      <th>1310717</th>\n",
              "      <td>1</td>\n",
              "      <td>0</td>\n",
              "      <td>64</td>\n",
              "      <td>3869211171</td>\n",
              "      <td>764</td>\n",
              "      <td>0</td>\n",
              "      <td>0.0</td>\n",
              "      <td>1970-01-04 23:44:09.985075925</td>\n",
              "    </tr>\n",
              "    <tr>\n",
              "      <th>1310718</th>\n",
              "      <td>1</td>\n",
              "      <td>0</td>\n",
              "      <td>139</td>\n",
              "      <td>3869211171</td>\n",
              "      <td>769</td>\n",
              "      <td>0</td>\n",
              "      <td>0.0</td>\n",
              "      <td>1970-01-04 23:44:09.985076050</td>\n",
              "    </tr>\n",
              "    <tr>\n",
              "      <th>1310719</th>\n",
              "      <td>1</td>\n",
              "      <td>0</td>\n",
              "      <td>61</td>\n",
              "      <td>3869211171</td>\n",
              "      <td>762</td>\n",
              "      <td>18</td>\n",
              "      <td>0.0</td>\n",
              "      <td>1970-01-04 23:44:09.985075890</td>\n",
              "    </tr>\n",
              "  </tbody>\n",
              "</table>\n",
              "<p>1310720 rows × 8 columns</p>\n",
              "</div>\n",
              "      <button class=\"colab-df-convert\" onclick=\"convertToInteractive('df-1d6afd3a-c750-44de-a19c-45324f624978')\"\n",
              "              title=\"Convert this dataframe to an interactive table.\"\n",
              "              style=\"display:none;\">\n",
              "        \n",
              "  <svg xmlns=\"http://www.w3.org/2000/svg\" height=\"24px\"viewBox=\"0 0 24 24\"\n",
              "       width=\"24px\">\n",
              "    <path d=\"M0 0h24v24H0V0z\" fill=\"none\"/>\n",
              "    <path d=\"M18.56 5.44l.94 2.06.94-2.06 2.06-.94-2.06-.94-.94-2.06-.94 2.06-2.06.94zm-11 1L8.5 8.5l.94-2.06 2.06-.94-2.06-.94L8.5 2.5l-.94 2.06-2.06.94zm10 10l.94 2.06.94-2.06 2.06-.94-2.06-.94-.94-2.06-.94 2.06-2.06.94z\"/><path d=\"M17.41 7.96l-1.37-1.37c-.4-.4-.92-.59-1.43-.59-.52 0-1.04.2-1.43.59L10.3 9.45l-7.72 7.72c-.78.78-.78 2.05 0 2.83L4 21.41c.39.39.9.59 1.41.59.51 0 1.02-.2 1.41-.59l7.78-7.78 2.81-2.81c.8-.78.8-2.07 0-2.86zM5.41 20L4 18.59l7.72-7.72 1.47 1.35L5.41 20z\"/>\n",
              "  </svg>\n",
              "      </button>\n",
              "      \n",
              "  <style>\n",
              "    .colab-df-container {\n",
              "      display:flex;\n",
              "      flex-wrap:wrap;\n",
              "      gap: 12px;\n",
              "    }\n",
              "\n",
              "    .colab-df-convert {\n",
              "      background-color: #E8F0FE;\n",
              "      border: none;\n",
              "      border-radius: 50%;\n",
              "      cursor: pointer;\n",
              "      display: none;\n",
              "      fill: #1967D2;\n",
              "      height: 32px;\n",
              "      padding: 0 0 0 0;\n",
              "      width: 32px;\n",
              "    }\n",
              "\n",
              "    .colab-df-convert:hover {\n",
              "      background-color: #E2EBFA;\n",
              "      box-shadow: 0px 1px 2px rgba(60, 64, 67, 0.3), 0px 1px 3px 1px rgba(60, 64, 67, 0.15);\n",
              "      fill: #174EA6;\n",
              "    }\n",
              "\n",
              "    [theme=dark] .colab-df-convert {\n",
              "      background-color: #3B4455;\n",
              "      fill: #D2E3FC;\n",
              "    }\n",
              "\n",
              "    [theme=dark] .colab-df-convert:hover {\n",
              "      background-color: #434B5C;\n",
              "      box-shadow: 0px 1px 3px 1px rgba(0, 0, 0, 0.15);\n",
              "      filter: drop-shadow(0px 1px 2px rgba(0, 0, 0, 0.3));\n",
              "      fill: #FFFFFF;\n",
              "    }\n",
              "  </style>\n",
              "\n",
              "      <script>\n",
              "        const buttonEl =\n",
              "          document.querySelector('#df-1d6afd3a-c750-44de-a19c-45324f624978 button.colab-df-convert');\n",
              "        buttonEl.style.display =\n",
              "          google.colab.kernel.accessAllowed ? 'block' : 'none';\n",
              "\n",
              "        async function convertToInteractive(key) {\n",
              "          const element = document.querySelector('#df-1d6afd3a-c750-44de-a19c-45324f624978');\n",
              "          const dataTable =\n",
              "            await google.colab.kernel.invokeFunction('convertToInteractive',\n",
              "                                                     [key], {});\n",
              "          if (!dataTable) return;\n",
              "\n",
              "          const docLinkHtml = 'Like what you see? Visit the ' +\n",
              "            '<a target=\"_blank\" href=https://colab.research.google.com/notebooks/data_table.ipynb>data table notebook</a>'\n",
              "            + ' to learn more about interactive tables.';\n",
              "          element.innerHTML = '';\n",
              "          dataTable['output_type'] = 'display_data';\n",
              "          await google.colab.output.renderOutput(dataTable, element);\n",
              "          const docLink = document.createElement('div');\n",
              "          docLink.innerHTML = docLinkHtml;\n",
              "          element.appendChild(docLink);\n",
              "        }\n",
              "      </script>\n",
              "    </div>\n",
              "  </div>\n",
              "  "
            ]
          },
          "metadata": {},
          "execution_count": 20
        }
      ],
      "source": [
        "data['Time_ns'] = X*25* data['ORBIT_CNT'] + 25 *data['BX_COUNTER'] + (25/30) *data['TDC_MEAS']\n",
        "data['Time_ns'] = pd.to_datetime(data['Time_ns'], unit='ns')\n",
        "data"
      ]
    },
    {
      "cell_type": "markdown",
      "metadata": {
        "id": "ULH3AntgVTyC"
      },
      "source": [
        "4\\. Find out the duration of the data taking in hours, minutes and seconds, by using the features of the Time Series. Perform this check reading the whole dataset."
      ]
    },
    {
      "cell_type": "code",
      "execution_count": 21,
      "metadata": {
        "colab": {
          "base_uri": "https://localhost:8080/"
        },
        "id": "y_misc2OVTyD",
        "outputId": "45107a0c-c773-4503-cb38-bc1b526a26fb"
      },
      "outputs": [
        {
          "output_type": "stream",
          "name": "stdout",
          "text": [
            "Δt = 0 days 00:00:00.980141154\n"
          ]
        }
      ],
      "source": [
        "Δt = data['Time_ns'].max() - data['Time_ns'].min()\n",
        "print(\"Δt =\", Δt)"
      ]
    },
    {
      "cell_type": "markdown",
      "metadata": {
        "id": "m0bJQNs3VTyE"
      },
      "source": [
        "5\\. Use the `.groupby()` method to find out the noisy channels, i.e. the TDC channels with most counts (print to screen the top 3 and the corresponding counts)"
      ]
    },
    {
      "cell_type": "code",
      "execution_count": 30,
      "metadata": {
        "colab": {
          "base_uri": "https://localhost:8080/",
          "height": 175
        },
        "id": "ZPsQ8ZgMVTyF",
        "outputId": "dadd9934-d3cd-40bc-f7d0-3042cb97b424"
      },
      "outputs": [
        {
          "output_type": "execute_result",
          "data": {
            "text/plain": [
              "               HEAD    FPGA  ORBIT_CNT  BX_COUNTER  TDC_MEAS  \\\n",
              "TDC_CHANNEL                                                    \n",
              "139          108059  108059     108059      108059    108059   \n",
              "64            66020   66020      66020       66020     66020   \n",
              "63            64642   64642      64642       64642     64642   \n",
              "\n",
              "             BX_COUNTER_CHANGE  Time_ns  \n",
              "TDC_CHANNEL                              \n",
              "139                     108059   108059  \n",
              "64                       66020    66020  \n",
              "63                       64642    64642  "
            ],
            "text/html": [
              "\n",
              "  <div id=\"df-2e4096c3-99d6-47e4-8261-9177e87640a1\">\n",
              "    <div class=\"colab-df-container\">\n",
              "      <div>\n",
              "<style scoped>\n",
              "    .dataframe tbody tr th:only-of-type {\n",
              "        vertical-align: middle;\n",
              "    }\n",
              "\n",
              "    .dataframe tbody tr th {\n",
              "        vertical-align: top;\n",
              "    }\n",
              "\n",
              "    .dataframe thead th {\n",
              "        text-align: right;\n",
              "    }\n",
              "</style>\n",
              "<table border=\"1\" class=\"dataframe\">\n",
              "  <thead>\n",
              "    <tr style=\"text-align: right;\">\n",
              "      <th></th>\n",
              "      <th>HEAD</th>\n",
              "      <th>FPGA</th>\n",
              "      <th>ORBIT_CNT</th>\n",
              "      <th>BX_COUNTER</th>\n",
              "      <th>TDC_MEAS</th>\n",
              "      <th>BX_COUNTER_CHANGE</th>\n",
              "      <th>Time_ns</th>\n",
              "    </tr>\n",
              "    <tr>\n",
              "      <th>TDC_CHANNEL</th>\n",
              "      <th></th>\n",
              "      <th></th>\n",
              "      <th></th>\n",
              "      <th></th>\n",
              "      <th></th>\n",
              "      <th></th>\n",
              "      <th></th>\n",
              "    </tr>\n",
              "  </thead>\n",
              "  <tbody>\n",
              "    <tr>\n",
              "      <th>139</th>\n",
              "      <td>108059</td>\n",
              "      <td>108059</td>\n",
              "      <td>108059</td>\n",
              "      <td>108059</td>\n",
              "      <td>108059</td>\n",
              "      <td>108059</td>\n",
              "      <td>108059</td>\n",
              "    </tr>\n",
              "    <tr>\n",
              "      <th>64</th>\n",
              "      <td>66020</td>\n",
              "      <td>66020</td>\n",
              "      <td>66020</td>\n",
              "      <td>66020</td>\n",
              "      <td>66020</td>\n",
              "      <td>66020</td>\n",
              "      <td>66020</td>\n",
              "    </tr>\n",
              "    <tr>\n",
              "      <th>63</th>\n",
              "      <td>64642</td>\n",
              "      <td>64642</td>\n",
              "      <td>64642</td>\n",
              "      <td>64642</td>\n",
              "      <td>64642</td>\n",
              "      <td>64642</td>\n",
              "      <td>64642</td>\n",
              "    </tr>\n",
              "  </tbody>\n",
              "</table>\n",
              "</div>\n",
              "      <button class=\"colab-df-convert\" onclick=\"convertToInteractive('df-2e4096c3-99d6-47e4-8261-9177e87640a1')\"\n",
              "              title=\"Convert this dataframe to an interactive table.\"\n",
              "              style=\"display:none;\">\n",
              "        \n",
              "  <svg xmlns=\"http://www.w3.org/2000/svg\" height=\"24px\"viewBox=\"0 0 24 24\"\n",
              "       width=\"24px\">\n",
              "    <path d=\"M0 0h24v24H0V0z\" fill=\"none\"/>\n",
              "    <path d=\"M18.56 5.44l.94 2.06.94-2.06 2.06-.94-2.06-.94-.94-2.06-.94 2.06-2.06.94zm-11 1L8.5 8.5l.94-2.06 2.06-.94-2.06-.94L8.5 2.5l-.94 2.06-2.06.94zm10 10l.94 2.06.94-2.06 2.06-.94-2.06-.94-.94-2.06-.94 2.06-2.06.94z\"/><path d=\"M17.41 7.96l-1.37-1.37c-.4-.4-.92-.59-1.43-.59-.52 0-1.04.2-1.43.59L10.3 9.45l-7.72 7.72c-.78.78-.78 2.05 0 2.83L4 21.41c.39.39.9.59 1.41.59.51 0 1.02-.2 1.41-.59l7.78-7.78 2.81-2.81c.8-.78.8-2.07 0-2.86zM5.41 20L4 18.59l7.72-7.72 1.47 1.35L5.41 20z\"/>\n",
              "  </svg>\n",
              "      </button>\n",
              "      \n",
              "  <style>\n",
              "    .colab-df-container {\n",
              "      display:flex;\n",
              "      flex-wrap:wrap;\n",
              "      gap: 12px;\n",
              "    }\n",
              "\n",
              "    .colab-df-convert {\n",
              "      background-color: #E8F0FE;\n",
              "      border: none;\n",
              "      border-radius: 50%;\n",
              "      cursor: pointer;\n",
              "      display: none;\n",
              "      fill: #1967D2;\n",
              "      height: 32px;\n",
              "      padding: 0 0 0 0;\n",
              "      width: 32px;\n",
              "    }\n",
              "\n",
              "    .colab-df-convert:hover {\n",
              "      background-color: #E2EBFA;\n",
              "      box-shadow: 0px 1px 2px rgba(60, 64, 67, 0.3), 0px 1px 3px 1px rgba(60, 64, 67, 0.15);\n",
              "      fill: #174EA6;\n",
              "    }\n",
              "\n",
              "    [theme=dark] .colab-df-convert {\n",
              "      background-color: #3B4455;\n",
              "      fill: #D2E3FC;\n",
              "    }\n",
              "\n",
              "    [theme=dark] .colab-df-convert:hover {\n",
              "      background-color: #434B5C;\n",
              "      box-shadow: 0px 1px 3px 1px rgba(0, 0, 0, 0.15);\n",
              "      filter: drop-shadow(0px 1px 2px rgba(0, 0, 0, 0.3));\n",
              "      fill: #FFFFFF;\n",
              "    }\n",
              "  </style>\n",
              "\n",
              "      <script>\n",
              "        const buttonEl =\n",
              "          document.querySelector('#df-2e4096c3-99d6-47e4-8261-9177e87640a1 button.colab-df-convert');\n",
              "        buttonEl.style.display =\n",
              "          google.colab.kernel.accessAllowed ? 'block' : 'none';\n",
              "\n",
              "        async function convertToInteractive(key) {\n",
              "          const element = document.querySelector('#df-2e4096c3-99d6-47e4-8261-9177e87640a1');\n",
              "          const dataTable =\n",
              "            await google.colab.kernel.invokeFunction('convertToInteractive',\n",
              "                                                     [key], {});\n",
              "          if (!dataTable) return;\n",
              "\n",
              "          const docLinkHtml = 'Like what you see? Visit the ' +\n",
              "            '<a target=\"_blank\" href=https://colab.research.google.com/notebooks/data_table.ipynb>data table notebook</a>'\n",
              "            + ' to learn more about interactive tables.';\n",
              "          element.innerHTML = '';\n",
              "          dataTable['output_type'] = 'display_data';\n",
              "          await google.colab.output.renderOutput(dataTable, element);\n",
              "          const docLink = document.createElement('div');\n",
              "          docLink.innerHTML = docLinkHtml;\n",
              "          element.appendChild(docLink);\n",
              "        }\n",
              "      </script>\n",
              "    </div>\n",
              "  </div>\n",
              "  "
            ]
          },
          "metadata": {},
          "execution_count": 30
        }
      ],
      "source": [
        "data.groupby(['TDC_CHANNEL']).count().sort_values(by=\"HEAD\", ascending=False)[:3]"
      ]
    },
    {
      "cell_type": "markdown",
      "metadata": {
        "id": "bJhAFLluVTyG"
      },
      "source": [
        "6\\. Count the number of non-empty orbits (i.e. the number of orbits with at least one hit)."
      ]
    },
    {
      "cell_type": "code",
      "execution_count": 23,
      "metadata": {
        "colab": {
          "base_uri": "https://localhost:8080/"
        },
        "id": "XIlgwNcjVTyG",
        "outputId": "43f332b5-d0d9-489e-bccb-b19e4ddadbc2"
      },
      "outputs": [
        {
          "output_type": "stream",
          "name": "stdout",
          "text": [
            "The number of unique non-empty orbits (i.e. the number of orbits with at least one hit) is 11001.\n"
          ]
        }
      ],
      "source": [
        "no_empty_orbits= data.groupby(\"ORBIT_CNT\").count()\n",
        "print(\"The number of unique non-empty orbits (i.e. the number of orbits with at least one hit) is %d.\"%len(no_empty_orbits))"
      ]
    },
    {
      "cell_type": "markdown",
      "metadata": {
        "id": "bGptPuS7VTyI"
      },
      "source": [
        "7\\. Count the number of unique orbits with at least one measurement from TDC_CHANNEL=139."
      ]
    },
    {
      "cell_type": "code",
      "execution_count": 24,
      "metadata": {
        "colab": {
          "base_uri": "https://localhost:8080/"
        },
        "id": "55WgBlQMVTyJ",
        "outputId": "1d640404-9246-47ee-f75c-2f261dc3e232"
      },
      "outputs": [
        {
          "output_type": "stream",
          "name": "stdout",
          "text": [
            "The number of unique orbits with at least one measurement from TDC_CHANNEL 139 is 107009.\n"
          ]
        }
      ],
      "source": [
        "unique_orbits=pd.DataFrame(data[data['TDC_CHANNEL']==139]).drop_duplicates(subset=['ORBIT_CNT','BX_COUNTER'], inplace=False)\n",
        "print(\"The number of unique orbits with at least one measurement from TDC_CHANNEL 139 is %d.\"%len(unique_orbits))"
      ]
    },
    {
      "cell_type": "markdown",
      "metadata": {
        "id": "9SFOXhyzVTyK"
      },
      "source": [
        "8\\. Create two Series (one for each FPGA) that have the TDC channel as index, and the number of counts for the corresponding TDC channel as values."
      ]
    },
    {
      "cell_type": "code",
      "execution_count": 25,
      "metadata": {
        "id": "-iCIIxUQVTyL"
      },
      "outputs": [],
      "source": [
        "FPGA_0 = pd.Series(data[data['FPGA']==0]['TDC_CHANNEL'].value_counts())\n",
        "FPGA_1 = pd.Series(data[data['FPGA']==1]['TDC_CHANNEL'].value_counts())"
      ]
    },
    {
      "cell_type": "code",
      "execution_count": 26,
      "metadata": {
        "colab": {
          "base_uri": "https://localhost:8080/"
        },
        "id": "h1AVlmaqVTyM",
        "outputId": "b25966d9-377b-457d-9af9-31977a3d7a62"
      },
      "outputs": [
        {
          "output_type": "execute_result",
          "data": {
            "text/plain": [
              "139    75617\n",
              "64     64581\n",
              "63     63724\n",
              "61     48699\n",
              "62     48275\n",
              "       ...  \n",
              "130       33\n",
              "137       32\n",
              "30         4\n",
              "129        2\n",
              "39         1\n",
              "Name: TDC_CHANNEL, Length: 124, dtype: int64"
            ]
          },
          "metadata": {},
          "execution_count": 26
        }
      ],
      "source": [
        "FPGA_0"
      ]
    },
    {
      "cell_type": "markdown",
      "metadata": {
        "id": "B4OeW26uVTyO"
      },
      "source": [
        "9\\. **Optional:** Create two histograms (one for each FPGA) that show the number of counts for each TDC channel."
      ]
    },
    {
      "cell_type": "code",
      "execution_count": 27,
      "metadata": {
        "colab": {
          "base_uri": "https://localhost:8080/",
          "height": 1000
        },
        "id": "HhLmNGfWVTyO",
        "outputId": "385ebf1a-8675-4a26-cade-77fc4f0d43f7"
      },
      "outputs": [
        {
          "output_type": "execute_result",
          "data": {
            "text/plain": [
              "Text(0, 0.5, 'Count')"
            ]
          },
          "metadata": {},
          "execution_count": 27
        },
        {
          "output_type": "display_data",
          "data": {
            "text/plain": [
              "<Figure size 1440x1440 with 2 Axes>"
            ],
            "image/png": "[encoded data removed]"
          },
          "metadata": {}
        }
      ],
      "source": [
        "plt.figure(figsize = (20, 20))\n",
        "\n",
        "plt.subplot(2,1,1)\n",
        "plt.hist(FPGA_0)\n",
        "plt.title('FPGA 0')\n",
        "plt.xlabel('TDC channel')\n",
        "plt.ylabel('Count')\n",
        "\n",
        "plt.subplot(2,1,2)\n",
        "plt.hist(FPGA_1, color='r')\n",
        "plt.title('FPGA 1')\n",
        "plt.xlabel('TDC channel')\n",
        "plt.ylabel('Count')"
      ]
    }
  ],
  "metadata": {
    "kernelspec": {
      "display_name": "Python 3 (ipykernel)",
      "language": "python",
      "name": "python3"
    },
    "language_info": {
      "codemirror_mode": {
        "name": "ipython",
        "version": 3
      },
      "file_extension": ".py",
      "mimetype": "text/x-python",
      "name": "python",
      "nbconvert_exporter": "python",
      "pygments_lexer": "ipython3",
      "version": "3.9.12"
    },
    "colab": {
      "provenance": []
    }
  },
  "nbformat": 4,
  "nbformat_minor": 0
}