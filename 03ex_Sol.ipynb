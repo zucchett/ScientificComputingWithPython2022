{
 "cells": [
  {
   "cell_type": "markdown",
   "metadata": {},
   "source": [
    "You can solve these exercises in the room or at home. For this week, exercises have to be solved by creating a dedicated `.py` file (or files) called `03ex_numberRepresentation.py`.\n",
    "\n",
    "In case you need multiple files, name them `03ex_numberRepresentation_es01.py`, `03ex_numberRepresentation_es02.py` and so on. In this case, it's convenient to create a dedicated directory, to be named `03ex_numberRepresentation`. \n",
    "\n",
    "The exercises need to run without errors with `python3`."
   ]
  },
  {
   "cell_type": "markdown",
   "metadata": {},
   "source": [
    "1\\. **Number representation**\n",
    "\n",
    "Write a function that converts numbers among the bin, dec, and hex representations (bin<->dec<->hex).\n",
    "Determine the input type in the function, and pass another argument to choose the output representation."
   ]
  },
  {
   "cell_type": "code",
   "execution_count": 1,
   "metadata": {},
   "outputs": [
    {
     "name": "stdout",
     "output_type": "stream",
     "text": [
      "114\n",
      "0x72\n",
      "0b1110010\n"
     ]
    }
   ],
   "source": [
    "def about_num(num):\n",
    "    strnum=str(num) # converting num to string so we can use startswith\n",
    "    if strnum.startswith('0x'): # if it is hexadecimal\n",
    "        return newscaled(int(num,16),scale) \n",
    "    elif strnum.startswith('0b'): # if it is binary\n",
    "        return newscaled(int(num,2),scale)\n",
    "    else:\n",
    "        return newscaled(num,scale)\n",
    "\n",
    "def newscaled(num,scale):\n",
    "    if scale=='hex' or scale==hex or scale==16:  \n",
    "        return hex(num)\n",
    "    elif scale=='bin' or scale==bin or scale==2:\n",
    "        return bin(num)\n",
    "    else :\n",
    "        return num\n",
    "\n",
    "print(newscaled(114,10)) \n",
    "print(newscaled(114,hex))\n",
    "print(newscaled(114,bin))  "
   ]
  },
  {
   "cell_type": "markdown",
   "metadata": {},
   "source": [
    "2\\. **32-bit floating point number**\n",
    "\n",
    "Write a function that converts a 32 bit binary string (for example, `110000101011000000000000`) into a single precision floating point in decimal representation. Interpret the various bits as sign, fractional part of the mantissa and exponent, according to the IEEE 754 reccommendations."
   ]
  },
  {
   "cell_type": "code",
   "execution_count": 2,
   "metadata": {},
   "outputs": [
    {
     "name": "stdout",
     "output_type": "stream",
     "text": [
      "Please enter a 32 bits number:110000101011000000000000\n",
      "sign = -1\n",
      "exp = 6\n",
      "mantissa =  1.375\n",
      "-88.0\n"
     ]
    }
   ],
   "source": [
    "word=input('Please enter a 32 bits number:')\n",
    "\n",
    "def word_floating(word):\n",
    "    f=0\n",
    "    p1=1\n",
    "    p2=1\n",
    "    exp1=0\n",
    "    if len(word) > 32:\n",
    "        return 'It is not a 32 bits Number.'\n",
    "    else :\n",
    "        s=word[0]\n",
    "        e=word[1:9]\n",
    "        m=word[9:]\n",
    "    for j in m:\n",
    "        f += int(j)*pow(2,-p1)\n",
    "        p1 += 1\n",
    "    n=len(e)-1\n",
    "    for k in e:\n",
    "        exp1 += int(k)*pow(2,n)\n",
    "        n -= 1\n",
    "                \n",
    "    sign=pow((-1),int(s)) \n",
    "    mantissa=1+f\n",
    "    exp=exp1-127\n",
    "    X_float=sign*mantissa*pow(2,exp)\n",
    "    print('sign =',sign)\n",
    "    print('exp =',exp)\n",
    "    print('mantissa = ',mantissa)\n",
    "    return X_float \n",
    "\n",
    "print(word_floating(word))"
   ]
  },
  {
   "cell_type": "markdown",
   "metadata": {},
   "source": [
    "3\\. **Underflow and overflow**\n",
    "\n",
    "Write a program to determine the underflow and overflow limits (within a factor of 2) for floating point numbers on your computer. \n",
    "\n",
    "*Hint*: define two variables initialized to 1, and halve/double them for a sufficient amount of times to exceed the under/over-flow limits."
   ]
  },
  {
   "cell_type": "code",
   "execution_count": 3,
   "metadata": {},
   "outputs": [
    {
     "name": "stdout",
     "output_type": "stream",
     "text": [
      "minimum floating point reresentation on system : 2.2250738585072014e-308\n",
      "underflow = 5e-324\n",
      "maximum floating point reresentation on system : 1.7976931348623157e+308\n",
      "overflow = 8.98846567431158e+307\n"
     ]
    }
   ],
   "source": [
    "import sys\n",
    "\n",
    "underflow = 1.000\n",
    "overflow = 1.000\n",
    "\n",
    "while (underflow / 2) > 0:\n",
    "    underflow = underflow / 2\n",
    "\n",
    "while (overflow * 2) < float('inf'):\n",
    "    overflow = overflow * 2\n",
    "\n",
    "print('minimum floating point reresentation on system :',sys.float_info.min)\n",
    "print(\"underflow =\" , underflow)\n",
    "print('maximum floating point reresentation on system :',sys.float_info.max)\n",
    "print(\"overflow =\" , overflow)"
   ]
  },
  {
   "cell_type": "markdown",
   "metadata": {},
   "source": [
    "4\\. **Machine precision**\n",
    "\n",
    "Similarly to the previous exercise, write a program to determine the machine precision for floating point numbers.\n",
    "\n",
    "*Hint*: define a new variable by adding an increasingly smaller value and check when the addition starts to have no effect on the number."
   ]
  },
  {
   "cell_type": "code",
   "execution_count": 4,
   "metadata": {},
   "outputs": [
    {
     "name": "stdout",
     "output_type": "stream",
     "text": [
      "machine precision 1.1102230246251565e-16\n",
      "number of additions = 53\n"
     ]
    }
   ],
   "source": [
    "x = 1.0\n",
    "count = 0\n",
    "\n",
    "while(1 + x != 1):\n",
    "    x /= 2\n",
    "    count += 1\n",
    "    \n",
    "print('machine precision',x)\n",
    "print('number of additions =',count)"
   ]
  },
  {
   "cell_type": "markdown",
   "metadata": {},
   "source": [
    "5\\. **Quadratic solution**\n",
    "\n",
    "Write a function that takes in input three parameters $a$, $b$ and $c$ and prints out the two solutions to the quadratic equation $ax^2+bx+c=0$ using the standard formula:\n",
    "$$\n",
    "x=\\frac{-b\\pm\\sqrt{b^2-4ac}}{2a}\n",
    "$$\n",
    "\n",
    "(a) use the function to compute the solution for $a=0.001$, $b=1000$ and $c=0.001$\n",
    "\n",
    "(b) re-express the standard solution formula by multiplying the numerator and the denominator by $-b\\mp\\sqrt{b^2-4ac}$ and again find the solution for $a=0.001$, $b=1000$ and $c=0.001$. How does it compare with what has been previously obtained, and why? (add the answer to a Python comment)\n",
    "\n",
    "(c) write a function that computes the roots of a quadratic equation accurately in all cases"
   ]
  },
  {
   "cell_type": "code",
   "execution_count": 5,
   "metadata": {},
   "outputs": [
    {
     "name": "stdout",
     "output_type": "stream",
     "text": [
      "(a) : (-9.999894245993346e-07, -999999.999999)\n",
      "(b) : (-1.000000000001e-06, -1000010.5755125057)\n",
      "(c) : (-9.999894245993346e-07, -1.000000000001e-06)\n"
     ]
    }
   ],
   "source": [
    "# (a) \n",
    "import math as m\n",
    "\n",
    "def quadratic_a(a,b,c):\n",
    "    sqrtdelta=m.sqrt(pow(b,2)-4*a*c)\n",
    "    x1=(-b+sqrtdelta)/(2*a)\n",
    "    x2=(-b-sqrtdelta)/(2*a)\n",
    "    return x1,x2\n",
    "\n",
    "# (b) \n",
    "# the result of the re-expressed formula is more accurate for the negetive root\n",
    "def quadratic_b(a,b,c):\n",
    "    sqrtdelta=m.sqrt(pow(b,2)-4*a*c)\n",
    "    # after simplification the re-expressed formula\n",
    "    x1=(2*c)/(-b-sqrtdelta)\n",
    "    x2=(2*c)/(-b+sqrtdelta)\n",
    "    return x1,x2\n",
    "\n",
    "# (c)\n",
    "# for positive roots this function uses the first formula and for negetive roots uses the second formula\n",
    "def quadratic_c(a,b,c):\n",
    "    sqrtdelta=m.sqrt(pow(b,2)-4*a*c)\n",
    "    x1=(-b+sqrtdelta)/(2*a)\n",
    "    x2=(2*c)/(-b-sqrtdelta)\n",
    "    return x1,x2\n",
    "\n",
    "print('(a) :',quadratic_a(0.001,1000,0.001))\n",
    "print('(b) :',quadratic_b(0.001,1000,0.001))\n",
    "print('(c) :',quadratic_c(0.001,1000,0.001))"
   ]
  },
  {
   "cell_type": "markdown",
   "metadata": {},
   "source": [
    "6\\. **The derivative**\n",
    "\n",
    "Write a program that implements the function $f(x)=x(x−1)$\n",
    "\n",
    "(a) Calculate the derivative of the function at the point $x = 1$ using the derivative definition:\n",
    "\n",
    "$$\n",
    "\\frac{{\\rm d}f}{{\\rm d}x} = \\lim_{\\delta\\to0} \\frac{f(x+\\delta)-f(x)}{\\delta}\n",
    "$$\n",
    "\n",
    "with $\\delta = 10^{−2}$. Calculate the true value of the same derivative analytically and compare it with the answer your program gives. The two will not agree perfectly. Why?\n",
    "\n",
    "(b) Repeat the calculation for $\\delta = 10^{−4}, 10^{−6}, 10^{−8}, 10^{−10}, 10^{−12}$ and $10^{−14}$. How does the accuracy scale with $\\delta$?"
   ]
  },
  {
   "cell_type": "code",
   "execution_count": 6,
   "metadata": {},
   "outputs": [
    {
     "name": "stdout",
     "output_type": "stream",
     "text": [
      "Enter the number x=1\n",
      "Delta =  0.01000000000000, Derivative =  1.010000000000001, Accuracy = 0.010000000000001\n",
      "Delta =  0.00010000000000, Derivative =  1.000099999999890, Accuracy = 0.000099999999890\n",
      "Delta =  0.00000100000000, Derivative =  1.000000999917733, Accuracy = 0.000000999917733\n",
      "Delta =  0.00000001000000, Derivative =  1.000000003922529, Accuracy = 0.000000003922529\n",
      "Delta =  0.00000000010000, Derivative =  1.000000082840371, Accuracy = 0.000000082840371\n",
      "Delta =  0.00000000000100, Derivative =  1.000088900583341, Accuracy = 0.000088900583341\n",
      "Delta =  0.00000000000001, Derivative =  0.999200722162651, Accuracy = 0.000799277837349\n"
     ]
    }
   ],
   "source": [
    "# (a)\n",
    "\n",
    "x=int(input('Enter the number x='))\n",
    "\n",
    "import math as m\n",
    "\n",
    "def derivativefunction(x,delta):\n",
    "    return (Function(x+delta)-Function(x))/delta\n",
    "\n",
    "def Function(x):\n",
    "    return x*(x-1)\n",
    "\n",
    "def compare(x):\n",
    "    analyticalderivative = 2*x-1\n",
    "    return abs(derivativefunction(x,delta)-analyticalderivative)\n",
    "    \n",
    "# (b)     \n",
    "    \n",
    "for i in [2,4,6,8,10,12,14]:\n",
    "    delta=pow(10,-i)\n",
    "    print('Delta =  {:.14f}, Derivative =  {:.15f}, Accuracy = {:.15F}'.format(delta,derivativefunction(x,delta),compare(x)))"
   ]
  },
  {
   "cell_type": "markdown",
   "metadata": {},
   "source": [
    "7\\. **Integral of a semicircle**\n",
    "\n",
    "Consider the integral of the semicircle of radius 1:\n",
    "$$\n",
    "I=\\int_{-1}^{1} \\sqrt(1-x^2) {\\rm d}x\n",
    "$$\n",
    "which is known to be $I=\\frac{\\pi}{2}=1.57079632679...$.\n",
    "\n",
    "Alternatively we can use the Riemann definition of the integral:\n",
    "$$\n",
    "I=\\lim_{N\\to\\infty} \\sum_{k=1}^{N} h y_k \n",
    "$$\n",
    "\n",
    "with $h=2/N$ the width of each of the $N$ slices the domain is divided into and where\n",
    "$y_k$ is the value of the function at the $k-$th slice.\n",
    "\n",
    "(a) Write a program to compute the integral with $N=100$. How does the result compare to the true value?\n",
    "\n",
    "(b) How much can $N$ be increased if the computation needs to be run in less than a second? What is the gain in running it for 1 minute? Use `timeit` to measure the time."
   ]
  },
  {
   "cell_type": "code",
   "execution_count": 7,
   "metadata": {},
   "outputs": [
    {
     "name": "stdout",
     "output_type": "stream",
     "text": [
      "Please enter the N:7\n",
      "1.4817745378230767\n",
      "difference compare to the true value = 0.08902178897181989 \n",
      "\n",
      "\n",
      "\n",
      "0.7300088405609131 seconds at N=500000 =  1.5707963220895778 \n",
      "\n",
      "1.3579461574554443 seconds at N=1000000 =  1.5707963251616452 \n",
      "\n",
      "146.476478099823 seconds at N=50000000 =  1.5707963272963141 \n",
      "\n",
      "Accuracy Gain = 0.0016620717470647861\n"
     ]
    }
   ],
   "source": [
    "# (a) \n",
    "from math import pi\n",
    "import time\n",
    "import timeit\n",
    "\n",
    "N=int(input('Please enter the N:'))\n",
    "\n",
    "def function(x):\n",
    "    if abs(x) <= 1:\n",
    "        return (1-pow(x,2))**(1/2)\n",
    "\n",
    "def Integral(N):\n",
    "    I=0\n",
    "    k=-1 \n",
    "    while k <= 1:\n",
    "        I += function(k) * (2/N) \n",
    "        k += (2/N) \n",
    "    return I\n",
    "\n",
    "print(Integral(N))\n",
    "print('difference compare to the true value =',abs(pi/2-Integral(N)),'\\n\\n\\n')\n",
    "\n",
    "a1=Integral(100)\n",
    "\n",
    "# (b)\n",
    "\n",
    "\n",
    "start = time.time()\n",
    "N=500000\n",
    "Integral(N)\n",
    "finish = time.time()\n",
    "totaltime=finish-start\n",
    "print(totaltime,'seconds at N={} = '.format(N), Integral(N),'\\n')\n",
    "\n",
    "\n",
    "start = time.time() \n",
    "N=1000000\n",
    "Integral(N)\n",
    "finish = time.time() \n",
    "totaltime=finish-start \n",
    "print(totaltime,'seconds at N={} = '.format(N), Integral(N),'\\n')\n",
    "\n",
    "\n",
    "start = time.time() \n",
    "N=50000000\n",
    "Integral(N)\n",
    "a2=Integral(N)\n",
    "finish = time.time() \n",
    "totaltime=finish-start \n",
    "print(totaltime,'seconds at N={} = '.format(N), Integral(N),'\\n')\n",
    "\n",
    "print('Accuracy Gain =',abs(a2-a1))"
   ]
  },
  {
   "cell_type": "code",
   "execution_count": null,
   "metadata": {},
   "outputs": [],
   "source": []
  }
 ],
 "metadata": {
  "kernelspec": {
   "display_name": "Python 3",
   "language": "python",
   "name": "python3"
  },
  "language_info": {
   "codemirror_mode": {
    "name": "ipython",
    "version": 3
   },
   "file_extension": ".py",
   "mimetype": "text/x-python",
   "name": "python",
   "nbconvert_exporter": "python",
   "pygments_lexer": "ipython3",
   "version": "3.8.8"
  }
 },
 "nbformat": 4,
 "nbformat_minor": 2
}
