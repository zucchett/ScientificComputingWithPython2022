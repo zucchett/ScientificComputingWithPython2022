{
  "nbformat": 4,
  "nbformat_minor": 0,
  "metadata": {
    "colab": {
      "provenance": [],
      "collapsed_sections": [
        "jSFoBnz3sgCc",
        "jL6RL4kAsmiD",
        "ArF2wNXUzcAR",
        "EQSuA91iaRUL",
        "6fDaNbECbx9S",
        "WgMNeXR_dw_b",
        "ZD8JmP6AefVT",
        "gJSwgs5Tgvm2",
        "UlNI10VPh8mZ"
      ],
      "authorship_tag": "ABX9TyM1jq263poYlYiTVVL8iOH8"
    },
    "kernelspec": {
      "name": "python3",
      "display_name": "Python 3"
    },
    "language_info": {
      "name": "python"
    }
  },
  "cells": [
    {
      "cell_type": "markdown",
      "source": [
        "# 1. Global variables"
      ],
      "metadata": {
        "id": "jSFoBnz3sgCc"
      }
    },
    {
      "cell_type": "code",
      "source": [
        "# x = 5\n",
        "\n",
        "# def f(alist):\n",
        "#     for i in range(x):\n",
        "#         alist.append(i)\n",
        "#     return alist\n",
        "\n",
        "# alist = [1, 2, 3]\n",
        "# ans = f(alist)\n",
        "# print(ans)\n",
        "# print(alist) # alist has been changed\n",
        "\n",
        "\n",
        "def f(alist):\n",
        "  x = 5\n",
        "  returnlist = alist[0:len(alist)]\n",
        "  for i in range(x):\n",
        "      returnlist.append(i)\n",
        "  return returnlist\n",
        "\n",
        "alist = [1, 2, 3]\n",
        "ans = f(alist)\n",
        "print(ans)\n",
        "print(alist) # alist has not been changed\n"
      ],
      "metadata": {
        "id": "BM5LVcU5sfuK",
        "colab": {
          "base_uri": "https://localhost:8080/"
        },
        "outputId": "616b5bef-8ec3-4b9d-d58d-de889254690e"
      },
      "execution_count": null,
      "outputs": [
        {
          "output_type": "stream",
          "name": "stdout",
          "text": [
            "[1, 2, 3, 0, 1, 2, 3, 4]\n",
            "[1, 2, 3]\n"
          ]
        }
      ]
    },
    {
      "cell_type": "markdown",
      "source": [
        "# 2. List comprehension"
      ],
      "metadata": {
        "id": "jL6RL4kAsmiD"
      }
    },
    {
      "cell_type": "code",
      "execution_count": 1,
      "metadata": {
        "id": "RQgoYqUnsa_B",
        "colab": {
          "base_uri": "https://localhost:8080/"
        },
        "outputId": "3146dd69-32e2-4798-f3c8-3256a80f406e"
      },
      "outputs": [
        {
          "output_type": "stream",
          "name": "stdout",
          "text": [
            "[1, 9, 25, 49, 81]\n",
            "[1, 9, 25, 49, 81]\n"
          ]
        }
      ],
      "source": [
        "ans = list(map(lambda x: x * x, filter(lambda x: x % 2 == 1, range(10))))\n",
        "\n",
        "print(ans)\n",
        "\n",
        "ans_comprehension = [x*x for x in filter(lambda x: x % 2 == 1, range(10))]\n",
        "\n",
        "print(ans_comprehension)"
      ]
    },
    {
      "cell_type": "markdown",
      "source": [
        "# 3. Filter list"
      ],
      "metadata": {
        "id": "ArF2wNXUzcAR"
      }
    },
    {
      "cell_type": "code",
      "source": [
        "ilist = input().split(' ')\n",
        "n = int(input())\n",
        "\n",
        "def smaller_than(wordd):\n",
        "\n",
        "    return len(wordd) <= n\n",
        "\n",
        "ans = list(filter(smaller_than, ilist))\n",
        "\n",
        "print(ans)"
      ],
      "metadata": {
        "colab": {
          "base_uri": "https://localhost:8080/"
        },
        "id": "31pfmxqTzhgV",
        "outputId": "24ca3c8d-86bf-44bb-c170-ec0964742875"
      },
      "execution_count": null,
      "outputs": [
        {
          "output_type": "stream",
          "name": "stdout",
          "text": [
            "test the words for lengths smaller than four\n",
            "4\n",
            "['test', 'the', 'for', 'than', 'four']\n"
          ]
        }
      ]
    },
    {
      "cell_type": "markdown",
      "source": [
        "# 4.  Map dictionary"
      ],
      "metadata": {
        "id": "EQSuA91iaRUL"
      }
    },
    {
      "cell_type": "code",
      "source": [
        "lang = {\"Python\" : 3, \"Java\" : '', \"Cplusplus\" : 'test', \"Php\" : 0.7}\n",
        "\n",
        "def returnKeyLengths(dic):\n",
        "  return list(map(len, dic.keys()))\n",
        "\n",
        "print(returnKeyLengths(lang))"
      ],
      "metadata": {
        "colab": {
          "base_uri": "https://localhost:8080/"
        },
        "id": "Y4TyIlYqadlA",
        "outputId": "f4181b8b-a5d9-4796-8f33-0ff0d2098c00"
      },
      "execution_count": null,
      "outputs": [
        {
          "output_type": "stream",
          "name": "stdout",
          "text": [
            "[6, 4, 9, 3]\n"
          ]
        }
      ]
    },
    {
      "cell_type": "markdown",
      "source": [
        "# 5. Lambda functions\n",
        "\n"
      ],
      "metadata": {
        "id": "6fDaNbECbx9S"
      }
    },
    {
      "cell_type": "code",
      "source": [
        "language_scores = [('Python', 97), ('Cplusplus', 81), ('Php', 45), ('Java', 32)]\n",
        "\n",
        "language_scores.sort( key = lambda x : x[0] )\n",
        "\n",
        "print(language_scores)"
      ],
      "metadata": {
        "colab": {
          "base_uri": "https://localhost:8080/"
        },
        "id": "2oOs-Gthb0Xv",
        "outputId": "bffcf4fb-8d8a-4a70-961b-092ecf9632fc"
      },
      "execution_count": null,
      "outputs": [
        {
          "output_type": "stream",
          "name": "stdout",
          "text": [
            "[('Cplusplus', 81), ('Java', 32), ('Php', 45), ('Python', 97)]\n"
          ]
        }
      ]
    },
    {
      "cell_type": "markdown",
      "source": [
        "# 6. Nested functions\n",
        "\n"
      ],
      "metadata": {
        "id": "WgMNeXR_dw_b"
      }
    },
    {
      "cell_type": "code",
      "source": [
        "def squared ( x ):\n",
        "\n",
        "  return x * x\n",
        "\n",
        "def cubed ( x ):\n",
        "\n",
        "  return x * x * x\n",
        "\n",
        "def sixthPower ( x ):\n",
        "\n",
        "  return(squared(cubed(x)))\n",
        "\n",
        "\n",
        "#eg:\n",
        "i = int(input())\n",
        "\n",
        "print(sixthPower(i))"
      ],
      "metadata": {
        "colab": {
          "base_uri": "https://localhost:8080/"
        },
        "id": "VI44qNsbdx5N",
        "outputId": "4fb7fbce-4b1b-476e-c520-18fb2658f123"
      },
      "execution_count": null,
      "outputs": [
        {
          "output_type": "stream",
          "name": "stdout",
          "text": [
            "2\n",
            "64\n"
          ]
        }
      ]
    },
    {
      "cell_type": "markdown",
      "source": [
        "# 7. Decorators\n",
        "\n"
      ],
      "metadata": {
        "id": "ZD8JmP6AefVT"
      }
    },
    {
      "cell_type": "code",
      "source": [
        "def hello(func):\n",
        "    def wrapper(i):\n",
        "        print(\"Hello World!\")\n",
        "        return func(i)\n",
        "    return wrapper\n",
        "\n",
        "@hello\n",
        "def square(x):\n",
        "    return x*x\n",
        "\n",
        "#example\n",
        "i = int(input())\n",
        "print(square(i))"
      ],
      "metadata": {
        "colab": {
          "base_uri": "https://localhost:8080/"
        },
        "id": "D-aXighAeiCa",
        "outputId": "1fb82400-8a0b-48bb-c0e8-554a5868b9d0"
      },
      "execution_count": null,
      "outputs": [
        {
          "output_type": "stream",
          "name": "stdout",
          "text": [
            "2\n",
            "Hello World!\n",
            "4\n"
          ]
        }
      ]
    },
    {
      "cell_type": "markdown",
      "source": [
        "# 8. The Fibonacci sequence (part 2)\n",
        "\n"
      ],
      "metadata": {
        "id": "gJSwgs5Tgvm2"
      }
    },
    {
      "cell_type": "code",
      "source": [
        "def fibb(x):\n",
        "    if x == 1 or x == 2:\n",
        "        return 1\n",
        "    else:\n",
        "        # recursive call to the function\n",
        "        return fibb(x - 2) + fibb(x - 1)\n",
        "\n",
        "for i in range(1, 21):\n",
        "  print(fibb(i))"
      ],
      "metadata": {
        "colab": {
          "base_uri": "https://localhost:8080/"
        },
        "id": "EKzehYPzgyMm",
        "outputId": "4c799082-9265-43de-9b72-58330212316c"
      },
      "execution_count": null,
      "outputs": [
        {
          "output_type": "stream",
          "name": "stdout",
          "text": [
            "1\n",
            "1\n",
            "2\n",
            "3\n",
            "5\n",
            "8\n",
            "13\n",
            "21\n",
            "34\n",
            "55\n",
            "89\n",
            "144\n",
            "233\n",
            "377\n",
            "610\n",
            "987\n",
            "1597\n",
            "2584\n",
            "4181\n",
            "6765\n"
          ]
        }
      ]
    },
    {
      "cell_type": "markdown",
      "source": [
        "# 9. The Fibonacci sequence (part 3)\n",
        "\n"
      ],
      "metadata": {
        "id": "UlNI10VPh8mZ"
      }
    },
    {
      "cell_type": "code",
      "source": [
        "def loopFib(x):\n",
        "  fib = [1, 1]\n",
        "\n",
        "  for i in range(x):\n",
        "    fib.append(fib[i] + fib[i+1])\n",
        "\n",
        "  return fib\n",
        "\n",
        "def recursiveFib(x):\n",
        "   fibonacci = []\n",
        "   if x == 1 or x == 2:\n",
        "     return 1\n",
        "   else:\n",
        "       # recursive call to the function\n",
        "       return fibb(x - 2) + fibb(x - 1)\n",
        "\n",
        "\n",
        "%timeit loopFib(20)\n",
        "\n",
        "%timeit recursiveFib(20)"
      ],
      "metadata": {
        "colab": {
          "base_uri": "https://localhost:8080/"
        },
        "id": "ruBXSKYch9_7",
        "outputId": "b03c654f-d587-4f15-9f6b-987a87fc9c18"
      },
      "execution_count": null,
      "outputs": [
        {
          "output_type": "stream",
          "name": "stdout",
          "text": [
            "3.48 µs ± 144 ns per loop (mean ± std. dev. of 7 runs, 100000 loops each)\n",
            "1.98 ms ± 40.5 µs per loop (mean ± std. dev. of 7 runs, 100 loops each)\n"
          ]
        }
      ]
    },
    {
      "cell_type": "markdown",
      "source": [
        "the first approach is obviusly the more efficient application because the time for calculating the 20th fibonacci is 3.48 microseconds compared to the 1.98 miliseconds it took the recursive function to calculate, which is approximately $1.75 * 10^3$ times faster"
      ],
      "metadata": {
        "id": "4T0Q8YhejsbH"
      }
    },
    {
      "cell_type": "markdown",
      "source": [
        "# 10. Class definition\n",
        "\n"
      ],
      "metadata": {
        "id": "XftJc6LflLdZ"
      }
    },
    {
      "cell_type": "code",
      "source": [
        "class Polygon:\n",
        "  sides = []\n",
        "\n",
        "  def getlengths(self, vals):\n",
        "    self.sides = list(vals.split(','))\n",
        " \n",
        "  def perimeter(self):\n",
        "    perimeterr = 0\n",
        "    for i in self.sides:\n",
        "      perimeterr += int(i)\n",
        "\n",
        "    return perimeterr\n",
        "\n",
        "  def getOrderedSides(self, increasing):\n",
        "    if increasing:\n",
        "      return sorted(self.sides, key = lambda x: x[0])\n",
        "    else:\n",
        "      return sorted(self.sides, key = lambda x: x[0], reverse = True)\n",
        "\n",
        "example = Polygon()\n",
        "example.getlengths(\"3,5,4\")\n",
        "print(example.perimeter())\n",
        "print(example.getOrderedSides(True))\n",
        "print(example.getOrderedSides(False))"
      ],
      "metadata": {
        "colab": {
          "base_uri": "https://localhost:8080/"
        },
        "id": "64i8iWi9lQzB",
        "outputId": "40eed754-8b15-4e39-8fec-c99776795e72"
      },
      "execution_count": 32,
      "outputs": [
        {
          "output_type": "stream",
          "name": "stdout",
          "text": [
            "12\n",
            "['3', '4', '5']\n",
            "['5', '4', '3']\n"
          ]
        }
      ]
    },
    {
      "cell_type": "markdown",
      "source": [
        "#11. Class inheritance\n",
        "\n"
      ],
      "metadata": {
        "id": "7aG-BmDc4l4x"
      }
    },
    {
      "cell_type": "code",
      "source": [
        "class rectangle(Polygon):\n",
        "\n",
        "  isRect = True\n",
        "\n",
        "  def getlengths(self, vals):\n",
        "    self.sides = list(vals.split(','))\n",
        "    if len(self.sides) != 2:\n",
        "      print(\"this is not a rectangle\")\n",
        "      self.isRect = False\n",
        "    \n",
        "  \n",
        "  def area(self):\n",
        "    if self.isRect:\n",
        "      area = int(self.sides[0]) * int(self.sides[1])\n",
        "      return area\n",
        "    else:\n",
        "      print(\"this is not a rectangle\")\n",
        "\n",
        "rect = rectangle()\n",
        "rect.getlengths(\"2,23\")\n",
        "print(rect.area())\n",
        "\n",
        "not_rect = rectangle()\n",
        "not_rect.getlengths(\"3,4,5\")\n",
        "not_rect.area()"
      ],
      "metadata": {
        "colab": {
          "base_uri": "https://localhost:8080/"
        },
        "id": "iPY-VvjR4ofk",
        "outputId": "e92f1112-e82f-406c-aaa3-c574564d42fd"
      },
      "execution_count": 38,
      "outputs": [
        {
          "output_type": "stream",
          "name": "stdout",
          "text": [
            "46\n",
            "this is not a rectangle\n",
            "this is not a rectangle\n"
          ]
        }
      ]
    }
  ]
}