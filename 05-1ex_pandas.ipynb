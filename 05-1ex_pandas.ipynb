import pandas as pd
import numpy as np
import matplotlib.pyplot as plt
import csv 

DT = pd.read_csv('data/data_000637.txt').head(12000) 
print(DT) 
print(DT.info()) 