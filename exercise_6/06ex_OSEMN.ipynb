{
 "cells": [
  {
   "cell_type": "code",
   "execution_count": 2,
   "metadata": {
    "pycharm": {
     "name": "#%%\n"
    }
   },
   "outputs": [],
   "source": [
    "import pandas as pd\n",
    "import numpy as np"
   ]
  },
  {
   "cell_type": "markdown",
   "metadata": {
    "pycharm": {
     "name": "#%% md\n"
    }
   },
   "source": [
    "1\\. **Text files**\n",
    "\n",
    "Perform the following operations on plain `txt` files:\n",
    "\n",
    "+ create a list of integrer numbers and then save it to a text file named `data_int.txt`. Run the `cat` command to print the content of the file.\n",
    "+ create a matrix of 5x5 floats and then save it to a text file named `data_float.txt`. Use the `cat` command to print the content of the file.\n",
    "+ load the `txt` file of the previous point and convert it to a `csv` file by hand."
   ]
  },
  {
   "cell_type": "code",
   "execution_count": 3,
   "metadata": {
    "pycharm": {
     "name": "#%%\n"
    }
   },
   "outputs": [
    {
     "name": "stderr",
     "output_type": "stream",
     "text": [
      "'cat' is not recognized as an internal or external command,\n",
      "operable program or batch file.\n"
     ]
    },
    {
     "name": "stdout",
     "output_type": "stream",
     "text": [
      "  [0.75689386 0.28622938 0.44965363 0.35453927 0.05686224]\\r\\n\n",
      "0  [0.38282744 0.75352596 0.34311074 0.93334854 0...          \n",
      "1  [0.20629317 0.75775215 0.28593396 0.60795302 0...          \n",
      "2  [0.4108989  0.25672218 0.31777111 0.74030124 0...          \n",
      "3  [0.52046034 0.0381047  0.74053403 0.25576817 0...          \n"
     ]
    },
    {
     "name": "stderr",
     "output_type": "stream",
     "text": [
      "'cat' is not recognized as an internal or external command,\n",
      "operable program or batch file.\n"
     ]
    }
   ],
   "source": [
    "data_int = np.arange(1, 100, 4, dtype=int)\n",
    "out_file_name = 'data_int.txt'\n",
    "with open(out_file_name, 'w+') as outfile:\n",
    "    for i in data_int:\n",
    "        outfile.write(str(i) + ' ')\n",
    "\n",
    "!cat data_int.txt\n",
    "\n",
    "import numpy.random as npr\n",
    "data_float = npr.rand(5, 5)\n",
    "out_file_name = 'data_float.txt'\n",
    "with open(out_file_name, 'w+') as outfile:\n",
    "    for i in data_float:\n",
    "        outfile.write(str(i) + '\\n')\n",
    "\n",
    "!cat data_float.txt\n",
    "\n",
    "import csv\n",
    "txtfile = 'data_float.txt'\n",
    "csvfile = 'data_float.csv'\n",
    "with open(txtfile, 'r') as infile, open(csvfile, 'w+') as outfile:\n",
    "    lines = (line.split(',') for line in infile)\n",
    "    writer = csv.writer(outfile)\n",
    "    writer.writerows(lines)\n",
    "data = pd.read_csv(r'data_float.csv')\n",
    "print(data)"
   ]
  },
  {
   "cell_type": "markdown",
   "metadata": {
    "pycharm": {
     "name": "#%% md\n"
    }
   },
   "source": [
    "2\\. **JSON files**\n",
    "\n",
    "Load the file *user_data.json*, which can be found at:\n",
    "\n",
    "- https://www.dropbox.com/s/sz5klcdpckc39hd/user_data.json\n",
    "\n",
    "and filter the data by the \"CreditCardType\" when it equals to \"American Express\". Than save the data to a new CSV file."
   ]
  },
  {
   "cell_type": "code",
   "execution_count": 4,
   "metadata": {
    "pycharm": {
     "name": "#%%\n"
    }
   },
   "outputs": [
    {
     "data": {
      "text/plain": "      ID               JobTitle                       EmailAddress  \\\n1      2    Investment  Advisor       Clint_Thorpe5003@bulaffy.com   \n11    12         Retail Trainee   Phillip_Carpenter9505@famism.biz   \n27    28        Project Manager        Russel_Graves1378@extex.org   \n38    39            Stockbroker       Leanne_Newton1268@typill.biz   \n56    57         Budget Analyst          Tony_Giles1960@iatim.tech   \n61    62           CNC Operator        Owen_Allcott5125@bauros.biz   \n67    68        Project Manager           Liam_Lynn3280@kideod.biz   \n73    74                Dentist      Regina_Woodcock5820@yahoo.com   \n80    81          HR Specialist       Carter_Wallace9614@atink.com   \n91    92    Staffing Consultant           Maia_Stark2797@jiman.org   \n96    97            Stockbroker          Ciara_Lomax982@bauros.biz   \n115  116    Staffing Consultant      Isabel_Ellwood1475@fuliss.net   \n147  148           CNC Operator  Abdul_Townend2202@infotech44.tech   \n149  150             Fabricator        Caleb_Poulton1735@atink.com   \n150  151     Restaurant Manager         Ronald_Lewis6777@deavo.com   \n153  154                Bellman        Faith_Seymour3829@twace.org   \n168  169        Assistant Buyer      Anthony_Hancock9083@qater.org   \n175  176  Healthcare Specialist    Isabella_Willson5478@nanoff.biz   \n181  182             Pharmacist     Stephanie_Darcy3298@bauros.biz   \n198  199    Investment  Advisor         Ryan_Kennedy5565@corti.com   \n\n     FirstNameLastName           CreditCard    CreditCardType  \n1         Clint Thorpe  7083-8766-0251-2345  American Express  \n11   Phillip Carpenter  3657-0088-0820-5247  American Express  \n27       Russel Graves  6718-4818-8011-6024  American Express  \n38       Leanne Newton  5438-0816-4166-4847  American Express  \n56          Tony Giles  8130-3425-7573-7745  American Express  \n61        Owen Allcott  4156-0107-7210-2630  American Express  \n67           Liam Lynn  7152-3247-6053-2233  American Express  \n73     Regina Woodcock  0208-1753-3870-8002  American Express  \n80      Carter Wallace  4256-7201-6717-4322  American Express  \n91          Maia Stark  3851-1403-1734-6321  American Express  \n96         Ciara Lomax  3702-3440-2472-5424  American Express  \n115     Isabel Ellwood  3738-0882-0066-6683  American Express  \n147      Abdul Townend  4224-1226-3557-3448  American Express  \n149      Caleb Poulton  8203-6875-5225-0341  American Express  \n150       Ronald Lewis  7212-0155-5014-8471  American Express  \n153      Faith Seymour  4170-5186-6887-6558  American Express  \n168    Anthony Hancock  0832-3357-6010-6550  American Express  \n175   Isabella Willson  5177-4868-4623-0384  American Express  \n181    Stephanie Darcy  0264-4020-5106-5576  American Express  \n198       Ryan Kennedy  3166-6287-6242-7207  American Express  ",
      "text/html": "<div>\n<style scoped>\n    .dataframe tbody tr th:only-of-type {\n        vertical-align: middle;\n    }\n\n    .dataframe tbody tr th {\n        vertical-align: top;\n    }\n\n    .dataframe thead th {\n        text-align: right;\n    }\n</style>\n<table border=\"1\" class=\"dataframe\">\n  <thead>\n    <tr style=\"text-align: right;\">\n      <th></th>\n      <th>ID</th>\n      <th>JobTitle</th>\n      <th>EmailAddress</th>\n      <th>FirstNameLastName</th>\n      <th>CreditCard</th>\n      <th>CreditCardType</th>\n    </tr>\n  </thead>\n  <tbody>\n    <tr>\n      <th>1</th>\n      <td>2</td>\n      <td>Investment  Advisor</td>\n      <td>Clint_Thorpe5003@bulaffy.com</td>\n      <td>Clint Thorpe</td>\n      <td>7083-8766-0251-2345</td>\n      <td>American Express</td>\n    </tr>\n    <tr>\n      <th>11</th>\n      <td>12</td>\n      <td>Retail Trainee</td>\n      <td>Phillip_Carpenter9505@famism.biz</td>\n      <td>Phillip Carpenter</td>\n      <td>3657-0088-0820-5247</td>\n      <td>American Express</td>\n    </tr>\n    <tr>\n      <th>27</th>\n      <td>28</td>\n      <td>Project Manager</td>\n      <td>Russel_Graves1378@extex.org</td>\n      <td>Russel Graves</td>\n      <td>6718-4818-8011-6024</td>\n      <td>American Express</td>\n    </tr>\n    <tr>\n      <th>38</th>\n      <td>39</td>\n      <td>Stockbroker</td>\n      <td>Leanne_Newton1268@typill.biz</td>\n      <td>Leanne Newton</td>\n      <td>5438-0816-4166-4847</td>\n      <td>American Express</td>\n    </tr>\n    <tr>\n      <th>56</th>\n      <td>57</td>\n      <td>Budget Analyst</td>\n      <td>Tony_Giles1960@iatim.tech</td>\n      <td>Tony Giles</td>\n      <td>8130-3425-7573-7745</td>\n      <td>American Express</td>\n    </tr>\n    <tr>\n      <th>61</th>\n      <td>62</td>\n      <td>CNC Operator</td>\n      <td>Owen_Allcott5125@bauros.biz</td>\n      <td>Owen Allcott</td>\n      <td>4156-0107-7210-2630</td>\n      <td>American Express</td>\n    </tr>\n    <tr>\n      <th>67</th>\n      <td>68</td>\n      <td>Project Manager</td>\n      <td>Liam_Lynn3280@kideod.biz</td>\n      <td>Liam Lynn</td>\n      <td>7152-3247-6053-2233</td>\n      <td>American Express</td>\n    </tr>\n    <tr>\n      <th>73</th>\n      <td>74</td>\n      <td>Dentist</td>\n      <td>Regina_Woodcock5820@yahoo.com</td>\n      <td>Regina Woodcock</td>\n      <td>0208-1753-3870-8002</td>\n      <td>American Express</td>\n    </tr>\n    <tr>\n      <th>80</th>\n      <td>81</td>\n      <td>HR Specialist</td>\n      <td>Carter_Wallace9614@atink.com</td>\n      <td>Carter Wallace</td>\n      <td>4256-7201-6717-4322</td>\n      <td>American Express</td>\n    </tr>\n    <tr>\n      <th>91</th>\n      <td>92</td>\n      <td>Staffing Consultant</td>\n      <td>Maia_Stark2797@jiman.org</td>\n      <td>Maia Stark</td>\n      <td>3851-1403-1734-6321</td>\n      <td>American Express</td>\n    </tr>\n    <tr>\n      <th>96</th>\n      <td>97</td>\n      <td>Stockbroker</td>\n      <td>Ciara_Lomax982@bauros.biz</td>\n      <td>Ciara Lomax</td>\n      <td>3702-3440-2472-5424</td>\n      <td>American Express</td>\n    </tr>\n    <tr>\n      <th>115</th>\n      <td>116</td>\n      <td>Staffing Consultant</td>\n      <td>Isabel_Ellwood1475@fuliss.net</td>\n      <td>Isabel Ellwood</td>\n      <td>3738-0882-0066-6683</td>\n      <td>American Express</td>\n    </tr>\n    <tr>\n      <th>147</th>\n      <td>148</td>\n      <td>CNC Operator</td>\n      <td>Abdul_Townend2202@infotech44.tech</td>\n      <td>Abdul Townend</td>\n      <td>4224-1226-3557-3448</td>\n      <td>American Express</td>\n    </tr>\n    <tr>\n      <th>149</th>\n      <td>150</td>\n      <td>Fabricator</td>\n      <td>Caleb_Poulton1735@atink.com</td>\n      <td>Caleb Poulton</td>\n      <td>8203-6875-5225-0341</td>\n      <td>American Express</td>\n    </tr>\n    <tr>\n      <th>150</th>\n      <td>151</td>\n      <td>Restaurant Manager</td>\n      <td>Ronald_Lewis6777@deavo.com</td>\n      <td>Ronald Lewis</td>\n      <td>7212-0155-5014-8471</td>\n      <td>American Express</td>\n    </tr>\n    <tr>\n      <th>153</th>\n      <td>154</td>\n      <td>Bellman</td>\n      <td>Faith_Seymour3829@twace.org</td>\n      <td>Faith Seymour</td>\n      <td>4170-5186-6887-6558</td>\n      <td>American Express</td>\n    </tr>\n    <tr>\n      <th>168</th>\n      <td>169</td>\n      <td>Assistant Buyer</td>\n      <td>Anthony_Hancock9083@qater.org</td>\n      <td>Anthony Hancock</td>\n      <td>0832-3357-6010-6550</td>\n      <td>American Express</td>\n    </tr>\n    <tr>\n      <th>175</th>\n      <td>176</td>\n      <td>Healthcare Specialist</td>\n      <td>Isabella_Willson5478@nanoff.biz</td>\n      <td>Isabella Willson</td>\n      <td>5177-4868-4623-0384</td>\n      <td>American Express</td>\n    </tr>\n    <tr>\n      <th>181</th>\n      <td>182</td>\n      <td>Pharmacist</td>\n      <td>Stephanie_Darcy3298@bauros.biz</td>\n      <td>Stephanie Darcy</td>\n      <td>0264-4020-5106-5576</td>\n      <td>American Express</td>\n    </tr>\n    <tr>\n      <th>198</th>\n      <td>199</td>\n      <td>Investment  Advisor</td>\n      <td>Ryan_Kennedy5565@corti.com</td>\n      <td>Ryan Kennedy</td>\n      <td>3166-6287-6242-7207</td>\n      <td>American Express</td>\n    </tr>\n  </tbody>\n</table>\n</div>"
     },
     "execution_count": 4,
     "metadata": {},
     "output_type": "execute_result"
    }
   ],
   "source": [
    "import json # import the JSON module\n",
    "data = json.load(open('user_data.json'))\n",
    "df = pd.DataFrame(data)\n",
    "\n",
    "filtered_df = df[df['CreditCardType'] == 'American Express']\n",
    "filtered_df"
   ]
  },
  {
   "cell_type": "code",
   "execution_count": 6,
   "outputs": [
    {
     "name": "stdout",
     "output_type": "stream",
     "text": [
      "    Unnamed: 0   ID               JobTitle                       EmailAddress  \\\n",
      "0            1    2    Investment  Advisor       Clint_Thorpe5003@bulaffy.com   \n",
      "1           11   12         Retail Trainee   Phillip_Carpenter9505@famism.biz   \n",
      "2           27   28        Project Manager        Russel_Graves1378@extex.org   \n",
      "3           38   39            Stockbroker       Leanne_Newton1268@typill.biz   \n",
      "4           56   57         Budget Analyst          Tony_Giles1960@iatim.tech   \n",
      "5           61   62           CNC Operator        Owen_Allcott5125@bauros.biz   \n",
      "6           67   68        Project Manager           Liam_Lynn3280@kideod.biz   \n",
      "7           73   74                Dentist      Regina_Woodcock5820@yahoo.com   \n",
      "8           80   81          HR Specialist       Carter_Wallace9614@atink.com   \n",
      "9           91   92    Staffing Consultant           Maia_Stark2797@jiman.org   \n",
      "10          96   97            Stockbroker          Ciara_Lomax982@bauros.biz   \n",
      "11         115  116    Staffing Consultant      Isabel_Ellwood1475@fuliss.net   \n",
      "12         147  148           CNC Operator  Abdul_Townend2202@infotech44.tech   \n",
      "13         149  150             Fabricator        Caleb_Poulton1735@atink.com   \n",
      "14         150  151     Restaurant Manager         Ronald_Lewis6777@deavo.com   \n",
      "15         153  154                Bellman        Faith_Seymour3829@twace.org   \n",
      "16         168  169        Assistant Buyer      Anthony_Hancock9083@qater.org   \n",
      "17         175  176  Healthcare Specialist    Isabella_Willson5478@nanoff.biz   \n",
      "18         181  182             Pharmacist     Stephanie_Darcy3298@bauros.biz   \n",
      "19         198  199    Investment  Advisor         Ryan_Kennedy5565@corti.com   \n",
      "\n",
      "    FirstNameLastName           CreditCard    CreditCardType  \n",
      "0        Clint Thorpe  7083-8766-0251-2345  American Express  \n",
      "1   Phillip Carpenter  3657-0088-0820-5247  American Express  \n",
      "2       Russel Graves  6718-4818-8011-6024  American Express  \n",
      "3       Leanne Newton  5438-0816-4166-4847  American Express  \n",
      "4          Tony Giles  8130-3425-7573-7745  American Express  \n",
      "5        Owen Allcott  4156-0107-7210-2630  American Express  \n",
      "6           Liam Lynn  7152-3247-6053-2233  American Express  \n",
      "7     Regina Woodcock  0208-1753-3870-8002  American Express  \n",
      "8      Carter Wallace  4256-7201-6717-4322  American Express  \n",
      "9          Maia Stark  3851-1403-1734-6321  American Express  \n",
      "10        Ciara Lomax  3702-3440-2472-5424  American Express  \n",
      "11     Isabel Ellwood  3738-0882-0066-6683  American Express  \n",
      "12      Abdul Townend  4224-1226-3557-3448  American Express  \n",
      "13      Caleb Poulton  8203-6875-5225-0341  American Express  \n",
      "14       Ronald Lewis  7212-0155-5014-8471  American Express  \n",
      "15      Faith Seymour  4170-5186-6887-6558  American Express  \n",
      "16    Anthony Hancock  0832-3357-6010-6550  American Express  \n",
      "17   Isabella Willson  5177-4868-4623-0384  American Express  \n",
      "18    Stephanie Darcy  0264-4020-5106-5576  American Express  \n",
      "19       Ryan Kennedy  3166-6287-6242-7207  American Express  \n"
     ]
    }
   ],
   "source": [
    "filtered_df.to_csv('user_data.csv')\n",
    "data = pd.read_csv(r'user_data.csv')\n",
    "print(data)"
   ],
   "metadata": {
    "collapsed": false,
    "pycharm": {
     "name": "#%%\n"
    }
   }
  },
  {
   "cell_type": "markdown",
   "metadata": {
    "pycharm": {
     "name": "#%% md\n"
    }
   },
   "source": [
    "3\\. **CSV files with Pandas**\n",
    "\n",
    "Load the file from this url:\n",
    "\n",
    "- https://www.dropbox.com/s/kgshemfgk22iy79/mushrooms_categorized.csv\n",
    "\n",
    "with Pandas. \n",
    "\n",
    "+ explore and print the DataFrame\n",
    "+ calculate, using `groupby()`, the average value of each feature, separately for each class\n",
    "+ save the file in a JSON format."
   ]
  },
  {
   "cell_type": "code",
   "execution_count": 7,
   "metadata": {
    "pycharm": {
     "name": "#%%\n"
    }
   },
   "outputs": [
    {
     "data": {
      "text/plain": "      class  cap-shape  cap-surface  cap-color  bruises  odor  \\\n0         1          5            2          4        1     6   \n1         0          5            2          9        1     0   \n2         0          0            2          8        1     3   \n3         1          5            3          8        1     6   \n4         0          5            2          3        0     5   \n...     ...        ...          ...        ...      ...   ...   \n8119      0          3            2          4        0     5   \n8120      0          5            2          4        0     5   \n8121      0          2            2          4        0     5   \n8122      1          3            3          4        0     8   \n8123      0          5            2          4        0     5   \n\n      gill-attachment  gill-spacing  gill-size  gill-color  ...  \\\n0                   1             0          1           4  ...   \n1                   1             0          0           4  ...   \n2                   1             0          0           5  ...   \n3                   1             0          1           5  ...   \n4                   1             1          0           4  ...   \n...               ...           ...        ...         ...  ...   \n8119                0             0          0          11  ...   \n8120                0             0          0          11  ...   \n8121                0             0          0           5  ...   \n8122                1             0          1           0  ...   \n8123                0             0          0          11  ...   \n\n      stalk-surface-below-ring  stalk-color-above-ring  \\\n0                            2                       7   \n1                            2                       7   \n2                            2                       7   \n3                            2                       7   \n4                            2                       7   \n...                        ...                     ...   \n8119                         2                       5   \n8120                         2                       5   \n8121                         2                       5   \n8122                         1                       7   \n8123                         2                       5   \n\n      stalk-color-below-ring  veil-type  veil-color  ring-number  ring-type  \\\n0                          7          0           2            1          4   \n1                          7          0           2            1          4   \n2                          7          0           2            1          4   \n3                          7          0           2            1          4   \n4                          7          0           2            1          0   \n...                      ...        ...         ...          ...        ...   \n8119                       5          0           1            1          4   \n8120                       5          0           0            1          4   \n8121                       5          0           1            1          4   \n8122                       7          0           2            1          0   \n8123                       5          0           1            1          4   \n\n      spore-print-color  population  habitat  \n0                     2           3        5  \n1                     3           2        1  \n2                     3           2        3  \n3                     2           3        5  \n4                     3           0        1  \n...                 ...         ...      ...  \n8119                  0           1        2  \n8120                  0           4        2  \n8121                  0           1        2  \n8122                  7           4        2  \n8123                  4           1        2  \n\n[8124 rows x 23 columns]",
      "text/html": "<div>\n<style scoped>\n    .dataframe tbody tr th:only-of-type {\n        vertical-align: middle;\n    }\n\n    .dataframe tbody tr th {\n        vertical-align: top;\n    }\n\n    .dataframe thead th {\n        text-align: right;\n    }\n</style>\n<table border=\"1\" class=\"dataframe\">\n  <thead>\n    <tr style=\"text-align: right;\">\n      <th></th>\n      <th>class</th>\n      <th>cap-shape</th>\n      <th>cap-surface</th>\n      <th>cap-color</th>\n      <th>bruises</th>\n      <th>odor</th>\n      <th>gill-attachment</th>\n      <th>gill-spacing</th>\n      <th>gill-size</th>\n      <th>gill-color</th>\n      <th>...</th>\n      <th>stalk-surface-below-ring</th>\n      <th>stalk-color-above-ring</th>\n      <th>stalk-color-below-ring</th>\n      <th>veil-type</th>\n      <th>veil-color</th>\n      <th>ring-number</th>\n      <th>ring-type</th>\n      <th>spore-print-color</th>\n      <th>population</th>\n      <th>habitat</th>\n    </tr>\n  </thead>\n  <tbody>\n    <tr>\n      <th>0</th>\n      <td>1</td>\n      <td>5</td>\n      <td>2</td>\n      <td>4</td>\n      <td>1</td>\n      <td>6</td>\n      <td>1</td>\n      <td>0</td>\n      <td>1</td>\n      <td>4</td>\n      <td>...</td>\n      <td>2</td>\n      <td>7</td>\n      <td>7</td>\n      <td>0</td>\n      <td>2</td>\n      <td>1</td>\n      <td>4</td>\n      <td>2</td>\n      <td>3</td>\n      <td>5</td>\n    </tr>\n    <tr>\n      <th>1</th>\n      <td>0</td>\n      <td>5</td>\n      <td>2</td>\n      <td>9</td>\n      <td>1</td>\n      <td>0</td>\n      <td>1</td>\n      <td>0</td>\n      <td>0</td>\n      <td>4</td>\n      <td>...</td>\n      <td>2</td>\n      <td>7</td>\n      <td>7</td>\n      <td>0</td>\n      <td>2</td>\n      <td>1</td>\n      <td>4</td>\n      <td>3</td>\n      <td>2</td>\n      <td>1</td>\n    </tr>\n    <tr>\n      <th>2</th>\n      <td>0</td>\n      <td>0</td>\n      <td>2</td>\n      <td>8</td>\n      <td>1</td>\n      <td>3</td>\n      <td>1</td>\n      <td>0</td>\n      <td>0</td>\n      <td>5</td>\n      <td>...</td>\n      <td>2</td>\n      <td>7</td>\n      <td>7</td>\n      <td>0</td>\n      <td>2</td>\n      <td>1</td>\n      <td>4</td>\n      <td>3</td>\n      <td>2</td>\n      <td>3</td>\n    </tr>\n    <tr>\n      <th>3</th>\n      <td>1</td>\n      <td>5</td>\n      <td>3</td>\n      <td>8</td>\n      <td>1</td>\n      <td>6</td>\n      <td>1</td>\n      <td>0</td>\n      <td>1</td>\n      <td>5</td>\n      <td>...</td>\n      <td>2</td>\n      <td>7</td>\n      <td>7</td>\n      <td>0</td>\n      <td>2</td>\n      <td>1</td>\n      <td>4</td>\n      <td>2</td>\n      <td>3</td>\n      <td>5</td>\n    </tr>\n    <tr>\n      <th>4</th>\n      <td>0</td>\n      <td>5</td>\n      <td>2</td>\n      <td>3</td>\n      <td>0</td>\n      <td>5</td>\n      <td>1</td>\n      <td>1</td>\n      <td>0</td>\n      <td>4</td>\n      <td>...</td>\n      <td>2</td>\n      <td>7</td>\n      <td>7</td>\n      <td>0</td>\n      <td>2</td>\n      <td>1</td>\n      <td>0</td>\n      <td>3</td>\n      <td>0</td>\n      <td>1</td>\n    </tr>\n    <tr>\n      <th>...</th>\n      <td>...</td>\n      <td>...</td>\n      <td>...</td>\n      <td>...</td>\n      <td>...</td>\n      <td>...</td>\n      <td>...</td>\n      <td>...</td>\n      <td>...</td>\n      <td>...</td>\n      <td>...</td>\n      <td>...</td>\n      <td>...</td>\n      <td>...</td>\n      <td>...</td>\n      <td>...</td>\n      <td>...</td>\n      <td>...</td>\n      <td>...</td>\n      <td>...</td>\n      <td>...</td>\n    </tr>\n    <tr>\n      <th>8119</th>\n      <td>0</td>\n      <td>3</td>\n      <td>2</td>\n      <td>4</td>\n      <td>0</td>\n      <td>5</td>\n      <td>0</td>\n      <td>0</td>\n      <td>0</td>\n      <td>11</td>\n      <td>...</td>\n      <td>2</td>\n      <td>5</td>\n      <td>5</td>\n      <td>0</td>\n      <td>1</td>\n      <td>1</td>\n      <td>4</td>\n      <td>0</td>\n      <td>1</td>\n      <td>2</td>\n    </tr>\n    <tr>\n      <th>8120</th>\n      <td>0</td>\n      <td>5</td>\n      <td>2</td>\n      <td>4</td>\n      <td>0</td>\n      <td>5</td>\n      <td>0</td>\n      <td>0</td>\n      <td>0</td>\n      <td>11</td>\n      <td>...</td>\n      <td>2</td>\n      <td>5</td>\n      <td>5</td>\n      <td>0</td>\n      <td>0</td>\n      <td>1</td>\n      <td>4</td>\n      <td>0</td>\n      <td>4</td>\n      <td>2</td>\n    </tr>\n    <tr>\n      <th>8121</th>\n      <td>0</td>\n      <td>2</td>\n      <td>2</td>\n      <td>4</td>\n      <td>0</td>\n      <td>5</td>\n      <td>0</td>\n      <td>0</td>\n      <td>0</td>\n      <td>5</td>\n      <td>...</td>\n      <td>2</td>\n      <td>5</td>\n      <td>5</td>\n      <td>0</td>\n      <td>1</td>\n      <td>1</td>\n      <td>4</td>\n      <td>0</td>\n      <td>1</td>\n      <td>2</td>\n    </tr>\n    <tr>\n      <th>8122</th>\n      <td>1</td>\n      <td>3</td>\n      <td>3</td>\n      <td>4</td>\n      <td>0</td>\n      <td>8</td>\n      <td>1</td>\n      <td>0</td>\n      <td>1</td>\n      <td>0</td>\n      <td>...</td>\n      <td>1</td>\n      <td>7</td>\n      <td>7</td>\n      <td>0</td>\n      <td>2</td>\n      <td>1</td>\n      <td>0</td>\n      <td>7</td>\n      <td>4</td>\n      <td>2</td>\n    </tr>\n    <tr>\n      <th>8123</th>\n      <td>0</td>\n      <td>5</td>\n      <td>2</td>\n      <td>4</td>\n      <td>0</td>\n      <td>5</td>\n      <td>0</td>\n      <td>0</td>\n      <td>0</td>\n      <td>11</td>\n      <td>...</td>\n      <td>2</td>\n      <td>5</td>\n      <td>5</td>\n      <td>0</td>\n      <td>1</td>\n      <td>1</td>\n      <td>4</td>\n      <td>4</td>\n      <td>1</td>\n      <td>2</td>\n    </tr>\n  </tbody>\n</table>\n<p>8124 rows × 23 columns</p>\n</div>"
     },
     "execution_count": 7,
     "metadata": {},
     "output_type": "execute_result"
    }
   ],
   "source": [
    "file_name = 'mushrooms_categorized.csv'\n",
    "data = pd.read_csv(file_name)\n",
    "data"
   ]
  },
  {
   "cell_type": "code",
   "execution_count": 8,
   "outputs": [
    {
     "data": {
      "text/plain": "       cap-shape  cap-surface  cap-color   bruises      odor  gill-attachment  \\\nclass                                                                           \n0       3.266160     1.615970   4.581749  0.653992  4.334601         0.954373   \n1       3.436159     2.055158   4.421859  0.159346  3.940756         0.995403   \n\n       gill-spacing  gill-size  gill-color  stalk-shape  ...  \\\nclass                                                    ...   \n0          0.285171   0.068441    6.622624     0.615970  ...   \n1          0.028601   0.567926    2.863636     0.514811  ...   \n\n       stalk-surface-below-ring  stalk-color-above-ring  \\\nclass                                                     \n0                      1.798479                6.098859   \n1                      1.394280                5.512768   \n\n       stalk-color-below-ring  veil-type  veil-color  ring-number  ring-type  \\\nclass                                                                          \n0                    6.064639        0.0    1.931559     1.125475   3.007605   \n1                    5.504597        0.0    2.002043     1.009193   1.522983   \n\n       spore-print-color  population   habitat  \nclass                                           \n0               3.201521    3.283270  1.148289  \n1               4.021450    4.031665  1.895812  \n\n[2 rows x 22 columns]",
      "text/html": "<div>\n<style scoped>\n    .dataframe tbody tr th:only-of-type {\n        vertical-align: middle;\n    }\n\n    .dataframe tbody tr th {\n        vertical-align: top;\n    }\n\n    .dataframe thead th {\n        text-align: right;\n    }\n</style>\n<table border=\"1\" class=\"dataframe\">\n  <thead>\n    <tr style=\"text-align: right;\">\n      <th></th>\n      <th>cap-shape</th>\n      <th>cap-surface</th>\n      <th>cap-color</th>\n      <th>bruises</th>\n      <th>odor</th>\n      <th>gill-attachment</th>\n      <th>gill-spacing</th>\n      <th>gill-size</th>\n      <th>gill-color</th>\n      <th>stalk-shape</th>\n      <th>...</th>\n      <th>stalk-surface-below-ring</th>\n      <th>stalk-color-above-ring</th>\n      <th>stalk-color-below-ring</th>\n      <th>veil-type</th>\n      <th>veil-color</th>\n      <th>ring-number</th>\n      <th>ring-type</th>\n      <th>spore-print-color</th>\n      <th>population</th>\n      <th>habitat</th>\n    </tr>\n    <tr>\n      <th>class</th>\n      <th></th>\n      <th></th>\n      <th></th>\n      <th></th>\n      <th></th>\n      <th></th>\n      <th></th>\n      <th></th>\n      <th></th>\n      <th></th>\n      <th></th>\n      <th></th>\n      <th></th>\n      <th></th>\n      <th></th>\n      <th></th>\n      <th></th>\n      <th></th>\n      <th></th>\n      <th></th>\n      <th></th>\n    </tr>\n  </thead>\n  <tbody>\n    <tr>\n      <th>0</th>\n      <td>3.266160</td>\n      <td>1.615970</td>\n      <td>4.581749</td>\n      <td>0.653992</td>\n      <td>4.334601</td>\n      <td>0.954373</td>\n      <td>0.285171</td>\n      <td>0.068441</td>\n      <td>6.622624</td>\n      <td>0.615970</td>\n      <td>...</td>\n      <td>1.798479</td>\n      <td>6.098859</td>\n      <td>6.064639</td>\n      <td>0.0</td>\n      <td>1.931559</td>\n      <td>1.125475</td>\n      <td>3.007605</td>\n      <td>3.201521</td>\n      <td>3.283270</td>\n      <td>1.148289</td>\n    </tr>\n    <tr>\n      <th>1</th>\n      <td>3.436159</td>\n      <td>2.055158</td>\n      <td>4.421859</td>\n      <td>0.159346</td>\n      <td>3.940756</td>\n      <td>0.995403</td>\n      <td>0.028601</td>\n      <td>0.567926</td>\n      <td>2.863636</td>\n      <td>0.514811</td>\n      <td>...</td>\n      <td>1.394280</td>\n      <td>5.512768</td>\n      <td>5.504597</td>\n      <td>0.0</td>\n      <td>2.002043</td>\n      <td>1.009193</td>\n      <td>1.522983</td>\n      <td>4.021450</td>\n      <td>4.031665</td>\n      <td>1.895812</td>\n    </tr>\n  </tbody>\n</table>\n<p>2 rows × 22 columns</p>\n</div>"
     },
     "execution_count": 8,
     "metadata": {},
     "output_type": "execute_result"
    }
   ],
   "source": [
    "grouped = data.groupby('class').mean()\n",
    "grouped"
   ],
   "metadata": {
    "collapsed": false,
    "pycharm": {
     "name": "#%%\n"
    }
   }
  },
  {
   "cell_type": "code",
   "execution_count": 9,
   "outputs": [
    {
     "name": "stdout",
     "output_type": "stream",
     "text": [
      "{'cap-shape': {'0': 3.2661596958, '1': 3.4361593463}, 'cap-surface': {'0': 1.6159695817, '1': 2.0551583248}, 'cap-color': {'0': 4.5817490494, '1': 4.4218590398}, 'bruises': {'0': 0.6539923954, '1': 0.1593462717}, 'odor': {'0': 4.3346007605, '1': 3.9407558733}, 'gill-attachment': {'0': 0.9543726236, '1': 0.9954034729}, 'gill-spacing': {'0': 0.2851711027, '1': 0.0286006129}, 'gill-size': {'0': 0.0684410646, '1': 0.5679264556}, 'gill-color': {'0': 6.6226235741, '1': 2.8636363636}, 'stalk-shape': {'0': 0.6159695817, '1': 0.5148110317}, 'stalk-root': {'0': 1.4980988593, '1': 0.6925434116}, 'stalk-surface-above-ring': {'0': 1.7756653992, '1': 1.3595505618}, 'stalk-surface-below-ring': {'0': 1.7984790875, '1': 1.3942798774}, 'stalk-color-above-ring': {'0': 6.0988593156, '1': 5.5127681307}, 'stalk-color-below-ring': {'0': 6.0646387833, '1': 5.5045965271}, 'veil-type': {'0': 0.0, '1': 0.0}, 'veil-color': {'0': 1.9315589354, '1': 2.0020429009}, 'ring-number': {'0': 1.1254752852, '1': 1.0091930541}, 'ring-type': {'0': 3.0076045627, '1': 1.5229826353}, 'spore-print-color': {'0': 3.2015209125, '1': 4.0214504597}, 'population': {'0': 3.283269962, '1': 4.0316649642}, 'habitat': {'0': 1.1482889734, '1': 1.8958120531}}\n"
     ]
    }
   ],
   "source": [
    "grouped.to_json('mushrooms_categorized.json')\n",
    "data = json.load(open('mushrooms_categorized.json'))\n",
    "print(data)"
   ],
   "metadata": {
    "collapsed": false,
    "pycharm": {
     "name": "#%%\n"
    }
   }
  },
  {
   "cell_type": "markdown",
   "metadata": {
    "pycharm": {
     "name": "#%% md\n"
    }
   },
   "source": [
    "4\\. **Reading the credit card numbers**\n",
    "\n",
    "Get the binary file named *credit_card.dat* from this address:\n",
    "\n",
    "- https://www.dropbox.com/s/8m0syw2tkul3dap/credit_card.dat\n",
    "\n",
    "and convert the data into the real credit card number, knowing that:\n",
    "- each line corresponds to a credit card number, which consists of 16 characters (which are numbers in the 0-9 range) divided in 4 blocks, with a whitespace between each block\n",
    "- each character is written using a 6 bit binary representation (including the whitespace)\n",
    "- the final 4 bits of each line are a padding used to determine the end of the line, and can be ignored\n",
    "\n",
    "*Hint*: convert the binary numbers to the decimal representation first, and then use the `chr()` function to convert the latter to a char"
   ]
  },
  {
   "cell_type": "code",
   "execution_count": 10,
   "metadata": {
    "pycharm": {
     "name": "#%%\n"
    }
   },
   "outputs": [
    {
     "name": "stdout",
     "output_type": "stream",
     "text": [
      "7648 5673 3775 2271\n",
      "\n",
      "3257 8247 3354 2266\n",
      "\n",
      "2722 0001 4011 6652\n",
      "\n",
      "0661 3063 3742 3150\n",
      "\n",
      "0432 1608 1462 4742\n",
      "\n",
      "5827 2027 8785 7303\n",
      "\n",
      "5774 8528 2087 1117\n",
      "\n",
      "8140 1210 6352 2845\n",
      "\n",
      "5764 1133 7301 7100\n",
      "\n",
      "6456 1737 4126 6726\n",
      "\n",
      "1228 8631 7382 0000\n",
      "\n",
      "7051 0160 5374 3166\n",
      "\n",
      "0618 3587 1630 6376\n",
      "\n",
      "1545 5454 7444 5636\n",
      "\n",
      "6735 3116 3202 6834\n",
      "\n",
      "7287 5011 1547 8413\n",
      "\n",
      "7033 2607 3328 4200\n",
      "\n",
      "2568 5244 1874 5024\n",
      "\n",
      "1684 2253 7570 7118\n",
      "\n",
      "0672 2576 0575 6631\n",
      "\n",
      "6332 8353 8787 1340\n",
      "\n",
      "1813 3361 1175 4211\n",
      "\n",
      "2477 6450 8840 2368\n",
      "\n",
      "5512 3505 2563 1326\n",
      "\n",
      "3083 7882 0621 0025\n",
      "\n",
      "4521 5148 8045 0334\n",
      "\n",
      "7563 3654 8713 5787\n",
      "\n",
      "8324 2664 0476 5561\n",
      "\n",
      "0565 2504 7168 3510\n",
      "\n",
      "5107 5507 1767 0738\n",
      "\n",
      "2462 1821 2448 1443\n",
      "\n",
      "2788 0638 6861 6554\n",
      "\n",
      "5851 5873 5474 0547\n",
      "\n",
      "0670 1004 4013 2655\n",
      "\n",
      "5874 5506 3048 0806\n",
      "\n",
      "2805 5401 8462 1260\n",
      "\n",
      "5083 8406 6310 1862\n",
      "\n",
      "1076 1445 3013 2266\n",
      "\n",
      "8440 4804 4844 5277\n",
      "\n",
      "4758 6141 0686 1387\n",
      "\n",
      "7586 0675 0315 2568\n",
      "\n",
      "2544 1258 7432 5165\n",
      "\n",
      "3474 5023 4434 5626\n",
      "\n",
      "1410 0270 0434 5086\n",
      "\n",
      "7315 4446 1104 4215\n",
      "\n",
      "0224 7742 8300 0266\n",
      "\n",
      "0170 2700 3145 0640\n",
      "\n",
      "2006 2437 8054 1600\n",
      "\n",
      "8142 4055 1776 0026\n",
      "\n",
      "3026 7380 1241 1084\n",
      "\n",
      "\n",
      "\n",
      "\n"
     ]
    }
   ],
   "source": [
    "data = open('credit_card.dat')\n",
    "binary_data = data.read().split('\\n')\n",
    "for i in binary_data:\n",
    "    data_str = \"\"\n",
    "    for index in range(0, len(i), 6):\n",
    "        binary = i[index: index + 6]\n",
    "        decimal = int(binary, 2)\n",
    "        char = chr(decimal)\n",
    "        data_str += char\n",
    "    print(data_str)\n"
   ]
  },
  {
   "cell_type": "markdown",
   "metadata": {
    "pycharm": {
     "name": "#%% md\n"
    }
   },
   "source": [
    "5\\. **Write data to a binary file**\n",
    "\n",
    "a) Start from the `data/data_000637.txt` file that we have used during the previous lectures, and convert it to a binary file according to the format defined below:"
   ]
  },
  {
   "cell_type": "code",
   "execution_count": 11,
   "metadata": {
    "pycharm": {
     "name": "#%%\n"
    }
   },
   "outputs": [
    {
     "ename": "FileNotFoundError",
     "evalue": "No such file or directory: 'images/data_format.png'",
     "output_type": "error",
     "traceback": [
      "\u001B[1;31m---------------------------------------------------------------------------\u001B[0m",
      "\u001B[1;31mTypeError\u001B[0m                                 Traceback (most recent call last)",
      "File \u001B[1;32m~\\anaconda3\\lib\\site-packages\\IPython\\core\\display.py:1032\u001B[0m, in \u001B[0;36mImage._data_and_metadata\u001B[1;34m(self, always_both)\u001B[0m\n\u001B[0;32m   1031\u001B[0m \u001B[38;5;28;01mtry\u001B[39;00m:\n\u001B[1;32m-> 1032\u001B[0m     b64_data \u001B[38;5;241m=\u001B[39m \u001B[43mb2a_base64\u001B[49m\u001B[43m(\u001B[49m\u001B[38;5;28;43mself\u001B[39;49m\u001B[38;5;241;43m.\u001B[39;49m\u001B[43mdata\u001B[49m\u001B[43m)\u001B[49m\u001B[38;5;241m.\u001B[39mdecode(\u001B[38;5;124m'\u001B[39m\u001B[38;5;124mascii\u001B[39m\u001B[38;5;124m'\u001B[39m)\n\u001B[0;32m   1033\u001B[0m \u001B[38;5;28;01mexcept\u001B[39;00m \u001B[38;5;167;01mTypeError\u001B[39;00m \u001B[38;5;28;01mas\u001B[39;00m e:\n",
      "\u001B[1;31mTypeError\u001B[0m: a bytes-like object is required, not 'str'",
      "\nThe above exception was the direct cause of the following exception:\n",
      "\u001B[1;31mFileNotFoundError\u001B[0m                         Traceback (most recent call last)",
      "File \u001B[1;32m~\\anaconda3\\lib\\site-packages\\IPython\\core\\formatters.py:973\u001B[0m, in \u001B[0;36mMimeBundleFormatter.__call__\u001B[1;34m(self, obj, include, exclude)\u001B[0m\n\u001B[0;32m    970\u001B[0m     method \u001B[38;5;241m=\u001B[39m get_real_method(obj, \u001B[38;5;28mself\u001B[39m\u001B[38;5;241m.\u001B[39mprint_method)\n\u001B[0;32m    972\u001B[0m     \u001B[38;5;28;01mif\u001B[39;00m method \u001B[38;5;129;01mis\u001B[39;00m \u001B[38;5;129;01mnot\u001B[39;00m \u001B[38;5;28;01mNone\u001B[39;00m:\n\u001B[1;32m--> 973\u001B[0m         \u001B[38;5;28;01mreturn\u001B[39;00m \u001B[43mmethod\u001B[49m\u001B[43m(\u001B[49m\u001B[43minclude\u001B[49m\u001B[38;5;241;43m=\u001B[39;49m\u001B[43minclude\u001B[49m\u001B[43m,\u001B[49m\u001B[43m \u001B[49m\u001B[43mexclude\u001B[49m\u001B[38;5;241;43m=\u001B[39;49m\u001B[43mexclude\u001B[49m\u001B[43m)\u001B[49m\n\u001B[0;32m    974\u001B[0m     \u001B[38;5;28;01mreturn\u001B[39;00m \u001B[38;5;28;01mNone\u001B[39;00m\n\u001B[0;32m    975\u001B[0m \u001B[38;5;28;01melse\u001B[39;00m:\n",
      "File \u001B[1;32m~\\anaconda3\\lib\\site-packages\\IPython\\core\\display.py:1022\u001B[0m, in \u001B[0;36mImage._repr_mimebundle_\u001B[1;34m(self, include, exclude)\u001B[0m\n\u001B[0;32m   1020\u001B[0m \u001B[38;5;28;01mif\u001B[39;00m \u001B[38;5;28mself\u001B[39m\u001B[38;5;241m.\u001B[39membed:\n\u001B[0;32m   1021\u001B[0m     mimetype \u001B[38;5;241m=\u001B[39m \u001B[38;5;28mself\u001B[39m\u001B[38;5;241m.\u001B[39m_mimetype\n\u001B[1;32m-> 1022\u001B[0m     data, metadata \u001B[38;5;241m=\u001B[39m \u001B[38;5;28;43mself\u001B[39;49m\u001B[38;5;241;43m.\u001B[39;49m\u001B[43m_data_and_metadata\u001B[49m\u001B[43m(\u001B[49m\u001B[43malways_both\u001B[49m\u001B[38;5;241;43m=\u001B[39;49m\u001B[38;5;28;43;01mTrue\u001B[39;49;00m\u001B[43m)\u001B[49m\n\u001B[0;32m   1023\u001B[0m     \u001B[38;5;28;01mif\u001B[39;00m metadata:\n\u001B[0;32m   1024\u001B[0m         metadata \u001B[38;5;241m=\u001B[39m {mimetype: metadata}\n",
      "File \u001B[1;32m~\\anaconda3\\lib\\site-packages\\IPython\\core\\display.py:1034\u001B[0m, in \u001B[0;36mImage._data_and_metadata\u001B[1;34m(self, always_both)\u001B[0m\n\u001B[0;32m   1032\u001B[0m     b64_data \u001B[38;5;241m=\u001B[39m b2a_base64(\u001B[38;5;28mself\u001B[39m\u001B[38;5;241m.\u001B[39mdata)\u001B[38;5;241m.\u001B[39mdecode(\u001B[38;5;124m'\u001B[39m\u001B[38;5;124mascii\u001B[39m\u001B[38;5;124m'\u001B[39m)\n\u001B[0;32m   1033\u001B[0m \u001B[38;5;28;01mexcept\u001B[39;00m \u001B[38;5;167;01mTypeError\u001B[39;00m \u001B[38;5;28;01mas\u001B[39;00m e:\n\u001B[1;32m-> 1034\u001B[0m     \u001B[38;5;28;01mraise\u001B[39;00m \u001B[38;5;167;01mFileNotFoundError\u001B[39;00m(\n\u001B[0;32m   1035\u001B[0m         \u001B[38;5;124m\"\u001B[39m\u001B[38;5;124mNo such file or directory: \u001B[39m\u001B[38;5;124m'\u001B[39m\u001B[38;5;132;01m%s\u001B[39;00m\u001B[38;5;124m'\u001B[39m\u001B[38;5;124m\"\u001B[39m \u001B[38;5;241m%\u001B[39m (\u001B[38;5;28mself\u001B[39m\u001B[38;5;241m.\u001B[39mdata)) \u001B[38;5;28;01mfrom\u001B[39;00m \u001B[38;5;21;01me\u001B[39;00m\n\u001B[0;32m   1036\u001B[0m md \u001B[38;5;241m=\u001B[39m {}\n\u001B[0;32m   1037\u001B[0m \u001B[38;5;28;01mif\u001B[39;00m \u001B[38;5;28mself\u001B[39m\u001B[38;5;241m.\u001B[39mmetadata:\n",
      "\u001B[1;31mFileNotFoundError\u001B[0m: No such file or directory: 'images/data_format.png'"
     ]
    },
    {
     "ename": "FileNotFoundError",
     "evalue": "No such file or directory: 'images/data_format.png'",
     "output_type": "error",
     "traceback": [
      "\u001B[1;31m---------------------------------------------------------------------------\u001B[0m",
      "\u001B[1;31mTypeError\u001B[0m                                 Traceback (most recent call last)",
      "File \u001B[1;32m~\\anaconda3\\lib\\site-packages\\IPython\\core\\display.py:1032\u001B[0m, in \u001B[0;36mImage._data_and_metadata\u001B[1;34m(self, always_both)\u001B[0m\n\u001B[0;32m   1031\u001B[0m \u001B[38;5;28;01mtry\u001B[39;00m:\n\u001B[1;32m-> 1032\u001B[0m     b64_data \u001B[38;5;241m=\u001B[39m \u001B[43mb2a_base64\u001B[49m\u001B[43m(\u001B[49m\u001B[38;5;28;43mself\u001B[39;49m\u001B[38;5;241;43m.\u001B[39;49m\u001B[43mdata\u001B[49m\u001B[43m)\u001B[49m\u001B[38;5;241m.\u001B[39mdecode(\u001B[38;5;124m'\u001B[39m\u001B[38;5;124mascii\u001B[39m\u001B[38;5;124m'\u001B[39m)\n\u001B[0;32m   1033\u001B[0m \u001B[38;5;28;01mexcept\u001B[39;00m \u001B[38;5;167;01mTypeError\u001B[39;00m \u001B[38;5;28;01mas\u001B[39;00m e:\n",
      "\u001B[1;31mTypeError\u001B[0m: a bytes-like object is required, not 'str'",
      "\nThe above exception was the direct cause of the following exception:\n",
      "\u001B[1;31mFileNotFoundError\u001B[0m                         Traceback (most recent call last)",
      "File \u001B[1;32m~\\anaconda3\\lib\\site-packages\\IPython\\core\\formatters.py:343\u001B[0m, in \u001B[0;36mBaseFormatter.__call__\u001B[1;34m(self, obj)\u001B[0m\n\u001B[0;32m    341\u001B[0m     method \u001B[38;5;241m=\u001B[39m get_real_method(obj, \u001B[38;5;28mself\u001B[39m\u001B[38;5;241m.\u001B[39mprint_method)\n\u001B[0;32m    342\u001B[0m     \u001B[38;5;28;01mif\u001B[39;00m method \u001B[38;5;129;01mis\u001B[39;00m \u001B[38;5;129;01mnot\u001B[39;00m \u001B[38;5;28;01mNone\u001B[39;00m:\n\u001B[1;32m--> 343\u001B[0m         \u001B[38;5;28;01mreturn\u001B[39;00m \u001B[43mmethod\u001B[49m\u001B[43m(\u001B[49m\u001B[43m)\u001B[49m\n\u001B[0;32m    344\u001B[0m     \u001B[38;5;28;01mreturn\u001B[39;00m \u001B[38;5;28;01mNone\u001B[39;00m\n\u001B[0;32m    345\u001B[0m \u001B[38;5;28;01melse\u001B[39;00m:\n",
      "File \u001B[1;32m~\\anaconda3\\lib\\site-packages\\IPython\\core\\display.py:1054\u001B[0m, in \u001B[0;36mImage._repr_png_\u001B[1;34m(self)\u001B[0m\n\u001B[0;32m   1052\u001B[0m \u001B[38;5;28;01mdef\u001B[39;00m \u001B[38;5;21m_repr_png_\u001B[39m(\u001B[38;5;28mself\u001B[39m):\n\u001B[0;32m   1053\u001B[0m     \u001B[38;5;28;01mif\u001B[39;00m \u001B[38;5;28mself\u001B[39m\u001B[38;5;241m.\u001B[39membed \u001B[38;5;129;01mand\u001B[39;00m \u001B[38;5;28mself\u001B[39m\u001B[38;5;241m.\u001B[39mformat \u001B[38;5;241m==\u001B[39m \u001B[38;5;28mself\u001B[39m\u001B[38;5;241m.\u001B[39m_FMT_PNG:\n\u001B[1;32m-> 1054\u001B[0m         \u001B[38;5;28;01mreturn\u001B[39;00m \u001B[38;5;28;43mself\u001B[39;49m\u001B[38;5;241;43m.\u001B[39;49m\u001B[43m_data_and_metadata\u001B[49m\u001B[43m(\u001B[49m\u001B[43m)\u001B[49m\n",
      "File \u001B[1;32m~\\anaconda3\\lib\\site-packages\\IPython\\core\\display.py:1034\u001B[0m, in \u001B[0;36mImage._data_and_metadata\u001B[1;34m(self, always_both)\u001B[0m\n\u001B[0;32m   1032\u001B[0m     b64_data \u001B[38;5;241m=\u001B[39m b2a_base64(\u001B[38;5;28mself\u001B[39m\u001B[38;5;241m.\u001B[39mdata)\u001B[38;5;241m.\u001B[39mdecode(\u001B[38;5;124m'\u001B[39m\u001B[38;5;124mascii\u001B[39m\u001B[38;5;124m'\u001B[39m)\n\u001B[0;32m   1033\u001B[0m \u001B[38;5;28;01mexcept\u001B[39;00m \u001B[38;5;167;01mTypeError\u001B[39;00m \u001B[38;5;28;01mas\u001B[39;00m e:\n\u001B[1;32m-> 1034\u001B[0m     \u001B[38;5;28;01mraise\u001B[39;00m \u001B[38;5;167;01mFileNotFoundError\u001B[39;00m(\n\u001B[0;32m   1035\u001B[0m         \u001B[38;5;124m\"\u001B[39m\u001B[38;5;124mNo such file or directory: \u001B[39m\u001B[38;5;124m'\u001B[39m\u001B[38;5;132;01m%s\u001B[39;00m\u001B[38;5;124m'\u001B[39m\u001B[38;5;124m\"\u001B[39m \u001B[38;5;241m%\u001B[39m (\u001B[38;5;28mself\u001B[39m\u001B[38;5;241m.\u001B[39mdata)) \u001B[38;5;28;01mfrom\u001B[39;00m \u001B[38;5;21;01me\u001B[39;00m\n\u001B[0;32m   1036\u001B[0m md \u001B[38;5;241m=\u001B[39m {}\n\u001B[0;32m   1037\u001B[0m \u001B[38;5;28;01mif\u001B[39;00m \u001B[38;5;28mself\u001B[39m\u001B[38;5;241m.\u001B[39mmetadata:\n",
      "\u001B[1;31mFileNotFoundError\u001B[0m: No such file or directory: 'images/data_format.png'"
     ]
    },
    {
     "data": {
      "text/plain": "<IPython.core.display.Image object>"
     },
     "execution_count": 11,
     "metadata": {},
     "output_type": "execute_result"
    }
   ],
   "source": [
    "# from IPython.display import Image\n",
    "# Image(\"images/data_format.png\")"
   ]
  },
  {
   "cell_type": "markdown",
   "metadata": {
    "pycharm": {
     "name": "#%% md\n"
    }
   },
   "source": [
    "*Hints*:\n",
    "- Read the first 10 lines using Pandas\n",
    "- Iterate over the DataFrame rows\n",
    "- For every row, ``pack'' the values (features) into a single 64-bit word, according to the format specified above. Use bit-wise shifts and operators to do so.\n",
    "- Write each 64-bit word to a binary file. You can use `struct` in this way:\n",
    "```\n",
    "binary_file.write( struct.pack('<q', word) )\n",
    "```\n",
    "where `word` is the 64-bit word.\n",
    "- Close the file after completing the loop.\n",
    "\n",
    "b) Check that the binary file is correctly written by reading it with the code used in the lecture `06_OSEMN.ipynb`, and verify that the content of the `txt` and binary files is consistent.\n",
    "\n",
    "c) What is the difference of the size on disk between equivalent `txt` and binary files?"
   ]
  },
  {
   "cell_type": "code",
   "execution_count": 12,
   "metadata": {
    "pycharm": {
     "name": "#%%\n"
    }
   },
   "outputs": [
    {
     "data": {
      "text/plain": "   HEAD  FPGA  TDC_CHANNEL   ORBIT_CNT  BX_COUNTER  TDC_MEAS\n0     1     0          123  3869200167        2374        26\n1     1     0          124  3869200167        2374        27\n2     1     0           63  3869200167        2553        28\n3     1     0           64  3869200167        2558        19\n4     1     0           64  3869200167        2760        25\n5     1     0           63  3869200167        2762         4\n6     1     0           61  3869200167        2772        14\n7     1     0          139  3869200167        2776         0\n8     1     0           62  3869200167        2774        21\n9     1     0           60  3869200167        2788         7",
      "text/html": "<div>\n<style scoped>\n    .dataframe tbody tr th:only-of-type {\n        vertical-align: middle;\n    }\n\n    .dataframe tbody tr th {\n        vertical-align: top;\n    }\n\n    .dataframe thead th {\n        text-align: right;\n    }\n</style>\n<table border=\"1\" class=\"dataframe\">\n  <thead>\n    <tr style=\"text-align: right;\">\n      <th></th>\n      <th>HEAD</th>\n      <th>FPGA</th>\n      <th>TDC_CHANNEL</th>\n      <th>ORBIT_CNT</th>\n      <th>BX_COUNTER</th>\n      <th>TDC_MEAS</th>\n    </tr>\n  </thead>\n  <tbody>\n    <tr>\n      <th>0</th>\n      <td>1</td>\n      <td>0</td>\n      <td>123</td>\n      <td>3869200167</td>\n      <td>2374</td>\n      <td>26</td>\n    </tr>\n    <tr>\n      <th>1</th>\n      <td>1</td>\n      <td>0</td>\n      <td>124</td>\n      <td>3869200167</td>\n      <td>2374</td>\n      <td>27</td>\n    </tr>\n    <tr>\n      <th>2</th>\n      <td>1</td>\n      <td>0</td>\n      <td>63</td>\n      <td>3869200167</td>\n      <td>2553</td>\n      <td>28</td>\n    </tr>\n    <tr>\n      <th>3</th>\n      <td>1</td>\n      <td>0</td>\n      <td>64</td>\n      <td>3869200167</td>\n      <td>2558</td>\n      <td>19</td>\n    </tr>\n    <tr>\n      <th>4</th>\n      <td>1</td>\n      <td>0</td>\n      <td>64</td>\n      <td>3869200167</td>\n      <td>2760</td>\n      <td>25</td>\n    </tr>\n    <tr>\n      <th>5</th>\n      <td>1</td>\n      <td>0</td>\n      <td>63</td>\n      <td>3869200167</td>\n      <td>2762</td>\n      <td>4</td>\n    </tr>\n    <tr>\n      <th>6</th>\n      <td>1</td>\n      <td>0</td>\n      <td>61</td>\n      <td>3869200167</td>\n      <td>2772</td>\n      <td>14</td>\n    </tr>\n    <tr>\n      <th>7</th>\n      <td>1</td>\n      <td>0</td>\n      <td>139</td>\n      <td>3869200167</td>\n      <td>2776</td>\n      <td>0</td>\n    </tr>\n    <tr>\n      <th>8</th>\n      <td>1</td>\n      <td>0</td>\n      <td>62</td>\n      <td>3869200167</td>\n      <td>2774</td>\n      <td>21</td>\n    </tr>\n    <tr>\n      <th>9</th>\n      <td>1</td>\n      <td>0</td>\n      <td>60</td>\n      <td>3869200167</td>\n      <td>2788</td>\n      <td>7</td>\n    </tr>\n  </tbody>\n</table>\n</div>"
     },
     "execution_count": 12,
     "metadata": {},
     "output_type": "execute_result"
    }
   ],
   "source": [
    "data637 = pd.read_csv('data_000637.txt', nrows = 10)\n",
    "data637"
   ]
  },
  {
   "cell_type": "code",
   "execution_count": 13,
   "outputs": [],
   "source": [
    "import struct\n",
    "out_file_name = \"binary_file.dat\"\n",
    "\n",
    "with open(out_file_name, 'wb') as binary_file:\n",
    "  for line in data637.values :\n",
    "    word = (line[5] << 0 )\n",
    "    word += (line[4] << 5 )\n",
    "    word += (line[3] << 17)\n",
    "    word += (line[2] << 49)\n",
    "    word += (line[1] << 58)\n",
    "    word += (line[0] << 62)\n",
    "    binary_file.write(struct.pack('<q', word))"
   ],
   "metadata": {
    "collapsed": false,
    "pycharm": {
     "name": "#%%\n"
    }
   }
  },
  {
   "cell_type": "code",
   "execution_count": null,
   "outputs": [],
   "source": [
    "data1 = {}\n",
    "columns = ['HEAD', 'FPGA', 'CHANNEL', 'ORBIT_CNT', 'BX_CNT', 'TDC_MEAS']\n",
    "df = pd.DataFrame({}, columns=columns)\n",
    "\n",
    "with open('binary_file.dat', 'rb') as file:\n",
    "    file_content = file.read()\n",
    "    counter = 0\n",
    "    word_size = 8\n",
    "    for i in range(0, len(file_content), word_size):\n",
    "        counter += 1\n",
    "        if counter > 10: break\n",
    "        word = struct.unpack('<q', file_content[i : i + word_size])[0]\n",
    "        head     = (word >> 62) & 0x3\n",
    "        fpga     = (word >> 58) & 0xF\n",
    "        tdc_chan = (word >> 49) & 0x1FF\n",
    "        orb_cnt  = (word >> 17) & 0xFFFFFFFF\n",
    "        bx       = (word >> 5 ) & 0xFFF\n",
    "        tdc_meas = (word >> 0 ) & 0x1F\n",
    "        entries = {'HEAD' : head, 'FPGA' : fpga, 'CHANNEL' : tdc_chan, 'ORBIT_CNT' : orb_cnt, 'BX_CNT' : bx, 'TDC_MEAS' : tdc_meas}\n",
    "        dataframe = df.append(entries, ignore_index=True)\n",
    "print(dataframe)"
   ],
   "metadata": {
    "collapsed": false,
    "pycharm": {
     "name": "#%%\n",
     "is_executing": true
    }
   }
  },
  {
   "cell_type": "code",
   "execution_count": 15,
   "outputs": [
    {
     "name": "stdout",
     "output_type": "stream",
     "text": [
      "data_000637.txt SIZE ARE 33179236 BYTES\n",
      "binary_file.dat SIZE ARE 80 BYTES\n",
      "DIFFERENCES ARE 33179156 BYTES\n"
     ]
    }
   ],
   "source": [
    "import os\n",
    "\n",
    "path = r'data_000637.txt'\n",
    "size = os.path.getsize(path)\n",
    "print(f'{path} SIZE ARE', size, 'BYTES')\n",
    "\n",
    "path1 = r'binary_file.dat'\n",
    "size = os.path.getsize(path1)\n",
    "print(f'{path1} SIZE ARE', size, 'BYTES')\n",
    "print(f'DIFFERENCES ARE', ((os.path.getsize(path))-(os.path.getsize(path1))), 'BYTES')"
   ],
   "metadata": {
    "collapsed": false,
    "pycharm": {
     "name": "#%%\n"
    }
   }
  },
  {
   "cell_type": "code",
   "execution_count": null,
   "outputs": [],
   "source": [],
   "metadata": {
    "collapsed": false,
    "pycharm": {
     "name": "#%%\n"
    }
   }
  }
 ],
 "metadata": {
  "kernelspec": {
   "display_name": "Python 3",
   "language": "python",
   "name": "python3"
  },
  "language_info": {
   "codemirror_mode": {
    "name": "ipython",
    "version": 3
   },
   "file_extension": ".py",
   "mimetype": "text/x-python",
   "name": "python",
   "nbconvert_exporter": "python",
   "pygments_lexer": "ipython3",
   "version": "3.8.5"
  }
 },
 "nbformat": 4,
 "nbformat_minor": 2
}