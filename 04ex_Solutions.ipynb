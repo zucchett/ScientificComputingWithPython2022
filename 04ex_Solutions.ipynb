{
 "cells": [
  {
   "cell_type": "markdown",
   "id": "b4c1b536",
   "metadata": {},
   "source": [
    "Q1"
   ]
  },
  {
   "cell_type": "code",
   "execution_count": 1,
   "id": "8f1e28ad",
   "metadata": {},
   "outputs": [
    {
     "name": "stdout",
     "output_type": "stream",
     "text": [
      "Mean: 5.5\n",
      "row 1 mean:  1.5\n",
      "row 2 mean:  5.5\n",
      "row 3 mean:  9.5\n",
      "column 1 mean:  4.0\n",
      "column 2 mean:  5.0\n",
      "column 3 mean:  6.0\n",
      "column 4 mean:  7.0\n"
     ]
    }
   ],
   "source": [
    "import numpy as np\n",
    "\n",
    "m = np.arange(12).reshape((3,4))\n",
    "print(\"Mean:\", m.mean())\n",
    "\n",
    "\n",
    "for i in range(3):\n",
    "  print(\"row %d mean: \"%(i+1), np.mean(m[i]))\n",
    "\n",
    "\n",
    "for i in range(4):\n",
    "  print(\"column %d mean: \"%(i+1), np.mean(m, axis = 0)[i])"
   ]
  },
  {
   "cell_type": "markdown",
   "id": "be647f69",
   "metadata": {},
   "source": [
    "Q2"
   ]
  },
  {
   "cell_type": "code",
   "execution_count": 2,
   "id": "5f2bb2b5",
   "metadata": {},
   "outputs": [
    {
     "name": "stdout",
     "output_type": "stream",
     "text": [
      "[[ 2  4  6  8]\n",
      " [ 6 12 18 24]\n",
      " [10 20 30 40]\n",
      " [14 28 42 56]]\n",
      "[[ 2.  4.  6.  8.]\n",
      " [ 6. 12. 18. 24.]\n",
      " [10. 20. 30. 40.]\n",
      " [14. 28. 42. 56.]]\n",
      "[[ 2  6 10 14]\n",
      " [ 4 12 20 28]\n",
      " [ 6 18 30 42]\n",
      " [ 8 24 40 56]]\n"
     ]
    }
   ],
   "source": [
    "import numpy as np\n",
    "\n",
    "\n",
    "u = np.array([1, 3, 5, 7]) \n",
    "v = np.array([2, 4, 6, 8])\n",
    "\n",
    "\n",
    "print(np.outer(u,v))\n",
    "out= np.zeros((u.shape[0],v.shape[0])) \n",
    "for i in range(u.shape[0]):\n",
    "    for j in range(v.shape[0]):\n",
    "        out[i][j]= u[i]*v[j]  \n",
    "\n",
    "print(out)\n",
    "\n",
    "out2=u*v.reshape(len(v),1)   \n",
    "\n",
    "print(out2)"
   ]
  },
  {
   "cell_type": "markdown",
   "id": "ea72ff6c",
   "metadata": {},
   "source": [
    "Q3"
   ]
  },
  {
   "cell_type": "code",
   "execution_count": 3,
   "id": "7ca261bd",
   "metadata": {},
   "outputs": [
    {
     "name": "stdout",
     "output_type": "stream",
     "text": [
      "[[1.82407528 1.70323524 1.61137418 2.24561931 1.63103424 0.83836652]\n",
      " [2.57903907 0.62015529 0.         0.39584814 1.67389292 1.613528  ]\n",
      " [0.         2.66787835 2.60396393 0.58209588 1.4224874  1.38208178]\n",
      " [1.91240117 0.78240042 2.49481187 2.44925647 0.77650193 0.48063757]\n",
      " [1.83560377 0.98840871 1.39750835 0.30978798 2.35540138 0.        ]\n",
      " [0.         0.         0.79275043 1.52834779 1.70364068 0.36071818]\n",
      " [2.17131517 2.91080226 0.34233196 0.99562946 0.36274198 2.33565137]\n",
      " [0.         1.4849496  1.30099077 0.54601219 2.16782144 0.53052075]\n",
      " [0.86546539 0.37024941 2.00451127 1.58268635 1.15959844 0.6002337 ]\n",
      " [2.85162102 2.58856472 2.57015206 1.83425501 2.1612116  0.34223186]]\n"
     ]
    }
   ],
   "source": [
    "m= 3*np.random.rand(10, 6)\n",
    "elon= m <0.3   ##creating the mask\n",
    "m[elon]=0  ##applying the condition\n",
    "print(m)\n"
   ]
  },
  {
   "cell_type": "markdown",
   "id": "c03f9581",
   "metadata": {},
   "source": [
    "Q4"
   ]
  },
  {
   "cell_type": "code",
   "execution_count": 4,
   "id": "6d882b49",
   "metadata": {},
   "outputs": [
    {
     "name": "stdout",
     "output_type": "stream",
     "text": [
      "Extracting :  \n",
      "\n",
      "[0.         0.63466518 1.26933037 1.90399555 2.53866073 3.17332591\n",
      " 3.8079911  4.44265628 5.07732146 5.71198664]\n",
      "Reversing :   \n",
      "\n",
      "[6.28318531 6.21971879 6.15625227 6.09278575 6.02931923 5.96585272\n",
      " 5.9023862  5.83891968 5.77545316 5.71198664 5.64852012 5.58505361\n",
      " 5.52158709 5.45812057 5.39465405 5.33118753 5.26772102 5.2042545\n",
      " 5.14078798 5.07732146 5.01385494 4.95038842 4.88692191 4.82345539\n",
      " 4.75998887 4.69652235 4.63305583 4.56958931 4.5061228  4.44265628\n",
      " 4.37918976 4.31572324 4.25225672 4.1887902  4.12532369 4.06185717\n",
      " 3.99839065 3.93492413 3.87145761 3.8079911  3.74452458 3.68105806\n",
      " 3.61759154 3.55412502 3.4906585  3.42719199 3.36372547 3.30025895\n",
      " 3.23679243 3.17332591 3.10985939 3.04639288 2.98292636 2.91945984\n",
      " 2.85599332 2.7925268  2.72906028 2.66559377 2.60212725 2.53866073\n",
      " 2.47519421 2.41172769 2.34826118 2.28479466 2.22132814 2.15786162\n",
      " 2.0943951  2.03092858 1.96746207 1.90399555 1.84052903 1.77706251\n",
      " 1.71359599 1.65012947 1.58666296 1.52319644 1.45972992 1.3962634\n",
      " 1.33279688 1.26933037 1.20586385 1.14239733 1.07893081 1.01546429\n",
      " 0.95199777 0.88853126 0.82506474 0.76159822 0.6981317  0.63466518\n",
      " 0.57119866 0.50773215 0.44426563 0.38079911 0.31733259 0.25386607\n",
      " 0.19039955 0.12693304 0.06346652 0.        ]\n",
      "Secondary ext :   \n",
      "\n",
      "[0.76159822 0.82506474 3.87145761 3.93492413]\n"
     ]
    }
   ],
   "source": [
    "import numpy as np\n",
    "import math\n",
    "\n",
    "\n",
    "arr=np.linspace(0,2*math.pi,100)\n",
    "elon=(np.absolute((np.sin(arr)-np.cos(arr)))<0.1)\n",
    "print(\"Extracting :  \\n\")\n",
    "\n",
    "print(arr[0:100:10]) \n",
    "\n",
    "print(\"Reversing :   \\n\")\n",
    "\n",
    "print(arr[::-1])\n",
    "\n",
    "\n",
    "\n",
    "v= arr[elon]\n",
    "\n",
    "print(\"Secondary ext :   \\n\")\n",
    "\n",
    "print(v)"
   ]
  },
  {
   "cell_type": "markdown",
   "id": "82e2e779",
   "metadata": {},
   "source": [
    "Q5"
   ]
  },
  {
   "cell_type": "code",
   "execution_count": 5,
   "id": "002ff22a",
   "metadata": {},
   "outputs": [
    {
     "name": "stdout",
     "output_type": "stream",
     "text": [
      "Trace 385\n",
      "Anti-diagonal:  [10 18 24 28 30 30 28 24 18 10]\n",
      "Diagonal:  [ 2  6 12 20 30 42 56 72 90]\n"
     ]
    }
   ],
   "source": [
    "import numpy as np\n",
    "\n",
    "\n",
    "m=np.arange(1,11)\n",
    "xx=m*m.reshape(len(m),1) \n",
    "\n",
    "print(\"Trace\", xx.trace()) \n",
    "flpp=np.flip(xx, axis=0) \n",
    "\n",
    "antiD=np.diag(flpp)   \n",
    "\n",
    "print(\"Anti-diagonal: \", antiD)\n",
    "newD=np.diag(xx,1) \n",
    "\n",
    "\n",
    "\n",
    "print(\"Diagonal: \",newD)"
   ]
  },
  {
   "cell_type": "markdown",
   "id": "7c78c1fe",
   "metadata": {},
   "source": [
    "Q6"
   ]
  },
  {
   "cell_type": "code",
   "execution_count": 6,
   "id": "bd7bd13e",
   "metadata": {},
   "outputs": [
    {
     "name": "stdout",
     "output_type": "stream",
     "text": [
      "[[   0.   316.8  484.8 1177.6 1393.6 1880.  2360.  2470.4 3060.8 3916.8]\n",
      " [ 316.8    0.   168.   860.8 1076.8 1563.2 2043.2 2153.6 2744.  3600. ]\n",
      " [ 484.8  168.     0.   692.8  908.8 1395.2 1875.2 1985.6 2576.  3432. ]\n",
      " [1177.6  860.8  692.8    0.   216.   702.4 1182.4 1292.8 1883.2 2739.2]\n",
      " [1393.6 1076.8  908.8  216.     0.   486.4  966.4 1076.8 1667.2 2523.2]\n",
      " [1880.  1563.2 1395.2  702.4  486.4    0.   480.   590.4 1180.8 2036.8]\n",
      " [2360.  2043.2 1875.2 1182.4  966.4  480.     0.   110.4  700.8 1556.8]\n",
      " [2470.4 2153.6 1985.6 1292.8 1076.8  590.4  110.4    0.   590.4 1446.4]\n",
      " [3060.8 2744.  2576.  1883.2 1667.2 1180.8  700.8  590.4    0.   856. ]\n",
      " [3916.8 3600.  3432.  2739.2 2523.2 2036.8 1556.8 1446.4  856.     0. ]]\n"
     ]
    }
   ],
   "source": [
    "position = np.array([0, 198, 303, 736, 871, 1175, 1475, 1544, 1913, 2448])\n",
    "d = np.abs(position - position[:, np.newaxis])\n",
    "\n",
    "\n",
    "x = 1.6\n",
    "d_km = x * d\n",
    "print(d_km)"
   ]
  },
  {
   "cell_type": "markdown",
   "id": "c1cbe278",
   "metadata": {},
   "source": [
    "Q7"
   ]
  },
  {
   "cell_type": "code",
   "execution_count": 9,
   "id": "d9475ef5",
   "metadata": {},
   "outputs": [
    {
     "name": "stdout",
     "output_type": "stream",
     "text": [
      "Prime numbers between 0-99:\n",
      " [ 0  1  2  3  5  7 11 13 17 19 23 29 31 37 41 43 47 53 59 61 67 71 73 79\n",
      " 83 89 97]\n",
      "When N = 100 execution time is 0.0005746999999978186\n",
      "When N = 200 execution time is 0.001697899999999919\n",
      "When N = 400 execution time is 0.007035800000000592\n"
     ]
    },
    {
     "data": {
      "text/plain": [
       "array([ 0,  1,  2,  3,  5,  7, 11, 13, 17, 19, 23, 29, 31, 37, 41, 43, 47,\n",
       "       53, 59, 61, 67, 71, 73, 79, 83, 89, 97])"
      ]
     },
     "execution_count": 9,
     "metadata": {},
     "output_type": "execute_result"
    }
   ],
   "source": [
    "import numpy as np\n",
    "import timeit\n",
    "\n",
    "\n",
    "\n",
    "\n",
    "def optimus(N):\n",
    "    num=[x for x in range(N+1)]\n",
    "    \n",
    "    elon=[] \n",
    "    \n",
    "    for i in range (N+1):\n",
    "        \n",
    "        prime=True\n",
    "        for x in range (i):\n",
    "            if(x>1 and i%x==0): \n",
    "                prime=False\n",
    "        elon.append(prime) \n",
    "        \n",
    "    num=np.array(num)\n",
    "    optimus=num[elon]\n",
    "    return optimus\n",
    "\n",
    "\n",
    "print(\"Prime numbers between 0-99:\\n\",optimus(99))\n",
    "N=100\n",
    "\n",
    "start=timeit.default_timer()\n",
    "optimus(N)\n",
    "\n",
    "end=timeit.default_timer()\n",
    "\n",
    "time=end-start\n",
    "print(\"When N =\", N, \"execution time is\", time)\n",
    "\n",
    "\n",
    "N=200\n",
    "start=timeit.default_timer()\n",
    "optimus(N)\n",
    "\n",
    "end=timeit.default_timer()\n",
    "\n",
    "time=end-start\n",
    "\n",
    "print(\"When N =\", N, \"execution time is\", time)\n",
    "N=400\n",
    "start=timeit.default_timer()\n",
    "optimus(N)\n",
    "end=timeit.default_timer()\n",
    "time=end-start\n",
    "print(\"When N =\", N, \"execution time is\", time)\n",
    "\n",
    "\n",
    "\n",
    "### ??????????##########\n",
    "def erat(N):\n",
    "    d=np.arange(0,N+1)\n",
    "    era_elon = np.full(N+1, True)\n",
    "    for i in range(2, int(N**.5 + 1)):        \n",
    "        if (era_elon[i] == True): \n",
    "            era_elon[i**2::i] = False   \n",
    "    d = d[era_elon]\n",
    "    return d\n",
    "\n",
    "\n",
    "erat(99)\n",
    "\n",
    "\n"
   ]
  },
  {
   "cell_type": "markdown",
   "id": "1ae3d244",
   "metadata": {},
   "source": [
    "Q8"
   ]
  },
  {
   "cell_type": "code",
   "execution_count": 10,
   "id": "f217e6c4",
   "metadata": {},
   "outputs": [
    {
     "name": "stdout",
     "output_type": "stream",
     "text": [
      "[[-1  1  1 ...  1  0  1]\n",
      " [ 1  0 -1 ...  1 -1  1]\n",
      " [ 1 -1  1 ...  0  0 -1]\n",
      " ...\n",
      " [ 0  0  1 ...  0 -1  1]\n",
      " [-1 -1 -1 ...  1  0 -1]\n",
      " [ 1  0 -1 ...  0 -1  1]]\n",
      "Every walkers distance:\n",
      " [ 23 -12  18 -12  -1 -16   4 -22  15  -6 -10  -7 -26  -9  15  -6  -6   5\n",
      "  -2 -10 -10  15   9   6   4   2  23  -1   6   8  -4   1  -2   1  -2 -18\n",
      "  18   4  16 -12 -11   8   3   1  -4   9   2 -15  -7   4 -13 -34   4  -6\n",
      "  11  16  -8  -3 -14  -5 -21  -8 -24   8  -4  12  -8   7 -16  -2  -5  -2\n",
      "  -5 -11   7  11  -2   7  25 -13  10 -36  13   8  12  -2   5  -6   0   6\n",
      "  -4   1 -18   9 -12   9   8   1   6   0   1 -10  -7 -17  -4 -18   7  -2\n",
      " -15  -1  -1   0 -11   0   7   5  -4  -7  15  -1  -5  -7   0  -2  -3  -6\n",
      " -12   5  -6 -11   0  -5 -10  22   0   1 -20   6  -4   5 -10   5 -20  12\n",
      "   2  -8  11   0  -1  -9  -5  14  20   6   8  -6 -13   3  -1 -18  -6  14\n",
      "   3   3  27  -4  -8  10  10   0  -7  -4 -34 -45  21 -12   3   4  -8  15\n",
      " -10  -4 -20  32 -12  12  -1 -11   6   0  -2  -3   4   1 -19  -1  15  -7\n",
      " -10  -4  -6  38  20 -18   5  20  -9 -20 -15   7  17  23 -19   3   5  12\n",
      "  -7   1 -17  14 -20  -1   8   0  11 -13   4  21  -3  -5  -3  17  17  18\n",
      " -14 -11 -13  -2  -4  -8   2  19   8  -7   3 -13  23  16 -14   2 -17  12\n",
      "  -9  -2  21 -17 -21  -5  -2  -2  -9   0  13 -10 -17  -2  -5   1  -5   9\n",
      "  -2  -7 -16  12 -16 -10  -5 -29   0   3   2 -29  -2   8   7  15  18  18\n",
      "  -7 -21 -24   4 -24  -4  -2 -21  13  -2  -3  16  -1  -8   1   0  -1  -4\n",
      " -17  11 -18 -23  -3   1  15  10  11  -3  -8  -8  -9  -9  -9   8   1  11\n",
      "  -5  -2  -5  10  -7  15  -7  15   3  21   0  18 -13   3   1   6  -3  11\n",
      " -26 -12   7  -4 -16 -19   7  -7 -13  11  -7 -18  -1   0   6  10   6  -4\n",
      "   4 -16   1   4 -13   9  17   7   4 -19 -13  16 -17  -3  31 -17   3   0\n",
      "   1   0  15  -4 -23   2   7  -2 -17  16  -6  -8  -1 -20  17  -4   2   3\n",
      "  -7  -3  -5  -2 -10   6  30  16   0 -12 -19   2  -2   0  14   4   8   4\n",
      "  -2 -14  11  -3   7   6   7 -12  -1  17  -5  17   2  -2  20  -3  23  -2\n",
      "  -1  -6  -1  10   8  10  -5 -28  -8   4   2  -5 -19   0  -3  16  -3   5\n",
      "  17   0  -2   4  23 -16  -8  16   7   2  17 -12   1   2  10   9 -31  17\n",
      "  12  11   6  -1   8  -5 -15 -16  -6 -22 -18   9 -11   8  -7 -20   4   5\n",
      "   0   2   8 -21  17   5  -2  10  17  -2   1   8 -14 -20  -9  -9  -7   7\n",
      "   2   9   6   2   6  -8 -14   4  13 -14 -17   1   0   0  19  -1  -3   1\n",
      "  -4   2 -13   4  14 -28   0   0   5   2  10  -1 -20  18 -11 -17   9 -10\n",
      "   6   9   7   9 -18  15   5   0   0 -25   2  -5   0   1  11  -5   0  -4\n",
      "   7  -1   2  -8   8   1   6  24  -1   1  -8  11   0   5  -5   1  -7 -10\n",
      "   0  14  -5  16   3 -13  -4 -15  -3 -27 -18   5  -7  -1  -1   0 -15  12\n",
      " -22   9 -14  11 -14   3  11 -11   8 -11  11  -7   7   6 -29  -3  16 -21\n",
      "  -1  -7  -5  15  19   5   0   1  22 -16  -8   5   3   3   4  -2  -9  10\n",
      " -31  -9 -16  18   0   4  -8   2 -29   4  -3   3  11 -15   3 -14  -6  10\n",
      " -13  -7   7  -3   6   0  14 -16   0   4 -16   2  -5  -1 -22   6  -6   2\n",
      "  -5   8 -23  -7  -4   6  -6   6   9  13  -5   2  -3   4   8 -11 -30 -12\n",
      " -12 -13  11   7   4 -10   6  15 -17   4  -2 -11  -9  11   1  15  -4  -7\n",
      "  12  -5  -1   6  -8  29  -4   8  -5 -26  -6  10  -4   0   6   3  -7  10\n",
      "   7   2   1   9  -7  -9   9  12   1  -8  -6  23  -8   8   2  -7  12 -11\n",
      " -14   7  -7 -13   5  -4  17   1  -1   6 -11   3  -9  -5   2   0   4   5\n",
      "  14  24   0   3  18 -10 -13 -14 -11  -9  26  25  -8 -21  -7 -11  -7   9\n",
      "  -8  -6  -4   2   1 -15  11 -10  11  -8  -4   8  16   4 -14 -14  -9 -11\n",
      " -15  -8 -19   9 -10 -17   1  17  10  21   1   3   5  26   6   5   6  -1\n",
      "  16 -10  -3 -17  -7  -2   2  -3  19  -4  -6  16   4  -1  -1   3  19 -24\n",
      "  16 -10  13   3   8   7  -1   3  36  -4  -4   3  -2   2  12 -19  29  11\n",
      "   8   0 -18   5  -5   6   6 -11 -12 -14 -10   3 -25   2 -16   1 -19   2\n",
      " -10   3 -20   6   6  -4   9   3   3  -7 -12 -28  -4   5  -6  12   7  -6\n",
      "  31   8  -9  10 -10  -9  -1 -13 -13 -13  -2   9   0  -8   6 -26  -5  11\n",
      "  -4  -7  -8   1   6  -5   8  25 -12  -5 -14 -18  21  -3   6  -3  10  -8\n",
      " -14 -16  -1  -5  -4  -4  -3   6 -10   4 -10   1  -1   2 -12  -1   7   1\n",
      " -21   1  -4   5   0  -2   9   6   1  -2  -3  30  10   1  12  -7   2  17\n",
      "  -5  13  11 -34 -10  15  -3  -2 -23  -3  -5  15   1   7 -18   0  -4  11\n",
      "  11  32 -10 -14  10  -7 -10 -13   0  10  30   7  -8  -4  -1 -15   3   3\n",
      "  12   9  -2   2   0   2 -31  -5  -8  12]\n",
      "Mean distances:\n",
      " -0.724\n"
     ]
    }
   ],
   "source": [
    "import numpy as np\n",
    "\n",
    "walks=np.random.randint(-1,2,(1000,200)) ##random matrix\n",
    "wd=walks.sum(axis=1) \n",
    "sqwd=np.square(wd)\n",
    "mean=wd.mean(axis=0)\n",
    "print(walks)\n",
    "\n",
    "print(\"Every walkers distance:\\n\", wd)\n",
    "\n",
    "print(\"Mean distances:\\n\", mean)"
   ]
  },
  {
   "cell_type": "code",
   "execution_count": null,
   "id": "302c16f9",
   "metadata": {},
   "outputs": [],
   "source": []
  }
 ],
 "metadata": {
  "kernelspec": {
   "display_name": "Python 3 (ipykernel)",
   "language": "python",
   "name": "python3"
  },
  "language_info": {
   "codemirror_mode": {
    "name": "ipython",
    "version": 3
   },
   "file_extension": ".py",
   "mimetype": "text/x-python",
   "name": "python",
   "nbconvert_exporter": "python",
   "pygments_lexer": "ipython3",
   "version": "3.9.12"
  }
 },
 "nbformat": 4,
 "nbformat_minor": 5
}
