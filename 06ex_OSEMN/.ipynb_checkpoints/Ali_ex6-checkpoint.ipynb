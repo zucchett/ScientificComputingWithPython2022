{
 "cells": [
  {
   "cell_type": "code",
   "execution_count": 1,
   "metadata": {
    "id": "ZYdVGbkDK3ig"
   },
   "outputs": [],
   "source": [
    "import pandas as pd\n",
    "import numpy as np\n",
    "import json\n",
    "import struct"
   ]
  },
  {
   "cell_type": "markdown",
   "metadata": {
    "id": "e72gEcSxK3iu"
   },
   "source": [
    "1\\. **Text files**\n",
    "\n",
    "Perform the following operations on plain `txt` files:\n",
    "\n",
    "+ create a list of integrer numbers and then save it to a text file named `data_int.txt`. Run the `cat` command to print the content of the file.\n",
    "+ create a matrix of 5x5 floats and then save it to a text file named `data_float.txt`. Use the `cat` command to print the content of the file.\n",
    "+ load the `txt` file of the previous point and convert it to a `csv` file by hand."
   ]
  },
  {
   "cell_type": "code",
   "execution_count": 2,
   "metadata": {
    "colab": {
     "base_uri": "https://localhost:8080/"
    },
    "id": "vL5njiejK3i1",
    "outputId": "2c85e628-a8ab-4eac-bd30-0ba20f4a0740"
   },
   "outputs": [
    {
     "name": "stdout",
     "output_type": "stream",
     "text": [
      "1\r\n",
      "2\r\n",
      "3\r\n",
      "4\r\n"
     ]
    }
   ],
   "source": [
    "# List of integrer numbers\n",
    "\n",
    "numbers = range(1,5)\n",
    "\n",
    "# save the list in a text file named data_int.txt\n",
    "f = open(\"data_int.txt\", 'w')\n",
    "for i in numbers:\n",
    "  f.write(str(i) + '\\n') \n",
    "f.close()\n",
    "\n",
    "#  Cat command to print the content of the file.\n",
    "!cat data_int.txt"
   ]
  },
  {
   "cell_type": "code",
   "execution_count": 3,
   "metadata": {
    "colab": {
     "base_uri": "https://localhost:8080/"
    },
    "id": "NojwzolpM01-",
    "outputId": "fc04a898-e7f0-4e21-ca3d-2ed0b45b8f6d"
   },
   "outputs": [
    {
     "name": "stdout",
     "output_type": "stream",
     "text": [
      "[0.59798252 0.51591308 0.70868037 0.37467253 0.84238919]\r\n",
      "[0.83471762 0.26465901 0.51794209 0.65953314 0.23321389]\r\n",
      "[0.36116384 0.85562949 0.93029944 0.27255625 0.46060238]\r\n",
      "[0.32712509 0.48736242 0.56608798 0.73006599 0.95982929]\r\n",
      "[0.80740053 0.90509798 0.45683737 0.88013326 0.29146758]\r\n"
     ]
    }
   ],
   "source": [
    "# create a matrix of 5x5 floatsX \n",
    "\n",
    "floatmat = np.random.random(size=(5,5))\n",
    "\n",
    "# save it to a text file named data_int.txt\n",
    "\n",
    "f = open(\"data_float.txt\", 'w')\n",
    "for i in floatmat:\n",
    "    f.write(str(i) + '\\n') \n",
    "f.close()\n",
    "\n",
    "# cat command to print the content of the file.\n",
    "!cat data_float.txt"
   ]
  },
  {
   "cell_type": "code",
   "execution_count": 4,
   "metadata": {
    "colab": {
     "base_uri": "https://localhost:8080/",
     "height": 206
    },
    "id": "i_muP62FPbSh",
    "outputId": "0c46834a-c278-402a-9742-10f68da96eb2"
   },
   "outputs": [
    {
     "name": "stderr",
     "output_type": "stream",
     "text": [
      "/tmp/ipykernel_57211/1447469041.py:7: FutureWarning: The frame.append method is deprecated and will be removed from pandas in a future version. Use pandas.concat instead.\n",
      "  data = data.append(pd.Series(i[1:-2].split()), ignore_index = True)\n",
      "/tmp/ipykernel_57211/1447469041.py:7: FutureWarning: The frame.append method is deprecated and will be removed from pandas in a future version. Use pandas.concat instead.\n",
      "  data = data.append(pd.Series(i[1:-2].split()), ignore_index = True)\n"
     ]
    },
    {
     "data": {
      "text/html": [
       "<div>\n",
       "<style scoped>\n",
       "    .dataframe tbody tr th:only-of-type {\n",
       "        vertical-align: middle;\n",
       "    }\n",
       "\n",
       "    .dataframe tbody tr th {\n",
       "        vertical-align: top;\n",
       "    }\n",
       "\n",
       "    .dataframe thead th {\n",
       "        text-align: right;\n",
       "    }\n",
       "</style>\n",
       "<table border=\"1\" class=\"dataframe\">\n",
       "  <thead>\n",
       "    <tr style=\"text-align: right;\">\n",
       "      <th></th>\n",
       "      <th>0</th>\n",
       "      <th>1</th>\n",
       "      <th>2</th>\n",
       "      <th>3</th>\n",
       "      <th>4</th>\n",
       "    </tr>\n",
       "  </thead>\n",
       "  <tbody>\n",
       "    <tr>\n",
       "      <th>0</th>\n",
       "      <td>0.59798252</td>\n",
       "      <td>0.51591308</td>\n",
       "      <td>0.70868037</td>\n",
       "      <td>0.37467253</td>\n",
       "      <td>0.84238919</td>\n",
       "    </tr>\n",
       "    <tr>\n",
       "      <th>1</th>\n",
       "      <td>0.83471762</td>\n",
       "      <td>0.26465901</td>\n",
       "      <td>0.51794209</td>\n",
       "      <td>0.65953314</td>\n",
       "      <td>0.23321389</td>\n",
       "    </tr>\n",
       "    <tr>\n",
       "      <th>2</th>\n",
       "      <td>0.36116384</td>\n",
       "      <td>0.85562949</td>\n",
       "      <td>0.93029944</td>\n",
       "      <td>0.27255625</td>\n",
       "      <td>0.46060238</td>\n",
       "    </tr>\n",
       "    <tr>\n",
       "      <th>3</th>\n",
       "      <td>0.32712509</td>\n",
       "      <td>0.48736242</td>\n",
       "      <td>0.56608798</td>\n",
       "      <td>0.73006599</td>\n",
       "      <td>0.95982929</td>\n",
       "    </tr>\n",
       "    <tr>\n",
       "      <th>4</th>\n",
       "      <td>0.80740053</td>\n",
       "      <td>0.90509798</td>\n",
       "      <td>0.45683737</td>\n",
       "      <td>0.88013326</td>\n",
       "      <td>0.29146758</td>\n",
       "    </tr>\n",
       "  </tbody>\n",
       "</table>\n",
       "</div>"
      ],
      "text/plain": [
       "            0           1           2           3           4\n",
       "0  0.59798252  0.51591308  0.70868037  0.37467253  0.84238919\n",
       "1  0.83471762  0.26465901  0.51794209  0.65953314  0.23321389\n",
       "2  0.36116384  0.85562949  0.93029944  0.27255625  0.46060238\n",
       "3  0.32712509  0.48736242  0.56608798  0.73006599  0.95982929\n",
       "4  0.80740053  0.90509798  0.45683737  0.88013326  0.29146758"
      ]
     },
     "execution_count": 4,
     "metadata": {},
     "output_type": "execute_result"
    }
   ],
   "source": [
    "# load the txt file of the previous point\n",
    "data = pd.DataFrame()\n",
    "f = open(\"data_float.txt\", 'r')\n",
    "\n",
    "# convert it to a csv file by hand.\n",
    "for i in f:\n",
    "  data = data.append(pd.Series(i[1:-2].split()), ignore_index = True)\n",
    "f.close()\n",
    "data"
   ]
  },
  {
   "cell_type": "markdown",
   "metadata": {
    "id": "ZZdU3udaK3i2"
   },
   "source": [
    "f2\\. **JSON files**\n",
    "\n",
    "Load the file *user_data.json*, which can be found at:\n",
    "\n",
    "- https://www.dropbox.com/s/sz5klcdpckc39hd/user_data.json\n",
    "\n",
    "and filter the data by the \"CreditCardType\" when it equals to \"American Express\". Than save the data to a new CSV file."
   ]
  },
  {
   "cell_type": "code",
   "execution_count": 5,
   "metadata": {
    "colab": {
     "base_uri": "https://localhost:8080/"
    },
    "id": "kXnqVHtnXh17",
    "outputId": "4487d82a-81ee-4bb6-87b7-ca5180c70e15"
   },
   "outputs": [
    {
     "name": "stdout",
     "output_type": "stream",
     "text": [
      "--2022-12-02 20:15:05--  https://www.dropbox.com/s/sz5klcdpckc39hd/user_data.json\n",
      "Resolving www.dropbox.com (www.dropbox.com)... 162.125.69.18, 2620:100:6025:18::a27d:4512\n",
      "Connecting to www.dropbox.com (www.dropbox.com)|162.125.69.18|:443... connected.\n",
      "HTTP request sent, awaiting response... 302 Found\n",
      "Location: /s/raw/sz5klcdpckc39hd/user_data.json [following]\n",
      "--2022-12-02 20:15:05--  https://www.dropbox.com/s/raw/sz5klcdpckc39hd/user_data.json\n",
      "Reusing existing connection to www.dropbox.com:443.\n",
      "HTTP request sent, awaiting response... 302 Found\n",
      "Location: https://uc8cd7280656a9b9402d33092b39.dl.dropboxusercontent.com/cd/0/inline/Bx7v9aio69rv74blVS0ITTQ8k4073qmrah8ViUKCntkQdpZn05XsJ6I8u1e3sySHbx0OxjyVnuV1ju3bUULGVkNVpX7bUIS1JPg2YjAs0Cs2NKBRx4funOTnZZ0D2k1I3K5rTvYgE47euw6_dwEyd3_2SMoXZttEV11rPPNUDzE_Uw/file# [following]\n",
      "--2022-12-02 20:15:06--  https://uc8cd7280656a9b9402d33092b39.dl.dropboxusercontent.com/cd/0/inline/Bx7v9aio69rv74blVS0ITTQ8k4073qmrah8ViUKCntkQdpZn05XsJ6I8u1e3sySHbx0OxjyVnuV1ju3bUULGVkNVpX7bUIS1JPg2YjAs0Cs2NKBRx4funOTnZZ0D2k1I3K5rTvYgE47euw6_dwEyd3_2SMoXZttEV11rPPNUDzE_Uw/file\n",
      "Resolving uc8cd7280656a9b9402d33092b39.dl.dropboxusercontent.com (uc8cd7280656a9b9402d33092b39.dl.dropboxusercontent.com)... 162.125.69.15, 2620:100:6025:15::a27d:450f\n",
      "Connecting to uc8cd7280656a9b9402d33092b39.dl.dropboxusercontent.com (uc8cd7280656a9b9402d33092b39.dl.dropboxusercontent.com)|162.125.69.15|:443... connected.\n",
      "HTTP request sent, awaiting response... 200 OK\n",
      "Length: 40417 (39K) [text/plain]\n",
      "Saving to: ‘user_data.json’\n",
      "\n",
      "user_data.json      100%[===================>]  39,47K  --.-KB/s    in 0,001s  \n",
      "\n",
      "2022-12-02 20:15:06 (50,3 MB/s) - ‘user_data.json’ saved [40417/40417]\n",
      "\n"
     ]
    }
   ],
   "source": [
    "!wget https://www.dropbox.com/s/sz5klcdpckc39hd/user_data.json"
   ]
  },
  {
   "cell_type": "code",
   "execution_count": 6,
   "metadata": {
    "id": "AXg_kaMzK3i4"
   },
   "outputs": [
    {
     "name": "stderr",
     "output_type": "stream",
     "text": [
      "/tmp/ipykernel_57211/3147750325.py:7: FutureWarning: The frame.append method is deprecated and will be removed from pandas in a future version. Use pandas.concat instead.\n",
      "  df = df.append(pd.Series(i.values()), ignore_index = True)\n",
      "/tmp/ipykernel_57211/3147750325.py:7: FutureWarning: The frame.append method is deprecated and will be removed from pandas in a future version. Use pandas.concat instead.\n",
      "  df = df.append(pd.Series(i.values()), ignore_index = True)\n"
     ]
    }
   ],
   "source": [
    "data = json.load(open('user_data.json'))\n",
    "\n",
    "#Create a DataFrame object\n",
    "df = pd.DataFrame()\n",
    "\n",
    "for i in data :\n",
    "  df = df.append(pd.Series(i.values()), ignore_index = True)\n",
    "\n",
    "df.columns = data[0].keys()\n",
    "df = df.set_index(df.columns[0])\n",
    "\n",
    "#  filter the data by the \"CreditCardType\" when it equals to \"American Express\". Than save the data to a new CSV file.\n",
    "df[df[\"CreditCardType\"] == 'American Express'] .to_csv('user_data.csv')"
   ]
  },
  {
   "cell_type": "markdown",
   "metadata": {
    "id": "HTVMoRnMK3i5"
   },
   "source": [
    "3\\. **CSV files with Pandas**\n",
    "\n",
    "Load the file from this url:\n",
    "\n",
    "- https://www.dropbox.com/s/kgshemfgk22iy79/mushrooms_categorized.csv\n",
    "\n",
    "with Pandas. \n",
    "\n",
    "+ explore and print the DataFrame\n",
    "+ calculate, using `groupby()`, the average value of each feature, separately for each class\n",
    "+ save the file in a JSON format."
   ]
  },
  {
   "cell_type": "code",
   "execution_count": 37,
   "metadata": {
    "colab": {
     "base_uri": "https://localhost:8080/"
    },
    "id": "whGlkUXfahQM",
    "outputId": "0acebfa3-3d7a-40c2-b340-89c6d83f4587"
   },
   "outputs": [
    {
     "name": "stdout",
     "output_type": "stream",
     "text": [
      "--2022-12-01 16:07:38--  https://www.dropbox.com/s/kgshemfgk22iy79/mushrooms_categorized.csv\n",
      "Resolving www.dropbox.com (www.dropbox.com)... 162.125.1.18, 2620:100:6016:18::a27d:112\n",
      "Connecting to www.dropbox.com (www.dropbox.com)|162.125.1.18|:443... connected.\n",
      "HTTP request sent, awaiting response... 302 Found\n",
      "Location: /s/raw/kgshemfgk22iy79/mushrooms_categorized.csv [following]\n",
      "--2022-12-01 16:07:38--  https://www.dropbox.com/s/raw/kgshemfgk22iy79/mushrooms_categorized.csv\n",
      "Reusing existing connection to www.dropbox.com:443.\n",
      "HTTP request sent, awaiting response... 302 Found\n",
      "Location: https://uc4013c7f8a138eb588e2fd2634c.dl.dropboxusercontent.com/cd/0/inline/BxxkU241B9Cfu8SxrxU_zPxFh_tMsJc-pBIsjr8ZJOtinXrYddLEj0r6i112ZrQJeWg4Wv6wa9WMST1k6FEUkl3GrqLUp7LbdYPLEcwTrT-gURj-OK8FZ7h_RAnRPHFgZSxpP6uYWEPOT-AZTjmDnLbXAQFqxhLxG-r6k5WjaEiH9A/file# [following]\n",
      "--2022-12-01 16:07:38--  https://uc4013c7f8a138eb588e2fd2634c.dl.dropboxusercontent.com/cd/0/inline/BxxkU241B9Cfu8SxrxU_zPxFh_tMsJc-pBIsjr8ZJOtinXrYddLEj0r6i112ZrQJeWg4Wv6wa9WMST1k6FEUkl3GrqLUp7LbdYPLEcwTrT-gURj-OK8FZ7h_RAnRPHFgZSxpP6uYWEPOT-AZTjmDnLbXAQFqxhLxG-r6k5WjaEiH9A/file\n",
      "Resolving uc4013c7f8a138eb588e2fd2634c.dl.dropboxusercontent.com (uc4013c7f8a138eb588e2fd2634c.dl.dropboxusercontent.com)... 162.125.1.15, 2620:100:6017:15::a27d:20f\n",
      "Connecting to uc4013c7f8a138eb588e2fd2634c.dl.dropboxusercontent.com (uc4013c7f8a138eb588e2fd2634c.dl.dropboxusercontent.com)|162.125.1.15|:443... connected.\n",
      "HTTP request sent, awaiting response... 200 OK\n",
      "Length: 375292 (366K) [text/plain]\n",
      "Saving to: ‘mushrooms_categorized.csv’\n",
      "\n",
      "mushrooms_categoriz 100%[===================>] 366.50K  --.-KB/s    in 0.03s   \n",
      "\n",
      "2022-12-01 16:07:38 (12.5 MB/s) - ‘mushrooms_categorized.csv’ saved [375292/375292]\n",
      "\n"
     ]
    }
   ],
   "source": [
    "!wget https://www.dropbox.com/s/kgshemfgk22iy79/mushrooms_categorized.csv"
   ]
  },
  {
   "cell_type": "code",
   "execution_count": null,
   "metadata": {
    "id": "oWh8XF4sc910"
   },
   "outputs": [],
   "source": [
    "# explore and print the DataFrame\n",
    "df  = pd.read_csv('mushrooms_categorized.csv')\n",
    "df"
   ]
  },
  {
   "cell_type": "code",
   "execution_count": 40,
   "metadata": {
    "colab": {
     "base_uri": "https://localhost:8080/"
    },
    "id": "SvGa56oIK3i8",
    "outputId": "8979c0da-913c-4cd5-eab7-4f1fcdc9cb5d"
   },
   "outputs": [
    {
     "name": "stdout",
     "output_type": "stream",
     "text": [
      "      class  cap-shape  cap-surface  cap-color  bruises  odor  \\\n",
      "0         1          5            2          4        1     6   \n",
      "1         0          5            2          9        1     0   \n",
      "2         0          0            2          8        1     3   \n",
      "3         1          5            3          8        1     6   \n",
      "4         0          5            2          3        0     5   \n",
      "...     ...        ...          ...        ...      ...   ...   \n",
      "8119      0          3            2          4        0     5   \n",
      "8120      0          5            2          4        0     5   \n",
      "8121      0          2            2          4        0     5   \n",
      "8122      1          3            3          4        0     8   \n",
      "8123      0          5            2          4        0     5   \n",
      "\n",
      "      gill-attachment  gill-spacing  gill-size  gill-color  ...  \\\n",
      "0                   1             0          1           4  ...   \n",
      "1                   1             0          0           4  ...   \n",
      "2                   1             0          0           5  ...   \n",
      "3                   1             0          1           5  ...   \n",
      "4                   1             1          0           4  ...   \n",
      "...               ...           ...        ...         ...  ...   \n",
      "8119                0             0          0          11  ...   \n",
      "8120                0             0          0          11  ...   \n",
      "8121                0             0          0           5  ...   \n",
      "8122                1             0          1           0  ...   \n",
      "8123                0             0          0          11  ...   \n",
      "\n",
      "      stalk-surface-below-ring  stalk-color-above-ring  \\\n",
      "0                            2                       7   \n",
      "1                            2                       7   \n",
      "2                            2                       7   \n",
      "3                            2                       7   \n",
      "4                            2                       7   \n",
      "...                        ...                     ...   \n",
      "8119                         2                       5   \n",
      "8120                         2                       5   \n",
      "8121                         2                       5   \n",
      "8122                         1                       7   \n",
      "8123                         2                       5   \n",
      "\n",
      "      stalk-color-below-ring  veil-type  veil-color  ring-number  ring-type  \\\n",
      "0                          7          0           2            1          4   \n",
      "1                          7          0           2            1          4   \n",
      "2                          7          0           2            1          4   \n",
      "3                          7          0           2            1          4   \n",
      "4                          7          0           2            1          0   \n",
      "...                      ...        ...         ...          ...        ...   \n",
      "8119                       5          0           1            1          4   \n",
      "8120                       5          0           0            1          4   \n",
      "8121                       5          0           1            1          4   \n",
      "8122                       7          0           2            1          0   \n",
      "8123                       5          0           1            1          4   \n",
      "\n",
      "      spore-print-color  population  habitat  \n",
      "0                     2           3        5  \n",
      "1                     3           2        1  \n",
      "2                     3           2        3  \n",
      "3                     2           3        5  \n",
      "4                     3           0        1  \n",
      "...                 ...         ...      ...  \n",
      "8119                  0           1        2  \n",
      "8120                  0           4        2  \n",
      "8121                  0           1        2  \n",
      "8122                  7           4        2  \n",
      "8123                  4           1        2  \n",
      "\n",
      "[8124 rows x 23 columns]\n",
      "       cap-shape  cap-surface  cap-color   bruises      odor  gill-attachment  \\\n",
      "class                                                                           \n",
      "0       3.266160     1.615970   4.581749  0.653992  4.334601         0.954373   \n",
      "1       3.436159     2.055158   4.421859  0.159346  3.940756         0.995403   \n",
      "\n",
      "       gill-spacing  gill-size  gill-color  stalk-shape  ...  \\\n",
      "class                                                    ...   \n",
      "0          0.285171   0.068441    6.622624     0.615970  ...   \n",
      "1          0.028601   0.567926    2.863636     0.514811  ...   \n",
      "\n",
      "       stalk-surface-below-ring  stalk-color-above-ring  \\\n",
      "class                                                     \n",
      "0                      1.798479                6.098859   \n",
      "1                      1.394280                5.512768   \n",
      "\n",
      "       stalk-color-below-ring  veil-type  veil-color  ring-number  ring-type  \\\n",
      "class                                                                          \n",
      "0                    6.064639        0.0    1.931559     1.125475   3.007605   \n",
      "1                    5.504597        0.0    2.002043     1.009193   1.522983   \n",
      "\n",
      "       spore-print-color  population   habitat  \n",
      "class                                           \n",
      "0               3.201521    3.283270  1.148289  \n",
      "1               4.021450    4.031665  1.895812  \n",
      "\n",
      "[2 rows x 22 columns]\n"
     ]
    }
   ],
   "source": [
    "# calculate, using groupby(), the average value of each feature, separately for each class\n",
    "class_groups = df.groupby(['class']).mean()\n",
    "# save the file in a JSON format.\n",
    "class_groups.to_json(\"mushrooms_categorized.json\", orient=\"columns\")\n",
    "class_groups"
   ]
  },
  {
   "cell_type": "markdown",
   "metadata": {
    "id": "YqqYNF3CK3i-"
   },
   "source": [
    "4\\. **Reading the credit card numbers**\n",
    "\n",
    "Get the binary file named *credit_card.dat* from this address:\n",
    "\n",
    "- https://www.dropbox.com/s/8m0syw2tkul3dap/credit_card.dat\n",
    "\n",
    "and convert the data into the real credit card number, knowing that:\n",
    "- each line corresponds to a credit card number, which consists of 16 characters (which are numbers in the 0-9 range) divided in 4 blocks, with a whitespace between each block\n",
    "- each character is written using a 6 bit binary representation (including the whitespace)\n",
    "- the final 4 bits of each line are a padding used to determine the end of the line, and can be ignored\n",
    "\n",
    "*Hint*: convert the binary numbers to the decimal representation first, and then use the `chr()` function to convert the latter to a char"
   ]
  },
  {
   "cell_type": "code",
   "execution_count": 41,
   "metadata": {
    "colab": {
     "base_uri": "https://localhost:8080/"
    },
    "id": "GAYTS09idYHO",
    "outputId": "3cb5f7fa-9a22-411b-e693-e54902b7299c"
   },
   "outputs": [
    {
     "name": "stdout",
     "output_type": "stream",
     "text": [
      "--2022-12-01 16:12:07--  https://www.dropbox.com/s/8m0syw2tkul3dap/credit_card.dat\n",
      "Resolving www.dropbox.com (www.dropbox.com)... 162.125.1.18, 2620:100:6016:18::a27d:112\n",
      "Connecting to www.dropbox.com (www.dropbox.com)|162.125.1.18|:443... connected.\n",
      "HTTP request sent, awaiting response... 302 Found\n",
      "Location: /s/raw/8m0syw2tkul3dap/credit_card.dat [following]\n",
      "--2022-12-01 16:12:07--  https://www.dropbox.com/s/raw/8m0syw2tkul3dap/credit_card.dat\n",
      "Reusing existing connection to www.dropbox.com:443.\n",
      "HTTP request sent, awaiting response... 302 Found\n",
      "Location: https://uc10d832e752a3591d07f7c4370e.dl.dropboxusercontent.com/cd/0/inline/BxzKsMq5Bz8VX4iWhs828wDHAfqnuN6OxV8ycAOhdYTYamhMkBOWZyEivlAg4MuqKal_O_YbG3759I04C8Zvnga9TSWAY2shC_YPo42tbtMA2d8I_uGYm2jsMYfeVqzrYAl97bg9XA0PWVR4VvS6aQ9J37iW1bSW0v0EXAymXZhKBw/file# [following]\n",
      "--2022-12-01 16:12:08--  https://uc10d832e752a3591d07f7c4370e.dl.dropboxusercontent.com/cd/0/inline/BxzKsMq5Bz8VX4iWhs828wDHAfqnuN6OxV8ycAOhdYTYamhMkBOWZyEivlAg4MuqKal_O_YbG3759I04C8Zvnga9TSWAY2shC_YPo42tbtMA2d8I_uGYm2jsMYfeVqzrYAl97bg9XA0PWVR4VvS6aQ9J37iW1bSW0v0EXAymXZhKBw/file\n",
      "Resolving uc10d832e752a3591d07f7c4370e.dl.dropboxusercontent.com (uc10d832e752a3591d07f7c4370e.dl.dropboxusercontent.com)... 162.125.1.15, 2620:100:6021:15::a27d:410f\n",
      "Connecting to uc10d832e752a3591d07f7c4370e.dl.dropboxusercontent.com (uc10d832e752a3591d07f7c4370e.dl.dropboxusercontent.com)|162.125.1.15|:443... connected.\n",
      "HTTP request sent, awaiting response... 302 Found\n",
      "Location: /cd/0/inline2/BxzHwOwGCT-1mK1ov4J1RZSXEHZLKuNyaaQmNF8k-UAYAdi6T6iG082jR9XLLRFbIXuq-JL5M7rxBYxj7FQwChyp9gcIQoRqmLEzVDKF0l-9h1orIII14tgvpdE42-IzLjom47DesG907qprbV_5RjrA6M88skjCSWscsE8dm0ZkwAq9vpMsC2IFaTmwmy74Tj8aDmX_fu333FeBOjFtzRI4sDPLgd5F938wqXwzJsoe-LDnU_ub023UJyeEGbdx_JJ8MJclrEdTBubin06eQP6-rgMY4PtEV3vwKBhoe6CmrRSIjzDWMLRh5LqXQ8RJTxZn1LN7arCWOPGi_yyFB3IwHO9pEHk9WixVoMta6f8-I6GEJX8sd0CNUtjeVpCDlLAq3mNDPtujpyNIQYzQn1-6NIn4ibzPsQl-NRqai2mGMQ/file [following]\n",
      "--2022-12-01 16:12:08--  https://uc10d832e752a3591d07f7c4370e.dl.dropboxusercontent.com/cd/0/inline2/BxzHwOwGCT-1mK1ov4J1RZSXEHZLKuNyaaQmNF8k-UAYAdi6T6iG082jR9XLLRFbIXuq-JL5M7rxBYxj7FQwChyp9gcIQoRqmLEzVDKF0l-9h1orIII14tgvpdE42-IzLjom47DesG907qprbV_5RjrA6M88skjCSWscsE8dm0ZkwAq9vpMsC2IFaTmwmy74Tj8aDmX_fu333FeBOjFtzRI4sDPLgd5F938wqXwzJsoe-LDnU_ub023UJyeEGbdx_JJ8MJclrEdTBubin06eQP6-rgMY4PtEV3vwKBhoe6CmrRSIjzDWMLRh5LqXQ8RJTxZn1LN7arCWOPGi_yyFB3IwHO9pEHk9WixVoMta6f8-I6GEJX8sd0CNUtjeVpCDlLAq3mNDPtujpyNIQYzQn1-6NIn4ibzPsQl-NRqai2mGMQ/file\n",
      "Reusing existing connection to uc10d832e752a3591d07f7c4370e.dl.dropboxusercontent.com:443.\n",
      "HTTP request sent, awaiting response... 200 OK\n",
      "Length: 5955 (5.8K) [application/x-ns-proxy-autoconfig]\n",
      "Saving to: ‘credit_card.dat’\n",
      "\n",
      "credit_card.dat     100%[===================>]   5.82K  --.-KB/s    in 0s      \n",
      "\n",
      "2022-12-01 16:12:08 (946 MB/s) - ‘credit_card.dat’ saved [5955/5955]\n",
      "\n"
     ]
    }
   ],
   "source": [
    "!wget https://www.dropbox.com/s/8m0syw2tkul3dap/credit_card.dat"
   ]
  },
  {
   "cell_type": "code",
   "execution_count": 43,
   "metadata": {
    "colab": {
     "base_uri": "https://localhost:8080/"
    },
    "id": "_BviqeetK3jB",
    "outputId": "5510e3f8-964a-42c6-f709-a876b49da44a"
   },
   "outputs": [
    {
     "name": "stdout",
     "output_type": "stream",
     "text": [
      "7648 5673 3775 2271\n",
      "\n",
      "3257 8247 3354 2266\n",
      "\n",
      "2722 0001 4011 6652\n",
      "\n",
      "0661 3063 3742 3150\n",
      "\n",
      "0432 1608 1462 4742\n",
      "\n",
      "5827 2027 8785 7303\n",
      "\n",
      "5774 8528 2087 1117\n",
      "\n",
      "8140 1210 6352 2845\n",
      "\n",
      "5764 1133 7301 7100\n",
      "\n",
      "6456 1737 4126 6726\n",
      "\n",
      "1228 8631 7382 0000\n",
      "\n",
      "7051 0160 5374 3166\n",
      "\n",
      "0618 3587 1630 6376\n",
      "\n",
      "1545 5454 7444 5636\n",
      "\n",
      "6735 3116 3202 6834\n",
      "\n",
      "7287 5011 1547 8413\n",
      "\n",
      "7033 2607 3328 4200\n",
      "\n",
      "2568 5244 1874 5024\n",
      "\n",
      "1684 2253 7570 7118\n",
      "\n",
      "0672 2576 0575 6631\n",
      "\n",
      "6332 8353 8787 1340\n",
      "\n",
      "1813 3361 1175 4211\n",
      "\n",
      "2477 6450 8840 2368\n",
      "\n",
      "5512 3505 2563 1326\n",
      "\n",
      "3083 7882 0621 0025\n",
      "\n",
      "4521 5148 8045 0334\n",
      "\n",
      "7563 3654 8713 5787\n",
      "\n",
      "8324 2664 0476 5561\n",
      "\n",
      "0565 2504 7168 3510\n",
      "\n",
      "5107 5507 1767 0738\n",
      "\n",
      "2462 1821 2448 1443\n",
      "\n",
      "2788 0638 6861 6554\n",
      "\n",
      "5851 5873 5474 0547\n",
      "\n",
      "0670 1004 4013 2655\n",
      "\n",
      "5874 5506 3048 0806\n",
      "\n",
      "2805 5401 8462 1260\n",
      "\n",
      "5083 8406 6310 1862\n",
      "\n",
      "1076 1445 3013 2266\n",
      "\n",
      "8440 4804 4844 5277\n",
      "\n",
      "4758 6141 0686 1387\n",
      "\n",
      "7586 0675 0315 2568\n",
      "\n",
      "2544 1258 7432 5165\n",
      "\n",
      "3474 5023 4434 5626\n",
      "\n",
      "1410 0270 0434 5086\n",
      "\n",
      "7315 4446 1104 4215\n",
      "\n",
      "0224 7742 8300 0266\n",
      "\n",
      "0170 2700 3145 0640\n",
      "\n",
      "2006 2437 8054 1600\n",
      "\n",
      "8142 4055 1776 0026\n",
      "\n",
      "3026 7380 1241 1084\n",
      "\n",
      "\n",
      "\n"
     ]
    }
   ],
   "source": [
    "#load the txt file of the previous point and convert it to a csv file by hand.\n",
    "out_file_name = \"credit_card.dat\"\n",
    "f =  open(out_file_name, 'r')\n",
    "for i in f:\n",
    "  s = ''\n",
    "  for j in range(0, len(i), 6):\n",
    "    s += chr(int(i[j:j+6],2))\n",
    "  print(s)\n",
    "f.close()"
   ]
  },
  {
   "cell_type": "markdown",
   "metadata": {
    "id": "qFG1b-X3K3jD"
   },
   "source": [
    "5\\. **Write data to a binary file**\n",
    "\n",
    "a) Start from the `data/data_000637.txt` file that we have used during the previous lectures, and convert it to a binary file according to the format defined below:"
   ]
  },
  {
   "cell_type": "code",
   "execution_count": null,
   "metadata": {
    "id": "tmD202-AK3jF"
   },
   "outputs": [],
   "source": [
    "from IPython.display import Image\n",
    "Image(\"images/data_format.png\")"
   ]
  },
  {
   "cell_type": "markdown",
   "metadata": {
    "id": "9DAPogWnK3jH"
   },
   "source": [
    "*Hints*:\n",
    "- Read the first 10 lines using Pandas\n",
    "- Iterate over the DataFrame rows\n",
    "- For every row, ``pack'' the values (features) into a single 64-bit word, according to the format specified above. Use bit-wise shifts and operators to do so.\n",
    "- Write each 64-bit word to a binary file. You can use `struct` in this way:\n",
    "```\n",
    "binary_file.write( struct.pack('<q', word) )\n",
    "```\n",
    "where `word` is the 64-bit word.\n",
    "- Close the file after completing the loop.\n",
    "\n",
    "b) Check that the binary file is correctly written by reading it with the code used in the lecture `06_OSEMN.ipynb`, and verify that the content of the `txt` and binary files is consistent.\n",
    "\n",
    "c) What is the difference of the size on disk between equivalent `txt` and binary files?"
   ]
  },
  {
   "cell_type": "code",
   "execution_count": 44,
   "metadata": {
    "colab": {
     "base_uri": "https://localhost:8080/"
    },
    "id": "see3voN3gK6y",
    "outputId": "6d90e328-64e1-47ed-cfa8-8c16c33d4527"
   },
   "outputs": [
    {
     "name": "stdout",
     "output_type": "stream",
     "text": [
      "--2022-12-01 16:24:54--  https://www.dropbox.com/s/xvjzaxzz3ysphme/data_000637.txt\n",
      "Resolving www.dropbox.com (www.dropbox.com)... 162.125.1.18, 2620:100:6016:18::a27d:112\n",
      "Connecting to www.dropbox.com (www.dropbox.com)|162.125.1.18|:443... connected.\n",
      "HTTP request sent, awaiting response... 302 Found\n",
      "Location: /s/raw/xvjzaxzz3ysphme/data_000637.txt [following]\n",
      "--2022-12-01 16:24:54--  https://www.dropbox.com/s/raw/xvjzaxzz3ysphme/data_000637.txt\n",
      "Reusing existing connection to www.dropbox.com:443.\n",
      "HTTP request sent, awaiting response... 302 Found\n",
      "Location: https://uc346d5e9ed69460728222c6cfb8.dl.dropboxusercontent.com/cd/0/inline/Bxw8mpOyvJ896VO58w1LaI2RIR_Fmwau4UHmc4NLo0bAbQkQYrv42XRvwgvZ7KUqPGb-TZa3O1KIJxjNgfTKQ1rjZX7R8q-OfGe0sxDiy7taquPnfs18QRlXnAAv6abbhxswOnWMOQmUDDJjLNTnCbda2gcAMaTiVvW-mkw7t0-xTA/file# [following]\n",
      "--2022-12-01 16:24:54--  https://uc346d5e9ed69460728222c6cfb8.dl.dropboxusercontent.com/cd/0/inline/Bxw8mpOyvJ896VO58w1LaI2RIR_Fmwau4UHmc4NLo0bAbQkQYrv42XRvwgvZ7KUqPGb-TZa3O1KIJxjNgfTKQ1rjZX7R8q-OfGe0sxDiy7taquPnfs18QRlXnAAv6abbhxswOnWMOQmUDDJjLNTnCbda2gcAMaTiVvW-mkw7t0-xTA/file\n",
      "Resolving uc346d5e9ed69460728222c6cfb8.dl.dropboxusercontent.com (uc346d5e9ed69460728222c6cfb8.dl.dropboxusercontent.com)... 162.125.1.15, 2620:100:6016:15::a27d:10f\n",
      "Connecting to uc346d5e9ed69460728222c6cfb8.dl.dropboxusercontent.com (uc346d5e9ed69460728222c6cfb8.dl.dropboxusercontent.com)|162.125.1.15|:443... connected.\n",
      "HTTP request sent, awaiting response... 200 OK\n",
      "Length: 33179236 (32M) [text/plain]\n",
      "Saving to: ‘data_000637.txt’\n",
      "\n",
      "data_000637.txt     100%[===================>]  31.64M   170MB/s    in 0.2s    \n",
      "\n",
      "2022-12-01 16:24:55 (170 MB/s) - ‘data_000637.txt’ saved [33179236/33179236]\n",
      "\n"
     ]
    }
   ],
   "source": [
    "!wget https://www.dropbox.com/s/xvjzaxzz3ysphme/data_000637.txt"
   ]
  },
  {
   "cell_type": "code",
   "execution_count": 53,
   "metadata": {
    "id": "nBOv9C77A9r0"
   },
   "outputs": [],
   "source": [
    "# Read the first 10 lines using Pandas\n",
    "df_1 = pd.read_csv('data_000637.txt', nrows = 10)\n",
    "\n",
    "# Iterate over the DataFrame rows\n",
    "f = open( \"data_000637.dat\", 'wb')\n",
    "for i in df_1.values : \n",
    "  word = (i[5] << 0 ) \n",
    "  word += (i[4] << 5 ) \n",
    "  word += (i[3] << 17) \n",
    "  word += (i[2] << 49) \n",
    "  word += (i[1] << 58)\n",
    "  word += (i[0] << 62)\n",
    "  f.write( struct.pack('<q', word) )\n",
    "f.close()"
   ]
  },
  {
   "cell_type": "code",
   "execution_count": 51,
   "metadata": {
    "id": "8MyRb9OHK3jK"
   },
   "outputs": [],
   "source": [
    "\n",
    "data = {}\n",
    "columns = ['HEAD', 'FPGA', 'CHANNEL', 'ORBIT_CNT', 'BX_CNT', 'TDC_MEAS']\n",
    "df = pd.DataFrame({}, columns=columns)\n",
    "\n",
    "with open('data_000637.dat', 'rb') as file:\n",
    "    file_content = file.read()\n",
    "    word_counter = 0\n",
    "    word_size = 8 # size of the word in bytes\n",
    "    for i in range(0, len(file_content), word_size):\n",
    "        word_counter += 1\n",
    "        if word_counter > 10: break\n",
    "        word = struct.unpack('<q', file_content[i : i + word_size])[0] # get an 8-byte word\n",
    "        head     = (word >> 62) & 0x3\n",
    "        fpga     = (word >> 58) & 0xF\n",
    "        tdc_chan = (word >> 49) & 0x1FF\n",
    "        orb_cnt  = (word >> 17) & 0xFFFFFFFF\n",
    "        bx       = (word >> 5 ) & 0xFFF\n",
    "        tdc_meas = (word >> 0 ) & 0x1F\n",
    "        #if i == 0: print ('{0}\\t{1}\\t{2}\\t{3}\\t{4}\\t{5}'.format('HEAD', 'FPGA', 'CHANNEL', 'ORBIT_CNT', 'BX_CNT', 'TDC_MEAS'))\n",
    "        #print('{0}\\t{1}\\t{2}\\t{3}\\t{4}\\t{5}'.format(head, fpga, tdc_chan, orb_cnt, bx, tdc_meas))\n",
    "        entry = {'HEAD' : head, 'FPGA' : fpga, 'CHANNEL' : tdc_chan, 'ORBIT_CNT' : orb_cnt, 'BX_CNT' : bx, 'TDC_MEAS' : tdc_meas}\n",
    "        df = df.append(entry, ignore_index=True)"
   ]
  },
  {
   "cell_type": "code",
   "execution_count": 60,
   "metadata": {
    "colab": {
     "base_uri": "https://localhost:8080/"
    },
    "id": "J8X0yGlE9lQR",
    "outputId": "dee6181d-9aae-47da-c778-c6c25e9f9976"
   },
   "outputs": [
    {
     "name": "stdout",
     "output_type": "stream",
     "text": [
      "The size of the Text file:  312 bytes\n",
      "The size of the binary file 80 bytes \n",
      "\n",
      "The size of the text file is bigger than the size of binary file because each chacter in\n",
      "text file occupies 1 bytes in memory while in the binary file\n",
      "each word occupies 8 bytes .\n"
     ]
    }
   ],
   "source": [
    "import os\n",
    "df_1.to_csv('data637.txt', sep=' ', index=False)\n",
    "print('The size of the Text file: ', os.stat('data637.txt').st_size, 'bytes')\n",
    "print('The size of the binary file', os.stat('binary_file.dat').st_size, 'bytes \\n')\n",
    "print(\"The size of the text file is bigger than the size of binary file because each chacter in\\ntext file occupies 1 bytes in memory while in the binary file\\neach word occupies 8 bytes .\")"
   ]
  }
 ],
 "metadata": {
  "colab": {
   "provenance": []
  },
  "kernelspec": {
   "display_name": "Python 3 (ipykernel)",
   "language": "python",
   "name": "python3"
  },
  "language_info": {
   "codemirror_mode": {
    "name": "ipython",
    "version": 3
   },
   "file_extension": ".py",
   "mimetype": "text/x-python",
   "name": "python",
   "nbconvert_exporter": "python",
   "pygments_lexer": "ipython3",
   "version": "3.9.12"
  }
 },
 "nbformat": 4,
 "nbformat_minor": 1
}
