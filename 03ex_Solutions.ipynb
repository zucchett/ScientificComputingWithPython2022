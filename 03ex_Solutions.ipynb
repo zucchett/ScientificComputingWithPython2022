{
 "cells": [
  {
   "cell_type": "markdown",
   "id": "32424f31",
   "metadata": {},
   "source": [
    "Q1"
   ]
  },
  {
   "cell_type": "code",
   "execution_count": 1,
   "id": "6cbd9aa1",
   "metadata": {},
   "outputs": [
    {
     "name": "stdout",
     "output_type": "stream",
     "text": [
      "Enter the number: 34\n",
      "Enter dec, bin or hex: hex\n",
      "0x22\n"
     ]
    }
   ],
   "source": [
    "def numconverter(numb, typ, styp):\n",
    "    if typ == 'dec':\n",
    "        if styp == 'hex':\n",
    "            return hex(int(numb))\n",
    "        elif styp == 'bin':\n",
    "            return bin(int(numb))\n",
    "        else:\n",
    "            return numb\n",
    "    elif typ == 'bin':\n",
    "        if styp == 'dec':\n",
    "            return int(numb,2)\n",
    "        elif styp == 'hex':\n",
    "            return hex(int(numb, 2))\n",
    "        else:\n",
    "            return numb\n",
    "    else:\n",
    "        if styp == 'bin':\n",
    "            return bin(int(numb, 16))\n",
    "        elif styp == 'dec':\n",
    "            return int(numb, 16)\n",
    "        else:\n",
    "            return numb\n",
    "\n",
    "numb = input(\"Enter the number: \")\n",
    "typ = 'dec'\n",
    "if numb.startswith('0b'):\n",
    "    typ = 'bin'\n",
    "elif numb.startswith('0x'):\n",
    "    typ = 'hex'\n",
    "styp = input(\"Enter dec, bin or hex: \")\n",
    "con = numconverter(numb, typ, styp)\n",
    "\n",
    "print(con)\n"
   ]
  },
  {
   "cell_type": "markdown",
   "id": "df3fac3f",
   "metadata": {},
   "source": [
    "Q2"
   ]
  },
  {
   "cell_type": "code",
   "execution_count": 5,
   "id": "e04aeeb3",
   "metadata": {},
   "outputs": [
    {
     "name": "stdout",
     "output_type": "stream",
     "text": [
      "Float point: -88.0\n"
     ]
    }
   ],
   "source": [
    "number = '110000101011000000000000'\n",
    "\n",
    "\n",
    "def intconv(mantistr):\n",
    "    pcount = -1\n",
    "    mantint = 0\n",
    "    for i in mantistr: \n",
    "        mantint += (int(i) * pow(2, pcount))\n",
    "        pcount -= 1\n",
    "\n",
    "    return (mantint + 1)\n",
    "\n",
    "\n",
    "def converter(ieee):\n",
    "\n",
    "    sbit = int(ieee[0])\n",
    "    exbias = int(ieee[1 : 9], 2)\n",
    "    \n",
    "    unbias = exbias - 127\n",
    "    mantistr = ieee[9 : ]\n",
    "    mantint = intconv(mantistr)\n",
    "\n",
    "    num = pow(-1, sbit) * mantint * pow(2, unbias)\n",
    "    return num\n",
    "\n",
    "\n",
    "decimal = converter(number)\n",
    "print(\"Float point:\",decimal)\n"
   ]
  },
  {
   "cell_type": "markdown",
   "id": "d0bda213",
   "metadata": {},
   "source": [
    "Q3"
   ]
  },
  {
   "cell_type": "code",
   "execution_count": 6,
   "id": "067c6e1f",
   "metadata": {},
   "outputs": [
    {
     "name": "stdout",
     "output_type": "stream",
     "text": [
      "underflow: 5e-324\n",
      "overflow: 8.98846567431158e+307\n"
     ]
    }
   ],
   "source": [
    "a = 1.0\n",
    "while a != 0:\n",
    "    under = a\n",
    "    a /= 2\n",
    "\n",
    "print(\"underflow:\", under)\n",
    "\n",
    "b = 1.0\n",
    "while b/b == 1:\n",
    "    over = b\n",
    "    b *= 2\n",
    "\n",
    "print(\"overflow:\", over)\n",
    "\n"
   ]
  },
  {
   "cell_type": "markdown",
   "id": "c1515ae3",
   "metadata": {},
   "source": [
    "Q4"
   ]
  },
  {
   "cell_type": "code",
   "execution_count": 7,
   "id": "b74f443b",
   "metadata": {},
   "outputs": [
    {
     "name": "stdout",
     "output_type": "stream",
     "text": [
      "1.0\n",
      "2.220446049250313e-16\n"
     ]
    }
   ],
   "source": [
    "\n",
    "num = 1.0\n",
    "print(num)\n",
    "\n",
    "while 1 + num > 1:\n",
    "    temp = num\n",
    "    num /= 2\n",
    "\n",
    "print(temp)\n",
    "\n",
    "\n"
   ]
  },
  {
   "cell_type": "markdown",
   "id": "58e24dfa",
   "metadata": {},
   "source": [
    "Q5"
   ]
  },
  {
   "cell_type": "code",
   "execution_count": 8,
   "id": "36ca953e",
   "metadata": {},
   "outputs": [
    {
     "name": "stdout",
     "output_type": "stream",
     "text": [
      "(-9.999894245993346e-07, -999999.999999)\n",
      "(-1.000000000001e-06, -1000010.5755125057)\n",
      "(-9.999894245993346e-07, -1000010.5755125057)\n"
     ]
    }
   ],
   "source": [
    "import math\n",
    "\n",
    "\"\"\"\n",
    "a)\n",
    "\n",
    "\"\"\"\n",
    "\n",
    "\n",
    "def quad(a,b,c):\n",
    "    k = math.sqrt(b**2 - 4*a*c)\n",
    "    s1 = (-b + k) / (2*a)\n",
    "    s2 = (-b - k) / (2*a)\n",
    "    return (s1, s2)\n",
    "\n",
    "a = 0.001\n",
    "b = 1000\n",
    "c = 0.001\n",
    "\n",
    "print(quad(a,b,c))\n",
    "\n",
    "\n",
    "\"\"\"\n",
    "b)\n",
    "\n",
    "\"\"\"\n",
    "\n",
    "def quad2(a,b,c):\n",
    "    k = math.sqrt(b**2 - 4*a*c)\n",
    "    s1 = (2*c) / (-b - k)\n",
    "    s2 = (2*c) / (-b + k)\n",
    "    return (s1, s2)\n",
    "\n",
    "print(quad2(a,b,c))\n",
    "\n",
    "\"\"\"\n",
    "c)\n",
    "\n",
    "\"\"\"\n",
    "\n",
    "def quad3(a,b,c):\n",
    "    k = math.sqrt(b**2 - 4*a*c)\n",
    "    s1 = (-b + k) / (2*a)\n",
    "    s2 = (2*c) / (-b + k)\n",
    "    return (s1,s2)\n",
    "print(quad3(a,b,c))\n"
   ]
  },
  {
   "cell_type": "markdown",
   "id": "9d2dc8f4",
   "metadata": {},
   "source": [
    "Q6"
   ]
  },
  {
   "cell_type": "code",
   "execution_count": 9,
   "id": "274886f7",
   "metadata": {
    "scrolled": true
   },
   "outputs": [
    {
     "name": "stdout",
     "output_type": "stream",
     "text": [
      "x =  1\n",
      "t1 = 0.01 1.010000000000001\n",
      "t1 = 0.01 1.010000000000001\n",
      "t2 = 0.0001 1.0000999999998899\n",
      "t3 = 1e-06 1.0000009999177333\n",
      "t4 = 1e-08 1.0000000039225287\n",
      "t5 = 1e-10 1.000000082840371\n",
      "t6 = 1e-12 1.0000889005833413\n",
      "t7 = 1e-14 0.9992007221626509\n"
     ]
    }
   ],
   "source": [
    "\n",
    "def function1(x):\n",
    "    return x*(x-1)\n",
    "\n",
    "\n",
    "def der(x, t):\n",
    "    s = (function1(x + t) - function1(x)) / t\n",
    "    return s\n",
    "\n",
    "x = 1\n",
    "t1 = 10**-2\n",
    "t2 = 10**-4\n",
    "t3 = 10**-6\n",
    "t4 = 10**-8\n",
    "t5 = 10**-10\n",
    "t6 = 10**-12\n",
    "t7 = 10**-14\n",
    "\n",
    "print('x = ', x)\n",
    "print('t1 =', t1,der(x,t1))\n",
    "print('t1 =', t1,der(x,t1))\n",
    "print('t2 =', t2,der(x,t2))\n",
    "print('t3 =', t3,der(x,t3))\n",
    "print('t4 =', t4,der(x,t4))\n",
    "print('t5 =', t5,der(x,t5))\n",
    "print('t6 =', t6,der(x,t6))\n",
    "print('t7 =', t7,der(x,t7))\n",
    "\n",
    "#The results do not agree perfectly, they get closer until 10^-8 but after that it gets more separated because of the roundoff-error.\n"
   ]
  },
  {
   "cell_type": "markdown",
   "id": "2420607d",
   "metadata": {},
   "source": [
    "Q7"
   ]
  },
  {
   "cell_type": "code",
   "execution_count": 11,
   "id": "93b21bb2",
   "metadata": {},
   "outputs": [
    {
     "name": "stdout",
     "output_type": "stream",
     "text": [
      "Accurate is: 0.003979949748426484 intgrl with N=100: 1.56681637704647\n",
      "Erorr:  3.717714546383038e-12 N: 105000000 Result:  1.5707963267911789\n",
      "The time difference is : 46.627880700000006\n"
     ]
    }
   ],
   "source": [
    "import math\n",
    "import timeit\n",
    "\n",
    "def q7(x): \n",
    "    return math.sqrt(1-(x**2)) \n",
    "a=-1\n",
    "b=1\n",
    "def intgrl(q7, N): \n",
    "    h= (b-a)/N\n",
    "    I=0\n",
    "    for i in range(0,N):\n",
    "        del_x=h*i+a\n",
    "        I=h*q7(del_x)\n",
    "    return I\n",
    "\n",
    "\"\"\"\n",
    "a\n",
    "\"\"\"\n",
    "accurate=intgrl(q7,100)\n",
    "intgrl_result=intgrl(q7, 100)\n",
    "print(\"Accurate is:\",accurate ,\"intgrl with N=100:\", (math.pi/2-intgrl_result)) \n",
    "\n",
    "\n",
    "\"\"\"\n",
    "b\n",
    "\"\"\"\n",
    "\n",
    "starttime = timeit.default_timer()\n",
    "b_accurate = intgrl(q7, 105000000)\n",
    "endtime = timeit.default_timer()\n",
    "\n",
    "print(\"Erorr: \", b_accurate, \"N: 105000000\", \"Result: \", (math.pi/2 - b_accurate))\n",
    "\n",
    "print(\"The time difference is :\", endtime - starttime)"
   ]
  },
  {
   "cell_type": "code",
   "execution_count": null,
   "id": "a09e9cec",
   "metadata": {},
   "outputs": [],
   "source": []
  }
 ],
 "metadata": {
  "kernelspec": {
   "display_name": "Python 3 (ipykernel)",
   "language": "python",
   "name": "python3"
  },
  "language_info": {
   "codemirror_mode": {
    "name": "ipython",
    "version": 3
   },
   "file_extension": ".py",
   "mimetype": "text/x-python",
   "name": "python",
   "nbconvert_exporter": "python",
   "pygments_lexer": "ipython3",
   "version": "3.9.12"
  }
 },
 "nbformat": 4,
 "nbformat_minor": 5
}
