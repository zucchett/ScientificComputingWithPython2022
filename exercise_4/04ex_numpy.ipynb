{
 "cells": [
  {
   "cell_type": "markdown",
   "metadata": {
    "collapsed": false,
    "pycharm": {
     "name": "#%% md\n"
    }
   },
   "source": [
    "import numpy as np"
   ]
  },
  {
   "cell_type": "code",
   "execution_count": 1,
   "metadata": {
    "collapsed": false,
    "pycharm": {
     "name": "#%%\n"
    }
   },
   "outputs": [],
   "source": [
    "import numpy as np\n",
    "import matplotlib.pyplot as plt\n",
    "import functools\n",
    "import math"
   ]
  },
  {
   "cell_type": "markdown",
   "metadata": {
    "pycharm": {
     "name": "#%% md\n"
    }
   },
   "source": [
    "1\\. **Reductions**\n",
    "\n",
    "Find the total mean, and the mean for each row and column of the following matrix:\n",
    "\n",
    "```python\n",
    "m = np.arange(12).reshape((3,4))\n",
    "```"
   ]
  },
  {
   "cell_type": "code",
   "execution_count": 2,
   "metadata": {
    "pycharm": {
     "name": "#%%\n"
    }
   },
   "outputs": [
    {
     "name": "stdout",
     "output_type": "stream",
     "text": [
      "[[ 0  1  2  3]\n",
      " [ 4  5  6  7]\n",
      " [ 8  9 10 11]]\n",
      "5.5\n",
      "[4. 5. 6. 7.]\n",
      "[1.5 5.5 9.5]\n"
     ]
    }
   ],
   "source": [
    "m = np.arange(12).reshape((3,4))\n",
    "print(m)\n",
    "print(np.mean(m))\n",
    "print(np.mean(m, axis=0))\n",
    "print(np.mean(m, axis=1))"
   ]
  },
  {
   "cell_type": "markdown",
   "metadata": {
    "pycharm": {
     "name": "#%% md\n"
    }
   },
   "source": [
    "2\\. **Outer product**\n",
    "\n",
    "Find the outer product of the following vectors:\n",
    "\n",
    "```python\n",
    "u = np.array([1, 3, 5, 7])\n",
    "v = np.array([2, 4, 6, 8])\n",
    "```\n",
    "\n",
    "Use different methods to do this:\n",
    "\n",
    "   1. Using the function `outer` in numpy\n",
    "   2. Using a nested `for` loop or a list comprehension\n",
    "   3. Using numpy broadcasting operations"
   ]
  },
  {
   "cell_type": "code",
   "execution_count": 3,
   "metadata": {
    "pycharm": {
     "name": "#%%\n"
    }
   },
   "outputs": [
    {
     "name": "stdout",
     "output_type": "stream",
     "text": [
      "[[ 2  4  6  8]\n",
      " [ 6 12 18 24]\n",
      " [10 20 30 40]\n",
      " [14 28 42 56]]\n",
      "[[ 2  4  6  8]\n",
      " [ 6 12 18 24]\n",
      " [10 20 30 40]\n",
      " [14 28 42 56]]\n",
      "[[ 2  4  6  8]\n",
      " [ 6 12 18 24]\n",
      " [10 20 30 40]\n",
      " [14 28 42 56]]\n",
      "[[ 2  4  6  8]\n",
      " [ 6 12 18 24]\n",
      " [10 20 30 40]\n",
      " [14 28 42 56]]\n"
     ]
    }
   ],
   "source": [
    "u = np.array([1, 3, 5, 7])\n",
    "v = np.array([2, 4, 6, 8])\n",
    "\n",
    "print(np.outer(u,v))\n",
    "\n",
    "print(np.array([u[i]*v[j] for i in range(len(u)) for j in range(len(v))]).reshape(len(u),len(v)))\n",
    "\n",
    "outer_product = np.empty((len(u), len(v)), dtype=int)\n",
    "for i in range(len(u)):\n",
    "    for j in range(len(v)):\n",
    "        outer_product[i, j] = u[i]*v[j]\n",
    "print(outer_product)\n",
    "\n",
    "print(u[:, np.newaxis] * v)\n"
   ]
  },
  {
   "cell_type": "markdown",
   "metadata": {
    "pycharm": {
     "name": "#%% md\n"
    }
   },
   "source": [
    "3\\. **Matrix masking**\n",
    "\n",
    "Create a 10 by 6 matrix of float random numbers, distributed between 0 and 3 according to a flat distribution.\n",
    "\n",
    "After creating the matrix, set all entries $< 0.3$ to zero using a mask."
   ]
  },
  {
   "cell_type": "code",
   "execution_count": 4,
   "metadata": {
    "pycharm": {
     "name": "#%%\n"
    }
   },
   "outputs": [
    {
     "name": "stdout",
     "output_type": "stream",
     "text": [
      "[[1.67859938 0.08986415 0.79109549 0.59191753 0.55583693 2.7211321 ]\n",
      " [1.05384668 1.69448837 2.02655731 2.78792573 0.88996467 1.13668987]\n",
      " [0.54812968 2.58923039 1.92833118 2.00635107 1.75264364 2.52924387]\n",
      " [1.88431817 2.33542749 1.40777529 0.69999086 1.03260778 0.7841027 ]\n",
      " [0.52522604 1.02653125 2.47088336 1.8008229  0.57984556 0.43939932]\n",
      " [1.54770312 0.22959277 1.2172818  1.07018406 1.08010064 0.35860853]\n",
      " [1.82974684 0.58381393 0.65996556 2.7035897  1.65951968 1.71121395]\n",
      " [1.47352387 0.72333243 2.87998658 0.86710487 2.69792844 2.74225823]\n",
      " [2.25599824 2.41260111 1.02870021 2.11065354 1.57134389 1.34934952]\n",
      " [1.98756612 1.97045838 2.64043273 1.5424909  1.84633128 1.93819584]]\n",
      "Masked n:\n",
      "[[1.67859938 0.         0.79109549 0.59191753 0.55583693 2.7211321 ]\n",
      " [1.05384668 1.69448837 2.02655731 2.78792573 0.88996467 1.13668987]\n",
      " [0.54812968 2.58923039 1.92833118 2.00635107 1.75264364 2.52924387]\n",
      " [1.88431817 2.33542749 1.40777529 0.69999086 1.03260778 0.7841027 ]\n",
      " [0.52522604 1.02653125 2.47088336 1.8008229  0.57984556 0.43939932]\n",
      " [1.54770312 0.         1.2172818  1.07018406 1.08010064 0.35860853]\n",
      " [1.82974684 0.58381393 0.65996556 2.7035897  1.65951968 1.71121395]\n",
      " [1.47352387 0.72333243 2.87998658 0.86710487 2.69792844 2.74225823]\n",
      " [2.25599824 2.41260111 1.02870021 2.11065354 1.57134389 1.34934952]\n",
      " [1.98756612 1.97045838 2.64043273 1.5424909  1.84633128 1.93819584]]\n"
     ]
    }
   ],
   "source": [
    "\n",
    "import numpy.random as npr\n",
    "n = npr.rand(10, 6)*(3)\n",
    "print(n)\n",
    "print('Masked n:')\n",
    "n[n < 0.3] = 0\n",
    "print(n)\n"
   ]
  },
  {
   "cell_type": "markdown",
   "metadata": {
    "pycharm": {
     "name": "#%% md\n"
    }
   },
   "source": [
    "4\\. **Trigonometric functions**\n",
    "\n",
    "Use `np.linspace` to create an array of 100 numbers between $0$ and $2\\pi$ (inclusive).\n",
    "\n",
    "  * Extract every 10th element using the slice notation\n",
    "  * Reverse the array using the slice notation\n",
    "  * Extract elements where the absolute difference between the `sin` and `cos` functions evaluated for that element is $< 0.1$\n",
    "  * **Optional**: make a plot showing the sin and cos functions and indicate where they are close"
   ]
  },
  {
   "cell_type": "code",
   "execution_count": 5,
   "metadata": {
    "pycharm": {
     "name": "#%%\n"
    }
   },
   "outputs": [
    {
     "name": "stdout",
     "output_type": "stream",
     "text": [
      "Created array: \n",
      "  [0.         0.06346652 0.12693304 0.19039955 0.25386607 0.31733259\n",
      " 0.38079911 0.44426563 0.50773215 0.57119866 0.63466518 0.6981317\n",
      " 0.76159822 0.82506474 0.88853126 0.95199777 1.01546429 1.07893081\n",
      " 1.14239733 1.20586385 1.26933037 1.33279688 1.3962634  1.45972992\n",
      " 1.52319644 1.58666296 1.65012947 1.71359599 1.77706251 1.84052903\n",
      " 1.90399555 1.96746207 2.03092858 2.0943951  2.15786162 2.22132814\n",
      " 2.28479466 2.34826118 2.41172769 2.47519421 2.53866073 2.60212725\n",
      " 2.66559377 2.72906028 2.7925268  2.85599332 2.91945984 2.98292636\n",
      " 3.04639288 3.10985939 3.17332591 3.23679243 3.30025895 3.36372547\n",
      " 3.42719199 3.4906585  3.55412502 3.61759154 3.68105806 3.74452458\n",
      " 3.8079911  3.87145761 3.93492413 3.99839065 4.06185717 4.12532369\n",
      " 4.1887902  4.25225672 4.31572324 4.37918976 4.44265628 4.5061228\n",
      " 4.56958931 4.63305583 4.69652235 4.75998887 4.82345539 4.88692191\n",
      " 4.95038842 5.01385494 5.07732146 5.14078798 5.2042545  5.26772102\n",
      " 5.33118753 5.39465405 5.45812057 5.52158709 5.58505361 5.64852012\n",
      " 5.71198664 5.77545316 5.83891968 5.9023862  5.96585272 6.02931923\n",
      " 6.09278575 6.15625227 6.21971879 6.28318531]\n",
      "Sliced array: \n",
      "  [0.57119866 1.20586385 1.84052903 2.47519421 3.10985939 3.74452458\n",
      " 4.37918976 5.01385494 5.64852012 6.28318531]\n",
      "Reversed array: \n",
      "  [6.28318531 5.64852012 5.01385494 4.37918976 3.74452458 3.10985939\n",
      " 2.47519421 1.84052903 1.20586385 0.57119866]\n",
      "Sincos array: \n",
      "  [0.7615982190520711, 0.8250647373064104, 3.8714576135146945, 3.934924131769034]\n"
     ]
    },
    {
     "data": {
      "image/png": "[encoded data removed]",
      "text/plain": [
       "<Figure size 432x288 with 1 Axes>"
      ]
     },
     "metadata": {
      "needs_background": "light"
     },
     "output_type": "display_data"
    }
   ],
   "source": [
    "import math\n",
    "import matplotlib.pyplot as plt\n",
    "\n",
    "new_m = np.linspace(0, 2*math.pi, 100)\n",
    "print(\"Created array: \\n \",new_m)\n",
    "sliced_m = new_m[9::10]\n",
    "print(\"Sliced array: \\n \",sliced_m)\n",
    "reversed_m = sliced_m[::-1]\n",
    "print(\"Reversed array: \\n \",reversed_m)\n",
    "\n",
    "sincos_m = []\n",
    "for i in range(len(new_m)):\n",
    "    if abs((np.sin(new_m[i]) - np.cos(new_m[i]))) < 0.1:\n",
    "        sincos_m.append(new_m[i])\n",
    "print(\"Sincos array: \\n \",sincos_m)\n",
    "\n",
    "y = np.sin(new_m)\n",
    "z = np.cos(new_m)\n",
    "h = np.sin(sincos_m)\n",
    "plt.plot(new_m,y,new_m,z)\n",
    "plt.scatter(sincos_m,h, color='orange', s=40, marker='o')\n",
    "plt.show()"
   ]
  },
  {
   "cell_type": "markdown",
   "metadata": {
    "pycharm": {
     "name": "#%% md\n"
    }
   },
   "source": [
    "5\\. **Matrices**\n",
    "\n",
    "Create a matrix that shows the 10 by 10 multiplication table.\n",
    "\n",
    " * Find the trace of the matrix\n",
    " * Extract the anti-diagonal matrix (this should be ```array([10, 18, 24, 28, 30, 30, 28, 24, 18, 10])```)\n",
    " * Extract the diagonal offset by 1 upwards (this should be ```array([ 2,  6, 12, 20, 30, 42, 56, 72, 90])```)"
   ]
  },
  {
   "cell_type": "code",
   "execution_count": 6,
   "metadata": {
    "pycharm": {
     "name": "#%%\n"
    }
   },
   "outputs": [
    {
     "name": "stdout",
     "output_type": "stream",
     "text": [
      "[[  1   2   3   4   5   6   7   8   9  10]\n",
      " [  2   4   6   8  10  12  14  16  18  20]\n",
      " [  3   6   9  12  15  18  21  24  27  30]\n",
      " [  4   8  12  16  20  24  28  32  36  40]\n",
      " [  5  10  15  20  25  30  35  40  45  50]\n",
      " [  6  12  18  24  30  36  42  48  54  60]\n",
      " [  7  14  21  28  35  42  49  56  63  70]\n",
      " [  8  16  24  32  40  48  56  64  72  80]\n",
      " [  9  18  27  36  45  54  63  72  81  90]\n",
      " [ 10  20  30  40  50  60  70  80  90 100]]\n",
      "385\n",
      "[10 18 24 28 30 30 28 24 18 10]\n",
      "[ 2  6 12 20 30 42 56 72 90]\n"
     ]
    }
   ],
   "source": [
    "u1 = np.arange(1,11)\n",
    "v1 = np.arange(1,11)\n",
    "multiplication_table = np.outer(u1,v1)\n",
    "print(multiplication_table)\n",
    "print(multiplication_table.trace())\n",
    "print(np.fliplr(multiplication_table).diagonal())\n",
    "print(np.diag(multiplication_table, 1))"
   ]
  },
  {
   "cell_type": "markdown",
   "metadata": {
    "pycharm": {
     "name": "#%% md\n"
    }
   },
   "source": [
    "6\\. **Broadcasting**\n",
    "\n",
    "Use broadcasting to create a grid of distances.\n",
    "\n",
    "Route 66 crosses the following cities in the US: Chicago, Springfield, Saint-Louis, Tulsa, Oklahoma City, Amarillo, Santa Fe, Albuquerque, Flagstaff, Los Angeles.\n",
    "\n",
    "The corresponding positions in miles are: 0, 198, 303, 736, 871, 1175, 1475, 1544, 1913, 2448\n",
    "\n",
    "  * Build a 2D grid of distances among each city along Route 66\n",
    "  * Convert the distances in km"
   ]
  },
  {
   "cell_type": "code",
   "execution_count": 7,
   "metadata": {
    "pycharm": {
     "is_executing": true,
     "name": "#%%\n"
    }
   },
   "outputs": [
    {
     "name": "stdout",
     "output_type": "stream",
     "text": [
      "[[   0  198  303  736  871 1175 1475 1544 1913 2448]\n",
      " [ 198    0  105  538  673  977 1277 1346 1715 2250]\n",
      " [ 303  105    0  433  568  872 1172 1241 1610 2145]\n",
      " [ 736  538  433    0  135  439  739  808 1177 1712]\n",
      " [ 871  673  568  135    0  304  604  673 1042 1577]\n",
      " [1175  977  872  439  304    0  300  369  738 1273]\n",
      " [1475 1277 1172  739  604  300    0   69  438  973]\n",
      " [1544 1346 1241  808  673  369   69    0  369  904]\n",
      " [1913 1715 1610 1177 1042  738  438  369    0  535]\n",
      " [2448 2250 2145 1712 1577 1273  973  904  535    0]]\n",
      "[[   0.       318.66516  487.65426 1184.53312 1401.80482 1891.0685\n",
      "  2373.8945  2484.94448 3078.82046 3939.86016]\n",
      " [ 318.66516    0.       168.9891   865.86796 1083.13966 1572.40334\n",
      "  2055.22934 2166.27932 2760.1553  3621.195  ]\n",
      " [ 487.65426  168.9891     0.       696.87886  914.15056 1403.41424\n",
      "  1886.24024 1997.29022 2591.1662  3452.2059 ]\n",
      " [1184.53312  865.86796  696.87886    0.       217.2717   706.53538\n",
      "  1189.36138 1300.41136 1894.28734 2755.32704]\n",
      " [1401.80482 1083.13966  914.15056  217.2717     0.       489.26368\n",
      "   972.08968 1083.13966 1677.01564 2538.05534]\n",
      " [1891.0685  1572.40334 1403.41424  706.53538  489.26368    0.\n",
      "   482.826    593.87598 1187.75196 2048.79166]\n",
      " [2373.8945  2055.22934 1886.24024 1189.36138  972.08968  482.826\n",
      "     0.       111.04998  704.92596 1565.96566]\n",
      " [2484.94448 2166.27932 1997.29022 1300.41136 1083.13966  593.87598\n",
      "   111.04998    0.       593.87598 1454.91568]\n",
      " [3078.82046 2760.1553  2591.1662  1894.28734 1677.01564 1187.75196\n",
      "   704.92596  593.87598    0.       861.0397 ]\n",
      " [3939.86016 3621.195   3452.2059  2755.32704 2538.05534 2048.79166\n",
      "  1565.96566 1454.91568  861.0397     0.     ]]\n"
     ]
    }
   ],
   "source": [
    "\n",
    "mil = np.array([0, 198, 303, 736, 871, 1175, 1475, 1544, 1913, 2448])\n",
    "dist_mil = np.abs(mil - mil[:, np.newaxis])\n",
    "print(dist_mil)\n",
    "km = 1.60942\n",
    "dist_km = km * dist_mil\n",
    "print(dist_km)\n"
   ]
  },
  {
   "cell_type": "markdown",
   "metadata": {
    "pycharm": {
     "name": "#%% md\n"
    }
   },
   "source": [
    "7\\. **Prime numbers sieve**\n",
    "\n",
    "Compute the prime numbers in the 0-N (start with N=99) range with a sieve (mask).\n",
    "\n",
    "  * Constract a shape (N,) boolean array, which is the mask\n",
    "  * Identify the multiples of each number starting from 2 and set accordingly the corresponding mask element\n",
    "  * Apply the mask to obtain an array of ordered prime numbers\n",
    "  * Check the performances (with `timeit`); how does it scale with N?\n",
    "  * Implement the optimization suggested in the [sieve of Eratosthenes](https://en.wikipedia.org/wiki/Sieve_of_Eratosthenes)"
   ]
  },
  {
   "cell_type": "code",
   "execution_count": 13,
   "metadata": {
    "pycharm": {
     "name": "#%%\n"
    }
   },
   "outputs": [
    {
     "name": "stdout",
     "output_type": "stream",
     "text": [
      "[2, 3, 5, 7, 11, 13, 17, 19, 23, 29, 31, 37, 41, 43, 47, 53, 59, 61, 67, 71, 73, 79, 83, 89, 97]\n",
      "0.0008539000000382657\n"
     ]
    }
   ],
   "source": [
    "import timeit\n",
    "\n",
    "def nr_sieve(nr):                   \n",
    "    N = [True for i in range(nr+1)]\n",
    "    N[1] = False\n",
    "    primes = []\n",
    "    for i in range(2, math.ceil(pow(nr, 0.5))+1):\n",
    "        if N[i]:\n",
    "            for j in range(i*i, nr+1, i):\n",
    "                N[j] = False\n",
    "    for i in range(2, nr+1):\n",
    "        if N[i]:\n",
    "           primes.append(i)\n",
    "    return primes\n",
    "\n",
    "nr = 100\n",
    "print(nr_sieve(nr))\n",
    "print(timeit.timeit('nr_sieve(nr)', globals=globals(), number=99))"
   ]
  },
  {
   "cell_type": "markdown",
   "metadata": {
    "pycharm": {
     "name": "#%% md\n"
    }
   },
   "source": [
    "8\\. **Diffusion using random walk**\n",
    "\n",
    "Consider a simple random walk process: at each step in time, a walker jumps right or left (+1 or -1) with equal probability. The goal is to find the typical distance from the origin of many random walkers after a given amount of time.\n",
    "\n",
    "*Hint*: create a 2D array where each row represents a walker, and each column represents a time step.\n",
    "\n",
    "  * Take 1000 walkers and let them walk for 200 steps\n",
    "  * Use `randint` to create a 2D array of size $walkers \\times steps$ with values -1 or 1\n",
    "  * Calculate the walking distances for each walker (e.g. by summing the elements in each row)\n",
    "  * Take the square of the previously-obtained array (element-wise)\n",
    "  * Compute the mean of the squared distances at each step (i.e. the mean along the columns)\n",
    "  * **Optional**: plot the average distances ($\\sqrt(distance^2)$) as a function of time (step)"
   ]
  },
  {
   "cell_type": "code",
   "execution_count": 51,
   "metadata": {
    "pycharm": {
     "name": "#%%\n"
    }
   },
   "outputs": [
    {
     "name": "stdout",
     "output_type": "stream",
     "text": [
      "\n",
      " [-16  16  22   0 -14  -2 -18  16   2 -16  -8   6  -8  -8 -10 -20  16   4\n",
      "  -6 -20 -18 -16  -2   0  -4  10   8 -10  14  14 -14  24 -18 -10 -20  20\n",
      " -12   2   8  -2   4  10 -12 -22 -26  -4 -12  -6 -24   2 -12   8 -20   6\n",
      "  -4  -8   8   6   2 -10  -2 -20 -14 -12 -22 -18   2   0  -2 -12 -12   0\n",
      "   2   6  -4  -4 -16   2   2   0  -2  24   4   8   4 -12 -18  26  -4   8\n",
      "  10   2   2  22 -10   2  -6  -2   2   2 -14 -14 -12 -24   2   0   2  10\n",
      "  10  14   6   6  24  -4 -28 -14  24  -4  -8  24  -6   8 -10 -14  36  20\n",
      "  -8  -8   6 -22   8  12 -12  34  20   2 -22   4  12   2   8 -20  10 -10\n",
      "   6  16 -16  22 -16   4  16  12   4  26  18  -8 -20   4   6  12  -4  36\n",
      " -32 -14 -16 -12 -12  30   2 -14   6 -22 -10  -4 -16 -12  10   2  18   8\n",
      "   8  -2 -24  40   4  12   6  -4   8 -18  16 -22 -14 -24 -20 -12 -26   6\n",
      "  16 -10  10   4  12  24 -38  -4   8   0  16 -34  10  -2  12   4  -4  -6\n",
      " -22 -16  18 -22 -20 -16  18  24  12 -10 -24  -4  16   4   2   8  10   2\n",
      "  12  20  20  12   0   4  10   8 -12  -2  -6  -8   8   4  10  12  -6  18\n",
      "   8   6  10   4   4 -10 -10   8 -12 -12 -22  10   4 -14  10  10  -6  -4\n",
      " -38  -4  10   6  -2  24  12  10  14 -12  -8  -4   0  14 -10  -8   8 -10\n",
      "  28   8 -12  12 -32   0  10 -20   0  22  12   2  12   8   6  14   0   4\n",
      "   6 -28   2 -18   0   2   6 -12  -4 -10   8   0  -4   0 -16  10  12  18\n",
      "  14 -10  12  16 -20  18  14  12  -2  12   6  34 -14  -4 -10 -12   4   0\n",
      "  -2 -24  10   6   8 -14   8   2 -16  16 -24 -22   0 -12 -14  -2   2  -6\n",
      "  -4   8 -16 -26  10   6 -34 -24 -22  14  -4   2 -30   6 -18 -14 -14  16\n",
      " -26 -12  12   2  14   8 -16 -16  -4   2  38  10 -16  -2   4 -12   8 -14\n",
      "   4  10  10  -6  -2  12  -6  -8  10   0  16  -2 -16 -18 -34   6  -4 -24\n",
      "  -6  16 -26  36  12  -4  -6 -22   8 -12   6 -18  -4   4  -8 -18   0 -22\n",
      "  -6  -2   6  18   6   6  -2 -12   4 -10   8  18   4   0  -4   0  20  -6\n",
      "  -6 -10  -4  18  -6  26 -20   0  -6  20  18   4  20  14  10  -8 -18 -14\n",
      "  -8 -32   4   2   2  -4 -24 -26  -8  -2  -2  12   4   4   6   4   4   2\n",
      " -16  -6   2  10 -22  20  14   6   2   8   4  12  -2 -20  10  -8   4  18\n",
      "  16 -14 -12  20 -22  10  28  12  -2 -10 -26 -10 -14   4  28  -4 -10 -10\n",
      "   4   0  -4 -26  24  12 -16 -14  -4 -28   2 -22 -16  -4 -14  30  -4  18\n",
      " -10  14  -8 -14  14 -22   2  18  -6 -20 -26  -8 -34  -8  -6 -18   8  26\n",
      "  24 -10  -6   4 -14  -2  14   6 -10 -14  14   8 -10  26 -30  10 -10   2\n",
      "   0  -4   4  -4   8  -6 -20 -22 -20 -20  -8   4  -2   0   8 -24   8  20\n",
      "   2  26   2 -20   6   2  -2  -4   4  -6   6   0  30  28   8 -18   8  -4\n",
      "  18   2   4 -26  -4 -12   6  24 -34  -2 -16  16  22   6   8 -20 -10   8\n",
      "  -4  -6  -4   6  -4   8  22  14   0   6  16  -2  12  24 -22   4  20 -12\n",
      "   0   6   4   4  18  -6  -2  -4 -16  14  -8  -4  14  18 -12   2   8 -16\n",
      "  16  24 -12 -24 -18  30  12 -34 -34  -6   2  12  10 -14  18  10  -6  -2\n",
      "  12  32  -8  18  24  16  -2 -12 -18 -18  -6 -10   2   8  -4   0 -24  -4\n",
      "   6  -8  14  32 -12  24  -4  -8  24  14 -32  10   8 -28  16   4  -8 -22\n",
      "  18 -10 -16  14  -8 -18   6   2  10   6 -16  -8  -6   2   2 -12   2  -2\n",
      "  -8  12  -8   4   2  10  12   4   0  34   8  -8  -4   6  18 -20 -16  16\n",
      "   2  10 -26  10 -22 -28   0  16 -10  12 -20 -18   2   2 -18 -28  22   6\n",
      "  26   6  -8  -2  -2   4  10  12  -4  10  -8   8   2   2   8  -2   0   4\n",
      "  -2 -16 -12 -28  -2 -18 -18 -16 -22  -6   8  20  -8   6   6 -12  -8   6\n",
      "   2  24 -14 -14 -12  -4 -10 -14   2   6   4 -26  -4   8 -18  20   6   0\n",
      " -10  -4 -12   8  -4  18 -40 -10 -16  -6 -16   6  -6  28  -2  -4   4  24\n",
      " -18 -12   4 -10  16 -28  -4   6   6  12  -8  -4   8 -12   2 -14 -14   0\n",
      " -22  -8  -6  -4   0  -8 -14  -4  -4   4  -6   6  -2  10  -4 -10   0  14\n",
      "  22   4  -4   0  26  -2   8  -6   4   0  -2  -4  20  22   0  16  -8  12\n",
      " -10  30  -2  10  -6  -2  -8  16  18  -6  -6  10 -16  -4 -14  28   4 -16\n",
      "   4 -10  -6   0  16  16 -24   8  16  -6  10  -2  14 -30   6 -14  -4  16\n",
      "   2 -14 -12 -14  12  -2  22   0  -2   8 -14   0 -14   8 -14  -4   4 -12\n",
      "  10  20 -16   8 -14  24   0   4  24 -10  -4  10  -6   6  18 -16 -14  -8\n",
      "  10   2  -4   6 -26 -20  -2  22 -16  22  -2   6 -10  -4 -16  -2  24   2\n",
      " -10   6 -16 -16 -12   0  12 -12  -8  -8]\n",
      "\n",
      " [ 256  256  484    0  196    4  324  256    4  256   64   36   64   64\n",
      "  100  400  256   16   36  400  324  256    4    0   16  100   64  100\n",
      "  196  196  196  576  324  100  400  400  144    4   64    4   16  100\n",
      "  144  484  676   16  144   36  576    4  144   64  400   36   16   64\n",
      "   64   36    4  100    4  400  196  144  484  324    4    0    4  144\n",
      "  144    0    4   36   16   16  256    4    4    0    4  576   16   64\n",
      "   16  144  324  676   16   64  100    4    4  484  100    4   36    4\n",
      "    4    4  196  196  144  576    4    0    4  100  100  196   36   36\n",
      "  576   16  784  196  576   16   64  576   36   64  100  196 1296  400\n",
      "   64   64   36  484   64  144  144 1156  400    4  484   16  144    4\n",
      "   64  400  100  100   36  256  256  484  256   16  256  144   16  676\n",
      "  324   64  400   16   36  144   16 1296 1024  196  256  144  144  900\n",
      "    4  196   36  484  100   16  256  144  100    4  324   64   64    4\n",
      "  576 1600   16  144   36   16   64  324  256  484  196  576  400  144\n",
      "  676   36  256  100  100   16  144  576 1444   16   64    0  256 1156\n",
      "  100    4  144   16   16   36  484  256  324  484  400  256  324  576\n",
      "  144  100  576   16  256   16    4   64  100    4  144  400  400  144\n",
      "    0   16  100   64  144    4   36   64   64   16  100  144   36  324\n",
      "   64   36  100   16   16  100  100   64  144  144  484  100   16  196\n",
      "  100  100   36   16 1444   16  100   36    4  576  144  100  196  144\n",
      "   64   16    0  196  100   64   64  100  784   64  144  144 1024    0\n",
      "  100  400    0  484  144    4  144   64   36  196    0   16   36  784\n",
      "    4  324    0    4   36  144   16  100   64    0   16    0  256  100\n",
      "  144  324  196  100  144  256  400  324  196  144    4  144   36 1156\n",
      "  196   16  100  144   16    0    4  576  100   36   64  196   64    4\n",
      "  256  256  576  484    0  144  196    4    4   36   16   64  256  676\n",
      "  100   36 1156  576  484  196   16    4  900   36  324  196  196  256\n",
      "  676  144  144    4  196   64  256  256   16    4 1444  100  256    4\n",
      "   16  144   64  196   16  100  100   36    4  144   36   64  100    0\n",
      "  256    4  256  324 1156   36   16  576   36  256  676 1296  144   16\n",
      "   36  484   64  144   36  324   16   16   64  324    0  484   36    4\n",
      "   36  324   36   36    4  144   16  100   64  324   16    0   16    0\n",
      "  400   36   36  100   16  324   36  676  400    0   36  400  324   16\n",
      "  400  196  100   64  324  196   64 1024   16    4    4   16  576  676\n",
      "   64    4    4  144   16   16   36   16   16    4  256   36    4  100\n",
      "  484  400  196   36    4   64   16  144    4  400  100   64   16  324\n",
      "  256  196  144  400  484  100  784  144    4  100  676  100  196   16\n",
      "  784   16  100  100   16    0   16  676  576  144  256  196   16  784\n",
      "    4  484  256   16  196  900   16  324  100  196   64  196  196  484\n",
      "    4  324   36  400  676   64 1156   64   36  324   64  676  576  100\n",
      "   36   16  196    4  196   36  100  196  196   64  100  676  900  100\n",
      "  100    4    0   16   16   16   64   36  400  484  400  400   64   16\n",
      "    4    0   64  576   64  400    4  676    4  400   36    4    4   16\n",
      "   16   36   36    0  900  784   64  324   64   16  324    4   16  676\n",
      "   16  144   36  576 1156    4  256  256  484   36   64  400  100   64\n",
      "   16   36   16   36   16   64  484  196    0   36  256    4  144  576\n",
      "  484   16  400  144    0   36   16   16  324   36    4   16  256  196\n",
      "   64   16  196  324  144    4   64  256  256  576  144  576  324  900\n",
      "  144 1156 1156   36    4  144  100  196  324  100   36    4  144 1024\n",
      "   64  324  576  256    4  144  324  324   36  100    4   64   16    0\n",
      "  576   16   36   64  196 1024  144  576   16   64  576  196 1024  100\n",
      "   64  784  256   16   64  484  324  100  256  196   64  324   36    4\n",
      "  100   36  256   64   36    4    4  144    4    4   64  144   64   16\n",
      "    4  100  144   16    0 1156   64   64   16   36  324  400  256  256\n",
      "    4  100  676  100  484  784    0  256  100  144  400  324    4    4\n",
      "  324  784  484   36  676   36   64    4    4   16  100  144   16  100\n",
      "   64   64    4    4   64    4    0   16    4  256  144  784    4  324\n",
      "  324  256  484   36   64  400   64   36   36  144   64   36    4  576\n",
      "  196  196  144   16  100  196    4   36   16  676   16   64  324  400\n",
      "   36    0  100   16  144   64   16  324 1600  100  256   36  256   36\n",
      "   36  784    4   16   16  576  324  144   16  100  256  784   16   36\n",
      "   36  144   64   16   64  144    4  196  196    0  484   64   36   16\n",
      "    0   64  196   16   16   16   36   36    4  100   16  100    0  196\n",
      "  484   16   16    0  676    4   64   36   16    0    4   16  400  484\n",
      "    0  256   64  144  100  900    4  100   36    4   64  256  324   36\n",
      "   36  100  256   16  196  784   16  256   16  100   36    0  256  256\n",
      "  576   64  256   36  100    4  196  900   36  196   16  256    4  196\n",
      "  144  196  144    4  484    0    4   64  196    0  196   64  196   16\n",
      "   16  144  100  400  256   64  196  576    0   16  576  100   16  100\n",
      "   36   36  324  256  196   64  100    4   16   36  676  400    4  484\n",
      "  256  484    4   36  100   16  256    4  576    4  100   36  256  256\n",
      "  144    0  144  144   64   64]\n",
      "[256.0, 512.0, 996.0, 996.0, 1192.0, 1196.0, 1520.0, 1776.0, 1780.0, 2036.0, 2100.0, 2136.0, 2200.0, 2264.0, 2364.0, 2764.0, 3020.0, 3036.0, 3072.0, 3472.0, 3796.0, 4052.0, 4056.0, 4056.0, 4072.0, 4172.0, 4236.0, 4336.0, 4532.0, 4728.0, 4924.0, 5500.0, 5824.0, 5924.0, 6324.0, 6724.0, 6868.0, 6872.0, 6936.0, 6940.0, 6956.0, 7056.0, 7200.0, 7684.0, 8360.0, 8376.0, 8520.0, 8556.0, 9132.0, 9136.0, 9280.0, 9344.0, 9744.0, 9780.0, 9796.0, 9860.0, 9924.0, 9960.0, 9964.0, 10064.0, 10068.0, 10468.0, 10664.0, 10808.0, 11292.0, 11616.0, 11620.0, 11620.0, 11624.0, 11768.0, 11912.0, 11912.0, 11916.0, 11952.0, 11968.0, 11984.0, 12240.0, 12244.0, 12248.0, 12248.0, 12252.0, 12828.0, 12844.0, 12908.0, 12924.0, 13068.0, 13392.0, 14068.0, 14084.0, 14148.0, 14248.0, 14252.0, 14256.0, 14740.0, 14840.0, 14844.0, 14880.0, 14884.0, 14888.0, 14892.0, 15088.0, 15284.0, 15428.0, 16004.0, 16008.0, 16008.0, 16012.0, 16112.0, 16212.0, 16408.0, 16444.0, 16480.0, 17056.0, 17072.0, 17856.0, 18052.0, 18628.0, 18644.0, 18708.0, 19284.0, 19320.0, 19384.0, 19484.0, 19680.0, 20976.0, 21376.0, 21440.0, 21504.0, 21540.0, 22024.0, 22088.0, 22232.0, 22376.0, 23532.0, 23932.0, 23936.0, 24420.0, 24436.0, 24580.0, 24584.0, 24648.0, 25048.0, 25148.0, 25248.0, 25284.0, 25540.0, 25796.0, 26280.0, 26536.0, 26552.0, 26808.0, 26952.0, 26968.0, 27644.0, 27968.0, 28032.0, 28432.0, 28448.0, 28484.0, 28628.0, 28644.0, 29940.0, 30964.0, 31160.0, 31416.0, 31560.0, 31704.0, 32604.0, 32608.0, 32804.0, 32840.0, 33324.0, 33424.0, 33440.0, 33696.0, 33840.0, 33940.0, 33944.0, 34268.0, 34332.0, 34396.0, 34400.0, 34976.0, 36576.0, 36592.0, 36736.0, 36772.0, 36788.0, 36852.0, 37176.0, 37432.0, 37916.0, 38112.0, 38688.0, 39088.0, 39232.0, 39908.0, 39944.0, 40200.0, 40300.0, 40400.0, 40416.0, 40560.0, 41136.0, 42580.0, 42596.0, 42660.0, 42660.0, 42916.0, 44072.0, 44172.0, 44176.0, 44320.0, 44336.0, 44352.0, 44388.0, 44872.0, 45128.0, 45452.0, 45936.0, 46336.0, 46592.0, 46916.0, 47492.0, 47636.0, 47736.0, 48312.0, 48328.0, 48584.0, 48600.0, 48604.0, 48668.0, 48768.0, 48772.0, 48916.0, 49316.0, 49716.0, 49860.0, 49860.0, 49876.0, 49976.0, 50040.0, 50184.0, 50188.0, 50224.0, 50288.0, 50352.0, 50368.0, 50468.0, 50612.0, 50648.0, 50972.0, 51036.0, 51072.0, 51172.0, 51188.0, 51204.0, 51304.0, 51404.0, 51468.0, 51612.0, 51756.0, 52240.0, 52340.0, 52356.0, 52552.0, 52652.0, 52752.0, 52788.0, 52804.0, 54248.0, 54264.0, 54364.0, 54400.0, 54404.0, 54980.0, 55124.0, 55224.0, 55420.0, 55564.0, 55628.0, 55644.0, 55644.0, 55840.0, 55940.0, 56004.0, 56068.0, 56168.0, 56952.0, 57016.0, 57160.0, 57304.0, 58328.0, 58328.0, 58428.0, 58828.0, 58828.0, 59312.0, 59456.0, 59460.0, 59604.0, 59668.0, 59704.0, 59900.0, 59900.0, 59916.0, 59952.0, 60736.0, 60740.0, 61064.0, 61064.0, 61068.0, 61104.0, 61248.0, 61264.0, 61364.0, 61428.0, 61428.0, 61444.0, 61444.0, 61700.0, 61800.0, 61944.0, 62268.0, 62464.0, 62564.0, 62708.0, 62964.0, 63364.0, 63688.0, 63884.0, 64028.0, 64032.0, 64176.0, 64212.0, 65368.0, 65564.0, 65580.0, 65680.0, 65824.0, 65840.0, 65840.0, 65844.0, 66420.0, 66520.0, 66556.0, 66620.0, 66816.0, 66880.0, 66884.0, 67140.0, 67396.0, 67972.0, 68456.0, 68456.0, 68600.0, 68796.0, 68800.0, 68804.0, 68840.0, 68856.0, 68920.0, 69176.0, 69852.0, 69952.0, 69988.0, 71144.0, 71720.0, 72204.0, 72400.0, 72416.0, 72420.0, 73320.0, 73356.0, 73680.0, 73876.0, 74072.0, 74328.0, 75004.0, 75148.0, 75292.0, 75296.0, 75492.0, 75556.0, 75812.0, 76068.0, 76084.0, 76088.0, 77532.0, 77632.0, 77888.0, 77892.0, 77908.0, 78052.0, 78116.0, 78312.0, 78328.0, 78428.0, 78528.0, 78564.0, 78568.0, 78712.0, 78748.0, 78812.0, 78912.0, 78912.0, 79168.0, 79172.0, 79428.0, 79752.0, 80908.0, 80944.0, 80960.0, 81536.0, 81572.0, 81828.0, 82504.0, 83800.0, 83944.0, 83960.0, 83996.0, 84480.0, 84544.0, 84688.0, 84724.0, 85048.0, 85064.0, 85080.0, 85144.0, 85468.0, 85468.0, 85952.0, 85988.0, 85992.0, 86028.0, 86352.0, 86388.0, 86424.0, 86428.0, 86572.0, 86588.0, 86688.0, 86752.0, 87076.0, 87092.0, 87092.0, 87108.0, 87108.0, 87508.0, 87544.0, 87580.0, 87680.0, 87696.0, 88020.0, 88056.0, 88732.0, 89132.0, 89132.0, 89168.0, 89568.0, 89892.0, 89908.0, 90308.0, 90504.0, 90604.0, 90668.0, 90992.0, 91188.0, 91252.0, 92276.0, 92292.0, 92296.0, 92300.0, 92316.0, 92892.0, 93568.0, 93632.0, 93636.0, 93640.0, 93784.0, 93800.0, 93816.0, 93852.0, 93868.0, 93884.0, 93888.0, 94144.0, 94180.0, 94184.0, 94284.0, 94768.0, 95168.0, 95364.0, 95400.0, 95404.0, 95468.0, 95484.0, 95628.0, 95632.0, 96032.0, 96132.0, 96196.0, 96212.0, 96536.0, 96792.0, 96988.0, 97132.0, 97532.0, 98016.0, 98116.0, 98900.0, 99044.0, 99048.0, 99148.0, 99824.0, 99924.0, 100120.0, 100136.0, 100920.0, 100936.0, 101036.0, 101136.0, 101152.0, 101152.0, 101168.0, 101844.0, 102420.0, 102564.0, 102820.0, 103016.0, 103032.0, 103816.0, 103820.0, 104304.0, 104560.0, 104576.0, 104772.0, 105672.0, 105688.0, 106012.0, 106112.0, 106308.0, 106372.0, 106568.0, 106764.0, 107248.0, 107252.0, 107576.0, 107612.0, 108012.0, 108688.0, 108752.0, 109908.0, 109972.0, 110008.0, 110332.0, 110396.0, 111072.0, 111648.0, 111748.0, 111784.0, 111800.0, 111996.0, 112000.0, 112196.0, 112232.0, 112332.0, 112528.0, 112724.0, 112788.0, 112888.0, 113564.0, 114464.0, 114564.0, 114664.0, 114668.0, 114668.0, 114684.0, 114700.0, 114716.0, 114780.0, 114816.0, 115216.0, 115700.0, 116100.0, 116500.0, 116564.0, 116580.0, 116584.0, 116584.0, 116648.0, 117224.0, 117288.0, 117688.0, 117692.0, 118368.0, 118372.0, 118772.0, 118808.0, 118812.0, 118816.0, 118832.0, 118848.0, 118884.0, 118920.0, 118920.0, 119820.0, 120604.0, 120668.0, 120992.0, 121056.0, 121072.0, 121396.0, 121400.0, 121416.0, 122092.0, 122108.0, 122252.0, 122288.0, 122864.0, 124020.0, 124024.0, 124280.0, 124536.0, 125020.0, 125056.0, 125120.0, 125520.0, 125620.0, 125684.0, 125700.0, 125736.0, 125752.0, 125788.0, 125804.0, 125868.0, 126352.0, 126548.0, 126548.0, 126584.0, 126840.0, 126844.0, 126988.0, 127564.0, 128048.0, 128064.0, 128464.0, 128608.0, 128608.0, 128644.0, 128660.0, 128676.0, 129000.0, 129036.0, 129040.0, 129056.0, 129312.0, 129508.0, 129572.0, 129588.0, 129784.0, 130108.0, 130252.0, 130256.0, 130320.0, 130576.0, 130832.0, 131408.0, 131552.0, 132128.0, 132452.0, 133352.0, 133496.0, 134652.0, 135808.0, 135844.0, 135848.0, 135992.0, 136092.0, 136288.0, 136612.0, 136712.0, 136748.0, 136752.0, 136896.0, 137920.0, 137984.0, 138308.0, 138884.0, 139140.0, 139144.0, 139288.0, 139612.0, 139936.0, 139972.0, 140072.0, 140076.0, 140140.0, 140156.0, 140156.0, 140732.0, 140748.0, 140784.0, 140848.0, 141044.0, 142068.0, 142212.0, 142788.0, 142804.0, 142868.0, 143444.0, 143640.0, 144664.0, 144764.0, 144828.0, 145612.0, 145868.0, 145884.0, 145948.0, 146432.0, 146756.0, 146856.0, 147112.0, 147308.0, 147372.0, 147696.0, 147732.0, 147736.0, 147836.0, 147872.0, 148128.0, 148192.0, 148228.0, 148232.0, 148236.0, 148380.0, 148384.0, 148388.0, 148452.0, 148596.0, 148660.0, 148676.0, 148680.0, 148780.0, 148924.0, 148940.0, 148940.0, 150096.0, 150160.0, 150224.0, 150240.0, 150276.0, 150600.0, 151000.0, 151256.0, 151512.0, 151516.0, 151616.0, 152292.0, 152392.0, 152876.0, 153660.0, 153660.0, 153916.0, 154016.0, 154160.0, 154560.0, 154884.0, 154888.0, 154892.0, 155216.0, 156000.0, 156484.0, 156520.0, 157196.0, 157232.0, 157296.0, 157300.0, 157304.0, 157320.0, 157420.0, 157564.0, 157580.0, 157680.0, 157744.0, 157808.0, 157812.0, 157816.0, 157880.0, 157884.0, 157884.0, 157900.0, 157904.0, 158160.0, 158304.0, 159088.0, 159092.0, 159416.0, 159740.0, 159996.0, 160480.0, 160516.0, 160580.0, 160980.0, 161044.0, 161080.0, 161116.0, 161260.0, 161324.0, 161360.0, 161364.0, 161940.0, 162136.0, 162332.0, 162476.0, 162492.0, 162592.0, 162788.0, 162792.0, 162828.0, 162844.0, 163520.0, 163536.0, 163600.0, 163924.0, 164324.0, 164360.0, 164360.0, 164460.0, 164476.0, 164620.0, 164684.0, 164700.0, 165024.0, 166624.0, 166724.0, 166980.0, 167016.0, 167272.0, 167308.0, 167344.0, 168128.0, 168132.0, 168148.0, 168164.0, 168740.0, 169064.0, 169208.0, 169224.0, 169324.0, 169580.0, 170364.0, 170380.0, 170416.0, 170452.0, 170596.0, 170660.0, 170676.0, 170740.0, 170884.0, 170888.0, 171084.0, 171280.0, 171280.0, 171764.0, 171828.0, 171864.0, 171880.0, 171880.0, 171944.0, 172140.0, 172156.0, 172172.0, 172188.0, 172224.0, 172260.0, 172264.0, 172364.0, 172380.0, 172480.0, 172480.0, 172676.0, 173160.0, 173176.0, 173192.0, 173192.0, 173868.0, 173872.0, 173936.0, 173972.0, 173988.0, 173988.0, 173992.0, 174008.0, 174408.0, 174892.0, 174892.0, 175148.0, 175212.0, 175356.0, 175456.0, 176356.0, 176360.0, 176460.0, 176496.0, 176500.0, 176564.0, 176820.0, 177144.0, 177180.0, 177216.0, 177316.0, 177572.0, 177588.0, 177784.0, 178568.0, 178584.0, 178840.0, 178856.0, 178956.0, 178992.0, 178992.0, 179248.0, 179504.0, 180080.0, 180144.0, 180400.0, 180436.0, 180536.0, 180540.0, 180736.0, 181636.0, 181672.0, 181868.0, 181884.0, 182140.0, 182144.0, 182340.0, 182484.0, 182680.0, 182824.0, 182828.0, 183312.0, 183312.0, 183316.0, 183380.0, 183576.0, 183576.0, 183772.0, 183836.0, 184032.0, 184048.0, 184064.0, 184208.0, 184308.0, 184708.0, 184964.0, 185028.0, 185224.0, 185800.0, 185800.0, 185816.0, 186392.0, 186492.0, 186508.0, 186608.0, 186644.0, 186680.0, 187004.0, 187260.0, 187456.0, 187520.0, 187620.0, 187624.0, 187640.0, 187676.0, 188352.0, 188752.0, 188756.0, 189240.0, 189496.0, 189980.0, 189984.0, 190020.0, 190120.0, 190136.0, 190392.0, 190396.0, 190972.0, 190976.0, 191076.0, 191112.0, 191368.0, 191624.0, 191768.0, 191768.0, 191912.0, 192056.0, 192120.0, 192184.0]\n"
     ]
    },
    {
     "data": {
      "image/png": "[encoded data removed]",
      "text/plain": [
       "<Figure size 432x288 with 1 Axes>"
      ]
     },
     "metadata": {},
     "output_type": "display_data"
    }
   ],
   "source": [
    "from pylab import *\n",
    "\n",
    "a = 2 * randint(0, 2, size=(1000, 200))-1\n",
    "print(a)\n",
    "walking_dist = a.sum(1)\n",
    "print(\"The walking distance for each walker: \\n\", a.sum(1))\n",
    "walking_dist_sqr = np.square(walking_dist)\n",
    "print(\"The sqaure of the walking distance array: \\n\", walking_dist_sqr)\n",
    "mean_dist_sqr = []\n",
    "mean = 0\n",
    "for i in walking_dist_sqr:\n",
    "    mean += i\n",
    "    mean_dist_sqr.append(np.mean(mean))\n",
    "print(mean_dist_sqr)\n",
    "distances = np.sqrt(walking_dist_sqr)\n",
    "m = np.arange(0, len(distances))\n",
    "plt.plot(m, distances)\n",
    "plt.show()"
   ]
  }
 ],
 "metadata": {
  "kernelspec": {
   "display_name": "Python 3.9.12 ('base')",
   "language": "python",
   "name": "python3"
  },
  "language_info": {
   "codemirror_mode": {
    "name": "ipython",
    "version": 3
   },
   "file_extension": ".py",
   "mimetype": "text/x-python",
   "name": "python",
   "nbconvert_exporter": "python",
   "pygments_lexer": "ipython3",
   "version": "3.9.12"
  },
  "vscode": {
   "interpreter": {
    "hash": "ffccf19f5bea3c345c854d505af45eafe6890432f50bcc58a653a75b25e4385b"
   }
  }
 },
 "nbformat": 4,
 "nbformat_minor": 2
}
