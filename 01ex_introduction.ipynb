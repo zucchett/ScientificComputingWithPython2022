{
 "cells": [
  {
   "cell_type": "markdown",
   "id": "e93944c1",
   "metadata": {},
   "source": [
    "# 01ex_introduction"
   ]
  },
  {
   "cell_type": "code",
   "execution_count": 5,
   "id": "4a3823b1",
   "metadata": {},
   "outputs": [
    {
     "name": "stdout",
     "output_type": "stream",
     "text": [
      "1\n",
      "2\n",
      "Hello\n",
      "4\n",
      "World\n",
      "Hello\n",
      "7\n",
      "8\n",
      "Hello\n",
      "World\n",
      "11\n",
      "Hello\n",
      "13\n",
      "14\n",
      "HelloWorld\n",
      "16\n",
      "17\n",
      "Hello\n",
      "19\n",
      "World\n",
      "Hello\n",
      "22\n",
      "23\n",
      "Hello\n",
      "World\n",
      "26\n",
      "Hello\n",
      "28\n",
      "29\n",
      "HelloWorld\n",
      "31\n",
      "32\n",
      "Hello\n",
      "34\n",
      "World\n",
      "Hello\n",
      "37\n",
      "38\n",
      "Hello\n",
      "World\n",
      "41\n",
      "Hello\n",
      "43\n",
      "44\n",
      "HelloWorld\n",
      "46\n",
      "47\n",
      "Hello\n",
      "49\n",
      "World\n",
      "Hello\n",
      "52\n",
      "53\n",
      "Hello\n",
      "World\n",
      "56\n",
      "Hello\n",
      "58\n",
      "59\n",
      "HelloWorld\n",
      "61\n",
      "62\n",
      "Hello\n",
      "64\n",
      "World\n",
      "Hello\n",
      "67\n",
      "68\n",
      "Hello\n",
      "World\n",
      "71\n",
      "Hello\n",
      "73\n",
      "74\n",
      "HelloWorld\n",
      "76\n",
      "77\n",
      "Hello\n",
      "79\n",
      "World\n",
      "Hello\n",
      "82\n",
      "83\n",
      "Hello\n",
      "World\n",
      "86\n",
      "Hello\n",
      "88\n",
      "89\n",
      "HelloWorld\n",
      "91\n",
      "92\n",
      "Hello\n",
      "94\n",
      "World\n",
      "Hello\n",
      "97\n",
      "98\n",
      "Hello\n",
      "World\n",
      "1\n",
      "2\n",
      "python\n",
      "4\n",
      "Works\n",
      "python\n",
      "7\n",
      "8\n",
      "python\n",
      "Works\n",
      "11\n",
      "python\n",
      "13\n",
      "14\n",
      "HelloWorld\n",
      "16\n",
      "17\n",
      "python\n",
      "19\n",
      "Works\n",
      "python\n",
      "22\n",
      "23\n",
      "python\n",
      "Works\n",
      "26\n",
      "python\n",
      "28\n",
      "29\n",
      "HelloWorld\n",
      "31\n",
      "32\n",
      "python\n",
      "34\n",
      "Works\n",
      "python\n",
      "37\n",
      "38\n",
      "python\n",
      "Works\n",
      "41\n",
      "python\n",
      "43\n",
      "44\n",
      "HelloWorld\n",
      "46\n",
      "47\n",
      "python\n",
      "49\n",
      "Works\n",
      "python\n",
      "52\n",
      "53\n",
      "python\n",
      "Works\n",
      "56\n",
      "python\n",
      "58\n",
      "59\n",
      "HelloWorld\n",
      "61\n",
      "62\n",
      "python\n",
      "64\n",
      "Works\n",
      "python\n",
      "67\n",
      "68\n",
      "python\n",
      "Works\n",
      "71\n",
      "python\n",
      "73\n",
      "74\n",
      "HelloWorld\n",
      "76\n",
      "77\n",
      "python\n",
      "79\n",
      "Works\n",
      "python\n",
      "82\n",
      "83\n",
      "python\n",
      "Works\n",
      "86\n",
      "python\n",
      "88\n",
      "89\n",
      "HelloWorld\n",
      "91\n",
      "92\n",
      "python\n",
      "94\n",
      "Works\n",
      "python\n",
      "97\n",
      "98\n",
      "python\n",
      "Works\n"
     ]
    }
   ],
   "source": [
    "'''\n",
    "1. The HelloWorld replacement\n",
    "a) Write a program that:\n",
    "prints the numbers from 1 to 100\n",
    "but for multiples of three print \"Hello\" instead of the number and for the multiples of five print \"World\"\n",
    "for numbers which are multiples of both three and five print \"HelloWorld\".\n",
    "b) Put the result in a tuple and substitute \"Hello\" with \"Python\" and \"World\" with \"Works\".\n",
    "'''\n",
    "\n",
    "\n",
    "a = []\n",
    "for number in range(1, 101):\n",
    "    if number % 3 == 0 and number % 5 == 0:\n",
    "        print(\"HelloWorld\")\n",
    "        a.append(\"HelloWorld\")\n",
    "    elif number % 3 == 0:\n",
    "        print(\"Hello\")\n",
    "        a.append(\"Hello\")\n",
    "    elif number % 5 == 0:\n",
    "        print(\"World\")\n",
    "        a.append(\"World\")\n",
    "    else:\n",
    "        print(number)\n",
    "        a.append(number)\n",
    "\n",
    "for item in range(len(a)):\n",
    "    if a[item] == 'Hello':\n",
    "        a[item] = \"python\"\n",
    "    elif a[item] == 'World':\n",
    "        a[item] = \"Works\"\n",
    "\n",
    "b = tuple(a)\n",
    "for i in range(len(b)):\n",
    "    print(b[i])"
   ]
  },
  {
   "cell_type": "code",
   "execution_count": 6,
   "id": "e58155e3",
   "metadata": {},
   "outputs": [
    {
     "name": "stdout",
     "output_type": "stream",
     "text": [
      "('shahbazi', 'mahsa')\n"
     ]
    }
   ],
   "source": [
    "'''\n",
    "2. The swap\n",
    "Write a program that swaps the values of two input variables x and y from command line (whatever the type).\n",
    "Try to do that without using a temporary variable, exploiting the Python syntax.\n",
    "'''\n",
    "\n",
    "def swap_func(x, y):\n",
    "    x, y = y, x\n",
    "    return x, y\n",
    "\n",
    "print(swap_func(\"mahsa\", \"shahbazi\"))\n"
   ]
  },
  {
   "cell_type": "code",
   "execution_count": 7,
   "id": "379bff5b",
   "metadata": {},
   "outputs": [
    {
     "name": "stdout",
     "output_type": "stream",
     "text": [
      "distance between two points: 5.0\n"
     ]
    }
   ],
   "source": [
    "'''\n",
    "3. Computing the distance\n",
    "Write a function that calculates and returns the euclidean distance between two points u and v in a 2D space, where u and v are both 2-tuples (x,y).\n",
    "Example: if u=(3,0) and v=(0,4), the function should return 5.\n",
    "Hint: in order to compute the square root, import the math library with import math and use math.sqrt().\n",
    "'''\n",
    "\n",
    "import math\n",
    "\n",
    "def calculate_distance(d1, d2):\n",
    "    (x1, y1) = d1\n",
    "    (x2, y2) = d2\n",
    "    d = math.sqrt((x2 - x1) ** 2 + (y2 - y1) ** 2)\n",
    "    print(f\"distance between two points: {d}\")\n",
    "\n",
    "\n",
    "calculate_distance((3, 0), (0, 4))"
   ]
  },
  {
   "cell_type": "code",
   "execution_count": 8,
   "id": "e3860bae",
   "metadata": {},
   "outputs": [
    {
     "name": "stdout",
     "output_type": "stream",
     "text": [
      "{'w': 4, 'r': 19, 'i': 12, 't': 19, 'e': 20, ' ': 41, 'a': 7, 'p': 41, 'o': 8, 'g': 19, 'm': 15, 'h': 1, 'n': 19, 's': 7, 'u': 8, 'b': 41, 'f': 19, '1': 11, '0': 7, '.': 19, 'l': 41, 'd': 8, 'v': 19, 'c': 12}\n",
      "{'t': 2, 'h': 2, 'e': 3, ' ': 8, 'q': 1, 'u': 2, 'i': 1, 'c': 1, 'k': 1, 'b': 8, 'r': 1, 'o': 2, 'w': 4, 'n': 1, 'f': 1, 'x': 8, 'j': 1, 'm': 4, 'p': 1, 's': 8, 'v': 1, 'l': 2, 'a': 1, 'z': 1, 'y': 1, 'd': 8, 'g': 4}\n"
     ]
    }
   ],
   "source": [
    "'''\n",
    "4. Counting letters\n",
    "Write a program that calculates the number of times each character occurs in a given string. Ignore differences in capitalization.\n",
    "'''\n",
    "\n",
    "\n",
    "\n",
    "s1 = \"Write a program that prints the numbers from 1 to 100. \\\n",
    "But for multiples of three print Hello instead of the number and for the multiples of five print World. \\\n",
    "For numbers which are multiples of both three and five print HelloWorld.\"\n",
    "s2 = \"The quick brown fox jumps over the lazy dog\"\n",
    "\n",
    "def char_counter(string):\n",
    "    list_of_char = []\n",
    "    count_char = {}\n",
    "\n",
    "    string = string.lower()\n",
    "\n",
    "    for i in range(len(string)):\n",
    "        if string[i] not in list_of_char:\n",
    "            list_of_char.append(string[i])\n",
    "\n",
    "        elif string[i] in list_of_char:\n",
    "            pass\n",
    "\n",
    "    for i in range(len(list_of_char)):\n",
    "        count_char[list_of_char[i]] = string.count(string[i])\n",
    "\n",
    "    return count_char\n",
    "\n",
    "\n",
    "print(char_counter(s1))\n",
    "print(char_counter(s2))"
   ]
  },
  {
   "cell_type": "code",
   "execution_count": 9,
   "id": "ed36dfc1",
   "metadata": {},
   "outputs": [
    {
     "name": "stdout",
     "output_type": "stream",
     "text": [
      "Unique number count of the list: 54\n",
      "New list: [36, 45, 58, 3, 74, 96, 64, 31, 10, 24, 19, 33, 86, 99, 18, 63, 70, 85, 47, 56, 42, 84, 88, 55, 20, 54, 8, 51, 79, 81, 57, 37, 91, 1, 66, 9, 89, 50, 95, 90, 98, 39, 16, 82, 92, 41, 30, 34, 94, 5, 72, 87, 75, 53]\n"
     ]
    }
   ],
   "source": [
    "'''\n",
    "5. Isolating the unique\n",
    "Write a program that determines and counts the unique numbers in the list.\n",
    "'''\n",
    "\n",
    "L = [36, 45, 58, 3, 74, 96, 64, 45, 31, 10, 24, 19, 33, 86, 99, 18, 63, 70, 85, 85, 63, 47, 56, 42, 70, 84, 88, 55, 20,\n",
    "     54, 8, 56, 51, 79, 81, 57, 37, 91, 1, 84, 84, 36, 66, 9, 89, 50, 42, 91, 50, 95, 90, 98, 39, 16, 82, 31, 92, 41,\n",
    "     45, 30, 66, 70, 34, 85, 94, 5, 3, 36, 72, 91, 84, 34, 87, 75, 53, 51, 20, 89, 51, 20]\n",
    "\n",
    "\n",
    "def unique_isolator(arr):\n",
    "    tem = []\n",
    "    for item in arr:\n",
    "        if item not in tem:\n",
    "            tem.append(item)\n",
    "    return len(tem), tem\n",
    "\n",
    "\n",
    "print(\"Unique number count of the list: \" + str(unique_isolator(L)[0]))\n",
    "print(\"New list: \" + str(unique_isolator(L)[1]))"
   ]
  },
  {
   "cell_type": "code",
   "execution_count": 10,
   "id": "062a3ff1",
   "metadata": {},
   "outputs": [
    {
     "name": "stdout",
     "output_type": "stream",
     "text": [
      "enter first item: 4\n",
      "enter second item: 6\n",
      "10\n"
     ]
    }
   ],
   "source": [
    "'''\n",
    "6. Casting\n",
    "Write a program that:\n",
    "reads from command line two variables, that can be either int, float, or str.\n",
    "use the try/except expressions to perform the addition of these two variables, only if possible\n",
    "and print the result without making the code crash for all the int/float/str input combinations.\n",
    "'''\n",
    "\n",
    "a = input(\"enter first item: \")\n",
    "b = input(\"enter second item: \")\n",
    "\n",
    "try:\n",
    "    if a.isalpha() and b.isalpha() == 1:\n",
    "        z = str(a) + str(b)\n",
    "        print(z)\n",
    "    else:\n",
    "        if a.isnumeric() and b.isnumeric() == 1:\n",
    "            z = int(a) + int(b)\n",
    "            print(z)\n",
    "        else:\n",
    "            z = float(a) + float(b)\n",
    "            print(z)\n",
    "\n",
    "except:\n",
    "    z = \"impossible\"\n",
    "    print(z)"
   ]
  },
  {
   "cell_type": "code",
   "execution_count": 11,
   "id": "554e3d5f",
   "metadata": {},
   "outputs": [
    {
     "name": "stdout",
     "output_type": "stream",
     "text": [
      "[0, 1, 4, 9, 16, 25, 36, 49, 64, 81, 100]\n",
      "[0, 1, 4, 9, 16, 25, 36, 49, 64, 81, 100]\n"
     ]
    }
   ],
   "source": [
    "'''\n",
    "7. Cubes\n",
    "Create a list of the cubes of x for x in [0, 10] using:\n",
    "a) a for loop\n",
    "b) a list comprehension\n",
    "'''\n",
    "\n",
    "# a) for loop\n",
    "list_1 = []\n",
    "for i in range(0, 11):\n",
    "    list_1.append(i**2)\n",
    "print(list_1)\n",
    "\n",
    "# b) list comprehension\n",
    "list_2 = [i**2 for i in range(0, 11)]\n",
    "print(list_2)"
   ]
  },
  {
   "cell_type": "code",
   "execution_count": 12,
   "id": "420b5ab6",
   "metadata": {},
   "outputs": [
    {
     "name": "stdout",
     "output_type": "stream",
     "text": [
      "[(0, 0), (0, 1), (0, 2), (0, 3), (1, 0), (1, 1), (1, 2), (1, 3), (2, 0), (2, 1), (2, 2), (2, 3)]\n"
     ]
    }
   ],
   "source": [
    "'''\n",
    "8. List comprehension\n",
    "Write, using the list comprehension, a single-line expression that gets the same result as the code in the cell below.\n",
    "'''\n",
    "\n",
    "a = [(i, j) for i in range(3) for j in range(4)]\n",
    "print(a)"
   ]
  },
  {
   "cell_type": "code",
   "execution_count": 13,
   "id": "2a7e07db",
   "metadata": {},
   "outputs": [
    {
     "name": "stdout",
     "output_type": "stream",
     "text": [
      "[(3, 4, 5), (4, 3, 5), (5, 12, 13), (6, 8, 10), (7, 24, 25), (8, 6, 10), (8, 15, 17), (9, 12, 15), (9, 40, 41), (10, 24, 26), (11, 60, 61), (12, 5, 13), (12, 9, 15), (12, 16, 20), (12, 35, 37), (13, 84, 85), (14, 48, 50), (15, 8, 17), (15, 20, 25), (15, 36, 39), (16, 12, 20), (16, 30, 34), (16, 63, 65), (18, 24, 30), (18, 80, 82), (20, 15, 25), (20, 21, 29), (20, 48, 52), (21, 20, 29), (21, 28, 35), (21, 72, 75), (24, 7, 25), (24, 10, 26), (24, 18, 30), (24, 32, 40), (24, 45, 51), (24, 70, 74), (25, 60, 65), (27, 36, 45), (28, 21, 35), (28, 45, 53), (28, 96, 100), (30, 16, 34), (30, 40, 50), (30, 72, 78), (32, 24, 40), (32, 60, 68), (33, 44, 55), (33, 56, 65), (35, 12, 37), (35, 84, 91), (36, 15, 39), (36, 27, 45), (36, 48, 60), (36, 77, 85), (39, 52, 65), (39, 80, 89), (40, 9, 41), (40, 30, 50), (40, 42, 58), (40, 75, 85), (42, 40, 58), (42, 56, 70), (44, 33, 55), (45, 24, 51), (45, 28, 53), (45, 60, 75), (48, 14, 50), (48, 20, 52), (48, 36, 60), (48, 55, 73), (48, 64, 80), (51, 68, 85), (52, 39, 65), (54, 72, 90), (55, 48, 73), (56, 33, 65), (56, 42, 70), (57, 76, 95), (60, 11, 61), (60, 25, 65), (60, 32, 68), (60, 45, 75), (60, 63, 87), (60, 80, 100), (63, 16, 65), (63, 60, 87), (64, 48, 80), (65, 72, 97), (68, 51, 85), (70, 24, 74), (72, 21, 75), (72, 30, 78), (72, 54, 90), (72, 65, 97), (75, 40, 85), (76, 57, 95), (77, 36, 85), (80, 18, 82), (80, 39, 89), (80, 60, 100), (84, 13, 85), (84, 35, 91), (96, 28, 100)]\n"
     ]
    }
   ],
   "source": [
    "'''\n",
    "9. Nested list comprehension\n",
    "Find and put in a tuple all unique Pythagorean triples for\n",
    "the positive integers  𝑎 ,  𝑏  and  𝑐  with  𝑐<100 .\n",
    "'''\n",
    "\n",
    "nested_list = [(a, b, c) for a in range(1, 101)\n",
    "               for b in range(1, 101)\n",
    "               for c in range(1, 101)\n",
    "               if a ** 2 + b ** 2 == c ** 2]\n",
    "\n",
    "print(nested_list)"
   ]
  },
  {
   "cell_type": "code",
   "execution_count": 34,
   "id": "3bb14c69",
   "metadata": {},
   "outputs": [
    {
     "name": "stdout",
     "output_type": "stream",
     "text": [
      "insert the s:2\n",
      "insert the h:2\n",
      "insert the m:2\n",
      "The normalized vector is: \n",
      "[0.5773502691896258, 0.5773502691896258, 0.5773502691896258]\n"
     ]
    }
   ],
   "source": [
    "'''\n",
    "10. Normalization of a N-dimensional vector\n",
    "Write a program that takes an N-dimensional vector,\n",
    "e.g. a variable-length tuple of numbers, and normalizes it\n",
    "to one (in such a way that the squared sum of all the entries\n",
    "is equal to 1).\n",
    "'''\n",
    "\n",
    "vector_1 = float(input(\"insert the s:\"))\n",
    "vector_2= float(input(\"insert the h:\"))\n",
    "vector_3= float(input(\"insert the m:\"))\n",
    "vector=(vector_1,vector_2,vector_3)\n",
    "mylist1 , sum = [] , 0\n",
    "for i in vector:\n",
    "    sum = sum + i**2\n",
    "dist = sum**0.5\n",
    "print(f\"The normalized vector is: \\n{[i/dist for i in vector]}\")"
   ]
  },
  {
   "cell_type": "code",
   "execution_count": 35,
   "id": "37520534",
   "metadata": {},
   "outputs": [
    {
     "name": "stdout",
     "output_type": "stream",
     "text": [
      "[1, 1, 2, 3, 5, 8, 13, 21, 34, 55, 89, 144, 233, 377, 610, 987, 1597, 2584, 4181, 6765]\n"
     ]
    }
   ],
   "source": [
    "'''\n",
    "11. The Fibonacci sequence\n",
    "Calculate the first 20 numbers of the Fibonacci sequence using only for or while loops.\n",
    "'''\n",
    "\n",
    "N = 20\n",
    "fibonacciSeries = [1, 1]\n",
    "if N > 2:\n",
    "    for i in range(2, N):\n",
    "        nextElement = fibonacciSeries[i - 1] + fibonacciSeries[i - 2]\n",
    "        fibonacciSeries.append(nextElement)\n",
    "\n",
    "print(fibonacciSeries)\n"
   ]
  },
  {
   "cell_type": "code",
   "execution_count": null,
   "id": "0e10ce4f",
   "metadata": {},
   "outputs": [],
   "source": []
  }
 ],
 "metadata": {
  "kernelspec": {
   "display_name": "Python 3 (ipykernel)",
   "language": "python",
   "name": "python3"
  },
  "language_info": {
   "codemirror_mode": {
    "name": "ipython",
    "version": 3
   },
   "file_extension": ".py",
   "mimetype": "text/x-python",
   "name": "python",
   "nbconvert_exporter": "python",
   "pygments_lexer": "ipython3",
   "version": "3.9.12"
  }
 },
 "nbformat": 4,
 "nbformat_minor": 5
}
