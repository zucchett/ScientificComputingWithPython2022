{
 "cells": [
  {
   "cell_type": "code",
   "execution_count": 7,
   "id": "0b17cb6a",
   "metadata": {},
   "outputs": [
    {
     "name": "stdout",
     "output_type": "stream",
     "text": [
      "string 1 characters and occurences   Counter({' ': 41, 'e': 20, 'r': 19, 't': 19, 'o': 15, 'i': 12, 'l': 12, 'n': 10, 'h': 9, 'f': 9, 'p': 8, 'm': 8, 'a': 7, 's': 7, 'u': 7, 'd': 5, 'b': 4, 'W': 3, '.': 3, '1': 2, '0': 2, 'H': 2, 'v': 2, 'g': 1, 'B': 1, 'F': 1, 'w': 1, 'c': 1})\n",
      "string 2 characters and occurences   Counter({' ': 8, 'o': 4, 'e': 3, 'h': 2, 'u': 2, 'r': 2, 'T': 1, 'q': 1, 'i': 1, 'c': 1, 'k': 1, 'b': 1, 'w': 1, 'n': 1, 'f': 1, 'x': 1, 'j': 1, 'm': 1, 'p': 1, 's': 1, 'v': 1, 't': 1, 'l': 1, 'a': 1, 'z': 1, 'y': 1, 'd': 1, 'g': 1})\n"
     ]
    }
   ],
   "source": [
    "from collections import Counter\n",
    "s1 = \"Write a program that prints the numbers from 1 to 100. \\\n",
    "But for multiples of three print Hello instead of the number and for the multiples of five print World. \\\n",
    "For numbers which are multiples of both three and five print HelloWorld.\"\n",
    "s2 = \"The quick brown fox jumps over the lazy dog\"\n",
    "s1Count=Counter(s1)\n",
    "s2Count=Counter(s2)\n",
    "print(\"string 1 characters and occurences  \",s1Count)\n",
    "print(\"string 2 characters and occurences  \",s2Count)\n"
   ]
  },
  {
   "cell_type": "code",
   "execution_count": null,
   "id": "75a4895d",
   "metadata": {},
   "outputs": [],
   "source": []
  }
 ],
 "metadata": {
  "kernelspec": {
   "display_name": "Python 3 (ipykernel)",
   "language": "python",
   "name": "python3"
  },
  "language_info": {
   "codemirror_mode": {
    "name": "ipython",
    "version": 3
   },
   "file_extension": ".py",
   "mimetype": "text/x-python",
   "name": "python",
   "nbconvert_exporter": "python",
   "pygments_lexer": "ipython3",
   "version": "3.9.12"
  }
 },
 "nbformat": 4,
 "nbformat_minor": 5
}
