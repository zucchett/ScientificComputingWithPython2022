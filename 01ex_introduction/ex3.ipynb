{
 "cells": [
  {
   "cell_type": "code",
   "execution_count": 16,
   "id": "2a58d060",
   "metadata": {},
   "outputs": [
    {
     "name": "stdout",
     "output_type": "stream",
     "text": [
      "9\n",
      "5\n",
      "6\n",
      "7\n",
      "4.123105625617661\n"
     ]
    }
   ],
   "source": [
    "#from math import sqrt\n",
    "#pointA=(input(),input())\n",
    "#pointB=(input(),input())\n",
    "#d=distance(pointA,pointB)\n",
    "#def distance(u,v):\n",
    "#    return sqrt((u[0]-v[0])**2+(u[1]-v[1])**2)\n",
    "\n",
    "from math import sqrt # import square root from the math module\n",
    "# the x and y coordinates are the points on the Cartesian plane\n",
    "x1,x2,y1,y2=0,0,0,0\n",
    "x1=input()\n",
    "x1=int(x1)\n",
    "x2=input()\n",
    "x2=int(x2)\n",
    "y1=input()\n",
    "y1=int(y1)\n",
    "y2=input()\n",
    "y2=int(y2)\n",
    "pointA = (x1, y1) # first point\n",
    "pointB = (x2, y2) # second point\n",
    "def calc_distance(p1, p2): # simple function, I hope you are more comfortable\n",
    "  return sqrt((p1[0]-p2[0])**2+(p1[1]-p2[1])**2)\n",
    "distance = calc_distance(pointA, pointB) # here your beautiful result\n",
    "print(distance)\n"
   ]
  },
  {
   "cell_type": "code",
   "execution_count": null,
   "id": "f05b0f0b",
   "metadata": {},
   "outputs": [],
   "source": []
  }
 ],
 "metadata": {
  "kernelspec": {
   "display_name": "Python 3 (ipykernel)",
   "language": "python",
   "name": "python3"
  },
  "language_info": {
   "codemirror_mode": {
    "name": "ipython",
    "version": 3
   },
   "file_extension": ".py",
   "mimetype": "text/x-python",
   "name": "python",
   "nbconvert_exporter": "python",
   "pygments_lexer": "ipython3",
   "version": "3.9.12"
  }
 },
 "nbformat": 4,
 "nbformat_minor": 5
}
