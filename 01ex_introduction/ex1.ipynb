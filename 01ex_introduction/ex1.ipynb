{
 "cells": [
  {
   "cell_type": "code",
   "execution_count": 24,
   "id": "a823e231",
   "metadata": {},
   "outputs": [
    {
     "name": "stdout",
     "output_type": "stream",
     "text": [
      "(1, 2, 'hello', 4, 'world', 'hello', 7, 8, 'hello', 'world', 11, 'hello', 13, 14, 'helloworld', 16, 17, 'hello', 19, 'world', 'hello', 22, 23, 'hello', 'world', 26, 'hello', 28, 29, 'helloworld', 31, 32, 'hello', 34, 'world', 'hello', 37, 38, 'hello', 'world', 41, 'hello', 43, 44, 'helloworld', 46, 47, 'hello', 49, 'world', 'hello', 52, 53, 'hello', 'world', 56, 'hello', 58, 59, 'helloworld', 61, 62, 'hello', 64, 'world', 'hello', 67, 68, 'hello', 'world', 71, 'hello', 73, 74, 'helloworld', 76, 77, 'hello', 79, 'world', 'hello', 82, 83, 'hello', 'world', 86, 'hello', 88, 89, 'helloworld', 91, 92, 'hello', 94, 'world', 'hello', 97, 98, 'hello', 'world')\n",
      "<class 'tuple'>\n"
     ]
    }
   ],
   "source": [
    "l =list(range(1,101))\n",
    "for x in range(1,101):\n",
    "    if   x%3==0 and x%5==0 :\n",
    "            l[x-1]= \"helloworld\"  \n",
    "            #print(\"HelloWorld\")  \n",
    "    elif x%5==0:\n",
    "            l[x-1]= \"world\"\n",
    "           #print(\"world\")\n",
    "    elif x%3==0:\n",
    "            l[x-1]= \"hello\"\n",
    "           #print(\"hello\")\n",
    "    else :  l[x-1]=x\n",
    "           #print(x)\n",
    "t=tuple(l)            \n",
    "print(t)\n",
    "print(type(t))"
   ]
  },
  {
   "cell_type": "code",
   "execution_count": null,
   "id": "a622fcd6",
   "metadata": {},
   "outputs": [],
   "source": []
  },
  {
   "cell_type": "code",
   "execution_count": null,
   "id": "55d54c1e",
   "metadata": {},
   "outputs": [],
   "source": []
  }
 ],
 "metadata": {
  "kernelspec": {
   "display_name": "Python 3 (ipykernel)",
   "language": "python",
   "name": "python3"
  },
  "language_info": {
   "codemirror_mode": {
    "name": "ipython",
    "version": 3
   },
   "file_extension": ".py",
   "mimetype": "text/x-python",
   "name": "python",
   "nbconvert_exporter": "python",
   "pygments_lexer": "ipython3",
   "version": "3.9.12"
  }
 },
 "nbformat": 4,
 "nbformat_minor": 5
}
