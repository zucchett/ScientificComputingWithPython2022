{
 "cells": [
  {
   "cell_type": "markdown",
   "metadata": {},
   "source": [
    "1\\. **Reductions**\n",
    "\n",
    "Find the total mean, and the mean for each row and column of the following matrix:\n",
    "\n",
    "```python\n",
    "m = np.arange(12).reshape((3,4))\n",
    "```"
   ]
  },
  {
   "cell_type": "code",
   "execution_count": 18,
   "metadata": {},
   "outputs": [
    {
     "name": "stdout",
     "output_type": "stream",
     "text": [
      "[[ 0  1  2  3]\n",
      " [ 4  5  6  7]\n",
      " [ 8  9 10 11]] \n",
      "\n",
      "5.5 \n",
      "\n",
      "mean per column : [4. 5. 6. 7.]\n",
      "mean per row : [1.5 5.5 9.5]\n"
     ]
    }
   ],
   "source": [
    "import numpy as np\n",
    "m = np.arange(12).reshape((3,4))\n",
    "print(m, '\\n')\n",
    "print(m.mean(),'\\n')\n",
    "print('mean per column :',m.mean(axis=0))  \n",
    "print('mean per row :',m.mean(axis=1)) "
   ]
  },
  {
   "cell_type": "markdown",
   "metadata": {},
   "source": [
    "2\\. **Outer product**\n",
    "\n",
    "Find the outer product of the following vectors:\n",
    "\n",
    "```python\n",
    "u = np.array([1, 3, 5, 7])\n",
    "v = np.array([2, 4, 6, 8])\n",
    "```\n",
    "\n",
    "Use different methods to do this:\n",
    "\n",
    "   1. Using the function `outer` in numpy\n",
    "   2. Using a nested `for` loop or a list comprehension\n",
    "   3. Using numpy broadcasting operations"
   ]
  },
  {
   "cell_type": "code",
   "execution_count": 12,
   "metadata": {},
   "outputs": [
    {
     "name": "stdout",
     "output_type": "stream",
     "text": [
      "[[ 1  3  5  7]\n",
      " [ 3  9 15 21]\n",
      " [ 5 15 25 35]\n",
      " [ 7 21 35 49]] \n",
      "\n",
      "[[ 1  3  5  7]\n",
      " [ 3  9 15 21]\n",
      " [ 5 15 25 35]\n",
      " [ 7 21 35 49]] \n",
      "\n",
      "[[ 1  3  5  7]\n",
      " [ 3  9 15 21]\n",
      " [ 5 15 25 35]\n",
      " [ 7 21 35 49]] \n",
      "\n",
      "True\n",
      "True\n"
     ]
    }
   ],
   "source": [
    "u = np.array([1, 3, 5, 7])\n",
    "v = np.array([1, 3, 5, 7])\n",
    "# 1/\n",
    "w = np.outer(u,v)\n",
    "print(w, '\\n')\n",
    "\n",
    "# 2/\n",
    "x = np.array([i*j for i in u for j in v]).reshape(len(u),-1)\n",
    "print(x, '\\n')\n",
    "\n",
    "# 3/\n",
    "y = np.tile(v,(4,1))*u.reshape(4,-1)\n",
    "print(y, '\\n')\n",
    "\n",
    "print(np.array_equal(x,w))\n",
    "print(np.array_equal(y,w))"
   ]
  },
  {
   "cell_type": "markdown",
   "metadata": {},
   "source": [
    "3\\. **Matrix masking**\n",
    "\n",
    "Create a 10 by 6 matrix of float random numbers, distributed between 0 and 3 according to a flat distribution.\n",
    "\n",
    "After creating the matrix, set all entries $< 0.3$ to zero using a mask."
   ]
  },
  {
   "cell_type": "code",
   "execution_count": 17,
   "metadata": {},
   "outputs": [
    {
     "name": "stdout",
     "output_type": "stream",
     "text": [
      "[[2.31396193 0.06225585 1.9009447  2.24641165 1.49552104 0.67438994]\n",
      " [0.59418859 2.28159214 0.50733251 0.26501944 2.05607946 2.86018004]\n",
      " [0.0118448  1.53657679 2.43786288 1.8375782  2.16526595 0.8756282 ]\n",
      " [2.75332237 2.14372735 1.6276331  0.42651014 1.12002228 2.02240085]\n",
      " [1.32549952 1.30204198 1.85330094 1.53941473 1.95119155 1.80311686]\n",
      " [2.41566959 1.56494146 2.72594664 0.95770827 0.27137805 0.90210017]\n",
      " [0.34195309 2.48604398 0.14068896 1.87886144 1.64275847 2.45786099]\n",
      " [0.59684262 2.57055091 1.05495792 2.26394307 0.88788512 2.65180944]\n",
      " [0.97653491 0.49504769 1.17758773 0.28038112 2.46331697 0.45345606]\n",
      " [1.15234335 2.83278214 2.96287642 1.36891364 2.47836853 0.7541224 ]] \n",
      "\n",
      "filtered numbers : [0.06225585 0.26501944 0.0118448  0.27137805 0.14068896 0.28038112] \n",
      "\n",
      "filtered Matrix :\n",
      "\n",
      " [[2.31396193 0.         1.9009447  2.24641165 1.49552104 0.67438994]\n",
      " [0.59418859 2.28159214 0.50733251 0.         2.05607946 2.86018004]\n",
      " [0.         1.53657679 2.43786288 1.8375782  2.16526595 0.8756282 ]\n",
      " [2.75332237 2.14372735 1.6276331  0.42651014 1.12002228 2.02240085]\n",
      " [1.32549952 1.30204198 1.85330094 1.53941473 1.95119155 1.80311686]\n",
      " [2.41566959 1.56494146 2.72594664 0.95770827 0.         0.90210017]\n",
      " [0.34195309 2.48604398 0.         1.87886144 1.64275847 2.45786099]\n",
      " [0.59684262 2.57055091 1.05495792 2.26394307 0.88788512 2.65180944]\n",
      " [0.97653491 0.49504769 1.17758773 0.         2.46331697 0.45345606]\n",
      " [1.15234335 2.83278214 2.96287642 1.36891364 2.47836853 0.7541224 ]]\n"
     ]
    }
   ],
   "source": [
    "import numpy.random as npr\n",
    "npr.seed(10)\n",
    "M = npr.rand(10,6)*3\n",
    "mask = (M < 0.3)\n",
    "    \n",
    "print(M,'\\n')\n",
    "print(\"filtered numbers :\",M[mask],\"\\n\")\n",
    "M[mask] = 0\n",
    "print(\"filtered Matrix :\\n\\n\",M)"
   ]
  },
  {
   "cell_type": "markdown",
   "metadata": {},
   "source": [
    "4\\. **Trigonometric functions**\n",
    "\n",
    "Use `np.linspace` to create an array of 100 numbers between $0$ and $2\\pi$ (inclusive).\n",
    "\n",
    "  * Extract every 10th element using the slice notation\n",
    "  * Reverse the array using the slice notation\n",
    "  * Extract elements where the absolute difference between the `sin` and `cos` functions evaluated for that element is $< 0.1$\n",
    "  * **Optional**: make a plot showing the sin and cos functions and indicate where they are close"
   ]
  },
  {
   "cell_type": "code",
   "execution_count": 116,
   "metadata": {},
   "outputs": [
    {
     "name": "stdout",
     "output_type": "stream",
     "text": [
      "[0.         0.06346652 0.12693304 0.19039955 0.25386607 0.31733259\n",
      " 0.38079911 0.44426563 0.50773215 0.57119866 0.63466518 0.6981317\n",
      " 0.76159822 0.82506474 0.88853126 0.95199777 1.01546429 1.07893081\n",
      " 1.14239733 1.20586385 1.26933037 1.33279688 1.3962634  1.45972992\n",
      " 1.52319644 1.58666296 1.65012947 1.71359599 1.77706251 1.84052903\n",
      " 1.90399555 1.96746207 2.03092858 2.0943951  2.15786162 2.22132814\n",
      " 2.28479466 2.34826118 2.41172769 2.47519421 2.53866073 2.60212725\n",
      " 2.66559377 2.72906028 2.7925268  2.85599332 2.91945984 2.98292636\n",
      " 3.04639288 3.10985939 3.17332591 3.23679243 3.30025895 3.36372547\n",
      " 3.42719199 3.4906585  3.55412502 3.61759154 3.68105806 3.74452458\n",
      " 3.8079911  3.87145761 3.93492413 3.99839065 4.06185717 4.12532369\n",
      " 4.1887902  4.25225672 4.31572324 4.37918976 4.44265628 4.5061228\n",
      " 4.56958931 4.63305583 4.69652235 4.75998887 4.82345539 4.88692191\n",
      " 4.95038842 5.01385494 5.07732146 5.14078798 5.2042545  5.26772102\n",
      " 5.33118753 5.39465405 5.45812057 5.52158709 5.58505361 5.64852012\n",
      " 5.71198664 5.77545316 5.83891968 5.9023862  5.96585272 6.02931923\n",
      " 6.09278575 6.15625227 6.21971879 6.28318531] \n",
      "\n",
      "[0.57119866 1.20586385 1.84052903 2.47519421 3.10985939 3.74452458\n",
      " 4.37918976 5.01385494 5.64852012 6.28318531] \n",
      "\n",
      "[6.28318531 6.21971879 6.15625227 6.09278575 6.02931923 5.96585272\n",
      " 5.9023862  5.83891968 5.77545316 5.71198664 5.64852012 5.58505361\n",
      " 5.52158709 5.45812057 5.39465405 5.33118753 5.26772102 5.2042545\n",
      " 5.14078798 5.07732146 5.01385494 4.95038842 4.88692191 4.82345539\n",
      " 4.75998887 4.69652235 4.63305583 4.56958931 4.5061228  4.44265628\n",
      " 4.37918976 4.31572324 4.25225672 4.1887902  4.12532369 4.06185717\n",
      " 3.99839065 3.93492413 3.87145761 3.8079911  3.74452458 3.68105806\n",
      " 3.61759154 3.55412502 3.4906585  3.42719199 3.36372547 3.30025895\n",
      " 3.23679243 3.17332591 3.10985939 3.04639288 2.98292636 2.91945984\n",
      " 2.85599332 2.7925268  2.72906028 2.66559377 2.60212725 2.53866073\n",
      " 2.47519421 2.41172769 2.34826118 2.28479466 2.22132814 2.15786162\n",
      " 2.0943951  2.03092858 1.96746207 1.90399555 1.84052903 1.77706251\n",
      " 1.71359599 1.65012947 1.58666296 1.52319644 1.45972992 1.3962634\n",
      " 1.33279688 1.26933037 1.20586385 1.14239733 1.07893081 1.01546429\n",
      " 0.95199777 0.88853126 0.82506474 0.76159822 0.6981317  0.63466518\n",
      " 0.57119866 0.50773215 0.44426563 0.38079911 0.31733259 0.25386607\n",
      " 0.19039955 0.12693304 0.06346652 0.        ] \n",
      "\n",
      "extracted elements from x : [0.7615982190520711, 0.8250647373064104, 3.8714576135146945, 3.934924131769034]\n"
     ]
    }
   ],
   "source": [
    "import math \n",
    "x = np.linspace(0,2*math.pi,100)\n",
    "print(x,\"\\n\")\n",
    "x1 = x[9::10] # 10th elements of x\n",
    "print(x1,\"\\n\")\n",
    "x2 = x[::-1] # reverse\n",
    "print(x2,\"\\n\")\n",
    "\n",
    "mask = list(filter(lambda y: abs(math.sin(y) - math.cos(y)) < 0.1, x)) # Extraction\n",
    "print('extracted elements from x :',mask)\n",
    "\n"
   ]
  },
  {
   "cell_type": "markdown",
   "metadata": {},
   "source": [
    "5\\. **Matrices**\n",
    "\n",
    "Create a matrix that shows the 10 by 10 multiplication table.\n",
    "\n",
    " * Find the trace of the matrix\n",
    " * Extract the anti-diagonal matrix (this should be ```array([10, 18, 24, 28, 30, 30, 28, 24, 18, 10])```)\n",
    " * Extract the diagonal offset by 1 upwards (this should be ```array([ 2,  6, 12, 20, 30, 42, 56, 72, 90])```)"
   ]
  },
  {
   "cell_type": "code",
   "execution_count": 7,
   "metadata": {},
   "outputs": [
    {
     "name": "stdout",
     "output_type": "stream",
     "text": [
      "[[  1   2   3   4   5   6   7   8   9  10]\n",
      " [  2   4   6   8  10  12  14  16  18  20]\n",
      " [  3   6   9  12  15  18  21  24  27  30]\n",
      " [  4   8  12  16  20  24  28  32  36  40]\n",
      " [  5  10  15  20  25  30  35  40  45  50]\n",
      " [  6  12  18  24  30  36  42  48  54  60]\n",
      " [  7  14  21  28  35  42  49  56  63  70]\n",
      " [  8  16  24  32  40  48  56  64  72  80]\n",
      " [  9  18  27  36  45  54  63  72  81  90]\n",
      " [ 10  20  30  40  50  60  70  80  90 100]] \n",
      "\n",
      "the trace of the matrix : 385 \n",
      "\n",
      "the anti-diagonal matrix : [10 18 24 28 30 30 28 24 18 10] \n",
      "\n",
      "the diagonal offset by 1 upwards : [ 2  6 12 20 30 42 56 72 90] \n",
      "\n"
     ]
    }
   ],
   "source": [
    "x = np.arange(1,11)\n",
    "x_10 = np.outer(x,x)\n",
    "print(x_10,\"\\n\")\n",
    "\n",
    "trace = np.trace(x_10)\n",
    "print(\"the trace of the matrix :\",trace,\"\\n\")\n",
    "\n",
    "x_anti_diagonal = np.fliplr(x_10).diagonal()\n",
    "print('the anti-diagonal matrix :',x_anti_diagonal,\"\\n\")\n",
    "\n",
    "x_diagonal_1up = x_10[1:,:9].diagonal()\n",
    "print('the diagonal offset by 1 upwards :',x_diagonal_1up,\"\\n\")"
   ]
  },
  {
   "cell_type": "markdown",
   "metadata": {},
   "source": [
    "6\\. **Broadcasting**\n",
    "\n",
    "Use broadcasting to create a grid of distances.\n",
    "\n",
    "Route 66 crosses the following cities in the US: Chicago, Springfield, Saint-Louis, Tulsa, Oklahoma City, Amarillo, Santa Fe, Albuquerque, Flagstaff, Los Angeles.\n",
    "\n",
    "The corresponding positions in miles are: 0, 198, 303, 736, 871, 1175, 1475, 1544, 1913, 2448\n",
    "\n",
    "  * Build a 2D grid of distances among each city along Route 66\n",
    "  * Convert the distances in km"
   ]
  },
  {
   "cell_type": "code",
   "execution_count": null,
   "metadata": {},
   "outputs": [],
   "source": []
  },
  {
   "cell_type": "markdown",
   "metadata": {},
   "source": [
    "7\\. **Prime numbers sieve**\n",
    "\n",
    "Compute the prime numbers in the 0-N (start with N=99) range with a sieve (mask).\n",
    "\n",
    "  * Constract a shape (N,) boolean array, which is the mask\n",
    "  * Identify the multiples of each number starting from 2 and set accordingly the corresponding mask element\n",
    "  * Apply the mask to obtain an array of ordered prime numbers\n",
    "  * Check the performances (with `timeit`); how does it scale with N?\n",
    "  * Implement the optimization suggested in the [sieve of Eratosthenes](https://en.wikipedia.org/wiki/Sieve_of_Eratosthenes)"
   ]
  },
  {
   "cell_type": "code",
   "execution_count": null,
   "metadata": {},
   "outputs": [],
   "source": []
  },
  {
   "cell_type": "markdown",
   "metadata": {},
   "source": [
    "8\\. **Diffusion using random walk**\n",
    "\n",
    "Consider a simple random walk process: at each step in time, a walker jumps right or left (+1 or -1) with equal probability. The goal is to find the typical distance from the origin of many random walkers after a given amount of time.\n",
    "\n",
    "*Hint*: create a 2D array where each row represents a walker, and each column represents a time step.\n",
    "\n",
    "  * Take 1000 walkers and let them walk for 200 steps\n",
    "  * Use `randint` to create a 2D array of size $walkers \\times steps$ with values -1 or 1\n",
    "  * Calculate the walking distances for each walker (e.g. by summing the elements in each row)\n",
    "  * Take the square of the previously-obtained array (element-wise)\n",
    "  * Compute the mean of the squared distances at each step (i.e. the mean along the columns)\n",
    "  * **Optional**: plot the average distances ($\\sqrt(distance^2)$) as a function of time (step)"
   ]
  },
  {
   "cell_type": "code",
   "execution_count": null,
   "metadata": {},
   "outputs": [],
   "source": []
  }
 ],
 "metadata": {
  "kernelspec": {
   "display_name": "Python 3 (ipykernel)",
   "language": "python",
   "name": "python3"
  },
  "language_info": {
   "codemirror_mode": {
    "name": "ipython",
    "version": 3
   },
   "file_extension": ".py",
   "mimetype": "text/x-python",
   "name": "python",
   "nbconvert_exporter": "python",
   "pygments_lexer": "ipython3",
   "version": "3.9.12"
  }
 },
 "nbformat": 4,
 "nbformat_minor": 2
}
