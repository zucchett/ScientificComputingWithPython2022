{
 "cells": [
  {
   "cell_type": "markdown",
   "id": "96160f6f",
   "metadata": {},
   "source": [
    "2\\. **The swap**\n",
    "\n",
    "Write a program that swaps the values of two input variables *x* and *y* from command line (whatever the type).\n",
    "\n",
    "Try to do that without using a temporary variable, exploiting the Python syntax."
   ]
  },
  {
   "cell_type": "code",
   "execution_count": 2,
   "id": "6c6da1e8",
   "metadata": {},
   "outputs": [
    {
     "name": "stdout",
     "output_type": "stream",
     "text": [
      "Set the value of x 5\n",
      "Set the value of y 6\n",
      "This is x after the swap 6\n",
      "This is y after the swap 5\n"
     ]
    }
   ],
   "source": [
    "x=input(\"Set the value of x \")\n",
    "y=input(\"Set the value of y \")\n",
    "x,y=y,x\n",
    "print(\"This is x after the swap\", x)\n",
    "print(\"This is y after the swap\", y)"
   ]
  }
 ],
 "metadata": {
  "kernelspec": {
   "display_name": "Python 3 (ipykernel)",
   "language": "python",
   "name": "python3"
  },
  "language_info": {
   "codemirror_mode": {
    "name": "ipython",
    "version": 3
   },
   "file_extension": ".py",
   "mimetype": "text/x-python",
   "name": "python",
   "nbconvert_exporter": "python",
   "pygments_lexer": "ipython3",
   "version": "3.9.12"
  }
 },
 "nbformat": 4,
 "nbformat_minor": 5
}
