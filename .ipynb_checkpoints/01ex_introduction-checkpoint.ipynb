{
 "cells": [
  {
   "cell_type": "markdown",
   "metadata": {},
   "source": [
    "You can solve these exercises in the room or at home. For this week, and the next 3 weeks, exercises have to be solved by creating a dedicated `.py` file (or files) called `01ex_introduction.py`.\n",
    "\n",
    "In case you need multiple files, name them `01ex_introduction_es01.py`, `01ex_introduction_es02.py` and so on. \n",
    "\n",
    "The exercises need to run without errors in `python3`."
   ]
  },
  {
   "cell_type": "markdown",
   "metadata": {},
   "source": [
    "1\\. **The HelloWorld replacement**\n",
    "\n",
    "a) Write a program that:\n",
    "- prints the numbers from 1 to 100\n",
    "- but for multiples of three print \"`Hello`\" instead of the number and for the multiples of five print \"`World`\"\n",
    "- for numbers which are multiples of both three and five print \"`HelloWorld`\".\n",
    "\n",
    "b) Put the result in a tuple and substitute \"`Hello`\" with \"`Python`\" and \"`World`\" with \"`Works`\"."
   ]
  },
  {
   "cell_type": "code",
   "execution_count": 95,
   "metadata": {},
   "outputs": [
    {
     "name": "stdout",
     "output_type": "stream",
     "text": [
      "1\n",
      "2\n",
      "Hello\n",
      "4\n",
      "World\n",
      "Hello\n",
      "7\n",
      "8\n",
      "Hello\n",
      "World\n",
      "11\n",
      "Hello\n",
      "13\n",
      "14\n",
      "HelloWorld\n",
      "16\n",
      "17\n",
      "Hello\n",
      "19\n",
      "World\n",
      "Hello\n",
      "22\n",
      "23\n",
      "Hello\n",
      "World\n",
      "26\n",
      "Hello\n",
      "28\n",
      "29\n",
      "HelloWorld\n",
      "31\n",
      "32\n",
      "Hello\n",
      "34\n",
      "World\n",
      "Hello\n",
      "37\n",
      "38\n",
      "Hello\n",
      "World\n",
      "41\n",
      "Hello\n",
      "43\n",
      "44\n",
      "HelloWorld\n",
      "46\n",
      "47\n",
      "Hello\n",
      "49\n",
      "World\n",
      "Hello\n",
      "52\n",
      "53\n",
      "Hello\n",
      "World\n",
      "56\n",
      "Hello\n",
      "58\n",
      "59\n",
      "HelloWorld\n",
      "61\n",
      "62\n",
      "Hello\n",
      "64\n",
      "World\n",
      "Hello\n",
      "67\n",
      "68\n",
      "Hello\n",
      "World\n",
      "71\n",
      "Hello\n",
      "73\n",
      "74\n",
      "HelloWorld\n",
      "76\n",
      "77\n",
      "Hello\n",
      "79\n",
      "World\n",
      "Hello\n",
      "82\n",
      "83\n",
      "Hello\n",
      "World\n",
      "86\n",
      "Hello\n",
      "88\n",
      "89\n",
      "HelloWorld\n",
      "91\n",
      "92\n",
      "Hello\n",
      "94\n",
      "World\n",
      "Hello\n",
      "97\n",
      "98\n",
      "Hello\n",
      "World\n"
     ]
    }
   ],
   "source": [
    "n = 1\n",
    "tuple_list = []\n",
    "while n < 101:\n",
    "    if n % 3 == 0 and n % 5 == 0:\n",
    "        print(\"HelloWorld\")\n",
    "        tuple_list.append(\"HelloWorld\")\n",
    "    elif n % 3 == 0:\n",
    "        print(\"Hello\")\n",
    "        tuple_list.append(\"Hello\")\n",
    "    elif n % 5 == 0:\n",
    "        print(\"World\")\n",
    "        tuple_list.append(\"World\")\n",
    "    else:\n",
    "        print(str(n))\n",
    "        tuple_list.append(str(n))\n",
    "    n += 1"
   ]
  },
  {
   "cell_type": "code",
   "execution_count": 96,
   "metadata": {},
   "outputs": [
    {
     "name": "stdout",
     "output_type": "stream",
     "text": [
      "('1', '2', 'Python', '4', 'Works', 'Python', '7', '8', 'Python', 'Works', '11', 'Python', '13', '14', 'PythonWorks', '16', '17', 'Python', '19', 'Works', 'Python', '22', '23', 'Python', 'Works', '26', 'Python', '28', '29', 'PythonWorks', '31', '32', 'Python', '34', 'Works', 'Python', '37', '38', 'Python', 'Works', '41', 'Python', '43', '44', 'PythonWorks', '46', '47', 'Python', '49', 'Works', 'Python', '52', '53', 'Python', 'Works', '56', 'Python', '58', '59', 'PythonWorks', '61', '62', 'Python', '64', 'Works', 'Python', '67', '68', 'Python', 'Works', '71', 'Python', '73', '74', 'PythonWorks', '76', '77', 'Python', '79', 'Works', 'Python', '82', '83', 'Python', 'Works', '86', 'Python', '88', '89', 'PythonWorks', '91', '92', 'Python', '94', 'Works', 'Python', '97', '98', 'Python', 'Works')\n"
     ]
    }
   ],
   "source": [
    "for index in range(0,len(tuple_list)):\n",
    "    if tuple_list[index] == \"HelloWorld\":\n",
    "        tuple_list[index] = \"PythonWorks\"\n",
    "    elif tuple_list[index] == \"Hello\":\n",
    "        tuple_list[index] = \"Python\"\n",
    "    elif tuple_list[index] == \"World\":\n",
    "        tuple_list[index] = \"Works\"\n",
    "    else:\n",
    "        tuple_list[index] = tuple_list[index]\n",
    "tuple_formation = tuple(tuple_list)\n",
    "print(tuple_formation)\n"
   ]
  },
  {
   "cell_type": "markdown",
   "metadata": {},
   "source": [
    "2\\. **The swap**\n",
    "\n",
    "Write a program that swaps the values of two input variables *x* and *y* from command line (whatever the type).\n",
    "\n",
    "Try to do that without using a temporary variable, exploiting the Python syntax."
   ]
  },
  {
   "cell_type": "code",
   "execution_count": 1,
   "metadata": {},
   "outputs": [
    {
     "name": "stdout",
     "output_type": "stream",
     "text": [
      "Please enter the first variable: 67\n",
      "Please enter the second variable: k\n",
      "Before swapping x value was 67, after swapping x value is k\n",
      "Before swapping y value was k, after swapping x value is 67\n"
     ]
    }
   ],
   "source": [
    "x = input(\"Please enter the first variable: \")\n",
    "y = input(\"Please enter the second variable: \")\n",
    "\n",
    "before_x = x\n",
    "before_y = y\n",
    "x,y = y,x\n",
    "print(\"Before swapping x value was \" + before_x + \", after swapping x value is \" + x)\n",
    "print(\"Before swapping y value was \" + before_y + \", after swapping x value is \" + y)"
   ]
  },
  {
   "cell_type": "markdown",
   "metadata": {},
   "source": [
    "3\\. **Computing the distance**\n",
    "\n",
    "Write a function that calculates and returns the euclidean distance between two points *u* and *v* in a 2D space, where *u* and *v* are both 2-tuples *(x,y)*.\n",
    "\n",
    "Example: if *u=(3,0)* and *v=(0,4)*, the function should return 5.\n",
    "\n",
    "*Hint:* in order to compute the square root, import the `math` library with `import math` and use `math.sqrt()`."
   ]
  },
  {
   "cell_type": "code",
   "execution_count": 2,
   "metadata": {},
   "outputs": [
    {
     "name": "stdout",
     "output_type": "stream",
     "text": [
      "5.0\n"
     ]
    }
   ],
   "source": [
    "import math as m\n",
    "u = (3,0)\n",
    "v = (0,4)\n",
    "\n",
    "euclidian_distance = m.sqrt(((v[0] - u[0])**2) + ((v[1] - u[1])**2))\n",
    "print(euclidian_distance)"
   ]
  },
  {
   "cell_type": "markdown",
   "metadata": {},
   "source": [
    "4\\. **Counting letters**\n",
    "\n",
    "Write a program that calculates the number of times each character occurs in a given string. Ignore differences in capitalization.\n",
    "\n",
    "The strings are in the cell below."
   ]
  },
  {
   "cell_type": "code",
   "execution_count": 3,
   "metadata": {},
   "outputs": [],
   "source": [
    "s1 = \"Write a program that prints the numbers from 1 to 100. \\\n",
    "But for multiples of three print Hello instead of the number and for the multiples of five print World. \\\n",
    "For numbers which are multiples of both three and five print HelloWorld.\"\n",
    "s2 = \"The quick brown fox jumps over the lazy dog\""
   ]
  },
  {
   "cell_type": "code",
   "execution_count": 4,
   "metadata": {
    "scrolled": true
   },
   "outputs": [
    {
     "name": "stdout",
     "output_type": "stream",
     "text": [
      "Current character of w occured 4 time(s) in the sentence.\n",
      "Current character of r occured 19 time(s) in the sentence.\n",
      "Current character of i occured 12 time(s) in the sentence.\n",
      "Current character of t occured 19 time(s) in the sentence.\n",
      "Current character of e occured 20 time(s) in the sentence.\n",
      "Current character of   occured 41 time(s) in the sentence.\n",
      "Current character of a occured 7 time(s) in the sentence.\n",
      "Current character of p occured 8 time(s) in the sentence.\n",
      "Current character of o occured 15 time(s) in the sentence.\n",
      "Current character of g occured 1 time(s) in the sentence.\n",
      "Current character of m occured 8 time(s) in the sentence.\n",
      "Current character of h occured 11 time(s) in the sentence.\n",
      "Current character of n occured 10 time(s) in the sentence.\n",
      "Current character of s occured 7 time(s) in the sentence.\n",
      "Current character of u occured 7 time(s) in the sentence.\n",
      "Current character of b occured 5 time(s) in the sentence.\n",
      "Current character of f occured 10 time(s) in the sentence.\n",
      "Current character of 1 occured 2 time(s) in the sentence.\n",
      "Current character of 0 occured 2 time(s) in the sentence.\n",
      "Current character of . occured 3 time(s) in the sentence.\n",
      "Current character of l occured 12 time(s) in the sentence.\n",
      "Current character of d occured 5 time(s) in the sentence.\n",
      "Current character of v occured 2 time(s) in the sentence.\n",
      "Current character of c occured 1 time(s) in the sentence.\n",
      "\n",
      "Current character of t occured 2 time(s) in the sentence.\n",
      "Current character of h occured 2 time(s) in the sentence.\n",
      "Current character of e occured 3 time(s) in the sentence.\n",
      "Current character of   occured 8 time(s) in the sentence.\n",
      "Current character of q occured 1 time(s) in the sentence.\n",
      "Current character of u occured 2 time(s) in the sentence.\n",
      "Current character of i occured 1 time(s) in the sentence.\n",
      "Current character of c occured 1 time(s) in the sentence.\n",
      "Current character of k occured 1 time(s) in the sentence.\n",
      "Current character of b occured 1 time(s) in the sentence.\n",
      "Current character of r occured 2 time(s) in the sentence.\n",
      "Current character of o occured 4 time(s) in the sentence.\n",
      "Current character of w occured 1 time(s) in the sentence.\n",
      "Current character of n occured 1 time(s) in the sentence.\n",
      "Current character of f occured 1 time(s) in the sentence.\n",
      "Current character of x occured 1 time(s) in the sentence.\n",
      "Current character of j occured 1 time(s) in the sentence.\n",
      "Current character of m occured 1 time(s) in the sentence.\n",
      "Current character of p occured 1 time(s) in the sentence.\n",
      "Current character of s occured 1 time(s) in the sentence.\n",
      "Current character of v occured 1 time(s) in the sentence.\n",
      "Current character of l occured 1 time(s) in the sentence.\n",
      "Current character of a occured 1 time(s) in the sentence.\n",
      "Current character of z occured 1 time(s) in the sentence.\n",
      "Current character of y occured 1 time(s) in the sentence.\n",
      "Current character of d occured 1 time(s) in the sentence.\n",
      "Current character of g occured 1 time(s) in the sentence.\n"
     ]
    }
   ],
   "source": [
    "new_sentence = s1.lower()\n",
    "new_sentence_second = s2.lower()\n",
    "unique = []\n",
    "unique_second = []\n",
    "\n",
    "for element in new_sentence:\n",
    "    if element not in unique:\n",
    "        unique.append(element)\n",
    "for el in unique:\n",
    "    print(\"Current character of \" + el +\" occured \" + str(new_sentence.count(el)) + \" time(s) in the sentence.\")\n",
    "print(\"\")\n",
    "for element in new_sentence_second:\n",
    "    if element not in unique_second:\n",
    "        unique_second.append(element)\n",
    "for el in unique_second:\n",
    "    print(\"Current character of \" + el +\" occured \" + str(new_sentence_second.count(el)) + \" time(s) in the sentence.\")\n"
   ]
  },
  {
   "cell_type": "markdown",
   "metadata": {},
   "source": [
    "5\\. **Isolating the unique**\n",
    "\n",
    "Write a program that determines and counts the unique numbers in the list:"
   ]
  },
  {
   "cell_type": "code",
   "execution_count": 5,
   "metadata": {},
   "outputs": [],
   "source": [
    "l = [36, 45, 58, 3, 74, 96, 64, 45, 31, 10, 24, 19, 33, 86, 99, 18, 63, 70, 85,\n",
    " 85, 63, 47, 56, 42, 70, 84, 88, 55, 20, 54, 8, 56, 51, 79, 81, 57, 37, 91,\n",
    " 1, 84, 84, 36, 66, 9, 89, 50, 42, 91, 50, 95, 90, 98, 39, 16, 82, 31, 92, 41,\n",
    " 45, 30, 66, 70, 34, 85, 94, 5, 3, 36, 72, 91, 84, 34, 87, 75, 53, 51, 20, 89, 51, 20]"
   ]
  },
  {
   "cell_type": "markdown",
   "metadata": {},
   "source": [
    "Do the same exploiting only the Python data structures."
   ]
  },
  {
   "cell_type": "code",
   "execution_count": 6,
   "metadata": {
    "scrolled": false
   },
   "outputs": [
    {
     "name": "stdout",
     "output_type": "stream",
     "text": [
      "Unique Numbers: [36, 45, 58, 3, 74, 96, 64, 31, 10, 24, 19, 33, 86, 99, 18, 63, 70, 85, 47, 56, 42, 84, 88, 55, 20, 54, 8, 51, 79, 81, 57, 37, 91, 1, 66, 9, 89, 50, 95, 90, 98, 39, 16, 82, 92, 41, 30, 34, 94, 5, 72, 87, 75, 53]\n",
      " \n",
      "Number of unique numbers are 54\n"
     ]
    }
   ],
   "source": [
    "unique = []\n",
    "for element in l:\n",
    "    if element not in unique:\n",
    "        unique.append(element)\n",
    "\n",
    "print(\"Unique Numbers: \" + str(unique))\n",
    "print (\" \")\n",
    "print(\"Number of unique numbers are \" + str(len(unique)))\n"
   ]
  },
  {
   "cell_type": "markdown",
   "metadata": {},
   "source": [
    "6\\. **Casting**\n",
    "\n",
    "Write a program that:\n",
    "* reads from command line two variables, that can be either `int`, `float`, or `str`.\n",
    "* use the `try`/`except` expressions to perform the addition of these two variables, only if possible\n",
    "* and print the result without making the code crash for all the `int`/`float`/`str` input combinations."
   ]
  },
  {
   "cell_type": "code",
   "execution_count": 29,
   "metadata": {},
   "outputs": [
    {
     "name": "stdout",
     "output_type": "stream",
     "text": [
      "KAAN\n",
      "KAAN\n",
      "KAAN = String\n",
      "KAAN = String\n",
      "KAANKAAN\n"
     ]
    }
   ],
   "source": [
    "import math\n",
    "\n",
    "a = input()\n",
    "b = input()\n",
    "try:\n",
    "    a=float(a)\n",
    "    if a%1==0:\n",
    "        a=int(a)\n",
    "        print(a,\"=Int\")\n",
    "    else: \n",
    "        print(a,\"=Float\")\n",
    "    try:\n",
    "        b = float(b)\n",
    "        if b%1==0:\n",
    "            b=int(b)\n",
    "            print(b,\"=Int\")\n",
    "        else:\n",
    "            print(b,\"=Float\")\n",
    "        print(a+b)\n",
    "    except:\n",
    "        b = str(b)\n",
    "        print(b,\"= String\")\n",
    "        print(\"Values of different types exist.\")\n",
    "except:\n",
    "    a = str(a)\n",
    "    print(a,\"= String\")\n",
    "    try:\n",
    "        b = float(b)\n",
    "        if y%1==0:\n",
    "            b=int(b)\n",
    "            print(b,\"=Int\")\n",
    "        else:\n",
    "            print(b,\"=Float\")\n",
    "        print(\"Values of different types exist.\")\n",
    "    except:\n",
    "        b = str(b)\n",
    "        print(b,\"= String\")\n",
    "        print(a+b)\n",
    "    \n",
    "            \n",
    "     "
   ]
  },
  {
   "cell_type": "markdown",
   "metadata": {},
   "source": [
    "7\\. **Cubes**\n",
    "\n",
    "Create a list of the cubes of *x* for *x* in *[0, 10]* using:\n",
    "\n",
    "a) a for loop\n",
    "\n",
    "b) a list comprehension"
   ]
  },
  {
   "cell_type": "code",
   "execution_count": 7,
   "metadata": {
    "scrolled": true
   },
   "outputs": [
    {
     "name": "stdout",
     "output_type": "stream",
     "text": [
      "[0, 1, 8, 27, 64, 125, 216, 343, 512, 729, 1000]\n"
     ]
    }
   ],
   "source": [
    "l =[]\n",
    "for x in range(0,11):\n",
    "    l.append(x*x*x)\n",
    "    \n",
    "print(l)    \n",
    "    \n",
    "    "
   ]
  },
  {
   "cell_type": "code",
   "execution_count": 8,
   "metadata": {},
   "outputs": [
    {
     "name": "stdout",
     "output_type": "stream",
     "text": [
      "[0, 1, 8, 27, 64, 125, 216, 343, 512, 729, 1000]\n"
     ]
    }
   ],
   "source": [
    "cube = [x*x*x for x in range(11)]\n",
    "print(cube) \n"
   ]
  },
  {
   "cell_type": "markdown",
   "metadata": {},
   "source": [
    "8\\. **List comprehension**\n",
    "\n",
    "Write, using the list comprehension, a single-line expression that gets the same result as the code in the cell below."
   ]
  },
  {
   "cell_type": "code",
   "execution_count": 9,
   "metadata": {},
   "outputs": [
    {
     "name": "stdout",
     "output_type": "stream",
     "text": [
      "[(0, 0), (0, 1), (0, 2), (0, 3), (1, 0), (1, 1), (1, 2), (1, 3), (2, 0), (2, 1), (2, 2), (2, 3)]\n"
     ]
    }
   ],
   "source": [
    "a = []\n",
    "for i in range(3):\n",
    "    for j in range(4):\n",
    "        a.append((i, j))\n",
    "print(a)"
   ]
  },
  {
   "cell_type": "code",
   "execution_count": 10,
   "metadata": {},
   "outputs": [
    {
     "name": "stdout",
     "output_type": "stream",
     "text": [
      "[(0, 0), (0, 1), (0, 2), (0, 3), (1, 0), (1, 1), (1, 2), (1, 3), (2, 0), (2, 1), (2, 2), (2, 3)]\n"
     ]
    }
   ],
   "source": [
    "a= [(i, j) for i in [0,1,2] for j in [0,1,2,3]]\n",
    "print (a)"
   ]
  },
  {
   "cell_type": "markdown",
   "metadata": {},
   "source": [
    "9\\. **Nested list comprehension**\n",
    "\n",
    "> A Pythagorean triple is an integer solution to the Pythagorean theorem $a^2+b^2=c^2$. The first Pythagorean triple is (3, 4, 5).\n",
    "\n",
    "Find and put in a tuple all unique Pythagorean triples for the positive integers $a$, $b$ and $c$ with $c < 100$."
   ]
  },
  {
   "cell_type": "code",
   "execution_count": 11,
   "metadata": {
    "scrolled": false
   },
   "outputs": [
    {
     "name": "stdout",
     "output_type": "stream",
     "text": [
      "((3, 4, 5), (6, 8, 10), (5, 12, 13), (9, 12, 15), (8, 15, 17), (12, 16, 20), (7, 24, 25), (15, 20, 25), (10, 24, 26), (20, 21, 29), (18, 24, 30), (16, 30, 34), (21, 28, 35), (12, 35, 37), (15, 36, 39), (24, 32, 40), (9, 40, 41), (27, 36, 45), (14, 48, 50), (30, 40, 50), (24, 45, 51), (20, 48, 52), (28, 45, 53), (33, 44, 55), (40, 42, 58), (36, 48, 60), (11, 60, 61), (16, 63, 65), (25, 60, 65), (33, 56, 65), (39, 52, 65), (32, 60, 68), (42, 56, 70), (48, 55, 73), (24, 70, 74), (21, 72, 75), (45, 60, 75), (30, 72, 78), (48, 64, 80), (18, 80, 82), (13, 84, 85), (36, 77, 85), (40, 75, 85), (51, 68, 85), (60, 63, 87), (39, 80, 89), (54, 72, 90), (35, 84, 91), (57, 76, 95), (65, 72, 97))\n"
     ]
    }
   ],
   "source": [
    "\n",
    "pyt =[el for el in [(a,b,c) for c in range(0,100) for a in range(1,100) for b in range(1,100) if c*c == a*a + b*b] if el [0]< el [1]]\n",
    "\n",
    "tlist = tuple(pyt)\n",
    "print (tlist)\n",
    "\n"
   ]
  },
  {
   "cell_type": "markdown",
   "metadata": {},
   "source": [
    "10\\. **Normalization of a N-dimensional vector**\n",
    "\n",
    "Write a program that takes an N-dimensional vector, e.g. a variable-length tuple of numbers, and normalizes it to one (in such a way that the squared sum of all the entries is equal to 1)."
   ]
  },
  {
   "cell_type": "code",
   "execution_count": 12,
   "metadata": {},
   "outputs": [
    {
     "name": "stdout",
     "output_type": "stream",
     "text": [
      "(9.334379100290231e-07, 6.994110555603548e-07, 1.0953880526651358e-06, 0.00010957528854040413, 0.00031547887785514746, 0.0060391261579163325, 0.030462852084275044, 0.006708006052245986, 0.9994950898912495)\n",
      "Normalized process is achieved since all squared sums equal to: 1.0\n"
     ]
    }
   ],
   "source": [
    "import math as m\n",
    "\n",
    "def Normalization(V):\n",
    "    squared_sum = 0\n",
    "    for el in range(0,len(V)):\n",
    "        squared_sum += V[el]**2\n",
    "    Vlen= m.sqrt(squared_sum)\n",
    "\n",
    "    normalized_list = []\n",
    "    for el in range(0,len(V)):\n",
    "        normalized_list.append(V[el]/Vlen)\n",
    "    V = tuple(normalized_list)\n",
    "    print(V)\n",
    "    normalized = 0\n",
    "    for el in range(0,len(V)):\n",
    "        normalized += V[el]**2\n",
    "    print(\"Normalized process is achieved since all squared sums equal to: \" + str(normalized)) \n",
    "\n",
    "\n",
    "V = (1049,786,1231,123141,354536,6786786,34234234,7538475,1123235234)\n",
    "Normalization(V)\n",
    "\n",
    "\n",
    "\n",
    "\n",
    "\n"
   ]
  },
  {
   "cell_type": "markdown",
   "metadata": {},
   "source": [
    "11\\. **The Fibonacci sequence**\n",
    "\n",
    "Calculate the first 20 numbers of the [Fibonacci sequence](https://en.wikipedia.org/wiki/Fibonacci_number) using only `for` or `while` loops."
   ]
  },
  {
   "cell_type": "code",
   "execution_count": 13,
   "metadata": {},
   "outputs": [
    {
     "name": "stdout",
     "output_type": "stream",
     "text": [
      "The Fibonacci Sequence : [0, 1, 1, 2, 3, 5, 8, 13, 21, 34, 55, 89, 144, 233, 377, 610, 987, 1597, 2584, 4181]\n"
     ]
    }
   ],
   "source": [
    "x = 0\n",
    "y = 1\n",
    "z = 0 \n",
    "n = 20\n",
    "fibonacci = []\n",
    "fibonacci.append(x)\n",
    "fibonacci.append(y)\n",
    "\n",
    "z = x + y \n",
    "n = n - 2 \n",
    "\n",
    "while n > 0:\n",
    "    fibonacci.append(z)\n",
    "    x = y\n",
    "    y = z\n",
    "    z = x+y\n",
    "    n = n-1\n",
    "\n",
    "print(\"The Fibonacci Sequence : \" +  str(fibonacci))\n",
    "\n",
    "\n"
   ]
  },
  {
   "cell_type": "code",
   "execution_count": null,
   "metadata": {},
   "outputs": [],
   "source": []
  }
 ],
 "metadata": {
  "kernelspec": {
   "display_name": "Python 3 (ipykernel)",
   "language": "python",
   "name": "python3"
  },
  "language_info": {
   "codemirror_mode": {
    "name": "ipython",
    "version": 3
   },
   "file_extension": ".py",
   "mimetype": "text/x-python",
   "name": "python",
   "nbconvert_exporter": "python",
   "pygments_lexer": "ipython3",
   "version": "3.9.12"
  }
 },
 "nbformat": 4,
 "nbformat_minor": 4
}
