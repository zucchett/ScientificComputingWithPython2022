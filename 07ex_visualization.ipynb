{
 "cells": [
  {
   "cell_type": "markdown",
   "metadata": {},
   "source": [
    "1\\. **Spotting correlations**\n",
    "\n",
    "Load the remote file:\n",
    "\n",
    "```bash\n",
    "https://www.dropbox.com/s/aamg1apjhclecka/regression_generated.csv\n",
    "```\n",
    "\n",
    "with Pandas and create scatter plots with all possible combinations of the following features:\n",
    "    \n",
    "  + features_1\n",
    "  + features_2\n",
    "  + features_3\n",
    "  \n",
    "Are these features correlated?"
   ]
  },
  {
   "cell_type": "code",
   "execution_count": null,
   "metadata": {},
   "outputs": [],
   "source": [
    "import pandas as pd\n",
    "import matplotlib.pyplot as plt\n",
    "file_name = \"regression_generated.csv\"\n",
    "data = pd.read_csv(file_name)\n",
    "x = data['f1']\n",
    "y = data['f2']\n",
    "z = data['f3']\n",
    "fig, (ax1, ax2 , ax3) = plt.subplots(nrows=3, ncols=1, figsize=(12,36))\n",
    "ax1.scatter(x=x, y=y, marker='o', c='c', edgecolor='b')\n",
    "ax2.scatter(x=x, y=z, marker='o', c='r', edgecolor='k')\n",
    "ax3.scatter(x=y, y=z, marker='o', c='g', edgecolor='k')\n",
    "ax1.set_xlabel(\"f1\")\n",
    "ax1.set_ylabel(\"f2\")\n",
    "ax2.set_xlabel(\"f1\")\n",
    "ax2.set_ylabel(\"f3\")\n",
    "ax3.set_xlabel(\"f2\")\n",
    "ax3.set_ylabel(\"f3\")"
   ]
  },
  {
   "cell_type": "markdown",
   "metadata": {},
   "source": [
    "2\\. **Color-coded scatter plot**\n",
    "\n",
    "Produce a scatter plot from a dataset with two categories.\n",
    "\n",
    "* Write a function that generates a 2D dataset consisting of 2 categories. Each category should distribute as a 2D gaussian with a given mean and standard deviation. Set different values of the mean and standard deviation between the two samples.\n",
    "* Display the dataset in a scatter plot marking the two categories with different marker colors.\n",
    "\n",
    "An example is given below:"
   ]
  },
  {
   "cell_type": "code",
   "execution_count": null,
   "metadata": {},
   "outputs": [],
   "source": [
    "from IPython.display import Image\n",
    "Image('images/two_categories_scatter_plot.png')"
   ]
  },
  {
   "cell_type": "code",
   "execution_count": null,
   "metadata": {},
   "outputs": [],
   "source": [
    "import numpy as np\n",
    "import matplotlib.pyplot as plt\n",
    "\n",
    "def gaussian(mean,sta_dev) : \n",
    "    return np.random.normal(mean,sta_dev,300)\n",
    "\n",
    "x1 = gaussian(1,0.4)\n",
    "y1 = gaussian(1,0.4)\n",
    "plt.scatter(x1,y1)\n",
    "\n",
    "x2 = gaussian(0,0.6)\n",
    "y2 = gaussian(0,0.6)\n",
    "plt.scatter(x2,y2)\n",
    "\n",
    "plt.show()"
   ]
  },
  {
   "cell_type": "markdown",
   "metadata": {},
   "source": [
    "3\\. **Profile plot**\n",
    "\n",
    "Produce a profile plot from a scatter plot.\n",
    "* Download the following pickle file:\n",
    "```bash\n",
    "wget https://www.dropbox.com/s/3uqleyc3wyz52tr/residuals_261.pkl -P data/\n",
    "```\n",
    "* Inspect the dataset, you'll find two variables (features)\n",
    "* Convert the content to a Pandas Dataframe\n",
    "* Clean the sample by selecting the entries (rows) with the absolute values of the variable \"residual\" smaller than 2\n",
    "* Plot a Seaborn `jointplot` of \"residuals\" versus \"distances\", and use seaborn to display a linear regression. \n",
    "\n",
    "Comment on the correlation between these variables.\n",
    "\n",
    "* Create manually (without using seaborn) the profile histogram for the \"distance\" variable; choose an appropriate binning.\n",
    "* Obtain 3 numpy arrays:\n",
    "  * `x`, the array of bin centers of the profile histogram of the \"distance\" variable\n",
    "  * `y`, the mean values of the \"residuals\", estimated in slices (bins) of \"distance\"\n",
    "  * `err_y`, the standard deviation of the of the \"residuals\", estimated in slices (bins) of \"distance\"\n",
    "* Plot the profile plot on top of the scatter plot"
   ]
  },
  {
   "cell_type": "code",
   "execution_count": null,
   "metadata": {},
   "outputs": [],
   "source": [
    "import pandas as pd   \n",
    "import numpy as np\n",
    "from scipy import stats\n",
    "import matplotlib.pyplot as plt\n",
    "import seaborn as sns\n",
    "data=np.load(\"residuals_261.pkl\",allow_pickle=True).item()\n",
    "data=pd.DataFrame(data)\n",
    "\n",
    "x = data.residuals\n",
    "y = data.distances\n",
    "\n",
    "data.drop( data[abs(data['residuals']) < 2 ].index , inplace=True)\n",
    "data=data[abs(data['residuals'])>2] \n",
    "\n",
    "sns.jointplot(x=\"residuals\", y=\"distances\", data=data)\n",
    "print(data)\n",
    "print(data.info())\n",
    "\n",
    "\n",
    "\n",
    "slope, intercept, r_value, p_value, stderr = stats.linregress(x, y)\n",
    "print(\"slope =\",slope,\" intercept =\",intercept,\" r_value =\",r_value,\" p_value =\",p_value,\" stderr =\",stderr)\n",
    "sns.jointplot(data=data, x=\"residuals\", y=\"distances\", kind=\"reg\")\n",
    "\n",
    "dis_array=np.array(data.distances)\n",
    "bins=[0,5,10,15,20]\n",
    "dis_bin=np.histogram(dis_array,bins = bins ) \n",
    "print(dis_bin)\n",
    "binned_data=pd.cut(dis_array,bins)\n",
    "print(binned_data)\n",
    "\n",
    "mean_std=data.groupby(pd.cut(data['distances'], bins=bins))['residuals'].agg(['mean','std'])\n",
    "print(mean_std)\n",
    "\n",
    "\n",
    "\n",
    "fig = plt.figure(figsize=(10, 6))\n",
    "ax = fig.add_axes([0.1, 0.1, 0.65, 0.65])\n",
    "ax_histx = fig.add_axes([0.1, 0.8, 0.65, 0.2], sharex=ax)\n",
    "ax_histx.set_title('Histogram')\n",
    "ax.scatter(data['distances'],data['residuals'])\n",
    "h,bins,_ = ax_histx.hist(data['distances'],bins = 25)\n",
    "x = 0.5*(bins[1:]+bins[:-1])\n",
    "y = np.zeros(len(bins))\n",
    "err_y = np.zeros(len(bins))\n",
    "for i in range(0,len(x)-1):\n",
    "    mask_i = (data['distances']>x[i]) & (data['distances']<x[i+1])\n",
    "    y[i] = np.mean(data[mask_i].residuals)\n",
    "    err_y[i] = np.std(data[mask_i].residuals)\n",
    "plt.show()\n",
    "print(\"x: \",x)\n",
    "print(\"y: \",y)\n",
    "print(\"err_y:\", err_y)"
   ]
  },
  {
   "cell_type": "markdown",
   "metadata": {},
   "source": [
    "4\\. **Kernel Density Estimate**\n",
    "\n",
    "Produce a KDE for a given distribution (by hand, not using seaborn):\n",
    "\n",
    "* Fill a numpy array `x` of length N (with $N=\\mathcal{O}(100)$) with a variable normally distributed, with a given mean and standard deviation\n",
    "* Fill an histogram in pyplot taking proper care of the aesthetic:\n",
    "   * use a meaningful number of bins\n",
    "   * set a proper y axis label\n",
    "   * set proper value of y axis major ticks labels (e.g. you want to display only integer labels)\n",
    "   * display the histograms as data points with errors (the error being the poisson uncertainty)\n",
    "* For every element of `x`, create a gaussian with the mean corresponding to the element value and the standard deviation as a parameter that can be tuned. The standard deviation default value should be:\n",
    "$$ 1.06 * x.std() * x.size ^{-\\frac{1}{5}} $$\n",
    "you can use the scipy function `stats.norm()` for that.\n",
    "* In a separate plot (to be placed beside the original histogram), plot all the gaussian functions so obtained\n",
    "* Sum (with `np.sum()`) all the gaussian functions and normalize the result such that the integral matches the integral of the original histogram. For that you could use the `scipy.integrate.trapz()` method. Superimpose the normalized sum of all gaussians to the first histogram.\n"
   ]
  },
  {
   "cell_type": "code",
   "execution_count": null,
   "metadata": {},
   "outputs": [],
   "source": []
  }
 ],
 "metadata": {
  "kernelspec": {
   "display_name": "Python 3 (ipykernel)",
   "language": "python",
   "name": "python3"
  },
  "language_info": {
   "codemirror_mode": {
    "name": "ipython",
    "version": 3
   },
   "file_extension": ".py",
   "mimetype": "text/x-python",
   "name": "python",
   "nbconvert_exporter": "python",
   "pygments_lexer": "ipython3",
   "version": "3.9.12"
  }
 },
 "nbformat": 4,
 "nbformat_minor": 2
}
