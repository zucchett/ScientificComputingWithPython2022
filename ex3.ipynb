{
 "cells": [
  {
   "cell_type": "code",
   "execution_count": 4,
   "id": "2a58d060",
   "metadata": {},
   "outputs": [
    {
     "name": "stdout",
     "output_type": "stream",
     "text": [
      "3\n",
      "0\n",
      "0\n",
      "4\n"
     ]
    },
    {
     "ename": "TypeError",
     "evalue": "unsupported operand type(s) for -: 'str' and 'str'",
     "output_type": "error",
     "traceback": [
      "\u001b[0;31m---------------------------------------------------------------------------\u001b[0m",
      "\u001b[0;31mTypeError\u001b[0m                                 Traceback (most recent call last)",
      "Input \u001b[0;32mIn [4]\u001b[0m, in \u001b[0;36m<cell line: 7>\u001b[0;34m()\u001b[0m\n\u001b[1;32m      5\u001b[0m     d\u001b[38;5;241m=\u001b[39mmath\u001b[38;5;241m.\u001b[39msqrt((u[\u001b[38;5;241m0\u001b[39m]\u001b[38;5;241m-\u001b[39mv[\u001b[38;5;241m0\u001b[39m])\u001b[38;5;241m*\u001b[39m\u001b[38;5;241m*\u001b[39m\u001b[38;5;241m2\u001b[39m \u001b[38;5;241m+\u001b[39m (u[\u001b[38;5;241m1\u001b[39m]\u001b[38;5;241m-\u001b[39mv[\u001b[38;5;241m1\u001b[39m])\u001b[38;5;241m*\u001b[39m\u001b[38;5;241m*\u001b[39m\u001b[38;5;241m2\u001b[39m)\n\u001b[1;32m      6\u001b[0m     \u001b[38;5;28mprint\u001b[39m(d)\n\u001b[0;32m----> 7\u001b[0m \u001b[43mdistance\u001b[49m\u001b[43m(\u001b[49m\u001b[43m)\u001b[49m\n",
      "Input \u001b[0;32mIn [4]\u001b[0m, in \u001b[0;36mdistance\u001b[0;34m()\u001b[0m\n\u001b[1;32m      3\u001b[0m u\u001b[38;5;241m=\u001b[39m(\u001b[38;5;28minput\u001b[39m(),\u001b[38;5;28minput\u001b[39m())\n\u001b[1;32m      4\u001b[0m v\u001b[38;5;241m=\u001b[39m(\u001b[38;5;28minput\u001b[39m(),\u001b[38;5;28minput\u001b[39m())\n\u001b[0;32m----> 5\u001b[0m d\u001b[38;5;241m=\u001b[39mmath\u001b[38;5;241m.\u001b[39msqrt((\u001b[43mu\u001b[49m\u001b[43m[\u001b[49m\u001b[38;5;241;43m0\u001b[39;49m\u001b[43m]\u001b[49m\u001b[38;5;241;43m-\u001b[39;49m\u001b[43mv\u001b[49m\u001b[43m[\u001b[49m\u001b[38;5;241;43m0\u001b[39;49m\u001b[43m]\u001b[49m)\u001b[38;5;241m*\u001b[39m\u001b[38;5;241m*\u001b[39m\u001b[38;5;241m2\u001b[39m \u001b[38;5;241m+\u001b[39m (u[\u001b[38;5;241m1\u001b[39m]\u001b[38;5;241m-\u001b[39mv[\u001b[38;5;241m1\u001b[39m])\u001b[38;5;241m*\u001b[39m\u001b[38;5;241m*\u001b[39m\u001b[38;5;241m2\u001b[39m)\n\u001b[1;32m      6\u001b[0m \u001b[38;5;28mprint\u001b[39m(d)\n",
      "\u001b[0;31mTypeError\u001b[0m: unsupported operand type(s) for -: 'str' and 'str'"
     ]
    }
   ],
   "source": [
    "import math\n",
    "def distance() :\n",
    "    u=(input(),input())\n",
    "    v=(input(),input())\n",
    "    d=math.sqrt((u[0]-v[0])**2 + (u[1]-v[1])**2)\n",
    "    print(d)\n",
    "distance()"
   ]
  },
  {
   "cell_type": "code",
   "execution_count": null,
   "id": "f05b0f0b",
   "metadata": {},
   "outputs": [],
   "source": []
  }
 ],
 "metadata": {
  "kernelspec": {
   "display_name": "Python 3 (ipykernel)",
   "language": "python",
   "name": "python3"
  },
  "language_info": {
   "codemirror_mode": {
    "name": "ipython",
    "version": 3
   },
   "file_extension": ".py",
   "mimetype": "text/x-python",
   "name": "python",
   "nbconvert_exporter": "python",
   "pygments_lexer": "ipython3",
   "version": "3.9.12"
  }
 },
 "nbformat": 4,
 "nbformat_minor": 5
}
