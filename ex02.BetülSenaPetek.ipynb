{
 "cells": [
  {
   "cell_type": "code",
   "execution_count": 2,
   "id": "e16222b4-84b0-48e0-afe6-b2386094f5f6",
   "metadata": {},
   "outputs": [
    {
     "name": "stdout",
     "output_type": "stream",
     "text": [
      "[1, 2, 3, 0, 1, 2, 3, 4]\n",
      "[1, 2, 3]\n"
     ]
    }
   ],
   "source": [
    "# Global variables\n",
    "#02ex_introduction_es01\n",
    "\n",
    "x = 5\n",
    "\n",
    "def f(alist):\n",
    "    tmp = x\n",
    "    b_list = [el for el in alist]\n",
    "    for i in range(tmp):\n",
    "        b_list.append(i)\n",
    "    return b_list\n",
    "\n",
    "alist = [1, 2, 3]\n",
    "ans = f(alist)\n",
    "print(ans)\n",
    "print(alist) # alist has been changed"
   ]
  },
  {
   "cell_type": "code",
   "execution_count": 3,
   "id": "0bb94a7c-a9ad-4518-b307-96476470c061",
   "metadata": {},
   "outputs": [
    {
     "name": "stdout",
     "output_type": "stream",
     "text": [
      "[1, 9, 25, 49, 81]\n"
     ]
    }
   ],
   "source": [
    "#List comprehension\n",
    "#02ex_introduction_es02\n",
    "\n",
    "ans = list(map(lambda x: x * x, filter(lambda x: x % 2 == 1, range(10))))\n",
    "print(ans)"
   ]
  },
  {
   "cell_type": "code",
   "execution_count": 4,
   "id": "922eb134-fc53-4c2c-8f7f-642819793a95",
   "metadata": {},
   "outputs": [
    {
     "name": "stdout",
     "output_type": "stream",
     "text": [
      "[1, 9, 25, 49, 81]\n"
     ]
    }
   ],
   "source": [
    "#List comprehension\n",
    "#02ex_introduction_es02\n",
    "\n",
    "lst = [i*i for i in range(10) if i % 2 == 1]\n",
    "print(lst)"
   ]
  },
  {
   "cell_type": "code",
   "execution_count": 5,
   "id": "a00ed0ac-348f-4067-9a10-2670c3b82229",
   "metadata": {},
   "outputs": [
    {
     "name": "stdout",
     "output_type": "stream",
     "text": [
      "['Hi', 'Hey']\n"
     ]
    }
   ],
   "source": [
    "# Filter list\n",
    "#02ex_introduction_es03\n",
    "\n",
    "words = [\"Hello\", \"Hi\", \"Hey\", \"abcd\"]\n",
    "\n",
    "def Filter(l,n):\n",
    "    l = list(filter(lambda x: len(x) < n ,l))\n",
    "    return l\n",
    "\n",
    "l = Filter(words,4)\n",
    "print(l)"
   ]
  },
  {
   "cell_type": "code",
   "execution_count": 6,
   "id": "1d9d4041-444c-4eba-8351-54ea9637fff8",
   "metadata": {},
   "outputs": [
    {
     "name": "stdout",
     "output_type": "stream",
     "text": [
      "[6, 4, 9, 3]\n"
     ]
    }
   ],
   "source": [
    "# Map dictionary\n",
    "#02ex_introduction_es04\n",
    "\n",
    "lang = {\"Python\" : 3, \"Java\" : '', \"Cplusplus\" : 'test', \"Php\" : 0.7}\n",
    "def Map(dct):\n",
    "    lst = list(map(lambda x: len(x),dct.keys()))\n",
    "    return lst\n",
    "l = Map(lang)\n",
    "print(l)\n",
    "    "
   ]
  },
  {
   "cell_type": "code",
   "execution_count": 7,
   "id": "b14e3d92-fe1d-4b7c-8068-d98096838aec",
   "metadata": {},
   "outputs": [
    {
     "name": "stdout",
     "output_type": "stream",
     "text": [
      "[('Cplusplus', 81), ('Java', 32), ('Php', 45), ('Python', 97)]\n"
     ]
    }
   ],
   "source": [
    "#Lambda functions\n",
    "#02ex_introduction_es05\n",
    "\n",
    "language_scores = [('Python', 97), ('Cplusplus', 81), ('Php', 45), ('Java', 32)]\n",
    "language_scores.sort(key=lambda x: x[0])\n",
    "print(language_scores)"
   ]
  },
  {
   "cell_type": "code",
   "execution_count": 8,
   "id": "8a1c09c7-b0b6-44f3-b9a0-699186cc4a32",
   "metadata": {},
   "outputs": [
    {
     "name": "stdout",
     "output_type": "stream",
     "text": [
      "729\n"
     ]
    }
   ],
   "source": [
    "#Nested functions\n",
    "#02ex_introduction_es06\n",
    "\n",
    "def square(x):\n",
    "    return x*x\n",
    "\n",
    "def cube(x):\n",
    "    return x**3\n",
    "\n",
    "def sixth(x):\n",
    "    return cube(square(x))\n",
    "\n",
    "num = sixth(3)\n",
    "print(num)"
   ]
  },
  {
   "cell_type": "code",
   "execution_count": 9,
   "id": "8114676f-3735-40f2-bf31-83efb3dd73d9",
   "metadata": {},
   "outputs": [
    {
     "name": "stdout",
     "output_type": "stream",
     "text": [
      "Hello World!\n",
      "Hello World!\n"
     ]
    }
   ],
   "source": [
    "# Decorators\n",
    "#02ex_introduction_es07\n",
    "\n",
    "def hello(func):\n",
    "    def wrapper(x):\n",
    "        func(x)\n",
    "        print(\"Hello World!\")\n",
    "    return wrapper\n",
    "\n",
    "@hello\n",
    "def square(x):\n",
    "    return x*x\n",
    "\n",
    "square = hello(square)\n",
    "square(5)"
   ]
  },
  {
   "cell_type": "code",
   "execution_count": 10,
   "id": "851a2d0b-d2cd-45a0-887e-b16c97d12696",
   "metadata": {},
   "outputs": [
    {
     "name": "stdout",
     "output_type": "stream",
     "text": [
      "[0, 1, 1, 2, 3, 5, 8, 13, 21, 34, 55, 89, 144, 233, 377, 610, 987, 1597, 2584, 4181]\n"
     ]
    }
   ],
   "source": [
    "# The Fibonacci sequence (part 2)\n",
    "#02ex_introduction_es08\n",
    "\n",
    "\n",
    "def Recursive(n):\n",
    "    if n == 1:\n",
    "        return 0\n",
    "    elif n == 2:\n",
    "        return 1\n",
    "    else:\n",
    "        return (Recursive(n-1) + Recursive(n-2))\n",
    "\n",
    "def recursiveFibonacci(n):\n",
    "    lst = [ Recursive(i) for i in range(1,n+1)]\n",
    "    return lst\n",
    "    \n",
    "lst = recursiveFibonacci(20)\n",
    "print(lst)"
   ]
  },
  {
   "cell_type": "code",
   "execution_count": 11,
   "id": "1eb3712f-0bbf-497f-83ff-02da354c5b54",
   "metadata": {},
   "outputs": [
    {
     "name": "stdout",
     "output_type": "stream",
     "text": [
      "3.88 µs ± 74.7 ns per loop (mean ± std. dev. of 7 runs, 100000 loops each)\n"
     ]
    }
   ],
   "source": [
    "#The Fibonacci sequence (part 3)\n",
    "#02ex_introduction_es09\n",
    "\n",
    "def loopFibonacci(n):\n",
    "    fib = []\n",
    "    for i in range(n):\n",
    "        if i == 0 or i == 1:\n",
    "            fib.append(i)\n",
    "        else:\n",
    "            fib.append(fib[i-2] + fib[i-1])\n",
    "    return fib\n",
    "%timeit loopFibonacci(20)\n",
    "  "
   ]
  },
  {
   "cell_type": "code",
   "execution_count": 12,
   "id": "06741da5-ad06-4fa5-93c9-e02e88546983",
   "metadata": {},
   "outputs": [
    {
     "name": "stdout",
     "output_type": "stream",
     "text": [
      "4.11 ms ± 127 µs per loop (mean ± std. dev. of 7 runs, 100 loops each)\n"
     ]
    }
   ],
   "source": [
    "# The Fibonacci sequence (part 3)\n",
    "#02ex_introduction_es09\n",
    "    \n",
    "%timeit recursiveFibonacci(20)"
   ]
  },
  {
   "cell_type": "code",
   "execution_count": 13,
   "id": "bbe96521-9cf6-4996-9352-87ee12567f92",
   "metadata": {},
   "outputs": [],
   "source": [
    "# Class definition\n",
    "#02ex_introduction_es10\n",
    "\n",
    "\n",
    "class polygon:\n",
    "    sides = ()\n",
    "    \n",
    "    def __init__(poli, givenSides):\n",
    "        # since 'firstname' and 'surname' are attributed of the class, they have to be called as such\n",
    "        poli.sides = givenSides # a list is expected as input\n",
    "        \n",
    "    # Definition of the destructor, but it is often omitted\n",
    "    def __del__(poli):\n",
    "        print(\"Goodbye\")\n",
    "        \n",
    "    def GetSide(poli,n):\n",
    "        return poli.sides[n]\n",
    "    \n",
    "    def GetSides(poli):\n",
    "        return poli.sides\n",
    "    \n",
    "    def SetSide(poli, index, value):\n",
    "        lst = list(poli.sides)\n",
    "        lst[index] = value\n",
    "        poli.sides = tuple(lst)\n",
    "        return poli.sides\n",
    "    \n",
    "    def perimeter(poli):\n",
    "        summ = 0\n",
    "        for i in poli.sides:\n",
    "            summ += i\n",
    "        return summ\n",
    "    \n",
    "    def getOrderedSides(poli,increasing):\n",
    "        if increasing == True:\n",
    "            lst = list(poli.sides)\n",
    "            lst.sort(reverse=False)\n",
    "            poli.sides = tuple(lst)\n",
    "            return poli.sides\n",
    "        else:\n",
    "            lst = list(poli.sides)\n",
    "            lst.sort(reverse=True)\n",
    "            poli.sides = tuple(lst)\n",
    "            return poli.sides\n",
    "        "
   ]
  },
  {
   "cell_type": "code",
   "execution_count": 14,
   "id": "f1020c75-80ef-459b-9eaa-2ff4a77f0036",
   "metadata": {},
   "outputs": [
    {
     "name": "stdout",
     "output_type": "stream",
     "text": [
      "144\n",
      "(2, 3, 5, 7, 8, 9, 11, 23, 76)\n",
      "(76, 23, 11, 9, 8, 7, 5, 3, 2)\n"
     ]
    }
   ],
   "source": [
    "# Class definition\n",
    "#02ex_introduction_es10\n",
    "\n",
    "pol = polygon((2,3,5,7,9,11,76,23,8))\n",
    "a = pol.perimeter()\n",
    "print(a)\n",
    "\n",
    "t1 = pol.getOrderedSides(True)\n",
    "print(t1)\n",
    "\n",
    "t2 = pol.getOrderedSides(False)\n",
    "print(t2)"
   ]
  },
  {
   "cell_type": "code",
   "execution_count": 15,
   "id": "54cd778e-42c3-4df9-a35c-3fbf416dac24",
   "metadata": {},
   "outputs": [],
   "source": [
    "#Class inheritance\n",
    "#02ex_introduction_es11\n",
    "\n",
    "class rectangle(polygon):\n",
    "    # The constructor here is optional, and can be inherited from the parent class if omitted\n",
    "    def __init__(poli, newSides):\n",
    "        if len(newSides) == 4:\n",
    "            unique=[]\n",
    "            for i in newSides:\n",
    "                if i not in unique:\n",
    "                    unique.append(i)\n",
    "            if len(unique) == 2:\n",
    "                poli.sides = newSides\n",
    "            else:\n",
    "                print(\"Error: components are not sufficient to create a rectangle\")\n",
    "        else:\n",
    "            print(\"Error: number of components is not 4\")\n",
    "    def area(poli):\n",
    "        unique=[]\n",
    "        for i in poli.sides:\n",
    "            if i not in unique:\n",
    "                unique.append(i)\n",
    "        return unique[0] * unique[1]\n",
    "           "
   ]
  },
  {
   "cell_type": "code",
   "execution_count": 16,
   "id": "5ac054d3-7fff-4633-bed1-4f31a851d328",
   "metadata": {},
   "outputs": [
    {
     "name": "stdout",
     "output_type": "stream",
     "text": [
      "6\n"
     ]
    }
   ],
   "source": [
    "#Class inheritance\n",
    "#02ex_introduction_es11\n",
    "\n",
    "rec = rectangle((2,3,2,3))\n",
    "area = rec.area()\n",
    "print(area)"
   ]
  }
 ],
 "metadata": {
  "kernelspec": {
   "display_name": "Python 3 (ipykernel)",
   "language": "python",
   "name": "python3"
  },
  "language_info": {
   "codemirror_mode": {
    "name": "ipython",
    "version": 3
   },
   "file_extension": ".py",
   "mimetype": "text/x-python",
   "name": "python",
   "nbconvert_exporter": "python",
   "pygments_lexer": "ipython3",
   "version": "3.9.7"
  }
 },
 "nbformat": 4,
 "nbformat_minor": 5
}
