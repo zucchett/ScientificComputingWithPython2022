{
  "nbformat": 4,
  "nbformat_minor": 0,
  "metadata": {
    "colab": {
      "provenance": [],
      "authorship_tag": "ABX9TyNDOBYoojFcM254Al0dIkdU"
    },
    "kernelspec": {
      "name": "python3",
      "display_name": "Python 3"
    },
    "language_info": {
      "name": "python"
    }
  },
  "cells": [
    {
      "cell_type": "code",
      "execution_count": 2,
      "metadata": {
        "id": "Fl5pqnNb1lJW"
      },
      "outputs": [],
      "source": [
        "import pandas as pd\n",
        "import matplotlib.pyplot as plt\n",
        "import itertools\n",
        "import numpy as np\n",
        "import matplotlib.pyplot as plt\n",
        "import pickle"
      ]
    },
    {
      "cell_type": "markdown",
      "source": [
        "# **Exercise 1**"
      ],
      "metadata": {
        "id": "kFSVHx3W3im9"
      }
    },
    {
      "cell_type": "code",
      "source": [
        "!wget \"https://www.dropbox.com/s/aamg1apjhclecka/regression_generated.csv\" -P ./data/"
      ],
      "metadata": {
        "colab": {
          "base_uri": "https://localhost:8080/"
        },
        "id": "pLTPkfi4QRWp",
        "outputId": "4ae0b724-f80c-4e25-afc7-b860d1fe0dfd"
      },
      "execution_count": 10,
      "outputs": [
        {
          "output_type": "stream",
          "name": "stdout",
          "text": [
            "--2022-12-02 09:58:12--  https://www.dropbox.com/s/aamg1apjhclecka/regression_generated.csv\n",
            "Resolving www.dropbox.com (www.dropbox.com)... 162.125.3.18, 2620:100:6018:18::a27d:312\n",
            "Connecting to www.dropbox.com (www.dropbox.com)|162.125.3.18|:443... connected.\n",
            "HTTP request sent, awaiting response... 302 Found\n",
            "Location: /s/raw/aamg1apjhclecka/regression_generated.csv [following]\n",
            "--2022-12-02 09:58:12--  https://www.dropbox.com/s/raw/aamg1apjhclecka/regression_generated.csv\n",
            "Reusing existing connection to www.dropbox.com:443.\n",
            "HTTP request sent, awaiting response... 302 Found\n",
            "Location: https://uc8bee88e3f878f8274bd4cb193a.dl.dropboxusercontent.com/cd/0/inline/Bx0LOXhaT8NnKr4BOeLKSqCvxeUbRThk4Kj7qPKERdEeZDb6Qua1oSl9fLm2vsPGSXvimWKMgb9vKVkhzP_hrbpiKdbw7_NZtB4QRs07tCs_5ESXvYMkYwu9Dl-AjN_H57sInx7ZZZyt_G97z11P8YCvUrqMwmcBrp1rhFoYtuPmng/file# [following]\n",
            "--2022-12-02 09:58:12--  https://uc8bee88e3f878f8274bd4cb193a.dl.dropboxusercontent.com/cd/0/inline/Bx0LOXhaT8NnKr4BOeLKSqCvxeUbRThk4Kj7qPKERdEeZDb6Qua1oSl9fLm2vsPGSXvimWKMgb9vKVkhzP_hrbpiKdbw7_NZtB4QRs07tCs_5ESXvYMkYwu9Dl-AjN_H57sInx7ZZZyt_G97z11P8YCvUrqMwmcBrp1rhFoYtuPmng/file\n",
            "Resolving uc8bee88e3f878f8274bd4cb193a.dl.dropboxusercontent.com (uc8bee88e3f878f8274bd4cb193a.dl.dropboxusercontent.com)... 162.125.3.15, 2620:100:6018:15::a27d:30f\n",
            "Connecting to uc8bee88e3f878f8274bd4cb193a.dl.dropboxusercontent.com (uc8bee88e3f878f8274bd4cb193a.dl.dropboxusercontent.com)|162.125.3.15|:443... connected.\n",
            "HTTP request sent, awaiting response... 200 OK\n",
            "Length: 823374 (804K) [text/plain]\n",
            "Saving to: ‘./data/regression_generated.csv.1’\n",
            "\n",
            "regression_generate 100%[===================>] 804.08K  --.-KB/s    in 0.06s   \n",
            "\n",
            "2022-12-02 09:58:13 (13.9 MB/s) - ‘./data/regression_generated.csv.1’ saved [823374/823374]\n",
            "\n"
          ]
        }
      ]
    },
    {
      "cell_type": "code",
      "source": [
        "file_name = \"./data/regression_generated.csv\"\n",
        "data = pd.read_csv(file_name)\n",
        "data"
      ],
      "metadata": {
        "colab": {
          "base_uri": "https://localhost:8080/",
          "height": 488
        },
        "id": "VyaM9qE-QwS_",
        "outputId": "a331e94d-f91a-43a1-dc0f-700742b31807"
      },
      "execution_count": 11,
      "outputs": [
        {
          "output_type": "execute_result",
          "data": {
            "text/plain": [
              "           label  features_1  features_2  features_3  features_4  features_5  \\\n",
              "0     -89.243497    2.175170   -0.285786   -0.603396   -0.627453   -0.686474   \n",
              "1     230.050125    1.481941   -1.327870   -0.543583   -0.303578    1.552964   \n",
              "2    -286.844411   -1.154394   -0.178649   -1.636646    0.239353   -0.684994   \n",
              "3     364.552862    0.197665    1.455707    1.562205    2.168207    0.053335   \n",
              "4     515.460006    0.596676    0.969860    1.294158   -0.404728    2.145297   \n",
              "...          ...         ...         ...         ...         ...         ...   \n",
              "1995 -328.100239   -1.820929    1.358539   -2.494838    0.828299    0.199255   \n",
              "1996  -62.960036   -0.883712   -0.063687   -0.418704   -0.872601    0.363769   \n",
              "1997  -90.262252   -0.021394   -0.312864   -0.730848   -1.341482   -0.720862   \n",
              "1998  -74.333901   -0.041909   -0.862731   -1.232011    1.268843    0.093043   \n",
              "1999    8.321454   -1.056364    0.259247    0.307835    1.094903    0.472395   \n",
              "\n",
              "      features_6  features_7  features_8  features_9  ...  features_11  \\\n",
              "0       0.381067    0.306205   -0.637447   -1.332087  ...     1.290725   \n",
              "1       0.549738   -0.763094   -0.455796    2.053388  ...    -1.761306   \n",
              "2       0.587201   -0.209564   -0.428956   -0.757998  ...     0.374645   \n",
              "3       0.790492   -0.212023   -1.142483   -1.124906  ...     0.712160   \n",
              "4       0.997481   -0.541670   -0.952850   -0.592084  ...    -1.347072   \n",
              "...          ...         ...         ...         ...  ...          ...   \n",
              "1995    0.142303   -0.582563    0.472356   -1.411304  ...    -1.062502   \n",
              "1996   -0.368570   -0.104321   -2.493615   -1.694770  ...    -0.197659   \n",
              "1997   -0.683872   -0.805370   -0.521334   -0.074645  ...     1.899276   \n",
              "1998    1.684069    0.753851   -0.537096   -0.971790  ...     1.401321   \n",
              "1999    1.702894   -1.981785    0.032232   -1.142503  ...     0.370107   \n",
              "\n",
              "      features_12  features_13  features_14  features_15  features_16  \\\n",
              "0        1.047483    -1.055467     0.853204     0.038665    -0.752959   \n",
              "1       -0.934284    -1.050999     0.444026    -0.037959     1.061624   \n",
              "2       -1.702189    -0.014514    -0.711557    -0.558523    -1.204526   \n",
              "3       -2.844936     0.483994    -0.694294     1.349605    -1.303414   \n",
              "4        0.243422     0.290336     0.798331     0.876428    -0.366807   \n",
              "...           ...          ...          ...          ...          ...   \n",
              "1995     2.299985    -0.085065     0.357165    -1.400150    -0.976176   \n",
              "1996    -0.533637    -0.598431    -0.039737     1.882953    -1.837356   \n",
              "1997     0.417949     0.324229     0.448252    -0.282110    -2.320763   \n",
              "1998    -0.933149    -0.166864     1.152448     1.605114    -1.339651   \n",
              "1999    -1.574455     0.092401     0.249970     0.048932    -0.376273   \n",
              "\n",
              "      features_17  features_18  features_19  features_20  \n",
              "0        0.577920    -0.657400     1.367308     0.570199  \n",
              "1       -1.569870     2.410696     1.113594     2.329479  \n",
              "2        0.234989     0.398384    -0.236555     0.642003  \n",
              "3        0.161987     0.754084     1.248258    -1.466045  \n",
              "4       -0.119534     0.892320    -0.806912     0.736080  \n",
              "...           ...          ...          ...          ...  \n",
              "1995    -0.796009    -0.148662     0.978054    -0.804272  \n",
              "1996     0.583887     0.603931    -0.356482     0.029355  \n",
              "1997     1.484126     0.392324    -1.116838    -0.459027  \n",
              "1998     0.105628     0.676177    -0.035598    -1.329490  \n",
              "1999     1.285961    -0.054588    -1.183828    -0.356557  \n",
              "\n",
              "[2000 rows x 21 columns]"
            ],
            "text/html": [
              "\n",
              "  <div id=\"df-0a23557b-d621-428f-9e7b-560eefc96897\">\n",
              "    <div class=\"colab-df-container\">\n",
              "      <div>\n",
              "<style scoped>\n",
              "    .dataframe tbody tr th:only-of-type {\n",
              "        vertical-align: middle;\n",
              "    }\n",
              "\n",
              "    .dataframe tbody tr th {\n",
              "        vertical-align: top;\n",
              "    }\n",
              "\n",
              "    .dataframe thead th {\n",
              "        text-align: right;\n",
              "    }\n",
              "</style>\n",
              "<table border=\"1\" class=\"dataframe\">\n",
              "  <thead>\n",
              "    <tr style=\"text-align: right;\">\n",
              "      <th></th>\n",
              "      <th>label</th>\n",
              "      <th>features_1</th>\n",
              "      <th>features_2</th>\n",
              "      <th>features_3</th>\n",
              "      <th>features_4</th>\n",
              "      <th>features_5</th>\n",
              "      <th>features_6</th>\n",
              "      <th>features_7</th>\n",
              "      <th>features_8</th>\n",
              "      <th>features_9</th>\n",
              "      <th>...</th>\n",
              "      <th>features_11</th>\n",
              "      <th>features_12</th>\n",
              "      <th>features_13</th>\n",
              "      <th>features_14</th>\n",
              "      <th>features_15</th>\n",
              "      <th>features_16</th>\n",
              "      <th>features_17</th>\n",
              "      <th>features_18</th>\n",
              "      <th>features_19</th>\n",
              "      <th>features_20</th>\n",
              "    </tr>\n",
              "  </thead>\n",
              "  <tbody>\n",
              "    <tr>\n",
              "      <th>0</th>\n",
              "      <td>-89.243497</td>\n",
              "      <td>2.175170</td>\n",
              "      <td>-0.285786</td>\n",
              "      <td>-0.603396</td>\n",
              "      <td>-0.627453</td>\n",
              "      <td>-0.686474</td>\n",
              "      <td>0.381067</td>\n",
              "      <td>0.306205</td>\n",
              "      <td>-0.637447</td>\n",
              "      <td>-1.332087</td>\n",
              "      <td>...</td>\n",
              "      <td>1.290725</td>\n",
              "      <td>1.047483</td>\n",
              "      <td>-1.055467</td>\n",
              "      <td>0.853204</td>\n",
              "      <td>0.038665</td>\n",
              "      <td>-0.752959</td>\n",
              "      <td>0.577920</td>\n",
              "      <td>-0.657400</td>\n",
              "      <td>1.367308</td>\n",
              "      <td>0.570199</td>\n",
              "    </tr>\n",
              "    <tr>\n",
              "      <th>1</th>\n",
              "      <td>230.050125</td>\n",
              "      <td>1.481941</td>\n",
              "      <td>-1.327870</td>\n",
              "      <td>-0.543583</td>\n",
              "      <td>-0.303578</td>\n",
              "      <td>1.552964</td>\n",
              "      <td>0.549738</td>\n",
              "      <td>-0.763094</td>\n",
              "      <td>-0.455796</td>\n",
              "      <td>2.053388</td>\n",
              "      <td>...</td>\n",
              "      <td>-1.761306</td>\n",
              "      <td>-0.934284</td>\n",
              "      <td>-1.050999</td>\n",
              "      <td>0.444026</td>\n",
              "      <td>-0.037959</td>\n",
              "      <td>1.061624</td>\n",
              "      <td>-1.569870</td>\n",
              "      <td>2.410696</td>\n",
              "      <td>1.113594</td>\n",
              "      <td>2.329479</td>\n",
              "    </tr>\n",
              "    <tr>\n",
              "      <th>2</th>\n",
              "      <td>-286.844411</td>\n",
              "      <td>-1.154394</td>\n",
              "      <td>-0.178649</td>\n",
              "      <td>-1.636646</td>\n",
              "      <td>0.239353</td>\n",
              "      <td>-0.684994</td>\n",
              "      <td>0.587201</td>\n",
              "      <td>-0.209564</td>\n",
              "      <td>-0.428956</td>\n",
              "      <td>-0.757998</td>\n",
              "      <td>...</td>\n",
              "      <td>0.374645</td>\n",
              "      <td>-1.702189</td>\n",
              "      <td>-0.014514</td>\n",
              "      <td>-0.711557</td>\n",
              "      <td>-0.558523</td>\n",
              "      <td>-1.204526</td>\n",
              "      <td>0.234989</td>\n",
              "      <td>0.398384</td>\n",
              "      <td>-0.236555</td>\n",
              "      <td>0.642003</td>\n",
              "    </tr>\n",
              "    <tr>\n",
              "      <th>3</th>\n",
              "      <td>364.552862</td>\n",
              "      <td>0.197665</td>\n",
              "      <td>1.455707</td>\n",
              "      <td>1.562205</td>\n",
              "      <td>2.168207</td>\n",
              "      <td>0.053335</td>\n",
              "      <td>0.790492</td>\n",
              "      <td>-0.212023</td>\n",
              "      <td>-1.142483</td>\n",
              "      <td>-1.124906</td>\n",
              "      <td>...</td>\n",
              "      <td>0.712160</td>\n",
              "      <td>-2.844936</td>\n",
              "      <td>0.483994</td>\n",
              "      <td>-0.694294</td>\n",
              "      <td>1.349605</td>\n",
              "      <td>-1.303414</td>\n",
              "      <td>0.161987</td>\n",
              "      <td>0.754084</td>\n",
              "      <td>1.248258</td>\n",
              "      <td>-1.466045</td>\n",
              "    </tr>\n",
              "    <tr>\n",
              "      <th>4</th>\n",
              "      <td>515.460006</td>\n",
              "      <td>0.596676</td>\n",
              "      <td>0.969860</td>\n",
              "      <td>1.294158</td>\n",
              "      <td>-0.404728</td>\n",
              "      <td>2.145297</td>\n",
              "      <td>0.997481</td>\n",
              "      <td>-0.541670</td>\n",
              "      <td>-0.952850</td>\n",
              "      <td>-0.592084</td>\n",
              "      <td>...</td>\n",
              "      <td>-1.347072</td>\n",
              "      <td>0.243422</td>\n",
              "      <td>0.290336</td>\n",
              "      <td>0.798331</td>\n",
              "      <td>0.876428</td>\n",
              "      <td>-0.366807</td>\n",
              "      <td>-0.119534</td>\n",
              "      <td>0.892320</td>\n",
              "      <td>-0.806912</td>\n",
              "      <td>0.736080</td>\n",
              "    </tr>\n",
              "    <tr>\n",
              "      <th>...</th>\n",
              "      <td>...</td>\n",
              "      <td>...</td>\n",
              "      <td>...</td>\n",
              "      <td>...</td>\n",
              "      <td>...</td>\n",
              "      <td>...</td>\n",
              "      <td>...</td>\n",
              "      <td>...</td>\n",
              "      <td>...</td>\n",
              "      <td>...</td>\n",
              "      <td>...</td>\n",
              "      <td>...</td>\n",
              "      <td>...</td>\n",
              "      <td>...</td>\n",
              "      <td>...</td>\n",
              "      <td>...</td>\n",
              "      <td>...</td>\n",
              "      <td>...</td>\n",
              "      <td>...</td>\n",
              "      <td>...</td>\n",
              "      <td>...</td>\n",
              "    </tr>\n",
              "    <tr>\n",
              "      <th>1995</th>\n",
              "      <td>-328.100239</td>\n",
              "      <td>-1.820929</td>\n",
              "      <td>1.358539</td>\n",
              "      <td>-2.494838</td>\n",
              "      <td>0.828299</td>\n",
              "      <td>0.199255</td>\n",
              "      <td>0.142303</td>\n",
              "      <td>-0.582563</td>\n",
              "      <td>0.472356</td>\n",
              "      <td>-1.411304</td>\n",
              "      <td>...</td>\n",
              "      <td>-1.062502</td>\n",
              "      <td>2.299985</td>\n",
              "      <td>-0.085065</td>\n",
              "      <td>0.357165</td>\n",
              "      <td>-1.400150</td>\n",
              "      <td>-0.976176</td>\n",
              "      <td>-0.796009</td>\n",
              "      <td>-0.148662</td>\n",
              "      <td>0.978054</td>\n",
              "      <td>-0.804272</td>\n",
              "    </tr>\n",
              "    <tr>\n",
              "      <th>1996</th>\n",
              "      <td>-62.960036</td>\n",
              "      <td>-0.883712</td>\n",
              "      <td>-0.063687</td>\n",
              "      <td>-0.418704</td>\n",
              "      <td>-0.872601</td>\n",
              "      <td>0.363769</td>\n",
              "      <td>-0.368570</td>\n",
              "      <td>-0.104321</td>\n",
              "      <td>-2.493615</td>\n",
              "      <td>-1.694770</td>\n",
              "      <td>...</td>\n",
              "      <td>-0.197659</td>\n",
              "      <td>-0.533637</td>\n",
              "      <td>-0.598431</td>\n",
              "      <td>-0.039737</td>\n",
              "      <td>1.882953</td>\n",
              "      <td>-1.837356</td>\n",
              "      <td>0.583887</td>\n",
              "      <td>0.603931</td>\n",
              "      <td>-0.356482</td>\n",
              "      <td>0.029355</td>\n",
              "    </tr>\n",
              "    <tr>\n",
              "      <th>1997</th>\n",
              "      <td>-90.262252</td>\n",
              "      <td>-0.021394</td>\n",
              "      <td>-0.312864</td>\n",
              "      <td>-0.730848</td>\n",
              "      <td>-1.341482</td>\n",
              "      <td>-0.720862</td>\n",
              "      <td>-0.683872</td>\n",
              "      <td>-0.805370</td>\n",
              "      <td>-0.521334</td>\n",
              "      <td>-0.074645</td>\n",
              "      <td>...</td>\n",
              "      <td>1.899276</td>\n",
              "      <td>0.417949</td>\n",
              "      <td>0.324229</td>\n",
              "      <td>0.448252</td>\n",
              "      <td>-0.282110</td>\n",
              "      <td>-2.320763</td>\n",
              "      <td>1.484126</td>\n",
              "      <td>0.392324</td>\n",
              "      <td>-1.116838</td>\n",
              "      <td>-0.459027</td>\n",
              "    </tr>\n",
              "    <tr>\n",
              "      <th>1998</th>\n",
              "      <td>-74.333901</td>\n",
              "      <td>-0.041909</td>\n",
              "      <td>-0.862731</td>\n",
              "      <td>-1.232011</td>\n",
              "      <td>1.268843</td>\n",
              "      <td>0.093043</td>\n",
              "      <td>1.684069</td>\n",
              "      <td>0.753851</td>\n",
              "      <td>-0.537096</td>\n",
              "      <td>-0.971790</td>\n",
              "      <td>...</td>\n",
              "      <td>1.401321</td>\n",
              "      <td>-0.933149</td>\n",
              "      <td>-0.166864</td>\n",
              "      <td>1.152448</td>\n",
              "      <td>1.605114</td>\n",
              "      <td>-1.339651</td>\n",
              "      <td>0.105628</td>\n",
              "      <td>0.676177</td>\n",
              "      <td>-0.035598</td>\n",
              "      <td>-1.329490</td>\n",
              "    </tr>\n",
              "    <tr>\n",
              "      <th>1999</th>\n",
              "      <td>8.321454</td>\n",
              "      <td>-1.056364</td>\n",
              "      <td>0.259247</td>\n",
              "      <td>0.307835</td>\n",
              "      <td>1.094903</td>\n",
              "      <td>0.472395</td>\n",
              "      <td>1.702894</td>\n",
              "      <td>-1.981785</td>\n",
              "      <td>0.032232</td>\n",
              "      <td>-1.142503</td>\n",
              "      <td>...</td>\n",
              "      <td>0.370107</td>\n",
              "      <td>-1.574455</td>\n",
              "      <td>0.092401</td>\n",
              "      <td>0.249970</td>\n",
              "      <td>0.048932</td>\n",
              "      <td>-0.376273</td>\n",
              "      <td>1.285961</td>\n",
              "      <td>-0.054588</td>\n",
              "      <td>-1.183828</td>\n",
              "      <td>-0.356557</td>\n",
              "    </tr>\n",
              "  </tbody>\n",
              "</table>\n",
              "<p>2000 rows × 21 columns</p>\n",
              "</div>\n",
              "      <button class=\"colab-df-convert\" onclick=\"convertToInteractive('df-0a23557b-d621-428f-9e7b-560eefc96897')\"\n",
              "              title=\"Convert this dataframe to an interactive table.\"\n",
              "              style=\"display:none;\">\n",
              "        \n",
              "  <svg xmlns=\"http://www.w3.org/2000/svg\" height=\"24px\"viewBox=\"0 0 24 24\"\n",
              "       width=\"24px\">\n",
              "    <path d=\"M0 0h24v24H0V0z\" fill=\"none\"/>\n",
              "    <path d=\"M18.56 5.44l.94 2.06.94-2.06 2.06-.94-2.06-.94-.94-2.06-.94 2.06-2.06.94zm-11 1L8.5 8.5l.94-2.06 2.06-.94-2.06-.94L8.5 2.5l-.94 2.06-2.06.94zm10 10l.94 2.06.94-2.06 2.06-.94-2.06-.94-.94-2.06-.94 2.06-2.06.94z\"/><path d=\"M17.41 7.96l-1.37-1.37c-.4-.4-.92-.59-1.43-.59-.52 0-1.04.2-1.43.59L10.3 9.45l-7.72 7.72c-.78.78-.78 2.05 0 2.83L4 21.41c.39.39.9.59 1.41.59.51 0 1.02-.2 1.41-.59l7.78-7.78 2.81-2.81c.8-.78.8-2.07 0-2.86zM5.41 20L4 18.59l7.72-7.72 1.47 1.35L5.41 20z\"/>\n",
              "  </svg>\n",
              "      </button>\n",
              "      \n",
              "  <style>\n",
              "    .colab-df-container {\n",
              "      display:flex;\n",
              "      flex-wrap:wrap;\n",
              "      gap: 12px;\n",
              "    }\n",
              "\n",
              "    .colab-df-convert {\n",
              "      background-color: #E8F0FE;\n",
              "      border: none;\n",
              "      border-radius: 50%;\n",
              "      cursor: pointer;\n",
              "      display: none;\n",
              "      fill: #1967D2;\n",
              "      height: 32px;\n",
              "      padding: 0 0 0 0;\n",
              "      width: 32px;\n",
              "    }\n",
              "\n",
              "    .colab-df-convert:hover {\n",
              "      background-color: #E2EBFA;\n",
              "      box-shadow: 0px 1px 2px rgba(60, 64, 67, 0.3), 0px 1px 3px 1px rgba(60, 64, 67, 0.15);\n",
              "      fill: #174EA6;\n",
              "    }\n",
              "\n",
              "    [theme=dark] .colab-df-convert {\n",
              "      background-color: #3B4455;\n",
              "      fill: #D2E3FC;\n",
              "    }\n",
              "\n",
              "    [theme=dark] .colab-df-convert:hover {\n",
              "      background-color: #434B5C;\n",
              "      box-shadow: 0px 1px 3px 1px rgba(0, 0, 0, 0.15);\n",
              "      filter: drop-shadow(0px 1px 2px rgba(0, 0, 0, 0.3));\n",
              "      fill: #FFFFFF;\n",
              "    }\n",
              "  </style>\n",
              "\n",
              "      <script>\n",
              "        const buttonEl =\n",
              "          document.querySelector('#df-0a23557b-d621-428f-9e7b-560eefc96897 button.colab-df-convert');\n",
              "        buttonEl.style.display =\n",
              "          google.colab.kernel.accessAllowed ? 'block' : 'none';\n",
              "\n",
              "        async function convertToInteractive(key) {\n",
              "          const element = document.querySelector('#df-0a23557b-d621-428f-9e7b-560eefc96897');\n",
              "          const dataTable =\n",
              "            await google.colab.kernel.invokeFunction('convertToInteractive',\n",
              "                                                     [key], {});\n",
              "          if (!dataTable) return;\n",
              "\n",
              "          const docLinkHtml = 'Like what you see? Visit the ' +\n",
              "            '<a target=\"_blank\" href=https://colab.research.google.com/notebooks/data_table.ipynb>data table notebook</a>'\n",
              "            + ' to learn more about interactive tables.';\n",
              "          element.innerHTML = '';\n",
              "          dataTable['output_type'] = 'display_data';\n",
              "          await google.colab.output.renderOutput(dataTable, element);\n",
              "          const docLink = document.createElement('div');\n",
              "          docLink.innerHTML = docLinkHtml;\n",
              "          element.appendChild(docLink);\n",
              "        }\n",
              "      </script>\n",
              "    </div>\n",
              "  </div>\n",
              "  "
            ]
          },
          "metadata": {},
          "execution_count": 11
        }
      ]
    },
    {
      "cell_type": "code",
      "source": [
        "feature1 = data['features_1']\n",
        "feature2 = data['features_2']\n",
        "feature3 = data['features_3']\n",
        "\n",
        "d = dict(feature1=feature1, feature2=feature2, feature3=feature3)\n",
        "fig, ax = plt.subplots()\n",
        "for (xk, xv), (yk, yv) in itertools.combinations(d.items(), 2):\n",
        "    ax.scatter(xv, yv, label=f'({xk}, {yk})')\n",
        "ax.legend()\n",
        "plt.show()\n",
        "\n",
        "for pair in itertools.combinations((feature1,feature2,feature3), 2):\n",
        "    fig, ax = plt.subplots()\n",
        "    ax.scatter(pair[0], pair[1],label=f'({xk}, {yk})')\n",
        "plt.show()"
      ],
      "metadata": {
        "colab": {
          "base_uri": "https://localhost:8080/",
          "height": 1000
        },
        "id": "Mp00XEyiph71",
        "outputId": "f9e28c07-ff90-4570-ce38-d029f0932383"
      },
      "execution_count": 12,
      "outputs": [
        {
          "output_type": "display_data",
          "data": {
            "text/plain": [
              "<Figure size 432x288 with 1 Axes>"
            ],
            "image/png": "[encoded data removed]"
          },
          "metadata": {
            "needs_background": "light"
          }
        },
        {
          "output_type": "display_data",
          "data": {
            "text/plain": [
              "<Figure size 432x288 with 1 Axes>"
            ],
            "image/png": "[encoded data removed]"
          },
          "metadata": {
            "needs_background": "light"
          }
        },
        {
          "output_type": "display_data",
          "data": {
            "text/plain": [
              "<Figure size 432x288 with 1 Axes>"
            ],
            "image/png": "[encoded data removed]"
          },
          "metadata": {
            "needs_background": "light"
          }
        },
        {
          "output_type": "display_data",
          "data": {
            "text/plain": [
              "<Figure size 432x288 with 1 Axes>"
            ],
            "image/png": "[encoded data removed]"
          },
          "metadata": {
            "needs_background": "light"
          }
        }
      ]
    },
    {
      "cell_type": "markdown",
      "source": [
        "# **Exercise 2**"
      ],
      "metadata": {
        "id": "KESvAbnerOeT"
      }
    },
    {
      "cell_type": "code",
      "source": [
        "def twoDdata():\n",
        "  linalg = np.linalg\n",
        "  N = 1000\n",
        "  mean = [1,1]\n",
        "  cov = [[0.3, 0.2],[0.2, 0.2]]\n",
        "  data = np.random.multivariate_normal(mean, cov, N)\n",
        "  L = linalg.cholesky(cov)\n",
        "  plt.scatter(data[:,0], data[:,1], c='yellow')\n",
        "  plt.show()\n",
        "twoDdata()"
      ],
      "metadata": {
        "colab": {
          "base_uri": "https://localhost:8080/",
          "height": 265
        },
        "id": "T5i6vygMvqys",
        "outputId": "5ce80417-1e33-43e9-974b-61ac2332e750"
      },
      "execution_count": 19,
      "outputs": [
        {
          "output_type": "display_data",
          "data": {
            "text/plain": [
              "<Figure size 432x288 with 1 Axes>"
            ],
            "image/png": "[encoded data removed]"
          },
          "metadata": {
            "needs_background": "light"
          }
        }
      ]
    },
    {
      "cell_type": "code",
      "source": [
        "from re import X\n",
        "def twod(n):\n",
        "  x = []\n",
        "  y = []\n",
        "  for i in range(0,2):\n",
        "    x[i] = np.random.normal(0,10,2)\n",
        "    y[i] = np.random.normal(0,10,2)\n",
        "\n",
        "  fig = plt.figure(figsize=(10,10))\n",
        "  plt.scatter(x[0],y[0], alpha=0.4)\n",
        "  plt.scatter(x[1],y[2], alpha=0.4)\n",
        "  plt.title(\"2D  data\")\n",
        "  plt.xlabel(\"x\")\n",
        "  plt.ylabel(\"y\")\n",
        "  plt.legend()\n",
        "\n",
        "twod(10)\n"
      ],
      "metadata": {
        "colab": {
          "base_uri": "https://localhost:8080/",
          "height": 334
        },
        "id": "Cq8R79pAVrru",
        "outputId": "d9b66d7f-6a4b-4d41-94d6-90526bf055b5"
      },
      "execution_count": 37,
      "outputs": [
        {
          "output_type": "error",
          "ename": "IndexError",
          "evalue": "ignored",
          "traceback": [
            "\u001b[0;31m---------------------------------------------------------------------------\u001b[0m",
            "\u001b[0;31mIndexError\u001b[0m                                Traceback (most recent call last)",
            "\u001b[0;32m<ipython-input-37-8c0e11ab9989>\u001b[0m in \u001b[0;36m<module>\u001b[0;34m\u001b[0m\n\u001b[1;32m     15\u001b[0m   \u001b[0mplt\u001b[0m\u001b[0;34m.\u001b[0m\u001b[0mlegend\u001b[0m\u001b[0;34m(\u001b[0m\u001b[0;34m)\u001b[0m\u001b[0;34m\u001b[0m\u001b[0;34m\u001b[0m\u001b[0m\n\u001b[1;32m     16\u001b[0m \u001b[0;34m\u001b[0m\u001b[0m\n\u001b[0;32m---> 17\u001b[0;31m \u001b[0mtwod\u001b[0m\u001b[0;34m(\u001b[0m\u001b[0;36m10\u001b[0m\u001b[0;34m)\u001b[0m\u001b[0;34m\u001b[0m\u001b[0;34m\u001b[0m\u001b[0m\n\u001b[0m",
            "\u001b[0;32m<ipython-input-37-8c0e11ab9989>\u001b[0m in \u001b[0;36mtwod\u001b[0;34m(n)\u001b[0m\n\u001b[1;32m      4\u001b[0m   \u001b[0my\u001b[0m \u001b[0;34m=\u001b[0m \u001b[0;34m[\u001b[0m\u001b[0;34m]\u001b[0m\u001b[0;34m\u001b[0m\u001b[0;34m\u001b[0m\u001b[0m\n\u001b[1;32m      5\u001b[0m   \u001b[0;32mfor\u001b[0m \u001b[0mi\u001b[0m \u001b[0;32min\u001b[0m \u001b[0mrange\u001b[0m\u001b[0;34m(\u001b[0m\u001b[0;36m0\u001b[0m\u001b[0;34m,\u001b[0m\u001b[0;36m2\u001b[0m\u001b[0;34m)\u001b[0m\u001b[0;34m:\u001b[0m\u001b[0;34m\u001b[0m\u001b[0;34m\u001b[0m\u001b[0m\n\u001b[0;32m----> 6\u001b[0;31m     \u001b[0mx\u001b[0m\u001b[0;34m[\u001b[0m\u001b[0mi\u001b[0m\u001b[0;34m]\u001b[0m \u001b[0;34m=\u001b[0m \u001b[0mnp\u001b[0m\u001b[0;34m.\u001b[0m\u001b[0mrandom\u001b[0m\u001b[0;34m.\u001b[0m\u001b[0mnormal\u001b[0m\u001b[0;34m(\u001b[0m\u001b[0;36m0\u001b[0m\u001b[0;34m,\u001b[0m\u001b[0;36m10\u001b[0m\u001b[0;34m,\u001b[0m\u001b[0;36m2\u001b[0m\u001b[0;34m)\u001b[0m\u001b[0;34m\u001b[0m\u001b[0;34m\u001b[0m\u001b[0m\n\u001b[0m\u001b[1;32m      7\u001b[0m     \u001b[0my\u001b[0m\u001b[0;34m[\u001b[0m\u001b[0mi\u001b[0m\u001b[0;34m]\u001b[0m \u001b[0;34m=\u001b[0m \u001b[0mnp\u001b[0m\u001b[0;34m.\u001b[0m\u001b[0mrandom\u001b[0m\u001b[0;34m.\u001b[0m\u001b[0mnormal\u001b[0m\u001b[0;34m(\u001b[0m\u001b[0;36m0\u001b[0m\u001b[0;34m,\u001b[0m\u001b[0;36m10\u001b[0m\u001b[0;34m,\u001b[0m\u001b[0;36m2\u001b[0m\u001b[0;34m)\u001b[0m\u001b[0;34m\u001b[0m\u001b[0;34m\u001b[0m\u001b[0m\n\u001b[1;32m      8\u001b[0m \u001b[0;34m\u001b[0m\u001b[0m\n",
            "\u001b[0;31mIndexError\u001b[0m: list assignment index out of range"
          ]
        }
      ]
    },
    {
      "cell_type": "markdown",
      "source": [
        "# **Exercise 3**"
      ],
      "metadata": {
        "id": "saLM8PW0T8w-"
      }
    },
    {
      "cell_type": "code",
      "source": [
        "!wget \"https://www.dropbox.com/s/3uqleyc3wyz52tr/residuals_261.pkl\" -P data/\n",
        "filed = \"./data/residuals_261.pkl\"\n",
        "with open('./data/residuals_261.pkl', 'rb') as f:\n",
        "    data_re = pickle.load(f)\n"
      ],
      "metadata": {
        "colab": {
          "base_uri": "https://localhost:8080/"
        },
        "id": "MBrC9qBwUC5w",
        "outputId": "75948c04-b0ef-44fb-e7b7-071384e1ccb2"
      },
      "execution_count": 7,
      "outputs": [
        {
          "output_type": "stream",
          "name": "stdout",
          "text": [
            "--2022-12-02 14:53:55--  https://www.dropbox.com/s/3uqleyc3wyz52tr/residuals_261.pkl\n",
            "Resolving www.dropbox.com (www.dropbox.com)... 162.125.1.18, 2620:100:6017:18::a27d:212\n",
            "Connecting to www.dropbox.com (www.dropbox.com)|162.125.1.18|:443... connected.\n",
            "HTTP request sent, awaiting response... 302 Found\n",
            "Location: /s/raw/3uqleyc3wyz52tr/residuals_261.pkl [following]\n",
            "--2022-12-02 14:53:55--  https://www.dropbox.com/s/raw/3uqleyc3wyz52tr/residuals_261.pkl\n",
            "Reusing existing connection to www.dropbox.com:443.\n",
            "HTTP request sent, awaiting response... 302 Found\n",
            "Location: https://uc16baaaa15b4ea6b3102ee3db6e.dl.dropboxusercontent.com/cd/0/inline/Bx0TGL1hlNaZ8Y0sBexaBXyXFiWQYXJQ30vWk0NfQYSwQjECmsU2SJk6WWJliaNL3Z8Wnlrh8Kgk7IQhCvke3nDP6s8BhsIc8VeW2hHyBacAbLF9jD_pDmTlR-11rJib__VMRtRM5uFX4MvlpaC-Nn1fgVjMuxjrtI2GS4O27iextA/file# [following]\n",
            "--2022-12-02 14:53:55--  https://uc16baaaa15b4ea6b3102ee3db6e.dl.dropboxusercontent.com/cd/0/inline/Bx0TGL1hlNaZ8Y0sBexaBXyXFiWQYXJQ30vWk0NfQYSwQjECmsU2SJk6WWJliaNL3Z8Wnlrh8Kgk7IQhCvke3nDP6s8BhsIc8VeW2hHyBacAbLF9jD_pDmTlR-11rJib__VMRtRM5uFX4MvlpaC-Nn1fgVjMuxjrtI2GS4O27iextA/file\n",
            "Resolving uc16baaaa15b4ea6b3102ee3db6e.dl.dropboxusercontent.com (uc16baaaa15b4ea6b3102ee3db6e.dl.dropboxusercontent.com)... 162.125.1.15, 2620:100:6017:15::a27d:20f\n",
            "Connecting to uc16baaaa15b4ea6b3102ee3db6e.dl.dropboxusercontent.com (uc16baaaa15b4ea6b3102ee3db6e.dl.dropboxusercontent.com)|162.125.1.15|:443... connected.\n",
            "HTTP request sent, awaiting response... 302 Found\n",
            "Location: /cd/0/inline2/Bx1_eF2j62GdEyi9N7ldrxbkorrJOVn8a3YPA9a0m-0kie8H1IYxHbhPpvVKOKdQSDc0o90GwjkFJTF4j3DfdvP1GsLu5DXs0ziKMC7yqQ32ky8e5mS3rSy7lZdIJJGkJo8NUaamWX416BQN6FUiDflInjvmOmvwP8gNfm6StjYWPygUwfCtZyWRl-AH9slE53-9XdykXSbZeUPsDghLs6GDGpHKeYrSK82ZRy_-8HUKrqWYe5XlKbg-mKXYem6lwCD1FqzBhAU929M5G8SjgX5jp2sSL8hHaL6oSVLtkowEgEEP2pLsnplOUXpdVZC7c-oe6ezXpqqAEeLXvgte7f-hausdvUiiNWvCyWT8P-cH7BPDzxvwGlSZ_TnmpRtxIKYzf_kZdmf7Dw_Z8kWyoixsZM_ZjHlkeSHejKGRI81Ptw/file [following]\n",
            "--2022-12-02 14:53:55--  https://uc16baaaa15b4ea6b3102ee3db6e.dl.dropboxusercontent.com/cd/0/inline2/Bx1_eF2j62GdEyi9N7ldrxbkorrJOVn8a3YPA9a0m-0kie8H1IYxHbhPpvVKOKdQSDc0o90GwjkFJTF4j3DfdvP1GsLu5DXs0ziKMC7yqQ32ky8e5mS3rSy7lZdIJJGkJo8NUaamWX416BQN6FUiDflInjvmOmvwP8gNfm6StjYWPygUwfCtZyWRl-AH9slE53-9XdykXSbZeUPsDghLs6GDGpHKeYrSK82ZRy_-8HUKrqWYe5XlKbg-mKXYem6lwCD1FqzBhAU929M5G8SjgX5jp2sSL8hHaL6oSVLtkowEgEEP2pLsnplOUXpdVZC7c-oe6ezXpqqAEeLXvgte7f-hausdvUiiNWvCyWT8P-cH7BPDzxvwGlSZ_TnmpRtxIKYzf_kZdmf7Dw_Z8kWyoixsZM_ZjHlkeSHejKGRI81Ptw/file\n",
            "Reusing existing connection to uc16baaaa15b4ea6b3102ee3db6e.dl.dropboxusercontent.com:443.\n",
            "HTTP request sent, awaiting response... 200 OK\n",
            "Length: 178390 (174K) [application/octet-stream]\n",
            "Saving to: ‘data/residuals_261.pkl.4’\n",
            "\n",
            "residuals_261.pkl.4 100%[===================>] 174.21K  --.-KB/s    in 0.02s   \n",
            "\n",
            "2022-12-02 14:53:56 (7.96 MB/s) - ‘data/residuals_261.pkl.4’ saved [178390/178390]\n",
            "\n"
          ]
        }
      ]
    },
    {
      "cell_type": "code",
      "source": [
        "type(data_re)"
      ],
      "metadata": {
        "colab": {
          "base_uri": "https://localhost:8080/"
        },
        "id": "Lcg8t6-lU6V0",
        "outputId": "3e436cc0-5a9e-4910-fbf1-e65e314a73dd"
      },
      "execution_count": 9,
      "outputs": [
        {
          "output_type": "execute_result",
          "data": {
            "text/plain": [
              "numpy.ndarray"
            ]
          },
          "metadata": {},
          "execution_count": 9
        }
      ]
    }
  ]
}