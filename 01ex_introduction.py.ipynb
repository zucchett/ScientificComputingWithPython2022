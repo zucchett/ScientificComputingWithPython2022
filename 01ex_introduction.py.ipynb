{
 "cells": [
  {
   "cell_type": "code",
   "execution_count": 1,
   "id": "8a5df045",
   "metadata": {},
   "outputs": [
    {
     "name": "stdout",
     "output_type": "stream",
     "text": [
      "1\n",
      "2\n",
      "Hello\n",
      "4\n",
      "World\n",
      "Hello\n",
      "7\n",
      "8\n",
      "Hello\n",
      "World\n",
      "11\n",
      "Hello\n",
      "13\n",
      "14\n",
      "HelloWorld\n",
      "16\n",
      "17\n",
      "Hello\n",
      "19\n",
      "World\n",
      "Hello\n",
      "22\n",
      "23\n",
      "Hello\n",
      "World\n",
      "26\n",
      "Hello\n",
      "28\n",
      "29\n",
      "HelloWorld\n",
      "31\n",
      "32\n",
      "Hello\n",
      "34\n",
      "World\n",
      "Hello\n",
      "37\n",
      "38\n",
      "Hello\n",
      "World\n",
      "41\n",
      "Hello\n",
      "43\n",
      "44\n",
      "HelloWorld\n",
      "46\n",
      "47\n",
      "Hello\n",
      "49\n",
      "World\n",
      "Hello\n",
      "52\n",
      "53\n",
      "Hello\n",
      "World\n",
      "56\n",
      "Hello\n",
      "58\n",
      "59\n",
      "HelloWorld\n",
      "61\n",
      "62\n",
      "Hello\n",
      "64\n",
      "World\n",
      "Hello\n",
      "67\n",
      "68\n",
      "Hello\n",
      "World\n",
      "71\n",
      "Hello\n",
      "73\n",
      "74\n",
      "HelloWorld\n",
      "76\n",
      "77\n",
      "Hello\n",
      "79\n",
      "World\n",
      "Hello\n",
      "82\n",
      "83\n",
      "Hello\n",
      "World\n",
      "86\n",
      "Hello\n",
      "88\n",
      "89\n",
      "HelloWorld\n",
      "91\n",
      "92\n",
      "Hello\n",
      "94\n",
      "World\n",
      "Hello\n",
      "97\n",
      "98\n",
      "Hello\n",
      "World\n",
      "Result Tuple:  [1, 2, 'Python', 4, 'Works', 'Python', 7, 8, 'Python', 'Works', 11, 'Python', 13, 14, 'PythonWorks', 16, 17, 'Python', 19, 'Works', 'Python', 22, 23, 'Python', 'Works', 26, 'Python', 28, 29, 'PythonWorks', 31, 32, 'Python', 34, 'Works', 'Python', 37, 38, 'Python', 'Works', 41, 'Python', 43, 44, 'PythonWorks', 46, 47, 'Python', 49, 'Works', 'Python', 52, 53, 'Python', 'Works', 56, 'Python', 58, 59, 'PythonWorks', 61, 62, 'Python', 64, 'Works', 'Python', 67, 68, 'Python', 'Works', 71, 'Python', 73, 74, 'PythonWorks', 76, 77, 'Python', 79, 'Works', 'Python', 82, 83, 'Python', 'Works', 86, 'Python', 88, 89, 'PythonWorks', 91, 92, 'Python', 94, 'Works', 'Python', 97, 98, 'Python', 'Works']\n"
     ]
    }
   ],
   "source": [
    "# The HelloWorld replacement \n",
    "# 01ex_introduction_es01\n",
    "\n",
    "result=[] #result tuple\n",
    "\n",
    "for i in range(1,101):\n",
    "    if i%3 == 0 and i%5 == 0 :\n",
    "        print(\"HelloWorld\") # multiples of both three and five\n",
    "        result.append(\"PythonWorks\") \n",
    "    elif i%3 == 0: \n",
    "        print(\"Hello\") # multiples of three\n",
    "        result.append(\"Python\") \n",
    "    elif i%5 == 0: \n",
    "        print(\"World\") # multiples of three\n",
    "        result.append(\"Works\") \n",
    "    else:\n",
    "        print(i)\n",
    "        result.append(i)\n",
    "\n",
    "print(\"Result Tuple: \", result) "
   ]
  },
  {
   "cell_type": "code",
   "execution_count": 2,
   "id": "aa30d845",
   "metadata": {},
   "outputs": [
    {
     "name": "stdout",
     "output_type": "stream",
     "text": [
      "enter the whatever type of x value: 5\n",
      "enter the whatever type of y value: sena\n",
      "initial x value is  5 ; initial y value is  sena\n",
      "after swapping process: x value is  sena ; y value is  5\n"
     ]
    }
   ],
   "source": [
    "# The swap\n",
    "# 01ex_introduction_es02\n",
    "\n",
    "# x, y inputs \n",
    "\n",
    "x = input(\"enter the whatever type of x value: \")\n",
    "y = input(\"enter the whatever type of y value: \")\n",
    "\n",
    "print(\"initial x value is \", x, \"; initial y value is \", y)\n",
    "\n",
    "# swapping process\n",
    "\n",
    "x,y=y,x\n",
    "\n",
    "print(\"after swapping process: x value is \", x, \"; y value is \", y)\n"
   ]
  },
  {
   "cell_type": "code",
   "execution_count": 3,
   "id": "b1c3499b",
   "metadata": {},
   "outputs": [
    {
     "name": "stdout",
     "output_type": "stream",
     "text": [
      "5.0\n"
     ]
    }
   ],
   "source": [
    "# Computing the distance\n",
    "# 01ex_introduction_es03\n",
    "\n",
    "import math\n",
    "\n",
    "def euclidean_distance(x, y):\n",
    "    x1, x2 = x[0], x[1]\n",
    "    y1, y2 = y[0], y[1]\n",
    "    \n",
    "    return math.sqrt(((x1+x2)**2)+((y1+y2)**2))\n",
    "    \n",
    "print(euclidean_distance((0,3),(0,4)))\n",
    "    \n"
   ]
  },
  {
   "cell_type": "code",
   "execution_count": 4,
   "id": "75891f07",
   "metadata": {},
   "outputs": [
    {
     "name": "stdout",
     "output_type": "stream",
     "text": [
      "s1:  {'w': 4, 'r': 19, 'i': 12, 't': 19, 'e': 20, ' ': 41, 'a': 7, 'p': 8, 'o': 15, 'g': 1, 'm': 8, 'h': 11, 'n': 10, 's': 7, 'u': 7, 'b': 5, 'f': 10, '1': 2, '0': 2, '.': 3, 'l': 12, 'd': 5, 'v': 2, 'c': 1}\n",
      "s2:  {'t': 2, 'h': 2, 'e': 3, ' ': 8, 'q': 1, 'u': 2, 'i': 1, 'c': 1, 'k': 1, 'b': 1, 'r': 2, 'o': 4, 'w': 1, 'n': 1, 'f': 1, 'x': 1, 'j': 1, 'm': 1, 'p': 1, 's': 1, 'v': 1, 'l': 1, 'a': 1, 'z': 1, 'y': 1, 'd': 1, 'g': 1}\n"
     ]
    }
   ],
   "source": [
    "# Counting letters\n",
    "# 01ex_introduction_es04\n",
    "\n",
    "def count_letters(s):\n",
    "    count = {}\n",
    "    for char in s.lower():\n",
    "        if char in count:\n",
    "            count[char] += 1\n",
    "        else:\n",
    "            count[char] = 1\n",
    "    return str(count)\n",
    "\n",
    "s1 = \"Write a program that prints the numbers from 1 to 100. \\\n",
    "But for multiples of three print Hello instead of the number and for the multiples of five print World. \\\n",
    "For numbers which are multiples of both three and five print HelloWorld.\"\n",
    "s2 = \"The quick brown fox jumps over the lazy dog\"\n",
    "\n",
    "print(\"s1: \", count_letters(s1))\n",
    "print(\"s2: \", count_letters(s2))\n"
   ]
  },
  {
   "cell_type": "code",
   "execution_count": 5,
   "id": "35fadeab",
   "metadata": {},
   "outputs": [
    {
     "name": "stdout",
     "output_type": "stream",
     "text": [
      "Element numbers of input list are  80 . There are  54  unique numbers.\n"
     ]
    }
   ],
   "source": [
    "# Isolating the unique\n",
    "# 01ex_introduction_es05\n",
    "\n",
    "\n",
    "l = [36, 45, 58, 3, 74, 96, 64, 45, 31, 10, 24, 19, 33, 86, 99, 18, 63, 70, 85,\n",
    " 85, 63, 47, 56, 42, 70, 84, 88, 55, 20, 54, 8, 56, 51, 79, 81, 57, 37, 91,\n",
    " 1, 84, 84, 36, 66, 9, 89, 50, 42, 91, 50, 95, 90, 98, 39, 16, 82, 31, 92, 41,\n",
    " 45, 30, 66, 70, 34, 85, 94, 5, 3, 36, 72, 91, 84, 34, 87, 75, 53, 51, 20, 89, 51, 20]\n",
    "\n",
    "def get_unique_numbers(numbers):\n",
    "\n",
    "    unique = []\n",
    "\n",
    "    for number in numbers:\n",
    "        if number not in unique:\n",
    "            unique.append(number)\n",
    "\n",
    "    return str(len(unique))\n",
    "\n",
    "\n",
    "print(\"Element numbers of input list are \" , str(len(l)) , \". There are \" , get_unique_numbers(l) , \" unique numbers.\")\n"
   ]
  },
  {
   "cell_type": "code",
   "execution_count": 6,
   "id": "bc7c5ba1",
   "metadata": {},
   "outputs": [
    {
     "name": "stdout",
     "output_type": "stream",
     "text": [
      "enter x (It can be int/float/str): 4.2\n",
      "enter y (It can be int/float/str): 3\n",
      "float type -> result of add operation x + y =  7.2\n",
      "This is finally case! End of the code...\n"
     ]
    }
   ],
   "source": [
    "# Casting\n",
    "# 01ex_introduction_es06\n",
    "\n",
    "x = input(\"enter x (It can be int/float/str): \")\n",
    "y = input(\"enter y (It can be int/float/str): \")\n",
    "\n",
    "try:\n",
    "    if x.isalpha() and y.isalpha():\n",
    "        add_op = x + y\n",
    "        print(\"str type -> addition process result is \", add_op)\n",
    "    else: \n",
    "        add_op = int(x) + int(y)\n",
    "        print(\"int type -> result of add operation x + y = \", add_op)\n",
    "except:\n",
    "    try:\n",
    "        add_op = float(x) + float(y)\n",
    "        print(\"float type -> result of add operation x + y = \", add_op)\n",
    "    except:     \n",
    "        print(x + \" and \" + y + \" are different type. Thats why cannot be added!\")\n",
    "finally:\n",
    "    print(\"This is finally case! End of the code...\")"
   ]
  },
  {
   "cell_type": "code",
   "execution_count": 7,
   "id": "3452716b",
   "metadata": {},
   "outputs": [
    {
     "name": "stdout",
     "output_type": "stream",
     "text": [
      "for loop result:  [0, 1, 8, 27, 64, 125, 216, 343, 512, 729]\n",
      "list comprehension:  [0, 1, 8, 27, 64, 125, 216, 343, 512, 729]\n"
     ]
    }
   ],
   "source": [
    "# Cubes\n",
    "# 01ex_introduction_es07\n",
    "\n",
    "# a - for loop\n",
    "\n",
    "def cube_list_for():\n",
    "    cube_list = []\n",
    "    for num in range(0, 10):\n",
    "        cube_list.append(num**3)\n",
    "    return print(\"for loop result: \", cube_list)\n",
    "\n",
    "\n",
    "# b - list comprehension\n",
    "\n",
    "def cube_list_comp():\n",
    "    cube_list = [num**3 for num in range(0, 10)]\n",
    "    return print(\"list comprehension: \", cube_list)\n",
    "\n",
    "cube_list_for()\n",
    "cube_list_comp()"
   ]
  },
  {
   "cell_type": "code",
   "execution_count": 8,
   "id": "9725ec85",
   "metadata": {},
   "outputs": [
    {
     "name": "stdout",
     "output_type": "stream",
     "text": [
      "[(0, 0), (0, 1), (0, 2), (0, 3), (1, 0), (1, 1), (1, 2), (1, 3), (2, 0), (2, 1), (2, 2), (2, 3)]\n"
     ]
    }
   ],
   "source": [
    "# List comprehension\n",
    "# 01ex_introduction_es08\n",
    "\n",
    "a = [(i, j) for i in range(3) for j in range(4)]\n",
    "print(a)"
   ]
  },
  {
   "cell_type": "code",
   "execution_count": 9,
   "id": "7b5ccdaf",
   "metadata": {},
   "outputs": [
    {
     "name": "stdout",
     "output_type": "stream",
     "text": [
      "[(3, 4, 5), (5, 12, 13), (6, 8, 10), (7, 24, 25), (8, 15, 17), (9, 12, 15), (9, 40, 41), (10, 24, 26), (11, 60, 61), (12, 16, 20), (12, 35, 37), (13, 84, 85), (14, 48, 50), (15, 20, 25), (15, 36, 39), (16, 30, 34), (16, 63, 65), (18, 24, 30), (18, 80, 82), (20, 21, 29), (20, 48, 52), (21, 28, 35), (21, 72, 75), (24, 32, 40), (24, 45, 51), (24, 70, 74), (25, 60, 65), (27, 36, 45), (28, 45, 53), (28, 96, 100), (30, 40, 50), (30, 72, 78), (32, 60, 68), (33, 44, 55), (33, 56, 65), (35, 84, 91), (36, 48, 60), (36, 77, 85), (39, 52, 65), (39, 80, 89), (40, 42, 58), (40, 75, 85), (42, 56, 70), (45, 60, 75), (48, 55, 73), (48, 64, 80), (51, 68, 85), (54, 72, 90), (57, 76, 95), (60, 63, 87), (60, 80, 100), (65, 72, 97)]\n"
     ]
    }
   ],
   "source": [
    "# Nested list comprehension\n",
    "# 01ex_introduction_es09\n",
    "\n",
    "n = 100\n",
    "pythagorean_triple = [(a, b, c) for a in range(1, n + 1) for b in range(a, n + 1) for c in range(b, n + 1) if a**2 + b**2 == c**2]\n",
    "print(pythagorean_triple)"
   ]
  },
  {
   "cell_type": "code",
   "execution_count": 10,
   "id": "6191bf97",
   "metadata": {},
   "outputs": [],
   "source": [
    "# Normalization of a N-dimensional vector\n",
    "# 01ex_introduction_es10\n"
   ]
  },
  {
   "cell_type": "code",
   "execution_count": 11,
   "id": "6e83b33a",
   "metadata": {},
   "outputs": [
    {
     "name": "stdout",
     "output_type": "stream",
     "text": [
      "Fibonacci sequence: [0, 1, 1, 2, 3, 5, 8, 13, 21, 34, 55, 89, 144, 233, 377, 610, 987, 1597, 2584, 4181]\n"
     ]
    }
   ],
   "source": [
    "# The Fibonacci sequence\n",
    "# 01ex_introduction_es11\n",
    "\n",
    "fib_list = []\n",
    "\n",
    "num1, num2 = 0, 1\n",
    "\n",
    "for x in range(20):\n",
    "    fib_list.append(num1)\n",
    "    new_num = num1 + num2\n",
    "    num1 = num2\n",
    "    num2 = new_num\n",
    "\n",
    "print(\"Fibonacci sequence: \" + str(fib_list))"
   ]
  },
  {
   "cell_type": "code",
   "execution_count": null,
   "id": "0930e337",
   "metadata": {},
   "outputs": [],
   "source": []
  }
 ],
 "metadata": {
  "kernelspec": {
   "display_name": "Python 3 (ipykernel)",
   "language": "python",
   "name": "python3"
  },
  "language_info": {
   "codemirror_mode": {
    "name": "ipython",
    "version": 3
   },
   "file_extension": ".py",
   "mimetype": "text/x-python",
   "name": "python",
   "nbconvert_exporter": "python",
   "pygments_lexer": "ipython3",
   "version": "3.9.7"
  }
 },
 "nbformat": 4,
 "nbformat_minor": 5
}
