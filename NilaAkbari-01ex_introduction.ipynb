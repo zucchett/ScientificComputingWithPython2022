{
  "nbformat": 4,
  "nbformat_minor": 0,
  "metadata": {
    "colab": {
      "provenance": [],
      "collapsed_sections": [
        "uZJGLUOZtvRG",
        "Qgwz00cNuyjO",
        "la93-DomvUQI",
        "bu3D_72jxr3f",
        "h5N9egVW1k40"
      ],
      "authorship_tag": "ABX9TyPHUxrWlQknEwKrKuBePDkr",
      "include_colab_link": true
    },
    "kernelspec": {
      "name": "python3",
      "display_name": "Python 3"
    },
    "language_info": {
      "name": "python"
    }
  },
  "cells": [
    {
      "cell_type": "markdown",
      "metadata": {
        "id": "view-in-github",
        "colab_type": "text"
      },
      "source": [
        "<a href=\"https://colab.research.google.com/github/NilaAkbari/ScientificComputingWithPython2022/blob/main/NilaAkbari-01ex_introduction.ipynb\" target=\"_parent\"><img src=\"https://colab.research.google.com/assets/colab-badge.svg\" alt=\"Open In Colab\"/></a>"
      ]
    },
    {
      "cell_type": "markdown",
      "source": [
        "# 1. HelloWorld Replacement (a)\n"
      ],
      "metadata": {
        "id": "uZJGLUOZtvRG"
      }
    },
    {
      "cell_type": "code",
      "execution_count": null,
      "metadata": {
        "colab": {
          "base_uri": "https://localhost:8080/"
        },
        "id": "u7FMMIrptsyS",
        "outputId": "5ad9c62f-6867-476a-98dd-3f5d74ece135"
      },
      "outputs": [
        {
          "output_type": "stream",
          "name": "stdout",
          "text": [
            "1\n",
            "2\n",
            "Hello\n",
            "4\n",
            "World\n",
            "Hello\n",
            "7\n",
            "8\n",
            "Hello\n",
            "World\n",
            "11\n",
            "Hello\n",
            "13\n",
            "14\n",
            "HelloWorld\n",
            "16\n",
            "17\n",
            "Hello\n",
            "19\n",
            "World\n",
            "Hello\n",
            "22\n",
            "23\n",
            "Hello\n",
            "World\n",
            "26\n",
            "Hello\n",
            "28\n",
            "29\n",
            "HelloWorld\n",
            "31\n",
            "32\n",
            "Hello\n",
            "34\n",
            "World\n",
            "Hello\n",
            "37\n",
            "38\n",
            "Hello\n",
            "World\n",
            "41\n",
            "Hello\n",
            "43\n",
            "44\n",
            "HelloWorld\n",
            "46\n",
            "47\n",
            "Hello\n",
            "49\n",
            "World\n",
            "Hello\n",
            "52\n",
            "53\n",
            "Hello\n",
            "World\n",
            "56\n",
            "Hello\n",
            "58\n",
            "59\n",
            "HelloWorld\n",
            "61\n",
            "62\n",
            "Hello\n",
            "64\n",
            "World\n",
            "Hello\n",
            "67\n",
            "68\n",
            "Hello\n",
            "World\n",
            "71\n",
            "Hello\n",
            "73\n",
            "74\n",
            "HelloWorld\n",
            "76\n",
            "77\n",
            "Hello\n",
            "79\n",
            "World\n",
            "Hello\n",
            "82\n",
            "83\n",
            "Hello\n",
            "World\n",
            "86\n",
            "Hello\n",
            "88\n",
            "89\n",
            "HelloWorld\n",
            "91\n",
            "92\n",
            "Hello\n",
            "94\n",
            "World\n",
            "Hello\n",
            "97\n",
            "98\n",
            "Hello\n",
            "World\n"
          ]
        }
      ],
      "source": [
        "for i in range (1, 101):\n",
        "  if i % 15 == 0:\n",
        "    print(\"HelloWorld\")\n",
        "  elif i % 3 == 0:\n",
        "    print(\"Hello\")\n",
        "  elif i % 5 == 0:\n",
        "    print(\"World\")\n",
        "  else:\n",
        "    print(i)"
      ]
    },
    {
      "cell_type": "markdown",
      "source": [
        "# 1. HelloWorld Replacement (b)"
      ],
      "metadata": {
        "id": "Qgwz00cNuyjO"
      }
    },
    {
      "cell_type": "code",
      "source": [
        "tuple_count = ()\n",
        "\n",
        "for i in range (1, 101):\n",
        "  if i % 15 == 0:\n",
        "    tuple_count += (\"PythonWorks\",)\n",
        "  elif i % 3 == 0:\n",
        "    tuple_count += (\"Python\",)\n",
        "  elif i % 5 == 0:\n",
        "    tuple_count += (\"Works\",)\n",
        "  else:\n",
        "    tuple_count += (str(i),)\n",
        "\n",
        "print(tuple_count)"
      ],
      "metadata": {
        "id": "K1wxXi0yu2dG",
        "colab": {
          "base_uri": "https://localhost:8080/"
        },
        "outputId": "633b35a0-0c86-4a27-eaf0-8423ea94a7ef"
      },
      "execution_count": null,
      "outputs": [
        {
          "output_type": "stream",
          "name": "stdout",
          "text": [
            "('1', '2', 'Python', '4', 'Works', 'Python', '7', '8', 'Python', 'Works', '11', 'Python', '13', '14', 'PythonWorks', '16', '17', 'Python', '19', 'Works', 'Python', '22', '23', 'Python', 'Works', '26', 'Python', '28', '29', 'PythonWorks', '31', '32', 'Python', '34', 'Works', 'Python', '37', '38', 'Python', 'Works', '41', 'Python', '43', '44', 'PythonWorks', '46', '47', 'Python', '49', 'Works', 'Python', '52', '53', 'Python', 'Works', '56', 'Python', '58', '59', 'PythonWorks', '61', '62', 'Python', '64', 'Works', 'Python', '67', '68', 'Python', 'Works', '71', 'Python', '73', '74', 'PythonWorks', '76', '77', 'Python', '79', 'Works', 'Python', '82', '83', 'Python', 'Works', '86', 'Python', '88', '89', 'PythonWorks', '91', '92', 'Python', '94', 'Works', 'Python', '97', '98', 'Python', 'Works')\n"
          ]
        }
      ]
    },
    {
      "cell_type": "markdown",
      "source": [
        "# 2. The Swap"
      ],
      "metadata": {
        "id": "la93-DomvUQI"
      }
    },
    {
      "cell_type": "code",
      "source": [
        "x, y = input(\"enter x and y divided by a space:\").split(' ')\n",
        "y, x = x, y\n",
        "print(\"new x: \" + x + \"\\n\" + \"new y: \" + y)"
      ],
      "metadata": {
        "colab": {
          "base_uri": "https://localhost:8080/"
        },
        "id": "yKDx6dxHvYlx",
        "outputId": "e4dd683c-7279-4c96-d60e-8d3308b84474"
      },
      "execution_count": null,
      "outputs": [
        {
          "output_type": "stream",
          "name": "stdout",
          "text": [
            "enter x and y divided by a space:2 6\n",
            "new x: 6\n",
            "new y: 2\n"
          ]
        }
      ]
    },
    {
      "cell_type": "markdown",
      "source": [
        "# 3. Computing the Distance"
      ],
      "metadata": {
        "id": "bu3D_72jxr3f"
      }
    },
    {
      "cell_type": "code",
      "source": [
        "import math\n",
        "\n",
        "def euclidean_diff(u, v):\n",
        "  x = float(u[0]) - float(v[0])\n",
        "  y = float(u[1]) - float(v[1])\n",
        "\n",
        "  dist = math.sqrt(x**2 + y**2)\n",
        "  \n",
        "  return dist\n",
        "\n",
        "u = tuple(input('Enter space-separated coordinathions: ').split())\n",
        "v = tuple(input('Enter space-separated coordinathions: ').split())\n",
        "\n",
        "\n",
        "\n",
        "print(euclidean_diff(u, v))"
      ],
      "metadata": {
        "colab": {
          "base_uri": "https://localhost:8080/"
        },
        "id": "noQtCmyPx2JZ",
        "outputId": "5e8bd6fb-5185-43f5-8bcf-39f6efbe13c3"
      },
      "execution_count": null,
      "outputs": [
        {
          "output_type": "stream",
          "name": "stdout",
          "text": [
            "Enter space-separated coordinathions: 0 5\n",
            "Enter space-separated coordinathions: 0 7\n",
            "2.0\n"
          ]
        }
      ]
    },
    {
      "cell_type": "markdown",
      "source": [
        "# 4. Counting Letters"
      ],
      "metadata": {
        "id": "h5N9egVW1k40"
      }
    },
    {
      "cell_type": "code",
      "source": [
        "s1 = \"Write a program that prints the numbers from 1 to 100. \\\n",
        "But for multiples of three print Hello instead of the number and for the multiples of five print World. \\\n",
        "For numbers which are multiples of both three and five print HelloWorld.\"\n",
        "s2 = \"The quick brown fox jumps over the lazy dog\"\n",
        "\n",
        "def c(s):\n",
        "  \n",
        "  count = {}\n",
        "\n",
        "  for i in s:\n",
        "    if i in count:\n",
        "      count[i] += 1\n",
        "    else:\n",
        "      count[i] = 1\n",
        "\n",
        "  return (count)\n",
        "\n",
        "print(\"s1: \\n\" , c(s1) , \"\\n s2: \\n\" , c(s2) )"
      ],
      "metadata": {
        "colab": {
          "base_uri": "https://localhost:8080/"
        },
        "id": "07mZqHmo1pRg",
        "outputId": "a7a40e81-afba-429d-e18e-352952f1cf12"
      },
      "execution_count": null,
      "outputs": [
        {
          "output_type": "stream",
          "name": "stdout",
          "text": [
            "s1: \n",
            " {'W': 3, 'r': 19, 'i': 12, 't': 19, 'e': 20, ' ': 41, 'a': 7, 'p': 8, 'o': 15, 'g': 1, 'm': 8, 'h': 9, 'n': 10, 's': 7, 'u': 7, 'b': 4, 'f': 9, '1': 2, '0': 2, '.': 3, 'B': 1, 'l': 12, 'H': 2, 'd': 5, 'v': 2, 'F': 1, 'w': 1, 'c': 1} \n",
            " s2: \n",
            " {'T': 1, 'h': 2, 'e': 3, ' ': 8, 'q': 1, 'u': 2, 'i': 1, 'c': 1, 'k': 1, 'b': 1, 'r': 2, 'o': 4, 'w': 1, 'n': 1, 'f': 1, 'x': 1, 'j': 1, 'm': 1, 'p': 1, 's': 1, 'v': 1, 't': 1, 'l': 1, 'a': 1, 'z': 1, 'y': 1, 'd': 1, 'g': 1}\n"
          ]
        }
      ]
    },
    {
      "cell_type": "markdown",
      "source": [
        "# 5. Isolating the unique"
      ],
      "metadata": {
        "id": "f205msinvVUk"
      }
    },
    {
      "cell_type": "code",
      "source": [
        "l = [36, 45, 58, 3, 74, 96, 64, 45, 31, 10, 24, 19, 33, 86, 99, 18, 63, 70, 85,\n",
        " 85, 63, 47, 56, 42, 70, 84, 88, 55, 20, 54, 8, 56, 51, 79, 81, 57, 37, 91,\n",
        " 1, 84, 84, 36, 66, 9, 89, 50, 42, 91, 50, 95, 90, 98, 39, 16, 82, 31, 92, 41,\n",
        " 45, 30, 66, 70, 34, 85, 94, 5, 3, 36, 72, 91, 84, 34, 87, 75, 53, 51, 20, 89, 51, 20]\n",
        "\n",
        "count = 0\n",
        "\n",
        "repeated = []\n",
        "\n",
        "unique = []\n",
        "\n",
        "for i in l:\n",
        "\n",
        "  if ( (i not in unique) and (i not in repeated)):\n",
        "    unique.append(i)\n",
        "    count += 1\n",
        "       \n",
        "  elif (i not in repeated):\n",
        "    unique.remove(i)\n",
        "    repeated.append(i)\n",
        "    count -= 1\n",
        "\n",
        "  else:\n",
        "    continue\n",
        "\n",
        "print(unique, count)\n"
      ],
      "metadata": {
        "colab": {
          "base_uri": "https://localhost:8080/"
        },
        "id": "02FU_IYHvZMZ",
        "outputId": "0c4e0caf-3a96-4256-daa6-db3c10ad7c65"
      },
      "execution_count": null,
      "outputs": [
        {
          "output_type": "stream",
          "name": "stdout",
          "text": [
            "[58, 74, 96, 64, 10, 24, 19, 33, 86, 99, 18, 47, 88, 55, 54, 8, 79, 81, 57, 37, 1, 9, 95, 90, 98, 39, 16, 82, 92, 41, 30, 94, 5, 72, 87, 75, 53] 37\n"
          ]
        }
      ]
    },
    {
      "cell_type": "markdown",
      "source": [
        "# 6. Casting"
      ],
      "metadata": {
        "id": "IaVfRW3gywqm"
      }
    },
    {
      "cell_type": "code",
      "source": [
        "x, y = input(\"input two variables seperated by a space:\").split(' ')\n",
        "\n",
        "def type_checker(a):\n",
        "  try:\n",
        "    a_int = int(a)\n",
        "    return int\n",
        "  except ValueError:\n",
        "    try:\n",
        "      a_float = float(a)\n",
        "      return float\n",
        "    except ValueError:\n",
        "      return str\n",
        "    \n",
        "    \n",
        "if (type_checker(x) == type_checker(y)):\n",
        "  print(type_checker(x)(x) + type_checker(y)(y))\n",
        "\n",
        "else:\n",
        "  print(\"the variables are not compatible\")"
      ],
      "metadata": {
        "id": "tg0mHOmV0QHf",
        "colab": {
          "base_uri": "https://localhost:8080/"
        },
        "outputId": "5e7d3996-658b-4aff-a065-1de5704c065d"
      },
      "execution_count": null,
      "outputs": [
        {
          "output_type": "stream",
          "name": "stdout",
          "text": [
            "input two variables seperated by a space:234.1 34.78\n",
            "268.88\n"
          ]
        }
      ]
    },
    {
      "cell_type": "markdown",
      "source": [
        "# 7. Cubes(a)"
      ],
      "metadata": {
        "id": "L4z7EVrp0YiV"
      }
    },
    {
      "cell_type": "code",
      "source": [
        "cubes = []\n",
        "\n",
        "for i in range(0, 11):\n",
        "  cubes.append(i**3)\n",
        "\n",
        "print(cubes)"
      ],
      "metadata": {
        "colab": {
          "base_uri": "https://localhost:8080/"
        },
        "id": "ejzcHj8rUzEi",
        "outputId": "a9d76547-f676-426b-fd5a-153d40b6eb2a"
      },
      "execution_count": null,
      "outputs": [
        {
          "output_type": "stream",
          "name": "stdout",
          "text": [
            "[0, 1, 8, 27, 64, 125, 216, 343, 512, 729, 1000]\n"
          ]
        }
      ]
    },
    {
      "cell_type": "markdown",
      "source": [
        "# 7. Cubes(b)"
      ],
      "metadata": {
        "id": "K5lzo2rTaPND"
      }
    },
    {
      "cell_type": "code",
      "source": [
        "cubes = [(i**3) for i in range(0, 11)]\n",
        "print(cubes)"
      ],
      "metadata": {
        "colab": {
          "base_uri": "https://localhost:8080/"
        },
        "id": "9rVREIVsaSzA",
        "outputId": "92ef8044-78eb-485a-eb86-a6b44eead271"
      },
      "execution_count": null,
      "outputs": [
        {
          "output_type": "stream",
          "name": "stdout",
          "text": [
            "[0, 1, 8, 27, 64, 125, 216, 343, 512, 729, 1000]\n"
          ]
        }
      ]
    },
    {
      "cell_type": "markdown",
      "source": [
        "#8. List comprehension\n"
      ],
      "metadata": {
        "id": "RTBItZKAayPB"
      }
    },
    {
      "cell_type": "code",
      "source": [
        "print( [(x, y) for x in range(3) for y in range(4)] )"
      ],
      "metadata": {
        "colab": {
          "base_uri": "https://localhost:8080/"
        },
        "id": "ln-PrTqZa1HZ",
        "outputId": "2836a49b-fc2a-4bdb-80b6-53931511c364"
      },
      "execution_count": null,
      "outputs": [
        {
          "output_type": "stream",
          "name": "stdout",
          "text": [
            "[(0, 0), (0, 1), (0, 2), (0, 3), (1, 0), (1, 1), (1, 2), (1, 3), (2, 0), (2, 1), (2, 2), (2, 3)]\n"
          ]
        }
      ]
    },
    {
      "cell_type": "markdown",
      "source": [
        "#9. Nested list comprehension"
      ],
      "metadata": {
        "id": "yP-hXEd1bMYA"
      }
    },
    {
      "cell_type": "code",
      "source": [
        "def pythagoreanTriplets(maximum) :\n",
        "  #the mathematics are at https://en.wikipedia.org/wiki/Formulas_for_generating_Pythagorean_triples\n",
        "  c, m = 0, 2\n",
        "  list_pyth = []\n",
        "  while c < maximum :\t\n",
        "    for n in range(1, m) :\n",
        "      a = m * m - n * n\n",
        "      b = 2 * m * n\n",
        "      c = m * m + n * n\n",
        "\n",
        "      if c > maximum :\n",
        "        break\n",
        "\n",
        "      \n",
        "      list_pyth.append((a, b, c))\n",
        "\n",
        "    m = m + 1\n",
        "    \n",
        "  return list_pyth\n",
        "\n",
        "\n",
        "pythagoreanTriplets(100)\n",
        "\n"
      ],
      "metadata": {
        "colab": {
          "base_uri": "https://localhost:8080/"
        },
        "id": "Bdhso-qweVn1",
        "outputId": "bd147044-c580-4c7e-b4d2-36d37e5b2bd8"
      },
      "execution_count": null,
      "outputs": [
        {
          "output_type": "execute_result",
          "data": {
            "text/plain": [
              "[(3, 4, 5),\n",
              " (8, 6, 10),\n",
              " (5, 12, 13),\n",
              " (15, 8, 17),\n",
              " (12, 16, 20),\n",
              " (7, 24, 25),\n",
              " (24, 10, 26),\n",
              " (21, 20, 29),\n",
              " (16, 30, 34),\n",
              " (9, 40, 41),\n",
              " (35, 12, 37),\n",
              " (32, 24, 40),\n",
              " (27, 36, 45),\n",
              " (20, 48, 52),\n",
              " (11, 60, 61),\n",
              " (48, 14, 50),\n",
              " (45, 28, 53),\n",
              " (40, 42, 58),\n",
              " (33, 56, 65),\n",
              " (24, 70, 74),\n",
              " (13, 84, 85),\n",
              " (63, 16, 65),\n",
              " (60, 32, 68),\n",
              " (55, 48, 73),\n",
              " (48, 64, 80),\n",
              " (39, 80, 89),\n",
              " (28, 96, 100)]"
            ]
          },
          "metadata": {},
          "execution_count": 49
        }
      ]
    },
    {
      "cell_type": "markdown",
      "source": [
        "#10. Normalization of a N-dimensional vector\n",
        "\n",
        "\n"
      ],
      "metadata": {
        "id": "F0SA4xr3bN8n"
      }
    },
    {
      "cell_type": "code",
      "source": [
        "import math\n",
        "input_vector = input('input a vector and separate the elements by space').split(' ')\n",
        "\n",
        "def norm(v):\n",
        "\n",
        "  sum = 0\n",
        "  for i in v:\n",
        "    i = float(i)\n",
        "    sum += i**2\n",
        "\n",
        "  len = math.sqrt(sum)\n",
        "\n",
        "  normalized_vector = []\n",
        "\n",
        "  for i in input_vector:\n",
        "    i = float(i)\n",
        "    normalized_vector.append(i/len)\n",
        "\n",
        "  return normalized_vector\n",
        "\n",
        "print(norm(input_vector))"
      ],
      "metadata": {
        "colab": {
          "base_uri": "https://localhost:8080/"
        },
        "id": "uO-_fOiwcLQb",
        "outputId": "246d8010-b23e-45f8-85ae-653b6dec8499"
      },
      "execution_count": null,
      "outputs": [
        {
          "output_type": "stream",
          "name": "stdout",
          "text": [
            "input a vector and separate the elements by space3 4\n",
            "[0.6, 0.8]\n"
          ]
        }
      ]
    },
    {
      "cell_type": "markdown",
      "source": [
        "#11. The Fibonacci sequence"
      ],
      "metadata": {
        "id": "03xNZIXdbPfJ"
      }
    },
    {
      "cell_type": "code",
      "source": [
        "fib = [1, 1]\n",
        "\n",
        "for i in range(18):\n",
        "  fib.append(fib[i] + fib[i+1])\n",
        "\n",
        "print(fib)"
      ],
      "metadata": {
        "colab": {
          "base_uri": "https://localhost:8080/"
        },
        "id": "C1T1N2kdbSwT",
        "outputId": "4c947dc9-66c8-4a61-86eb-b2e52aba69f3"
      },
      "execution_count": null,
      "outputs": [
        {
          "output_type": "stream",
          "name": "stdout",
          "text": [
            "[1, 1, 2, 3, 5, 8, 13, 21, 34, 55, 89, 144, 233, 377, 610, 987, 1597, 2584, 4181, 6765]\n"
          ]
        }
      ]
    }
  ]
}