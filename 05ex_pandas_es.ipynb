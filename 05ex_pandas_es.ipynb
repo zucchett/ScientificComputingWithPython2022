{
  "nbformat": 4,
  "nbformat_minor": 0,
  "metadata": {
    "colab": {
      "provenance": []
    },
    "kernelspec": {
      "name": "python3",
      "display_name": "Python 3"
    },
    "language_info": {
      "name": "python"
    }
  },
  "cells": [
    {
      "cell_type": "code",
      "execution_count": null,
      "metadata": {
        "id": "6NshWM6H4oMd"
      },
      "outputs": [],
      "source": [
        "#task 1\n",
        "import pandas as pd\n",
        "!wget https://www.dropbox.com/s/xvjzaxzz3ysphme/data_000637.txt -P ./data/\n",
        "data = pd.read_csv('data/data_000637.txt').head(15000)           \n",
        "dp = pd.DataFrame(data)\n",
        "print(dp)\n"
      ]
    },
    {
      "cell_type": "code",
      "source": [
        "#task 2\n",
        "dp_full = pd.DataFrame(data)\n",
        "BX_max = dp_full.BX_COUNTER.max()\n",
        "print(\"Max BX \"+str(BX_max))"
      ],
      "metadata": {
        "colab": {
          "base_uri": "https://localhost:8080/"
        },
        "id": "hPU83YIC5FGa",
        "outputId": "858eaeec-4c2a-4474-89f9-1d498456e03a"
      },
      "execution_count": 3,
      "outputs": [
        {
          "output_type": "stream",
          "name": "stdout",
          "text": [
            "Max BX 3563\n"
          ]
        }
      ]
    },
    {
      "cell_type": "code",
      "source": [
        "#task 3 \n",
        "\n",
        "import datetime as dt\n",
        "\n",
        "dp['TIME_NS'] = data['TDC_MEAS'] * 25 / 30 + data['BX_COUNTER'] * 25\n",
        "\n",
        "data"
      ],
      "metadata": {
        "id": "YEZJMJGl5Gy_"
      },
      "execution_count": null,
      "outputs": []
    },
    {
      "cell_type": "code",
      "source": [
        "#task 4\n",
        "dp['Absolute_time'] = pd.to_datetime(dp['TIME_NS'], unit ='ns')\n",
        "dp\n"
      ],
      "metadata": {
        "id": "mI1Tslgl5HaW"
      },
      "execution_count": null,
      "outputs": []
    },
    {
      "cell_type": "code",
      "source": [
        "#task 5\n",
        "\n",
        "grouped =  data.groupby('TDC_CHANNEL').sum().sort_values(by = ['HEAD']).iloc[-3:]\n",
        "grouped"
      ],
      "metadata": {
        "id": "Dojrhd5K5Hje"
      },
      "execution_count": null,
      "outputs": []
    },
    {
      "cell_type": "code",
      "source": [
        "#task 6\n",
        "\n",
        "DF=data[data['TDC_CHANNEL']==139]\n",
        "print(DF)"
      ],
      "metadata": {
        "id": "7jV1wj285HuB"
      },
      "execution_count": null,
      "outputs": []
    },
    {
      "cell_type": "code",
      "source": [
        "#task 7\n",
        "\n",
        "DF=DF.ORBIT_CNT.nunique() \n",
        "print(DF)"
      ],
      "metadata": {
        "colab": {
          "base_uri": "https://localhost:8080/"
        },
        "id": "KHDu1gct5H1x",
        "outputId": "5e9abdad-9060-48b6-a959-4f345b40b0dc"
      },
      "execution_count": 13,
      "outputs": [
        {
          "output_type": "stream",
          "name": "stdout",
          "text": [
            "150\n"
          ]
        }
      ]
    },
    {
      "cell_type": "code",
      "source": [
        "#task 8\n",
        "\n",
        "fpga_0 = pd.Series(data[data['FPGA']==0]['TDC_CHANNEL'].value_counts()) \n",
        "fpga_1 = pd.Series(data[data['FPGA']==1]['TDC_CHANNEL'].value_counts()) \n",
        "print(\"The FPGA identified with 0:\\n\", fpga_0)"
      ],
      "metadata": {
        "id": "YDNJAEd05H-v"
      },
      "execution_count": null,
      "outputs": []
    },
    {
      "cell_type": "code",
      "source": [
        "#task 9\n",
        "import matplotlib.pyplot as plt\n",
        "a = data.groupby('TDC_CHANNEL').count()['FPGA']\n",
        "fig, (ax1, ax2, ) = plt.subplots(1, 2,)\n",
        "\n",
        "ax1.hist(fpga_0) \n",
        "ax1.set_title('FPGA_0')\n",
        "ax1.set_xlabel('TDC channel')\n",
        "ax1.set_ylabel('Count')\n",
        "\n",
        "ax2.hist(fpga_1)\n",
        "ax2.set_title('FPGA_1')\n",
        "ax2.set_xlabel('TDC channel')\n",
        "ax2.set_ylabel('Count')"
      ],
      "metadata": {
        "id": "7EvsNM6UiQJX"
      },
      "execution_count": null,
      "outputs": []
    }
  ]
}