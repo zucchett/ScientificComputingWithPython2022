{
 "cells": [
  {
   "cell_type": "markdown",
   "id": "fc7d3b19",
   "metadata": {},
   "source": [
    "# 02ex_fundamentals"
   ]
  },
  {
   "cell_type": "code",
   "execution_count": 2,
   "id": "8b3d2fec",
   "metadata": {},
   "outputs": [
    {
     "name": "stdout",
     "output_type": "stream",
     "text": [
      "[1, 2, 3, 0, 1, 2, 3, 4]\n",
      "[1, 2, 3]\n"
     ]
    }
   ],
   "source": [
    "# 1. Global variables\n",
    "\n",
    "def f_2(alist,x_range):\n",
    "    \n",
    "    temp_list=alist.copy() #this will prevent it from changing\n",
    "                        \n",
    "    \n",
    "    for i in range(x_range):\n",
    "        temp_list.append(i)\n",
    "    return temp_list\n",
    "\n",
    "alist = [1,2,3]\n",
    "ans = f_2(alist,5)\n",
    "print(ans)\n",
    "print(alist)"
   ]
  },
  {
   "cell_type": "code",
   "execution_count": 3,
   "id": "f23aa10e",
   "metadata": {},
   "outputs": [
    {
     "name": "stdout",
     "output_type": "stream",
     "text": [
      "[1, 9, 25, 49, 81]\n"
     ]
    }
   ],
   "source": [
    "# 2. List comprehension\n",
    "\n",
    "a = [x*x for x in range(10) if x % 2 == 1]\n",
    "print(a)"
   ]
  },
  {
   "cell_type": "code",
   "execution_count": 5,
   "id": "439b5306",
   "metadata": {},
   "outputs": [
    {
     "name": "stdout",
     "output_type": "stream",
     "text": [
      "number: 3\n",
      "enter words: hello my name is Mahsa\n",
      "['my', 'is']\n"
     ]
    }
   ],
   "source": [
    "# 3. Filter list\n",
    "\n",
    "n = int(input(\"number: \"))\n",
    "a = input(\"enter words: \").split()\n",
    "\n",
    "\n",
    "def filterlongword(string,number):\n",
    "    return filter(lambda word:len(word)<number, string)\n",
    "\n",
    "\n",
    "b = filterlongword(a, n)\n",
    "print(list(b))"
   ]
  },
  {
   "cell_type": "code",
   "execution_count": 6,
   "id": "9e2867fd",
   "metadata": {},
   "outputs": [
    {
     "name": "stdout",
     "output_type": "stream",
     "text": [
      "[6, 4, 9, 3]\n"
     ]
    }
   ],
   "source": [
    "# 4. Map dictionary\n",
    "\n",
    "lang = {\"Python\" : 3, \"Java\" : '', \"Cplusplus\" : 'test', \"Php\" : 0.7}\n",
    "a = map(lambda key : len(key), lang.keys())\n",
    "print(list(a))"
   ]
  },
  {
   "cell_type": "code",
   "execution_count": 7,
   "id": "df49d5ab",
   "metadata": {},
   "outputs": [
    {
     "name": "stdout",
     "output_type": "stream",
     "text": [
      "['Cplusplus', 'Java', 'Php', 'Python']\n"
     ]
    }
   ],
   "source": [
    "# 5. Lambda functions\n",
    "\n",
    "language_scores = [('Python', 97), ('Cplusplus', 81), ('Php', 45), ('Java', 32)]\n",
    "language_scores.sort(key=lambda x: x[0])\n",
    "a = []\n",
    "for i in language_scores:\n",
    "    a.append(i[0])\n",
    "print(a)"
   ]
  },
  {
   "cell_type": "code",
   "execution_count": 9,
   "id": "493df72e",
   "metadata": {},
   "outputs": [
    {
     "name": "stdout",
     "output_type": "stream",
     "text": [
      "4096\n"
     ]
    }
   ],
   "source": [
    "# 6. Nested functions\n",
    "\n",
    "def p2(x):\n",
    "    return x**2\n",
    "\n",
    "\n",
    "def p3(x):\n",
    "    return x**3\n",
    "\n",
    "\n",
    "def p6(x):\n",
    "    return p2(x)**3\n",
    "\n",
    "\n",
    "print(p6(4))"
   ]
  },
  {
   "cell_type": "code",
   "execution_count": 10,
   "id": "3f67b013",
   "metadata": {},
   "outputs": [
    {
     "name": "stdout",
     "output_type": "stream",
     "text": [
      "hello world\n",
      "25\n"
     ]
    }
   ],
   "source": [
    "# 7. Decorators\n",
    "\n",
    "def hello(func):\n",
    "    def wrapper(*args, **kwargs):\n",
    "        print(\"hello world\")\n",
    "        return func(*args)\n",
    "    return wrapper\n",
    "\n",
    "\n",
    "@hello\n",
    "def square(x):\n",
    "    return x*x\n",
    "\n",
    "\n",
    "print(square(5))"
   ]
  },
  {
   "cell_type": "code",
   "execution_count": 11,
   "id": "2be04862",
   "metadata": {},
   "outputs": [
    {
     "name": "stdout",
     "output_type": "stream",
     "text": [
      "6765\n"
     ]
    }
   ],
   "source": [
    "# 8. The Fibonacci sequence (part 2)\n",
    "\n",
    "def fib(x):\n",
    "    if x < 3:\n",
    "        return 1\n",
    "    else:\n",
    "        # return x-1 + x-2\n",
    "        return fib(x-1) + fib(x-2)\n",
    "\n",
    "print(fib(20))"
   ]
  },
  {
   "cell_type": "code",
   "execution_count": 13,
   "id": "797caedf",
   "metadata": {},
   "outputs": [
    {
     "name": "stdout",
     "output_type": "stream",
     "text": [
      "0.0010975000000144064\n",
      "5.299999884300632e-06\n"
     ]
    }
   ],
   "source": [
    "# 9. The Fibonacci sequence (part 3)\n",
    "\n",
    "import timeit\n",
    "\n",
    "s_1 = \"\"\"\n",
    "def fib(x):\n",
    "    if x < 3:\n",
    "        return 1\n",
    "    else:\n",
    "        # return x-1 + x-2\n",
    "        return fib(x-1) + fib(x-2)\n",
    "\n",
    "fib(20)\n",
    "\"\"\"\n",
    "s_2 = \"\"\"\n",
    "def fibo(N):\n",
    "    fibonacciSeries = [1, 1]\n",
    "    if N > 2:\n",
    "        for i in range(2, N):\n",
    "            nextElement = fibonacciSeries[i - 1] + fibonacciSeries[i - 2]\n",
    "            fibonacciSeries.append(nextElement)\n",
    "    return nextElement\n",
    "\n",
    "fibo(20)\n",
    "\"\"\"\n",
    "\n",
    "print(timeit.timeit(stmt=s_1, number=1))\n",
    "print(timeit.timeit(stmt=s_2, number=1))"
   ]
  },
  {
   "cell_type": "markdown",
   "id": "02e0083c",
   "metadata": {},
   "source": [
    "second one (s_2) is better. it takes less time to compute. s_1 racalls itself too much and this loop takes more time."
   ]
  },
  {
   "cell_type": "code",
   "execution_count": 14,
   "id": "a4879380",
   "metadata": {},
   "outputs": [
    {
     "name": "stdout",
     "output_type": "stream",
     "text": [
      "(9, 8, 7, 6)\n",
      "The perimeter is : 30\n",
      "The orderedsides are: [6, 7, 8, 9]\n"
     ]
    }
   ],
   "source": [
    "# 10. Class definition\n",
    "\n",
    "class polygon:\n",
    "    x = tuple()\n",
    "\n",
    "    def __init__(self, components):\n",
    "        if len(components) < 3:\n",
    "            raise Exception()\n",
    "\n",
    "        self.x = components\n",
    "        print(components)\n",
    "\n",
    "    def perimeter(self):\n",
    "        return sum(self.x)\n",
    "\n",
    "    def getorderedSides(self, increasing=True):\n",
    "        list_1 = []\n",
    "        for i in range(len(self.x)):\n",
    "            list_1.append(self.x[i])\n",
    "        if increasing:\n",
    "            list_1.sort()\n",
    "            return list_1\n",
    "        else:\n",
    "            list_1.sort(reverse=True)\n",
    "            return list_1\n",
    "\n",
    "\n",
    "a = polygon((9, 8, 7, 6))\n",
    "\n",
    "print(\"The perimeter is :\", a.perimeter())\n",
    "print(\"The orderedsides are:\", a.getorderedSides(increasing=True))\n"
   ]
  },
  {
   "cell_type": "code",
   "execution_count": 16,
   "id": "e3ca4e8f",
   "metadata": {},
   "outputs": [
    {
     "name": "stdout",
     "output_type": "stream",
     "text": [
      "The area is :  16\n"
     ]
    }
   ],
   "source": [
    "# 11. Class inheritance\n",
    "\n",
    "class polygon:\n",
    "    x = tuple()\n",
    "\n",
    "    def __init__(self, components):\n",
    "        self.x = components\n",
    "        print(components)\n",
    "\n",
    "    def perimeter(self):\n",
    "        s2 = 0\n",
    "        for i in range(len(self.x)):\n",
    "            s2 += self.x[i]\n",
    "        return (s2)\n",
    "\n",
    "    def getorderedSides(self, increasing=True):\n",
    "        list_1 = []\n",
    "        for i in range(len(self.x)):\n",
    "            list_1.append(self.x[i])\n",
    "        list_1.sort()\n",
    "        return (list_1)\n",
    "\n",
    "\n",
    "class rectangle(polygon):\n",
    "    def __init__(self, components):\n",
    "        if len(components) == 2:\n",
    "            self.x = components\n",
    "        else:\n",
    "            raise Exception(\"Error: This is not rectangle!!!\")\n",
    "\n",
    "    def area(self):\n",
    "        return (max(self.x) * min(self.x))\n",
    "    \n",
    "\n",
    "a = rectangle((8,2))\n",
    "\n",
    "print(\"The area is : \", a.area())\n"
   ]
  },
  {
   "cell_type": "code",
   "execution_count": null,
   "id": "a2869aa9",
   "metadata": {},
   "outputs": [],
   "source": []
  }
 ],
 "metadata": {
  "kernelspec": {
   "display_name": "Python 3 (ipykernel)",
   "language": "python",
   "name": "python3"
  },
  "language_info": {
   "codemirror_mode": {
    "name": "ipython",
    "version": 3
   },
   "file_extension": ".py",
   "mimetype": "text/x-python",
   "name": "python",
   "nbconvert_exporter": "python",
   "pygments_lexer": "ipython3",
   "version": "3.9.12"
  }
 },
 "nbformat": 4,
 "nbformat_minor": 5
}
