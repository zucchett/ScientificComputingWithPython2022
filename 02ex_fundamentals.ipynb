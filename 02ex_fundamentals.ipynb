{
 "cells": [
  {
   "cell_type": "markdown",
   "metadata": {},
   "source": [
    "You can solve these exercises in the room or at home. For this week, and the next 3 weeks, exercises have to be solved by creating a dedicated `.py` file (or files) called `02ex_fundamentals.py`.\n",
    "\n",
    "In case you need multiple files, name them `02ex_fundamentals_es01.py`, `02ex_fundamentals_es02.py` and so on. In this case, it's convenient to create a dedicated directory, to be named `02ex_fundamentals`. \n",
    "\n",
    "The exercises need to run without errors with `python3`."
   ]
  },
  {
   "cell_type": "markdown",
   "metadata": {},
   "source": [
    "1\\. **Global variables**\n",
    "\n",
    "Convert the function $f$ into a function that doesn't use global variables and that does not modify the original list"
   ]
  },
  {
   "cell_type": "code",
   "execution_count": 3,
   "metadata": {},
   "outputs": [
    {
     "name": "stdout",
     "output_type": "stream",
     "text": [
      "[1, 2, 3, 0, 1, 2, 3, 4]\n",
      "[1, 2, 3]\n"
     ]
    }
   ],
   "source": [
    "x = 5\n",
    "\n",
    "def f(alist):\n",
    "    temp = x\n",
    "    blist = [element for element in alist]\n",
    "    for i in range(temp):\n",
    "        blist.append(i)\n",
    "    return blist\n",
    "\n",
    "alist = [1, 2, 3]\n",
    "ans = f(alist)\n",
    "print(ans)\n",
    "print(alist) # alist has been changed"
   ]
  },
  {
   "cell_type": "markdown",
   "metadata": {},
   "source": [
    "2\\. **List comprehension**\n",
    "\n",
    "Write the following expression using a list comprehension:\n",
    "\n",
    "`ans = list(map(lambda x: x * x, filter(lambda x: x % 2 == 1, range(10)))`"
   ]
  },
  {
   "cell_type": "code",
   "execution_count": 5,
   "metadata": {},
   "outputs": [
    {
     "name": "stdout",
     "output_type": "stream",
     "text": [
      "[1, 9, 25, 49, 81]\n"
     ]
    }
   ],
   "source": [
    "ans = [x * x for x in range(10) if x % 2 == 1]\n",
    "print(ans)"
   ]
  },
  {
   "cell_type": "markdown",
   "metadata": {},
   "source": [
    "3\\. **Filter list**\n",
    "\n",
    "Using the `filter()` hof, define a function that takes a list of words and an integer `n` as arguments, and returns a list of words that are shorter than `n`."
   ]
  },
  {
   "cell_type": "code",
   "execution_count": 7,
   "metadata": {},
   "outputs": [
    {
     "name": "stdout",
     "output_type": "stream",
     "text": [
      "['abc', 'aa', 'c']\n"
     ]
    }
   ],
   "source": [
    "random = [\"ashdasdaa\", \"ldfklskfaf\", \"jahdsjad\", \"abc\", \"aa\", \"c\", \"abcdefg\"]\n",
    "def ShorterThan(lst,n):\n",
    "    shorter_list = list(filter(lambda x: len(x) < n,lst))\n",
    "    return shorter_list\n",
    "\n",
    "lst = ShorterThan(random,7)\n",
    "print(lst)"
   ]
  },
  {
   "cell_type": "markdown",
   "metadata": {},
   "source": [
    "4\\. **Map dictionary**\n",
    "\n",
    "\n",
    "Consider the following dictionary:\n",
    "\n",
    "`lang = {\"Python\" : 3, \"Java\" : '', \"Cplusplus\" : 'test', \"Php\" : 0.7}`\n",
    "\n",
    "Write a function that takes the above dictionary and uses the `map()` higher order function to return a list that contains the length of the keys of the dictionary."
   ]
  },
  {
   "cell_type": "code",
   "execution_count": 10,
   "metadata": {},
   "outputs": [
    {
     "name": "stdout",
     "output_type": "stream",
     "text": [
      "[6, 4, 9, 3]\n"
     ]
    }
   ],
   "source": [
    "lang = {\"Python\" : 3, \"Java\" : '', \"Cplusplus\" : 'test', \"Php\" : 0.7}\n",
    "def LengthOfKeys(dic):\n",
    "    lst = list(map(lambda x: len(x) , dic.keys()))\n",
    "    return lst\n",
    "lst = LengthOfKeys(lang)\n",
    "print(lst)"
   ]
  },
  {
   "cell_type": "markdown",
   "metadata": {},
   "source": [
    "5\\. **Lambda functions**\n",
    "\n",
    "Write a Python program that sorts the following list of tuples using a lambda function, according to the alphabetical order of the first element of the tuple:\n",
    "\n",
    "`language_scores = [('Python', 97), ('Cplusplus', 81), ('Php', 45), ('Java', 32)]`\n",
    "\n",
    "*Hint*: use the method `sort()` and its argument `key` of the `list` data structure."
   ]
  },
  {
   "cell_type": "code",
   "execution_count": 64,
   "metadata": {
    "scrolled": true
   },
   "outputs": [
    {
     "name": "stdout",
     "output_type": "stream",
     "text": [
      "[('Cplusplus', 81), ('Java', 32), ('Php', 45), ('Python', 97)]\n"
     ]
    }
   ],
   "source": [
    "language_scores = [('Python', 97), ('Cplusplus', 81), ('Php', 45), ('Java', 32)]\n",
    "language_scores.sort(key = lambda x: x[0])\n",
    "print(language_scores)"
   ]
  },
  {
   "cell_type": "markdown",
   "metadata": {},
   "source": [
    "6\\. **Nested functions**\n",
    "\n",
    "Write two functions: one that returns the square of a number, and one that returns its cube.\n",
    "\n",
    "Then, write a third function that returns the number raised to the 6th power, using only the two previous functions."
   ]
  },
  {
   "cell_type": "code",
   "execution_count": 67,
   "metadata": {},
   "outputs": [],
   "source": [
    "def square(x): \n",
    "    \n",
    "    return x*x \n",
    "    \n",
    "def cube(x):   \n",
    "    \n",
    "    return x*x*x\n",
    "\n",
    "def sixth(x): \n",
    "    \n",
    "    return square(cube(x))\n",
    "    \n",
    "   \n",
    "    \n",
    "    \n",
    "    "
   ]
  },
  {
   "cell_type": "markdown",
   "metadata": {},
   "source": [
    "7\\. **Decorators**\n",
    "\n",
    "Write a decorator named `hello` that makes every wrapped function print “Hello World!” each time the function is called.\n",
    "\n",
    "The wrapped function should look like:\n",
    "\n",
    "```python\n",
    "@hello\n",
    "def square(x):\n",
    "    return x*x\n",
    "```"
   ]
  },
  {
   "cell_type": "code",
   "execution_count": 59,
   "metadata": {},
   "outputs": [
    {
     "name": "stdout",
     "output_type": "stream",
     "text": [
      "Hello World!\n",
      "Hello World!\n"
     ]
    }
   ],
   "source": [
    "def hello(func):\n",
    "    def wrapper(x):\n",
    "        print(\"Hello World!\")\n",
    "        func(x) # runs the function\n",
    "       \n",
    "    return wrapper\n",
    "\n",
    "@hello\n",
    "def square(x):\n",
    "    return x*x\n",
    "    \n",
    "square = hello(square)\n",
    "square(31)"
   ]
  },
  {
   "cell_type": "markdown",
   "metadata": {},
   "source": [
    "8\\. **The Fibonacci sequence (part 2)**\n",
    "\n",
    "Calculate the first 20 numbers of the [Fibonacci sequence](https://en.wikipedia.org/wiki/Fibonacci_number) using a recursive function."
   ]
  },
  {
   "cell_type": "code",
   "execution_count": 15,
   "metadata": {},
   "outputs": [
    {
     "name": "stdout",
     "output_type": "stream",
     "text": [
      "0\n",
      "1\n",
      "1\n",
      "2\n",
      "3\n",
      "5\n",
      "8\n",
      "13\n",
      "21\n",
      "34\n",
      "55\n",
      "89\n",
      "144\n",
      "233\n",
      "377\n",
      "610\n",
      "987\n",
      "1597\n",
      "2584\n",
      "4181\n"
     ]
    }
   ],
   "source": [
    "def fibonacci_recursive(n):\n",
    "    if n <= 1 :\n",
    "        return n \n",
    "    else:\n",
    "        return(fibonacci_recursive(n-1) + fibonacci_recursive(n-2))\n",
    "numbers= 20 \n",
    "for i in range(numbers):\n",
    "    print(fibonacci_recursive(i))\n",
    "\n",
    "    "
   ]
  },
  {
   "cell_type": "markdown",
   "metadata": {},
   "source": [
    "9\\. **The Fibonacci sequence (part 3)**\n",
    "\n",
    "Run both the Fibonacci recursive function from the previous exercise, and the Fibonacci function from 01ex that use only `for` and `while` loops.\n",
    "\n",
    "Measure the execution code of the two functions with `timeit` ([link to the doc](https://docs.python.org/3/library/timeit.html)), for example:\n",
    "\n",
    "`%timeit loopFibonacci(20)`\n",
    "\n",
    "`%timeit recursiveFibonacci(20)`\n",
    "\n",
    "which one is the most efficient implementation? By how much?"
   ]
  },
  {
   "cell_type": "code",
   "execution_count": 22,
   "metadata": {
    "scrolled": true
   },
   "outputs": [
    {
     "name": "stdout",
     "output_type": "stream",
     "text": [
      "2.08 µs ± 9.32 ns per loop (mean ± std. dev. of 7 runs, 100,000 loops each)\n"
     ]
    }
   ],
   "source": [
    "def loopFibonacci(n):\n",
    "    x = 0\n",
    "    y = 1\n",
    "    z = 0 \n",
    "    fibonacci = []\n",
    "    fibonacci.append(x)\n",
    "    fibonacci.append(y)\n",
    "\n",
    "    z = x + y \n",
    "    n = n - 2 \n",
    "\n",
    "    while n > 0:\n",
    "        fibonacci.append(z)\n",
    "        x = y\n",
    "        y = z\n",
    "        z = x+y\n",
    "        n = n-1\n",
    "    return fibonacci\n",
    "%timeit loopFibonacci(20)\n",
    "#print(\"The Fibonacci Sequence : \" +  str(loopFibonacci(20)))\n",
    "\n",
    "\n"
   ]
  },
  {
   "cell_type": "code",
   "execution_count": 24,
   "metadata": {},
   "outputs": [
    {
     "name": "stdout",
     "output_type": "stream",
     "text": [
      "1.72 ms ± 11.7 µs per loop (mean ± std. dev. of 7 runs, 1,000 loops each)\n",
      "0\n",
      "1\n",
      "1\n",
      "2\n",
      "3\n",
      "5\n",
      "8\n",
      "13\n",
      "21\n",
      "34\n",
      "55\n",
      "89\n",
      "144\n",
      "233\n",
      "377\n",
      "610\n",
      "987\n",
      "1597\n",
      "2584\n",
      "4181\n"
     ]
    }
   ],
   "source": [
    "def recursiveFibonacci(n):\n",
    "    if n <= 1 :\n",
    "        return n \n",
    "    else:\n",
    "        return(recursiveFibonacci(n-1) + recursiveFibonacci(n-2))\n",
    "numbers= 20 \n",
    "%timeit recursiveFibonacci(20)\n",
    "\n",
    "for i in range(numbers):\n",
    "    print(recursiveFibonacci(i))"
   ]
  },
  {
   "cell_type": "markdown",
   "metadata": {},
   "source": [
    "10\\. **Class definition**\n",
    "\n",
    "Define a class `polygon`. The constructor has to take a tuple as input that contains the length of each side. The (unordered) input list does not have to have a fixed length, but should contain at least 3 items.\n",
    "\n",
    "- Create appropriate methods to get and set the length of each side\n",
    "\n",
    "- Create a method `perimeter()` that returns the perimeter of the polygon\n",
    "\n",
    "- Create a method `getOrderedSides(increasing = True)` that returns a tuple containing the length of the sides arranged in increasing or decreasing order, depending on the argument of the method\n",
    "\n",
    "Test the class by creating an instance and calling the `perimeter()` and `getOrderedSides(increasing = True)` methods."
   ]
  },
  {
   "cell_type": "code",
   "execution_count": 77,
   "metadata": {},
   "outputs": [],
   "source": [
    "import math\n",
    "\n",
    "class polygon:\n",
    "    \n",
    "    sides = ()\n",
    "    \n",
    "    def __init__(self, components):\n",
    "        self.sides = components \n",
    "    \n",
    "    def getSides(self): \n",
    "        return self.sides\n",
    "    \n",
    "    def getSidesWithIndex(self, n):\n",
    "        return self.sides[n]\n",
    "    \n",
    "    def setSides(self, n, value): \n",
    "        lst = list(self.sides)\n",
    "        lst[n] = value\n",
    "        tup = tuple(lst)\n",
    "        self.sides = tup\n",
    "        return self.sides\n",
    "    \n",
    "    def perimeter(self):\n",
    "        perimeter_sum = 0\n",
    "        for i in range(0,len(self.sides)):\n",
    "            perimeter_sum = perimeter_sum + self.sides[i]\n",
    "        return perimeter_sum\n",
    "    \n",
    "    def getOrderedSides(self,increasing):\n",
    "        if increasing == True:\n",
    "            lst = list(self.sides)\n",
    "            lst.sort(reverse=False)\n",
    "            tup = tuple(lst)\n",
    "            self.sides = tup\n",
    "            return self.sides\n",
    "        else:\n",
    "            lst = list(self.sides)\n",
    "            lst.sort(reverse=True)\n",
    "            tup = tuple(lst)\n",
    "            self.sides = tup\n",
    "            return self.sides"
   ]
  },
  {
   "cell_type": "code",
   "execution_count": 78,
   "metadata": {},
   "outputs": [
    {
     "name": "stdout",
     "output_type": "stream",
     "text": [
      "38\n",
      "(2, 3, 3, 4, 5, 6, 7, 8)\n",
      "(8, 7, 6, 5, 4, 3, 3, 2)\n",
      "(8, 7, 10, 5, 4, 3, 3, 2)\n",
      "10\n",
      "(8, 7, 10, 5, 4, 3, 3, 2)\n"
     ]
    }
   ],
   "source": [
    "pol = polygon((4,3,5,6,7,3,2,8))\n",
    "per = pol.perimeter()\n",
    "print(per)\n",
    "\n",
    "ordered_increasing = pol.getOrderedSides(increasing=True)\n",
    "print(ordered_increasing)\n",
    "\n",
    "ordered_decreasing = pol.getOrderedSides(increasing=False)\n",
    "print(ordered_decreasing)\n",
    "\n",
    "settedPol = pol.setSides(2,10)\n",
    "print(settedPol)\n",
    "\n",
    "indexOfSide = pol.getSidesWithIndex(2)\n",
    "print(indexOfSide)\n",
    "\n",
    "allSides = pol.getSides()\n",
    "print(allSides)"
   ]
  },
  {
   "cell_type": "markdown",
   "metadata": {},
   "source": [
    "11\\. **Class inheritance**\n",
    "\n",
    "Define a class `rectangle` that inherits from `polygon`. Modify the constructor, if necessary, to make sure that the input data is consistent with the geometrical properties of a rectangle.\n",
    "\n",
    "- Create a method `area()` that returns the area of the rectangle.\n",
    "\n",
    "Test the `rectangle` class by creating an instance and passing an appropriate input to the constructor."
   ]
  },
  {
   "cell_type": "code",
   "execution_count": 113,
   "metadata": {},
   "outputs": [],
   "source": [
    "class rectangle(polygon):\n",
    "    def __init__(self, components):\n",
    "        if len(components) == 4:\n",
    "            counterCheck = 0\n",
    "            for element in components:\n",
    "                if element == components[0]:\n",
    "                    counterCheck = counterCheck + 1\n",
    "                else:\n",
    "                    counterCheck = counterCheck\n",
    "            if counterCheck == 2:\n",
    "                print(\"You have successfully created a rectangle!\")\n",
    "                self.sides = components\n",
    "            else:\n",
    "                print(\"You could not have created rectangle\")\n",
    "        else:\n",
    "            print(\"Error: number of components is not 4\")\n",
    "    \n",
    "    def area(self):\n",
    "        sides = []\n",
    "        for element in self.sides:\n",
    "            if element not in sides:\n",
    "                sides.append(element)\n",
    "        return sides[0] * sides[1]\n",
    "    "
   ]
  },
  {
   "cell_type": "code",
   "execution_count": 114,
   "metadata": {},
   "outputs": [
    {
     "name": "stdout",
     "output_type": "stream",
     "text": [
      "You have successfully created a rectangle!\n",
      "8\n"
     ]
    }
   ],
   "source": [
    "rec = rectangle((2,4,4,2))\n",
    "area = rec.area()\n",
    "print(area)"
   ]
  }
 ],
 "metadata": {
  "kernelspec": {
   "display_name": "Python 3 (ipykernel)",
   "language": "python",
   "name": "python3"
  },
  "language_info": {
   "codemirror_mode": {
    "name": "ipython",
    "version": 3
   },
   "file_extension": ".py",
   "mimetype": "text/x-python",
   "name": "python",
   "nbconvert_exporter": "python",
   "pygments_lexer": "ipython3",
   "version": "3.9.12"
  }
 },
 "nbformat": 4,
 "nbformat_minor": 2
}
