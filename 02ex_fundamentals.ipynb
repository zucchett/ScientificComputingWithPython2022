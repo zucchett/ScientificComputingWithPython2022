{
 "cells": [
  {
   "cell_type": "markdown",
   "metadata": {},
   "source": [
    "You can solve these exercises in the room or at home. For this week, and the next 3 weeks, exercises have to be solved by creating a dedicated `.py` file (or files) called `02ex_fundamentals.py`.\n",
    "\n",
    "In case you need multiple files, name them `02ex_fundamentals_es01.py`, `02ex_fundamentals_es02.py` and so on. In this case, it's convenient to create a dedicated directory, to be named `02ex_fundamentals`. \n",
    "\n",
    "The exercises need to run without errors with `python3`."
   ]
  },
  {
   "cell_type": "markdown",
   "metadata": {},
   "source": [
    "1\\. **Global variables**\n",
    "\n",
    "Convert the function $f$ into a function that doesn't use global variables and that does not modify the original list"
   ]
  },
  {
   "cell_type": "code",
   "execution_count": 1,
   "metadata": {},
   "outputs": [
    {
     "name": "stdout",
     "output_type": "stream",
     "text": [
      "[1, 2, 3, 0, 1, 2, 3, 4]\n",
      "[1, 2, 3, 0, 1, 2, 3, 4]\n"
     ]
    }
   ],
   "source": [
    "x = 5\n",
    "\n",
    "def f(alist):\n",
    "    for i in range(x):\n",
    "        alist.append(i)\n",
    "    return alist\n",
    "\n",
    "alist = [1, 2, 3]\n",
    "ans = f(alist)\n",
    "print(ans)\n",
    "print(alist) # alist has been changed"
   ]
  },
  {
   "cell_type": "code",
   "execution_count": 143,
   "metadata": {},
   "outputs": [
    {
     "name": "stdout",
     "output_type": "stream",
     "text": [
      "[1, 2, 3, 0, 1, 2, 3, 4]\n",
      "[1, 2, 3]\n"
     ]
    }
   ],
   "source": [
    "def f(alist):\n",
    "    x = 5\n",
    "    alist = alist.copy()\n",
    "    for i in range(x):\n",
    "        alist.append(i) \n",
    "    return alist\n",
    "\n",
    "alist = [1, 2, 3]\n",
    "ans = f(alist)\n",
    "print(ans)\n",
    "print(alist) # alist has not been changed"
   ]
  },
  {
   "cell_type": "markdown",
   "metadata": {},
   "source": [
    "2\\. **List comprehension**\n",
    "\n",
    "Write the following expression using a list comprehension:\n",
    "\n",
    "`ans = list(map(lambda x: x * x, filter(lambda x: x % 2 == 1, range(10)))`"
   ]
  },
  {
   "cell_type": "code",
   "execution_count": 10,
   "metadata": {},
   "outputs": [
    {
     "name": "stdout",
     "output_type": "stream",
     "text": [
      "[1, 9, 25, 49, 81]\n"
     ]
    }
   ],
   "source": [
    "ans = [pow(x,2) for x in range(10) if x % 2 ==1]\n",
    "print(ans)"
   ]
  },
  {
   "cell_type": "markdown",
   "metadata": {},
   "source": [
    "3\\. **Filter list**\n",
    "\n",
    "Using the `filter()` hof, define a function that takes a list of words and an integer `n` as arguments, and returns a list of words that are shorter than `n`."
   ]
  },
  {
   "cell_type": "code",
   "execution_count": 17,
   "metadata": {},
   "outputs": [
    {
     "name": "stdout",
     "output_type": "stream",
     "text": [
      "['wow']\n"
     ]
    }
   ],
   "source": [
    "def shorter_than(words, n):\n",
    "    filtered_words = filter(lambda word: len(word)<n, words)\n",
    "    return list(filtered_words)\n",
    "\n",
    "print(shorter_than([\"wow\",\"ahahahah\"],4))"
   ]
  },
  {
   "cell_type": "markdown",
   "metadata": {},
   "source": [
    "4\\. **Map dictionary**\n",
    "\n",
    "\n",
    "Consider the following dictionary:\n",
    "\n",
    "`lang = {\"Python\" : 3, \"Java\" : '', \"Cplusplus\" : 'test', \"Php\" : 0.7}`\n",
    "\n",
    "Write a function that takes the above dictionary and uses the `map()` higher order function to return a list that contains the length of the keys of the dictionary."
   ]
  },
  {
   "cell_type": "code",
   "execution_count": 21,
   "metadata": {},
   "outputs": [
    {
     "name": "stdout",
     "output_type": "stream",
     "text": [
      "[6, 4, 9, 3]\n"
     ]
    }
   ],
   "source": [
    "lang = {\"Python\" : 3, \"Java\" : '', \"Cplusplus\" : 'test', \"Php\" : 0.7}\n",
    "\n",
    "def lengths(dictionary):\n",
    "    lengths = map(lambda key: len(key),dictionary.keys())\n",
    "    return list(lengths)\n",
    "print(lengths(lang))"
   ]
  },
  {
   "cell_type": "markdown",
   "metadata": {},
   "source": [
    "5\\. **Lambda functions**\n",
    "\n",
    "Write a Python program that sorts the following list of tuples using a lambda function, according to the alphabetical order of the first element of the tuple:\n",
    "\n",
    "`language_scores = [('Python', 97), ('Cplusplus', 81), ('Php', 45), ('Java', 32)]`\n",
    "\n",
    "*Hint*: use the method `sort()` and its argument `key` of the `list` data structure."
   ]
  },
  {
   "cell_type": "code",
   "execution_count": 37,
   "metadata": {},
   "outputs": [
    {
     "name": "stdout",
     "output_type": "stream",
     "text": [
      "[('Cplusplus', 81), ('Java', 32), ('Php', 45), ('Python', 97)]\n"
     ]
    }
   ],
   "source": [
    "language_scores = [('Python', 97), ('Cplusplus', 81), ('Php', 45), ('Java', 32)]\n",
    "\n",
    "language_scores.sort(key=lambda x: x[0])\n",
    "\n",
    "print(language_scores)"
   ]
  },
  {
   "cell_type": "markdown",
   "metadata": {},
   "source": [
    "6\\. **Nested functions**\n",
    "\n",
    "Write two functions: one that returns the square of a number, and one that returns its cube.\n",
    "\n",
    "Then, write a third function that returns the number raised to the 6th power, using only the two previous functions."
   ]
  },
  {
   "cell_type": "code",
   "execution_count": 39,
   "metadata": {},
   "outputs": [
    {
     "name": "stdout",
     "output_type": "stream",
     "text": [
      "64\n"
     ]
    }
   ],
   "source": [
    "def square(number):\n",
    "    return number**2\n",
    "\n",
    "def cube(number):\n",
    "    return number**3\n",
    "\n",
    "def sixth_power(number):\n",
    "    return square(cube(number))\n",
    "\n",
    "print(sixth_power(2))"
   ]
  },
  {
   "cell_type": "markdown",
   "metadata": {},
   "source": [
    "7\\. **Decorators**\n",
    "\n",
    "Write a decorator named `hello` that makes every wrapped function print “Hello World!” each time the function is called.\n",
    "\n",
    "The wrapped function should look like:\n",
    "\n",
    "```python\n",
    "@hello\n",
    "def square(x):\n",
    "    return x*x\n",
    "```"
   ]
  },
  {
   "cell_type": "code",
   "execution_count": 56,
   "metadata": {},
   "outputs": [
    {
     "name": "stdout",
     "output_type": "stream",
     "text": [
      "Hello World!\n",
      "4\n"
     ]
    }
   ],
   "source": [
    "def hello(func):\n",
    "    def wrapper(*args):\n",
    "        print(\"Hello World!\")\n",
    "        return func(*args)\n",
    "\n",
    "    return wrapper\n",
    "\n",
    "@hello\n",
    "def square(x):\n",
    "    return x*x\n",
    "\n",
    "print(square(2))"
   ]
  },
  {
   "cell_type": "markdown",
   "metadata": {},
   "source": [
    "8\\. **The Fibonacci sequence (part 2)**\n",
    "\n",
    "Calculate the first 20 numbers of the [Fibonacci sequence](https://en.wikipedia.org/wiki/Fibonacci_number) using a recursive function."
   ]
  },
  {
   "cell_type": "code",
   "execution_count": 93,
   "metadata": {},
   "outputs": [
    {
     "name": "stdout",
     "output_type": "stream",
     "text": [
      "[0, 1, 1, 2, 3, 5, 8, 13, 21, 34, 55, 89, 144, 233, 377, 610, 987, 1597, 2584, 4181]\n"
     ]
    }
   ],
   "source": [
    "def recursiveFibonacci(n):\n",
    "    if n <= 1:\n",
    "        return n\n",
    "    else:\n",
    "        return recursiveFibonacci(n-1) + recursiveFibonacci(n-2)\n",
    "print([recursiveFibonacci(n) for n in range(20)])"
   ]
  },
  {
   "cell_type": "markdown",
   "metadata": {},
   "source": [
    "9\\. **The Fibonacci sequence (part 3)**\n",
    "\n",
    "Run both the Fibonacci recursive function from the previous exercise, and the Fibonacci function from 01ex that use only `for` and `while` loops.\n",
    "\n",
    "Measure the execution code of the two functions with `timeit` ([link to the doc](https://docs.python.org/3/library/timeit.html)), for example:\n",
    "\n",
    "`%timeit loopFibonacci(20)`\n",
    "\n",
    "`%timeit recursiveFibonacci(20)`\n",
    "\n",
    "which one is the most efficient implementation? By how much?"
   ]
  },
  {
   "cell_type": "code",
   "execution_count": 94,
   "metadata": {},
   "outputs": [],
   "source": [
    "def loopFibonacci(n):\n",
    "    initial = [0,1]\n",
    "    while len(initial) < n:\n",
    "        initial.append( initial[-1] + initial[-2] )\n",
    "    return initial"
   ]
  },
  {
   "cell_type": "code",
   "execution_count": 119,
   "metadata": {},
   "outputs": [
    {
     "name": "stdout",
     "output_type": "stream",
     "text": [
      "1.29 µs ± 0.785 ns per loop (mean ± std. dev. of 7 runs, 1,000,000 loops each)\n",
      "1.2 ms ± 1.31 µs per loop (mean ± std. dev. of 7 runs, 1,000 loops each)\n"
     ]
    }
   ],
   "source": [
    "import timeit\n",
    "\n",
    "time1 = timeit.Timer(lambda: loopFibonacci(20))\n",
    "print(time1.timeit(1000))\n",
    "\n",
    "time2 = timeit.Timer(lambda: recursiveFibonacci(20))\n",
    "print(time2.timeit(1000))"
   ]
  },
  {
   "cell_type": "markdown",
   "metadata": {},
   "source": [
    "10\\. **Class definition**\n",
    "\n",
    "Define a class `polygon`. The constructor has to take a tuple as input that contains the length of each side. The (unordered) input list does not have to have a fixed length, but should contain at least 3 items.\n",
    "\n",
    "- Create appropriate methods to get and set the length of each side\n",
    "\n",
    "- Create a method `perimeter()` that returns the perimeter of the polygon\n",
    "\n",
    "- Create a method `getOrderedSides(increasing = True)` that returns a tuple containing the length of the sides arranged in increasing or decreasing order, depending on the argument of the method\n",
    "\n",
    "Test the class by creating an instance and calling the `perimeter()` and `getOrderedSides(increasing = True)` methods."
   ]
  },
  {
   "cell_type": "code",
   "execution_count": 141,
   "metadata": {},
   "outputs": [
    {
     "name": "stdout",
     "output_type": "stream",
     "text": [
      "Perimeter of the polygon is: 12\n",
      "Sides of the polygon in ascending order are: [3, 4, 5]\n",
      "Sides of the polygon in descending order are: [5, 4, 3]\n",
      "Setting first side as 15\n",
      "New length of first side is 15\n",
      "New parameter after changing the length of the first side is: 24\n",
      "When creating a polgon with fewer sides than 3 we get error:\n",
      " Fewer sides than 3\n"
     ]
    }
   ],
   "source": [
    "class Polygon:\n",
    "    def __init__(self, sides: tuple):\n",
    "        if len(sides) < 3:\n",
    "            raise ValueError(\"Fewer sides than 3\")\n",
    "        self.sides = sides\n",
    "\n",
    "    def get_side(self, side_index):\n",
    "        return self.sides[side_index]\n",
    "\n",
    "    def set_side(self, side_index, new_value):\n",
    "        sides = list(self.sides)\n",
    "        sides[side_index] = new_value\n",
    "        self.sides = tuple(sides)\n",
    "\n",
    "    def perimeter(self):\n",
    "        return sum(list(self.sides))\n",
    "\n",
    "    def getOrderedSides(self, incresing = True):\n",
    "        sides = list(self.sides)\n",
    "        if incresing:\n",
    "            sides.sort()\n",
    "        else:\n",
    "            sides.sort(reverse=True)\n",
    "        return sides\n",
    "\n",
    "a = Polygon(sides = (3,4,5))\n",
    "print(\"Perimeter of the polygon is:\" , a.perimeter())\n",
    "print(\"Sides of the polygon in ascending order are:\", a.getOrderedSides())\n",
    "print(\"Sides of the polygon in descending order are:\", a.getOrderedSides(incresing=False))\n",
    "print(\"Setting first side as 15\")\n",
    "a.set_side(side_index=0, new_value=15)\n",
    "print(\"New length of first side is\", a.get_side(0))\n",
    "print(\"New parameter after changing the length of the first side is:\", a.perimeter())\n",
    "try:\n",
    "    b = Polygon(sides=(1,9))\n",
    "except Exception as e:\n",
    "    print(\"When creating a polgon with fewer sides than 3 we get error:\\n\", e)"
   ]
  },
  {
   "cell_type": "markdown",
   "metadata": {},
   "source": [
    "11\\. **Class inheritance**\n",
    "\n",
    "Define a class `rectangle` that inherits from `polygon`. Modify the constructor, if necessary, to make sure that the input data is consistent with the geometrical properties of a rectangle.\n",
    "\n",
    "- Create a method `area()` that returns the area of the rectangle.\n",
    "\n",
    "Test the `rectangle` class by creating an instance and passing an appropriate input to the constructor."
   ]
  },
  {
   "cell_type": "code",
   "execution_count": 144,
   "metadata": {},
   "outputs": [
    {
     "name": "stdout",
     "output_type": "stream",
     "text": [
      "Rectangle has perimeter: 12\n",
      "Sides of the rectangle in ascending order are: [2, 2, 4, 4]\n",
      "Sides of the rectangle in descending order are: [4, 4, 2, 2]\n",
      "Area of the rectangle is: 8\n",
      "Setting first side as 25\n",
      "New length of first side is 25\n",
      "New perimeter after changing the length of the first side is: 35\n",
      "When creating a rectangle with fewer sides than 4 we get error:\n",
      " Fewer sides than 4\n"
     ]
    }
   ],
   "source": [
    "class Rectangle(Polygon):\n",
    "    def __init__(self, sides: tuple):\n",
    "        if len(sides) != 4:\n",
    "            raise ValueError(\"Doesn't have 4 sides!\")\n",
    "        self.sides = sides\n",
    "\n",
    "    def area(self):\n",
    "        a , b = self.getOrderedSides()[0], self.getOrderedSides()[-1]\n",
    "        return a * b\n",
    "\n",
    "c = Rectangle(sides=(2,4,4,2))\n",
    "\n",
    "print(\"Rectangle has perimeter:\", c.perimeter())\n",
    "print(\"Sides of the rectangle in ascending order are:\", c.getOrderedSides())\n",
    "print(\"Sides of the rectangle in descending order are:\", c.getOrderedSides(incresing=False))\n",
    "print(\"Area of the rectangle is:\",c.area())\n",
    "print(\"Setting first side as 25\")\n",
    "c.set_side(side_index=0, new_value=25)\n",
    "print(\"New length of first side is\", c.get_side(0))\n",
    "print(\"New perimeter after changing the length of the first side is:\", c.perimeter())\n",
    "try:\n",
    "    d = Rectangle(sides=(1,9,4))\n",
    "except Exception as e:\n",
    "    print(\"When creating a rectangle with fewer sides than 4 we get error:\\n\", e)"
   ]
  },
  {
   "cell_type": "code",
   "execution_count": null,
   "metadata": {},
   "outputs": [],
   "source": []
  }
 ],
 "metadata": {
  "kernelspec": {
   "display_name": "Python 3.10.6 64-bit",
   "language": "python",
   "name": "python3"
  },
  "language_info": {
   "codemirror_mode": {
    "name": "ipython",
    "version": 3
   },
   "file_extension": ".py",
   "mimetype": "text/x-python",
   "name": "python",
   "nbconvert_exporter": "python",
   "pygments_lexer": "ipython3",
   "version": "3.10.6"
  },
  "vscode": {
   "interpreter": {
    "hash": "b0fa6594d8f4cbf19f97940f81e996739fb7646882a419484c72d19e05852a7e"
   }
  }
 },
 "nbformat": 4,
 "nbformat_minor": 2
}
